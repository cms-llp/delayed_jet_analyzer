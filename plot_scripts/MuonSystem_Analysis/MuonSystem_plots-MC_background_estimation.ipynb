{
 "cells": [
  {
   "cell_type": "code",
   "execution_count": 1,
   "metadata": {},
   "outputs": [
    {
     "name": "stdout",
     "output_type": "stream",
     "text": [
      "Welcome to JupyROOT 6.18/02\n",
      "3.6.8 (default, Aug  7 2019, 17:28:10) \n",
      "[GCC 4.8.5 20150623 (Red Hat 4.8.5-39)]\n"
     ]
    }
   ],
   "source": [
    "# use segment clusters in MCSummer16 to check the shape of \n",
    "# dphi(cluster, MET)\n",
    "\n",
    "import ROOT as rt\n",
    "# import root_numpy as rtnp\n",
    "import csv\n",
    "import re\n",
    "import sys\n",
    "import collections\n",
    "\n",
    "from collections import OrderedDict\n",
    "import uproot\n",
    "import pandas as pd\n",
    "\n",
    "import scipy\n",
    "import awkward\n",
    "import numpy as np\n",
    "import time\n",
    "import numba\n",
    "from numba import jit\n",
    "from matplotlib import pyplot as plt\n",
    "sys.path.append('/storage/user/christiw/gpu/christiw/llp/delayed_jet_analyzer/lib/')\n",
    "from histo_utilities import create_TH1D, create_TH2D, std_color_list, create_TGraph, make_ratio_plot\n",
    "\n",
    "import CMS_lumi, tdrstyle\n",
    "tdrstyle.setTDRStyle()\n",
    "CMS_lumi.writeExtraText = 0\n",
    "\n",
    "wH = 1\n",
    "Z_MASS = 91.2\n",
    "\n",
    "\n",
    "# donotdelete = []\n",
    "print(sys.version)"
   ]
  },
  {
   "cell_type": "markdown",
   "metadata": {},
   "source": [
    "# Load ntuples"
   ]
  },
  {
   "cell_type": "code",
   "execution_count": 213,
   "metadata": {},
   "outputs": [
    {
     "name": "stdout",
     "output_type": "stream",
     "text": [
      "mc /mnt/hadoop/store/group/phys_exotica/delayedjets/displacedJetMuonAnalyzer/csc/V1p12/MC_Summer16/v4/v4/normalized/WJetsToLNu_TuneCUETP8M1_13TeV-amcatnloFXFX-pythia8_1pb_weighted.root\n",
      "NEvents 251816640.0\n",
      "NEvents_genweight 38944507000000.0\n",
      "weights [-15.263251  15.263251]\n",
      "24.595995\n",
      "190606\n",
      "0.4377727508544922\n"
     ]
    }
   ],
   "source": [
    "fpath_bkg =OrderedDict()\n",
    "tree_bkg = OrderedDict()\n",
    "tree_sig = OrderedDict()\n",
    "fpath_sig =OrderedDict()\n",
    "\n",
    "\n",
    "start_t = time.time()\n",
    "data_year = 2018\n",
    "pdgId = 13\n",
    "category = 0\n",
    "\n",
    "\n",
    "data_path = '/mnt/hadoop/store/group/phys_exotica/delayedjets/displacedJetMuonAnalyzer/csc/V1p12/Data'+str(data_year)+'/v4/v4/normalized/'\n",
    "mc_path = '/mnt/hadoop/store/group/phys_exotica/delayedjets/displacedJetMuonAnalyzer/csc/V1p12/MC_Summer16/v4/v4/normalized/'\n",
    "\n",
    "\n",
    "\n",
    "\n",
    "if category == 0:\n",
    "    if data_year == 2016:\n",
    "#         fpath_bkg['data'] = data_path + 'Run2_displacedJetMuonNtupler_V1p12_Data2016_Run2016-HighMET-07Aug17_goodLumi.root'\n",
    "        fpath_bkg['mc'] = mc_path + 'WJetsToLNu_TuneCUETP8M1_13TeV-amcatnloFXFX-pythia8_1pb_weighted.root'\n",
    "#         fpath_bkg['mc'] = mc_path + 'QCD_HT50toInf_TuneCUETP8M1_13TeV-madgraphMLM-pythia8_1pb_weighted.root'\n",
    "\n",
    "    \n",
    "    else:\n",
    "        fpath_bkg['data'] = data_path + 'Run2_displacedJetMuonNtupler_V1p12_Data2018_17Sept2018_Run2018-HighMET-17Sep2018_goodLumi.root'\n",
    "  \n",
    "    #     fpath_bkg['mc'] = mc_path + 'ggH_HToSSTobbbb_ms55_pl1000_RunIIFall18_1pb_weighted.root'\n",
    "\n",
    "    lumi = (1.287015729 + 6.941561868 + 3.227904890 + 31.312400879) * 1000\n",
    "\n",
    "elif category == 1:\n",
    "    fpath_bkg['mc'] = '/mnt/hadoop/store/group/phys_exotica/delayedjets/displacedJetMuonAnalyzer/csc/V1p12/MC_RunIIFall18/v3/v5/normalized/WH_HToSSTobbbb_ms55_pl10000_1pb_weighted.root'\n",
    "\n",
    "#     if pdgId == 13:\n",
    "#         fpath_bkg['data'] = data_path + 'Run2_displacedJetMuonNtupler_V1p12_Data2018_SingleMuon_17Sept2018_Run2018D-ZMu-PromptReco-v2.root'\n",
    "#     else:\n",
    "#         fpath_bkg['data'] = data_path + 'Run2_displacedJetMuonNtupler_V1p12_Data2018_EGamma_17Sept2018_Run2018D-ZElectron-PromptReco-v2.root'\n",
    "    lumi = 31.34*1000\n",
    "else:\n",
    "    data_path = '/mnt/hadoop/store/group/phys_exotica/delayedjets/displacedJetMuonAnalyzer/csc/V1p12/Data'+str(data_year)+'/v2/v3/normalized/'\n",
    "    mc_path = '/mnt/hadoop/store/group/phys_exotica/delayedjets/displacedJetMuonAnalyzer/csc/V1p12/MC_RunIISummer16/v1/v2/signals/normalized/'\n",
    "    fpath_bkg['mc'] = mc_path + 'ZH_HToSSTobbbb_ms55_pl1000_1pb_weighted.root'\n",
    "    fpath_bkg['data'] = data_path + 'Run2_displacedJetMuonNtupler_V1p12_Data2018_SingleMuon_17Sept2018_Run2018D-ZMu-PromptReco-v2_goodLumi.root'\n",
    "    lumi = 29.516263349*1000\n",
    "\n",
    "NEvents = {}\n",
    "\n",
    "NEvents_genweight = {}\n",
    "for k,v in fpath_bkg.items():\n",
    "    print (k, v)\n",
    "#     tree[k] = rtnp.root2array(v)\n",
    "    root_dir = uproot.open(v) \n",
    "#     if k[:7] == 'ntuples':\n",
    "#         tree_bkg[k] = root_dir['ntuples']['llp']\n",
    "#         NEvents[k] = root_dir['ntuples']['NEvents'][1]\n",
    "#     else:\n",
    "    tree_bkg[k] = root_dir['MuonSystem']\n",
    "    NEvents[k] = root_dir['NEvents'][1]\n",
    "    NEvents_genweight[k] = root_dir['NEvents_genweight'][1]\n",
    "#     tree[k] = root_dir['ntuples']\n",
    "    a = tree_bkg[k][\"weight\"].array()\n",
    "    print(\"NEvents\",NEvents[k])\n",
    "    print(\"NEvents_genweight\",NEvents_genweight[k])\n",
    "\n",
    "\n",
    "    print ('weights',np.unique(a)*lumi)\n",
    "    print(np.sum(a))\n",
    "    print(len(a))\n",
    "#     print(len(a)/ NEvents[k])\n",
    "#     print(a.shape)\n",
    "print(time.time()-start_t)"
   ]
  },
  {
   "cell_type": "markdown",
   "metadata": {},
   "source": [
    "# Load trigger"
   ]
  },
  {
   "cell_type": "code",
   "execution_count": 214,
   "metadata": {},
   "outputs": [],
   "source": [
    "trigger_names_file = '/nfshome/christiw/llp/delayed_jet_analyzer/data/trigger_names_llp_v1.dat'\n",
    "trigger_names = []\n",
    "with open(trigger_names_file) as f:\n",
    "    reader = csv.reader(f, delimiter=\" \")\n",
    "    for line in reader:\n",
    "        trigger_names.append(line[2])\n",
    "# if wH:\n",
    "#     trigger_paths = [87,135,136] #PFMET120\n",
    "# #     elif data_year == 2017: trigger_paths = [87,136] #PFMET120\n",
    "# else:\n",
    "trigger_paths = [177,362,87,135,136] #PFMET120\n",
    "trigger_paths += [84,91]\n",
    "if category == 0:\n",
    "    trigger_paths = [310]\n",
    "xsec = {}\n",
    "xsec['bbbb10m'] = (5.328E-01 + 8.4E-01) *0.324\n",
    "xsec['bbbb1m'] = (5.328E-01 + 8.4E-01) *0.324\n",
    "xsec['bbbb0.1m'] = (5.328E-01 + 8.4E-01) *0.324\n",
    "\n",
    "\n",
    "xsec['WJetsToLNu'] = 61526.7\n",
    "\n",
    "legend = {}\n",
    "legend['bbbb10m'] = 'signal c#tau = 10 m'\n",
    "legend['bbbb1m'] = 'signal c#tau = 1 m'\n",
    "legend['bbbb0.1m'] = 'signal c#tau = 0.1 m'\n",
    "\n",
    "legend['SingleElectron'] = 'SingleElectron'\n",
    "legend['SingleMuon'] = 'SingleMuon'\n",
    "legend['WJetsToLNu'] = 'WJetsToLNu'"
   ]
  },
  {
   "cell_type": "markdown",
   "metadata": {},
   "source": [
    "# load bdt"
   ]
  },
  {
   "cell_type": "code",
   "execution_count": 215,
   "metadata": {},
   "outputs": [],
   "source": [
    "# # make predictions for test data\n",
    "\n",
    "# import pickle\n",
    "# model = pickle.load(open( 'bdt_flatten_noEvtSelection.pickle.dat', \"rb\" ))\n",
    "# y_pred = model.predict_proba([1,2,3,4,4,5,6])[:, 1]\n",
    "# print (y_pred)\n",
    "\n"
   ]
  },
  {
   "cell_type": "code",
   "execution_count": 216,
   "metadata": {},
   "outputs": [],
   "source": [
    "import math\n",
    "def deltaPhi( phi1,  phi2):\n",
    "    dphi = phi1-phi2\n",
    "    while (dphi > math.pi):\n",
    "        dphi -= 2*math.pi\n",
    "    while (dphi <= -math.pi):\n",
    "        dphi += 2*math.pi\n",
    "    return dphi\n",
    "def deltaR(eta1, phi1, eta2, phi2):\n",
    "    dphi = deltaPhi(phi1,phi2)\n",
    "    deta = eta1 - eta2\n",
    "    return (dphi*dphi + deta*deta)**0.5"
   ]
  },
  {
   "cell_type": "markdown",
   "metadata": {},
   "source": [
    "# nCsc with different hit vetoing"
   ]
  },
  {
   "cell_type": "code",
   "execution_count": 221,
   "metadata": {},
   "outputs": [
    {
     "name": "stdout",
     "output_type": "stream",
     "text": [
      "trigger 310 0.9609928333840487\n",
      "using dPhi(jet,met)\n",
      "15.263251304626465 0.0 0.0 15.263251304626465\n",
      "nan 15.263251304626465\n",
      "uncertainty on a:  nan\n",
      "using dPhi(cluster,met)\n",
      "30.52650260925293 15.263251304626465 -15.263251304626465 0.0\n",
      "-30.52650260925293 0.0\n",
      "uncertainty on d:  -5.525079421081015\n",
      "using dPhi(cluster,met)\n",
      "30.52650260925293 15.263251304626465 15.263251304626465 0.0\n",
      "30.52650260925293 0.0\n",
      "uncertainty on d:  12.354453166622335\n",
      "CPU times: user 7.44 s, sys: 342 ms, total: 7.78 s\n",
      "Wall time: 7.64 s\n"
     ]
    },
    {
     "name": "stderr",
     "output_type": "stream",
     "text": [
      "/usr/local/lib/python3.6/site-packages/ipykernel_launcher.py:280: RuntimeWarning: invalid value encountered in double_scalars\n",
      "/usr/local/lib/python3.6/site-packages/ipykernel_launcher.py:281: RuntimeWarning: divide by zero encountered in double_scalars\n",
      "/usr/local/lib/python3.6/site-packages/ipykernel_launcher.py:281: RuntimeWarning: invalid value encountered in double_scalars\n"
     ]
    }
   ],
   "source": [
    "%%time\n",
    "\n",
    "start_t = time.time()\n",
    "JET_PT_CUT = 10\n",
    "MUON_PT_CUT = 20\n",
    "N_RECHIT_CUT = 12\n",
    "jetPt_cut = 50\n",
    "tightid = False\n",
    "BDT_CUT = 0.26426288 #90% wp\n",
    "DPHI_CUT = 1\n",
    "intime = True\n",
    "weight = {}\n",
    "weight_event = {}\n",
    "lumiSec = {}\n",
    "evtNum = {}\n",
    "nCsc = {}\n",
    "npv = {}\n",
    "npu = {}\n",
    "runNum = {}\n",
    "nCsc_JetMuonVetoCluster0p4_Me1112Veto = {}\n",
    "gLLP_csc = {}\n",
    "cscClusterSize = {}\n",
    "cscClusterTime = {}\n",
    "nCscClusters = {}\n",
    "selections_cluster = {}\n",
    "sel_cluster = {}\n",
    "sel_jetveto = {}\n",
    "met_trigger = {}\n",
    "met = {}\n",
    "gLLP_beta = {}\n",
    "jetPt = {}\n",
    "jetPhi = {}\n",
    "metPhi = {}\n",
    "angle ={}\n",
    "genMet = {}\n",
    "nLeptons = {}\n",
    "genJetPt = {}\n",
    "genJetPhi = {}\n",
    "genMet = {}\n",
    "genMetPhi = {}\n",
    "pileupWeight = {}\n",
    "jetMet_dPhi = {}\n",
    "jetMet_dPhiMin = {}\n",
    "jetMet_dPhiMin4 = {}\n",
    "jetMet_dPhiMin4_50 = {}\n",
    "npv = {}\n",
    "nRechitClusters = {}\n",
    "nJets = {}\n",
    "nJets_50gev = {}\n",
    "cscRechitClusterTimeDiff = {}\n",
    "cscRechitCluster_match_gLLP = {}\n",
    "cscClusterMet_dPhi  = {}\n",
    "cscRechitClusterXSpread = {}\n",
    "cscRechitClusterYSpread = {}\n",
    "cscRechitClusterNStation = {}\n",
    "cscRechitClusterEtaPhiSpread = {}\n",
    "cscRechitClusterX = {}\n",
    "cscRechitClusterY = {}\n",
    "cscRechitClusterZ = {}\n",
    "cscRechitClusterPhi = {}\n",
    "cscClusterJetVetoPt = {}\n",
    "cscRechitClusterEta = {}\n",
    "cscRechitClusterSize ={}\n",
    "cscRechitClusterMaxChamber = {}\n",
    "cscRechitClusterNChamber = {}\n",
    "cscRechitClusterNStation = {}\n",
    "cscRechitClusterMaxStationRatio = {}\n",
    "cscRechitClusterMaxChamberRatio = {}\n",
    "cscRechitClusterZSpread = {}\n",
    "n_chamber = {}\n",
    "dphiMet_cluster = {}\n",
    "bdt_score = {}\n",
    "gParticlePhi = {}\n",
    "gParticleEta = {}\n",
    "gParticleMotherId = {}\n",
    "gParticlePt = {}\n",
    "gParticleId = {}\n",
    "WPt = {}\n",
    "cscRechitClusterMuonVetoPt = {}\n",
    "a = {}\n",
    "b = {}\n",
    "c = {}\n",
    "d = {}\n",
    "legend = {}\n",
    "\n",
    "legend['data_oot'] = 'Data OOT region'\n",
    "legend['data_intime'] = 'Data in-time region'\n",
    "legend['mc_signal'] = 'signal MC in time'\n",
    "legend['mc_intime'] = 'MC in-time background'\n",
    "legend['mc_oot'] = 'MC OOT background'\n",
    "legend['mc_bkg'] = 'QCD 50toInf background'\n",
    "\n",
    "# keys = ['data','mc_intime_bkg','mc_oot_bkg','mc_signal']\n",
    "keys = ['data_intime','data_oot','mc_signal','mc_bkg']\n",
    "keys = ['data_intime','mc_signal',]\n",
    "keys = ['data_intime']\n",
    "# keys = ['mc_signal']\n",
    "\n",
    "# keys = ['mc_bkg']\n",
    "# keys = ['mc_signal','mc_background']\n",
    "# for k,T in tree_bkg.items():\n",
    "for k,T in tree_bkg.items():\n",
    "        \n",
    "########### SELECTION: CLUSTERS ############\n",
    "#     sel_rechitcluster = T.array('cscSegClusterMaxStationRatio') > 0.1\n",
    "    sel_rechitcluster =  np.abs(T.array('cscSegClusterMaxChamber')) > 12\n",
    "    \n",
    "#     sel_rechitcluster = np.logical_and(sel_rechitcluster, T.array('cscSegClusterNSegmentChamberPlus11') == 0)\n",
    "#     sel_rechitcluster = np.logical_and(sel_rechitcluster, T.array('cscSegClusterNSegmentChamberPlus12') == 0)\n",
    "#     sel_rechitcluster = np.logical_and(sel_rechitcluster, T.array('cscSegClusterNSegmentChamberMinus11') == 0)\n",
    "#     sel_rechitcluster = np.logical_and(sel_rechitcluster, T.array('cscSegClusterNSegmentChamberMinus12') == 0)\n",
    "    sel_rechitcluster = np.logical_and(sel_rechitcluster, np.abs(T.array('cscSegClusterEta')) < 2.1)\n",
    "\n",
    "\n",
    "#     sel_rechitcluster =  np.logical_and(sel_rechitcluster, np.abs(T.array('cscSegClusterNStation')) > 0)\n",
    "#     sel_rechitcluster =  np.logical_and(sel_rechitcluster, np.abs(T.array('cscSegClusterMaxChamberRatio')) > 0.8)\n",
    "#     sel_rechitcluster =  np.logical_and(sel_rechitcluster, np.abs(T.array('cscSegClusterMaxChamberRatio')) > 0.6)\n",
    "    \n",
    "#     sel_rechitcluster =  np.logical_and(sel_rechitcluster, np.abs(T.array('cscSegClusterEta')) < 2.1)\n",
    "\n",
    "#     sel_rechitcluster = np.logical_and(sel_rechitcluster, np.logical_and(T.array('cscSegClusterTime') < 12.5, T.array('cscSegClusterTime') > -5.0))\n",
    "    n_chamber_temp = (T.array('cscSegClusterNSegmentChamberPlus11') > 0).astype(int) + (T.array('cscSegClusterNSegmentChamberMinus11') > 0).astype(int) \\\n",
    "        + (T.array('cscSegClusterNSegmentChamberPlus12') > 0).astype(int) + (T.array('cscSegClusterNSegmentChamberMinus12') > 0).astype(int) \\\n",
    "        + (T.array('cscSegClusterNSegmentChamberPlus13') > 0).astype(int) + (T.array('cscSegClusterNSegmentChamberMinus13') > 0).astype(int) \\\n",
    "        + (T.array('cscSegClusterNSegmentChamberPlus21') > 0).astype(int) + (T.array('cscSegClusterNSegmentChamberMinus21') > 0).astype(int) \\\n",
    "        + (T.array('cscSegClusterNSegmentChamberPlus22') > 0).astype(int) + (T.array('cscSegClusterNSegmentChamberMinus22') > 0).astype(int) \\\n",
    "        + (T.array('cscSegClusterNSegmentChamberPlus31') > 0).astype(int) + (T.array('cscSegClusterNSegmentChamberMinus31') > 0).astype(int) \\\n",
    "        + (T.array('cscSegClusterNSegmentChamberPlus32') > 0).astype(int) + (T.array('cscSegClusterNSegmentChamberMinus32') > 0).astype(int) \\\n",
    "        + (T.array('cscSegClusterNSegmentChamberPlus41') > 0).astype(int) + (T.array('cscSegClusterNSegmentChamberMinus41') > 0).astype(int) \\\n",
    "        + (T.array('cscSegClusterNSegmentChamberPlus42') > 0).astype(int) + (T.array('cscSegClusterNSegmentChamberMinus42') > 0).astype(int) \n",
    "#     sel_rechitcluster = np.logical_and(sel_rechitcluster, T.array('cscSegClusterSize') > 15)\n",
    "\n",
    "    sel_rechitcluster = np.logical_and(sel_rechitcluster, n_chamber_temp<3)\n",
    "#     sel_1chamber = n_chamber_temp == 1\n",
    "#     sel_2chamber = np.logical_and(n_chamber_temp == 2, np.abs(T.array('cscSegClusterMaxChamberRatio')-0.5) < 0.2)\n",
    "#     sel_2chamber = np.logical_or(sel_2chamber, sel_1chamber)\n",
    "#     sel_rechitcluster = np.logical_and(sel_rechitcluster, sel_2chamber)\n",
    "\n",
    "    if intime:\n",
    "        sel_rechitcluster = np.logical_and( sel_rechitcluster, T.array('cscSegClusterJetVetoPt') < JET_PT_CUT)\n",
    "        sel_rechitcluster = np.logical_and( sel_rechitcluster, T.array('cscSegClusterMuonVetoPt') < MUON_PT_CUT)\n",
    "        sel_rechitcluster = np.logical_and(sel_rechitcluster, np.logical_and(T.array('cscSegClusterTime') < 12.5, T.array('cscSegClusterTime') > -5.0))\n",
    "    else:\n",
    "        sel_rechitcluster = np.logical_and(sel_rechitcluster,  T.array('cscSegClusterTime') < -12.5)\n",
    "    \n",
    "\n",
    "########### SELECTION: JETS ############\n",
    "    sel_jet = np.logical_and(T.array('jetPt') > jetPt_cut, np.abs(T.array('jetEta')) < 2.4 )\n",
    "    HEM_region = np.logical_and(T.array('jetPhi') <  -0.87, T.array('jetPhi') > -1.57)\n",
    "    HEM_region = np.logical_and(HEM_region, T.array('jetEta') < -1.3)\n",
    "    HEM_region = np.logical_and(HEM_region, T.array('jetEta') > -3.0)\n",
    "    sel_jet_test = np.logical_and(np.abs(T.array('jetPhi') <  2.5), np.abs(T.array('jetPhi') > 1))\n",
    "\n",
    "#     sel_jet = np.logical_and(sel_jet, np.logical_not(HEM_region))\n",
    "    if tightid: sel_jet = np.logical_and(sel_jet, T.array('jetPassId'))\n",
    "    \n",
    "########### SELECTION: EVENTS ############\n",
    "    hlt = T['HLTDecision'].array()\n",
    "    # select only triggered events\n",
    "    sel_ev= np.ones(hlt[:,0].shape, dtype=bool)\n",
    "    sel_ev= np.zeros(hlt[:,0].shape)\n",
    "    for tr in trigger_paths:            \n",
    "        sel_ev  = np.logical_or(sel_ev,hlt[:,tr])\n",
    "        print(\"trigger\",tr,1.0*np.count_nonzero(hlt[:,tr])/len(hlt[:,tr]))\n",
    "    sel_ev = np.logical_and(sel_ev, T.array('category') == category)\n",
    "    sel_ev = np.logical_and(sel_ev,sel_rechitcluster.sum() == 1)\n",
    "    if category == 0:\n",
    "        sel_ev = np.logical_and(sel_ev,T.array('met') > 200)\n",
    "        sel_ev = np.logical_and(sel_ev,T.array('nLeptons') == 0)\n",
    "        sel_ev = np.logical_and(sel_ev, T.array('nJets') >= 1)\n",
    "\n",
    "        if data_year == 2018:\n",
    "            sel_ev = np.logical_and(sel_ev, HEM_region.sum() == 0)\n",
    "#         sel_ev = np.logical_and(sel_ev, T.array('jetMet_dPhiMin4') <= 2)\n",
    "#         sel_ev = np.logical_and(sel_ev, T.array('cscRechitClusterSize')[sel_rechitcluster].max()<=200)\n",
    "        if k[:4] == 'data':\n",
    "            sel_ev = np.logical_and(sel_ev, T.array('Flag_HBHENoiseFilter'))\n",
    "            sel_ev = np.logical_and(sel_ev, T.array('Flag_HBHEIsoNoiseFilter'))\n",
    "            sel_ev = np.logical_and(sel_ev, T.array('Flag_BadPFMuonFilter'))\n",
    "            sel_ev = np.logical_and(sel_ev, T.array('Flag_CSCTightHaloFilter'))\n",
    "            sel_ev = np.logical_and(sel_ev, T.array('Flag_goodVertices'))\n",
    "    gLLP_csc[k] = T.array('gLLP_csc')\n",
    "\n",
    "########### BRANCHES ############\n",
    "\n",
    "   ##### event variables ##### \n",
    "    \n",
    "    gLLP_beta[k] = T.array('gLLP_beta')[sel_ev]\n",
    "    jetPt[k] = T.array('jetPt')[sel_ev]\n",
    "    cscRechitClusterPhi[k] = T.array('cscSegClusterPhi')[sel_rechitcluster][sel_ev][:,0].flatten()\n",
    "    cscRechitClusterEta[k] = T.array('cscSegClusterEta')[sel_rechitcluster][sel_ev][:,0].flatten()\n",
    "    cscRechitClusterMuonVetoPt[k] = T.array('cscSegClusterMuonVetoPt')[sel_rechitcluster][sel_ev][:,0].flatten()\n",
    "    cscRechitClusterMaxChamber[k] = T.array('cscSegClusterMaxChamber')[sel_rechitcluster][sel_ev][:,0].flatten()\n",
    "    cscRechitClusterNChamber[k] = T.array('cscSegClusterNChamber')[sel_rechitcluster][sel_ev][:,0].flatten()\n",
    "    cscRechitClusterNStation[k] = T.array('cscSegClusterNStation')[sel_rechitcluster][sel_ev][:,0].flatten()\n",
    "    cscRechitClusterMaxStationRatio[k] = T.array('cscSegClusterMaxStationRatio')[sel_rechitcluster][sel_ev][:,0].flatten()\n",
    "    cscRechitClusterMaxChamberRatio[k] = T.array('cscSegClusterMaxChamberRatio')[sel_rechitcluster][sel_ev][:,0].flatten()\n",
    "    cscRechitClusterZSpread[k] = T.array('cscSegClusterZSpread')[sel_rechitcluster][sel_ev][:,0].flatten()\n",
    "    cscRechitClusterSize[k] = T.array('cscSegClusterSize')[sel_rechitcluster][sel_ev][:,0].flatten()\n",
    "\n",
    "#     n_chamber[k] = (T.array('cscSegClusterNSegmentChamberPlus11') > 0).astype(int) + (T.array('cscSegClusterNSegmentChamberMinus11') > 0).astype(int) \\\n",
    "#         + (T.array('cscSegClusterNSegmentChamberPlus12') > 0).astype(int) + (T.array('cscSegClusterNSegmentChamberMinus12') > 0).astype(int) \\\n",
    "#         + (T.array('cscSegClusterNSegmentChamberPlus13') > 0).astype(int) + (T.array('cscSegClusterNSegmentChamberMinus13') > 0).astype(int) \\\n",
    "#         + (T.array('cscSegClusterNSegmentChamberPlus21') > 0).astype(int) + (T.array('cscSegClusterNSegmentChamberMinus21') > 0).astype(int) \\\n",
    "#         + (T.array('cscSegClusterNSegmentChamberPlus22') > 0).astype(int) + (T.array('cscSegClusterNSegmentChamberMinus22') > 0).astype(int) \\\n",
    "#         + (T.array('cscSegClusterNSegmentChamberPlus31') > 0).astype(int) + (T.array('cscSegClusterNSegmentChamberMinus31') > 0).astype(int) \\\n",
    "#         + (T.array('cscSegClusterNSegmentChamberPlus32') > 0).astype(int) + (T.array('cscSegClusterNSegmentChamberMinus32') > 0).astype(int) \\\n",
    "#         + (T.array('cscSegClusterNSegmentChamberPlus41') > 0).astype(int) + (T.array('cscSegClusterNSegmentChamberMinus41') > 0).astype(int) \\\n",
    "#         + (T.array('cscSegClusterNSegmentChamberPlus42') > 0).astype(int) + (T.array('cscSegClusterNSegmentChamberMinus42') > 0).astype(int) \n",
    "\n",
    "    \n",
    "    \n",
    "    \n",
    "    \n",
    "    \n",
    "#     n_chamber[k] = n_chamber[k][sel_rechitcluster][sel_ev][:,0].flatten()\n",
    "    genMet[k] = T.array('genMetPtTrue')[sel_ev]\n",
    "\n",
    "    met[k] = T.array('met')[sel_ev]\n",
    "\n",
    "    evtNum[k] = T.array('evtNum')[sel_ev]\n",
    "    lumiSec[k] = T.array('lumiSec')[sel_ev]\n",
    "\n",
    "    metPhi[k] = T.array('metPhi')[sel_ev]\n",
    "    nJets[k] = T.array('nJets')[sel_ev]\n",
    "\n",
    "    jetPhi[k] = T.array('jetPhi')[sel_ev][:,0]\n",
    "\n",
    "    jetMet_dPhiMin4[k] = T.array('jetMet_dPhiMin4')[sel_ev]\n",
    "    jetMet_dPhiMin[k] = T.array('jetMet_dPhiMin')[sel_ev]\n",
    "    jetMet_dPhi[k] = T.array('jetMet_dPhi')[sel_ev]\n",
    "    cscClusterMet_dPhi[k] = np.abs(T.array('cscSegClusterMet_dPhi')[sel_rechitcluster][sel_ev][:,0].flatten())\n",
    "\n",
    "    sel_gparticle = np.logical_or(np.abs(T.array('gParticleId')) == 13, np.abs(T.array('gParticleId')) == 11)\n",
    "    sel_gparticle = np.logical_and(sel_gparticle, T.array('gParticleStatus') == 1)\n",
    "\n",
    "\n",
    "    sel_tau = np.logical_and(np.abs(T.array('gParticleId')) == 15, np.abs(T.array('gParticleStatus')) == 2)\n",
    "    sel_gparticle = np.logical_or(sel_tau, sel_gparticle)\n",
    "    \n",
    "\n",
    "\n",
    "    sel_gparticle = np.logical_and(sel_gparticle, np.abs(T.array('gParticleMotherId')) == 24)\n",
    "    sel_w = np.logical_and(np.abs(T.array('gParticleId')) == 24, np.abs(T.array('gParticleStatus')) == 22)\n",
    "\n",
    "\n",
    "    \n",
    "    WPt[k] = T.array('gParticlePt')[sel_w][sel_ev]\n",
    "    gParticlePhi[k] = T.array('gParticlePhi')[sel_gparticle][sel_ev]\n",
    "    gParticlePt[k] = T.array('gParticlePt')[sel_gparticle][sel_ev]\n",
    "    gParticleId[k] = T.array('gParticleId')[sel_gparticle][sel_ev]\n",
    "\n",
    "\n",
    "    gParticleEta[k] = T.array('gParticleEta')[sel_gparticle][sel_ev]\n",
    "    gParticleMotherId[k] = T.array('gParticleMotherId')[sel_gparticle][sel_ev]\n",
    "\n",
    "\n",
    "\n",
    "    weight[k] = T.array('weight')[sel_ev]\n",
    "    npv[k] = T.array('npv')[sel_ev]\n",
    "    if k[:2] == 'mc':\n",
    "        pileupWeight[k] = T.array('pileupWeight')[sel_ev]\n",
    "    else:\n",
    "        pileupWeight[k] = np.ones(weight[k].shape, dtype=bool)\n",
    "    if k[:2] == 'mc':\n",
    "        weight[k] = weight[k]*lumi\n",
    "    ##### clusters #####\n",
    "    if not k == 'mc_bkg':\n",
    "        cscClusterTime[k] = T.array('cscSegClusterTime')[sel_rechitcluster][sel_ev][:,0]\n",
    "        cscClusterSize[k] =  T.array('cscSegClusterSize')[sel_rechitcluster][sel_ev]\n",
    "        nCsc_JetMuonVetoCluster0p4_Me1112Veto[k] = cscClusterSize[k][:,0]\n",
    "\n",
    "    br = 1\n",
    "    var = jetMet_dPhiMin4[k]\n",
    "    print(\"using dPhi(jet,met)\")\n",
    "    DPHI_CUT = 0.25\n",
    "    a[k] = br * np.sum(weight[k][np.logical_and(nCsc_JetMuonVetoCluster0p4_Me1112Veto[k]>=N_RECHIT_CUT, var>=DPHI_CUT)])\n",
    "    b[k] = br * np.sum(weight[k][np.logical_and(nCsc_JetMuonVetoCluster0p4_Me1112Veto[k]<N_RECHIT_CUT, var>=DPHI_CUT)])\n",
    "    c[k] = br * np.sum(weight[k][np.logical_and(nCsc_JetMuonVetoCluster0p4_Me1112Veto[k]<N_RECHIT_CUT, var<DPHI_CUT)])\n",
    "    d[k] = br * np.sum(weight[k][np.logical_and(nCsc_JetMuonVetoCluster0p4_Me1112Veto[k]>=N_RECHIT_CUT, var<DPHI_CUT)])\n",
    "    print(a[k],b[k],c[k],d[k])\n",
    "    print(b[k]/c[k]*d[k],a[k])\n",
    "    print(\"uncertainty on a: \", (1./b[k] + 1./c[k] + 1./d[k])**0.5*(b[k]/c[k]*d[k]))\n",
    "    var = cscClusterMet_dPhi[k]\n",
    "    DPHI_CUT = 1\n",
    "    a[k] = br * np.sum(weight[k][np.logical_and(nCsc_JetMuonVetoCluster0p4_Me1112Veto[k]>=N_RECHIT_CUT, var>=DPHI_CUT)])\n",
    "    b[k] = br * np.sum(weight[k][np.logical_and(nCsc_JetMuonVetoCluster0p4_Me1112Veto[k]<N_RECHIT_CUT, var>=DPHI_CUT)])\n",
    "    c[k] = br * np.sum(weight[k][np.logical_and(nCsc_JetMuonVetoCluster0p4_Me1112Veto[k]<N_RECHIT_CUT, var<DPHI_CUT)])\n",
    "    d[k] = br * np.sum(weight[k][np.logical_and(nCsc_JetMuonVetoCluster0p4_Me1112Veto[k]>=N_RECHIT_CUT, var<DPHI_CUT)])\n",
    "    print(\"using dPhi(cluster,met)\")\n",
    "    print(a[k],b[k],c[k],d[k])\n",
    "    print(c[k]/b[k]*a[k],d[k])\n",
    "    print(\"uncertainty on d: \", (1./c[k] + 1./b[k] + 1./a[k])**0.5*(c[k]/b[k]*a[k]))\n",
    "    cond = var >= 0.5\n",
    "    a[k] = br * np.sum(weight[k][np.logical_and(cond, np.logical_and(nCsc_JetMuonVetoCluster0p4_Me1112Veto[k]>=N_RECHIT_CUT, var>=DPHI_CUT))])\n",
    "    b[k] = br * np.sum(weight[k][np.logical_and(cond, np.logical_and(nCsc_JetMuonVetoCluster0p4_Me1112Veto[k]<N_RECHIT_CUT, var>=DPHI_CUT))])\n",
    "    c[k] = br * np.sum(weight[k][np.logical_and(cond, np.logical_and(nCsc_JetMuonVetoCluster0p4_Me1112Veto[k]<N_RECHIT_CUT, var<DPHI_CUT))])\n",
    "    d[k] = br * np.sum(weight[k][np.logical_and(cond, np.logical_and(nCsc_JetMuonVetoCluster0p4_Me1112Veto[k]>=N_RECHIT_CUT, var<DPHI_CUT))])\n",
    "    print(\"using dPhi(cluster,met)\")\n",
    "    print(a[k],b[k],c[k],d[k])\n",
    "    print(c[k]/b[k]*a[k],d[k])\n",
    "    print(\"uncertainty on d: \", (1./c[k] + 1./b[k] + 1./a[k])**0.5*(c[k]/b[k]*a[k]))\n",
    "    \n",
    "    \n",
    "#     if k == 'mc_signal': print(a['mc_signal']/a['data_intime']**0.5)\n",
    "#     print(nCsc_JetMuonVetoCluster0p4_Me1112Veto[k].sum(),len(nCsc_JetMuonVetoCluster0p4_Me1112Veto[k]))\n",
    "#     print(k)\n",
    "\n"
   ]
  },
  {
   "cell_type": "code",
   "execution_count": 173,
   "metadata": {},
   "outputs": [
    {
     "name": "stdout",
     "output_type": "stream",
     "text": [
      "[ 657 9754]\n",
      "[ 2199843 27178553]\n",
      "9\n",
      "[14 13]\n"
     ]
    }
   ],
   "source": [
    "k = 'mc'\n",
    "# cscRechitClusterNStation[k]\n",
    "print(lumiSec[k][cscClusterMet_dPhi[k]<0.5])\n",
    "print(evtNum[k][cscClusterMet_dPhi[k]<0.5])\n",
    "# print(cscClusterMet_dPhi[k])\n",
    "print(np.count_nonzero(cscClusterMet_dPhi[k]<1))\n",
    "print(cscRechitClusterSize[k][cscClusterMet_dPhi[k]<0.5])"
   ]
  },
  {
   "cell_type": "markdown",
   "metadata": {},
   "source": [
    "# check correlation"
   ]
  },
  {
   "cell_type": "code",
   "execution_count": 121,
   "metadata": {},
   "outputs": [
    {
     "name": "stdout",
     "output_type": "stream",
     "text": [
      "data_intime correlation between n_rechits and deltaphi -0.27227607836026824\n",
      "data_intime correlation between n_rechits and deltaphi -0.25030359692824994\n"
     ]
    }
   ],
   "source": [
    "k = 'data_intime'\n",
    "cond = nCsc_JetMuonVetoCluster0p4_Me1112Veto[k] >= 150\n",
    "print(k, 'correlation between n_rechits and deltaphi',scipy.stats.pearsonr(nCsc_JetMuonVetoCluster0p4_Me1112Veto[k][cond], jetMet_dPhiMin4[k][cond])[0])\n",
    "print(k, 'correlation between n_rechits and deltaphi',scipy.stats.pearsonr(nCsc_JetMuonVetoCluster0p4_Me1112Veto[k][cond], dphiMet_cluster[k][cond])[0])"
   ]
  },
  {
   "cell_type": "code",
   "execution_count": 55,
   "metadata": {},
   "outputs": [
    {
     "data": {
      "text/plain": [
       "<JaggedArray [[24] [24] [] ... [-24] [] [24]] at 0x7f5413044ba8>"
      ]
     },
     "execution_count": 55,
     "metadata": {},
     "output_type": "execute_result"
    }
   ],
   "source": [
    "k = 'data_intime'\n",
    "# np.count_nonzero(nCsc_JetMuonVetoCluster0p4_Me1112Veto[k]>200)\n",
    "gParticleMotherId['mc']"
   ]
  },
  {
   "cell_type": "markdown",
   "metadata": {},
   "source": [
    "## Distribution for event level variables in different binnings"
   ]
  },
  {
   "cell_type": "code",
   "execution_count": 116,
   "metadata": {},
   "outputs": [
    {
     "name": "stdout",
     "output_type": "stream",
     "text": [
      "80 0.0\n",
      "50 80 , 0\n",
      "150 0.0\n",
      "80 150 , 0\n",
      "2000 0.0\n",
      "150 2000 , 0\n"
     ]
    },
    {
     "name": "stderr",
     "output_type": "stream",
     "text": [
      "Error in <TH1D::DrawNormalized>: Sum of weights is null. Cannot normalize histogram: mc\n",
      "Warning in <TROOT::Append>: Replacing existing TH1: mc (Potential memory leak).\n",
      "Error in <TH1D::DrawNormalized>: Sum of weights is null. Cannot normalize histogram: mc\n",
      "Warning in <TROOT::Append>: Replacing existing TH1: mc (Potential memory leak).\n",
      "Error in <TH1D::DrawNormalized>: Sum of weights is null. Cannot normalize histogram: mc\n"
     ]
    },
    {
     "data": {
      "image/png": "[encoded data removed]",
      "text/plain": [
       "<IPython.core.display.Image object>"
      ]
     },
     "metadata": {},
     "output_type": "display_data"
    }
   ],
   "source": [
    "import importlib\n",
    "importlib.reload(sys.modules['histo_utilities'])\n",
    "from histo_utilities import create_TH1D, create_TH2D, std_color_list, create_TGraph, make_ratio_plot\n",
    "leg = rt.TLegend(0.6,0.75,0.90,0.90)\n",
    "\n",
    "leg.SetTextSize(0.03)\n",
    "leg.SetBorderSize(0)\n",
    "\n",
    "leg.SetEntrySeparation(0.01)\n",
    "c = rt.TCanvas('c','c', 800, 800)\n",
    "# Plotting ncsc\n",
    "start_t = time.time()\n",
    "\n",
    "legend = {}\n",
    "legend['data_oot'] = 'Data OOT region'\n",
    "legend['data_intime'] = 'Data in-time region'\n",
    "legend['mc_signal'] = 'signal MC in time'\n",
    "legend['mc_intime'] = 'MC in-time background'\n",
    "legend['mc_oot'] = 'MC OOT background'\n",
    "legend['mc_bkg'] = 'MC QCD background'\n",
    "\n",
    "\n",
    "h = {}\n",
    "rt.gStyle.SetOptFit(1011)\n",
    "# for i,k in enumerate(tree_bkg.keys()):\n",
    "br = 1\n",
    "k = 'mc'\n",
    "name = '\\Delta \\Phi (jet,met)'\n",
    "name = 'N_{rechits}'\n",
    "cuts = [50,80,150,2000]\n",
    "for i,cut in enumerate(cuts):\n",
    "\n",
    "   \n",
    "    metcut = 200\n",
    "    if i == 0:\n",
    "        previous_cut = cut\n",
    "\n",
    "        continue\n",
    "        cond = nCsc_JetMuonVetoCluster0p4_Me1112Veto[k] <= cut\n",
    "#         cond = angle[k]<=cut\n",
    "    else:\n",
    "        cond = np.logical_and(nCsc_JetMuonVetoCluster0p4_Me1112Veto[k] < cut, nCsc_JetMuonVetoCluster0p4_Me1112Veto[k] >= previous_cut)\n",
    "#         cond = np.logical_and(angle[k] <= cut, angle[k] > previous_cut)\n",
    "\n",
    "    print(cut,np.sum(weight[k][cond]))\n",
    "#     h[k] = create_TH1D( nLeptons[k][cond], axis_title=['N_{lep}', 'Events'], name=k, binning=bins)\n",
    "\n",
    "#     h[str(i)] = create_TH1D( jetPt[k].count()[cond], axis_title=['N_{jets}', 'Events'], name=k, binning=[15,0,15])\n",
    "#     h[str(i)] = create_TH1D( jetPt[k][np.logical_and(cond, jetPt[k].count()>0)][:,0], axis_title=['jet p_{T} [GeV]', 'Events'], name=k, binning=[50,0,2500],weights = weight[k][[np.logical_and(cond, jetPt[k].count()>0)]])\n",
    "    h[str(i)] = create_TH1D( cscRechitClusterPhi[k][cond], axis_title=['csc cluster \\phi', 'Events'], name=k, binning=[25,-3.2,3.2])\n",
    "#     h[str(i)] = create_TH1D( cscRechitClusterEta[k][cond], axis_title=['csc cluster #eta', 'Events'], name=k, binning=[25,-3.2,3.2])\n",
    "\n",
    "#     h[str(i)] = create_TH1D( cscClusterMet_dPhi[k][cond], axis_title=['\\Delta \\phi(cluster,met)', 'Events'], name=k, binning=[25,0,3.2])\n",
    "#     h[str(i)] = create_TH1D( metPhi[k][cond], axis_title=['met #phi', 'Events'], name=k, binning=[25,-3.2,3.2])\n",
    "#     h[str(i)] = create_TH1D( jetPhi[k][cond], axis_title=['leading jet #phi', 'Events'], name=k, binning=[25,-3.2,3.2])\n",
    "#     h[str(i)] = create_TH1D( jetMet_dPhiMin4[k][cond], axis_title=['min _{4jets}\\Delta \\phi(MET,jet)', 'Events'], name=k, binning=[25,0,3.2])\n",
    "\n",
    "#     h[str(i)] = create_TH1D( jetMet_dPhiMin4[k][cond], axis_title=['min _{4jets}\\Delta \\phi(MET,jet)', 'Events'], name=k, binning=[25,0,3.2])\n",
    "    h[str(i)].SetLineColor(std_color_list[i-1])\n",
    "    print(previous_cut, cut, \",\" ,len(jetMet_dPhiMin4[k][cond]))\n",
    "    leg.AddEntry(h[str(i)], name+\" [%(first)d,%(second)d)\"%{\"first\":previous_cut,\"second\":cut})\n",
    "\n",
    "#     leg.AddEntry(h[str(i)], \"N_{rechits} in (%(first)d,%(second)d]\"%{\"first\":previous_cut,\"second\":cut})\n",
    "    previous_cut = cut\n",
    "\n",
    "#     print(k,\"events after 200: \",np.sum(weight[k][nCsc_JetMuonVetoCluster0p4_Me1112Veto[k]>=0])*br)\n",
    "#     h[str(i)].SetMaximum(10E4)\n",
    "#     h[str(i)].SetMinimum(0.1)\n",
    "\n",
    "\n",
    "\n",
    "#     r = h[k].Fit('expo', 'LRSQ+', '', 50,400)\n",
    "#     print(r.Get())\n",
    "#     print(r.Prob())\n",
    "#     h[k].GetFunction(\"expo\").SetLineColor(std_color_list[2])\n",
    "#     h[k].GetFunction(\"expo\").SetLineWidth(2)\n",
    "    h[str(i)].GetXaxis().SetLabelSize(0.04)\n",
    "    h[str(i)].DrawNormalized('same E1')\n",
    "    \n",
    "\n",
    "c.SetRightMargin(0)\n",
    "c.SetLogy()\n",
    "leg.Draw()\n",
    "\n",
    "c.Draw()\n",
    "# print(time.time()-start_t)"
   ]
  },
  {
   "cell_type": "markdown",
   "metadata": {},
   "source": [
    "# Roc curve for event level variables"
   ]
  },
  {
   "cell_type": "code",
   "execution_count": 71,
   "metadata": {},
   "outputs": [
    {
     "name": "stdout",
     "output_type": "stream",
     "text": [
      "[-13 -13 -15  13  11  15 -13 -15  15  13  13  15 -13 -13 -13 -15  15  13\n",
      " -13 -15  13  15 -11 -15  13  13 -15 -13 -13 -13 -13 -15 -15 -13 -13  13\n",
      " -13  13  13 -15 -13  13 -13 -13 -13 -13 -15 -15]\n",
      "[138.17819   273.28156    35.864456  274.40182     5.2738905  84.328064\n",
      " 281.5627     14.171468  219.87349   229.71573   119.24904   174.26186\n",
      "   7.688113    6.187711   70.492805   71.438065  188.93547   211.84782\n",
      "   8.575226    7.4422774 164.88876   158.93384    28.027111  176.3779\n",
      "  40.860218   80.9307    142.425      13.385061  215.27599    85.65744\n",
      " 147.2673    144.27328    18.676123  245.5256     75.86332     9.053678\n",
      " 128.17697   152.445     229.9649     36.180424  210.1011    263.78232\n",
      " 207.93973    45.837948   93.42576   108.50096   137.24313    24.838577 ]\n",
      "[ 97.02218    32.695045  333.75958    56.24837   288.94876   145.31906\n",
      " 122.79304   226.90245   248.11076    21.670437  103.52222   168.0965\n",
      " 280.77908   366.9091    230.20299   239.29944   246.2184      4.0975637\n",
      " 167.61835   214.56151    65.88318   240.95345   185.76099   192.57747\n",
      " 199.53996   156.20361   173.76073   245.35631    40.07434   108.14086\n",
      "  37.692047  452.04208   234.22202     7.8075056 123.39678   288.35318\n",
      " 155.52628    35.99816     5.529233  331.69827     9.892241   29.547722\n",
      "  83.18597   236.84872   122.561676  215.28253   355.2326    249.63051  ]\n",
      "48\n"
     ]
    },
    {
     "name": "stderr",
     "output_type": "stream",
     "text": [
      "Warning in <TROOT::Append>: Replacing existing TH1: mc (Potential memory leak).\n",
      "Warning in <TROOT::Append>: Replacing existing TH1: mc (Potential memory leak).\n",
      "Warning in <TROOT::Append>: Replacing existing TH1: mc (Potential memory leak).\n",
      "Warning in <TROOT::Append>: Replacing existing TH1: mc (Potential memory leak).\n"
     ]
    },
    {
     "data": {
      "image/png": "[encoded data removed]",
      "text/plain": [
       "<IPython.core.display.Image object>"
      ]
     },
     "metadata": {},
     "output_type": "display_data"
    }
   ],
   "source": [
    "import importlib\n",
    "importlib.reload(sys.modules['histo_utilities'])\n",
    "from histo_utilities import create_TH1D, create_TH2D, std_color_list, create_TGraph, make_ratio_plot\n",
    "leg = rt.TLegend(0.2,0.80,0.50,0.90)\n",
    "\n",
    "leg.SetTextSize(0.03)\n",
    "leg.SetBorderSize(0)\n",
    "\n",
    "leg.SetEntrySeparation(0.01)\n",
    "c = rt.TCanvas('c','c', 800, 800)\n",
    "# Plotting ncsc\n",
    "start_t = time.time()\n",
    "\n",
    "legend = {}\n",
    "legend['data_oot'] = 'Data OOT region'\n",
    "legend['data_intime'] = 'Data in-time region'\n",
    "legend['mc_signal'] = 'signal MC in time'\n",
    "legend['mc_intime'] = 'MC in-time background'\n",
    "legend['mc_oot'] = 'MC OOT background'\n",
    "legend['mc_bkg'] = 'MC QCD background'\n",
    "\n",
    "\n",
    "h = {}\n",
    "rt.gStyle.SetOptFit(1011)\n",
    "# for i,k in enumerate(tree_bkg.keys()):\n",
    "br = 1\n",
    "k = 'mc'\n",
    "name = '\\Delta \\Phi (jet,met)'\n",
    "name = 'N_{rechits}'\n",
    "cuts = [50,80,150,2000]\n",
    "cond = gParticleEta[k].count() == 1\n",
    "# cond = WPt[k].count() == 1\n",
    "\n",
    "\n",
    "# h = create_TH1D( np.abs(gParticleEta[k][np.logical_and(cond, cscClusterMet_dPhi[k]<0.5)])[:,0], axis_title=['lepton #eta', 'Events'], name=k, binning=[25,0,2.5])\n",
    "# h2 = create_TH1D( gParticlePhi[k][np.logical_and(cond, cscClusterMet_dPhi[k]>0.5)], axis_title=['lepton #eta', 'Events'], name=k, binning=[25,0,2.5])\n",
    "\n",
    "# h = create_TH1D( np.abs(gParticlePt[k][np.logical_and(cond, cscClusterMet_dPhi[k]<0.5)])[:,0], axis_title=['lepton Pt [GeV]', 'Events'], name=k, binning=[25,0,250])\n",
    "# h2 = create_TH1D( gParticlePt[k][np.logical_and(cond, cscClusterMet_dPhi[k]>0.5)], axis_title=['lepton Pt [GeV]', 'Events'], name=k, binning=[25,0,250])\n",
    "\n",
    "h = create_TH1D( np.abs(WPt[k][np.logical_and(cond, cscClusterMet_dPhi[k]<0.5)]), axis_title=['W pT[GeV]', 'Events'], name=k, binning=[25,0,500])\n",
    "h2 = create_TH1D( WPt[k][ np.logical_and(cond,cscClusterMet_dPhi[k]>0.5)], axis_title=['W pT [GeV]', 'Events'], name=k, binning=[25,0,500])\n",
    "\n",
    "h = create_TH1D( np.abs(genMet[k][ cscClusterMet_dPhi[k]<0.5]), axis_title=['genMet[GeV]', 'Events'], name=k, binning=[25,0,500])\n",
    "h2 = create_TH1D( genMet[k][ cscClusterMet_dPhi[k]>0.5], axis_title=['genMet [GeV]', 'Events'], name=k, binning=[25,0,500])\n",
    "\n",
    "\n",
    "# h2 = create_TH1D( met[k][cscClusterMet_dPhi[k]>0.5], axis_title=['lepton Pt [GeV]', 'Events'], name=k, binning=[25,200,500])\n",
    "\n",
    "\n",
    "\n",
    "print(gParticleId[k][np.logical_and(cond, cscClusterMet_dPhi[k]<0.5)][:,0])\n",
    "\n",
    "print(gParticlePt[k][np.logical_and(cond, cscClusterMet_dPhi[k]<0.5)][:,0])\n",
    "print(genMet[k][np.logical_and(cond, cscClusterMet_dPhi[k]<0.5)])\n",
    "\n",
    "\n",
    "print(np.count_nonzero(np.logical_and(cond, cscClusterMet_dPhi[k]<0.5)))\n",
    "\n",
    "# print(cscRechitClusterMuonVetoPt[k][np.logical_and(cond, cscClusterMet_dPhi[k]<0.5)][:,0])\n",
    "\n",
    "\n",
    "cond = np.logical_and(cond, cscClusterMet_dPhi[k]<0.5)\n",
    "\n",
    "# h2 = create_TH1D( nCsc_JetMuonVetoCluster0p4_Me1112Veto[k], axis_title=['csc cluster #eta', 'Events'], name=k, binning=[25,0,500])\n",
    "# h2 = create_TH1D( np.abs(cscClusterMet_dPhi[k]), axis_title=['#Delta#phi (MET, cluster)', 'Events'], name=k, binning=[25,0,3.2])\n",
    "\n",
    "\n",
    "leg.AddEntry(h,\"dphi(met, cluster) < 0.5\")\n",
    "leg.AddEntry(h2,\"dphi(met, cluster) > 0.5\")\n",
    "h.SetMaximum(100)\n",
    "h2.SetMaximum(100)\n",
    "\n",
    "\n",
    "\n",
    "h.SetLineColor(std_color_list[0])\n",
    "h2.SetLineColor(std_color_list[1])\n",
    "\n",
    "h2.DrawNormalized('same E1')\n",
    "h.DrawNormalized('same E1')\n",
    "\n",
    "\n",
    "c.SetRightMargin(0)\n",
    "c.SetLogy()\n",
    "leg.Draw()\n",
    "\n",
    "c.Draw()\n",
    "# print(time.time()-start_t)"
   ]
  },
  {
   "cell_type": "code",
   "execution_count": 72,
   "metadata": {},
   "outputs": [
    {
     "data": {
      "text/plain": [
       "array([3. , 3.1, 3.2, 3.3, 3.4, 3.5, 3.6, 3.7, 3.8, 3.9, 4. , 4.1, 4.2,\n",
       "       4.3, 4.4, 4.5, 4.6, 4.7, 4.8, 4.9, 5. , 5.1, 5.2, 5.3, 5.4, 5.5,\n",
       "       5.6, 5.7, 5.8, 5.9, 6. , 6.1, 6.2, 6.3, 6.4, 6.5, 6.6, 6.7, 6.8,\n",
       "       6.9])"
      ]
     },
     "execution_count": 72,
     "metadata": {},
     "output_type": "execute_result"
    }
   ],
   "source": [
    "np.arange(3.0,7.0,0.1)"
   ]
  },
  {
   "cell_type": "markdown",
   "metadata": {},
   "source": [
    "# 2D plot"
   ]
  },
  {
   "cell_type": "code",
   "execution_count": 56,
   "metadata": {},
   "outputs": [
    {
     "name": "stderr",
     "output_type": "stream",
     "text": [
      "Warning in <TCanvas::Constructor>: Deleting canvas with same name: c\n",
      "Warning in <TROOT::Append>: Replacing existing TH1: mc (Potential memory leak).\n"
     ]
    },
    {
     "data": {
      "image/png": "[encoded data removed]",
      "text/plain": [
       "<IPython.core.display.Image object>"
      ]
     },
     "metadata": {},
     "output_type": "display_data"
    }
   ],
   "source": [
    "import importlib\n",
    "importlib.reload(sys.modules['histo_utilities'])\n",
    "from histo_utilities import create_TH1D, create_TH2D, std_color_list, create_TGraph, make_ratio_plot\n",
    "leg = rt.TLegend(0.2,0.80,0.50,0.90)\n",
    "\n",
    "leg.SetTextSize(0.03)\n",
    "leg.SetBorderSize(0)\n",
    "\n",
    "leg.SetEntrySeparation(0.01)\n",
    "c = rt.TCanvas('c','c', 800, 800)\n",
    "# Plotting ncsc\n",
    "start_t = time.time()\n",
    "\n",
    "\n",
    "\n",
    "h = {}\n",
    "rt.gStyle.SetOptFit(1011)\n",
    "# for i,k in enumerate(tree_bkg.keys()):\n",
    "br = 1\n",
    "k = 'mc'\n",
    "name = '\\Delta \\Phi (jet,met)'\n",
    "name = 'N_{rechits}'\n",
    "cuts = [50,80,150,2000]\n",
    "h = create_TH2D( np.column_stack((cscRechitClusterPhi[k][gParticlePhi[k].count()>0],gParticlePhi[k][gParticlePhi[k].count()>0][:,0])), axis_title=['csc cluster #phi', 'gParticle#phi', 'Events'], name=k, binning=[25,0,3.2,25,0,3.2])\n",
    "\n",
    "h = create_TH2D( np.column_stack((,gParticlePhi[k][gParticlePhi[k].count()>0][:,0])), axis_title=['csc cluster #phi', 'gParticle#phi', 'Events'], name=k, binning=[25,0,3.2,25,0,3.2])\n",
    "\n",
    "\n",
    "# h.DrawNormalized('same E1')\n",
    "h.Draw('colz')\n",
    "\n",
    "\n",
    "c.SetRightMargin(0)\n",
    "c.SetLogz()\n",
    "leg.Draw()\n",
    "\n",
    "c.Draw()\n",
    "# print(time.time()-start_t)"
   ]
  },
  {
   "cell_type": "code",
   "execution_count": 192,
   "metadata": {},
   "outputs": [
    {
     "data": {
      "image/png": "[encoded data removed]",
      "text/plain": [
       "<IPython.core.display.Image object>"
      ]
     },
     "metadata": {},
     "output_type": "display_data"
    }
   ],
   "source": [
    "import importlib\n",
    "importlib.reload(sys.modules['histo_utilities'])\n",
    "from histo_utilities import create_TH1D, create_TH2D, std_color_list, create_TGraph, make_ratio_plot\n",
    "leg = rt.TLegend(0.5,0.80,0.90,0.90)\n",
    "\n",
    "leg.SetTextSize(0.03)\n",
    "leg.SetBorderSize(0)\n",
    "\n",
    "leg.SetEntrySeparation(0.01)\n",
    "c = rt.TCanvas('c','c', 800, 800)\n",
    "# Plotting ncsc\n",
    "start_t = time.time()\n",
    "\n",
    "\n",
    "k = 'mc'\n",
    "\n",
    "h = {}\n",
    "rt.gStyle.SetOptFit(1011)\n",
    "\n",
    "bins = [40,0,1000]\n",
    "metcut = 200\n",
    "\n",
    "# cscRechitClusterMaxChamber = {}\n",
    "# cscRechitClusterNChamber = {}\n",
    "# cscRechitClusterNStation = {}\n",
    "# cscRechitClusterMaxStationRatio = {}\n",
    "# cscRechitClusterMaxChamberRatio = {}\n",
    "\n",
    "# h[k] = create_TH1D( cscRechitClusterMaxChamber[k], axis_title=['max chamber', 'Events'], name=k, binning=[200,-50,50])\n",
    "# h[k] = create_TH1D( cscRechitClusterMaxChamberRatio[k], axis_title=['max chamber ratio', 'Events'], name=k, binning=[20,0,1])\n",
    "h[k] = create_TH1D( cscClusterMet_dPhi[k], axis_title=['#Delta#phi(MET, cluster)', 'Events'], name=k, binning=[20,0,3.14])\n",
    "# h[k] = create_TH1D( n_chamber[k], axis_title=['Number of Chambers', 'Events'], name=k, binning=[10,0,10])\n",
    "# print(n_chamber[k])\n",
    "# h[k] = create_TH1D( cscRechitClusterMaxStationRatio[k], axis_title=['max station ratio', 'Events'], name=k, binning=[20,0,1])\n",
    "# print(cscRechitClusterMaxStationRatio[k])\n",
    "# h[k] = create_TH1D( cscRechitClusterNStation[k], axis_title=['Number of station', 'Events'], name=k, binning=[20,0,10])\n",
    "\n",
    "\n",
    "# h['1jet'].GetXaxis().SetLabelSize(0.04)\n",
    "# h['1jet'].SetMinimum(0.1)\n",
    "# h['1jet'].SetMaximum(10E6/2)\n",
    "\n",
    "h[k].Draw('hist')\n",
    "\n",
    "\n",
    "c.SetRightMargin(0)\n",
    "# c.SetLogy()\n",
    "\n",
    "c.Draw()\n",
    "# print(time.time()-start_t)"
   ]
  },
  {
   "cell_type": "markdown",
   "metadata": {},
   "source": [
    "## significance"
   ]
  },
  {
   "cell_type": "code",
   "execution_count": 37,
   "metadata": {},
   "outputs": [
    {
     "name": "stdout",
     "output_type": "stream",
     "text": [
      "0.07687854766845703\n"
     ]
    },
    {
     "name": "stderr",
     "output_type": "stream",
     "text": [
      "Warning in <TCanvas::Constructor>: Deleting canvas with same name: c\n"
     ]
    },
    {
     "data": {
      "image/png": "[encoded data removed]",
      "text/plain": [
       "<IPython.core.display.Image object>"
      ]
     },
     "metadata": {},
     "output_type": "display_data"
    }
   ],
   "source": [
    "start_t = time.time()\n",
    "#ROC curve\n",
    "c = rt.TCanvas('c','c', 800, 800)\n",
    "leg = rt.TLegend(0.35,0.80,0.85,0.92)\n",
    "leg.SetTextSize(0.022)\n",
    "leg.SetBorderSize(0)\n",
    "\n",
    "leg.SetEntrySeparation(0.01)\n",
    "\n",
    "var = [nCsc_JetMuonVetoCluster0p4_Me1112Veto,]\n",
    "name = ['nCsc_JetMuonVetoCluster0p4_Me1112Veto',]\n",
    "legend = [ 'jet & muon veto + ME11/12 veto',]\n",
    "\n",
    "bkg_k = 'data_oot'\n",
    "sig_k = 'mc_signal'\n",
    "br = 0.01\n",
    "\n",
    "threshold = list(range(300))\n",
    "threshold = np.array(list(range(2000)))\n",
    "# print(threshold)\n",
    "for i in range(len(var)):\n",
    "    event_count = {}\n",
    "    \n",
    "    for k in ['data_oot','mc_signal']:\n",
    "        event_count[k] = []\n",
    "        for th in threshold:\n",
    "            event_count[k].append(np.sum(weight[k][var[i][k]>th]))\n",
    "        event_count[k] = np.array(event_count[k])\n",
    "        if k == sig_k:\n",
    "            event_count[k] = event_count[k]*br\n",
    "    sig = event_count[sig_k]/np.sqrt(event_count[sig_k]+event_count[bkg_k])\n",
    "    cond = event_count[sig_k]>0\n",
    "    sig = sig[cond]\n",
    "    ncsc = threshold[cond]\n",
    "#     gr['bbbb'] = create_TGraph(eff_bkg,eff_sig,axis_title = ['#epsilon_{bkg}','#epsilon_{signal}'])\n",
    "    h[sig_k+str(i)] = create_TGraph(ncsc, sig,  axis_title=['N_{rechits}', 'Significnace'])\n",
    "#     h[sig_k+str(i)] = create_TGraph(ncsc, event_count[sig_k],  axis_title=['N_{rechits}', 'Event Yield'])\n",
    "\n",
    "    h[sig_k+str(i)].SetLineWidth(2)\n",
    "    h[sig_k+str(i)].SetMarkerColor(std_color_list[i])\n",
    "    h[sig_k+str(i)].SetLineColor(std_color_list[i])\n",
    "    h[sig_k+str(i)].GetXaxis().SetRangeUser(0, 3000)\n",
    "    h[sig_k+str(i)].GetXaxis().SetLabelSize(0.04)\n",
    "\n",
    "#     h[sig_k+str(i)].GetYaxis().SetRangeUser(0, 3)\n",
    "\n",
    "\n",
    "    leg.AddEntry(h[sig_k+str(i)],sig_k+\" \"+legend[i])\n",
    "    h[sig_k+str(i)].Draw('ac' if i == 0 else 'c')\n",
    "\n",
    "#     h[sig_k+str(i)].Draw('ac' if i==0 else 'c')\n",
    "#     gr['bbbb'].Draw('')\n",
    "\n",
    "\n",
    "\n",
    "\n",
    "# c.SetLogy()\n",
    "c.Draw()\n",
    "# c.SaveAs('../plots/timing_studies/compare_timing_definition_ROC.png')\n",
    "\n",
    "print(time.time()-start_t)\n"
   ]
  },
  {
   "cell_type": "markdown",
   "metadata": {},
   "source": [
    "# 2d plot"
   ]
  },
  {
   "cell_type": "code",
   "execution_count": 125,
   "metadata": {},
   "outputs": [
    {
     "name": "stdout",
     "output_type": "stream",
     "text": [
      "0.006544828414916992\n"
     ]
    },
    {
     "name": "stderr",
     "output_type": "stream",
     "text": [
      "Warning in <TCanvas::Constructor>: Deleting canvas with same name: c\n",
      "Warning in <TROOT::Append>: Replacing existing TH1: h (Potential memory leak).\n"
     ]
    },
    {
     "data": {
      "image/png": "[encoded data removed]",
      "text/plain": [
       "<IPython.core.display.Image object>"
      ]
     },
     "metadata": {},
     "output_type": "display_data"
    }
   ],
   "source": [
    "# Plotting ncsc\n",
    "start_t = time.time()\n",
    "c = rt.TCanvas('c','c', 1000, 800)\n",
    "h = {}\n",
    "# leg = rt.TLegend(0.50,0.75,0.97,0.93)\n",
    "leg = rt.TLegend(0.58,0.70,0.94,0.85)\n",
    "leg.SetTextSize(0.022)\n",
    "# leg.SetTextFont(42)\n",
    "leg.SetEntrySeparation(0.01)\n",
    "\n",
    "i = 0\n",
    "k = 'data_intime'\n",
    "\n",
    "# h[k] = create_TH2D(np.column_stack((angle[k][cond],jetPt[k][cond][:,0])), axis_title = ['\\Delta\\phi (jet,met)','jet p_{T}[GeV]','Events'], binning=[80,-3.14,3.14,100,0,2000])\n",
    "h[k] = create_TH2D(np.column_stack(( nCsc_JetMuonVetoCluster0p4_Me1112Veto[k], dphiMet_cluster[k])),\n",
    "                   axis_title = ['N_{rechits}','\\Delta\\phi (cluster,met)','Events'], binning=[50,0,600,50,0,3.14])\n",
    "h[k] = create_TH2D(np.column_stack(( nCsc_JetMuonVetoCluster0p4_Me1112Veto[k], jetMet_dPhiMin4[k])),\n",
    "                   axis_title = ['N_{rechits}','min_{4jet}\\Delta\\phi (jet,met)','Events'], binning=[50,0,600,50,0,3.14])\n",
    "\n",
    "\n",
    "h[k].GetXaxis().SetLabelSize(0.04)\n",
    "\n",
    "\n",
    "\n",
    "\n",
    "h[k].SetLineColor(std_color_list[i])\n",
    "# leg.AddEntry(h[k], k)\n",
    "#     h[k].SetMaximum(10E5)\n",
    "#     h[k].SetMinimum(1)\n",
    "h[k].Draw('colz')\n",
    "c.SetRightMargin(0.2)\n",
    "\n",
    "\n",
    "\n",
    "# if setlog: \n",
    "c.SetLogz()\n",
    "c.Draw()\n",
    "print(time.time()-start_t)"
   ]
  },
  {
   "cell_type": "code",
   "execution_count": null,
   "metadata": {},
   "outputs": [],
   "source": []
  },
  {
   "cell_type": "markdown",
   "metadata": {},
   "source": [
    "# third"
   ]
  },
  {
   "cell_type": "code",
   "execution_count": null,
   "metadata": {},
   "outputs": [],
   "source": []
  },
  {
   "cell_type": "markdown",
   "metadata": {},
   "source": [
    "# ROC Curve"
   ]
  },
  {
   "cell_type": "code",
   "execution_count": null,
   "metadata": {},
   "outputs": [],
   "source": []
  },
  {
   "cell_type": "markdown",
   "metadata": {},
   "source": [
    "# 4th"
   ]
  },
  {
   "cell_type": "code",
   "execution_count": null,
   "metadata": {},
   "outputs": [],
   "source": []
  },
  {
   "cell_type": "markdown",
   "metadata": {},
   "source": [
    "# nCsc histogram"
   ]
  },
  {
   "cell_type": "code",
   "execution_count": null,
   "metadata": {},
   "outputs": [],
   "source": []
  },
  {
   "cell_type": "code",
   "execution_count": null,
   "metadata": {},
   "outputs": [],
   "source": []
  },
  {
   "cell_type": "code",
   "execution_count": null,
   "metadata": {},
   "outputs": [],
   "source": []
  },
  {
   "cell_type": "markdown",
   "metadata": {
    "heading_collapsed": true
   },
   "source": [
    "# event yield vs. ncsc"
   ]
  },
  {
   "cell_type": "code",
   "execution_count": null,
   "metadata": {},
   "outputs": [],
   "source": []
  },
  {
   "cell_type": "code",
   "execution_count": null,
   "metadata": {
    "hidden": true
   },
   "outputs": [],
   "source": []
  },
  {
   "cell_type": "code",
   "execution_count": null,
   "metadata": {
    "hidden": true
   },
   "outputs": [],
   "source": []
  },
  {
   "cell_type": "markdown",
   "metadata": {},
   "source": [
    "# significance"
   ]
  },
  {
   "cell_type": "code",
   "execution_count": null,
   "metadata": {},
   "outputs": [],
   "source": []
  },
  {
   "cell_type": "code",
   "execution_count": null,
   "metadata": {},
   "outputs": [],
   "source": [
    "\n"
   ]
  },
  {
   "cell_type": "code",
   "execution_count": null,
   "metadata": {
    "hidden": true
   },
   "outputs": [],
   "source": []
  },
  {
   "cell_type": "code",
   "execution_count": null,
   "metadata": {
    "hidden": true
   },
   "outputs": [],
   "source": []
  },
  {
   "cell_type": "code",
   "execution_count": null,
   "metadata": {
    "hidden": true
   },
   "outputs": [],
   "source": []
  },
  {
   "cell_type": "code",
   "execution_count": null,
   "metadata": {},
   "outputs": [],
   "source": []
  },
  {
   "cell_type": "code",
   "execution_count": null,
   "metadata": {
    "hidden": true
   },
   "outputs": [],
   "source": []
  },
  {
   "cell_type": "code",
   "execution_count": null,
   "metadata": {},
   "outputs": [],
   "source": []
  },
  {
   "cell_type": "code",
   "execution_count": null,
   "metadata": {},
   "outputs": [],
   "source": []
  },
  {
   "cell_type": "code",
   "execution_count": null,
   "metadata": {},
   "outputs": [],
   "source": []
  },
  {
   "cell_type": "code",
   "execution_count": null,
   "metadata": {},
   "outputs": [],
   "source": []
  },
  {
   "cell_type": "code",
   "execution_count": null,
   "metadata": {},
   "outputs": [],
   "source": []
  },
  {
   "cell_type": "code",
   "execution_count": null,
   "metadata": {},
   "outputs": [],
   "source": [
    "\n"
   ]
  },
  {
   "cell_type": "code",
   "execution_count": null,
   "metadata": {},
   "outputs": [],
   "source": []
  },
  {
   "cell_type": "code",
   "execution_count": null,
   "metadata": {},
   "outputs": [],
   "source": []
  },
  {
   "cell_type": "code",
   "execution_count": null,
   "metadata": {},
   "outputs": [],
   "source": []
  },
  {
   "cell_type": "code",
   "execution_count": null,
   "metadata": {},
   "outputs": [],
   "source": []
  },
  {
   "cell_type": "code",
   "execution_count": null,
   "metadata": {},
   "outputs": [],
   "source": []
  },
  {
   "cell_type": "code",
   "execution_count": null,
   "metadata": {},
   "outputs": [],
   "source": []
  },
  {
   "cell_type": "code",
   "execution_count": null,
   "metadata": {},
   "outputs": [],
   "source": []
  },
  {
   "cell_type": "code",
   "execution_count": null,
   "metadata": {},
   "outputs": [],
   "source": []
  },
  {
   "cell_type": "code",
   "execution_count": null,
   "metadata": {},
   "outputs": [],
   "source": []
  },
  {
   "cell_type": "code",
   "execution_count": null,
   "metadata": {},
   "outputs": [],
   "source": []
  },
  {
   "cell_type": "code",
   "execution_count": null,
   "metadata": {},
   "outputs": [],
   "source": []
  }
 ],
 "metadata": {
  "kernelspec": {
   "display_name": "Python 3",
   "language": "python",
   "name": "python3"
  },
  "language_info": {
   "codemirror_mode": {
    "name": "ipython",
    "version": 3
   },
   "file_extension": ".py",
   "mimetype": "text/x-python",
   "name": "python",
   "nbconvert_exporter": "python",
   "pygments_lexer": "ipython3",
   "version": "3.6.8"
  }
 },
 "nbformat": 4,
 "nbformat_minor": 4
}
