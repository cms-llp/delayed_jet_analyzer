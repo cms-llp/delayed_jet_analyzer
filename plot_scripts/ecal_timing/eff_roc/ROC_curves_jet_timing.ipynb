{
 "cells": [
  {
   "cell_type": "code",
   "execution_count": 1,
   "metadata": {},
   "outputs": [
    {
     "name": "stdout",
     "output_type": "stream",
     "text": [
      "Welcome to JupyROOT 6.16/00\n",
      "3.6.8 (default, Apr 25 2019, 21:02:35) \n",
      "[GCC 4.8.5 20150623 (Red Hat 4.8.5-36)]\n"
     ]
    }
   ],
   "source": [
    "import ROOT as rt\n",
    "import csv\n",
    "import re\n",
    "import sys\n",
    "import collections\n",
    "from collections import OrderedDict\n",
    "import uproot\n",
    "import numpy as np\n",
    "import time\n",
    "import numba\n",
    "from numba import jit\n",
    "from matplotlib import pyplot as plt\n",
    "from numpy import linalg as LA\n",
    "from ROOT import TLorentzVector\n",
    "from array import array\n",
    "\n",
    "import math\n",
    "\n",
    "# sys.path.append('/home/cms/Desktop/LLP/cms_lpc_llp/jet_timing_studies/python/lib')\n",
    "# sys.path.append('/nfshome/christiw/llp/cms_lpc_llp/jet_timing_studies/python/lib')\n",
    "sys.path.append('/nfshome/christiw/llp/delayed_jet_analyzer/lib/')\n",
    "# sys.path.append('/nfshome/christiw/llp/cms_lpc_llp/llp_analyzer/python/lib')\n",
    "\n",
    "from histo_utilities import create_TH1D, create_TH2D, create_TGraph,std_color_list\n",
    "     \n",
    "import CMS_lumi, tdrstyle \n",
    "tdrstyle.setTDRStyle()\n",
    "CMS_lumi.writeExtraText = 1\n",
    "CMS_lumi.extraText = \"     Simulation Preliminary\"\n",
    "\n",
    "# donotdelete = []\n",
    "print(sys.version)"
   ]
  },
  {
   "cell_type": "code",
   "execution_count": 6,
   "metadata": {},
   "outputs": [
    {
     "name": "stdout",
     "output_type": "stream",
     "text": [
      "bbbb_ggh_mh125_mx50_pl10000\n",
      "bbbb_ggh_mh125_mx50_pl10000 /mnt/hadoop/store/group/phys_exotica/jmao/jet_timing_studies/samples_plus/signal/bbbb/ggh/ntuple_RunIISummer16_bbbb_ggh_mh125_mx50_pl10000.root\n",
      "File ready\n",
      "Open ready\n",
      "Tree ready\n",
      "NEvents =  50973.0\n",
      "NEvents ready\n",
      "bbbb_ggh_mh125_mx50_pl1000\n",
      "bbbb_ggh_mh125_mx50_pl1000 /mnt/hadoop/store/group/phys_exotica/jmao/jet_timing_studies/samples_plus/signal/bbbb/ggh/ntuple_RunIISummer16_bbbb_ggh_mh125_mx50_pl1000.root\n",
      "File ready\n",
      "Open ready\n",
      "Tree ready\n",
      "NEvents =  50918.0\n",
      "NEvents ready\n",
      "bbbb_ggh_mh2000_mx975_pl1000\n",
      "bbbb_ggh_mh2000_mx975_pl1000 /mnt/hadoop/store/group/phys_exotica/jmao/jet_timing_studies/samples_plus/signal/bbbb/ggh/ntuple_RunIISummer16_bbbb_ggh_mh2000_mx975_pl1000.root\n",
      "File ready\n",
      "Open ready\n",
      "Tree ready\n",
      "NEvents =  17362.0\n",
      "NEvents ready\n"
     ]
    }
   ],
   "source": [
    "directory = '/mnt/hadoop/store/group/phys_exotica/jmao/jet_timing_studies/samples_plus/'\n",
    "out_dir = '/nfshome/jmao/cms-llp/plots/20190719/'\n",
    "sig_string = 'signal/bbbb/ggh/'\n",
    "sig_name_string1 = 'ntuple_RunIISummer16_'\n",
    "sig_name_string2 = '.root'\n",
    "bkg_string = 'qcd/'\n",
    "bkg_name_string1 = 'ntuple_RunIIFall17_'\n",
    "bkg_name_string2 = '_TuneCP5_13TeV_pythia8.root'\n",
    "\n",
    "\n",
    "# labels = {'QCD_Pt_15to30',\n",
    "labels = {\n",
    "          'bbbb_ggh_mh125_mx50_pl10000',\n",
    "          'bbbb_ggh_mh125_mx50_pl1000',\n",
    "          'bbbb_ggh_mh2000_mx975_pl1000'\n",
    "          }\n",
    "\n",
    "texs = {}\n",
    "\n",
    "texs['QCD_Pt_15to30'] = 'QCD_Pt_15to30'\n",
    "texs['bbbb_ggh_mh125_mx50_pl10000'] = 'm_{h} = 125 GeV, m_{x} = 50 GeV, c#tau = 10m'\n",
    "texs['bbbb_ggh_mh125_mx50_pl1000'] = 'm_{h} = 125 GeV, m_{x} = 50 GeV, c#tau = 1m'\n",
    "texs['bbbb_ggh_mh2000_mx975_pl1000'] = 'm_{h} = 2000 GeV, m_{x} = 975 GeV, c#tau = 1m'\n",
    "\n",
    "cols = {}\n",
    "\n",
    "cols['QCD_Pt_15to30'] = 6\n",
    "cols['bbbb_ggh_mh125_mx50_pl10000'] =  1\n",
    "cols['bbbb_ggh_mh125_mx50_pl1000'] =  2\n",
    "cols['bbbb_ggh_mh2000_mx975_pl1000'] = 4 \n",
    "\n",
    "\n",
    "MODEL = 'pp #rightarrow XX, X #rightarrow bb, X #rightarrow bb, ggH'\n",
    "\n",
    "fpath = OrderedDict()\n",
    "tree = OrderedDict()\n",
    "nevts = OrderedDict()\n",
    "\n",
    " \n",
    "\n",
    "for label in labels:\n",
    "    print(label)\n",
    "    if 'bb' in label:\n",
    "        fpath[label] = directory + sig_string + sig_name_string1 + label + sig_name_string2\n",
    "    else:\n",
    "        fpath[label] = directory + bkg_string + bkg_name_string1 + label + bkg_name_string2\n",
    "\n",
    "    print (label, fpath[label])\n",
    "\n",
    "    print ('File ready')\n",
    "\n",
    "\n",
    "    root_dir = uproot.open(fpath[label]) \n",
    "    print ('Open ready')\n",
    "\n",
    "    tree[label] = root_dir['ntuples/llp']\n",
    "    print ('Tree ready')\n",
    "\n",
    "    nevts[label] = root_dir['ntuples/NEvents'][1]\n",
    "    print ('NEvents = ', nevts[label])\n",
    "    print ('NEvents ready')\n"
   ]
  },
  {
   "cell_type": "code",
   "execution_count": 5,
   "metadata": {},
   "outputs": [],
   "source": [
    "#sort lists based on list1 and require list1 to be valid\n",
    "def sort_valid_lists(list1, list2): \n",
    "    list3 = []\n",
    "    for index, (ele1,ele2) in enumerate(zip(list1,list2)): \n",
    "#         print(index,ele1,ele2)\n",
    "        if not math.isnan(ele1):\n",
    "#             print(\"ele1 is not nan\")\n",
    "            list3.append(tuple((ele1,ele2)))\n",
    "    list3.sort(key=lambda x: x[0])\n",
    "    return list3 "
   ]
  },
  {
   "cell_type": "code",
   "execution_count": null,
   "metadata": {},
   "outputs": [],
   "source": []
  }
 ],
 "metadata": {
  "kernelspec": {
   "display_name": "Python 3",
   "language": "python",
   "name": "python3"
  },
  "language_info": {
   "codemirror_mode": {
    "name": "ipython",
    "version": 3
   },
   "file_extension": ".py",
   "mimetype": "text/x-python",
   "name": "python",
   "nbconvert_exporter": "python",
   "pygments_lexer": "ipython3",
   "version": "3.6.8"
  }
 },
 "nbformat": 4,
 "nbformat_minor": 2
}
