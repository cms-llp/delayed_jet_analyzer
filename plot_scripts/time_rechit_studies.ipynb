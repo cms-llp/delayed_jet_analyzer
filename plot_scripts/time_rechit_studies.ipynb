{
 "cells": [
  {
   "cell_type": "code",
   "execution_count": 1,
   "metadata": {},
   "outputs": [
    {
     "name": "stdout",
     "output_type": "stream",
     "text": [
      "Welcome to JupyROOT 6.16/00\n",
      "3.6.8 (default, Apr 25 2019, 21:02:35) \n",
      "[GCC 4.8.5 20150623 (Red Hat 4.8.5-36)]\n"
     ]
    }
   ],
   "source": [
    "import ROOT as rt\n",
    "import root_numpy as rtnp\n",
    "import csv\n",
    "import re\n",
    "import sys\n",
    "import collections\n",
    "from collections import OrderedDict\n",
    "import uproot\n",
    "import numpy as np\n",
    "import time\n",
    "import numba\n",
    "from numba import jit\n",
    "from matplotlib import pyplot as plt\n",
    "sys.path.append('/nfshome/christiw/llp/delayed_jet_analyzer/lib/')\n",
    "from histo_utilities import create_TH1D, create_TH2D, create_TGraph,std_color_list\n",
    "import math\n",
    "import CMS_lumi, tdrstyle\n",
    "tdrstyle.setTDRStyle()\n",
    "CMS_lumi.writeExtraText = 0\n",
    "\n",
    "# donotdelete = []\n",
    "print(sys.version)"
   ]
  },
  {
   "cell_type": "code",
   "execution_count": 6,
   "metadata": {},
   "outputs": [
    {
     "name": "stdout",
     "output_type": "stream",
     "text": [
      "QCD30 /mnt/hadoop/store/group/phys_exotica/delayedjets/jet_timing_studies/christiw/RunIIFall17DRPremix_QCD_upperbound/ntuple_RunIIFall17_QCD_Pt_30to50_TuneCP5_13TeV_pythia8.root\n",
      "63826\n",
      "bbbb_mh125_ctau1 /mnt/hadoop/store/group/phys_exotica/delayedjets/jet_timing_studies/christiw/signal/bbbb/vh/ntuple_RunIISummer16_bbbb_vh_mh125_mx50_pl1000.root\n",
      "74588\n",
      "time: 1.3878998756408691\n"
     ]
    }
   ],
   "source": [
    "fpath_bkg =OrderedDict()\n",
    "tree_bkg = OrderedDict()\n",
    "tree_sig = OrderedDict()\n",
    "fpath_sig =OrderedDict()\n",
    "bkg_path = \"/mnt/hadoop/store/group/phys_exotica/delayedjets/jet_timing_studies/christiw/RunIIFall17DRPremix_QCD_upperbound/\"\n",
    "sig_path = \"/mnt/hadoop/store/group/phys_exotica/delayedjets/jet_timing_studies/christiw/signal/bbbb/vh/\"\n",
    "\n",
    "# bkg_path = \"/nfshome/christiw/llp/jet_timing_studies_root/gammaMax_p/\"\n",
    "\n",
    "lumi = 137000 #in pb-1\n",
    "\n",
    "# fpath_bkg['QCD15'] = bkg_path+\"ntuple_RunIIFall17_QCD_Pt_15to30_TuneCP5_13TeV_pythia8.root\"\n",
    "fpath_bkg['QCD30'] = bkg_path+\"ntuple_RunIIFall17_QCD_Pt_30to50_TuneCP5_13TeV_pythia8.root\"\n",
    "# fpath_bkg['QCD170'] = bkg_path+\"jet_timing_studies_ntuple_RunIIFall17DRPremix_QCD_Pt_170to300_TuneCP5_13TeV_pythia8.root\"\n",
    "fpath_bkg['bbbb_mh125_ctau1'] = sig_path+'ntuple_RunIISummer16_bbbb_vh_mh125_mx50_pl1000.root'\n",
    "# fpath_bkg['bbbb_mh2000_ctau1'] = sig_path+'ntuple_RunIISummer16_bbbb_vh_mh2000_mx975_pl1000.root'\n",
    "# fpath_bkg['bbbb_mh125_ctau10'] = sig_path+'ntuple_RunIISummer16_bbbb_vh_mh125_mx50_pl10000.root'\n",
    "# fpath_bkg['bbbb_mh2000_ctau10'] = sig_path+'ntuple_RunIISummer16_bbbb_vh_mh2000_mx975_pl10000.root'\n",
    "\n",
    "# process['glueBall'] = 'pp #rightarrow  #rightarrow bbbb'\n",
    "\n",
    "start_t = time.time()\n",
    "\n",
    "for k,v in fpath_bkg.items():\n",
    "    print (k, v)\n",
    "\n",
    "    root_dir = uproot.open(v) \n",
    "    tree_bkg[k] = root_dir['ntuples']['llp']\n",
    "    a = tree_bkg[k][\"jetPt\"].array()\n",
    "    a = tree_bkg[k].get(\"jetPt\")\n",
    "    print (len(a))\n",
    "print(\"time: \"+str(time.time()-start_t))"
   ]
  },
  {
   "cell_type": "code",
   "execution_count": null,
   "metadata": {},
   "outputs": [],
   "source": []
  },
  {
   "cell_type": "code",
   "execution_count": 7,
   "metadata": {},
   "outputs": [],
   "source": [
    "legend = {}\n",
    "legend['bbbb_mh125_ctau1'] = 'Signal (m_{h} ,m_{x})=(125, 50) GeV, c#tau = 1 m'\n",
    "legend['bbbb_mh2000_ctau1'] = 'Signal (m_{h} ,m_{x})=(2000, 975) GeV, c#tau = 1 m'\n",
    "legend['bbbb_mh125_ctau10'] = 'Signal (m_{h} ,m_{x})=(125, 50) GeV, c#tau = 10 m'\n",
    "legend['bbbb_mh2000_ctau10'] = 'Signal (m_{h} ,m_{x})=(2000, 975) GeV, c#tau = 10 m'\n",
    "legend['QCD15'] = 'QCD Pt 15-30 GeV'\n",
    "legend['QCD30'] = 'QCD Pt 30-50 GeV'\n",
    "\n",
    "\n",
    "\n",
    "wH = 1\n",
    "\n",
    "\n",
    "trigger_names_file = '/nfshome/christiw/llp/delayed_jet_analyzer/data/trigger_names_llp_v1.dat'\n",
    "trigger_names = []\n",
    "with open(trigger_names_file) as f:\n",
    "    reader = csv.reader(f, delimiter=\" \")\n",
    "    for line in reader:\n",
    "        trigger_names.append(line[2])\n",
    "if wH:\n",
    "    trigger_paths = [87,135] #PFMET120\n",
    "else:\n",
    "    trigger_paths = [177,362,87,135] #PFMET120\n",
    "\n",
    "# 177 HLT_Mu17_TrkIsoVVL_Mu8_TrkIsoVVL_DZ\n",
    "# 362 HLT_Ele23_Ele12_CaloIdL_TrackIdL_IsoVL_DZ\n",
    "# 310 HLT_PFMET120_PFMHT120_IDTight\n",
    "# 87 HLT_Ele32_WPTight_Gsf\n",
    "# 135 HLT_IsoMu24\n",
    "# 310 PFMET\n"
   ]
  },
  {
   "cell_type": "code",
   "execution_count": 11,
   "metadata": {},
   "outputs": [],
   "source": [
    "def deltaPhi( phi1,  phi2):\n",
    "\n",
    "    dphi = phi1-phi2\n",
    "    while (dphi > math.pi):\n",
    "        dphi -= 2*math.pi\n",
    "  \n",
    "    while (dphi <= -math.pi):\n",
    "        dphi += 2*math.pi\n",
    "    return dphi\n",
    "def deltaR(eta1, phi1, eta2, phi2):\n",
    "    dphi = deltaPhi(phi1,phi2)\n",
    "    deta = eta1 - eta2\n",
    "    return (dphi*dphi + deta*deta)**0.5\n",
    "def ptD(pt_list):\n",
    "    pt_list = np.array(pt_list)\n",
    "    return np.sum(pt_list*pt_list)**0.5/np.sum(pt_list)\n",
    "def moment_diag(pt,pos):#list of pt, pos is list of eta or phi\n",
    "    mean_pos = np.sum(pt*pt*pos)/np.sum(pt*pt)\n",
    "    return np.sum(pt*pt*(pos-mean_pos)*(pos-mean_pos))\n",
    "def moment_xterm(pt,eta,phi):#list of pt, pos is list of eta or phi\n",
    "    mean_eta = np.sum(pt*pt*eta)/np.sum(pt*pt)\n",
    "    mean_phi = np.sum(pt*pt*phi)/np.sum(pt*pt)\n",
    "    return -np.sum(pt*pt*(phi-mean_phi)*(eta-mean_eta))\n",
    "def sig(pt,eta,phi):\n",
    "    pt = np.array(pt)\n",
    "    eta = np.array(eta)\n",
    "    phi = np.array(phi)\n",
    "    m11 = moment_diag(pt,eta)\n",
    "    m22 = moment_diag(pt,phi)\n",
    "    m12 = moment_xterm(pt,eta,phi)\n",
    "    a = (m11+m22)/2\n",
    "    b = 0.5*((m11+m22)**2-4*(m11*m22-m12**2))**0.5\n",
    "    #returns sig1,sig2\n",
    "    return ((a+b)/np.sum(pt*pt))**0.5, ((a-b)/np.sum(pt*pt))**0.5\n"
   ]
  },
  {
   "cell_type": "code",
   "execution_count": 37,
   "metadata": {},
   "outputs": [
    {
     "name": "stdout",
     "output_type": "stream",
     "text": [
      "QCD30 63826 29809 186.01276969909668\n",
      "bbbb_mh125_ctau1 74588 27285 277.8021881580353\n"
     ]
    }
   ],
   "source": [
    "met_cut = 30 #GeV\n",
    "jetTime_cut = 1 #ns\n",
    "lepid = 13 #muon\n",
    "dr = 0.2\n",
    "\n",
    "jetPt = {}\n",
    "jetEta = {}\n",
    "jetPhi = {}\n",
    "jetTime = {}\n",
    "jetTime_max = {}\n",
    "jet_frac_energy = {}\n",
    "jetTime_median = {}\n",
    "jetTime_deltaRp15 = {}\n",
    "jetTime_max_deltaRp15 = {}\n",
    "jetEcalEnergy = {}\n",
    "eventNum = {}\n",
    "genTime = {}\n",
    "gLLP_decay_radius  = {}\n",
    "jet_rechits_T = {}\n",
    "jet_rechits_E = {}\n",
    "jet_rechits_eta = {}\n",
    "jet_rechits_phi = {}\n",
    "rechit_deltaR = {}\n",
    "\n",
    "\n",
    "etD = {}\n",
    "eD = {}\n",
    "sig_e1 = {}\n",
    "sig_e2 = {}\n",
    "sig_et1 = {}\n",
    "sig_et2 = {}\n",
    "sig_e = {}\n",
    "sig_et = {}\n",
    "start_t = time.time()\n",
    "\n",
    "for k in tree_bkg.keys():\n",
    "    if True:\n",
    "        genTime[k] = []\n",
    "        gLLP_decay_radius[k] = []\n",
    "        jetPt[k] = []\n",
    "        jetEta[k] = []\n",
    "        jetPhi[k] = []\n",
    "        jetTime[k] = []\n",
    "        jetTime_max[k] = []\n",
    "        jet_frac_energy[k] = []\n",
    "        jetTime_deltaRp15[k] = []\n",
    "        jetTime_max_deltaRp15[k] = []\n",
    "        jetEcalEnergy[k] = []\n",
    "        rechit_deltaR[k] = []\n",
    "        jet_rechits_T[k] = []\n",
    "        jet_rechits_E[k] = []\n",
    "        jet_rechits_eta[k] = []\n",
    "        jet_rechits_phi[k] = []\n",
    "        jetTime_median[k] = []\n",
    "\n",
    "\n",
    "        etD[k] = []\n",
    "        eD[k] = []\n",
    "        sig_e1[k] = []\n",
    "        sig_e2[k] = []\n",
    "        sig_et1[k] = []\n",
    "        sig_et2[k] = []\n",
    "        sig_e[k] = []\n",
    "        sig_et[k] = []\n",
    "        \n",
    "        T = tree_bkg[k]\n",
    "        eventNum[k] = T.array('eventNum')\n",
    "\n",
    "        jet_n_rechits_temp =T.array('jet_n_rechits_Ecut0p5')\n",
    "        jetEta_temp =T.array('jetEta')\n",
    "        jetPhi_temp = T.array('jetPhi')\n",
    "        jetPt_temp = T.array('jetPt')\n",
    "        jetEcalEnergy_temp =T.array('jet_rechit_E_Ecut0p5')\n",
    "        jetTime_temp =T.array('jet_rechit_T_Ecut0p5')\n",
    "\n",
    "        jet_rechits_T_temp = T.array('jet_rechits_T')\n",
    "        jet_rechits_E_temp = T.array('jet_rechits_E')\n",
    "        jet_rechits_eta_temp = T.array('jet_rechits_eta')\n",
    "        jet_rechits_phi_temp = T.array('jet_rechits_phi')\n",
    "        \n",
    "        genTime_temp = T.array('gen_time')\n",
    "        gLLP_decay_radius_temp =  ((T.array('gLLP_decay_vertex_x')-T.array('gLLP_prod_vertex_x'))**2+(T.array('gLLP_decay_vertex_y')-T.array('gLLP_prod_vertex_y'))**2)**0.5\n",
    "        gLLP_daughter_match_jet_index = T.array('gLLP_daughter_match_jet_index')\n",
    "        nJets = T.array('nJets')\n",
    "        for ev in range(len(nJets)):\n",
    "            for j in range(nJets[ev]):\n",
    "                if jet_n_rechits_temp[ev][j]<5:continue\n",
    "                if abs(jetEta_temp[ev][j]) > 1.48: continue\n",
    "                if not k[:3]=='QCD' and j not in  gLLP_daughter_match_jet_index[ev]: continue\n",
    "                    \n",
    "                if not k[:3] == 'QCD':\n",
    "                    genTime[k].append(genTime_temp[ev][list(gLLP_daughter_match_jet_index[ev]).index(j)])\n",
    "                    llp_id = 666\n",
    "                    if list(gLLP_daughter_match_jet_index[ev]).index(j)<=1:\n",
    "                        llp_id = 0\n",
    "                    else:\n",
    "                        llp_id = 1\n",
    "                    gLLP_decay_radius[k].append(gLLP_decay_radius_temp[ev][llp_id])\n",
    "\n",
    "                jetTime[k].append(jetTime_temp[ev][j])\n",
    "                jetEcalEnergy[k].append(jetEcalEnergy_temp[ev][j])\n",
    "                maxE_rechit_index = jet_rechits_E_temp[ev][j].index(max(jet_rechits_E_temp[ev][j]))\n",
    "                jetTime_max[k].append(jet_rechits_T_temp[ev][j][maxE_rechit_index])\n",
    "                jetTime_median[k].append(np.median(np.array(jet_rechits_T_temp[ev][j])))\n",
    "                jet_rechits_T[k].append(jet_rechits_T_temp[ev][j])\n",
    "                jet_rechits_E[k].append(jet_rechits_E_temp[ev][j])\n",
    "                jet_rechits_eta[k].append(jet_rechits_eta_temp[ev][j])\n",
    "                jet_rechits_phi[k].append(jet_rechits_phi_temp[ev][j])\n",
    "                \n",
    "                sig1,sig2 = sig(jet_rechits_E_temp[ev][j],jet_rechits_eta_temp[ev][j],jet_rechits_phi_temp[ev][j])\n",
    "                sig_e1[k].append(sig1)\n",
    "                sig_e2[k].append(sig2)\n",
    "                rechits_et = jet_rechits_E_temp[ev][j]/np.cosh(jet_rechits_eta_temp[ev][j])\n",
    "                sig1,sig2 = sig(rechits_et,jet_rechits_eta_temp[ev][j],jet_rechits_phi_temp[ev][j])\n",
    "                sig_et1[k].append(sig1)\n",
    "                sig_et2[k].append(sig2)\n",
    "                etD[k].append(ptD(rechits_et))\n",
    "                eD[k].append(ptD(jet_rechits_E_temp[ev][j]))\n",
    "\n",
    "\n",
    "\n",
    "\n",
    "                \n",
    "                ## Match rechits within deltaR = 1.5 of pf jet\n",
    "                energy_deltaRp15 = 0.0\n",
    "                time_deltaRp15 = 0.0\n",
    "                jetTime_maxE_deltaRp15_temp = 0\n",
    "                jetE_maxE_deltaRp15_temp = 0\n",
    "                deltaR_temp = []\n",
    "                for rec_i, rechit_t in enumerate(jet_rechits_T_temp[ev][j]):\n",
    "                    if abs(jet_rechits_T_temp[ev][j][rec_i]) > 12.5: continue\n",
    "                    if jet_rechits_E_temp[ev][j][rec_i] < 0.5: continue\n",
    "                    deltar = deltaR(jetEta_temp[ev][j],jetPhi_temp[ev][j],jet_rechits_eta_temp[ev][j][rec_i],jet_rechits_phi_temp[ev][j][rec_i])\n",
    "                    deltaR_temp.append(deltar)\n",
    "                    if deltar < dr:\n",
    "                        energy_deltaRp15 += jet_rechits_E_temp[ev][j][rec_i]\n",
    "                        time_deltaRp15 += jet_rechits_T_temp[ev][j][rec_i] * jet_rechits_E_temp[ev][j][rec_i]\n",
    "                        if jet_rechits_E_temp[ev][j][rec_i] > jetE_maxE_deltaRp15_temp:\n",
    "                            jetTime_maxE_deltaRp15_temp = jet_rechits_T_temp[ev][j][rec_i]\n",
    "                            jetE_maxE_deltaRp15_temp = jet_rechits_E_temp[ev][j][rec_i]\n",
    "                jet_frac_energy[k].append(energy_deltaRp15/jetEcalEnergy_temp[ev][j])\n",
    "                jetTime_max_deltaRp15[k].append(jetTime_maxE_deltaRp15_temp)\n",
    "                \n",
    "                if not energy_deltaRp15 == 0:\n",
    "                    jetTime_deltaRp15[k].append(time_deltaRp15/energy_deltaRp15)\n",
    "                else:\n",
    "                    assert(time_deltaRp15 == energy_deltaRp15)\n",
    "                    jetTime_deltaRp15[k].append(time_deltaRp15)\n",
    "                \n",
    "                jetPt[k].append(jetPt_temp[ev][j])\n",
    "                jetEta[k].append(jetEta_temp[ev][j])\n",
    "                jetPhi[k].append(jetPhi_temp[ev][j])\n",
    "                rechit_deltaR[k].append(deltaR_temp)\n",
    "        rechit_deltaR[k] = np.array(rechit_deltaR[k])\n",
    "        genTime[k] = np.array(genTime[k])\n",
    "        gLLP_decay_radius[k] = np.array(gLLP_decay_radius[k])\n",
    "        jetPt[k] = np.array(jetPt[k])\n",
    "        jetEta[k] = np.array(jetEta[k])\n",
    "        jetPhi[k] = np.array(jetPhi[k])\n",
    "        jetTime[k] = np.array(jetTime[k])\n",
    "        jetTime_max[k] = np.array(jetTime_max[k])\n",
    "        jet_frac_energy[k] = np.array(jet_frac_energy[k])\n",
    "        jetTime_deltaRp15[k] = np.array(jetTime_deltaRp15[k])\n",
    "        jetTime_max_deltaRp15[k] = np.array(jetTime_max_deltaRp15[k])\n",
    "        jetTime_median[k] = np.array(jetTime_median[k])\n",
    "        jet_rechits_T[k] = np.array(jet_rechits_T[k])\n",
    "        jet_rechits_E[k] = np.array(jet_rechits_E[k])\n",
    "        jet_rechits_eta[k] = np.array(jet_rechits_eta[k])\n",
    "        jet_rechits_phi[k] = np.array(jet_rechits_phi[k])\n",
    "        jetEcalEnergy[k] = np.array(jetEcalEnergy[k])\n",
    "        etD[k] = np.array(etD[k])\n",
    "        eD[k] = np.array(eD[k])\n",
    "        sig_e1[k] = np.array(sig_e1[k])\n",
    "        sig_e2[k] = np.array(sig_e2[k])\n",
    "        sig_et1[k] = np.array(sig_et1[k])\n",
    "        sig_et2[k] = np.array(sig_et2[k])\n",
    "        sig_e[k] = np.hypot(sig_e1[k],sig_e2[k])\n",
    "        sig_et[k] = np.hypot(sig_et1[k],sig_et2[k])\n",
    "\n",
    "        \n",
    "        print(k,len(nJets),len(jetPhi[k]),(time.time()-start_t))\n",
    "        start_t = time.time()\n",
    "    else:\n",
    "        print(k)"
   ]
  },
  {
   "cell_type": "markdown",
   "metadata": {},
   "source": [
    "# match rechits within 0.15 cone to jets"
   ]
  },
  {
   "cell_type": "code",
   "execution_count": 42,
   "metadata": {},
   "outputs": [
    {
     "name": "stderr",
     "output_type": "stream",
     "text": [
      "Warning in <TCanvas::Constructor>: Deleting canvas with same name: c\n",
      "Warning in <TROOT::Append>: Replacing existing TH1: h (Potential memory leak).\n",
      "Warning in <TROOT::Append>: Replacing existing TH1: h (Potential memory leak).\n",
      "Warning in <TROOT::Append>: Replacing existing TH1: h (Potential memory leak).\n"
     ]
    },
    {
     "data": {
      "image/png": "[encoded data removed]",
      "text/plain": [
       "<IPython.core.display.Image object>"
      ]
     },
     "metadata": {},
     "output_type": "display_data"
    }
   ],
   "source": [
    "# gen vs. reco time for matched signals\n",
    "\n",
    "c = rt.TCanvas('c','c', 900, 800)\n",
    "h = {}\n",
    "# leg = rt.TLegend(0.50,0.75,0.97,0.93)\n",
    "leg = rt.TLegend(0.50,0.80,0.96,0.93)\n",
    "leg.SetTextSize(0.022)\n",
    "# leg.SetTextFont(42)\n",
    "leg.SetEntrySeparation(0.01)\n",
    "max_y = 0\n",
    "i=0\n",
    "for k,v in jetTime.items():\n",
    "#     print(jet_frac_energy[k])\n",
    "    jet_frac_energy[k] = np.array(jet_frac_energy[k])\n",
    "    cond = np.ones(jet_frac_energy[k].shape,dtype=bool)\n",
    "    cond = jetTime[k]>3\n",
    "#     if not k[:3] == 'QCD':\n",
    "#         gLLP_decay_radius[k] = np.array(gLLP_decay_radius[k])\n",
    "#         cond = gLLP_decay_radius[k] > 50\n",
    "#         cond = np.logical_and(cond,gLLP_decay_z[k]>20)\n",
    "    \n",
    "#     h[k] = create_TH1D(sig_et2[k],axis_title = ['#sigma_{et 1}','Events'], binning=[50,0,0.3])\n",
    "    h[k] = create_TH1D(np.hypot(sig_e1[k][cond],sig_e2[k][cond]),axis_title = ['#sigma_{et 1}','Events'], binning=[50,0,0.3])\n",
    "    h[k] = create_TH1D(etD[k][cond],axis_title = ['#sigma_{et 1}','Events'], binning=[50,0,1])\n",
    "\n",
    "\n",
    "\n",
    "\n",
    "#     h[k] = create_TH1D(jet_frac_energy[k][cond],axis_title = ['Energy fraction','Events'], binning=[50,0,1])\n",
    "    currentMax=h[k].GetBinContent(h[k].GetMaximumBin())\n",
    "    if currentMax > max_y:\n",
    "        max_y = currentMax\n",
    "        h[k].SetMaximum(5*currentMax)\n",
    "        h[k].SetMinimum(1)\n",
    "    h[k].SetLineColor(std_color_list[i])\n",
    "    leg.AddEntry(h[k], legend[k])\n",
    "    h[k].DrawNormalized('same')\n",
    "    i+=1\n",
    "    #     c.SetRightMargin(0.17)\n",
    "leg.Draw()\n",
    "\n",
    "\n",
    "c.SetLogy()\n",
    "c.Draw()\n",
    "# c.SaveAs('../plots/timing_studies/deltar0p15vs0p4_energyfrac_matched.png')\n",
    "#     c.SaveAs('../plots/timing_studies/matched_tresponse_jetpt_'+k+'.png')"
   ]
  },
  {
   "cell_type": "markdown",
   "metadata": {},
   "source": []
  },
  {
   "cell_type": "code",
   "execution_count": null,
   "metadata": {},
   "outputs": [],
   "source": []
  },
  {
   "cell_type": "code",
   "execution_count": 51,
   "metadata": {},
   "outputs": [
    {
     "name": "stderr",
     "output_type": "stream",
     "text": [
      "Warning in <TCanvas::Constructor>: Deleting canvas with same name: c\n"
     ]
    },
    {
     "data": {
      "image/png": "[encoded data removed]",
      "text/plain": [
       "<IPython.core.display.Image object>"
      ]
     },
     "metadata": {},
     "output_type": "display_data"
    }
   ],
   "source": [
    "# gen vs. reco time for matched signals\n",
    "\n",
    "c = rt.TCanvas('c','c', 900, 800)\n",
    "h = {}\n",
    "# leg = rt.TLegend(0.50,0.75,0.97,0.93)\n",
    "leg = rt.TLegend(0.40,0.75,0.95,0.93)\n",
    "leg.SetTextSize(0.022)\n",
    "# leg.SetTextFont(42)\n",
    "leg.SetEntrySeparation(0.01)\n",
    "max_y = 0\n",
    "i=0\n",
    "key = 'bbbb_mh125_ctau1'\n",
    "# h['bbbb_mh125_ctau1'] = create_TH2D(np.column_stack((gLLP_decay_radius['bbbb_mh125_ctau1'],jetTime['bbbb_mh125_ctau1'])), axis_title = ['gLLP decay radius [cm]','ECAL #Delta R = 0.15 energy fraction','Events'], binning=[50,0,140,50,-10,10])\n",
    "# h['bbbb_mh125_ctau1'] = create_TH2D(np.column_stack((gLLP_decay_radius['bbbb_mh125_ctau1'],jet_frac_energy['bbbb_mh125_ctau1'])), axis_title = ['gLLP decay radius [cm]','ECAL #Delta R = 0.15 energy fraction','Events'], binning=[50,0,140,50,0,1])\n",
    "# h['bbbb_mh125_ctau1'] = create_TH2D(np.column_stack((jet_frac_energy['bbbb_mh125_ctau1'],jetTime['bbbb_mh125_ctau1'])), axis_title = ['Energy Fraction','ECAL #Delta R = 0.15 energy fraction','Events'], binning=[50,0,1,50,-10,10])\n",
    "# h['QCD30'] = create_TH2D(np.column_stack((jet_frac_energy['QCD30'],jetTime['QCD30'])), axis_title = ['Energy Fraction','jet Time','Events'], binning=[50,0,1,50,-10,10])\n",
    "h[key] = create_TH2D(np.column_stack((sig_e[key],jetTime[key])), axis_title = ['#sigma_{ET}','jet Time','Events'], binning=[50,0,1,50,-10,10])\n",
    "\n",
    "\n",
    "\n",
    "\n",
    "# h['QCD30'].Draw('colz')\n",
    "\n",
    "h[key].Draw('colz')\n",
    "\n",
    "c.SetRightMargin(0.17)\n",
    "\n",
    "\n",
    "c.SetLogz()\n",
    "c.Draw()\n",
    "# c.SaveAs('../plots/timing_studies/deltar0p15vs0p4_energyfrac_llp_decay_radius_matched.png')\n",
    "\n",
    "# c.SaveAs('../plots/timing_studies/matched_recotime.png')\n",
    "#     c.SaveAs('../plots/timing_studies/matched_tresponse_jetpt_'+k+'.png')"
   ]
  },
  {
   "cell_type": "markdown",
   "metadata": {},
   "source": [
    "# Compare max time vs. energy weighted time"
   ]
  },
  {
   "cell_type": "code",
   "execution_count": 366,
   "metadata": {},
   "outputs": [
    {
     "name": "stderr",
     "output_type": "stream",
     "text": [
      "Warning in <TCanvas::Constructor>: Deleting canvas with same name: c\n",
      "Warning in <TROOT::Append>: Replacing existing TH1: h (Potential memory leak).\n",
      "Warning in <TROOT::Append>: Replacing existing TH1: h (Potential memory leak).\n",
      "Warning in <TROOT::Append>: Replacing existing TH1: h (Potential memory leak).\n",
      "Warning in <TROOT::Append>: Replacing existing TH1: h (Potential memory leak).\n"
     ]
    },
    {
     "data": {
      "image/png": "[encoded data removed]",
      "text/plain": [
       "<IPython.core.display.Image object>"
      ]
     },
     "metadata": {},
     "output_type": "display_data"
    }
   ],
   "source": [
    "# gen vs. reco time for matched signals\n",
    "\n",
    "c = rt.TCanvas('c','c', 900, 800)\n",
    "h = {}\n",
    "# leg = rt.TLegend(0.50,0.75,0.97,0.93)\n",
    "leg = rt.TLegend(0.50,0.75,0.95,0.93)\n",
    "leg.SetTextSize(0.022)\n",
    "# leg.SetTextFont(42)\n",
    "leg.SetEntrySeparation(0.01)\n",
    "max_y = 0\n",
    "i=0\n",
    "k = 'QCD30'\n",
    "# k = 'bbbb_mh125_ctau1'\n",
    "bins = [50,-10,20]\n",
    "h['jetTime'] = create_TH1D(jetTime[k],axis_title = ['jet time [ns]','Events'], binning=bins)\n",
    "h['jetTime_deltaRp15'] = create_TH1D(jetTime_deltaRp15[k],axis_title = ['jet time [ns]','Events'], binning=bins)\n",
    "h['jetTime_max'] = create_TH1D(jetTime_max[k],axis_title = ['jet time [ns]','Events'], binning=bins)\n",
    "h['jetTime_max_deltaRp15'] = create_TH1D(jetTime_max_deltaRp15[k],axis_title = ['jet time [ns]','Events'], binning=bins)\n",
    "h['jetTime_median'] = create_TH1D(jetTime_median[k],axis_title = ['jet time [ns]','Events'], binning=bins)\n",
    "\n",
    "\n",
    "h['jetTime'].SetLineColor(std_color_list[0])\n",
    "h['jetTime_deltaRp15'].SetLineColor(std_color_list[1])\n",
    "h['jetTime_max'].SetLineColor(std_color_list[2])\n",
    "h['jetTime_max_deltaRp15'].SetLineColor(std_color_list[3])\n",
    "h['jetTime_median'].SetLineColor(std_color_list[4])\n",
    "\n",
    "leg.AddEntry(h['jetTime'], 'Energy weighted time, #Delta R = 0.4')\n",
    "leg.AddEntry(h['jetTime_deltaRp15'], 'Energy weighted time, #Delta R = 0.15')\n",
    "leg.AddEntry(h['jetTime_max'], 'Rechit time_{max E}, #Delta R = 0.4')\n",
    "leg.AddEntry(h['jetTime_max_deltaRp15'], 'Rechit time_{max E}, #Delta R = 0.15')\n",
    "leg.AddEntry(h['jetTime_median'], 'Rechit time_{median}, #Delta R = 0.4')\n",
    "\n",
    "h['jetTime'].DrawNormalized('same')\n",
    "h['jetTime_deltaRp15'].DrawNormalized('same')\n",
    "h['jetTime_max'].DrawNormalized('same')\n",
    "h['jetTime_max_deltaRp15'].DrawNormalized('same')\n",
    "h['jetTime_median'].DrawNormalized('same')\n",
    "\n",
    "    #     c.SetRightMargin(0.17)\n",
    "leg.Draw()\n",
    "\n",
    "\n",
    "c.SetLogy()\n",
    "c.Draw()\n",
    "# c.SaveAs('../plots/timing_studies/compare_timing_definition_matched_QCDpt30-50.png')\n",
    "#     c.SaveAs('../plots/timing_studies/matched_tresponse_jetpt_'+k+'.png')"
   ]
  },
  {
   "cell_type": "markdown",
   "metadata": {},
   "source": [
    "# bkg vs. signal for different time definition"
   ]
  },
  {
   "cell_type": "code",
   "execution_count": 328,
   "metadata": {},
   "outputs": [
    {
     "name": "stderr",
     "output_type": "stream",
     "text": [
      "Warning in <TCanvas::Constructor>: Deleting canvas with same name: c\n",
      "Warning in <TROOT::Append>: Replacing existing TH1: h (Potential memory leak).\n"
     ]
    },
    {
     "data": {
      "image/png": "[encoded data removed]",
      "text/plain": [
       "<IPython.core.display.Image object>"
      ]
     },
     "metadata": {},
     "output_type": "display_data"
    }
   ],
   "source": [
    "# gen vs. reco time for matched signals\n",
    "\n",
    "c = rt.TCanvas('c','c', 900, 800)\n",
    "h = {}\n",
    "# leg = rt.TLegend(0.50,0.75,0.97,0.93)\n",
    "leg = rt.TLegend(0.52,0.75,0.96,0.93)\n",
    "leg.SetTextSize(0.022)\n",
    "# leg.SetBorderSize(0)\n",
    "\n",
    "# leg.SetTextFont(42)\n",
    "leg.SetEntrySeparation(0.01)\n",
    "max_y = 0\n",
    "i=0\n",
    "time_vars = [jetTime, jetTime_median,jetTime_deltaRp15, jetTime_max, jetTime_max_deltaRp15]\n",
    "time_xaxis = ['jetTime', 'jetTime_median','jetTime_deltaRp15', 'jetTime_max', 'jetTime_max_deltaRp15']\n",
    "time_legend = ['Energy weighted time, #Delta R = 0.4','Rechit time_{median}, #Delta R = 0.4','Energy weighted time, #Delta R = 0.15',\n",
    "              'Rechit time_{max E}, #Delta R = 0.4','Rechit time_{max E}, #Delta R = 0.15']\n",
    "\n",
    "var_i=1\n",
    "bins = [50,-7,15]\n",
    "for k,v in time_vars[var_i].items():\n",
    "    h[k] = create_TH1D(v,axis_title = ['jet time [ns]','Events'], binning=bins)\n",
    "    h[k].SetLineColor(std_color_list[i])\n",
    "    leg.AddEntry(h[k], legend[k])\n",
    "    h[k].DrawNormalized('same')\n",
    "    i+=1\n",
    "\n",
    "    #     c.SetRightMargin(0.17)\n",
    "leg.Draw()\n",
    "\n",
    "\n",
    "c.SetLogy()\n",
    "c.Draw()\n",
    "# c.SaveAs('../plots/timing_studies/matched_recotime.png')\n",
    "#     c.SaveAs('../plots/timing_studies/matched_tresponse_jetpt_'+k+'.png')"
   ]
  },
  {
   "cell_type": "markdown",
   "metadata": {},
   "source": [
    "# ROC curve for the jet moments"
   ]
  },
  {
   "cell_type": "code",
   "execution_count": 44,
   "metadata": {},
   "outputs": [
    {
     "name": "stdout",
     "output_type": "stream",
     "text": [
      "(1306,) (1306,)\n",
      "(1018,) (1018,)\n",
      "(1304,) (1304,)\n",
      "(1019,) (1019,)\n",
      "(1304,) (1304,)\n",
      "(1307,) (1307,)\n",
      "(1068,) (1068,)\n",
      "(1068,) (1068,)\n"
     ]
    },
    {
     "name": "stderr",
     "output_type": "stream",
     "text": [
      "Warning in <TCanvas::Constructor>: Deleting canvas with same name: c\n",
      "Info in <TCanvas::Print>: png file ../plots/timing_studies/compare_timing_definition_ROC.png has been created\n"
     ]
    },
    {
     "data": {
      "image/png": "[encoded data removed]",
      "text/plain": [
       "<IPython.core.display.Image object>"
      ]
     },
     "metadata": {},
     "output_type": "display_data"
    }
   ],
   "source": [
    "c = rt.TCanvas('c','c', 800, 800)\n",
    "leg = rt.TLegend(0.55,0.70,0.90,0.85)\n",
    "leg.SetTextSize(0.022)\n",
    "leg.SetBorderSize(0)\n",
    "\n",
    "leg.SetEntrySeparation(0.01)\n",
    "gr = {}\n",
    "moment_vars = [sig_et1,sig_et2,sig_e1,sig_e2,sig_e,sig_et,etD,eD]\n",
    "moment_xaxis = ['sig_et1','sig_et2','sig_e1','sig_e2','sig_e','sig_et','etD','eD']\n",
    "moment_legend = ['#sigma_{ET 1}','#sigma_{ET 2}','#sigma_{E 1}','#sigma_{E 2}','#sigma_{ET}','#sigma_{E}','E_{T}D','ED']\n",
    "\n",
    "\n",
    "qcd_key = 'QCD30'\n",
    "sig_k = 'bbbb_mh125_ctau1'\n",
    "for i in range(len(moment_legend)):\n",
    "    eff = {}\n",
    "    thre = np.array(range(1000))/1000.0\n",
    "    thre = np.array(range(2500))/100.0-10\n",
    "#     print(thre)\n",
    "    for k in tree_bkg.keys():\n",
    "        cond = jetTime[k] > 2\n",
    "        v = moment_vars[i][k][cond]\n",
    "        eff[k] = []\n",
    "        for th in thre:\n",
    "            eff[k].append(1.0*np.count_nonzero(v>th)/len(v))\n",
    "        eff[k] = np.array(eff[k])\n",
    "#     Plotting ROC curve\n",
    "    eff[sig_k] = eff[sig_k][np.logical_not(eff[qcd_key] == 0)]\n",
    "    eff[qcd_key] = eff[qcd_key][np.logical_not(eff[qcd_key] == 0)]\n",
    "    print(eff[qcd_key].shape, eff[sig_k].shape)\n",
    "    gr[moment_xaxis[i]] = create_TGraph(eff[sig_k],np.reciprocal(eff[qcd_key]),axis_title = ['#epsilon_{sig}','bkg rejection'])\n",
    "    gr[moment_xaxis[i]].SetLineColor(std_color_list[i])\n",
    "    gr[moment_xaxis[i]].SetLineWidth(2)\n",
    "    gr[moment_xaxis[i]].SetMarkerColor(std_color_list[i])\n",
    "\n",
    "    gr[moment_xaxis[i]].SetMarkerColor(std_color_list[i])\n",
    "\n",
    "#     gr[name[i]].GetYaxis().SetRangeUser(0,0.3)\n",
    "    gr[moment_xaxis[i]].GetXaxis().SetRangeUser(0.0, 1.0)\n",
    "#         gr[name[i]].GetYaxis().SetRangeUser(1.0/np.max(eff['QCD']), 10000)\n",
    "\n",
    "\n",
    "    leg.AddEntry(gr[moment_xaxis[i]],moment_legend[i])\n",
    "\n",
    "    gr[moment_xaxis[i]].Draw('ac' if i==0 else 'c')\n",
    "leg.Draw()\n",
    "c.SetLogy()\n",
    "c.Draw()\n",
    "c.SaveAs('../plots/timing_studies/compare_timing_definition_ROC.png')\n",
    "\n"
   ]
  },
  {
   "cell_type": "markdown",
   "metadata": {},
   "source": [
    "# ROC curve for the 4 different time variables"
   ]
  },
  {
   "cell_type": "code",
   "execution_count": null,
   "metadata": {},
   "outputs": [],
   "source": []
  },
  {
   "cell_type": "code",
   "execution_count": 329,
   "metadata": {
    "scrolled": false
   },
   "outputs": [
    {
     "name": "stdout",
     "output_type": "stream",
     "text": [
      "(1592,) (1592,)\n",
      "(1683,) (1683,)\n",
      "(2161,) (2161,)\n",
      "(1976,) (1976,)\n",
      "(2161,) (2161,)\n"
     ]
    },
    {
     "name": "stderr",
     "output_type": "stream",
     "text": [
      "Warning in <TCanvas::Constructor>: Deleting canvas with same name: c\n",
      "Info in <TCanvas::Print>: png file ../plots/timing_studies/compare_timing_definition_ROC.png has been created\n"
     ]
    },
    {
     "data": {
      "image/png": "[encoded data removed]",
      "text/plain": [
       "<IPython.core.display.Image object>"
      ]
     },
     "metadata": {},
     "output_type": "display_data"
    }
   ],
   "source": [
    "c = rt.TCanvas('c','c', 800, 800)\n",
    "leg = rt.TLegend(0.55,0.70,0.90,0.85)\n",
    "leg.SetTextSize(0.022)\n",
    "leg.SetBorderSize(0)\n",
    "\n",
    "leg.SetEntrySeparation(0.01)\n",
    "gr = {}\n",
    "time_vars = [jetTime, jetTime_median,jetTime_deltaRp15, jetTime_max, jetTime_max_deltaRp15]\n",
    "time_xaxis = ['jetTime', 'jetTime_median','jetTime_deltaRp15', 'jetTime_max', 'jetTime_max_deltaRp15']\n",
    "time_legend = ['Energy weighted time, #Delta R = 0.4','Rechit time_{median}, #Delta R = 0.4','Energy weighted time, #Delta R = 0.15',\n",
    "              'Rechit time_{max E}, #Delta R = 0.4','Rechit time_{max E}, #Delta R = 0.15']\n",
    "\n",
    "\n",
    "\n",
    "# time_vars = [jet_frac_energy]\n",
    "# time_xaxis = ['jet_frac_energy']\n",
    "\n",
    "qcd_key = 'QCD30'\n",
    "sig_k = 'bbbb_mh125_ctau1'\n",
    "for i in range(len(time_vars)):\n",
    "    v = time_vars[i]\n",
    "    eff = {}\n",
    "    thre = np.array(range(1000))/1000.0\n",
    "    thre = np.array(range(2500))/100.0-10\n",
    "#     print(thre)\n",
    "    for k in tree_bkg.keys():\n",
    "        v = time_vars[i][k]\n",
    "        eff[k] = []\n",
    "        for th in thre:\n",
    "            eff[k].append(1.0*np.count_nonzero(v>th)/len(v))\n",
    "        eff[k] = np.array(eff[k])\n",
    "#     Plotting ROC curve\n",
    "    eff[sig_k] = eff[sig_k][np.logical_not(eff[qcd_key] == 0)]\n",
    "    eff[qcd_key] = eff[qcd_key][np.logical_not(eff[qcd_key] == 0)]\n",
    "    print(eff[qcd_key].shape, eff[sig_k].shape)\n",
    "    gr[time_xaxis[i]] = create_TGraph(eff[sig_k],np.reciprocal(eff[qcd_key]),axis_title = ['#epsilon_{sig}','bkg rejection'])\n",
    "    gr[time_xaxis[i]].SetLineColor(std_color_list[i])\n",
    "    gr[time_xaxis[i]].SetLineWidth(2)\n",
    "    gr[time_xaxis[i]].SetMarkerColor(std_color_list[i])\n",
    "\n",
    "    gr[time_xaxis[i]].SetMarkerColor(std_color_list[i])\n",
    "\n",
    "#     gr[name[i]].GetYaxis().SetRangeUser(0,0.3)\n",
    "    gr[time_xaxis[i]].GetXaxis().SetRangeUser(0.0, 1.0)\n",
    "#         gr[name[i]].GetYaxis().SetRangeUser(1.0/np.max(eff['QCD']), 10000)\n",
    "\n",
    "\n",
    "    leg.AddEntry(gr[time_xaxis[i]],time_legend[i])\n",
    "\n",
    "    gr[time_xaxis[i]].Draw('ac' if i==0 else 'c')\n",
    "leg.Draw()\n",
    "c.SetLogy()\n",
    "c.Draw()\n",
    "c.SaveAs('../plots/timing_studies/compare_timing_definition_ROC.png')\n"
   ]
  },
  {
   "cell_type": "markdown",
   "metadata": {},
   "source": [
    "# Check events for rechit time/ energy distribution"
   ]
  },
  {
   "cell_type": "code",
   "execution_count": 385,
   "metadata": {
    "scrolled": false
   },
   "outputs": [
    {
     "name": "stdout",
     "output_type": "stream",
     "text": [
      "27285\n",
      "jetTime 1.0185918\n",
      "jetEnergy 29.055387\n",
      "nRechits 12\n",
      "jet_frac_energy 0.9495813075204332\n",
      "0.0\n",
      "[3.0155715942382812, -0.8260368704795837, -0.7531569004058838, 1.6162186861038208, 4.326637268066406, 1.0614125728607178, 1.6273409128189087, 0.34960806369781494, 1.7754429578781128, 0.7690027952194214, -0.3165435194969177, 3.0800857543945312]\n",
      "[0.7424255609512329, 0.7225093245506287, 0.5291237235069275, 0.5247608423233032, 0.7108287811279297, 4.19246244430542, 0.5402853488922119, 2.088376998901367, 2.2165815830230713, 13.155540466308594, 2.0229697227478027, 1.6095229387283325]\n",
      "[0.3523991873654156, 0.30352967332478015, 0.08632554064477421, 0.04406131751745228, 0.031627575283001905, 0.02700325062445831, 0.03374402632692241, 0.0340167718715798, 0.01855415143725186, 0.00998144584290482, 0.02197204526820826, 0.007642537421898024]\n"
     ]
    },
    {
     "name": "stderr",
     "output_type": "stream",
     "text": [
      "Warning in <TCanvas::Constructor>: Deleting canvas with same name: c\n"
     ]
    },
    {
     "data": {
      "image/png": "[encoded data removed]",
      "text/plain": [
       "<IPython.core.display.Image object>"
      ]
     },
     "metadata": {},
     "output_type": "display_data"
    }
   ],
   "source": [
    "k = 'bbbb_mh125_ctau1'\n",
    "cond = jetTime[k]>-5\n",
    "# cond = np.logical_and()\n",
    "print(np.count_nonzero(cond))\n",
    "rechitsE = jet_rechits_E[k][cond]\n",
    "rechitsT = jet_rechits_T[k][cond]\n",
    "rms = []\n",
    "for i in range(len(rechitsE)):\n",
    "#     print(i,len(rechitsE[i]),np.sum(rechitsE[i]),(np.mean(np.array(rechitsE[i])**2))**0.5,jet_frac_energy[k][cond][i])\n",
    "#     rms.append((np.mean(np.array(rechitsT[i])**2))**0.5/abs(jetTime[k][cond][i]))\n",
    "#     rms.append((np.mean(np.array(rechitsT[i])**2))**0.5)\n",
    "    rms.append((np.mean(np.array(rechitsE[i])**2))**0.5/abs(jetEcalEnergy[k][cond][i]))\n",
    "\n",
    "#     rms.append(abs(np.max(rechitsE[i])-np.min(rechitsE[i]))/np.min(rechitsE[i]))\n",
    "#     rms.append(np.max(rechitsE[i]))\n",
    "\n",
    "index = 0\n",
    "print(\"jetTime\",jetTime[k][cond][index])\n",
    "print(\"jetEnergy\",jetEcalEnergy[k][cond][index])\n",
    "print(\"nRechits\",len(rechitsE[index]))\n",
    "print(\"jet_frac_energy\",jet_frac_energy[k][cond][index])\n",
    "\n",
    "c = rt.TCanvas('c','c', 900, 800)\n",
    "h = {}\n",
    "# leg = rt.TLegend(0.50,0.75,0.97,0.93)\n",
    "leg = rt.TLegend(0.40,0.75,0.95,0.93)\n",
    "leg.SetTextSize(0.022)\n",
    "# leg.SetTextFont(42)\n",
    "leg.SetEntrySeparation(0.01)\n",
    "\n",
    "\n",
    "bins = [50,-5,10]\n",
    "# h['time'] = create_TH1D(rechitsT[index],axis_title = ['jet time [ns]','Events'], binning=bins)\n",
    "# h[k] = create_TH1D(rechitsE[index],axis_title = ['jet ECAL Energy [GeV]','Events'], binning=bins)\n",
    "# h[k] = create_TH2D(np.column_stack((rms,jetTime[k][cond])), axis_title = ['time rms fraction','jet time [ns]','Events'], binning=[50,0,10,50,-10,10])\n",
    "# h[k] = create_TH1D(rms,axis_title = ['time rms fraction','Events'], binning=bins)\n",
    "h[k] = create_TH1D(rms,axis_title = ['time rms fraction','Events'], binning=[50,0,0.5])\n",
    "\n",
    "rms = np.array(rms)\n",
    "# print(rms)\n",
    "print(1.0*np.count_nonzero(rms[rms>1.5])/len(rms))\n",
    "h[k].Draw('colz')\n",
    "print(rechitsT[index])\n",
    "print(rechitsE[index])\n",
    "print(rechit_deltaR[k][cond][index])\n",
    "# leg.Draw()\n",
    "c.SetLogz()\n",
    "c.Draw()\n",
    "\n"
   ]
  },
  {
   "cell_type": "code",
   "execution_count": 383,
   "metadata": {
    "scrolled": false
   },
   "outputs": [
    {
     "name": "stdout",
     "output_type": "stream",
     "text": [
      "1688\n",
      "jetTime 1.6058458\n",
      "jetEnergy 12.07099\n",
      "nRechits 7\n",
      "jet_frac_energy 0.9576959484015216\n",
      "0.0\n",
      "[2.473742961883545, 0.11693525314331055, 1.4643317461013794, 0.8658785820007324, 6.129714012145996, 2.5039796829223633, 3.4227890968322754]\n",
      "[1.1570806503295898, 1.6595872640609741, 1.8550059795379639, 4.4597344398498535, 0.5106512904167175, 1.8437222242355347, 0.5852072834968567]\n",
      "[0.1425426676670716, 0.0875452279926912, 0.10781184918964393, 0.07003191374703198, 0.3056995088768039, 0.08694100801077446, 0.13344006819425375]\n"
     ]
    },
    {
     "name": "stderr",
     "output_type": "stream",
     "text": [
      "Warning in <TCanvas::Constructor>: Deleting canvas with same name: c\n",
      "Warning in <TROOT::Append>: Replacing existing TH1: h (Potential memory leak).\n"
     ]
    },
    {
     "data": {
      "image/png": "[encoded data removed]",
      "text/plain": [
       "<IPython.core.display.Image object>"
      ]
     },
     "metadata": {},
     "output_type": "display_data"
    }
   ],
   "source": [
    "k = 'QCD30'\n",
    "cond = jetTime[k]>1.5\n",
    "# cond = np.logical_and()\n",
    "print(np.count_nonzero(cond))\n",
    "rechitsE = jet_rechits_E[k][cond]\n",
    "rechitsT = jet_rechits_T[k][cond]\n",
    "rms = []\n",
    "for i in range(len(rechitsE)):\n",
    "#     print(len(rechitsE[i]),np.sum(rechitsE[i]),(np.mean(np.array(rechitsE[i])**2))**0.5,jet_frac_energy[k][cond][i])\n",
    "#     rms.append((np.mean(np.array(rechitsT[i])**2))**0.5/abs(jetTime[k][cond][i]))\n",
    "    rms.append((np.mean(np.array(rechitsE[i])**2))**0.5/abs(jetEcalEnergy[k][cond][i]))\n",
    "\n",
    "#     rms.append((np.mean(np.array(rechitsT[i])**2))**0.5)\n",
    "#     rms.append(abs(np.max(rechitsE[i])-np.min(rechitsE[i]))/np.min(rechitsE[i]))\n",
    "\n",
    "#     rms.append((np.mean(np.array(rechitsE[i])**2))**0.5)\n",
    "#     rms.append(np.max(rechitsE[i]))\n",
    "\n",
    "#     rms.append(abs(np.max(rechitsE[i])-np.min(rechitsE[i]))/np.min(rechitsE[i]))\n",
    "index = 0\n",
    "print(\"jetTime\",jetTime[k][cond][index])\n",
    "print(\"jetEnergy\",jetEcalEnergy[k][cond][index])\n",
    "print(\"nRechits\",len(rechitsE[index]))\n",
    "print(\"jet_frac_energy\",jet_frac_energy[k][cond][index])\n",
    "\n",
    "c = rt.TCanvas('c','c', 900, 800)\n",
    "h = {}\n",
    "# leg = rt.TLegend(0.50,0.75,0.97,0.93)\n",
    "leg = rt.TLegend(0.40,0.75,0.95,0.93)\n",
    "leg.SetTextSize(0.022)\n",
    "# leg.SetTextFont(42)\n",
    "leg.SetEntrySeparation(0.01)\n",
    "\n",
    "\n",
    "bins = [50,-5,10]\n",
    "# h['time'] = create_TH1D(rechitsT[index],axis_title = ['jet time [ns]','Events'], binning=bins)\n",
    "# h[k] = create_TH1D(rechitsE[index],axis_title = ['jet ECAL Energy [GeV]','Events'], binning=bins)\n",
    "# h[k] = create_TH1D(jetEcalEnergy[k][cond],axis_title = ['jet ECAL Energy [GeV]','Events'], binning=[50,0,50])\n",
    "\n",
    "# h[k] = create_TH1D(rms,axis_title = ['rechit energy rms [GeV]','Events'], binning=[50,0,5])\n",
    "# h[k] = create_TH2D(np.column_stack((rms,jetTime[k][cond])), axis_title = ['time rms fraction','jet time [ns]','Events'], binning=[50,0,10,50,-10,10])\n",
    "h[k] = create_TH1D(rms,axis_title = ['time rms fraction','Events'], binning=bins)\n",
    "h[k] = create_TH1D(rms,axis_title = ['time rms fraction','Events'], binning=[50,0,0.5])\n",
    "\n",
    "rms = np.array(rms)\n",
    "# print(rms)\n",
    "print(1.0*np.count_nonzero(rms[rms>1.5])/len(rms))\n",
    "h[k].Draw('colz')\n",
    "print(rechitsT[index])\n",
    "print(rechitsE[index])\n",
    "print(rechit_deltaR[k][cond][index])\n",
    "# leg.Draw()\n",
    "c.SetLogz()\n",
    "c.Draw()\n"
   ]
  },
  {
   "cell_type": "code",
   "execution_count": null,
   "metadata": {},
   "outputs": [],
   "source": []
  }
 ],
 "metadata": {
  "kernelspec": {
   "display_name": "Python 2",
   "language": "python",
   "name": "python2"
  },
  "language_info": {
   "codemirror_mode": {
    "name": "ipython",
    "version": 3
   },
   "file_extension": ".py",
   "mimetype": "text/x-python",
   "name": "python",
   "nbconvert_exporter": "python",
   "pygments_lexer": "ipython3",
   "version": "3.6.8"
  }
 },
 "nbformat": 4,
 "nbformat_minor": 2
}
