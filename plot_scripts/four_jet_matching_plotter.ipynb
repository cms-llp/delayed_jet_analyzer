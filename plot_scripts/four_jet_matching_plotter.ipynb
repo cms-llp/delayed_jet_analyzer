{
 "cells": [
  {
   "cell_type": "code",
   "execution_count": 1,
   "metadata": {},
   "outputs": [
    {
     "name": "stdout",
     "output_type": "stream",
     "text": [
      "Welcome to JupyROOT 6.13/02\n"
     ]
    }
   ],
   "source": [
    "import ROOT as rt\n",
    "import root_numpy as rtnp\n",
    "import numpy as np\n",
    "from matplotlib import pyplot as plt\n",
    "from histo_utilities import create_TH1D, create_TH2D, std_color_list\n",
    "from array import array\n",
    "\n",
    "import CMS_lumi, tdrstyle\n",
    "tdrstyle.setTDRStyle()\n",
    "CMS_lumi.writeExtraText = 1\n",
    "CMS_lumi.extraText = \"     Simulation Preliminary\"\n",
    "\n",
    "donotdelete = []"
   ]
  },
  {
   "cell_type": "code",
   "execution_count": 2,
   "metadata": {
    "scrolled": false
   },
   "outputs": [
    {
     "name": "stdout",
     "output_type": "stream",
     "text": [
      "m500ctau1000 /home/cms/Desktop/LLP/jetNtuple_4jet/jetNtuple_M-500_CTau-1000mm.root\n",
      "[527.2854  412.97708]\n"
     ]
    }
   ],
   "source": [
    "fpath = {}\n",
    "tree = {}\n",
    "process = {}\n",
    "process_short = {}\n",
    "\n",
    "fpath['m500ctau1000'] = '/home/cms/Desktop/LLP/jetNtuple_4jet/jetNtuple_M-500_CTau-1000mm.root'\n",
    "# fpath['m500ctau30'] = '/home/cms/Desktop/LLP/jetNtuple_4jet/jetNtuple_M-500_CTau-30mm.root'\n",
    "# fpath['QCD300to500'] = '/home/cms/Desktop/LLP/jetNtuple_4jet/jetNtuple_QCD_HT300to500.root'\n",
    "\n",
    "legend = {'m500ctau1000', 'Mass = 500 GeV, ctau = 1 m'}\n",
    "\n",
    "for k,v in fpath.iteritems():\n",
    "    print k, v\n",
    "    tree[k] = rtnp.root2array(v)\n",
    "    #tree[k] = rtnp.tree2array(v)\n",
    "    #jet_max_pt_array = [np.max(x) for x in tree[k][\"jetPt\"]]\n",
    "    a = tree[k][\"jetPt\"]\n",
    "    print a[:-1][0]"
   ]
  },
  {
   "cell_type": "code",
   "execution_count": 4,
   "metadata": {},
   "outputs": [
    {
     "name": "stdout",
     "output_type": "stream",
     "text": [
      "number of events:10000\n"
     ]
    }
   ],
   "source": [
    "T = tree['m500ctau1000']\n",
    "print(\"number of events:\"+str(len(T)))\n",
    "# T30 = tree['m500ctau30']\n",
    "# QCD = tree['QCD300to500']"
   ]
  },
  {
   "cell_type": "markdown",
   "metadata": {},
   "source": [
    "# Check PV"
   ]
  },
  {
   "cell_type": "code",
   "execution_count": 21,
   "metadata": {
    "scrolled": false
   },
   "outputs": [
    {
     "name": "stderr",
     "output_type": "stream",
     "text": [
      "Warning in <TCanvas::Constructor>: Deleting canvas with same name: c\n"
     ]
    },
    {
     "data": {
      "image/png": "[encoded data removed]",
      "text/plain": [
       "<IPython.core.display.Image object>"
      ]
     },
     "metadata": {},
     "output_type": "display_data"
    }
   ],
   "source": [
    "genX = np.array([x for x in T['genVertexX']])\n",
    "llp_prod_x = np.array([x[0] for x in T['gLLP_prod_vertex_x']])\n",
    "pvX = np.array(T['pvX'])\n",
    "genY = np.array([x for x in T['genVertexY']])\n",
    "llp_prod_y = np.array([x[0] for x in T['gLLP_prod_vertex_y']])\n",
    "pvY = np.array(T['pvY'])\n",
    "genZ= np.array([x for x in T['genVertexZ']])\n",
    "\n",
    "llp_prod_z = np.array([x[0] for x in T['gLLP_prod_vertex_z']])\n",
    "pvZ = np.array(T['pvZ'])\n",
    "\n",
    "c = rt.TCanvas('c','c', 800, 600)\n",
    "h = {}\n",
    "\n",
    "h['pvX'] = create_TH1D( genX, axis_title=['gen PV', 'Events'], name='pvX', binning=[100,-0.01,0.01])\n",
    "h['pvX'].SetLineColor(1)\n",
    "h['pvY'] = create_TH1D( genY, axis_title=['gen PV', 'Events'], name='pvY', binning=[100,-0.01,0.01])\n",
    "h['pvY'].SetLineColor(2)\n",
    "h['pvZ'] = create_TH1D( genZ, axis_title=['gen PV', 'Events'], name='pvZ', binning=[100,-15,15])\n",
    "h['pvZ'].SetLineColor(3)\n",
    "\n",
    "# h['pvZ'].DrawNormalized('')\n",
    "# h['pvY'].DrawNormalized('same')\n",
    "h['pvZ'].Draw('')\n",
    "leg = rt.TLegend(0.2,0.65,0.45,0.92)\n",
    "# leg.SetTextFont(42)\n",
    "leg.SetTextSize(0.03)\n",
    "leg.SetEntrySeparation(0.01)\n",
    "leg.AddEntry(h['pvX'],\"x-direction\")\n",
    "leg.AddEntry(h['pvY'],\"y-direction\")\n",
    "leg.AddEntry(h['pvZ'],\"z-direction\")\n",
    "leg.Draw()\n",
    "\n",
    "c.Draw()\n",
    "# c.SaveAs(\"pvX.pdf\")"
   ]
  },
  {
   "cell_type": "code",
   "execution_count": 22,
   "metadata": {},
   "outputs": [
    {
     "name": "stdout",
     "output_type": "stream",
     "text": [
      "10000\n",
      "3562\n"
     ]
    }
   ],
   "source": [
    "#get max jet pt per event, also jet[0]\n",
    "max_jet_pt = np.array([np.max(x) if len(x) else -1 for x in T['jetPt']])\n",
    "max_jet_ecal_energy = np.array([x[0] if len(x) else -1 for x in T['jet_rechit_E']])\n",
    "max_jet_ecal_energy1 = np.array([x[0] if len(x) else -1 for x in T['jet_rechit_E_Ecut1']])\n",
    "max_jet_ecal_energy2 = np.array([x[0] if len(x) else -1 for x in T['jet_rechit_E_Ecut2']])\n",
    "\n",
    "assert(len(max_jet_ecal_energy) == len(max_jet_pt))\n",
    "print(len(max_jet_ecal_energy))\n",
    "print(len(max_jet_pt[max_jet_ecal_energy<50]))\n",
    "# print max_jet_pt"
   ]
  },
  {
   "cell_type": "markdown",
   "metadata": {},
   "source": [
    "# Check matching between genParticles with genJets"
   ]
  },
  {
   "cell_type": "code",
   "execution_count": 23,
   "metadata": {},
   "outputs": [
    {
     "name": "stdout",
     "output_type": "stream",
     "text": [
      "11667\n",
      "0.919059955588453\n"
     ]
    },
    {
     "name": "stderr",
     "output_type": "stream",
     "text": [
      "Warning in <TCanvas::Constructor>: Deleting canvas with same name: c\n",
      "Info in <TCanvas::Print>: pdf file match_efficiency_genJets.pdf has been created\n"
     ]
    },
    {
     "data": {
      "image/png": "[encoded data removed]",
      "text/plain": [
       "<IPython.core.display.Image object>"
      ]
     },
     "metadata": {},
     "output_type": "display_data"
    }
   ],
   "source": [
    "gLLP_daughter_match_genJet_index=T['gLLP_daughter_match_genJet_index']\n",
    "# gLLP_daughter_match_jet_index = T['gLLP_daughter_match_jet_index']\n",
    "daughter_eta =  T['gLLP_daughter_eta']\n",
    "gLLP_daughter_travel_time = T['gLLP_daughter_travel_time']\n",
    "eventNum = T['eventNum']\n",
    "# number of matched/barrel jets for each LLP\n",
    "# matched_jets.shape = (events,2)\n",
    "matched_jets = np.logical_and(np.logical_not( gLLP_daughter_travel_time == -666), np.logical_not( gLLP_daughter_match_genJet_index == 666))\n",
    "matched_genjets_perllp = np.column_stack((np.count_nonzero(matched_jets[:,:2],axis=1),np.count_nonzero(matched_jets[:,2:],axis=1)))\n",
    "# print(matched_genjets_perllp.shape)\n",
    "LLP_daughter_barrel = np.logical_not( gLLP_daughter_travel_time == -666) #shape: (events, 4)\n",
    "barrel_daughter_perllp = np.column_stack((np.count_nonzero(LLP_daughter_barrel[:,:2],axis=1),np.count_nonzero(LLP_daughter_barrel[:,2:],axis=1)))\n",
    "# now both matched_jets_perllp and barrel_jets_perllp are flattened with shape: (LLP#, )\n",
    "# gLLP_decay_radius and match_efficiency also have shape (LLP#,)\n",
    "matched_genjets_perllp = matched_genjets_perllp[barrel_daughter_perllp>0]\n",
    "barrel_daughter_perllp = barrel_daughter_perllp [barrel_daughter_perllp > 0]\n",
    "assert(matched_genjets_perllp.shape == barrel_daughter_perllp.shape)\n",
    "\n",
    "\n",
    "match_genjet_efficiency = np.divide(1.0* matched_genjets_perllp , barrel_daughter_perllp) #match efficiency for each LLP\n",
    "#     print(np.count_nonzero(barrel_jets_perevent),np.count_nonzero(matched_jets_perevent))\n",
    "\n",
    "\n",
    "c = rt.TCanvas('c','c', 800, 600)\n",
    "h = {}\n",
    "leg = rt.TLegend(0.2,0.65,0.55,0.92)\n",
    "# leg.SetTextFont(42)\n",
    "leg.SetTextSize(0.03)\n",
    "leg.SetEntrySeparation(0.01)\n",
    "h['match_efficiency'] = create_TH1D( match_genjet_efficiency, axis_title=['Match genJet Efficiency', 'Percentage of matched jets'], name='match_efficiency', binning=[3,0,1.5])\n",
    "h['match_efficiency'].SetLineColor(2)\n",
    "\n",
    "# c.SetLogy()\n",
    "print(np.count_nonzero(match_genjet_efficiency==1))\n",
    "print(np.sum(match_genjet_efficiency)/np.size(match_genjet_efficiency))\n",
    "\n",
    "h['match_efficiency'].DrawNormalized()\n",
    "# leg.Draw()\n",
    "c.Draw()\n",
    "c.SaveAs(\"match_efficiency_genJets.pdf\")"
   ]
  },
  {
   "cell_type": "markdown",
   "metadata": {},
   "source": [
    "# Matching between gen jets and reco jets"
   ]
  },
  {
   "cell_type": "code",
   "execution_count": 24,
   "metadata": {},
   "outputs": [
    {
     "name": "stderr",
     "output_type": "stream",
     "text": [
      "Warning in <TCanvas::Constructor>: Deleting canvas with same name: c\n",
      "Info in <TCanvas::Print>: pdf file match_efficiency_genJets_reco.pdf has been created\n"
     ]
    },
    {
     "data": {
      "image/png": "[encoded data removed]",
      "text/plain": [
       "<IPython.core.display.Image object>"
      ]
     },
     "metadata": {},
     "output_type": "display_data"
    }
   ],
   "source": [
    "genJet_match_jet_index = np.array(T['genJet_match_jet_index'])\n",
    "nGenJets = np.array(T['nGenJets'])\n",
    "min_deltar=T['genJet_min_delta_r_match_jet']\n",
    "matchedNum = []\n",
    "eventNum = T['eventNum']\n",
    "for i in range(len(T['genJet_match_jet_index'])):\n",
    "    genJets_index = T['genJet_match_jet_index'][i]\n",
    "    matched = np.logical_not( genJets_index == 666)\n",
    "    matched_jets = np.count_nonzero(matched)\n",
    "    unmatched_jets = np.count_nonzero(matched==0)\n",
    "    matchedNum.append(matched_jets*1.0/nGenJets[i])\n",
    "    assert(matched_jets+unmatched_jets == nGenJets[i])\n",
    "    \n",
    "    \n",
    "    \n",
    "c = rt.TCanvas('c','c', 800, 600)\n",
    "h = {}\n",
    "leg = rt.TLegend(0.2,0.65,0.55,0.92)\n",
    "# leg.SetTextFont(42)\n",
    "leg.SetTextSize(0.03)\n",
    "leg.SetEntrySeparation(0.01)\n",
    "h['match_efficiency'] = create_TH1D( matchedNum, axis_title=['Match Efficiency', 'Percentage of matched jets'], name='match_efficiency', binning=[20,0,1.5])\n",
    "h['match_efficiency'].SetLineColor(2)\n",
    "\n",
    "# c.SetLogy()\n",
    "# h['match_efficiency2'].GetYaxis().SetRangeUser(0,1.0)\n",
    "\n",
    "h['match_efficiency'].Draw()\n",
    "# leg.Draw()\n",
    "c.Draw()\n",
    "c.SaveAs(\"match_efficiency_genJets_reco.pdf\")"
   ]
  },
  {
   "cell_type": "markdown",
   "metadata": {},
   "source": [
    "# Matched Jets and how they change with LLP decay radius"
   ]
  },
  {
   "cell_type": "code",
   "execution_count": 34,
   "metadata": {},
   "outputs": [
    {
     "name": "stdout",
     "output_type": "stream",
     "text": [
      "Fraction of barrel jets: 0.5905\n",
      "Fraction of endcap jets: 0.4095\n",
      "Fraction of barrel-barrel: 0.5055\n",
      "Fraction of barrel-endcap: 0.17\n",
      "Fraction of endcap-endcap: 0.3245\n",
      "mean matching efficiency per event: 0.8518634721429931\n",
      "mean matching efficiency per llp: 0.8493338267949667\n"
     ]
    }
   ],
   "source": [
    "# Create 2d numpy array matched-jets vs. LLP decay radius\n",
    "# matched_jet = np.array([4-np.count_nonzero(x == 666) if len(x) else -1 for x in T['gLLP_daughter_match_jet_index']])\n",
    "\n",
    "match_efficiency_llp_dict = {}\n",
    "gLLP_decay_radius_dict = {}\n",
    "gLLP_decay_distance_dict = {}\n",
    "gLLP_decay_z_dict = {}\n",
    "matched_jets_perllp_dict = {}\n",
    "barrel_jets_perllp_dict = {}\n",
    "loosematched_jets_perllp_dict = {}\n",
    "hcalmatched_jets_perllp_dict = {}\n",
    "hcalloosematched_jets_perllp_dict = {}\n",
    "match_efficiency_event = {}\n",
    "for k,T in tree.items():\n",
    "    gLLP_decay_radius = np.sqrt(np.square(T['gLLP_decay_vertex_x']-T['gLLP_prod_vertex_x'])+np.square(T['gLLP_decay_vertex_y']-T['gLLP_prod_vertex_y'])) # (events, 2) 2LLP\n",
    "    gLLP_decay_z = np.absolute(T['gLLP_decay_vertex_z']-T['gLLP_prod_vertex_z'])\n",
    "    gLLP_decay_distance = np.sqrt(np.square(T['gLLP_decay_vertex_x']-T['gLLP_prod_vertex_x'])+np.square(T['gLLP_decay_vertex_y']-T['gLLP_prod_vertex_y'])+np.square(T['gLLP_decay_vertex_z']-T['gLLP_prod_vertex_z']))\n",
    "# gLLP_decay_radius = np.reshape(gLLP_decay_radius,(-1,1)) # flatten (2*events, 1)\n",
    "#     gLLP_daughter_match_jet_index = T['gLLP_daughter_match_jet_index']\n",
    "    gLLP_daughter_match_jet_index = T['gLLP_daughter_match_jet_index']\n",
    "    gLLP_daughter_match_jet_index_hcal = T['gLLP_daughter_match_jet_index_hcal']\n",
    "    gLLP_daughter_match_jet_index_loose = T['gLLP_daughter_match_jet_index_loose']\n",
    "    gLLP_daughter_match_jet_index_hcalloose = T['gLLP_daughter_match_jet_index_hcal_loose']\n",
    "\n",
    "    gLLP_daughter_travel_time = T['gLLP_daughter_travel_time']\n",
    "    eventNum = T['eventNum']\n",
    "    # number of matched/barrel jets for each LLP\n",
    "    # matched_jets.shape = (events,2)\n",
    "\n",
    "    matched_jets = np.logical_and(np.logical_not( gLLP_daughter_travel_time == -666), np.logical_not( gLLP_daughter_match_jet_index == 666))\n",
    "    matched_jets_perllp = np.column_stack((np.count_nonzero(matched_jets[:,:2],axis=1),np.count_nonzero(matched_jets[:,2:],axis=1)))\n",
    "    \n",
    "    loosematched_jets = np.logical_and(np.logical_not( gLLP_daughter_travel_time == -666), np.logical_not( gLLP_daughter_match_jet_index_loose == 666))\n",
    "    loosematched_jets_perllp = np.column_stack((np.count_nonzero(loosematched_jets[:,:2],axis=1),np.count_nonzero(loosematched_jets[:,2:],axis=1)))\n",
    "\n",
    "    hcalmatched_jets = np.logical_and(np.logical_not( gLLP_daughter_travel_time == -666), np.logical_not( gLLP_daughter_match_jet_index_hcal == 666))\n",
    "    hcalmatched_jets_perllp = np.column_stack((np.count_nonzero(hcalmatched_jets[:,:2],axis=1),np.count_nonzero(hcalmatched_jets[:,2:],axis=1)))\n",
    "\n",
    "    hcalloosematched_jets = np.logical_and(np.logical_not( gLLP_daughter_travel_time == -666), np.logical_not( gLLP_daughter_match_jet_index_hcalloose == 666))\n",
    "    hcalloosematched_jets_perllp = np.column_stack((np.count_nonzero(hcalloosematched_jets[:,:2],axis=1),np.count_nonzero(hcalloosematched_jets[:,2:],axis=1)))\n",
    "\n",
    "    matched_jets_perevent = np.count_nonzero(matched_jets,axis=1)\n",
    "    # barrel_jets.shape = (events,2)\n",
    "    LLP_daughter_barrel = np.logical_not( gLLP_daughter_travel_time == -666) #shape: (events, 4)\n",
    "    barrel_jets_perllp = np.column_stack((np.count_nonzero(LLP_daughter_barrel[:,:2],axis=1),np.count_nonzero(LLP_daughter_barrel[:,2:],axis=1)))\n",
    "    barrel_jets_perevent = np.count_nonzero(LLP_daughter_barrel,axis=1)\n",
    "\n",
    "    # now both matched_jets_perllp and barrel_jets_perllp are flattened with shape: (LLP#, )\n",
    "    # gLLP_decay_radius and match_efficiency also have shape (LLP#,)\n",
    "    \n",
    "    print(\"Fraction of barrel jets: \"+str(1.0*np.count_nonzero(LLP_daughter_barrel)/np.size(LLP_daughter_barrel)))\n",
    "    print(\"Fraction of endcap jets: \"+str(1.0*np.count_nonzero(LLP_daughter_barrel==0)/np.size(LLP_daughter_barrel)))\n",
    "    print(\"Fraction of barrel-barrel: \"+str(1.0*np.count_nonzero(barrel_jets_perllp==2)/np.size(barrel_jets_perllp)))\n",
    "    print(\"Fraction of barrel-endcap: \"+str(1.0*np.count_nonzero(barrel_jets_perllp==1)/np.size(barrel_jets_perllp)))\n",
    "    print(\"Fraction of endcap-endcap: \"+str(1.0*np.count_nonzero(barrel_jets_perllp==0)/np.size(barrel_jets_perllp)))\n",
    "    assert (np.count_nonzero(barrel_jets_perllp==2)+np.count_nonzero(barrel_jets_perllp==1)+np.count_nonzero(barrel_jets_perllp==0)==np.size(barrel_jets_perllp))\n",
    "    assert(np.count_nonzero(LLP_daughter_barrel)+np.count_nonzero(LLP_daughter_barrel==0)==np.size(LLP_daughter_barrel))\n",
    "    \n",
    "    #2D histograms\n",
    "    hcalloosematched_jets_perllp = hcalloosematched_jets_perllp.flatten('F')\n",
    "    loosematched_jets_perllp = loosematched_jets_perllp.flatten('F')\n",
    "    hcalmatched_jets_perllp = hcalmatched_jets_perllp.flatten('F')\n",
    "    barrel_jets_perllp = barrel_jets_perllp.flatten('F')\n",
    "    matched_jets_perllp = matched_jets_perllp.flatten('F')\n",
    "    gLLP_decay_radius = gLLP_decay_radius.flatten('F')\n",
    "    gLLP_decay_z = gLLP_decay_z.flatten('F')\n",
    "    gLLP_decay_distance = gLLP_decay_distance.flatten('F')\n",
    "\n",
    "    # get rid of the 0 denominators\n",
    "    hcalloosematched_jets_perllp = hcalloosematched_jets_perllp[barrel_jets_perllp>0]\n",
    "    loosematched_jets_perllp = loosematched_jets_perllp[barrel_jets_perllp>0]\n",
    "    hcalmatched_jets_perllp = hcalmatched_jets_perllp[barrel_jets_perllp > 0]\n",
    "    matched_jets_perllp = matched_jets_perllp[barrel_jets_perllp>0]\n",
    "    gLLP_decay_radius = gLLP_decay_radius[barrel_jets_perllp > 0] #llp decay radius of llp with at least one barrel\n",
    "    gLLP_decay_z = gLLP_decay_z[barrel_jets_perllp > 0] #llp decay radius of llp with at least one barrel\n",
    "    gLLP_decay_distance = gLLP_decay_distance[barrel_jets_perllp > 0] #llp decay radius of llp with at least one barrel\n",
    "    barrel_jets_perllp = barrel_jets_perllp [barrel_jets_perllp > 0]\n",
    "    assert(matched_jets_perllp.shape == gLLP_decay_radius.shape == barrel_jets_perllp.shape)\n",
    "    \n",
    "    \n",
    "    # add to dictionary\n",
    "    barrel_jets_perllp_dict[k] = barrel_jets_perllp\n",
    "    matched_jets_perllp_dict[k] = matched_jets_perllp\n",
    "    hcalmatched_jets_perllp_dict[k] = hcalmatched_jets_perllp\n",
    "    loosematched_jets_perllp_dict[k] = loosematched_jets_perllp\n",
    "    hcalloosematched_jets_perllp_dict[k] = hcalloosematched_jets_perllp\n",
    "    match_efficiency_llp_dict[k] = np.divide(1.0* matched_jets_perllp , barrel_jets_perllp) #match efficiency for each LLP\n",
    "    gLLP_decay_radius_dict[k] = gLLP_decay_radius\n",
    "    gLLP_decay_z_dict[k] = gLLP_decay_z\n",
    "    gLLP_decay_distance_dict[k] = gLLP_decay_distance\n",
    "    \n",
    "    ## per event\n",
    "    eventNum = eventNum [barrel_jets_perevent > 0]\n",
    "    matched_jets_perevent = matched_jets_perevent[barrel_jets_perevent>0]\n",
    "    barrel_jets_perevent = barrel_jets_perevent [barrel_jets_perevent>0]\n",
    "    eventNum = eventNum [np.logical_and(matched_jets_perevent==0 , barrel_jets_perevent ==4) ] #print event numbers\n",
    "   \n",
    "    \n",
    "    \n",
    "    assert(barrel_jets_perevent.shape == matched_jets_perevent.shape)\n",
    "    match_efficiency_event[k] = np.divide(1.0* matched_jets_perevent , barrel_jets_perevent) #match efficiency for each LLP\n",
    "    print('mean matching efficiency per event: '+ str(np.mean(match_efficiency_event[k])))\n",
    "    print('mean matching efficiency per llp: '+ str(np.mean(match_efficiency_llp_dict[k])))\n",
    "\n"
   ]
  },
  {
   "cell_type": "markdown",
   "metadata": {},
   "source": [
    "# Plot matched jet efficiency vs LLP decay radius"
   ]
  },
  {
   "cell_type": "code",
   "execution_count": 39,
   "metadata": {},
   "outputs": [
    {
     "name": "stderr",
     "output_type": "stream",
     "text": [
      "Warning in <TCanvas::Constructor>: Deleting canvas with same name: c\n",
      "Info in <TCanvas::Print>: pdf file ../plots/llp_decay_radius.pdf has been created\n"
     ]
    },
    {
     "data": {
      "image/png": "[encoded data removed]",
      "text/plain": [
       "<IPython.core.display.Image object>"
      ]
     },
     "metadata": {},
     "output_type": "display_data"
    }
   ],
   "source": [
    "# LLP decay radius of the matched jets\n",
    "c = rt.TCanvas('c','c', 800, 600)\n",
    "h = {}\n",
    "h['llp_decayR'] = create_TH1D(gLLP_decay_radius_dict['m500ctau1000'], axis_title=['LLP decay radius', 'events'], name='llp_decayR', binning=[200,0,200])\n",
    "h['llp_decayR'].SetLineColor(4)\n",
    "c.SetLogy()\n",
    "h['llp_decayR'].Draw()\n",
    "c.Draw()\n",
    "c.SaveAs(\"../plots/llp_decay_radius.pdf\")"
   ]
  },
  {
   "cell_type": "code",
   "execution_count": 41,
   "metadata": {},
   "outputs": [
    {
     "name": "stderr",
     "output_type": "stream",
     "text": [
      "Warning in <TCanvas::Constructor>: Deleting canvas with same name: c1\n",
      "Warning in <TROOT::Append>: Replacing existing TH1: h (Potential memory leak).\n",
      "Warning in <TROOT::Append>: Replacing existing TH1: h (Potential memory leak).\n",
      "Info in <TEfficiency::TEfficiency>: given histograms are filled with weights\n",
      "Info in <TROOT::TEfficiency::SetUseWeightedEvents>: Handle weighted events for computing efficiency\n",
      "Warning in <TROOT::Append>: Replacing existing TH1: h (Potential memory leak).\n",
      "Warning in <TROOT::Append>: Replacing existing TH1: h (Potential memory leak).\n",
      "Info in <TEfficiency::TEfficiency>: given histograms are filled with weights\n",
      "Info in <TROOT::TEfficiency::SetUseWeightedEvents>: Handle weighted events for computing efficiency\n",
      "Warning in <TROOT::Append>: Replacing existing TH1: h (Potential memory leak).\n",
      "Warning in <TROOT::Append>: Replacing existing TH1: h (Potential memory leak).\n",
      "Info in <TEfficiency::TEfficiency>: given histograms are filled with weights\n",
      "Info in <TROOT::TEfficiency::SetUseWeightedEvents>: Handle weighted events for computing efficiency\n",
      "Warning in <TROOT::Append>: Replacing existing TH1: h (Potential memory leak).\n",
      "Warning in <TROOT::Append>: Replacing existing TH1: h (Potential memory leak).\n",
      "Info in <TEfficiency::TEfficiency>: given histograms are filled with weights\n",
      "Info in <TROOT::TEfficiency::SetUseWeightedEvents>: Handle weighted events for computing efficiency\n",
      "Warning in <TEfficiency::GetEfficiencyErrorLow>: frequentist confidence intervals for weights are only supported by the normal approximation\n",
      "Info in <TEfficiency::GetEfficiencyErrorLow>: setting statistic option to kFNormal\n",
      "Warning in <TEfficiency::GetEfficiencyErrorLow>: frequentist confidence intervals for weights are only supported by the normal approximation\n",
      "Info in <TEfficiency::GetEfficiencyErrorLow>: setting statistic option to kFNormal\n",
      "Warning in <TEfficiency::GetEfficiencyErrorLow>: frequentist confidence intervals for weights are only supported by the normal approximation\n",
      "Info in <TEfficiency::GetEfficiencyErrorLow>: setting statistic option to kFNormal\n",
      "Info in <TCanvas::Print>: pdf file ../plots/efficiency_compare_llpz.pdf has been created\n"
     ]
    },
    {
     "data": {
      "image/png": "[encoded data removed]",
      "text/plain": [
       "<IPython.core.display.Image object>"
      ]
     },
     "metadata": {},
     "output_type": "display_data"
    }
   ],
   "source": [
    "c = rt.TCanvas('c1','c1', 800, 600)\n",
    "leg = rt.TLegend(0.65,0.77,0.95,0.94)\n",
    "# leg.SetTextFont(42)\n",
    "leg.SetTextSize(0.03)\n",
    "leg.SetEntrySeparation(0.01)\n",
    "# # Create 2d numpy array matched-jets vs. LLP decay radius\n",
    "efficiency_plot= []\n",
    "\n",
    "h = {}\n",
    "pEff = []\n",
    "xaxis = gLLP_decay_z_dict['m500ctau1000']\n",
    "xaxis_title = 'LLP decay z[cm]'\n",
    "k = 'm500ctau1000'\n",
    "hm = create_TH1D(xaxis, axis_title = [xaxis_title,'Matching Efficiency'], binning=[80,0,2000],weights = matched_jets_perllp_dict[k])\n",
    "hb = create_TH1D(xaxis, axis_title = [xaxis_title,'Matching Efficiency'], binning=[80,0,2000],weights = barrel_jets_perllp_dict[k])\n",
    "pEff_ecal = rt.TEfficiency(hm,hb)\n",
    "\n",
    "hmh = create_TH1D(xaxis, axis_title = [xaxis_title,'Matching Efficiency'], binning=[80,0,2000],weights = hcalmatched_jets_perllp_dict[k])\n",
    "hbh = create_TH1D(xaxis, axis_title = [xaxis_title,'Matching Efficiency'], binning=[80,0,2000],weights = barrel_jets_perllp_dict[k])\n",
    "pEff_hcal = rt.TEfficiency(hmh,hbh)\n",
    "\n",
    "hml = create_TH1D(xaxis, axis_title = [xaxis_title,'Matching Efficiency'], binning=[80,0,2000],weights = loosematched_jets_perllp_dict[k])\n",
    "hbl = create_TH1D(xaxis, axis_title = [xaxis_title,'Matching Efficiency'], binning=[80,0,2000],weights = barrel_jets_perllp_dict[k])\n",
    "pEff_loose = rt.TEfficiency(hml,hbl)\n",
    "\n",
    "hmhl = create_TH1D(xaxis, axis_title = [xaxis_title,'Matching Efficiency'], binning=[80,0,2000],weights = hcalloosematched_jets_perllp_dict[k])\n",
    "hbhl = create_TH1D(xaxis, axis_title = [xaxis_title,'Matching Efficiency'], binning=[80,0,2000],weights = barrel_jets_perllp_dict[k])\n",
    "pEff_hcalloose = rt.TEfficiency(hmhl,hbhl)\n",
    "\n",
    "leg.AddEntry(pEff_ecal,\"ECAL,\\\\Delta R<0.3\")\n",
    "leg.AddEntry(pEff_hcal,\"HCAL,\\\\Delta R<0.3\")\n",
    "leg.AddEntry(pEff_loose,\"ECAL,\\\\Delta R<0.45\")\n",
    "leg.AddEntry(pEff_hcalloose,\"HCAL,\\\\Delta R<0.45\")\n",
    "\n",
    "# pEff_ecal.SetMarkerStyle(4)\n",
    "# pEff_loose.SetMarkerStyle(4)\n",
    "# pEff_hcalloose.SetMarkerStyle(26)\n",
    "# pEff_hcal.SetMarkerStyle(26)\n",
    "\n",
    "pEff_hcalloose.SetLineColor(1)\n",
    "pEff_loose.SetLineColor(2)\n",
    "pEff_ecal.SetLineColor(8)\n",
    "pEff_hcal.SetLineColor(4)\n",
    "pEff_ecal.Draw()\n",
    "# pEff_hcal.Draw('same')\n",
    "pEff_loose.Draw('same')\n",
    "pEff_hcalloose.Draw('same')\n",
    "\n",
    "leg.Draw()\n",
    "c.Draw()\n",
    "# pEff_ecal.GetPaintedGraph().GetYaxis().SetRangeUser(0.5,1.1)\n",
    "# pEff_ecal.GetPaintedGraph().GetXaxis().SetRangeUser(0,300)\n",
    "\n",
    "c.Update()\n",
    "c.SaveAs(\"../plots/efficiency_compare_llpz.pdf\")\n"
   ]
  },
  {
   "cell_type": "code",
   "execution_count": 47,
   "metadata": {},
   "outputs": [
    {
     "name": "stderr",
     "output_type": "stream",
     "text": [
      "Warning in <TCanvas::Constructor>: Deleting canvas with same name: c1\n",
      "Warning in <TROOT::Append>: Replacing existing TH1: h (Potential memory leak).\n",
      "Warning in <TROOT::Append>: Replacing existing TH1: h (Potential memory leak).\n",
      "Info in <TEfficiency::TEfficiency>: given histograms are filled with weights\n",
      "Info in <TROOT::TEfficiency::SetUseWeightedEvents>: Handle weighted events for computing efficiency\n",
      "Info in <TCanvas::Print>: pdf file ../plots/matchefficiency_2dllpz_llpradius_m500ctau1000.pdf has been created\n"
     ]
    },
    {
     "data": {
      "image/png": "[encoded data removed]",
      "text/plain": [
       "<IPython.core.display.Image object>"
      ]
     },
     "metadata": {},
     "output_type": "display_data"
    }
   ],
   "source": [
    "c = rt.TCanvas('c1','c1', 800, 600)\n",
    "pEff = {}\n",
    "for k, T in tree.items():\n",
    "    binnings = [30,0,120,30,0,300]\n",
    "    np.column_stack((gLLP_decay_radius_dict[k],gLLP_decay_z_dict[k]))\n",
    "    hm = create_TH2D(np.column_stack((gLLP_decay_radius_dict[k],gLLP_decay_z_dict[k])), axis_title = ['LLP decay radius [cm]','LLP decay z [cm]','Matching Efficiency'], binning=binnings,weights = matched_jets_perllp_dict[k])\n",
    "    hb = create_TH2D(np.column_stack((gLLP_decay_radius_dict[k],gLLP_decay_z_dict[k])), axis_title = ['LLP decay radius [cm]','LLP decay z [cm]','Matching Efficiency'], binning=binnings,weights = barrel_jets_perllp_dict[k])\n",
    "    pEff[k] = rt.TEfficiency(hm,hb)\n",
    "\n",
    "rt.gStyle.SetPalette(92)\n",
    "pEff[k].Draw('colz')\n",
    "c.SetRightMargin(0.13)\n",
    "c.Draw()\n",
    "c.Update()\n",
    "histo = pEff[k].GetPaintedHistogram()\n",
    "histo.SetMaximum(1)\n",
    "histo.SetMinimum(0.7)\n",
    "\n",
    "c.SaveAs('../plots/matchefficiency_2dllpz_llpradius_m500ctau1000.pdf')\n"
   ]
  },
  {
   "cell_type": "code",
   "execution_count": 52,
   "metadata": {
    "scrolled": true
   },
   "outputs": [
    {
     "name": "stderr",
     "output_type": "stream",
     "text": [
      "Warning in <TCanvas::Constructor>: Deleting canvas with same name: c\n",
      "Warning in <TROOT::Append>: Replacing existing TH1: match_efficiency (Potential memory leak).\n",
      "Info in <TCanvas::Print>: pdf file barrel_matched.pdf has been created\n"
     ]
    },
    {
     "data": {
      "image/png": "[encoded data removed]",
      "text/plain": [
       "<IPython.core.display.Image object>"
      ]
     },
     "metadata": {},
     "output_type": "display_data"
    }
   ],
   "source": [
    "c = rt.TCanvas('c','c', 800, 600)\n",
    "h = {}\n",
    "leg = rt.TLegend(0.2,0.65,0.55,0.92)\n",
    "# leg.SetTextFont(42)\n",
    "leg.SetTextSize(0.03)\n",
    "leg.SetEntrySeparation(0.01)\n",
    "h['barrel'] = create_TH1D( barrel_jets_perllp_dict['m500ctau1000'], axis_title=['Number of Barrel Jets', 'Percentage of matched jets'], name='match_efficiency', binning=[3,0,3])\n",
    "h['barrel'].SetLineColor(2)\n",
    "h['matched'] = create_TH1D( matched_jets_perllp_dict['m500ctau1000'], axis_title=['Number of Matched Jets', 'events'], name='match_efficiency', binning=[3,0,3])\n",
    "h['matched'].SetLineColor(4)\n",
    "# c.SetLogy()\n",
    "# h['match_efficiency2'].GetYaxis().SetRangeUser(0,1.0)\n",
    "leg.AddEntry(h['barrel'],'Number of Barrel Jets')\n",
    "leg.AddEntry(h['matched'],'Number of Matched Jets')\n",
    "\n",
    "h['barrel'].DrawNormalized()\n",
    "h['matched'].DrawNormalized('same')\n",
    "leg.Draw()\n",
    "c.Draw()\n",
    "c.SaveAs(\"../plots/barrel_matched.pdf\")"
   ]
  },
  {
   "cell_type": "markdown",
   "metadata": {},
   "source": [
    "# Number of Rechits"
   ]
  },
  {
   "cell_type": "code",
   "execution_count": null,
   "metadata": {},
   "outputs": [],
   "source": []
  },
  {
   "cell_type": "code",
   "execution_count": 12,
   "metadata": {},
   "outputs": [
    {
     "name": "stdout",
     "output_type": "stream",
     "text": [
      "(25250, 2)\n"
     ]
    }
   ],
   "source": [
    "T=T1000\n",
    "\n",
    "energy_cut = 1.0\n",
    "#     n_rechits = np.array( [x if len(x) else -1 for x in T['jet_n_rechits']]) \n",
    "n_rechits = [] #n_rechits of matched and barrel jets\n",
    "n_rechits_qcd = [] #n_rechits of matched and barrel jets\n",
    "n_rechits_T1000 = [] #n_rechits of matched and barrel jets\n",
    "n_rechits_T30 = [] #n_rechits of matched and barrel jets\n",
    "\n",
    "n_rechits_llpdecay = [] # rechits and the corresponding LLP decay length\n",
    "\n",
    "gLLP_decay_radius = np.sqrt(np.square(T['gLLP_decay_vertex_x'])+np.square(T['gLLP_decay_vertex_y'])) # (events, 2) 2LLP\n",
    "gLLP_daughter_match_jet_index = T['gLLP_daughter_match_jet_index']\n",
    "gLLP_daughter_travel_time = T['gLLP_daughter_travel_time']\n",
    "rechits_E =  T['jet_rechits_E']\n",
    "\n",
    "# matched_jets.shape = (events,4), logical whether the jet is matched and hit barrel\n",
    "matched_jets = np.logical_and(np.logical_not( gLLP_daughter_travel_time == -666), np.logical_not( gLLP_daughter_match_jet_index == 666))\n",
    "gLLP_daughter_match_jet_index = gLLP_daughter_match_jet_index[matched_jets]\n",
    "\n",
    "\n",
    "for i in range(len(T['gLLP_daughter_match_jet_index'])): #loop through each event\n",
    "    for j in range(4): #loop through each gen jet\n",
    "        index = T['gLLP_daughter_match_jet_index'][i][j]\n",
    "        if not index == 666 and matched_jets[i][j]:\n",
    "            rechits = rechits_E[i][index]\n",
    "            rechits = np.count_nonzero(rechits >= energy_cut)\n",
    "            if j <= 1:\n",
    "                llpid = 0\n",
    "            else:\n",
    "                llpid = 1\n",
    "            n_rechits.append(rechits)\n",
    "            n_rechits_llpdecay.append([rechits, gLLP_decay_radius[i,llpid]])\n",
    "assert(len(n_rechits) == len(gLLP_daughter_match_jet_index))\n",
    "n_rechits_llpdecay = np.array(n_rechits_llpdecay)\n",
    "print(n_rechits_llpdecay.shape)\n",
    "\n",
    "#QCD\n",
    "# rechits_E_qcd =  QCD['jet_rechits_E']\n",
    "# for i in range(len(rechits_E_qcd)): #loop through each event\n",
    "#     for j in range(len(rechits_E_qcd[i])): #loop through each jet\n",
    "#         rechits = rechits_E_qcd[i][j]\n",
    "#         rechits = np.count_nonzero(rechits >= energy_cut)\n",
    "#         n_rechits_qcd.append(rechits)\n",
    "        \n",
    "        \n",
    "rechits_E_T1000 =  T1000['jet_rechits_E']\n",
    "for i in range(len(rechits_E_T1000)): #loop through each event\n",
    "    for j in range(len(rechits_E_T1000[i])): #loop through each jet\n",
    "        rechits = rechits_E_T1000[i][j]\n",
    "        rechits = np.count_nonzero(rechits >= energy_cut)\n",
    "        n_rechits_T1000.append(rechits)\n",
    "        \n",
    "rechits_E_T30 =  T30['jet_rechits_E']\n",
    "for i in range(len(rechits_E_T30)): #loop through each event\n",
    "    for j in range(len(rechits_E_T30[i])): #loop through each jet\n",
    "        rechits = rechits_E_T30[i][j]\n",
    "        rechits = np.count_nonzero(rechits >= energy_cut)\n",
    "        n_rechits_T30.append(rechits)\n"
   ]
  },
  {
   "cell_type": "code",
   "execution_count": 177,
   "metadata": {},
   "outputs": [],
   "source": []
  },
  {
   "cell_type": "code",
   "execution_count": null,
   "metadata": {},
   "outputs": [],
   "source": []
  },
  {
   "cell_type": "code",
   "execution_count": null,
   "metadata": {},
   "outputs": [],
   "source": []
  },
  {
   "cell_type": "code",
   "execution_count": null,
   "metadata": {},
   "outputs": [],
   "source": []
  },
  {
   "cell_type": "code",
   "execution_count": null,
   "metadata": {},
   "outputs": [],
   "source": []
  },
  {
   "cell_type": "code",
   "execution_count": null,
   "metadata": {},
   "outputs": [],
   "source": []
  },
  {
   "cell_type": "code",
   "execution_count": null,
   "metadata": {},
   "outputs": [],
   "source": []
  },
  {
   "cell_type": "code",
   "execution_count": null,
   "metadata": {},
   "outputs": [],
   "source": []
  },
  {
   "cell_type": "code",
   "execution_count": null,
   "metadata": {},
   "outputs": [],
   "source": []
  },
  {
   "cell_type": "code",
   "execution_count": null,
   "metadata": {},
   "outputs": [],
   "source": []
  },
  {
   "cell_type": "code",
   "execution_count": null,
   "metadata": {},
   "outputs": [],
   "source": []
  }
 ],
 "metadata": {
  "kernelspec": {
   "display_name": "Python 2",
   "language": "python",
   "name": "python2"
  },
  "language_info": {
   "codemirror_mode": {
    "name": "ipython",
    "version": 2
   },
   "file_extension": ".py",
   "mimetype": "text/x-python",
   "name": "python",
   "nbconvert_exporter": "python",
   "pygments_lexer": "ipython2",
   "version": "2.7.15rc1"
  }
 },
 "nbformat": 4,
 "nbformat_minor": 2
}
