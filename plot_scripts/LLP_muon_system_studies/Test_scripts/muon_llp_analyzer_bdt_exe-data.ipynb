{
 "cells": [
  {
   "cell_type": "code",
   "execution_count": 1,
   "metadata": {},
   "outputs": [],
   "source": [
    "# Boosted Decision Tree Data Analysis for AN-19-154\n",
    "\n",
    "# Coders: Nathan Suri, Caltech\n",
    "# Date: December 18, 2019\n",
    "# LPC LLP Group\n",
    "\n",
    "# Description\n",
    "# Study shower shape to improve signal/bkg discrimination\n",
    "# Implement established BDT procedure to data\n",
    "\n",
    "# Notes/Conclusions\n",
    "# @nasurijr: "
   ]
  },
  {
   "cell_type": "code",
   "execution_count": 2,
   "metadata": {},
   "outputs": [
    {
     "name": "stdin",
     "output_type": "stream",
     "text": [
      "Username:  nasurijr\n"
     ]
    },
    {
     "data": {
      "text/html": [
       "<style>.container { width:85% !important; }</style>"
      ],
      "text/plain": [
       "<IPython.core.display.HTML object>"
      ]
     },
     "metadata": {},
     "output_type": "display_data"
    }
   ],
   "source": [
    "# User specifics\n",
    "# Setups pwd location for data files and imports of special ROOT utilities\n",
    "\n",
    "work_location = input(\"Username: \")\n",
    "if work_location == 'nasurijr':\n",
    "#     pwd = '/nfshome/nasurijr/LLP_analysis/delayed_jet_analyzer/'\n",
    "    pwd = '/storage/user/nasurijr/gpu/nasurijr/LLP_analysis/delayed_jet_analyzer/'\n",
    "    \n",
    "    # Sets display width\n",
    "    from IPython.core.display import display, HTML\n",
    "    display(HTML(\"<style>.container { width:85% !important; }</style>\"))\n",
    "else:\n",
    "    print(\"Unrecognized username\")\n",
    "    \n",
    "# elif work_location == '<Insert Tier2 username here>':\n",
    "#     pwd = '/home/cms/delayed_jet_analyzer/'"
   ]
  },
  {
   "cell_type": "markdown",
   "metadata": {},
   "source": [
    "# Imports"
   ]
  },
  {
   "cell_type": "code",
   "execution_count": 3,
   "metadata": {},
   "outputs": [
    {
     "name": "stdout",
     "output_type": "stream",
     "text": [
      "Welcome to JupyROOT 6.18/02\n"
     ]
    },
    {
     "data": {
      "text/plain": [
       "0"
      ]
     },
     "execution_count": 3,
     "metadata": {},
     "output_type": "execute_result"
    }
   ],
   "source": [
    "# Imports\n",
    "\n",
    "import matplotlib.pyplot as plt\n",
    "import xgboost as xgb\n",
    "from sklearn.model_selection import train_test_split\n",
    "from sklearn.metrics import accuracy_score, roc_curve, roc_auc_score\n",
    "import numpy as np\n",
    "import pandas as pd\n",
    "import math\n",
    "import pickle as pickle\n",
    "import ROOT as root\n",
    "import os\n",
    "import shlex\n",
    "import uproot\n",
    "import seaborn as sns\n",
    "\n",
    "root.gROOT.SetBatch(True)\n",
    "root.gStyle.SetOptStat(0)\n",
    "root.gStyle.SetOptFit(111)\n",
    "root.gStyle.SetPaintTextFormat(\"2.1f\")\n",
    "\n",
    "plt.rcParams[\"font.family\"] = \"Arial\"\n",
    "plt.rcParams[\"axes.unicode_minus\"] = False\n",
    "plt.rcParams[\"text.usetex\"] = False\n",
    "plt.rcParams[\"mathtext.fontset\"] = \"cm\"\n",
    "\n",
    "test_name = 'xgb_wH_vs_WJetsToLNu_cscBDT'\n",
    "\n",
    "lumi_sf_sig = 1.0 # scale lumi from sample to full run2\n",
    "lumi_sf_bkg = 1.0\n",
    "\n",
    "plotDir = pwd + 'plot_scripts/LLP_muon_system_studies/Test_scripts/'\n",
    "dataDir = pwd + 'data/'\n",
    "\n",
    "os.system(\"mkdir -p \"+ plotDir)\n",
    "os.system(\"mkdir -p \"+ plotDir + \"training\")\n",
    "os.system(\"mkdir -p \"+ plotDir + \"results\")\n",
    "os.system(\"mkdir -p \"+ plotDir + \"scores\")\n",
    "os.system(\"mkdir -p \"+ plotDir + \"variables\")"
   ]
  },
  {
   "cell_type": "markdown",
   "metadata": {},
   "source": [
    "# Load/Read Signal and Background Datafiles"
   ]
  },
  {
   "cell_type": "code",
   "execution_count": 4,
   "metadata": {},
   "outputs": [
    {
     "name": "stdout",
     "output_type": "stream",
     "text": [
      "[INFO]: S =358800.0; B =9339111.0; S/sqrt(B) = 117.40853410932858\n"
     ]
    }
   ],
   "source": [
    "#signal\n",
    "\n",
    "# Normalized sample with no genLLP information stored\n",
    "# signalFileName =  dataDir + 'WH_HToSSTobbbb_WToLNu_MH-125_MS-55_ctauS-10000_TuneCUETP8M1_13TeV-powheg-pythia8_1pb_weighted.root'\n",
    "\n",
    "# WplusH sample with genLLP information stored\n",
    "signalFileName = dataDir + 'ggH_HToSSTobbbb_ms55_pl1000_RunIIFall18_1pb_weighted.root'\n",
    "signalFile = root.TFile(signalFileName)\n",
    "signalTree = signalFile.Get('t')\n",
    "signalHisto = root.gDirectory.Get('NEvents')\n",
    "signalEvents = lumi_sf_sig*signalHisto.Integral()\n",
    "\n",
    "#bkg\n",
    "bkgFileName    = dataDir + 'Run2_displacedJetMuonNtupler_V1p12_Data2018_17Sept2018_Run2018-HighMET-17Sep2018_goodLumi.root'\n",
    "bkgFile = root.TFile(bkgFileName)\n",
    "bkgTree = bkgFile.Get('t')\n",
    "bkgHisto = root.gDirectory.Get('NEvents')\n",
    "bkgEvents = lumi_sf_bkg*bkgHisto.Integral()\n",
    "\n",
    "print('[INFO]: S =' + str(signalEvents) + '; B =' + str(bkgEvents) +\"; S/sqrt(B) = \" + str(signalEvents/math.sqrt(bkgEvents)))"
   ]
  },
  {
   "cell_type": "markdown",
   "metadata": {},
   "source": [
    "# Variable Definitions"
   ]
  },
  {
   "cell_type": "markdown",
   "metadata": {},
   "source": [
    "## *Set of Variables excluding Matched Reco Object (Muon/Jet) Pt*"
   ]
  },
  {
   "cell_type": "code",
   "execution_count": 5,
   "metadata": {},
   "outputs": [],
   "source": [
    "# Standard variable set removes redundant variables (excludes matched reco objects (objects used in vetoes i.e. muons/jets)\n",
    "\n",
    "variables = [['cscRechitClusterXSpread', 'cscRechitClusterXSpread', '$\\Delta x_{cluster}$', 100, 0, 120],\n",
    "             ['cscRechitClusterYSpread', 'cscRechitClusterYSpread', '$\\Delta y_{cluster}$', 100, 0, 120],\n",
    "             ['cscRechitClusterZSpread', 'cscRechitClusterZSpread', '$\\Delta z_{cluster}$', 100, 0, 120],\n",
    "             ['cscRechitClusterTimeSpread', 'cscRechitClusterTimeSpread', '$\\Delta t_{cluster}$', 150, -100, 100],\n",
    "            ['cscRechitClusterEtaPhiSpread', 'cscRechitClusterEtaPhiSpread', '$\\Delta \\eta\\times\\phi_{cluster}$', 100, -4, -4],\n",
    "            ['cscRechitClusterX', 'cscRechitClusterX', '$x_{cluster}$', 150, -1100, 1100],\n",
    "            ['cscRechitClusterY', 'cscRechitClusterY', '$y_{cluster}$', 150, -1100, 1100],\n",
    "            ['cscRechitClusterZ', 'cscRechitClusterZ', '$z_{cluster}$', 150, -1100, 1100]]\n",
    "cluster_counts = [['nCscRechitClusters', 'nCscRechitClusters', '$N_{clusters}$', 5, 0, 5]]\n",
    "llp_matching = [['cscRechitCluster_match_gLLP', 'cscRechitCluster_match_gLLP', 'llp_matching']]\n",
    "llp_csc = [['gLLP_csc', 'gLLP_csc', 'llp_csc']]\n",
    "cluster_size = [['cscRechitClusterSize', 'cscRechitClusterSize', '$N_{segments}', 150, 0, 250]]\n",
    "cluster_time = [['cscRechitClusterTime', 'cscRechitClusterTime', 'ns', 150, -50, 50]]\n",
    "jet_veto = [['cscRechitClusterJetVetoPt', 'cscRechitClusterJetVetoPt', '$p_{T, jet}$', 100, 0, 200]]\n",
    "muon_veto = [['cscRechitClusterMuonVetoPt', 'cscRechitClusterMuonVetoPt', '$p_{T, muon}$', 150, 0, 200]]\n",
    "ncsc = [['cscNRecHits', 'cscNRecHits', '$N_{rechits}$', 150, 0, 250]]"
   ]
  },
  {
   "cell_type": "code",
   "execution_count": 6,
   "metadata": {},
   "outputs": [],
   "source": [
    "# Extracts the number of clusters per event for both signal and background\n",
    "\n",
    "count_signal = uproot.open(signalFileName)['MuonSystem'].pandas.df([row[0] for row in cluster_counts], flatten=False)\n",
    "count_bkg = uproot.open(bkgFileName)['MuonSystem'].pandas.df([row[0] for row in cluster_counts], flatten=False)"
   ]
  },
  {
   "cell_type": "code",
   "execution_count": 7,
   "metadata": {},
   "outputs": [],
   "source": [
    "# Extracts the size of clusters per event for both signal and background\n",
    "\n",
    "size_signal = uproot.open(signalFileName)['MuonSystem'].pandas.df([row[0] for row in cluster_size], flatten=True)\n",
    "size_bkg = uproot.open(bkgFileName)['MuonSystem'].pandas.df([row[0] for row in cluster_size], flatten=True)"
   ]
  },
  {
   "cell_type": "code",
   "execution_count": 8,
   "metadata": {},
   "outputs": [],
   "source": [
    "# Extracts the CSC time of clusters\n",
    "\n",
    "time_signal = uproot.open(signalFileName)['MuonSystem'].pandas.df([row[0] for row in cluster_time], flatten=True)#.loc[count_signal['nCscClusters']==1]\n",
    "time_bkg = uproot.open(bkgFileName)['MuonSystem'].pandas.df([row[0] for row in cluster_time], flatten=True)#.loc[count_bkg['nCscClusters']==1]"
   ]
  },
  {
   "cell_type": "code",
   "execution_count": 9,
   "metadata": {},
   "outputs": [],
   "source": [
    "# Extracts the nCsc rechits\n",
    "\n",
    "ncsc_signal = uproot.open(signalFileName)['MuonSystem'].pandas.df([row[0] for row in ncsc], flatten=False)#.loc[count_signal['nCscClusters']==1]\n",
    "ncsc_bkg = uproot.open(bkgFileName)['MuonSystem'].pandas.df([row[0] for row in ncsc], flatten=False)#.loc[count_bkg['nCscClusters']==1]\n",
    "\n",
    "# Extracts segments after pre-training veto cut\n",
    "# ncsc_signal = uproot.open(signalFileName)['MuonSystem'].pandas.df([row[0] for row in ncsc], flatten=True).loc[count_signal['nCscClusters']==1]#.loc[jetVeto_signal['cscClusterJetVeto'] == 0]\n",
    "# ncsc_bkg = uproot.open(bkgFileName)['MuonSystem'].pandas.df([row[0] for row in ncsc], flatten=True).loc[count_bkg['nCscClusters']==1]#.loc[jetVeto_bkg['cscClusterJetVeto'] == 0]"
   ]
  },
  {
   "cell_type": "code",
   "execution_count": 10,
   "metadata": {},
   "outputs": [],
   "source": [
    "# Extracts the pt of matched reco jets/muons (Currently flattened*)\n",
    "\n",
    "jetVeto_signal = uproot.open(signalFileName)['MuonSystem'].pandas.df([row[0] for row in jet_veto], flatten=True)\n",
    "jetVeto_bkg = uproot.open(bkgFileName)['MuonSystem'].pandas.df([row[0] for row in jet_veto], flatten=True)\n",
    "muonVeto_signal = uproot.open(signalFileName)['MuonSystem'].pandas.df([row[0] for row in muon_veto], flatten=True)\n",
    "muonVeto_bkg = uproot.open(bkgFileName)['MuonSystem'].pandas.df([row[0] for row in muon_veto], flatten=True)"
   ]
  },
  {
   "cell_type": "markdown",
   "metadata": {},
   "source": [
    "## *Training Variable Sets*"
   ]
  },
  {
   "cell_type": "code",
   "execution_count": 11,
   "metadata": {},
   "outputs": [],
   "source": [
    "# No training on vetoes\n",
    "\n",
    "df_signal = uproot.open(signalFileName)['MuonSystem'].pandas.df([row[0] for row in variables], flatten=True)#.loc[count_signal['nCscClusters']==1]\n",
    "df_bkg = uproot.open(bkgFileName)['MuonSystem'].pandas.df([row[0] for row in variables], flatten=True)#.loc[count_bkg['nCscClusters']==1]"
   ]
  },
  {
   "cell_type": "code",
   "execution_count": 12,
   "metadata": {},
   "outputs": [],
   "source": [
    "# # Defines BDTs with pre-training veto cuts (jet/muon pT respectively)\n",
    "\n",
    "# noveto_signal = uproot.open(signalFileName)['MuonSystem'].pandas.df([row[0] for row in variables], flatten=False).loc[count_signal['nCscClusters']==1]\n",
    "muon_signal = uproot.open(signalFileName)['MuonSystem'].pandas.df([row[0] for row in variables], flatten=True).loc[muonVeto_signal['cscRechitClusterMuonVetoPt'] < 20]\n",
    "muon_gen_matching = uproot.open(signalFileName)['MuonSystem'].pandas.df([row[0] for row in llp_matching], flatten=True).loc[muonVeto_signal['cscRechitClusterMuonVetoPt'] < 20]\n",
    "muon_gen_matching_np = np.ravel(muon_gen_matching.to_numpy()*1)\n",
    "\n",
    "jet_signal = uproot.open(signalFileName)['MuonSystem'].pandas.df([row[0] for row in variables], flatten=True).loc[jetVeto_signal['cscRechitClusterJetVetoPt'] < 10]\n",
    "jet_gen_matching = uproot.open(signalFileName)['MuonSystem'].pandas.df([row[0] for row in llp_matching], flatten=True).loc[jetVeto_signal['cscRechitClusterJetVetoPt'] < 10]\n",
    "jet_gen_matching_np = np.ravel(jet_gen_matching.to_numpy()*1)\n",
    "\n",
    "both_signal = muon_signal.loc[jetVeto_signal['cscRechitClusterJetVetoPt'] < 10]\n",
    "both_gen_matching = muon_gen_matching.loc[jetVeto_signal['cscRechitClusterJetVetoPt'] < 10]\n",
    "both_gen_matching_np = np.ravel(both_gen_matching.to_numpy()*1)\n",
    "\n",
    "\n",
    "# noveto_bkg = uproot.open(bkgFileName)['MuonSystem'].pandas.df([row[0] for row in variables], flatten=False).loc[count_bkg['nCscClusters']==1]\n",
    "muon_bkg = uproot.open(bkgFileName)['MuonSystem'].pandas.df([row[0] for row in variables], flatten=True).loc[muonVeto_bkg['cscRechitClusterMuonVetoPt'] < 20]\n",
    "jet_bkg = uproot.open(bkgFileName)['MuonSystem'].pandas.df([row[0] for row in variables], flatten=True).loc[jetVeto_bkg['cscRechitClusterJetVetoPt'] < 10]\n",
    "both_bkg = muon_bkg.loc[jetVeto_bkg['cscRechitClusterJetVetoPt'] == 0]"
   ]
  },
  {
   "cell_type": "markdown",
   "metadata": {},
   "source": [
    "# BDT Implementation"
   ]
  },
  {
   "cell_type": "code",
   "execution_count": 13,
   "metadata": {},
   "outputs": [],
   "source": [
    "def bdt_execution(signal_df, bkg_df, veto_setup):\n",
    "    # Create concatenated numpy array\n",
    "    x = np.concatenate([bkg_df.values, signal_df.values])\n",
    "    y = np.concatenate([np.zeros(len(bkg_df)), np.ones(len(signal_df))])\n",
    "    \n",
    "    # Split data into train/test sets\n",
    "    seed = 7\n",
    "    test_size = 0.2\n",
    "    sample_size = 1.0\n",
    "    x_train, x_test, y_train, y_test = train_test_split(x, y, train_size = sample_size*(1-test_size), test_size=sample_size*test_size, random_state=seed)\n",
    "    \n",
    "    # Run XGB Classifier\n",
    "    model = xgb.XGBClassifier(max_depth=4, learning_rate=0.1, n_estimators=400, verbosity=2, n_jobs=4, reg_lambda=1.0, silent=1)\n",
    "    model.fit(x_train, y_train)\n",
    "    \n",
    "    # Make predictions for test data\n",
    "    y_pred = model.predict_proba(x_test)[:, 1]\n",
    "    y_pred_train = model.predict_proba(x_train)[:, 1]\n",
    "    y_pred_bkg = model.predict_proba(bkg_df.values)[:, 1]\n",
    "    predictions = [round(value) for value in y_pred]\n",
    "    # evaluate predictions\n",
    "    accuracy = accuracy_score(y_test, predictions)\n",
    "    print(\"Accuracy: %.2f%%\" % (accuracy * 100.0))\n",
    "\n",
    "    AUC = roc_auc_score(y_test, y_pred)\n",
    "    print(\"AUC: \"+str(AUC))\n",
    "    \n",
    "    # Generate ROC curve arrays\n",
    "    fpr, tpr, thr = roc_curve(y_test, y_pred)\n",
    "    \n",
    "    # Compute thresholds\n",
    "    significance = []\n",
    "    effSignal = []\n",
    "    effBkg = []\n",
    "    thresholds = []\n",
    "\n",
    "    ctr = 0\n",
    "    for i in range(len(fpr)):\n",
    "        if fpr[i] > 1e-5 and tpr[i] > 1e-5:\n",
    "    #         print(\"thr = \"+str(thr[i])+\", fpr = \"+str(fpr[i]) + \", tpr = \"+str(tpr[i]))\n",
    "            #print fpr[i], tpr[i] \n",
    "            #significance.append(math.sqrt(lumi)*4.8742592356*0.006431528796*tpr[i]/math.sqrt(fpr[i]*0.9935684712))\n",
    "            significance.append(signalEvents*tpr[i]/math.sqrt(fpr[i]*bkgEvents))\n",
    "            effSignal.append(tpr[i])\n",
    "            effBkg.append(fpr[i])\n",
    "            thresholds.append(thr[i])\n",
    "            #print significance[ctr], ' ' , fpr[ctr], ' ', tpr[ctr]\n",
    "            ctr = ctr + 1\n",
    "    \n",
    "    # 80% signal efficiency threshold\n",
    "    idx_WP80 = 0\n",
    "    minD0p8 = 999.0\n",
    "    for idx in range(len(effSignal)):\n",
    "            if abs(effSignal[idx] - 0.80) < minD0p8:\n",
    "                    idx_WP80 = idx\n",
    "                    minD0p8 = abs(effSignal[idx] - 0.80)\n",
    "\n",
    "    WP80_significance = significance[idx_WP80]\n",
    "    WP80_threshold = thresholds[idx_WP80]\n",
    "    WP80_effSignal = effSignal[idx_WP80]\n",
    "    WP80_effBkg = effBkg[idx_WP80]\n",
    "\n",
    "    print(\"WP80_significance: \"+str(WP80_significance))\n",
    "    print(\"WP80_threshold: \"+str(WP80_threshold))\n",
    "    print(\"WP80_effSignal: \"+str(WP80_effSignal))\n",
    "    print(\"WP80_effBkg: \"+str(WP80_effBkg))\n",
    "    \n",
    "    # Plot nCsc segment distributions\n",
    "    # To be added\n",
    "    \n",
    "    # Plot discriminator plots (grid style)\n",
    "    y_frame = pd.DataFrame({'truth':y_test, 'disc':y_pred})\n",
    "    y_frame_train = pd.DataFrame({'truth':y_train, 'disc':y_pred_train})\n",
    "    disc_bkg    = y_frame[y_frame['truth'] == 0]['disc'].values\n",
    "    disc_bkg_train    = y_frame_train[y_frame_train['truth'] == 0]['disc'].values\n",
    "    disc_signal = y_frame[y_frame['truth'] == 1]['disc'].values\n",
    "    disc_signal_train = y_frame_train[y_frame_train['truth'] == 1]['disc'].values\n",
    "    \n",
    "    # Regather discriminator arrays for plotting nCsc on whole dataset (*change to identify the train/test set*)\n",
    "    disc_signal_prime = np.concatenate((disc_signal_train, disc_signal))\n",
    "    disc_bkg_prime = np.concatenate((disc_bkg_train, disc_bkg))\n",
    "    \n",
    "    f = plt.figure(figsize=(10,8))\n",
    "    ax = f.add_subplot(111)\n",
    "    plt.subplots_adjust(top=0.9, bottom=0.15, left=0.15, right=0.95)\n",
    "    plt.hist(disc_signal, density=True, bins=100, alpha=1.0, histtype=\"step\", lw=2, label=\"WH - test\")\n",
    "    plt.hist(disc_signal_train, density=True, bins=100, alpha=1.0, histtype=\"step\", lw=2, label=\"WH  - train\")\n",
    "    plt.hist(disc_bkg, density=True, bins=100, alpha=1.0, histtype=\"step\", lw=2, label=\"WJetsToLNu - test\")\n",
    "    plt.hist(disc_bkg_train, density=True, bins=100, alpha=1.0, histtype=\"step\", lw=2, label=\"WJetsToLNu- train\")\n",
    "    plt.yscale(\"log\")\n",
    "    plt.xlim([0.0, 1.0])\n",
    "    plt.ylim([0.0001, 1000.0])\n",
    "    plt.legend(loc=\"upper center\", fontsize=16)\n",
    "    plt.xlabel('BDT response',horizontalalignment='right', x=1.0, fontsize=16)\n",
    "    plt.ylabel('Events',horizontalalignment='right', y=1.0, fontsize=16)\n",
    "    plt.xticks(fontsize=16)\n",
    "    plt.yticks(fontsize=16)\n",
    "#     plt.axvline(x=WP90_threshold, color=\"black\", linestyle='--')\n",
    "#     plt.axvline(x=WP80_threshold, color=\"black\")\n",
    "#     plt.text(0.84,0.9,'WP90: disc > %.4f'%WP90_threshold, fontsize=12, horizontalalignment='center', verticalalignment='center', transform=plt.gca().transAxes)\n",
    "#     plt.text(0.84,0.8,'WP80: disc > %.4f'%WP80_threshold, fontsize=12, horizontalalignment='center', verticalalignment='center', transform=plt.gca().transAxes)\n",
    "#     plt.text(0.0, 1.01, \"CMS\", ha='left', va='bottom', transform=ax.transAxes, weight='bold', fontsize=17)\n",
    "#     plt.text(0.12, 1.01, \"Simulation Preliminary\", ha='left', va='bottom', transform=ax.transAxes, style='italic', fontsize=16)\n",
    "    plt.text(1.0, 1.01, \"13 TeV\", ha='right', va='bottom', transform=ax.transAxes, fontsize=16)\n",
    "    plt.savefig(plotDir+'training/mydiscriminator_' + test_name + veto_setup + '_logY.pdf')\n",
    "    plt.savefig(plotDir+'training/mydiscriminator_' + test_name + veto_setup + '_logY.png')\n",
    "    plt.savefig(plotDir+'training/mydiscriminator_' + test_name + veto_setup + '_logY.eps')\n",
    "    \n",
    "    # Plot feature importance plots (grid style)\n",
    "    model.get_booster().feature_names = [row[1] for row in variables]\n",
    "    xgb.plot_importance(model, max_num_features=len(variables), xlabel=\"F score (weight)\")\n",
    "    plt.savefig(plotDir+'training/myImportances_Fscore_' + test_name + veto_setup + '.pdf', bbox_inches='tight')\n",
    "    plt.savefig(plotDir+'training/myImportances_Fscore_' + test_name + veto_setup + '.png', bbox_inches='tight')\n",
    "    plt.savefig(plotDir+'training/myImportances_Fscore_' + test_name + veto_setup + '.eps', bbox_inches='tight')\n",
    "    os.system(\"chmod 755 \"+plotDir+\"training/*\")\n",
    "    \n",
    "    return fpr, tpr, thr, disc_signal_prime, disc_bkg_prime"
   ]
  },
  {
   "cell_type": "code",
   "execution_count": 14,
   "metadata": {},
   "outputs": [
    {
     "name": "stdout",
     "output_type": "stream",
     "text": [
      "Signal DF Shape: (65878, 8)\n",
      "Bkg DF Shape: (201899, 8)\n"
     ]
    }
   ],
   "source": [
    "print('Signal DF Shape: ' + str(df_signal.shape))\n",
    "print('Bkg DF Shape: ' + str(df_bkg.shape))"
   ]
  },
  {
   "cell_type": "code",
   "execution_count": null,
   "metadata": {},
   "outputs": [],
   "source": [
    "# BDT trained with both IT/OOT but without any matched reco object pTs\n",
    "\n",
    "fpr_data, tpr_data, thr_data, disc_signal_data, disc_bkg_data = bdt_execution(df_signal, df_bkg, 'data_vars')"
   ]
  },
  {
   "cell_type": "code",
   "execution_count": 69,
   "metadata": {},
   "outputs": [
    {
     "name": "stderr",
     "output_type": "stream",
     "text": [
      "findfont: Font family ['Arial'] not found. Falling back to DejaVu Sans.\n",
      "findfont: Font family ['Arial'] not found. Falling back to DejaVu Sans.\n",
      "The PostScript backend does not support transparency; partially transparent artists will be rendered opaque.\n",
      "The PostScript backend does not support transparency; partially transparent artists will be rendered opaque.\n"
     ]
    },
    {
     "data": {
      "text/plain": [
       "0"
      ]
     },
     "execution_count": 69,
     "metadata": {},
     "output_type": "execute_result"
    },
    {
     "data": {
      "image/png": "[encoded data removed]",
      "text/plain": [
       "<Figure size 720x576 with 1 Axes>"
      ]
     },
     "metadata": {
      "needs_background": "light"
     },
     "output_type": "display_data"
    }
   ],
   "source": [
    "#plot roc curve\n",
    "# fpr = Signal eff, tpr = background eff\n",
    "f = plt.figure(figsize=(10,8))\n",
    "ax = f.add_subplot(111)\n",
    "ax.set_xscale('log')\n",
    "plt.subplots_adjust(top=0.9, bottom=0.15, left=0.15, right=0.95)\n",
    "lw = 2\n",
    "plt.plot(fpr_data, tpr_data, color='tab:blue',\n",
    "         lw=lw, label='ggH vs. Data')\n",
    "\n",
    "# plt.plot([0, 1], [0, 1], color='navy', lw=lw, linestyle='--')\n",
    "# plt.xlim([0.0, 1.0])\n",
    "plt.xlim([10**-7, 10**0])\n",
    "plt.ylim([0.0, 1.05])\n",
    "plt.ylabel('Signal Efficiency',horizontalalignment='right', y=1.0, fontsize=16)\n",
    "plt.xlabel('Background Efficiency',horizontalalignment='right', x=1.0, fontsize=16)\n",
    "plt.xticks(fontsize=16)\n",
    "plt.yticks(fontsize=16)\n",
    "# plt.axhline(y=0.9, color=\"black\", linestyle='--')\n",
    "# plt.axhline(y=0.8, color=\"black\")\n",
    "# plt.text(10**-4.5,0.3,'WP80: bkg eff = %.4f'%WP80_effBkg, fontsize=12)\n",
    "# plt.text(10**-4.5,0.2,'WP90: bkg eff = %.4f'%WP90_effBkg, fontsize=12)\n",
    "#plt.text(0.5,0.3,'WP90: S/sqrt(B) = %.2f'%WP90_significance, fontsize=12)\n",
    "# plt.text(10**-4.5,0.4,'AUC = %.4f'%AUC, fontsize=12)\n",
    "plt.title('BDT ROC Curve', fontsize=18)\n",
    "plt.legend(loc=\"upper left\", fontsize=14)\n",
    "#plt.show()\n",
    "# plt.text(0.0, 1.01, \"CMS\", ha='left', va='bottom', transform=ax.transAxes, weight='bold', fontsize=17)\n",
    "# plt.text(0.12, 1.01, \"Simulation Preliminary\", ha='left', va='bottom', transform=ax.transAxes, style='italic', fontsize=16)\n",
    "plt.text(1.0, 1.01, \"13 TeV\", ha='right', va='bottom', transform=ax.transAxes, fontsize=12)\n",
    "plt.savefig(plotDir+'training/myroc_' + test_name + '.pdf')\n",
    "plt.savefig(plotDir+'training/myroc_' + test_name + '.png')\n",
    "plt.savefig(plotDir+'training/myroc_' + test_name + '.eps')\n",
    "os.system(\"chmod 755 \"+plotDir+\"training/*\")"
   ]
  },
  {
   "cell_type": "code",
   "execution_count": 227,
   "metadata": {},
   "outputs": [],
   "source": [
    "# Extracts nCsc rechits for each training type\n",
    "\n",
    "def ncsc_extractor(cluster_sizes, cluster_counts, discriminator):\n",
    "    cluster_counter = 0\n",
    "    ncsc_before = []\n",
    "    ncsc_after = []\n",
    "    for event in cluster_counts:\n",
    "        ncsc_event_before = 0\n",
    "        ncsc_event_after = 0\n",
    "        for cluster in range(event):\n",
    "            ncsc_event_before += cluster_sizes[cluster_counter]\n",
    "            if discriminator[cluster_counter] > 0.0050625005:\n",
    "                ncsc_event_after += cluster_sizes[cluster_counter]\n",
    "            cluster_counter += 1\n",
    "        ncsc_before.append(ncsc_event_before)\n",
    "        ncsc_after.append(ncsc_event_after)\n",
    "    return np.array(ncsc_before), np.array(ncsc_after)"
   ]
  },
  {
   "cell_type": "code",
   "execution_count": 229,
   "metadata": {},
   "outputs": [],
   "source": [
    "ncsc_signal_old_before, ncsc_signal_old_after = ncsc_extractor(size_signal['cscRechitClusterSize'].to_numpy(), count_signal['nCscRechitClusters'].to_numpy(), disc_signal_old, gen_matching_np)\n",
    "ncsc_signal_normal_before, ncsc_signal_normal_after = ncsc_extractor(size_signal['cscRechitClusterSize'].to_numpy(), count_signal['nCscRechitClusters'].to_numpy(), disc_signal_normal, gen_matching_np)\n",
    "\n",
    "ncsc_bkg_old_before, ncsc_bkg_old_after = ncsc_extractor(size_bkg['cscRechitClusterSize'].to_numpy(), count_bkg['nCscRechitClusters'].to_numpy(), disc_bkg_old)\n",
    "ncsc_bkg_normal_before, ncsc_bkg_normal_after = ncsc_extractor(size_bkg['cscRechitClusterSize'].to_numpy(), count_bkg['nCscRechitClusters'].to_numpy(), disc_bkg_normal)"
   ]
  },
  {
   "cell_type": "code",
   "execution_count": 232,
   "metadata": {},
   "outputs": [
    {
     "name": "stderr",
     "output_type": "stream",
     "text": [
      "The PostScript backend does not support transparency; partially transparent artists will be rendered opaque.\n",
      "The PostScript backend does not support transparency; partially transparent artists will be rendered opaque.\n"
     ]
    },
    {
     "data": {
      "image/png": "[encoded data removed]",
      "text/plain": [
       "<Figure size 720x576 with 1 Axes>"
      ]
     },
     "metadata": {
      "needs_background": "light"
     },
     "output_type": "display_data"
    }
   ],
   "source": [
    "##########################################################\n",
    "# make histogram of ncsc before and after BDT\n",
    "##########################################################\n",
    "\n",
    "f = plt.figure(figsize=(10,8))\n",
    "ax = f.add_subplot(111)\n",
    "plt.subplots_adjust(top=0.9, bottom=0.15, left=0.15, right=0.95)\n",
    "# plt.hist(np.array(ncsc_signal).flatten(), bins=150, alpha=1.0, histtype=\"step\", lw=2,)\n",
    "plt.hist(ncsc_signal_old_before, density=True, bins=100, alpha=1.0, histtype=\"step\", lw=2, label=\"ggH - before\")\n",
    "plt.hist(ncsc_signal_old_after, density=True, bins=100, alpha=1.0, histtype=\"step\", lw=2, label=\"ggH  - after\")\n",
    "plt.hist(ncsc_bkg_old_before, density=True, bins=100, alpha=1.0, histtype=\"step\", lw=2, label=\"Data - before\")\n",
    "plt.hist(ncsc_bkg_old_after, density=True, bins=100, alpha=1.0, histtype=\"step\", lw=2, label=\"Data - after\")\n",
    "plt.yscale(\"log\")\n",
    "plt.xlim([0.0, 500])\n",
    "plt.ylim([10**-5, 1])\n",
    "plt.legend(loc=\"upper center\", fontsize=16)\n",
    "plt.xlabel('$N_{rechits}$',horizontalalignment='right', x=1.0, fontsize=16)\n",
    "plt.ylabel('Events',horizontalalignment='right', y=1.0, fontsize=16)\n",
    "plt.xticks(fontsize=16)\n",
    "plt.yticks(fontsize=16)\n",
    "# plt.axvline(x=WP90_threshold, color=\"black\", linestyle='--')\n",
    "# plt.axvline(x=WP80_threshold, color=\"black\")\n",
    "# plt.text(0.84,0.9,'WP90: disc > %.4f'%WP90_threshold, fontsize=12, horizontalalignment='center', verticalalignment='center', transform=plt.gca().transAxes)\n",
    "# plt.text(0.84,0.8,'WP80: disc > %.4f'%WP80_threshold, fontsize=12, horizontalalignment='center', verticalalignment='center', transform=plt.gca().transAxes)\n",
    "# plt.text(0.0, 1.01, \"CMS\", ha='left', va='bottom', transform=ax.transAxes, weight='bold', fontsize=17)\n",
    "# plt.text(0.12, 1.01, \"Simulation Preliminary\", ha='left', va='bottom', transform=ax.transAxes, style='italic', fontsize=16)\n",
    "plt.text(1.0, 1.01, \"13 TeV\", ha='right', va='bottom', transform=ax.transAxes, fontsize=16)\n",
    "plt.savefig(plotDir+'training/mydiscriminator_' + test_name +'_logY.pdf')\n",
    "plt.savefig(plotDir+'training/mydiscriminator_' + test_name +'_logY.png')\n",
    "plt.savefig(plotDir+'training/mydiscriminator_' + test_name +'_logY.eps')"
   ]
  },
  {
   "cell_type": "code",
   "execution_count": 170,
   "metadata": {},
   "outputs": [
    {
     "data": {
      "text/plain": [
       "0"
      ]
     },
     "execution_count": 170,
     "metadata": {},
     "output_type": "execute_result"
    }
   ],
   "source": [
    "os.system(\"chmod 755 \"+plotDir+\"training/*\")"
   ]
  },
  {
   "cell_type": "code",
   "execution_count": 24,
   "metadata": {},
   "outputs": [],
   "source": [
    "time_signal_spread = []\n",
    "for elementS in np.array(df_signal['cscClusterTimeSpread']):\n",
    "    time_signal_spread.append(elementS[0])\n",
    "    \n",
    "time_bkg_spread = []\n",
    "for elementB in np.array(df_bkg['cscClusterTimeSpread']):\n",
    "    time_bkg_spread.append(elementB[0])\n",
    "    \n",
    "phi_signal_spread = []\n",
    "for elementS in np.array(df_signal['cscClusterPhiSpread']):\n",
    "    phi_signal_spread.append(elementS[0])\n",
    "    \n",
    "phi_bkg_spread = []\n",
    "for elementB in np.array(df_bkg['cscClusterPhiSpread']):\n",
    "    phi_bkg_spread.append(elementB[0])\n",
    "    \n",
    "eta_signal_spread = []\n",
    "for elementS in np.array(df_signal['cscClusterEtaSpread']):\n",
    "    eta_signal_spread.append(elementS[0])\n",
    "    \n",
    "eta_bkg_spread = []\n",
    "for elementB in np.array(df_bkg['cscClusterEtaSpread']):\n",
    "    eta_bkg_spread.append(elementB[0])"
   ]
  },
  {
   "cell_type": "code",
   "execution_count": 35,
   "metadata": {},
   "outputs": [
    {
     "name": "stderr",
     "output_type": "stream",
     "text": [
      "The PostScript backend does not support transparency; partially transparent artists will be rendered opaque.\n",
      "The PostScript backend does not support transparency; partially transparent artists will be rendered opaque.\n",
      "The PostScript backend does not support transparency; partially transparent artists will be rendered opaque.\n",
      "The PostScript backend does not support transparency; partially transparent artists will be rendered opaque.\n",
      "The PostScript backend does not support transparency; partially transparent artists will be rendered opaque.\n",
      "The PostScript backend does not support transparency; partially transparent artists will be rendered opaque.\n",
      "The PostScript backend does not support transparency; partially transparent artists will be rendered opaque.\n",
      "The PostScript backend does not support transparency; partially transparent artists will be rendered opaque.\n"
     ]
    },
    {
     "data": {
      "image/png": "[encoded data removed]",
      "text/plain": [
       "<Figure size 1440x720 with 4 Axes>"
      ]
     },
     "metadata": {
      "needs_background": "light"
     },
     "output_type": "display_data"
    }
   ],
   "source": [
    "import matplotlib.gridspec as gridspec\n",
    "\n",
    "plt.figure(figsize=(20, 10))\n",
    "G = gridspec.GridSpec(2, 4)\n",
    "ax1 = plt.subplot(G[0, 0])\n",
    "ax2 = plt.subplot(G[0, 1])\n",
    "ax3 = plt.subplot(G[0, 2])\n",
    "ax4 = plt.subplot(G[0, 3])\n",
    "\n",
    "ax1.hist(time_signal_spread, density=True, alpha=1.0, histtype=\"step\", lw=2, bins=100, label='WH')\n",
    "ax1.hist(time_bkg_spread, density=True, alpha=1.0, histtype=\"step\", lw=2, bins=100, label='WJetsToLNu')\n",
    "ax1.set_xlim(0,10)\n",
    "ax1.legend(loc=\"upper right\", fontsize = 10)\n",
    "ax1.set_xlabel('$\\Delta$Time (ns)', fontsize = 15)\n",
    "ax1.set_ylabel('Events')\n",
    "ax1.set_title('cscClusterTimeSpread')\n",
    "\n",
    "ax2.hist(phi_signal_spread, density=True, alpha=1.0, histtype=\"step\", lw=2, bins=100, label='WH')\n",
    "ax2.hist(phi_bkg_spread, density=True, alpha=1.0, histtype=\"step\", lw=2, bins=100, label='WJetsToLNu')\n",
    "ax2.set_xlim(0,0.3)\n",
    "ax2.legend(loc=\"upper right\", fontsize = 10)\n",
    "ax2.set_xlabel('$\\Delta\\phi$', fontsize = 15)\n",
    "ax2.set_ylabel('Events')\n",
    "ax2.set_title('cscClusterPhiSpread')\n",
    "\n",
    "ax3.hist(eta_signal_spread, density=True, alpha=1.0, histtype=\"step\", lw=2, bins=100, label='WH')\n",
    "ax3.hist(eta_bkg_spread, density=True, alpha=1.0, histtype=\"step\", lw=2, bins=100, label='WJetsToLNu')\n",
    "ax3.set_xlim(0,0.4)\n",
    "ax3.legend(loc=\"upper right\", fontsize = 10)\n",
    "ax3.set_xlabel('$\\Delta\\eta$', fontsize = 15)\n",
    "ax3.set_ylabel('Events')\n",
    "ax3.set_title('cscClusterEtaSpread')\n",
    "\n",
    "ax4.hist(nV_signal_spread, density=True, alpha=1.0, histtype=\"step\", lw=2, bins=100, label='WH')\n",
    "ax4.hist(nV_bkg_spread, density=True, alpha=1.0, histtype=\"step\", lw=2, bins=100, label='WJetsToLNu')\n",
    "ax4.set_xlim(0,250)\n",
    "ax4.legend(loc=\"upper right\", fontsize = 10)\n",
    "ax4.set_xlabel('$N_{vertexGroups}$', fontsize = 15)\n",
    "ax4.set_ylabel('Events')\n",
    "ax4.set_title('cscClusterVertexN=30')\n",
    "\n",
    "plt.draw()\n",
    "plt.savefig(plotDir+'variables/'+test_name + '_grid_plot'+'.pdf')#, bbox_inches='tight')\n",
    "plt.savefig(plotDir+'variables/'+test_name + '_grid_plot'+'.png')#, bbox_inches='tight')\n",
    "plt.savefig(plotDir+'variables/'+test_name + '_grid_plot'+'.eps')#, bbox_inches='tight')"
   ]
  }
 ],
 "metadata": {
  "kernelspec": {
   "display_name": "Python 2",
   "language": "python",
   "name": "python2"
  },
  "language_info": {
   "codemirror_mode": {
    "name": "ipython",
    "version": 3
   },
   "file_extension": ".py",
   "mimetype": "text/x-python",
   "name": "python",
   "nbconvert_exporter": "python",
   "pygments_lexer": "ipython3",
   "version": "3.6.8"
  }
 },
 "nbformat": 4,
 "nbformat_minor": 4
}
