{
 "cells": [
  {
   "cell_type": "code",
   "execution_count": 1,
   "metadata": {},
   "outputs": [
    {
     "name": "stdout",
     "output_type": "stream",
     "text": [
      "Welcome to JupyROOT 6.13/02\n"
     ]
    }
   ],
   "source": [
    "import ROOT as rt\n",
    "import root_numpy as rtnp\n",
    "import numpy as np\n",
    "from matplotlib import pyplot as plt\n",
    "from histo_utilities import create_TH1D, create_TH2D, std_color_list\n",
    "\n",
    "import CMS_lumi, tdrstyle\n",
    "tdrstyle.setTDRStyle()\n",
    "CMS_lumi.writeExtraText = 1\n",
    "CMS_lumi.extraText = \"     Simulation Preliminary\"\n",
    "\n",
    "donotdelete = []\n",
    "import csv\n",
    "import re\n",
    "import sys"
   ]
  },
  {
   "cell_type": "code",
   "execution_count": 3,
   "metadata": {},
   "outputs": [
    {
     "name": "stdout",
     "output_type": "stream",
     "text": [
      "mh1000 /home/cms/Desktop/LLP/jetNtuple_RunIISummer16/withISR/jet_timing_studies_ntuple_ISR_mh1000_mx475_pl1000_ev10000.root\n"
     ]
    },
    {
     "ename": "IOError",
     "evalue": "cannot read /home/cms/Desktop/LLP/jetNtuple_RunIISummer16/withISR/jet_timing_studies_ntuple_ISR_mh1000_mx475_pl1000_ev10000.root",
     "output_type": "error",
     "traceback": [
      "\u001b[0;31m\u001b[0m",
      "\u001b[0;31mIOError\u001b[0mTraceback (most recent call last)",
      "\u001b[0;32m<ipython-input-3-c9e149786ea7>\u001b[0m in \u001b[0;36m<module>\u001b[0;34m()\u001b[0m\n\u001b[1;32m      8\u001b[0m \u001b[0;32mfor\u001b[0m \u001b[0mk\u001b[0m\u001b[0;34m,\u001b[0m\u001b[0mv\u001b[0m \u001b[0;32min\u001b[0m \u001b[0mfpath\u001b[0m\u001b[0;34m.\u001b[0m\u001b[0miteritems\u001b[0m\u001b[0;34m(\u001b[0m\u001b[0;34m)\u001b[0m\u001b[0;34m:\u001b[0m\u001b[0;34m\u001b[0m\u001b[0m\n\u001b[1;32m      9\u001b[0m     \u001b[0;32mprint\u001b[0m \u001b[0mk\u001b[0m\u001b[0;34m,\u001b[0m \u001b[0mv\u001b[0m\u001b[0;34m\u001b[0m\u001b[0m\n\u001b[0;32m---> 10\u001b[0;31m     \u001b[0mtree\u001b[0m\u001b[0;34m[\u001b[0m\u001b[0mk\u001b[0m\u001b[0;34m]\u001b[0m \u001b[0;34m=\u001b[0m \u001b[0mrtnp\u001b[0m\u001b[0;34m.\u001b[0m\u001b[0mroot2array\u001b[0m\u001b[0;34m(\u001b[0m\u001b[0mv\u001b[0m\u001b[0;34m)\u001b[0m\u001b[0;34m\u001b[0m\u001b[0m\n\u001b[0m\u001b[1;32m     11\u001b[0m     \u001b[0;31m#tree[k] = rtnp.tree2array(v)\u001b[0m\u001b[0;34m\u001b[0m\u001b[0;34m\u001b[0m\u001b[0m\n\u001b[1;32m     12\u001b[0m     \u001b[0;31m#jet_max_pt_array = [np.max(x) for x in tree[k][\"jetPt\"]]\u001b[0m\u001b[0;34m\u001b[0m\u001b[0;34m\u001b[0m\u001b[0m\n",
      "\u001b[0;32m/home/cms/.local/lib/python2.7/site-packages/root_numpy/_tree.pyc\u001b[0m in \u001b[0;36mroot2array\u001b[0;34m(filenames, treename, branches, selection, object_selection, start, stop, step, include_weight, weight_name, cache_size, warn_missing_tree)\u001b[0m\n\u001b[1;32m    205\u001b[0m \u001b[0;34m\u001b[0m\u001b[0m\n\u001b[1;32m    206\u001b[0m     \u001b[0;32mif\u001b[0m \u001b[0mtreename\u001b[0m \u001b[0;32mis\u001b[0m \u001b[0mNone\u001b[0m\u001b[0;34m:\u001b[0m\u001b[0;34m\u001b[0m\u001b[0m\n\u001b[0;32m--> 207\u001b[0;31m         \u001b[0mtrees\u001b[0m \u001b[0;34m=\u001b[0m \u001b[0mlist_trees\u001b[0m\u001b[0;34m(\u001b[0m\u001b[0mfilenames\u001b[0m\u001b[0;34m[\u001b[0m\u001b[0;36m0\u001b[0m\u001b[0;34m]\u001b[0m\u001b[0;34m)\u001b[0m\u001b[0;34m\u001b[0m\u001b[0m\n\u001b[0m\u001b[1;32m    208\u001b[0m         \u001b[0;32mif\u001b[0m \u001b[0mlen\u001b[0m\u001b[0;34m(\u001b[0m\u001b[0mtrees\u001b[0m\u001b[0;34m)\u001b[0m \u001b[0;34m>\u001b[0m \u001b[0;36m1\u001b[0m\u001b[0;34m:\u001b[0m\u001b[0;34m\u001b[0m\u001b[0m\n\u001b[1;32m    209\u001b[0m             raise ValueError(\n",
      "\u001b[0;32m/home/cms/.local/lib/python2.7/site-packages/root_numpy/_tree.pyc\u001b[0m in \u001b[0;36mlist_trees\u001b[0;34m(filename)\u001b[0m\n\u001b[1;32m     53\u001b[0m \u001b[0;34m\u001b[0m\u001b[0m\n\u001b[1;32m     54\u001b[0m     \"\"\"\n\u001b[0;32m---> 55\u001b[0;31m     \u001b[0;32mreturn\u001b[0m \u001b[0m_librootnumpy\u001b[0m\u001b[0;34m.\u001b[0m\u001b[0mlist_trees\u001b[0m\u001b[0;34m(\u001b[0m\u001b[0mfilename\u001b[0m\u001b[0;34m)\u001b[0m\u001b[0;34m\u001b[0m\u001b[0m\n\u001b[0m\u001b[1;32m     56\u001b[0m \u001b[0;34m\u001b[0m\u001b[0m\n\u001b[1;32m     57\u001b[0m \u001b[0;34m\u001b[0m\u001b[0m\n",
      "\u001b[0;32mroot_numpy/src/tree.pyx\u001b[0m in \u001b[0;36m_librootnumpy.list_trees\u001b[0;34m()\u001b[0m\n",
      "\u001b[0;32mroot_numpy/src/tree.pyx\u001b[0m in \u001b[0;36m_librootnumpy.list_objects\u001b[0;34m()\u001b[0m\n",
      "\u001b[0;31mIOError\u001b[0m: cannot read /home/cms/Desktop/LLP/jetNtuple_RunIISummer16/withISR/jet_timing_studies_ntuple_ISR_mh1000_mx475_pl1000_ev10000.root"
     ]
    },
    {
     "name": "stderr",
     "output_type": "stream",
     "text": [
      "Error in <TFile::TFile>: file /home/cms/Desktop/LLP/jetNtuple_RunIISummer16/withISR/jet_timing_studies_ntuple_ISR_mh1000_mx475_pl1000_ev10000.root does not exist\n"
     ]
    }
   ],
   "source": [
    "fpath = {}\n",
    "tree = {}\n",
    "# fpath['mh125'] = '/home/cms/Desktop/LLP/jetNtuple_RunIISummer16/withoutISR/jetNtuple_glueball/jet_timing_studies_ntuple_mh125_mx50_pl1000_ev10000.root'\n",
    "fpath['mh1000'] = '/home/cms/Desktop/LLP/jetNtuple_RunIISummer16/withISR/jet_timing_studies_ntuple_ISR_mh1000_mx475_pl1000_ev10000.root'\n",
    "\n",
    "# fpath['vbfh'] = '/home/cms/Desktop/LLP/jetNtuple_RunIISummer16/withoutISR/jetNtuple_glueball/jet_timing_studies_ntuple_vbfh_mh125_mx50_pl1000_ev10000.root'\n",
    "\n",
    "for k,v in fpath.iteritems():\n",
    "    print k, v\n",
    "    tree[k] = rtnp.root2array(v)\n",
    "    #tree[k] = rtnp.tree2array(v)\n",
    "    #jet_max_pt_array = [np.max(x) for x in tree[k][\"jetPt\"]]\n",
    "    a = tree[k][\"jetPt\"]\n",
    "    print a[:-1][0]\n",
    "    \n",
    "    \n",
    "trigger_names_file = '/home/cms/Desktop/LLP/delayed_jet_analyzer/data/trigger_names_llp_v1.dat'\n",
    "trigger_names = []\n",
    "with open(trigger_names_file) as f:\n",
    "    reader = csv.reader(f, delimiter=\" \")\n",
    "    for line in reader:\n",
    "        trigger_names.append(line[2])"
   ]
  },
  {
   "cell_type": "code",
   "execution_count": null,
   "metadata": {},
   "outputs": [],
   "source": [
    "trigger_paths = [84,136,196,310] #PFMET120"
   ]
  },
  {
   "cell_type": "code",
   "execution_count": null,
   "metadata": {},
   "outputs": [],
   "source": [
    "# inclusive trigger efficiency * acceptance\n",
    "trigger_decision = {}\n",
    "mu_bool = []\n",
    "ele_bool = []\n",
    "\n",
    "higgs_pt = []\n",
    "llp_pt = []\n",
    "\n",
    "T=tree['vbfh']\n",
    "gParticleId = T['gParticleId']\n",
    "gParticleMotherIndex = T['gParticleMotherIndex']\n",
    "gParticleStatus = T['gParticleStatus']\n",
    "gLLP_daughter_pt = T['gLLP_daughter_pt']\n",
    "gLLP_daughter_eta = T['gLLP_daughter_eta']\n",
    "gLLP_daughter_phi = T['gLLP_daughter_phi']\n",
    "gLLP_daughter_e = T['gLLP_daughter_e']\n",
    "hlt = T['HLTDecision']\n",
    "# weight = T['weight']\n",
    "nEvents = len(T['eventNum'])\n",
    "for tr in trigger_paths:\n",
    "    trigger_decision[tr] = []\n",
    "for i in range(nEvents):\n",
    "    higgs_vec = rt.TLorentzVector()\n",
    "    llp1_vec = rt.TLorentzVector()\n",
    "    llp2_vec = rt.TLorentzVector()\n",
    "    for j in range(4):\n",
    "        temp = rt.TLorentzVector()\n",
    "        temp.SetPtEtaPhiE(gLLP_daughter_pt[i][j],gLLP_daughter_eta[i][j],gLLP_daughter_phi[i][j],gLLP_daughter_e[i][j])\n",
    "        higgs_vec += temp\n",
    "        if j<=1:\n",
    "            llp1_vec += temp\n",
    "        else:\n",
    "            llp2_vec += temp\n",
    "    llp_pt.append(max(llp1_vec.Pt(),llp2_vec.Pt()))\n",
    "    higgs_pt.append(higgs_vec.Pt())\n",
    "    for tr in trigger_paths:\n",
    "        trigger_decision[tr].append(hlt[i][tr])\n",
    "    #choose only events with 1 muon\n",
    "    mu = np.logical_and(np.logical_and(np.absolute(gParticleId[i]) == 13,  gParticleMotherIndex[i] == 1), gParticleStatus[i] == 1 )\n",
    "#     if np.count_nonzero(mu) <= 2 and np.count_nonzero(mu) > 0: #has 1 or 2 muon\n",
    "    if np.count_nonzero(mu) <=2 and np.count_nonzero(mu)>0:\n",
    "        mu_bool.append(True)\n",
    "    else:\n",
    "        mu_bool.append(False)\n",
    "    ele = np.logical_and(np.logical_and(np.absolute(gParticleId[i]) == 11,  gParticleMotherIndex[i] == 1), gParticleStatus[i] == 1 )\n",
    "    if np.count_nonzero(ele) <= 2 and np.count_nonzero(ele) > 0: #has 1 or 2 ele\n",
    "        ele_bool.append(True)\n",
    "    else:\n",
    "        ele_bool.append(False)\n",
    "# weights = weight*140 #corresponding to 140 pb\n",
    "higgs_pt = np.array(higgs_pt)\n",
    "mu_bool = np.array(mu_bool)\n",
    "llp_pt = np.array(llp_pt)\n",
    "for tr in trigger_paths:\n",
    "    trigger_decision[tr] = np.array(trigger_decision[tr])\n",
    "assert(len(mu_bool) == len(llp_pt))"
   ]
  },
  {
   "cell_type": "code",
   "execution_count": null,
   "metadata": {},
   "outputs": [],
   "source": [
    "print(np.count_nonzero(trigger_decision[310]),trigger_decision[310].shape)"
   ]
  },
  {
   "cell_type": "code",
   "execution_count": null,
   "metadata": {},
   "outputs": [],
   "source": [
    "# Plotting Reco Time\n",
    "c = rt.TCanvas('c','c', 800, 600)\n",
    "h = {}\n",
    "leg = rt.TLegend(0.68,0.70,0.97,0.93);\n",
    "leg.SetTextSize(0.03)\n",
    "condition = ele_bool\n",
    "h['mh125'] = create_TH1D( llp_pt, axis_title=['LLP pT [GeV]', 'events'], name=k, binning=[40,0,800])\n",
    "#     leg.AddEntry(h[k],legend[k])\n",
    "h['mh125'].Draw()\n",
    "# leg.Draw()\n",
    "c.SetLogy()\n",
    "c.Draw()\n",
    "c.SaveAs(\"../plots/trigger_efficiency/vbfh_mh125_mx50_pl1000_llppt.pdf\")\n",
    "# c.SaveAs(\"../plots/trigger_efficiency/overall_mh125_mx50_pl1000_llppt.pdf\")"
   ]
  },
  {
   "cell_type": "code",
   "execution_count": null,
   "metadata": {},
   "outputs": [],
   "source": [
    "# Plotting Reco Time\n",
    "c = rt.TCanvas('c','c', 800, 600)\n",
    "h = {}\n",
    "leg = rt.TLegend(0.68,0.70,0.97,0.93);\n",
    "leg.SetTextSize(0.03)\n",
    "\n",
    "h['mh125'] = create_TH1D( higgs_pt, axis_title=['Higgs pT [GeV]', 'events'], name=k, binning=[40,0,800],weights=weight)\n",
    "#     leg.AddEntry(h[k],legend[k])\n",
    "h['mh125'].Draw()\n",
    "# leg.Draw()\n",
    "c.SetLogy()\n",
    "c.Draw()\n",
    "c.SaveAs(\"../../plots/trigger_efficiency/higgs_pt_allmode.pdf\")\n",
    "# c.SaveAs(\"../plots/trigger_efficiency/overall_mh125_mx50_pl1000_PFMET120.pdf\")"
   ]
  },
  {
   "cell_type": "code",
   "execution_count": null,
   "metadata": {},
   "outputs": [],
   "source": [
    "# Plotting Reco Time\n",
    "c = rt.TCanvas('c','c', 800, 600)\n",
    "h = {}\n",
    "leg = rt.TLegend(0.68,0.70,0.97,0.93);\n",
    "leg.SetTextSize(0.03)\n",
    "# condition = np.logical_or(ele_bool,mu_bool)\n",
    "condition = np.ones(llp_pt.shape, dtype=int)\n",
    "\n",
    "trig = trigger_decision[trigger_paths[3]]\n",
    "# trig = np.logical_or(trigger_decision[trigger_paths[0]],trigger_decision[trigger_paths[2]])[condition]\n",
    "xaxis = llp_pt\n",
    "xaxis_title = 'LLP pT[GeV]'\n",
    "# bins = [0,10,20,30,40,50,60,70,80,90,100,150,200,250]\n",
    "# bins = [0,20,40,60,80,100,125,150,175,200,250,300]\n",
    "bins = [0,10,20,30,40,50,60,70,80,90,100,125,150,175,200,250,300]\n",
    "bins = [50,0,500]\n",
    "hm = create_TH1D(xaxis, 'hm2', axis_title = [xaxis_title,'Trigger Efficiency'], binning=bins,weights = weight*trig)\n",
    "hb = create_TH1D(xaxis, 'hb2', axis_title = [xaxis_title,'Trigger Efficiency'], binning=bins,weights = weight)\n",
    "pEff = rt.TEfficiency(hm,hb)\n",
    "for pt in xaxis:\n",
    "    if pt>400:\n",
    "        print pt\n",
    "\n",
    "# trig = trigger_decision[trigger_paths[3]]\n",
    "# xaxis = llp_pt\n",
    "# bins = [0,20,40,60,80,100,125,150,175,200,250,300]\n",
    "\n",
    "# hm = create_TH1D(xaxis, 'hm2', axis_title = [xaxis_title,'Trigger Efficiency'], binning=bins,weights =trig)\n",
    "# hb = create_TH1D(xaxis, 'hb2', axis_title = [xaxis_title,'Trigger Efficiency'], binning=bins)\n",
    "# pEff = rt.TEfficiency(hm,hb)\n",
    "#     leg.AddEntry(h[k],legend[k])\n",
    "pEff.Draw()\n",
    "# leg.Draw()\n",
    "c.Draw()\n",
    "# c.SaveAs(\"../plots/trigger_efficiency/vbfh_mh125_mx50_pl1000_trig\"+str(trigger_paths[3])+\".pdf\")\n",
    "\n",
    "# print(weight[mu_bool]*trigger_decision[tr][mu_bool])"
   ]
  },
  {
   "cell_type": "code",
   "execution_count": null,
   "metadata": {},
   "outputs": [],
   "source": []
  },
  {
   "cell_type": "code",
   "execution_count": null,
   "metadata": {},
   "outputs": [],
   "source": []
  }
 ],
 "metadata": {
  "kernelspec": {
   "display_name": "Python 2",
   "language": "python",
   "name": "python2"
  },
  "language_info": {
   "codemirror_mode": {
    "name": "ipython",
    "version": 2
   },
   "file_extension": ".py",
   "mimetype": "text/x-python",
   "name": "python",
   "nbconvert_exporter": "python",
   "pygments_lexer": "ipython2",
   "version": "2.7.15rc1"
  }
 },
 "nbformat": 4,
 "nbformat_minor": 2
}
