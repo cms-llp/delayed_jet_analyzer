{
 "cells": [
  {
   "cell_type": "code",
   "execution_count": 1,
   "metadata": {},
   "outputs": [
    {
     "name": "stdout",
     "output_type": "stream",
     "text": [
      "Welcome to JupyROOT 6.13/02\n"
     ]
    }
   ],
   "source": [
    "import ROOT as rt\n",
    "import root_numpy as rtnp\n",
    "import numpy as np\n",
    "import csv\n",
    "from matplotlib import pyplot as plt\n",
    "from histo_utilities import create_TH1D, create_TH2D, std_color_list\n",
    "from array import array\n",
    "from prettytable import PrettyTable\n",
    "\n",
    "\n",
    "import CMS_lumi, tdrstyle\n",
    "tdrstyle.setTDRStyle()\n",
    "CMS_lumi.writeExtraText = 1\n",
    "CMS_lumi.extraText = \"     Simulation Preliminary\"\n",
    "\n",
    "donotdelete = []"
   ]
  },
  {
   "cell_type": "code",
   "execution_count": 2,
   "metadata": {},
   "outputs": [
    {
     "name": "stdout",
     "output_type": "stream",
     "text": [
      "zh /home/cms/Desktop/LLP/jetNtuple_RunIISummer16/withoutISR/jetNtuple_glueball/jet_timing_studies_ntuple_zh_mh125_mx50_pl1000_ev10000.root\n",
      "[80.029945 45.671917 37.31981  29.627516 29.349512 21.029001]\n",
      "ggh /home/cms/Desktop/LLP/jetNtuple_RunIISummer16/withoutISR/jetNtuple_glueball/jet_timing_studies_ntuple_ggh_mh125_mx50_pl1000_ev10000.root\n",
      "[]\n",
      "vbfh /home/cms/Desktop/LLP/jetNtuple_RunIISummer16/withoutISR/jetNtuple_glueball/jet_timing_studies_ntuple_vbfh_mh125_mx50_pl1000_ev10000.root\n",
      "[163.69531  86.49124]\n",
      "wh /home/cms/Desktop/LLP/jetNtuple_RunIISummer16/withoutISR/jetNtuple_glueball/jet_timing_studies_ntuple_wh_mh125_mx50_pl1000_ev10000.root\n",
      "[28.754366]\n"
     ]
    }
   ],
   "source": [
    "fpath = {}\n",
    "tree = {}\n",
    "#without ISR\n",
    "fpath['ggh'] = '/home/cms/Desktop/LLP/jetNtuple_RunIISummer16/withoutISR/jetNtuple_glueball/jet_timing_studies_ntuple_ggh_mh125_mx50_pl1000_ev10000.root'\n",
    "fpath['vbfh'] = '/home/cms/Desktop/LLP/jetNtuple_RunIISummer16/withoutISR/jetNtuple_glueball/jet_timing_studies_ntuple_vbfh_mh125_mx50_pl1000_ev10000.root'\n",
    "fpath['wh'] = '/home/cms/Desktop/LLP/jetNtuple_RunIISummer16/withoutISR/jetNtuple_glueball/jet_timing_studies_ntuple_wh_mh125_mx50_pl1000_ev10000.root'\n",
    "fpath['zh'] = '/home/cms/Desktop/LLP/jetNtuple_RunIISummer16/withoutISR/jetNtuple_glueball/jet_timing_studies_ntuple_zh_mh125_mx50_pl1000_ev10000.root'\n",
    "\n",
    "#withISR\n",
    "# fpath['ggh'] = '/home/cms/Desktop/LLP/jetNtuple_RunIISummer16/withISR/jet_timing_studies_ntuple_ggh_ISR_mh125_mx50_pl1000_ev100000.root'\n",
    "# fpath['vbfh'] = '/home/cms/Desktop/LLP/jetNtuple_RunIISummer16/withISR/jet_timing_studies_ntuple_vbfh_ISR_mh125_mx50_pl1000_ev100000.root'\n",
    "\n",
    "\n",
    "\n",
    "for k,v in fpath.iteritems():\n",
    "    print k, v\n",
    "    tree[k] = rtnp.root2array(v)\n",
    "    #tree[k] = rtnp.tree2array(v)\n",
    "    #jet_max_pt_array = [np.max(x) for x in tree[k][\"jetPt\"]]\n",
    "    a = tree[k][\"jetPt\"]\n",
    "    print a[:-1][0]\n",
    "    "
   ]
  },
  {
   "cell_type": "code",
   "execution_count": 37,
   "metadata": {},
   "outputs": [
    {
     "name": "stdout",
     "output_type": "stream",
     "text": [
      "21488.16915\n",
      "135249.06465\n",
      "25775.2\n",
      "4334.357632\n",
      "90098.50036\n",
      "21327.65995\n",
      "4338.223912\n",
      "6458445.0\n",
      "553581.0\n"
     ]
    }
   ],
   "source": [
    "# label['ggHm50ct100mmWISR'] = 'ggH M_{X} = 50 GeV, c#tau = 100 mm'\n",
    "legend = {\n",
    "    'zee':'Z(ee)',\n",
    "    'zmumu':'Z(#mu#mu)',\n",
    "    'znunu':'Z(#nu#nu)',\n",
    "    'zhad':'Z(hadronic)',\n",
    "    'wenu':'W(e#nu)',\n",
    "    'wmunu':'W(#mu#nu)',\n",
    "    'whad':'W(hadronic)',\n",
    "    'vbfh':'vbfH',\n",
    "    'ggh':'ggH',\n",
    "}\n",
    "lumi = (37.80+44.98+63.67) * 1000 #in pb, CMS recorded 2016 + 2017 + 2018\n",
    "br = {\n",
    "    'zee':0.033632,\n",
    "    'zmumu':0.033662,\n",
    "    'znunu':0.20000,\n",
    "    'zhad':0.69911,\n",
    "    'wenu':0.1071,\n",
    "    'wmunu':0.1063,\n",
    "    'whad':0.6741,\n",
    "    'vbfh':1,\n",
    "    'ggh':1,\n",
    "}\n",
    "\n",
    "\n",
    "cs = {\n",
    "    'zee':0.88,\n",
    "    'zmumu':0.88,\n",
    "    'znunu':0.88,\n",
    "    'zhad':0.88,\n",
    "    'wenu':1.37,\n",
    "    'wmunu':1.37,\n",
    "    'whad':1.37,\n",
    "    'vbfh':3.78,\n",
    "    'ggh':44.1,\n",
    "} #in pb\n",
    "\n",
    "\n",
    "n_mc = {}\n",
    "for k,v in cs.items():\n",
    "    n_mc[k] = lumi*br[k]*cs[k]\n",
    "    print(n_mc[k])\n",
    "    \n",
    "# cs = {\n",
    "#     'ggh':0.441,\n",
    "#     'vbfh':0.0378,\n",
    "#     'wh':0.0137,\n",
    "#     'zh':0.0088\n",
    "# } #in pb"
   ]
  },
  {
   "cell_type": "code",
   "execution_count": 4,
   "metadata": {},
   "outputs": [],
   "source": [
    "trigger_names_file = '/home/cms/Desktop/LLP/delayed_jet_analyzer/data/TriggerNames_LLP_V1.dat'\n",
    "trigger_names = []\n",
    "with open(trigger_names_file) as f:\n",
    "    reader = csv.reader(f, delimiter=\" \")\n",
    "    for line in reader:\n",
    "        trigger_names.append(line[2])"
   ]
  },
  {
   "cell_type": "markdown",
   "metadata": {
    "heading_collapsed": true
   },
   "source": [
    "# Trigger efficiency table"
   ]
  },
  {
   "cell_type": "code",
   "execution_count": 19,
   "metadata": {
    "hidden": true
   },
   "outputs": [
    {
     "name": "stdout",
     "output_type": "stream",
     "text": [
      "HLT_IsoMu27\n",
      "HLT_Mu50\n",
      "HLT_PFMET120_PFMHT120_IDTight\n",
      "HLT_Ele30_WPTight_Gsf\n",
      "HLT_MonoCentralPFJet80_PFMETNoMu120_PFMHTNoMu120_IDTight\n",
      "+---------+----------------------------------------------------------+--------------+----------------+-------------+\n",
      "| Process |                       Trigger path                       |   Produced   | Efficiency (%) | # of Events |\n",
      "+---------+----------------------------------------------------------+--------------+----------------+-------------+\n",
      "|   zee   |              HLT_PFMET120_PFMHT120_IDTight               | 4334.357632  |      12.1      |    524.44   |\n",
      "|   zee   |        HLT_Ele23_Ele12_CaloIdL_TrackIdL_IsoVL_DZ         | 4334.357632  |     49.47      |   2144.04   |\n",
      "|   zee   | HLT_MonoCentralPFJet80_PFMETNoMu120_PFMHTNoMu120_IDTight | 4334.357632  |      9.61      |    416.47   |\n",
      "|   zee   |                            Or                            | 4334.357632  |     55.16      |   2390.84   |\n",
      "|  zmumu  |           HLT_Mu17_TrkIsoVVL_Mu8_TrkIsoVVL_DZ            | 4338.223912  |     53.96      |    2341.0   |\n",
      "|  zmumu  |          HLT_Mu17_TrkIsoVVL_TkMu8_TrkIsoVVL_DZ           | 4338.223912  |     55.85      |   2422.86   |\n",
      "|  zmumu  |                            Or                            | 4338.223912  |     55.85      |   2422.86   |\n",
      "|   zhad  |              HLT_PFMET120_PFMHT120_IDTight               | 90098.50036  |      7.67      |   6908.86   |\n",
      "|   zhad  | HLT_MonoCentralPFJet80_PFMETNoMu120_PFMHTNoMu120_IDTight | 90098.50036  |      6.93      |   6247.88   |\n",
      "|   zhad  |                            Or                            | 90098.50036  |      7.7       |   6940.34   |\n",
      "|   vbfh  |              HLT_PFMET120_PFMHT120_IDTight               |   553581.0   |     14.63      |   81015.44  |\n",
      "|   wenu  |                  HLT_Ele30_WPTight_Gsf                   | 21488.16915  |     42.08      |   9041.47   |\n",
      "|   wenu  |                            Or                            | 21488.16915  |     43.17      |   9276.31   |\n",
      "|  wmunu  |                       HLT_IsoMu27                        | 21327.65995  |      51.6      |   11005.82  |\n",
      "|  wmunu  |                         HLT_Mu50                         | 21327.65995  |     31.49      |   6715.41   |\n",
      "|  wmunu  |                            Or                            | 21327.65995  |      51.9      |   11068.0   |\n",
      "|   whad  |              HLT_PFMET120_PFMHT120_IDTight               | 135249.06465 |      7.61      |   10293.29  |\n",
      "|   whad  | HLT_MonoCentralPFJet80_PFMETNoMu120_PFMHTNoMu120_IDTight | 135249.06465 |      6.9       |   9335.78   |\n",
      "|   whad  |                            Or                            | 135249.06465 |      7.7       |   10412.98  |\n",
      "+---------+----------------------------------------------------------+--------------+----------------+-------------+\n"
     ]
    }
   ],
   "source": [
    "# inclusive trigger efficiency * acceptance\n",
    "trigger_vbf = [310]\n",
    "trigger_zh = [177,179,310,362,471]\n",
    "trigger_wh = [136,196,310,84,471]\n",
    "for tr in trigger_wh:\n",
    "    print(trigger_names[tr])\n",
    "trigger_decision = {}\n",
    "table = PrettyTable()\n",
    "table.field_names = [\"Process\",\"Trigger path\",\"Produced\",\"Efficiency (%)\",\"# of Events\"]\n",
    "\n",
    "for k,v in cs.items():\n",
    "    trigger_decision[k] = {}\n",
    "for k,T in tree.items():\n",
    "    \n",
    "    gParticleId = T['gParticleId']\n",
    "    gParticlePt = T['gParticlePt']\n",
    "    gParticleMotherId = T['gParticleMotherId']\n",
    "    gParticleMotherIndex = T['gParticleMotherIndex']\n",
    "    gParticleStatus = T['gParticleStatus']\n",
    "    hlt = T['HLTDecision']\n",
    "    if k == 'zh':\n",
    "        keys = ['zee','zmumu','znunu','zhad']\n",
    "        for tr in trigger_zh:\n",
    "            for key in keys:\n",
    "                trigger_decision[key][tr] = []\n",
    "        for i in range(len(T['isQCD'])): #loop over all events\n",
    "            mumu = np.logical_and(np.logical_and(np.absolute(gParticleId[i]) == 13, np.absolute(gParticleMotherId[i]) == 23), gParticleStatus[i] == 1 )\n",
    "            ee = np.logical_and(np.logical_and(np.absolute(gParticleId[i]) == 11, np.absolute(gParticleMotherId[i]) == 23), gParticleStatus[i] == 1 )\n",
    "            nunu_temp = np.logical_or(np.logical_or(np.absolute(gParticleId[i]) == 12,np.absolute(gParticleId[i]) == 14),np.absolute(gParticleId[i]) == 16)\n",
    "            nunu = np.logical_and(np.logical_and(nunu_temp, np.absolute(gParticleMotherId[i]) == 23), gParticleStatus[i] == 1 )\n",
    "#             had = np.logical_not(np.logical_or(nunu,np.logical_or(mumu,ee)))\n",
    "            had = np.logical_and(np.logical_and(np.absolute(gParticleId[i]) <= 6, np.absolute(gParticleMotherId[i]) == 23), gParticleStatus[i] == 23 )\n",
    "            mother_id = gParticleMotherId[i][np.absolute(gParticleId[i]) == 13] \n",
    "            for tr in trigger_zh:\n",
    "                if np.count_nonzero(mumu) == 2:\n",
    "                    trigger_decision['zmumu'][tr].append(hlt[i][tr])\n",
    "                    assert(np.count_nonzero(ee)==np.count_nonzero(nunu)==0)\n",
    "                elif np.count_nonzero(ee) == 2:\n",
    "                    trigger_decision['zee'][tr].append(hlt[i][tr])\n",
    "                    assert(np.count_nonzero(mumu)==np.count_nonzero(nunu)==0)\n",
    "                elif np.count_nonzero(nunu) == 2:\n",
    "                    trigger_decision['znunu'][tr].append(hlt[i][tr])\n",
    "                    assert(np.count_nonzero(ee)==np.count_nonzero(mumu)==0)\n",
    "                elif np.count_nonzero(had) == 2:\n",
    "                    trigger_decision['zhad'][tr].append(hlt[i][tr])\n",
    "        # checking the br makes sense    \n",
    "#         print(\"zmumu br:\"+str(len(trigger_decision['zmumu'][177])*1.0/len(T['isQCD'])))\n",
    "#         print(\"zee br:\"+str(len(trigger_decision['zee'][177])*1.0/len(T['isQCD'])))\n",
    "#         print(\"znunu br:\"+str(len(trigger_decision['znunu'][177])*1.0/len(T['isQCD'])))\n",
    "#         print(\"zhad br:\"+str(len(trigger_decision['zhad'][177])*1.0/len(T['isQCD'])))\n",
    "        for key in keys:\n",
    "            trigger_or = np.zeros(np.array(trigger_decision[key][trigger_zh[0]]).shape)\n",
    "            for tr in trigger_zh:\n",
    "                trigger_or += np.array(trigger_decision[key][tr])\n",
    "                eff = np.mean(trigger_decision[key][tr])\n",
    "                num = eff* n_mc[key]\n",
    "                if num > 0.01 and eff > 0.05:\n",
    "                    table.add_row([key,trigger_names[tr],n_mc[key], round(100*eff,2),round(num,2)])\n",
    "            eff = np.count_nonzero(trigger_or)*1.0/len(trigger_or)\n",
    "            num = eff* n_mc[key]\n",
    "            if eff > 0.05:\n",
    "                table.add_row([key,\"Or\",n_mc[key], round(100*eff,2),round(num,2)])\n",
    "    elif k == 'wh':\n",
    "        keys = ['wenu','wmunu','whad']\n",
    "        for tr in trigger_wh:\n",
    "            for key in keys:\n",
    "                trigger_decision[key][tr] = []\n",
    "        for i in range(len(T['isQCD'])): #loop over all events\n",
    "            mu = np.logical_and(np.logical_and(np.absolute(gParticleId[i]) == 13, np.absolute(gParticleMotherId[i]) == 24), gParticleMotherIndex[i] == 1 )\n",
    "            e = np.logical_and(np.logical_and(np.absolute(gParticleId[i]) == 11, np.absolute(gParticleMotherId[i]) == 24), gParticleMotherIndex[i] == 1 )\n",
    "            nu_temp = np.logical_or(np.logical_or(np.absolute(gParticleId[i]) == 12,np.absolute(gParticleId[i]) == 14),np.absolute(gParticleId[i]) == 16)\n",
    "            nu = np.logical_and(np.logical_and(nu_temp, np.absolute(gParticleMotherId[i]) == 24), gParticleMotherIndex[i] == 1 )\n",
    "            had = np.logical_and(np.logical_and(np.absolute(gParticleId[i]) <= 6, np.absolute(gParticleMotherId[i]) == 24), gParticleMotherIndex[i] == 1 )\n",
    "            for tr in trigger_wh:\n",
    "                if np.count_nonzero(mu) == 1 and np.count_nonzero(nu) == 1:\n",
    "                    trigger_decision['wmunu'][tr].append(hlt[i][tr])\n",
    "                    assert(np.count_nonzero(e)==np.count_nonzero(had)==0)\n",
    "                elif np.count_nonzero(e) == 1 and np.count_nonzero(nu) == 1:\n",
    "                    trigger_decision['wenu'][tr].append(hlt[i][tr])\n",
    "                    assert(np.count_nonzero(mu)==np.count_nonzero(had)==0)\n",
    "                elif np.count_nonzero(had) == 2:\n",
    "                    trigger_decision['whad'][tr].append(hlt[i][tr])\n",
    "                    assert(np.count_nonzero(mu)==np.count_nonzero(e)==np.count_nonzero(nu)==0)\n",
    "\n",
    "#         # checking the br makes sense    \n",
    "#         print(\"wmunu br:\"+str(len(trigger_decision['wmunu'][177])*1.0/len(T['isQCD'])))\n",
    "#         print(\"wenu br:\"+str(len(trigger_decision['wenu'][177])*1.0/len(T['isQCD'])))\n",
    "#         print(\"whad br:\"+str(len(trigger_decision['whad'][177])*1.0/len(T['isQCD'])))\n",
    "        for key in keys:\n",
    "            trigger_or = np.zeros(np.array(trigger_decision[key][trigger_wh[0]]).shape)\n",
    "            for tr in trigger_wh:\n",
    "                trigger_or += np.array(trigger_decision[key][tr])\n",
    "                eff = np.mean(trigger_decision[key][tr])\n",
    "                num = eff* n_mc[key]\n",
    "                if num > 0.01 and eff > 0.05:\n",
    "                    table.add_row([key,trigger_names[tr],n_mc[key], round(100*eff,2),round(num,2)])\n",
    "#                     print(key+', '+trigger_names[tr]+', '+str(round(100*eff))+'%, '+str(round(num,4)))\n",
    "            eff = np.count_nonzero(trigger_or)*1.0/len(trigger_or)\n",
    "            num = eff* n_mc[key]\n",
    "            if eff > 0.05:\n",
    "                table.add_row([key,\"Or\",n_mc[key], round(100*eff,2),round(num,2)])\n",
    "            \n",
    "    elif k == 'vbfh':\n",
    "        keys = ['vbfh']\n",
    "        for key in keys:\n",
    "            for tr in trigger_vbf:\n",
    "                a = hlt[:][tr]\n",
    "                temp = 0\n",
    "                for j in range(len(hlt)):\n",
    "                    temp += hlt[j][tr]\n",
    "                eff = 1.0*temp/len(hlt)\n",
    "                num = eff* n_mc[key]\n",
    "                if num > 0.01:\n",
    "                    table.add_row([key,trigger_names[tr],n_mc[key], round(100*eff,2),round(num,2)])\n",
    "    elif k == 'ggh':\n",
    "        keys = [k]\n",
    "        for key in keys:\n",
    "            for tr in trigger_vbf:\n",
    "                a = hlt[:][tr]\n",
    "                temp = 0\n",
    "                for j in range(len(hlt)):\n",
    "                    temp += hlt[j][tr]\n",
    "                eff = 1.0*temp/len(hlt)\n",
    "                num = eff* n_mc[key]\n",
    "                if num > 0.01:\n",
    "                    table.add_row([key,trigger_names[tr],n_mc[key], round(100*eff,2),round(num,2)])\n",
    "#                 print('inclusive trigger efficiency of '+ k + trigger_names[i]+': '+str(1.0*temp/len(hlt)))\n",
    "print(table)"
   ]
  },
  {
   "cell_type": "markdown",
   "metadata": {},
   "source": [
    "# PF MET for all processes"
   ]
  },
  {
   "cell_type": "code",
   "execution_count": 7,
   "metadata": {},
   "outputs": [],
   "source": [
    "# inclusive trigger efficiency * acceptance\n",
    "pfMet = {}\n",
    "mht = {}\n",
    "for k,v in cs.items():\n",
    "    pfMet[k] = []\n",
    "    mht[k] = []\n",
    "for k,T in tree.items():\n",
    "    gParticleId = T['gParticleId']\n",
    "    gParticlePt = T['gParticlePt']\n",
    "    gParticleMotherId = T['gParticleMotherId']\n",
    "    gParticleMotherIndex = T['gParticleMotherIndex']\n",
    "    gParticleStatus = T['gParticleStatus']\n",
    "    jetE = T['jetE']\n",
    "    jetPt = T['jetPt']\n",
    "    jetEta = T['jetEta']\n",
    "    jetPhi = T['jetPhi']\n",
    "    hlt = T['HLTDecision']\n",
    "    pfMetPt = T['pfMetPt']\n",
    "    nJets = T['nJets']\n",
    "    if k == 'zh':\n",
    "        for i in range(len(T['isQCD'])): #loop over all events\n",
    "            mumu = np.logical_and(np.logical_and(np.absolute(gParticleId[i]) == 13, np.absolute(gParticleMotherId[i]) == 23), gParticleStatus[i] == 1 )\n",
    "            ee = np.logical_and(np.logical_and(np.absolute(gParticleId[i]) == 11, np.absolute(gParticleMotherId[i]) == 23), gParticleStatus[i] == 1 )\n",
    "            nunu_temp = np.logical_or(np.logical_or(np.absolute(gParticleId[i]) == 12,np.absolute(gParticleId[i]) == 14),np.absolute(gParticleId[i]) == 16)\n",
    "            nunu = np.logical_and(np.logical_and(nunu_temp, np.absolute(gParticleMotherId[i]) == 23), gParticleStatus[i] == 1 )\n",
    "        #             had = np.logical_not(np.logical_or(nunu,np.logical_or(mumu,ee)))\n",
    "            had = np.logical_and(np.logical_and(np.absolute(gParticleId[i]) <= 6, np.absolute(gParticleMotherId[i]) == 23), gParticleStatus[i] == 23 )\n",
    "            mother_id = gParticleMotherId[i][np.absolute(gParticleId[i]) == 13] \n",
    "            if np.count_nonzero(mumu) == 2:\n",
    "                key = 'zmumu'\n",
    "            elif np.count_nonzero(ee) == 2:\n",
    "                key = 'zee'\n",
    "            elif np.count_nonzero(nunu) == 2:\n",
    "                key = 'znunu'\n",
    "                assert(np.count_nonzero(ee)==np.count_nonzero(mumu)==0)\n",
    "            elif np.count_nonzero(had) == 2:\n",
    "                key = 'zhad'\n",
    "            else:\n",
    "                key = None\n",
    "            if not key is None:        \n",
    "                #MHT & pfMet calculation\n",
    "                jet_sum = rt.TLorentzVector()\n",
    "                for j in range(nJets[i]):\n",
    "                    temp = rt.TLorentzVector()\n",
    "                    temp.SetPtEtaPhiE(jetPt[i][j],jetEta[i][j],jetPhi[i][j],jetE[i][j])\n",
    "                    jet_sum += temp\n",
    "                mht[key].append(jet_sum.Pt())\n",
    "                pfMet[key].append(pfMetPt[i])\n",
    "    elif k=='wh':\n",
    "        for i in range(len(T['isQCD'])): #loop over all events\n",
    "            mu = np.logical_and(np.logical_and(np.absolute(gParticleId[i]) == 13, np.absolute(gParticleMotherId[i]) == 24), gParticleMotherIndex[i] == 1 )\n",
    "            e = np.logical_and(np.logical_and(np.absolute(gParticleId[i]) == 11, np.absolute(gParticleMotherId[i]) == 24), gParticleMotherIndex[i] == 1 )\n",
    "            nu_temp = np.logical_or(np.logical_or(np.absolute(gParticleId[i]) == 12,np.absolute(gParticleId[i]) == 14),np.absolute(gParticleId[i]) == 16)\n",
    "            nu = np.logical_and(np.logical_and(nu_temp, np.absolute(gParticleMotherId[i]) == 24), gParticleMotherIndex[i] == 1 )\n",
    "            had = np.logical_and(np.logical_and(np.absolute(gParticleId[i]) <= 6, np.absolute(gParticleMotherId[i]) == 24), gParticleMotherIndex[i] == 1 )\n",
    "            if np.count_nonzero(mu) == 1 and np.count_nonzero(nu) == 1:\n",
    "                key = 'wmunu'\n",
    "                assert(np.count_nonzero(e)==np.count_nonzero(had)==0)\n",
    "            elif np.count_nonzero(e) == 1 and np.count_nonzero(nu) == 1:\n",
    "                key = 'wenu'\n",
    "                assert(np.count_nonzero(mu)==np.count_nonzero(had)==0)\n",
    "            elif np.count_nonzero(had) == 2:\n",
    "                key = 'whad'\n",
    "                assert(np.count_nonzero(mu)==np.count_nonzero(e)==np.count_nonzero(nu)==0)\n",
    "            if not key is None:        \n",
    "                #MHT & pfMet calculation\n",
    "                jet_sum = rt.TLorentzVector()\n",
    "                for j in range(nJets[i]):\n",
    "                    temp = rt.TLorentzVector()\n",
    "                    temp.SetPtEtaPhiE(jetPt[i][j],jetEta[i][j],jetPhi[i][j],jetE[i][j])\n",
    "                    jet_sum += temp\n",
    "                mht[key].append(jet_sum.Pt())\n",
    "                pfMet[key].append(pfMetPt[i])\n",
    "    elif k=='vbfh' or k == 'ggh':\n",
    "        #MHT & pfMet calculation\n",
    "        key = k\n",
    "        for i in range(len(T['isQCD'])): #loop over all events\n",
    "            jet_sum = rt.TLorentzVector()\n",
    "            for j in range(nJets[i]):\n",
    "                temp = rt.TLorentzVector()\n",
    "                temp.SetPtEtaPhiE(jetPt[i][j],jetEta[i][j],jetPhi[i][j],jetE[i][j])\n",
    "                jet_sum += temp\n",
    "            mht[key].append(jet_sum.Pt())\n",
    "            pfMet[key].append(pfMetPt[i])\n"
   ]
  },
  {
   "cell_type": "code",
   "execution_count": 42,
   "metadata": {},
   "outputs": [
    {
     "name": "stderr",
     "output_type": "stream",
     "text": [
      "Warning in <TCanvas::Constructor>: Deleting canvas with same name: c\n"
     ]
    },
    {
     "data": {
      "image/png": "[encoded data removed]",
      "text/plain": [
       "<IPython.core.display.Image object>"
      ]
     },
     "metadata": {},
     "output_type": "display_data"
    }
   ],
   "source": [
    "c = rt.TCanvas('c','c', 800, 600)\n",
    "h = {}\n",
    "leg = rt.TLegend(0.68,0.65,0.97,0.93);\n",
    "leg.SetTextSize(0.03)\n",
    "i = 0\n",
    "for k,v in pfMet.items():\n",
    "    if k=='vbfh' or k=='ggh':\n",
    "        h[k] = create_TH1D( v, axis_title=['PF MET [GeV]', 'events'], name=k, binning=[30,0,500])\n",
    "        h[k].SetLineColor(std_color_list[i])\n",
    "        leg.AddEntry(h[k],legend[k])\n",
    "    #     h[k].GetYaxis().SetRangeUser(0,300)\n",
    "        if i == 0:\n",
    "            h[k].DrawNormalized('')\n",
    "        else:\n",
    "            h[k].DrawNormalized('same')\n",
    "        i += 1\n",
    "leg.Draw()\n",
    "c.SetLogy()\n",
    "c.Draw()"
   ]
  },
  {
   "cell_type": "markdown",
   "metadata": {},
   "source": [
    "# ZH Kinematics"
   ]
  },
  {
   "cell_type": "code",
   "execution_count": 169,
   "metadata": {},
   "outputs": [],
   "source": [
    "# inclusive trigger efficiency * acceptance\n",
    "trigger_zh = [177,179,310,362,471]#mu,mu, pfmet, ele,met\n",
    "pfMet = {}\n",
    "mht = {}\n",
    "mu1_pt = []\n",
    "mu2_pt = []\n",
    "ele1_pt = []\n",
    "ele2_pt = []\n",
    "trigger_decision = {}\n",
    "\n",
    "for k,v in cs.items():\n",
    "    trigger_decision[k] = {}\n",
    "T=tree['zh']    \n",
    "gParticleId = T['gParticleId']\n",
    "gParticlePt = T['gParticlePt']\n",
    "gParticleMotherId = T['gParticleMotherId']\n",
    "gParticleMotherIndex = T['gParticleMotherIndex']\n",
    "gParticleStatus = T['gParticleStatus']\n",
    "jetE = T['jetE']\n",
    "jetPt = T['jetPt']\n",
    "jetEta = T['jetEta']\n",
    "jetPhi = T['jetPhi']\n",
    "hlt = T['HLTDecision']\n",
    "pfMetPt = T['pfMetPt']\n",
    "nJets = T['nJets']\n",
    "keys = ['zee','zmumu','znunu','zhad']\n",
    "\n",
    "\n",
    "for tr in trigger_zh:\n",
    "    for key in keys:\n",
    "        trigger_decision[key][tr] = []\n",
    "        pfMet[key] = []\n",
    "        mht[key] = []\n",
    "for i in range(len(T['isQCD'])): #loop over all events\n",
    "    mumu = np.logical_and(np.logical_and(np.absolute(gParticleId[i]) == 13, np.absolute(gParticleMotherId[i]) == 23), gParticleStatus[i] == 1 )\n",
    "    ee = np.logical_and(np.logical_and(np.absolute(gParticleId[i]) == 11, np.absolute(gParticleMotherId[i]) == 23), gParticleStatus[i] == 1 )\n",
    "    nunu_temp = np.logical_or(np.logical_or(np.absolute(gParticleId[i]) == 12,np.absolute(gParticleId[i]) == 14),np.absolute(gParticleId[i]) == 16)\n",
    "    nunu = np.logical_and(np.logical_and(nunu_temp, np.absolute(gParticleMotherId[i]) == 23), gParticleStatus[i] == 1 )\n",
    "#             had = np.logical_not(np.logical_or(nunu,np.logical_or(mumu,ee)))\n",
    "    had = np.logical_and(np.logical_and(np.absolute(gParticleId[i]) <= 6, np.absolute(gParticleMotherId[i]) == 23), gParticleStatus[i] == 23 )\n",
    "    mother_id = gParticleMotherId[i][np.absolute(gParticleId[i]) == 13] \n",
    "    if np.count_nonzero(mumu) == 2:\n",
    "        key = 'zmumu'\n",
    "        mu_pt_temp = gParticlePt[i][mumu] # events where muons pass the pt cut\n",
    "        mu1_pt.append(np.max(mu_pt_temp)) #save the max_pt muon\n",
    "        mu2_pt.append(np.min(mu_pt_temp)) #save the max_pt muonassert(np.count_nonzero(ee)==np.count_nonzero(nunu)==0)\n",
    "    elif np.count_nonzero(ee) == 2:\n",
    "        key = 'zee'\n",
    "        ele_pt_temp = gParticlePt[i][ee]\n",
    "        ele1_pt.append(np.max(ele_pt_temp)) #save the max_pt ele\n",
    "        ele2_pt.append(np.min(ele_pt_temp)) #save the max_pt eleassert(np.count_nonzero(mumu)==np.count_nonzero(nunu)==0)\n",
    "    elif np.count_nonzero(nunu) == 2:\n",
    "        key = 'znunu'\n",
    "        assert(np.count_nonzero(ee)==np.count_nonzero(mumu)==0)\n",
    "    elif np.count_nonzero(had) == 2:\n",
    "        key = 'zhad'\n",
    "    else:\n",
    "        key = None\n",
    "    if not key is None:        \n",
    "        for tr in trigger_zh:\n",
    "            trigger_decision[key][tr].append(hlt[i][tr])\n",
    "\n",
    "        #MHT & pfMet calculation\n",
    "        jet_sum = rt.TLorentzVector()\n",
    "        for j in range(nJets[i]):\n",
    "            temp = rt.TLorentzVector()\n",
    "            temp.SetPtEtaPhiE(jetPt[i][j],jetEta[i][j],jetPhi[i][j],jetE[i][j])\n",
    "            jet_sum += temp\n",
    "        mht[key].append(jet_sum.Pt())\n",
    "        pfMet[key].append(pfMetPt[i])"
   ]
  },
  {
   "cell_type": "code",
   "execution_count": 170,
   "metadata": {},
   "outputs": [
    {
     "name": "stderr",
     "output_type": "stream",
     "text": [
      "Warning in <TCanvas::Constructor>: Deleting canvas with same name: c\n",
      "Warning in <TROOT::Append>: Replacing existing TH1: vbfh (Potential memory leak).\n",
      "Info in <TCanvas::Print>: pdf file ../plots/trigger_efficiency/zh_ele_pt.pdf has been created\n"
     ]
    },
    {
     "data": {
      "image/png": "[encoded data removed]",
      "text/plain": [
       "<IPython.core.display.Image object>"
      ]
     },
     "metadata": {},
     "output_type": "display_data"
    }
   ],
   "source": [
    "# Plotting muon pt\n",
    "c = rt.TCanvas('c','c', 800, 600)\n",
    "h = {}\n",
    "leg = rt.TLegend(0.68,0.70,0.97,0.93);\n",
    "leg.SetTextSize(0.03)\n",
    "\n",
    "h['mu1_pt'] = create_TH1D( ele1_pt, axis_title=['Electron pT [GeV]', 'events'], name=k, binning=[40,0,300])\n",
    "h['mu1_pt'].SetLineColor(std_color_list[0])\n",
    "h['mu1_pt'].Draw('')\n",
    "h['mu2_pt'] = create_TH1D( ele2_pt, axis_title=['Electron pT [GeV]', 'events'], name=k, binning=[40,0,300])\n",
    "h['mu2_pt'].SetLineColor(std_color_list[1])\n",
    "h['mu2_pt'].Draw('same')\n",
    "leg.AddEntry(h['mu1_pt'],'ele1_pT')\n",
    "leg.AddEntry(h['mu2_pt'],'ele2_pT')\n",
    "\n",
    "c.SetLogy()\n",
    "leg.Draw()\n",
    "c.Draw()\n",
    "\n",
    "c.SaveAs(\"../../plots/trigger_efficiency/zh_ele_pt.pdf\")"
   ]
  },
  {
   "cell_type": "code",
   "execution_count": 64,
   "metadata": {},
   "outputs": [
    {
     "name": "stderr",
     "output_type": "stream",
     "text": [
      "Warning in <TCanvas::Constructor>: Deleting canvas with same name: c\n",
      "Warning in <TROOT::Append>: Replacing existing TH1: vbfh (Potential memory leak).\n",
      "Info in <TCanvas::Print>: pdf file ../plots/trigger_efficiency/zee_mht_pfmet.pdf has been created\n"
     ]
    },
    {
     "data": {
      "image/png": "[encoded data removed]",
      "text/plain": [
       "<IPython.core.display.Image object>"
      ]
     },
     "metadata": {},
     "output_type": "display_data"
    }
   ],
   "source": [
    "# Plotting muon pt\n",
    "c = rt.TCanvas('c','c', 800, 600)\n",
    "h = {}\n",
    "leg = rt.TLegend(0.68,0.70,0.97,0.93);\n",
    "leg.SetTextSize(0.03)\n",
    "key = 'zee'\n",
    "h['pfmet'] = create_TH1D( pfMet[key], axis_title=['Energy [GeV]', 'events'], name=k, binning=[40,0,400])\n",
    "h['pfmet'].SetLineColor(std_color_list[0])\n",
    "h['pfmet'].Draw('')\n",
    "h['mht'] = create_TH1D( mht[key], axis_title=['Energy [GeV]', 'events'], name=k, binning=[40,0,400])\n",
    "h['mht'].SetLineColor(std_color_list[1])\n",
    "h['mht'].Draw('same')\n",
    "leg.AddEntry(h['mht'],'MHT')\n",
    "leg.AddEntry(h['pfmet'],'PF MET')\n",
    "\n",
    "c.SetLogy()\n",
    "leg.Draw()\n",
    "c.Draw()\n",
    "\n",
    "c.SaveAs(\"../../plots/trigger_efficiency/\"+key+\"_mht_pfmet.pdf\")"
   ]
  },
  {
   "cell_type": "markdown",
   "metadata": {},
   "source": [
    "# ZH turn on"
   ]
  },
  {
   "cell_type": "code",
   "execution_count": 178,
   "metadata": {},
   "outputs": [
    {
     "name": "stderr",
     "output_type": "stream",
     "text": [
      "Warning in <TCanvas::Constructor>: Deleting canvas with same name: c\n",
      "Info in <TCanvas::Print>: pdf file ../plots/trigger_efficiency/zh_trigger362_elept.pdf has been created\n"
     ]
    },
    {
     "data": {
      "image/png": "[encoded data removed]",
      "text/plain": [
       "<IPython.core.display.Image object>"
      ]
     },
     "metadata": {},
     "output_type": "display_data"
    }
   ],
   "source": [
    "\n",
    "# efficiency vs pfmet\n",
    "# Plotting efficiency vs muon pt\n",
    "pfMet = [x for x in T['pfMetPt']]\n",
    "pfMet = np.array(pfMet)\n",
    "hlt = T['HLTDecision']\n",
    "trigger = [x[309] for x in hlt]\n",
    "trigger = np.array(trigger)\n",
    "\n",
    "\n",
    "c = rt.TCanvas('c','c', 800, 600)\n",
    "h = {}\n",
    "leg = rt.TLegend(0.7,0.70,0.9,0.9);\n",
    "leg.SetTextSize(0.03)\n",
    "xaxis = ele1_pt\n",
    "\n",
    "bins = [0,30,40,60,80,100,150,250]\n",
    "# bins = [0,10,20,30,40,50,100]\n",
    "xaxis_title = \"Electron pT [GeV]\"\n",
    "\n",
    "hm = create_TH1D(xaxis, 'hm1', axis_title = [xaxis_title,'Trigger Efficiency'], binning=bins,weights = trigger_decision['zee'][362])\n",
    "hb = create_TH1D(xaxis, 'hb1', axis_title = [xaxis_title,'Trigger Efficiency'], binning=bins)\n",
    "pEff1 = rt.TEfficiency(hm,hb)\n",
    "pEff1.SetLineColor(std_color_list[0])\n",
    "pEff1.Draw()\n",
    "\n",
    "xaxis = ele2_pt\n",
    "bins = [0,30,40,60,150]\n",
    "hm = create_TH1D(xaxis, 'hm2', axis_title = [xaxis_title,'Trigger Efficiency'], binning=bins,weights = trigger_decision['zee'][362])\n",
    "hb = create_TH1D(xaxis, 'hb2', axis_title = [xaxis_title,'Trigger Efficiency'], binning=bins)\n",
    "pEff2 = rt.TEfficiency(hm,hb)\n",
    "pEff1.SetLineColor(std_color_list[1])\n",
    "pEff2.Draw('same')\n",
    "leg.AddEntry(pEff1,'Electron1 pT')\n",
    "leg.AddEntry(pEff2,'Electron2 pT')\n",
    "\n",
    "# hb.Draw()\n",
    "# hb.Draw()\n",
    "# hm.Draw('same')\n",
    "leg.Draw()\n",
    "# c.SetLogy()\n",
    "c.Draw()\n",
    "pEff1.GetPaintedGraph().GetYaxis().SetRangeUser(0,1)\n",
    "\n",
    "c.SaveAs(\"../../plots/trigger_efficiency/zh_trigger362_elept.pdf\")"
   ]
  },
  {
   "cell_type": "code",
   "execution_count": 53,
   "metadata": {},
   "outputs": [
    {
     "name": "stderr",
     "output_type": "stream",
     "text": [
      "Warning in <TCanvas::Constructor>: Deleting canvas with same name: c\n",
      "Info in <TCanvas::Print>: pdf file ../plots/trigger_efficiency/zh_trigger177_mupt.pdf has been created\n"
     ]
    },
    {
     "data": {
      "image/png": "[encoded data removed]",
      "text/plain": [
       "<IPython.core.display.Image object>"
      ]
     },
     "metadata": {},
     "output_type": "display_data"
    }
   ],
   "source": [
    "\n",
    "# efficiency vs pfmet\n",
    "\n",
    "c = rt.TCanvas('c','c', 800, 600)\n",
    "h = {}\n",
    "leg = rt.TLegend(0.7,0.70,0.9,0.9);\n",
    "leg.SetTextSize(0.03)\n",
    "xaxis = mu1_pt\n",
    "\n",
    "bins = [0,30,40,60,80,100,150,250]\n",
    "# bins = [0,10,20,30,40,50,100]\n",
    "xaxis_title = \"Muon pT [GeV]\"\n",
    "\n",
    "hm = create_TH1D(xaxis, 'hm1', axis_title = [xaxis_title,'Trigger Efficiency'], binning=bins,weights = trigger_decision['zmumu'][177])\n",
    "hb = create_TH1D(xaxis, 'hb1', axis_title = [xaxis_title,'Trigger Efficiency'], binning=bins)\n",
    "pEff1 = rt.TEfficiency(hm,hb)\n",
    "pEff1.SetLineColor(std_color_list[0])\n",
    "pEff1.Draw()\n",
    "\n",
    "xaxis = mu2_pt\n",
    "bins = [0,30,40,60,80,150]\n",
    "hm = create_TH1D(xaxis, 'hm2', axis_title = [xaxis_title,'Trigger Efficiency'], binning=bins,weights = trigger_decision['zmumu'][177])\n",
    "hb = create_TH1D(xaxis, 'hb2', axis_title = [xaxis_title,'Trigger Efficiency'], binning=bins)\n",
    "pEff2 = rt.TEfficiency(hm,hb)\n",
    "pEff1.SetLineColor(std_color_list[1])\n",
    "pEff2.Draw('same')\n",
    "leg.AddEntry(pEff1,'Muon1 pT')\n",
    "leg.AddEntry(pEff2,'Muon2 pT')\n",
    "\n",
    "# hb.Draw()\n",
    "# hb.Draw()\n",
    "# hm.Draw('same')\n",
    "leg.Draw()\n",
    "# c.SetLogy()\n",
    "c.Draw()\n",
    "pEff1.GetPaintedGraph().GetYaxis().SetRangeUser(0,1)\n",
    "\n",
    "c.SaveAs(\"../../plots/trigger_efficiency/zh_trigger177_mupt.pdf\")"
   ]
  },
  {
   "cell_type": "code",
   "execution_count": 98,
   "metadata": {},
   "outputs": [
    {
     "name": "stdout",
     "output_type": "stream",
     "text": [
      "(5725, 5725)\n"
     ]
    },
    {
     "name": "stderr",
     "output_type": "stream",
     "text": [
      "Warning in <TCanvas::Constructor>: Deleting canvas with same name: c\n",
      "Info in <TCanvas::Print>: pdf file ../plots/trigger_efficiency/zhad_trigeff_pfmet.pdf has been created\n"
     ]
    },
    {
     "data": {
      "image/png": "[encoded data removed]",
      "text/plain": [
       "<IPython.core.display.Image object>"
      ]
     },
     "metadata": {},
     "output_type": "display_data"
    }
   ],
   "source": [
    "# efficiency vs pfmet\n",
    "\n",
    "c = rt.TCanvas('c','c', 800, 600)\n",
    "h = {}\n",
    "leg = rt.TLegend(0.2,0.83,0.8,0.94);\n",
    "leg.SetTextSize(0.02)\n",
    "key = 'zhad'\n",
    "xaxis = pfMet[key]\n",
    "\n",
    "bins = [0,30,40,60,80,100,150,250]\n",
    "# bins = [0,10,20,30,40,50,100]\n",
    "xaxis_title = \"PF MET [GeV]\"\n",
    "print(len(xaxis),len(trigger_decision[key][310]))\n",
    "hm = create_TH1D(xaxis, 'hm1', axis_title = [xaxis_title,'Trigger Efficiency'], binning=[50,0,500],weights = trigger_decision[key][310])\n",
    "hb = create_TH1D(xaxis, 'hb1', axis_title = [xaxis_title,'Trigger Efficiency'], binning=[50,0,500])\n",
    "pEff1 = rt.TEfficiency(hm,hb)\n",
    "pEff1.SetLineColor(std_color_list[0])\n",
    "pEff1.Draw()\n",
    "\n",
    "hm = create_TH1D(xaxis, 'hm2', axis_title = [xaxis_title,'Trigger Efficiency'], binning=[50,0,500],weights = trigger_decision[key][471])\n",
    "hb = create_TH1D(xaxis, 'hb2', axis_title = [xaxis_title,'Trigger Efficiency'], binning=[50,0,500])\n",
    "pEff2 = rt.TEfficiency(hm,hb)\n",
    "pEff1.SetLineColor(std_color_list[1])\n",
    "pEff2.Draw('same')\n",
    "leg.AddEntry(pEff1,trigger_names[310])\n",
    "leg.AddEntry(pEff2,trigger_names[471])\n",
    "\n",
    "# hb.Draw()\n",
    "# hb.Draw()\n",
    "# hm.Draw('same')\n",
    "leg.Draw()\n",
    "# c.SetLogy()\n",
    "c.Draw()\n",
    "pEff1.GetPaintedGraph().GetYaxis().SetRangeUser(0,1.2)\n",
    "\n",
    "c.SaveAs(\"../../plots/trigger_efficiency/zhad_trigeff_pfmet.pdf\")"
   ]
  },
  {
   "cell_type": "markdown",
   "metadata": {},
   "source": [
    "# WH sample kinematics"
   ]
  },
  {
   "cell_type": "code",
   "execution_count": 114,
   "metadata": {},
   "outputs": [],
   "source": [
    "# inclusive trigger efficiency * acceptance\n",
    "trigger_wh = [136,196,310,84,471]#mu,mu,met,ele,met\n",
    "pfMet = {}\n",
    "mht = {}\n",
    "mu_pt = []\n",
    "ele_pt = []\n",
    "trigger_decision = {}\n",
    "\n",
    "for k,v in cs.items():\n",
    "    trigger_decision[k] = {}\n",
    "T=tree['wh']    \n",
    "gParticleId = T['gParticleId']\n",
    "gParticlePt = T['gParticlePt']\n",
    "gParticleMotherId = T['gParticleMotherId']\n",
    "gParticleMotherIndex = T['gParticleMotherIndex']\n",
    "gParticleStatus = T['gParticleStatus']\n",
    "jetE = T['jetE']\n",
    "jetPt = T['jetPt']\n",
    "jetEta = T['jetEta']\n",
    "jetPhi = T['jetPhi']\n",
    "hlt = T['HLTDecision']\n",
    "pfMetPt = T['pfMetPt']\n",
    "nJets = T['nJets']\n",
    "keys = ['wmunu','wenu','whad']\n",
    "\n",
    "\n",
    "for tr in trigger_wh:\n",
    "    for key in keys:\n",
    "        trigger_decision[key][tr] = []\n",
    "        pfMet[key] = []\n",
    "        mht[key] = []\n",
    "for i in range(len(T['isQCD'])): #loop over all events\n",
    "    mu = np.logical_and(np.logical_and(np.absolute(gParticleId[i]) == 13, np.absolute(gParticleMotherId[i]) == 24), gParticleMotherIndex[i] == 1 )\n",
    "    e = np.logical_and(np.logical_and(np.absolute(gParticleId[i]) == 11, np.absolute(gParticleMotherId[i]) == 24), gParticleMotherIndex[i] == 1 )\n",
    "    nu_temp = np.logical_or(np.logical_or(np.absolute(gParticleId[i]) == 12,np.absolute(gParticleId[i]) == 14),np.absolute(gParticleId[i]) == 16)\n",
    "    nu = np.logical_and(np.logical_and(nu_temp, np.absolute(gParticleMotherId[i]) == 24), gParticleMotherIndex[i] == 1 )\n",
    "    had = np.logical_and(np.logical_and(np.absolute(gParticleId[i]) <= 6, np.absolute(gParticleMotherId[i]) == 24), gParticleMotherIndex[i] == 1 )\n",
    "\n",
    "                    \n",
    "    if np.count_nonzero(mu) == 1 and np.count_nonzero(nu) == 1:\n",
    "        key = 'wmunu'\n",
    "        mu_pt_temp = gParticlePt[i][mu] # events where muons pass the pt cut\n",
    "        assert(len(mu_pt_temp) == 1)\n",
    "        mu_pt.append(mu_pt_temp[0]) #save the max_pt muon\n",
    "        assert(np.count_nonzero(e)==np.count_nonzero(had)==0)\n",
    "    elif  np.count_nonzero(e) == 1 and np.count_nonzero(nu) == 1:\n",
    "        key = 'wenu'\n",
    "        ele_pt_temp = gParticlePt[i][e]\n",
    "        assert(len(ele_pt_temp) == 1)\n",
    "        ele_pt.append(np.max(ele_pt_temp)) #save the max_pt ele\n",
    "        assert(np.count_nonzero(mu)==np.count_nonzero(had)==0)\n",
    "    elif  np.count_nonzero(had) == 2:\n",
    "        key = 'whad'\n",
    "        assert(np.count_nonzero(mu)==np.count_nonzero(e)==np.count_nonzero(nu)==0)\n",
    "    else:\n",
    "        key = None\n",
    "    if not key is None:        \n",
    "        for tr in trigger_wh:\n",
    "            trigger_decision[key][tr].append(hlt[i][tr])\n",
    "\n",
    "        #MHT & pfMet calculation\n",
    "        jet_sum = rt.TLorentzVector()\n",
    "        for j in range(nJets[i]):\n",
    "            temp = rt.TLorentzVector()\n",
    "            temp.SetPtEtaPhiE(jetPt[i][j],jetEta[i][j],jetPhi[i][j],jetE[i][j])\n",
    "            jet_sum += temp\n",
    "        mht[key].append(jet_sum.Pt())\n",
    "        pfMet[key].append(pfMetPt[i])"
   ]
  },
  {
   "cell_type": "code",
   "execution_count": 106,
   "metadata": {},
   "outputs": [
    {
     "name": "stderr",
     "output_type": "stream",
     "text": [
      "Warning in <TCanvas::Constructor>: Deleting canvas with same name: c\n",
      "Info in <TCanvas::Print>: pdf file ../plots/trigger_efficiency/whmunu_mupt_pfmet.pdf has been created\n"
     ]
    },
    {
     "data": {
      "image/png": "[encoded data removed]",
      "text/plain": [
       "<IPython.core.display.Image object>"
      ]
     },
     "metadata": {},
     "output_type": "display_data"
    }
   ],
   "source": [
    "# Plotting muon pt\n",
    "c = rt.TCanvas('c','c', 800, 600)\n",
    "h = {}\n",
    "leg = rt.TLegend(0.68,0.70,0.97,0.93);\n",
    "leg.SetTextSize(0.03)\n",
    "\n",
    "h['mu_pt'] = create_TH1D( mu_pt, axis_title=['Muon pT [GeV]', 'events'], name='mu_pt', binning=[40,0,300])\n",
    "h['mu_pt'].SetLineColor(std_color_list[0])\n",
    "h['mu_pt'].Draw('')\n",
    "h['pfMet'] = create_TH1D( pfMet['wmunu'], axis_title=['PF MET [GeV]', 'events'], name='pfMet', binning=[40,0,300])\n",
    "h['pfMet'].SetLineColor(std_color_list[1])\n",
    "h['pfMet'].Draw('same')\n",
    "leg.AddEntry(h['mu_pt'],'mu_pt')\n",
    "leg.AddEntry(h['pfMet'],'PF MET')\n",
    "\n",
    "c.SetLogy()\n",
    "leg.Draw()\n",
    "c.Draw()\n",
    "\n",
    "c.SaveAs(\"../../plots/trigger_efficiency/whmunu_mupt_pfmet.pdf\")"
   ]
  },
  {
   "cell_type": "code",
   "execution_count": 107,
   "metadata": {},
   "outputs": [
    {
     "name": "stderr",
     "output_type": "stream",
     "text": [
      "Warning in <TCanvas::Constructor>: Deleting canvas with same name: c\n",
      "Info in <TCanvas::Print>: pdf file ../plots/trigger_efficiency/whenu_ept_pfmet.pdf has been created\n"
     ]
    },
    {
     "data": {
      "image/png": "[encoded data removed]",
      "text/plain": [
       "<IPython.core.display.Image object>"
      ]
     },
     "metadata": {},
     "output_type": "display_data"
    }
   ],
   "source": [
    "# Plotting muon pt\n",
    "c = rt.TCanvas('c','c', 800, 600)\n",
    "h = {}\n",
    "leg = rt.TLegend(0.68,0.70,0.97,0.93);\n",
    "leg.SetTextSize(0.03)\n",
    "\n",
    "h['ele_pt'] = create_TH1D( mu_pt, axis_title=['Electron pT [GeV]', 'events'], name='ele_pt', binning=[40,0,300])\n",
    "h['ele_pt'].SetLineColor(std_color_list[0])\n",
    "h['ele_pt'].Draw('')\n",
    "h['pfMet'] = create_TH1D( pfMet['wenu'], axis_title=['PF MET [GeV]', 'events'], name='pfMet', binning=[40,0,300])\n",
    "h['pfMet'].SetLineColor(std_color_list[1])\n",
    "h['pfMet'].Draw('same')\n",
    "leg.AddEntry(h['ele_pt'],'ele_pt')\n",
    "leg.AddEntry(h['pfMet'],'PF MET')\n",
    "\n",
    "c.SetLogy()\n",
    "leg.Draw()\n",
    "c.Draw()\n",
    "\n",
    "c.SaveAs(\"../../plots/trigger_efficiency/whenu_ept_pfmet.pdf\")"
   ]
  },
  {
   "cell_type": "code",
   "execution_count": 109,
   "metadata": {},
   "outputs": [
    {
     "name": "stderr",
     "output_type": "stream",
     "text": [
      "Warning in <TCanvas::Constructor>: Deleting canvas with same name: c\n",
      "Info in <TCanvas::Print>: pdf file ../plots/trigger_efficiency/whad_mht_pfmet.pdf has been created\n"
     ]
    },
    {
     "data": {
      "image/png": "[encoded data removed]",
      "text/plain": [
       "<IPython.core.display.Image object>"
      ]
     },
     "metadata": {},
     "output_type": "display_data"
    }
   ],
   "source": [
    "# Plotting muon pt\n",
    "c = rt.TCanvas('c','c', 800, 600)\n",
    "h = {}\n",
    "leg = rt.TLegend(0.68,0.70,0.97,0.93);\n",
    "leg.SetTextSize(0.03)\n",
    "\n",
    "h['mht'] = create_TH1D( mht['whad'], axis_title=['MHT pT [GeV]', 'events'], name='mht', binning=[40,0,400])\n",
    "h['mht'].SetLineColor(std_color_list[0])\n",
    "h['mht'].Draw('')\n",
    "h['pfMet'] = create_TH1D( pfMet['whad'], axis_title=['PF MET [GeV]', 'events'], name='pfMet', binning=[40,0,400])\n",
    "h['pfMet'].SetLineColor(std_color_list[1])\n",
    "h['pfMet'].Draw('same')\n",
    "leg.AddEntry(h['mht'],'MHT')\n",
    "leg.AddEntry(h['pfMet'],'PF MET')\n",
    "\n",
    "c.SetLogy()\n",
    "leg.Draw()\n",
    "c.Draw()\n",
    "\n",
    "c.SaveAs(\"../../plots/trigger_efficiency/whad_mht_pfmet.pdf\")\n",
    "\n",
    "\n"
   ]
  },
  {
   "cell_type": "code",
   "execution_count": 110,
   "metadata": {},
   "outputs": [
    {
     "name": "stderr",
     "output_type": "stream",
     "text": [
      "Warning in <TROOT::Append>: Replacing existing TH1: h (Potential memory leak).\n",
      "Info in <TCanvas::Print>: pdf file ../plots/trigger_efficiency/whad_pfmet_mht_2d.pdf has been created\n"
     ]
    },
    {
     "data": {
      "image/png": "[encoded data removed]",
      "text/plain": [
       "<IPython.core.display.Image object>"
      ]
     },
     "metadata": {},
     "output_type": "display_data"
    }
   ],
   "source": [
    "c = rt.TCanvas('c1','c1', 800, 600)\n",
    "key = 'whad'\n",
    "mapping = create_TH2D(np.column_stack((pfMet[key],mht[key])), axis_title = ['PF MET [GeV]','MHT [GeV]','Events'], binning=[40,0,500,40,0,500])\n",
    "mapping.Draw('colz')\n",
    "c.SetRightMargin(0.13)\n",
    "c.SetLogz()\n",
    "c.Draw()\n",
    "c.SaveAs(\"../../plots/trigger_efficiency/\"+key+\"_pfmet_mht_2d.pdf\")\n"
   ]
  },
  {
   "cell_type": "markdown",
   "metadata": {},
   "source": [
    "# WH turn on curves"
   ]
  },
  {
   "cell_type": "code",
   "execution_count": 124,
   "metadata": {},
   "outputs": [
    {
     "name": "stderr",
     "output_type": "stream",
     "text": [
      "Warning in <TCanvas::Constructor>: Deleting canvas with same name: c\n",
      "Warning in <TROOT::Append>: Replacing existing TH1: hm1 (Potential memory leak).\n",
      "Warning in <TROOT::Append>: Replacing existing TH1: hb1 (Potential memory leak).\n",
      "Info in <TCanvas::Print>: pdf file ../plots/trigger_efficiency/wenu_trigger84_elept.pdf has been created\n"
     ]
    },
    {
     "data": {
      "image/png": "[encoded data removed]",
      "text/plain": [
       "<IPython.core.display.Image object>"
      ]
     },
     "metadata": {},
     "output_type": "display_data"
    }
   ],
   "source": [
    "# W ->e nu\n",
    "# efficiency vs pfmet\n",
    "# Plotting efficiency vs muon pt\n",
    "\n",
    "c = rt.TCanvas('c','c', 800, 600)\n",
    "h = {}\n",
    "leg = rt.TLegend(0.7,0.70,0.9,0.9);\n",
    "leg.SetTextSize(0.03)\n",
    "\n",
    "xaxis = ele_pt\n",
    "bins = [0,10,20,30,40,50,60,80,100,250]\n",
    "# bins = [0,10,20,30,40,50,100]\n",
    "xaxis_title = \"Electron pT [GeV]\"\n",
    "hm = create_TH1D(xaxis, 'hm1', axis_title = [xaxis_title,'Trigger Efficiency'], binning=bins,weights = trigger_decision['wenu'][84])\n",
    "hb = create_TH1D(xaxis, 'hb1', axis_title = [xaxis_title,'Trigger Efficiency'], binning=bins)\n",
    "pEff1 = rt.TEfficiency(hm,hb)\n",
    "pEff1.SetLineColor(std_color_list[0])\n",
    "pEff1.Draw()\n",
    "\n",
    "\n",
    "# hb.Draw()\n",
    "# hb.Draw()\n",
    "# hm.Draw('same')\n",
    "# leg.Draw()\n",
    "# c.SetLogy()\n",
    "c.Draw()\n",
    "pEff1.GetPaintedGraph().GetYaxis().SetRangeUser(0,1.1)\n",
    "\n",
    "c.SaveAs(\"../../plots/trigger_efficiency/wenu_trigger84_elept.pdf\")"
   ]
  },
  {
   "cell_type": "code",
   "execution_count": 159,
   "metadata": {},
   "outputs": [
    {
     "name": "stderr",
     "output_type": "stream",
     "text": [
      "Warning in <TCanvas::Constructor>: Deleting canvas with same name: c\n",
      "Warning in <TROOT::Append>: Replacing existing TH1: hm1 (Potential memory leak).\n",
      "Warning in <TROOT::Append>: Replacing existing TH1: hb1 (Potential memory leak).\n",
      "Warning in <TROOT::Append>: Replacing existing TH1: hm1 (Potential memory leak).\n",
      "Warning in <TROOT::Append>: Replacing existing TH1: hb1 (Potential memory leak).\n",
      "Info in <TCanvas::Print>: pdf file ../plots/trigger_efficiency/whad_trigger310_471_mht.pdf has been created\n"
     ]
    },
    {
     "data": {
      "image/png": "[encoded data removed]",
      "text/plain": [
       "<IPython.core.display.Image object>"
      ]
     },
     "metadata": {},
     "output_type": "display_data"
    }
   ],
   "source": [
    "# W -> hadronic\n",
    "\n",
    "\n",
    "c = rt.TCanvas('c','c', 800, 600)\n",
    "h = {}\n",
    "leg = rt.TLegend(0.2,0.82,0.85,0.93);\n",
    "leg.SetTextSize(0.02)\n",
    "\n",
    "bins = [0,10,20,30,40,50,60,80,100,200,300,400]\n",
    "bins = [50,0,500]\n",
    "xaxis = mht['whad']\n",
    "xaxis_title = \"MHT [GeV]\"\n",
    "hm = create_TH1D(xaxis, 'hm1', axis_title = [xaxis_title,'Trigger Efficiency'], binning=bins,weights = trigger_decision['whad'][310])\n",
    "hb = create_TH1D(xaxis, 'hb1', axis_title = [xaxis_title,'Trigger Efficiency'], binning=bins)\n",
    "pEff1 = rt.TEfficiency(hm,hb)\n",
    "pEff1.SetLineColor(std_color_list[0])\n",
    "leg.AddEntry(pEff1,trigger_names[310])\n",
    "pEff1.Draw()\n",
    "\n",
    "hm = create_TH1D(xaxis, 'hm1', axis_title = [xaxis_title,'Trigger Efficiency'], binning=bins,weights = trigger_decision['whad'][471])\n",
    "hb = create_TH1D(xaxis, 'hb1', axis_title = [xaxis_title,'Trigger Efficiency'], binning=bins)\n",
    "pEff2 = rt.TEfficiency(hm,hb)\n",
    "pEff2.SetLineColor(std_color_list[1])\n",
    "leg.AddEntry(pEff2,trigger_names[471])\n",
    "pEff2.Draw('same')\n",
    "\n",
    "leg.Draw()\n",
    "# c.SetLogy()\n",
    "c.Draw()\n",
    "pEff1.GetPaintedGraph().GetYaxis().SetRangeUser(0,1.3)\n",
    "\n",
    "c.SaveAs(\"../../plots/trigger_efficiency/whad_trigger310_471_mht.pdf\")"
   ]
  },
  {
   "cell_type": "code",
   "execution_count": null,
   "metadata": {},
   "outputs": [],
   "source": [
    "# W -> mu nu\n",
    "\n",
    "\n",
    "c = rt.TCanvas('c','c', 800, 600)\n",
    "h = {}\n",
    "leg = rt.TLegend(0.7,0.5,0.9,0.7);\n",
    "leg.SetTextSize(0.03)\n",
    "\n",
    "xaxis = mu_pt\n",
    "bins = [0,10,20,30,40,50,60,80,100,250]\n",
    "xaxis_title = \"Muon pT [GeV]\"\n",
    "hm = create_TH1D(xaxis, 'hm1', axis_title = [xaxis_title,'Trigger Efficiency'], binning=bins,weights = trigger_decision['wmunu'][136])\n",
    "hb = create_TH1D(xaxis, 'hb1', axis_title = [xaxis_title,'Trigger Efficiency'], binning=bins)\n",
    "pEff1 = rt.TEfficiency(hm,hb)\n",
    "pEff1.SetLineColor(std_color_list[0])\n",
    "leg.AddEntry(pEff1,trigger_names[136])\n",
    "pEff1.Draw()\n",
    "\n",
    "hm = create_TH1D(xaxis, 'hm1', axis_title = [xaxis_title,'Trigger Efficiency'], binning=bins,weights = trigger_decision['wmunu'][196])\n",
    "hb = create_TH1D(xaxis, 'hb1', axis_title = [xaxis_title,'Trigger Efficiency'], binning=bins)\n",
    "pEff2 = rt.TEfficiency(hm,hb)\n",
    "pEff2.SetLineColor(std_color_list[1])\n",
    "leg.AddEntry(pEff2,trigger_names[196])\n",
    "pEff2.Draw('same')\n",
    "\n",
    "leg.Draw()\n",
    "# c.SetLogy()\n",
    "c.Draw()\n",
    "pEff1.GetPaintedGraph().GetYaxis().SetRangeUser(0,1)\n",
    "\n",
    "c.SaveAs(\"../../plots/trigger_efficiency/wmunu_trigger136_196_mupt.pdf\")"
   ]
  },
  {
   "cell_type": "code",
   "execution_count": null,
   "metadata": {},
   "outputs": [],
   "source": []
  },
  {
   "cell_type": "markdown",
   "metadata": {},
   "source": [
    "# VBF"
   ]
  },
  {
   "cell_type": "code",
   "execution_count": 160,
   "metadata": {},
   "outputs": [],
   "source": [
    "# inclusive trigger efficiency * acceptance\n",
    "trigger_vbfh = [310]#mu,mu, pfmet, ele,met\n",
    "pfMet = {}\n",
    "mht = {}\n",
    "\n",
    "trigger_decision = {}\n",
    "\n",
    "for k,v in cs.items():\n",
    "    trigger_decision[k] = {}\n",
    "T=tree['vbfh']    \n",
    "gParticleId = T['gParticleId']\n",
    "gParticlePt = T['gParticlePt']\n",
    "gParticleMotherId = T['gParticleMotherId']\n",
    "gParticleMotherIndex = T['gParticleMotherIndex']\n",
    "gParticleStatus = T['gParticleStatus']\n",
    "jetE = T['jetE']\n",
    "jetPt = T['jetPt']\n",
    "jetEta = T['jetEta']\n",
    "jetPhi = T['jetPhi']\n",
    "hlt = T['HLTDecision']\n",
    "pfMetPt = T['pfMetPt']\n",
    "nJets = T['nJets']\n",
    "keys = ['vbfh']\n",
    "\n",
    "\n",
    "for tr in trigger_vbfh:\n",
    "    for key in keys:\n",
    "        trigger_decision[key][tr] = []\n",
    "        pfMet[key] = []\n",
    "        mht[key] = []\n",
    "for i in range(len(T['isQCD'])): #loop over all events\n",
    "    key = 'vbfh'\n",
    "    for tr in trigger_vbfh:\n",
    "        trigger_decision[key][tr].append(hlt[i][tr])\n",
    "\n",
    "    #MHT & pfMet calculation\n",
    "    jet_sum = rt.TLorentzVector()\n",
    "    for j in range(nJets[i]):\n",
    "        temp = rt.TLorentzVector()\n",
    "        temp.SetPtEtaPhiE(jetPt[i][j],jetEta[i][j],jetPhi[i][j],jetE[i][j])\n",
    "        jet_sum += temp\n",
    "    mht[key].append(jet_sum.Pt())\n",
    "    pfMet[key].append(pfMetPt[i])"
   ]
  },
  {
   "cell_type": "code",
   "execution_count": 168,
   "metadata": {},
   "outputs": [
    {
     "name": "stderr",
     "output_type": "stream",
     "text": [
      "Warning in <TCanvas::Constructor>: Deleting canvas with same name: c\n",
      "Warning in <TROOT::Append>: Replacing existing TH1: vbfh (Potential memory leak).\n",
      "Info in <TCanvas::Print>: pdf file ../plots/trigger_efficiency/vbfh_met_mht.pdf has been created\n"
     ]
    },
    {
     "data": {
      "image/png": "[encoded data removed]",
      "text/plain": [
       "<IPython.core.display.Image object>"
      ]
     },
     "metadata": {},
     "output_type": "display_data"
    }
   ],
   "source": [
    "# Plotting MET MHT\n",
    "c = rt.TCanvas('c','c', 800, 600)\n",
    "h = {}\n",
    "leg = rt.TLegend(0.68,0.70,0.95,0.88);\n",
    "leg.SetTextSize(0.03)\n",
    "# h['metggh'] = create_TH1D( met['ggh'], axis_title=['MET [GeV]', 'events'], name=k, binning=[50,0,500])\n",
    "# h['mhtggh'] = create_TH1D( mht['ggh'], axis_title=['MHT [GeV]', 'events'], name=k, binning=[50,0,500])\n",
    "h['mhtvbfh'] = create_TH1D( mht['vbfh'], axis_title=['Energy [GeV]', 'events'], name=k, binning=[50,0,500])\n",
    "h['pfMetvbfh'] = create_TH1D( pfMet['vbfh'], axis_title=['Energy [GeV]', 'events'], name=k, binning=[50,0,500])\n",
    "\n",
    "h['pfMetvbfh'].SetLineColor(std_color_list[0])\n",
    "h['mhtvbfh'].SetLineColor(std_color_list[1])\n",
    "h['mhtvbfh'].Draw('same')\n",
    "h['pfMetvbfh'].Draw('same')\n",
    "\n",
    "\n",
    "leg.AddEntry(h['pfMetvbfh'],'vbfh pfMet')\n",
    "\n",
    "leg.AddEntry(h['mhtvbfh'],'vbfh MHT')\n",
    "# leg.AddEntry(h['metggh'],'ggh MET')\n",
    "# leg.AddEntry(h['mhtggh'],'ggh MHT')\n",
    "\n",
    "leg.Draw()\n",
    "c.SetLogy()\n",
    "c.Draw()\n",
    "\n",
    "c.SaveAs(\"../../plots/trigger_efficiency/vbfh_met_mht.pdf\")"
   ]
  },
  {
   "cell_type": "code",
   "execution_count": 167,
   "metadata": {},
   "outputs": [
    {
     "name": "stderr",
     "output_type": "stream",
     "text": [
      "Warning in <TCanvas::Constructor>: Deleting canvas with same name: c\n",
      "Warning in <TROOT::Append>: Replacing existing TH1: hm1 (Potential memory leak).\n",
      "Warning in <TROOT::Append>: Replacing existing TH1: hb1 (Potential memory leak).\n",
      "Warning in <TROOT::Append>: Replacing existing TH1: hm1 (Potential memory leak).\n",
      "Warning in <TROOT::Append>: Replacing existing TH1: hb1 (Potential memory leak).\n",
      "Info in <TCanvas::Print>: pdf file ../plots/trigger_efficiency/vbfh_trigger310_pfmet_mht.pdf has been created\n"
     ]
    },
    {
     "data": {
      "image/png": "[encoded data removed]",
      "text/plain": [
       "<IPython.core.display.Image object>"
      ]
     },
     "metadata": {},
     "output_type": "display_data"
    }
   ],
   "source": [
    "c = rt.TCanvas('c','c', 800, 600)\n",
    "h = {}\n",
    "leg = rt.TLegend(0.2,0.82,0.5,0.93);\n",
    "leg.SetTextSize(0.03)\n",
    "\n",
    "bins = [0,10,20,30,40,50,60,80,100,200,300,400]\n",
    "bins = [50,0,500]\n",
    "xaxis = mht['vbfh']\n",
    "xaxis_title = \"Energy [GeV]\"\n",
    "hm = create_TH1D(xaxis, 'hm1', axis_title = [xaxis_title,'Trigger Efficiency'], binning=bins,weights = trigger_decision['vbfh'][310])\n",
    "hb = create_TH1D(xaxis, 'hb1', axis_title = [xaxis_title,'Trigger Efficiency'], binning=bins)\n",
    "pEff1 = rt.TEfficiency(hm,hb)\n",
    "pEff1.SetLineColor(std_color_list[0])\n",
    "leg.AddEntry(pEff1,'MHT')\n",
    "pEff1.Draw()\n",
    "\n",
    "xaxis = pfMet['vbfh']\n",
    "hm = create_TH1D(xaxis, 'hm1', axis_title = [xaxis_title,'Trigger Efficiency'], binning=bins,weights = trigger_decision['vbfh'][310])\n",
    "hb = create_TH1D(xaxis, 'hb1', axis_title = [xaxis_title,'Trigger Efficiency'], binning=bins)\n",
    "pEff2 = rt.TEfficiency(hm,hb)\n",
    "pEff2.SetLineColor(std_color_list[1])\n",
    "leg.AddEntry(pEff2,'PF MET')\n",
    "pEff2.Draw('same')\n",
    "\n",
    "leg.Draw()\n",
    "# c.SetLogy()\n",
    "c.Draw()\n",
    "pEff1.GetPaintedGraph().GetYaxis().SetRangeUser(0,1.3)\n",
    "\n",
    "c.SaveAs(\"../../plots/trigger_efficiency/vbfh_trigger310_pfmet_mht.pdf\")"
   ]
  },
  {
   "cell_type": "code",
   "execution_count": null,
   "metadata": {},
   "outputs": [],
   "source": [
    "# Plotting efficiency vs met\n",
    "c = rt.TCanvas('c','c', 800, 600)\n",
    "h = {}\n",
    "leg = rt.TLegend(0.20,0.780,0.67,0.94);\n",
    "leg.SetTextSize(0.02)\n",
    "key = 'vbfh'\n",
    "bins = [0,30,40,60,80,100.150,250,500]\n",
    "# bins = [0,10,20,30,40,50,100]\n",
    "drawMht = 0\n",
    "\n",
    "pEff = []\n",
    "v = trigger_decision[key][2]\n",
    "if drawMht:\n",
    "    xaxis = mht[key]\n",
    "    xaxis_title = \"MHT [GeV]\"\n",
    "else:\n",
    "    xaxis = pfMet[key]\n",
    "    xaxis_title = \"PF MET [GeV]\"\n",
    "v = np.array(v)\n",
    "hm = create_TH1D(xaxis, 'hm'+str(i), axis_title = [xaxis_title,'Trigger Efficiency'], binning=[50,0,600],weights = v)\n",
    "hb = create_TH1D(xaxis, 'hb'+str(i), axis_title = [xaxis_title,'Trigger Efficiency'], binning=[50,0,600])\n",
    "pEff.append(rt.TEfficiency(hm,hb))\n",
    "\n",
    "if drawMht:\n",
    "    xaxis = xaxis[pfMet['vbfh']>110]\n",
    "    v = v[pfMet['vbfh']>110]\n",
    "else:\n",
    "    xaxis = xaxis[mht['vbfh']>110]\n",
    "    v = v[mht['vbfh']>110]\n",
    "hm = create_TH1D(xaxis, 'hm'+str(i), axis_title = [xaxis_title,'Trigger Efficiency'], binning=[50,0,600],weights = v)\n",
    "hb = create_TH1D(xaxis, 'hb'+str(i), axis_title = [xaxis_title,'Trigger Efficiency'], binning=[50,0,600])\n",
    "pEff.append(rt.TEfficiency(hm,hb))\n",
    "\n",
    "pEff[0].SetLineColor(std_color_list[0])\n",
    "pEff[1].SetLineColor(std_color_list[1])\n",
    "\n",
    "pEff[0].Draw()\n",
    "pEff[1].Draw('same')\n",
    "if drawMht:\n",
    "    leg.AddEntry(pEff[0],'without pfMET cut')\n",
    "    leg.AddEntry(pEff[1],'pfMET > 110 GeV')\n",
    "else:\n",
    "    leg.AddEntry(pEff[0],'without MHT cut')\n",
    "    leg.AddEntry(pEff[1],'MHT > 110 GeV')\n",
    "# hb.Draw()\n",
    "# hm.Draw('same')\n",
    "leg.Draw()\n",
    "# c.SetLogy()\n",
    "c.Draw()\n",
    "pEff[0].GetPaintedGraph().GetYaxis().SetRangeUser(0,1.3)\n",
    "if drawMht:\n",
    "    c.SaveAs(\"../../plots/trigger_efficiency/trigger_efficiency_mht_pfmetcut.pdf\")\n",
    "else:\n",
    "    c.SaveAs(\"../../plots/trigger_efficiency/trigger_efficiency_pfmet_mhtcut.pdf\")\n"
   ]
  },
  {
   "cell_type": "code",
   "execution_count": null,
   "metadata": {},
   "outputs": [],
   "source": [
    "# trigger efficiency plot in 2D map\n",
    "c = rt.TCanvas('c','c', 800, 600)\n",
    "xy = np.column_stack((pfMet[k],mht[k]))\n",
    "hm = create_TH2D(xy, axis_title = ['pfMet [GeV]','MHT [GeV]','Events'], binning=[50,0,500,50,0,500],weights = trigger_decision['vbfh'][2])\n",
    "hb = create_TH2D(xy, axis_title = ['pfMet [GeV]','MHT [GeV]','Events'], binning=[50,0,500,50,0,500])\n",
    "hm.Divide(hb)\n",
    "hm.Draw('colz')\n",
    "c.SetRightMargin(0.13)\n",
    "\n",
    "# pEff = rt.TEfficiency(hm,hb)\n",
    "# pEff.Draw()\n",
    "c.Draw()\n",
    "c.SaveAs(\"../../plots/trigger_efficiency/trigger_efficiency_HLT_PFMET110_PFMHT110_IDTight_pfmet_mht_\"+key+\".pdf\")"
   ]
  },
  {
   "cell_type": "code",
   "execution_count": 174,
   "metadata": {},
   "outputs": [
    {
     "name": "stderr",
     "output_type": "stream",
     "text": [
      "Warning in <TCanvas::Constructor>: Deleting canvas with same name: c1\n",
      "Warning in <TROOT::Append>: Replacing existing TH1: h (Potential memory leak).\n",
      "Info in <TCanvas::Print>: pdf file ../plots/trigger_efficiency/zmumu_muonpt_2d.pdf has been created\n"
     ]
    },
    {
     "data": {
      "image/png": "[encoded data removed]",
      "text/plain": [
       "<IPython.core.display.Image object>"
      ]
     },
     "metadata": {},
     "output_type": "display_data"
    }
   ],
   "source": [
    "c = rt.TCanvas('c1','c1', 800, 600)\n",
    "key = 'zmumu'\n",
    "mapping = create_TH2D(np.column_stack((mu1_pt,mu2_pt)), axis_title = ['mu1_pt [GeV]','mu2_pt [GeV]','Events'], binning=[25,0,250,25,0,250])\n",
    "mapping.Draw('colz')\n",
    "c.SetRightMargin(0.13)\n",
    "c.SetLogz()\n",
    "c.Draw()\n",
    "c.SaveAs(\"../../plots/trigger_efficiency/\"+key+\"_muonpt_2d.pdf\")"
   ]
  },
  {
   "cell_type": "code",
   "execution_count": null,
   "metadata": {},
   "outputs": [],
   "source": []
  }
 ],
 "metadata": {
  "kernelspec": {
   "display_name": "Python 2",
   "language": "python",
   "name": "python2"
  },
  "language_info": {
   "codemirror_mode": {
    "name": "ipython",
    "version": 3
   },
   "file_extension": ".py",
   "mimetype": "text/x-python",
   "name": "python",
   "nbconvert_exporter": "python",
   "pygments_lexer": "ipython3",
   "version": "3.6.8"
  }
 },
 "nbformat": 4,
 "nbformat_minor": 2
}
