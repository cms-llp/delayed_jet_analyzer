{
 "cells": [
  {
   "cell_type": "code",
   "execution_count": 1,
   "metadata": {},
   "outputs": [
    {
     "name": "stdout",
     "output_type": "stream",
     "text": [
      "Welcome to JupyROOT 6.13/02\n"
     ]
    }
   ],
   "source": [
    "import ROOT as rt\n",
    "import root_numpy as rtnp\n",
    "import numpy as np\n",
    "from matplotlib import pyplot as plt\n",
    "from scipy.spatial.distance import cdist\n",
    "from histo_utilities import create_TH1D, create_TH2D, std_color_list\n",
    "\n",
    "# import CMS_lumi, tdrstyle\n",
    "# tdrstyle.setTDRStyle()\n",
    "# CMS_lumi.writeExtraText = 1\n",
    "# CMS_lumi.extraText = \"     Simulation Preliminary\"\n",
    "\n",
    "donotdelete = []"
   ]
  },
  {
   "cell_type": "code",
   "execution_count": 70,
   "metadata": {},
   "outputs": [
    {
     "name": "stdout",
     "output_type": "stream",
     "text": [
      "{'glueBall': 'pp #rightarrow h*h* #rightarrow jj#nu#nu'}\n",
      "{'glueBall': 'pp #rightarrow h*h* #rightarrow jj#nu#nu'}\n",
      "m50ct10000mm /Users/cmorgoth/llp_ntupler_mh125_mx50_pl10000_ALL.root\n",
      "[ 290.65445 -304.07755]\n",
      "qcd /Users/cmorgoth/qcd_llp_ntupler.root\n",
      "[-666. -666.]\n"
     ]
    }
   ],
   "source": [
    "fpath = {}\n",
    "tree = {}\n",
    "process = {}\n",
    "process_short = {}\n",
    "\n",
    "\n",
    "#fpath['m50ct10000mm'] = '/Users/cmorgoth/llp_ntupler_gen_info.root'\n",
    "fpath['qcd'] = '/Users/cmorgoth/qcd_llp_ntupler.root'\n",
    "fpath['m50ct10000mm'] = '/Users/cmorgoth/llp_ntupler_mh125_mx50_pl10000_ALL.root'\n",
    "process['glueBall'] = 'pp #rightarrow h*h* #rightarrow jj#nu#nu'\n",
    "process_short['glueBall'] = 'pp #rightarrow h*h* #rightarrow jj#nu#nu'\n",
    "\n",
    "print process\n",
    "print process_short\n",
    "\n",
    "\n",
    "for k,v in fpath.iteritems():\n",
    "    print k, v\n",
    "    tree[k] = rtnp.root2array(v)\n",
    "    #tree[k] = rtnp.tree2array(v)\n",
    "    #jet_max_pt_array = [np.max(x) for x in tree[k][\"jetPt\"]]\n",
    "    a = tree[k][\"gLLP_decay_vertex_z\"]\n",
    "    print a[:-1][0]"
   ]
  },
  {
   "cell_type": "code",
   "execution_count": 71,
   "metadata": {},
   "outputs": [],
   "source": [
    "#T = tree['glueBall']\n",
    "T = tree['m50ct10000mm']\n",
    "T_bkg = tree['qcd']"
   ]
  },
  {
   "cell_type": "code",
   "execution_count": 72,
   "metadata": {},
   "outputs": [
    {
     "name": "stdout",
     "output_type": "stream",
     "text": [
      "[array([32.053577], dtype=float32) array([], dtype=float32)\n",
      " array([], dtype=float32) ... array([45.861034], dtype=float32)\n",
      " array([24.10495], dtype=float32) array([], dtype=float32)]\n"
     ]
    }
   ],
   "source": [
    "#get first jet pt per event\n",
    "print T['jetPt']\n",
    "first_jet_pt = [x[0] if len(x) else -1 for x in T['jetPt']]\n",
    "#print first_jet_pt"
   ]
  },
  {
   "cell_type": "code",
   "execution_count": 73,
   "metadata": {},
   "outputs": [],
   "source": [
    "#get max jet pt per event\n",
    "max_jet_pt = [np.max(np.abs(x)) if len(x) else -1 for x in T['gLLP_decay_vertex_z']]\n",
    "#print max_jet_pt"
   ]
  },
  {
   "cell_type": "code",
   "execution_count": 74,
   "metadata": {},
   "outputs": [],
   "source": [
    "#store jet-pt array per event in a list\n",
    "first_jet_pt_arr = []\n",
    "for x in T['jetPt']:\n",
    "    if len(x) == 0:\n",
    "        break\n",
    "    #print x\n",
    "    first_jet_pt_arr.append(x[0])"
   ]
  },
  {
   "cell_type": "code",
   "execution_count": 75,
   "metadata": {},
   "outputs": [],
   "source": [
    "MAX_ITERATIONS = 100\n",
    "# Function: Should Stop\n",
    "# -------------\n",
    "# Returns True or False if k-means is done. K-means terminates either\n",
    "# because it has run a maximum number of iterations OR the centroids\n",
    "# stop changing.\n",
    "def shouldStop(oldCentroids, centroids, iterations):\n",
    "    if iterations > MAX_ITERATIONS: return True\n",
    "    return np.array_equal(oldCentroids,centroids)\n",
    "\n",
    "\n",
    "# Function: Get Labels\n",
    "# -------------\n",
    "# Returns a label for each piece of data in the dataset. \n",
    "def getLabels(dataSet, centroids):\n",
    "    #print 1\n",
    "    #for i in dataSet:\n",
    "    dist = cdist( dataSet, centroids, metric='euclidean' )\n",
    "    #print dist\n",
    "    return np.argmin(dist, axis=1)\n",
    "    #print dataSet\n",
    "    # For each element in the dataset, chose the closest centroid. \n",
    "    # Make that centroid the element's label.\n",
    "\n",
    "# Function: Get Centroids\n",
    "# -------------\n",
    "# Returns k centroids, each of dimension n.\n",
    "def getCentroids(dataSet, centroids, labels, k):\n",
    "    #print centroids\n",
    "    newcentroid = []\n",
    "    centroid_constituents = []\n",
    "    for i in range(k):\n",
    "        sel = labels[:] == i\n",
    "        #print i, dataSet[sel], np.count_nonzero(dataSet[sel])/2\n",
    "        if np.count_nonzero(dataSet[sel]) > 0:\n",
    "            #print np.average(dataSet[sel], axis=0)\n",
    "            newcentroid.append(np.average(dataSet[sel], axis=0))\n",
    "            centroid_constituents.append(np.count_nonzero(dataSet[sel])/2)\n",
    "        else:\n",
    "            newcentroid.append(centroids[i])\n",
    "            centroid_constituents.append(0)\n",
    "    #print 'new:', centroid_constituents\n",
    "    return newcentroid, centroid_constituents\n",
    "    # Each centroid is the geometric mean of the points that\n",
    "    # have that centroid's label. Important: If a centroid is empty (no points have\n",
    "    # that centroid's label) you should randomly re-initialize it.\n",
    "    \n",
    "# Function: Get Centroids\n",
    "# -------------\n",
    "# Returns k random centroids, each of dimension n.\n",
    "def getRandomCentroids(numFeatures, k):\n",
    "    # Each centroid is the geometric mean of the points that\n",
    "    # have that centroid's label. Important: If a centroid is empty (no points have\n",
    "    # that centroid's label) you should randomly re-initialize it.\n",
    "    return np.random.rand(k,numFeatures)\n",
    "\n",
    "# Function: K Means\n",
    "# -------------\n",
    "# K-Means is an algorithm that takes in a dataset and a constant\n",
    "# k and returns k centroids (which define clusters of data in the\n",
    "# dataset which are similar to one another).\n",
    "def kmeans(dataSet, k):\n",
    "    # Initialize centroids randomly\n",
    "    numFeatures = dataSet.ndim\n",
    "    centroids = getRandomCentroids(numFeatures, k)\n",
    "    #print numFeatures, k, centroids\n",
    "    \n",
    "    # Initialize book keeping vars.\n",
    "    iterations = 0\n",
    "    oldCentroids = np.zeros((k,numFeatures))\n",
    "    \n",
    "    # Run the main k-means algorithm\n",
    "    while not shouldStop(oldCentroids, centroids, iterations):\n",
    "        # Save old centroids for convergence test. Book keeping.\n",
    "        oldCentroids[:] = centroids\n",
    "        #print oldCentroids\n",
    "        iterations += 1\n",
    "        #print 'iter', iterations\n",
    "        \n",
    "        # Assign labels to each datapoint based on centroids\n",
    "        labels = getLabels(dataSet, centroids)\n",
    "        #print labels\n",
    "        #print oldCentroids\n",
    "        #print '====================='\n",
    "        \n",
    "        \n",
    "        # Assign centroids based on datapoint labels\n",
    "        centroids,centroid_constituents = getCentroids(dataSet, oldCentroids, labels, k)\n",
    "        \n",
    "    # We can get the labels too by calling getLabels(dataSet, centroids)\n",
    "    return centroids,centroid_constituents"
   ]
  },
  {
   "cell_type": "code",
   "execution_count": null,
   "metadata": {},
   "outputs": [],
   "source": []
  },
  {
   "cell_type": "code",
   "execution_count": 83,
   "metadata": {},
   "outputs": [
    {
     "name": "stdout",
     "output_type": "stream",
     "text": [
      "[False False False ... False False False]\n",
      "4\n",
      "4\n"
     ]
    },
    {
     "name": "stderr",
     "output_type": "stream",
     "text": [
      "Warning in <TCanvas::Constructor>: Deleting canvas with same name: c\n",
      "Warning in <TCanvas::Constructor>: Deleting canvas with same name: c1\n"
     ]
    },
    {
     "data": {
      "image/png": "[encoded data removed]",
      "text/plain": [
       "<IPython.core.display.Image object>"
      ]
     },
     "metadata": {},
     "output_type": "display_data"
    },
    {
     "data": {
      "image/png": "[encoded data removed]",
      "text/plain": [
       "<IPython.core.display.Image object>"
      ]
     },
     "metadata": {},
     "output_type": "display_data"
    }
   ],
   "source": [
    "#Create Numpy Arrays for (['cscEta', 'cscPhi', 'cscX', 'cscY']) w\n",
    "four_highest_jet_var = {}\n",
    "\n",
    "#for v in ['jetPt', 'jetEta', 'jetPhi', 'jetE']:\n",
    "#    tmp = []\n",
    "#print T['gLLP_decay_vertex_z']\n",
    "#print T['gLLP_decay_vertex_z'][:,0]\n",
    "\n",
    "##ORIGINAL\n",
    "sel_dis1 = np.logical_and( np.absolute(T['gLLP_decay_vertex_z'][:,0]) > 500 , np.absolute(T['gLLP_decay_vertex_z'][:,0]) < 1000, np.absolute(T['gLLP_decay_vertex_z'][:,1]) < 100)\n",
    "sel_dis2 = np.logical_and( np.absolute(T['gLLP_decay_vertex_z'][:,1]) > 500 , np.absolute(T['gLLP_decay_vertex_z'][:,1]) < 1000, np.absolute(T['gLLP_decay_vertex_z'][:,0]) < 100)\n",
    "sel_dis3 = np.sqrt(T['gLLP_decay_vertex_x'][:,0]*T['gLLP_decay_vertex_x'][:,0] + T['gLLP_decay_vertex_y'][:,0]*T['gLLP_decay_vertex_y'][:,0]) < 100\n",
    "sel_dis4 = np.sqrt(T['gLLP_decay_vertex_x'][:,1]*T['gLLP_decay_vertex_x'][:,1] + T['gLLP_decay_vertex_y'][:,1]*T['gLLP_decay_vertex_y'][:,1]) < 100\n",
    "sel_dis12 = np.logical_or(sel_dis1,sel_dis2)\n",
    "sel_dis34 = np.logical_and(sel_dis3,sel_dis4)\n",
    "\n",
    "#sel_prompt = np.logical_and( np.absolute(T['gLLP_decay_vertex_z'][:,0]) < 100 , np.absolute(T['gLLP_decay_vertex_z'][:,1]) < 100)\n",
    "#sel_displaced =  np.logical_or(sel_dis1,sel_dis2)\n",
    "\n",
    "#print T['jetPt'].shape\n",
    "#sel_dis1 = [True if x.any > 50 else False for x in T['jetPt']]\n",
    "#sel_dis2 = [True if x.any > 50 else False for x in T['jetPt']]\n",
    "sel_prompt = [True if x.any > 50 else False for x in T_bkg['jetPt']]\n",
    "sel_displaced =  np.logical_and(sel_dis12,sel_dis34)\n",
    "\n",
    "print sel_displaced\n",
    "\n",
    "csc_eta_dis = T['cscEta'][sel_displaced]\n",
    "csc_phi_dis = T['cscPhi'][sel_displaced]\n",
    "csc_x_dis = T['cscX'][sel_displaced]\n",
    "csc_y_dis = T['cscY'][sel_displaced]\n",
    "csc_z_dis = T['cscZ'][sel_displaced]\n",
    "nCsc_dis = T['nCsc'][sel_displaced]\n",
    "\n",
    "csc_eta_prompt = T_bkg['cscEta'][sel_prompt]\n",
    "csc_phi_prompt = T_bkg['cscPhi'][sel_prompt]\n",
    "csc_x_prompt = T_bkg['cscX'][sel_prompt]\n",
    "csc_y_prompt = T_bkg['cscY'][sel_prompt]\n",
    "csc_z_prompt = T_bkg['cscZ'][sel_prompt]\n",
    "nCsc_prompt = T_bkg['nCsc'][sel_prompt]\n",
    "\n",
    "#print nCsc_dis.ndim, nCsc_dis.shape, nCsc_dis.size\n",
    "#print np.vstack((csc_eta_dis[0],csc_phi_dis[0])).T.ndim\n",
    "evt_idx = 15\n",
    "c = rt.TCanvas('c','c', 800, 600)\n",
    "h = {}\n",
    "h['nCsc_dis'] = create_TH1D(nCsc_dis, axis_title=['nCsc_dis', 'Events'], name='nCsc_dis', binning=[500,0,500])\n",
    "h['nCsc_dis'].SetLineColor(4)\n",
    "h['nCsc_prompt'] = create_TH1D(nCsc_prompt, axis_title=['nCsc_prompt', 'Events'], name='nCsc_prompt', binning=[500,0,500])\n",
    "h['nCsc_prompt'].SetLineColor(2)\n",
    "c.SetLogy()\n",
    "#h['llp_eta'].SetStats(0)\n",
    "h['nCsc_dis'].Scale(1.0/h['nCsc_dis'].Integral())\n",
    "h['nCsc_prompt'].Scale(1.0/h['nCsc_prompt'].Integral())\n",
    "h['nCsc_dis'].GetXaxis().SetRangeUser(0,200)\n",
    "h['nCsc_dis'].Draw('histo')\n",
    "h['nCsc_prompt'].Draw('histo+same')\n",
    "c.Draw()\n",
    "\n",
    "c1 = rt.TCanvas('c1','c1', 800, 600)\n",
    "h['eta_phi_0'] = create_TH2D(np.vstack((csc_eta_prompt[evt_idx],csc_phi_prompt[evt_idx])).T, name='eta_phi_0', title='', binning=[100, -4, 4, 100, -4, 4], weights=None, axis_title = ['eta','phi', ''])\n",
    "c1.SetLogy(0)\n",
    "c1.cd()\n",
    "#h['eta_phi_0'].SetStats(0)\n",
    "h['eta_phi_0'].Draw(\"colz\")\n",
    "c1.Draw()\n",
    "\n",
    "\n",
    "test_dataset = np.vstack((csc_eta_prompt[evt_idx],csc_phi_prompt[evt_idx])).T\n",
    "#print test_dataset.ndim\n",
    "print len(csc_eta_prompt[evt_idx])\n",
    "centroids_t,centroid_constituents_t = kmeans(test_dataset,3)\n",
    "\n",
    "print len(csc_eta_prompt[evt_idx])\n",
    "\n",
    "\n",
    "    \n"
   ]
  },
  {
   "cell_type": "code",
   "execution_count": 84,
   "metadata": {},
   "outputs": [],
   "source": [
    "n_min_prompt  = []\n",
    "n_max_prompt  = []\n",
    "n_hits_prompt = []\n",
    "\n",
    "for eta,phi in zip(csc_eta_prompt,csc_phi_prompt):\n",
    "    test_dataset = np.vstack((eta,phi)).T\n",
    "    centroids,centroid_constituents = kmeans(test_dataset,20)\n",
    "    #print len(eta), centroid_constituents\n",
    "    nhits = 0\n",
    "    #print '============================'\n",
    "    for hits in centroid_constituents:\n",
    "        nhits += hits\n",
    "        #print hits\n",
    "        \n",
    "    #print 'hhits=>', nhits\n",
    "    n_hits_prompt.append(nhits)\n",
    "    n_max_prompt.append(np.amax(centroid_constituents))\n",
    "    #print 'phi', phi\n",
    "    \n",
    "\n",
    "#for i,j,k in zip(n_hits_prompt,nCsc_prompt,n_max_prompt):\n",
    "    #print i,j,k\n",
    "#   print '->',i,j\n",
    "    \n",
    "    \n",
    "n_max_dis = []\n",
    "n_min_dis = []\n",
    "centroids,centroid_constituents = kmeans(test_dataset,20)\n",
    "for eta,phi in zip(csc_eta_dis,csc_phi_dis):\n",
    "    test_dataset = np.vstack((eta,phi)).T\n",
    "    centroids,centroid_constituents = kmeans(test_dataset,20)\n",
    "    #n_min.append(np.min(centroid_constituents[np.nonzero(centroid_constituents)]))\n",
    "    #n_max.append(np.max(centroid_constituents[np.nonzero(centroid_constituents)]))\n",
    "    #print np.nonzero(centroid_constituents)[0], centroid_constituents[np.transpose(np.nonzero(centroid_constituents)[0])]\n",
    "    #print 'eta', eta\n",
    "    #print centroid_constituents\n",
    "    #print centroid_constituents.ravel()[np.flatnonzero(centroid_constituents)]\n",
    "    n_max_dis.append(np.amax(centroid_constituents))\n",
    "    n_min_dis.append(np.amin(centroid_constituents))\n",
    "    #print 'phi', phi\n",
    "\n"
   ]
  },
  {
   "cell_type": "code",
   "execution_count": 81,
   "metadata": {},
   "outputs": [
    {
     "name": "stdout",
     "output_type": "stream",
     "text": [
      "0.000815280689495\n",
      "0.333383892007\n"
     ]
    },
    {
     "name": "stderr",
     "output_type": "stream",
     "text": [
      "Warning in <TCanvas::Constructor>: Deleting canvas with same name: c2\n",
      "Warning in <TROOT::Append>: Replacing existing TH1: nmax_dis (Potential memory leak).\n",
      "Warning in <TROOT::Append>: Replacing existing TH1: nmax_prompt (Potential memory leak).\n",
      "Info in <TCanvas::Print>: pdf file muon_roi_trigger_bkg_like.pdf has been created\n",
      "Info in <TCanvas::Print>: pdf file muon_roi_trigger_signal_like.pdf has been created\n",
      "Info in <TCanvas::Print>: pdf file muon_roi_trigger_signal_vs_bkg.pdf has been created\n"
     ]
    },
    {
     "data": {
      "image/png": "[encoded data removed]",
      "text/plain": [
       "<IPython.core.display.Image object>"
      ]
     },
     "metadata": {},
     "output_type": "display_data"
    }
   ],
   "source": [
    "c2 = rt.TCanvas('c2','c2', 800, 600)\n",
    "h['nmax_dis'] = create_TH1D(n_max_dis, axis_title=['nCsc_dis', 'Events'], name='nmax_dis', binning=[500,0,500])\n",
    "h['nmax_dis'].SetLineColor(4)\n",
    "h['nmax_prompt'] = create_TH1D(n_max_prompt, axis_title=['nmax_prompt', 'Events'], name='nmax_prompt', binning=[500,0,500])\n",
    "h['nmax_prompt'].SetLineColor(2)\n",
    "c2.SetLogy()\n",
    "#h['llp_eta'].SetStats(0)\n",
    "h['nmax_dis'].Scale(1.0/h['nmax_dis'].Integral())\n",
    "h['nmax_prompt'].Scale(1.0/h['nmax_prompt'].Integral())\n",
    "h['nCsc_dis'].SetLineColor(8)\n",
    "h['nCsc_prompt'].SetLineColor(6)\n",
    "\n",
    "#HISTO INFO\n",
    "print h['nmax_prompt'].Integral(20,100)\n",
    "print h['nmax_dis'].Integral(20,100)\n",
    "\n",
    "#DRAW HISTOGRAMS\n",
    "h['nmax_prompt'].GetXaxis().SetRangeUser(0,50)\n",
    "h['nmax_prompt'].Draw('histo')\n",
    "#h['nmax_dis'].Draw('histo+same')\n",
    "#h['nCsc_dis'].Draw('histo+same')\n",
    "h['nCsc_prompt'].Draw('histo+same')\n",
    "\n",
    "c2.Draw()\n",
    "c2.SaveAs(\"muon_roi_trigger_bkg_like.pdf\")\n",
    "\n",
    "h['nmax_dis'].GetXaxis().SetRangeUser(0,200)\n",
    "h['nmax_dis'].SetLineColor(2)\n",
    "h['nCsc_dis'].SetLineColor(6)\n",
    "h['nmax_dis'].Draw('histo')\n",
    "h['nCsc_dis'].Draw('histo+same')\n",
    "c2.SaveAs(\"muon_roi_trigger_signal_like.pdf\")\n",
    "\n",
    "h['nmax_dis'].GetXaxis().SetRangeUser(0,200)\n",
    "h['nmax_dis'].SetLineColor(2)\n",
    "h['nmax_prompt'].SetLineColor(4)\n",
    "h['nmax_dis'].Draw('histo')\n",
    "h['nmax_prompt'].Draw('histo+same')\n",
    "c2.SaveAs(\"muon_roi_trigger_signal_vs_bkg.pdf\")\n"
   ]
  },
  {
   "cell_type": "code",
   "execution_count": null,
   "metadata": {},
   "outputs": [],
   "source": []
  }
 ],
 "metadata": {
  "kernelspec": {
   "display_name": "Python 2",
   "language": "python",
   "name": "python2"
  },
  "language_info": {
   "codemirror_mode": {
    "name": "ipython",
    "version": 2
   },
   "file_extension": ".py",
   "mimetype": "text/x-python",
   "name": "python",
   "nbconvert_exporter": "python",
   "pygments_lexer": "ipython2",
   "version": "2.7.15"
  }
 },
 "nbformat": 4,
 "nbformat_minor": 2
}
