{
 "cells": [
  {
   "cell_type": "code",
   "execution_count": 1,
   "metadata": {},
   "outputs": [
    {
     "name": "stdout",
     "output_type": "stream",
     "text": [
      "Welcome to JupyROOT 6.18/02\n",
      "3.6.8 (default, Aug  7 2019, 17:28:10) \n",
      "[GCC 4.8.5 20150623 (Red Hat 4.8.5-39)]\n"
     ]
    }
   ],
   "source": [
    "import ROOT as rt\n",
    "# import root_numpy as rtnp\n",
    "import csv\n",
    "import re\n",
    "import sys\n",
    "import collections\n",
    "\n",
    "from collections import OrderedDict\n",
    "import uproot\n",
    "import awkward\n",
    "import numpy as np\n",
    "import time\n",
    "import numba\n",
    "from numba import jit\n",
    "from matplotlib import pyplot as plt\n",
    "sys.path.append('/storage/user/christiw/gpu/christiw/llp/delayed_jet_analyzer/lib/')\n",
    "from histo_utilities import create_TH1D, create_TH2D, std_color_list, create_TGraph, make_ratio_plot\n",
    "\n",
    "import CMS_lumi, tdrstyle\n",
    "tdrstyle.setTDRStyle()\n",
    "CMS_lumi.writeExtraText = 0\n",
    "\n",
    "wH = 1\n",
    "Z_MASS = 91.2\n",
    "\n",
    "\n",
    "# donotdelete = []\n",
    "print(sys.version)"
   ]
  },
  {
   "cell_type": "markdown",
   "metadata": {},
   "source": [
    "# Load ntuples"
   ]
  },
  {
   "cell_type": "code",
   "execution_count": 2,
   "metadata": {},
   "outputs": [
    {
     "name": "stdout",
     "output_type": "stream",
     "text": [
      "NEvents data 22762296.0 4561.0 4561\n",
      "NEvents MC_Summer16_ggH_15_100 1744932.2 0.08559988 3075\n",
      "NEvents MC_Summer16_ggH_15_1000 1697936.6 3.021331 105604\n",
      "NEvents MC_Summer16_ggH_15_10000 1767933.5 1.0788144 39262\n",
      "NEvents MC_Summer16_ggH_15_100000 1744934.4 0.12870398 4623\n",
      "NEvents MC_Summer16_ggH_40_100 1794318.8 0.0012995685 48\n",
      "NEvents MC_Summer16_ggH_40_1000 1758938.2 1.2660794 45843\n",
      "NEvents MC_Summer16_ggH_40_10000 1699938.4 2.587063 90531\n",
      "NEvents MC_Summer16_ggH_40_100000 1851418.0 0.43225336 16474\n",
      "NEvents MC_Summer16_ggH_55_100 1658939.9 0.00032212134 11\n",
      "NEvents MC_Summer16_ggH_55_1000 1762938.1 0.38361686 13922\n",
      "NEvents MC_Summer16_ggH_55_10000 1716167.4 2.853773 100818\n",
      "NEvents MC_Summer16_ggH_55_100000 1767935.6 0.69194126 25182\n",
      "NEvents MC_Fall17_ggH_15_100 25791628.0 0.0731825 1803\n",
      "NEvents MC_Fall17_ggH_15_1000 24522924.0 2.908901 68270\n",
      "NEvents MC_Fall17_ggH_15_10000 25273904.0 1.040681 25154\n",
      "NEvents MC_Fall17_ggH_15_100000 24309876.0 0.12672487 2945\n",
      "NEvents MC_Fall17_ggH_40_100 25640744.0 0.001479382 36\n",
      "NEvents MC_Fall17_ggH_40_1000 24824956.0 1.171871 27779\n",
      "NEvents MC_Fall17_ggH_40_10000 25206790.0 2.4918249 59886\n",
      "NEvents MC_Fall17_ggH_40_100000 25231574.0 0.42196786 10148\n",
      "NEvents MC_Fall17_ggH_55_100 26735852.0 0.00015768674 4\n",
      "NEvents MC_Fall17_ggH_55_1000 26133564.0 0.34250516 8531\n",
      "NEvents MC_Fall17_ggH_55_10000 25400828.0 2.7438405 66217\n",
      "NEvents MC_Fall17_ggH_55_100000 24114650.0 0.6715836 15384\n",
      "NEvents MC_Fall18_ggH_15_100 47587956.0 0.07164486 3267\n",
      "NEvents MC_Fall18_ggH_15_1000 46660160.0 2.8783078 128527\n",
      "NEvents MC_Fall18_ggH_15_10000 48202670.0 1.0397115 47892\n",
      "NEvents MC_Fall18_ggH_15_100000 48705252.0 0.12507288 5828\n",
      "NEvents MC_Fall18_ggH_40_100 46733736.0 0.0011274097 50\n",
      "NEvents MC_Fall18_ggH_40_1000 45762096.0 1.171453 51219\n",
      "NEvents MC_Fall18_ggH_40_10000 48572036.0 2.4810274 114827\n",
      "NEvents MC_Fall18_ggH_40_100000 48011724.0 0.4083417 18698\n",
      "NEvents MC_Fall18_ggH_55_100 45264612.0 9.313874e-05 4\n",
      "NEvents MC_Fall18_ggH_55_1000 46470028.0 0.34776124 15370\n",
      "NEvents MC_Fall18_ggH_55_10000 47391852.0 2.737751 123247\n",
      "NEvents MC_Fall18_ggH_55_100000 47625070.0 0.6637899 30029\n",
      "891140817.125\n",
      "19.517818450927734\n"
     ]
    }
   ],
   "source": [
    "fpath =OrderedDict()\n",
    "tree = OrderedDict()\n",
    "weight = {}\n",
    "weight_sum = {}\n",
    "\n",
    "\n",
    "start_t = time.time()\n",
    "data_year = 'full'\n",
    "pdgId = 13\n",
    "analyzer_version = \"/v3/vBDT13/\"\n",
    "data_version = '/v1/vBDT13/'\n",
    "ntupler_version ='V1p15'\n",
    "ctau = [100, 1000, 10000, 100000]\n",
    "years = ['Summer16', 'Fall17', 'Fall18']\n",
    "mass = [15, 40, 55]\n",
    "\n",
    "\n",
    "\n",
    "# data_path = '/mnt/hadoop/store/group/phys_exotica/delayedjets/displacedJetMuonAnalyzer/csc/V1p12/Data'+str(data_year)+'/vBDT/v2/normalized/'\n",
    "# mc_path = '/mnt/hadoop/store/group/phys_exotica/delayedjets/displacedJetMuonAnalyzer/csc/V1p12/MC_RunIIFall18/vBDT/v2/normalized/'\n",
    "\n",
    "\n",
    "data_path = '/mnt/hadoop/store/group/phys_exotica/delayedjets/displacedJetMuonAnalyzer/csc/V1p15/Data2018/'+data_version+'/normalized/'\n",
    "fpath['data'] = data_path + 'Run2_displacedJetMuonNtupler_'+ntupler_version+'_Data2016_Data2017_Data2018-HighMET_goodLumi.root'\n",
    "\n",
    "for y in years:\n",
    "    mc_path = '/mnt/hadoop/store/group/phys_exotica/delayedjets/displacedJetMuonAnalyzer/csc/'+ntupler_version+'/MC_'+y+'/'+analyzer_version+'/normalized/'\n",
    "    tune = 'TuneCP5'\n",
    "    if y == 'Summer16': tune = 'TuneCUETP8M1'\n",
    "    for m in mass:\n",
    "        for ct in ctau:\n",
    "            key = 'MC_'+y+'_ggH_'+str(m)+'_'+str(ct)                       \n",
    "            fpath[key] = mc_path+'ggH_HToSSTobbbb_MH-125_MS-'+str(m)+'_ctau-'+str(ct)+'_' + tune + '_13TeV-powheg-pythia8_1pb_weighted.root'\n",
    "\n",
    "\n",
    "\n",
    "NEvents = {}\n",
    "total_signal = 0\n",
    "NEvents_genweight = {}\n",
    "for k,v in fpath.items():\n",
    "#     print (k, v)\n",
    "#     tree[k] = rtnp.root2array(v)\n",
    "    root_dir = uproot.open(v) \n",
    "    if not root_dir: \n",
    "        print(k, \"zombie\")\n",
    "        continue\n",
    "    tree[k] = root_dir['MuonSystem']\n",
    "    NEvents[k] = root_dir['NEvents'][1]\n",
    "    weight[k] = tree[k][\"weight\"].array()\n",
    "    weight_sum[k] = np.sum(weight[k])\n",
    "    print(\"NEvents\",k,NEvents[k], weight_sum[k], len(weight[k]))\n",
    "    if not k == 'data': total_signal += NEvents[k]\n",
    "    \n",
    "print(total_signal)\n",
    "print(time.time()-start_t)"
   ]
  },
  {
   "cell_type": "markdown",
   "metadata": {},
   "source": [
    "# Helper Functions"
   ]
  },
  {
   "cell_type": "code",
   "execution_count": 4,
   "metadata": {},
   "outputs": [],
   "source": [
    "\n",
    "\n",
    "# Imports\n",
    "import matplotlib.pyplot as plt\n",
    "import xgboost as xgb\n",
    "from sklearn.model_selection import train_test_split\n",
    "from sklearn.metrics import accuracy_score, roc_curve, roc_auc_score\n",
    "import numpy as np\n",
    "import pandas as pd\n",
    "import math\n",
    "import pickle as pickle\n",
    "import ROOT as root\n",
    "import os\n",
    "import shlex\n",
    "import uproot\n",
    "import seaborn as sns\n",
    "\n",
    "# variables = [\n",
    "#             ['cscRechitClusterNStation', 'cscRechitClusterNStation', '$N_{station}$', 5, 0, 5],\n",
    "#             ['cscRechitClusterXSpread', 'cscRechitClusterXSpread', 'X spread [cm]', 50, 0, 150],\n",
    "#             ['cscRechitClusterYSpread', 'cscRechitClusterYSpread', 'Y spread [cm]', 50, 0, 150],\n",
    "#             ['cscRechitClusterXYSpread', 'cscRechitClusterXYSpread', 'XY spread [cm]', 50, 0, 150],\n",
    "#             ['cscRechitClusterPhi', 'cscRechitClusterPhi', 'cluster $\\phi$',25, 0, 3.2],\n",
    "#             ['cscRechitClusterEta', 'cscRechitClusterEta', 'cluster $\\eta$',  25, 0.5, 2.5],\n",
    "#             ['cscRechitClusterZ', 'cscRechitClusterZ', 'cluster Z [cm]', 30, 600, 1100],\n",
    "#             ]\n",
    "\n",
    "# variables_mc = [\n",
    "#             ['cscRechitClusterNStation', 'cscRechitClusterNStation', '$N_{station}$', 5, 0, 5],\n",
    "#             ['cscRechitClusterXSpread_phi0p7_r1p2', 'cscRechitClusterXSpread', 'X spread [cm]', 50, 0, 150],\n",
    "#             ['cscRechitClusterYSpread_phi0p7_r1p2', 'cscRechitClusterYSpread', 'Y spread [cm]', 50, 0, 150],\n",
    "#             ['cscRechitClusterXYSpread_phi0p7_r1p2', 'cscRechitClusterXYSpread', 'XY spread [cm]', 50, 0, 150],\n",
    "#             ['cscRechitClusterPhi', 'cscRechitClusterPhi', 'cluster $\\phi$',25, 0, 3.2],\n",
    "#             ['cscRechitClusterEta', 'cscRechitClusterEta', 'cluster $\\eta$',  25, 0.5, 2.5],\n",
    "#             ['cscRechitClusterZ', 'cscRechitClusterZ', 'cluster Z [cm]', 30, 600, 1100],\n",
    "#             ]\n",
    "\n",
    "\n",
    "variables = [\n",
    "            ['cscRechitClusterNStation', 'cscRechitClusterNStation', '$N_{station}$', 5, 0, 5],\n",
    "            ['cscRechitClusterXSpread', 'cscRechitClusterXSpread', 'X spread [cm]', 50, 0, 150],\n",
    "            ['cscRechitClusterYSpread', 'cscRechitClusterYSpread', 'Y spread [cm]', 50, 0, 150],\n",
    "            ['cscRechitClusterXYSpread', 'cscRechitClusterXYSpread', 'XY spread [cm]', 50, 0, 150],\n",
    "            ['cscRechitClusterPhi', 'cscRechitClusterPhi', 'cluster $\\phi$',25, 0, 3.2],\n",
    "            ['cscRechitClusterEta', 'cscRechitClusterEta', 'cluster $\\eta$',  25, 0.5, 2.5],\n",
    "            ['cscRechitClusterAvgStation5', 'cscRechitClusterAvgStation5', 'cluster station', 30, 1, 4],\n",
    "\n",
    "            ]\n",
    "variables_mc = [\n",
    "            ['cscRechitClusterNStation5', 'cscRechitClusterNStation', '$N_{station}$', 5, 0, 5],\n",
    "            ['cscRechitClusterXSpread_corr', 'cscRechitClusterXSpread', 'X spread [cm]', 50, 0, 150],\n",
    "            ['cscRechitClusterYSpread_corr', 'cscRechitClusterYSpread', 'Y spread [cm]', 50, 0, 150],\n",
    "            ['cscRechitClusterXYSpread_corr', 'cscRechitClusterXYSpread', 'XY spread [cm]', 50, 0, 150],\n",
    "            ['cscRechitClusterPhi', 'cscRechitClusterPhi', 'cluster $\\phi$',25, 0, 3.2],\n",
    "            ['cscRechitClusterEta', 'cscRechitClusterEta', 'cluster $\\eta$',  25, 0.5, 2.5],\n",
    "            ['cscRechitClusterAvgStation5', 'cscRechitClusterAvgStation5', 'cluster station', 30, 1, 4],\n",
    "            ]"
   ]
  },
  {
   "cell_type": "markdown",
   "metadata": {},
   "source": [
    "# correlation with n_rechits"
   ]
  },
  {
   "cell_type": "code",
   "execution_count": 6,
   "metadata": {},
   "outputs": [
    {
     "name": "stdout",
     "output_type": "stream",
     "text": [
      "cscRechitClusterNStation (0.002329892728989767, 0.8750030614344682)\n",
      "cscRechitClusterXSpread (0.23983193229387356, 1.1093143824728789e-60)\n",
      "cscRechitClusterYSpread (0.19379156908660225, 7.726336572904193e-40)\n",
      "cscRechitClusterXYSpread (0.147451237778956, 1.375078493234217e-23)\n",
      "cscRechitClusterPhi (0.004825057783341603, 0.7445955745900031)\n",
      "cscRechitClusterEta (-0.023644730303444127, 0.11034675110098707)\n",
      "cscRechitClusterAvgStation5 (-0.024739981653812512, 0.09479740555639939)\n"
     ]
    }
   ],
   "source": [
    "# Plotting ncsc\n",
    "import scipy\n",
    "start_t = time.time()\n",
    "c = rt.TCanvas('c','c', 1000, 800)\n",
    "h = {}\n",
    "# leg = rt.TLegend(0.50,0.75,0.97,0.93)\n",
    "leg = rt.TLegend(0.58,0.70,0.94,0.85)\n",
    "leg.SetTextSize(0.022)\n",
    "# leg.SetTextFont(42)\n",
    "leg.SetEntrySeparation(0.01)\n",
    "T = tree['data']\n",
    "for i, var in enumerate(variables):\n",
    "#     evt_selection  = T.array('met') > 200\n",
    "    nCscRechitClusters = T.array('nCscRechitClusters')\n",
    "    cscRechits = T.array('cscRechitClusterSize')[nCscRechitClusters>0][:,0]\n",
    "    variable_check = np.abs(T.array(var[0])[nCscRechitClusters>0][:,0])\n",
    "    print(var[0],scipy.stats.pearsonr(cscRechits, variable_check))"
   ]
  },
  {
   "cell_type": "code",
   "execution_count": 5,
   "metadata": {},
   "outputs": [],
   "source": [
    "variables_veto = [\n",
    "            ['cscRechitClusterMuonVetoPt', 'cscRechitClusterMuonVetoPt', '$N_{station}$', 5, 0, 5],\n",
    "            ['cscRechitClusterMuonVetoE', 'cscRechitClusterMuonVetoE', '$\\eta$ spread', 50, 0, 0.3],\n",
    "            ['cscRechitClusterJetVetoPt', 'cscRechitClusterJetVetoPt', '$\\phi$ spread', 50, 0, 0.3],\n",
    "            ['cscRechitClusterJetVetoE', 'cscRechitClusterJetVetoE', '$\\eta-\\phi$ spread', 50, 0, 0.2],\n",
    "      \n",
    "            ]\n",
    "\n"
   ]
  },
  {
   "cell_type": "code",
   "execution_count": null,
   "metadata": {},
   "outputs": [],
   "source": []
  },
  {
   "cell_type": "markdown",
   "metadata": {},
   "source": [
    "## load root files to dataframes & weight"
   ]
  },
  {
   "cell_type": "code",
   "execution_count": 6,
   "metadata": {},
   "outputs": [
    {
     "name": "stdout",
     "output_type": "stream",
     "text": [
      "Summer16\n",
      "Fall17\n",
      "Fall18\n",
      "values in signal missing:  False\n",
      "values in bkg missing:  False\n",
      "Number of signal events: 8302\n",
      "Number of background events: 4567\n",
      "Sum of weight for signal events: 4566.999999999998\n",
      "Sum of weight for background events: 4567\n"
     ]
    }
   ],
   "source": [
    "lumi_year = {\n",
    "    'Summer16': 35.92,\n",
    "    'Fall17':41.53,\n",
    "    'Fall18':59.74,\n",
    "}\n",
    "\n",
    "# timespread_cut = 2.0\n",
    "\n",
    "\n",
    "weight_signal = []\n",
    "df_signal_list  = []\n",
    "nRechit_list = []\n",
    "veto_list = []\n",
    "# timespread_list = []\n",
    "\n",
    "for y in years:\n",
    "    print(y)\n",
    "    for m in mass:\n",
    "        for ct in ctau:\n",
    "            key = 'MC_'+y+'_ggH_'+str(m)+'_'+str(ct)                       \n",
    "            df_signal_temp = uproot.open(fpath[key])['MuonSystem'].pandas.df([row[0] for row in variables_mc], flatten=True)\n",
    "            df_signal_list.append(df_signal_temp)\n",
    "            nRechit_list.append(uproot.open(fpath[key])['MuonSystem'].pandas.df(['cscRechitClusterSize'], flatten=True))\n",
    "#             veto_list.append(uproot.open(fpath[key])['MuonSystem'].pandas.df([row[0] for row in variables_veto], flatten=True))\n",
    "#             timespread_list.append(uproot.open(fpath[key])['MuonSystem'].pandas.df(['cscRechitClusterEta'], flatten=True))\n",
    "\n",
    "#             weight_signal = weight_signal + [lumi_year[y]/len(df_signal_temp)]*len(df_signal_temp) #v4\n",
    "            weight_signal = weight_signal + [lumi_year[y]]*len(df_signal_temp) #v5\n",
    "            break\n",
    "df_signal = pd.concat(df_signal_list)\n",
    "df_bkg = uproot.open(fpath['data'])['MuonSystem'].pandas.df([row[0] for row in variables], flatten=True)\n",
    "weight_bkg = np.ones((len(df_bkg,)))\n",
    "weight_signal = np.array(weight_signal)\n",
    "# df_signal_ts = pd.concat(timespread_list)\n",
    "# df_bkg_ts = uproot.open(fpath['data'])['MuonSystem'].pandas.df(['cscRechitClusterEta'], flatten=True)\n",
    "\n",
    "df_signal_ncsc = pd.concat(nRechit_list)\n",
    "df_bkg_ncsc = uproot.open(fpath['data'])['MuonSystem'].pandas.df(['cscRechitClusterSize'], flatten=True)\n",
    "nRechits = np.abs(np.concatenate([df_bkg_ncsc,df_signal_ncsc]))\n",
    "\n",
    "\n",
    "print(\"values in signal missing: \", df_signal.isnull().values.any())\n",
    "print(\"values in bkg missing: \", df_bkg.isnull().values.any())\n",
    "\n",
    "# weight_signal = weight_signal[np.abs(df_signal_ts.values[:,0])<=timespread_cut]\n",
    "# df_signal = df_signal.values[np.abs(df_signal_ts.values[:,0])<=timespread_cut]\n",
    "# df_bkg = df_bkg.values[np.abs(df_bkg_ts.values[:,0])<=timespread_cut]\n",
    "# weight_bkg = weight_bkg[np.abs(df_bkg_ts.values[:,0])<=timespread_cut]\n",
    "# df_signal_ncsc = df_signal_ncsc.values[np.abs(df_signal_ts.values[:,0])<=timespread_cut]\n",
    "# df_bkg_ncsc = df_bkg_ncsc.values[np.abs(df_bkg_ts.values[:,0])<=timespread_cut]\n",
    "\n",
    "x = np.abs(np.concatenate([df_bkg,df_signal]))\n",
    "y = np.concatenate([np.zeros(len(df_bkg)),np.ones(len(df_signal))])\n",
    "weight_signal = weight_signal/np.sum(weight_signal) * np.sum(weight_bkg)\n",
    "\n",
    "\n",
    "weight = np.hstack((weight_bkg, weight_signal))\n",
    "\n",
    "assert(len(x) == len(y) == len(weight))\n",
    "\n",
    "print(\"Number of signal events: \"+ str(len(df_signal)))\n",
    "print(\"Number of background events: \"+str(len(df_bkg)))\n",
    "print(\"Sum of weight for signal events: \"+ str(np.sum(weight_signal)))\n",
    "print(\"Sum of weight for background events: \"+str(len(df_bkg)))\n",
    "\n",
    "indices = np.arange(len(y))\n",
    "\n",
    "# df_nRechit_sig = pd.concat(nRechit_list)\n",
    "# df_nRechit_bkg = uproot.open(fpath['data'])['MuonSystem'].pandas.df('cscRechitClusterSize', flatten=True)\n",
    "# df_veto_sig = pd.concat(veto_list)"
   ]
  },
  {
   "cell_type": "code",
   "execution_count": null,
   "metadata": {},
   "outputs": [],
   "source": []
  },
  {
   "cell_type": "code",
   "execution_count": null,
   "metadata": {},
   "outputs": [],
   "source": []
  },
  {
   "cell_type": "markdown",
   "metadata": {},
   "source": [
    "# muon veto efficiency"
   ]
  },
  {
   "cell_type": "code",
   "execution_count": null,
   "metadata": {},
   "outputs": [],
   "source": [
    "df_muonVetoPt_sig\n",
    "eff_muonpt = []\n",
    "eff_muone = []\n",
    "eff_jetpt = []\n",
    "eff_jete = []\n",
    "muonpt = np.array(df_veto_sig['cscRechitClusterMuonVetoPt'])\n",
    "muone = np.array(df_veto_sig['cscRechitClusterMuonVetoE'])\n",
    "jetpt = np.array(df_veto_sig['cscRechitClusterJetVetoPt'])\n",
    "jete = np.array(df_veto_sig['cscRechitClusterJetVetoE'])\n",
    "cuts = np.arange(0,50,1)\n",
    "for cut in cuts:\n",
    "    eff_muonpt.append(np.count_nonzero(muonpt<cut)/len(muonpt))\n",
    "    eff_muone.append(np.count_nonzero(muone<cut)/len(muone))\n",
    "    eff_jetpt.append(np.count_nonzero(jetpt<cut)/len(jetpt))\n",
    "    eff_jete.append(np.count_nonzero(jete<cut)/len(jete))\n",
    "eff_muonpt = np.array(eff_muonpt)\n",
    "eff_muone = np.array(eff_muone)\n",
    "eff_jetpt = np.array(eff_jetpt)\n",
    "eff_jete = np.array(eff_jete)\n",
    "print(cuts[np.argmin(abs(eff_muonpt-0.9))])\n",
    "print(cuts[np.argmin(abs(eff_muone-0.9))])\n",
    "print(cuts[np.argmin(abs(eff_jetpt-0.9))])\n",
    "print(cuts[np.argmin(abs(eff_jete-0.9))])\n",
    "# print(eff_pt)\n",
    "# print(e[np.argmin(abs(eff_e-0.9))])"
   ]
  },
  {
   "cell_type": "code",
   "execution_count": null,
   "metadata": {},
   "outputs": [],
   "source": []
  },
  {
   "cell_type": "markdown",
   "metadata": {},
   "source": [
    "### plot input variables"
   ]
  },
  {
   "cell_type": "code",
   "execution_count": 12,
   "metadata": {},
   "outputs": [
    {
     "name": "stdout",
     "output_type": "stream",
     "text": [
      "0 0 0\n",
      "['cscRechitClusterNStation', 'cscRechitClusterNStation', '$N_{station}$', 5, 0, 5]\n",
      "1 0 1\n",
      "['cscRechitClusterXSpread', 'cscRechitClusterXSpread', 'X spread [cm]', 50, 0, 150]\n",
      "2 1 0\n",
      "['cscRechitClusterYSpread', 'cscRechitClusterYSpread', 'Y spread [cm]', 50, 0, 150]\n",
      "3 1 1\n",
      "['cscRechitClusterXYSpread', 'cscRechitClusterXYSpread', 'XY spread [cm]', 50, 0, 150]\n",
      "4 2 0\n",
      "['cscRechitClusterPhi', 'cscRechitClusterPhi', 'cluster $\\\\phi$', 25, 0, 3.2]\n",
      "5 2 1\n",
      "['cscRechitClusterEta', 'cscRechitClusterEta', 'cluster $\\\\eta$', 25, 0.5, 2.5]\n",
      "6 3 0\n",
      "['cscRechitClusterAvgStation5', 'cscRechitClusterAvgStation5', 'cluster station', 30, 1, 4]\n"
     ]
    },
    {
     "name": "stderr",
     "output_type": "stream",
     "text": [
      "/usr/local/lib/python3.6/site-packages/ipykernel_launcher.py:36: UserWarning: You have mixed positional and keyword arguments, some input may be discarded.\n"
     ]
    },
    {
     "data": {
      "image/png": "[encoded data removed]",
      "text/plain": [
       "<Figure size 432x576 with 8 Axes>"
      ]
     },
     "metadata": {
      "needs_background": "light"
     },
     "output_type": "display_data"
    }
   ],
   "source": [
    "\n",
    "def trim_axs(axs, N):\n",
    "    \"\"\"little helper to massage the axs list to have correct length...\"\"\"\n",
    "    axs = axs.flat\n",
    "    for ax in axs[N:]:\n",
    "        ax.remove()\n",
    "    return axs[:N]\n",
    "columns = 2\n",
    "# fig1, axs = plt.subplots(int(len(variables)/columns)+1, columns, figsize=(8,5), constrained_layout=True)\n",
    "fig1, axs = plt.subplots(int(len(variables)/columns)+1, columns, figsize=(6,8), constrained_layout=True)\n",
    "\n",
    "\n",
    "# for ax, case in zip(axs, cases):\n",
    "#     ax.set_title('markevery=%s' % str(case))\n",
    "trim_axs(axs, len(variables))\n",
    "\n",
    "r = 0\n",
    "c = 0\n",
    "for i, var in enumerate(variables):\n",
    "#     axs[i].hist(x[:,i][y==0])\n",
    "    print(i,r,c)\n",
    "    print(variables[i])\n",
    "    bkg = axs[r,c].hist(x[:,i][y==0], variables[i][3], (variables[i][4], variables[i][5]), density = True, histtype = 'step', label = 'Background', color = 'b')\n",
    "    sig = axs[r,c].hist(x[:,i][y==1], variables[i][3], (variables[i][4], variables[i][5]), density = True, histtype = 'step', label = 'Signal', color = 'r')\n",
    "#     axs[r,c].legend()\n",
    "    axs[r,c].set_xlabel(variables[i][2])\n",
    "    if c == columns-1:\n",
    "#         if r == 0:axs[r,c].legend(loc = 'upper right')\n",
    "        c = 0\n",
    "        r+=1\n",
    "        \n",
    "    else:c+=1\n",
    "#     if i == len(variables)-1:\n",
    "fig1.legend([bkg, sig],     # The line objects\n",
    "           labels=['Background', 'Signal'],   # The labels for each line\n",
    "           loc=\"upper center\",   # Position of legend\n",
    "           borderaxespad=0.1,    # Small spacing around legend box\n",
    "           )\n",
    "#     h['OOT_data'] = create_TH1D(x[:,i][y==0], axis_title = [variables[i][2],'Events'], binning=[variables[i][3], variables[i][4], variables[i][5]])\n",
    "#     h['MC_signal'] = create_TH1D(x[:,i][y==1], axis_title = [variables[i][2],'Events'], binning=[variables[i][3], variables[i][4], variables[i][5]])\n",
    "\n",
    "fig1.savefig(\"../../plots/MuonSystem_Analysis/\"+bdt_name+'/input.png', dpi=300)\n",
    "\n"
   ]
  },
  {
   "cell_type": "markdown",
   "metadata": {},
   "source": [
    "# train"
   ]
  },
  {
   "cell_type": "code",
   "execution_count": 7,
   "metadata": {},
   "outputs": [],
   "source": [
    "# split data into train and test sets\n",
    "seed = 7\n",
    "test_size = 0.2\n",
    "sample_size = 1.0\n",
    "# x_train, x_test, y_train, y_test, indices_train, indices_test = train_test_split(x, y,indices,train_size = sample_size*(1-test_size), test_size=sample_size*test_size, random_state=seed)\n",
    "x_train, x_test, y_train, y_test, indices_train, indices_test, weight_train, weight_test\\\n",
    "    = train_test_split(x, y,indices, weight, train_size = sample_size*(1-test_size), test_size=sample_size*test_size, random_state=seed)"
   ]
  },
  {
   "cell_type": "code",
   "execution_count": 8,
   "metadata": {},
   "outputs": [
    {
     "data": {
      "text/plain": [
       "XGBClassifier(base_score=0.5, booster='gbtree', colsample_bylevel=1,\n",
       "              colsample_bynode=1, colsample_bytree=1, gamma=0,\n",
       "              learning_rate=0.1, max_delta_step=0, max_depth=4,\n",
       "              min_child_weight=1, missing=None, n_estimators=400, n_jobs=4,\n",
       "              nthread=None, objective='binary:logistic', random_state=0,\n",
       "              reg_alpha=0, reg_lambda=1.0, scale_pos_weight=1, seed=None,\n",
       "              silent=None, subsample=1, verbosity=1)"
      ]
     },
     "execution_count": 8,
     "metadata": {},
     "output_type": "execute_result"
    }
   ],
   "source": [
    "# fit model no training data\n",
    "model = xgb.XGBClassifier(max_depth=4, learning_rate=0.1, n_estimators=400, verbosity=1, n_jobs=4, reg_lambda=1.0)\n",
    "model.fit(x_train, y_train, sample_weight=weight_train)"
   ]
  },
  {
   "cell_type": "code",
   "execution_count": 9,
   "metadata": {},
   "outputs": [
    {
     "name": "stdout",
     "output_type": "stream",
     "text": [
      "Accuracy: 87.10%\n"
     ]
    }
   ],
   "source": [
    "# make predictions for test data\n",
    "y_pred = model.predict_proba(x_test)[:, 1]\n",
    "y_pred_train = model.predict_proba(x_train)[:, 1]\n",
    "\n",
    "\n",
    "predictions = [round(value) for value in y_pred]\n",
    "# evaluate predictions\n",
    "accuracy = accuracy_score(y_test, predictions)\n",
    "print(\"Accuracy: %.2f%%\" % (accuracy * 100.0))\n",
    "bdt_name = 'bdt_flatten_metfilter_me1112nohits_eta2p1_testsize0p2_abs_XYspread_v12'\n",
    "# import pickle\n",
    "# pickle.dump(model, open(bdt_name+\".pickle\", \"wb\"))\n"
   ]
  },
  {
   "cell_type": "code",
   "execution_count": null,
   "metadata": {},
   "outputs": [],
   "source": [
    "\n"
   ]
  },
  {
   "cell_type": "markdown",
   "metadata": {},
   "source": [
    "# load bdt"
   ]
  },
  {
   "cell_type": "code",
   "execution_count": 6,
   "metadata": {},
   "outputs": [
    {
     "name": "stdout",
     "output_type": "stream",
     "text": [
      "Accuracy: 93.21%\n",
      "Accuracy: 93.26%\n"
     ]
    }
   ],
   "source": [
    "# make predictions for test data\n",
    "\n",
    "import pickle\n",
    "# model = pickle.load(open( 'bdt_flatten_noEvtSelection.pickle.dat', \"rb\" ))\n",
    "bdt_name = 'bdt_flatten_metfilter_me1112nohits_eta2p1_testsize0p2_abs_XYspread_v11'\n",
    "\n",
    "\n",
    "model = pickle.load(open( bdt_name+'.pickle', \"rb\" ))\n",
    "# y_pred = model.predict_proba([1,2,3,4,4,5,6])[:, 1]\n",
    "y_pred = model.predict_proba(x_test)[:, 1]\n",
    "y_pred_train = model.predict_proba(x_train)[:, 1]\n",
    "\n",
    "predictions = [round(value) for value in y_pred]\n",
    "# evaluate predictions\n",
    "accuracy = accuracy_score(y_test, predictions)\n",
    "print(\"Accuracy: %.2f%%\" % (accuracy * 100.0))\n",
    "\n",
    "\n",
    "accuracy = accuracy_score(y_train, [round(value) for value in y_pred_train])\n",
    "\n",
    "\n",
    "print(\"Accuracy: %.2f%%\" % (accuracy * 100.0))\n"
   ]
  },
  {
   "cell_type": "markdown",
   "metadata": {},
   "source": [
    "# ROC curve"
   ]
  },
  {
   "cell_type": "code",
   "execution_count": 10,
   "metadata": {},
   "outputs": [
    {
     "name": "stdout",
     "output_type": "stream",
     "text": [
      "AUC: 0.9408677840348021\n"
     ]
    }
   ],
   "source": [
    "\n",
    "AUC = roc_auc_score(y_test, y_pred)\n",
    "print(\"AUC: \"+str(AUC))\n",
    "#get roc curve\n",
    "#roc = roc_curve(y_test, y_pred)\n",
    "fpr, tpr, thr = roc_curve(y_test, y_pred)\n",
    "# fpr, tpr, thr = roc_curve(y_train, y_pred_train)"
   ]
  },
  {
   "cell_type": "markdown",
   "metadata": {},
   "source": [
    "## significance"
   ]
  },
  {
   "cell_type": "code",
   "execution_count": 11,
   "metadata": {},
   "outputs": [
    {
     "name": "stdout",
     "output_type": "stream",
     "text": [
      "WP99_threshold: 0.07176307\n",
      "WP99_effSignal: 0.9899049881235155\n",
      "WP99_effBkg: 0.596629213483146\n",
      "WP90_threshold: 0.40533176\n",
      "WP90_effSignal: 0.9002375296912114\n",
      "WP90_effBkg: 0.16067415730337078\n"
     ]
    }
   ],
   "source": [
    "\n",
    "significance = []\n",
    "effSignal = []\n",
    "effBkg = []\n",
    "thresholds = []\n",
    "\n",
    "ctr = 0\n",
    "for i in range(len(fpr)):\n",
    "    if fpr[i] > 1e-5 and tpr[i] > 1e-5:\n",
    "#         print(\"thr = \"+str(thr[i])+\", fpr = \"+str(fpr[i]) + \", tpr = \"+str(tpr[i]))\n",
    "        #print fpr[i], tpr[i] \n",
    "        #significance.append(math.sqrt(lumi)*4.8742592356*0.006431528796*tpr[i]/math.sqrt(fpr[i]*0.9935684712))\n",
    "#         significance.append(*tpr[i]/math.sqrt(fpr[i]*bkgEvents))\n",
    "        effSignal.append(tpr[i])\n",
    "        effBkg.append(fpr[i])\n",
    "        thresholds.append(thr[i])\n",
    "        #print significance[ctr], ' ' , fpr[ctr], ' ', tpr[ctr]\n",
    "        ctr = ctr + 1\n",
    "\n",
    "\n",
    "# max_significance = max(significance)\n",
    "# idx_max_significance = np.argmax(np.array(significance))\n",
    "# best_threshold = thresholds[idx_max_significance]\n",
    "# best_effSignal = effSignal[idx_max_significance]\n",
    "# best_effBkg = effBkg[idx_max_significance]\n",
    "\n",
    "# print(\"max_significance: \"+str(max_significance))\n",
    "# print(\"best_threshold: \"+str(best_threshold))\n",
    "# print(\"best_effSignal: \"+str(best_effSignal))\n",
    "# print(\"best_effBkg: \"+str(best_effBkg))\n",
    "\n",
    "idx_WP99 = 0\n",
    "minD0p9 = 999.0\n",
    "for idx in range(len(effSignal)):\n",
    "    if abs(effSignal[idx] - 0.99) < minD0p9:\n",
    "        idx_WP99 = idx\n",
    "        minD0p9 = abs(effSignal[idx] - 0.99)\n",
    "\n",
    "# WP90_significance = significance[idx_WP90]\n",
    "WP99_threshold = thresholds[idx_WP99]\n",
    "WP99_effSignal = effSignal[idx_WP99]\n",
    "WP99_effBkg = effBkg[idx_WP99]\n",
    "\n",
    "# print(\"WP90_significance: \"+str(WP90_significance))\n",
    "print(\"WP99_threshold: \"+str(WP99_threshold))\n",
    "print(\"WP99_effSignal: \"+str(WP99_effSignal))\n",
    "print(\"WP99_effBkg: \"+str(WP99_effBkg))\n",
    "\n",
    "idx_WP90 = 0\n",
    "minD0p8 = 999.0\n",
    "for idx in range(len(effSignal)):\n",
    "        if abs(effSignal[idx] - 0.90) < minD0p8:\n",
    "                idx_WP90 = idx\n",
    "                minD0p8 = abs(effSignal[idx] - 0.90)\n",
    "\n",
    "# WP80_significance = significance[idx_WP80]\n",
    "WP90_threshold = thresholds[idx_WP90]\n",
    "WP90_effSignal = effSignal[idx_WP90]\n",
    "WP90_effBkg = effBkg[idx_WP90]\n",
    "\n",
    "# print(\"WP80_significance: \"+str(WP80_significance))\n",
    "print(\"WP90_threshold: \"+str(WP90_threshold))\n",
    "print(\"WP90_effSignal: \"+str(WP90_effSignal))\n",
    "print(\"WP90_effBkg: \"+str(WP90_effBkg))\n"
   ]
  },
  {
   "cell_type": "markdown",
   "metadata": {},
   "source": [
    "# plot roc curve"
   ]
  },
  {
   "cell_type": "code",
   "execution_count": 12,
   "metadata": {},
   "outputs": [
    {
     "data": {
      "image/png": "[encoded data removed]",
      "text/plain": [
       "<Figure size 432x288 with 1 Axes>"
      ]
     },
     "metadata": {
      "needs_background": "light"
     },
     "output_type": "display_data"
    }
   ],
   "source": [
    "\n",
    "#plot roc curve\n",
    "f = plt.figure()\n",
    "ax = f.add_subplot(111)\n",
    "plt.subplots_adjust(top=0.9, bottom=0.15, left=0.15, right=0.95)\n",
    "lw = 2\n",
    "plt.plot(fpr, tpr, color='darkorange',\n",
    "         lw=lw, label='ROC curve')\n",
    "plt.plot([0, 1], [0, 1], color='navy', lw=lw, linestyle='--')\n",
    "plt.xlim([10E-4, 1.0])\n",
    "plt.ylim([0.0, 1.05])\n",
    "plt.ylabel('Signal Efficiency',horizontalalignment='right', y=1.0, fontsize=15)\n",
    "plt.xlabel('Background Efficiency',horizontalalignment='right', x=1.0, fontsize=15)\n",
    "plt.xticks(fontsize=13)\n",
    "plt.yticks(fontsize=13)\n",
    "plt.xscale('log')\n",
    "plt.axhline(y=0.9, color=\"black\", linestyle='--')\n",
    "plt.axhline(y=0.8, color=\"black\")\n",
    "plt.text(0.05,0.1,'WP99: bkg eff = %.4f'%WP99_effBkg, fontsize=12)\n",
    "plt.text(0.05,0.2,'WP90: bkg eff = %.4f'%WP90_effBkg, fontsize=12)\n",
    "#plt.text(0.5,0.3,'WP90: S/sqrt(B) = %.2f'%WP90_significance, fontsize=12)\n",
    "plt.text(0.05,0.3,'AUC = %.4f'%AUC, fontsize=12)\n",
    "\n",
    "plt.text(-0.03, 1.03, 'CMS', ha='left', va='bottom', transform=ax.transAxes, weight='bold', fontsize=17)\n",
    "plt.text(0.10, 1.03, 'Simulation Preliminary', ha='left', va='bottom', transform=ax.transAxes, style='italic', fontsize=16)\n",
    "plt.text(0.97, 1.03, '13 TeV', ha='right', va='bottom', transform=ax.transAxes, fontsize=16)\n",
    "\n",
    "# plt.legend(loc=\"lower right\")\n",
    "# plt.show()\n",
    "if not os.path.isdir(\"../../plots/MuonSystem_Analysis/\"+bdt_name):\n",
    "    os.makedirs(\"../../plots/MuonSystem_Analysis/\"+bdt_name)\n",
    "# plt.savefig(\"../../plots/MuonSystem_Analysis/\"+bdt_name+'/roc.png', dpi=300)\n",
    "\n"
   ]
  },
  {
   "cell_type": "markdown",
   "metadata": {},
   "source": [
    "# plot discrimination"
   ]
  },
  {
   "cell_type": "code",
   "execution_count": 13,
   "metadata": {},
   "outputs": [
    {
     "name": "stdout",
     "output_type": "stream",
     "text": [
      "0.013424939\n"
     ]
    },
    {
     "data": {
      "text/plain": [
       "Text(1.0, 1.01, '13 TeV')"
      ]
     },
     "execution_count": 13,
     "metadata": {},
     "output_type": "execute_result"
    },
    {
     "data": {
      "image/png": "[encoded data removed]",
      "text/plain": [
       "<Figure size 432x288 with 1 Axes>"
      ]
     },
     "metadata": {
      "needs_background": "light"
     },
     "output_type": "display_data"
    }
   ],
   "source": [
    "y_frame = pd.DataFrame({'truth':y_test, 'disc':y_pred})\n",
    "y_frame_train = pd.DataFrame({'truth':y_train, 'disc':y_pred_train})\n",
    "\n",
    "disc_bkg    = y_frame[y_frame['truth'] == 0]['disc'].values\n",
    "disc_bkg_train    = y_frame_train[y_frame_train['truth'] == 0]['disc'].values\n",
    "disc_signal = y_frame[y_frame['truth'] == 1]['disc'].values\n",
    "disc_signal_train = y_frame_train[y_frame_train['truth'] == 1]['disc'].values\n",
    "f = plt.figure()\n",
    "ax = f.add_subplot(111)\n",
    "plt.subplots_adjust(top=0.9, bottom=0.15, left=0.15, right=0.95)\n",
    "plt.hist(disc_signal, density=True, bins=100, alpha=1.0, histtype='step', lw=2, label='signal - test')\n",
    "plt.hist(disc_signal_train, density=True, bins=100, alpha=1.0, histtype='step', lw=2, label='signal  - train')\n",
    "plt.hist(disc_bkg, density=True, bins=100, alpha=1.0, histtype='step', lw=2, label='bkg - test')\n",
    "plt.hist(disc_bkg_train, density=True, bins=100, alpha=1.0, histtype='step', lw=2, label='bkg - train')\n",
    "\n",
    "print(np.min(disc_signal_train))\n",
    "plt.yscale('log')\n",
    "plt.xlim([0.0, 1.0])\n",
    "plt.ylim([0.001, 1000.0])\n",
    "plt.legend(loc='upper left')\n",
    "plt.xlabel('BDT response',horizontalalignment='right', x=1.0, fontsize=15)\n",
    "plt.ylabel('Events',horizontalalignment='right', y=1.0, fontsize=14)\n",
    "plt.xticks(fontsize=13)\n",
    "plt.yticks(fontsize=13)\n",
    "plt.axvline(x=WP90_threshold, color='black', linestyle='--')\n",
    "# plt.axvline(x=WP99_threshold, color='black')\n",
    "plt.text(0.5,0.7,'WP90: disc > %.4f'%WP90_threshold, fontsize=12, horizontalalignment='left', verticalalignment='top', transform=plt.gca().transAxes)\n",
    "# plt.text(0.5,0.6,‘WP80: disc > %.4f’%WP80_threshold, fontsize=12, horizontalalignment=‘center’, verticalalignment=‘center’, transform=plt.gca().transAxes)\n",
    "plt.text(0.0, 1.01, 'CMS', ha='left', va='bottom', transform=ax.transAxes, weight='bold', fontsize=17)\n",
    "plt.text(0.12, 1.01, 'Simulation Preliminary', ha='left', va='bottom', transform=ax.transAxes, style='italic', fontsize=16)\n",
    "plt.text(1.0, 1.01, '13 TeV', ha='right', va='bottom', transform=ax.transAxes, fontsize=16)\n",
    "# plt.savefig(\"../../plots/MuonSystem_Analysis/\"+bdt_name+'/discrimination.png', dpi=300)\n",
    "\n"
   ]
  },
  {
   "cell_type": "code",
   "execution_count": 15,
   "metadata": {},
   "outputs": [
    {
     "ename": "AttributeError",
     "evalue": "'numpy.ndarray' object has no attribute 'values'",
     "output_type": "error",
     "traceback": [
      "\u001b[0;31m---------------------------------------------------------------------------\u001b[0m",
      "\u001b[0;31mAttributeError\u001b[0m                            Traceback (most recent call last)",
      "\u001b[0;32m<ipython-input-15-b354a2d68e6f>\u001b[0m in \u001b[0;36m<module>\u001b[0;34m\u001b[0m\n\u001b[1;32m     17\u001b[0m \u001b[0;34m\u001b[0m\u001b[0m\n\u001b[1;32m     18\u001b[0m     \u001b[0;32mfor\u001b[0m \u001b[0mj\u001b[0m\u001b[0;34m,\u001b[0m \u001b[0mm\u001b[0m \u001b[0;32min\u001b[0m \u001b[0menumerate\u001b[0m\u001b[0;34m(\u001b[0m\u001b[0mmass\u001b[0m\u001b[0;34m)\u001b[0m\u001b[0;34m:\u001b[0m\u001b[0;34m\u001b[0m\u001b[0;34m\u001b[0m\u001b[0m\n\u001b[0;32m---> 19\u001b[0;31m         \u001b[0mx\u001b[0m \u001b[0;34m=\u001b[0m \u001b[0mnp\u001b[0m\u001b[0;34m.\u001b[0m\u001b[0mconcatenate\u001b[0m\u001b[0;34m(\u001b[0m\u001b[0;34m[\u001b[0m\u001b[0mdf_bkg\u001b[0m\u001b[0;34m.\u001b[0m\u001b[0mvalues\u001b[0m\u001b[0;34m,\u001b[0m\u001b[0mdf_signal\u001b[0m\u001b[0;34m[\u001b[0m\u001b[0mm\u001b[0m\u001b[0;34m]\u001b[0m\u001b[0;34m[\u001b[0m\u001b[0mct\u001b[0m\u001b[0;34m]\u001b[0m\u001b[0;34m.\u001b[0m\u001b[0mvalues\u001b[0m\u001b[0;34m]\u001b[0m\u001b[0;34m)\u001b[0m\u001b[0;34m\u001b[0m\u001b[0;34m\u001b[0m\u001b[0m\n\u001b[0m\u001b[1;32m     20\u001b[0m         \u001b[0mx\u001b[0m \u001b[0;34m=\u001b[0m \u001b[0mnp\u001b[0m\u001b[0;34m.\u001b[0m\u001b[0mhstack\u001b[0m\u001b[0;34m(\u001b[0m\u001b[0;34m(\u001b[0m\u001b[0mx\u001b[0m\u001b[0;34m[\u001b[0m\u001b[0;34m:\u001b[0m\u001b[0;34m,\u001b[0m \u001b[0;34m:\u001b[0m\u001b[0;36m5\u001b[0m\u001b[0;34m]\u001b[0m\u001b[0;34m,\u001b[0m \u001b[0mnp\u001b[0m\u001b[0;34m.\u001b[0m\u001b[0mabs\u001b[0m\u001b[0;34m(\u001b[0m\u001b[0mx\u001b[0m\u001b[0;34m[\u001b[0m\u001b[0;34m:\u001b[0m\u001b[0;34m,\u001b[0m \u001b[0;36m5\u001b[0m\u001b[0;34m:\u001b[0m\u001b[0;34m]\u001b[0m\u001b[0;34m)\u001b[0m\u001b[0;34m)\u001b[0m\u001b[0;34m)\u001b[0m \u001b[0;31m## change the last two variables to positive\u001b[0m\u001b[0;34m\u001b[0m\u001b[0;34m\u001b[0m\u001b[0m\n\u001b[1;32m     21\u001b[0m         \u001b[0my\u001b[0m \u001b[0;34m=\u001b[0m \u001b[0mnp\u001b[0m\u001b[0;34m.\u001b[0m\u001b[0mconcatenate\u001b[0m\u001b[0;34m(\u001b[0m\u001b[0;34m[\u001b[0m\u001b[0mnp\u001b[0m\u001b[0;34m.\u001b[0m\u001b[0mzeros\u001b[0m\u001b[0;34m(\u001b[0m\u001b[0mlen\u001b[0m\u001b[0;34m(\u001b[0m\u001b[0mdf_bkg\u001b[0m\u001b[0;34m)\u001b[0m\u001b[0;34m)\u001b[0m\u001b[0;34m,\u001b[0m\u001b[0mnp\u001b[0m\u001b[0;34m.\u001b[0m\u001b[0mones\u001b[0m\u001b[0;34m(\u001b[0m\u001b[0mlen\u001b[0m\u001b[0;34m(\u001b[0m\u001b[0mdf_signal\u001b[0m\u001b[0;34m[\u001b[0m\u001b[0mm\u001b[0m\u001b[0;34m]\u001b[0m\u001b[0;34m[\u001b[0m\u001b[0mct\u001b[0m\u001b[0;34m]\u001b[0m\u001b[0;34m)\u001b[0m\u001b[0;34m)\u001b[0m\u001b[0;34m]\u001b[0m\u001b[0;34m)\u001b[0m\u001b[0;34m\u001b[0m\u001b[0;34m\u001b[0m\u001b[0m\n",
      "\u001b[0;31mAttributeError\u001b[0m: 'numpy.ndarray' object has no attribute 'values'"
     ]
    },
    {
     "data": {
      "image/png": "[encoded data removed]",
      "text/plain": [
       "<Figure size 432x288 with 1 Axes>"
      ]
     },
     "metadata": {
      "needs_background": "light"
     },
     "output_type": "display_data"
    }
   ],
   "source": [
    "import pickle\n",
    "# bdt_name = 'bdt_flatten_metfilter_me1112nohits_eta2p1_testsize0p2_abs_XYspread_v5'\n",
    "# model = pickle.load(open( bdt_name+'.pickle', \"rb\" ))\n",
    "\n",
    "\n",
    "#plot roc curve\n",
    "f = plt.figure()\n",
    "ax = f.add_subplot(111)\n",
    "plt.subplots_adjust(top=0.9, bottom=0.15, left=0.15, right=0.95)\n",
    "\n",
    "lw = 2\n",
    "colors = ['r', 'g', 'b', 'c']\n",
    "linestyle = ['solid', 'dotted', 'dashed']\n",
    "# for i, ct in enumerate([10000]):\n",
    "for i, ct in enumerate(ctau):\n",
    "\n",
    "\n",
    "    for j, m in enumerate(mass):\n",
    "        x = np.concatenate([df_bkg.values,df_signal[m][ct].values])\n",
    "        x = np.hstack((x[:, :5], np.abs(x[:, 5:]))) ## change the last two variables to positive\n",
    "        y = np.concatenate([np.zeros(len(df_bkg)),np.ones(len(df_signal[m][ct]))])\n",
    "        y_pred = model.predict_proba(x)[:, 1]\n",
    "\n",
    "        fpr, tpr, thr = roc_curve(y, y_pred)\n",
    "        plt.plot(fpr, tpr, color=colors[i],linestyle = linestyle[j], lw=2, label='ggH, $m_{x} =$ '+str(m)+' GeV, c$\\\\tau$ = ' +str(int(ct))+' mm')\n",
    "#         print('{0} \\t {1} \\t {2}'.format(ct, m, tpr[np.argmin(np.abs(fpr-0.01))]))\n",
    "        print('{0}'.format( tpr[np.argmin(np.abs(fpr-0.01))]))\n",
    "\n",
    "plt.plot([0, 1], [0, 1], color='navy', lw=lw, linestyle='--')\n",
    "plt.xlim([10E-4, 1.0])\n",
    "plt.ylim([0.0, 1.05])\n",
    "plt.ylabel('Signal Efficiency',horizontalalignment='right', y=1.0, fontsize=15)\n",
    "plt.xlabel('Background Efficiency',horizontalalignment='right', x=1.0, fontsize=15)\n",
    "plt.xticks(fontsize=13)\n",
    "plt.yticks(fontsize=13)\n",
    "plt.xscale('log')\n",
    "plt.axhline(y=0.9, color=\"black\", linestyle='--')\n",
    "plt.axhline(y=0.8, color=\"black\")\n",
    "# plt.text(0.05,0.1,'WP99: bkg eff = %.4f'%WP99_effBkg, fontsize=12)\n",
    "# plt.text(0.05,0.2,'WP90: bkg eff = %.4f'%WP90_effBkg, fontsize=12)\n",
    "# #plt.text(0.5,0.3,'WP90: S/sqrt(B) = %.2f'%WP90_significance, fontsize=12)\n",
    "# plt.text(0.05,0.3,'AUC = %.4f'%AUC, fontsize=12)\n",
    "# plt.title('Receiver operating characteristic example')\n",
    "plt.legend(loc=\"center right\", bbox_to_anchor=(1.2, 0.25, 0.5, 0.5))\n",
    "plt.text(0.0, 1.02, 'CMS', ha='left', va='bottom', transform=ax.transAxes, weight='bold', fontsize=17)\n",
    "plt.text(0.13, 1.02, 'Simulation Preliminary', ha='left', va='bottom', transform=ax.transAxes, style='italic', fontsize=16)\n",
    "plt.text(0.99, 1.02, '13 TeV', ha='right', va='bottom', transform=ax.transAxes, fontsize=16)\n",
    "\n",
    "plt.savefig(\"../../plots/MuonSystem_Analysis/\"+bdt_name+\"/ROC_curve_allSig.png\", dpi=300,bbox_inches='tight')\n",
    "\n",
    "plt.show()\n",
    "\n",
    "\n"
   ]
  },
  {
   "cell_type": "code",
   "execution_count": 52,
   "metadata": {},
   "outputs": [
    {
     "data": {
      "text/plain": [
       "0.03223593964334705"
      ]
     },
     "execution_count": 52,
     "metadata": {},
     "output_type": "execute_result"
    }
   ],
   "source": [
    "94./2916"
   ]
  },
  {
   "cell_type": "markdown",
   "metadata": {},
   "source": [
    "# bdt efficiency"
   ]
  },
  {
   "cell_type": "code",
   "execution_count": 14,
   "metadata": {},
   "outputs": [
    {
     "name": "stdout",
     "output_type": "stream",
     "text": [
      "235961 3010\n",
      "601 601\n",
      "0.18136439267886856\n",
      "50 0.18136439267886856 0.3142857142857143 0.07846932140863945 0.17314487632508835 0.01590418129163984\n",
      "60 0.18136439267886856 0.18556701030927836 0.022789330640569604 0.1774193548387097 0.021697459890527522\n",
      "70 0.18136439267886856 0.17590361445783131 0.018689700332065635 0.1935483870967742 0.028968597101092727\n",
      "80 0.18136439267886856 0.18181818181818182 0.017531573087269773 0.1794871794871795 0.03547859977181339\n",
      "90 0.18136439267886856 0.1786407766990291 0.016879254205180407 0.19767441860465115 0.042943884806284104\n",
      "100 0.18136439267886856 0.18552875695732837 0.016743610488968688 0.14516129032258066 0.04473749421841784\n",
      "110 0.18136439267886856 0.18363636363636363 0.01650972438439495 0.1568627450980392 0.050924169749476195\n",
      "120 0.18136439267886856 0.18425760286225404 0.016397714545239937 0.14285714285714285 0.05399492471560389\n",
      "130 0.18136439267886856 0.18309859154929578 0.016227557488596493 0.15151515151515152 0.062415594005386335\n",
      "140 0.18136439267886856 0.18229166666666666 0.01608686354448502 0.16 0.07332121111929343\n",
      "150 0.18136439267886856 0.18134715025906736 0.016012751899840395 0.18181818181818182 0.08223036670302644\n",
      "160 0.18136439267886856 0.1810344827586207 0.015988196012777643 0.19047619047619047 0.08568908674689879\n",
      "170 0.18136439267886856 0.18041237113402062 0.015939304306642782 0.21052631578947367 0.09352877017248827\n",
      "180 0.18136439267886856 0.1836734693877551 0.01596858768236636 0.07692307692307693 0.07390530175619406\n",
      "190 0.18136439267886856 0.1836734693877551 0.01596858768236636 0.07692307692307693 0.07390530175619406\n",
      "200 0.18136439267886856 0.1847457627118644 0.015977461130906256 0.0 0.0\n",
      "210 0.18136439267886856 0.1844331641285956 0.01595348420792263 0.0 0.0\n",
      "220 0.18136439267886856 0.18412162162162163 0.015929577393458978 0.0 0.0\n",
      "230 0.18136439267886856 0.18412162162162163 0.015929577393458978 0.0 0.0\n",
      "240 0.18136439267886856 0.18412162162162163 0.015929577393458978 0.0 0.0\n",
      "250 0.18136439267886856 0.18381112984822934 0.0159057403911227 0.0 0.0\n",
      "260 0.18136439267886856 0.1835016835016835 0.015881972906100814 0.0 0.0\n",
      "270 0.18136439267886856 0.18288590604026847 0.015834645316589152 0.0 0.0\n",
      "280 0.18136439267886856 0.18288590604026847 0.015834645316589152 0.0 0.0\n",
      "290 0.18136439267886856 0.18288590604026847 0.015834645316589152 0.0 0.0\n"
     ]
    }
   ],
   "source": [
    "import scipy\n",
    "import os\n",
    "\n",
    "# print(np.array(y_pred[y_test == 0]))\n",
    "# print(np.array(cscRechitClusterSize[indices_test][y_test == 0]).flatten())\n",
    "# print(scipy.stats.pearsonr(bdt_score[k], cscClusterSize[k]))\n",
    "# print(scipy.stats.pearsonr(bdt_score[k], jetMet_dPhiMin30[k]))\n",
    "\n",
    "# wp90 =  0.9598022\n",
    "# wp90 =  0.7802247\n",
    "wp90 = WP90_threshold\n",
    "# bdt_name = 'bdt_flatten_metfilter_me1112nohits_eta2p1_testsize0p2_abs_EtaPhi_v5'\n",
    "outDir = '/storage/user/christiw/login-1/christiw/LLP/CMSSW_10_2_13/src/HiggsAnalysis/MuonSystemLimit/data/bdt_eff/'\n",
    "if not os.path.isdir(outDir): print(\"OUTPUT DIR DOESN'T EXIST\")\n",
    "text_file = open(outDir+bdt_name+\".txt\", \"w\")\n",
    "# text_file.write('#n_rechit, eff_total, eff_low, sigma, eff_high, sigma \\n')\n",
    "\n",
    "y_frame = pd.DataFrame({'truth':y_test, 'disc':y_pred})\n",
    "y_frame_train = pd.DataFrame({'truth':y_train, 'disc':y_pred_train})\n",
    "\n",
    "disc_bkg    = y_frame[y_frame['truth'] == 0]['disc'].values\n",
    "\n",
    "print(len(indices_test), len(df_bkg_ncsc))\n",
    "ncsc = nRechits[indices_test][y_test==0]\n",
    "print(len(ncsc), len(disc_bkg))\n",
    "print(np.count_nonzero(disc_bkg>wp90)/len(disc_bkg))\n",
    "for n_rechit in np.arange(50,300,10):\n",
    "    cond1 = ncsc > n_rechit\n",
    "    cond1 = cond1[:,0]\n",
    "    cond2 =  disc_bkg > wp90\n",
    "    cond_gt = np.logical_and(cond1, cond2)\n",
    "    cond_lt = np.logical_and(np.logical_not(cond1), cond2)\n",
    "#     print(cond1.shape, cond2.shape)\n",
    "#     print(np.count_nonzero(cond1), np.count_nonzero(cond2), np.count_nonzero(cond_gt), np.count_nonzero(cond_lt))\n",
    "    eff_low = np.count_nonzero(cond_lt)/np.count_nonzero(np.logical_not(cond1))\n",
    "    eff_high = np.count_nonzero(cond_gt)/np.count_nonzero(cond1)\n",
    "    eff_total = np.count_nonzero(cond2)/len(cond2)\n",
    "    sig_eff_low = (eff_low*(1-eff_low)/np.count_nonzero(np.logical_not(cond1)))**0.5\n",
    "    sig_eff_high = (eff_high*(1-eff_high)/np.count_nonzero(cond1))**0.5\n",
    "    assert(np.count_nonzero(cond_lt)+np.count_nonzero(cond_gt) == np.count_nonzero(cond2))\n",
    "    print(n_rechit, eff_total,eff_low ,sig_eff_low , eff_high, sig_eff_high)\n",
    "    text_file.write('{0}, {1}, {2}, {3}, {4} \\n'.format(n_rechit, eff_low ,sig_eff_low , eff_high, sig_eff_high))\n",
    "\n",
    "    \n",
    "\n",
    "# for dphi in [0.0, 0.6, 1, 1.5, 2, 2.5]:\n",
    "#     cond1 = jetMet_dPhiMin30[k] >= dphi\n",
    "#     cond2 = bdt_score[k] > wp90\n",
    "#     cond_gt = np.logical_and(cond1, cond2)\n",
    "#     cond_lt = np.logical_and(np.logical_not(cond1), cond2)\n",
    "#     print(dphi, np.count_nonzero(cond_gt)/np.count_nonzero(cond1))\n",
    "\n",
    "    \n",
    "text_file.close()\n",
    "\n",
    "    "
   ]
  },
  {
   "cell_type": "code",
   "execution_count": 104,
   "metadata": {},
   "outputs": [
    {
     "name": "stdout",
     "output_type": "stream",
     "text": [
      "[0.0, 1.0, 2.0, 3.0]\n",
      "[1.0, 1.5, 2.0]\n"
     ]
    },
    {
     "name": "stderr",
     "output_type": "stream",
     "text": [
      "/usr/local/lib/python3.6/site-packages/ipykernel_launcher.py:44: UserWarning: You have mixed positional and keyword arguments, some input may be discarded.\n"
     ]
    },
    {
     "data": {
      "image/png": "[encoded data removed]",
      "text/plain": [
       "<Figure size 576x360 with 9 Axes>"
      ]
     },
     "metadata": {
      "needs_background": "light"
     },
     "output_type": "display_data"
    }
   ],
   "source": [
    "sig_flag = 0\n",
    "lab = ['Background', 'Signal']\n",
    "x_sig = x[y==sig_flag]\n",
    "y_pred_sig = model.predict_proba(x_sig)[:, 1]\n",
    "\n",
    "\n",
    "def trim_axs(axs, N):\n",
    "    \"\"\"little helper to massage the axs list to have correct length...\"\"\"\n",
    "    axs = axs.flat\n",
    "    for ax in axs[N:]:\n",
    "        ax.remove()\n",
    "    return axs[:N]\n",
    "columns = 3\n",
    "fig1, axs = plt.subplots(int(len(variables)/columns)+1, columns, figsize=(8,5), constrained_layout=True)\n",
    "# fig1, axs = plt.subplots(int(len(variables)/columns)+1, columns, figsize=(6,8), constrained_layout=True)\n",
    "\n",
    "\n",
    "# for ax, case in zip(axs, cases):\n",
    "#     ax.set_title('markevery=%s' % str(case))\n",
    "trim_axs(axs, len(variables))\n",
    "\n",
    "r = 0\n",
    "c = 0\n",
    "for i, var in enumerate(variables):\n",
    "    bkg = axs[r,c].hist(x_sig[:,i][y_pred_sig< WP90_threshold], variables[i][3], (variables[i][4], variables[i][5]), density = True, histtype = 'step', label = 'Background', color = 'b')\n",
    "    sig = axs[r,c].hist(x_sig[:,i][y_pred_sig>=WP90_threshold], variables[i][3], (variables[i][4], variables[i][5]), density = True, histtype = 'step', label = 'Signal', color = 'r')\n",
    "    axs[r,c].set_xlabel(variables[i][2])\n",
    "    if i == 5:\n",
    "        print(list(axs[r,c].get_xticks()))\n",
    "#         axs[r,c].set_xticks(list(axs[r,c].get_xticks()) + [1.5])\n",
    "        axs[r,c].set_xticks([1.0, 1.5, 2.0])\n",
    "        print(list(axs[r,c].get_xticks()))\n",
    "\n",
    "    if c == columns-1:\n",
    "        c = 0\n",
    "        r+=1\n",
    "        \n",
    "    else:c+=1\n",
    "#     if i == len(variables)-1:\n",
    "fig1.legend([bkg, sig],     # The line objects\n",
    "           labels=['Low BDT '+lab[sig_flag], 'High BDT '+lab[sig_flag]],   # The labels for each line\n",
    "           loc=\"upper right\",   # Position of legend\n",
    "           borderaxespad=0.1,    # Small spacing around legend box\n",
    "           bbox_to_anchor=(0.6, 0.55, 0.5, 0.5)\n",
    "           )\n",
    "#     h['OOT_data'] = create_TH1D(x[:,i][y==0], axis_title = [variables[i][2],'Events'], binning=[variables[i][3], variables[i][4], variables[i][5]])\n",
    "#     h['MC_signal'] = create_TH1D(x[:,i][y==1], axis_title = [variables[i][2],'Events'], binning=[variables[i][3], variables[i][4], variables[i][5]])\n",
    "# axs.tight_layout()\n",
    "\n",
    "\n",
    "fig1.savefig(\"../../plots/MuonSystem_Analysis/\"+bdt_name+'/high_low_bdt_'+lab[sig_flag]+'.png', dpi=300,bbox_inches='tight')\n",
    "\n",
    "\n"
   ]
  },
  {
   "cell_type": "markdown",
   "metadata": {},
   "source": [
    "# plot feature importances"
   ]
  },
  {
   "cell_type": "code",
   "execution_count": 37,
   "metadata": {},
   "outputs": [
    {
     "data": {
      "image/png": "[encoded data removed]",
      "text/plain": [
       "<Figure size 720x432 with 1 Axes>"
      ]
     },
     "metadata": {
      "needs_background": "light"
     },
     "output_type": "display_data"
    }
   ],
   "source": [
    "#plot feature importances\n",
    "\n",
    "model.get_booster().feature_names = [row[1] for row in variables]\n",
    "\n",
    "ax = xgb.plot_importance(model, max_num_features=len(variables), xlabel=\"F score (weight)\")\n",
    "fig = ax.figure\n",
    "fig.set_size_inches(10, 6)\n",
    "# plt.subplots_adjust(top=0.9, bottom=0.15, left=0.15, right=0.95)\n",
    "# plt.xlabel('BDT response',horizontalalignment='right', x=1.0, fontsize=15)\n",
    "# plt.ylabel('Events',horizontalalignment='right', y=1.0, fontsize=14)\n",
    "ax.title.set_size(17)\n",
    "\n",
    "ax.yaxis.label.set_size(17)\n",
    "ax.xaxis.label.set_size(17)\n",
    "plt.tick_params(axis='both', which='major', labelsize=15)\n",
    "\n",
    "\n",
    "# plt.draw()\n",
    "# os.makedirs(\"../../plots/MuonSystem_Analysis/\"+bdt_name)\n",
    "# plt.savefig(\"../../plots/MuonSystem_Analysis/\"+bdt_name+'/feature_importance.png', dpi=300)\n",
    "# \n",
    "ax.figure.tight_layout()\n",
    "ax.figure.savefig(\"../../plots/MuonSystem_Analysis/\"+bdt_name+'/feature_importance.png', dpi=300)"
   ]
  },
  {
   "cell_type": "markdown",
   "metadata": {},
   "source": [
    "# compare two ROC curves"
   ]
  },
  {
   "cell_type": "code",
   "execution_count": null,
   "metadata": {},
   "outputs": [],
   "source": [
    "\n",
    "import pickle\n",
    "model = pickle.load(open( 'bdt_flatten_metfilter_me1112nohits_eta2p1_testsize0p2_abs_XYspread_v5.pickle', \"rb\" ))\n",
    "model2 = pickle.load(open( 'bdt_flatten_metfilter_me1112nohits_eta2p1_testsize0p2_abs_XYspread_v7.pickle', \"rb\" ))\n",
    "\n",
    "\n",
    "# y_pred = model.predict_proba(x_test)[:, 1]\n",
    "# x_test2 = np.hstack((x_test[:, :3], x_test[:, 4:]))\n",
    "# y_pred2 = model2.predict_proba(x_test2)[:, 1]\n",
    "\n",
    "y_pred = model.predict_proba(x_test)[:, 1]\n",
    "y_pred2 = model2.predict_proba(x_test)[:, 1]\n",
    "\n",
    "\n",
    "fpr, tpr, thr = roc_curve(y_test, y_pred)\n",
    "fpr2, tpr2, thr2 = roc_curve(y_test, y_pred2)\n",
    "\n",
    "#plot roc curve\n",
    "f = plt.figure()\n",
    "ax = f.add_subplot(111)\n",
    "plt.subplots_adjust(top=0.9, bottom=0.15, left=0.15, right=0.95)\n",
    "lw = 2\n",
    "plt.plot(fpr, tpr, color='darkorange',\n",
    "         lw=lw, label='w/o correction')\n",
    "plt.plot(fpr2, tpr2, color='blue',\n",
    "         lw=lw, label='with correction')\n",
    "plt.plot([0, 1], [0, 1], color='navy', lw=lw, linestyle='--')\n",
    "plt.xlim([10E-4, 1.0])\n",
    "plt.ylim([0.0, 1.05])\n",
    "plt.ylabel('Signal Efficiency',horizontalalignment='right', y=1.0, fontsize=15)\n",
    "plt.xlabel('Background Efficiency',horizontalalignment='right', x=1.0, fontsize=15)\n",
    "plt.xticks(fontsize=13)\n",
    "plt.yticks(fontsize=13)\n",
    "plt.xscale('log')\n",
    "plt.axhline(y=0.9, color=\"black\", linestyle='--')\n",
    "plt.axhline(y=0.8, color=\"black\")\n",
    "# plt.text(0.05,0.1,'WP99: bkg eff = %.4f'%WP99_effBkg, fontsize=12)\n",
    "# plt.text(0.05,0.2,'WP90: bkg eff = %.4f'%WP90_effBkg, fontsize=12)\n",
    "#plt.text(0.5,0.3,'WP90: S/sqrt(B) = %.2f'%WP90_significance, fontsize=12)\n",
    "# plt.text(0.05,0.3,'AUC = %.4f'%AUC, fontsize=12)\n",
    "# plt.title('Receiver operating characteristic example')\n",
    "plt.legend(loc=\"center right\")\n",
    "plt.show()"
   ]
  },
  {
   "cell_type": "code",
   "execution_count": null,
   "metadata": {},
   "outputs": [],
   "source": []
  },
  {
   "cell_type": "markdown",
   "metadata": {},
   "source": [
    "# correlation with csc rechit size"
   ]
  },
  {
   "cell_type": "code",
   "execution_count": null,
   "metadata": {},
   "outputs": [],
   "source": [
    "f_heat, ax = plt.subplots(figsize=(8, 8))\n",
    "# ax = sns.kdeplot(np.array(ncsc_signal)[:,0], np.array(disc_signal_old), cmap=\"Reds\", shade=True, shade_lowest=False)\n",
    "print(cscRechitClusterSize[indices_test].shape)\n",
    "print(y_pred.shape)\n",
    "ax = sns.kdeplot(np.array(y_pred), np.array(cscRechitClusterSize[indices_test]),\n",
    "                 cmap=\"Blues\", shade=True, shade_lowest=False)\n",
    "# ax = sns.kdeplot(np.array(ncsc_bkg)[:,0], np.array(disc_bkg_normal),\n",
    "#                  cmap=\"Reds\", shade=False, shade_lowest=False)\n",
    "# ax = plt.scatter(np.array(ncsc_signal)[:,0], np.array(disc_signal_old), alpha=0.5)\n",
    "# ax = sns.kdeplot(np.array(ncsc_signal)[:,0], disc_signal_in,\n",
    "#                  cmap=\"Greens\", shade=True, shade_lowest=False)\n",
    "plt.ylim(-5, 200)\n",
    "plt.xlabel('BDT Discriminator')\n",
    "plt.ylabel('$N_{CSC}$')\n",
    "plt.title('Veto Training: Correlation Plot')\n",
    "\n",
    "# Add labels to the plot0.0011161413\n",
    "red = sns.color_palette(\"Reds\")[-2]\n",
    "blue = sns.color_palette(\"Blues\")[-2]\n",
    "# green = sns.color_palette(\"Greens\")[-2]\n",
    "# ax.text(2.5, 8.2, \"No Vetoes\", size=16, color=blue)\n",
    "# ax.text(3.8, 4.5, \"Trained on Vetoes\", size=16, color=red)\n",
    "# ax.text(2.0, 7, \"Trained on Vetoes: In-time\", size=16, color=green)"
   ]
  },
  {
   "cell_type": "code",
   "execution_count": 14,
   "metadata": {},
   "outputs": [
    {
     "name": "stdout",
     "output_type": "stream",
     "text": [
      "13\n"
     ]
    },
    {
     "name": "stderr",
     "output_type": "stream",
     "text": [
      "Warning in <TCanvas::Constructor>: Deleting canvas with same name: c\n",
      "Warning in <TROOT::Append>: Replacing existing TH1: h (Potential memory leak).\n"
     ]
    },
    {
     "data": {
      "image/png": "[encoded data removed]",
      "text/plain": [
       "<IPython.core.display.Image object>"
      ]
     },
     "metadata": {},
     "output_type": "display_data"
    }
   ],
   "source": [
    "# Plotting ncsc\n",
    "start_t = time.time()\n",
    "c = rt.TCanvas('c','c', 1000, 800)\n",
    "h = {}\n",
    "# leg = rt.TLegend(0.50,0.75,0.97,0.93)\n",
    "leg = rt.TLegend(0.2,0.70,0.5,0.85)\n",
    "leg.SetTextSize(0.022)\n",
    "# leg.SetTextFont(42)\n",
    "leg.SetEntrySeparation(0.01)\n",
    "\n",
    "\n",
    "sig_flag = 0\n",
    "lab = ['Background', 'Signal']\n",
    "x_sig = x[y==sig_flag]\n",
    "y_pred_sig = model.predict_proba(x_sig)[:, 1]\n",
    "\n",
    "# h[k] = create_TH2D(np.column_stack((np.array(y_pred[y_test == 0]), np.array(cscRechitClusterSize[indices_test][y_test == 0]))),\\\n",
    "#                    axis_title = ['BDT score','N_{rechits}','Events'], binning=[50,0,1,50,0,600])\n",
    "\n",
    "# h[k] = h[k].ProfileX()\n",
    "h['bkg'] = create_TH1D(x_sig[:,5][y_pred_sig< WP90_threshold], axis_title = ['eta', 'Events'], binning = [20,0.5,2])\n",
    "h['sig'] = create_TH1D(x_sig[:,5][y_pred_sig>= WP90_threshold], axis_title = ['eta', 'Events'], binning = [20,0.5,2])\n",
    "print(np.count_nonzero(x_sig[:,5]<1))\n",
    "\n",
    "h['bkg'].SetLineColor(std_color_list[0])\n",
    "h['sig'].SetLineColor(std_color_list[1])\n",
    "leg.AddEntry(h['bkg'], 'low BDT '+lab[sig_flag])\n",
    "leg.AddEntry(h['sig'], 'high BDT '+lab[sig_flag])\n",
    "\n",
    "#     h[k].SetMaximum(10E5)\n",
    "#     h[k].SetMinimum(1)\n",
    "h['bkg'].DrawNormalized()\n",
    "h['sig'].DrawNormalized('same')\n",
    "c.SetRightMargin(0.2)\n",
    "\n",
    "leg.Draw()\n",
    "# if setlog: \n",
    "c.SetLogz()\n",
    "c.Draw()\n",
    "\n",
    "\n"
   ]
  },
  {
   "cell_type": "code",
   "execution_count": null,
   "metadata": {},
   "outputs": [],
   "source": [
    "np.arange(50,300,10)"
   ]
  },
  {
   "cell_type": "code",
   "execution_count": null,
   "metadata": {},
   "outputs": [],
   "source": [
    "import scipy\n",
    "# print(np.array(y_pred[y_test == 0]))\n",
    "# print(np.array(cscRechitClusterSize[indices_test][y_test == 0]).flatten())\n",
    "print(scipy.stats.pearsonr(np.array(y_pred[y_test == 0]), np.array(cscRechitClusterSize[indices_test][y_test == 0]).flatten()))\n",
    "\n",
    "# wp90 =  0.9598022\n",
    "wp90 =  0.7802\n",
    "# WP90_effBkg: 0.06531049250535331\n",
    "for n_rechit in np.arange(50,300,10):\n",
    "    cond1 = cscRechitClusterSize[indices_test][y_test == 0]> n_rechit\n",
    "    cond2 = y_pred[y_test == 0] > wp90\n",
    "    cond = np.logical_and(cond1[:,0], cond2)\n",
    "#     print(np.count_nonzero(cond1))\n",
    "#     print(\"n_rechits\", str(n_rechit), np.count_nonzero(cond)/np.count_nonzero(cond1))\n",
    "#     print( str(n_rechit), np.count_nonzero(cond1), np.count_nonzero(cond)/np.count_nonzero(cond1))\n",
    "    print( str(n_rechit), np.count_nonzero(cond)/np.count_nonzero(cond1))\n",
    "\n",
    "    cond1 = cscRechitClusterSize[indices_test][y_test == 0] < n_rechit\n",
    "    cond2 = y_pred[y_test == 0] > wp90\n",
    "    cond = np.logical_and(cond1[:,0], cond2)\n",
    "    print(\"n_rechits\", str(n_rechit), np.count_nonzero(cond)/np.count_nonzero(cond1[:,0]))\n"
   ]
  },
  {
   "cell_type": "markdown",
   "metadata": {},
   "source": [
    "# Correlation with delta phi"
   ]
  },
  {
   "cell_type": "code",
   "execution_count": null,
   "metadata": {},
   "outputs": [],
   "source": [
    "import math\n",
    "def deltaPhi( phi1,  phi2):\n",
    "    dphi = phi1-phi2\n",
    "    while (dphi > math.pi):\n",
    "        dphi -= 2*math.pi\n",
    "    while (dphi <= -math.pi):\n",
    "        dphi += 2*math.pi\n",
    "    return dphi\n",
    "def deltaR(eta1, phi1, eta2, phi2):\n",
    "    dphi = deltaPhi(phi1,phi2)\n",
    "    deta = eta1 - eta2\n",
    "    return (dphi*dphi + deta*deta)**0.5"
   ]
  },
  {
   "cell_type": "code",
   "execution_count": null,
   "metadata": {},
   "outputs": [],
   "source": [
    "%%time\n",
    "\n",
    "gLLP_beta = {}\n",
    "jetPt = {}\n",
    "jetPhi = {}\n",
    "metPhi = {}\n",
    "\n",
    "jetMet_dPhi = {}\n",
    "jetMet_dPhiMin = {}\n",
    "jetMet_dPhiMin4 = {}\n",
    "jetMet_dPhiMin4_50 = {}\n",
    "\n",
    "cscClusterSize = {}\n",
    "cscRechitClusterXSpread = {}\n",
    "cscRechitClusterYSpread = {}\n",
    "cscRechitClusterNStation = {}\n",
    "cscRechitClusterEtaPhiSpread = {}\n",
    "cscRechitClusterPhiSpread = {}\n",
    "cscRechitClusterEtaSpread = {}\n",
    "cscRechitClusterX = {}\n",
    "cscRechitClusterY = {}\n",
    "cscRechitClusterZ = {}\n",
    "cscRechitClusterPhi = {}\n",
    "cscClusterJetVetoPt = {}\n",
    "cscRechitClusterEta = {}\n",
    "\n",
    "cscRechitClusterMaxStationRatio = {}\n",
    "cscRechitClusterNStation = {}\n",
    "cscRechitClusterNChamber = {}\n",
    "cscRechitClusterMet_dPhi = {}\n",
    "jetMet_dPhiMin30 = {}\n",
    "dphiMet_cluster = {}\n",
    "bdt_score = {}\n",
    "# make predictions for test data\n",
    "\n",
    "import pickle\n",
    "model = pickle.load(open( 'bdt_flatten_metfilter_me1112nohits_eta2p1_testsize0p2_abs_EtaPhi_v2.pickle', \"rb\" ))\n",
    "y_pred = model.predict_proba([1,2,3,4,4,5,6])[:, 1]\n",
    "\n",
    "k = 'data'\n",
    "\n",
    "T = tree_bkg['data']\n",
    " \n",
    "##### bdt variables ####\n",
    "sel_ev = T.array('nCscRechitClusters') > 0\n",
    "cscRechitClusterPhi[k] = T.array('cscRechitClusterPhi')[sel_ev][:,0].flatten()\n",
    "cscRechitClusterXSpread[k] = T.array('cscRechitClusterXSpread')[sel_ev][:,0].flatten()\n",
    "cscRechitClusterYSpread[k] = T.array('cscRechitClusterYSpread')[sel_ev][:,0].flatten()\n",
    "cscRechitClusterEtaSpread[k] = T.array('cscRechitClusterEtaSpread')[sel_ev][:,0].flatten()\n",
    "cscRechitClusterPhiSpread[k] = T.array('cscRechitClusterPhiSpread')[sel_ev][:,0].flatten()\n",
    "cscRechitClusterNStation[k] = T.array('cscRechitClusterNStation')[sel_ev][:,0].flatten()\n",
    "cscRechitClusterEtaPhiSpread[k] = T.array('cscRechitClusterEtaPhiSpread')[sel_ev][:,0].flatten()\n",
    "cscRechitClusterX[k] = T.array('cscRechitClusterX')[sel_ev][:,0].flatten()\n",
    "cscRechitClusterY[k] = T.array('cscRechitClusterY')[sel_ev][:,0].flatten()\n",
    "cscRechitClusterZ[k] = T.array('cscRechitClusterZ')[sel_ev][:,0].flatten()\n",
    "cscRechitClusterEta[k] = T.array('cscRechitClusterEta')[sel_ev][:,0].flatten()\n",
    "cscRechitClusterPhi[k] = T.array('cscRechitClusterPhi')[sel_ev][:,0].flatten()\n",
    "\n",
    "# if bdt_name == 'bdt_flatten_metfilter_me1112nohits_eta2p1_testsize0p2_abs':\n",
    "\n",
    "#     bdt_var = {'cscRechitClusterXSpread': cscRechitClusterXSpread[k],\n",
    "#      'cscRechitClusterYSpread': cscRechitClusterYSpread[k],\n",
    "#      'cscRechitClusterNStation':cscRechitClusterNStation[k],\n",
    "#      'cscRechitClusterEtaPhiSpread':cscRechitClusterEtaPhiSpread[k],\n",
    "#      'cscRechitClusterX':cscRechitClusterX[k],\n",
    "#      'cscRechitClusterY':cscRechitClusterY[k],\n",
    "#      'cscRechitClusterZ':cscRechitClusterZ[k],\n",
    "#     }\n",
    "# elif bdt_name == 'bdt_flatten_metfilter_me1112nohits_eta2p1_testsize0p2_abs_EtaPhi':\n",
    "   \n",
    "# else:\n",
    "#     print('BDT NAME NOT FOUND')\n",
    "bdt_var = {'cscRechitClusterNStation': cscRechitClusterNStation[k],\n",
    "'cscRechitClusterEtaSpread': cscRechitClusterEtaSpread[k],\n",
    "'cscRechitClusterPhiSpread':cscRechitClusterPhiSpread[k],\n",
    "'cscRechitClusterEtaPhiSpread':cscRechitClusterEtaPhiSpread[k],\n",
    "'cscRechitClusterPhi':cscRechitClusterPhi[k],\n",
    "'cscRechitClusterEta':np.abs(cscRechitClusterEta[k]),\n",
    "'cscRechitClusterZ':np.abs(cscRechitClusterZ[k]),\n",
    "}\n",
    "\n",
    "dataset = pd.DataFrame(bdt_var)\n",
    "bdt_score[k] = model.predict_proba(dataset.values)[:, 1]\n",
    "\n",
    "# dphiMet_cluster[k] = np.abs(T.array('cscRechitClusterMet_dPhi'))[sel_ev][:,0].flatten()[bdt_sel]\n",
    "metPhi[k] = T.array('metPhi')[sel_ev]\n",
    "jetPhi[k] = T.array('jetPhi')[sel_ev]\n",
    "jetPt[k] = T.array('jetPt')[sel_ev]\n",
    "# jetMet_dPhiMin30[k] = []\n",
    "# for ev in range(len(jetPhi[k])):\n",
    "#     dphi_min_temp = 999\n",
    "#     for i in range(len(jetPhi[k][ev])):\n",
    "#         if jetPt[k][ev][i] < 30: continue\n",
    "#         dphi_temp = abs(deltaPhi(metPhi[k][ev],jetPhi[k][ev][i]))\n",
    "#         if dphi_min_temp > dphi_temp: dphi_min_temp = dphi_temp\n",
    "#     jetMet_dPhiMin30[k].append(dphi_min_temp)\n",
    "# jetMet_dPhiMin30[k] = np.array(jetMet_dPhiMin30[k])\n",
    "\n",
    "\n",
    "cscClusterSize[k] =  T.array('cscRechitClusterSize')[sel_ev][:,0].flatten()\n",
    "print(len(cscClusterSize[k]), len(bdt_score[k]))"
   ]
  },
  {
   "cell_type": "code",
   "execution_count": null,
   "metadata": {},
   "outputs": [],
   "source": [
    "# Plotting ncsc\n",
    "start_t = time.time()\n",
    "c = rt.TCanvas('c','c', 1000, 800)\n",
    "h = {}\n",
    "# leg = rt.TLegend(0.50,0.75,0.97,0.93)\n",
    "leg = rt.TLegend(0.58,0.70,0.94,0.85)\n",
    "leg.SetTextSize(0.022)\n",
    "# leg.SetTextFont(42)\n",
    "leg.SetEntrySeparation(0.01)\n",
    "print(bdt_score[k])\n",
    "# print(cscClusterSize[k].flatten())\n",
    "# h[k] = create_TH2D(np.column_stack((bdt_score[k], cscClusterSize[k])), axis_title = ['BDT score','N_{rechits}','Events'], binning=[50,0,1,50,0,600])\n",
    "h[k] = create_TH2D(np.column_stack((bdt_score[k], jetMet_dPhiMin30[k])), axis_title = ['BDT score','#Delta#phi(jet, met)','Events'], binning=[50,0,1,50,0,3.2])\n",
    "\n",
    "# h[k] = h[k].ProfileX()\n",
    "h[k].GetXaxis().SetLabelSize(0.04)\n",
    "\n",
    "h[k].SetLineColor(std_color_list[0])\n",
    "h[k].Draw('colz')\n",
    "c.SetRightMargin(0.2)\n",
    "\n",
    "\n",
    "# if setlog: \n",
    "c.SetLogz()\n",
    "c.Draw()\n",
    "print(time.time()-start_t)\n"
   ]
  },
  {
   "cell_type": "code",
   "execution_count": null,
   "metadata": {},
   "outputs": [],
   "source": [
    "import scipy\n",
    "# print(np.array(y_pred[y_test == 0]))\n",
    "# print(np.array(cscRechitClusterSize[indices_test][y_test == 0]).flatten())\n",
    "k = 'data'\n",
    "print(scipy.stats.pearsonr(bdt_score[k], cscClusterSize[k]))\n",
    "# print(scipy.stats.pearsonr(bdt_score[k], jetMet_dPhiMin30[k]))\n",
    "\n",
    "# wp90 =  0.9598022\n",
    "wp90 =  0.7802247\n",
    "outDir = '/storage/user/christiw/login-1/christiw/LLP/CMSSW_10_2_13/src/HiggsAnalysis/MuonSystemLimit/data/bdt_eff/'\n",
    "fileName = 'bdt_flatten_metfilter_me1112nohits_eta2p1_testsize0p2_abs_EtaPhi_v2'\n",
    "text_file = open(outDir+fileName+\".txt\", \"w\")\n",
    "print(np.count_nonzero(bdt_score[k]>wp90)/len(bdt_score[k]))\n",
    "for n_rechit in np.arange(50,300,10):\n",
    "    cond1 = cscClusterSize[k]> n_rechit\n",
    "    cond2 =  bdt_score[k] > wp90\n",
    "    cond_gt = np.logical_and(cond1, cond2)\n",
    "    cond_lt = np.logical_and(np.logical_not(cond1), cond2)\n",
    "    print(n_rechit, np.count_nonzero(cond_lt)/np.count_nonzero(np.logical_not(cond1)), np.count_nonzero(cond_gt)/np.count_nonzero(cond1))\n",
    "    \n",
    "    text_file.write('{0}, {1}, {2} \\n'.format(n_rechit,  np.count_nonzero(cond_lt)/np.count_nonzero(np.logical_not(cond1)), np.count_nonzero(cond_gt)/np.count_nonzero(cond1)))\n",
    "\n",
    "    \n",
    "\n",
    "# for dphi in [0.0, 0.6, 1, 1.5, 2, 2.5]:\n",
    "#     cond1 = jetMet_dPhiMin30[k] >= dphi\n",
    "#     cond2 = bdt_score[k] > wp90\n",
    "#     cond_gt = np.logical_and(cond1, cond2)\n",
    "#     cond_lt = np.logical_and(np.logical_not(cond1), cond2)\n",
    "# #     print(np.count_nonzero(cond1))\n",
    "# #     print(\"n_rechits\", str(n_rechit), np.count_nonzero(cond)/np.count_nonzero(cond1))\n",
    "# #     print( str(n_rechit), np.count_nonzero(cond1), np.count_nonzero(cond)/np.count_nonzero(cond1))\n",
    "# #     print( str(dphi), np.count_nonzero(cond)/np.count_nonzero(cond1))\n",
    "# #     print(len(cond1), np.count_nonzero(np.logical_not(cond1)), np.count_nonzero(cond1))\n",
    "# #     print(dphi, np.count_nonzero(cond_lt)/np.count_nonzero(np.logical_not(cond1)), np.count_nonzero(cond_gt)/np.count_nonzero(cond1))\n",
    "#     print(dphi, np.count_nonzero(cond_gt)/np.count_nonzero(cond1))\n",
    "\n",
    "# #     cond1 = jetMet_dPhiMin30[k] < dphi\n",
    "# #     cond2 = bdt_score[k] > wp90\n",
    "# #     cond = np.logical_and(cond1[:,0], cond2)\n",
    "# #     print(\"n_rechits\", str(n_rechit), np.count_nonzero(cond)/np.count_nonzero(cond1[:,0]))\n",
    "\n",
    "    \n",
    "text_file.close()\n",
    "\n",
    "    "
   ]
  },
  {
   "cell_type": "code",
   "execution_count": null,
   "metadata": {},
   "outputs": [],
   "source": []
  },
  {
   "cell_type": "code",
   "execution_count": null,
   "metadata": {},
   "outputs": [],
   "source": []
  },
  {
   "cell_type": "markdown",
   "metadata": {
    "heading_collapsed": true
   },
   "source": [
    "# event yield vs. ncsc"
   ]
  },
  {
   "cell_type": "code",
   "execution_count": null,
   "metadata": {},
   "outputs": [],
   "source": []
  },
  {
   "cell_type": "code",
   "execution_count": null,
   "metadata": {
    "hidden": true
   },
   "outputs": [],
   "source": []
  },
  {
   "cell_type": "code",
   "execution_count": null,
   "metadata": {
    "hidden": true
   },
   "outputs": [],
   "source": []
  },
  {
   "cell_type": "markdown",
   "metadata": {},
   "source": [
    "# significance"
   ]
  },
  {
   "cell_type": "code",
   "execution_count": null,
   "metadata": {},
   "outputs": [],
   "source": []
  },
  {
   "cell_type": "code",
   "execution_count": null,
   "metadata": {},
   "outputs": [],
   "source": [
    "\n"
   ]
  },
  {
   "cell_type": "code",
   "execution_count": null,
   "metadata": {
    "hidden": true
   },
   "outputs": [],
   "source": []
  },
  {
   "cell_type": "code",
   "execution_count": null,
   "metadata": {
    "hidden": true
   },
   "outputs": [],
   "source": []
  },
  {
   "cell_type": "code",
   "execution_count": null,
   "metadata": {
    "hidden": true
   },
   "outputs": [],
   "source": []
  },
  {
   "cell_type": "code",
   "execution_count": null,
   "metadata": {},
   "outputs": [],
   "source": []
  },
  {
   "cell_type": "code",
   "execution_count": null,
   "metadata": {
    "hidden": true
   },
   "outputs": [],
   "source": []
  },
  {
   "cell_type": "code",
   "execution_count": null,
   "metadata": {},
   "outputs": [],
   "source": []
  },
  {
   "cell_type": "code",
   "execution_count": null,
   "metadata": {},
   "outputs": [],
   "source": []
  },
  {
   "cell_type": "code",
   "execution_count": null,
   "metadata": {},
   "outputs": [],
   "source": []
  },
  {
   "cell_type": "code",
   "execution_count": null,
   "metadata": {},
   "outputs": [],
   "source": []
  },
  {
   "cell_type": "code",
   "execution_count": null,
   "metadata": {},
   "outputs": [],
   "source": []
  },
  {
   "cell_type": "code",
   "execution_count": null,
   "metadata": {},
   "outputs": [],
   "source": [
    "\n"
   ]
  },
  {
   "cell_type": "code",
   "execution_count": null,
   "metadata": {},
   "outputs": [],
   "source": []
  },
  {
   "cell_type": "code",
   "execution_count": null,
   "metadata": {},
   "outputs": [],
   "source": []
  },
  {
   "cell_type": "code",
   "execution_count": null,
   "metadata": {},
   "outputs": [],
   "source": []
  },
  {
   "cell_type": "code",
   "execution_count": null,
   "metadata": {},
   "outputs": [],
   "source": []
  },
  {
   "cell_type": "code",
   "execution_count": null,
   "metadata": {},
   "outputs": [],
   "source": []
  },
  {
   "cell_type": "code",
   "execution_count": null,
   "metadata": {},
   "outputs": [],
   "source": []
  },
  {
   "cell_type": "code",
   "execution_count": null,
   "metadata": {},
   "outputs": [],
   "source": []
  },
  {
   "cell_type": "code",
   "execution_count": null,
   "metadata": {},
   "outputs": [],
   "source": []
  },
  {
   "cell_type": "code",
   "execution_count": null,
   "metadata": {},
   "outputs": [],
   "source": []
  },
  {
   "cell_type": "code",
   "execution_count": null,
   "metadata": {},
   "outputs": [],
   "source": []
  },
  {
   "cell_type": "code",
   "execution_count": null,
   "metadata": {},
   "outputs": [],
   "source": []
  }
 ],
 "metadata": {
  "kernelspec": {
   "display_name": "Python 2",
   "language": "python",
   "name": "python2"
  },
  "language_info": {
   "codemirror_mode": {
    "name": "ipython",
    "version": 3
   },
   "file_extension": ".py",
   "mimetype": "text/x-python",
   "name": "python",
   "nbconvert_exporter": "python",
   "pygments_lexer": "ipython3",
   "version": "3.6.8"
  }
 },
 "nbformat": 4,
 "nbformat_minor": 4
}
