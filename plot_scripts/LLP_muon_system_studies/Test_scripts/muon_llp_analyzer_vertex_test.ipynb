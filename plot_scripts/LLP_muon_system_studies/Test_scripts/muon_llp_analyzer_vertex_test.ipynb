{
 "cells": [
  {
   "cell_type": "code",
   "execution_count": 1,
   "metadata": {},
   "outputs": [],
   "source": [
    "# Vertexing Test File for AN-19-154 Work\n",
    "\n",
    "# Coders: Nathan Suri, Caltech\n",
    "# Date: September 24, 2019\n",
    "# LPC LLP Group\n",
    "\n",
    "# Description\n",
    "# Study and investigate the impact of vertexing\n",
    "\n",
    "# Action Plan\n",
    "# Understand vertex setup in ntuple\n",
    "# Test viability of inclusion radius for improving signal/bkg discrimination\n",
    "\n",
    "# Notes/Conclusions\n",
    "# @nasurijr: Further reductions in inclusion radius lower the signal efficiency for a fixed rejection power. \n",
    "        # This is most likely on account of the signal clusters being wider than the background."
   ]
  },
  {
   "cell_type": "code",
   "execution_count": 2,
   "metadata": {},
   "outputs": [
    {
     "name": "stdout",
     "output_type": "stream",
     "text": [
      "Username: nasurijr\n"
     ]
    },
    {
     "data": {
      "text/html": [
       "<style>.container { width:85% !important; }</style>"
      ],
      "text/plain": [
       "<IPython.core.display.HTML object>"
      ]
     },
     "metadata": {},
     "output_type": "display_data"
    }
   ],
   "source": [
    "# User specifics\n",
    "# Setups pwd location for data files and imports of special ROOT utilities\n",
    "\n",
    "work_location = input(\"Username: \")\n",
    "if work_location == 'nasurijr':\n",
    "    pwd = '/nfshome/nasurijr/LLP_analysis/delayed_jet_analyzer/'\n",
    "    \n",
    "    # Sets display width\n",
    "    from IPython.core.display import display, HTML\n",
    "    display(HTML(\"<style>.container { width:85% !important; }</style>\"))\n",
    "    \n",
    "# elif work_location == '<Insert Tier2 username here>':\n",
    "#     pwd = '/home/cms/delayed_jet_analyzer/'"
   ]
  },
  {
   "cell_type": "markdown",
   "metadata": {},
   "source": [
    "# Imports"
   ]
  },
  {
   "cell_type": "code",
   "execution_count": 3,
   "metadata": {},
   "outputs": [
    {
     "name": "stdout",
     "output_type": "stream",
     "text": [
      "Welcome to JupyROOT 6.18/02\n"
     ]
    }
   ],
   "source": [
    "# Imports necessary utilities and modules\n",
    "\n",
    "import ROOT as rt\n",
    "import root_numpy as rtnp\n",
    "import numpy as np\n",
    "from matplotlib import pyplot as plt\n",
    "from scipy.spatial.distance import cdist\n",
    "from collections import Counter \n",
    "import datetime\n",
    "import pytz\n",
    "\n",
    "# Graph/histo utilities from ROOT\n",
    "# Contained within the delayed_jet_analyzer repository\n",
    "import sys\n",
    "sys.path.append(pwd+'lib')\n",
    "from histo_utilities import create_TH1D, create_TH2D, create_TGraph, std_color_list\n",
    "\n",
    "# Used for extracting the TTree structure from each datafile\n",
    "import os\n",
    "import uproot\n",
    "\n",
    "# Used for creating user-readable tables\n",
    "from prettytable import PrettyTable\n",
    "\n",
    "# Imports jet clustering algorithm (FastJet)\n",
    "from pyjet import cluster\n",
    "\n",
    "donotdelete = []"
   ]
  },
  {
   "cell_type": "code",
   "execution_count": 5,
   "metadata": {},
   "outputs": [
    {
     "name": "stdout",
     "output_type": "stream",
     "text": [
      "2019-09-24 10:00:28.658233-07:00\n",
      "WJetsToLNu /nfshome/nasurijr/LLP_analysis/delayed_jet_analyzer/data/WJetsToLNu_TuneCUETP8M1_13TeV-amcatnloFXFX-pythia8_1pb_weighted.root\n",
      "2019-09-24 10:00:28.753234-07:00\n",
      "m55ct10m /nfshome/nasurijr/LLP_analysis/delayed_jet_analyzer/data/WH_HToSSTobbbb_WToLNu_MH-125_MS-55_ctauS-10000_TuneCUETP8M1_13TeV-powheg-pythia8_1pb_weighted.root\n"
     ]
    }
   ],
   "source": [
    "# Setups dictionaries for storing data from MC/data ntuples\n",
    "fpath = {}\n",
    "tree = {}\n",
    "NEvents = {}\n",
    "\n",
    "data_path = pwd+'data/'\n",
    "\n",
    "# Background Samples\n",
    "fpath['WJetsToLNu'] = data_path + 'WJetsToLNu_TuneCUETP8M1_13TeV-amcatnloFXFX-pythia8_1pb_weighted.root'\n",
    "\n",
    "# Signal Samples \n",
    "fpath['m55ct10m'] = data_path + 'WH_HToSSTobbbb_WToLNu_MH-125_MS-55_ctauS-10000_TuneCUETP8M1_13TeV-powheg-pythia8_1pb_weighted.root'\n",
    "\n",
    "for k,v in fpath.items():\n",
    "    print(str(datetime.datetime.now(pytz.timezone('US/Pacific'))))\n",
    "    print(k, v)\n",
    "    root_dir = uproot.open(v) \n",
    "    tree[k] = root_dir['MuonSystem']\n",
    "    NEvents[k] = root_dir['NEvents'][1]"
   ]
  },
  {
   "cell_type": "markdown",
   "metadata": {},
   "source": [
    "## Name TTree Objects"
   ]
  },
  {
   "cell_type": "code",
   "execution_count": 7,
   "metadata": {},
   "outputs": [],
   "source": [
    "# Bookkeeping: Defines the TTrees from the read datafiles\n",
    "# Names displayed in README.md table\n",
    "\n",
    "T_m55ct10m = tree['m55ct10m']\n",
    "T_wjets = tree['WJetsToLNu']"
   ]
  },
  {
   "cell_type": "code",
   "execution_count": 11,
   "metadata": {},
   "outputs": [],
   "source": [
    "# Bookkeeping: Creates a dictionary for iterating over all of the datafiles and \n",
    "#              converting the relevant branches to numpy arrays\n",
    "# Names displayed in README.md table\n",
    "\n",
    "# data_trees = {'m55ct10m_wh_bbbb_minus': T_m55_ct10_minus, 'm55ct10m_wh_bbbb_plus': T_m55_ct10_plus, 'WJetsToLNu': T_wjets, 'm15ct10000mm': T_m15_ct10}\n",
    "\n",
    "data_trees = {'m55ct10m': T_m55ct10m, 'WJetsToLNu': T_wjets}"
   ]
  },
  {
   "cell_type": "markdown",
   "metadata": {},
   "source": [
    "# Define and Store Variables"
   ]
  },
  {
   "cell_type": "code",
   "execution_count": 113,
   "metadata": {},
   "outputs": [],
   "source": [
    "# Variable Definitions\n",
    "# Creates dictionaries for variables to be analyzed\n",
    "# The dictionaries will contain the variable arrays for each datafile with a relevant key\n",
    "\n",
    "# General Information\n",
    "eventNum = {}\n",
    "lumiNum = {}\n",
    "weight = {}\n",
    "\n",
    "# Standard CSC vars\n",
    "nCsc = {}\n",
    "csc_z = {}\n",
    "csc_x = {}\n",
    "csc_y = {}\n",
    "csc_eta = {}\n",
    "csc_phi = {}\n",
    "csc_t = {}\n",
    "csc_r = {}\n",
    "nCsc_pop = {}\n",
    "\n",
    "# CSC Vectors\n",
    "csc_dir_x = {}\n",
    "csc_dir_y = {}\n",
    "csc_dir_z = {}\n",
    "\n",
    "# Boolean Vetoes\n",
    "nCsc_jet_veto = {}\n",
    "nCsc_combo_veto = {}\n",
    "\n",
    "# Vertexing\n",
    "csc_vert_r = {}\n",
    "csc_vert_z = {}\n",
    "csc_vert_dis = {}\n",
    "csc_vert_size_1 = {}\n",
    "csc_vert_size_5 = {}\n",
    "csc_vert_size_10 = {}\n",
    "csc_vert_size_15 = {}\n",
    "csc_vert_size_20 = {}\n",
    "csc_vert_size_30 = {}"
   ]
  },
  {
   "cell_type": "code",
   "execution_count": 114,
   "metadata": {},
   "outputs": [
    {
     "name": "stdout",
     "output_type": "stream",
     "text": [
      "Start: 2019-09-24 11:36:25.485127-07:00\n",
      "m55ct10m: 2019-09-24 11:36:25.610384-07:00\n",
      "WJetsToLNu: 2019-09-24 11:36:32.489240-07:00\n"
     ]
    }
   ],
   "source": [
    "print('Start: ' + str(datetime.datetime.now(pytz.timezone('US/Pacific'))))\n",
    "\n",
    "for species, arbor in data_trees.items():\n",
    "    \n",
    "    # General Information\n",
    "    eventNum[species] = arbor['evtNum'].array()\n",
    "    lumiNum[species] = arbor['lumiSec'].array()\n",
    "    weight[species] = arbor['weight'].array()\n",
    "    \n",
    "    # Standard CSC vars\n",
    "    nCsc[species] = arbor['nCsc'].array()\n",
    "    nCsc_pop[species] = arbor['cscClusterSize'].array()\n",
    "    csc_z[species] = arbor['cscZ'].array()\n",
    "    csc_x[species] = arbor['cscX'].array()\n",
    "    csc_y[species] = arbor['cscY'].array()\n",
    "    csc_t[species] = arbor['cscT'].array()\n",
    "    csc_eta[species] = arbor['cscEta'].array()\n",
    "    csc_phi[species] = arbor['cscPhi'].array()\n",
    "        \n",
    "    # CSC Vectors\n",
    "    csc_dir_x[species] = arbor['cscDirectionX'].array()\n",
    "    csc_dir_y[species] = arbor['cscDirectionY'].array()\n",
    "    csc_dir_z[species] = arbor['cscDirectionZ'].array()\n",
    "    \n",
    "    # Boolean Vetoes\n",
    "    nCsc_jet_veto[species] = arbor['nCsc_JetVetoCluster0p4_Me1112Veto'].array()\n",
    "    nCsc_combo_veto[species] = arbor['nCsc_JetMuonVetoCluster0p4_Me1112Veto'].array()\n",
    "    \n",
    "    # Vertexing\n",
    "    csc_vert_r[species] = arbor['cscClusterVertexR'].array()\n",
    "    csc_vert_z[species] = arbor['cscClusterVertexZ'].array()\n",
    "    csc_vert_dis[species] = arbor['cscClusterVertexDis'].array()\n",
    "    csc_vert_size_1[species] = arbor['cscClusterVertexN1'].array()\n",
    "    csc_vert_size_5[species] = arbor['cscClusterVertexN5'].array()\n",
    "    csc_vert_size_10[species] = arbor['cscClusterVertexN10'].array()\n",
    "    csc_vert_size_15[species] = arbor['cscClusterVertexN15'].array()\n",
    "    csc_vert_size_20[species] = arbor['cscClusterVertexN20'].array()\n",
    "    csc_vert_size_30[species] = arbor['cscClusterVertexN'].array()\n",
    "    \n",
    "    print(species + ': ' +str(datetime.datetime.now(pytz.timezone('US/Pacific'))))"
   ]
  },
  {
   "cell_type": "markdown",
   "metadata": {},
   "source": [
    "# Vertexing Study"
   ]
  },
  {
   "cell_type": "markdown",
   "metadata": {},
   "source": [
    "## N<sub>CSC</sub> following $\\Delta R = 0.4$ Jet/Muon, ME 1/1, 1/2 Removal Vetoes"
   ]
  },
  {
   "cell_type": "code",
   "execution_count": 331,
   "metadata": {},
   "outputs": [
    {
     "name": "stderr",
     "output_type": "stream",
     "text": [
      "Warning in <TCanvas::Constructor>: Deleting canvas with same name: c\n"
     ]
    },
    {
     "data": {
      "image/png": "[encoded data removed]",
      "text/plain": [
       "<IPython.core.display.Image object>"
      ]
     },
     "metadata": {},
     "output_type": "display_data"
    }
   ],
   "source": [
    "c = rt.TCanvas('c','c', 800, 600)\n",
    "h = {}\n",
    "\n",
    "h['m55ct10m_wh_bbbb'] = create_TH1D(nCsc_combo_veto['m55ct10m'], axis_title=['m55ct10m_wh_bbbb', 'Events'], name='m55ct10m_wh_bbbb', binning=[150,0,500], weights=weight['m55ct10m']*137000)\n",
    "h['m55ct10m_wh_bbbb'].SetLineColor(4)\n",
    "\n",
    "h['nCsc_wjets'] = create_TH1D(nCsc_combo_veto['WJetsToLNu'], axis_title=['nCsc_wjets', 'Events'], name='nCsc_wjets', binning=[150,0,500], weights=weight['WJetsToLNu']*137000)\n",
    "h['nCsc_wjets'].SetLineColor(2)\n",
    "\n",
    "\n",
    "c.SetLogy()\n",
    "\n",
    "h['m55ct10m_wh_bbbb'].SetLineWidth(2)\n",
    "\n",
    "h['nCsc_wjets'].SetLineWidth(2)\n",
    "\n",
    "\n",
    "h['nCsc_wjets'].GetYaxis().SetRangeUser(1,10**8)\n",
    "\n",
    "h['nCsc_wjets'].GetXaxis().SetRangeUser(0,400)\n",
    "\n",
    "\n",
    "h['nCsc_wjets'].SetStats(0)\n",
    "h['nCsc_wjets'].SetTitle(\"Jet/Muon $\\Delta R = 0.4$, ME 11/12 Veto\")\n",
    "h['nCsc_wjets'].SetXTitle(\"\")\n",
    "\n",
    "\n",
    "h['nCsc_wjets'].Draw('histo')\n",
    "h['m55ct10m_wh_bbbb'].Draw('histo+same')\n",
    "\n",
    "\n",
    "legend = rt.TLegend(0.48,0.70,0.87,0.87);\n",
    "legend.SetTextSize(0.04);\n",
    "legend.SetBorderSize(0);\n",
    "legend.AddEntry( h['m55ct10m_wh_bbbb'], \"mX=55 GeV, c#tau=10m (MC)\" , \"L\");\n",
    "legend.AddEntry( h['nCsc_wjets'], \"WJetsToLNu (MC)\" , \"L\");\n",
    "legend.Draw();\n",
    "\n",
    "c.Draw()"
   ]
  },
  {
   "cell_type": "markdown",
   "metadata": {},
   "source": [
    "## Size of Vertex Groups"
   ]
  },
  {
   "cell_type": "code",
   "execution_count": 323,
   "metadata": {},
   "outputs": [],
   "source": [
    "# Takes the inclusion radius and returns a new WH weight array for WH samples that is the length of the flattened vertex array\n",
    "\n",
    "def wh_weight(inc_rad):\n",
    "    wh_weight_arr = np.array([])\n",
    "    evt_counter = 0\n",
    "    if inc_rad == 1:\n",
    "        for vert in csc_vert_size_1['m55ct10m']:\n",
    "            wh_weight_arr = np.append(wh_weight_arr, np.full(len(vert), weight['m55ct10m'][evt_counter]))\n",
    "            evt_counter += 1\n",
    "    elif inc_rad == 5:\n",
    "        for vert in csc_vert_size_5['m55ct10m']:\n",
    "            wh_weight_arr = np.append(wh_weight_arr, np.full(len(vert), weight['m55ct10m'][evt_counter]))\n",
    "            evt_counter += 1\n",
    "    elif inc_rad == 10:\n",
    "        for vert in csc_vert_size_10['m55ct10m']:\n",
    "            wh_weight_arr = np.append(wh_weight_arr, np.full(len(vert), weight['m55ct10m'][evt_counter]))\n",
    "            evt_counter += 1\n",
    "    elif inc_rad == 15:\n",
    "        for vert in csc_vert_size_15['m55ct10m']:\n",
    "            wh_weight_arr = np.append(wh_weight_arr, np.full(len(vert), weight['m55ct10m'][evt_counter]))\n",
    "            evt_counter += 1\n",
    "    elif inc_rad == 20:\n",
    "        for vert in csc_vert_size_20['m55ct10m']:\n",
    "            wh_weight_arr = np.append(wh_weight_arr, np.full(len(vert), weight['m55ct10m'][evt_counter]))\n",
    "            evt_counter += 1\n",
    "    elif inc_rad == 30:\n",
    "        for vert in csc_vert_size_30['m55ct10m']:\n",
    "            wh_weight_arr = np.append(wh_weight_arr, np.full(len(vert), weight['m55ct10m'][evt_counter]))\n",
    "            evt_counter += 1\n",
    "    return wh_weight_arr"
   ]
  },
  {
   "cell_type": "code",
   "execution_count": 324,
   "metadata": {},
   "outputs": [],
   "source": [
    "# Creates WH and WJetsToLNu weight arrays normalized to 137 fb^-1 integrated luminosity\n",
    "\n",
    "weights_vertex_1 = {}\n",
    "weights_vertex_5 = {}\n",
    "weights_vertex_10 = {}\n",
    "weights_vertex_15 = {}\n",
    "weights_vertex_20 = {}\n",
    "weights_vertex_30 = {}\n",
    "\n",
    "for doru in data_trees.keys():\n",
    "    if doru == 'm55ct10m':\n",
    "        weights_vertex_1[doru] = wh_weight(1)*137000\n",
    "        weights_vertex_5[doru] = wh_weight(5)*137000\n",
    "        weights_vertex_10[doru] = wh_weight(10)*137000\n",
    "        weights_vertex_15[doru] = wh_weight(15)*137000\n",
    "        weights_vertex_20[doru] = wh_weight(20)*137000\n",
    "        weights_vertex_30[doru] = wh_weight(30)*137000\n",
    "    else:\n",
    "        weights_vertex_1[doru] = np.full(len(csc_vert_size_1[doru].flatten()), weight[doru][0]*137000)\n",
    "        weights_vertex_5[doru] = np.full(len(csc_vert_size_5[doru].flatten()), weight[doru][0]*137000)\n",
    "        weights_vertex_10[doru] = np.full(len(csc_vert_size_10[doru].flatten()), weight[doru][0]*137000)\n",
    "        weights_vertex_15[doru] = np.full(len(csc_vert_size_15[doru].flatten()), weight[doru][0]*137000)\n",
    "        weights_vertex_20[doru] = np.full(len(csc_vert_size_20[doru].flatten()), weight[doru][0]*137000)\n",
    "        weights_vertex_30[doru] = np.full(len(csc_vert_size_30[doru].flatten()), weight[doru][0]*137000)"
   ]
  },
  {
   "cell_type": "code",
   "execution_count": 335,
   "metadata": {},
   "outputs": [
    {
     "name": "stderr",
     "output_type": "stream",
     "text": [
      "Warning in <TCanvas::Constructor>: Deleting canvas with same name: c1\n",
      "Warning in <TROOT::Append>: Replacing existing TH1: csc_vert_1 (Potential memory leak).\n",
      "Warning in <TROOT::Append>: Replacing existing TH1: csc_vert_5 (Potential memory leak).\n",
      "Warning in <TROOT::Append>: Replacing existing TH1: csc_vert_10 (Potential memory leak).\n",
      "Warning in <TROOT::Append>: Replacing existing TH1: csc_vert_15 (Potential memory leak).\n",
      "Warning in <TROOT::Append>: Replacing existing TH1: csc_vert_20 (Potential memory leak).\n",
      "Warning in <TROOT::Append>: Replacing existing TH1: csc_vert_30 (Potential memory leak).\n",
      "Warning in <TROOT::Append>: Replacing existing TH1: csc_vert_1 (Potential memory leak).\n",
      "Warning in <TROOT::Append>: Replacing existing TH1: csc_vert_5 (Potential memory leak).\n",
      "Warning in <TROOT::Append>: Replacing existing TH1: csc_vert_10 (Potential memory leak).\n",
      "Warning in <TROOT::Append>: Replacing existing TH1: csc_vert_15 (Potential memory leak).\n",
      "Warning in <TROOT::Append>: Replacing existing TH1: csc_vert_20 (Potential memory leak).\n",
      "Warning in <TROOT::Append>: Replacing existing TH1: csc_vert_30 (Potential memory leak).\n"
     ]
    },
    {
     "data": {
      "image/png": "[encoded data removed]",
      "text/plain": [
       "<IPython.core.display.Image object>"
      ]
     },
     "metadata": {},
     "output_type": "display_data"
    }
   ],
   "source": [
    "# Plots the population of the vertex groups for both WH and WJetsToLNu\n",
    "\n",
    "c1 = rt.TCanvas('c1','c1', 800, 600)\n",
    "\n",
    "h['csc_vert_1_wh'] = create_TH1D(csc_vert_size_1['m55ct10m'].flatten(), axis_title=['csc_vert_1', 'Events'], name='csc_vert_1', binning=[150,0,500], weights = weights_vertex_1['m55ct10m'])\n",
    "h['csc_vert_1_wh'].SetLineColor(28)\n",
    "h['csc_vert_1_wh'].SetLineWidth(2)\n",
    "\n",
    "h['csc_vert_5_wh'] = create_TH1D(csc_vert_size_5['m55ct10m'].flatten(), axis_title=['csc_vert_5', 'Events'], name='csc_vert_5', binning=[150,0,500], weights = weights_vertex_5['m55ct10m'])\n",
    "h['csc_vert_5_wh'].SetLineColor(1)\n",
    "h['csc_vert_5_wh'].SetLineWidth(2)\n",
    "\n",
    "h['csc_vert_10_wh'] = create_TH1D(csc_vert_size_10['m55ct10m'].flatten(), axis_title=['csc_vert_10', 'Events'], name='csc_vert_10', binning=[150,0,500], weights = weights_vertex_10['m55ct10m'])\n",
    "h['csc_vert_10_wh'].SetLineColor(2)\n",
    "h['csc_vert_10_wh'].SetLineWidth(2)\n",
    "\n",
    "h['csc_vert_15_wh'] = create_TH1D(csc_vert_size_15['m55ct10m'].flatten(), axis_title=['csc_vert_15', 'Events'], name='csc_vert_15', binning=[150,0,500], weights = weights_vertex_15['m55ct10m'])\n",
    "h['csc_vert_15_wh'].SetLineColor(3)\n",
    "h['csc_vert_15_wh'].SetLineWidth(2)\n",
    "\n",
    "h['csc_vert_20_wh'] = create_TH1D(csc_vert_size_20['m55ct10m'].flatten(), axis_title=['csc_vert_20', 'Events'], name='csc_vert_20', binning=[150,0,500], weights = weights_vertex_20['m55ct10m'])\n",
    "h['csc_vert_20_wh'].SetLineColor(4)\n",
    "h['csc_vert_20_wh'].SetLineWidth(2)\n",
    "\n",
    "h['csc_vert_30_wh'] = create_TH1D(csc_vert_size_30['m55ct10m'].flatten(), axis_title=['csc_vert_30', 'Events'], name='csc_vert_30', binning=[150,0,500], weights = weights_vertex_30['m55ct10m'])\n",
    "h['csc_vert_30_wh'].SetLineColor(6)\n",
    "h['csc_vert_30_wh'].SetLineWidth(2)\n",
    "\n",
    "####################\n",
    "\n",
    "h['csc_vert_1_wjets'] = create_TH1D(csc_vert_size_1['WJetsToLNu'].flatten(), axis_title=['csc_vert_1', 'Events'], name='csc_vert_1', binning=[150,0,500], weights = weights_vertex_1['WJetsToLNu'])\n",
    "h['csc_vert_1_wjets'].SetLineColor(28)\n",
    "h['csc_vert_1_wjets'].SetLineWidth(2)\n",
    "h['csc_vert_1_wjets'].SetLineStyle(2)\n",
    "\n",
    "h['csc_vert_5_wjets'] = create_TH1D(csc_vert_size_5['WJetsToLNu'].flatten(), axis_title=['csc_vert_5', 'Events'], name='csc_vert_5', binning=[150,0,500], weights = weights_vertex_5['WJetsToLNu'])\n",
    "h['csc_vert_5_wjets'].SetLineColor(1)\n",
    "h['csc_vert_5_wjets'].SetLineWidth(2)\n",
    "h['csc_vert_5_wjets'].SetLineStyle(2)\n",
    "\n",
    "h['csc_vert_10_wjets'] = create_TH1D(csc_vert_size_10['WJetsToLNu'].flatten(), axis_title=['csc_vert_10', 'Events'], name='csc_vert_10', binning=[150,0,500], weights = weights_vertex_10['WJetsToLNu'])\n",
    "h['csc_vert_10_wjets'].SetLineColor(2)\n",
    "h['csc_vert_10_wjets'].SetLineWidth(2)\n",
    "h['csc_vert_10_wjets'].SetLineStyle(2)\n",
    "\n",
    "h['csc_vert_15_wjets'] = create_TH1D(csc_vert_size_15['WJetsToLNu'].flatten(), axis_title=['csc_vert_15', 'Events'], name='csc_vert_15', binning=[150,0,500], weights = weights_vertex_15['WJetsToLNu'])\n",
    "h['csc_vert_15_wjets'].SetLineColor(3)\n",
    "h['csc_vert_15_wjets'].SetLineWidth(2)\n",
    "h['csc_vert_15_wjets'].SetLineStyle(2)\n",
    "\n",
    "h['csc_vert_20_wjets'] = create_TH1D(csc_vert_size_20['WJetsToLNu'].flatten(), axis_title=['csc_vert_20', 'Events'], name='csc_vert_20', binning=[150,0,500], weights = weights_vertex_20['WJetsToLNu'])\n",
    "h['csc_vert_20_wjets'].SetLineColor(4)\n",
    "h['csc_vert_20_wjets'].SetLineWidth(2)\n",
    "h['csc_vert_20_wjets'].SetLineStyle(2)\n",
    "\n",
    "h['csc_vert_30_wjets'] = create_TH1D(csc_vert_size_30['WJetsToLNu'].flatten(), axis_title=['csc_vert_30', 'Events'], name='csc_vert_30', binning=[150,0,500], weights = weights_vertex_30['WJetsToLNu'])\n",
    "h['csc_vert_30_wjets'].SetLineColor(6)\n",
    "h['csc_vert_30_wjets'].SetLineWidth(2)\n",
    "h['csc_vert_30_wjets'].SetLineStyle(2)\n",
    "\n",
    "c1.SetLogy()\n",
    "\n",
    "\n",
    "h['csc_vert_1_wh'].GetYaxis().SetRangeUser(10**-1,10**8)\n",
    "\n",
    "h['csc_vert_1_wh'].GetXaxis().SetRangeUser(0,250)\n",
    "\n",
    "\n",
    "h['csc_vert_1_wh'].SetStats(0)\n",
    "h['csc_vert_1_wh'].SetTitle(\"\")\n",
    "h['csc_vert_1_wh'].SetXTitle(\"N_{segments}\")\n",
    "\n",
    "\n",
    "h['csc_vert_1_wh'].Draw('histo')\n",
    "h['csc_vert_5_wh'].Draw('histo+same')\n",
    "h['csc_vert_10_wh'].Draw('histo+same')\n",
    "h['csc_vert_15_wh'].Draw('histo+same')\n",
    "h['csc_vert_20_wh'].Draw('histo+same')\n",
    "h['csc_vert_30_wh'].Draw('histo+same')\n",
    "##############\n",
    "h['csc_vert_1_wjets'].Draw('histo+same')\n",
    "h['csc_vert_5_wjets'].Draw('histo+same')\n",
    "h['csc_vert_10_wjets'].Draw('histo+same')\n",
    "h['csc_vert_15_wjets'].Draw('histo+same')\n",
    "h['csc_vert_20_wjets'].Draw('histo+same')\n",
    "h['csc_vert_30_wjets'].Draw('histo+same')\n",
    "\n",
    "\n",
    "legend = rt.TLegend(0.6,0.60,0.87,0.9);\n",
    "legend.SetTextSize(0.02);\n",
    "legend.SetBorderSize(1);\n",
    "legend.AddEntry( h['csc_vert_1_wh'], \"1 cm, WH\" , \"L\");\n",
    "legend.AddEntry( h['csc_vert_5_wh'], \"5 cm, WH\" , \"L\");\n",
    "legend.AddEntry( h['csc_vert_10_wh'], \"10 cm, WH\" , \"L\");\n",
    "legend.AddEntry( h['csc_vert_15_wh'], \"15 cm, WH\" , \"L\");\n",
    "legend.AddEntry( h['csc_vert_20_wh'], \"20 cm, WH\" , \"L\");\n",
    "legend.AddEntry( h['csc_vert_30_wh'], \"30 cm, WH\" , \"L\");\n",
    "#############\n",
    "legend.AddEntry( h['csc_vert_1_wjets'], \"1 cm, WJetsToLNu\" , \"L\");\n",
    "legend.AddEntry( h['csc_vert_5_wjets'], \"5 cm, WJetsToLNu\" , \"L\");\n",
    "legend.AddEntry( h['csc_vert_10_wjets'], \"10 cm, WJetsToLNu\" , \"L\");\n",
    "legend.AddEntry( h['csc_vert_15_wjets'], \"15 cm, WJetsToLNu\" , \"L\");\n",
    "legend.AddEntry( h['csc_vert_20_wjets'], \"20 cm, WJetsToLNu\" , \"L\");\n",
    "legend.AddEntry( h['csc_vert_30_wjets'], \"30 cm, WJetsToLNu\" , \"L\");\n",
    "legend.Draw();\n",
    "\n",
    "c1.Draw()"
   ]
  },
  {
   "cell_type": "code",
   "execution_count": 286,
   "metadata": {},
   "outputs": [
    {
     "name": "stdout",
     "output_type": "stream",
     "text": [
      "0\n",
      "1\n"
     ]
    }
   ],
   "source": [
    "# Shows promising viability of cuts/adjustsments using inclusion radius \n",
    "\n",
    "print(np.count_nonzero(csc_vert_size_10['WJetsToLNu'].flatten()>130))\n",
    "print(np.count_nonzero(csc_vert_size_10['m55ct10m'].flatten()>130))"
   ]
  },
  {
   "cell_type": "markdown",
   "metadata": {},
   "source": [
    "## ROC Curves: Vertex Group Size"
   ]
  },
  {
   "cell_type": "code",
   "execution_count": 336,
   "metadata": {},
   "outputs": [
    {
     "name": "stdout",
     "output_type": "stream",
     "text": [
      "m55ct10m: 2019-09-24 16:15:02.482939-07:00\n",
      "WJetsToLNu: 2019-09-24 16:15:03.092132-07:00\n"
     ]
    }
   ],
   "source": [
    "# ROC Curve for WH/WJetsToLNu Samples: Vertex Group Size\n",
    "\n",
    "eff_ncsc = {}\n",
    "rejection_power = {}\n",
    "ncsc_var_x = np.array([])\n",
    "\n",
    "for data_type in data_trees.keys():\n",
    "    eff_ncsc[data_type] = {}\n",
    "    \n",
    "    eff_ncsc[data_type]['incRad_1'] = np.array([])\n",
    "    eff_ncsc[data_type]['incRad_5'] = np.array([])\n",
    "    eff_ncsc[data_type]['incRad_10'] = np.array([])\n",
    "    eff_ncsc[data_type]['incRad_15'] = np.array([])\n",
    "    eff_ncsc[data_type]['incRad_20'] = np.array([])\n",
    "    eff_ncsc[data_type]['incRad_30'] = np.array([])\n",
    "    \n",
    "    for hit_thresh in range(0, 200):\n",
    "        ncsc_var_x = np.append(ncsc_var_x, hit_thresh)\n",
    "\n",
    "       # Baseline ROCs\n",
    "        eff_ncsc[data_type]['incRad_1'] = np.append(eff_ncsc[data_type]['incRad_1'], np.count_nonzero(np.array(csc_vert_size_1[data_type].flatten())>hit_thresh)/len(csc_vert_size_1[data_type].flatten()))\n",
    "        eff_ncsc[data_type]['incRad_5'] = np.append(eff_ncsc[data_type]['incRad_5'], np.count_nonzero(np.array(csc_vert_size_5[data_type].flatten())>hit_thresh)/len(csc_vert_size_5[data_type].flatten()))\n",
    "        eff_ncsc[data_type]['incRad_10'] = np.append(eff_ncsc[data_type]['incRad_10'], np.count_nonzero(np.array(csc_vert_size_10[data_type].flatten())>hit_thresh)/len(csc_vert_size_10[data_type].flatten()))\n",
    "        eff_ncsc[data_type]['incRad_15'] = np.append(eff_ncsc[data_type]['incRad_15'], np.count_nonzero(np.array(csc_vert_size_15[data_type].flatten())>hit_thresh)/len(csc_vert_size_15[data_type].flatten()))\n",
    "        eff_ncsc[data_type]['incRad_20'] = np.append(eff_ncsc[data_type]['incRad_20'], np.count_nonzero(np.array(csc_vert_size_20[data_type].flatten())>hit_thresh)/len(csc_vert_size_20[data_type].flatten()))\n",
    "        eff_ncsc[data_type]['incRad_30'] = np.append(eff_ncsc[data_type]['incRad_30'], np.count_nonzero(np.array(csc_vert_size_30[data_type].flatten())>hit_thresh)/len(csc_vert_size_30[data_type].flatten()))\n",
    "        \n",
    "        \n",
    "    # Rejection power calculation\n",
    "    rejection_power[data_type] = {}\n",
    "    \n",
    "    rejection_power[data_type]['incRad_1'] = np.reciprocal(np.trim_zeros(eff_ncsc[data_type]['incRad_1']))\n",
    "    rejection_power[data_type]['incRad_5'] = np.reciprocal(np.trim_zeros(eff_ncsc[data_type]['incRad_5']))\n",
    "    rejection_power[data_type]['incRad_10'] = np.reciprocal(np.trim_zeros(eff_ncsc[data_type]['incRad_10']))\n",
    "    rejection_power[data_type]['incRad_15'] = np.reciprocal(np.trim_zeros(eff_ncsc[data_type]['incRad_15']))\n",
    "    rejection_power[data_type]['incRad_20'] = np.reciprocal(np.trim_zeros(eff_ncsc[data_type]['incRad_20']))\n",
    "    rejection_power[data_type]['incRad_30'] = np.reciprocal(np.trim_zeros(eff_ncsc[data_type]['incRad_30']))\n",
    "    \n",
    "    print(data_type + ': ' +str(datetime.datetime.now(pytz.timezone('US/Pacific'))))"
   ]
  },
  {
   "cell_type": "code",
   "execution_count": 357,
   "metadata": {},
   "outputs": [
    {
     "name": "stdout",
     "output_type": "stream",
     "text": [
      "length of x and y are not equal!\n",
      "length of x and y are not equal!\n",
      "length of x and y are not equal!\n",
      "length of x and y are not equal!\n",
      "length of x and y are not equal!\n",
      "length of x and y are not equal!\n"
     ]
    },
    {
     "name": "stderr",
     "output_type": "stream",
     "text": [
      "Warning in <TCanvas::Constructor>: Deleting canvas with same name: c_roc1\n"
     ]
    },
    {
     "data": {
      "image/png": "[encoded data removed]",
      "text/plain": [
       "<IPython.core.display.Image object>"
      ]
     },
     "metadata": {},
     "output_type": "display_data"
    }
   ],
   "source": [
    "# Creates ROC curves for the signal efficiency of the m55ct10m signal sample against the WJetsToLNu samples using vertex group size thresholds \n",
    "\n",
    "c_roc1 = rt.TCanvas('c_roc1','c_roc1', 800, 600)\n",
    "\n",
    "h['roc_curve_1'] = create_TGraph(rejection_power['WJetsToLNu']['incRad_1'], eff_ncsc['m55ct10m']['incRad_1'], axis_title=['1/#epsilon_{bkg}', '#epsilon_{signal}'])\n",
    "h['roc_curve_5'] = create_TGraph(rejection_power['WJetsToLNu']['incRad_5'], eff_ncsc['m55ct10m']['incRad_5'], axis_title=['1/#epsilon_{bkg}', '#epsilon_{signal}'])\n",
    "h['roc_curve_10'] = create_TGraph(rejection_power['WJetsToLNu']['incRad_10'], eff_ncsc['m55ct10m']['incRad_10'], axis_title=['1/#epsilon_{bkg}', '#epsilon_{signal}'])\n",
    "h['roc_curve_15'] = create_TGraph(rejection_power['WJetsToLNu']['incRad_15'], eff_ncsc['m55ct10m']['incRad_15'], axis_title=['1/#epsilon_{bkg}', '#epsilon_{signal}'])\n",
    "h['roc_curve_20'] = create_TGraph(rejection_power['WJetsToLNu']['incRad_20'], eff_ncsc['m55ct10m']['incRad_20'], axis_title=['1/#epsilon_{bkg}', '#epsilon_{signal}'])\n",
    "h['roc_curve_30'] = create_TGraph(rejection_power['WJetsToLNu']['incRad_30'], eff_ncsc['m55ct10m']['incRad_30'], axis_title=['1/#epsilon_{bkg}', '#epsilon_{signal}'])\n",
    "\n",
    "\n",
    "c_roc1.SetLogx()\n",
    "c_roc1.SetLogy()\n",
    "\n",
    "h['roc_curve_1'].SetTitle('')\n",
    "\n",
    "\n",
    "h['roc_curve_1'].SetLineWidth(2)\n",
    "h['roc_curve_5'].SetLineWidth(2)\n",
    "h['roc_curve_10'].SetLineWidth(2)\n",
    "h['roc_curve_15'].SetLineWidth(2)\n",
    "h['roc_curve_20'].SetLineWidth(2)\n",
    "h['roc_curve_30'].SetLineWidth(2)\n",
    "\n",
    "\n",
    "h['roc_curve_1'].SetLineColor(28)\n",
    "h['roc_curve_5'].SetLineColor(1)\n",
    "h['roc_curve_10'].SetLineColor(2)\n",
    "h['roc_curve_15'].SetLineColor(3)\n",
    "h['roc_curve_20'].SetLineColor(4)\n",
    "h['roc_curve_30'].SetLineColor(6)\n",
    "\n",
    "h['roc_curve_1'].GetXaxis().SetLimits(10**0, 10**6)\n",
    "h['roc_curve_1'].GetYaxis().SetRangeUser(10**-4,1)\n",
    "\n",
    "h['roc_curve_1'].Draw()\n",
    "h['roc_curve_5'].Draw('same')\n",
    "h['roc_curve_10'].Draw('same')\n",
    "h['roc_curve_15'].Draw('same')\n",
    "h['roc_curve_20'].Draw('same')\n",
    "h['roc_curve_30'].Draw('same')\n",
    "\n",
    "legend = rt.TLegend(0.6,0.50,0.9,0.8);\n",
    "legend.SetTextSize(0.03);\n",
    "legend.SetBorderSize(0);\n",
    "\n",
    "legend.AddEntry( h['roc_curve_1'], \"1 cm\", 'l');\n",
    "legend.AddEntry( h['roc_curve_5'], \"5 cm\", 'l');\n",
    "legend.AddEntry( h['roc_curve_10'], \"10 cm\", 'l');\n",
    "legend.AddEntry( h['roc_curve_15'], \"15 cm\", 'l');\n",
    "legend.AddEntry( h['roc_curve_20'], \"20 cm\", 'l');\n",
    "legend.AddEntry( h['roc_curve_30'], \"30 cm\", 'l');\n",
    "\n",
    "legend.Draw();\n",
    "\n",
    "c_roc1.Draw()"
   ]
  },
  {
   "cell_type": "markdown",
   "metadata": {},
   "source": [
    "## cscClusterVertexN::cscClusterSize"
   ]
  },
  {
   "cell_type": "code",
   "execution_count": 332,
   "metadata": {},
   "outputs": [
    {
     "name": "stderr",
     "output_type": "stream",
     "text": [
      "Warning in <TCanvas::Constructor>: Deleting canvas with same name: c2_1\n",
      "Warning in <TROOT::Append>: Replacing existing TH1: clusterPop_vertN_0 (Potential memory leak).\n",
      "Warning in <TCanvas::Constructor>: Deleting canvas with same name: c2_2\n",
      "Warning in <TROOT::Append>: Replacing existing TH1: clusterPop_vertN_0 (Potential memory leak).\n"
     ]
    },
    {
     "data": {
      "image/png": "[encoded data removed]",
      "text/plain": [
       "<IPython.core.display.Image object>"
      ]
     },
     "metadata": {},
     "output_type": "display_data"
    },
    {
     "data": {
      "image/png": "[encoded data removed]",
      "text/plain": [
       "<IPython.core.display.Image object>"
      ]
     },
     "metadata": {},
     "output_type": "display_data"
    }
   ],
   "source": [
    "c2_1 = rt.TCanvas('c2_1','c2_1', 400, 300)\n",
    "\n",
    "h['clusterPop_vertN_0'] = create_TH2D(np.column_stack((nCsc_pop['m55ct10m'].flatten(), csc_vert_size_10['m55ct10m'].flatten())), name='clusterPop_vertN_0', binning=[200, -1100, 1100, 100, 0, 400], axis_title=['gLLP_decay_vertex_z (cm)', 'N_{csc}', ''])\n",
    "\n",
    "c2_1.SetLogz()\n",
    "h['clusterPop_vertN_0'].SetStats(0)\n",
    "h['clusterPop_vertN_0'].GetXaxis().SetRangeUser(0,400)\n",
    "h['clusterPop_vertN_0'].SetTitle('WH: N_{segments} within 10 cm')\n",
    "h['clusterPop_vertN_0'].SetXTitle('cscClusterSize')\n",
    "h['clusterPop_vertN_0'].SetYTitle('cscClusterVertexN')\n",
    "h['clusterPop_vertN_0'].Draw(\"colz\")\n",
    "\n",
    "c2_2 = rt.TCanvas('c2_2','c2_2', 400, 300)\n",
    "h['clusterPop_vertN_bkg'] = create_TH2D(np.column_stack((nCsc_pop['WJetsToLNu'].flatten(), csc_vert_size_10['WJetsToLNu'].flatten())), name='clusterPop_vertN_0', binning=[200, -1100, 1100, 100, 0, 400], axis_title=['gLLP_decay_vertex_z (cm)', 'N_{csc}', ''])\n",
    "c2_2.SetLogz()\n",
    "h['clusterPop_vertN_bkg'].SetStats(0)\n",
    "h['clusterPop_vertN_bkg'].GetXaxis().SetRangeUser(0,400)\n",
    "h['clusterPop_vertN_bkg'].SetTitle('WJetsToLNu: N_{segments} within 10 cm')\n",
    "h['clusterPop_vertN_bkg'].SetXTitle('cscClusterSize')\n",
    "h['clusterPop_vertN_bkg'].SetYTitle('cscClusterVertexN')\n",
    "\n",
    "\n",
    "h['clusterPop_vertN_bkg'].Draw(\"colz\")\n",
    "c2_1.Draw()\n",
    "c2_2.Draw()"
   ]
  },
  {
   "cell_type": "markdown",
   "metadata": {},
   "source": [
    "## Correlation Ratio of Cluster Size to Vertex Group Size"
   ]
  },
  {
   "cell_type": "code",
   "execution_count": 184,
   "metadata": {},
   "outputs": [
    {
     "name": "stderr",
     "output_type": "stream",
     "text": [
      "Warning in <TCanvas::Constructor>: Deleting canvas with same name: c3\n",
      "Warning in <TROOT::Append>: Replacing existing TH1: csc_vertRatio_1_wh (Potential memory leak).\n",
      "Warning in <TROOT::Append>: Replacing existing TH1: csc_vertRatio_5_wh (Potential memory leak).\n",
      "Warning in <TROOT::Append>: Replacing existing TH1: csc_vertRatio_10_wh (Potential memory leak).\n",
      "Warning in <TROOT::Append>: Replacing existing TH1: csc_vertRatio_15_wh (Potential memory leak).\n",
      "Warning in <TROOT::Append>: Replacing existing TH1: csc_vertRatio_20_wh (Potential memory leak).\n",
      "Warning in <TROOT::Append>: Replacing existing TH1: csc_vertRatio_30_wh (Potential memory leak).\n",
      "Warning in <TROOT::Append>: Replacing existing TH1: csc_vertRatio_1_wjets (Potential memory leak).\n",
      "Warning in <TROOT::Append>: Replacing existing TH1: csc_vertRatio_5_wjets (Potential memory leak).\n",
      "Warning in <TROOT::Append>: Replacing existing TH1: csc_vertRatio_10_wjets (Potential memory leak).\n",
      "Warning in <TROOT::Append>: Replacing existing TH1: csc_vertRatio_15_wjets (Potential memory leak).\n",
      "Warning in <TROOT::Append>: Replacing existing TH1: csc_vertRatio_20_wjets (Potential memory leak).\n",
      "Warning in <TROOT::Append>: Replacing existing TH1: csc_vertRatio_30_wjets (Potential memory leak).\n"
     ]
    },
    {
     "data": {
      "image/png": "[encoded data removed]",
      "text/plain": [
       "<IPython.core.display.Image object>"
      ]
     },
     "metadata": {},
     "output_type": "display_data"
    }
   ],
   "source": [
    "# Plots the ratio of cluster size to vertex group size for both WH and WJetsToLNu\n",
    "\n",
    "c3 = rt.TCanvas('c3','c3', 800, 600)\n",
    "\n",
    "h['csc_vertRatio_1_wh'] = create_TH1D(csc_vert_size_1['m55ct10m'].flatten()/nCsc_pop['m55ct10m'].flatten(), axis_title=['csc_vertRatio_1_wh', 'Events'], name='csc_vertRatio_1_wh', binning=[50,0,1])\n",
    "h['csc_vertRatio_1_wh'].SetLineColor(1)\n",
    "h['csc_vertRatio_1_wh'].SetLineWidth(2)\n",
    "\n",
    "h['csc_vertRatio_5_wh'] = create_TH1D(csc_vert_size_5['m55ct10m'].flatten()/nCsc_pop['m55ct10m'].flatten(), axis_title=['csc_vertRatio_5_wh', 'Events'], name='csc_vertRatio_5_wh', binning=[50,0,1])\n",
    "h['csc_vertRatio_5_wh'].SetLineColor(2)\n",
    "h['csc_vertRatio_5_wh'].SetLineWidth(2)\n",
    "\n",
    "h['csc_vertRatio_10_wh'] = create_TH1D(csc_vert_size_10['m55ct10m'].flatten()/nCsc_pop['m55ct10m'].flatten(), axis_title=['csc_vertRatio_10_wh', 'Events'], name='csc_vertRatio_10_wh', binning=[50,0,1])\n",
    "h['csc_vertRatio_10_wh'].SetLineColor(3)\n",
    "h['csc_vertRatio_10_wh'].SetLineWidth(2)\n",
    "\n",
    "h['csc_vertRatio_15_wh'] = create_TH1D(csc_vert_size_15['m55ct10m'].flatten()/nCsc_pop['m55ct10m'].flatten(), axis_title=['csc_vertRatio_15_wh', 'Events'], name='csc_vertRatio_15_wh', binning=[50,0,1])\n",
    "h['csc_vertRatio_15_wh'].SetLineColor(4)\n",
    "h['csc_vertRatio_15_wh'].SetLineWidth(2)\n",
    "\n",
    "h['csc_vertRatio_20_wh'] = create_TH1D(csc_vert_size_20['m55ct10m'].flatten()/nCsc_pop['m55ct10m'].flatten(), axis_title=['csc_vertRatio_20_wh', 'Events'], name='csc_vertRatio_20_wh', binning=[50,0,1])\n",
    "h['csc_vertRatio_20_wh'].SetLineColor(28)\n",
    "h['csc_vertRatio_20_wh'].SetLineWidth(2)\n",
    "\n",
    "h['csc_vertRatio_30_wh'] = create_TH1D(csc_vert_size_30['m55ct10m'].flatten()/nCsc_pop['m55ct10m'].flatten(), axis_title=['csc_vertRatio_30_wh', 'Events'], name='csc_vertRatio_30_wh', binning=[50,0,1])\n",
    "h['csc_vertRatio_30_wh'].SetLineColor(6)\n",
    "h['csc_vertRatio_30_wh'].SetLineWidth(2)\n",
    "\n",
    "###############\n",
    "\n",
    "h['csc_vertRatio_1_wjets'] = create_TH1D(csc_vert_size_1['WJetsToLNu'].flatten()/nCsc_pop['WJetsToLNu'].flatten(), axis_title=['csc_vertRatio_1_wjets', 'Events'], name='csc_vertRatio_1_wjets', binning=[50,0,1])\n",
    "h['csc_vertRatio_1_wjets'].SetLineColor(1)\n",
    "h['csc_vertRatio_1_wjets'].SetLineWidth(2)\n",
    "h['csc_vertRatio_1_wjets'].SetLineStyle(2)\n",
    "\n",
    "h['csc_vertRatio_5_wjets'] = create_TH1D(csc_vert_size_5['WJetsToLNu'].flatten()/nCsc_pop['WJetsToLNu'].flatten(), axis_title=['csc_vertRatio_5_wjets', 'Events'], name='csc_vertRatio_5_wjets', binning=[50,0,1])\n",
    "h['csc_vertRatio_5_wjets'].SetLineColor(2)\n",
    "h['csc_vertRatio_5_wjets'].SetLineWidth(2)\n",
    "h['csc_vertRatio_5_wjets'].SetLineStyle(2)\n",
    "\n",
    "h['csc_vertRatio_10_wjets'] = create_TH1D(csc_vert_size_10['WJetsToLNu'].flatten()/nCsc_pop['WJetsToLNu'].flatten(), axis_title=['csc_vertRatio_10_wjets', 'Events'], name='csc_vertRatio_10_wjets', binning=[50,0,1])\n",
    "h['csc_vertRatio_10_wjets'].SetLineColor(3)\n",
    "h['csc_vertRatio_10_wjets'].SetLineWidth(2)\n",
    "h['csc_vertRatio_10_wjets'].SetLineStyle(2)\n",
    "\n",
    "h['csc_vertRatio_15_wjets'] = create_TH1D(csc_vert_size_15['WJetsToLNu'].flatten()/nCsc_pop['WJetsToLNu'].flatten(), axis_title=['csc_vertRatio_15_wjets', 'Events'], name='csc_vertRatio_15_wjets', binning=[50,0,1])\n",
    "h['csc_vertRatio_15_wjets'].SetLineColor(4)\n",
    "h['csc_vertRatio_15_wjets'].SetLineWidth(2)\n",
    "h['csc_vertRatio_15_wjets'].SetLineStyle(2)\n",
    "\n",
    "h['csc_vertRatio_20_wjets'] = create_TH1D(csc_vert_size_20['WJetsToLNu'].flatten()/nCsc_pop['WJetsToLNu'].flatten(), axis_title=['csc_vertRatio_20_wjets', 'Events'], name='csc_vertRatio_20_wjets', binning=[50,0,1])\n",
    "h['csc_vertRatio_20_wjets'].SetLineColor(28)\n",
    "h['csc_vertRatio_20_wjets'].SetLineWidth(2)\n",
    "h['csc_vertRatio_20_wjets'].SetLineStyle(2)\n",
    "\n",
    "h['csc_vertRatio_30_wjets'] = create_TH1D(csc_vert_size_30['WJetsToLNu'].flatten()/nCsc_pop['WJetsToLNu'].flatten(), axis_title=['csc_vertRatio_30_wjets', 'Events'], name='csc_vertRatio_30_wjets', binning=[50,0,1])\n",
    "h['csc_vertRatio_30_wjets'].SetLineColor(6)\n",
    "h['csc_vertRatio_30_wjets'].SetLineWidth(2)\n",
    "h['csc_vertRatio_30_wjets'].SetLineStyle(2)\n",
    "\n",
    "\n",
    "c3.SetLogy()\n",
    "\n",
    "\n",
    "h['csc_vertRatio_1_wh'].GetYaxis().SetRangeUser(1,10**8)\n",
    "\n",
    "h['csc_vertRatio_1_wh'].GetXaxis().SetRangeUser(0,2)\n",
    "\n",
    "\n",
    "h['csc_vertRatio_1_wh'].SetStats(0)\n",
    "h['csc_vertRatio_1_wh'].SetTitle(\"Correlation of Cluster Size to Vertex Group Size\")\n",
    "h['csc_vertRatio_1_wh'].SetXTitle(\"\")\n",
    "\n",
    "\n",
    "h['csc_vertRatio_1_wh'].Draw('histo')\n",
    "h['csc_vertRatio_5_wh'].Draw('histo+same')\n",
    "h['csc_vertRatio_10_wh'].Draw('histo+same')\n",
    "h['csc_vertRatio_15_wh'].Draw('histo+same')\n",
    "h['csc_vertRatio_20_wh'].Draw('histo+same')\n",
    "h['csc_vertRatio_30_wh'].Draw('histo+same')\n",
    "########\n",
    "h['csc_vertRatio_1_wjets'].Draw('histo+same')\n",
    "h['csc_vertRatio_5_wjets'].Draw('histo+same')\n",
    "h['csc_vertRatio_10_wjets'].Draw('histo+same')\n",
    "h['csc_vertRatio_15_wjets'].Draw('histo+same')\n",
    "h['csc_vertRatio_20_wjets'].Draw('histo+same')\n",
    "h['csc_vertRatio_30_wjets'].Draw('histo+same')\n",
    "\n",
    "\n",
    "legend = rt.TLegend(0.4,0.60,0.87,0.9);\n",
    "legend.SetTextSize(0.02);\n",
    "legend.SetBorderSize(1);\n",
    "legend.AddEntry( h['csc_vertRatio_1_wh'], \"1 cm, WH\" , \"L\");\n",
    "legend.AddEntry( h['csc_vertRatio_5_wh'], \"5 cm, WH\" , \"L\");\n",
    "legend.AddEntry( h['csc_vertRatio_10_wh'], \"10 cm, WH\" , \"L\");\n",
    "legend.AddEntry( h['csc_vertRatio_15_wh'], \"15 cm, WH\" , \"L\");\n",
    "legend.AddEntry( h['csc_vertRatio_20_wh'], \"20 cm, WH\" , \"L\");\n",
    "legend.AddEntry( h['csc_vertRatio_30_wh'], \"30 cm, WH\" , \"L\");\n",
    "#########\n",
    "legend.AddEntry( h['csc_vertRatio_1_wjets'], \"1 cm, WJetsToLNu\" , \"L\");\n",
    "legend.AddEntry( h['csc_vertRatio_5_wjets'], \"5 cm, WJetsToLNu\" , \"L\");\n",
    "legend.AddEntry( h['csc_vertRatio_10_wjets'], \"10 cm, WJetsToLNu\" , \"L\");\n",
    "legend.AddEntry( h['csc_vertRatio_15_wjets'], \"15 cm, WJetsToLNu\" , \"L\");\n",
    "legend.AddEntry( h['csc_vertRatio_20_wjets'], \"20 cm, WJetsToLNu\" , \"L\");\n",
    "legend.AddEntry( h['csc_vertRatio_30_wjets'], \"30 cm, WJetsToLNu\" , \"L\");\n",
    "\n",
    "legend.Draw();\n",
    "\n",
    "c3.Draw()"
   ]
  },
  {
   "cell_type": "code",
   "execution_count": null,
   "metadata": {},
   "outputs": [],
   "source": []
  }
 ],
 "metadata": {
  "kernelspec": {
   "display_name": "Python 2",
   "language": "python",
   "name": "python2"
  },
  "language_info": {
   "codemirror_mode": {
    "name": "ipython",
    "version": 3
   },
   "file_extension": ".py",
   "mimetype": "text/x-python",
   "name": "python",
   "nbconvert_exporter": "python",
   "pygments_lexer": "ipython3",
   "version": "3.6.8"
  }
 },
 "nbformat": 4,
 "nbformat_minor": 2
}
