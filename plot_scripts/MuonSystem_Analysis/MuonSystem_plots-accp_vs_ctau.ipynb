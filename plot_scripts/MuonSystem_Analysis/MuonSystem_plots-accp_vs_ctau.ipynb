{
 "cells": [
  {
   "cell_type": "code",
   "execution_count": 1,
   "metadata": {},
   "outputs": [
    {
     "name": "stdout",
     "output_type": "stream",
     "text": [
      "Welcome to JupyROOT 6.18/02\n",
      "3.6.8 (default, Aug  7 2019, 17:28:10) \n",
      "[GCC 4.8.5 20150623 (Red Hat 4.8.5-39)]\n"
     ]
    }
   ],
   "source": [
    "import ROOT as rt\n",
    "# import root_numpy as rtnp\n",
    "import csv\n",
    "import re\n",
    "import sys\n",
    "import collections\n",
    "\n",
    "from collections import OrderedDict\n",
    "import uproot\n",
    "import pandas as pd\n",
    "\n",
    "import scipy\n",
    "import awkward\n",
    "import numpy as np\n",
    "import time\n",
    "import numba\n",
    "from numba import jit\n",
    "from matplotlib import pyplot as plt\n",
    "sys.path.append('/storage/user/christiw/gpu/christiw/llp/delayed_jet_analyzer/lib/')\n",
    "from histo_utilities import create_TH1D, create_TH2D, std_color_list, create_TGraph, make_ratio_plot\n",
    "\n",
    "import CMS_lumi, tdrstyle\n",
    "a = tdrstyle.setTDRStyle()\n",
    "CMS_lumi.writeExtraText = 0\n",
    "\n",
    "print(sys.version)"
   ]
  },
  {
   "cell_type": "markdown",
   "metadata": {},
   "source": [
    "# Load ntuples"
   ]
  },
  {
   "cell_type": "code",
   "execution_count": 2,
   "metadata": {},
   "outputs": [
    {
     "name": "stdout",
     "output_type": "stream",
     "text": [
      "m7ctau100 /mnt/hadoop/store/group/phys_exotica/delayedjets/displacedJetMuonAnalyzer/csc/V1p17//MC_all//v1/v110//normalized/ggH_HToSSTo4Tau_MH-125_MS-7_ctau-100_137000pb_weighted.root\n",
      "m15ctau100 /mnt/hadoop/store/group/phys_exotica/delayedjets/displacedJetMuonAnalyzer/csc/V1p17//MC_all//v1/v110//normalized/ggH_HToSSTo4Tau_MH-125_MS-15_ctau-100_137000pb_weighted.root\n",
      "m40ctau100 /mnt/hadoop/store/group/phys_exotica/delayedjets/displacedJetMuonAnalyzer/csc/V1p17//MC_all//v1/v110//normalized/ggH_HToSSTo4Tau_MH-125_MS-40_ctau-100_137000pb_weighted.root\n",
      "m55ctau100 /mnt/hadoop/store/group/phys_exotica/delayedjets/displacedJetMuonAnalyzer/csc/V1p17//MC_all//v1/v110//normalized/ggH_HToSSTo4Tau_MH-125_MS-55_ctau-100_137000pb_weighted.root\n",
      "m7ctau1000 /mnt/hadoop/store/group/phys_exotica/delayedjets/displacedJetMuonAnalyzer/csc/V1p17//MC_all//v1/v110//normalized/ggH_HToSSTo4Tau_MH-125_MS-7_ctau-1000_137000pb_weighted.root\n",
      "m15ctau1000 /mnt/hadoop/store/group/phys_exotica/delayedjets/displacedJetMuonAnalyzer/csc/V1p17//MC_all//v1/v110//normalized/ggH_HToSSTo4Tau_MH-125_MS-15_ctau-1000_137000pb_weighted.root\n",
      "m40ctau1000 /mnt/hadoop/store/group/phys_exotica/delayedjets/displacedJetMuonAnalyzer/csc/V1p17//MC_all//v1/v110//normalized/ggH_HToSSTo4Tau_MH-125_MS-40_ctau-1000_137000pb_weighted.root\n",
      "m55ctau1000 /mnt/hadoop/store/group/phys_exotica/delayedjets/displacedJetMuonAnalyzer/csc/V1p17//MC_all//v1/v110//normalized/ggH_HToSSTo4Tau_MH-125_MS-55_ctau-1000_137000pb_weighted.root\n",
      "m7ctau10000 /mnt/hadoop/store/group/phys_exotica/delayedjets/displacedJetMuonAnalyzer/csc/V1p17//MC_all//v1/v110//normalized/ggH_HToSSTo4Tau_MH-125_MS-7_ctau-10000_137000pb_weighted.root\n",
      "m15ctau10000 /mnt/hadoop/store/group/phys_exotica/delayedjets/displacedJetMuonAnalyzer/csc/V1p17//MC_all//v1/v110//normalized/ggH_HToSSTo4Tau_MH-125_MS-15_ctau-10000_137000pb_weighted.root\n",
      "m40ctau10000 /mnt/hadoop/store/group/phys_exotica/delayedjets/displacedJetMuonAnalyzer/csc/V1p17//MC_all//v1/v110//normalized/ggH_HToSSTo4Tau_MH-125_MS-40_ctau-10000_137000pb_weighted.root\n",
      "m55ctau10000 /mnt/hadoop/store/group/phys_exotica/delayedjets/displacedJetMuonAnalyzer/csc/V1p17//MC_all//v1/v110//normalized/ggH_HToSSTo4Tau_MH-125_MS-55_ctau-10000_137000pb_weighted.root\n",
      "m7ctau100000 /mnt/hadoop/store/group/phys_exotica/delayedjets/displacedJetMuonAnalyzer/csc/V1p17//MC_all//v1/v110//normalized/ggH_HToSSTo4Tau_MH-125_MS-7_ctau-100000_137000pb_weighted.root\n",
      "m15ctau100000 /mnt/hadoop/store/group/phys_exotica/delayedjets/displacedJetMuonAnalyzer/csc/V1p17//MC_all//v1/v110//normalized/ggH_HToSSTo4Tau_MH-125_MS-15_ctau-100000_137000pb_weighted.root\n",
      "m40ctau100000 /mnt/hadoop/store/group/phys_exotica/delayedjets/displacedJetMuonAnalyzer/csc/V1p17//MC_all//v1/v110//normalized/ggH_HToSSTo4Tau_MH-125_MS-40_ctau-100000_137000pb_weighted.root\n",
      "m55ctau100000 /mnt/hadoop/store/group/phys_exotica/delayedjets/displacedJetMuonAnalyzer/csc/V1p17//MC_all//v1/v110//normalized/ggH_HToSSTo4Tau_MH-125_MS-55_ctau-100000_137000pb_weighted.root\n"
     ]
    }
   ],
   "source": [
    "fpath =OrderedDict()\n",
    "tree = OrderedDict()\n",
    "\n",
    "\n",
    "start_t = time.time()\n",
    "\n",
    "\n",
    "\n",
    "isData = 0\n",
    "\n",
    "ntupler_version = 'V1p17/'\n",
    "analyzer_version = \"/v1/v86/\"\n",
    "#     analyzer_version = \"/v1/v95/\"\n",
    "analyzer_version = \"/v1/v100/\"\n",
    "analyzer_version = \"/v1/v110/\" #new acceptance definition\n",
    "\n",
    "#     analyzer_version = \"/v1/v110/\" #new acceptance definition and no cuts at all\n",
    "\n",
    "\n",
    "decay = '4Tau'\n",
    "mass = ['7', '15', '40','55']\n",
    "ctaus  = ['100','1000','10000','100000']\n",
    "# ctaus = ['10']\n",
    "for ct in ctaus:\n",
    "    for m in mass:\n",
    "        mc_path = '/mnt/hadoop/store/group/phys_exotica/delayedjets/displacedJetMuonAnalyzer/csc/'+ntupler_version+'/MC_all/'+analyzer_version+'/normalized/'\n",
    "        fpath['m'+m+'ctau'+ct] = mc_path + 'ggH_HToSSTo'+decay+'_MH-125_MS-'+str(m)+'_ctau-'+ct+'_137000pb_weighted.root'\n",
    "\n",
    "for k,v in fpath.items():\n",
    "    print (k, v)\n",
    "    root_dir = uproot.open(v) \n",
    "    tree[k] = root_dir['MuonSystem']\n",
    "   \n",
    "\n"
   ]
  },
  {
   "cell_type": "code",
   "execution_count": 3,
   "metadata": {},
   "outputs": [
    {
     "name": "stdout",
     "output_type": "stream",
     "text": [
      "m7ctau100 0.10658804 0.0017914091\n",
      "m15ctau100 0.026883777 0.0008964388\n",
      "m40ctau100 0.0008779927 0.00010956524\n",
      "m55ctau100 0.00013081737 2.6699092e-05\n",
      "m7ctau1000 0.23360409 0.0021630244\n",
      "m15ctau1000 0.27517748 0.0025555047\n",
      "m40ctau1000 0.17088455 0.0022954948\n",
      "m55ctau1000 0.083737075 0.0018755246\n",
      "m7ctau10000 0.045203414 0.00045393055\n",
      "m15ctau10000 0.08996624 0.0008723049\n",
      "m40ctau10000 0.20388415 0.0016170067\n",
      "m55ctau10000 0.23915209 0.0017276726\n",
      "m7ctau100000 0.0049763606 4.8171165e-05\n",
      "m15ctau100000 0.010840262 0.000105216925\n",
      "m40ctau100000 0.033288155 0.00022506119\n",
      "m55ctau100000 0.052708834 0.00024617912\n"
     ]
    }
   ],
   "source": [
    "acceptance = {}\n",
    "sel_ev = {}\n",
    "accep_met = {}\n",
    "for k, T in tree.items():\n",
    "    weight = T.array('weight')*T.array('higgsPtWeight')\n",
    "    sel_ev[k] = np.sum(T.array('gLLP_csc'),axis = 1) >= 1\n",
    "    acceptance[k] = np.sum((T.array('weight')*T.array('higgsPtWeight'))[sel_ev[k]])/np.sum(T.array('weight'))\n",
    "    \n",
    "    \n",
    "    sel_ev[k] = np.logical_and(sel_ev[k], np.logical_and(T.array('metEENoise')>=200 ,T.array('METNoMuTrigger')))\n",
    "\n",
    "    accep_met[k] = np.sum((weight)[sel_ev[k]])/np.sum(T.array('weight'))\n",
    "    print(k,acceptance[k],accep_met[k])"
   ]
  },
  {
   "cell_type": "code",
   "execution_count": 10,
   "metadata": {},
   "outputs": [
    {
     "data": {
      "text/plain": [
       "{'m7ctau100': 0.10658804,\n",
       " 'm15ctau100': 0.026883777,\n",
       " 'm40ctau100': 0.0008779927,\n",
       " 'm55ctau100': 0.00013081737,\n",
       " 'm7ctau1000': 0.23360409,\n",
       " 'm15ctau1000': 0.27517748,\n",
       " 'm40ctau1000': 0.17088455,\n",
       " 'm55ctau1000': 0.083737075,\n",
       " 'm7ctau10000': 0.045203414,\n",
       " 'm15ctau10000': 0.08996624,\n",
       " 'm40ctau10000': 0.20388415,\n",
       " 'm55ctau10000': 0.23915209,\n",
       " 'm7ctau100000': 0.0049763606,\n",
       " 'm15ctau100000': 0.010840262,\n",
       " 'm40ctau100000': 0.033288155,\n",
       " 'm55ctau100000': 0.052708834}"
      ]
     },
     "execution_count": 10,
     "metadata": {},
     "output_type": "execute_result"
    }
   ],
   "source": [
    "acceptance"
   ]
  },
  {
   "cell_type": "markdown",
   "metadata": {},
   "source": [
    "# Plots"
   ]
  },
  {
   "cell_type": "code",
   "execution_count": 56,
   "metadata": {},
   "outputs": [],
   "source": [
    "ctaus = ['100','1000','10000','100000']"
   ]
  },
  {
   "cell_type": "code",
   "execution_count": 9,
   "metadata": {},
   "outputs": [
    {
     "name": "stdout",
     "output_type": "stream",
     "text": [
      "[   100   1000  10000 100000]\n",
      "[   100   1000  10000 100000]\n",
      "[   100   1000  10000 100000]\n",
      "[   100   1000  10000 100000]\n"
     ]
    },
    {
     "name": "stderr",
     "output_type": "stream",
     "text": [
      "Warning in <TCanvas::Constructor>: Deleting canvas with same name: c\n"
     ]
    },
    {
     "data": {
      "image/png": "[encoded data removed]",
      "text/plain": [
       "<IPython.core.display.Image object>"
      ]
     },
     "metadata": {},
     "output_type": "display_data"
    }
   ],
   "source": [
    "import os\n",
    "\n",
    "\n",
    "leg = rt.TLegend(0.6,0.2,0.9,0.35)\n",
    "\n",
    "leg.SetTextSize(0.025)\n",
    "leg.SetBorderSize(0)\n",
    "leg.SetEntrySeparation(0.01)\n",
    "c = rt.TCanvas('c','c', 800, 800)\n",
    "c.SetRightMargin(0.04)\n",
    "\n",
    "\n",
    "rt.gStyle.SetOptFit(1011)\n",
    "h = {}\n",
    "\n",
    "\n",
    "\n",
    "\n",
    "\n",
    "for i, m in enumerate(mass):\n",
    "    var = acceptance\n",
    "    var = accep_met\n",
    "    y = np.array([var['m'+m+'ctau100'], var['m'+m+'ctau1000'], var['m'+m+'ctau10000'], var['m'+m+'ctau100000']])\n",
    "    x = np.array([int(a) for a in ctaus])\n",
    "#     cond = y>0.0\n",
    "    print(x)\n",
    "    h[m] = create_TGraph(x/1000.0, y,  axis_title=['c#tau [m]', 'acceptance'])\n",
    "\n",
    "   \n",
    "    h[m].SetLineColor(std_color_list[i])\n",
    "    h[m].SetLineWidth(3)\n",
    "\n",
    "    h[m].GetXaxis().SetTitleOffset(1)\n",
    "    h[m].GetYaxis().SetTitleSize(0.05)\n",
    "    h[m].GetYaxis().SetTitleOffset(1.5)\n",
    "\n",
    "    h[m].GetXaxis().SetLimits(0.1,100.0)\n",
    "    h[m].GetYaxis().SetRangeUser(0.000001,0.01)\n",
    "    leg.AddEntry(h[m], \"m_{x} = \"+str(m)+\" GeV\", \"L\")\n",
    "\n",
    "\n",
    "for i,m in enumerate(h.keys()):\n",
    "    h[m].Draw('CA' if i == 0 else 'Csame')\n",
    "#     h[m].Draw('LA' if i == 0 else 'Lsame')\n",
    "\n",
    "\n",
    "\n",
    "\n",
    "tdrstyle.setTDRStyle()\n",
    "# CMS_lumi.cmsText     = \"CMS\"\n",
    "# iPos = 0\n",
    "# CMS_lumi.writeExtraText = True\n",
    "# CMS_lumi.extraText   = \"Preliminary\"\n",
    "\n",
    "# if( iPos==0 ): CMS_lumi.relPosX = 0.12\n",
    "# CMS_lumi.CMS_lumi(c, 4, iPos)\n",
    "\n",
    "\n",
    "\n",
    "\n",
    "leg.Draw()\n",
    "c.SetLogy()\n",
    "c.SetLogx()\n",
    "c.SetTicky(1)\n",
    "c.SetTickx(1)\n",
    "# output_dir = '/storage/user/christiw/gpu/christiw/llp/delayed_jet_analyzer/plots/MuonSystem_Analysis/limits/'+version+bdt_name+'/'+dc_version+'/unblindABC/'\n",
    "# if not os.path.isdir(output_dir):os.makedirs(output_dir)\n",
    "# name = output_dir+mode+'_HToSSTo'+decay+'_'+dphi+'_nRechit'+str(nrechit)\n",
    "\n",
    "\n",
    "\n",
    "#         c.SaveAs(name+'.png')\n",
    "#         c.SaveAs(name+'.C')\n",
    "#         c.SaveAs(name+'.pdf')\n",
    "\n",
    "c.Draw()\n"
   ]
  },
  {
   "cell_type": "markdown",
   "metadata": {},
   "source": [
    "# dPhi plots"
   ]
  },
  {
   "cell_type": "code",
   "execution_count": 7,
   "metadata": {},
   "outputs": [
    {
     "name": "stderr",
     "output_type": "stream",
     "text": [
      "Warning in <TCanvas::Constructor>: Deleting canvas with same name: c\n"
     ]
    },
    {
     "data": {
      "image/png": "[encoded data removed]",
      "text/plain": [
       "<IPython.core.display.Image object>"
      ]
     },
     "metadata": {},
     "output_type": "display_data"
    }
   ],
   "source": [
    "import os\n",
    "\n",
    "\n",
    "leg = rt.TLegend(0.45,0.2,0.9,0.35)\n",
    "\n",
    "leg.SetTextSize(0.030)\n",
    "leg.SetBorderSize(0)\n",
    "leg.SetEntrySeparation(0.01)\n",
    "c = rt.TCanvas('c','c', 800, 800)\n",
    "c.SetRightMargin(0.04)\n",
    "\n",
    "\n",
    "rt.gStyle.SetOptFit(1011)\n",
    "h = {}\n",
    "h_met = {}\n",
    "\n",
    "\n",
    "\n",
    "\n",
    "for i, m in enumerate(mass):\n",
    "    if not m == '15':continue\n",
    "    var = acceptance\n",
    "    y = [var['m'+m+'ctau100'], var['m'+m+'ctau1000'], var['m'+m+'ctau10000'], var['m'+m+'ctau100000']]\n",
    "    x = np.array([int(a) for a in ctaus])\n",
    "    h[m] = create_TGraph(x/1000, y,  axis_title=['c#tau [m]', 'acceptance'])\n",
    "\n",
    "    var = accep_met\n",
    "    y = [var['m'+m+'ctau100'], var['m'+m+'ctau1000'], var['m'+m+'ctau10000'], var['m'+m+'ctau100000']]\n",
    "    x = np.array([int(a) for a in ctaus])\n",
    "    h_met[m] = create_TGraph(x/1000, y,  axis_title=['c#tau [m]', 'acceptance'])\n",
    "\n",
    "\n",
    "    h[m].SetLineColor(std_color_list[0])\n",
    "    h[m].SetLineWidth(3)\n",
    "\n",
    "    h_met[m].SetLineColor(std_color_list[1])\n",
    "    h_met[m].SetLineWidth(3)\n",
    "#     h_met[m].SetLineStyle(3)\n",
    "\n",
    "\n",
    "    h[m].GetXaxis().SetTitleOffset(1)\n",
    "    h[m].GetYaxis().SetTitleSize(0.05)\n",
    "    h[m].GetYaxis().SetTitleOffset(1.5)\n",
    "\n",
    "    h[m].GetXaxis().SetLimits(0.1,100.0)\n",
    "    h[m].GetYaxis().SetRangeUser(0.000001,1)\n",
    "    leg.AddEntry(h[m], \"m_{x} = \"+str(m)+\" GeV\", \"L\")\n",
    "    leg.AddEntry(h_met[m], \"After MET cut, m_{x} = \"+str(m)+\" GeV\", \"L\")\n",
    "\n",
    "\n",
    "\n",
    "for i,m in enumerate(h.keys()):\n",
    "    h[m].Draw('CA' if i == 0 else 'Csame')\n",
    "    h_met[m].Draw('Csame')\n",
    "\n",
    "\n",
    "tdrstyle.setTDRStyle()\n",
    "# CMS_lumi.cmsText     = \"CMS\"\n",
    "# iPos = 0\n",
    "# CMS_lumi.writeExtraText = True\n",
    "# CMS_lumi.extraText   = \"Preliminary\"\n",
    "\n",
    "# if( iPos==0 ): CMS_lumi.relPosX = 0.12\n",
    "# CMS_lumi.CMS_lumi(c, 4, iPos)\n",
    "\n",
    "\n",
    "\n",
    "\n",
    "leg.Draw()\n",
    "c.SetLogy()\n",
    "c.SetLogx()\n",
    "c.SetTicky(1)\n",
    "c.SetTickx(1)\n",
    "# output_dir = '/storage/user/christiw/gpu/christiw/llp/delayed_jet_analyzer/plots/MuonSystem_Analysis/limits/'+version+bdt_name+'/'+dc_version+'/unblindABC/'\n",
    "# if not os.path.isdir(output_dir):os.makedirs(output_dir)\n",
    "# name = output_dir+mode+'_HToSSTo'+decay+'_'+dphi+'_nRechit'+str(nrechit)\n",
    "\n",
    "\n",
    "\n",
    "#         c.SaveAs(name+'.png')\n",
    "#         c.SaveAs(name+'.C')\n",
    "#         c.SaveAs(name+'.pdf')\n",
    "\n",
    "c.Draw()\n",
    "\n"
   ]
  },
  {
   "cell_type": "code",
   "execution_count": null,
   "metadata": {},
   "outputs": [],
   "source": []
  }
 ],
 "metadata": {
  "kernelspec": {
   "display_name": "Python 3",
   "language": "python",
   "name": "python3"
  },
  "language_info": {
   "codemirror_mode": {
    "name": "ipython",
    "version": 3
   },
   "file_extension": ".py",
   "mimetype": "text/x-python",
   "name": "python",
   "nbconvert_exporter": "python",
   "pygments_lexer": "ipython3",
   "version": "3.6.8"
  }
 },
 "nbformat": 4,
 "nbformat_minor": 4
}
