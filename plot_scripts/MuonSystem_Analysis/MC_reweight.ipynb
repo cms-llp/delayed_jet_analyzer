{
 "cells": [
  {
   "cell_type": "code",
   "execution_count": 1,
   "metadata": {},
   "outputs": [
    {
     "name": "stdout",
     "output_type": "stream",
     "text": [
      "Welcome to JupyROOT 6.18/02\n",
      "3.6.8 (default, Aug  7 2019, 17:28:10) \n",
      "[GCC 4.8.5 20150623 (Red Hat 4.8.5-39)]\n"
     ]
    }
   ],
   "source": [
    "import ROOT as rt\n",
    "# import root_numpy as rtnp\n",
    "import csv\n",
    "import re\n",
    "import sys\n",
    "import collections\n",
    "\n",
    "from collections import OrderedDict\n",
    "import uproot\n",
    "import awkward\n",
    "import numpy as np\n",
    "import time\n",
    "import numba\n",
    "from numba import jit\n",
    "from matplotlib import pyplot as plt\n",
    "sys.path.append('/storage/user/christiw/gpu/christiw/llp/delayed_jet_analyzer/lib/')\n",
    "from histo_utilities import create_TH1D, create_TH2D, std_color_list, create_TGraph, make_ratio_plot\n",
    "\n",
    "import CMS_lumi, tdrstyle\n",
    "tdrstyle.setTDRStyle()\n",
    "CMS_lumi.writeExtraText = 0\n",
    "\n",
    "wH = 1\n",
    "Z_MASS = 91.2\n",
    "\n",
    "\n",
    "# donotdelete = []\n",
    "print(sys.version)"
   ]
  },
  {
   "cell_type": "code",
   "execution_count": 4,
   "metadata": {},
   "outputs": [
    {
     "name": "stdout",
     "output_type": "stream",
     "text": [
      "ctau100 /mnt/hadoop/store/group/phys_exotica/delayedjets/displacedJetMuonAnalyzer/csc/V1p15/MC_Summer16/v3/v3/ggH_HToSSTobbbb_MH-125_TuneCUETP8M1_13TeV-powheg-pythia8/ggH_HToSSTobbbb_MH-125_TuneCUETP8M1_13TeV-powheg-pythia8_Job0_of_158_55_100.root\n",
      "ctau1000 /mnt/hadoop/store/group/phys_exotica/delayedjets/displacedJetMuonAnalyzer/csc/V1p15/MC_Summer16/v3/v3/ggH_HToSSTobbbb_MH-125_TuneCUETP8M1_13TeV-powheg-pythia8/ggH_HToSSTobbbb_MH-125_TuneCUETP8M1_13TeV-powheg-pythia8_Job0_of_158_55_1000.root\n",
      "ctau10000 /mnt/hadoop/store/group/phys_exotica/delayedjets/displacedJetMuonAnalyzer/csc/V1p15/MC_Summer16/v3/v3/ggH_HToSSTobbbb_MH-125_TuneCUETP8M1_13TeV-powheg-pythia8/ggH_HToSSTobbbb_MH-125_TuneCUETP8M1_13TeV-powheg-pythia8_Job0_of_158_55_10000.root\n"
     ]
    }
   ],
   "source": [
    "fpath_bkg =OrderedDict()\n",
    "tree_bkg = OrderedDict()\n",
    "tree_sig = OrderedDict()\n",
    "fpath_sig =OrderedDict()\n",
    "# path = '/mnt/hadoop/store/group/phys_exotica/delayedjets/displacedJetMuonAnalyzer/V1p15/MC_Summer16/v3/v4/normalized/'\n",
    "# bkg_path = path+\"/bkg/wH/normalized/\"\n",
    "path = '/mnt/hadoop/store/group/phys_exotica/delayedjets/displacedJetMuonAnalyzer/csc/V1p15/MC_Summer16/v3/v3/ggH_HToSSTobbbb_MH-125_TuneCUETP8M1_13TeV-powheg-pythia8/'\n",
    "# fpath_bkg['bbbb1'] = '/storage/user/christiw/login-1/christiw/LLP/CMSSW_9_4_4/src/signal.root'\n",
    "fpath_bkg['ctau100'] = path + 'ggH_HToSSTobbbb_MH-125_TuneCUETP8M1_13TeV-powheg-pythia8_Job0_of_158_55_100.root'\n",
    "fpath_bkg['ctau1000'] = path + 'ggH_HToSSTobbbb_MH-125_TuneCUETP8M1_13TeV-powheg-pythia8_Job0_of_158_55_1000.root'\n",
    "fpath_bkg['ctau10000'] = path + 'ggH_HToSSTobbbb_MH-125_TuneCUETP8M1_13TeV-powheg-pythia8_Job0_of_158_55_10000.root'\n",
    "\n",
    "NEvents = {}\n",
    "\n",
    "for k,v in fpath_bkg.items():\n",
    "    print (k, v)\n",
    "#     tree[k] = rtnp.root2array(v)\n",
    "    root_dir = uproot.open(v) \n",
    "#     if k[:7] == 'ntuples':\n",
    "#     tree_bkg[k] = root_dir['ntuples']['llp']\n",
    "#     NEvents[k] = root_dir['ntuples']['NEvents'][1]\n",
    "    tree_bkg[k] = root_dir['MuonSystem']\n",
    "    NEvents[k] = root_dir['NEvents'][1]\n",
    "#     else:\n",
    "#     tree_bkg[k] = root_dir['MuonSystem']\n",
    "#     NEvents[k] = root_dir['NEvents'][1]\n",
    "#     tree[k] = root_dir['ntuples']\n",
    "#     a = tree_bkg[k][\"weight\"].array()\n",
    "#     print ('weights',np.unique(a)*lumi)\n",
    "#     print(len(a))\n",
    "#     print(len(a)/ NEvents[k])\n",
    "#     print(a.shape)\n"
   ]
  },
  {
   "cell_type": "code",
   "execution_count": 106,
   "metadata": {},
   "outputs": [
    {
     "name": "stdout",
     "output_type": "stream",
     "text": [
      "ctau100 (3000, 2) (3000, 2)\n",
      "(3000,) (3000,)\n",
      "[0.69371635 1.0651076  1.191089   1.7282802  0.16137323 2.3344877\n",
      " 0.01105123 0.09433085 0.00736578 0.5165722 ]\n",
      "[3.357161  3.504236  3.5436304 3.6780312 2.9015973 3.7902963 2.219193\n",
      " 2.7499156 2.1309628 3.259621 ]\n"
     ]
    }
   ],
   "source": [
    "gLLP_decay_vertex = {}\n",
    "gLLP_beta = {}\n",
    "ctau = {}\n",
    "genVertex = {}\n",
    "gamma = {}\n",
    "weight = {}\n",
    "OLD_CTAU = np.array([100]) #in mm\n",
    "\n",
    "new_ctau = 50 #in mm\n",
    "\n",
    "for i,ct in enumerate(OLD_CTAU):\n",
    "    k = 'ctau'+str(ct)\n",
    "    T = tree_bkg[k]\n",
    "    gLLP_decay_vertex[k] = np.sqrt(T.array('gLLP_decay_vertex_x')**2+T.array('gLLP_decay_vertex_y')**2+T.array('gLLP_decay_vertex_z')**2)\n",
    "\n",
    "    gLLP_beta[k] = T.array('gLLP_beta')\n",
    "    gamma[k] = 1.0/np.sqrt(1-gLLP_beta[k]**2)\n",
    "    ctau[k] = (gLLP_decay_vertex[k])/(gLLP_beta[k]*gamma[k])\n",
    "    if i == 0: ctau_sum = ctau[k]\n",
    "    else: ctau_sum = np.vstack((ctau_sum, ctau[k]))\n",
    "    print(k, ctau_sum.shape, ctau[k].shape)\n",
    "\n",
    "#     ctau[k] = np.sum(ctau[k], axis = 1)\n",
    "#     print(np.sum(ctau[k], axis = 1))\n",
    "    weight[k] = weight_calc(np.sum(ctau[k], axis = 1), new_ctau/10, OLD_CTAU/10)\n",
    "#     print(weight[k].shape, ctau[k].shape)\n",
    "#     print(weight_sum.shape)\n",
    "    if i == 0: weight_sum = weight[k]\n",
    "    else: weight_sum = np.hstack((weight_sum, weight[k]))\n",
    "    print(weight[k].shape, weight_sum.shape)\n",
    "    weight_original = np.exp(np.sum(ctau[k], axis = 1)*(1.0/original_ctau - 1.0/new_ctau))*(original_ctau*1.0/new_ctau)**2\n",
    "    print(weight_sum[90:100])\n",
    "    print(weight_original[90:100])"
   ]
  },
  {
   "cell_type": "code",
   "execution_count": 92,
   "metadata": {},
   "outputs": [],
   "source": [
    "def weight_calc(llp_ct, new_ctau, old_ctau):\n",
    "    for i, ct in enumerate(old_ctau):\n",
    "        if i == 0: source = np.exp(-1.0*llp_ct/ct)/ct**2\n",
    "        else: source = source + np.exp(-1.0*llp_ct/ct)/ct**2\n",
    "#         print(len(source), len(t1))\n",
    "#     print(source[:10])\n",
    "    weight = len(old_ctau)*1.0/new_ctau**2 * np.exp(-1.0*llp_ct/new_ctau)/source\n",
    "#     print(len(weight))\n",
    "#     print(weight[:10])\n",
    "    return weight"
   ]
  },
  {
   "cell_type": "markdown",
   "metadata": {},
   "source": [
    "# plot ctau"
   ]
  },
  {
   "cell_type": "code",
   "execution_count": 107,
   "metadata": {},
   "outputs": [
    {
     "name": "stdout",
     "output_type": "stream",
     "text": [
      "6000 6000\n",
      "\n",
      "****************************************\n",
      "Minimizer is Minuit / Migrad\n",
      "MinFCN                    =      38.9767\n",
      "Chi2                      =      84.2031\n",
      "NDf                       =           48\n",
      "Edm                       =   1.1184e-08\n",
      "NCalls                    =           92\n",
      "Constant                  =       7.6796   +/-   0.0184065   \n",
      "Slope                     =   -0.0896752   +/-   0.001164    \n",
      "\n",
      "0.0009611890811472877\n",
      "original ctau is: 111.51352283515563 mm\n",
      "\n",
      "****************************************\n",
      "Minimizer is Minuit / Migrad\n",
      "MinFCN                    =      10.4846\n",
      "Chi2                      =      192.023\n",
      "NDf                       =           48\n",
      "Edm                       =  5.02655e-08\n",
      "NCalls                    =           95\n",
      "Constant                  =      8.25775   +/-   0.0204515   \n",
      "Slope                     =    -0.184117   +/-   0.00263146  \n",
      "\n",
      "3.9876883334423763e-19\n",
      "new ctau is: 54.31330814410174 mm\n"
     ]
    },
    {
     "name": "stderr",
     "output_type": "stream",
     "text": [
      "Warning in <TCanvas::Constructor>: Deleting canvas with same name: c\n"
     ]
    },
    {
     "data": {
      "image/png": "[encoded data removed]",
      "text/plain": [
       "<IPython.core.display.Image object>"
      ]
     },
     "metadata": {},
     "output_type": "display_data"
    }
   ],
   "source": [
    "\n",
    "c = rt.TCanvas('c','c', 800, 800)\n",
    "# h.SetStats(0)\n",
    "leg = rt.TLegend(0.60,0.80,0.90,0.90)\n",
    "leg.SetTextSize(0.022)\n",
    "leg.SetBorderSize(0)\n",
    "\n",
    "leg.SetEntrySeparation(0.01)\n",
    "h = {}\n",
    "rt.gStyle.SetOptFit(1011)\n",
    "\n",
    "k = 'ctau100'\n",
    "# bins = [50,0,1000]\n",
    "# print(ctau[k].shape)\n",
    "# h[k] = create_TH1D( ctau[k].flatten(), axis_title=['c#tau [cm]', 'Events'], name=k, binning=bins)\n",
    "# w = np.transpose(np.vstack((weight[k],weight[k])))\n",
    "# h[k+'weight'] = create_TH1D( ctau[k].flatten(), axis_title=['c#tau [cm]', 'Events'], name=k+'weight', binning=bins,weights = w.flatten())\n",
    "\n",
    "# bins = [50,0,5000]\n",
    "# h[k] = create_TH1D( gLLP_decay_vertex[k].flatten(), axis_title=['decay vertex [cm]', 'Events'], name=k, binning=bins)\n",
    "# w = np.transpose(np.vstack((weight[k],weight[k])))\n",
    "# h[k+'weight'] = create_TH1D( gLLP_decay_vertex[k].flatten(), axis_title=['decay vertex [cm]', 'Events'], name=k+'weight', binning=bins,weights = w.flatten())\n",
    "\n",
    "bins = [50,0,200]\n",
    "h[k] = create_TH1D( ctau_sum.flatten(), axis_title=['ctau [mm]', 'Events'], name=k, binning=bins)\n",
    "w = np.transpose(np.vstack((weight_sum,weight_sum)))\n",
    "print(len(w.flatten()), len(ctau_sum.flatten()))\n",
    "h[k+'weight'] = create_TH1D( ctau_sum.flatten(), axis_title=['decay vertex [cm]', 'Events'], name=k+'weight', binning=bins,weights = w.flatten())\n",
    "h[k].SetMaximum(10000)\n",
    "# bins = [50,0,10000]\n",
    "# h[k] = create_TH1D( gamma[k].flatten(), axis_title=['#gamma[cm]', 'Events'], name=k, binning=bins)\n",
    "# w = np.transpose(np.vstack((weight[k],weight[k])))\n",
    "# h[k+'weight'] = create_TH1D( gamma[k].flatten(), axis_title=['decay vertex [cm]', 'Events'], name=k+'weight', binning=bins,weights = w.flatten())\n",
    "\n",
    "\n",
    "\n",
    "h[k].SetLineColor(std_color_list[0])\n",
    "h[k+'weight'].SetLineColor(std_color_list[1])\n",
    "\n",
    "leg.AddEntry(h[k], k)\n",
    "leg.AddEntry(h[k+'weight'],k+' weighted')\n",
    "# #     h[k].SetMinimum(1)\n",
    "# h[k].GetXaxis().SetLabelSize(0.04)\n",
    "r = h[k].Fit('expo', 'LRSQ+0', '', 0,1000)\n",
    "print(r.Get())\n",
    "print(r.Prob())\n",
    "# h[k].GetFunction(\"expo\").SetLineColor(std_color_list[0])\n",
    "# h[k].GetFunction(\"expo\").SetLineStyle(2)\n",
    "# h[k].GetFunction(\"expo\").SetLineWidth(2)\n",
    "print('original ctau is: '+str(-1.0/r.Parameter(1)*10)+' mm')\n",
    "h[k].Draw()\n",
    "# h[k].GetFunction(\"expo\").Delete()\n",
    "\n",
    "r = h[k+'weight'].Fit('expo', 'LRSQ+0', 'a', 0,1000)\n",
    "print(r.Get())\n",
    "print(r.Prob())\n",
    "\n",
    "print('new ctau is: '+str(-1.0/r.Parameter(1)*10)+' mm')\n",
    "h[k+'weight'].Draw('same hist')\n",
    "\n",
    "\n",
    "leg.Draw('same')\n",
    "c.SetLogy()\n",
    "\n",
    "\n",
    "c.Draw()\n",
    "\n",
    "    \n",
    "    \n",
    "\n",
    "\n",
    "# c.Draw()\n",
    "# print(time.time()-start_t)"
   ]
  },
  {
   "cell_type": "markdown",
   "metadata": {},
   "source": [
    "[p8761zgjiop-+\n",
    "# compare other variables"
   ]
  },
  {
   "cell_type": "code",
   "execution_count": 100,
   "metadata": {},
   "outputs": [
    {
     "name": "stderr",
     "output_type": "stream",
     "text": [
      "Warning in <TCanvas::Constructor>: Deleting canvas with same name: c\n",
      "Warning in <TROOT::Append>: Replacing existing TH1: bbbb (Potential memory leak).\n"
     ]
    },
    {
     "data": {
      "image/png": "[encoded data removed]",
      "text/plain": [
       "<IPython.core.display.Image object>"
      ]
     },
     "metadata": {},
     "output_type": "display_data"
    }
   ],
   "source": [
    "# Plotting ncsc\n",
    "start_t = time.time()\n",
    "c = rt.TCanvas('c','c', 1000, 800)\n",
    "h = {}\n",
    "# leg = rt.TLegend(0.50,0.75,0.97,0.93)\n",
    "leg = rt.TLegend(0.58,0.70,0.94,0.85)\n",
    "leg.SetTextSize(0.022)\n",
    "# leg.SetTextFont(42)\n",
    "leg.SetEntrySeparation(0.01)\n",
    "\n",
    "i = 0\n",
    "k = 'data_intime'\n",
    "\n",
    "# h[k] = create_TH2D(np.column_stack((angle[k][cond],jetPt[k][cond][:,0])), axis_title = ['\\Delta\\phi (jet,met)','jet p_{T}[GeV]','Events'], binning=[80,-3.14,3.14,100,0,2000])\n",
    "h[k] = create_TH2D(np.column_stack(( nCsc_JetMuonVetoCluster0p4_Me1112Veto[k], dphiMet_cluster[k])),\n",
    "                   axis_title = ['N_{rechits}','\\Delta\\phi (cluster,met)','Events'], binning=[50,0,600,50,0,3.14])\n",
    "\n",
    "\n",
    "h[k].GetXaxis().SetLabelSize(0.04)\n",
    "\n",
    "\n",
    "\n",
    "\n",
    "h[k].SetLineColor(std_color_list[i])\n",
    "# leg.AddEntry(h[k], k)\n",
    "#     h[k].SetMaximum(10E5)\n",
    "#     h[k].SetMinimum(1)\n",
    "h[k].Draw('colz')\n",
    "c.SetRightMargin(0.2)\n",
    "\n",
    "\n",
    "\n",
    "# if setlog: \n",
    "c.SetLogz()\n",
    "c.Draw()\n",
    "print(time.time()-start_t)"
   ]
  },
  {
   "cell_type": "code",
   "execution_count": null,
   "metadata": {},
   "outputs": [],
   "source": []
  }
 ],
 "metadata": {
  "kernelspec": {
   "display_name": "Python 3",
   "language": "python",
   "name": "python3"
  },
  "language_info": {
   "codemirror_mode": {
    "name": "ipython",
    "version": 3
   },
   "file_extension": ".py",
   "mimetype": "text/x-python",
   "name": "python",
   "nbconvert_exporter": "python",
   "pygments_lexer": "ipython3",
   "version": "3.6.8"
  }
 },
 "nbformat": 4,
 "nbformat_minor": 4
}
