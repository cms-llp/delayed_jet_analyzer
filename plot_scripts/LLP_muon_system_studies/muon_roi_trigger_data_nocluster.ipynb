{
 "cells": [
  {
   "cell_type": "code",
   "execution_count": 1,
   "metadata": {},
   "outputs": [],
   "source": [
    "# Master File for Offline Studies on Muon System LLP Decays (sans clustering)\n",
    "\n",
    "# Coders: Nathan Suri, Caltech; Cristian Pena, Caltech/Fermilab\n",
    "# Date: July 2019\n",
    "# LPC LLP Group\n",
    "\n",
    "# Description\n",
    "# Meant for initially dealing with large data files\n",
    "\n",
    "# Action Plan\n",
    "#\n",
    "\n",
    "# Notes/Conclusions\n",
    "# @nasurijr: Barrel acceptance (theoretical rationale, data supports acceptance trend)"
   ]
  },
  {
   "cell_type": "code",
   "execution_count": 2,
   "metadata": {},
   "outputs": [
    {
     "name": "stdout",
     "output_type": "stream",
     "text": [
      "Username: nasurijr\n"
     ]
    }
   ],
   "source": [
    "# Setups pwd location for data files and imports of special ROOT utilities\n",
    "\n",
    "work_location = input(\"Username: \")\n",
    "if work_location == 'nasurijr':\n",
    "    pwd = '/nfshome/nasurijr/LLP_analysis/delayed_jet_analyzer/'\n",
    "# elif work_location == '<Insert Tier2 username here>':\n",
    "#     pwd = '/home/cms/delayed_jet_analyzer/'"
   ]
  },
  {
   "cell_type": "markdown",
   "metadata": {},
   "source": [
    "# Imports"
   ]
  },
  {
   "cell_type": "code",
   "execution_count": 99,
   "metadata": {
    "scrolled": false
   },
   "outputs": [
    {
     "data": {
      "text/html": [
       "<style>.container { width:85% !important; }</style>"
      ],
      "text/plain": [
       "<IPython.core.display.HTML object>"
      ]
     },
     "metadata": {},
     "output_type": "display_data"
    }
   ],
   "source": [
    "# Imports necessary utilities and modules\n",
    "\n",
    "import ROOT as rt\n",
    "import root_numpy as rtnp\n",
    "import numpy as np\n",
    "from matplotlib import pyplot as plt\n",
    "from scipy.spatial.distance import cdist\n",
    "from collections import Counter \n",
    "import datetime\n",
    "import pytz\n",
    "\n",
    "# Graph/histo utilities from ROOT\n",
    "# Contained within the delayed_jet_analyzer repository\n",
    "import sys\n",
    "sys.path.append(pwd+'lib')\n",
    "from histo_utilities import create_TH1D, create_TH2D, create_TGraph, std_color_list\n",
    "\n",
    "# Used for extracting the TTree structure from each datafile\n",
    "import os\n",
    "import uproot\n",
    "\n",
    "# Sets display width\n",
    "from IPython.core.display import display, HTML\n",
    "display(HTML(\"<style>.container { width:85% !important; }</style>\"))\n",
    "\n",
    "donotdelete = []"
   ]
  },
  {
   "cell_type": "markdown",
   "metadata": {},
   "source": [
    "# Read in and Extract TTrees from Datafiles"
   ]
  },
  {
   "cell_type": "code",
   "execution_count": 4,
   "metadata": {},
   "outputs": [
    {
     "name": "stdout",
     "output_type": "stream",
     "text": [
      "2019-07-29 09:18:34.627039-07:00\n",
      "qcd /nfshome/nasurijr/LLP_analysis/delayed_jet_analyzer/data/jet_timing_studies_ntuple_RunIIFall17DRPremix_QCD_Pt_170to300_TuneCP5_13TeV_pythia8_1.root\n",
      "2019-07-29 09:18:34.786368-07:00\n",
      "zeroBias /nfshome/nasurijr/LLP_analysis/delayed_jet_analyzer/data/jet_timing_studies_ZeroBias_Run2018AB_complete.root\n",
      "2019-07-29 09:18:39.355981-07:00\n",
      "m50ct1000mm /nfshome/nasurijr/LLP_analysis/delayed_jet_analyzer/data/jet_timing_studies_ntuple_metbb_ggh_ISR_mh125_mx50_pl1000_ev100000.root\n",
      "2019-07-29 09:18:39.555327-07:00\n",
      "m50ct10000mm /nfshome/nasurijr/LLP_analysis/delayed_jet_analyzer/data/jet_timing_studies_ntuple_metbb_ggh_ISR_mh125_mx50_pl10000_ev100000.root\n",
      "2019-07-29 09:18:39.713763-07:00\n",
      "m975ct1000mm /nfshome/nasurijr/LLP_analysis/delayed_jet_analyzer/data/jet_timing_studies_ntuple_metbb_ggh_ISR_mh2000_mx975_pl1000_ev100000.root\n",
      "2019-07-29 09:18:39.879474-07:00\n",
      "m975ct10000mm /nfshome/nasurijr/LLP_analysis/delayed_jet_analyzer/data/jet_timing_studies_ntuple_metbb_ggh_ISR_mh2000_mx975_pl10000_ev100000.root\n"
     ]
    }
   ],
   "source": [
    "# Setups dictionaries for storing data from MC/data ntuples\n",
    "fpath = {}\n",
    "tree = {}\n",
    "\n",
    "data_path = pwd+'data/'\n",
    "\n",
    "# Background Samples\n",
    "fpath['qcd'] = data_path +'jet_timing_studies_ntuple_RunIIFall17DRPremix_QCD_Pt_170to300_TuneCP5_13TeV_pythia8_1.root'\n",
    "\n",
    "# Small subset of B samples for quick runs/tests\n",
    "# fpath['zeroBias'] = data_path + 'jet_timing_studies_ZeroBias_Run2018B_112_dec.root'\n",
    "# # Complete set of A and B ZeroBias samples (time-intensive to run)\n",
    "fpath['zeroBias'] = data_path + 'jet_timing_studies_ZeroBias_Run2018AB_complete.root'\n",
    "\n",
    "################################################################\n",
    "\n",
    "# Signal Samples\n",
    "# mH = 125 GeV, mX = 50 GeV, ctau = 1 m\n",
    "fpath['m50ct1000mm'] = data_path+'jet_timing_studies_ntuple_metbb_ggh_ISR_mh125_mx50_pl1000_ev100000.root'\n",
    "\n",
    "# mH = 125 GeV, mX = 50 GeV, ctau = 10 m\n",
    "fpath['m50ct10000mm'] = data_path+'jet_timing_studies_ntuple_metbb_ggh_ISR_mh125_mx50_pl10000_ev100000.root'\n",
    "\n",
    "# mH = 2000 GeV, mX = 975 GeV, ctau = 1 m\n",
    "fpath['m975ct1000mm'] = data_path+'jet_timing_studies_ntuple_metbb_ggh_ISR_mh2000_mx975_pl1000_ev100000.root'\n",
    "\n",
    "# mH = 2000 GeV, mX = 975 GeV, ctau = 10 m\n",
    "fpath['m975ct10000mm'] = data_path+'jet_timing_studies_ntuple_metbb_ggh_ISR_mh2000_mx975_pl10000_ev100000.root'\n",
    "\n",
    "# Iterates through each file and extracts the ROOT TTree structure from each\n",
    "for k,v in fpath.items():\n",
    "    print(str(datetime.datetime.now(pytz.timezone('US/Pacific'))))\n",
    "    print(k, v)\n",
    "    root_dir = uproot.open(v) \n",
    "    tree[k] = root_dir['ntuples']['llp']\n",
    "    # Accesses the array form of the jetPt branch\n",
    "#     a = tree[k][\"jetPt\"].array()\n",
    "#     print(a[:-1][0])"
   ]
  },
  {
   "cell_type": "markdown",
   "metadata": {},
   "source": [
    "## Name TTree Objects"
   ]
  },
  {
   "cell_type": "code",
   "execution_count": 5,
   "metadata": {},
   "outputs": [],
   "source": [
    "# Bookkeeping: Defines the TTrees from the read datafiles\n",
    "# Names displayed in README.md table\n",
    "\n",
    "T = tree['m50ct1000mm']\n",
    "T_bkg = tree['qcd']\n",
    "T_minBias = tree['zeroBias']\n",
    "T_low_ctau10 = tree['m50ct10000mm']\n",
    "T_high_ctau1 = tree['m975ct1000mm']\n",
    "T_high_ctau10 = tree['m975ct10000mm']"
   ]
  },
  {
   "cell_type": "markdown",
   "metadata": {},
   "source": [
    "## Jet Pt Calculations"
   ]
  },
  {
   "cell_type": "code",
   "execution_count": 6,
   "metadata": {},
   "outputs": [],
   "source": [
    "#get first jet pt per event\n",
    "first_jet_pt = [x[0] if len(x) else -1 for x in T['jetPt'].array()]\n",
    "\n",
    "#get max jet pt per event\n",
    "max_jet_pt = [np.max(np.abs(x)) if len(x) else -1 for x in T['gLLP_decay_vertex_z'].array()]\n",
    "\n",
    "#store jet-pt array per event in a list\n",
    "first_jet_pt_arr = []\n",
    "for x in T['jetPt'].array():\n",
    "    if len(x) == 0:\n",
    "        break\n",
    "    first_jet_pt_arr.append(x[0])"
   ]
  },
  {
   "cell_type": "markdown",
   "metadata": {},
   "source": [
    "# Define Variables and Name Datafiles "
   ]
  },
  {
   "cell_type": "code",
   "execution_count": 227,
   "metadata": {},
   "outputs": [],
   "source": [
    "# Variable Definitions\n",
    "# Creates dictionaries for variables to be analyzed\n",
    "# The dictionaries will contain the variable arrays for each datafile with a relevant key\n",
    "\n",
    "# CSC\n",
    "nCsc = {}\n",
    "csc_z = {}\n",
    "csc_x = {}\n",
    "csc_y = {}\n",
    "csc_eta = {}\n",
    "csc_phi = {}\n",
    "# Gen Level\n",
    "gLLP_eta = {}\n",
    "gLLP_r = {}\n",
    "gLLP_decay = {}\n",
    "eventNum_endcap = {}\n",
    "lumiNum_endcap = {}\n",
    "eventNum_barrel = {}\n",
    "lumiNum_barrel = {}\n",
    "eventNum_bkg = {}\n",
    "lumiNum_bkg = {}\n",
    "ncsc_barrel = {}\n",
    "gLLPr = {}\n",
    "\n",
    "# Drift Tube (DT)\n",
    "nDt = {}\n",
    "dt_phi = {}\n",
    "dt_eta = {}\n",
    "dt_z = {}\n",
    "dt_x = {}\n",
    "dt_y = {}\n",
    "# RPC\n",
    "nRpc = {}\n",
    "rpc_phi = {}\n",
    "rpc_eta = {}\n",
    "rpc_z = {}\n",
    "rpc_x = {}\n",
    "rpc_y = {}"
   ]
  },
  {
   "cell_type": "code",
   "execution_count": 228,
   "metadata": {},
   "outputs": [],
   "source": [
    "# Bookkeeping: Creates a dictionary for iterating over all of the datafiles and \n",
    "#              converting the relevant branches to numpy arrays\n",
    "# Names displayed in README.md table\n",
    "\n",
    "data_trees = {'m50ct1m': T, 'qcd': T_bkg, 'zeroBias':T_minBias, 'm50ct10m': T_low_ctau10, 'm975ct1m': T_high_ctau1, 'm975ct10m': T_high_ctau10}"
   ]
  },
  {
   "cell_type": "markdown",
   "metadata": {},
   "source": [
    "# Event Selection"
   ]
  },
  {
   "cell_type": "markdown",
   "metadata": {},
   "source": [
    "## TBranch -> np.array() Conversion"
   ]
  },
  {
   "cell_type": "code",
   "execution_count": 229,
   "metadata": {
    "scrolled": false
   },
   "outputs": [
    {
     "name": "stdout",
     "output_type": "stream",
     "text": [
      "Start: 2019-07-29 18:45:44.676133-07:00\n",
      "m50ct1m: 2019-07-29 18:45:45.130277-07:00\n",
      "qcd: 2019-07-29 18:45:47.117504-07:00\n",
      "zeroBias: 2019-07-29 19:49:17.597558-07:00\n",
      "m50ct10m: 2019-07-29 19:49:18.643901-07:00\n",
      "m975ct1m: 2019-07-29 19:49:19.015115-07:00\n",
      "m975ct10m: 2019-07-29 19:49:19.630413-07:00\n"
     ]
    }
   ],
   "source": [
    "# Event Selection\n",
    "\n",
    "print('Start: ' + str(datetime.datetime.now(pytz.timezone('US/Pacific'))))\n",
    "\n",
    "# MET+bb Final State\n",
    "if 'metbb' in fpath['m50ct1000mm']:\n",
    "    for species, arbor in data_trees.items():\n",
    "        \n",
    "        gLLP_r[species] = np.sqrt((arbor['gLLP_decay_vertex_x'].array()[:,0])**2+(arbor['gLLP_decay_vertex_y'].array()[:,0])**2)\n",
    "        gLLP_decay[species] = np.sqrt((arbor['gLLP_decay_vertex_x'].array()[:,0])**2+(arbor['gLLP_decay_vertex_y'].array()[:,0])**2 + (arbor['gLLP_decay_vertex_z'].array()[:,0])**2)\n",
    "        \n",
    "        # Endcap Signal Event Selection: Requires that the bb-decaying LLP decays within the endcap of the muon system        \n",
    "        sel_csc = np.logical_and(np.absolute(arbor['gLLP_decay_vertex_z'].array()[:,0]) > 568 , np.absolute(arbor['gLLP_decay_vertex_z'].array()[:,0]) < 1100)\n",
    "        sel_csc = np.logical_and(sel_csc, np.absolute(arbor['gLLP_eta'].array()[:,0])<2.4)\n",
    "        sel_csc = np.logical_and(sel_csc, np.absolute(arbor['gLLP_eta'].array()[:,0])>0.9)\n",
    "        sel_csc = np.logical_and(sel_csc, np.absolute(gLLP_r[species])<695.5)\n",
    "\n",
    "        # Barrel Signal Event Selection: Requires that the bb-decaying LLP decays within the barrel of the muon system        \n",
    "        sel_barrel = np.logical_and(np.absolute(arbor['gLLP_decay_vertex_z'].array()[:,0]) > -661 , np.absolute(arbor['gLLP_decay_vertex_z'].array()[:,0]) < 661)\n",
    "        sel_barrel = np.logical_and(sel_barrel, np.absolute(gLLP_r[species])<738)\n",
    "        sel_barrel = np.logical_and(sel_barrel, np.absolute(gLLP_r[species])>380)\n",
    "\n",
    "        # Overlap Signal Event Selection: Requires that the bb-decaying LLP decays within the overlap of the barrel\n",
    "        #                                 and endcap of the muon system\n",
    "        sel_rpc = np.logical_and(np.absolute(arbor['gLLP_decay_vertex_z'].array()[:,0]) > 0 , np.absolute(arbor['gLLP_decay_vertex_z'].array()[:,0]) < 1100)\n",
    "        sel_rpc = np.logical_and(sel_rpc, np.absolute(arbor['gLLP_eta'].array()[:,0])<1.6)\n",
    "        sel_rpc = np.logical_and(sel_rpc, np.absolute(gLLP_r[species])<738)\n",
    "        sel_rpc = np.logical_and(sel_rpc, np.absolute(gLLP_r[species])>275)\n",
    "\n",
    "        # Total Muon System Signal Event Selection: Logical or of barrel and endcap gen-level restrictions\n",
    "        sel_dis_signal = np.logical_or(sel_csc, sel_barrel)\n",
    "\n",
    "        # Converts variable branches to numpy arrays with event selection\n",
    "        # Signal conversions\n",
    "        if species in ('m50ct1m', 'm50ct10m', 'm975ct1m', 'm975ct10m'):\n",
    "            # Endcap: CSCs\n",
    "            nCsc[species] = arbor['nCsc'].array()[sel_csc]\n",
    "            csc_z[species] = arbor['cscZ'].array()[sel_csc]\n",
    "            csc_x[species] = arbor['cscX'].array()[sel_csc]\n",
    "            csc_y[species] = arbor['cscY'].array()[sel_csc]\n",
    "            csc_eta[species] = arbor['cscEta'].array()[sel_csc]\n",
    "            csc_phi[species] = arbor['cscPhi'].array()[sel_csc]\n",
    "            \n",
    "            # Gen-level\n",
    "            gLLP_eta[species] = arbor['gLLP_eta'].array()[:,0][sel_csc]\n",
    "            eventNum_endcap[species] = arbor['eventNum'].array()[sel_csc]\n",
    "            lumiNum_endcap[species] = arbor['lumiNum'].array()[sel_csc]\n",
    "            \n",
    "            eventNum_barrel[species] = arbor['eventNum'].array()[sel_barrel]\n",
    "            lumiNum_barrel[species] = arbor['lumiNum'].array()[sel_barrel]\n",
    "            gLLPr[species] = gLLP_r[species][sel_barrel]\n",
    "            ncsc_barrel = arbor['nCsc'].array()[sel_barrel]\n",
    "            \n",
    "            # Barrel: DTs\n",
    "            nDt[species] = arbor['nDt'].array()[sel_barrel]\n",
    "            dt_z[species] = arbor['dtZ'].array()[sel_barrel]\n",
    "            dt_x[species] = arbor['dtX'].array()[sel_barrel]\n",
    "            dt_y[species] = arbor['dtY'].array()[sel_barrel]\n",
    "            dt_eta[species] = arbor['dtEta'].array()[sel_barrel]\n",
    "            dt_phi[species] = arbor['dtPhi'].array()[sel_barrel]\n",
    "            \n",
    "            # Overlap: RPCs\n",
    "            nRpc[species] = arbor['nRpc'].array()[sel_rpc]\n",
    "            rpc_z[species] = arbor['rpcZ'].array()[sel_rpc]\n",
    "            rpc_x[species] = arbor['rpcX'].array()[sel_rpc]\n",
    "            rpc_y[species] = arbor['rpcY'].array()[sel_rpc]\n",
    "            rpc_eta[species] = arbor['rpcEta'].array()[sel_rpc]\n",
    "            rpc_phi[species] = arbor['rpcPhi'].array()[sel_rpc]\n",
    "        \n",
    "        # Background conversions\n",
    "        if species in ('qcd', 'zeroBias'):\n",
    "            # Background event selection: Requires at least one jet per event to have pT > 50 GeV\n",
    "            sel_bkg = [True if np.any(x > 50) else False for x in arbor['jetPt'].array()]\n",
    "            \n",
    "            # Endcap: CSCs\n",
    "            nCsc[species] = arbor['nCsc'].array()[sel_bkg]\n",
    "            csc_z[species] = arbor['cscZ'].array()[sel_bkg]\n",
    "            csc_x[species] = arbor['cscX'].array()[sel_bkg]\n",
    "            csc_y[species] = arbor['cscY'].array()[sel_bkg]\n",
    "            csc_eta[species] = arbor['cscEta'].array()[sel_bkg]\n",
    "            csc_phi[species] = arbor['cscPhi'].array()[sel_bkg]\n",
    "            gLLP_eta[species] = arbor['gLLP_eta'].array()[:,0][sel_bkg]\n",
    "            \n",
    "            # Gen-level\n",
    "            eventNum_bkg[species] = arbor['eventNum'].array()[sel_bkg]\n",
    "            lumiNum_bkg[species] = arbor['lumiNum'].array()[sel_bkg]\n",
    "            \n",
    "            # Barrel: DTs\n",
    "            nDt[species] = arbor['nDt'].array()[sel_bkg]\n",
    "            dt_z[species] = arbor['dtZ'].array()[sel_bkg]\n",
    "            dt_x[species] = arbor['dtX'].array()[sel_bkg]\n",
    "            dt_y[species] = arbor['dtY'].array()[sel_bkg]\n",
    "            dt_eta[species] = arbor['dtEta'].array()[sel_bkg]\n",
    "            dt_phi[species] = arbor['dtPhi'].array()[sel_bkg]\n",
    "            \n",
    "            # Overlap: RPCs\n",
    "            nRpc[species] = arbor['nRpc'].array()[sel_bkg]\n",
    "            rpc_z[species] = arbor['rpcZ'].array()[sel_bkg]\n",
    "            rpc_x[species] = arbor['rpcX'].array()[sel_bkg]\n",
    "            rpc_y[species] = arbor['rpcY'].array()[sel_bkg]\n",
    "            rpc_eta[species] = arbor['rpcEta'].array()[sel_bkg]\n",
    "            rpc_phi[species] = arbor['rpcPhi'].array()[sel_bkg]\n",
    "        \n",
    "        print(species + ': ' +str(datetime.datetime.now(pytz.timezone('US/Pacific'))))"
   ]
  },
  {
   "cell_type": "markdown",
   "metadata": {},
   "source": [
    "## Endcap Hit Removal"
   ]
  },
  {
   "cell_type": "code",
   "execution_count": 230,
   "metadata": {},
   "outputs": [
    {
     "name": "stdout",
     "output_type": "stream",
     "text": [
      "m50ct1m: 2019-07-29 19:54:15.922256-07:00\n",
      "qcd: 2019-07-29 19:54:23.821027-07:00\n",
      "zeroBias: 2019-07-29 19:56:16.679444-07:00\n",
      "m50ct10m: 2019-07-29 19:56:19.157476-07:00\n",
      "m975ct1m: 2019-07-29 19:56:19.175418-07:00\n",
      "m975ct10m: 2019-07-29 19:56:24.180563-07:00\n"
     ]
    }
   ],
   "source": [
    "# Hit Removal\n",
    "# For both the endcap and barrel regions (overlap to be determined), the closest stations to the beamspot are the noisiest.\n",
    "# Thus, we remove the hits that land in these stations for each event in each datafile.\n",
    "\n",
    "# Endcap\n",
    "nCsc_station = {}\n",
    "nCsc_removal = {}\n",
    "\n",
    "# Loops over every datafile\n",
    "for files in data_trees.keys():\n",
    "    # Endcap\n",
    "    nCsc_station[files] = {}\n",
    "    nCsc_station[files]['ME_11'] = []\n",
    "    nCsc_station[files]['ME_12'] = []\n",
    "    nCsc_station[files]['ME_13'] = []\n",
    "    \n",
    "    # Loops over every event in each datafile\n",
    "    for pos_bool in range(len(csc_z[files])):\n",
    "        csc_r = np.sqrt(csc_x[files][pos_bool]**2+csc_y[files][pos_bool]**2)\n",
    "        z_pos_bool = csc_z[files][pos_bool]\n",
    "        \n",
    "        counter_me11 = 0\n",
    "        counter_me12 = 0\n",
    "        counter_me13 = 0\n",
    "        \n",
    "        # Loops over every hit in each event\n",
    "        for z_ind in range(len(z_pos_bool)):\n",
    "            z_bool = np.absolute(z_pos_bool[z_ind])\n",
    "            # ME 1/1 Constraints\n",
    "            if z_bool > 568 and z_bool < 632:\n",
    "                counter_me11 += 1\n",
    "                \n",
    "            if z_bool > 663 and z_bool < 724:\n",
    "                # ME 1/2 Constraints\n",
    "                if csc_r[z_ind] < 465 and csc_r[z_ind] > 275:\n",
    "                    counter_me12 += 1\n",
    "                # ME 1/3 Constraints\n",
    "                if csc_r[z_ind] < 695.5 and csc_r[z_ind] > 505.5:\n",
    "                    counter_me13 += 1\n",
    "                    \n",
    "        nCsc_station[files]['ME_11'].append(counter_me11)\n",
    "        nCsc_station[files]['ME_12'].append(counter_me12)\n",
    "        nCsc_station[files]['ME_13'].append(counter_me13)\n",
    "    \n",
    "    # nCsc dictionaries containing hits removed labelled by removed stations\n",
    "    nCsc_removal[files] = {}\n",
    "    nCsc_removal[files]['ME_11'] = np.array(nCsc[files]) - np.array(nCsc_station[files]['ME_11'])\n",
    "    nCsc_removal[files]['ME_112'] = np.array(nCsc[files]) - (np.array(nCsc_station[files]['ME_11']) + np.array(nCsc_station[files]['ME_12']))\n",
    "    nCsc_removal[files]['ME_1123'] = np.array(nCsc[files]) - (np.array(nCsc_station[files]['ME_11']) + np.array(nCsc_station[files]['ME_12']) + np.array(nCsc_station[files]['ME_13']))\n",
    "    \n",
    "    print(files + ': ' +str(datetime.datetime.now(pytz.timezone('US/Pacific'))))"
   ]
  },
  {
   "cell_type": "markdown",
   "metadata": {},
   "source": [
    "## Barrel Hit Removal"
   ]
  },
  {
   "cell_type": "code",
   "execution_count": 231,
   "metadata": {},
   "outputs": [
    {
     "name": "stdout",
     "output_type": "stream",
     "text": [
      "m50ct1m: 2019-07-29 19:56:24.449274-07:00\n",
      "qcd: 2019-07-29 19:56:29.035122-07:00\n",
      "zeroBias: 2019-07-29 19:58:44.590713-07:00\n",
      "m50ct10m: 2019-07-29 19:58:46.248981-07:00\n",
      "m975ct1m: 2019-07-29 19:58:46.249153-07:00\n",
      "m975ct10m: 2019-07-29 19:58:47.112016-07:00\n"
     ]
    }
   ],
   "source": [
    "# Hit removal done identically to that of the endcap\n",
    "\n",
    "# Barrel\n",
    "nDt_station = {}\n",
    "nDt_removal = {}\n",
    "\n",
    "# Loops over every datafile\n",
    "for files in data_trees.keys():\n",
    "    # Barrel\n",
    "    nDt_station[files] = {}\n",
    "    nDt_station[files]['MB_1'] = []\n",
    "    nDt_station[files]['MB_2'] = []\n",
    "    nDt_station[files]['MB_3'] = []\n",
    "    nDt_station[files]['MB_4'] = []\n",
    "    \n",
    "    # Loops over every event in each datafile\n",
    "    for pos_bool in range(len(dt_z[files])):\n",
    "        dt_r = np.sqrt(dt_x[files][pos_bool]**2+dt_y[files][pos_bool]**2)\n",
    "        z_pos_bool = dt_z[files][pos_bool]\n",
    "        \n",
    "        counter_mb1 = 0\n",
    "        counter_mb2 = 0\n",
    "        counter_mb3 = 0\n",
    "        counter_mb4 = 0\n",
    "        \n",
    "        # Loops over every hit in each event\n",
    "        for z_ind in range(len(z_pos_bool)):\n",
    "            z_bool = np.absolute(z_pos_bool[z_ind])\n",
    "            if z_bool > -661 and z_bool < 661:\n",
    "                \n",
    "                # MB 1 Constraints\n",
    "                if dt_r[z_ind] < 449 and dt_r[z_ind] > 402:\n",
    "                    counter_mb1 += 1\n",
    "                # MB 2 Constraints\n",
    "                if dt_r[z_ind] < 533.5 and dt_r[z_ind] > 490.5:\n",
    "                    counter_mb2 += 1\n",
    "                # MB 3 Constraints\n",
    "                if dt_r[z_ind] < 636 and dt_r[z_ind] > 597.5:\n",
    "                    counter_mb3 += 1\n",
    "                # MB 4 Constraints\n",
    "                if dt_r[z_ind] < 738 and dt_r[z_ind] > 700:\n",
    "                    counter_mb4 += 1\n",
    "                    \n",
    "        nDt_station[files]['MB_1'].append(counter_mb1)\n",
    "        nDt_station[files]['MB_2'].append(counter_mb2)\n",
    "        nDt_station[files]['MB_3'].append(counter_mb3)\n",
    "        nDt_station[files]['MB_4'].append(counter_mb4)    \n",
    "    \n",
    "    # nDt dictionaries containing hits removed labelled by removed stations\n",
    "    nDt_removal[files] = {}\n",
    "    nDt_removal[files]['MB_1'] = np.array(nDt[files]) - np.array(nDt_station[files]['MB_1'])\n",
    "    nDt_removal[files]['MB_12'] = np.array(nDt[files]) - (np.array(nDt_station[files]['MB_1']) + np.array(nDt_station[files]['MB_2']))\n",
    "    \n",
    "    print(files + ': ' +str(datetime.datetime.now(pytz.timezone('US/Pacific'))))"
   ]
  },
  {
   "cell_type": "markdown",
   "metadata": {},
   "source": [
    "## Calculation of Average Fraction of Hits per DT station"
   ]
  },
  {
   "cell_type": "code",
   "execution_count": 232,
   "metadata": {},
   "outputs": [
    {
     "name": "stderr",
     "output_type": "stream",
     "text": [
      "/usr/local/lib/python3.6/site-packages/ipykernel_launcher.py:15: RuntimeWarning: invalid value encountered in long_scalars\n",
      "  from ipykernel import kernelapp as app\n",
      "/usr/local/lib/python3.6/site-packages/ipykernel_launcher.py:18: RuntimeWarning: invalid value encountered in long_scalars\n",
      "/usr/local/lib/python3.6/site-packages/ipykernel_launcher.py:12: RuntimeWarning: invalid value encountered in long_scalars\n",
      "  if sys.path[0] == '':\n",
      "/usr/local/lib/python3.6/site-packages/ipykernel_launcher.py:24: RuntimeWarning: invalid value encountered in less\n"
     ]
    }
   ],
   "source": [
    "# Determines the evenness of hits distributed across the barrel DT stations by taking the average ratio of nDt for adjacent stations per event\n",
    "\n",
    "nDt_avg_ratio = {}\n",
    "nDt_ratio_cut = {}\n",
    "    \n",
    "for species in data_trees.keys():\n",
    "    nDt_ratio_cut[species] = {}\n",
    "    ratio_mb_12 = []\n",
    "    ratio_mb_23 = []\n",
    "    ratio_mb_34 = []\n",
    "    for event in range(len(nDt_station[species]['MB_1'])):\n",
    "        mb_12_comp = np.min((nDt_station[species]['MB_1'][event], nDt_station[species]['MB_2'][event]))/np.max((nDt_station[species]['MB_1'][event], nDt_station[species]['MB_2'][event]))\n",
    "        ratio_mb_12.append(mb_12_comp)\n",
    "        \n",
    "        mb_23_comp = np.min((nDt_station[species]['MB_2'][event], nDt_station[species]['MB_3'][event]))/np.max((nDt_station[species]['MB_2'][event], nDt_station[species]['MB_3'][event]))\n",
    "        ratio_mb_23.append(mb_23_comp)\n",
    "        \n",
    "        mb_34_comp = np.min((nDt_station[species]['MB_3'][event], nDt_station[species]['MB_4'][event]))/np.max((nDt_station[species]['MB_3'][event], nDt_station[species]['MB_4'][event]))\n",
    "        ratio_mb_34.append(mb_34_comp)\n",
    "\n",
    "    barrel_station_ratio = np.dstack((np.array(ratio_mb_12), np.array(ratio_mb_23), np.array(ratio_mb_34)))\n",
    "    barrel_avg_ratio = np.mean(barrel_station_ratio, axis=2)\n",
    "    nDt_avg_ratio[species] = barrel_avg_ratio\n",
    "    sel_avg_ratio = nDt_avg_ratio[species][0]<7\n",
    "    nDt_ratio_cut[species]['dt_inclusive'] = nDt[species][sel_avg_ratio]\n",
    "    nDt_ratio_cut[species]['no_MB1'] = nDt_removal[species]['MB_1'][sel_avg_ratio]"
   ]
  },
  {
   "cell_type": "markdown",
   "metadata": {},
   "source": [
    "## Calculations for N<sub>CSC, DT, RPC</sub> Threshold ROC Curves"
   ]
  },
  {
   "cell_type": "code",
   "execution_count": 233,
   "metadata": {},
   "outputs": [],
   "source": [
    "# Calculations for ROC Curves for ggH/QCD/ZeroBias Samples: nCsc/nDt/nRpc \n",
    "\n",
    "# Calculates efficiency by calculating the fraction of events that pass nCsc/nDt/nRpc thresholds\n",
    "\n",
    "eff_ncsc = {}\n",
    "eff_ndt = {}\n",
    "eff_nrpc = {}\n",
    "rejection_power = {}\n",
    "ncsc_var_x = np.array([])\n",
    "ndt_var_x = np.array([])\n",
    "\n",
    "# Iterates over every datafile\n",
    "for data_type in data_trees.keys():\n",
    "    eff_ncsc[data_type] = {}\n",
    "    eff_ndt[data_type] = {}\n",
    "    eff_nrpc[data_type] = {}\n",
    "      \n",
    "    # No clustering: Endcap\n",
    "    eff_ncsc[data_type]['noCluster'] = {}\n",
    "    eff_ncsc[data_type]['noCluster']['csc_inclusive'] = np.array([])\n",
    "    eff_ncsc[data_type]['noCluster']['csc_noME11'] = np.array([])\n",
    "    eff_ncsc[data_type]['noCluster']['csc_noME112'] = np.array([])\n",
    "    eff_ncsc[data_type]['noCluster']['csc_noME1123'] = np.array([])\n",
    "    \n",
    "    # No clustering: Barrel\n",
    "    eff_ndt[data_type]['noCluster'] = {}\n",
    "    eff_ndt[data_type]['noCluster_ratioCut'] = {}\n",
    "    \n",
    "    eff_ndt[data_type]['noCluster']['dt_inclusive'] = np.array([])\n",
    "    eff_ndt[data_type]['noCluster']['dt_noMB1'] = np.array([])\n",
    "    eff_ndt[data_type]['noCluster']['dt_noMB12'] = np.array([])\n",
    "    eff_ndt[data_type]['noCluster_ratioCut']['dt_inclusive'] = np.array([])\n",
    "    eff_ndt[data_type]['noCluster_ratioCut']['dt_noMB1'] = np.array([])\n",
    "        \n",
    "    # No clustering: Overlap\n",
    "    eff_nrpc[data_type]['noCluster'] = {}\n",
    "    eff_nrpc[data_type]['noCluster']['rpc_inclusive'] = np.array([])\n",
    "    \n",
    "    for hit_thresh in range(0, 200):\n",
    "        ncsc_var_x = np.append(ncsc_var_x, hit_thresh)\n",
    "        \n",
    "        # No-Clustering ROCs\n",
    "        # Endcap\n",
    "        eff_ncsc[data_type]['noCluster']['csc_inclusive'] = np.append(eff_ncsc[data_type]['noCluster']['csc_inclusive'], np.count_nonzero(np.array(nCsc[data_type])>hit_thresh)/len(nCsc[data_type]))\n",
    "        eff_ncsc[data_type]['noCluster']['csc_noME11'] = np.append(eff_ncsc[data_type]['noCluster']['csc_noME11'], np.count_nonzero(np.array(nCsc_removal[data_type]['ME_11'])>hit_thresh)/len(nCsc_removal[data_type]['ME_11']))\n",
    "        eff_ncsc[data_type]['noCluster']['csc_noME112'] = np.append(eff_ncsc[data_type]['noCluster']['csc_noME112'], np.count_nonzero(np.array(nCsc_removal[data_type]['ME_112'])>hit_thresh)/len(nCsc_removal[data_type]['ME_112']))\n",
    "        eff_ncsc[data_type]['noCluster']['csc_noME1123'] = np.append(eff_ncsc[data_type]['noCluster']['csc_noME1123'], np.count_nonzero(np.array(nCsc_removal[data_type]['ME_1123'])>hit_thresh)/len(nCsc_removal[data_type]['ME_1123']))\n",
    "\n",
    "        # Overlap\n",
    "        eff_nrpc[data_type]['noCluster']['rpc_inclusive'] = np.append(eff_nrpc[data_type]['noCluster']['rpc_inclusive'], np.count_nonzero(np.array(nRpc[data_type])>hit_thresh)/len(nRpc[data_type]))\n",
    "\n",
    "    # Rejection power calculation\n",
    "    rejection_power[data_type] = {}\n",
    "    rejection_power[data_type]['noCluster'] = {}\n",
    "    rejection_power[data_type]['noCluster_ratioCut'] = {}\n",
    "    \n",
    "    # No clustering\n",
    "    rejection_power[data_type]['noCluster']['csc_inclusive'] = np.reciprocal(np.trim_zeros(eff_ncsc[data_type]['noCluster']['csc_inclusive']))\n",
    "    rejection_power[data_type]['noCluster']['csc_noME11'] = np.reciprocal(np.trim_zeros(eff_ncsc[data_type]['noCluster']['csc_noME11']))\n",
    "    rejection_power[data_type]['noCluster']['csc_noME112'] = np.reciprocal(np.trim_zeros(eff_ncsc[data_type]['noCluster']['csc_noME112']))\n",
    "    rejection_power[data_type]['noCluster']['csc_noME1123'] = np.reciprocal(np.trim_zeros(eff_ncsc[data_type]['noCluster']['csc_noME1123']))\n",
    "\n",
    "    rejection_power[data_type]['noCluster']['rpc_inclusive'] = np.reciprocal(np.trim_zeros(eff_nrpc[data_type]['noCluster']['rpc_inclusive']))\n",
    "\n",
    "    # For the high LLP mass, low ctau sample (m975ct1m) , none of the events pass the barrel cut and thus I hard-coded a \n",
    "    # way to avoid divide-by-zero errors later on when plotting ROC curves by simpling not recording any barrel datapoints\n",
    "    # for this sample.\n",
    "    if data_type != 'm975ct1m':\n",
    "        \n",
    "        for hit_thresh in range(0, 200):\n",
    "            ndt_var_x = np.append(ndt_var_x, hit_thresh)\n",
    "            \n",
    "            # No-Clustering ROCs\n",
    "            # Barrel\n",
    "            eff_ndt[data_type]['noCluster']['dt_inclusive'] = np.append(eff_ndt[data_type]['noCluster']['dt_inclusive'], np.count_nonzero(np.array(nDt[data_type])>hit_thresh)/len(nDt[data_type]))\n",
    "            eff_ndt[data_type]['noCluster']['dt_noMB1'] = np.append(eff_ndt[data_type]['noCluster']['dt_noMB1'], np.count_nonzero(np.array(nDt_removal[data_type]['MB_1'])>hit_thresh)/len(nDt_removal[data_type]['MB_1']))\n",
    "            eff_ndt[data_type]['noCluster']['dt_noMB12'] = np.append(eff_ndt[data_type]['noCluster']['dt_noMB12'], np.count_nonzero(np.array(nDt_removal[data_type]['MB_12'])>hit_thresh)/len(nDt_removal[data_type]['MB_12']))\n",
    "            \n",
    "            eff_ndt[data_type]['noCluster_ratioCut']['dt_inclusive'] = np.append(eff_ndt[data_type]['noCluster_ratioCut']['dt_inclusive'], np.count_nonzero(np.array(nDt_ratio_cut[data_type]['dt_inclusive'])>hit_thresh)/len(nDt_ratio_cut[data_type]['dt_inclusive']))\n",
    "            eff_ndt[data_type]['noCluster_ratioCut']['dt_noMB1'] = np.append(eff_ndt[data_type]['noCluster_ratioCut']['dt_noMB1'], np.count_nonzero(np.array(nDt_ratio_cut[data_type]['no_MB1'])>hit_thresh)/len(nDt_ratio_cut[data_type]['no_MB1']))\n",
    "            \n",
    "            \n",
    "        # No clustering\n",
    "        rejection_power[data_type]['noCluster']['dt_inclusive'] = np.reciprocal(np.trim_zeros(eff_ndt[data_type]['noCluster']['dt_inclusive']))\n",
    "        rejection_power[data_type]['noCluster']['dt_noMB1'] = np.reciprocal(np.trim_zeros(eff_ndt[data_type]['noCluster']['dt_noMB1']))\n",
    "        rejection_power[data_type]['noCluster']['dt_noMB12'] = np.reciprocal(np.trim_zeros(eff_ndt[data_type]['noCluster']['dt_noMB12']))\n",
    "        \n",
    "        rejection_power[data_type]['noCluster_ratioCut']['dt_inclusive'] = np.reciprocal(np.trim_zeros(eff_ndt[data_type]['noCluster_ratioCut']['dt_inclusive']))  \n",
    "        rejection_power[data_type]['noCluster_ratioCut']['dt_noMB1'] = np.reciprocal(np.trim_zeros(eff_ndt[data_type]['noCluster_ratioCut']['dt_noMB1']))  "
   ]
  },
  {
   "cell_type": "markdown",
   "metadata": {},
   "source": [
    "## Event Lookup Framework"
   ]
  },
  {
   "cell_type": "code",
   "execution_count": 243,
   "metadata": {
    "scrolled": false
   },
   "outputs": [
    {
     "name": "stdout",
     "output_type": "stream",
     "text": [
      "Lumi Event nCsc gLLP_r\n",
      "[[[  1.                69.               722.0693359375    ]\n",
      "  [ 95.               435.               713.8551025390625 ]\n",
      "  [ 97.               649.               603.6166381835938 ]\n",
      "  [102.               179.               530.6184692382812 ]\n",
      "  [110.               937.               577.9775390625    ]\n",
      "  [115.               446.               615.9126586914062 ]\n",
      "  [118.               791.               497.0569152832031 ]\n",
      "  [146.               588.               482.6181335449219 ]\n",
      "  [148.               717.               543.7179565429688 ]\n",
      "  [156.               514.               730.7180786132812 ]\n",
      "  [900.               902.               688.231689453125  ]\n",
      "  [913.               286.               734.8698120117188 ]\n",
      "  [920.               930.               673.0209350585938 ]\n",
      "  [920.               945.               595.9461669921875 ]\n",
      "  [934.               313.               581.7048950195312 ]\n",
      "  [938.               723.               685.1895141601562 ]\n",
      "  [943.               294.               659.1827392578125 ]\n",
      "  [947.               617.               472.1707763671875 ]\n",
      "  [949.               886.               692.0465087890625 ]\n",
      "  [972.               123.               577.02099609375   ]\n",
      "  [987.               682.               513.4583740234375 ]\n",
      "  [990.               921.               483.4637145996094 ]\n",
      "  [185.               448.               575.7815551757812 ]\n",
      "  [ 13.               285.               594.300537109375  ]\n",
      "  [202.               106.               618.0825805664062 ]\n",
      "  [224.               361.               673.0703735351562 ]\n",
      "  [230.               955.               490.1021728515625 ]\n",
      "  [238.               715.               589.7108154296875 ]\n",
      "  [269.               810.               485.8410339355469 ]\n",
      "  [273.               228.               621.55126953125   ]\n",
      "  [304.               321.               480.6872863769531 ]\n",
      "  [309.               890.               681.6441040039062 ]\n",
      "  [315.               409.               505.6435241699219 ]\n",
      "  [322.               108.               479.6435546875    ]\n",
      "  [332.               157.               485.64056396484375]\n",
      "  [341.                36.               725.7095336914062 ]\n",
      "  [347.               685.               661.693359375     ]\n",
      "  [351.                40.               670.9950561523438 ]\n",
      "  [355.               471.               490.1786804199219 ]\n",
      "  [360.               943.               415.15899658203125]\n",
      "  [384.               398.               506.5538635253906 ]\n",
      "  [387.               655.               583.7720336914062 ]\n",
      "  [ 38.               719.               681.537353515625  ]\n",
      "  [403.               275.               550.7303466796875 ]\n",
      "  [429.               843.               584.378662109375  ]\n",
      "  [456.               588.               578.734130859375  ]\n",
      "  [470.               971.               564.9282836914062 ]\n",
      "  [475.               495.               507.3275146484375 ]\n",
      "  [476.               530.               700.7781372070312 ]\n",
      "  [ 46.               592.               659.910888671875  ]\n",
      "  [503.               291.               709.66845703125   ]\n",
      "  [505.               459.               680.4430541992188 ]\n",
      "  [509.               900.               721.5570678710938 ]\n",
      "  [541.                64.               601.5216674804688 ]\n",
      "  [588.               703.               676.2220458984375 ]\n",
      "  [ 57.               657.               476.79156494140625]\n",
      "  [ 57.               697.               706.133056640625  ]\n",
      "  [601.                38.               623.05712890625   ]\n",
      "  [646.               565.               716.0572509765625 ]\n",
      "  [659.               896.               600.5366821289062 ]\n",
      "  [664.               316.               681.6859130859375 ]\n",
      "  [687.               608.               698.7693481445312 ]\n",
      "  [691.                11.               722.32470703125   ]\n",
      "  [692.               117.               617.0108032226562 ]\n",
      "  [695.               477.               562.480224609375  ]\n",
      "  [710.               988.               560.3822631835938 ]\n",
      "  [717.               694.               661.5722045898438 ]\n",
      "  [728.               745.               730.7966918945312 ]\n",
      "  [732.               109.               732.2495727539062 ]\n",
      "  [739.               871.               688.6096801757812 ]\n",
      "  [742.               138.               382.027587890625  ]\n",
      "  [751.                20.               481.6755065917969 ]\n",
      "  [768.               780.               603.7993774414062 ]\n",
      "  [770.               911.               690.1875          ]\n",
      "  [781.                57.               485.57855224609375]\n",
      "  [795.               436.               645.6380615234375 ]\n",
      "  [795.               461.               476.9767150878906 ]\n",
      "  [796.               514.               692.8097534179688 ]\n",
      "  [802.               167.               672.76416015625   ]\n",
      "  [833.               298.               586.077880859375  ]\n",
      "  [845.               433.               590.3970336914062 ]\n",
      "  [846.               590.               491.0168762207031 ]\n",
      "  [854.               343.               583.6091918945312 ]\n",
      "  [879.               852.               490.9647521972656 ]]]\n"
     ]
    }
   ],
   "source": [
    "# # Selection of Events for Event Display Purposes (Test area)\n",
    "# print(len(eventNum_barrel['m50ct10m']))\n",
    "# print(len(nDt_avg_ratio['m50ct10m'][0]))\n",
    "index_ev = np.where(np.array(nDt['m50ct10m'])==0)\n",
    "print('Lumi ' + 'Event ' + 'nCsc ' + 'gLLP_r')\n",
    "print(np.dstack((lumiNum_barrel['m50ct10m'][index_ev].astype(int), eventNum_barrel['m50ct10m'][index_ev].astype(int), gLLPr['m50ct10m'][index_ev])))"
   ]
  },
  {
   "cell_type": "markdown",
   "metadata": {},
   "source": [
    "# Endcap Offline Study"
   ]
  },
  {
   "cell_type": "markdown",
   "metadata": {},
   "source": [
    "## *Endcap Inclusive N<sub>CSC</sub> Histogram*"
   ]
  },
  {
   "cell_type": "code",
   "execution_count": 197,
   "metadata": {},
   "outputs": [
    {
     "name": "stderr",
     "output_type": "stream",
     "text": [
      "Warning in <TCanvas::Constructor>: Deleting canvas with same name: c\n",
      "Info in <TCanvas::Print>: pdf file ncsc_inclusive_mc_zeroBias.pdf has been created\n",
      "Info in <TCanvas::SaveSource>: C++ Macro file: ncsc_inclusive_mc_zeroBias.C has been generated\n"
     ]
    },
    {
     "data": {
      "image/png": "[encoded data removed]",
      "text/plain": [
       "<IPython.core.display.Image object>"
      ]
     },
     "metadata": {},
     "output_type": "display_data"
    }
   ],
   "source": [
    "# Creates a 1D histogram of the number of CSC hits for the m50ct1m signal MC, QCD MC, and ZeroBias data \n",
    "# with no hit removal\n",
    "\n",
    "c = rt.TCanvas('c','c', 800, 600)\n",
    "h = {}\n",
    "h['nCsc_m50ct1m'] = create_TH1D(nCsc['m50ct1m'], axis_title=['nCsc_m50ct1m', 'Events'], name='nCsc_m50ct1m', binning=[150,0,500])\n",
    "h['nCsc_m50ct1m'].SetLineColor(4)\n",
    "\n",
    "h['nCsc_qcd'] = create_TH1D(nCsc['qcd'], axis_title=['nCsc_qcd', 'Events'], name='nCsc_qcd', binning=[150,0,500])\n",
    "h['nCsc_qcd'].SetLineColor(2)\n",
    "h['nCsc_qcd'].SetLineStyle(2)\n",
    "\n",
    "\n",
    "h['nCsc_zeroBias'] = create_TH1D(nCsc['zeroBias'], axis_title=['nCsc_zeroBias', 'Events'], name='nCsc_zeroBias', binning=[150,0,500])\n",
    "h['nCsc_zeroBias'].SetLineColor(2)\n",
    "h['nCsc_zeroBias'].SetLineStyle(1)\n",
    "\n",
    "c.SetLogy()\n",
    "\n",
    "h['nCsc_m50ct1m'].Scale(1.0/h['nCsc_m50ct1m'].Integral())\n",
    "h['nCsc_qcd'].Scale(1.0/h['nCsc_qcd'].Integral())\n",
    "h['nCsc_zeroBias'].Scale(1.0/h['nCsc_zeroBias'].Integral())\n",
    "\n",
    "\n",
    "h['nCsc_m50ct1m'].SetLineWidth(2)\n",
    "h['nCsc_qcd'].SetLineWidth(2)\n",
    "h['nCsc_zeroBias'].SetLineWidth(2)\n",
    "\n",
    "h['nCsc_m50ct1m'].GetXaxis().SetRangeUser(0,200)\n",
    "h['nCsc_qcd'].GetXaxis().SetRangeUser(0,200)\n",
    "h['nCsc_zeroBias'].GetXaxis().SetRangeUser(0,200)\n",
    "\n",
    "\n",
    "h['nCsc_qcd'].SetStats(0)\n",
    "h['nCsc_qcd'].SetTitle(\"CSC Inclusive\")\n",
    "h['nCsc_qcd'].SetXTitle(\"N_{csc}\")\n",
    "\n",
    "\n",
    "h['nCsc_qcd'].Draw('histo')\n",
    "h['nCsc_m50ct1m'].Draw('histo+same')\n",
    "h['nCsc_zeroBias'].Draw('histo+same')\n",
    "\n",
    "legend = rt.TLegend(0.50,0.70,0.87,0.87);\n",
    "legend.SetTextSize(0.04);\n",
    "legend.SetBorderSize(0);\n",
    "#legend-.SetFillStyle(0);\n",
    "legend.AddEntry( h['nCsc_m50ct1m'], \"mX=50 GeV, c#tau=1m (MC)\" , \"L\");\n",
    "legend.AddEntry( h['nCsc_qcd'], \"QCD (MC)\" , \"L\");\n",
    "legend.AddEntry( h['nCsc_zeroBias'], \"Zero Bias\" , \"L\");\n",
    "\n",
    "legend.Draw();\n",
    "\n",
    "c.Draw()\n",
    "\n",
    "c.SaveAs(\"ncsc_inclusive_mc_zeroBias.pdf\")\n",
    "c.SaveAs(\"ncsc_inclusive_mc_zeroBias.C\")"
   ]
  },
  {
   "cell_type": "markdown",
   "metadata": {},
   "source": [
    "## *N<sub>CSC</sub> Histogram with ME 1/1 Hits Removed*"
   ]
  },
  {
   "cell_type": "code",
   "execution_count": 198,
   "metadata": {},
   "outputs": [
    {
     "name": "stderr",
     "output_type": "stream",
     "text": [
      "Warning in <TCanvas::Constructor>: Deleting canvas with same name: c2\n",
      "Info in <TCanvas::Print>: pdf file ncsc_noME11_mc_zeroBias.pdf has been created\n",
      "Info in <TCanvas::SaveSource>: C++ Macro file: ncsc_noME11_mc_zeroBias.C has been generated\n"
     ]
    },
    {
     "data": {
      "image/png": "[encoded data removed]",
      "text/plain": [
       "<IPython.core.display.Image object>"
      ]
     },
     "metadata": {},
     "output_type": "display_data"
    }
   ],
   "source": [
    "# Creates a 1D histogram of the number of CSC hits for the m50ct1m signal MC, QCD MC, and ZeroBias data\n",
    "# after removing hits in ME 1/1\n",
    "\n",
    "c2 = rt.TCanvas('c2','c2', 800, 600)\n",
    "\n",
    "h['nCsc_m50ct1m_noME11'] = create_TH1D(nCsc_removal['m50ct1m']['ME_11'], axis_title=['nCsc_m50ct1m_noME11', 'Events'], name='nCsc_m50ct1m_noME11', binning=[150,0,500])\n",
    "h['nCsc_m50ct1m_noME11'].SetLineColor(4)\n",
    "\n",
    "h['nCsc_qcd_noME11'] = create_TH1D(nCsc_removal['qcd']['ME_11'], axis_title=['nCsc_qcd_noME11', 'Events'], name='nCsc_qcd_noME11', binning=[150,0,500])\n",
    "h['nCsc_qcd_noME11'].SetLineColor(2)\n",
    "h['nCsc_qcd_noME11'].SetLineStyle(2)\n",
    "\n",
    "\n",
    "h['nCsc_zeroBias_noME11'] = create_TH1D(nCsc_removal['zeroBias']['ME_11'], axis_title=['nCsc_zeroBias_noME11', 'Events'], name='nCsc_zeroBias_noME11', binning=[150,0,500])\n",
    "h['nCsc_zeroBias_noME11'].SetLineColor(2)\n",
    "h['nCsc_zeroBias_noME11'].SetLineStyle(1)\n",
    "\n",
    "c2.SetLogy()\n",
    "\n",
    "h['nCsc_m50ct1m_noME11'].Scale(1.0/h['nCsc_m50ct1m_noME11'].Integral())\n",
    "h['nCsc_qcd_noME11'].Scale(1.0/h['nCsc_qcd_noME11'].Integral())\n",
    "h['nCsc_zeroBias_noME11'].Scale(1.0/h['nCsc_zeroBias_noME11'].Integral())\n",
    "\n",
    "\n",
    "h['nCsc_m50ct1m_noME11'].SetLineWidth(2)\n",
    "h['nCsc_qcd_noME11'].SetLineWidth(2)\n",
    "h['nCsc_zeroBias_noME11'].SetLineWidth(2)\n",
    "\n",
    "h['nCsc_m50ct1m_noME11'].GetXaxis().SetRangeUser(0,200)\n",
    "h['nCsc_qcd_noME11'].GetXaxis().SetRangeUser(0,200)\n",
    "h['nCsc_zeroBias_noME11'].GetXaxis().SetRangeUser(0,200)\n",
    "\n",
    "\n",
    "h['nCsc_qcd_noME11'].SetStats(0)\n",
    "h['nCsc_qcd_noME11'].SetTitle(\"ME 1/1 Removed\")\n",
    "h['nCsc_qcd_noME11'].SetXTitle(\"N_{csc}\")\n",
    "\n",
    "\n",
    "h['nCsc_qcd_noME11'].Draw('histo')\n",
    "h['nCsc_m50ct1m_noME11'].Draw('histo+same')\n",
    "h['nCsc_zeroBias_noME11'].Draw('histo+same')\n",
    "\n",
    "legend = rt.TLegend(0.50,0.70,0.87,0.87);\n",
    "legend.SetTextSize(0.04);\n",
    "legend.SetBorderSize(0);\n",
    "#legend-.SetFillStyle(0);\n",
    "legend.AddEntry( h['nCsc_m50ct1m_noME11'], \"mX=50 GeV, c#tau=1m (MC)\" , \"L\");\n",
    "legend.AddEntry( h['nCsc_qcd_noME11'], \"QCD (MC)\" , \"L\");\n",
    "legend.AddEntry( h['nCsc_zeroBias_noME11'], \"Zero Bias\" , \"L\");\n",
    "\n",
    "legend.Draw();\n",
    "\n",
    "c2.Draw()\n",
    "\n",
    "c2.SaveAs(\"ncsc_noME11_mc_zeroBias.pdf\")\n",
    "c2.SaveAs(\"ncsc_noME11_mc_zeroBias.C\")"
   ]
  },
  {
   "cell_type": "markdown",
   "metadata": {},
   "source": [
    "## *N<sub>CSC</sub> Threshold ROC Curves*"
   ]
  },
  {
   "cell_type": "code",
   "execution_count": 199,
   "metadata": {},
   "outputs": [
    {
     "name": "stdout",
     "output_type": "stream",
     "text": [
      "length of x and y are not equal!\n",
      "length of x and y are not equal!\n",
      "length of x and y are not equal!\n",
      "length of x and y are not equal!\n"
     ]
    },
    {
     "name": "stderr",
     "output_type": "stream",
     "text": [
      "Warning in <TCanvas::Constructor>: Deleting canvas with same name: c3\n",
      "Warning in <TLegend::Paint>: Legend to large to be automatically placed. A default position is used\n"
     ]
    },
    {
     "data": {
      "image/png": "[encoded data removed]",
      "text/plain": [
       "<IPython.core.display.Image object>"
      ]
     },
     "metadata": {},
     "output_type": "display_data"
    }
   ],
   "source": [
    "# Creates ROC curves for the signal efficiency of the m50ct1m signal sample against the ZeroBias samples\n",
    "# using nCsc thresholds\n",
    "\n",
    "c3 = rt.TCanvas('c3','c3', 800, 600)\n",
    "\n",
    "h['roc_curve_noCluster'] = create_TGraph(rejection_power['zeroBias']['noCluster']['csc_inclusive'], eff_ncsc['m50ct1m']['noCluster']['csc_inclusive'], axis_title=['1/#epsilon_{bkg}', '#epsilon_{signal}'])\n",
    "h['roc_curve_clean_noCluster'] = create_TGraph(rejection_power['zeroBias']['noCluster']['csc_noME11'], eff_ncsc['m50ct1m']['noCluster']['csc_noME11'], axis_title=['#epsilon_{bkg}', '#epsilon_{signal}'])\n",
    "h['roc_curve_res_noCluster'] = create_TGraph(rejection_power['zeroBias']['noCluster']['csc_noME1123'], eff_ncsc['m50ct1m']['noCluster']['csc_noME1123'], axis_title=['1/#epsilon_{bkg}', '#epsilon_{signal}'])\n",
    "h['roc_curve_med_noCluster'] = create_TGraph(rejection_power['zeroBias']['noCluster']['csc_noME112'], eff_ncsc['m50ct1m']['noCluster']['csc_noME112'], axis_title=['1/#epsilon_{bkg}', '#epsilon_{signal}'])\n",
    "\n",
    "c3.SetLogx()\n",
    "\n",
    "h['roc_curve_noCluster'].SetTitle('ZeroBias')\n",
    "\n",
    "\n",
    "h['roc_curve_noCluster'].SetLineWidth(2)\n",
    "h['roc_curve_clean_noCluster'].SetLineWidth(2)\n",
    "h['roc_curve_res_noCluster'].SetLineWidth(2)\n",
    "h['roc_curve_med_noCluster'].SetLineWidth(2)\n",
    "\n",
    "h['roc_curve_noCluster'].SetLineColor(1)\n",
    "h['roc_curve_noCluster'].SetLineStyle(2)\n",
    "\n",
    "h['roc_curve_clean_noCluster'].SetLineColor(2)\n",
    "h['roc_curve_clean_noCluster'].SetLineStyle(2)\n",
    "                                          \n",
    "h['roc_curve_res_noCluster'].SetLineColor(3)\n",
    "h['roc_curve_res_noCluster'].SetLineStyle(2)\n",
    "\n",
    "h['roc_curve_med_noCluster'].SetLineColor(4)\n",
    "h['roc_curve_med_noCluster'].SetLineStyle(2)\n",
    "\n",
    "h['roc_curve_noCluster'].GetXaxis().SetLimits(10, 10000000)\n",
    "h['roc_curve_noCluster'].GetYaxis().SetRangeUser(0,1)\n",
    "\n",
    "h['roc_curve_noCluster'].Draw()\n",
    "h['roc_curve_clean_noCluster'].Draw('same')\n",
    "\n",
    "h['roc_curve_res_noCluster'].Draw('same')\n",
    "h['roc_curve_med_noCluster'].Draw('same')\n",
    "\n",
    "legend = rt.TLegend(0.70,0.70,0.7,0.7);\n",
    "legend.SetTextSize(0.04);\n",
    "legend.SetBorderSize(0);\n",
    "legend.SetFillStyle(0);\n",
    "\n",
    "legend.AddEntry( h['roc_curve_noCluster'], \"Inclusive\", 'l');\n",
    "legend.AddEntry( h['roc_curve_clean_noCluster'], \"No 1/1\", 'l');\n",
    "legend.AddEntry( h['roc_curve_med_noCluster'], \"No 1/1+1/2\", 'l');\n",
    "legend.AddEntry( h['roc_curve_res_noCluster'], \"No 1/1+1/2+1/3\", 'l');\n",
    "\n",
    "\n",
    "legend.Draw();\n",
    "\n",
    "c3.Draw()"
   ]
  },
  {
   "cell_type": "markdown",
   "metadata": {},
   "source": [
    "# Barrel Offline Studies"
   ]
  },
  {
   "cell_type": "markdown",
   "metadata": {},
   "source": [
    "## *Barrel Inclusive N<sub>DT</sub> Histogram*"
   ]
  },
  {
   "cell_type": "code",
   "execution_count": 200,
   "metadata": {},
   "outputs": [
    {
     "name": "stderr",
     "output_type": "stream",
     "text": [
      "Warning in <TCanvas::Constructor>: Deleting canvas with same name: c4\n"
     ]
    },
    {
     "data": {
      "image/png": "[encoded data removed]",
      "text/plain": [
       "<IPython.core.display.Image object>"
      ]
     },
     "metadata": {},
     "output_type": "display_data"
    }
   ],
   "source": [
    "# Creates a 1D histogram of the number of DT hits for the m50ct1m signal MC, QCD MC, and ZeroBias data\n",
    "# with no hit removal\n",
    "\n",
    "c4 = rt.TCanvas('c4','c4', 800, 600)\n",
    "h['nDt_signal'] = create_TH1D(nDt['m50ct1m'], axis_title=['nDt_signal', 'Events'], name='nDt_signal', binning=[150,0,500])\n",
    "h['nDt_signal'].SetLineColor(4)\n",
    "\n",
    "h['nDt_qcd'] = create_TH1D(nDt['qcd'], axis_title=['nDt_qcd', 'Events'], name='nDt_qcd', binning=[150,0,500])\n",
    "h['nDt_qcd'].SetLineColor(2)\n",
    "h['nDt_qcd'].SetLineStyle(2)\n",
    "\n",
    "\n",
    "h['nDt_zeroBias'] = create_TH1D(nDt['zeroBias'], axis_title=['nDt_zeroBias', 'Events'], name='nDt_zeroBias', binning=[150,0,500])\n",
    "h['nDt_zeroBias'].SetLineColor(2)\n",
    "h['nDt_zeroBias'].SetLineStyle(1)\n",
    "\n",
    "c4.SetLogy()\n",
    "\n",
    "h['nDt_signal'].Scale(1.0/h['nDt_signal'].Integral())\n",
    "h['nDt_qcd'].Scale(1.0/h['nDt_qcd'].Integral())\n",
    "h['nDt_zeroBias'].Scale(1.0/h['nDt_zeroBias'].Integral())\n",
    "\n",
    "\n",
    "h['nDt_signal'].SetLineWidth(2)\n",
    "h['nDt_qcd'].SetLineWidth(2)\n",
    "h['nDt_zeroBias'].SetLineWidth(2)\n",
    "\n",
    "h['nDt_signal'].GetXaxis().SetRangeUser(0,200)\n",
    "h['nDt_qcd'].GetXaxis().SetRangeUser(0,200)\n",
    "h['nDt_zeroBias'].GetXaxis().SetRangeUser(0,200)\n",
    "\n",
    "\n",
    "h['nDt_qcd'].SetStats(0)\n",
    "h['nDt_qcd'].SetTitle(\"DT Inclusive\")\n",
    "h['nDt_qcd'].SetXTitle(\"N_{DT}\")\n",
    "\n",
    "\n",
    "h['nDt_qcd'].Draw('histo')\n",
    "h['nDt_signal'].Draw('histo+same')\n",
    "h['nDt_zeroBias'].Draw('histo+same')\n",
    "\n",
    "legend = rt.TLegend(0.49,0.70,0.87,0.87);\n",
    "legend.SetTextSize(0.04);\n",
    "legend.SetBorderSize(0);\n",
    "legend.AddEntry( h['nDt_signal'], \"mX=50 GeV, c#tau=1m (MC)\" , \"L\");\n",
    "legend.AddEntry( h['nDt_qcd'], \"QCD (MC)\" , \"L\");\n",
    "legend.AddEntry( h['nDt_zeroBias'], \"Zero Bias\" , \"L\");\n",
    "\n",
    "legend.Draw();\n",
    "\n",
    "c4.Draw()"
   ]
  },
  {
   "cell_type": "markdown",
   "metadata": {},
   "source": [
    "## *N<sub>DT</sub> Histogram with MB 1 Hits Removed*"
   ]
  },
  {
   "cell_type": "code",
   "execution_count": 201,
   "metadata": {},
   "outputs": [
    {
     "name": "stderr",
     "output_type": "stream",
     "text": [
      "Warning in <TCanvas::Constructor>: Deleting canvas with same name: c5\n"
     ]
    },
    {
     "data": {
      "image/png": "[encoded data removed]",
      "text/plain": [
       "<IPython.core.display.Image object>"
      ]
     },
     "metadata": {},
     "output_type": "display_data"
    }
   ],
   "source": [
    "# Creates a 1D histogram of the number of DT hits for the m50ct1m signal MC, QCD MC, and ZeroBias data\n",
    "# after removing hits in MB 1\n",
    "\n",
    "c5 = rt.TCanvas('c5','c5', 800, 600)\n",
    "\n",
    "h['nDt_signal_noMB1'] = create_TH1D(nDt_removal['m50ct1m']['MB_1'], axis_title=['nDt_signal_noMB1', 'Events'], name='nDt_signal_noMB1', binning=[150,0,500])\n",
    "h['nDt_signal_noMB1'].SetLineColor(4)\n",
    "\n",
    "h['nDt_qcd_noMB1'] = create_TH1D(nDt_removal['qcd']['MB_1'], axis_title=['nDt_qcd_noMB1', 'Events'], name='nDt_qcd_noMB1', binning=[150,0,500])\n",
    "h['nDt_qcd_noMB1'].SetLineColor(2)\n",
    "h['nDt_qcd_noMB1'].SetLineStyle(2)\n",
    "\n",
    "\n",
    "h['nDt_zeroBias_noMB1'] = create_TH1D(nDt_removal['zeroBias']['MB_1'], axis_title=['nDt_zeroBias_noMB1', 'Events'], name='nDt_zeroBias_noMB1', binning=[150,0,500])\n",
    "h['nDt_zeroBias_noMB1'].SetLineColor(2)\n",
    "h['nDt_zeroBias_noMB1'].SetLineStyle(1)\n",
    "\n",
    "c5.SetLogy()\n",
    "\n",
    "h['nDt_signal_noMB1'].Scale(1.0/h['nDt_signal_noMB1'].Integral())\n",
    "h['nDt_qcd_noMB1'].Scale(1.0/h['nDt_qcd_noMB1'].Integral())\n",
    "h['nDt_zeroBias_noMB1'].Scale(1.0/h['nDt_zeroBias_noMB1'].Integral())\n",
    "\n",
    "\n",
    "h['nDt_signal_noMB1'].SetLineWidth(2)\n",
    "h['nDt_qcd_noMB1'].SetLineWidth(2)\n",
    "h['nDt_zeroBias_noMB1'].SetLineWidth(2)\n",
    "\n",
    "h['nDt_qcd_noMB1'].GetXaxis().SetRangeUser(0,200)\n",
    "h['nDt_qcd_noMB1'].SetStats(0)\n",
    "h['nDt_qcd_noMB1'].SetTitle(\"MB 1 Removed\")\n",
    "h['nDt_qcd_noMB1'].SetXTitle(\"N_{DT}\")\n",
    "\n",
    "\n",
    "h['nDt_qcd_noMB1'].Draw('histo')\n",
    "h['nDt_signal_noMB1'].Draw('histo+same')\n",
    "h['nDt_zeroBias_noMB1'].Draw('histo+same')\n",
    "\n",
    "legend = rt.TLegend(0.48,0.70,0.87,0.87);\n",
    "legend.SetTextSize(0.04);\n",
    "legend.SetBorderSize(0);\n",
    "#legend-.SetFillStyle(0);\n",
    "legend.AddEntry( h['nDt_signal_noMB1'], \"mX=50 GeV, c#tau=1m (MC)\" , \"L\");\n",
    "legend.AddEntry( h['nDt_qcd_noMB1'], \"QCD (MC)\" , \"L\");\n",
    "legend.AddEntry( h['nDt_zeroBias_noMB1'], \"Zero Bias\" , \"L\");\n",
    "\n",
    "legend.Draw();\n",
    "\n",
    "c5.Draw()"
   ]
  },
  {
   "cell_type": "code",
   "execution_count": 202,
   "metadata": {},
   "outputs": [
    {
     "name": "stderr",
     "output_type": "stream",
     "text": [
      "Warning in <TCanvas::Constructor>: Deleting canvas with same name: c5_5\n"
     ]
    },
    {
     "data": {
      "image/png": "[encoded data removed]",
      "text/plain": [
       "<IPython.core.display.Image object>"
      ]
     },
     "metadata": {},
     "output_type": "display_data"
    }
   ],
   "source": [
    "# Creates a 1D histogram of the number of DT hits for the m50ct1m signal MC, QCD MC, and ZeroBias data\n",
    "# after removing hits in MB 1\n",
    "\n",
    "c5_5 = rt.TCanvas('c5_5','c5_5', 800, 600)\n",
    "\n",
    "h['nDt_signal_MB1'] = create_TH1D(nDt_station['m50ct10m']['MB_1'], axis_title=['nDt_signal_MB1', 'Events'], name='nDt_signal_MB1', binning=[50,0,200])\n",
    "h['nDt_signal_MB1'].SetLineColor(1)\n",
    "h['nDt_signal_MB1'].SetLineWidth(2)\n",
    "\n",
    "h['nDt_signal_MB2'] = create_TH1D(nDt_station['m50ct10m']['MB_2'], axis_title=['nDt_signal_MB2', 'Events'], name='nDt_signal_MB2', binning=[50,0,200])\n",
    "h['nDt_signal_MB2'].SetLineColor(2)\n",
    "h['nDt_signal_MB2'].SetLineWidth(2)\n",
    "\n",
    "h['nDt_signal_MB3'] = create_TH1D(nDt_station['m50ct10m']['MB_3'], axis_title=['nDt_signal_MB3', 'Events'], name='nDt_signal_MB3', binning=[50,0,200])\n",
    "h['nDt_signal_MB3'].SetLineColor(3)\n",
    "h['nDt_signal_MB3'].SetLineWidth(2)\n",
    "\n",
    "h['nDt_signal_MB4'] = create_TH1D(nDt_station['m50ct10m']['MB_4'], axis_title=['nDt_signal_MB4', 'Events'], name='nDt_signal_MB4', binning=[50,0,200])\n",
    "h['nDt_signal_MB4'].SetLineColor(4)\n",
    "h['nDt_signal_MB4'].SetLineWidth(2)\n",
    "\n",
    "c5_5.SetLogy()\n",
    "\n",
    "h['nDt_signal_MB1'].Scale(1.0/h['nDt_signal_MB1'].Integral())\n",
    "h['nDt_signal_MB2'].Scale(1.0/h['nDt_signal_MB2'].Integral())\n",
    "h['nDt_signal_MB3'].Scale(1.0/h['nDt_signal_MB3'].Integral())\n",
    "h['nDt_signal_MB4'].Scale(1.0/h['nDt_signal_MB4'].Integral())\n",
    "\n",
    "\n",
    "h['nDt_signal_MB1'].GetXaxis().SetRangeUser(0,120)\n",
    "h['nDt_signal_MB1'].SetStats(0)\n",
    "h['nDt_signal_MB1'].SetTitle(\"N_{DT} per station: mX=50 GeV, c#tau=10m (MC)\")\n",
    "h['nDt_signal_MB1'].SetXTitle(\"N_{DT}\")\n",
    "\n",
    "\n",
    "h['nDt_signal_MB1'].Draw('histo')\n",
    "h['nDt_signal_MB2'].Draw('histo+same')\n",
    "h['nDt_signal_MB3'].Draw('histo+same')\n",
    "h['nDt_signal_MB4'].Draw('histo+same')\n",
    "\n",
    "legend = rt.TLegend(0.48,0.70,0.87,0.87);\n",
    "legend.SetTextSize(0.04);\n",
    "legend.SetBorderSize(0);\n",
    "#legend-.SetFillStyle(0);\n",
    "legend.AddEntry( h['nDt_signal_MB1'], \"MB 1\" , \"L\");\n",
    "legend.AddEntry( h['nDt_signal_MB2'], \"MB 2\" , \"L\");\n",
    "legend.AddEntry( h['nDt_signal_MB3'], \"MB 3\" , \"L\");\n",
    "legend.AddEntry( h['nDt_signal_MB4'], \"MB 4\" , \"L\");\n",
    "\n",
    "legend.Draw();\n",
    "\n",
    "c5_5.Draw()"
   ]
  },
  {
   "cell_type": "markdown",
   "metadata": {},
   "source": [
    "## *N<sub>DT</sub> Histogram for MB 2 Hits Only*"
   ]
  },
  {
   "cell_type": "code",
   "execution_count": 203,
   "metadata": {},
   "outputs": [
    {
     "name": "stderr",
     "output_type": "stream",
     "text": [
      "Warning in <TCanvas::Constructor>: Deleting canvas with same name: c5_comp\n"
     ]
    },
    {
     "data": {
      "image/png": "[encoded data removed]",
      "text/plain": [
       "<IPython.core.display.Image object>"
      ]
     },
     "metadata": {},
     "output_type": "display_data"
    }
   ],
   "source": [
    "# Creates a 1D histogram of the number of DT hits for the m50ct1m signal MC, QCD MC, and ZeroBias data in MB 2\n",
    "\n",
    "c5_comp = rt.TCanvas('c5_comp','c5_comp', 800, 600)\n",
    "\n",
    "h['nDt_m50ct1m_MB1'] = create_TH1D(nDt_station['m50ct1m']['MB_2'], axis_title=['nDt_m50ct1m_MB1', 'Events'], name='nDt_m50ct1m_MB1', binning=[50,0,200])\n",
    "h['nDt_m50ct1m_MB1'].SetLineColor(1)\n",
    "h['nDt_m50ct1m_MB1'].SetLineWidth(2)\n",
    "\n",
    "h['nDt_qcd_MB1'] = create_TH1D(nDt_station['qcd']['MB_2'], axis_title=['nDt_qcd_MB1', 'Events'], name='nDt_qcd_MB1', binning=[50,0,200])\n",
    "h['nDt_qcd_MB1'].SetLineColor(2)\n",
    "h['nDt_qcd_MB1'].SetLineWidth(2)\n",
    "\n",
    "h['nDt_zeroBias_MB1'] = create_TH1D(nDt_station['zeroBias']['MB_2'], axis_title=['nDt_zeroBias_MB1', 'Events'], name='nDt_zeroBias_MB1', binning=[50,0,200])\n",
    "h['nDt_zeroBias_MB1'].SetLineColor(3)\n",
    "h['nDt_zeroBias_MB1'].SetLineWidth(2)\n",
    "\n",
    "h['nDt_m50ct10m_MB1'] = create_TH1D(nDt_station['m50ct10m']['MB_2'], axis_title=['nDt_m50ct10m_MB1', 'Events'], name='nDt_m50ct10m_MB1', binning=[50,0,200])\n",
    "h['nDt_m50ct10m_MB1'].SetLineColor(4)\n",
    "h['nDt_m50ct10m_MB1'].SetLineWidth(2)\n",
    "\n",
    "c5_comp.SetLogy()\n",
    "\n",
    "h['nDt_m50ct1m_MB1'].Scale(1.0/h['nDt_m50ct1m_MB1'].Integral())\n",
    "h['nDt_qcd_MB1'].Scale(1.0/h['nDt_qcd_MB1'].Integral())\n",
    "h['nDt_zeroBias_MB1'].Scale(1.0/h['nDt_zeroBias_MB1'].Integral())\n",
    "h['nDt_m50ct10m_MB1'].Scale(1.0/h['nDt_m50ct10m_MB1'].Integral())\n",
    "\n",
    "\n",
    "h['nDt_m50ct1m_MB1'].GetXaxis().SetRangeUser(0,120)\n",
    "h['nDt_m50ct1m_MB1'].SetStats(0)\n",
    "h['nDt_m50ct1m_MB1'].SetTitle(\"MB 2 N_{DT} per station: mX=50 GeV, c#tau=10m (MC)\")\n",
    "h['nDt_m50ct1m_MB1'].SetXTitle(\"N_{DT}\")\n",
    "\n",
    "\n",
    "h['nDt_m50ct1m_MB1'].Draw('histo')\n",
    "h['nDt_qcd_MB1'].Draw('histo+same')\n",
    "h['nDt_zeroBias_MB1'].Draw('histo+same')\n",
    "h['nDt_m50ct10m_MB1'].Draw('histo+same')\n",
    "\n",
    "legend = rt.TLegend(0.48,0.70,0.87,0.87);\n",
    "legend.SetTextSize(0.04);\n",
    "legend.SetBorderSize(0);\n",
    "#legend-.SetFillStyle(0);\n",
    "legend.AddEntry( h['nDt_m50ct1m_MB1'], \"mX=50 GeV, c#tau=1m (MC)\" , \"L\");\n",
    "legend.AddEntry( h['nDt_qcd_MB1'], \"QCD\" , \"L\");\n",
    "legend.AddEntry( h['nDt_zeroBias_MB1'], \"ZeroBias\" , \"L\");\n",
    "legend.AddEntry( h['nDt_m50ct10m_MB1'], \"mX=50 GeV, c#tau=10m (MC)\" , \"L\");\n",
    "\n",
    "legend.Draw();\n",
    "\n",
    "c5_comp.Draw()"
   ]
  },
  {
   "cell_type": "markdown",
   "metadata": {},
   "source": [
    "## *Average Fraction of Hits per DT station*"
   ]
  },
  {
   "cell_type": "code",
   "execution_count": 205,
   "metadata": {},
   "outputs": [
    {
     "name": "stderr",
     "output_type": "stream",
     "text": [
      "Warning in <TCanvas::Constructor>: Deleting canvas with same name: c5_6\n",
      "Warning in <TROOT::Append>: Replacing existing TH1: nDt_signal_ratio (Potential memory leak).\n",
      "Warning in <TROOT::Append>: Replacing existing TH1: nDt_qcd_ratio (Potential memory leak).\n",
      "Warning in <TROOT::Append>: Replacing existing TH1: nDt_zeroBias_ratio (Potential memory leak).\n"
     ]
    },
    {
     "data": {
      "image/png": "[encoded data removed]",
      "text/plain": [
       "<IPython.core.display.Image object>"
      ]
     },
     "metadata": {},
     "output_type": "display_data"
    }
   ],
   "source": [
    "# Creates a 1D histogram of the average fraction of DT hits contributed by each barrel station\n",
    "\n",
    "c5_6 = rt.TCanvas('c5_6','c5_6', 800, 600)\n",
    "\n",
    "h['nDt_signal_ratio'] = create_TH1D(nDt_avg_ratio['m50ct10m'][0], axis_title=['nDt_signal_ratio', 'Events'], name='nDt_signal_ratio', binning=[50,0,5])\n",
    "h['nDt_signal_ratio'].SetLineColor(4)\n",
    "h['nDt_signal_ratio'].SetLineWidth(2)\n",
    "\n",
    "h['nDt_qcd_ratio'] = create_TH1D(nDt_avg_ratio['qcd'][0], axis_title=['nDt_qcd_ratio', 'Events'], name='nDt_qcd_ratio', binning=[50,0,5])\n",
    "h['nDt_qcd_ratio'].SetLineColor(2)\n",
    "h['nDt_qcd_ratio'].SetLineStyle(2)\n",
    "h['nDt_qcd_ratio'].SetLineWidth(2)\n",
    "\n",
    "h['nDt_zeroBias_ratio'] = create_TH1D(nDt_avg_ratio['zeroBias'][0], axis_title=['nDt_zeroBias_ratio', 'Events'], name='nDt_zeroBias_ratio', binning=[50,0,5])\n",
    "h['nDt_zeroBias_ratio'].SetLineColor(2)\n",
    "h['nDt_zeroBias_ratio'].SetLineStyle(1)\n",
    "h['nDt_zeroBias_ratio'].SetLineWidth(1)\n",
    "\n",
    "\n",
    "c5_6.SetLogy()\n",
    "\n",
    "h['nDt_signal_ratio'].Scale(1.0/h['nDt_signal_ratio'].Integral())\n",
    "h['nDt_qcd_ratio'].Scale(1.0/h['nDt_qcd_ratio'].Integral())\n",
    "h['nDt_zeroBias_ratio'].Scale(1.0/h['nDt_zeroBias_ratio'].Integral())\n",
    "\n",
    "h['nDt_signal_ratio'].GetXaxis().SetRangeUser(0,1.5)\n",
    "h['nDt_signal_ratio'].SetStats(0)\n",
    "h['nDt_signal_ratio'].SetTitle(\"\")\n",
    "h['nDt_signal_ratio'].SetXTitle(\"N_{DT} Fraction\")\n",
    "\n",
    "\n",
    "h['nDt_signal_ratio'].Draw('histo')\n",
    "h['nDt_qcd_ratio'].Draw('histo + same')\n",
    "h['nDt_zeroBias_ratio'].Draw('histo + same')\n",
    "\n",
    "\n",
    "legend = rt.TLegend(0.5,0.70,0.87,0.87);\n",
    "legend.SetTextSize(0.04);\n",
    "legend.SetBorderSize(0);\n",
    "legend.SetFillStyle(0);\n",
    "legend.AddEntry( h['nDt_signal_ratio'], \"mX=50 GeV, c#tau=10m (MC)\" , \"L\");\n",
    "legend.AddEntry( h['nDt_qcd_ratio'], \"QCD (MC)\" , \"L\");\n",
    "legend.AddEntry( h['nDt_zeroBias_ratio'], \"Zero Bias\" , \"L\");\n",
    "\n",
    "legend.Draw();\n",
    "\n",
    "c5_6.Draw()"
   ]
  },
  {
   "cell_type": "markdown",
   "metadata": {},
   "source": [
    "## *N<sub>DT</sub> Threshold ROC Curves*"
   ]
  },
  {
   "cell_type": "code",
   "execution_count": 206,
   "metadata": {},
   "outputs": [
    {
     "name": "stdout",
     "output_type": "stream",
     "text": [
      "length of x and y are not equal!\n",
      "length of x and y are not equal!\n",
      "length of x and y are not equal!\n",
      "length of x and y are not equal!\n"
     ]
    },
    {
     "name": "stderr",
     "output_type": "stream",
     "text": [
      "Warning in <TCanvas::Constructor>: Deleting canvas with same name: c7\n"
     ]
    },
    {
     "data": {
      "image/png": "[encoded data removed]",
      "text/plain": [
       "<IPython.core.display.Image object>"
      ]
     },
     "metadata": {},
     "output_type": "display_data"
    }
   ],
   "source": [
    "# Creates ROC curves for the signal efficiency of the m50ct1m signal sample against the ZeroBias/QCD samples\n",
    "# using nDt thresholds\n",
    "\n",
    "c7 = rt.TCanvas('c7','c7', 800, 600)\n",
    "\n",
    "# h['roc_inclusive_zeroBias'] = create_TGraph(rejection_power['zeroBias']['noCluster']['dt_inclusive'], eff_ndt['m50ct10m']['noCluster']['dt_inclusive'], axis_title=['1/#epsilon_{bkg}', '#epsilon_{signal}'])\n",
    "h['roc_no_mb1_zeroBias'] = create_TGraph(rejection_power['zeroBias']['noCluster']['dt_noMB1'], eff_ndt['m50ct10m']['noCluster']['dt_noMB1'], axis_title=['1/#epsilon_{bkg}', '#epsilon_{signal}'])\n",
    "# h['roc_no_mb12_zeroBias'] = create_TGraph(rejection_power['zeroBias']['noCluster']['dt_noMB12'], eff_ndt['m50ct10m']['noCluster']['dt_noMB12'], axis_title=['1/#epsilon_{bkg}', '#epsilon_{signal}'])\n",
    "h['roc_no_mb1_ratioCut_zeroBias'] = create_TGraph(rejection_power['zeroBias']['noCluster_ratioCut']['dt_noMB1'], eff_ndt['m50ct10m']['noCluster_ratioCut']['dt_noMB1'], axis_title=['#epsilon_{bkg}', '#epsilon_{signal}'])\n",
    "\n",
    "\n",
    "# h['roc_inclusive_qcd'] = create_TGraph(rejection_power['qcd']['noCluster']['dt_inclusive'], eff_ndt['m50ct10m']['noCluster']['dt_inclusive'], axis_title=['1/#epsilon_{bkg}', '#epsilon_{signal}'])\n",
    "h['roc_no_mb1_qcd'] = create_TGraph(rejection_power['qcd']['noCluster']['dt_noMB1'], eff_ndt['m50ct10m']['noCluster']['dt_noMB1'], axis_title=['#epsilon_{bkg}', '#epsilon_{signal}'])\n",
    "# h['roc_no_mb12_qcd'] = create_TGraph(rejection_power['qcd']['noCluster']['dt_noMB12'], eff_ndt['m50ct10m']['noCluster']['dt_noMB12'], axis_title=['1/#epsilon_{bkg}', '#epsilon_{signal}'])\n",
    "h['roc_no_mb1_ratioCut_qcd'] = create_TGraph(rejection_power['qcd']['noCluster_ratioCut']['dt_noMB1'], eff_ndt['m50ct10m']['noCluster_ratioCut']['dt_noMB1'], axis_title=['#epsilon_{bkg}', '#epsilon_{signal}'])\n",
    "\n",
    "c7.SetLogx()\n",
    "# c7.SetLogy()\n",
    "\n",
    "h['roc_no_mb1_zeroBias'].SetTitle('N_{DT}: mX=50 GeV, c#tau=10m (MC)')\n",
    "\n",
    "# h['roc_inclusive_zeroBias'].SetLineWidth(2)\n",
    "h['roc_no_mb1_zeroBias'].SetLineWidth(2)\n",
    "h['roc_no_mb1_ratioCut_zeroBias'].SetLineWidth(2)\n",
    "# h['roc_no_mb12_zeroBias'].SetLineWidth(2)\n",
    "\n",
    "# h['roc_inclusive_qcd'].SetLineWidth(2)\n",
    "h['roc_no_mb1_qcd'].SetLineWidth(2)\n",
    "h['roc_no_mb1_ratioCut_qcd'].SetLineWidth(2)\n",
    "# h['roc_no_mb12_qcd'].SetLineWidth(2)\n",
    "\n",
    "### ZeroBias #6\n",
    "\n",
    "# h['roc_inclusive_zeroBias'].SetLineColor(1)\n",
    "# h['roc_inclusive_zeroBias'].SetLineStyle(2)\n",
    "\n",
    "\n",
    "h['roc_no_mb1_zeroBias'].SetLineColor(2)\n",
    "h['roc_no_mb1_zeroBias'].SetLineStyle(2)\n",
    "\n",
    "# h['roc_no_mb12_zeroBias'].SetLineColor(4)\n",
    "# h['roc_no_mb12_zeroBias'].SetLineStyle(2)\n",
    "\n",
    "h['roc_no_mb1_ratioCut_zeroBias'].SetLineColor(4)\n",
    "h['roc_no_mb1_ratioCut_zeroBias'].SetLineStyle(2)\n",
    "\n",
    "\n",
    "### QCD\n",
    "\n",
    "# h['roc_inclusive_qcd'].SetLineColor(1)\n",
    "# h['roc_inclusive_qcd'].SetLineStyle(1)\n",
    "\n",
    "h['roc_no_mb1_qcd'].SetLineColor(2)\n",
    "h['roc_no_mb1_qcd'].SetLineStyle(1)\n",
    "\n",
    "# h['roc_no_mb12_qcd'].SetLineColor(4)\n",
    "# h['roc_no_mb12_qcd'].SetLineStyle(1)\n",
    "\n",
    "h['roc_no_mb1_ratioCut_qcd'].SetLineColor(4)\n",
    "h['roc_no_mb1_ratioCut_qcd'].SetLineStyle(1)\n",
    "\n",
    "####\n",
    "\n",
    "h['roc_no_mb1_zeroBias'].GetXaxis().SetLimits(10, 10000000)\n",
    "h['roc_no_mb1_zeroBias'].GetYaxis().SetRangeUser(0,1)\n",
    "\n",
    "\n",
    "\n",
    "# h['roc_inclusive_zeroBias'].Draw()\n",
    "h['roc_no_mb1_zeroBias'].Draw()\n",
    "# h['roc_no_mb12_zeroBias'].Draw('same')\n",
    "h['roc_no_mb1_ratioCut_zeroBias'].Draw('same')\n",
    "\n",
    "# h['roc_inclusive_qcd'].Draw('same')\n",
    "h['roc_no_mb1_qcd'].Draw('same')\n",
    "# h['roc_no_mb12_qcd'].Draw('same')\n",
    "h['roc_no_mb1_ratioCut_qcd'].Draw('same')\n",
    "\n",
    "\n",
    "legend = rt.TLegend(0.60,0.60,0.6,0.6);\n",
    "legend.SetTextSize(0.03);\n",
    "legend.SetBorderSize(0);\n",
    "legend.SetFillStyle(0);\n",
    "\n",
    "# legend.AddEntry( h['roc_inclusive_zeroBias'], \"ZeroBias\", 'l');\n",
    "legend.AddEntry( h['roc_no_mb1_zeroBias'], \"ZeroBias w/o 1/1\", 'l');\n",
    "# legend.AddEntry( h['roc_no_mb12_zeroBias'], \"ZeroBias w/o 1/1+1/2\", 'l');\n",
    "legend.AddEntry( h['roc_no_mb1_ratioCut_zeroBias'], \"ZeroBias w/o 1/1 + Fraction Cut\", 'l');\n",
    "\n",
    "# legend.AddEntry( h['roc_inclusive_qcd'], \"QCD\", 'l');\n",
    "legend.AddEntry( h['roc_no_mb1_qcd'], \"QCD w/o 1/1\", 'l');\n",
    "# legend.AddEntry( h['roc_no_mb12_qcd'], \"QCD w/o 1/1+1/2\", 'l');\n",
    "legend.AddEntry( h['roc_no_mb1_ratioCut_qcd'], \"QCD w/o 1/1 + Fraction Cut\", 'l');\n",
    "\n",
    "\n",
    "\n",
    "legend.Draw();\n",
    "\n",
    "c7.Draw()"
   ]
  },
  {
   "cell_type": "markdown",
   "metadata": {},
   "source": [
    "# Overlap Offline Studies"
   ]
  },
  {
   "cell_type": "markdown",
   "metadata": {},
   "source": [
    "## *Overlap Inclusive N<sub>RPC</sub> Histogram*"
   ]
  },
  {
   "cell_type": "code",
   "execution_count": 207,
   "metadata": {},
   "outputs": [
    {
     "name": "stderr",
     "output_type": "stream",
     "text": [
      "Warning in <TCanvas::Constructor>: Deleting canvas with same name: c6\n"
     ]
    },
    {
     "data": {
      "image/png": "[encoded data removed]",
      "text/plain": [
       "<IPython.core.display.Image object>"
      ]
     },
     "metadata": {},
     "output_type": "display_data"
    }
   ],
   "source": [
    "# Creates a 1D histogram of the number of RPC hits for the m50ct1m signal MC, QCD MC, and ZeroBias data\n",
    "# with no hit removal\n",
    "\n",
    "c6 = rt.TCanvas('c6','c6', 800, 600)\n",
    "h['nRpc_signal'] = create_TH1D(nRpc['m50ct1m'], axis_title=['nRpc_signal', 'Events'], name='nRpc_signal', binning=[150,0,500])\n",
    "h['nRpc_signal'].SetLineColor(4)\n",
    "\n",
    "h['nRpc_qcd'] = create_TH1D(nRpc['qcd'], axis_title=['nRpc_qcd', 'Events'], name='nRpc_qcd', binning=[150,0,500])\n",
    "h['nRpc_qcd'].SetLineColor(2)\n",
    "h['nRpc_qcd'].SetLineStyle(2)\n",
    "\n",
    "\n",
    "h['nRpc_zeroBias'] = create_TH1D(nRpc['zeroBias'], axis_title=['nRpc_zeroBias', 'Events'], name='nRpc_zeroBias', binning=[150,0,500])\n",
    "h['nRpc_zeroBias'].SetLineColor(2)\n",
    "h['nRpc_zeroBias'].SetLineStyle(1)\n",
    "\n",
    "c6.SetLogy()\n",
    "\n",
    "h['nRpc_signal'].Scale(1.0/h['nRpc_signal'].Integral())\n",
    "h['nRpc_qcd'].Scale(1.0/h['nRpc_qcd'].Integral())\n",
    "h['nRpc_zeroBias'].Scale(1.0/h['nRpc_zeroBias'].Integral())\n",
    "\n",
    "\n",
    "h['nRpc_signal'].SetLineWidth(2)\n",
    "h['nRpc_qcd'].SetLineWidth(2)\n",
    "h['nRpc_zeroBias'].SetLineWidth(2)\n",
    "\n",
    "h['nRpc_signal'].GetXaxis().SetRangeUser(0,200)\n",
    "\n",
    "\n",
    "h['nRpc_signal'].SetStats(0)\n",
    "h['nRpc_signal'].SetTitle(\"RPC Inclusive\")\n",
    "h['nRpc_signal'].SetXTitle(\"N_{DT}\")\n",
    "\n",
    "\n",
    "h['nRpc_signal'].Draw('histo')\n",
    "h['nRpc_qcd'].Draw('histo+same')\n",
    "h['nRpc_zeroBias'].Draw('histo+same')\n",
    "\n",
    "legend = rt.TLegend(0.50,0.70,0.87,0.87);\n",
    "legend.SetTextSize(0.04);\n",
    "legend.SetBorderSize(0);\n",
    "legend.AddEntry( h['nRpc_signal'], \"mX=50 GeV, c#tau=1m (MC)\" , \"L\");\n",
    "legend.AddEntry( h['nRpc_qcd'], \"QCD (MC)\" , \"L\");\n",
    "legend.AddEntry( h['nRpc_zeroBias'], \"Zero Bias\" , \"L\");\n",
    "\n",
    "legend.Draw();\n",
    "\n",
    "c6.Draw()"
   ]
  },
  {
   "cell_type": "markdown",
   "metadata": {},
   "source": [
    "## *N<sub>RPC</sub> Threshold ROC Curves*"
   ]
  },
  {
   "cell_type": "code",
   "execution_count": 208,
   "metadata": {},
   "outputs": [
    {
     "name": "stdout",
     "output_type": "stream",
     "text": [
      "length of x and y are not equal!\n",
      "length of x and y are not equal!\n"
     ]
    },
    {
     "name": "stderr",
     "output_type": "stream",
     "text": [
      "Warning in <TLegend::Paint>: Legend to large to be automatically placed. A default position is used\n"
     ]
    },
    {
     "data": {
      "image/png": "[encoded data removed]",
      "text/plain": [
       "<IPython.core.display.Image object>"
      ]
     },
     "metadata": {},
     "output_type": "display_data"
    }
   ],
   "source": [
    "# Creates ROC curves for the signal efficiency of the m50ct1m signal sample against the ZeroBias/QCD samples\n",
    "# using nRpc thresholds\n",
    "\n",
    "c8 = rt.TCanvas('c8','c8', 800, 600)\n",
    "\n",
    "h['roc_inclusive_zeroBias_rpc'] = create_TGraph(rejection_power['zeroBias']['noCluster']['rpc_inclusive'], eff_nrpc['m50ct1m']['noCluster']['rpc_inclusive'], axis_title=['1/#epsilon_{bkg}', '#epsilon_{signal}'])\n",
    "\n",
    "h['roc_inclusive_qcd_rpc'] = create_TGraph(rejection_power['qcd']['noCluster']['rpc_inclusive'], eff_nrpc['m50ct1m']['noCluster']['rpc_inclusive'], axis_title=['1/#epsilon_{bkg}', '#epsilon_{signal}'])\n",
    "\n",
    "c8.SetLogx()\n",
    "\n",
    "h['roc_inclusive_zeroBias_rpc'].SetTitle('N_{RPC}: mX=50 GeV, c#tau=1m (MC)')\n",
    "\n",
    "h['roc_inclusive_zeroBias_rpc'].SetLineWidth(2)\n",
    "h['roc_inclusive_qcd_rpc'].SetLineWidth(2)\n",
    "\n",
    "h['roc_inclusive_zeroBias_rpc'].SetLineColor(2)\n",
    "h['roc_inclusive_qcd_rpc'].SetLineColor(4)\n",
    "\n",
    "h['roc_inclusive_zeroBias_rpc'].GetXaxis().SetLimits(10, 10000000)\n",
    "h['roc_inclusive_zeroBias_rpc'].GetYaxis().SetRangeUser(0,1)\n",
    "\n",
    "\n",
    "\n",
    "h['roc_inclusive_zeroBias_rpc'].Draw()\n",
    "h['roc_inclusive_qcd_rpc'].Draw('same')\n",
    "\n",
    "\n",
    "legend = rt.TLegend(0.70,0.70,0.7,0.7);\n",
    "legend.SetTextSize(0.04);\n",
    "legend.SetBorderSize(0);\n",
    "legend.SetFillStyle(0);\n",
    "\n",
    "legend.AddEntry( h['roc_inclusive_zeroBias_rpc'], \"ZeroBias\", 'l');\n",
    "legend.AddEntry( h['roc_inclusive_qcd_rpc'], \"QCD\", 'l');\n",
    "\n",
    "legend.Draw();\n",
    "\n",
    "c8.Draw()"
   ]
  },
  {
   "cell_type": "code",
   "execution_count": null,
   "metadata": {},
   "outputs": [],
   "source": []
  }
 ],
 "metadata": {
  "kernelspec": {
   "display_name": "Python 2",
   "language": "python",
   "name": "python2"
  },
  "language_info": {
   "codemirror_mode": {
    "name": "ipython",
    "version": 3
   },
   "file_extension": ".py",
   "mimetype": "text/x-python",
   "name": "python",
   "nbconvert_exporter": "python",
   "pygments_lexer": "ipython3",
   "version": "3.6.8"
  }
 },
 "nbformat": 4,
 "nbformat_minor": 2
}
