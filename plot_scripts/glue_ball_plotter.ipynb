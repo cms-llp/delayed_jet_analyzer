{
 "cells": [
  {
   "cell_type": "code",
   "execution_count": 1,
   "metadata": {},
   "outputs": [
    {
     "name": "stdout",
     "output_type": "stream",
     "text": [
      "Welcome to JupyROOT 6.17/01\n"
     ]
    }
   ],
   "source": [
    "import ROOT as rt\n",
    "import root_numpy as rtnp\n",
    "import numpy as np\n",
    "from matplotlib import pyplot as plt\n",
    "from histo_utilities import create_TH1D, create_TH2D, std_color_list\n",
    "\n",
    "# import CMS_lumi, tdrstyle\n",
    "# tdrstyle.setTDRStyle()\n",
    "# CMS_lumi.writeExtraText = 1\n",
    "# CMS_lumi.extraText = \"     Simulation Preliminary\"\n",
    "\n",
    "donotdelete = []"
   ]
  },
  {
   "cell_type": "code",
   "execution_count": 2,
   "metadata": {},
   "outputs": [
    {
     "name": "stdout",
     "output_type": "stream",
     "text": [
      "glueBall /home/maojiajing/cms-llp/samples/signal/glueball/jetNtuple_glueball_m50_pl1000.root\n",
      "[17.795286  12.522762  11.878623   5.5633655]\n"
     ]
    }
   ],
   "source": [
    "fpath = {}\n",
    "tree = {}\n",
    "process = {}\n",
    "process_short = {}\n",
    "\n",
    "fpath['glueBall'] = '/home/maojiajing/cms-llp/samples/signal/glueball/jetNtuple_glueball_m50_pl1000.root'\n",
    "process['glueBall'] = 'pp #rightarrow h*h* #rightarrow jj#nu#nu'\n",
    "process_short['glueBall'] = 'pp #rightarrow h*h* #rightarrow jj#nu#nu'\n",
    "\n",
    "#fpath['tau'] = '../data/cmsMC_private/BPH_Tag-Bm_D0kpmunu_Probe-B0_TauNuDmst-pD0bar-kp-tau2mununu_NoPU_10-2-3_v0/BPH_Tag-Bm_D0kpmunu_Probe-B0_TauNuDmst-pD0bar-kp-tau2mununu_BPHMC_merged_1-300.root'\n",
    "#process['tau'] = 'B_{0} #rightarrow D*^{-}(#bar{D}_{0}(K^{+}#pi^{-})#pi^{-})#tau^{+}(#mu^{+}#nu#bar{#nu})#nu'\n",
    "#process_short['tau'] = 'B #rightarrow D*#tau#nu'\n",
    "\n",
    "# fpath['Dst_mu'] = '../data/cmsMC_private/BPH_Tag-Bm_D0kpmunu_Probe-Bp_D0stkpNeumunu_NoPU_10-2-3_v0/BPH_Tag-Bm_D0kpmunu_Probe-Bp_D0stkpNeumunu_BPHMC_merged.root'\n",
    "# process['Dst_mu'] = 'B^{+} #rightarrow #bar{D}^{*}_{0}(D_{0} n#gamma)#mu^{+}#nu'\n",
    "\n",
    "# fpath['Dst_tau'] = '../data/cmsMC_private/BPH_Tag-Bm_D0kpmunu_Probe-Bp_D0stkpNeutaunu_tau2mununu_NoPU_10-2-3_v0/BPH_Tag-Bm_D0kpmunu_Probe-Bp_D0stkpNeutaunu_tau2mununu_BPHMC_merged.root'\n",
    "# process['Dst_tau'] = 'B^{+} #rightarrow #bar{D}^{*}_{0}(D_{0} n#gamma)#tau^{+}(#mu^{+}#nu#nu)#nu'\n",
    "\n",
    "for k,v in fpath.iteritems():\n",
    "    print k, v\n",
    "    tree[k] = rtnp.root2array(v)\n",
    "    #tree[k] = rtnp.tree2array(v)\n",
    "    #jet_max_pt_array = [np.max(x) for x in tree[k][\"jetPt\"]]\n",
    "    a = tree[k][\"jetPt\"]\n",
    "    print a[:-1][0]"
   ]
  },
  {
   "cell_type": "code",
   "execution_count": 3,
   "metadata": {},
   "outputs": [],
   "source": [
    "T = tree['glueBall']"
   ]
  },
  {
   "cell_type": "code",
   "execution_count": 4,
   "metadata": {},
   "outputs": [],
   "source": [
    "#get first jet pt per event\n",
    "#T['jetPt'][0]\n",
    "first_jet_pt = [x[0] if len(x) else -1 for x in T['jetPt']]"
   ]
  },
  {
   "cell_type": "code",
   "execution_count": 5,
   "metadata": {},
   "outputs": [],
   "source": [
    "#get max jet pt per event\n",
    "max_jet_pt = [np.max(x) if len(x) else -1 for x in T['jetPt']]\n",
    "#print max_jet_pt"
   ]
  },
  {
   "cell_type": "code",
   "execution_count": 6,
   "metadata": {},
   "outputs": [],
   "source": [
    "#store jet-pt array per event in a list\n",
    "first_jet_pt_arr = []\n",
    "for x in T['jetPt']:\n",
    "    if len(x) == 0:\n",
    "        break\n",
    "    #print x\n",
    "    first_jet_pt_arr.append(x[0])"
   ]
  },
  {
   "cell_type": "code",
   "execution_count": 9,
   "metadata": {},
   "outputs": [],
   "source": [
    "#Create Numpy Arrays for (['jetPt', 'jetEta', 'jetPhi', 'jetE']) with the first 4 jets\n",
    "four_highest_jet_var = {}\n",
    "\n",
    "for v in ['jetPt', 'jetEta', 'jetPhi', 'jetE']:\n",
    "    tmp = []\n",
    "    for x in T[v]:\n",
    "        aux = -999*np.ones(4)\n",
    "        for i, xx in enumerate(x):\n",
    "            #print i, xx\n",
    "            #i: jet index; xx: first jet pt \n",
    "            if i > 3:\n",
    "                break\n",
    "                #only require 4 highest pt jet\n",
    "            aux[i] = xx\n",
    "        tmp.append(aux)\n",
    "\n",
    "    four_highest_jet_var[v] = np.array(tmp)#numpy array (n_entries,4)\n",
    "    #print four_highest_jet_var[v].shape\n",
    "    "
   ]
  },
  {
   "cell_type": "code",
   "execution_count": 10,
   "metadata": {},
   "outputs": [
    {
     "name": "stdout",
     "output_type": "stream",
     "text": [
      "[ 6.64531326 30.32988739 34.8320694  ... 17.59085464 37.21101761\n",
      " 11.10337448]\n"
     ]
    }
   ],
   "source": [
    "#Create Numpy Arrays for (['gParticlePt', 'gParticleEta', 'gParticlePhi', 'gParticleE']) up to the 10th gen-particle\n",
    "ten_gen_var = {}\n",
    "n_gen = 10\n",
    "for v in ['gParticleId', 'gParticlePt','gParticleEta', 'gParticlePhi', 'gParticleE']:\n",
    "    tmp_2 = []\n",
    "    for x in T[v]:\n",
    "        #print x\n",
    "        aux = -999*np.ones(n_gen)\n",
    "        for i, xx in enumerate(x):\n",
    "            #print xx\n",
    "            if i >= n_gen:\n",
    "                break\n",
    "            aux[i] = xx\n",
    "        tmp_2.append(aux)\n",
    "\n",
    "    ten_gen_var[v] = np.array(tmp_2)#numpy array (n_entries,4)\n",
    "print ten_gen_var['gParticlePt'][:,4]"
   ]
  },
  {
   "cell_type": "code",
   "execution_count": 11,
   "metadata": {},
   "outputs": [
    {
     "name": "stdout",
     "output_type": "stream",
     "text": [
      "[ True  True  True ...  True  True  True]\n",
      "[21.7598664  22.90677092 17.34232739 ... 26.87657846 47.75081422\n",
      " 34.36418181]\n",
      "[5 6 7 8 9 5 6 7 8 9]\n"
     ]
    }
   ],
   "source": [
    "sel = four_highest_jet_var['jetPt'][:,1] > -998\n",
    "print sel\n",
    "#print four_highest_jet_var['jetPt'][:,1]\n",
    "\n",
    "out = np.hypot(four_highest_jet_var['jetPt'][sel,0], four_highest_jet_var['jetPt'][sel,1])\n",
    "#print four_highest_jet_var['jetPt'][sel,0]\n",
    "#print four_highest_jet_var['jetPt'][sel,1]\n",
    "print out\n",
    "ttt = np.array([[0,1,2,3,4,5,6,7,8,9],\n",
    "              [0,1,2,3,4,5,6,7,8,9]])\n",
    "print ttt[ttt>4]"
   ]
  },
  {
   "cell_type": "code",
   "execution_count": 12,
   "metadata": {},
   "outputs": [
    {
     "name": "stdout",
     "output_type": "stream",
     "text": [
      "central (|eta|<1.48) b-quark fraction: 0.560120514927\n",
      "central (|eta|<1.48) anti-b-quark fraction: 0.566967953985\n",
      "barrel-barrel fraction of events =  31.76  %\n",
      "barrel-endcap fraction of events =  25.18  %\n",
      "endcap-endcap fraction of events =  19.05  %\n"
     ]
    }
   ],
   "source": [
    "#GOTTA get some TLorentz Vectors for the LLPs\n",
    "#gen particle id for bottom quark and anti-bottom quark\n",
    "sel_b = ten_gen_var['gParticleId'] == 5\n",
    "sel_bhat = ten_gen_var['gParticleId'] == -5\n",
    "\n",
    "#4-variables for bottom quark\n",
    "b_pt  = ten_gen_var['gParticlePt'][sel_b]\n",
    "b_eta = ten_gen_var['gParticleEta'][sel_b]\n",
    "b_phi = ten_gen_var['gParticlePhi'][sel_b]\n",
    "b_e = ten_gen_var['gParticleE'][sel_b]\n",
    "\n",
    "\n",
    "#4-variables for anti-bottom quark\n",
    "bhat_pt  = ten_gen_var['gParticlePt'][sel_bhat]\n",
    "bhat_eta = ten_gen_var['gParticleEta'][sel_bhat]\n",
    "bhat_phi = ten_gen_var['gParticlePhi'][sel_bhat]\n",
    "bhat_e = ten_gen_var['gParticleE'][sel_bhat]\n",
    "\n",
    "#central fraction of b-quarks, within eta < 1.48\n",
    "b_central = float(len(b_eta[np.abs(b_eta) < 1.48]))/float(len(b_eta))\n",
    "#central fraction of anti-b-quarks, within eta < 1.48\n",
    "bhat_central = float(len(b_eta[np.abs(bhat_eta) < 1.48]))/float(len(bhat_eta))\n",
    "\n",
    "print \"central (|eta|<1.48) b-quark fraction:\", b_central\n",
    "print \"central (|eta|<1.48) anti-b-quark fraction:\", bhat_central\n",
    "print \"barrel-barrel fraction of events = \", round (b_central*bhat_central*100 , 2), \" %\"\n",
    "print \"barrel-endcap fraction of events = \", round (b_central*(1-bhat_central) + (1-b_central)*bhat_central*100 , 2), \" %\"\n",
    "print \"endcap-endcap fraction of events = \", round ((1-b_central)*(1-bhat_central)*100 , 2), \" %\"\n",
    "\n",
    "llp_p4 = []\n",
    "b_p4 = []\n",
    "bhat_p4 = []\n",
    "for i in range(len(b_pt)):\n",
    "    tmp_p4_b    = rt.TLorentzVector()\n",
    "    tmp_p4_bhat = rt.TLorentzVector()\n",
    "    tmp_p4_b.SetPtEtaPhiE(b_pt[i],b_eta[i],b_phi[i], b_e[i])\n",
    "    tmp_p4_bhat.SetPtEtaPhiE(bhat_pt[i],bhat_eta[i],bhat_phi[i], bhat_e[i])\n",
    "    b_p4.append(tmp_p4_b)\n",
    "    bhat_p4.append(tmp_p4_bhat)\n",
    "    llp_p4.append(tmp_p4_b+tmp_p4_bhat)\n",
    "\n",
    "\n",
    "llp_pt  = [x.Pt() for x in llp_p4]\n",
    "llp_eta = [x.Eta() for x in llp_p4]\n",
    "llp_phi = [x.Phi() for x in llp_p4]\n",
    "llp_e   = [x.E() for x in llp_p4]\n",
    "#for i in llp_p4:\n",
    "#    print i.M()\n",
    "#print sum_pt\n",
    "#for pid,pt,eta,phi,e in zip(ten_gen_var['gParticleId'],ten_gen_var['gParticlePt'],ten_gen_var['gParticleEta'],ten_gen_var['gParticlePhi'],ten_gen_var['gParticleE']):\n",
    "    #print pid, pt, eta\n",
    "    #print [y if x == 5 else -1 for x,y in zip(pid,pt)]"
   ]
  },
  {
   "cell_type": "code",
   "execution_count": null,
   "metadata": {},
   "outputs": [],
   "source": []
  },
  {
   "cell_type": "code",
   "execution_count": 25,
   "metadata": {},
   "outputs": [
    {
     "name": "stderr",
     "output_type": "stream",
     "text": [
      "Warning in <TCanvas::Constructor>: Deleting canvas with same name: c\n"
     ]
    },
    {
     "data": {
      "image/png": "[encoded data removed]",
      "text/plain": [
       "<IPython.core.display.Image object>"
      ]
     },
     "metadata": {},
     "output_type": "display_data"
    }
   ],
   "source": [
    "c = rt.TCanvas('c','c', 800, 600)\n",
    "h = {}\n",
    "h['llp_eta'] = create_TH1D(llp_eta, axis_title=['#eta^{LLP}', 'Events'], name='LLP_#eta', binning=[60,-5,5])\n",
    "h['llp_eta'].SetLineColor(4)\n",
    "c.SetLogy()\n",
    "h['llp_eta'].Draw()\n",
    "c.Draw()"
   ]
  },
  {
   "cell_type": "code",
   "execution_count": 26,
   "metadata": {},
   "outputs": [
    {
     "data": {
      "image/png": "[encoded data removed]",
      "text/plain": [
       "<IPython.core.display.Image object>"
      ]
     },
     "metadata": {},
     "output_type": "display_data"
    }
   ],
   "source": [
    "#c = rt.TCanvas('c','c', 800, 600)\n",
    "h['llp_pt'] = create_TH1D(llp_pt, axis_title=['p_{T}^{LLP}', 'Events'], name='LLP Transverse Momentum', binning=[50,0,200])\n",
    "h['llp_pt'].SetLineColor(4)\n",
    "c.SetLogy()\n",
    "h['llp_pt'].Draw()\n",
    "c.Update()\n",
    "c.Draw()"
   ]
  },
  {
   "cell_type": "code",
   "execution_count": 45,
   "metadata": {},
   "outputs": [
    {
     "name": "stderr",
     "output_type": "stream",
     "text": [
      "Warning in <TROOT::Append>: Replacing existing TH1: #eta of b and #bar{b} (Potential memory leak).\n",
      "Warning in <TROOT::Append>: Replacing existing TH1: bhat_eta (Potential memory leak).\n"
     ]
    },
    {
     "data": {
      "image/png": "[encoded data removed]",
      "text/plain": [
       "<IPython.core.display.Image object>"
      ]
     },
     "metadata": {},
     "output_type": "display_data"
    }
   ],
   "source": [
    "h['b_eta'] = create_TH1D(b_eta, axis_title=['#eta', 'Events'], name='#eta of b and #bar{b}', binning=[50,-5,5])\n",
    "h['b_eta'].SetLineColor(4)\n",
    "h['bhat_eta'] = create_TH1D(bhat_eta, axis_title=['#eta', 'Events'], name='bhat_eta', binning=[50,-5,5])\n",
    "h['bhat_eta'].SetLineColor(2)\n",
    "c.SetLogy()\n",
    "h['b_eta'].SetStats(0)\n",
    "h['b_eta'].Draw()\n",
    "h['bhat_eta'].Draw('same')\n",
    "leg = rt.TLegend(0.7,0.7,0.9,0.8)\n",
    "leg.SetBorderSize(0)\n",
    "leg.AddEntry(h['b_eta'],'b','l')\n",
    "leg.AddEntry(h['bhat_eta'],'#bar{b}','l')\n",
    "leg.Draw('same')\n",
    "c.Draw()"
   ]
  },
  {
   "cell_type": "code",
   "execution_count": 56,
   "metadata": {},
   "outputs": [
    {
     "name": "stderr",
     "output_type": "stream",
     "text": [
      "Warning in <TROOT::Append>: Replacing existing TH1: p_{T} of b and #bar{b} (Potential memory leak).\n"
     ]
    },
    {
     "data": {
      "image/png": "[encoded data removed]",
      "text/plain": [
       "<IPython.core.display.Image object>"
      ]
     },
     "metadata": {},
     "output_type": "display_data"
    }
   ],
   "source": [
    "h['b_pt'] = create_TH1D(b_pt, axis_title=['p_{T} (GeV)', 'Events'], name='p_{T} of b and #bar{b}', binning=[50,0,200])\n",
    "h['b_pt'].SetLineColor(4)\n",
    "h['bhat_pt'] = create_TH1D(bhat_pt, axis_title=['p_{T} (GeV)', 'Events'], name='', binning=[50,0,200])\n",
    "h['bhat_pt'].SetLineColor(2)\n",
    "c.SetLogy()\n",
    "h['b_pt'].SetStats(0)\n",
    "h['b_pt'].Draw()\n",
    "h['bhat_pt'].Draw('same')\n",
    "legpt = rt.TLegend(0.7,0.7,0.9,0.8)\n",
    "legpt.SetBorderSize(0)\n",
    "legpt.AddEntry(h['b_pt'],'b','l')\n",
    "legpt.AddEntry(h['bhat_pt'],'#bar{b}','l')\n",
    "legpt.Draw('same')\n",
    "c.Draw()"
   ]
  },
  {
   "cell_type": "code",
   "execution_count": 57,
   "metadata": {},
   "outputs": [],
   "source": [
    "DecayChannelBr = {}\n",
    "DecayChannelBr['mu'] = 4.88e-2 * 67e-2 * 3.89e-2\n",
    "DecayChannelBr['tau'] = 1.67e-2 * 17.39e-2 * 67e-2 * 3.89e-2"
   ]
  },
  {
   "cell_type": "code",
   "execution_count": 60,
   "metadata": {},
   "outputs": [
    {
     "name": "stdout",
     "output_type": "stream",
     "text": [
      "{'mu': 0.9438317596679413, 'tau': 0.05616824033205858}\n"
     ]
    }
   ],
   "source": [
    "weights = {}\n",
    "\n",
    "sumBr = np.sum(np.array(DecayChannelBr.values()))\n",
    "for k,v in DecayChannelBr.iteritems():\n",
    "    weights[k] = v/sumBr\n",
    "    \n",
    "print weights"
   ]
  },
  {
   "cell_type": "markdown",
   "metadata": {},
   "source": [
    "# Muon Reco efficiency"
   ]
  },
  {
   "cell_type": "markdown",
   "metadata": {},
   "source": [
    "Distance between the Gen mu and best matching track"
   ]
  },
  {
   "cell_type": "code",
   "execution_count": 63,
   "metadata": {},
   "outputs": [
    {
     "ename": "KeyError",
     "evalue": "'tau'",
     "output_type": "error",
     "traceback": [
      "\u001b[0;31m\u001b[0m",
      "\u001b[0;31mKeyError\u001b[0mTraceback (most recent call last)",
      "\u001b[0;32m<ipython-input-63-3259542d287e>\u001b[0m in \u001b[0;36m<module>\u001b[0;34m()\u001b[0m\n\u001b[1;32m      7\u001b[0m \u001b[0mn\u001b[0m \u001b[0;34m=\u001b[0m \u001b[0;34m'tau'\u001b[0m\u001b[0;34m\u001b[0m\u001b[0m\n\u001b[1;32m      8\u001b[0m \u001b[0;34m\u001b[0m\u001b[0m\n\u001b[0;32m----> 9\u001b[0;31m \u001b[0ms\u001b[0m \u001b[0;34m=\u001b[0m \u001b[0mnp\u001b[0m\u001b[0;34m.\u001b[0m\u001b[0mcolumn_stack\u001b[0m\u001b[0;34m(\u001b[0m\u001b[0;34m(\u001b[0m\u001b[0mtree\u001b[0m\u001b[0;34m[\u001b[0m\u001b[0mn\u001b[0m\u001b[0;34m]\u001b[0m\u001b[0;34m[\u001b[0m\u001b[0;34m'mu_RecoMC_dpt'\u001b[0m\u001b[0;34m]\u001b[0m\u001b[0;34m,\u001b[0m \u001b[0mtree\u001b[0m\u001b[0;34m[\u001b[0m\u001b[0mn\u001b[0m\u001b[0;34m]\u001b[0m\u001b[0;34m[\u001b[0m\u001b[0;34m'mu_RecoMC_dR'\u001b[0m\u001b[0;34m]\u001b[0m\u001b[0;34m)\u001b[0m\u001b[0;34m)\u001b[0m\u001b[0;34m\u001b[0m\u001b[0m\n\u001b[0m\u001b[1;32m     10\u001b[0m \u001b[0;34m\u001b[0m\u001b[0m\n\u001b[1;32m     11\u001b[0m \u001b[0mh2\u001b[0m \u001b[0;34m=\u001b[0m \u001b[0mcreate_TH2D\u001b[0m\u001b[0;34m(\u001b[0m\u001b[0ms\u001b[0m\u001b[0;34m,\u001b[0m \u001b[0mtitle\u001b[0m\u001b[0;34m=\u001b[0m\u001b[0;34m''\u001b[0m\u001b[0;34m,\u001b[0m \u001b[0maxis_title\u001b[0m\u001b[0;34m=\u001b[0m\u001b[0;34m[\u001b[0m\u001b[0;34m'dpt'\u001b[0m\u001b[0;34m,\u001b[0m \u001b[0;34m'dR'\u001b[0m \u001b[0;34m,\u001b[0m \u001b[0;34m''\u001b[0m\u001b[0;34m]\u001b[0m\u001b[0;34m,\u001b[0m \u001b[0mbinning\u001b[0m\u001b[0;34m=\u001b[0m\u001b[0mbinning\u001b[0m\u001b[0;34m)\u001b[0m\u001b[0;34m\u001b[0m\u001b[0m\n",
      "\u001b[0;31mKeyError\u001b[0m: 'tau'"
     ]
    },
    {
     "name": "stderr",
     "output_type": "stream",
     "text": [
      "Warning in <TCanvas::Constructor>: Deleting canvas with same name: c_mu_pt\n"
     ]
    }
   ],
   "source": [
    "binning = [100, -0.1, 0.1, 50, 0, 0.05]\n",
    "\n",
    "c = rt.TCanvas('c_mu_pt', 'c_mu_pt',50,50,800,600)\n",
    "c.SetTickx(0)\n",
    "c.SetTicky(0)\n",
    "\n",
    "n = 'tau'\n",
    "\n",
    "s = np.column_stack((tree[n]['mu_RecoMC_dpt'], tree[n]['mu_RecoMC_dR']))\n",
    "\n",
    "h2 = create_TH2D(s, title='', axis_title=['dpt', 'dR' , ''], binning=binning)\n",
    "\n",
    "h2.Draw('colz')\n",
    "CMS_lumi.CMS_lumi(c, -1, 0)\n",
    "c.Draw()"
   ]
  },
  {
   "cell_type": "code",
   "execution_count": 64,
   "metadata": {},
   "outputs": [
    {
     "ename": "ValueError",
     "evalue": "setting an array element with a sequence.",
     "output_type": "error",
     "traceback": [
      "\u001b[0;31m\u001b[0m",
      "\u001b[0;31mValueError\u001b[0mTraceback (most recent call last)",
      "\u001b[0;32m<ipython-input-64-9d8c1d81329b>\u001b[0m in \u001b[0;36m<module>\u001b[0;34m()\u001b[0m\n\u001b[1;32m     12\u001b[0m \u001b[0;34m\u001b[0m\u001b[0m\n\u001b[1;32m     13\u001b[0m     \u001b[0ma\u001b[0m \u001b[0;34m=\u001b[0m \u001b[0mtree\u001b[0m\u001b[0;34m[\u001b[0m\u001b[0mn\u001b[0m\u001b[0;34m]\u001b[0m\u001b[0;34m[\u001b[0m\u001b[0;34m'jetPt'\u001b[0m\u001b[0;34m]\u001b[0m\u001b[0;34m[\u001b[0m\u001b[0;34m:\u001b[0m\u001b[0;34m-\u001b[0m\u001b[0;36m1\u001b[0m\u001b[0;34m]\u001b[0m\u001b[0;34m\u001b[0m\u001b[0m\n\u001b[0;32m---> 14\u001b[0;31m     \u001b[0mh_all\u001b[0m \u001b[0;34m=\u001b[0m \u001b[0mcreate_TH1D\u001b[0m\u001b[0;34m(\u001b[0m\u001b[0mtree\u001b[0m\u001b[0;34m[\u001b[0m\u001b[0mn\u001b[0m\u001b[0;34m]\u001b[0m\u001b[0;34m[\u001b[0m\u001b[0;34m'jetPt'\u001b[0m\u001b[0;34m]\u001b[0m\u001b[0;34m[\u001b[0m\u001b[0;36m3\u001b[0m\u001b[0;34m:\u001b[0m\u001b[0;34m]\u001b[0m\u001b[0;34m,\u001b[0m \u001b[0mname\u001b[0m\u001b[0;34m=\u001b[0m\u001b[0;34m'h_'\u001b[0m\u001b[0;34m+\u001b[0m\u001b[0mn\u001b[0m\u001b[0;34m+\u001b[0m\u001b[0;34m'_mu_pt'\u001b[0m\u001b[0;34m,\u001b[0m \u001b[0mbinning\u001b[0m\u001b[0;34m=\u001b[0m\u001b[0mbinning\u001b[0m\u001b[0;34m,\u001b[0m \u001b[0maxis_title\u001b[0m\u001b[0;34m=\u001b[0m\u001b[0;34m[\u001b[0m\u001b[0;34m'P_{T}^{#mu} [GeV]'\u001b[0m\u001b[0;34m,\u001b[0m \u001b[0;34m'Prob / {:.1f} GeV'\u001b[0m\u001b[0;34m.\u001b[0m\u001b[0mformat\u001b[0m\u001b[0;34m(\u001b[0m\u001b[0mbinning\u001b[0m\u001b[0;34m[\u001b[0m\u001b[0;36m2\u001b[0m\u001b[0;34m]\u001b[0m\u001b[0;34m/\u001b[0m\u001b[0mbinning\u001b[0m\u001b[0;34m[\u001b[0m\u001b[0;36m0\u001b[0m\u001b[0;34m]\u001b[0m\u001b[0;34m)\u001b[0m\u001b[0;34m]\u001b[0m\u001b[0;34m)\u001b[0m\u001b[0;34m\u001b[0m\u001b[0m\n\u001b[0m\u001b[1;32m     15\u001b[0m     \u001b[0mN_norm\u001b[0m \u001b[0;34m=\u001b[0m \u001b[0mh_all\u001b[0m\u001b[0;34m.\u001b[0m\u001b[0mGetEntries\u001b[0m\u001b[0;34m(\u001b[0m\u001b[0;34m)\u001b[0m\u001b[0;34m\u001b[0m\u001b[0m\n\u001b[1;32m     16\u001b[0m     \u001b[0mh_all\u001b[0m\u001b[0;34m.\u001b[0m\u001b[0mScale\u001b[0m\u001b[0;34m(\u001b[0m\u001b[0;36m1.\u001b[0m\u001b[0;34m/\u001b[0m\u001b[0mN_norm\u001b[0m\u001b[0;34m)\u001b[0m\u001b[0;34m\u001b[0m\u001b[0m\n",
      "\u001b[0;32m/home/maojiajing/cms-llp/delayed_jet_analyzer/lib/histo_utilities.pyc\u001b[0m in \u001b[0;36mcreate_TH1D\u001b[0;34m(x, name, title, binning, weights, h2clone, axis_title)\u001b[0m\n\u001b[1;32m     69\u001b[0m         \u001b[0mh\u001b[0m\u001b[0;34m.\u001b[0m\u001b[0mReset\u001b[0m\u001b[0;34m(\u001b[0m\u001b[0;34m)\u001b[0m\u001b[0;34m\u001b[0m\u001b[0m\n\u001b[1;32m     70\u001b[0m \u001b[0;34m\u001b[0m\u001b[0m\n\u001b[0;32m---> 71\u001b[0;31m     \u001b[0mrtnp\u001b[0m\u001b[0;34m.\u001b[0m\u001b[0mfill_hist\u001b[0m\u001b[0;34m(\u001b[0m\u001b[0mh\u001b[0m\u001b[0;34m,\u001b[0m \u001b[0mx\u001b[0m\u001b[0;34m,\u001b[0m \u001b[0mweights\u001b[0m\u001b[0;34m=\u001b[0m\u001b[0mweights\u001b[0m\u001b[0;34m)\u001b[0m\u001b[0;34m\u001b[0m\u001b[0m\n\u001b[0m\u001b[1;32m     72\u001b[0m     \u001b[0mh\u001b[0m\u001b[0;34m.\u001b[0m\u001b[0mSetXTitle\u001b[0m\u001b[0;34m(\u001b[0m\u001b[0maxis_title\u001b[0m\u001b[0;34m[\u001b[0m\u001b[0;36m0\u001b[0m\u001b[0;34m]\u001b[0m\u001b[0;34m)\u001b[0m\u001b[0;34m\u001b[0m\u001b[0m\n\u001b[1;32m     73\u001b[0m     \u001b[0mh\u001b[0m\u001b[0;34m.\u001b[0m\u001b[0mSetYTitle\u001b[0m\u001b[0;34m(\u001b[0m\u001b[0maxis_title\u001b[0m\u001b[0;34m[\u001b[0m\u001b[0;36m1\u001b[0m\u001b[0;34m]\u001b[0m\u001b[0;34m)\u001b[0m\u001b[0;34m\u001b[0m\u001b[0m\n",
      "\u001b[0;32m/usr/local/lib/python2.7/dist-packages/root_numpy/_hist.pyc\u001b[0m in \u001b[0;36mfill_hist\u001b[0;34m(hist, array, weights, return_indices)\u001b[0m\n\u001b[1;32m     45\u001b[0m     \"\"\"\n\u001b[1;32m     46\u001b[0m     \u001b[0;32mimport\u001b[0m \u001b[0mROOT\u001b[0m\u001b[0;34m\u001b[0m\u001b[0m\n\u001b[0;32m---> 47\u001b[0;31m     \u001b[0marray\u001b[0m \u001b[0;34m=\u001b[0m \u001b[0mnp\u001b[0m\u001b[0;34m.\u001b[0m\u001b[0masarray\u001b[0m\u001b[0;34m(\u001b[0m\u001b[0marray\u001b[0m\u001b[0;34m,\u001b[0m \u001b[0mdtype\u001b[0m\u001b[0;34m=\u001b[0m\u001b[0mnp\u001b[0m\u001b[0;34m.\u001b[0m\u001b[0mdouble\u001b[0m\u001b[0;34m)\u001b[0m\u001b[0;34m\u001b[0m\u001b[0m\n\u001b[0m\u001b[1;32m     48\u001b[0m     \u001b[0;32mif\u001b[0m \u001b[0mweights\u001b[0m \u001b[0;32mis\u001b[0m \u001b[0;32mnot\u001b[0m \u001b[0mNone\u001b[0m\u001b[0;34m:\u001b[0m\u001b[0;34m\u001b[0m\u001b[0m\n\u001b[1;32m     49\u001b[0m         \u001b[0mweights\u001b[0m \u001b[0;34m=\u001b[0m \u001b[0mnp\u001b[0m\u001b[0;34m.\u001b[0m\u001b[0masarray\u001b[0m\u001b[0;34m(\u001b[0m\u001b[0mweights\u001b[0m\u001b[0;34m,\u001b[0m \u001b[0mdtype\u001b[0m\u001b[0;34m=\u001b[0m\u001b[0mnp\u001b[0m\u001b[0;34m.\u001b[0m\u001b[0mdouble\u001b[0m\u001b[0;34m)\u001b[0m\u001b[0;34m\u001b[0m\u001b[0m\n",
      "\u001b[0;32m/usr/local/lib/python2.7/dist-packages/numpy/core/numeric.pyc\u001b[0m in \u001b[0;36masarray\u001b[0;34m(a, dtype, order)\u001b[0m\n\u001b[1;32m    499\u001b[0m \u001b[0;34m\u001b[0m\u001b[0m\n\u001b[1;32m    500\u001b[0m     \"\"\"\n\u001b[0;32m--> 501\u001b[0;31m     \u001b[0;32mreturn\u001b[0m \u001b[0marray\u001b[0m\u001b[0;34m(\u001b[0m\u001b[0ma\u001b[0m\u001b[0;34m,\u001b[0m \u001b[0mdtype\u001b[0m\u001b[0;34m,\u001b[0m \u001b[0mcopy\u001b[0m\u001b[0;34m=\u001b[0m\u001b[0mFalse\u001b[0m\u001b[0;34m,\u001b[0m \u001b[0morder\u001b[0m\u001b[0;34m=\u001b[0m\u001b[0morder\u001b[0m\u001b[0;34m)\u001b[0m\u001b[0;34m\u001b[0m\u001b[0m\n\u001b[0m\u001b[1;32m    502\u001b[0m \u001b[0;34m\u001b[0m\u001b[0m\n\u001b[1;32m    503\u001b[0m \u001b[0;34m\u001b[0m\u001b[0m\n",
      "\u001b[0;31mValueError\u001b[0m: setting an array element with a sequence."
     ]
    }
   ],
   "source": [
    "binning = [100, 0, 1500.]\n",
    "\n",
    "n = 'tau'\n",
    "#for n in ['glueBall', '']:\n",
    "for n in ['glueBall']:\n",
    "    leg = rt.TLegend(0.4,0.6,0.95,0.9, process[n])\n",
    "    leg.SetTextFont(42)\n",
    "    leg.SetTextAlign(12)\n",
    "    leg.SetLineWidth(0)\n",
    "    leg.SetBorderSize(0)\n",
    "    leg.GetListOfPrimitives().First().SetTextAlign(22) \n",
    "\n",
    "    a = tree[n]['jetPt'][:-1]\n",
    "    h_all = create_TH1D(tree[n]['jetPt'][3:], name='h_'+n+'_mu_pt', binning=binning, axis_title=['P_{T}^{#mu} [GeV]', 'Prob / {:.1f} GeV'.format(binning[2]/binning[0])])\n",
    "    N_norm = h_all.GetEntries()\n",
    "    h_all.Scale(1./N_norm)\n",
    "    leg.AddEntry(h_all, 'Gen #mu, OF={:1.1e}'.format(h_all.GetBinContent(binning[0]+1)), 'le')\n",
    "\n",
    "    #sel = np.logical_and(np.abs(tree[n]['mu_RecoMC_dpt']) < 0.05, tree[n]['mu_RecoMC_dR'] < 0.015)\n",
    "    #h_recoTrk = create_TH1D(tree[n]['muReco_pt'][sel], name='h_'+n+'_muTrack_pt', binning=binning)\n",
    "    #h_recoTrk.Scale(1./N_norm)\n",
    "    #h_recoTrk.SetLineColor(2)\n",
    "    #leg.AddEntry(h_recoTrk, 'RECO #mu (Track), #epsilon={:.2f}, OF={:1.1e}'.format(np.sum(sel)/N_norm, h_recoTrk.GetBinContent(binning[0]+1)), 'le')\n",
    "\n",
    "    #sel = tree[n]['muReco_isStandAloneMuon']>0.5\n",
    "    #h_recoMu = create_TH1D(tree[n]['muReco_pt'][sel], name='h_'+n+'_muReco_pt', binning=binning)\n",
    "    #h_recoMu.Scale(1./N_norm)\n",
    "    #h_recoMu.SetLineColor(4)\n",
    "    #leg.AddEntry(h_recoMu, 'RECO #mu (StandAlone), #epsilon={:.2f}, OF={:1.1e}'.format(np.sum(sel)/N_norm, h_recoMu.GetBinContent(binning[0]+1)), 'le')\n",
    "\n",
    "    c = rt.TCanvas('c_'+n+'_pt', 'c_'+n+'_pt',50,50,800,600)\n",
    "    c.SetTickx(0)\n",
    "    c.SetTicky(0)\n",
    "\n",
    "    h_all.Draw()\n",
    "    #h_recoTrk.Draw('SAME')\n",
    "    #h_recoMu.Draw('SAME')\n",
    "    leg.Draw()\n",
    "\n",
    "\n",
    "    CMS_lumi.CMS_lumi(c, -1, 0)\n",
    "    c.Draw()\n",
    "    #donotdelete.append([leg, h_all, h_recoTrk, h_recoMu, c])\n",
    "    c.SaveAs('../fig/1902_1/Probe_mu_MC_eff_B2'+n+'.png')"
   ]
  },
  {
   "cell_type": "markdown",
   "metadata": {},
   "source": [
    "# Soft Pion Reco efficiency"
   ]
  },
  {
   "cell_type": "code",
   "execution_count": 65,
   "metadata": {},
   "outputs": [
    {
     "ename": "KeyError",
     "evalue": "'tau'",
     "output_type": "error",
     "traceback": [
      "\u001b[0;31m\u001b[0m",
      "\u001b[0;31mKeyError\u001b[0mTraceback (most recent call last)",
      "\u001b[0;32m<ipython-input-65-dddb426ac517>\u001b[0m in \u001b[0;36m<module>\u001b[0;34m()\u001b[0m\n\u001b[1;32m      7\u001b[0m \u001b[0mn\u001b[0m \u001b[0;34m=\u001b[0m \u001b[0;34m'tau'\u001b[0m\u001b[0;34m\u001b[0m\u001b[0m\n\u001b[1;32m      8\u001b[0m \u001b[0;34m\u001b[0m\u001b[0m\n\u001b[0;32m----> 9\u001b[0;31m \u001b[0ms\u001b[0m \u001b[0;34m=\u001b[0m \u001b[0mnp\u001b[0m\u001b[0;34m.\u001b[0m\u001b[0mcolumn_stack\u001b[0m\u001b[0;34m(\u001b[0m\u001b[0;34m(\u001b[0m\u001b[0mtree\u001b[0m\u001b[0;34m[\u001b[0m\u001b[0mn\u001b[0m\u001b[0;34m]\u001b[0m\u001b[0;34m[\u001b[0m\u001b[0;34m'pisoft_RecoMC_dpt'\u001b[0m\u001b[0;34m]\u001b[0m\u001b[0;34m,\u001b[0m \u001b[0mtree\u001b[0m\u001b[0;34m[\u001b[0m\u001b[0mn\u001b[0m\u001b[0;34m]\u001b[0m\u001b[0;34m[\u001b[0m\u001b[0;34m'pisoft_RecoMC_dR'\u001b[0m\u001b[0;34m]\u001b[0m\u001b[0;34m)\u001b[0m\u001b[0;34m)\u001b[0m\u001b[0;34m\u001b[0m\u001b[0m\n\u001b[0m\u001b[1;32m     10\u001b[0m \u001b[0;34m\u001b[0m\u001b[0m\n\u001b[1;32m     11\u001b[0m \u001b[0mh2\u001b[0m \u001b[0;34m=\u001b[0m \u001b[0mcreate_TH2D\u001b[0m\u001b[0;34m(\u001b[0m\u001b[0ms\u001b[0m\u001b[0;34m,\u001b[0m \u001b[0mtitle\u001b[0m\u001b[0;34m=\u001b[0m\u001b[0;34m''\u001b[0m\u001b[0;34m,\u001b[0m \u001b[0maxis_title\u001b[0m\u001b[0;34m=\u001b[0m\u001b[0;34m[\u001b[0m\u001b[0;34m'dpt'\u001b[0m\u001b[0;34m,\u001b[0m \u001b[0;34m'dR'\u001b[0m \u001b[0;34m,\u001b[0m \u001b[0;34m''\u001b[0m\u001b[0;34m]\u001b[0m\u001b[0;34m,\u001b[0m \u001b[0mbinning\u001b[0m\u001b[0;34m=\u001b[0m\u001b[0mbinning\u001b[0m\u001b[0;34m)\u001b[0m\u001b[0;34m\u001b[0m\u001b[0m\n",
      "\u001b[0;31mKeyError\u001b[0m: 'tau'"
     ]
    }
   ],
   "source": [
    "binning = [100, -0.1, 0.1, 50, 0, 0.05]\n",
    "\n",
    "c = rt.TCanvas('c', 'c',50,50,800,600)\n",
    "c.SetTickx(0)\n",
    "c.SetTicky(0)\n",
    "\n",
    "n = 'tau'\n",
    "\n",
    "s = np.column_stack((tree[n]['pisoft_RecoMC_dpt'], tree[n]['pisoft_RecoMC_dR']))\n",
    "\n",
    "h2 = create_TH2D(s, title='', axis_title=['dpt', 'dR' , ''], binning=binning)\n",
    "\n",
    "h2.Draw('colz')\n",
    "CMS_lumi.CMS_lumi(c, -1, 0)\n",
    "c.Draw()"
   ]
  },
  {
   "cell_type": "code",
   "execution_count": 66,
   "metadata": {},
   "outputs": [
    {
     "ename": "KeyError",
     "evalue": "'mu'",
     "output_type": "error",
     "traceback": [
      "\u001b[0;31m\u001b[0m",
      "\u001b[0;31mKeyError\u001b[0mTraceback (most recent call last)",
      "\u001b[0;32m<ipython-input-66-814afd720944>\u001b[0m in \u001b[0;36m<module>\u001b[0;34m()\u001b[0m\n\u001b[1;32m      2\u001b[0m \u001b[0;34m\u001b[0m\u001b[0m\n\u001b[1;32m      3\u001b[0m \u001b[0;32mfor\u001b[0m \u001b[0mn\u001b[0m \u001b[0;32min\u001b[0m \u001b[0;34m[\u001b[0m\u001b[0;34m'mu'\u001b[0m\u001b[0;34m,\u001b[0m \u001b[0;34m'tau'\u001b[0m\u001b[0;34m]\u001b[0m\u001b[0;34m:\u001b[0m\u001b[0;34m\u001b[0m\u001b[0m\n\u001b[0;32m----> 4\u001b[0;31m     \u001b[0mleg\u001b[0m \u001b[0;34m=\u001b[0m \u001b[0mrt\u001b[0m\u001b[0;34m.\u001b[0m\u001b[0mTLegend\u001b[0m\u001b[0;34m(\u001b[0m\u001b[0;36m0.4\u001b[0m\u001b[0;34m,\u001b[0m\u001b[0;36m0.6\u001b[0m\u001b[0;34m,\u001b[0m\u001b[0;36m0.95\u001b[0m\u001b[0;34m,\u001b[0m\u001b[0;36m0.9\u001b[0m\u001b[0;34m,\u001b[0m \u001b[0mprocess\u001b[0m\u001b[0;34m[\u001b[0m\u001b[0mn\u001b[0m\u001b[0;34m]\u001b[0m\u001b[0;34m)\u001b[0m\u001b[0;34m\u001b[0m\u001b[0m\n\u001b[0m\u001b[1;32m      5\u001b[0m     \u001b[0mleg\u001b[0m\u001b[0;34m.\u001b[0m\u001b[0mSetTextFont\u001b[0m\u001b[0;34m(\u001b[0m\u001b[0;36m42\u001b[0m\u001b[0;34m)\u001b[0m\u001b[0;34m\u001b[0m\u001b[0m\n\u001b[1;32m      6\u001b[0m     \u001b[0mleg\u001b[0m\u001b[0;34m.\u001b[0m\u001b[0mSetTextAlign\u001b[0m\u001b[0;34m(\u001b[0m\u001b[0;36m12\u001b[0m\u001b[0;34m)\u001b[0m\u001b[0;34m\u001b[0m\u001b[0m\n",
      "\u001b[0;31mKeyError\u001b[0m: 'mu'"
     ]
    }
   ],
   "source": [
    "binning = [50, 0, 2.5]\n",
    "\n",
    "for n in ['mu', 'tau']:\n",
    "    leg = rt.TLegend(0.4,0.6,0.95,0.9, process[n])\n",
    "    leg.SetTextFont(42)\n",
    "    leg.SetTextAlign(12)\n",
    "    leg.SetLineWidth(0)\n",
    "    leg.SetBorderSize(0)\n",
    "    leg.GetListOfPrimitives().First().SetTextAlign(22) \n",
    "\n",
    "    h_all = create_TH1D(tree[n]['pisoft_pt'], name='h_'+n+'_pisoft_pt', binning=binning, axis_title=['P_{T}^{#pi_{soft}} [GeV]', 'Prob / {:.1f} GeV'.format(binning[2]/binning[0])])\n",
    "    N_norm = h_all.GetEntries()\n",
    "    h_all.Scale(1./N_norm)\n",
    "    leg.AddEntry(h_all, 'Gen #pi soft, OF={:1.1e}'.format(h_all.GetBinContent(binning[0]+1)), 'le')\n",
    "\n",
    "    sel = np.logical_and(np.abs(tree[n]['pisoft_RecoMC_dpt']) < 0.05, tree[n]['pisoft_RecoMC_dR'] < 0.02)\n",
    "    h_recoTrk = create_TH1D(tree[n]['pisoftReco_pt'][sel], name='h_'+n+'_pisoftTrack_pt', binning=binning)\n",
    "    h_recoTrk.Scale(1./N_norm)\n",
    "    h_recoTrk.SetLineColor(2)\n",
    "    leg.AddEntry(h_recoTrk, 'RECO #pi soft (Track), #epsilon={:.2f}, OF={:1.1e}'.format(np.sum(sel)/N_norm, h_recoTrk.GetBinContent(binning[0]+1)), 'le')\n",
    "\n",
    "    c = rt.TCanvas('c_'+n+'_pt', 'c_'+n+'_pt',50,50,800,600)\n",
    "    c.SetTickx(0)\n",
    "    c.SetTicky(0)\n",
    "\n",
    "    h_all.Draw()\n",
    "    h_recoTrk.Draw('SAME')\n",
    "    leg.Draw()\n",
    "\n",
    "\n",
    "    CMS_lumi.CMS_lumi(c, -1, 0)\n",
    "    c.Draw()\n",
    "    donotdelete.append([leg, h_all, h_recoTrk, h_recoMu, c])\n",
    "    c.SaveAs('../fig/1902_1/Probe_softPi_MC_eff_B2'+n+'.png')"
   ]
  },
  {
   "cell_type": "markdown",
   "metadata": {},
   "source": [
    "# Kaon Reco efficiency"
   ]
  },
  {
   "cell_type": "code",
   "execution_count": 67,
   "metadata": {},
   "outputs": [
    {
     "ename": "KeyError",
     "evalue": "'mu'",
     "output_type": "error",
     "traceback": [
      "\u001b[0;31m\u001b[0m",
      "\u001b[0;31mKeyError\u001b[0mTraceback (most recent call last)",
      "\u001b[0;32m<ipython-input-67-fd93543e6dc0>\u001b[0m in \u001b[0;36m<module>\u001b[0;34m()\u001b[0m\n\u001b[1;32m      2\u001b[0m \u001b[0;34m\u001b[0m\u001b[0m\n\u001b[1;32m      3\u001b[0m \u001b[0;32mfor\u001b[0m \u001b[0mn\u001b[0m \u001b[0;32min\u001b[0m \u001b[0;34m[\u001b[0m\u001b[0;34m'mu'\u001b[0m\u001b[0;34m,\u001b[0m \u001b[0;34m'tau'\u001b[0m\u001b[0;34m]\u001b[0m\u001b[0;34m:\u001b[0m\u001b[0;34m\u001b[0m\u001b[0m\n\u001b[0;32m----> 4\u001b[0;31m     \u001b[0mleg\u001b[0m \u001b[0;34m=\u001b[0m \u001b[0mrt\u001b[0m\u001b[0;34m.\u001b[0m\u001b[0mTLegend\u001b[0m\u001b[0;34m(\u001b[0m\u001b[0;36m0.4\u001b[0m\u001b[0;34m,\u001b[0m\u001b[0;36m0.6\u001b[0m\u001b[0;34m,\u001b[0m\u001b[0;36m0.95\u001b[0m\u001b[0;34m,\u001b[0m\u001b[0;36m0.9\u001b[0m\u001b[0;34m,\u001b[0m \u001b[0mprocess\u001b[0m\u001b[0;34m[\u001b[0m\u001b[0mn\u001b[0m\u001b[0;34m]\u001b[0m\u001b[0;34m)\u001b[0m\u001b[0;34m\u001b[0m\u001b[0m\n\u001b[0m\u001b[1;32m      5\u001b[0m     \u001b[0mleg\u001b[0m\u001b[0;34m.\u001b[0m\u001b[0mSetTextFont\u001b[0m\u001b[0;34m(\u001b[0m\u001b[0;36m42\u001b[0m\u001b[0;34m)\u001b[0m\u001b[0;34m\u001b[0m\u001b[0m\n\u001b[1;32m      6\u001b[0m     \u001b[0mleg\u001b[0m\u001b[0;34m.\u001b[0m\u001b[0mSetTextAlign\u001b[0m\u001b[0;34m(\u001b[0m\u001b[0;36m12\u001b[0m\u001b[0;34m)\u001b[0m\u001b[0;34m\u001b[0m\u001b[0m\n",
      "\u001b[0;31mKeyError\u001b[0m: 'mu'"
     ]
    }
   ],
   "source": [
    "binning = [50, 0, 20.]\n",
    "\n",
    "for n in ['mu', 'tau']:\n",
    "    leg = rt.TLegend(0.4,0.6,0.95,0.9, process[n])\n",
    "    leg.SetTextFont(42)\n",
    "    leg.SetTextAlign(12)\n",
    "    leg.SetLineWidth(0)\n",
    "    leg.SetBorderSize(0)\n",
    "    leg.GetListOfPrimitives().First().SetTextAlign(22) \n",
    "\n",
    "    h_all = create_TH1D(tree[n]['K_pt'], name='h_'+n+'_K_pt', binning=binning, axis_title=['P_{T}^{K} [GeV]', 'Prob / {:.1f} GeV'.format(binning[2]/binning[0])])\n",
    "    N_norm = h_all.GetEntries()\n",
    "    h_all.Scale(1./N_norm)\n",
    "    leg.AddEntry(h_all, 'Gen, OF={:1.1e}'.format(h_all.GetBinContent(binning[0]+1)), 'le')\n",
    "\n",
    "    sel = np.logical_and(np.abs(tree[n]['K_RecoMC_dpt']) < 0.05, tree[n]['K_RecoMC_dR'] < 0.02)\n",
    "    h_recoTrk = create_TH1D(tree[n]['KReco_pt'][sel], name='h_'+n+'_KTrack_pt', binning=binning)\n",
    "    h_recoTrk.Scale(1./N_norm)\n",
    "    h_recoTrk.SetLineColor(2)\n",
    "    leg.AddEntry(h_recoTrk, 'RECO, #epsilon={:.2f}, OF={:1.1e}'.format(np.sum(sel)/N_norm, h_recoTrk.GetBinContent(binning[0]+1)), 'le')\n",
    "\n",
    "    c = rt.TCanvas('c_'+n+'_pt', 'c_'+n+'_pt',50,50,800,600)\n",
    "    c.SetTickx(0)\n",
    "    c.SetTicky(0)\n",
    "\n",
    "    h_all.Draw()\n",
    "    h_recoTrk.Draw('SAME')\n",
    "    leg.Draw()\n",
    "\n",
    "\n",
    "    CMS_lumi.CMS_lumi(c, -1, 0)\n",
    "    c.Draw()\n",
    "    donotdelete.append([leg, h_all, h_recoTrk, h_recoMu, c])\n",
    "    c.SaveAs('../fig/1902_1/Probe_K_MC_eff_B2'+n+'.png')"
   ]
  },
  {
   "cell_type": "markdown",
   "metadata": {},
   "source": [
    "# Efficiency and distribution as a function of $q^2$"
   ]
  },
  {
   "cell_type": "markdown",
   "metadata": {},
   "source": [
    "Definition is $q^2 = (p_B - p_D)^2 = (p_l + p_\\nu)^2$.\n",
    "Morally is the energy of the interaction between leptons and quarks"
   ]
  },
  {
   "cell_type": "code",
   "execution_count": 68,
   "metadata": {},
   "outputs": [
    {
     "ename": "KeyError",
     "evalue": "'mu'",
     "output_type": "error",
     "traceback": [
      "\u001b[0;31m\u001b[0m",
      "\u001b[0;31mKeyError\u001b[0mTraceback (most recent call last)",
      "\u001b[0;32m<ipython-input-68-c16742952ac9>\u001b[0m in \u001b[0;36m<module>\u001b[0;34m()\u001b[0m\n\u001b[1;32m     15\u001b[0m     \u001b[0mleg\u001b[0m\u001b[0;34m.\u001b[0m\u001b[0mSetBorderSize\u001b[0m\u001b[0;34m(\u001b[0m\u001b[0;36m0\u001b[0m\u001b[0;34m)\u001b[0m\u001b[0;34m\u001b[0m\u001b[0m\n\u001b[1;32m     16\u001b[0m \u001b[0;34m\u001b[0m\u001b[0m\n\u001b[0;32m---> 17\u001b[0;31m     h_MC_all = create_TH1D(tree[n]['q2_MC'], name='h_'+n+'_MC_all', \n\u001b[0m\u001b[1;32m     18\u001b[0m                            \u001b[0mbinning\u001b[0m\u001b[0;34m=\u001b[0m\u001b[0mbinning\u001b[0m\u001b[0;34m,\u001b[0m\u001b[0;34m\u001b[0m\u001b[0m\n\u001b[1;32m     19\u001b[0m                            axis_title=['q^{2} [GeV^{2}]', 'Prob. / {:.1f} GeV^{{2}}'.format(binning[2]/binning[0])])\n",
      "\u001b[0;31mKeyError\u001b[0m: 'mu'"
     ]
    }
   ],
   "source": [
    "# binning = [30, 0, (5.3 - 2.0)**2]\n",
    "binning = [30, 0, 18.]\n",
    "\n",
    "q2_max_th = (5.29 - 2.01)**2\n",
    "\n",
    "for n in ['mu', 'tau']:\n",
    "    c = rt.TCanvas('c_q2_MC'+n, 'c_q2_MC'+n,50,50,800,600)\n",
    "    c.SetTickx(0)\n",
    "    c.SetTicky(0)\n",
    "\n",
    "    leg = rt.TLegend(0.66,0.7,0.97,0.9)\n",
    "    leg.SetTextFont(42)\n",
    "    leg.SetTextAlign(12)\n",
    "    leg.SetLineWidth(0)\n",
    "    leg.SetBorderSize(0)\n",
    "\n",
    "    h_MC_all = create_TH1D(tree[n]['q2_MC'], name='h_'+n+'_MC_all', \n",
    "                           binning=binning, \n",
    "                           axis_title=['q^{2} [GeV^{2}]', 'Prob. / {:.1f} GeV^{{2}}'.format(binning[2]/binning[0])])\n",
    "    N_norm = h_MC_all.GetEntries()\n",
    "    h_MC_all.Scale(1./N_norm)\n",
    "    leg.AddEntry(h_all, 'MC triggered {}'.format(process_short[n]))\n",
    "\n",
    "    sel_pisoft = np.logical_and(np.abs(tree[n]['pisoft_RecoMC_dpt']) < 0.05, tree[n]['pisoft_RecoMC_dR'] < 0.02)\n",
    "    sel_pi = np.logical_and(np.abs(tree[n]['pi_RecoMC_dpt']) < 0.05, tree[n]['pi_RecoMC_dR'] < 0.02)\n",
    "    sel_K = np.logical_and(np.abs(tree[n]['K_RecoMC_dpt']) < 0.05, tree[n]['K_RecoMC_dR'] < 0.02)\n",
    "    sel_mu = tree[n]['muReco_isStandAloneMuon']>0.5\n",
    "    sel_D = np.logical_and(sel_K, sel_pi)\n",
    "    sel_Dst = np.logical_and(sel_D, sel_pisoft)\n",
    "    sel = np.logical_and(sel_Dst, sel_mu)\n",
    "\n",
    "    h_MC_reco = create_TH1D(tree[n]['q2_MC'][sel], name='h_'+n+'_MC_reco', binning=binning)\n",
    "    h_MC_reco.Scale(1./N_norm)\n",
    "    h_MC_reco.SetLineColor(2)\n",
    "    leg.AddEntry(h_MC_reco, 'MC reco {}, #epsilon={:.2f}'.format(process_short[n], np.sum(sel)/float(N_norm)))\n",
    "\n",
    "    h_reco = create_TH1D(tree[n]['q2_RECO'][sel], name='h_'+n+'_MC_reco', binning=binning)\n",
    "    h_reco.Scale(1./N_norm)\n",
    "    h_reco.SetLineColor(4)\n",
    "    leg.AddEntry(h_reco, 'Reco {}, #epsilon={:.2f}'.format(process_short[n], np.sum(sel)/float(N_norm)))\n",
    "\n",
    "    h_MC_all.Draw()\n",
    "    h_MC_reco.Draw('SAME')\n",
    "    h_reco.Draw('SAME')\n",
    "    \n",
    "    ln = rt.TLine()\n",
    "    ln.SetLineStyle(9)\n",
    "    ln.SetLineColor(6)\n",
    "    ln.SetLineWidth(2)\n",
    "    ln.DrawLine(q2_max_th, 0, q2_max_th, h_MC_all.GetMaximum())\n",
    "\n",
    "    leg.Draw()\n",
    "\n",
    "    CMS_lumi.CMS_lumi(c, -1, 0)\n",
    "    c.Draw()\n",
    "    \n",
    "    donotdelete.append([c, h_MC_all, h_MC_reco, h_reco, leg])\n",
    "    c.SaveAs('../fig/1902_1/Probe_q2_MC_eff_B2'+n+'.png')"
   ]
  },
  {
   "cell_type": "markdown",
   "metadata": {},
   "source": [
    "# Efficiency and distribution as a function of B $p_T$"
   ]
  },
  {
   "cell_type": "code",
   "execution_count": 69,
   "metadata": {},
   "outputs": [
    {
     "ename": "KeyError",
     "evalue": "'mu'",
     "output_type": "error",
     "traceback": [
      "\u001b[0;31m\u001b[0m",
      "\u001b[0;31mKeyError\u001b[0mTraceback (most recent call last)",
      "\u001b[0;32m<ipython-input-69-e728af42f4d1>\u001b[0m in \u001b[0;36m<module>\u001b[0;34m()\u001b[0m\n\u001b[1;32m     13\u001b[0m     \u001b[0mleg\u001b[0m\u001b[0;34m.\u001b[0m\u001b[0mSetBorderSize\u001b[0m\u001b[0;34m(\u001b[0m\u001b[0;36m0\u001b[0m\u001b[0;34m)\u001b[0m\u001b[0;34m\u001b[0m\u001b[0m\n\u001b[1;32m     14\u001b[0m \u001b[0;34m\u001b[0m\u001b[0m\n\u001b[0;32m---> 15\u001b[0;31m     h_MC_all = create_TH1D(tree[n]['Bp_pt'], name='h_'+n+'_MC_all', \n\u001b[0m\u001b[1;32m     16\u001b[0m                            \u001b[0mbinning\u001b[0m\u001b[0;34m=\u001b[0m\u001b[0mbinning\u001b[0m\u001b[0;34m,\u001b[0m\u001b[0;34m\u001b[0m\u001b[0m\n\u001b[1;32m     17\u001b[0m                            axis_title=['p^{(B)}_{T} [GeV]', 'Prob. / {:.1f} GeV'.format(binning[2]/binning[0])])\n",
      "\u001b[0;31mKeyError\u001b[0m: 'mu'"
     ]
    },
    {
     "name": "stderr",
     "output_type": "stream",
     "text": [
      "Warning in <TCanvas::Constructor>: Deleting canvas with same name: c_q2_MCmu\n"
     ]
    }
   ],
   "source": [
    "# binning = [30, 0, (5.3 - 2.0)**2]\n",
    "binning = [30, 0, 70]\n",
    "\n",
    "for n in ['mu', 'tau']:\n",
    "    c = rt.TCanvas('c_q2_MC'+n, 'c_q2_MC'+n,50,50,800,600)\n",
    "    c.SetTickx(0)\n",
    "    c.SetTicky(0)\n",
    "\n",
    "    leg = rt.TLegend(0.45,0.6,0.95,0.9)\n",
    "    leg.SetTextFont(42)\n",
    "    leg.SetTextAlign(12)\n",
    "    leg.SetLineWidth(0)\n",
    "    leg.SetBorderSize(0)\n",
    "\n",
    "    h_MC_all = create_TH1D(tree[n]['Bp_pt'], name='h_'+n+'_MC_all', \n",
    "                           binning=binning, \n",
    "                           axis_title=['p^{(B)}_{T} [GeV]', 'Prob. / {:.1f} GeV'.format(binning[2]/binning[0])])\n",
    "    N_norm = h_MC_all.GetEntries()\n",
    "    h_MC_all.Scale(1./N_norm)\n",
    "    leg.AddEntry(h_all, 'MC, triggered {}'.format(process_short[n]))\n",
    "\n",
    "    sel_pisoft = np.logical_and(np.abs(tree[n]['pisoft_RecoMC_dpt']) < 0.05, tree[n]['pisoft_RecoMC_dR'] < 0.02)\n",
    "    sel_pi = np.logical_and(np.abs(tree[n]['pi_RecoMC_dpt']) < 0.05, tree[n]['pi_RecoMC_dR'] < 0.02)\n",
    "    sel_K = np.logical_and(np.abs(tree[n]['K_RecoMC_dpt']) < 0.05, tree[n]['K_RecoMC_dR'] < 0.02)\n",
    "    sel_mu = tree[n]['muReco_isStandAloneMuon']>0.5\n",
    "    sel_D = np.logical_and(sel_K, sel_pi)\n",
    "    sel_Dst = np.logical_and(sel_D, sel_pisoft)\n",
    "    sel = np.logical_and(sel_Dst, sel_mu)\n",
    "\n",
    "    h_MC_reco = create_TH1D(tree[n]['Bp_pt'][sel], name='h_'+n+'_MC_reco', binning=binning)\n",
    "    h_MC_reco.Scale(1./N_norm)\n",
    "    h_MC_reco.SetLineColor(2)\n",
    "    leg.AddEntry(h_MC_reco, 'MC, reco {}, #epsilon={:.2f}'.format(process_short[n], np.sum(sel)/float(N_norm)))\n",
    "\n",
    "    h_reco = create_TH1D(tree[n]['B_RECO_pt'][sel], name='h_'+n+'_MC_reco', binning=binning)\n",
    "    h_reco.Scale(1./N_norm)\n",
    "    h_reco.SetLineColor(4)\n",
    "    leg.AddEntry(h_reco, 'RECO, reco {}, #epsilon={:.2f}'.format(process_short[n], np.sum(sel)/float(N_norm)))\n",
    "\n",
    "    h_MC_all.Draw()\n",
    "    h_MC_reco.Draw('SAME')\n",
    "    h_reco.Draw('SAME')\n",
    "\n",
    "\n",
    "    leg.Draw()\n",
    "\n",
    "    CMS_lumi.CMS_lumi(c, -1, 0)\n",
    "    c.Draw()\n",
    "    \n",
    "    donotdelete.append([c, h_MC_all, h_MC_reco, h_reco, leg])"
   ]
  },
  {
   "cell_type": "code",
   "execution_count": 70,
   "metadata": {},
   "outputs": [
    {
     "data": {
      "text/plain": [
       "0.00169811320754717"
      ]
     },
     "execution_count": 70,
     "metadata": {},
     "output_type": "execute_result"
    }
   ],
   "source": [
    "3e8*1.5e-12*20./5.3"
   ]
  },
  {
   "cell_type": "code",
   "execution_count": 71,
   "metadata": {},
   "outputs": [
    {
     "data": {
      "text/plain": [
       "0.00046666666666666666"
      ]
     },
     "execution_count": 71,
     "metadata": {},
     "output_type": "execute_result"
    }
   ],
   "source": [
    "3e8*4e-13*7./1.8"
   ]
  },
  {
   "cell_type": "code",
   "execution_count": 72,
   "metadata": {},
   "outputs": [
    {
     "data": {
      "text/plain": [
       "738316.8"
      ]
     },
     "execution_count": 72,
     "metadata": {},
     "output_type": "execute_result"
    }
   ],
   "source": [
    "1e10 * 0.8 * 0.25 * 0.048 * 0.68 * 0.039 * 0.29"
   ]
  },
  {
   "cell_type": "markdown",
   "metadata": {},
   "source": [
    "# Kinematic variables"
   ]
  },
  {
   "cell_type": "code",
   "execution_count": 73,
   "metadata": {},
   "outputs": [],
   "source": [
    "var_dict = {}\n",
    "var_dict['Est_mu_RECO'] = [50, 0, 2.5]\n",
    "var_dict['M2_miss_RECO'] = [50, -2., 10.]\n",
    "var_dict['M_vis_RECO'] = [50, 0, 5.3]"
   ]
  },
  {
   "cell_type": "code",
   "execution_count": 74,
   "metadata": {
    "scrolled": false
   },
   "outputs": [
    {
     "ename": "ValueError",
     "evalue": "no field of name Est_mu_RECO",
     "output_type": "error",
     "traceback": [
      "\u001b[0;31m\u001b[0m",
      "\u001b[0;31mValueError\u001b[0mTraceback (most recent call last)",
      "\u001b[0;32m<ipython-input-74-3663a711ea1f>\u001b[0m in \u001b[0;36m<module>\u001b[0;34m()\u001b[0m\n\u001b[1;32m     17\u001b[0m \u001b[0;34m\u001b[0m\u001b[0m\n\u001b[1;32m     18\u001b[0m     \u001b[0;32mfor\u001b[0m \u001b[0mi_n\u001b[0m\u001b[0;34m,\u001b[0m \u001b[0mn\u001b[0m \u001b[0;32min\u001b[0m \u001b[0menumerate\u001b[0m\u001b[0;34m(\u001b[0m\u001b[0mtree\u001b[0m\u001b[0;34m.\u001b[0m\u001b[0mkeys\u001b[0m\u001b[0;34m(\u001b[0m\u001b[0;34m)\u001b[0m\u001b[0;34m)\u001b[0m\u001b[0;34m:\u001b[0m\u001b[0;34m\u001b[0m\u001b[0m\n\u001b[0;32m---> 19\u001b[0;31m         \u001b[0mh\u001b[0m \u001b[0;34m=\u001b[0m \u001b[0mcreate_TH1D\u001b[0m\u001b[0;34m(\u001b[0m\u001b[0mtree\u001b[0m\u001b[0;34m[\u001b[0m\u001b[0mn\u001b[0m\u001b[0;34m]\u001b[0m\u001b[0;34m[\u001b[0m\u001b[0mvar\u001b[0m\u001b[0;34m]\u001b[0m\u001b[0;34m,\u001b[0m \u001b[0mname\u001b[0m\u001b[0;34m=\u001b[0m\u001b[0;34m'h_'\u001b[0m\u001b[0;34m+\u001b[0m\u001b[0mn\u001b[0m\u001b[0;34m+\u001b[0m\u001b[0;34m'_'\u001b[0m\u001b[0;34m+\u001b[0m\u001b[0mvar\u001b[0m\u001b[0;34m,\u001b[0m \u001b[0mbinning\u001b[0m\u001b[0;34m=\u001b[0m\u001b[0mbinning\u001b[0m\u001b[0;34m)\u001b[0m\u001b[0;34m\u001b[0m\u001b[0m\n\u001b[0m\u001b[1;32m     20\u001b[0m         \u001b[0mh\u001b[0m\u001b[0;34m.\u001b[0m\u001b[0mSetStats\u001b[0m\u001b[0;34m(\u001b[0m\u001b[0;36m0\u001b[0m\u001b[0;34m)\u001b[0m\u001b[0;34m\u001b[0m\u001b[0m\n\u001b[1;32m     21\u001b[0m         \u001b[0mh\u001b[0m\u001b[0;34m.\u001b[0m\u001b[0mScale\u001b[0m\u001b[0;34m(\u001b[0m\u001b[0mweights\u001b[0m\u001b[0;34m[\u001b[0m\u001b[0mn\u001b[0m\u001b[0;34m]\u001b[0m\u001b[0;34m/\u001b[0m\u001b[0mh\u001b[0m\u001b[0;34m.\u001b[0m\u001b[0mGetEntries\u001b[0m\u001b[0;34m(\u001b[0m\u001b[0;34m)\u001b[0m\u001b[0;34m)\u001b[0m\u001b[0;34m\u001b[0m\u001b[0m\n",
      "\u001b[0;31mValueError\u001b[0m: no field of name Est_mu_RECO"
     ]
    }
   ],
   "source": [
    "for var, binning in var_dict.iteritems():\n",
    "    leg = rt.TLegend(0.7,0.6,0.95,0.9)\n",
    "    leg.SetTextFont(42)\n",
    "    leg.SetTextAlign(12)\n",
    "    leg.SetLineWidth(0)\n",
    "    leg.SetBorderSize(0)\n",
    "    \n",
    "    h_sum = rt.TH1D('h_sum'+var, '', binning[0], binning[1], binning[2])\n",
    "    h_sum.SetXTitle(var)\n",
    "    h_sum.SetYTitle('Probability / {:.2f}'.format(h_sum.GetBinWidth(1)))\n",
    "    h_sum.GetYaxis().SetTitleOffset(1.3)\n",
    "    h_sum.SetStats(0)\n",
    "    h_sum.SetLineColor(16)\n",
    "    h_sum.SetFillColor(16)\n",
    "    h_sum.constituents = []\n",
    "    leg.AddEntry(h_sum, 'Sum, weighted for Br', 'l')\n",
    "    \n",
    "    for i_n, n in enumerate(tree.keys()):\n",
    "        h = create_TH1D(tree[n][var], name='h_'+n+'_'+var, binning=binning)\n",
    "        h.SetStats(0)\n",
    "        h.Scale(weights[n]/h.GetEntries())\n",
    "        h.SetLineColor(std_color_list[i_n+1])\n",
    "        leg.AddEntry(h, process[n], 'l')\n",
    "        \n",
    "        h_sum.Add(h)\n",
    "        h_sum.constituents.append(h)\n",
    "\n",
    "    ln = rt.TLine()\n",
    "    ln.SetLineColor(6)\n",
    "    ln.SetLineWidth(2)\n",
    "    ln.SetLineStyle(9)\n",
    "    leg.AddEntry(ln, 'M_{B^{#pm}}', 'l')\n",
    "    \n",
    "    h_sum.Sumw2(0)\n",
    "    h_sum.SetFillStyle(3001)\n",
    "    \n",
    "    c = rt.TCanvas('c_'+var, 'c_'+var,50,50,800,600)\n",
    "    c.SetTickx(0)\n",
    "    c.SetTicky(0)\n",
    "    \n",
    "    h_sum.Draw()\n",
    "    for h in h_sum.constituents:\n",
    "        h.Draw('SAME')\n",
    "    \n",
    "    ln.DrawLine(5.279, 0, 5.279, h_sum.GetMaximum())\n",
    "    leg.Draw()\n",
    "    \n",
    "    if var in ['mu_ip']:\n",
    "        c.SetLogy()\n",
    "    \n",
    "    CMS_lumi.CMS_lumi(c, -1, 0)\n",
    "    c.Draw()\n",
    "    \n",
    "    donotdelete.append([c, h_sum, leg])"
   ]
  },
  {
   "cell_type": "code",
   "execution_count": null,
   "metadata": {},
   "outputs": [],
   "source": []
  }
 ],
 "metadata": {
  "kernelspec": {
   "display_name": "Python 2",
   "language": "python",
   "name": "python2"
  },
  "language_info": {
   "codemirror_mode": {
    "name": "ipython",
    "version": 2
   },
   "file_extension": ".py",
   "mimetype": "text/x-python",
   "name": "python",
   "nbconvert_exporter": "python",
   "pygments_lexer": "ipython2",
   "version": "2.7.15rc1"
  }
 },
 "nbformat": 4,
 "nbformat_minor": 2
}
