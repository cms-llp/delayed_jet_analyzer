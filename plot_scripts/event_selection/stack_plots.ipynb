{
 "cells": [
  {
   "cell_type": "code",
   "execution_count": 1,
   "metadata": {},
   "outputs": [
    {
     "name": "stdout",
     "output_type": "stream",
     "text": [
      "Welcome to JupyROOT 6.16/00\n"
     ]
    }
   ],
   "source": [
    "import ROOT as rt\n",
    "import root_numpy as rtnp\n",
    "import csv\n",
    "import re\n",
    "import sys\n",
    "import uproot\n",
    "import numpy as np\n",
    "import awkward\n",
    "import math\n",
    "from matplotlib import pyplot as plt\n",
    "sys.path.append('/nfshome/christiw/llp/delayed_jet_analyzer/lib/')\n",
    "\n",
    "from histo_utilities import create_TH1D, create_TH2D, std_color_list\n",
    "from array import array\n",
    "from prettytable import PrettyTable\n",
    "import collections\n",
    "from collections import OrderedDict\n",
    "import CMS_lumi, tdrstyle\n",
    "tdrstyle.setTDRStyle()\n",
    "CMS_lumi.writeExtraText = 1\n",
    "CMS_lumi.extraText = \"     Simulation Preliminary\"\n",
    "\n",
    "# donotdelete = []\n"
   ]
  },
  {
   "cell_type": "code",
   "execution_count": null,
   "metadata": {},
   "outputs": [],
   "source": [
    "# label['ggHm50ct100mmWISR'] = 'ggH M_{X} = 50 GeV, c#tau = 100 mm'\n",
    "\n",
    "lumi = (37.80+44.98+63.67) * 1000 #in pb, CMS recorded 2016 + 2017 + 2018\n",
    "\n",
    "onelep_br = 0.2134\n",
    "twolep_br = 0.06729\n",
    "    \n",
    "wh = { 'mh125':1.475,\n",
    "    'mh300':0.06724,\n",
    "    'mh500':0.008621,\n",
    "    'mh1000':3.585E-4,\n",
    "    'mh2000':5.706E-06 }\n",
    "zh = {  'mh125':9.095E-01,\n",
    "    'mh300':4.132E-02,\n",
    "    'mh500':5.256E-03,\n",
    "    'mh1000':2.977E-04,\n",
    "    'mh2000':7.639E-06 }\n",
    "cs = {\n",
    "}\n",
    "masses = [ 'mh125', 'mh300','mh500','mh1000','mh2000']\n",
    "pls = [ 'pl500','pl1000','pl10000']\n",
    "\n",
    "modes = ['onelep','twolep']\n",
    "for m in masses:\n",
    "    cs[m] = {}\n",
    "    cs[m]['onelep'] = wh[m]*onelep_br\n",
    "    cs[m]['twolep'] = zh[m]*twolep_br\n",
    "\n",
    "n_mc = {}\n",
    "for k,v in cs.items():\n",
    "    n_mc[k] = {}\n",
    "    for j,u in v.items():\n",
    "        n_mc[k][j] = lumi*u\n",
    "        print(k,j,n_mc[k][j])\n"
   ]
  }
 ],
 "metadata": {
  "kernelspec": {
   "display_name": "Python 3",
   "language": "python",
   "name": "python3"
  },
  "language_info": {
   "codemirror_mode": {
    "name": "ipython",
    "version": 3
   },
   "file_extension": ".py",
   "mimetype": "text/x-python",
   "name": "python",
   "nbconvert_exporter": "python",
   "pygments_lexer": "ipython3",
   "version": "3.6.6"
  }
 },
 "nbformat": 4,
 "nbformat_minor": 2
}
