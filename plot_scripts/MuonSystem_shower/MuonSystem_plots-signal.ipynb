{
 "cells": [
  {
   "cell_type": "code",
   "execution_count": 1,
   "metadata": {},
   "outputs": [
    {
     "name": "stdout",
     "output_type": "stream",
     "text": [
      "Welcome to JupyROOT 6.18/02\n",
      "3.6.8 (default, Aug  7 2019, 17:28:10) \n",
      "[GCC 4.8.5 20150623 (Red Hat 4.8.5-39)]\n"
     ]
    }
   ],
   "source": [
    "import ROOT as rt\n",
    "import csv\n",
    "import re\n",
    "import sys\n",
    "import collections\n",
    "\n",
    "from collections import OrderedDict\n",
    "import uproot\n",
    "import awkward\n",
    "import numpy as np\n",
    "import time\n",
    "from matplotlib import pyplot as plt\n",
    "sys.path.append('/storage/user/christiw/gpu/christiw/llp/delayed_jet_analyzer/lib/')\n",
    "\n",
    "from histo_utilities import create_TH1D, create_TH2D, std_color_list, create_TGraph\n",
    "\n",
    "import CMS_lumi, tdrstyle\n",
    "tdrstyle.setTDRStyle()\n",
    "CMS_lumi.writeExtraText = 0\n",
    "\n",
    "print(sys.version)"
   ]
  },
  {
   "cell_type": "markdown",
   "metadata": {},
   "source": [
    "# Load ntuples"
   ]
  },
  {
   "cell_type": "code",
   "execution_count": 5,
   "metadata": {},
   "outputs": [
    {
     "name": "stdout",
     "output_type": "stream",
     "text": [
      "ee100 /mnt/hadoop/store/group/phys_exotica/delayedjets/displacedJetMuonAnalyzer/csc/V1p17/MC_Fall18/v1/v5/normalized/ggH_HToSS_SToEE_ms0p1_pl100_1pb_weighted.root\n",
      "998500\n",
      "ee500 /mnt/hadoop/store/group/phys_exotica/delayedjets/displacedJetMuonAnalyzer/csc/V1p17/MC_Fall18/v1/v5/normalized/ggH_HToSS_SToEE_ms0p1_pl500_1pb_weighted.root\n",
      "999400\n",
      "pi100 /mnt/hadoop/store/group/phys_exotica/delayedjets/displacedJetMuonAnalyzer/csc/V1p17/MC_Fall18/v1/v5/normalized/ggH_HToSS_SToPi0Pi0_ms1_pl100_1pb_weighted.root\n",
      "999400\n",
      "pi500 /mnt/hadoop/store/group/phys_exotica/delayedjets/displacedJetMuonAnalyzer/csc/V1p17/MC_Fall18/v1/v5/normalized/ggH_HToSS_SToPi0Pi0_ms1_pl500_1pb_weighted.root\n",
      "999700\n",
      "CPU times: user 1.48 s, sys: 38.9 ms, total: 1.52 s\n",
      "Wall time: 7.47 s\n"
     ]
    }
   ],
   "source": [
    "%%time\n",
    "\n",
    "fpath =OrderedDict()\n",
    "tree = OrderedDict()\n",
    "\n",
    "path = '/mnt/hadoop/store/group/phys_exotica/delayedjets/displacedJetMuonAnalyzer/csc/V1p17/MC_Fall18/v1/v5/normalized/'\n",
    "\n",
    "fpath['ee100'] = path + 'ggH_HToSS_SToEE_ms0p1_pl100_1pb_weighted.root'\n",
    "fpath['ee500'] = path + 'ggH_HToSS_SToEE_ms0p1_pl500_1pb_weighted.root'\n",
    "fpath['pi100'] = path + 'ggH_HToSS_SToPi0Pi0_ms1_pl100_1pb_weighted.root'\n",
    "fpath['pi500'] = path + 'ggH_HToSS_SToPi0Pi0_ms1_pl500_1pb_weighted.root'\n",
    "\n",
    "for k,v in fpath_bkg.items():\n",
    "    print (k, v)\n",
    "    root_dir = uproot.open(v) \n",
    "    tree[k] = root_dir['MuonSystem']\n",
    "    print(len(tree[k]))"
   ]
  },
  {
   "cell_type": "markdown",
   "metadata": {},
   "source": [
    "# Helper Functions"
   ]
  },
  {
   "cell_type": "code",
   "execution_count": null,
   "metadata": {},
   "outputs": [],
   "source": [
    "import math\n",
    "def deltaPhi( phi1,  phi2):\n",
    "    dphi = phi1-phi2\n",
    "    while (dphi > math.pi):\n",
    "        dphi -= 2*math.pi\n",
    "    while (dphi <= -math.pi):\n",
    "        dphi += 2*math.pi\n",
    "    return dphi\n",
    "def deltaR(eta1, phi1, eta2, phi2):\n",
    "    dphi = deltaPhi(phi1,phi2)\n",
    "    deta = eta1 - eta2\n",
    "    return (dphi*dphi + deta*deta)**0.5"
   ]
  },
  {
   "cell_type": "markdown",
   "metadata": {},
   "source": [
    "# Load variables"
   ]
  },
  {
   "cell_type": "code",
   "execution_count": 23,
   "metadata": {
    "slideshow": {
     "slide_type": "notes"
    }
   },
   "outputs": [],
   "source": [
    "\n",
    "JET_PT_CUT = 10.0\n",
    "MUON_PT_CUT = 20.0\n",
    "jetPt_cut = 50\n",
    "cluster_index = '3'\n",
    "\n",
    "\n",
    "weight = {}\n",
    "pileupWeight = {}\n",
    "\n",
    "evtNum = {}\n",
    "runNum = {}\n",
    "lumiSec = {}\n",
    "sel_ev = {}\n",
    "\n",
    "gLLP_csc = {}\n",
    "gLLP_ctau = {}\n",
    "\n",
    "cscRechitClusterX = {}\n",
    "cscRechitClusterY = {}\n",
    "cscRechitClusterZ = {}\n",
    "cscRechitClusterPhi = {}\n",
    "cscRechitClusterEta = {}\n",
    "cscRechitClusterNStation = {}\n",
    "cscRechitClusterNChamber = {}\n",
    "cscRechitClusterSize = {}\n",
    "cscRechitClusterAvgStation = {}\n",
    "\n",
    "\n",
    "\n",
    "for k, T in tree.items():\n",
    "        \n",
    "########### SELECTION: CLUSTERS ############\n",
    "    sel_rechitcluster = T.array('cscRechitCluster' + cluster_index + '_match_gLLP_csc') == 1\n",
    "\n",
    "#     sel_rechitcluster = np.logical_and(sel_rechitcluster, np.abs(T.array('cscRechitCluster' + cluster_index + 'Eta')) < 2.0)\n",
    "#     me1112_veto = 0\n",
    "#     sel_rechitcluster = np.logical_and(sel_rechitcluster, T.array('cscRechitCluster' + cluster_index + 'NRechitChamberPlus11') == 0)\n",
    "#     sel_rechitcluster = np.logical_and(sel_rechitcluster, T.array('cscRechitCluster' + cluster_index + 'NRechitChamberPlus12') == 0)\n",
    "#     sel_rechitcluster = np.logical_and(sel_rechitcluster, T.array('cscRechitCluster' + cluster_index + 'NRechitChamberMinus11') == 0)\n",
    "#     sel_rechitcluster = np.logical_and(sel_rechitcluster, T.array('cscRechitCluster' + cluster_index + 'NRechitChamberMinus12') == 0)\n",
    "\n",
    "#     sel_rechitcluster = np.logical_and(sel_rechitcluster, T.array('cscRechitCluster' + cluster_index + '_match_MB1Seg_0p4') == me1112_veto)\n",
    "#     sel_rechitcluster = np.logical_and(sel_rechitcluster, T.array('cscRechitCluster' + cluster_index + '_match_RE12_0p4') == me1112_veto)\n",
    "#     sel_rechitcluster = np.logical_and(sel_rechitcluster, T.array('cscRechitCluster' + cluster_index + '_match_RB1_0p4') == me1112_veto)\n",
    "#     sel_rechitcluster = np.logical_and(sel_rechitcluster, T.array('cscRechitCluster' + cluster_index + 'TimeSpread') <= 20)\n",
    "    \n",
    "#     sel_rechitcluster = np.logical_and( sel_rechitcluster, T.array('cscRechitCluster' + cluster_index + 'JetVetoPt') < JET_PT_CUT)\n",
    "#     sel_rechitcluster = np.logical_and( sel_rechitcluster, T.array('cscRechitCluster' + cluster_index + 'MuonVetoPt') < MUON_PT_CUT)\n",
    "#     sel_rechitcluster = np.logical_and(sel_rechitcluster, np.logical_and(T.array('cscRechitCluster' + cluster_index + 'TimeTotal') < 12.5, T.array('cscRechitCluster' + cluster_index + 'TimeTotal') > -5.0))\n",
    "        \n",
    "########### SELECTION: JETS ############\n",
    "    \n",
    "    sel_jet = np.logical_and(T.array('jetPt') > jetPt_cut, np.abs(T.array('jetEta')) < 2.4 )\n",
    "\n",
    "########### SELECTION: EVENTS ############\n",
    "    sel_ev[k] = np.sum(T.array('gLLP_csc'),axis = 1) > 0\n",
    "    sel_ev[k]  = np.logical_and(sel_ev[k],sel_rechitcluster.sum() >= 1)\n",
    "\n",
    "\n",
    "#     sel_ev[k]   = np.logical_and(sel_ev[k], T['HLTDecision'].array()[:,310]) # MET trigger\n",
    "#     sel_ev[k]  = np.logical_and(sel_ev[k], T.array('category') == 0)\n",
    "\n",
    "#     sel_ev[k] = np.logical_and(sel_ev[k] ,T.array('met') > 200)\n",
    "#     sel_ev[k] = np.logical_and(sel_ev[k] ,T.array('nLeptons') == 0)\n",
    "#     sel_ev[k] = np.logical_and(sel_ev[k] , sel_jet.sum()>=1)\n",
    "#     sel_ev[k] = np.logical_and(sel_ev[k],T.array('Flag2_all'))\n",
    "\n",
    "########### BRANCHES ############\n",
    "\n",
    "   ##### event variables ##### \n",
    "    \n",
    "    gLLP_beta[k] = T.array('gLLP_beta')[sel_ev[k]]\n",
    "    gLLP_csc[k] = T.array('gLLP_csc')[sel_ev[k]]\n",
    "    weight[k] = T.array('weight')[sel_ev[k]]\n",
    "    evtNum[k] =  T.array('evtNum')[sel_ev[k]]\n",
    "    runNum[k] =  T.array('runNum')[sel_ev[k]]\n",
    "    lumiSec[k] =  T.array('lumiSec')[sel_ev[k]]\n",
    "\n",
    "    if k[:2] == 'mc':\n",
    "        pileupWeight[k] = T.array('pileupWeight')[sel_ev[k]]\n",
    "    else:\n",
    "        pileupWeight[k] = np.ones(weight[k].shape, dtype=bool)\n",
    "    if k[:2] == 'mc':\n",
    "        weight[k] = weight[k]*lumi\n",
    "\n",
    "    ##### cluster-level variables ####\n",
    "    cscRechitClusterPhi[k] = T.array('cscRechitCluster' + cluster_index + 'Phi')[sel_rechitcluster][sel_ev[k]].flatten()\n",
    "    cscRechitClusterX[k] = T.array('cscRechitCluster' + cluster_index + 'X')[sel_rechitcluster][sel_ev[k]].flatten()\n",
    "    cscRechitClusterY[k] = T.array('cscRechitCluster' + cluster_index + 'Y')[sel_rechitcluster][sel_ev[k]].flatten()\n",
    "    cscRechitClusterZ[k] = T.array('cscRechitCluster' + cluster_index + 'Z')[sel_rechitcluster][sel_ev[k]].flatten()\n",
    "    cscRechitClusterEta[k] = T.array('cscRechitCluster' + cluster_index + 'Eta')[sel_rechitcluster][sel_ev[k]].flatten()\n",
    "    cscRechitClusterPhi[k] = T.array('cscRechitCluster' + cluster_index + 'Phi')[sel_rechitcluster][sel_ev[k]].flatten()\n",
    "    cscRechitClusterAvgStation[k] = T.array('cscRechitCluster' + cluster_index + 'AvgStation5')[sel_rechitcluster][sel_ev[k]].flatten()\n",
    "    cscRechitClusterSize[k] =  T.array('cscRechitCluster' + cluster_index + 'Size')[sel_rechitcluster][sel_ev[k]].flatten()\n"
   ]
  },
  {
   "cell_type": "markdown",
   "metadata": {},
   "source": [
    "## 1D histograms"
   ]
  },
  {
   "cell_type": "code",
   "execution_count": 20,
   "metadata": {},
   "outputs": [
    {
     "name": "stderr",
     "output_type": "stream",
     "text": [
      "Warning in <TCanvas::Constructor>: Deleting canvas with same name: c\n"
     ]
    },
    {
     "data": {
      "image/png": "[encoded data removed]",
      "text/plain": [
       "<IPython.core.display.Image object>"
      ]
     },
     "metadata": {},
     "output_type": "display_data"
    }
   ],
   "source": [
    "# Plotting ncsc\n",
    "start_t = time.time()\n",
    "c = rt.TCanvas('c','c', 800, 800)\n",
    "h = {}\n",
    "\n",
    "leg = rt.TLegend(0.7,0.75,0.95,0.90)\n",
    "leg.SetTextSize(0.022)\n",
    "leg.SetBorderSize(0)\n",
    "# leg.SetTextFont(42)\n",
    "leg.SetEntrySeparation(0.01)\n",
    "\n",
    "for i, k in enumerate(tree.keys()):\n",
    "    h[k] = create_TH1D( cscRechitClusterSize[k], axis_title=['Number of Rechits', 'Events'], name=k, binning=[50,0,2000])\n",
    "\n",
    "    h[k].SetLineColor(std_color_list[i])\n",
    "    leg.AddEntry(h[k], k)\n",
    "    h[k].GetXaxis().SetLabelSize(0.04)\n",
    "    h[k].DrawNormalized('same hist')\n",
    "\n",
    "leg.Draw()\n",
    "c.SetLogy()\n",
    "c.Draw()\n",
    "# c.SaveAs()"
   ]
  },
  {
   "cell_type": "code",
   "execution_count": null,
   "metadata": {},
   "outputs": [],
   "source": []
  }
 ],
 "metadata": {
  "kernelspec": {
   "display_name": "Python 3",
   "language": "python",
   "name": "python3"
  },
  "language_info": {
   "codemirror_mode": {
    "name": "ipython",
    "version": 3
   },
   "file_extension": ".py",
   "mimetype": "text/x-python",
   "name": "python",
   "nbconvert_exporter": "python",
   "pygments_lexer": "ipython3",
   "version": "3.6.8"
  }
 },
 "nbformat": 4,
 "nbformat_minor": 4
}
