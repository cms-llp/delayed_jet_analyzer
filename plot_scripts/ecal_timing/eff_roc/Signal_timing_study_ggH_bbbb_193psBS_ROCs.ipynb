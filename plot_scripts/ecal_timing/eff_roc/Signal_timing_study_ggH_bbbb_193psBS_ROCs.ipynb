{
 "cells": [
  {
   "cell_type": "code",
   "execution_count": 1,
   "metadata": {},
   "outputs": [
    {
     "name": "stdout",
     "output_type": "stream",
     "text": [
      "Welcome to JupyROOT 6.18/00\n"
     ]
    }
   ],
   "source": [
    "import ROOT as rt\n",
    "import root_numpy as rtnp\n",
    "import csv\n",
    "import re\n",
    "import sys\n",
    "import uproot\n",
    "import numpy as np\n",
    "import awkward\n",
    "import math\n",
    "import numba\n",
    "import scipy.stats\n",
    "\n",
    "from matplotlib import pyplot as plt\n",
    "sys.path.append('/nfshome/jmao/cms-llp/delayed_jet_analyzer/lib/')\n",
    "\n",
    "from histo_utilities import create_TH1D, create_TH2D, std_color_list, create_TGraph\n",
    "from array import array\n",
    "#from prettytable import PrettyTable\n",
    "import collections\n",
    "from collections import OrderedDict\n",
    "import CMS_lumi, tdrstyle\n",
    "tdrstyle.setTDRStyle()\n",
    "CMS_lumi.writeExtraText = 1\n",
    "CMS_lumi.extraText = \"     Simulation Preliminary\"\n",
    "\n",
    "# donotdelete = []\n"
   ]
  },
  {
   "cell_type": "code",
   "execution_count": 38,
   "metadata": {
    "scrolled": false
   },
   "outputs": [
    {
     "name": "stdout",
     "output_type": "stream",
     "text": [
      "bbbb_ggh_mh125_mx50_pl1000\n",
      "bbbb_ggh_mh125_mx50_pl1000 /mnt/hadoop/store/group/phys_exotica/jmao/jet_timing_studies/samples_plus/signal/bbbb/ggh/ntuple_RunIISummer16_bbbb_ggh_mh125_mx50_pl1000.root\n",
      "File ready\n",
      "Open ready\n",
      "Tree ready\n",
      "NEvents =  50918.0\n",
      "NEvents ready\n",
      "bbbb_ggh_mh125_mx50_pl10000\n",
      "bbbb_ggh_mh125_mx50_pl10000 /mnt/hadoop/store/group/phys_exotica/jmao/jet_timing_studies/samples_plus/signal/bbbb/ggh/ntuple_RunIISummer16_bbbb_ggh_mh125_mx50_pl10000.root\n",
      "File ready\n",
      "Open ready\n",
      "Tree ready\n",
      "NEvents =  50973.0\n",
      "NEvents ready\n",
      "bbbb_ggh_mh2000_mx975_pl1000\n",
      "bbbb_ggh_mh2000_mx975_pl1000 /mnt/hadoop/store/group/phys_exotica/jmao/jet_timing_studies/samples_plus/signal/bbbb/ggh/ntuple_RunIISummer16_bbbb_ggh_mh2000_mx975_pl1000.root\n",
      "File ready\n",
      "Open ready\n",
      "Tree ready\n",
      "NEvents =  17362.0\n",
      "NEvents ready\n"
     ]
    }
   ],
   "source": [
    "directory = '/mnt/hadoop/store/group/phys_exotica/jmao/jet_timing_studies/samples_plus/signal/bbbb/ggh/'\n",
    "out_dir = '/nfshome/jmao/cms-llp/plots/20190719/'\n",
    "name_string1 = 'ntuple_RunIISummer16_'\n",
    "name_string2 = '.root'\n",
    "\n",
    "labels = {'bbbb_ggh_mh125_mx50_pl10000',\n",
    "          'bbbb_ggh_mh125_mx50_pl1000',\n",
    "          'bbbb_ggh_mh2000_mx975_pl1000'}\n",
    "\n",
    "texs = {}\n",
    "\n",
    "texs['bbbb_ggh_mh125_mx50_pl10000'] = 'm_{h} = 125 GeV, m_{x} = 50 GeV, c#tau = 10m'\n",
    "texs['bbbb_ggh_mh125_mx50_pl1000'] = 'm_{h} = 125 GeV, m_{x} = 50 GeV, c#tau = 1m'\n",
    "texs['bbbb_ggh_mh2000_mx975_pl1000'] = 'm_{h} = 2000 GeV, m_{x} = 975 GeV, c#tau = 1m'\n",
    "\n",
    "cols = {}\n",
    "\n",
    "cols['bbbb_ggh_mh125_mx50_pl10000'] =  1\n",
    "cols['bbbb_ggh_mh125_mx50_pl1000'] =  2\n",
    "cols['bbbb_ggh_mh2000_mx975_pl1000'] = 4 \n",
    "\n",
    "\n",
    "MODEL = 'pp #rightarrow XX, X #rightarrow bb, X #rightarrow bb, ggH'\n",
    "\n",
    "fpath = OrderedDict()\n",
    "tree = OrderedDict()\n",
    "nevts = OrderedDict()\n",
    "\n",
    " \n",
    "\n",
    "for label in labels:\n",
    "    print(label)\n",
    "    fpath[label] = directory + name_string1 + label + name_string2\n",
    "    print (label, fpath[label])\n",
    "\n",
    "    print ('File ready')\n",
    "\n",
    "\n",
    "    root_dir = uproot.open(fpath[label]) \n",
    "    print ('Open ready')\n",
    "\n",
    "    tree[label] = root_dir['ntuples/llp']\n",
    "    print ('Tree ready')\n",
    "\n",
    "    nevts[label] = root_dir['ntuples/NEvents'][1]\n",
    "    print ('NEvents = ', nevts[label])\n",
    "    print ('NEvents ready')\n"
   ]
  },
  {
   "cell_type": "code",
   "execution_count": 39,
   "metadata": {},
   "outputs": [],
   "source": [
    "#sort lists based on list1 and require list1 to be valid\n",
    "def sort_valid_lists(list1, list2): \n",
    "    list3 = []\n",
    "    for index, (ele1,ele2) in enumerate(zip(list1,list2)): \n",
    "#         print(index,ele1,ele2)\n",
    "        if not math.isnan(ele1):\n",
    "#             print(\"ele1 is not nan\")\n",
    "            list3.append(tuple((ele1,ele2)))\n",
    "    list3.sort(key=lambda x: x[0])\n",
    "    return list3 "
   ]
  },
  {
   "cell_type": "markdown",
   "metadata": {},
   "source": [
    "# Smear jet time cut"
   ]
  },
  {
   "cell_type": "code",
   "execution_count": 40,
   "metadata": {},
   "outputs": [
    {
     "name": "stdout",
     "output_type": "stream",
     "text": [
      "0 EB only\n",
      "1 ETL only\n",
      "2 EB or ETL\n"
     ]
    }
   ],
   "source": [
    "cases = ['EB only', 'ETL only', 'EB or ETL']\n",
    "# print(cases,cases[0])\n",
    "for i,j in enumerate(cases):\n",
    "    print(i,j)"
   ]
  },
  {
   "cell_type": "code",
   "execution_count": 41,
   "metadata": {
    "scrolled": false
   },
   "outputs": [
    {
     "name": "stdout",
     "output_type": "stream",
     "text": [
      "19\n",
      "1\n",
      "3\n",
      "0 0 0 0 50918\n",
      "bbbb_ggh_mh125_mx50_pl1000 0 0 EB only\n",
      "0 bbbb_ggh_mh125_mx50_pl1000 0 EB only 50918 50918 50918 50918\n",
      "0 bbbb_ggh_mh125_mx50_pl1000 0 EB only 34705 26092\n",
      "0 0 0 1 50918\n",
      "bbbb_ggh_mh125_mx50_pl1000 0 1 ETL only\n",
      "0 bbbb_ggh_mh125_mx50_pl1000 1 ETL only 50918 50918 50918 50918\n",
      "0 bbbb_ggh_mh125_mx50_pl1000 1 ETL only 24488 9837\n",
      "0 0 0 2 50918\n",
      "bbbb_ggh_mh125_mx50_pl1000 0 2 EB or ETL\n",
      "0 bbbb_ggh_mh125_mx50_pl1000 2 EB or ETL 50918 50918 50918 50918\n",
      "0 bbbb_ggh_mh125_mx50_pl1000 2 EB or ETL 42192 38367\n",
      "3 3\n",
      "1 0 1 3 50973\n",
      "bbbb_ggh_mh125_mx50_pl10000 1 0 EB only\n",
      "1 bbbb_ggh_mh125_mx50_pl10000 0 EB only 50973 50973 50973 50973\n",
      "1 bbbb_ggh_mh125_mx50_pl10000 0 EB only 10074 6973\n",
      "1 0 1 4 50973\n",
      "bbbb_ggh_mh125_mx50_pl10000 1 1 ETL only\n",
      "1 bbbb_ggh_mh125_mx50_pl10000 1 ETL only 50973 50973 50973 50973\n",
      "1 bbbb_ggh_mh125_mx50_pl10000 1 ETL only 5105 1469\n",
      "1 0 1 5 50973\n",
      "bbbb_ggh_mh125_mx50_pl10000 1 2 EB or ETL\n",
      "1 bbbb_ggh_mh125_mx50_pl10000 2 EB or ETL 50973 50973 50973 50973\n",
      "1 bbbb_ggh_mh125_mx50_pl10000 2 EB or ETL 12225 10796\n",
      "3 3\n",
      "2 0 2 6 17362\n",
      "bbbb_ggh_mh2000_mx975_pl1000 2 0 EB only\n",
      "2 bbbb_ggh_mh2000_mx975_pl1000 0 EB only 17362 17362 17362 17362\n",
      "2 bbbb_ggh_mh2000_mx975_pl1000 0 EB only 17233 16502\n",
      "2 0 2 7 17362\n",
      "bbbb_ggh_mh2000_mx975_pl1000 2 1 ETL only\n",
      "2 bbbb_ggh_mh2000_mx975_pl1000 1 ETL only 17362 17362 17362 17362\n",
      "2 bbbb_ggh_mh2000_mx975_pl1000 1 ETL only 7000 1879\n",
      "2 0 2 8 17362\n",
      "bbbb_ggh_mh2000_mx975_pl1000 2 2 EB or ETL\n",
      "2 bbbb_ggh_mh2000_mx975_pl1000 2 EB or ETL 17362 17362 17362 17362\n",
      "2 bbbb_ggh_mh2000_mx975_pl1000 2 EB or ETL 17328 17249\n",
      "3 3\n",
      "3 3\n",
      "3 3\n",
      "found max second Pts 3 3\n"
     ]
    }
   ],
   "source": [
    "t_cuts = [-5.,-4.,-3.,-2.,-1.,-0.8,-0.6,-0.4,-0.2,0.,0.2,0.4,0.6,0.8,1.,2.,3.,4.,5.]\n",
    "print(len(t_cuts))\n",
    "sigma = [0.193]\n",
    "print(len(sigma))\n",
    "print(len(tree))\n",
    "ntr = len(tree)\n",
    "\n",
    "i=0\n",
    "\n",
    "Firsts = []\n",
    "Seconds = []\n",
    "\n",
    "Pt_maxes = []\n",
    "Pt_seconds = []\n",
    "\n",
    "# loop over events and get an array of maximum jet time in events\n",
    "for k,v in tree.items():   \n",
    "\n",
    "#         print(i, k, v)\n",
    "    BSTime = v['genVertexT'].array()\n",
    "    weight = v['genWeight'].array()\n",
    "    \n",
    "    Firsts_tree = []\n",
    "    Seconds_tree = []\n",
    "\n",
    "    Pt_maxes_tree = []\n",
    "    Pt_seconds_tree = []\n",
    "\n",
    "    for case_i,case in enumerate(cases):\n",
    "        if case == 'EB only':\n",
    "            jetPt = v['gLLP_daughter_pt'].array()\n",
    "            jetEta = v['gLLP_daughter_eta'].array()\n",
    "            jetGenTime = v['gen_time'].array()\n",
    "        elif case == 'ETL only':\n",
    "            jetPt = v['gLLP_daughter_pt'].array()\n",
    "            jetEta = v['gLLP_daughter_eta'].array()\n",
    "            jetGenTime = v['gen_time_ETL'].array()\n",
    "        elif case == 'EB or ETL':\n",
    "            jetPt_EB = v['gLLP_daughter_pt'].array()\n",
    "            jetPt_ETL = v['gLLP_daughter_pt'].array()\n",
    "            jetPt = np.concatenate((jetPt_EB, jetPt_ETL), axis=1) \n",
    "            \n",
    "            jetEta_EB = v['gLLP_daughter_eta'].array()\n",
    "            jetEta_ETL = v['gLLP_daughter_eta'].array()\n",
    "            jetEta = np.concatenate((jetEta_EB, jetEta_ETL), axis=1) \n",
    "\n",
    "            jetGenTime_EB = v['gen_time'].array()\n",
    "            jetGenTime_ETL = v['gen_time_ETL'].array()\n",
    "            jetGenTime = np.concatenate((jetGenTime_EB, jetGenTime_ETL), axis=1) \n",
    "\n",
    "        jetTime = [x-y for x,y in zip(jetGenTime,BSTime)]\n",
    "    \n",
    "#     print(jetGenTime[0],BSTime[0], jetTime[0])\\\n",
    "\n",
    "        jetPt = np.array(jetPt)\n",
    "    \n",
    "        maxes = jetPt[:,0]\n",
    "        seconds = jetPt[:,1]\n",
    " \n",
    "    \n",
    "        maxes = np.array(maxes)\n",
    "        seconds = np.array(seconds)\n",
    "\n",
    "        for j,sig in enumerate(sigma):\n",
    "    #     for j,sig in enumerate(sigma):\n",
    "    #         print(j,sig)\n",
    "            n = i*len(sigma)+j\n",
    "            m = i*len(sigma)*len(cases)+case_i*len(sigma)+j\n",
    "    #         print('n',n)\n",
    "            print(i, j, n,m,len(weight))\n",
    "            SmearTime = np.random.normal(0,sig,len(BSTime))\n",
    "            jetNewTime = [x+y for x,y in zip(jetTime,SmearTime)]\n",
    "    #         print(jetTime[0],SmearTime[0], jetNewTime[0])    \n",
    "\n",
    "\n",
    "            jetTime_most_delayed = []\n",
    "            jetTime_second_delayed = []\n",
    "            \n",
    "            print(k,i,case_i,case)\n",
    "            \n",
    " \n",
    "            for evt, (time, pt) in enumerate(zip(jetNewTime,jetPt)):\n",
    "        #         print(i,time,pt,len(time),len(pt))\n",
    "                time_s =[]\n",
    "                pt_s= []\n",
    "                for par in range(len(time)):\n",
    "        #             print(j,pt[j])\n",
    "                    time_s.append(time[par])\n",
    "                    pt_s.append(pt[par])\n",
    "        #         print(i,time_s)\n",
    "        #         print(i,pt_s)\n",
    "                validpairlist = sort_valid_lists(time_s,pt_s)\n",
    "        #         print(i,validpairlist)\n",
    "        #         print(validpairlist[-1][0])\n",
    "                if len(validpairlist)>1 :\n",
    "        #             print(i,len(validpairlist))\n",
    "        #             print(i,validpairlist[-1][0],validpairlist[-2][0])\n",
    "                    jetTime_most_delayed.append(validpairlist[-1][0])\n",
    "                    jetTime_second_delayed.append(validpairlist[-2][0])\n",
    "                else:\n",
    "                    jetTime_most_delayed.append(-666)\n",
    "                    jetTime_second_delayed.append(-666)\n",
    "    #             if i>2:\n",
    "    #                 break\n",
    "            jetTime_most_delayed = np.array(jetTime_most_delayed)\n",
    "            jetTime_second_delayed = np.array(jetTime_second_delayed)\n",
    "            print(i,k,case_i,case,len(jetTime_most_delayed),len(jetTime_second_delayed),len(maxes),len(seconds))\n",
    "            \n",
    "            tcut666_string1 = np.logical_and( jetTime_most_delayed, jetTime_most_delayed>-600)\n",
    "            tcut666_string = np.logical_and( jetTime_most_delayed>-600, jetTime_second_delayed>-600)\n",
    "            \n",
    "            weight1_cut666 = jetTime_most_delayed[tcut666_string1]\n",
    "            weight_cut666 = jetTime_most_delayed[tcut666_string]\n",
    "            \n",
    "            Ntotal_1j = np.shape(weight1_cut666)[0]        \n",
    "            Ntotal_2j = np.shape(weight_cut666)[0]  \n",
    "            print(i,k,case_i,case, Ntotal_1j, Ntotal_2j)\n",
    "    \n",
    "#             Firsts.append(jetTime_most_delayed)\n",
    "#             Seconds.append(jetTime_second_delayed)\n",
    "            \n",
    "            Firsts_tree.append(jetTime_most_delayed)\n",
    "            Seconds_tree.append(jetTime_second_delayed)\n",
    "#             print(k,case)\n",
    "#     print(k,i,case,Firsts_case)\n",
    "    #         print(n,'found max jet gen time')\n",
    "    Firsts_tree = np.array(Firsts_tree)\n",
    "    Seconds_tree = np.array(Seconds_tree)\n",
    "    print(len(Firsts_tree),len(Seconds_tree))\n",
    "        \n",
    "    Firsts.append(Firsts_tree)\n",
    "    Seconds.append(Seconds_tree)    \n",
    "    \n",
    "    Pt_maxes.append(maxes)\n",
    "    Pt_seconds.append(seconds)\n",
    "\n",
    "    i += 1\n",
    "    \n",
    "# Firsts = np.array(Firsts_tree)\n",
    "# Seconds = np.array(Seconds_tree)\n",
    "# print('found max, second jet gen time')\n",
    "print(len(Firsts),len(Seconds))\n",
    "print(len(Firsts[0]),len(Seconds[0]))\n",
    "\n",
    "Pt_maxes = np.array(Pt_maxes)\n",
    "Pt_seconds = np.array(Pt_seconds)\n",
    "print('found max second Pts', len(Pt_maxes),len(Pt_seconds))\n"
   ]
  },
  {
   "cell_type": "code",
   "execution_count": 42,
   "metadata": {},
   "outputs": [
    {
     "name": "stdout",
     "output_type": "stream",
     "text": [
      "3 3\n",
      "3 3\n",
      "3 3\n",
      "3 3\n"
     ]
    }
   ],
   "source": [
    "print(len(Firsts),len(Seconds))\n",
    "print(len(Firsts[0]),len(Seconds[0]))\n",
    "print(len(Firsts[1]),len(Seconds[1]))\n",
    "print(len(Firsts[2]),len(Seconds[2]))"
   ]
  },
  {
   "cell_type": "code",
   "execution_count": 43,
   "metadata": {
    "scrolled": false
   },
   "outputs": [
    {
     "name": "stdout",
     "output_type": "stream",
     "text": [
      "bbbb_ggh_mh125_mx50_pl1000 <TTree b'llp' at 0x7f3781f86b38>\n",
      "0 EB only\n",
      "0 0.193\n",
      "n,s,m 0 0 0\n",
      "50918 50918 50918\n",
      "1 ETL only\n",
      "0 0.193\n",
      "n,s,m 0 1 1\n",
      "50918 50918 50918\n",
      "2 EB or ETL\n",
      "0 0.193\n",
      "n,s,m 0 2 2\n",
      "50918 50918 50918\n",
      "bbbb_ggh_mh125_mx50_pl10000 <TTree b'llp' at 0x7f3781a8ca20>\n",
      "0 EB only\n",
      "0 0.193\n",
      "n,s,m 1 0 3\n",
      "50973 50973 50973\n",
      "1 ETL only\n",
      "0 0.193\n",
      "n,s,m 1 1 4\n",
      "50973 50973 50973\n",
      "2 EB or ETL\n",
      "0 0.193\n",
      "n,s,m 1 2 5\n",
      "50973 50973 50973\n",
      "bbbb_ggh_mh2000_mx975_pl1000 <TTree b'llp' at 0x7f37814bfb70>\n",
      "0 EB only\n",
      "0 0.193\n",
      "n,s,m 2 0 6\n",
      "17362 17362 17362\n",
      "1 ETL only\n",
      "0 0.193\n",
      "n,s,m 2 1 7\n",
      "17362 17362 17362\n",
      "2 EB or ETL\n",
      "0 0.193\n",
      "n,s,m 2 2 8\n",
      "17362 17362 17362\n"
     ]
    }
   ],
   "source": [
    "i = 0\n",
    "Power_1j = []\n",
    "Power_2j = []\n",
    "\n",
    "for k,v in tree.items():   \n",
    "    print(k, v)\n",
    "#     jetGenTime = v['gen_time'].array()\n",
    "    weight = v['genWeight'].array()\n",
    "\n",
    "    Power_1j_tree = []\n",
    "    Power_2j_tree = []\n",
    "\n",
    "    for case_i,case in enumerate(cases):\n",
    "        print(case_i,case)\n",
    "\n",
    "        for j,sig in enumerate(sigma):\n",
    "            print(j,sig)\n",
    "\n",
    "            Power_eff_1j = []\n",
    "            Power_eff_2j = []\n",
    "\n",
    "            n = i*len(sigma)+j\n",
    "            s = case_i*len(sigma)+j\n",
    "            m = i*len(sigma)*len(cases)+case_i*len(sigma)+j\n",
    "            print('n,s,m',n,s,m)\n",
    "    #         print(i,j,n,len(weight))\n",
    "\n",
    "            jetGenTime_max = Firsts[i][s] \n",
    "            jetGenTime_second = Seconds[i][s] \n",
    "            print(len(weight),len(jetGenTime_max),len(jetGenTime_second))\n",
    "\n",
    " \n",
    "    \n",
    "    i += 1\n",
    "    \n",
    " "
   ]
  },
  {
   "cell_type": "code",
   "execution_count": 44,
   "metadata": {
    "scrolled": false
   },
   "outputs": [],
   "source": [
    "# thre = np.array(range(1000))/100.0-5  #-5 to 5 time thresholds\n",
    "# thre = [0,0.5,1,5]\n",
    "# thre = np.array(thre)\n",
    "\n",
    "# # print(thre)\n",
    "\n",
    "# rej = []\n",
    "\n",
    "# for t in thre:\n",
    "#     rej.append(1/scipy.stats.norm.sf(t,0,0.22))\n",
    "    \n",
    "# rej = np.array(rej)\n",
    "# print(rej)\n"
   ]
  },
  {
   "cell_type": "code",
   "execution_count": 45,
   "metadata": {},
   "outputs": [
    {
     "name": "stdout",
     "output_type": "stream",
     "text": [
      "4.999999999999999e-64\n"
     ]
    }
   ],
   "source": [
    "Lumi = 5 * 1e-34 #cm^-2 s^-1\n",
    "Xsec = 1e+8 * 1e-9 * 1e-24 #cm^-2 1e+8 nb\n",
    "Time = 10 * 1e-6 #sec, 12.5 us \n",
    "Nexp = Lumi*Xsec*Time\n",
    "print(Nexp)"
   ]
  },
  {
   "cell_type": "code",
   "execution_count": 46,
   "metadata": {},
   "outputs": [
    {
     "name": "stdout",
     "output_type": "stream",
     "text": [
      "30000000.0\n"
     ]
    }
   ],
   "source": [
    "Nexp = 30*1e+06\n",
    "print(Nexp)"
   ]
  },
  {
   "cell_type": "code",
   "execution_count": 47,
   "metadata": {
    "scrolled": false
   },
   "outputs": [],
   "source": [
    "thre = np.array(range(1000))/100.0-5  #-5 to 5 time thresholds\n",
    "# thre = [0,0.5]\n",
    "# thre = np.array(thre)\n",
    "\n",
    "# print(thre)\n",
    "\n",
    "rej = []\n",
    "\n",
    "for t in thre:\n",
    "#     print(t)\n",
    "#     if t>-4.8:\n",
    "#         break\n",
    "    power = scipy.stats.norm.sf(t,0,0.22)\n",
    "#     power = 1/scipy.stats.norm.sf(t,0,0.22)\n",
    "#     if power > Nexp:\n",
    "#         power = Nexp\n",
    "    rej.append(power)\n",
    "    \n",
    "rej = np.array(rej)\n",
    "# print(rej)\n"
   ]
  },
  {
   "cell_type": "code",
   "execution_count": 48,
   "metadata": {
    "scrolled": false
   },
   "outputs": [
    {
     "name": "stdout",
     "output_type": "stream",
     "text": [
      "i,j,n,s,m,a\n",
      "tree,sig,n,s,m,a\n",
      "0 bbbb_ggh_mh125_mx50_pl1000 0 EB only\n",
      "case EB only Ntotal 34705 26092\n",
      "0 bbbb_ggh_mh125_mx50_pl1000 1 ETL only\n",
      "case ETL only Ntotal 24488 9837\n",
      "0 bbbb_ggh_mh125_mx50_pl1000 2 EB or ETL\n",
      "case EB or ETL Ntotal 42192 38367\n",
      "1 bbbb_ggh_mh125_mx50_pl10000 0 EB only\n",
      "case EB only Ntotal 10074 6973\n",
      "1 bbbb_ggh_mh125_mx50_pl10000 1 ETL only\n",
      "case ETL only Ntotal 5105 1469\n",
      "1 bbbb_ggh_mh125_mx50_pl10000 2 EB or ETL\n",
      "case EB or ETL Ntotal 12225 10796\n",
      "2 bbbb_ggh_mh2000_mx975_pl1000 0 EB only\n",
      "case EB only Ntotal 17233 16502\n",
      "2 bbbb_ggh_mh2000_mx975_pl1000 1 ETL only\n",
      "case ETL only Ntotal 7000 1879\n",
      "2 bbbb_ggh_mh2000_mx975_pl1000 2 EB or ETL\n",
      "case EB or ETL Ntotal 17328 17249\n"
     ]
    }
   ],
   "source": [
    "#effs \n",
    "eff_1j = {}\n",
    "eff_2j = {}\n",
    "\n",
    "pt_cuts = [0,20,30,40,50,60]\n",
    "\n",
    "\n",
    "i = 0\n",
    "\n",
    "print('i,j,n,s,m,a')\n",
    "print('tree,sig,n,s,m,a')\n",
    "\n",
    "for k,v in tree.items(): \n",
    "#     print(k,v,i)\n",
    "\n",
    "    weight = v['genWeight'].array()\n",
    "\n",
    "    jetPt_max = Pt_maxes[i]\n",
    "    jetPt_second = Pt_seconds[i] \n",
    "\n",
    "    for case_i,case in enumerate(cases):\n",
    "#         print(case_i,i)\n",
    "        \n",
    "        for j,sig in enumerate(sigma):\n",
    "#             print(j,sig)\n",
    "            n = i*len(sigma)+j\n",
    "            s = case_i*len(sigma)+j\n",
    "            m = i*len(sigma)*len(cases)+case_i*len(sigma)+j\n",
    "            \n",
    "#             print(i, j, n, s, m)\n",
    "            \n",
    "            jetGenTime_max = Firsts[i][case_i] \n",
    "            jetGenTime_second = Seconds[i][case_i] \n",
    "            print(i,k,case_i,case)\n",
    "#             print(len(jetGenTime_max),len(jetGenTime_second))\n",
    "            \n",
    "            tcut666_string1 = np.logical_and( jetGenTime_max, jetGenTime_max>-600)\n",
    "            tcut666_string = np.logical_and( jetGenTime_second>-600, jetGenTime_max>-600)\n",
    "            \n",
    "            weight1_cut666 = weight[tcut666_string1]\n",
    "            weight_cut666 = weight[tcut666_string]\n",
    "            \n",
    "            Ntotal_1j = np.shape(weight1_cut666)[0]        \n",
    "            Ntotal_2j = np.shape(weight_cut666)[0]  \n",
    "            \n",
    "            print('case',case,'Ntotal',Ntotal_1j, Ntotal_2j)\n",
    "            \n",
    "            for p,pt in enumerate(pt_cuts):\n",
    "#                 print(p,pt)\n",
    "                a = i*len(sigma)*len(cases)*len(pt_cuts)+case_i*len(sigma)*len(pt_cuts)+j*len(sigma)+p\n",
    "#                 print(i,j,n,s,m,a)\n",
    "        \n",
    "                ptcut_string1 = np.logical_and( jetPt_max > pt, jetPt_max>-600)\n",
    "                ptcut_string2 = np.logical_and( jetPt_second > pt, jetPt_second>-600)\n",
    "                ptcut_string = np.logical_and( ptcut_string1, ptcut_string2)\n",
    "                \n",
    "                cut666_string = np.logical_and( ptcut_string, tcut666_string)\n",
    "                cut666_string1 = np.logical_and( ptcut_string1, tcut666_string1)\n",
    "                \n",
    "#                 weight1_cut666 = weight[cut666_string1]\n",
    "#                 weight_cut666 = weight[cut666_string]\n",
    "\n",
    "#                 Ntotal_1j = np.shape(weight1_cut666)[0]        \n",
    "#                 Ntotal_2j = np.shape(weight1_cut666)[0]        \n",
    "# #                 Ntotal_2j = np.shape(weight_cut666)[0]  \n",
    "#                 print('case',case,'pt',pt,'Ntotal',Ntotal_1j, Ntotal_2j)\n",
    "\n",
    "                eff_1j[a] = []\n",
    "                eff_2j[a] = []\n",
    "    \n",
    "                cnt = 0\n",
    "            \n",
    "                \n",
    "                for t in thre:\n",
    "                    \n",
    "#                     print(t)\n",
    "                    \n",
    "                    tcut_string1 = np.logical_and( jetGenTime_max > t, jetGenTime_max>-600)\n",
    "                    tcut_string2 = np.logical_and( jetGenTime_second > t, jetGenTime_second>-600)\n",
    "                    tcut_string = np.logical_and( tcut_string1, tcut_string2)\n",
    "                    \n",
    "                    cut_string = np.logical_and( ptcut_string, tcut_string)\n",
    "                    cut_string1 = np.logical_and( ptcut_string1, tcut_string1)\n",
    "#                     cut_string2 = np.logical_and( ptcut_string2, tcut_string2)\n",
    "                    \n",
    "                    cutted_w_v = weight[cut_string]\n",
    "                    cutted_w1_v = weight[cut_string1]\n",
    "#                     cutted_w2_v = weight[cut_string2]\n",
    "                    \n",
    "                    Nsel_1j =  np.shape(cutted_w1_v)[0]\n",
    "                    Nsel_2j =  np.shape(cutted_w_v)[0]\n",
    "            \n",
    "#                     if Nsel_1j == Nsel_2j and cnt==0:\n",
    "#                         print('NO YAY!')\n",
    "#                         print(k,case,pt)\n",
    "#                         cnt += 1\n",
    "                  \n",
    "                    eff_1j[a].append(Nsel_1j/Ntotal_1j)\n",
    "                    eff_2j[a].append(Nsel_2j/Ntotal_2j)\n",
    "                    \n",
    "                eff_1j[a] = np.array(eff_1j[a])\n",
    "                eff_2j[a] = np.array(eff_2j[a])\n",
    "                \n",
    "#                 print(len(eff_1j[a]),len(eff_2j[a]))\n",
    "                              \n",
    "                    \n",
    "    i += 1"
   ]
  },
  {
   "cell_type": "code",
   "execution_count": 49,
   "metadata": {
    "scrolled": false
   },
   "outputs": [
    {
     "name": "stdout",
     "output_type": "stream",
     "text": [
      "54 54\n"
     ]
    }
   ],
   "source": [
    "print(len(eff_1j),len(eff_2j))\n",
    "# print(eff_1j[0])"
   ]
  },
  {
   "cell_type": "code",
   "execution_count": 50,
   "metadata": {
    "scrolled": false
   },
   "outputs": [
    {
     "name": "stdout",
     "output_type": "stream",
     "text": [
      "1000\n",
      "1000\n",
      "0.6350102249488753\n",
      "0.5337161911819193\n"
     ]
    }
   ],
   "source": [
    "print(len(eff_1j[0]))\n",
    "print(len(eff_2j[0]))\n",
    "\n",
    "print(eff_1j[30][600])\n",
    "print(eff_2j[30][600])\n",
    "# for i in range(1000):\n",
    "#     print(eff_1j[0][i],eff_2j[0][i])\n"
   ]
  },
  {
   "cell_type": "code",
   "execution_count": 51,
   "metadata": {
    "scrolled": false
   },
   "outputs": [
    {
     "name": "stdout",
     "output_type": "stream",
     "text": [
      "i,j,n,s,m,a\n",
      "bbbb_ggh_mh125_mx50_pl10000\n"
     ]
    },
    {
     "name": "stderr",
     "output_type": "stream",
     "text": [
      "Warning in <TCanvas::Constructor>: Deleting canvas with same name: c\n"
     ]
    },
    {
     "data": {
      "image/png": "[encoded data removed]",
      "text/plain": [
       "<IPython.core.display.Image object>"
      ]
     },
     "metadata": {},
     "output_type": "display_data"
    }
   ],
   "source": [
    "c = rt.TCanvas('c','c', 800, 800)\n",
    "leg = rt.TLegend(0.18,0.76,0.53,0.94)\n",
    "leg.SetTextSize(0.022)\n",
    "leg.SetEntrySeparation(0.01)\n",
    "gr_1j = {}\n",
    "gr_2j = {}\n",
    "\n",
    "i = 0\n",
    "\n",
    "print('i,j,n,s,m,a')\n",
    "\n",
    "for k,v in tree.items(): \n",
    "#     print(k,v,i)\n",
    "\n",
    "    for case_i,case in enumerate(cases):\n",
    "#         print(case_i,i)\n",
    "        \n",
    "        for j,sig in enumerate(sigma):\n",
    "#             print(j,sig)\n",
    "            n = i*len(sigma)+j\n",
    "            s = case_i*len(sigma)+j\n",
    "            m = i*len(sigma)*len(cases)+case_i*len(sigma)+j\n",
    "            \n",
    "#             print(i, j, n, s, m)\n",
    "            \n",
    "            \n",
    "            for p,pt in enumerate(pt_cuts):\n",
    "#                 print(p,pt)\n",
    "                a = i*len(sigma)*len(cases)*len(pt_cuts)+case_i*len(sigma)*len(pt_cuts)+j*len(sigma)+p\n",
    "#                 print(i,j,n,s,m,a)\n",
    "        \n",
    "                gr_1j[a] = create_TGraph(eff_1j[a], rej, axis_title = ['#epsilon_{signal}','#epsilon_{bkg}'])\n",
    "                gr_2j[a] = create_TGraph(eff_2j[a], rej, axis_title = ['#epsilon_{signal}','#epsilon_{bkg}'])\n",
    "                \n",
    "#                 gr_1j[a].SetLineColor(std_color_list[i])\n",
    "#                 gr_1j[a].SetLineWidth(2)\n",
    "#                 gr_1j[a].SetMarkerColor(std_color_list[i])\n",
    "#                 leg.AddEntry(gr_1j[a],str(a))\n",
    "\n",
    "#                 gr_1j[a].Draw('ac' if i==0 else 'csame')\n",
    "                if a ==30:\n",
    "                    print(k)\n",
    "#                     print(rej,eff_1j[a])\n",
    "                    gr_1j[a].GetYaxis().SetRangeUser(1e-10,1)\n",
    "                    gr_1j[a].GetXaxis().SetLimits(0,1)\n",
    "                    gr_1j[a].Draw('ac')\n",
    "                    gr_2j[a].SetMarkerColor(2)\n",
    "#                     gr_2j[a].SetMarkerStyle(2)\n",
    "#                     gr_2j[a].SetMarkerSize(0.5)\n",
    "#                     gr_2j[a].SetLineColor(2)\n",
    "                    gr_2j[a].Draw('*same')\n",
    "#                 else:\n",
    "#                     gr_1j[a].Draw('csame')\n",
    "#                 gr_1j[a].Draw('ac' if i==0 else 'c')\n",
    "#                 gr_1j[a].Draw('ac' if i==0 else 'c')\n",
    "    i += 1\n",
    "\n",
    "# leg.Draw()\n",
    "\n",
    "c.SetLogy()\n",
    "c.Update()\n",
    "c.Draw()\n"
   ]
  },
  {
   "cell_type": "code",
   "execution_count": 52,
   "metadata": {
    "scrolled": false
   },
   "outputs": [
    {
     "name": "stdout",
     "output_type": "stream",
     "text": [
      "i,j,n,s,m,a\n"
     ]
    },
    {
     "name": "stderr",
     "output_type": "stream",
     "text": [
      "Warning in <TCanvas::Constructor>: Deleting canvas with same name: c\n",
      "Warning in <TCanvas::Constructor>: Deleting canvas with same name: c\n",
      "Info in <TCanvas::Print>: png file /nfshome/jmao/cms-llp/plots/20190719/Roc_bbbb_ggh_mh125_mx50_pl1000_EB_only_1j.png has been created\n",
      "Warning in <TCanvas::Constructor>: Deleting canvas with same name: c\n",
      "Info in <TCanvas::Print>: png file /nfshome/jmao/cms-llp/plots/20190719/Roc_bbbb_ggh_mh125_mx50_pl1000_ETL_only_1j.png has been created\n",
      "Warning in <TCanvas::Constructor>: Deleting canvas with same name: c\n",
      "Info in <TCanvas::Print>: png file /nfshome/jmao/cms-llp/plots/20190719/Roc_bbbb_ggh_mh125_mx50_pl1000_EB_or_ETL_1j.png has been created\n",
      "Warning in <TCanvas::Constructor>: Deleting canvas with same name: c\n",
      "Info in <TCanvas::Print>: png file /nfshome/jmao/cms-llp/plots/20190719/Roc_bbbb_ggh_mh125_mx50_pl10000_EB_only_1j.png has been created\n",
      "Warning in <TCanvas::Constructor>: Deleting canvas with same name: c\n",
      "Info in <TCanvas::Print>: png file /nfshome/jmao/cms-llp/plots/20190719/Roc_bbbb_ggh_mh125_mx50_pl10000_ETL_only_1j.png has been created\n",
      "Warning in <TCanvas::Constructor>: Deleting canvas with same name: c\n",
      "Info in <TCanvas::Print>: png file /nfshome/jmao/cms-llp/plots/20190719/Roc_bbbb_ggh_mh125_mx50_pl10000_EB_or_ETL_1j.png has been created\n",
      "Warning in <TCanvas::Constructor>: Deleting canvas with same name: c\n",
      "Info in <TCanvas::Print>: png file /nfshome/jmao/cms-llp/plots/20190719/Roc_bbbb_ggh_mh2000_mx975_pl1000_EB_only_1j.png has been created\n",
      "Warning in <TCanvas::Constructor>: Deleting canvas with same name: c\n",
      "Info in <TCanvas::Print>: png file /nfshome/jmao/cms-llp/plots/20190719/Roc_bbbb_ggh_mh2000_mx975_pl1000_ETL_only_1j.png has been created\n",
      "Warning in <TCanvas::Constructor>: Deleting canvas with same name: c\n",
      "Info in <TCanvas::Print>: png file /nfshome/jmao/cms-llp/plots/20190719/Roc_bbbb_ggh_mh2000_mx975_pl1000_EB_or_ETL_1j.png has been created\n"
     ]
    },
    {
     "data": {
      "image/png": "[encoded data removed]",
      "text/plain": [
       "<IPython.core.display.Image object>"
      ]
     },
     "metadata": {},
     "output_type": "display_data"
    }
   ],
   "source": [
    "c = rt.TCanvas('c','c', 800, 800)\n",
    "leg = rt.TLegend(0.18,0.76,0.53,0.94)\n",
    "leg.SetTextSize(0.022)\n",
    "leg.SetBorderSize(0)\n",
    "leg.SetEntrySeparation(0.01)\n",
    "\n",
    "gr_1j = {}\n",
    "gr_2j = {}\n",
    "\n",
    "i = 0\n",
    "\n",
    "print('i,j,n,s,m,a')\n",
    "\n",
    "for k,v in tree.items(): \n",
    "#     print(k,v,i)\n",
    "\n",
    "    for case_i,case in enumerate(cases):\n",
    "#         print(case_i,i)\n",
    "        \n",
    "        for j,sig in enumerate(sigma):\n",
    "#             print(j,sig)\n",
    "            n = i*len(sigma)+j\n",
    "            s = case_i*len(sigma)+j\n",
    "            m = i*len(sigma)*len(cases)+case_i*len(sigma)+j\n",
    "            \n",
    "#             print(i, j, n, s, m)\n",
    "            c = rt.TCanvas('c','c', 800, 800)\n",
    "            leg = rt.TLegend(0.18,0.76,0.53,0.90)\n",
    "            leg.SetTextSize(0.022)\n",
    "            leg.SetBorderSize(0)\n",
    "            leg.SetFillStyle(0)\n",
    "            leg.SetEntrySeparation(0.01)            \n",
    "            leg.SetHeader(texs[k]+'   \"'+case+'\"')            \n",
    "            \n",
    "            for p,pt in enumerate(pt_cuts):\n",
    "#                 print(p,pt)\n",
    "                a = i*len(sigma)*len(cases)*len(pt_cuts)+case_i*len(sigma)*len(pt_cuts)+j*len(sigma)+p\n",
    "#                 print(i,j,n,s,m,a)\n",
    "        \n",
    "                gr_1j[a] = create_TGraph(eff_1j[a], rej, axis_title = ['#epsilon_{signal}','#epsilon_{bkg}'])\n",
    "                gr_2j[a] = create_TGraph(eff_2j[a], rej, axis_title = ['#epsilon_{signal}','#epsilon_{bkg}'])\n",
    "                \n",
    "\n",
    "\n",
    "                gr_1j[a].SetLineWidth(2)\n",
    "                gr_1j[a].SetLineColor(std_color_list[p])\n",
    "                \n",
    "                if p==0:\n",
    "#                     print(rej,eff_1j[a])\n",
    "                    gr_1j[a].GetYaxis().SetRangeUser(1e-10,1)\n",
    "                    gr_1j[a].GetXaxis().SetLimits(0,1)\n",
    "                    gr_1j[a].Draw('ac')\n",
    "                    leg.AddEntry(gr_1j[a],'Pt > '+str(pt)+' GeV')            \n",
    "                else:\n",
    "                    gr_1j[a].Draw('csame')\n",
    "                    leg.AddEntry(gr_1j[a],'Pt > '+str(pt)+' GeV')            \n",
    "                    \n",
    "            leg.Draw()\n",
    "\n",
    "            c.SetLogy()\n",
    "            c.Update()\n",
    "            c.Draw()\n",
    "            c.SaveAs(out_dir+'Roc_'+k+'_'+case.replace(' ','_')+'_1j.png')\n",
    "#                 gr_1j[a].Draw('ac' if i==0 else 'c')\n",
    "#                 gr_1j[a].Draw('ac' if i==0 else 'c')\n",
    "    i += 1\n",
    "\n",
    "# leg.Draw()\n",
    "\n",
    "# c.SetLogy()\n",
    "# c.Update()\n",
    "# c.Draw()\n",
    "# c.SaveAs(out_dir+'Roc_.png')"
   ]
  },
  {
   "cell_type": "code",
   "execution_count": 53,
   "metadata": {
    "scrolled": false
   },
   "outputs": [
    {
     "name": "stdout",
     "output_type": "stream",
     "text": [
      "i,j,n,s,m,a\n"
     ]
    },
    {
     "name": "stderr",
     "output_type": "stream",
     "text": [
      "Warning in <TCanvas::Constructor>: Deleting canvas with same name: c\n",
      "Warning in <TCanvas::Constructor>: Deleting canvas with same name: c\n",
      "Info in <TCanvas::Print>: png file /nfshome/jmao/cms-llp/plots/20190719/Roc_bbbb_ggh_mh125_mx50_pl1000_EB_only_2j.png has been created\n",
      "Warning in <TCanvas::Constructor>: Deleting canvas with same name: c\n",
      "Info in <TCanvas::Print>: png file /nfshome/jmao/cms-llp/plots/20190719/Roc_bbbb_ggh_mh125_mx50_pl1000_ETL_only_2j.png has been created\n",
      "Warning in <TCanvas::Constructor>: Deleting canvas with same name: c\n",
      "Info in <TCanvas::Print>: png file /nfshome/jmao/cms-llp/plots/20190719/Roc_bbbb_ggh_mh125_mx50_pl1000_EB_or_ETL_2j.png has been created\n",
      "Warning in <TCanvas::Constructor>: Deleting canvas with same name: c\n",
      "Info in <TCanvas::Print>: png file /nfshome/jmao/cms-llp/plots/20190719/Roc_bbbb_ggh_mh125_mx50_pl10000_EB_only_2j.png has been created\n",
      "Warning in <TCanvas::Constructor>: Deleting canvas with same name: c\n",
      "Info in <TCanvas::Print>: png file /nfshome/jmao/cms-llp/plots/20190719/Roc_bbbb_ggh_mh125_mx50_pl10000_ETL_only_2j.png has been created\n",
      "Warning in <TCanvas::Constructor>: Deleting canvas with same name: c\n",
      "Info in <TCanvas::Print>: png file /nfshome/jmao/cms-llp/plots/20190719/Roc_bbbb_ggh_mh125_mx50_pl10000_EB_or_ETL_2j.png has been created\n",
      "Warning in <TCanvas::Constructor>: Deleting canvas with same name: c\n",
      "Info in <TCanvas::Print>: png file /nfshome/jmao/cms-llp/plots/20190719/Roc_bbbb_ggh_mh2000_mx975_pl1000_EB_only_2j.png has been created\n",
      "Warning in <TCanvas::Constructor>: Deleting canvas with same name: c\n",
      "Info in <TCanvas::Print>: png file /nfshome/jmao/cms-llp/plots/20190719/Roc_bbbb_ggh_mh2000_mx975_pl1000_ETL_only_2j.png has been created\n",
      "Warning in <TCanvas::Constructor>: Deleting canvas with same name: c\n",
      "Info in <TCanvas::Print>: png file /nfshome/jmao/cms-llp/plots/20190719/Roc_bbbb_ggh_mh2000_mx975_pl1000_EB_or_ETL_2j.png has been created\n"
     ]
    },
    {
     "data": {
      "image/png": "[encoded data removed]",
      "text/plain": [
       "<IPython.core.display.Image object>"
      ]
     },
     "metadata": {},
     "output_type": "display_data"
    }
   ],
   "source": [
    "c = rt.TCanvas('c','c', 800, 800)\n",
    "leg = rt.TLegend(0.18,0.76,0.53,0.94)\n",
    "leg.SetTextSize(0.022)\n",
    "leg.SetBorderSize(0)\n",
    "leg.SetEntrySeparation(0.01)\n",
    "\n",
    "gr_1j = {}\n",
    "gr_2j = {}\n",
    "\n",
    "i = 0\n",
    "\n",
    "print('i,j,n,s,m,a')\n",
    "\n",
    "for k,v in tree.items(): \n",
    "#     print(k,v,i)\n",
    "\n",
    "    for case_i,case in enumerate(cases):\n",
    "#         print(case_i,i)\n",
    "        \n",
    "        for j,sig in enumerate(sigma):\n",
    "#             print(j,sig)\n",
    "            n = i*len(sigma)+j\n",
    "            s = case_i*len(sigma)+j\n",
    "            m = i*len(sigma)*len(cases)+case_i*len(sigma)+j\n",
    "            \n",
    "#             print(i, j, n, s, m)\n",
    "            c = rt.TCanvas('c','c', 800, 800)\n",
    "            leg = rt.TLegend(0.18,0.76,0.53,0.90)\n",
    "            leg.SetTextSize(0.022)\n",
    "            leg.SetBorderSize(0)\n",
    "            leg.SetFillStyle(0)\n",
    "            leg.SetEntrySeparation(0.01)            \n",
    "            leg.SetHeader(texs[k]+'   \"'+case+'\"')            \n",
    "            \n",
    "            for p,pt in enumerate(pt_cuts):\n",
    "#                 print(p,pt)\n",
    "                a = i*len(sigma)*len(cases)*len(pt_cuts)+case_i*len(sigma)*len(pt_cuts)+j*len(sigma)+p\n",
    "#                 print(i,j,n,s,m,a)\n",
    "        \n",
    "                gr_1j[a] = create_TGraph(eff_1j[a], rej, axis_title = ['#epsilon_{signal}','#epsilon_{bkg}'])\n",
    "                gr_2j[a] = create_TGraph(eff_2j[a], rej, axis_title = ['#epsilon_{signal}','#epsilon_{bkg}'])\n",
    "                \n",
    "\n",
    "\n",
    "                gr_2j[a].SetLineWidth(2)\n",
    "                gr_2j[a].SetLineStyle(7)\n",
    "                gr_2j[a].SetLineColor(std_color_list[p])\n",
    "                \n",
    "                if p==0:\n",
    "#                     print(rej,eff_1j[a])\n",
    "                    gr_2j[a].GetYaxis().SetRangeUser(1e-10,1)\n",
    "                    gr_2j[a].GetXaxis().SetLimits(0,1)\n",
    "                    gr_2j[a].Draw('ac')\n",
    "                    leg.AddEntry(gr_2j[a],'Pt > '+str(pt)+' GeV')            \n",
    "                else:\n",
    "                    gr_2j[a].Draw('csame')\n",
    "                    leg.AddEntry(gr_2j[a],'Pt > '+str(pt)+' GeV')            \n",
    "                    \n",
    "            leg.Draw()\n",
    "\n",
    "            c.SetLogy()\n",
    "            c.Update()\n",
    "            c.Draw()\n",
    "            c.SaveAs(out_dir+'Roc_'+k+'_'+case.replace(' ','_')+'_2j.png')\n",
    "#                 gr_1j[a].Draw('ac' if i==0 else 'c')\n",
    "#                 gr_1j[a].Draw('ac' if i==0 else 'c')\n",
    "    i += 1\n",
    "\n",
    "# leg.Draw()\n",
    "\n",
    "# c.SetLogy()\n",
    "# c.Update()\n",
    "# c.Draw()\n",
    "# c.SaveAs(out_dir+'Roc_.png')"
   ]
  },
  {
   "cell_type": "code",
   "execution_count": 54,
   "metadata": {
    "scrolled": false
   },
   "outputs": [
    {
     "name": "stdout",
     "output_type": "stream",
     "text": [
      "i,j,n,s,m,a\n"
     ]
    },
    {
     "name": "stderr",
     "output_type": "stream",
     "text": [
      "Warning in <TCanvas::Constructor>: Deleting canvas with same name: c\n",
      "Warning in <TCanvas::Constructor>: Deleting canvas with same name: c\n",
      "Info in <TCanvas::Print>: png file /nfshome/jmao/cms-llp/plots/20190719/Roc_bbbb_ggh_mh125_mx50_pl1000_EB_only_1j2j.png has been created\n",
      "Warning in <TCanvas::Constructor>: Deleting canvas with same name: c\n",
      "Info in <TCanvas::Print>: png file /nfshome/jmao/cms-llp/plots/20190719/Roc_bbbb_ggh_mh125_mx50_pl1000_ETL_only_1j2j.png has been created\n",
      "Warning in <TCanvas::Constructor>: Deleting canvas with same name: c\n",
      "Info in <TCanvas::Print>: png file /nfshome/jmao/cms-llp/plots/20190719/Roc_bbbb_ggh_mh125_mx50_pl1000_EB_or_ETL_1j2j.png has been created\n",
      "Warning in <TCanvas::Constructor>: Deleting canvas with same name: c\n",
      "Info in <TCanvas::Print>: png file /nfshome/jmao/cms-llp/plots/20190719/Roc_bbbb_ggh_mh125_mx50_pl10000_EB_only_1j2j.png has been created\n",
      "Warning in <TCanvas::Constructor>: Deleting canvas with same name: c\n",
      "Info in <TCanvas::Print>: png file /nfshome/jmao/cms-llp/plots/20190719/Roc_bbbb_ggh_mh125_mx50_pl10000_ETL_only_1j2j.png has been created\n",
      "Warning in <TCanvas::Constructor>: Deleting canvas with same name: c\n",
      "Info in <TCanvas::Print>: png file /nfshome/jmao/cms-llp/plots/20190719/Roc_bbbb_ggh_mh125_mx50_pl10000_EB_or_ETL_1j2j.png has been created\n",
      "Warning in <TCanvas::Constructor>: Deleting canvas with same name: c\n",
      "Info in <TCanvas::Print>: png file /nfshome/jmao/cms-llp/plots/20190719/Roc_bbbb_ggh_mh2000_mx975_pl1000_EB_only_1j2j.png has been created\n",
      "Warning in <TCanvas::Constructor>: Deleting canvas with same name: c\n",
      "Info in <TCanvas::Print>: png file /nfshome/jmao/cms-llp/plots/20190719/Roc_bbbb_ggh_mh2000_mx975_pl1000_ETL_only_1j2j.png has been created\n",
      "Warning in <TCanvas::Constructor>: Deleting canvas with same name: c\n",
      "Info in <TCanvas::Print>: png file /nfshome/jmao/cms-llp/plots/20190719/Roc_bbbb_ggh_mh2000_mx975_pl1000_EB_or_ETL_1j2j.png has been created\n"
     ]
    },
    {
     "data": {
      "image/png": "[encoded data removed]",
      "text/plain": [
       "<IPython.core.display.Image object>"
      ]
     },
     "metadata": {},
     "output_type": "display_data"
    }
   ],
   "source": [
    "c = rt.TCanvas('c','c', 800, 800)\n",
    "leg = rt.TLegend(0.18,0.76,0.53,0.94)\n",
    "leg.SetTextSize(0.022)\n",
    "leg.SetBorderSize(0)\n",
    "leg.SetEntrySeparation(0.01)\n",
    "leg1 = rt.TLegend(0.58,0.76,0.93,0.94)\n",
    "leg1.SetTextSize(0.022)\n",
    "leg1.SetBorderSize(0)\n",
    "leg1.SetEntrySeparation(0.01)\n",
    "\n",
    "gr_1j = {}\n",
    "gr_2j = {}\n",
    "\n",
    "i = 0\n",
    "\n",
    "print('i,j,n,s,m,a')\n",
    "\n",
    "for k,v in tree.items(): \n",
    "#     print(k,v,i)\n",
    "\n",
    "    for case_i,case in enumerate(cases):\n",
    "#         print(case_i,i)\n",
    "        \n",
    "        for j,sig in enumerate(sigma):\n",
    "#             print(j,sig)\n",
    "            n = i*len(sigma)+j\n",
    "            s = case_i*len(sigma)+j\n",
    "            m = i*len(sigma)*len(cases)+case_i*len(sigma)+j\n",
    "            \n",
    "#             print(i, j, n, s, m)\n",
    "            c = rt.TCanvas('c','c', 800, 800)\n",
    "            leg = rt.TLegend(0.18,0.85,0.53,0.96)\n",
    "            leg.SetTextSize(0.022)\n",
    "            leg.SetBorderSize(0)\n",
    "            leg.SetFillStyle(0)\n",
    "            leg.SetEntrySeparation(0.01)            \n",
    "            leg.SetHeader(texs[k]+'   \"'+case+'\"')\n",
    "            \n",
    "            leg1 = rt.TLegend(0.48,0.76,0.93,0.87)\n",
    "            leg1.SetTextSize(0.022)\n",
    "            leg1.SetFillStyle(0)\n",
    "            leg1.SetBorderSize(0)\n",
    "            leg1.SetEntrySeparation(0.01)\n",
    "            \n",
    "            leg2 = rt.TLegend(0.18,0.76,0.53,0.87)\n",
    "            leg2.SetTextSize(0.022)\n",
    "            leg2.SetBorderSize(0)\n",
    "            leg2.SetFillStyle(0)\n",
    "            leg2.SetEntrySeparation(0.01)            \n",
    "            \n",
    "            for p,pt in enumerate(pt_cuts):\n",
    "#                 print(p,pt)\n",
    "                a = i*len(sigma)*len(cases)*len(pt_cuts)+case_i*len(sigma)*len(pt_cuts)+j*len(sigma)+p\n",
    "#                 print(i,j,n,s,m,a)\n",
    "        \n",
    "                gr_1j[a] = create_TGraph(eff_1j[a], rej, axis_title = ['#epsilon_{signal}','#epsilon_{bkg}'])\n",
    "                gr_2j[a] = create_TGraph(eff_2j[a], rej, axis_title = ['#epsilon_{signal}','#epsilon_{bkg}'])\n",
    "                \n",
    "\n",
    "\n",
    "                gr_1j[a].SetLineWidth(2)\n",
    "                gr_1j[a].SetLineColor(std_color_list[p])\n",
    "                \n",
    "                gr_2j[a].SetLineWidth(2)\n",
    "                gr_2j[a].SetLineStyle(7)\n",
    "                gr_2j[a].SetLineColor(std_color_list[p])\n",
    "                \n",
    "                if p==0:\n",
    "#                     print(rej,eff_1j[a])\n",
    "                    gr_1j[a].GetYaxis().SetRangeUser(1e-10,1)\n",
    "                    gr_1j[a].GetXaxis().SetLimits(0,1)\n",
    "                    gr_1j[a].Draw('ac')\n",
    "                    gr_2j[a].Draw('csame')\n",
    "                    leg2.AddEntry(gr_1j[a],'Pt > '+str(pt)+' GeV, one jet')            \n",
    "                    leg1.AddEntry(gr_2j[a],'Pt > '+str(pt)+' GeV, two jets')            \n",
    "                else:\n",
    "                    gr_1j[a].Draw('csame')\n",
    "                    gr_2j[a].Draw('csame')\n",
    "                    leg2.AddEntry(gr_1j[a],'Pt > '+str(pt)+' GeV, one jet')            \n",
    "                    leg1.AddEntry(gr_2j[a],'Pt > '+str(pt)+' GeV, two jets')            \n",
    "                    \n",
    "            leg.Draw()\n",
    "            leg2.Draw()\n",
    "            leg1.Draw()\n",
    "\n",
    "            c.SetLogy()\n",
    "            c.Update()\n",
    "            c.Draw()\n",
    "            c.SaveAs(out_dir+'Roc_'+k+'_'+case.replace(' ','_')+'_1j2j.png')\n",
    "#                 gr_1j[a].Draw('ac' if i==0 else 'c')\n",
    "#                 gr_1j[a].Draw('ac' if i==0 else 'c')\n",
    "    i += 1\n",
    "\n",
    "# leg.Draw()\n",
    "\n",
    "# c.SetLogy()\n",
    "# c.Update()\n",
    "# c.Draw()\n",
    "# c.SaveAs(out_dir+'Roc_.png')"
   ]
  },
  {
   "cell_type": "code",
   "execution_count": 61,
   "metadata": {
    "scrolled": false
   },
   "outputs": [
    {
     "name": "stdout",
     "output_type": "stream",
     "text": [
      "i,j,n,s,m,a\n"
     ]
    },
    {
     "name": "stderr",
     "output_type": "stream",
     "text": [
      "Warning in <TCanvas::Constructor>: Deleting canvas with same name: c\n",
      "Warning in <TCanvas::Constructor>: Deleting canvas with same name: c\n",
      "Info in <TCanvas::Print>: png file /nfshome/jmao/cms-llp/plots/20190719/Roc_Pt0_EB_only_1j2j.png has been created\n",
      "Warning in <TCanvas::Constructor>: Deleting canvas with same name: c\n",
      "Info in <TCanvas::Print>: png file /nfshome/jmao/cms-llp/plots/20190719/Roc_Pt20_EB_only_1j2j.png has been created\n",
      "Warning in <TCanvas::Constructor>: Deleting canvas with same name: c\n",
      "Info in <TCanvas::Print>: png file /nfshome/jmao/cms-llp/plots/20190719/Roc_Pt30_EB_only_1j2j.png has been created\n",
      "Warning in <TCanvas::Constructor>: Deleting canvas with same name: c\n",
      "Info in <TCanvas::Print>: png file /nfshome/jmao/cms-llp/plots/20190719/Roc_Pt40_EB_only_1j2j.png has been created\n",
      "Warning in <TCanvas::Constructor>: Deleting canvas with same name: c\n",
      "Info in <TCanvas::Print>: png file /nfshome/jmao/cms-llp/plots/20190719/Roc_Pt50_EB_only_1j2j.png has been created\n",
      "Warning in <TCanvas::Constructor>: Deleting canvas with same name: c\n",
      "Info in <TCanvas::Print>: png file /nfshome/jmao/cms-llp/plots/20190719/Roc_Pt60_EB_only_1j2j.png has been created\n",
      "Warning in <TCanvas::Constructor>: Deleting canvas with same name: c\n",
      "Info in <TCanvas::Print>: png file /nfshome/jmao/cms-llp/plots/20190719/Roc_Pt0_ETL_only_1j2j.png has been created\n",
      "Warning in <TCanvas::Constructor>: Deleting canvas with same name: c\n",
      "Info in <TCanvas::Print>: png file /nfshome/jmao/cms-llp/plots/20190719/Roc_Pt20_ETL_only_1j2j.png has been created\n",
      "Warning in <TCanvas::Constructor>: Deleting canvas with same name: c\n",
      "Info in <TCanvas::Print>: png file /nfshome/jmao/cms-llp/plots/20190719/Roc_Pt30_ETL_only_1j2j.png has been created\n",
      "Warning in <TCanvas::Constructor>: Deleting canvas with same name: c\n",
      "Info in <TCanvas::Print>: png file /nfshome/jmao/cms-llp/plots/20190719/Roc_Pt40_ETL_only_1j2j.png has been created\n",
      "Warning in <TCanvas::Constructor>: Deleting canvas with same name: c\n",
      "Info in <TCanvas::Print>: png file /nfshome/jmao/cms-llp/plots/20190719/Roc_Pt50_ETL_only_1j2j.png has been created\n",
      "Warning in <TCanvas::Constructor>: Deleting canvas with same name: c\n",
      "Info in <TCanvas::Print>: png file /nfshome/jmao/cms-llp/plots/20190719/Roc_Pt60_ETL_only_1j2j.png has been created\n",
      "Warning in <TCanvas::Constructor>: Deleting canvas with same name: c\n",
      "Info in <TCanvas::Print>: png file /nfshome/jmao/cms-llp/plots/20190719/Roc_Pt0_EB_or_ETL_1j2j.png has been created\n",
      "Warning in <TCanvas::Constructor>: Deleting canvas with same name: c\n",
      "Info in <TCanvas::Print>: png file /nfshome/jmao/cms-llp/plots/20190719/Roc_Pt20_EB_or_ETL_1j2j.png has been created\n",
      "Warning in <TCanvas::Constructor>: Deleting canvas with same name: c\n",
      "Info in <TCanvas::Print>: png file /nfshome/jmao/cms-llp/plots/20190719/Roc_Pt30_EB_or_ETL_1j2j.png has been created\n",
      "Warning in <TCanvas::Constructor>: Deleting canvas with same name: c\n",
      "Info in <TCanvas::Print>: png file /nfshome/jmao/cms-llp/plots/20190719/Roc_Pt40_EB_or_ETL_1j2j.png has been created\n",
      "Warning in <TCanvas::Constructor>: Deleting canvas with same name: c\n",
      "Info in <TCanvas::Print>: png file /nfshome/jmao/cms-llp/plots/20190719/Roc_Pt50_EB_or_ETL_1j2j.png has been created\n",
      "Warning in <TCanvas::Constructor>: Deleting canvas with same name: c\n",
      "Info in <TCanvas::Print>: png file /nfshome/jmao/cms-llp/plots/20190719/Roc_Pt60_EB_or_ETL_1j2j.png has been created\n"
     ]
    },
    {
     "data": {
      "image/png": "[encoded data removed]",
      "text/plain": [
       "<IPython.core.display.Image object>"
      ]
     },
     "metadata": {},
     "output_type": "display_data"
    }
   ],
   "source": [
    "c = rt.TCanvas('c','c', 800, 800)\n",
    "leg = rt.TLegend(0.18,0.76,0.53,0.94)\n",
    "leg.SetTextSize(0.022)\n",
    "leg.SetBorderSize(0)\n",
    "leg.SetEntrySeparation(0.01)\n",
    "leg1 = rt.TLegend(0.58,0.76,0.93,0.94)\n",
    "leg1.SetTextSize(0.022)\n",
    "leg1.SetBorderSize(0)\n",
    "leg1.SetEntrySeparation(0.01)\n",
    "\n",
    "gr_1j = {}\n",
    "gr_2j = {}\n",
    "\n",
    "i = 0\n",
    "\n",
    "print('i,j,n,s,m,a')\n",
    "\n",
    "# for k,v in tree.items(): \n",
    "#     print(k,v,i)\n",
    "\n",
    "for case_i,case in enumerate(cases):\n",
    "#         print(case_i,i)\n",
    "\n",
    "    for j,sig in enumerate(sigma):\n",
    "#             print(j,sig)\n",
    "\n",
    "#             print(i, j, n, s, m)\n",
    "\n",
    "        for p,pt in enumerate(pt_cuts):\n",
    "        \n",
    "            c = rt.TCanvas('c','c', 800, 800)\n",
    "            leg = rt.TLegend(0.18,0.85,0.53,0.96)\n",
    "            leg.SetTextSize(0.022)\n",
    "            leg.SetBorderSize(0)\n",
    "            leg.SetFillStyle(0)\n",
    "            leg.SetEntrySeparation(0.01)            \n",
    "            leg.SetHeader('Pt > '+str(pt)+' GeV   \"'+case+'\"')\n",
    "\n",
    "            leg1 = rt.TLegend(0.73,0.76,0.93,0.87)\n",
    "            leg1.SetTextSize(0.022)\n",
    "            leg1.SetFillStyle(0)\n",
    "            leg1.SetBorderSize(0)\n",
    "            leg1.SetEntrySeparation(0.01)\n",
    "\n",
    "            leg2 = rt.TLegend(0.18,0.76,0.53,0.87)\n",
    "            leg2.SetTextSize(0.022)\n",
    "            leg2.SetBorderSize(0)\n",
    "            leg2.SetFillStyle(0)\n",
    "            leg2.SetEntrySeparation(0.01)            \n",
    "\n",
    "            \n",
    "            i = 0\n",
    "                \n",
    "            for k,v in tree.items(): \n",
    "                \n",
    "                n = i*len(sigma)+j\n",
    "                s = case_i*len(sigma)+j\n",
    "                m = i*len(sigma)*len(cases)+case_i*len(sigma)+j\n",
    "\n",
    "                \n",
    "#                 print(p,pt)\n",
    "                a = i*len(sigma)*len(cases)*len(pt_cuts)+case_i*len(sigma)*len(pt_cuts)+j*len(sigma)+p\n",
    "#                 print(i,j,n,s,m,a)\n",
    "        \n",
    "                gr_1j[a] = create_TGraph(eff_1j[a], rej, axis_title = ['#epsilon_{signal}','#epsilon_{bkg}'])\n",
    "                gr_2j[a] = create_TGraph(eff_2j[a], rej, axis_title = ['#epsilon_{signal}','#epsilon_{bkg}'])\n",
    "                \n",
    "\n",
    "\n",
    "                gr_1j[a].SetLineWidth(2)\n",
    "                gr_1j[a].SetLineColor(std_color_list[i])\n",
    "                \n",
    "                gr_2j[a].SetLineWidth(2)\n",
    "                gr_2j[a].SetLineStyle(7)\n",
    "                gr_2j[a].SetLineColor(std_color_list[i])\n",
    "                \n",
    "                if i==0:\n",
    "#                     print(rej,eff_1j[a])\n",
    "                    gr_1j[a].GetYaxis().SetRangeUser(1e-10,1)\n",
    "                    gr_1j[a].GetXaxis().SetLimits(0,1)\n",
    "                    gr_1j[a].Draw('ac')\n",
    "                    gr_2j[a].Draw('csame')\n",
    "                    leg2.AddEntry(gr_1j[a],texs[k]+', one jet')            \n",
    "                    leg1.AddEntry(gr_2j[a],'two jets')            \n",
    "                else:\n",
    "                    gr_1j[a].Draw('csame')\n",
    "                    gr_2j[a].Draw('csame')\n",
    "                    leg2.AddEntry(gr_1j[a],texs[k]+', one jet')            \n",
    "                    leg1.AddEntry(gr_2j[a],'two jets')            \n",
    "\n",
    "                i += 1\n",
    "                    \n",
    "            leg.Draw()\n",
    "            leg2.Draw()\n",
    "            leg1.Draw()\n",
    "\n",
    "            c.SetLogy()\n",
    "            c.Update()\n",
    "            c.Draw()\n",
    "            c.SaveAs(out_dir+'Roc_Pt'+str(pt)+'_'+case.replace(' ','_')+'_1j2j.png')\n",
    "#                 gr_1j[a].Draw('ac' if i==0 else 'c')\n",
    "#                 gr_1j[a].Draw('ac' if i==0 else 'c')\n",
    "\n",
    "# leg.Draw()\n",
    "\n",
    "# c.SetLogy()\n",
    "# c.Update()\n",
    "# c.Draw()\n",
    "# c.SaveAs(out_dir+'Roc_.png')"
   ]
  },
  {
   "cell_type": "code",
   "execution_count": 66,
   "metadata": {
    "scrolled": false
   },
   "outputs": [
    {
     "name": "stdout",
     "output_type": "stream",
     "text": [
      "i,j,n,s,m,a\n"
     ]
    },
    {
     "name": "stderr",
     "output_type": "stream",
     "text": [
      "Warning in <TCanvas::Constructor>: Deleting canvas with same name: c\n",
      "Warning in <TCanvas::Constructor>: Deleting canvas with same name: c\n",
      "Info in <TCanvas::Print>: png file /nfshome/jmao/cms-llp/plots/20190719/Roc_Pt0_EB_only_1j.png has been created\n",
      "Warning in <TCanvas::Constructor>: Deleting canvas with same name: c\n",
      "Info in <TCanvas::Print>: png file /nfshome/jmao/cms-llp/plots/20190719/Roc_Pt20_EB_only_1j.png has been created\n",
      "Warning in <TCanvas::Constructor>: Deleting canvas with same name: c\n",
      "Info in <TCanvas::Print>: png file /nfshome/jmao/cms-llp/plots/20190719/Roc_Pt30_EB_only_1j.png has been created\n",
      "Warning in <TCanvas::Constructor>: Deleting canvas with same name: c\n",
      "Info in <TCanvas::Print>: png file /nfshome/jmao/cms-llp/plots/20190719/Roc_Pt40_EB_only_1j.png has been created\n",
      "Warning in <TCanvas::Constructor>: Deleting canvas with same name: c\n",
      "Info in <TCanvas::Print>: png file /nfshome/jmao/cms-llp/plots/20190719/Roc_Pt50_EB_only_1j.png has been created\n",
      "Warning in <TCanvas::Constructor>: Deleting canvas with same name: c\n",
      "Info in <TCanvas::Print>: png file /nfshome/jmao/cms-llp/plots/20190719/Roc_Pt60_EB_only_1j.png has been created\n",
      "Warning in <TCanvas::Constructor>: Deleting canvas with same name: c\n",
      "Info in <TCanvas::Print>: png file /nfshome/jmao/cms-llp/plots/20190719/Roc_Pt0_ETL_only_1j.png has been created\n",
      "Warning in <TCanvas::Constructor>: Deleting canvas with same name: c\n",
      "Info in <TCanvas::Print>: png file /nfshome/jmao/cms-llp/plots/20190719/Roc_Pt20_ETL_only_1j.png has been created\n",
      "Warning in <TCanvas::Constructor>: Deleting canvas with same name: c\n",
      "Info in <TCanvas::Print>: png file /nfshome/jmao/cms-llp/plots/20190719/Roc_Pt30_ETL_only_1j.png has been created\n",
      "Warning in <TCanvas::Constructor>: Deleting canvas with same name: c\n",
      "Info in <TCanvas::Print>: png file /nfshome/jmao/cms-llp/plots/20190719/Roc_Pt40_ETL_only_1j.png has been created\n",
      "Warning in <TCanvas::Constructor>: Deleting canvas with same name: c\n",
      "Info in <TCanvas::Print>: png file /nfshome/jmao/cms-llp/plots/20190719/Roc_Pt50_ETL_only_1j.png has been created\n",
      "Warning in <TCanvas::Constructor>: Deleting canvas with same name: c\n",
      "Info in <TCanvas::Print>: png file /nfshome/jmao/cms-llp/plots/20190719/Roc_Pt60_ETL_only_1j.png has been created\n",
      "Warning in <TCanvas::Constructor>: Deleting canvas with same name: c\n",
      "Info in <TCanvas::Print>: png file /nfshome/jmao/cms-llp/plots/20190719/Roc_Pt0_EB_or_ETL_1j.png has been created\n",
      "Warning in <TCanvas::Constructor>: Deleting canvas with same name: c\n",
      "Info in <TCanvas::Print>: png file /nfshome/jmao/cms-llp/plots/20190719/Roc_Pt20_EB_or_ETL_1j.png has been created\n",
      "Warning in <TCanvas::Constructor>: Deleting canvas with same name: c\n",
      "Info in <TCanvas::Print>: png file /nfshome/jmao/cms-llp/plots/20190719/Roc_Pt30_EB_or_ETL_1j.png has been created\n",
      "Warning in <TCanvas::Constructor>: Deleting canvas with same name: c\n",
      "Info in <TCanvas::Print>: png file /nfshome/jmao/cms-llp/plots/20190719/Roc_Pt40_EB_or_ETL_1j.png has been created\n",
      "Warning in <TCanvas::Constructor>: Deleting canvas with same name: c\n",
      "Info in <TCanvas::Print>: png file /nfshome/jmao/cms-llp/plots/20190719/Roc_Pt50_EB_or_ETL_1j.png has been created\n",
      "Warning in <TCanvas::Constructor>: Deleting canvas with same name: c\n",
      "Info in <TCanvas::Print>: png file /nfshome/jmao/cms-llp/plots/20190719/Roc_Pt60_EB_or_ETL_1j.png has been created\n"
     ]
    },
    {
     "data": {
      "image/png": "[encoded data removed]",
      "text/plain": [
       "<IPython.core.display.Image object>"
      ]
     },
     "metadata": {},
     "output_type": "display_data"
    }
   ],
   "source": [
    "c = rt.TCanvas('c','c', 800, 800)\n",
    "leg = rt.TLegend(0.18,0.76,0.53,0.94)\n",
    "leg.SetTextSize(0.022)\n",
    "leg.SetBorderSize(0)\n",
    "leg.SetEntrySeparation(0.01)\n",
    "leg1 = rt.TLegend(0.58,0.76,0.93,0.94)\n",
    "leg1.SetTextSize(0.022)\n",
    "leg1.SetBorderSize(0)\n",
    "leg1.SetEntrySeparation(0.01)\n",
    "\n",
    "gr_1j = {}\n",
    "gr_2j = {}\n",
    "\n",
    "i = 0\n",
    "\n",
    "print('i,j,n,s,m,a')\n",
    "\n",
    "# for k,v in tree.items(): \n",
    "#     print(k,v,i)\n",
    "\n",
    "for case_i,case in enumerate(cases):\n",
    "#         print(case_i,i)\n",
    "\n",
    "    for j,sig in enumerate(sigma):\n",
    "#             print(j,sig)\n",
    "\n",
    "#             print(i, j, n, s, m)\n",
    "\n",
    "        for p,pt in enumerate(pt_cuts):\n",
    "        \n",
    "            c = rt.TCanvas('c','c', 800, 800)\n",
    "            leg = rt.TLegend(0.18,0.85,0.53,0.96)\n",
    "            leg.SetTextSize(0.022)\n",
    "            leg.SetBorderSize(0)\n",
    "            leg.SetFillStyle(0)\n",
    "            leg.SetEntrySeparation(0.01)            \n",
    "            leg.SetHeader('Pt > '+str(pt)+' GeV   \"'+case+'\"    One jet')\n",
    "\n",
    "            leg1 = rt.TLegend(0.73,0.76,0.93,0.87)\n",
    "            leg1.SetTextSize(0.022)\n",
    "            leg1.SetFillStyle(0)\n",
    "            leg1.SetBorderSize(0)\n",
    "            leg1.SetEntrySeparation(0.01)\n",
    "\n",
    "            leg2 = rt.TLegend(0.18,0.76,0.53,0.87)\n",
    "            leg2.SetTextSize(0.022)\n",
    "            leg2.SetBorderSize(0)\n",
    "            leg2.SetFillStyle(0)\n",
    "            leg2.SetEntrySeparation(0.01)            \n",
    "\n",
    "            \n",
    "            i = 0\n",
    "                \n",
    "            for k,v in tree.items(): \n",
    "                \n",
    "                n = i*len(sigma)+j\n",
    "                s = case_i*len(sigma)+j\n",
    "                m = i*len(sigma)*len(cases)+case_i*len(sigma)+j\n",
    "\n",
    "                \n",
    "#                 print(p,pt)\n",
    "                a = i*len(sigma)*len(cases)*len(pt_cuts)+case_i*len(sigma)*len(pt_cuts)+j*len(sigma)+p\n",
    "#                 print(i,j,n,s,m,a)\n",
    "        \n",
    "                gr_1j[a] = create_TGraph(eff_1j[a], rej, axis_title = ['#epsilon_{signal}','#epsilon_{bkg}'])\n",
    "                gr_2j[a] = create_TGraph(eff_2j[a], rej, axis_title = ['#epsilon_{signal}','#epsilon_{bkg}'])\n",
    "                \n",
    "\n",
    "\n",
    "                gr_1j[a].SetLineWidth(2)\n",
    "                gr_1j[a].SetLineColor(std_color_list[i])\n",
    "                \n",
    "                gr_2j[a].SetLineWidth(2)\n",
    "                gr_2j[a].SetLineStyle(7)\n",
    "                gr_2j[a].SetLineColor(std_color_list[i])\n",
    "                \n",
    "                if i==0:\n",
    "#                     print(rej,eff_1j[a])\n",
    "                    gr_1j[a].GetYaxis().SetRangeUser(1e-10,1)\n",
    "                    gr_1j[a].GetXaxis().SetLimits(0,1)\n",
    "                    gr_1j[a].Draw('ac')\n",
    "#                     gr_2j[a].Draw('csame')\n",
    "                    leg2.AddEntry(gr_1j[a],texs[k])            \n",
    "#                     leg1.AddEntry(gr_2j[a],'two jets')            \n",
    "                else:\n",
    "                    gr_1j[a].Draw('csame')\n",
    "#                     gr_2j[a].Draw('csame')\n",
    "                    leg2.AddEntry(gr_1j[a],texs[k])            \n",
    "#                     leg1.AddEntry(gr_2j[a],'two jets')            \n",
    "\n",
    "                i += 1\n",
    "                    \n",
    "            leg.Draw()\n",
    "            leg2.Draw()\n",
    "#             leg1.Draw()\n",
    "\n",
    "            c.SetLogy()\n",
    "            c.Update()\n",
    "            c.Draw()\n",
    "            c.SaveAs(out_dir+'Roc_Pt'+str(pt)+'_'+case.replace(' ','_')+'_1j.png')\n",
    "#                 gr_1j[a].Draw('ac' if i==0 else 'c')\n",
    "#                 gr_1j[a].Draw('ac' if i==0 else 'c')\n",
    "\n",
    "# leg.Draw()\n",
    "\n",
    "# c.SetLogy()\n",
    "# c.Update()\n",
    "# c.Draw()\n",
    "# c.SaveAs(out_dir+'Roc_.png')"
   ]
  },
  {
   "cell_type": "code",
   "execution_count": 65,
   "metadata": {
    "scrolled": false
   },
   "outputs": [
    {
     "name": "stdout",
     "output_type": "stream",
     "text": [
      "i,j,n,s,m,a\n"
     ]
    },
    {
     "name": "stderr",
     "output_type": "stream",
     "text": [
      "Warning in <TCanvas::Constructor>: Deleting canvas with same name: c\n",
      "Warning in <TCanvas::Constructor>: Deleting canvas with same name: c\n",
      "Info in <TCanvas::Print>: png file /nfshome/jmao/cms-llp/plots/20190719/Roc_Pt0_EB_only_2j.png has been created\n",
      "Warning in <TCanvas::Constructor>: Deleting canvas with same name: c\n",
      "Info in <TCanvas::Print>: png file /nfshome/jmao/cms-llp/plots/20190719/Roc_Pt20_EB_only_2j.png has been created\n",
      "Warning in <TCanvas::Constructor>: Deleting canvas with same name: c\n",
      "Info in <TCanvas::Print>: png file /nfshome/jmao/cms-llp/plots/20190719/Roc_Pt30_EB_only_2j.png has been created\n",
      "Warning in <TCanvas::Constructor>: Deleting canvas with same name: c\n",
      "Info in <TCanvas::Print>: png file /nfshome/jmao/cms-llp/plots/20190719/Roc_Pt40_EB_only_2j.png has been created\n",
      "Warning in <TCanvas::Constructor>: Deleting canvas with same name: c\n",
      "Info in <TCanvas::Print>: png file /nfshome/jmao/cms-llp/plots/20190719/Roc_Pt50_EB_only_2j.png has been created\n",
      "Warning in <TCanvas::Constructor>: Deleting canvas with same name: c\n",
      "Info in <TCanvas::Print>: png file /nfshome/jmao/cms-llp/plots/20190719/Roc_Pt60_EB_only_2j.png has been created\n",
      "Warning in <TCanvas::Constructor>: Deleting canvas with same name: c\n",
      "Info in <TCanvas::Print>: png file /nfshome/jmao/cms-llp/plots/20190719/Roc_Pt0_ETL_only_2j.png has been created\n",
      "Warning in <TCanvas::Constructor>: Deleting canvas with same name: c\n",
      "Info in <TCanvas::Print>: png file /nfshome/jmao/cms-llp/plots/20190719/Roc_Pt20_ETL_only_2j.png has been created\n",
      "Warning in <TCanvas::Constructor>: Deleting canvas with same name: c\n",
      "Info in <TCanvas::Print>: png file /nfshome/jmao/cms-llp/plots/20190719/Roc_Pt30_ETL_only_2j.png has been created\n",
      "Warning in <TCanvas::Constructor>: Deleting canvas with same name: c\n",
      "Info in <TCanvas::Print>: png file /nfshome/jmao/cms-llp/plots/20190719/Roc_Pt40_ETL_only_2j.png has been created\n",
      "Warning in <TCanvas::Constructor>: Deleting canvas with same name: c\n",
      "Info in <TCanvas::Print>: png file /nfshome/jmao/cms-llp/plots/20190719/Roc_Pt50_ETL_only_2j.png has been created\n",
      "Warning in <TCanvas::Constructor>: Deleting canvas with same name: c\n",
      "Info in <TCanvas::Print>: png file /nfshome/jmao/cms-llp/plots/20190719/Roc_Pt60_ETL_only_2j.png has been created\n",
      "Warning in <TCanvas::Constructor>: Deleting canvas with same name: c\n",
      "Info in <TCanvas::Print>: png file /nfshome/jmao/cms-llp/plots/20190719/Roc_Pt0_EB_or_ETL_2j.png has been created\n",
      "Warning in <TCanvas::Constructor>: Deleting canvas with same name: c\n",
      "Info in <TCanvas::Print>: png file /nfshome/jmao/cms-llp/plots/20190719/Roc_Pt20_EB_or_ETL_2j.png has been created\n",
      "Warning in <TCanvas::Constructor>: Deleting canvas with same name: c\n",
      "Info in <TCanvas::Print>: png file /nfshome/jmao/cms-llp/plots/20190719/Roc_Pt30_EB_or_ETL_2j.png has been created\n",
      "Warning in <TCanvas::Constructor>: Deleting canvas with same name: c\n",
      "Info in <TCanvas::Print>: png file /nfshome/jmao/cms-llp/plots/20190719/Roc_Pt40_EB_or_ETL_2j.png has been created\n",
      "Warning in <TCanvas::Constructor>: Deleting canvas with same name: c\n",
      "Info in <TCanvas::Print>: png file /nfshome/jmao/cms-llp/plots/20190719/Roc_Pt50_EB_or_ETL_2j.png has been created\n",
      "Warning in <TCanvas::Constructor>: Deleting canvas with same name: c\n",
      "Info in <TCanvas::Print>: png file /nfshome/jmao/cms-llp/plots/20190719/Roc_Pt60_EB_or_ETL_2j.png has been created\n"
     ]
    },
    {
     "data": {
      "image/png": "[encoded data removed]",
      "text/plain": [
       "<IPython.core.display.Image object>"
      ]
     },
     "metadata": {},
     "output_type": "display_data"
    }
   ],
   "source": [
    "c = rt.TCanvas('c','c', 800, 800)\n",
    "leg = rt.TLegend(0.18,0.76,0.53,0.94)\n",
    "leg.SetTextSize(0.022)\n",
    "leg.SetBorderSize(0)\n",
    "leg.SetEntrySeparation(0.01)\n",
    "leg1 = rt.TLegend(0.58,0.76,0.93,0.94)\n",
    "leg1.SetTextSize(0.022)\n",
    "leg1.SetBorderSize(0)\n",
    "leg1.SetEntrySeparation(0.01)\n",
    "\n",
    "gr_1j = {}\n",
    "gr_2j = {}\n",
    "\n",
    "i = 0\n",
    "\n",
    "print('i,j,n,s,m,a')\n",
    "\n",
    "# for k,v in tree.items(): \n",
    "#     print(k,v,i)\n",
    "\n",
    "for case_i,case in enumerate(cases):\n",
    "#         print(case_i,i)\n",
    "\n",
    "    for j,sig in enumerate(sigma):\n",
    "#             print(j,sig)\n",
    "\n",
    "#             print(i, j, n, s, m)\n",
    "\n",
    "        for p,pt in enumerate(pt_cuts):\n",
    "        \n",
    "            c = rt.TCanvas('c','c', 800, 800)\n",
    "            leg = rt.TLegend(0.18,0.85,0.53,0.96)\n",
    "            leg.SetTextSize(0.022)\n",
    "            leg.SetBorderSize(0)\n",
    "            leg.SetFillStyle(0)\n",
    "            leg.SetEntrySeparation(0.01)            \n",
    "            leg.SetHeader('Pt > '+str(pt)+' GeV   \"'+case+'\"    Two jets')\n",
    "\n",
    "            leg1 = rt.TLegend(0.73,0.76,0.93,0.87)\n",
    "            leg1.SetTextSize(0.022)\n",
    "            leg1.SetFillStyle(0)\n",
    "            leg1.SetBorderSize(0)\n",
    "            leg1.SetEntrySeparation(0.01)\n",
    "\n",
    "            leg2 = rt.TLegend(0.18,0.76,0.53,0.87)\n",
    "            leg2.SetTextSize(0.022)\n",
    "            leg2.SetBorderSize(0)\n",
    "            leg2.SetFillStyle(0)\n",
    "            leg2.SetEntrySeparation(0.01)            \n",
    "\n",
    "            \n",
    "            i = 0\n",
    "                \n",
    "            for k,v in tree.items(): \n",
    "                \n",
    "                n = i*len(sigma)+j\n",
    "                s = case_i*len(sigma)+j\n",
    "                m = i*len(sigma)*len(cases)+case_i*len(sigma)+j\n",
    "\n",
    "                \n",
    "#                 print(p,pt)\n",
    "                a = i*len(sigma)*len(cases)*len(pt_cuts)+case_i*len(sigma)*len(pt_cuts)+j*len(sigma)+p\n",
    "#                 print(i,j,n,s,m,a)\n",
    "        \n",
    "                gr_1j[a] = create_TGraph(eff_1j[a], rej, axis_title = ['#epsilon_{signal}','#epsilon_{bkg}'])\n",
    "                gr_2j[a] = create_TGraph(eff_2j[a], rej, axis_title = ['#epsilon_{signal}','#epsilon_{bkg}'])\n",
    "                \n",
    "\n",
    "\n",
    "                gr_1j[a].SetLineWidth(2)\n",
    "                gr_1j[a].SetLineColor(std_color_list[i])\n",
    "                \n",
    "                gr_2j[a].SetLineWidth(2)\n",
    "                gr_2j[a].SetLineStyle(7)\n",
    "                gr_2j[a].SetLineColor(std_color_list[i])\n",
    "                \n",
    "                if i==0:\n",
    "#                     print(rej,eff_1j[a])\n",
    "                    gr_2j[a].GetYaxis().SetRangeUser(1e-10,1)\n",
    "                    gr_2j[a].GetXaxis().SetLimits(0,1)\n",
    "#                     gr_1j[a].Draw('ac')\n",
    "                    gr_2j[a].Draw('ac')\n",
    "                    leg2.AddEntry(gr_2j[a],texs[k])            \n",
    "#                     leg1.AddEntry(gr_2j[a],'two jets')            \n",
    "                else:\n",
    "                    gr_2j[a].Draw('csame')\n",
    "#                     gr_2j[a].Draw('csame')\n",
    "                    leg2.AddEntry(gr_2j[a],texs[k])            \n",
    "#                     leg1.AddEntry(gr_2j[a],'two jets')            \n",
    "\n",
    "                i += 1\n",
    "                    \n",
    "            leg.Draw()\n",
    "            leg2.Draw()\n",
    "#             leg1.Draw()\n",
    "\n",
    "            c.SetLogy()\n",
    "            c.Update()\n",
    "            c.Draw()\n",
    "            c.SaveAs(out_dir+'Roc_Pt'+str(pt)+'_'+case.replace(' ','_')+'_2j.png')\n",
    "#                 gr_1j[a].Draw('ac' if i==0 else 'c')\n",
    "#                 gr_1j[a].Draw('ac' if i==0 else 'c')\n",
    "\n",
    "# leg.Draw()\n",
    "\n",
    "# c.SetLogy()\n",
    "# c.Update()\n",
    "# c.Draw()\n",
    "# c.SaveAs(out_dir+'Roc_.png')"
   ]
  },
  {
   "cell_type": "code",
   "execution_count": 19,
   "metadata": {
    "scrolled": false
   },
   "outputs": [
    {
     "name": "stdout",
     "output_type": "stream",
     "text": [
      "i,j,n,s,m,a\n"
     ]
    },
    {
     "name": "stderr",
     "output_type": "stream",
     "text": [
      "Warning in <TCanvas::Constructor>: Deleting canvas with same name: c\n",
      "Info in <TCanvas::Print>: png file /nfshome/jmao/cms-llp/plots/20190719/Roc_0_Pt0_1j.png has been created\n"
     ]
    },
    {
     "data": {
      "image/png": "[encoded data removed]",
      "text/plain": [
       "<IPython.core.display.Image object>"
      ]
     },
     "metadata": {},
     "output_type": "display_data"
    }
   ],
   "source": [
    "c = rt.TCanvas('c','c', 800, 800)\n",
    "leg = rt.TLegend(0.18,0.76,0.53,0.90)\n",
    "leg.SetTextSize(0.022)\n",
    "leg.SetBorderSize(0)\n",
    "leg.SetFillStyle(0)\n",
    "leg.SetEntrySeparation(0.01)            \n",
    "\n",
    "gr_1j = {}\n",
    "gr_2j = {}\n",
    "\n",
    "i = 0\n",
    "\n",
    "print('i,j,n,s,m,a')\n",
    "\n",
    "for k,v in tree.items(): \n",
    "#     print(k,v,i)\n",
    "\n",
    "            \n",
    "    for case_i,case in enumerate(cases):\n",
    "#         print(case_i,i)\n",
    "        \n",
    "        for j,sig in enumerate(sigma):\n",
    "#             print(j,sig)\n",
    "            n = i*len(sigma)+j\n",
    "            s = case_i*len(sigma)+j\n",
    "            m = i*len(sigma)*len(cases)+case_i*len(sigma)+j\n",
    "            \n",
    "#             print(i, j, n, s, m)\n",
    "   \n",
    "            \n",
    "            for p,pt in enumerate(pt_cuts):\n",
    "#                 print(p,pt)\n",
    "                a = i*len(sigma)*len(cases)*len(pt_cuts)+case_i*len(sigma)*len(pt_cuts)+j*len(sigma)+p\n",
    "#                 print(i,j,n,s,m,a)\n",
    "        \n",
    "                gr_1j[a] = create_TGraph(eff_1j[a], rej, axis_title = ['#epsilon_{signal}','#epsilon_{bkg}'])\n",
    "                gr_2j[a] = create_TGraph(eff_2j[a], rej, axis_title = ['#epsilon_{signal}','#epsilon_{bkg}'])\n",
    "                \n",
    "\n",
    "\n",
    "                gr_1j[a].SetLineWidth(2)\n",
    "                gr_1j[a].SetLineColor(std_color_list[case_i])\n",
    "                \n",
    "                \n",
    "                \n",
    "                if i==0 and case_i==0 and p==0:\n",
    "                    leg.SetHeader(texs[k]+'   Pt >'+str(pt)+' GeV')         \n",
    "#                     print(rej,eff_1j[a])\n",
    "                    gr_1j[a].GetYaxis().SetRangeUser(1e-10,1)\n",
    "                    gr_1j[a].GetXaxis().SetLimits(0,1)\n",
    "                    gr_1j[a].Draw('ac')\n",
    "                    leg.AddEntry(gr_1j[a],'\"'+case+'\"')            \n",
    "                elif i==0 and p==0:\n",
    "                    gr_1j[a].Draw('csame')\n",
    "                    leg.AddEntry(gr_1j[a],'\"'+case+'\"')            \n",
    "                    \n",
    "\n",
    "\n",
    "    i += 1\n",
    "\n",
    "leg.Draw()\n",
    "\n",
    "c.SetLogy()\n",
    "c.Update()\n",
    "c.Draw()\n"
   ]
  },
  {
   "cell_type": "code",
   "execution_count": 20,
   "metadata": {
    "scrolled": false
   },
   "outputs": [
    {
     "name": "stdout",
     "output_type": "stream",
     "text": [
      "i,j,n,s,m,a\n"
     ]
    },
    {
     "name": "stderr",
     "output_type": "stream",
     "text": [
      "Warning in <TCanvas::Constructor>: Deleting canvas with same name: c\n",
      "Info in <TCanvas::Print>: png file /nfshome/jmao/cms-llp/plots/20190719/Roc_1_Pt0_1j.png has been created\n"
     ]
    },
    {
     "data": {
      "image/png": "[encoded data removed]",
      "text/plain": [
       "<IPython.core.display.Image object>"
      ]
     },
     "metadata": {},
     "output_type": "display_data"
    }
   ],
   "source": [
    "c = rt.TCanvas('c','c', 800, 800)\n",
    "leg = rt.TLegend(0.18,0.76,0.53,0.90)\n",
    "leg.SetTextSize(0.022)\n",
    "leg.SetBorderSize(0)\n",
    "leg.SetFillStyle(0)\n",
    "leg.SetEntrySeparation(0.01)            \n",
    "\n",
    "gr_1j = {}\n",
    "gr_2j = {}\n",
    "\n",
    "i = 0\n",
    "\n",
    "print('i,j,n,s,m,a')\n",
    "\n",
    "for k,v in tree.items(): \n",
    "#     print(k,v,i)\n",
    "\n",
    "            \n",
    "    for case_i,case in enumerate(cases):\n",
    "#         print(case_i,i)\n",
    "        \n",
    "        for j,sig in enumerate(sigma):\n",
    "#             print(j,sig)\n",
    "            n = i*len(sigma)+j\n",
    "            s = case_i*len(sigma)+j\n",
    "            m = i*len(sigma)*len(cases)+case_i*len(sigma)+j\n",
    "            \n",
    "#             print(i, j, n, s, m)\n",
    "   \n",
    "            \n",
    "            for p,pt in enumerate(pt_cuts):\n",
    "#                 print(p,pt)\n",
    "                a = i*len(sigma)*len(cases)*len(pt_cuts)+case_i*len(sigma)*len(pt_cuts)+j*len(sigma)+p\n",
    "#                 print(i,j,n,s,m,a)\n",
    "        \n",
    "                gr_1j[a] = create_TGraph(eff_1j[a], rej, axis_title = ['#epsilon_{signal}','#epsilon_{bkg}'])\n",
    "                gr_2j[a] = create_TGraph(eff_2j[a], rej, axis_title = ['#epsilon_{signal}','#epsilon_{bkg}'])\n",
    "                \n",
    "\n",
    "\n",
    "                gr_1j[a].SetLineWidth(2)\n",
    "                gr_1j[a].SetLineColor(std_color_list[case_i])\n",
    "                \n",
    "                \n",
    "                \n",
    "                if i==1 and case_i==0 and p==0:\n",
    "                    leg.SetHeader(texs[k]+'   Pt >'+str(pt)+' GeV')         \n",
    "#                     print(rej,eff_1j[a])\n",
    "                    gr_1j[a].GetYaxis().SetRangeUser(1e-10,1)\n",
    "                    gr_1j[a].GetXaxis().SetLimits(0,1)\n",
    "                    gr_1j[a].Draw('ac')\n",
    "                    leg.AddEntry(gr_1j[a],'\"'+case+'\"')            \n",
    "                elif i==1 and p==0:\n",
    "                    gr_1j[a].Draw('csame')\n",
    "                    leg.AddEntry(gr_1j[a],'\"'+case+'\"')            \n",
    "                    \n",
    "\n",
    "\n",
    "    i += 1\n",
    "\n",
    "leg.Draw()\n",
    "\n",
    "c.SetLogy()\n",
    "c.Update()\n",
    "c.Draw()\n"
   ]
  },
  {
   "cell_type": "code",
   "execution_count": 21,
   "metadata": {
    "scrolled": false
   },
   "outputs": [
    {
     "name": "stdout",
     "output_type": "stream",
     "text": [
      "i,j,n,s,m,a\n"
     ]
    },
    {
     "name": "stderr",
     "output_type": "stream",
     "text": [
      "Warning in <TCanvas::Constructor>: Deleting canvas with same name: c\n",
      "Info in <TCanvas::Print>: png file /nfshome/jmao/cms-llp/plots/20190719/Roc_2_Pt0_1j.png has been created\n"
     ]
    },
    {
     "data": {
      "image/png": "[encoded data removed]",
      "text/plain": [
       "<IPython.core.display.Image object>"
      ]
     },
     "metadata": {},
     "output_type": "display_data"
    }
   ],
   "source": [
    "c = rt.TCanvas('c','c', 800, 800)\n",
    "leg = rt.TLegend(0.18,0.76,0.53,0.90)\n",
    "leg.SetTextSize(0.022)\n",
    "leg.SetBorderSize(0)\n",
    "leg.SetFillStyle(0)\n",
    "leg.SetEntrySeparation(0.01)            \n",
    "\n",
    "gr_1j = {}\n",
    "gr_2j = {}\n",
    "\n",
    "i = 0\n",
    "\n",
    "print('i,j,n,s,m,a')\n",
    "\n",
    "for k,v in tree.items(): \n",
    "#     print(k,v,i)\n",
    "\n",
    "            \n",
    "    for case_i,case in enumerate(cases):\n",
    "#         print(case_i,i)\n",
    "        \n",
    "        for j,sig in enumerate(sigma):\n",
    "#             print(j,sig)\n",
    "            n = i*len(sigma)+j\n",
    "            s = case_i*len(sigma)+j\n",
    "            m = i*len(sigma)*len(cases)+case_i*len(sigma)+j\n",
    "            \n",
    "#             print(i, j, n, s, m)\n",
    "   \n",
    "            \n",
    "            for p,pt in enumerate(pt_cuts):\n",
    "#                 print(p,pt)\n",
    "                a = i*len(sigma)*len(cases)*len(pt_cuts)+case_i*len(sigma)*len(pt_cuts)+j*len(sigma)+p\n",
    "#                 print(i,j,n,s,m,a)\n",
    "        \n",
    "                gr_1j[a] = create_TGraph(eff_1j[a], rej, axis_title = ['#epsilon_{signal}','#epsilon_{bkg}'])\n",
    "                gr_2j[a] = create_TGraph(eff_2j[a], rej, axis_title = ['#epsilon_{signal}','#epsilon_{bkg}'])\n",
    "                \n",
    "\n",
    "\n",
    "                gr_1j[a].SetLineWidth(2)\n",
    "                gr_1j[a].SetLineColor(std_color_list[case_i])\n",
    "                \n",
    "                \n",
    "                \n",
    "                if i==2 and case_i==0 and p==0:\n",
    "                    leg.SetHeader(texs[k]+'   Pt >'+str(pt)+' GeV')         \n",
    "#                     print(rej,eff_1j[a])\n",
    "                    gr_1j[a].GetYaxis().SetRangeUser(1e-10,1)\n",
    "                    gr_1j[a].GetXaxis().SetLimits(0,1)\n",
    "                    gr_1j[a].Draw('ac')\n",
    "                    leg.AddEntry(gr_1j[a],'\"'+case+'\"')            \n",
    "                elif i==2 and p==0:\n",
    "                    gr_1j[a].Draw('csame')\n",
    "                    leg.AddEntry(gr_1j[a],'\"'+case+'\"')            \n",
    "                    \n",
    "\n",
    "\n",
    "    i += 1\n",
    "\n",
    "leg.Draw()\n",
    "\n",
    "c.SetLogy()\n",
    "c.Update()\n",
    "c.Draw()\n"
   ]
  },
  {
   "cell_type": "code",
   "execution_count": 22,
   "metadata": {
    "scrolled": false
   },
   "outputs": [
    {
     "name": "stdout",
     "output_type": "stream",
     "text": [
      "i,j,n,s,m,a\n"
     ]
    },
    {
     "name": "stderr",
     "output_type": "stream",
     "text": [
      "Warning in <TCanvas::Constructor>: Deleting canvas with same name: c\n",
      "Info in <TCanvas::Print>: png file /nfshome/jmao/cms-llp/plots/20190719/Roc_2_Pt20_1j.png has been created\n"
     ]
    },
    {
     "data": {
      "image/png": "[encoded data removed]",
      "text/plain": [
       "<IPython.core.display.Image object>"
      ]
     },
     "metadata": {},
     "output_type": "display_data"
    }
   ],
   "source": [
    "c = rt.TCanvas('c','c', 800, 800)\n",
    "leg = rt.TLegend(0.18,0.76,0.53,0.90)\n",
    "leg.SetTextSize(0.022)\n",
    "leg.SetBorderSize(0)\n",
    "leg.SetFillStyle(0)\n",
    "leg.SetEntrySeparation(0.01)            \n",
    "\n",
    "gr_1j = {}\n",
    "gr_2j = {}\n",
    "\n",
    "i = 0\n",
    "\n",
    "print('i,j,n,s,m,a')\n",
    "\n",
    "for k,v in tree.items(): \n",
    "#     print(k,v,i)\n",
    "\n",
    "            \n",
    "    for case_i,case in enumerate(cases):\n",
    "#         print(case_i,i)\n",
    "        \n",
    "        for j,sig in enumerate(sigma):\n",
    "#             print(j,sig)\n",
    "            n = i*len(sigma)+j\n",
    "            s = case_i*len(sigma)+j\n",
    "            m = i*len(sigma)*len(cases)+case_i*len(sigma)+j\n",
    "            \n",
    "#             print(i, j, n, s, m)\n",
    "   \n",
    "            \n",
    "            for p,pt in enumerate(pt_cuts):\n",
    "#                 print(p,pt)\n",
    "                a = i*len(sigma)*len(cases)*len(pt_cuts)+case_i*len(sigma)*len(pt_cuts)+j*len(sigma)+p\n",
    "#                 print(i,j,n,s,m,a)\n",
    "        \n",
    "                gr_1j[a] = create_TGraph(eff_1j[a], rej, axis_title = ['#epsilon_{signal}','#epsilon_{bkg}'])\n",
    "                gr_2j[a] = create_TGraph(eff_2j[a], rej, axis_title = ['#epsilon_{signal}','#epsilon_{bkg}'])\n",
    "                \n",
    "\n",
    "\n",
    "                gr_1j[a].SetLineWidth(2)\n",
    "                gr_1j[a].SetLineColor(std_color_list[case_i])\n",
    "                \n",
    "                \n",
    "                \n",
    "                if i==2 and case_i==0 and p==1:\n",
    "                    leg.SetHeader(texs[k]+'   Pt >'+str(pt)+' GeV')         \n",
    "#                     print(rej,eff_1j[a])\n",
    "                    gr_1j[a].GetYaxis().SetRangeUser(1e-10,1)\n",
    "                    gr_1j[a].GetXaxis().SetLimits(0,1)\n",
    "                    gr_1j[a].Draw('ac')\n",
    "                    leg.AddEntry(gr_1j[a],'\"'+case+'\"')            \n",
    "                elif i==2 and p==1:\n",
    "                    gr_1j[a].Draw('csame')\n",
    "                    leg.AddEntry(gr_1j[a],'\"'+case+'\"')            \n",
    "                    \n",
    "\n",
    "\n",
    "    i += 1\n",
    "\n",
    "leg.Draw()\n",
    "\n",
    "c.SetLogy()\n",
    "c.Update()\n",
    "c.Draw()\n"
   ]
  },
  {
   "cell_type": "code",
   "execution_count": 23,
   "metadata": {
    "scrolled": false
   },
   "outputs": [
    {
     "name": "stdout",
     "output_type": "stream",
     "text": [
      "i,j,n,s,m,a\n"
     ]
    },
    {
     "name": "stderr",
     "output_type": "stream",
     "text": [
      "Warning in <TCanvas::Constructor>: Deleting canvas with same name: c\n",
      "Info in <TCanvas::Print>: png file /nfshome/jmao/cms-llp/plots/20190719/Roc_1_Pt20_1j.png has been created\n"
     ]
    },
    {
     "data": {
      "image/png": "[encoded data removed]",
      "text/plain": [
       "<IPython.core.display.Image object>"
      ]
     },
     "metadata": {},
     "output_type": "display_data"
    }
   ],
   "source": [
    "c = rt.TCanvas('c','c', 800, 800)\n",
    "leg = rt.TLegend(0.18,0.76,0.53,0.90)\n",
    "leg.SetTextSize(0.022)\n",
    "leg.SetBorderSize(0)\n",
    "leg.SetFillStyle(0)\n",
    "leg.SetEntrySeparation(0.01)            \n",
    "\n",
    "gr_1j = {}\n",
    "gr_2j = {}\n",
    "\n",
    "i = 0\n",
    "\n",
    "print('i,j,n,s,m,a')\n",
    "\n",
    "for k,v in tree.items(): \n",
    "#     print(k,v,i)\n",
    "\n",
    "            \n",
    "    for case_i,case in enumerate(cases):\n",
    "#         print(case_i,i)\n",
    "        \n",
    "        for j,sig in enumerate(sigma):\n",
    "#             print(j,sig)\n",
    "            n = i*len(sigma)+j\n",
    "            s = case_i*len(sigma)+j\n",
    "            m = i*len(sigma)*len(cases)+case_i*len(sigma)+j\n",
    "            \n",
    "#             print(i, j, n, s, m)\n",
    "   \n",
    "            \n",
    "            for p,pt in enumerate(pt_cuts):\n",
    "#                 print(p,pt)\n",
    "                a = i*len(sigma)*len(cases)*len(pt_cuts)+case_i*len(sigma)*len(pt_cuts)+j*len(sigma)+p\n",
    "#                 print(i,j,n,s,m,a)\n",
    "        \n",
    "                gr_1j[a] = create_TGraph(eff_1j[a], rej, axis_title = ['#epsilon_{signal}','#epsilon_{bkg}'])\n",
    "                gr_2j[a] = create_TGraph(eff_2j[a], rej, axis_title = ['#epsilon_{signal}','#epsilon_{bkg}'])\n",
    "                \n",
    "\n",
    "\n",
    "                gr_1j[a].SetLineWidth(2)\n",
    "                gr_1j[a].SetLineColor(std_color_list[case_i])\n",
    "                \n",
    "                \n",
    "                \n",
    "                if i==1 and case_i==0 and p==1:\n",
    "                    leg.SetHeader(texs[k]+'   Pt >'+str(pt)+' GeV')         \n",
    "#                     print(rej,eff_1j[a])\n",
    "                    gr_1j[a].GetYaxis().SetRangeUser(1e-10,1)\n",
    "                    gr_1j[a].GetXaxis().SetLimits(0,1)\n",
    "                    gr_1j[a].Draw('ac')\n",
    "                    leg.AddEntry(gr_1j[a],'\"'+case+'\"')            \n",
    "                elif i==1 and p==1:\n",
    "                    gr_1j[a].Draw('csame')\n",
    "                    leg.AddEntry(gr_1j[a],'\"'+case+'\"')            \n",
    "                    \n",
    "\n",
    "\n",
    "    i += 1\n",
    "\n",
    "leg.Draw()\n",
    "\n",
    "c.SetLogy()\n",
    "c.Update()\n",
    "c.Draw()\n"
   ]
  },
  {
   "cell_type": "code",
   "execution_count": 24,
   "metadata": {
    "scrolled": false
   },
   "outputs": [
    {
     "name": "stdout",
     "output_type": "stream",
     "text": [
      "i,j,n,s,m,a\n"
     ]
    },
    {
     "name": "stderr",
     "output_type": "stream",
     "text": [
      "Warning in <TCanvas::Constructor>: Deleting canvas with same name: c\n",
      "Info in <TCanvas::Print>: png file /nfshome/jmao/cms-llp/plots/20190719/Roc_1_Pt20_2j.png has been created\n"
     ]
    },
    {
     "data": {
      "image/png": "[encoded data removed]",
      "text/plain": [
       "<IPython.core.display.Image object>"
      ]
     },
     "metadata": {},
     "output_type": "display_data"
    }
   ],
   "source": [
    "c = rt.TCanvas('c','c', 800, 800)\n",
    "leg = rt.TLegend(0.18,0.76,0.53,0.90)\n",
    "leg.SetTextSize(0.022)\n",
    "leg.SetBorderSize(0)\n",
    "leg.SetFillStyle(0)\n",
    "leg.SetEntrySeparation(0.01)            \n",
    "\n",
    "gr_1j = {}\n",
    "gr_2j = {}\n",
    "\n",
    "i = 0\n",
    "\n",
    "print('i,j,n,s,m,a')\n",
    "\n",
    "for k,v in tree.items(): \n",
    "#     print(k,v,i)\n",
    "\n",
    "            \n",
    "    for case_i,case in enumerate(cases):\n",
    "#         print(case_i,i)\n",
    "        \n",
    "        for j,sig in enumerate(sigma):\n",
    "#             print(j,sig)\n",
    "            n = i*len(sigma)+j\n",
    "            s = case_i*len(sigma)+j\n",
    "            m = i*len(sigma)*len(cases)+case_i*len(sigma)+j\n",
    "            \n",
    "#             print(i, j, n, s, m)\n",
    "   \n",
    "            \n",
    "            for p,pt in enumerate(pt_cuts):\n",
    "#                 print(p,pt)\n",
    "                a = i*len(sigma)*len(cases)*len(pt_cuts)+case_i*len(sigma)*len(pt_cuts)+j*len(sigma)+p\n",
    "#                 print(i,j,n,s,m,a)\n",
    "        \n",
    "                gr_1j[a] = create_TGraph(eff_1j[a], rej, axis_title = ['#epsilon_{signal}','#epsilon_{bkg}'])\n",
    "                gr_2j[a] = create_TGraph(eff_2j[a], rej, axis_title = ['#epsilon_{signal}','#epsilon_{bkg}'])\n",
    "                \n",
    "\n",
    "\n",
    "                gr_2j[a].SetLineWidth(2)\n",
    "                gr_2j[a].SetLineStyle(7)\n",
    "                gr_2j[a].SetLineColor(std_color_list[case_i])\n",
    "                \n",
    "                \n",
    "                \n",
    "                if i==1 and case_i==0 and p==1:\n",
    "                    leg.SetHeader(texs[k]+'   Pt >'+str(pt)+' GeV')         \n",
    "#                     print(rej,eff_1j[a])\n",
    "                    gr_2j[a].GetYaxis().SetRangeUser(1e-10,1)\n",
    "                    gr_2j[a].GetXaxis().SetLimits(0,1)\n",
    "                    gr_2j[a].Draw('ac')\n",
    "                    leg.AddEntry(gr_2j[a],'\"'+case+'\"')            \n",
    "                elif i==1 and p==1:\n",
    "                    gr_2j[a].Draw('csame')\n",
    "                    leg.AddEntry(gr_2j[a],'\"'+case+'\"')            \n",
    "                    \n",
    "\n",
    "\n",
    "    i += 1\n",
    "\n",
    "leg.Draw()\n",
    "\n",
    "c.SetLogy()\n",
    "c.Update()\n",
    "c.Draw()\n"
   ]
  },
  {
   "cell_type": "code",
   "execution_count": 25,
   "metadata": {
    "scrolled": false
   },
   "outputs": [
    {
     "name": "stdout",
     "output_type": "stream",
     "text": [
      "i,j,n,s,m,a\n"
     ]
    },
    {
     "name": "stderr",
     "output_type": "stream",
     "text": [
      "Warning in <TCanvas::Constructor>: Deleting canvas with same name: c\n",
      "Info in <TCanvas::Print>: png file /nfshome/jmao/cms-llp/plots/20190719/Roc_1_Pt20_1j2j.png has been created\n"
     ]
    },
    {
     "data": {
      "image/png": "[encoded data removed]",
      "text/plain": [
       "<IPython.core.display.Image object>"
      ]
     },
     "metadata": {},
     "output_type": "display_data"
    }
   ],
   "source": [
    "c = rt.TCanvas('c','c', 800, 800)\n",
    "leg = rt.TLegend(0.18,0.76,0.53,0.90)\n",
    "leg.SetTextSize(0.022)\n",
    "leg.SetBorderSize(0)\n",
    "leg.SetFillStyle(0)\n",
    "leg.SetEntrySeparation(0.01)   \n",
    "\n",
    "leg1 = rt.TLegend(0.47,0.76,0.83,0.86)\n",
    "leg1.SetTextSize(0.022)\n",
    "leg1.SetBorderSize(0)\n",
    "leg1.SetFillStyle(0)\n",
    "leg1.SetEntrySeparation(0.01)       \n",
    "\n",
    "gr_1j = {}\n",
    "gr_2j = {}\n",
    "\n",
    "i = 0\n",
    "\n",
    "print('i,j,n,s,m,a')\n",
    "\n",
    "for k,v in tree.items(): \n",
    "#     print(k,v,i)\n",
    "\n",
    "            \n",
    "    for case_i,case in enumerate(cases):\n",
    "#         print(case_i,i)\n",
    "        \n",
    "        for j,sig in enumerate(sigma):\n",
    "#             print(j,sig)\n",
    "            n = i*len(sigma)+j\n",
    "            s = case_i*len(sigma)+j\n",
    "            m = i*len(sigma)*len(cases)+case_i*len(sigma)+j\n",
    "            \n",
    "#             print(i, j, n, s, m)\n",
    "   \n",
    "            \n",
    "            for p,pt in enumerate(pt_cuts):\n",
    "#                 print(p,pt)\n",
    "                a = i*len(sigma)*len(cases)*len(pt_cuts)+case_i*len(sigma)*len(pt_cuts)+j*len(sigma)+p\n",
    "#                 print(i,j,n,s,m,a)\n",
    "        \n",
    "                gr_1j[a] = create_TGraph(eff_1j[a], rej, axis_title = ['#epsilon_{signal}','#epsilon_{bkg}'])\n",
    "                gr_2j[a] = create_TGraph(eff_2j[a], rej, axis_title = ['#epsilon_{signal}','#epsilon_{bkg}'])\n",
    "                \n",
    "\n",
    "\n",
    "                gr_1j[a].SetLineStyle(9)\n",
    "                gr_1j[a].SetMarkerStyle(22)\n",
    "                gr_1j[a].SetLineWidth(2)\n",
    "                gr_1j[a].SetLineColor(std_color_list[case_i])\n",
    "                \n",
    "                gr_2j[a].SetLineWidth(2)\n",
    "                gr_2j[a].SetLineStyle(7)\n",
    "                gr_2j[a].SetLineColor(std_color_list[case_i])               \n",
    "                \n",
    "                \n",
    "                \n",
    "                if i==1 and case_i==0 and p==1:\n",
    "#                     leg.SetHeader(texs[k])         \n",
    "#                     leg1.SetHeader('   Pt >'+str(pt)+' GeV')         \n",
    "                    leg.SetHeader(texs[k]+'   Pt >'+str(pt)+' GeV')         \n",
    "#                     print(rej,eff_1j[a])\n",
    "                    gr_1j[a].GetYaxis().SetRangeUser(1e-10,1)\n",
    "                    gr_1j[a].GetXaxis().SetLimits(0,1)\n",
    "                    gr_2j[a].GetYaxis().SetRangeUser(1e-10,1)\n",
    "                    gr_2j[a].GetXaxis().SetLimits(0,1)\n",
    "        \n",
    "                    gr_1j[a].Draw('acp')\n",
    "                    gr_2j[a].Draw('csame')\n",
    "                    leg.AddEntry(gr_1j[a],'\"'+case+'\"'+' One Jet')            \n",
    "                    leg1.AddEntry(gr_2j[a], ' Two Jets')            \n",
    "#                     leg1.AddEntry(gr_2j[a],'\"'+case+'\"'+' Two Jets')            \n",
    "                elif i==1 and p==1:\n",
    "                    gr_1j[a].Draw('cpsame')\n",
    "                    gr_2j[a].Draw('csame')\n",
    "                    leg.AddEntry(gr_1j[a],'\"'+case+'\"'+' One Jet')            \n",
    "                    leg1.AddEntry(gr_2j[a], ' Two Jets')            \n",
    "#                     leg1.AddEntry(gr_2j[a],'\"'+case+'\"'+' Two Jets')            \n",
    "                    \n",
    "\n",
    "\n",
    "    i += 1\n",
    "\n",
    "leg.Draw()\n",
    "leg1.Draw()\n",
    "\n",
    "c.SetLogy()\n",
    "c.Update()\n",
    "c.Draw()\n"
   ]
  },
  {
   "cell_type": "code",
   "execution_count": 26,
   "metadata": {
    "scrolled": false
   },
   "outputs": [
    {
     "name": "stdout",
     "output_type": "stream",
     "text": [
      "i,j,n,s,m,a\n"
     ]
    },
    {
     "name": "stderr",
     "output_type": "stream",
     "text": [
      "Warning in <TCanvas::Constructor>: Deleting canvas with same name: c\n",
      "Info in <TCanvas::Print>: png file /nfshome/jmao/cms-llp/plots/20190719/Roc_2_Pt20_1j2j.png has been created\n"
     ]
    },
    {
     "data": {
      "image/png": "[encoded data removed]",
      "text/plain": [
       "<IPython.core.display.Image object>"
      ]
     },
     "metadata": {},
     "output_type": "display_data"
    }
   ],
   "source": [
    "c = rt.TCanvas('c','c', 800, 800)\n",
    "leg = rt.TLegend(0.18,0.76,0.53,0.90)\n",
    "leg.SetTextSize(0.022)\n",
    "leg.SetBorderSize(0)\n",
    "leg.SetFillStyle(0)\n",
    "leg.SetEntrySeparation(0.01)   \n",
    "\n",
    "leg1 = rt.TLegend(0.47,0.76,0.83,0.86)\n",
    "leg1.SetTextSize(0.022)\n",
    "leg1.SetBorderSize(0)\n",
    "leg1.SetFillStyle(0)\n",
    "leg1.SetEntrySeparation(0.01)       \n",
    "\n",
    "gr_1j = {}\n",
    "gr_2j = {}\n",
    "\n",
    "i = 0\n",
    "\n",
    "print('i,j,n,s,m,a')\n",
    "\n",
    "for k,v in tree.items(): \n",
    "#     print(k,v,i)\n",
    "\n",
    "            \n",
    "    for case_i,case in enumerate(cases):\n",
    "#         print(case_i,i)\n",
    "        \n",
    "        for j,sig in enumerate(sigma):\n",
    "#             print(j,sig)\n",
    "            n = i*len(sigma)+j\n",
    "            s = case_i*len(sigma)+j\n",
    "            m = i*len(sigma)*len(cases)+case_i*len(sigma)+j\n",
    "            \n",
    "#             print(i, j, n, s, m)\n",
    "   \n",
    "            \n",
    "            for p,pt in enumerate(pt_cuts):\n",
    "#                 print(p,pt)\n",
    "                a = i*len(sigma)*len(cases)*len(pt_cuts)+case_i*len(sigma)*len(pt_cuts)+j*len(sigma)+p\n",
    "#                 print(i,j,n,s,m,a)\n",
    "        \n",
    "                gr_1j[a] = create_TGraph(eff_1j[a], rej, axis_title = ['#epsilon_{signal}','#epsilon_{bkg}'])\n",
    "                gr_2j[a] = create_TGraph(eff_2j[a], rej, axis_title = ['#epsilon_{signal}','#epsilon_{bkg}'])\n",
    "                \n",
    "\n",
    "\n",
    "                gr_1j[a].SetLineWidth(2)\n",
    "                gr_1j[a].SetLineColor(std_color_list[case_i])\n",
    "                \n",
    "                gr_2j[a].SetLineWidth(2)\n",
    "                gr_2j[a].SetLineStyle(7)\n",
    "                gr_2j[a].SetLineColor(std_color_list[case_i])               \n",
    "                \n",
    "                \n",
    "                \n",
    "                if i==2 and case_i==0 and p==1:\n",
    "#                     leg.SetHeader(texs[k])         \n",
    "#                     leg1.SetHeader('   Pt >'+str(pt)+' GeV')         \n",
    "                    leg.SetHeader(texs[k]+'   Pt >'+str(pt)+' GeV')         \n",
    "#                     print(rej,eff_1j[a])\n",
    "                    gr_1j[a].GetYaxis().SetRangeUser(1e-10,1)\n",
    "                    gr_1j[a].GetXaxis().SetLimits(0,1)\n",
    "                    gr_2j[a].GetYaxis().SetRangeUser(1e-10,1)\n",
    "                    gr_2j[a].GetXaxis().SetLimits(0,1)\n",
    "        \n",
    "                    gr_1j[a].Draw('ac')\n",
    "                    gr_2j[a].Draw('csame')\n",
    "                    leg.AddEntry(gr_1j[a],'\"'+case+'\"'+' One Jet')            \n",
    "                    leg1.AddEntry(gr_2j[a], ' Two Jets')            \n",
    "#                     leg1.AddEntry(gr_2j[a],'\"'+case+'\"'+' Two Jets')            \n",
    "                elif i==2 and p==1:\n",
    "                    gr_1j[a].Draw('csame')\n",
    "                    gr_2j[a].Draw('csame')\n",
    "                    leg.AddEntry(gr_1j[a],'\"'+case+'\"'+' One Jet')            \n",
    "                    leg1.AddEntry(gr_2j[a], ' Two Jets')            \n",
    "#                     leg1.AddEntry(gr_2j[a],'\"'+case+'\"'+' Two Jets')            \n",
    "                    \n",
    "\n",
    "\n",
    "    i += 1\n",
    "\n",
    "leg.Draw()\n",
    "leg1.Draw()\n",
    "\n",
    "c.SetLogy()\n",
    "c.Update()\n",
    "c.Draw()\n"
   ]
  },
  {
   "cell_type": "code",
   "execution_count": 27,
   "metadata": {
    "scrolled": false
   },
   "outputs": [
    {
     "name": "stdout",
     "output_type": "stream",
     "text": [
      "i,j,n,s,m,a\n"
     ]
    },
    {
     "name": "stderr",
     "output_type": "stream",
     "text": [
      "Warning in <TCanvas::Constructor>: Deleting canvas with same name: c\n",
      "Info in <TCanvas::Print>: png file /nfshome/jmao/cms-llp/plots/20190719/Roc_0_Pt20_1j2j.png has been created\n"
     ]
    },
    {
     "data": {
      "image/png": "[encoded data removed]",
      "text/plain": [
       "<IPython.core.display.Image object>"
      ]
     },
     "metadata": {},
     "output_type": "display_data"
    }
   ],
   "source": [
    "c = rt.TCanvas('c','c', 800, 800)\n",
    "leg = rt.TLegend(0.18,0.76,0.53,0.90)\n",
    "leg.SetTextSize(0.022)\n",
    "leg.SetBorderSize(0)\n",
    "leg.SetFillStyle(0)\n",
    "leg.SetEntrySeparation(0.01)   \n",
    "\n",
    "leg1 = rt.TLegend(0.47,0.76,0.83,0.86)\n",
    "leg1.SetTextSize(0.022)\n",
    "leg1.SetBorderSize(0)\n",
    "leg1.SetFillStyle(0)\n",
    "leg1.SetEntrySeparation(0.01)       \n",
    "\n",
    "gr_1j = {}\n",
    "gr_2j = {}\n",
    "\n",
    "i = 0\n",
    "\n",
    "print('i,j,n,s,m,a')\n",
    "\n",
    "for k,v in tree.items(): \n",
    "#     print(k,v,i)\n",
    "\n",
    "            \n",
    "    for case_i,case in enumerate(cases):\n",
    "#         print(case_i,i)\n",
    "        \n",
    "        for j,sig in enumerate(sigma):\n",
    "#             print(j,sig)\n",
    "            n = i*len(sigma)+j\n",
    "            s = case_i*len(sigma)+j\n",
    "            m = i*len(sigma)*len(cases)+case_i*len(sigma)+j\n",
    "            \n",
    "#             print(i, j, n, s, m)\n",
    "   \n",
    "            \n",
    "            for p,pt in enumerate(pt_cuts):\n",
    "#                 print(p,pt)\n",
    "                a = i*len(sigma)*len(cases)*len(pt_cuts)+case_i*len(sigma)*len(pt_cuts)+j*len(sigma)+p\n",
    "#                 print(i,j,n,s,m,a)\n",
    "        \n",
    "                gr_1j[a] = create_TGraph(eff_1j[a], rej, axis_title = ['#epsilon_{signal}','#epsilon_{bkg}'])\n",
    "                gr_2j[a] = create_TGraph(eff_2j[a], rej, axis_title = ['#epsilon_{signal}','#epsilon_{bkg}'])\n",
    "                \n",
    "\n",
    "\n",
    "                gr_1j[a].SetLineWidth(2)\n",
    "                gr_1j[a].SetLineColor(std_color_list[case_i])\n",
    "                \n",
    "                gr_2j[a].SetLineWidth(2)\n",
    "                gr_2j[a].SetLineStyle(7)\n",
    "                gr_2j[a].SetLineColor(std_color_list[case_i])               \n",
    "                \n",
    "                \n",
    "                \n",
    "                if i==0 and case_i==0 and p==1:\n",
    "#                     leg.SetHeader(texs[k])         \n",
    "#                     leg1.SetHeader('   Pt >'+str(pt)+' GeV')         \n",
    "                    leg.SetHeader(texs[k]+'   Pt >'+str(pt)+' GeV')         \n",
    "#                     print(rej,eff_1j[a])\n",
    "                    gr_1j[a].GetYaxis().SetRangeUser(1e-10,1)\n",
    "                    gr_1j[a].GetXaxis().SetLimits(0,1)\n",
    "                    gr_2j[a].GetYaxis().SetRangeUser(1e-10,1)\n",
    "                    gr_2j[a].GetXaxis().SetLimits(0,1)\n",
    "        \n",
    "                    gr_1j[a].Draw('ac')\n",
    "                    gr_2j[a].Draw('csame')\n",
    "                    leg.AddEntry(gr_1j[a],'\"'+case+'\"'+' One Jet')            \n",
    "                    leg1.AddEntry(gr_2j[a], ' Two Jets')            \n",
    "#                     leg1.AddEntry(gr_2j[a],'\"'+case+'\"'+' Two Jets')            \n",
    "                elif i==0 and p==1:\n",
    "                    gr_1j[a].Draw('csame')\n",
    "                    gr_2j[a].Draw('csame')\n",
    "                    leg.AddEntry(gr_1j[a],'\"'+case+'\"'+' One Jet')            \n",
    "                    leg1.AddEntry(gr_2j[a], ' Two Jets')            \n",
    "#                     leg1.AddEntry(gr_2j[a],'\"'+case+'\"'+' Two Jets')            \n",
    "                    \n",
    "\n",
    "\n",
    "    i += 1\n",
    "\n",
    "leg.Draw()\n",
    "leg1.Draw()\n",
    "\n",
    "c.SetLogy()\n",
    "c.Update()\n",
    "c.Draw()\n"
   ]
  },
  {
   "cell_type": "markdown",
   "metadata": {},
   "source": [
    "# Normal distribution"
   ]
  },
  {
   "cell_type": "code",
   "execution_count": 38,
   "metadata": {},
   "outputs": [
    {
     "data": {
      "text/plain": [
       "0.3989422804014327"
      ]
     },
     "execution_count": 38,
     "metadata": {},
     "output_type": "execute_result"
    }
   ],
   "source": [
    "import scipy.stats\n",
    "scipy.stats.norm(0, 1)\n",
    "scipy.stats.norm(0, 1).pdf(0)\n"
   ]
  },
  {
   "cell_type": "code",
   "execution_count": 80,
   "metadata": {},
   "outputs": [
    {
     "data": {
      "text/plain": [
       "0.5"
      ]
     },
     "execution_count": 80,
     "metadata": {},
     "output_type": "execute_result"
    }
   ],
   "source": [
    "scipy.stats.norm.sf(0,0,1)"
   ]
  },
  {
   "cell_type": "code",
   "execution_count": 39,
   "metadata": {},
   "outputs": [
    {
     "data": {
      "text/plain": [
       "0.5"
      ]
     },
     "execution_count": 39,
     "metadata": {},
     "output_type": "execute_result"
    }
   ],
   "source": [
    "scipy.stats.norm(0, 1).cdf(0)"
   ]
  },
  {
   "cell_type": "code",
   "execution_count": 40,
   "metadata": {},
   "outputs": [
    {
     "data": {
      "text/plain": [
       "0.7257468822499265"
      ]
     },
     "execution_count": 40,
     "metadata": {},
     "output_type": "execute_result"
    }
   ],
   "source": [
    "scipy.stats.norm(0, 1).cdf(0.6)"
   ]
  },
  {
   "cell_type": "code",
   "execution_count": 42,
   "metadata": {},
   "outputs": [
    {
     "data": {
      "text/plain": [
       "104.69388017206356"
      ]
     },
     "execution_count": 42,
     "metadata": {},
     "output_type": "execute_result"
    }
   ],
   "source": [
    "import scipy.stats\n",
    "scipy.stats.norm(loc=100, scale=12)\n",
    "#where loc is the mean and scale is the std dev\n",
    "#if you wish to pull out a random number from your distribution\n",
    "scipy.stats.norm.rvs(loc=100, scale=12)"
   ]
  },
  {
   "cell_type": "code",
   "execution_count": 43,
   "metadata": {},
   "outputs": [
    {
     "data": {
      "text/plain": [
       "0.8606697525503779"
      ]
     },
     "execution_count": 43,
     "metadata": {},
     "output_type": "execute_result"
    }
   ],
   "source": [
    "#To find the probability that the variable has a value LESS than or equal\n",
    "#let's say 113, you'd use CDF cumulative Density Function\n",
    "scipy.stats.norm.cdf(113,100,12)"
   ]
  },
  {
   "cell_type": "code",
   "execution_count": null,
   "metadata": {},
   "outputs": [],
   "source": [
    "Output: 0.86066975255037792\n",
    "#or 86.07% probability"
   ]
  },
  {
   "cell_type": "code",
   "execution_count": 46,
   "metadata": {},
   "outputs": [
    {
     "data": {
      "text/plain": [
       "0.13933024744962208"
      ]
     },
     "execution_count": 46,
     "metadata": {},
     "output_type": "execute_result"
    }
   ],
   "source": [
    "#To find the probability that the variable has a value GREATER than or\n",
    "#equal to let's say 125, you'd use SF Survival Function \n",
    "scipy.stats.norm.sf(113,100,12)"
   ]
  },
  {
   "cell_type": "code",
   "execution_count": 47,
   "metadata": {},
   "outputs": [
    {
     "data": {
      "text/plain": [
       "1.0"
      ]
     },
     "execution_count": 47,
     "metadata": {},
     "output_type": "execute_result"
    }
   ],
   "source": [
    "scipy.stats.norm.cdf(113,100,12)+scipy.stats.norm.sf(113,100,12)"
   ]
  },
  {
   "cell_type": "code",
   "execution_count": 44,
   "metadata": {},
   "outputs": [
    {
     "data": {
      "text/plain": [
       "0.018610425189886332"
      ]
     },
     "execution_count": 44,
     "metadata": {},
     "output_type": "execute_result"
    }
   ],
   "source": [
    "#To find the probability that the variable has a value GREATER than or\n",
    "#equal to let's say 125, you'd use SF Survival Function \n",
    "scipy.stats.norm.sf(125,100,12)"
   ]
  },
  {
   "cell_type": "code",
   "execution_count": null,
   "metadata": {},
   "outputs": [],
   "source": [
    "Output: 0.018610425189886332\n",
    "#or 1.86%"
   ]
  },
  {
   "cell_type": "code",
   "execution_count": 49,
   "metadata": {},
   "outputs": [
    {
     "data": {
      "text/plain": [
       "112.96383208977947"
      ]
     },
     "execution_count": 49,
     "metadata": {},
     "output_type": "execute_result"
    }
   ],
   "source": [
    "#To find the variate for which the probability is given, let's say the \n",
    "#value which needed to provide a 98% probability, you'd use the \n",
    "#PPF Percent Point Function\n",
    "scipy.stats.norm.ppf(.86,100,12)"
   ]
  },
  {
   "cell_type": "code",
   "execution_count": 45,
   "metadata": {},
   "outputs": [
    {
     "data": {
      "text/plain": [
       "124.64498692758187"
      ]
     },
     "execution_count": 45,
     "metadata": {},
     "output_type": "execute_result"
    }
   ],
   "source": [
    "#To find the variate for which the probability is given, let's say the \n",
    "#value which needed to provide a 98% probability, you'd use the \n",
    "#PPF Percent Point Function\n",
    "scipy.stats.norm.ppf(.98,100,12)"
   ]
  },
  {
   "cell_type": "code",
   "execution_count": 41,
   "metadata": {},
   "outputs": [],
   "source": [
    "Output: 124.64498692758187"
   ]
  },
  {
   "cell_type": "code",
   "execution_count": null,
   "metadata": {},
   "outputs": [],
   "source": []
  }
 ],
 "metadata": {
  "kernelspec": {
   "display_name": "Python 2",
   "language": "python",
   "name": "python2"
  },
  "language_info": {
   "codemirror_mode": {
    "name": "ipython",
    "version": 3
   },
   "file_extension": ".py",
   "mimetype": "text/x-python",
   "name": "python",
   "nbconvert_exporter": "python",
   "pygments_lexer": "ipython3",
   "version": "3.6.8"
  }
 },
 "nbformat": 4,
 "nbformat_minor": 2
}
