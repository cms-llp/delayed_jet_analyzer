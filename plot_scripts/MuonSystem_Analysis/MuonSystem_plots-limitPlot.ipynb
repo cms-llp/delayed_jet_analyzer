{
 "cells": [
  {
   "cell_type": "code",
   "execution_count": 1,
   "metadata": {},
   "outputs": [
    {
     "name": "stdout",
     "output_type": "stream",
     "text": [
      "Welcome to JupyROOT 6.18/02\n",
      "3.6.8 (default, Aug  7 2019, 17:28:10) \n",
      "[GCC 4.8.5 20150623 (Red Hat 4.8.5-39)]\n"
     ]
    }
   ],
   "source": [
    "import ROOT as rt\n",
    "# import root_numpy as rtnp\n",
    "import csv\n",
    "import re\n",
    "import sys\n",
    "import collections\n",
    "\n",
    "from collections import OrderedDict\n",
    "import uproot\n",
    "import pandas as pd\n",
    "\n",
    "import scipy\n",
    "import awkward\n",
    "import numpy as np\n",
    "import time\n",
    "import numba\n",
    "from numba import jit\n",
    "from matplotlib import pyplot as plt\n",
    "sys.path.append('/storage/user/christiw/gpu/christiw/llp/delayed_jet_analyzer/lib/')\n",
    "from histo_utilities import create_TH1D, create_TH2D, std_color_list, create_TGraph, make_ratio_plot\n",
    "\n",
    "import CMS_lumi, tdrstyle\n",
    "tdrstyle.setTDRStyle()\n",
    "CMS_lumi.writeExtraText = 0\n",
    "\n",
    "wH = 1\n",
    "Z_MASS = 91.2\n",
    "\n",
    "\n",
    "# donotdelete = []\n",
    "print(sys.version)"
   ]
  },
  {
   "cell_type": "markdown",
   "metadata": {},
   "source": [
    "# Load ntuples"
   ]
  },
  {
   "cell_type": "code",
   "execution_count": 2,
   "metadata": {},
   "outputs": [
    {
     "name": "stdout",
     "output_type": "stream",
     "text": [
      "[    30     40     50    100    200    300    500   1000   5000  10000\n",
      " 100000]\n",
      "[3.47545539e-03 2.89007370e-03 2.62496839e-03 2.36563673e-03\n",
      " 2.73874584e-03 3.56731412e-03 6.05415373e-03 1.06256304e-02\n",
      " 7.48644378e-02 2.40538398e-01 1.94729405e+01]\n",
      "[1.43905575e-03 2.12315876e-03 3.47545539e-03 5.99675836e-03\n",
      " 1.00683342e-02 1.54636586e-05]\n",
      "[764.288330078125, 870.436279296875, 931.558837890625, 977.5380859375, 807.281005859375, 611.0164184570312, 356.1604309082031, 273.51318359375, 36.106929779052734, 11.075414657592773, 0.13480244576931]\n"
     ]
    }
   ],
   "source": [
    "limitTrees =OrderedDict()\n",
    "dataCards = OrderedDict()\n",
    "\n",
    "limitTrees10 =OrderedDict()\n",
    "dataCards10 = OrderedDict()\n",
    "\n",
    "version = '/V1p14/v1/v1/'\n",
    "OLD_CTAU = 1\n",
    "limitDir = '/storage/user/christiw/login-1/christiw/LLP/CMSSW_10_2_13/src/HiggsAnalysis/MuonSystemLimit/combine/limitTrees/'+version\n",
    "dataCardDir = '/storage/user/christiw/login-1/christiw/LLP/CMSSW_10_2_13/src/HiggsAnalysis/MuonSystemLimit/combine/datacards/'+version\n",
    "lumi = 105.30388711* 1000\n",
    "# ctaus = np.array([5, 10, 30, 50, 100, 500, 1000, 5000, 10000])\n",
    "# signal_norm = [0.21486444425582887, 0.8782269554138182, 12.492485580444336, 23.266965423583986, 40.29793115234375, 43.2841708984375]\n",
    "\n",
    "\n",
    "ctaus = np.array([30, 40, 50, 100, 200, 300, 500, 1000, 5000, 10000, 100000])\n",
    "\n",
    "# assert(len(ctaus) == len(signal_norm))\n",
    "limits = np.ones((len(ctaus), 6))\n",
    "\n",
    "### limit branch: 2.5, 16.0, 50.0, 84.0, 97.5, obs\n",
    "\n",
    "for ct in ctaus:\n",
    "    OLD_CTAU = 1\n",
    "    limitTrees[ct] = limitDir + 'higgsCombine.ctau'+str(OLD_CTAU)+'m_reweight_ctau' + str(ct) + 'cm_nRechit130dPhi0p6.AsymptoticLimits.mH120.root'\n",
    "    dataCards[ct] = dataCardDir + 'ggh_mh125_mx55_ctau'+str(OLD_CTAU)+'m_reweight_' + str(ct) + 'cm_nRechit130dPhi0p6.txt'\n",
    "    \n",
    "    OLD_CTAU = 10\n",
    "    limitTrees10[ct] = limitDir + 'higgsCombine.ctau'+str(OLD_CTAU)+'m_reweight_ctau' + str(ct) + 'cm_nRechit130dPhi0p6.AsymptoticLimits.mH120.root'\n",
    "    dataCards10[ct] = dataCardDir + 'ggh_mh125_mx55_ctau'+str(OLD_CTAU)+'m_reweight_' + str(ct) + 'cm_nRechit130dPhi0p6.txt'\n",
    "\n",
    "norms = []\n",
    "for i,k in enumerate(limitTrees.keys()):\n",
    "    T = uproot.open(limitTrees[k])['limit']\n",
    "    T10 = uproot.open(limitTrees10[k])['limit']\n",
    "    line = open(dataCards[k], \"r\").readline()\n",
    "    signal_norm = float(line.split(\" \")[3])\n",
    "    line = open(dataCards10[k], \"r\").readline()\n",
    "    signal_norm10 = float(line.split(\" \")[3])\n",
    "    \n",
    "    if T.array('limit')[2]/signal_norm < T10.array('limit')[2]/signal_norm10:\n",
    "        limit_temp = np.array(T.array('limit'))/signal_norm\n",
    "        norms.append(signal_norm)\n",
    "    else:\n",
    "        limit_temp = np.array(T10.array('limit'))/signal_norm10\n",
    "        norms.append(signal_norm10)\n",
    "\n",
    "#     if float(k) <= 10:\n",
    "#         limit_temp = np.array(T.array('limit'))/signal_norm\n",
    "#         norms.append(signal_norm)\n",
    "\n",
    "#     else:\n",
    "#         limit_temp = np.array(T10.array('limit'))/signal_norm10\n",
    "#         norms.append(signal_norm10)\n",
    "\n",
    "#     limit_temp = np.array(T10.array('limit'))/signal_norm10\n",
    "#     norms.append(signal_norm10)\n",
    "\n",
    "    \n",
    "    \n",
    "    \n",
    "    if i == 0: limits = limit_temp\n",
    "    else: limits = np.vstack((limits, limit_temp))\n",
    "\n",
    "limits = np.array(limits)\n",
    "print(ctaus)\n",
    "print(limits[:,2])\n",
    "print(limits[0])\n",
    "print(norms)\n",
    "#[0.00941727 0.00232179 0.00032019 0.0002337  0.00017991 0.00017472]\n",
    "\n"
   ]
  },
  {
   "cell_type": "markdown",
   "metadata": {},
   "source": [
    "# load atlas limit"
   ]
  },
  {
   "cell_type": "code",
   "execution_count": 4,
   "metadata": {},
   "outputs": [],
   "source": [
    "file_dir = '/storage/user/christiw/login-1/christiw/LLP/CMSSW_10_2_13/src/HiggsAnalysis/MuonSystemLimit/data/'\n",
    "msv1 = file_dir + 'atlas_mh125_mx40_1msv.csv'\n",
    "msv2 = file_dir + 'atlas_mh125_mx40_2msv.csv'\n",
    "msv1 = np.genfromtxt(msv1, delimiter=',')\n",
    "msv2 = np.genfromtxt(msv2, delimiter=',')"
   ]
  },
  {
   "cell_type": "markdown",
   "metadata": {},
   "source": [
    "# Plot"
   ]
  },
  {
   "cell_type": "code",
   "execution_count": 6,
   "metadata": {},
   "outputs": [
    {
     "name": "stdout",
     "output_type": "stream",
     "text": [
      "[3.e-01 4.e-01 5.e-01 1.e+00 2.e+00 3.e+00 5.e+00 1.e+01 5.e+01 1.e+02\n",
      " 1.e+03]\n",
      "[3.47545539e-03 2.89007370e-03 2.62496839e-03 2.36563673e-03\n",
      " 2.73874584e-03 3.56731412e-03 6.05415373e-03 1.06256304e-02\n",
      " 7.48644378e-02 2.40538398e-01 1.94729405e+01]\n",
      "105.3 fb^{-1} (13 TeV)\n"
     ]
    },
    {
     "name": "stderr",
     "output_type": "stream",
     "text": [
      "Warning in <TCanvas::Constructor>: Deleting canvas with same name: c\n"
     ]
    },
    {
     "data": {
      "image/png": "[encoded data removed]",
      "text/plain": [
       "<IPython.core.display.Image object>"
      ]
     },
     "metadata": {},
     "output_type": "display_data"
    }
   ],
   "source": [
    "import importlib\n",
    "importlib.reload(sys.modules['histo_utilities'])\n",
    "from histo_utilities import create_TH1D, create_TH2D, std_color_list, create_TGraph, make_ratio_plot\n",
    "leg = rt.TLegend(0.2,0.75,0.55,0.90)\n",
    "leg.SetTextSize(0.03)\n",
    "leg.SetBorderSize(0)\n",
    "leg.SetEntrySeparation(0.01)\n",
    "\n",
    "\n",
    "\n",
    "c = rt.TCanvas('c','c', 800, 800)\n",
    "# Plotting ncsc\n",
    "start_t = time.time()\n",
    "\n",
    "rt.gStyle.SetOptFit(1011)\n",
    "# for i,k in enumerate(tree_bkg.keys()):\n",
    "br = 1\n",
    "ctaus_m = ctaus/100\n",
    "print(ctaus_m)\n",
    "print(limits[:,2])\n",
    "\n",
    "h_msv1 = create_TGraph(msv1[:,0],msv1[:,1],  axis_title=['c#tau [m]', '95% CL Limit on BR'])\n",
    "\n",
    "h_msv2 = create_TGraph(msv2[:,0],msv2[:,1],  axis_title=['c#tau [m]', '95% CL Limit on BR'])\n",
    "\n",
    "h = create_TGraph(ctaus_m, limits[:,2],  axis_title=['c#tau [m]', '95% CL Limit on BR'])\n",
    "\n",
    "h_exp1sig = create_TGraph(np.hstack((ctaus_m, np.flip(ctaus_m))), np.hstack((limits[:,1], np.flip(limits[:,3]))))\n",
    "h_exp2sig = create_TGraph(np.hstack((ctaus_m, np.flip(ctaus_m))), np.hstack((limits[:,0], np.flip(limits[:,4]))))\n",
    "leg.AddEntry(h, \"Expected  95% CL upper limit\", \"L\")\n",
    "leg.AddEntry(h_exp1sig, \"#pm 1 #sigma Expected\", 'F')\n",
    "leg.AddEntry(h_exp2sig, \"#pm 2 #sigma Expected\", 'F')\n",
    "leg.AddEntry(h_msv1, \"ATLAS 1MSV, m_{x} = 40 GeV, 36fb^{-1}\", 'L')\n",
    "leg.AddEntry(h_msv2, \"ATLAS 2MSV, m_{x} = 40 GeV, 36fb^{-1}\", 'L')\n",
    "\n",
    "h_exp1sig.SetFillColor(std_color_list[3])\n",
    "h_exp2sig.SetFillColor(5)\n",
    "h.SetLineColor(std_color_list[0])\n",
    "h_msv1.SetLineColor(std_color_list[1])\n",
    "h_msv2.SetLineColor(std_color_list[2])\n",
    "\n",
    "h.SetLineWidth(2)\n",
    "h_msv1.SetLineWidth(2)\n",
    "h_msv2.SetLineWidth(2)\n",
    "\n",
    "h.Draw('LA')\n",
    "\n",
    "h.GetXaxis().SetLimits(0.01,1000.0)\n",
    "h.GetYaxis().SetRangeUser(1e-5,100)\n",
    "h.GetXaxis().SetTitleOffset(1)\n",
    "\n",
    "h_exp2sig.Draw('Fsame')\n",
    "h_exp1sig.Draw('Fsame')\n",
    "h.Draw('Lsame')\n",
    "\n",
    "h_msv1.Draw('Lsame')\n",
    "h_msv2.Draw('Lsame')\n",
    "\n",
    "\n",
    "    \n",
    "CMS_lumi.lumi_13TeV = str(round(lumi/1000,2))+\" fb^{-1}\"\n",
    "CMS_lumi.cmsText = \"\"\n",
    "CMS_lumi.relPosY = 0.05\n",
    "CMS_lumi.writeExtraText = False\n",
    "CMS_lumi.CMS_lumi(c,4,4)\n",
    "\n",
    "\n",
    "\n",
    "leg.Draw()\n",
    "c.SetRightMargin(0.03)\n",
    "c.SetLogy()\n",
    "c.SetLogx()\n",
    "\n",
    "c.Draw()\n",
    "# print(time.time()-start_t)"
   ]
  },
  {
   "cell_type": "markdown",
   "metadata": {},
   "source": [
    "# limit for different nrechits"
   ]
  },
  {
   "cell_type": "markdown",
   "metadata": {},
   "source": [
    "##### load ntuples"
   ]
  },
  {
   "cell_type": "code",
   "execution_count": 393,
   "metadata": {},
   "outputs": [
    {
     "name": "stdout",
     "output_type": "stream",
     "text": [
      "[120 130 140 150 160 170 180 190 200 210]\n",
      "0.02622, 0.02665, 0.0203, 0.02636, 0.02481, 0.02312, 0.02206, 0.02213, 0.02221, 0.02101\n",
      "0.01094, 0.0114, 0.00893, 0.01117, 0.01048, 0.00979, 0.00939, 0.00945, 0.00945, 0.00896\n",
      "0.00674, 0.00711, 0.0057, 0.0069, 0.00647, 0.00605, 0.00584, 0.00589, 0.00589, 0.00559\n",
      "0.00326, 0.00346, 0.00298, 0.00328, 0.00308, 0.00296, 0.0029, 0.00297, 0.00296, 0.00281\n",
      "0.00349, 0.00363, 0.00325, 0.00342, 0.00323, 0.00317, 0.00319, 0.00332, 0.0033, 0.00314\n",
      "0.00438, 0.0045, 0.00406, 0.00424, 0.00403, 0.00397, 0.00405, 0.0042, 0.00418, 0.00397\n",
      "0.00618, 0.00631, 0.0057, 0.00595, 0.00564, 0.00554, 0.00562, 0.00585, 0.00585, 0.00556\n",
      "0.01028, 0.01063, 0.00951, 0.00983, 0.00943, 0.00905, 0.00908, 0.0096, 0.00977, 0.00925\n",
      "0.0701, 0.07486, 0.06578, 0.06621, 0.06448, 0.06058, 0.06102, 0.06534, 0.06686, 0.06318\n",
      "0.22502, 0.24054, 0.21021, 0.21162, 0.20597, 0.19328, 0.19469, 0.20809, 0.21303, 0.20174\n",
      "18.19792, 19.47294, 17.03882, 17.03882, 16.57518, 15.53199, 15.6479, 16.69109, 17.03882, 16.11154\n"
     ]
    }
   ],
   "source": [
    "limitTrees =OrderedDict()\n",
    "dataCards = OrderedDict()\n",
    "version = '/V1p14/v1/v1/'\n",
    "OLD_CTAU = 10 #m\n",
    "# NEW_CTAU = 60 #cm\n",
    "limitDir = '/storage/user/christiw/login-1/christiw/LLP/CMSSW_10_2_13/src/HiggsAnalysis/MuonSystemLimit/combine/limitTrees/'+version\n",
    "dataCardDir = '/storage/user/christiw/login-1/christiw/LLP/CMSSW_10_2_13/src/HiggsAnalysis/MuonSystemLimit/combine/datacards/'+version\n",
    "nRechits = np.arange(120,220,10)\n",
    "ctaus = np.array([30, 40, 50, 100, 200, 300, 500, 1000, 5000, 10000, 100000])\n",
    "print(nRechits)\n",
    "\n",
    "for NEW_CTAU in ctaus:\n",
    "#     if not NEW_CTAU == 100:continue\n",
    "    limits = np.ones((len(nRechits), 6))\n",
    "    ### limit branch: 2.5, 16.0, 50.0, 84.0, 97.5, obs\n",
    "#     print(str(NEW_CTAU))\n",
    "    for nRechit in nRechits:\n",
    "        limitTrees[str(nRechit)] = limitDir + 'higgsCombine.ctau'+str(OLD_CTAU)+'m_reweight_ctau' + str(NEW_CTAU) + 'cm_nRechit'+str(nRechit)+'dPhi0p6.AsymptoticLimits.mH120.root'\n",
    "        dataCards[str(nRechit)] = dataCardDir + 'ggh_mh125_mx55_ctau'+str(OLD_CTAU)+'m_reweight_' + str(NEW_CTAU) + 'cm_nRechit'+str(nRechit)+'dPhi0p6.txt'\n",
    "    for i,k in enumerate(limitTrees.keys()):\n",
    "        root_dir = uproot.open(limitTrees[k]) \n",
    "        T = root_dir['limit']\n",
    "        text_file = open(dataCards[k], \"r\")\n",
    "        line = text_file.readline()\n",
    "        signal_norm = float(line.split(\" \")[3])\n",
    "        if i == 0: limits = np.array(T.array('limit'))/signal_norm\n",
    "        else: limits = np.vstack((limits, T.array('limit')/signal_norm))\n",
    "    #     print(\"signal_norm\",signal_norm)\n",
    "    limits = np.array(limits)\n",
    "    print(str([round(i, 5) for i in limits[:,2]])[1:-1])\n",
    "    \n",
    "    result = nRechits[np.where(limits[:,2] == np.amin(limits[:,2]))]\n",
    "#     print(NEW_CTAU, \"nRechits cut with minimum limit: \", result)\n",
    "#[0.00941727 0.00232179 0.00032019 0.0002337  0.00017991 0.00017472]\n",
    "\n",
    "#[0.00281103 0.00246823 0.00212178 0.00202198 0.00234197 0.00315816 0.00535222 0.01515513 0.27569254 1.00375406]"
   ]
  },
  {
   "cell_type": "code",
   "execution_count": null,
   "metadata": {},
   "outputs": [],
   "source": []
  },
  {
   "cell_type": "markdown",
   "metadata": {},
   "source": [
    "#### plot limit vs. nrechit"
   ]
  },
  {
   "cell_type": "code",
   "execution_count": 379,
   "metadata": {},
   "outputs": [
    {
     "name": "stdout",
     "output_type": "stream",
     "text": [
      "[0.00238162 0.00236564 0.00209391 0.00208592 0.00201399 0.00193407\n",
      " 0.00188612 0.00192608 0.00196604]\n",
      "nRechits cut with minimum limit:  [180]\n"
     ]
    },
    {
     "name": "stderr",
     "output_type": "stream",
     "text": [
      "Warning in <TCanvas::Constructor>: Deleting canvas with same name: c\n"
     ]
    },
    {
     "data": {
      "image/png": "[encoded data removed]",
      "text/plain": [
       "<IPython.core.display.Image object>"
      ]
     },
     "metadata": {},
     "output_type": "display_data"
    }
   ],
   "source": [
    "import importlib\n",
    "importlib.reload(sys.modules['histo_utilities'])\n",
    "from histo_utilities import create_TH1D, create_TH2D, std_color_list, create_TGraph, make_ratio_plot\n",
    "leg = rt.TLegend(0.25,0.80,0.55,0.90)\n",
    "leg.SetTextSize(0.03)\n",
    "leg.SetBorderSize(0)\n",
    "leg.SetEntrySeparation(0.01)\n",
    "\n",
    "\n",
    "\n",
    "c = rt.TCanvas('c','c', 900, 800)\n",
    "# Plotting ncsc\n",
    "start_t = time.time()\n",
    "\n",
    "rt.gStyle.SetOptFit(1011)\n",
    "# for i,k in enumerate(tree_bkg.keys()):\n",
    "br = 1\n",
    "ctaus_m = ctaus/100\n",
    "print(limits[:,2])\n",
    "h = create_TGraph(nRechits, limits[:,2],  axis_title=['N_{rechits} cut', '95% CL Limit on BR'])\n",
    "h_exp1sig = create_TGraph(np.hstack((nRechits, np.flip(nRechits))), np.hstack((limits[:,1], np.flip(limits[:,3]))))\n",
    "h_exp2sig = create_TGraph(np.hstack((nRechits, np.flip(nRechits))), np.hstack((limits[:,0], np.flip(limits[:,4]))))\n",
    "leg.AddEntry(h, \"Expected  95% CL upper limit\", \"L\")\n",
    "leg.AddEntry(h_exp1sig, \"#pm 1 #sigma Expected\", 'F')\n",
    "leg.AddEntry(h_exp2sig, \"#pm 2 #sigma Expected\", 'F')\n",
    "\n",
    "h_exp1sig.SetFillColor(std_color_list[3])\n",
    "h_exp2sig.SetFillColor(5)\n",
    "h.SetLineColor(std_color_list[0])\n",
    "h.SetLineWidth(2)\n",
    "\n",
    "h.Draw('LA')\n",
    "\n",
    "h.GetXaxis().SetLimits(100,250)\n",
    "h.GetYaxis().SetRangeUser(1e-5,100)\n",
    "h.GetXaxis().SetTitleOffset(1)\n",
    "\n",
    "h_exp2sig.Draw('Fsame')\n",
    "h_exp1sig.Draw('Fsame')\n",
    "h.Draw('Lsame')\n",
    "\n",
    "result = nRechits[np.where(limits[:,2] == np.amin(limits[:,2]))]\n",
    "print(\"nRechits cut with minimum limit: \", result)\n",
    "\n",
    "\n",
    "\n",
    "\n",
    "leg.Draw()\n",
    "c.SetRightMargin(0.1)\n",
    "c.SetLogy()\n",
    "# c.SetLogx()\n",
    "\n",
    "c.Draw()\n",
    "# print(time.time()-start_t)"
   ]
  },
  {
   "cell_type": "markdown",
   "metadata": {},
   "source": []
  },
  {
   "cell_type": "code",
   "execution_count": null,
   "metadata": {},
   "outputs": [],
   "source": []
  },
  {
   "cell_type": "markdown",
   "metadata": {},
   "source": []
  },
  {
   "cell_type": "code",
   "execution_count": null,
   "metadata": {},
   "outputs": [],
   "source": []
  },
  {
   "cell_type": "code",
   "execution_count": null,
   "metadata": {},
   "outputs": [],
   "source": []
  },
  {
   "cell_type": "markdown",
   "metadata": {},
   "source": []
  },
  {
   "cell_type": "code",
   "execution_count": null,
   "metadata": {},
   "outputs": [],
   "source": []
  },
  {
   "cell_type": "code",
   "execution_count": null,
   "metadata": {},
   "outputs": [],
   "source": []
  },
  {
   "cell_type": "code",
   "execution_count": null,
   "metadata": {},
   "outputs": [],
   "source": []
  },
  {
   "cell_type": "markdown",
   "metadata": {},
   "source": []
  },
  {
   "cell_type": "code",
   "execution_count": null,
   "metadata": {},
   "outputs": [],
   "source": []
  },
  {
   "cell_type": "markdown",
   "metadata": {},
   "source": []
  },
  {
   "cell_type": "code",
   "execution_count": null,
   "metadata": {},
   "outputs": [],
   "source": []
  },
  {
   "cell_type": "markdown",
   "metadata": {},
   "source": [
    "# create datacard"
   ]
  },
  {
   "cell_type": "code",
   "execution_count": 134,
   "metadata": {},
   "outputs": [],
   "source": []
  },
  {
   "cell_type": "markdown",
   "metadata": {},
   "source": [
    "# check correlation"
   ]
  },
  {
   "cell_type": "code",
   "execution_count": null,
   "metadata": {},
   "outputs": [],
   "source": []
  },
  {
   "cell_type": "code",
   "execution_count": null,
   "metadata": {},
   "outputs": [],
   "source": []
  },
  {
   "cell_type": "markdown",
   "metadata": {},
   "source": [
    "## Distribution for event level variables in different binnings"
   ]
  },
  {
   "cell_type": "code",
   "execution_count": null,
   "metadata": {},
   "outputs": [],
   "source": []
  },
  {
   "cell_type": "markdown",
   "metadata": {},
   "source": [
    "# Roc curve for event level variables"
   ]
  },
  {
   "cell_type": "code",
   "execution_count": null,
   "metadata": {},
   "outputs": [],
   "source": []
  },
  {
   "cell_type": "code",
   "execution_count": null,
   "metadata": {},
   "outputs": [],
   "source": []
  },
  {
   "cell_type": "markdown",
   "metadata": {},
   "source": [
    "# Data plot"
   ]
  },
  {
   "cell_type": "code",
   "execution_count": null,
   "metadata": {},
   "outputs": [],
   "source": [
    "import importlib\n",
    "importlib.reload(sys.modules['histo_utilities'])\n",
    "from histo_utilities import create_TH1D, create_TH2D, std_color_list, create_TGraph, make_ratio_plot\n",
    "leg = rt.TLegend(0.5,0.80,0.90,0.90)\n",
    "\n",
    "leg.SetTextSize(0.03)\n",
    "leg.SetBorderSize(0)\n",
    "\n",
    "leg.SetEntrySeparation(0.01)\n",
    "c = rt.TCanvas('c','c', 800, 800)\n",
    "# Plotting ncsc\n",
    "start_t = time.time()\n",
    "\n",
    "legend = {}\n",
    "legend['data_oot'] = 'Data OOT region'\n",
    "legend['data_intime'] = 'Data in-time region'\n",
    "legend['mc_signal'] = 'signal MC in time'\n",
    "legend['mc_intime'] = 'MC in-time background'\n",
    "legend['mc_oot'] = 'MC OOT background'\n",
    "legend['mc_bkg'] = 'QCD 50toInf background'\n",
    "\n",
    "\n",
    "\n",
    "\n",
    "keys = ['data_intime','data_oot','mc_signal',]\n",
    "keys = ['data_intime','mc_signal',]\n",
    "\n",
    "\n",
    "h = {}\n",
    "rt.gStyle.SetOptFit(1011)\n",
    "# for i,k in enumerate(tree_bkg.keys()):\n",
    "br = 1\n",
    "for i,k in enumerate(keys):\n",
    "\n",
    "#     if k == 'data_intime':\n",
    "#         cond = nCsc_JetMuonVetoCluster0p4_Me1112Veto[k] < 200\n",
    "        \n",
    "#     else:\n",
    "#         cond = np.ones(weight[k].shape, dtype=bool)\n",
    "#     cond = np.logical_and(cond, jetMet_dPhiMin4[k]>0.25)\n",
    "    if k == 'mc_signal':\n",
    "        br = 1\n",
    "    else: br = 1\n",
    "#     if k == 'mc_background':br = 1\n",
    "    bins = [50,0,1000]\n",
    "    metcut = 200\n",
    "    h[k] = create_TH1D( nCsc_JetMuonVetoCluster0p4_Me1112Veto[k][cond], axis_title=['N_{rechits}', 'Events'], name=k, binning=bins,weights = br*weight[k][cond])\n",
    "    h[k].SetLineColor(std_color_list[i])\n",
    "    print(\"weight\",weight[k][0])\n",
    "    leg.AddEntry(h[k], legend[k]+\" (scaled)\" if k == 'data_oot' else legend[k])\n",
    "#     if k == 'mc_signal':\n",
    "#         for i in range(h[k].GetNbinsX()):\n",
    "#             s = 0.015*h[k].GetBinContent(i+1)\n",
    "#             b = h['data_oot'].GetBinContent(i+1)\n",
    "#             if s+b == 0:continue\n",
    "#             sig = s/(s+b)**0.5\n",
    "#             print(i,h[k].GetBinCenter(i+1),sig,s,b)\n",
    "#             if sig < 1./100:\n",
    "#                 print(i,sig)\n",
    "#                 continue\n",
    "#     h[k].SetMinimum(1)\n",
    "\n",
    "#     r = h[k].Fit('expo', 'LRSQ+', '', 50,400)\n",
    "#     print(r.Get())\n",
    "#     print(r.Prob())\n",
    "#     h[k].GetFunction(\"expo\").SetLineColor(std_color_list[2])\n",
    "#     h[k].GetFunction(\"expo\").SetLineWidth(2)\n",
    "    h[k].GetXaxis().SetLabelSize(0.04)\n",
    "    h[k].SetMinimum(0.1)\n",
    "    h[k].SetMaximum(10E6/2)\n",
    "#     h[k+'met'].GetXaxis().SetLabelSize(0.02)\n",
    "    if k == 'data_oot':\n",
    "        scale = 1.0*h['data_intime'].GetBinContent(4)/h['data_oot'].GetBinContent(4)\n",
    "#         for i in range(10):\n",
    "#             print(1.0*h['data_intime'].GetBinContent(i+1)/h['data_oot'].GetBinContent(i+1))\n",
    "        h[k].Scale(scale)\n",
    "    if k[:4] == 'data':\n",
    "        h[k].Draw('same E1')\n",
    "    else:\n",
    "        h[k].Draw(\"same hist\")\n",
    "#     h[k+'met'].DrawNormalized('same')\n",
    "    \n",
    "\n",
    "# c = make_ratio_plot([h['mc'],h['data']], fit = False, logy=True, in_tags = [\"MC\",\"Data\"], ratio_bounds = [0,3])\n",
    "c.SetRightMargin(0)\n",
    "c.SetLogy()\n",
    "leg.Draw()\n",
    "\n",
    "c.Draw()\n",
    "# print(time.time()-start_t)"
   ]
  },
  {
   "cell_type": "code",
   "execution_count": null,
   "metadata": {},
   "outputs": [],
   "source": [
    "import importlib\n",
    "importlib.reload(sys.modules['histo_utilities'])\n",
    "from histo_utilities import create_TH1D, create_TH2D, std_color_list, create_TGraph, make_ratio_plot\n",
    "leg = rt.TLegend(0.5,0.80,0.90,0.90)\n",
    "\n",
    "leg.SetTextSize(0.03)\n",
    "leg.SetBorderSize(0)\n",
    "\n",
    "leg.SetEntrySeparation(0.01)\n",
    "c = rt.TCanvas('c','c', 800, 800)\n",
    "# Plotting ncsc\n",
    "start_t = time.time()\n",
    "\n",
    "\n",
    "k = 'data_intime'\n",
    "\n",
    "h = {}\n",
    "rt.gStyle.SetOptFit(1011)\n",
    "\n",
    "bins = [40,0,1000]\n",
    "metcut = 200\n",
    "\n",
    "# cscRechitClusterMaxChamber = {}\n",
    "# cscRechitClusterNChamber = {}\n",
    "# cscRechitClusterNStation = {}\n",
    "# cscRechitClusterMaxStationRatio = {}\n",
    "# cscRechitClusterMaxChamberRatio = {}\n",
    "\n",
    "# h[k] = create_TH1D( cscRechitClusterMaxChamber[k], axis_title=['max chamber', 'Events'], name=k, binning=[200,-50,50])\n",
    "h[k] = create_TH1D( cscRechitClusterMaxChamberRatio[k], axis_title=['max chamber ratio', 'Events'], name=k, binning=[20,0,1])\n",
    "# h[k] = create_TH1D( cscClusterMet_dPhi[k], axis_title=['#Delta#phi(MET, cluster)', 'Events'], name=k, binning=[20,0,3.14])\n",
    "# h[k] = create_TH1D( n_chamber[k], axis_title=['Number of Chambers', 'Events'], name=k, binning=[10,0,10])\n",
    "# h[k] = create_TH1D( cscRechitClusterNStation[k], axis_title=['max station', 'Events'], name=k, binning=[5,0,5])\n",
    "# print(cscRechitClusterMaxStationRatio[k])\n",
    "# h[k] = create_TH1D( cscRechitClusterNStation[k], axis_title=['Number of station', 'Events'], name=k, binning=[20,0,10])\n",
    "\n",
    "\n",
    "# h['1jet'].GetXaxis().SetLabelSize(0.04)\n",
    "# h['1jet'].SetMinimum(0.1)\n",
    "# h['1jet'].SetMaximum(10E6/2)\n",
    "\n",
    "h[k].Draw('hist')\n",
    "\n",
    "\n",
    "c.SetRightMargin(0)\n",
    "c.SetLogy()\n",
    "\n",
    "c.Draw()\n",
    "# print(time.time()-start_t)"
   ]
  },
  {
   "cell_type": "markdown",
   "metadata": {},
   "source": [
    "## significance"
   ]
  },
  {
   "cell_type": "code",
   "execution_count": null,
   "metadata": {},
   "outputs": [],
   "source": [
    "start_t = time.time()\n",
    "#ROC curve\n",
    "c = rt.TCanvas('c','c', 800, 800)\n",
    "leg = rt.TLegend(0.35,0.80,0.85,0.92)\n",
    "leg.SetTextSize(0.022)\n",
    "leg.SetBorderSize(0)\n",
    "\n",
    "leg.SetEntrySeparation(0.01)\n",
    "\n",
    "var = [nCsc_JetMuonVetoCluster0p4_Me1112Veto,]\n",
    "name = ['nCsc_JetMuonVetoCluster0p4_Me1112Veto',]\n",
    "legend = [ 'jet & muon veto + ME11/12 veto',]\n",
    "\n",
    "bkg_k = 'data_oot'\n",
    "sig_k = 'mc_signal'\n",
    "br = 0.01\n",
    "\n",
    "threshold = list(range(300))\n",
    "threshold = np.array(list(range(2000)))\n",
    "# print(threshold)\n",
    "for i in range(len(var)):\n",
    "    event_count = {}\n",
    "    \n",
    "    for k in ['data_oot','mc_signal']:\n",
    "        event_count[k] = []\n",
    "        for th in threshold:\n",
    "            event_count[k].append(np.sum(weight[k][var[i][k]>th]))\n",
    "        event_count[k] = np.array(event_count[k])\n",
    "        if k == sig_k:\n",
    "            event_count[k] = event_count[k]*br\n",
    "    sig = event_count[sig_k]/np.sqrt(event_count[sig_k]+event_count[bkg_k])\n",
    "    cond = event_count[sig_k]>0\n",
    "    sig = sig[cond]\n",
    "    ncsc = threshold[cond]\n",
    "#     gr['bbbb'] = create_TGraph(eff_bkg,eff_sig,axis_title = ['#epsilon_{bkg}','#epsilon_{signal}'])\n",
    "    h[sig_k+str(i)] = create_TGraph(ncsc, sig,  axis_title=['N_{rechits}', 'Significnace'])\n",
    "#     h[sig_k+str(i)] = create_TGraph(ncsc, event_count[sig_k],  axis_title=['N_{rechits}', 'Event Yield'])\n",
    "\n",
    "    h[sig_k+str(i)].SetLineWidth(2)\n",
    "    h[sig_k+str(i)].SetMarkerColor(std_color_list[i])\n",
    "    h[sig_k+str(i)].SetLineColor(std_color_list[i])\n",
    "    h[sig_k+str(i)].GetXaxis().SetRangeUser(0, 3000)\n",
    "    h[sig_k+str(i)].GetXaxis().SetLabelSize(0.04)\n",
    "\n",
    "#     h[sig_k+str(i)].GetYaxis().SetRangeUser(0, 3)\n",
    "\n",
    "\n",
    "    leg.AddEntry(h[sig_k+str(i)],sig_k+\" \"+legend[i])\n",
    "    h[sig_k+str(i)].Draw('ac' if i == 0 else 'c')\n",
    "\n",
    "#     h[sig_k+str(i)].Draw('ac' if i==0 else 'c')\n",
    "#     gr['bbbb'].Draw('')\n",
    "\n",
    "\n",
    "\n",
    "\n",
    "# c.SetLogy()\n",
    "c.Draw()\n",
    "# c.SaveAs('../plots/timing_studies/compare_timing_definition_ROC.png')\n",
    "\n",
    "print(time.time()-start_t)\n"
   ]
  },
  {
   "cell_type": "markdown",
   "metadata": {},
   "source": [
    "# 2d plot"
   ]
  },
  {
   "cell_type": "code",
   "execution_count": null,
   "metadata": {},
   "outputs": [],
   "source": [
    "# Plotting ncsc\n",
    "start_t = time.time()\n",
    "c = rt.TCanvas('c','c', 1000, 800)\n",
    "h = {}\n",
    "# leg = rt.TLegend(0.50,0.75,0.97,0.93)\n",
    "leg = rt.TLegend(0.58,0.70,0.94,0.85)\n",
    "leg.SetTextSize(0.022)\n",
    "# leg.SetTextFont(42)\n",
    "leg.SetEntrySeparation(0.01)\n",
    "\n",
    "i = 0\n",
    "k = 'data_intime'\n",
    "\n",
    "# h[k] = create_TH2D(np.column_stack((angle[k][cond],jetPt[k][cond][:,0])), axis_title = ['\\Delta\\phi (jet,met)','jet p_{T}[GeV]','Events'], binning=[80,-3.14,3.14,100,0,2000])\n",
    "h[k] = create_TH2D(np.column_stack(( nCsc_JetMuonVetoCluster0p4_Me1112Veto[k], dphiMet_cluster[k])),\n",
    "                   axis_title = ['N_{rechits}','\\Delta\\phi (cluster,met)','Events'], binning=[50,0,600,50,0,3.14])\n",
    "h[k] = create_TH2D(np.column_stack(( nCsc_JetMuonVetoCluster0p4_Me1112Veto[k], jetMet_dPhiMin4[k])),\n",
    "                   axis_title = ['N_{rechits}','min_{4jet}\\Delta\\phi (jet,met)','Events'], binning=[50,0,600,50,0,3.14])\n",
    "\n",
    "\n",
    "h[k].GetXaxis().SetLabelSize(0.04)\n",
    "\n",
    "\n",
    "\n",
    "\n",
    "h[k].SetLineColor(std_color_list[i])\n",
    "# leg.AddEntry(h[k], k)\n",
    "#     h[k].SetMaximum(10E5)\n",
    "#     h[k].SetMinimum(1)\n",
    "h[k].Draw('colz')\n",
    "c.SetRightMargin(0.2)\n",
    "\n",
    "\n",
    "\n",
    "# if setlog: \n",
    "c.SetLogz()\n",
    "c.Draw()\n",
    "print(time.time()-start_t)"
   ]
  },
  {
   "cell_type": "code",
   "execution_count": null,
   "metadata": {},
   "outputs": [],
   "source": []
  },
  {
   "cell_type": "markdown",
   "metadata": {},
   "source": [
    "# third"
   ]
  },
  {
   "cell_type": "code",
   "execution_count": null,
   "metadata": {},
   "outputs": [],
   "source": []
  },
  {
   "cell_type": "markdown",
   "metadata": {},
   "source": [
    "# ROC Curve"
   ]
  },
  {
   "cell_type": "code",
   "execution_count": null,
   "metadata": {},
   "outputs": [],
   "source": []
  },
  {
   "cell_type": "markdown",
   "metadata": {},
   "source": [
    "# 4th"
   ]
  },
  {
   "cell_type": "code",
   "execution_count": null,
   "metadata": {},
   "outputs": [],
   "source": []
  },
  {
   "cell_type": "markdown",
   "metadata": {},
   "source": [
    "# nCsc histogram"
   ]
  },
  {
   "cell_type": "code",
   "execution_count": null,
   "metadata": {},
   "outputs": [],
   "source": []
  },
  {
   "cell_type": "code",
   "execution_count": null,
   "metadata": {},
   "outputs": [],
   "source": []
  },
  {
   "cell_type": "code",
   "execution_count": null,
   "metadata": {},
   "outputs": [],
   "source": []
  },
  {
   "cell_type": "markdown",
   "metadata": {
    "heading_collapsed": true
   },
   "source": [
    "# event yield vs. ncsc"
   ]
  },
  {
   "cell_type": "code",
   "execution_count": null,
   "metadata": {},
   "outputs": [],
   "source": []
  },
  {
   "cell_type": "code",
   "execution_count": null,
   "metadata": {
    "hidden": true
   },
   "outputs": [],
   "source": []
  },
  {
   "cell_type": "code",
   "execution_count": null,
   "metadata": {
    "hidden": true
   },
   "outputs": [],
   "source": []
  },
  {
   "cell_type": "markdown",
   "metadata": {},
   "source": [
    "# significance"
   ]
  },
  {
   "cell_type": "code",
   "execution_count": null,
   "metadata": {},
   "outputs": [],
   "source": []
  },
  {
   "cell_type": "code",
   "execution_count": null,
   "metadata": {},
   "outputs": [],
   "source": [
    "\n"
   ]
  },
  {
   "cell_type": "code",
   "execution_count": null,
   "metadata": {
    "hidden": true
   },
   "outputs": [],
   "source": []
  },
  {
   "cell_type": "code",
   "execution_count": null,
   "metadata": {
    "hidden": true
   },
   "outputs": [],
   "source": []
  },
  {
   "cell_type": "code",
   "execution_count": null,
   "metadata": {
    "hidden": true
   },
   "outputs": [],
   "source": []
  },
  {
   "cell_type": "code",
   "execution_count": null,
   "metadata": {},
   "outputs": [],
   "source": []
  },
  {
   "cell_type": "code",
   "execution_count": null,
   "metadata": {
    "hidden": true
   },
   "outputs": [],
   "source": []
  },
  {
   "cell_type": "code",
   "execution_count": null,
   "metadata": {},
   "outputs": [],
   "source": []
  },
  {
   "cell_type": "code",
   "execution_count": null,
   "metadata": {},
   "outputs": [],
   "source": []
  },
  {
   "cell_type": "code",
   "execution_count": null,
   "metadata": {},
   "outputs": [],
   "source": []
  },
  {
   "cell_type": "code",
   "execution_count": null,
   "metadata": {},
   "outputs": [],
   "source": []
  },
  {
   "cell_type": "code",
   "execution_count": null,
   "metadata": {},
   "outputs": [],
   "source": []
  },
  {
   "cell_type": "code",
   "execution_count": null,
   "metadata": {},
   "outputs": [],
   "source": [
    "\n"
   ]
  },
  {
   "cell_type": "code",
   "execution_count": null,
   "metadata": {},
   "outputs": [],
   "source": []
  },
  {
   "cell_type": "code",
   "execution_count": null,
   "metadata": {},
   "outputs": [],
   "source": []
  },
  {
   "cell_type": "code",
   "execution_count": null,
   "metadata": {},
   "outputs": [],
   "source": []
  },
  {
   "cell_type": "code",
   "execution_count": null,
   "metadata": {},
   "outputs": [],
   "source": []
  },
  {
   "cell_type": "code",
   "execution_count": null,
   "metadata": {},
   "outputs": [],
   "source": []
  },
  {
   "cell_type": "code",
   "execution_count": null,
   "metadata": {},
   "outputs": [],
   "source": []
  },
  {
   "cell_type": "code",
   "execution_count": null,
   "metadata": {},
   "outputs": [],
   "source": []
  },
  {
   "cell_type": "code",
   "execution_count": null,
   "metadata": {},
   "outputs": [],
   "source": []
  },
  {
   "cell_type": "code",
   "execution_count": null,
   "metadata": {},
   "outputs": [],
   "source": []
  },
  {
   "cell_type": "code",
   "execution_count": null,
   "metadata": {},
   "outputs": [],
   "source": []
  },
  {
   "cell_type": "code",
   "execution_count": null,
   "metadata": {},
   "outputs": [],
   "source": []
  }
 ],
 "metadata": {
  "kernelspec": {
   "display_name": "Python 3",
   "language": "python",
   "name": "python3"
  },
  "language_info": {
   "codemirror_mode": {
    "name": "ipython",
    "version": 3
   },
   "file_extension": ".py",
   "mimetype": "text/x-python",
   "name": "python",
   "nbconvert_exporter": "python",
   "pygments_lexer": "ipython3",
   "version": "3.6.8"
  }
 },
 "nbformat": 4,
 "nbformat_minor": 4
}
