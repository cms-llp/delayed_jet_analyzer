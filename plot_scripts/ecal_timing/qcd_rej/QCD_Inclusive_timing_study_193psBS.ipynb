{
 "cells": [
  {
   "cell_type": "code",
   "execution_count": 1,
   "metadata": {},
   "outputs": [
    {
     "name": "stdout",
     "output_type": "stream",
     "text": [
      "Welcome to JupyROOT 6.16/00\n"
     ]
    }
   ],
   "source": [
    "import ROOT as rt\n",
    "import root_numpy as rtnp\n",
    "import csv\n",
    "import re\n",
    "import sys\n",
    "import uproot\n",
    "import numpy as np\n",
    "import awkward\n",
    "import math\n",
    "import numba\n",
    "\n",
    "from matplotlib import pyplot as plt\n",
    "sys.path.append('/nfshome/jmao/cms-llp/delayed_jet_analyzer/lib/')\n",
    "\n",
    "from histo_utilities import create_TH1D, create_TH2D, std_color_list\n",
    "from array import array\n",
    "#from prettytable import PrettyTable\n",
    "import collections\n",
    "from collections import OrderedDict\n",
    "import CMS_lumi, tdrstyle\n",
    "tdrstyle.setTDRStyle()\n",
    "CMS_lumi.writeExtraText = 1\n",
    "CMS_lumi.extraText = \"     Simulation Preliminary\"\n",
    "\n",
    "# donotdelete = []\n"
   ]
  },
  {
   "cell_type": "code",
   "execution_count": 2,
   "metadata": {},
   "outputs": [
    {
     "name": "stdout",
     "output_type": "stream",
     "text": [
      "Pt_15to30 /mnt/hadoop/store/group/phys_exotica/jmao/jet_timing_studies/samples/qcd/ntuple_RunIIFall17_QCD_Pt_15to30_TuneCP5_13TeV_pythia8.root\n",
      "File ready\n",
      "Open ready\n",
      "Tree ready\n"
     ]
    }
   ],
   "source": [
    "directory = '/mnt/hadoop/store/group/phys_exotica/jmao/jet_timing_studies/samples/qcd/'\n",
    "out_dir = '/nfshome/jmao/cms-llp/plots/20190626/'\n",
    "#name_string = 'QCD_HT1000to1500_TuneCUETP8M1_13TeV-madgraphMLM-pythia8_1pb_weighted.root'\n",
    "name_string1 = 'ntuple_RunIIFall17_QCD_'\n",
    "name_string2 = '_TuneCP5_13TeV_pythia8.root'\n",
    "\n",
    "PT = 'Pt_15to30'\n",
    "\n",
    "fpath = directory + name_string1 + PT + name_string2\n",
    "print (PT, fpath)\n",
    "    \n",
    "print ('File ready')\n",
    " \n",
    "\n",
    "root_dir = uproot.open(fpath) \n",
    "print ('Open ready')\n",
    "\n",
    "tree = root_dir['ntuples/llp']\n",
    "print ('Tree ready')\n",
    "\n"
   ]
  },
  {
   "cell_type": "markdown",
   "metadata": {},
   "source": [
    "# Basic Variables"
   ]
  },
  {
   "cell_type": "code",
   "execution_count": 3,
   "metadata": {},
   "outputs": [
    {
     "name": "stdout",
     "output_type": "stream",
     "text": [
      " FCN=30.4027 FROM MIGRAD    STATUS=CONVERGED      51 CALLS          52 TOTAL\n",
      "                     EDM=7.5609e-09    STRATEGY= 1      ERROR MATRIX ACCURATE \n",
      "  EXT PARAMETER                                   STEP         FIRST   \n",
      "  NO.   NAME      VALUE            ERROR          SIZE      DERIVATIVE \n",
      "   1  Constant     6.50257e+02   1.05976e+01   2.35397e-02   1.85740e-06\n",
      "   2  Mean         1.58014e-03   1.85726e-03   5.08064e-06  -5.95872e-02\n",
      "   3  Sigma        1.40209e-01   1.33683e-03   7.02197e-06   2.04677e-02\n"
     ]
    },
    {
     "name": "stderr",
     "output_type": "stream",
     "text": [
      "Info in <TCanvas::Print>: png file /nfshome/jmao/cms-llp/plots/20190626/QCDGenTime_leading.png has been created\n"
     ]
    },
    {
     "data": {
      "image/png": "[encoded data removed]",
      "text/plain": [
       "<IPython.core.display.Image object>"
      ]
     },
     "metadata": {},
     "output_type": "display_data"
    }
   ],
   "source": [
    "# plot gen jet time\n",
    "c = rt.TCanvas('c','c', 800, 600)\n",
    "leg = rt.TLegend(0.75,0.68,0.95,0.80);\n",
    "leg.SetTextSize(0.03)\n",
    "rt.gStyle.SetOptStat(0000)\n",
    "i = 0\n",
    "\n",
    "jetTime = tree['genQCD_time'].array()\n",
    "# weight = tree['weight'].array()\n",
    "t = jetTime[:,0]\n",
    "ht0 = create_TH1D( t, axis_title=['GenTime [ns]', 'fraction of events'], name=PT, binning=[50,-1,1])\n",
    "ht0.SetLineColor(std_color_list[i])\n",
    "ht0.SetMarkerColor(std_color_list[i])\n",
    "\n",
    "\n",
    "leg.AddEntry(ht0,PT)\n",
    "leg.SetBorderSize(0)\n",
    "\n",
    "ht0.DrawNormalized('')\n",
    "ht0.Fit('gaus')\n",
    "  \n",
    "leg.Draw()\n",
    "c.SetLogy()\n",
    "c.Draw()\n",
    "c.SaveAs(out_dir+'QCDGenTime_leading.png')\n"
   ]
  },
  {
   "cell_type": "code",
   "execution_count": 4,
   "metadata": {},
   "outputs": [
    {
     "name": "stdout",
     "output_type": "stream",
     "text": [
      " FCN=14.9888 FROM MIGRAD    STATUS=CONVERGED      52 CALLS          53 TOTAL\n",
      "                     EDM=9.22042e-11    STRATEGY= 1      ERROR MATRIX ACCURATE \n",
      "  EXT PARAMETER                                   STEP         FIRST   \n",
      "  NO.   NAME      VALUE            ERROR          SIZE      DERIVATIVE \n",
      "   1  Constant     6.57379e+02   1.08264e+01   1.69516e-02   1.27810e-06\n",
      "   2  Mean         4.16814e-03   1.84268e-03   3.59117e-06   3.50365e-03\n",
      "   3  Sigma        1.39224e-01   1.37142e-03   5.11680e-06   3.76760e-03\n"
     ]
    },
    {
     "name": "stderr",
     "output_type": "stream",
     "text": [
      "Warning in <TCanvas::Constructor>: Deleting canvas with same name: c\n",
      "Warning in <TROOT::Append>: Replacing existing TH1: Pt_15to30 (Potential memory leak).\n",
      "Info in <TCanvas::Print>: png file /nfshome/jmao/cms-llp/plots/20190626/QCDGenTime_subleading.png has been created\n"
     ]
    },
    {
     "data": {
      "image/png": "[encoded data removed]",
      "text/plain": [
       "<IPython.core.display.Image object>"
      ]
     },
     "metadata": {},
     "output_type": "display_data"
    }
   ],
   "source": [
    "# plot gen jet time\n",
    "c = rt.TCanvas('c','c', 800, 600)\n",
    "leg = rt.TLegend(0.75,0.68,0.95,0.80);\n",
    "leg.SetTextSize(0.03)\n",
    "rt.gStyle.SetOptStat(0000)\n",
    "i = 0\n",
    "\n",
    "jetTime = tree['genQCD_time'].array()\n",
    "# weight = tree['weight'].array()\n",
    "t = jetTime[:,1]\n",
    "ht0 = create_TH1D( t, axis_title=['GenTime [ns]', 'fraction of events'], name=PT, binning=[50,-1,1])\n",
    "ht0.SetLineColor(std_color_list[i])\n",
    "ht0.SetMarkerColor(std_color_list[i])\n",
    "\n",
    "\n",
    "leg.AddEntry(ht0,PT)\n",
    "leg.SetBorderSize(0)\n",
    "\n",
    "ht0.DrawNormalized('')\n",
    "ht0.Fit('gaus')\n",
    "  \n",
    "leg.Draw()\n",
    "c.SetLogy()\n",
    "c.Draw()\n",
    "c.SaveAs(out_dir+'QCDGenTime_subleading.png')\n"
   ]
  },
  {
   "cell_type": "code",
   "execution_count": 5,
   "metadata": {},
   "outputs": [
    {
     "name": "stdout",
     "output_type": "stream",
     "text": [
      " FCN=24.6379 FROM MIGRAD    STATUS=CONVERGED      59 CALLS          60 TOTAL\n",
      "                     EDM=2.50584e-10    STRATEGY= 1      ERROR MATRIX ACCURATE \n",
      "  EXT PARAMETER                                   STEP         FIRST   \n",
      "  NO.   NAME      VALUE            ERROR          SIZE      DERIVATIVE \n",
      "   1  Constant     1.78729e+03   1.90508e+01   3.84790e-02  -1.24347e-06\n",
      "   2  Mean         1.47343e-03   1.02688e-03   2.53868e-06  -4.11150e-03\n",
      "   3  Sigma        1.17763e-01   7.25743e-04   4.14296e-06  -1.17646e-02\n"
     ]
    },
    {
     "name": "stderr",
     "output_type": "stream",
     "text": [
      "Warning in <TCanvas::Constructor>: Deleting canvas with same name: c\n",
      "Warning in <TROOT::Append>: Replacing existing TH1: Pt_15to30 (Potential memory leak).\n",
      "Info in <TCanvas::Print>: png file /nfshome/jmao/cms-llp/plots/20190626/QCD_Gen_Vtx_Time.png has been created\n"
     ]
    },
    {
     "data": {
      "image/png": "[encoded data removed]",
      "text/plain": [
       "<IPython.core.display.Image object>"
      ]
     },
     "metadata": {},
     "output_type": "display_data"
    }
   ],
   "source": [
    "# plot gen jet time\n",
    "c = rt.TCanvas('c','c', 800, 600)\n",
    "leg = rt.TLegend(0.75,0.68,0.95,0.80);\n",
    "leg.SetTextSize(0.03)\n",
    "rt.gStyle.SetOptStat(0000)\n",
    "i = 0\n",
    "\n",
    "jetTime = tree['genVertexT'].array()\n",
    "# weight = tree['weight'].array()\n",
    "t = jetTime\n",
    "ht0 = create_TH1D( t, axis_title=['genVertexT [ns]', 'fraction of events'], name=PT, binning=[50,-1,1])\n",
    "ht0.SetLineColor(std_color_list[i])\n",
    "ht0.SetMarkerColor(std_color_list[i])\n",
    "\n",
    "\n",
    "leg.AddEntry(ht0,PT)\n",
    "leg.SetBorderSize(0)\n",
    "\n",
    "ht0.DrawNormalized('')\n",
    "ht0.Fit('gaus')\n",
    "  \n",
    "leg.Draw()\n",
    "c.SetLogy()\n",
    "c.Draw()\n",
    "c.SaveAs(out_dir+'QCD_Gen_Vtx_Time.png')\n"
   ]
  },
  {
   "cell_type": "code",
   "execution_count": 6,
   "metadata": {},
   "outputs": [
    {
     "name": "stdout",
     "output_type": "stream",
     "text": [
      " FCN=35.5151 FROM MIGRAD    STATUS=CONVERGED      51 CALLS          52 TOTAL\n",
      "                     EDM=7.3658e-08    STRATEGY= 1      ERROR MATRIX ACCURATE \n",
      "  EXT PARAMETER                                   STEP         FIRST   \n",
      "  NO.   NAME      VALUE            ERROR          SIZE      DERIVATIVE \n",
      "   1  Constant     1.20437e+03   1.27430e+01   3.09575e-02  -1.62745e-06\n",
      "   2  Mean         8.65375e-01   3.04600e-02   8.98727e-05  -1.25868e-02\n",
      "   3  Sigma        3.49227e+00   2.10179e-02   4.86295e-06  -1.02591e-02\n"
     ]
    },
    {
     "name": "stderr",
     "output_type": "stream",
     "text": [
      "Warning in <TCanvas::Constructor>: Deleting canvas with same name: c\n",
      "Warning in <TROOT::Append>: Replacing existing TH1: Pt_15to30 (Potential memory leak).\n",
      "Info in <TCanvas::Print>: png file /nfshome/jmao/cms-llp/plots/20190626/QCD_Gen_Vtx_Z.png has been created\n"
     ]
    },
    {
     "data": {
      "image/png": "[encoded data removed]",
      "text/plain": [
       "<IPython.core.display.Image object>"
      ]
     },
     "metadata": {},
     "output_type": "display_data"
    }
   ],
   "source": [
    "# plot gen jet time\n",
    "c = rt.TCanvas('c','c', 800, 600)\n",
    "leg = rt.TLegend(0.75,0.68,0.95,0.80);\n",
    "leg.SetTextSize(0.03)\n",
    "rt.gStyle.SetOptStat(0000)\n",
    "i = 0\n",
    "\n",
    "VtxZ = tree['genVertexZ'].array()\n",
    "# weight = tree['weight'].array()\n",
    "z = VtxZ\n",
    "ht0 = create_TH1D( z, axis_title=['genVertexZ [cm]', 'fraction of events'], name=PT, binning=[50,-20,20])\n",
    "ht0.SetLineColor(std_color_list[i])\n",
    "ht0.SetMarkerColor(std_color_list[i])\n",
    "\n",
    "\n",
    "leg.AddEntry(ht0,PT)\n",
    "leg.SetBorderSize(0)\n",
    "\n",
    "ht0.DrawNormalized('')\n",
    "ht0.Fit('gaus')\n",
    "  \n",
    "leg.Draw()\n",
    "c.SetLogy()\n",
    "c.Draw()\n",
    "c.SaveAs(out_dir+'QCD_Gen_Vtx_Z.png')\n"
   ]
  },
  {
   "cell_type": "code",
   "execution_count": 12,
   "metadata": {},
   "outputs": [
    {
     "name": "stderr",
     "output_type": "stream",
     "text": [
      "Warning in <TCanvas::Constructor>: Deleting canvas with same name: c\n",
      "Warning in <TROOT::Append>: Replacing existing TH1: Pt_15to30 (Potential memory leak).\n",
      "Info in <TCanvas::Print>: png file /nfshome/jmao/cms-llp/plots/20190626/QCD_Gen_Pt.png has been created\n"
     ]
    },
    {
     "data": {
      "image/png": "[encoded data removed]",
      "text/plain": [
       "<IPython.core.display.Image object>"
      ]
     },
     "metadata": {},
     "output_type": "display_data"
    }
   ],
   "source": [
    "# plot gen jet time\n",
    "c = rt.TCanvas('c','c', 800, 600)\n",
    "leg = rt.TLegend(0.75,0.68,0.95,0.80);\n",
    "leg.SetTextSize(0.03)\n",
    "rt.gStyle.SetOptStat(0000)\n",
    "i = 0\n",
    "\n",
    "Pt = tree['genQCD_pt'].array()\n",
    "# weight = tree['weight'].array()\n",
    "pt = Pt[:,0]\n",
    "ht0 = create_TH1D( pt, axis_title=['genQCD pt [GeV]', 'fraction of events'], name=PT, binning=[50,0,50])\n",
    "ht0.SetLineColor(std_color_list[i])\n",
    "ht0.SetMarkerColor(std_color_list[i])\n",
    "\n",
    "\n",
    "leg.AddEntry(ht0,PT)\n",
    "leg.SetBorderSize(0)\n",
    "\n",
    "ht0.DrawNormalized('')\n",
    "# ht0.Fit('gaus')\n",
    "  \n",
    "leg.Draw()\n",
    "c.SetLogy()\n",
    "c.Draw()\n",
    "c.SaveAs(out_dir+'QCD_Gen_Pt.png')\n"
   ]
  },
  {
   "cell_type": "markdown",
   "metadata": {},
   "source": [
    "# Calculation quadrature"
   ]
  },
  {
   "cell_type": "code",
   "execution_count": 7,
   "metadata": {},
   "outputs": [],
   "source": [
    "sigma_z = 4.2 #cm\n",
    "sigma_t = 193. #ps\n",
    "c = 0.03 #cm/ps"
   ]
  },
  {
   "cell_type": "code",
   "execution_count": 8,
   "metadata": {},
   "outputs": [],
   "source": [
    "sigma_gen_t = 140. #ps\n",
    "sigma_vtx_t = 118. #ps\n",
    "sigma_vtx_z = 3.5 #cm"
   ]
  },
  {
   "cell_type": "code",
   "execution_count": 9,
   "metadata": {},
   "outputs": [
    {
     "name": "stdout",
     "output_type": "stream",
     "text": [
      "77.38791177495933\n"
     ]
    }
   ],
   "source": [
    "#missing part in z\n",
    "miss_z = math.sqrt( math.pow(sigma_z/c,2) - math.pow(sigma_vtx_z/c,2) )\n",
    "print(miss_z)"
   ]
  },
  {
   "cell_type": "code",
   "execution_count": 10,
   "metadata": {},
   "outputs": [
    {
     "name": "stdout",
     "output_type": "stream",
     "text": [
      "207.93722343267183 ps\n"
     ]
    }
   ],
   "source": [
    "#missing part in z and t\n",
    "miss = math.sqrt( math.pow(miss_z,2) + math.pow(sigma_t,2) )\n",
    "print(miss, 'ps')"
   ]
  },
  {
   "cell_type": "markdown",
   "metadata": {},
   "source": [
    "# Add Single Gaussian distribution"
   ]
  },
  {
   "cell_type": "code",
   "execution_count": 3,
   "metadata": {},
   "outputs": [
    {
     "name": "stdout",
     "output_type": "stream",
     "text": [
      "0 0.208\n"
     ]
    },
    {
     "name": "stderr",
     "output_type": "stream",
     "text": [
      "Info in <TCanvas::Print>: png file /nfshome/jmao/cms-llp/plots/20190626/SmearTime208ps.png has been created\n"
     ]
    },
    {
     "data": {
      "image/png": "[encoded data removed]",
      "text/plain": [
       "<IPython.core.display.Image object>"
      ]
     },
     "metadata": {},
     "output_type": "display_data"
    }
   ],
   "source": [
    "# plot leading jet time\n",
    "c = rt.TCanvas('c','c', 800, 600)\n",
    "leg = rt.TLegend(0.75,0.68,0.95,0.90);\n",
    "leg.SetTextSize(0.03)\n",
    "rt.gStyle.SetOptStat(0000)\n",
    "i = 0\n",
    "\n",
    "sigma = [0.208]\n",
    "\n",
    "hs ={}\n",
    "for i,sig in enumerate(sigma):   \n",
    "    print(i, sig)\n",
    "\n",
    "    SmearTime = np.random.normal(0,sig,1000000)\n",
    "    t = SmearTime\n",
    "    hs[i] = create_TH1D( t, axis_title=['Time [ns]', 'Fraction of events'], name=str(sig), binning=[100,-1,1])\n",
    "    hs[i].SetLineColor(std_color_list[i+1])\n",
    "    hs[i].SetMarkerColor(std_color_list[i+1])\n",
    "    hs[i].GetYaxis().SetRangeUser(1e-1, 1e7)\n",
    "\n",
    "\n",
    "    leg.AddEntry(hs[i],'#sigma_{BS} = '+str(sig)+' ns')\n",
    "\n",
    "    hs[i].DrawNormalized('same')\n",
    "    \n",
    "#     i += 1\n",
    "\n",
    "# leg.SetHeader(str(MODEL))\n",
    "leg.SetBorderSize(0)\n",
    "\n",
    "leg.Draw()\n",
    "c.SetLogy()\n",
    "c.Update()\n",
    "c.Draw()\n",
    "c.SaveAs(out_dir+'SmearTime208ps.png')\n"
   ]
  },
  {
   "cell_type": "code",
   "execution_count": 4,
   "metadata": {},
   "outputs": [
    {
     "name": "stdout",
     "output_type": "stream",
     "text": [
      "19\n",
      "1\n",
      "13212\n",
      "[ 0.04179688 -0.02122144] -0.012544435 [ 0.05434132 -0.008677  ]\n",
      "0 0.208\n",
      "n 0\n",
      "0 0 0 13212\n",
      "[ 0.05434132 -0.008677  ] -0.2493100340519395 [-0.19496872 -0.25798702]\n"
     ]
    }
   ],
   "source": [
    "t_cuts = [-5.,-4.,-3.,-2.,-1.,-0.8,-0.6,-0.4,-0.2,0.,0.2,0.4,0.6,0.8,1.,2.,3.,4.,5.]\n",
    "print(len(t_cuts))\n",
    "print(len(sigma))\n",
    "print(len(tree))\n",
    "ntr = len(tree)\n",
    "\n",
    "i=0\n",
    "\n",
    "Firsts = []\n",
    "Seconds = []\n",
    "\n",
    "jetGenTime = tree['genQCD_time'].array()\n",
    "BSTime = tree['genVertexT'].array()\n",
    "\n",
    "jetTime = [x-y for x,y in zip(jetGenTime,BSTime)]\n",
    "    \n",
    "print(jetGenTime[0],BSTime[0], jetTime[0])\n",
    "\n",
    "for j,sig in enumerate(sigma):\n",
    "    print(j,sig)\n",
    "    n = i*len(sigma)+j\n",
    "    print('n',n)\n",
    "    print(i, j, n,len(BSTime))\n",
    "    SmearTime = np.random.normal(0,sig,len(BSTime))\n",
    "    jetNewTime = [x+y for x,y in zip(jetTime,SmearTime)]\n",
    "    print(jetTime[0],SmearTime[0], jetNewTime[0])    "
   ]
  },
  {
   "cell_type": "code",
   "execution_count": 5,
   "metadata": {},
   "outputs": [
    {
     "name": "stdout",
     "output_type": "stream",
     "text": [
      " FCN=22.2857 FROM MIGRAD    STATUS=CONVERGED      61 CALLS          62 TOTAL\n",
      "                     EDM=2.2152e-10    STRATEGY= 1      ERROR MATRIX ACCURATE \n",
      "  EXT PARAMETER                                   STEP         FIRST   \n",
      "  NO.   NAME      VALUE            ERROR          SIZE      DERIVATIVE \n",
      "   1  Constant     4.13996e+02   6.76083e+00   1.28970e-02  -3.42083e-06\n",
      "   2  Mean         1.99903e-03   2.92700e-03   6.88802e-06   2.98365e-04\n",
      "   3  Sigma        2.20586e-01   2.12422e-03   6.10865e-06  -7.21046e-03\n"
     ]
    },
    {
     "name": "stderr",
     "output_type": "stream",
     "text": [
      "Warning in <TCanvas::Constructor>: Deleting canvas with same name: c\n",
      "Info in <TCanvas::Print>: png file /nfshome/jmao/cms-llp/plots/20190626/QCDNewTime_leading.png has been created\n"
     ]
    },
    {
     "data": {
      "image/png": "[encoded data removed]",
      "text/plain": [
       "<IPython.core.display.Image object>"
      ]
     },
     "metadata": {},
     "output_type": "display_data"
    }
   ],
   "source": [
    "# plot gen jet time\n",
    "c = rt.TCanvas('c','c', 800, 600)\n",
    "leg = rt.TLegend(0.75,0.68,0.95,0.80);\n",
    "leg.SetTextSize(0.03)\n",
    "rt.gStyle.SetOptStat(0000)\n",
    "i = 0\n",
    "\n",
    "jetNewTime = np.array(jetNewTime)\n",
    "t = jetNewTime[:,0]\n",
    "ht0 = create_TH1D( t, axis_title=['NewGenTime [ns]', 'fraction of events'], name=PT, binning=[50,-1,1])\n",
    "ht0.SetLineColor(std_color_list[i])\n",
    "ht0.SetMarkerColor(std_color_list[i])\n",
    "\n",
    "\n",
    "leg.AddEntry(ht0,PT)\n",
    "leg.SetBorderSize(0)\n",
    "\n",
    "ht0.DrawNormalized('')\n",
    "ht0.Fit('gaus')\n",
    "  \n",
    "leg.Draw()\n",
    "c.SetLogy()\n",
    "c.Draw()\n",
    "c.SaveAs(out_dir+'QCDNewTime_leading.png')\n"
   ]
  },
  {
   "cell_type": "code",
   "execution_count": 6,
   "metadata": {},
   "outputs": [
    {
     "name": "stdout",
     "output_type": "stream",
     "text": [
      " FCN=28.5141 FROM MIGRAD    STATUS=CONVERGED      60 CALLS          61 TOTAL\n",
      "                     EDM=1.54734e-12    STRATEGY= 1      ERROR MATRIX ACCURATE \n",
      "  EXT PARAMETER                                   STEP         FIRST   \n",
      "  NO.   NAME      VALUE            ERROR          SIZE      DERIVATIVE \n",
      "   1  Constant     4.11622e+02   6.67248e+00   1.44353e-02   2.70014e-07\n",
      "   2  Mean         1.88642e-03   2.94688e-03   7.81691e-06   2.75351e-04\n",
      "   3  Sigma        2.21967e-01   2.09939e-03   6.79192e-06   5.00626e-04\n"
     ]
    },
    {
     "name": "stderr",
     "output_type": "stream",
     "text": [
      "Warning in <TCanvas::Constructor>: Deleting canvas with same name: c\n",
      "Warning in <TROOT::Append>: Replacing existing TH1: Pt_15to30 (Potential memory leak).\n",
      "Info in <TCanvas::Print>: png file /nfshome/jmao/cms-llp/plots/20190626/QCDNewTime_subleading.png has been created\n"
     ]
    },
    {
     "data": {
      "image/png": "[encoded data removed]",
      "text/plain": [
       "<IPython.core.display.Image object>"
      ]
     },
     "metadata": {},
     "output_type": "display_data"
    }
   ],
   "source": [
    "# plot gen jet time\n",
    "c = rt.TCanvas('c','c', 800, 600)\n",
    "leg = rt.TLegend(0.75,0.68,0.95,0.80);\n",
    "leg.SetTextSize(0.03)\n",
    "rt.gStyle.SetOptStat(0000)\n",
    "i = 0\n",
    "\n",
    "jetNewTime = np.array(jetNewTime)\n",
    "t = jetNewTime[:,1]\n",
    "ht0 = create_TH1D( t, axis_title=['NewGenTime [ns]', 'fraction of events'], name=PT, binning=[50,-1,1])\n",
    "ht0.SetLineColor(std_color_list[i])\n",
    "ht0.SetMarkerColor(std_color_list[i])\n",
    "\n",
    "\n",
    "leg.AddEntry(ht0,PT)\n",
    "leg.SetBorderSize(0)\n",
    "\n",
    "ht0.DrawNormalized('')\n",
    "ht0.Fit('gaus')\n",
    "  \n",
    "leg.Draw()\n",
    "c.SetLogy()\n",
    "c.Draw()\n",
    "c.SaveAs(out_dir+'QCDNewTime_subleading.png')\n"
   ]
  },
  {
   "cell_type": "code",
   "execution_count": 7,
   "metadata": {},
   "outputs": [
    {
     "name": "stdout",
     "output_type": "stream",
     "text": [
      "19\n",
      "1\n",
      "13212\n"
     ]
    },
    {
     "ename": "AttributeError",
     "evalue": "module 'numpy' has no attribute 'logical_andjetEta'",
     "output_type": "error",
     "traceback": [
      "\u001b[0;31m---------------------------------------------------------------------------\u001b[0m",
      "\u001b[0;31mAttributeError\u001b[0m                            Traceback (most recent call last)",
      "\u001b[0;32m<ipython-input-7-2edc51cfb60d>\u001b[0m in \u001b[0;36m<module>\u001b[0;34m\u001b[0m\n\u001b[1;32m     15\u001b[0m \u001b[0mBSTime\u001b[0m \u001b[0;34m=\u001b[0m \u001b[0mtree\u001b[0m\u001b[0;34m[\u001b[0m\u001b[0;34m'genVertexT'\u001b[0m\u001b[0;34m]\u001b[0m\u001b[0;34m.\u001b[0m\u001b[0marray\u001b[0m\u001b[0;34m(\u001b[0m\u001b[0;34m)\u001b[0m\u001b[0;34m\u001b[0m\u001b[0;34m\u001b[0m\u001b[0m\n\u001b[1;32m     16\u001b[0m \u001b[0;34m\u001b[0m\u001b[0m\n\u001b[0;32m---> 17\u001b[0;31m \u001b[0mjetGenTime\u001b[0m \u001b[0;34m=\u001b[0m \u001b[0mjetGenTime\u001b[0m\u001b[0;34m[\u001b[0m\u001b[0mnp\u001b[0m\u001b[0;34m.\u001b[0m\u001b[0mlogical_andjetEta\u001b[0m\u001b[0;34m<\u001b[0m\u001b[0;36m1.5\u001b[0m\u001b[0;34m]\u001b[0m\u001b[0;34m\u001b[0m\u001b[0;34m\u001b[0m\u001b[0m\n\u001b[0m\u001b[1;32m     18\u001b[0m \u001b[0;34m\u001b[0m\u001b[0m\n\u001b[1;32m     19\u001b[0m \u001b[0mjetTime\u001b[0m \u001b[0;34m=\u001b[0m \u001b[0;34m[\u001b[0m\u001b[0mx\u001b[0m\u001b[0;34m-\u001b[0m\u001b[0my\u001b[0m \u001b[0;32mfor\u001b[0m \u001b[0mx\u001b[0m\u001b[0;34m,\u001b[0m\u001b[0my\u001b[0m \u001b[0;32min\u001b[0m \u001b[0mzip\u001b[0m\u001b[0;34m(\u001b[0m\u001b[0mjetGenTime\u001b[0m\u001b[0;34m,\u001b[0m\u001b[0mBSTime\u001b[0m\u001b[0;34m)\u001b[0m\u001b[0;34m]\u001b[0m\u001b[0;34m\u001b[0m\u001b[0;34m\u001b[0m\u001b[0m\n",
      "\u001b[0;31mAttributeError\u001b[0m: module 'numpy' has no attribute 'logical_andjetEta'"
     ]
    }
   ],
   "source": [
    "t_cuts = [-5.,-4.,-3.,-2.,-1.,-0.8,-0.6,-0.4,-0.2,0.,0.2,0.4,0.6,0.8,1.,2.,3.,4.,5.]\n",
    "print(len(t_cuts))\n",
    "print(len(sigma))\n",
    "print(len(tree))\n",
    "ntr = len(tree)\n",
    "\n",
    "i=0\n",
    "\n",
    "Firsts = []\n",
    "Seconds = []\n",
    "\n",
    "jetEta = tree['genQCD_eta'].array()\n",
    "\n",
    "jetGenTime = tree['genQCD_time'].array()\n",
    "BSTime = tree['genVertexT'].array()\n",
    "\n",
    "jetGenTime = jetGenTime[np.logical_andjetEta<1.5]\n",
    "\n",
    "jetTime = [x-y for x,y in zip(jetGenTime,BSTime)]\n",
    "    \n",
    "print(jetGenTime[0],BSTime[0], jetTime[0])\n",
    "\n",
    "for j,sig in enumerate(sigma):\n",
    "    print(j,sig)\n",
    "    n = i*len(sigma)+j\n",
    "    print('n',n)\n",
    "    print(i, j, n,len(BSTime))\n",
    "    SmearTime = np.random.normal(0,sig,len(BSTime))\n",
    "    jetNewTime = [x+y for x,y in zip(jetTime,SmearTime)]\n",
    "    print(jetTime[0],SmearTime[0], jetNewTime[0])    "
   ]
  },
  {
   "cell_type": "code",
   "execution_count": 17,
   "metadata": {},
   "outputs": [
    {
     "name": "stdout",
     "output_type": "stream",
     "text": [
      " FCN=22.2857 FROM MIGRAD    STATUS=CONVERGED      59 CALLS          60 TOTAL\n",
      "                     EDM=2.21329e-10    STRATEGY= 1      ERROR MATRIX ACCURATE \n",
      "  EXT PARAMETER                                   STEP         FIRST   \n",
      "  NO.   NAME      VALUE            ERROR          SIZE      DERIVATIVE \n",
      "   1  Constant     4.13996e+02   6.76083e+00   1.28970e-02  -3.41929e-06\n",
      "   2  Mean         1.99903e-03   2.92700e-03   6.88802e-06   2.96347e-04\n",
      "   3  Sigma        2.20586e-01   2.12422e-03   6.10865e-06  -7.20771e-03\n"
     ]
    },
    {
     "name": "stderr",
     "output_type": "stream",
     "text": [
      "Warning in <TCanvas::Constructor>: Deleting canvas with same name: c\n",
      "Warning in <TROOT::Append>: Replacing existing TH1: Pt_15to30 (Potential memory leak).\n",
      "Info in <TCanvas::Print>: png file /nfshome/jmao/cms-llp/plots/20190626/QCDNewTime_leading_Eta1p5.png has been created\n"
     ]
    },
    {
     "data": {
      "image/png": "[encoded data removed]",
      "text/plain": [
       "<IPython.core.display.Image object>"
      ]
     },
     "metadata": {},
     "output_type": "display_data"
    }
   ],
   "source": [
    "# plot gen jet time\n",
    "c = rt.TCanvas('c','c', 800, 600)\n",
    "leg = rt.TLegend(0.75,0.68,0.95,0.80);\n",
    "leg.SetTextSize(0.03)\n",
    "rt.gStyle.SetOptStat(0000)\n",
    "i = 0\n",
    "\n",
    "jetNewTime = np.array(jetNewTime)\n",
    "t = jetNewTime[:,0]\n",
    "ht0 = create_TH1D( t, axis_title=['NewGenTime [ns]', 'fraction of events'], name=PT, binning=[50,-1,1])\n",
    "ht0.SetLineColor(std_color_list[i])\n",
    "ht0.SetMarkerColor(std_color_list[i])\n",
    "\n",
    "\n",
    "leg.AddEntry(ht0,PT)\n",
    "leg.SetBorderSize(0)\n",
    "\n",
    "ht0.DrawNormalized('')\n",
    "ht0.Fit('gaus')\n",
    "  \n",
    "leg.Draw()\n",
    "c.SetLogy()\n",
    "c.Draw()\n",
    "c.SaveAs(out_dir+'QCDNewTime_leading_Eta1p5.png')\n"
   ]
  },
  {
   "cell_type": "markdown",
   "metadata": {},
   "source": [
    "# Rejection power"
   ]
  },
  {
   "cell_type": "code",
   "execution_count": 9,
   "metadata": {},
   "outputs": [],
   "source": [
    "#sort lists based on list1 and require list1 to be valid\n",
    "def sort_valid_lists(list1, list2): \n",
    "    list3 = []\n",
    "    for index, (ele1,ele2) in enumerate(zip(list1,list2)): \n",
    "#         print(index,ele1,ele2)\n",
    "        if not math.isnan(ele1):\n",
    "#             print(\"ele1 is not nan\")\n",
    "            list3.append(tuple((ele1,ele2)))\n",
    "    list3.sort(key=lambda x: x[0])\n",
    "    return list3 "
   ]
  },
  {
   "cell_type": "code",
   "execution_count": 10,
   "metadata": {
    "scrolled": false
   },
   "outputs": [
    {
     "name": "stdout",
     "output_type": "stream",
     "text": [
      "13212 13212\n"
     ]
    }
   ],
   "source": [
    "#find most delayed and second delayed qcd jets\n",
    "jetTime_most_delayed = []\n",
    "jetTime_second_delayed = []\n",
    "\n",
    "jetPt = tree['genQCD_pt'].array()\n",
    "jetEta = tree['genQCD_eta'].array()\n",
    "\n",
    "for evt, (time, pt) in enumerate(zip(jetNewTime,jetPt)):\n",
    "#     print(i,time,pt,len(time),len(pt))\n",
    "    validpairlist = sort_valid_lists(time,pt)\n",
    "#     print(validpairlist)\n",
    "#     print(validpairlist[-1][0])\n",
    "    jetTime_most_delayed.append(validpairlist[-1][0])\n",
    "    jetTime_second_delayed.append(validpairlist[-2][0])\n",
    "#     if evt>2:\n",
    "#         break\n",
    "jetTime_most_delayed = np.array(jetTime_most_delayed)\n",
    "jetTime_second_delayed = np.array(jetTime_second_delayed)\n",
    "print(len(jetTime_most_delayed),len(jetTime_second_delayed))\n"
   ]
  },
  {
   "cell_type": "code",
   "execution_count": 12,
   "metadata": {},
   "outputs": [
    {
     "name": "stdout",
     "output_type": "stream",
     "text": [
      "19\n",
      "t cut:  -5.0 rej power1j:  1.4515491100856954\n",
      "t cut:  -5.0 rej power 2j:  5.525721455457967\n",
      "t cut:  -4.0 rej power1j:  1.4515491100856954\n",
      "t cut:  -4.0 rej power 2j:  5.525721455457967\n",
      "t cut:  -3.0 rej power1j:  1.4515491100856954\n",
      "t cut:  -3.0 rej power 2j:  5.525721455457967\n",
      "t cut:  -2.0 rej power1j:  1.4515491100856954\n",
      "t cut:  -2.0 rej power 2j:  5.525721455457967\n",
      "t cut:  -1.0 rej power1j:  1.4515491100856954\n",
      "t cut:  -1.0 rej power 2j:  5.525721455457967\n",
      "t cut:  -0.8 rej power1j:  1.4517086034501703\n",
      "t cut:  -0.8 rej power 2j:  5.525721455457967\n",
      "t cut:  -0.6 rej power1j:  1.456028212475204\n",
      "t cut:  -0.6 rej power 2j:  5.579391891891892\n",
      "t cut:  -0.4 rej power1j:  1.4969408565601632\n",
      "t cut:  -0.4 rej power 2j:  5.864181091877497\n",
      "t cut:  -0.2 rej power1j:  1.7436980335225023\n",
      "t cut:  -0.2 rej power 2j:  7.118534482758621\n",
      "t cut:  0.0 rej power1j:  2.7891070297656744\n",
      "t cut:  0.0 rej power 2j:  12.789932236205228\n",
      "t cut:  0.2 rej power1j:  7.364548494983278\n",
      "t cut:  0.2 rej power 2j:  38.63157894736842\n",
      "t cut:  0.4 rej power1j:  37.32203389830509\n",
      "t cut:  0.4 rej power 2j:  249.28301886792454\n",
      "t cut:  0.5 rej power1j:  112.92307692307692\n",
      "t cut:  0.5 rej power 2j:  1016.3076923076923\n",
      "t cut:  0.6 rej power1j:  377.48571428571427\n",
      "t cut:  0.6 rej power 2j:  4404.0\n",
      "[-5.0, -4.0, -3.0, -2.0, -1.0, -0.8, -0.6, -0.4, -0.2, 0.0, 0.2, 0.4, 0.5, 0.6, 0.8, 1.0, 2.0, 3.0, 4.0]\n",
      "[  1.45154911   1.45154911   1.45154911   1.45154911   1.45154911\n",
      "   1.4517086    1.45602821   1.49694086   1.74369803   2.78910703\n",
      "   7.36454849  37.3220339  112.92307692 377.48571429]\n",
      "[   5.52572146    5.52572146    5.52572146    5.52572146    5.52572146\n",
      "    5.52572146    5.57939189    5.86418109    7.11853448   12.78993224\n",
      "   38.63157895  249.28301887 1016.30769231 4404.        ]\n"
     ]
    }
   ],
   "source": [
    "i = 0\n",
    "Power_1j = []\n",
    "Power_2j = []\n",
    "\n",
    "# t_cuts = [-5.,-4.,-3.,-2.,-1.,-0.8,-0.6,-0.4,-0.2,0.,0.2,0.4,0.6,0.8]\n",
    "# t_cuts = [0.2,0.4,0.6,0.8]\n",
    "# t_cuts = [0.,1.,2.,3.,4.]\n",
    "t_cuts = [-5.,-4.,-3.,-2.,-1.,-0.8,-0.6,-0.4,-0.2,0.,0.2,0.4,0.5,0.6,0.8,1.,2.,3.,4.]\n",
    "N = len(jetTime_most_delayed)\n",
    "# print(t_cuts)\n",
    "\n",
    "num = len(t_cuts)\n",
    "print(num)\n",
    "\n",
    "t1 = jetTime_most_delayed\n",
    "t2 = jetTime_second_delayed\n",
    "\n",
    "for p in range(0,num):\n",
    "    q = t_cuts[p]\n",
    "#         print(j,sig,p,q)\n",
    "    t1_string = np.logical_and( t1 > q, t1)\n",
    "    t2_string = np.logical_and( t2 > q, t2)\n",
    "    t_string = np.logical_and( t1_string, t2_string)\n",
    "\n",
    "    t1cutted_t1 = t1[t1_string]\n",
    "    tcutted_t1 = t1[t_string]\n",
    "\n",
    "    Nsel1 = np.shape(t1cutted_t1)[0]\n",
    "    Nsel2 = np.shape(tcutted_t1)[0]\n",
    "#         print(q,Nsel)\n",
    "    if Nsel1==0 or Nsel2==0:\n",
    "        break\n",
    "#         Nrej = 1.*N - 1.*Nsel\n",
    "    Prej_1j = 1.0*N/Nsel1\n",
    "    Prej_2j = 1.0*N/Nsel2\n",
    "    Power_1j.append(Prej_1j)\n",
    "    Power_2j.append(Prej_2j)\n",
    "    print('t cut: ',q, 'rej power1j: ',Prej_1j)\n",
    "    print('t cut: ',q, 'rej power 2j: ',Prej_2j)\n",
    "\n",
    "    \n",
    "Power_1j = np.array(Power_1j)\n",
    "Power_2j = np.array(Power_2j)\n",
    "print(t_cuts)\n",
    "print(Power_1j)\n",
    "print(Power_2j)\n"
   ]
  },
  {
   "cell_type": "code",
   "execution_count": 18,
   "metadata": {},
   "outputs": [
    {
     "name": "stderr",
     "output_type": "stream",
     "text": [
      "Warning in <TCanvas::Constructor>: Deleting canvas with same name: c\n",
      "Info in <TCanvas::Print>: png file /nfshome/jmao/cms-llp/plots/20190626/RejectionPower_SmearNewTime.png has been created\n"
     ]
    },
    {
     "data": {
      "image/png": "[encoded data removed]",
      "text/plain": [
       "<IPython.core.display.Image object>"
      ]
     },
     "metadata": {},
     "output_type": "display_data"
    }
   ],
   "source": [
    "#make plot\n",
    "c = rt.TCanvas('c','c', 800, 600)\n",
    "leg = rt.TLegend(0.22,0.75,0.55,0.90);\n",
    "leg.SetTextSize(0.03)\n",
    "rt.gStyle.SetOptStat(0000)\n",
    "i = 0\n",
    "\n",
    "hrej = {}\n",
    "t_cuts = np.array(t_cuts) \n",
    "num = len(t_cuts)\n",
    "\n",
    "power1 = Power_1j \n",
    "power2 = Power_2j \n",
    "#print num, t_cuts, power\n",
    "num1 = len(power1)\n",
    "num2 = len(power2)\n",
    "#     num = len(t_cuts)+i-4\n",
    "hrej1 = rt.TGraph(num1 , t_cuts, power1)\n",
    "hrej2 = rt.TGraph(num2 , t_cuts, power2)\n",
    "\n",
    "hrej1.SetLineColor(std_color_list[i+1])\n",
    "hrej1.SetMarkerColor(std_color_list[i+1])\n",
    "hrej1.SetMarkerStyle(22+i)\n",
    "#     hrej[m].SetMarkerSize(2)\n",
    "\n",
    "hrej2.SetLineColor(std_color_list[i+1])\n",
    "hrej2.SetLineStyle(7)\n",
    "hrej2.SetMarkerColor(std_color_list[i+1])\n",
    "hrej2.SetMarkerStyle(22+i)\n",
    "\n",
    "leg.SetBorderSize(0)\n",
    "# leg.SetHeader('New Gen Time')\n",
    "leg.AddEntry(hrej1,'One jet')\n",
    "leg.AddEntry(hrej2,'Two jets')\n",
    "\n",
    "hrej1.SetTitle( 'Rejection Power' )\n",
    "hrej1.GetXaxis().SetTitle( 'Time Cut [ns]' )\n",
    "#hrej[m].GetXaxis().SetRangeUser(-10,10)\n",
    "hrej1.GetYaxis().SetRangeUser(1e-1,1e7)\n",
    "#     hrej[i].GetXaxis().SetRangeUser(-6,6)\n",
    "hrej1.GetYaxis().SetTitle( 'Rejection Power' )\n",
    "#     if i==4 :\n",
    "#         hrej[i].GetXaxis().SetRange(-6,6)\n",
    "hrej1.Draw('ALPsame')\n",
    "hrej2.Draw('LPsame')\n",
    "#     else:\n",
    "#         hrej[i].Draw('LPsame')\n",
    "\n",
    "#     i += 1\n",
    "\n",
    "\n",
    "\n",
    "leg.Draw()\n",
    "c.SetLogy()\n",
    "c.Update()\n",
    "c.Draw()\n",
    "c.SaveAs(out_dir+'RejectionPower_SmearNewTime.png')\n"
   ]
  },
  {
   "cell_type": "markdown",
   "metadata": {},
   "source": [
    "# Trigger w/ Eta cut"
   ]
  },
  {
   "cell_type": "code",
   "execution_count": 13,
   "metadata": {},
   "outputs": [
    {
     "name": "stdout",
     "output_type": "stream",
     "text": [
      "13212 13212\n"
     ]
    }
   ],
   "source": [
    "#find leading and subleading qcd jets\n",
    "jetPt_leading = []\n",
    "jetPt_subleading = []\n",
    "\n",
    "jetPt = tree['genQCD_pt'].array()\n",
    "jetEta = tree['genQCD_eta'].array()\n",
    "\n",
    "for evt, (pt, eta) in enumerate(zip(jetPt,jetEta)):\n",
    "#     print(i,pt,eta,len(pt),len(eta))\n",
    "    validpairlist = sort_valid_lists(pt,eta)\n",
    "#     print(validpairlist)\n",
    "#     print(validpairlist[-1][0])\n",
    "    jetPt_leading.append(validpairlist[-1][0])\n",
    "    jetPt_subleading.append(validpairlist[-2][0])\n",
    "#     if evt>2:\n",
    "#         break\n",
    "jetPt_leading = np.array(jetPt_leading)\n",
    "jetPt_subleading = np.array(jetPt_subleading)\n",
    "print(len(jetPt_leading),len(jetPt_subleading))\n"
   ]
  },
  {
   "cell_type": "code",
   "execution_count": 14,
   "metadata": {},
   "outputs": [
    {
     "name": "stdout",
     "output_type": "stream",
     "text": [
      "13212 13212\n"
     ]
    }
   ],
   "source": [
    "#find leading and subleading qcd jets' eta\n",
    "jetPt_leading_eta = []\n",
    "jetPt_subleading_eta = []\n",
    "\n",
    "jetPt = tree['genQCD_pt'].array()\n",
    "jetEta = tree['genQCD_eta'].array()\n",
    "\n",
    "for evt, (pt, eta) in enumerate(zip(jetPt,jetEta)):\n",
    "#     print(i,pt,eta,len(pt),len(eta))\n",
    "    validpairlist = sort_valid_lists(pt,eta)\n",
    "#     print(validpairlist)\n",
    "#     print(validpairlist[-1][0])\n",
    "    jetPt_leading_eta.append(validpairlist[-1][1])\n",
    "    jetPt_subleading_eta.append(validpairlist[-2][1])\n",
    "#     if evt>2:\n",
    "#         break\n",
    "jetPt_leading_eta = np.array(jetPt_leading_eta)\n",
    "jetPt_subleading_eta = np.array(jetPt_subleading_eta)\n",
    "print(len(jetPt_leading_eta),len(jetPt_subleading_eta))\n"
   ]
  },
  {
   "cell_type": "code",
   "execution_count": 15,
   "metadata": {},
   "outputs": [
    {
     "name": "stdout",
     "output_type": "stream",
     "text": [
      "13212 13212\n"
     ]
    }
   ],
   "source": [
    "#find most delayed and second delayed qcd jets' eta\n",
    "jetTime_most_delayed_eta = []\n",
    "jetTime_second_delayed_eta = []\n",
    "\n",
    "jetPt = tree['genQCD_pt'].array()\n",
    "jetEta = tree['genQCD_eta'].array()\n",
    "\n",
    "for evt, (time, eta) in enumerate(zip(jetNewTime,jetEta)):\n",
    "#     print(i,time,eta,len(time),len(eta))\n",
    "    validpairlist = sort_valid_lists(time,eta)\n",
    "#     print(validpairlist)\n",
    "#     print(validpairlist[-1][0])\n",
    "    jetTime_most_delayed_eta.append(validpairlist[-1][1])\n",
    "    jetTime_second_delayed_eta.append(validpairlist[-2][1])\n",
    "#     if evt>2:\n",
    "#         break\n",
    "jetTime_most_delayed_eta = np.array(jetTime_most_delayed_eta)\n",
    "jetTime_second_delayed_eta = np.array(jetTime_second_delayed_eta)\n",
    "print(len(jetTime_most_delayed_eta),len(jetTime_second_delayed_eta))\n"
   ]
  },
  {
   "cell_type": "code",
   "execution_count": 22,
   "metadata": {
    "scrolled": false
   },
   "outputs": [
    {
     "name": "stdout",
     "output_type": "stream",
     "text": [
      "13212 13212\n"
     ]
    }
   ],
   "source": [
    "#find most delayed and second delayed qcd jets\n",
    "jetTime_most_delayed = []\n",
    "jetTime_second_delayed = []\n",
    "\n",
    "jetPt = tree['genQCD_pt'].array()\n",
    "jetEta = tree['genQCD_eta'].array()\n",
    "\n",
    "for evt, (time, pt) in enumerate(zip(jetNewTime,jetPt)):\n",
    "#     print(i,time,pt,len(time),len(pt))\n",
    "    validpairlist = sort_valid_lists(time,pt)\n",
    "#     print(validpairlist)\n",
    "#     print(validpairlist[-1][0])\n",
    "    jetTime_most_delayed.append(validpairlist[-1][0])\n",
    "    jetTime_second_delayed.append(validpairlist[-2][0])\n",
    "#     if evt>2:\n",
    "#         break\n",
    "jetTime_most_delayed = np.array(jetTime_most_delayed)\n",
    "jetTime_second_delayed = np.array(jetTime_second_delayed)\n",
    "print(len(jetTime_most_delayed),len(jetTime_second_delayed))\n"
   ]
  },
  {
   "cell_type": "code",
   "execution_count": 23,
   "metadata": {},
   "outputs": [
    {
     "name": "stdout",
     "output_type": "stream",
     "text": [
      "1.5\n"
     ]
    }
   ],
   "source": [
    "a = 1.5\n",
    "b = -1.5\n",
    "c = abs(b)\n",
    "print(c)"
   ]
  },
  {
   "cell_type": "code",
   "execution_count": 36,
   "metadata": {
    "scrolled": false
   },
   "outputs": [
    {
     "name": "stdout",
     "output_type": "stream",
     "text": [
      "19\n",
      "0 0\n",
      "t cut:  -5.0 rej power1j:  1.002257728377909\n",
      "t cut:  -5.0 rej power 2j:  1.0138422818791946\n",
      "t cut:  -4.0 rej power1j:  1.002257728377909\n",
      "t cut:  -4.0 rej power 2j:  1.0138422818791946\n",
      "t cut:  -3.0 rej power1j:  1.002257728377909\n",
      "t cut:  -3.0 rej power 2j:  1.0138422818791946\n",
      "t cut:  -2.0 rej power1j:  1.002257728377909\n",
      "t cut:  -2.0 rej power 2j:  1.0138422818791946\n",
      "t cut:  -1.0 rej power1j:  1.002257728377909\n",
      "t cut:  -1.0 rej power 2j:  1.0138422818791946\n",
      "t cut:  -0.8 rej power1j:  1.002257728377909\n",
      "t cut:  -0.8 rej power 2j:  1.0138422818791946\n",
      "t cut:  -0.6 rej power1j:  1.0052255704581083\n",
      "t cut:  -0.6 rej power 2j:  1.023718763235917\n",
      "t cut:  -0.4 rej power1j:  1.0327487473156765\n",
      "t cut:  -0.4 rej power 2j:  1.0761353517364203\n",
      "t cut:  -0.2 rej power1j:  1.2030435688972274\n",
      "t cut:  -0.2 rej power 2j:  1.3064864864864865\n",
      "t cut:  0.0 rej power1j:  1.9046204620462046\n",
      "t cut:  0.0 rej power 2j:  2.3511673151750974\n",
      "t cut:  0.2 rej power1j:  4.928266438941076\n",
      "t cut:  0.2 rej power 2j:  7.129793510324483\n",
      "t cut:  0.4 rej power1j:  24.14644351464435\n",
      "t cut:  0.4 rej power 2j:  45.60377358490566\n",
      "t cut:  0.5 rej power1j:  72.1375\n",
      "t cut:  0.5 rej power 2j:  185.92307692307693\n",
      "t cut:  0.6 rej power1j:  262.3181818181818\n",
      "t cut:  0.6 rej power 2j:  805.6666666666666\n",
      "rej 1j [  1.00225773   1.00225773   1.00225773   1.00225773   1.00225773\n",
      "   1.00225773   1.00522557   1.03274875   1.20304357   1.90462046\n",
      "   4.92826644  24.14644351  72.1375     262.31818182]\n",
      "rej 2j [  1.01384228   1.01384228   1.01384228   1.01384228   1.01384228\n",
      "   1.01384228   1.02371876   1.07613535   1.30648649   2.35116732\n",
      "   7.12979351  45.60377358 185.92307692 805.66666667]\n",
      "1 20\n",
      "2 30\n",
      "3 40\n",
      "4 50\n",
      "5 60\n",
      "[-5.0, -4.0, -3.0, -2.0, -1.0, -0.8, -0.6, -0.4, -0.2, 0.0, 0.2, 0.4, 0.5, 0.6, 0.8, 1.0, 2.0, 3.0, 4.0]\n",
      "[[  1.00225773   1.00225773   1.00225773   1.00225773   1.00225773\n",
      "    1.00225773   1.00522557   1.03274875   1.20304357   1.90462046\n",
      "    4.92826644  24.14644351  72.1375     262.31818182]\n",
      " [  1.00225773   1.00225773   1.00225773   1.00225773   1.00225773\n",
      "    1.00225773   1.00522557   1.03274875   1.20304357   1.90462046\n",
      "    4.92826644  24.14644351  72.1375     262.31818182]\n",
      " [  1.00225773   1.00225773   1.00225773   1.00225773   1.00225773\n",
      "    1.00225773   1.00522557   1.03274875   1.20304357   1.90462046\n",
      "    4.92826644  24.14644351  72.1375     262.31818182]\n",
      " [  1.00225773   1.00225773   1.00225773   1.00225773   1.00225773\n",
      "    1.00225773   1.00522557   1.03274875   1.20304357   1.90462046\n",
      "    4.92826644  24.14644351  72.1375     262.31818182]\n",
      " [  1.00225773   1.00225773   1.00225773   1.00225773   1.00225773\n",
      "    1.00225773   1.00522557   1.03274875   1.20304357   1.90462046\n",
      "    4.92826644  24.14644351  72.1375     262.31818182]\n",
      " [  1.00225773   1.00225773   1.00225773   1.00225773   1.00225773\n",
      "    1.00225773   1.00522557   1.03274875   1.20304357   1.90462046\n",
      "    4.92826644  24.14644351  72.1375     262.31818182]]\n",
      "[[  1.01384228   1.01384228   1.01384228   1.01384228   1.01384228\n",
      "    1.01384228   1.02371876   1.07613535   1.30648649   2.35116732\n",
      "    7.12979351  45.60377358 185.92307692 805.66666667]\n",
      " [  1.01384228   1.01384228   1.01384228   1.01384228   1.01384228\n",
      "    1.01384228   1.02371876   1.07613535   1.30648649   2.35116732\n",
      "    7.12979351  45.60377358 185.92307692 805.66666667]\n",
      " [  1.01384228   1.01384228   1.01384228   1.01384228   1.01384228\n",
      "    1.01384228   1.02371876   1.07613535   1.30648649   2.35116732\n",
      "    7.12979351  45.60377358 185.92307692 805.66666667]\n",
      " [  1.01384228   1.01384228   1.01384228   1.01384228   1.01384228\n",
      "    1.01384228   1.02371876   1.07613535   1.30648649   2.35116732\n",
      "    7.12979351  45.60377358 185.92307692 805.66666667]\n",
      " [  1.01384228   1.01384228   1.01384228   1.01384228   1.01384228\n",
      "    1.01384228   1.02371876   1.07613535   1.30648649   2.35116732\n",
      "    7.12979351  45.60377358 185.92307692 805.66666667]\n",
      " [  1.01384228   1.01384228   1.01384228   1.01384228   1.01384228\n",
      "    1.01384228   1.02371876   1.07613535   1.30648649   2.35116732\n",
      "    7.12979351  45.60377358 185.92307692 805.66666667]]\n"
     ]
    }
   ],
   "source": [
    "i = 0\n",
    "Power_1J = []\n",
    "Power_2J = []\n",
    "\n",
    "# t_cuts = [-5.,-4.,-3.,-2.,-1.,-0.8,-0.6,-0.4,-0.2,0.,0.2,0.4,0.6,0.8]\n",
    "# t_cuts = [0,0.2,0.4,0.5,0.6,0.8]\n",
    "# t_cuts = [0.,1.,2.,3.,4.]\n",
    "t_cuts = [-5.,-4.,-3.,-2.,-1.,-0.8,-0.6,-0.4,-0.2,0.,0.2,0.4, 0.5, 0.6,0.8,1.,2.,3.,4.]\n",
    "pt_cuts = [0,20,30,40,50,60]\n",
    "N = len(jetTime_most_delayed)\n",
    "# print(t_cuts)\n",
    "\n",
    "num = len(t_cuts)\n",
    "print(num)\n",
    "\n",
    "t1 = jetTime_most_delayed\n",
    "eta_t1 = jetTime_most_delayed_eta\n",
    "t2 = jetTime_second_delayed\n",
    "eta_t2 = jetTime_second_delayed_eta\n",
    "\n",
    "pt1 = jetPt_leading\n",
    "eta_pt1 = jetPt_leading_eta\n",
    "pt2 = jetPt_subleading\n",
    "eta_pt2 = jetPt_subleading_eta\n",
    "\n",
    "for npt,pt in enumerate(pt_cuts):\n",
    "    print(npt,pt)\n",
    "    \n",
    "    pt1_string = np.logical_and( pt1 > q, abs(eta_pt1)<1.5)\n",
    "    pt2_string = np.logical_and( pt2 > q, abs(eta_pt2)<1.5)\n",
    "    pt_string = np.logical_and( pt1_string, pt2_string)\n",
    "    \n",
    "    eta_pt1_string = np.logical_and( eta_pt1, abs(eta_pt1)<1.5)\n",
    "    eta_pt2_string = np.logical_and( eta_pt2, abs(eta_pt2)<1.5)\n",
    "    eta_pt_string = np.logical_and( eta_pt1_string, eta_pt2_string)\n",
    "    \n",
    "    power1 = []\n",
    "    power2 = []\n",
    "    \n",
    "    for p in range(0,num):\n",
    "        q = t_cuts[p]\n",
    "    #         print(j,sig,p,q)\n",
    "\n",
    "        t1_string = np.logical_and( t1 > q, abs(eta_t1)<1.5)\n",
    "        t2_string = np.logical_and( t2 > q, abs(eta_t2)<1.5)\n",
    "        t_string = np.logical_and( t1_string, t2_string)\n",
    "\n",
    "        pt_t1_string = np.logical_and( t1_string, pt1_string)\n",
    "        pt_t_string = np.logical_and( t_string, pt_string)\n",
    "\n",
    "        eta_t1_string = np.logical_and( eta_t1, abs(eta_t1)<1.5)\n",
    "        eta_t2_string = np.logical_and( eta_t2, abs(eta_t2)<1.5)\n",
    "        eta_t_string = np.logical_and( eta_t1_string, eta_t2_string)\n",
    "\n",
    "        eta_pt_t1_string = np.logical_and( eta_t1_string, eta_pt1_string)\n",
    "        eta_pt_t_string = np.logical_and( eta_t_string, eta_pt_string)\n",
    "\n",
    "\n",
    "        t1cutted_t1 = t1[pt_t1_string]\n",
    "        tcutted_t1 = t1[pt_t_string]\n",
    "\n",
    "        Nsel1 = np.shape(t1cutted_t1)[0]\n",
    "        Nsel2 = np.shape(tcutted_t1)[0]\n",
    "    #         print(q,Nsel)\n",
    "        if Nsel1==0 or Nsel2==0:\n",
    "            break\n",
    "    #         Nrej = 1.*N - 1.*Nsel\n",
    "\n",
    "        eta_t1cutted_t1 = eta_t1[eta_pt_t1_string]\n",
    "        eta_tcutted_t = eta_t1[eta_pt_t_string]\n",
    "\n",
    "        N1 = np.shape(eta_t1cutted_t1)[0]\n",
    "        N2 = np.shape(eta_tcutted_t)[0]\n",
    "\n",
    "        Prej_1j = 1.0*N1/Nsel1\n",
    "        Prej_2j = 1.0*N2/Nsel2\n",
    "        power1.append(Prej_1j)\n",
    "        power2.append(Prej_2j)\n",
    "        if npt==0 :\n",
    "            print('t cut: ',q, 'rej power1j: ',Prej_1j)\n",
    "            print('t cut: ',q, 'rej power 2j: ',Prej_2j)\n",
    "        \n",
    "    power1 = np.array(power1)\n",
    "    power2 = np.array(power2)\n",
    "    \n",
    "    if npt==0:\n",
    "        print('rej 1j',power1)\n",
    "        print('rej 2j',power2)\n",
    "    \n",
    "    Power_1J.append(power1)\n",
    "    Power_2J.append(power2)\n",
    "\n",
    "    \n",
    "Power_1J = np.array(Power_1J)\n",
    "Power_2J = np.array(Power_2J)\n",
    "print(t_cuts)\n",
    "print(Power_1J)\n",
    "print(Power_2J)\n"
   ]
  },
  {
   "cell_type": "code",
   "execution_count": 21,
   "metadata": {},
   "outputs": [
    {
     "name": "stdout",
     "output_type": "stream",
     "text": [
      "0 0\n",
      "1 20\n",
      "2 30\n",
      "3 40\n",
      "4 50\n",
      "5 60\n"
     ]
    },
    {
     "name": "stderr",
     "output_type": "stream",
     "text": [
      "Warning in <TCanvas::Constructor>: Deleting canvas with same name: c\n",
      "Info in <TCanvas::Print>: png file /nfshome/jmao/cms-llp/plots/20190626/RejectionPower_SmearNewTime_Eta1p5.png has been created\n"
     ]
    },
    {
     "data": {
      "image/png": "[encoded data removed]",
      "text/plain": [
       "<IPython.core.display.Image object>"
      ]
     },
     "metadata": {},
     "output_type": "display_data"
    }
   ],
   "source": [
    "#make plot\n",
    "c = rt.TCanvas('c','c', 800, 600)\n",
    "leg1 = rt.TLegend(0.22,0.75,0.45,0.90);\n",
    "leg = rt.TLegend(0.45,0.65,0.55,0.92);\n",
    "leg1.SetTextSize(0.03)\n",
    "leg.SetTextSize(0.03)\n",
    "rt.gStyle.SetOptStat(0000)\n",
    "\n",
    "hrej1 = {}\n",
    "hrej2 = {}\n",
    "t_cuts = np.array(t_cuts) \n",
    "num = len(t_cuts)\n",
    "\n",
    "for npt,pt in enumerate(pt_cuts):\n",
    "    print(npt,pt)\n",
    "    \n",
    "\n",
    "    power1 = Power_1J[npt] \n",
    "    power2 = Power_2J[npt] \n",
    "    #print num, t_cuts, power\n",
    "    num1 = len(power1)\n",
    "    num2 = len(power2)\n",
    "    hrej1[npt] = rt.TGraph(num1 , t_cuts, power1)\n",
    "    hrej2[npt] = rt.TGraph(num2 , t_cuts, power2)\n",
    "\n",
    "    hrej1[npt].SetLineColor(std_color_list[npt+1])\n",
    "    hrej1[npt].SetMarkerColor(std_color_list[npt+1])\n",
    "    hrej1[npt].SetMarkerStyle(22+npt)\n",
    "    #     hrej[m].SetMarkerSize(2)\n",
    "\n",
    "    hrej2[npt].SetLineColor(std_color_list[npt+1])\n",
    "    hrej2[npt].SetLineStyle(7)\n",
    "    hrej2[npt].SetMarkerColor(std_color_list[npt+1])\n",
    "    hrej2[npt].SetMarkerStyle(22+npt)\n",
    "\n",
    "    hrej1[npt].SetTitle( 'Rejection Power' )\n",
    "    hrej1[npt].GetXaxis().SetTitle( 'Time Cut [ns]' )\n",
    "    hrej1[npt].GetYaxis().SetRangeUser(1e-1,1e7)\n",
    "    hrej1[npt].GetYaxis().SetTitle( 'Rejection Power' )\n",
    "\n",
    "    if npt==0:\n",
    "        hrej1[npt].Draw('ALPsame')\n",
    "        hrej2[npt].Draw('LPsame')\n",
    "        # leg.SetHeader('New Gen Time')\n",
    "        leg1.AddEntry(hrej1[npt],'One jet')\n",
    "        leg1.AddEntry(hrej2[npt],'Two jets')\n",
    "#         leg.AddEntry(hrej1[npt],'Pt > '+str(pt)+' GeV')\n",
    "#     else:\n",
    "#         hrej1[npt].Draw('LPsame')\n",
    "#         hrej2[npt].Draw('LPsame')\n",
    "#         leg.AddEntry(hrej1[npt],'Pt > '+str(pt)+' GeV')\n",
    "\n",
    "\n",
    "\n",
    "\n",
    "# leg.SetBorderSize(0)\n",
    "leg1.SetBorderSize(0)\n",
    "# leg.Draw()\n",
    "leg1.Draw()\n",
    "c.SetLogy()\n",
    "c.Update()\n",
    "c.Draw()\n",
    "c.SaveAs(out_dir+'RejectionPower_SmearNewTime_Eta1p5.png')\n"
   ]
  },
  {
   "cell_type": "code",
   "execution_count": 28,
   "metadata": {},
   "outputs": [
    {
     "name": "stdout",
     "output_type": "stream",
     "text": [
      "0 0.22\n"
     ]
    },
    {
     "name": "stderr",
     "output_type": "stream",
     "text": [
      "Warning in <TCanvas::Constructor>: Deleting canvas with same name: c\n",
      "Info in <TCanvas::Print>: png file /nfshome/jmao/cms-llp/plots/20190626/SmearTime220ps.png has been created\n"
     ]
    },
    {
     "data": {
      "image/png": "[encoded data removed]",
      "text/plain": [
       "<IPython.core.display.Image object>"
      ]
     },
     "metadata": {},
     "output_type": "display_data"
    }
   ],
   "source": [
    "# plot leading jet time\n",
    "c = rt.TCanvas('c','c', 800, 600)\n",
    "leg = rt.TLegend(0.75,0.68,0.95,0.90);\n",
    "leg.SetTextSize(0.03)\n",
    "rt.gStyle.SetOptStat(0000)\n",
    "i = 0\n",
    "\n",
    "sigma = [0.22]\n",
    "\n",
    "hs ={}\n",
    "for i,sig in enumerate(sigma):   \n",
    "    print(i, sig)\n",
    "\n",
    "    SmearTime = np.random.normal(0,sig,1000000)\n",
    "    t = SmearTime\n",
    "    hs[i] = create_TH1D( t, axis_title=['Time [ns]', 'Fraction of events'], name=str(sig), binning=[100,-1,1])\n",
    "    hs[i].SetLineColor(std_color_list[i+2])\n",
    "    hs[i].SetMarkerColor(std_color_list[i+2])\n",
    "    hs[i].GetYaxis().SetRangeUser(1e-1, 1e7)\n",
    "\n",
    "\n",
    "    leg.AddEntry(hs[i],'#sigma_{BS} = '+str(sig)+' ns')\n",
    "\n",
    "    hs[i].DrawNormalized('same')\n",
    "    \n",
    "#     i += 1\n",
    "\n",
    "# leg.SetHeader(str(MODEL))\n",
    "leg.SetBorderSize(0)\n",
    "\n",
    "leg.Draw()\n",
    "c.SetLogy()\n",
    "c.Update()\n",
    "c.Draw()\n",
    "c.SaveAs(out_dir+'SmearTime220ps.png')\n"
   ]
  },
  {
   "cell_type": "code",
   "execution_count": 42,
   "metadata": {},
   "outputs": [
    {
     "name": "stdout",
     "output_type": "stream",
     "text": [
      "0 0.22 19\n",
      "t cut:  -5.0 rej power:  1.0\n",
      "t cut:  -4.0 rej power:  1.0\n",
      "t cut:  -3.0 rej power:  1.0\n",
      "t cut:  -2.0 rej power:  1.0\n",
      "t cut:  -1.0 rej power:  1.000001000001\n",
      "t cut:  -0.8 rej power:  1.0001140129974817\n",
      "t cut:  -0.6 rej power:  1.0032273824894686\n",
      "t cut:  -0.4 rej power:  1.036094421356807\n",
      "t cut:  -0.2 rej power:  1.2217306792456057\n",
      "t cut:  0.0 rej power:  1.998281477928981\n",
      "t cut:  0.2 rej power:  5.484380484380484\n",
      "t cut:  0.4 rej power:  28.82592026750454\n",
      "t cut:  0.5 rej power:  85.52125203112973\n",
      "t cut:  0.6 rej power:  311.81789834736514\n",
      "t cut:  0.8 rej power:  7407.407407407408\n",
      "t cut:  1.0 rej power:  142857.14285714287\n",
      "[[1.00000000e+00 1.00000000e+00 1.00000000e+00 1.00000000e+00\n",
      "  1.00000100e+00 1.00011401e+00 1.00322738e+00 1.03609442e+00\n",
      "  1.22173068e+00 1.99828148e+00 5.48438048e+00 2.88259203e+01\n",
      "  8.55212520e+01 3.11817898e+02 7.40740741e+03 1.42857143e+05]]\n"
     ]
    }
   ],
   "source": [
    "i = 0\n",
    "Power_1j = []\n",
    "\n",
    "# t_cuts = [-5.,-4.,-3.,-2.,-1.,-0.8,-0.6,-0.4,-0.2,0.,0.2,0.4,0.6,0.8]\n",
    "# t_cuts = [0.2,0.4,0.6,0.8,1.0]\n",
    "# t_cuts = [0.,1.,2.,3.,4.]\n",
    "t_cuts = [-5.,-4.,-3.,-2.,-1.,-0.8,-0.6,-0.4,-0.2,0.,0.2,0.4,0.5,0.6,0.8,1.,2.,3.,4.]\n",
    "N = 1e6\n",
    "# print(t_cuts)\n",
    "for j,sig in enumerate(sigma):\n",
    "#         print(j,sig)\n",
    "\n",
    "    t = np.random.normal(0,sig,int(N))\n",
    "    Power_rej_1j = []\n",
    "    \n",
    "#     num = len(t_cuts)+j-3\n",
    "    num = len(t_cuts)\n",
    "    print(j,sig,num)\n",
    "    for p in range(0,num):\n",
    "        q = t_cuts[p]\n",
    "#         print(j,sig,p,q)\n",
    "\n",
    "        tcut_string = np.logical_and( t > q, t)\n",
    "\n",
    "        tcutted_t = t[tcut_string]\n",
    "\n",
    "        Nsel = np.shape(tcutted_t)[0]\n",
    "#         print(q,Nsel)\n",
    "        if Nsel==0:\n",
    "            break\n",
    "#         Nrej = 1.*N - 1.*Nsel\n",
    "        Prej_j = 1.0*N/Nsel\n",
    "        Power_rej_1j.append(Prej_j)\n",
    "        print('t cut: ',q, 'rej power: ',Prej_j)\n",
    "\n",
    "    Power_rej_1j = np.array(Power_rej_1j) \n",
    "#     print('Rejection power',Power_rej_1j)\n",
    "\n",
    "    Power_1j.append(Power_rej_1j)\n",
    "\n",
    "\n",
    "    \n",
    "Power_1j = np.array(Power_1j)\n",
    "print(Power_1j)\n"
   ]
  },
  {
   "cell_type": "code",
   "execution_count": 43,
   "metadata": {},
   "outputs": [
    {
     "name": "stdout",
     "output_type": "stream",
     "text": [
      "0 0.22\n"
     ]
    },
    {
     "name": "stderr",
     "output_type": "stream",
     "text": [
      "Warning in <TCanvas::Constructor>: Deleting canvas with same name: c\n",
      "Info in <TCanvas::Print>: png file /nfshome/jmao/cms-llp/plots/20190626/RejectionPower_SmearTime220ps.png has been created\n"
     ]
    },
    {
     "data": {
      "image/png": "[encoded data removed]",
      "text/plain": [
       "<IPython.core.display.Image object>"
      ]
     },
     "metadata": {},
     "output_type": "display_data"
    }
   ],
   "source": [
    "#make plot\n",
    "c = rt.TCanvas('c','c', 800, 600)\n",
    "leg = rt.TLegend(0.22,0.75,0.55,0.90);\n",
    "leg.SetTextSize(0.03)\n",
    "rt.gStyle.SetOptStat(0000)\n",
    "i = 0\n",
    "\n",
    "hrej = {}\n",
    "t_cuts = np.array(t_cuts) \n",
    "num = len(t_cuts)\n",
    "\n",
    "\n",
    "# sigma = [0.2,0.4,0.6,0.8,1.]\n",
    "\n",
    "for i,sig in reversed(list(enumerate(sigma))):   \n",
    "    print(i, sig)\n",
    "\n",
    "    Power_i = Power_1j[i] \n",
    "\n",
    " \n",
    "    power = np.array(Power_i) \n",
    "    #print num, t_cuts, power\n",
    "    num = len(power)\n",
    "#     num = len(t_cuts)+i-4\n",
    "    hrej[i] = rt.TGraph(num , t_cuts, power)\n",
    "\n",
    "    hrej[i].SetLineColor(std_color_list[i+1])\n",
    "    hrej[i].SetMarkerColor(std_color_list[i+1])\n",
    "    hrej[i].SetMarkerStyle(22+i)\n",
    "    #     hrej[m].SetMarkerSize(2)\n",
    "\n",
    "\n",
    "    leg.SetBorderSize(0)\n",
    "    leg.AddEntry(hrej[i],'#sigma_{BS} = '+str(sig)+' ns')\n",
    "\n",
    "    hrej[i].SetTitle( 'Rejection Power' )\n",
    "    hrej[i].GetXaxis().SetTitle( 'Time Cut [ns]' )\n",
    "    #hrej[m].GetXaxis().SetRangeUser(-10,10)\n",
    "    hrej[i].GetYaxis().SetRangeUser(1e-1,1e7)\n",
    "#     hrej[i].GetXaxis().SetRangeUser(-6,6)\n",
    "    hrej[i].GetYaxis().SetTitle( 'Rejection Power' )\n",
    "#     if i==4 :\n",
    "#         hrej[i].GetXaxis().SetRange(-6,6)\n",
    "    hrej[i].Draw('ALPsame')\n",
    "#     else:\n",
    "#         hrej[i].Draw('LPsame')\n",
    "    \n",
    "#     i += 1\n",
    "\n",
    "\n",
    "\n",
    "leg.Draw()\n",
    "c.SetLogy()\n",
    "c.Update()\n",
    "c.Draw()\n",
    "c.SaveAs(out_dir+'RejectionPower_SmearTime220ps.png')\n"
   ]
  },
  {
   "cell_type": "code",
   "execution_count": 44,
   "metadata": {},
   "outputs": [
    {
     "name": "stdout",
     "output_type": "stream",
     "text": [
      "0 0.22\n",
      "0 0\n",
      "1 20\n",
      "2 30\n",
      "3 40\n",
      "4 50\n",
      "5 60\n"
     ]
    },
    {
     "name": "stderr",
     "output_type": "stream",
     "text": [
      "Warning in <TCanvas::Constructor>: Deleting canvas with same name: c\n",
      "Info in <TCanvas::Print>: png file /nfshome/jmao/cms-llp/plots/20190626/RejectionPower_SmearTime220ps_PLUS.png has been created\n"
     ]
    },
    {
     "data": {
      "image/png": "[encoded data removed]",
      "text/plain": [
       "<IPython.core.display.Image object>"
      ]
     },
     "metadata": {},
     "output_type": "display_data"
    }
   ],
   "source": [
    "#make plot\n",
    "c = rt.TCanvas('c','c', 800, 600)\n",
    "leg1 = rt.TLegend(0.22,0.75,0.45,0.90);\n",
    "leg = rt.TLegend(0.45,0.65,0.55,0.92);\n",
    "leg1.SetTextSize(0.03)\n",
    "leg.SetTextSize(0.03)\n",
    "leg.SetBorderSize(0)\n",
    "leg1.SetBorderSize(0)\n",
    "\n",
    "rt.gStyle.SetOptStat(0000)\n",
    "i = 0\n",
    "\n",
    "hrej = {}\n",
    "t_cuts = np.array(t_cuts) \n",
    "num = len(t_cuts)\n",
    "\n",
    "hrej1 = {}\n",
    "hrej2 = {}\n",
    "\n",
    "\n",
    "\n",
    "# sigma = [0.2,0.4,0.6,0.8,1.]\n",
    "\n",
    "for i,sig in reversed(list(enumerate(sigma))):   \n",
    "    print(i, sig)\n",
    "\n",
    "    Power_i = Power_1j[i] \n",
    "\n",
    " \n",
    "    power = np.array(Power_i) \n",
    "    #print num, t_cuts, power\n",
    "    num = len(power)\n",
    "#     num = len(t_cuts)+i-4\n",
    "    hrej[i] = rt.TGraph(num , t_cuts, power)\n",
    "\n",
    "    hrej[i].SetLineColor(std_color_list[i+2])\n",
    "    hrej[i].SetMarkerColor(std_color_list[i+2])\n",
    "    hrej[i].SetMarkerStyle(22+i)\n",
    "    #     hrej[m].SetMarkerSize(2)\n",
    "\n",
    "\n",
    "    leg1.AddEntry(hrej[i],'#sigma_{BS} = '+str(sig)+' ns, extended')\n",
    "\n",
    "    hrej[i].SetTitle( 'Rejection Power' )\n",
    "    hrej[i].GetXaxis().SetTitle( 'Time Cut [ns]' )\n",
    "    #hrej[m].GetXaxis().SetRangeUser(-10,10)\n",
    "    hrej[i].GetYaxis().SetRangeUser(1e-1,1e7)\n",
    "#     hrej[i].GetXaxis().SetRangeUser(-6,6)\n",
    "    hrej[i].GetYaxis().SetTitle( 'Rejection Power' )\n",
    "#     if i==4 :\n",
    "#         hrej[i].GetXaxis().SetRange(-6,6)\n",
    "    hrej[i].Draw('ALPsame')\n",
    "#     else:\n",
    "#         hrej[i].Draw('LPsame')\n",
    "    \n",
    "#     i += 1\n",
    "\n",
    "for npt,pt in enumerate(pt_cuts):\n",
    "    print(npt,pt)\n",
    "    \n",
    "\n",
    "    power1 = Power_1J[npt] \n",
    "    power2 = Power_2J[npt] \n",
    "    #print num, t_cuts, power\n",
    "    num1 = len(power1)\n",
    "    num2 = len(power2)\n",
    "    hrej1[npt] = rt.TGraph(num1 , t_cuts, power1)\n",
    "    hrej2[npt] = rt.TGraph(num2 , t_cuts, power2)\n",
    "\n",
    "    hrej1[npt].SetLineColor(std_color_list[npt+1])\n",
    "    hrej1[npt].SetMarkerColor(std_color_list[npt+1])\n",
    "    hrej1[npt].SetMarkerStyle(22+npt)\n",
    "    #     hrej[m].SetMarkerSize(2)\n",
    "\n",
    "    hrej2[npt].SetLineColor(std_color_list[npt+1])\n",
    "    hrej2[npt].SetLineStyle(7)\n",
    "    hrej2[npt].SetMarkerColor(std_color_list[npt+1])\n",
    "    hrej2[npt].SetMarkerStyle(22+npt)\n",
    "\n",
    "    hrej1[npt].SetTitle( 'Rejection Power' )\n",
    "    hrej1[npt].GetXaxis().SetTitle( 'Time Cut [ns]' )\n",
    "    hrej1[npt].GetYaxis().SetRangeUser(1e-1,1e7)\n",
    "    hrej1[npt].GetYaxis().SetTitle( 'Rejection Power' )\n",
    "\n",
    "    if npt==0:\n",
    "        hrej1[npt].Draw('LPsame')\n",
    "        hrej2[npt].Draw('LPsame')\n",
    "        # leg.SetHeader('New Gen Time')\n",
    "        leg1.AddEntry(hrej1[npt],'One jet, from QCD')\n",
    "        leg1.AddEntry(hrej2[npt],'Two jets, from QCD')\n",
    "\n",
    "\n",
    "leg1.Draw()\n",
    "# leg.Draw()\n",
    "c.SetLogy()\n",
    "c.Update()\n",
    "c.Draw()\n",
    "c.SaveAs(out_dir+'RejectionPower_SmearTime220ps_PLUS.png')\n"
   ]
  },
  {
   "cell_type": "code",
   "execution_count": null,
   "metadata": {},
   "outputs": [],
   "source": []
  },
  {
   "cell_type": "code",
   "execution_count": 28,
   "metadata": {},
   "outputs": [
    {
     "name": "stdout",
     "output_type": "stream",
     "text": [
      "0 0\n",
      "1 20\n",
      "2 30\n",
      "3 40\n",
      "4 50\n",
      "5 60\n"
     ]
    },
    {
     "name": "stderr",
     "output_type": "stream",
     "text": [
      "Warning in <TCanvas::Constructor>: Deleting canvas with same name: c\n",
      "Info in <TCanvas::Print>: png file /nfshome/jmao/cms-llp/plots/20190626/RejectionPower_SmearNewTime_Eta1p5_pts.png has been created\n"
     ]
    },
    {
     "data": {
      "image/png": "[encoded data removed]",
      "text/plain": [
       "<IPython.core.display.Image object>"
      ]
     },
     "metadata": {},
     "output_type": "display_data"
    }
   ],
   "source": [
    "#make plot\n",
    "c = rt.TCanvas('c','c', 800, 600)\n",
    "leg1 = rt.TLegend(0.22,0.75,0.45,0.90);\n",
    "leg = rt.TLegend(0.45,0.65,0.55,0.92);\n",
    "leg1.SetTextSize(0.03)\n",
    "leg.SetTextSize(0.03)\n",
    "rt.gStyle.SetOptStat(0000)\n",
    "\n",
    "hrej1 = {}\n",
    "hrej2 = {}\n",
    "t_cuts = np.array(t_cuts) \n",
    "num = len(t_cuts)\n",
    "\n",
    "for npt,pt in enumerate(pt_cuts):\n",
    "    print(npt,pt)\n",
    "    \n",
    "\n",
    "    power1 = Power_1J[npt] \n",
    "    power2 = Power_2J[npt] \n",
    "    #print num, t_cuts, power\n",
    "    num1 = len(power1)\n",
    "    num2 = len(power2)\n",
    "    hrej1[npt] = rt.TGraph(num1 , t_cuts, power1)\n",
    "    hrej2[npt] = rt.TGraph(num2 , t_cuts, power2)\n",
    "\n",
    "    hrej1[npt].SetLineColor(std_color_list[npt+1])\n",
    "    hrej1[npt].SetMarkerColor(std_color_list[npt+1])\n",
    "    hrej1[npt].SetMarkerStyle(22+npt)\n",
    "    #     hrej[m].SetMarkerSize(2)\n",
    "\n",
    "    hrej2[npt].SetLineColor(std_color_list[npt+1])\n",
    "    hrej2[npt].SetLineStyle(7)\n",
    "    hrej2[npt].SetMarkerColor(std_color_list[npt+1])\n",
    "    hrej2[npt].SetMarkerStyle(22+npt)\n",
    "\n",
    "    hrej1[npt].SetTitle( 'Rejection Power' )\n",
    "    hrej1[npt].GetXaxis().SetTitle( 'Time Cut [ns]' )\n",
    "    hrej1[npt].GetYaxis().SetRangeUser(1e-1,1e7)\n",
    "    hrej1[npt].GetYaxis().SetTitle( 'Rejection Power' )\n",
    "\n",
    "    if npt==0:\n",
    "        hrej1[npt].Draw('ALPsame')\n",
    "        hrej2[npt].Draw('LPsame')\n",
    "        # leg.SetHeader('New Gen Time')\n",
    "        leg1.AddEntry(hrej1[npt],'One jet')\n",
    "        leg1.AddEntry(hrej2[npt],'Two jets')\n",
    "        leg.AddEntry(hrej1[npt],'Pt > '+str(pt)+' GeV')\n",
    "    else:\n",
    "        hrej1[npt].Draw('LPsame')\n",
    "        hrej2[npt].Draw('LPsame')\n",
    "        leg.AddEntry(hrej1[npt],'Pt > '+str(pt)+' GeV')\n",
    "\n",
    "\n",
    "\n",
    "\n",
    "leg.SetBorderSize(0)\n",
    "leg1.SetBorderSize(0)\n",
    "leg.Draw()\n",
    "leg1.Draw()\n",
    "c.SetLogy()\n",
    "c.Update()\n",
    "c.Draw()\n",
    "c.SaveAs(out_dir+'RejectionPower_SmearNewTime_Eta1p5_pts.png')\n"
   ]
  },
  {
   "cell_type": "code",
   "execution_count": null,
   "metadata": {},
   "outputs": [],
   "source": []
  },
  {
   "cell_type": "markdown",
   "metadata": {},
   "source": [
    "# Others"
   ]
  },
  {
   "cell_type": "code",
   "execution_count": 13,
   "metadata": {},
   "outputs": [
    {
     "name": "stderr",
     "output_type": "stream",
     "text": [
      "Warning in <TCanvas::Constructor>: Deleting canvas with same name: c\n",
      "Warning in <TROOT::Append>: Replacing existing TH1: HT500to700 (Potential memory leak).\n",
      "Info in <TCanvas::Print>: png file /nfshome/jmao/cms-llp/plots/20190506/JetTime_subleading.png has been created\n",
      "Info in <TCanvas::Print>: pdf file /nfshome/jmao/cms-llp/plots/20190506/JetTime_subleading.pdf has been created\n"
     ]
    },
    {
     "data": {
      "image/png": "[encoded data removed]",
      "text/plain": [
       "<IPython.core.display.Image object>"
      ]
     },
     "metadata": {},
     "output_type": "display_data"
    }
   ],
   "source": [
    "# plot subleading jet time\n",
    "c = rt.TCanvas('c','c', 800, 600)\n",
    "leg = rt.TLegend(0.62,0.68,0.95,0.90);\n",
    "leg.SetTextSize(0.03)\n",
    "rt.gStyle.SetOptStat(0000)\n",
    "i = 0\n",
    "\n",
    "# jetTime = tree['jetTime'].array()\n",
    "# weight = tree['weight'].array()\n",
    "t = jetTime[:,1]\n",
    "ht1 = create_TH1D( t, axis_title=['jetTime [ns]', 'fraction of events'], name=HT, binning=[50,-5,5],weights = weight)\n",
    "ht1.SetLineColor(std_color_list[i])\n",
    "ht1.SetMarkerColor(std_color_list[i])\n",
    "\n",
    "\n",
    "leg.AddEntry(ht1,HT)\n",
    "leg.SetBorderSize(0)\n",
    "\n",
    "ht1.DrawNormalized('')\n",
    "  \n",
    "leg.Draw()\n",
    "c.SetLogy()\n",
    "c.Draw()\n",
    "c.SaveAs(out_dir+'JetTime_subleading.png')\n",
    "c.SaveAs(out_dir+'JetTime_subleading.pdf')"
   ]
  },
  {
   "cell_type": "code",
   "execution_count": 7,
   "metadata": {},
   "outputs": [
    {
     "name": "stderr",
     "output_type": "stream",
     "text": [
      "Warning in <TCanvas::Constructor>: Deleting canvas with same name: c\n",
      "Warning in <TROOT::Append>: Replacing existing TH1: HT50toInf (Potential memory leak).\n",
      "Info in <TCanvas::Print>: png file /nfshome/jmao/cms-llp/plots/20190506/JetTime_all.png has been created\n",
      "Info in <TCanvas::Print>: pdf file /nfshome/jmao/cms-llp/plots/20190506/JetTime_all.pdf has been created\n"
     ]
    },
    {
     "data": {
      "image/png": "[encoded data removed]",
      "text/plain": [
       "<IPython.core.display.Image object>"
      ]
     },
     "metadata": {},
     "output_type": "display_data"
    }
   ],
   "source": [
    "# plot all jet time\n",
    "c = rt.TCanvas('c','c', 800, 600)\n",
    "leg = rt.TLegend(0.62,0.68,0.95,0.90);\n",
    "leg.SetTextSize(0.03)\n",
    "rt.gStyle.SetOptStat(0000)\n",
    "i = 0\n",
    "\n",
    "jetTime = tree['jetTime'].array()\n",
    "sizes = [len(x) for x in jetTime]\n",
    "t = jetTime.flatten()\n",
    "flat_weight = []\n",
    "for j, (n, val) in enumerate(zip(sizes, weight)):\n",
    "    #print n\n",
    "    #print val\n",
    "    #print n*[val]\n",
    "    flat_weight += n*[val]\n",
    "    #print flat_weight[k]\n",
    "flat_weight = np.array(flat_weight)\n",
    "ht = create_TH1D( t, axis_title=['jetTime [ns]', 'fraction of events'], name=HT, binning=[50,-5,5], weights = flat_weight)\n",
    "ht.SetLineColor(std_color_list[i])\n",
    "ht.SetMarkerColor(std_color_list[i])\n",
    "\n",
    "\n",
    "leg.AddEntry(ht,HT)\n",
    "leg.SetBorderSize(0)\n",
    "#h[k].GetYaxis().SetRangeUser(0,500)\n",
    " \n",
    "ht.DrawNormalized('')\n",
    " \n",
    "leg.Draw()\n",
    "c.SetLogy()\n",
    "c.Draw()\n",
    "c.SaveAs(out_dir+'JetTime_all.png')\n",
    "c.SaveAs(out_dir+'JetTime_all.pdf')"
   ]
  },
  {
   "cell_type": "code",
   "execution_count": 8,
   "metadata": {},
   "outputs": [
    {
     "name": "stderr",
     "output_type": "stream",
     "text": [
      "Warning in <TCanvas::Constructor>: Deleting canvas with same name: c\n",
      "Info in <TCanvas::Print>: png file /nfshome/jmao/cms-llp/plots/20190506/JetTime_leading_subleading.png has been created\n",
      "Info in <TCanvas::Print>: pdf file /nfshome/jmao/cms-llp/plots/20190506/JetTime_leading_subleading.pdf has been created\n"
     ]
    },
    {
     "data": {
      "image/png": "[encoded data removed]",
      "text/plain": [
       "<IPython.core.display.Image object>"
      ]
     },
     "metadata": {},
     "output_type": "display_data"
    }
   ],
   "source": [
    "# plot leading n subleading jet time\n",
    "c = rt.TCanvas('c','c', 800, 600)\n",
    "leg = rt.TLegend(0.62,0.68,0.95,0.90);\n",
    "leg.SetTextSize(0.03)\n",
    "rt.gStyle.SetOptStat(0000)\n",
    "i = 0\n",
    "\n",
    " \n",
    "ht0.SetLineStyle(1)\n",
    "ht0.SetLineColor(std_color_list[i])\n",
    "ht0.SetMarkerColor(std_color_list[i])\n",
    "\n",
    "ht1.SetLineStyle(7)\n",
    "ht1.SetLineColor(std_color_list[i+1])\n",
    "ht1.SetMarkerColor(std_color_list[i+1])\n",
    "\n",
    "\n",
    "leg.AddEntry(ht0,HT+' Leading Jet')\n",
    "leg.AddEntry(ht1,HT+' Subleading Jet')\n",
    "leg.SetBorderSize(0)\n",
    "#h[k].GetYaxis().SetRangeUser(0,500)\n",
    "ht0.DrawNormalized('')\n",
    "ht1.DrawNormalized('same')\n",
    " \n",
    "leg.Draw()\n",
    "c.SetLogy()\n",
    "c.Draw()\n",
    "c.SaveAs(out_dir+'JetTime_leading_subleading.png')\n",
    "c.SaveAs(out_dir+'JetTime_leading_subleading.pdf')"
   ]
  },
  {
   "cell_type": "code",
   "execution_count": 9,
   "metadata": {},
   "outputs": [
    {
     "name": "stderr",
     "output_type": "stream",
     "text": [
      "Warning in <TCanvas::Constructor>: Deleting canvas with same name: c\n",
      "Info in <TCanvas::Print>: png file /nfshome/jmao/cms-llp/plots/20190506/JetTime_leading_subleading_all.png has been created\n",
      "Info in <TCanvas::Print>: pdf file /nfshome/jmao/cms-llp/plots/20190506/JetTime_leading_subleading_all.pdf has been created\n"
     ]
    },
    {
     "data": {
      "image/png": "[encoded data removed]",
      "text/plain": [
       "<IPython.core.display.Image object>"
      ]
     },
     "metadata": {},
     "output_type": "display_data"
    }
   ],
   "source": [
    "# plot leading n subleading jet time\n",
    "c = rt.TCanvas('c','c', 800, 600)\n",
    "#h = {}\n",
    "leg = rt.TLegend(0.62,0.68,0.95,0.90);\n",
    "leg.SetTextSize(0.03)\n",
    "rt.gStyle.SetOptStat(0000)\n",
    "i = 0\n",
    "\n",
    "\n",
    "\n",
    "\n",
    "ht0.SetLineStyle(1)\n",
    "ht0.SetLineColor(std_color_list[i])\n",
    "ht0.SetMarkerColor(std_color_list[i])\n",
    "\n",
    "ht1.SetLineStyle(7)\n",
    "ht1.SetLineColor(std_color_list[i+1])\n",
    "ht1.SetMarkerColor(std_color_list[i+1])\n",
    "\n",
    "ht.SetLineStyle(9)\n",
    "ht.SetLineColor(std_color_list[i+2])\n",
    "ht.SetFillColorAlpha(std_color_list[i+2],0.2)\n",
    "ht.SetMarkerColor(std_color_list[i+2])\n",
    "\n",
    "\n",
    "leg.AddEntry(ht0,HT+' Leading Jet')\n",
    "leg.AddEntry(ht1,HT+' Subleading Jet')\n",
    "leg.AddEntry(ht,HT+' All Jet')\n",
    "leg.SetBorderSize(0)\n",
    "#h[k].GetYaxis().SetRangeUser(0,500)\n",
    "ht0.DrawNormalized('')\n",
    "ht1.DrawNormalized('same')\n",
    "ht.DrawNormalized('same')\n",
    " \n",
    "leg.Draw()\n",
    "c.SetLogy()\n",
    "c.Draw()\n",
    "c.SaveAs(out_dir+'JetTime_leading_subleading_all.png')\n",
    "c.SaveAs(out_dir+'JetTime_leading_subleading_all.pdf')"
   ]
  },
  {
   "cell_type": "code",
   "execution_count": 10,
   "metadata": {},
   "outputs": [
    {
     "name": "stderr",
     "output_type": "stream",
     "text": [
      "Warning in <TCanvas::Constructor>: Deleting canvas with same name: c\n",
      "Warning in <TROOT::Append>: Replacing existing TH1: HT50toInf (Potential memory leak).\n",
      "Info in <TCanvas::Print>: png file /nfshome/jmao/cms-llp/plots/20190506/JetPt_leading.png has been created\n",
      "Info in <TCanvas::Print>: pdf file /nfshome/jmao/cms-llp/plots/20190506/JetPt_leading.pdf has been created\n"
     ]
    },
    {
     "data": {
      "image/png": "[encoded data removed]",
      "text/plain": [
       "<IPython.core.display.Image object>"
      ]
     },
     "metadata": {},
     "output_type": "display_data"
    }
   ],
   "source": [
    "# plot leading jet pt\n",
    "c = rt.TCanvas('c','c', 800, 600)\n",
    "leg = rt.TLegend(0.62,0.68,0.95,0.90);\n",
    "leg.SetTextSize(0.03)\n",
    "rt.gStyle.SetOptStat(0000)\n",
    "i = 0\n",
    "\n",
    "\n",
    "jetTime = tree['jetTime'].array()\n",
    "jetPt = tree['jetPt'].array()\n",
    "pt = jetPt[:,0]\n",
    "h0 = create_TH1D( pt, axis_title=['jetPt [GeV]', 'fraction of events'], name=HT, binning=[50,0,1500], weights = weight)\n",
    "h0.SetLineColor(std_color_list[i])\n",
    "h0.SetMarkerColor(std_color_list[i])\n",
    "\n",
    "\n",
    "leg.AddEntry(h0,HT)\n",
    "leg.SetBorderSize(0)\n",
    "#h[k].GetYaxis().SetRangeUser(0,500)\n",
    "h0.DrawNormalized('')\n",
    "\n",
    "leg.Draw()\n",
    "c.SetLogy()\n",
    "c.Draw()\n",
    "c.SaveAs(out_dir+'JetPt_leading.png')\n",
    "c.SaveAs(out_dir+'JetPt_leading.pdf')"
   ]
  },
  {
   "cell_type": "code",
   "execution_count": 11,
   "metadata": {},
   "outputs": [
    {
     "name": "stderr",
     "output_type": "stream",
     "text": [
      "Warning in <TCanvas::Constructor>: Deleting canvas with same name: c\n",
      "Warning in <TROOT::Append>: Replacing existing TH1: HT50toInf (Potential memory leak).\n",
      "Info in <TCanvas::Print>: png file /nfshome/jmao/cms-llp/plots/20190506/JetPt_subleading.png has been created\n",
      "Info in <TCanvas::Print>: pdf file /nfshome/jmao/cms-llp/plots/20190506/JetPt_subleading.pdf has been created\n"
     ]
    },
    {
     "data": {
      "image/png": "[encoded data removed]",
      "text/plain": [
       "<IPython.core.display.Image object>"
      ]
     },
     "metadata": {},
     "output_type": "display_data"
    }
   ],
   "source": [
    "# plot subleading jet pt\n",
    "c = rt.TCanvas('c','c', 800, 600)\n",
    "leg = rt.TLegend(0.62,0.68,0.95,0.90);\n",
    "leg.SetTextSize(0.03)\n",
    "rt.gStyle.SetOptStat(0000)\n",
    "i = 0\n",
    "\n",
    "\n",
    " \n",
    "jetTime = tree['jetTime'].array()\n",
    "jetPt = tree['jetPt'].array()\n",
    "pt = jetPt[:,1]\n",
    "h1 = create_TH1D( pt, axis_title=['jetPt [GeV]', 'fraction of events'], name=HT, binning=[50,0,1500], weights =weight)\n",
    "h1.SetLineColor(std_color_list[i])\n",
    "h1.SetMarkerColor(std_color_list[i])\n",
    "\n",
    "\n",
    "leg.AddEntry(h1,HT)\n",
    "leg.SetBorderSize(0)\n",
    "#h[k].GetYaxis().SetRangeUser(0,500)\n",
    "h1.DrawNormalized('')\n",
    " \n",
    "leg.Draw()\n",
    "c.SetLogy()\n",
    "c.Draw()\n",
    "c.SaveAs(out_dir+'JetPt_subleading.png')\n",
    "c.SaveAs(out_dir+'JetPt_subleading.pdf')"
   ]
  },
  {
   "cell_type": "code",
   "execution_count": 12,
   "metadata": {},
   "outputs": [
    {
     "name": "stderr",
     "output_type": "stream",
     "text": [
      "Warning in <TCanvas::Constructor>: Deleting canvas with same name: c\n",
      "Info in <TCanvas::Print>: png file /nfshome/jmao/cms-llp/plots/20190506/JetPt_leading_subleading.png has been created\n",
      "Info in <TCanvas::Print>: pdf file /nfshome/jmao/cms-llp/plots/20190506/JetPt_leading_subleading.pdf has been created\n"
     ]
    },
    {
     "data": {
      "image/png": "[encoded data removed]",
      "text/plain": [
       "<IPython.core.display.Image object>"
      ]
     },
     "metadata": {},
     "output_type": "display_data"
    }
   ],
   "source": [
    "# plot leading n subleading jet pt\n",
    "c = rt.TCanvas('c','c', 800, 600)\n",
    "leg = rt.TLegend(0.62,0.68,0.95,0.90);\n",
    "leg.SetTextSize(0.03)\n",
    "rt.gStyle.SetOptStat(0000)\n",
    "i = 0\n",
    "\n",
    "\n",
    "h0.SetLineStyle(1)\n",
    "h0.SetLineColor(std_color_list[i])\n",
    "h0.SetMarkerColor(std_color_list[i])\n",
    "\n",
    "h1.SetLineStyle(7)\n",
    "h1.SetLineColor(std_color_list[i+1])\n",
    "h1.SetMarkerColor(std_color_list[i])\n",
    "\n",
    "\n",
    "#leg.AddEntry(h0[k],k+' Leading Jet')\n",
    "#leg.AddEntry(h1[k],k+' Subleading Jet')\n",
    "leg.SetBorderSize(0)\n",
    "#h[k].GetYaxis().SetRangeUser(0,500)\n",
    "h0.DrawNormalized('')\n",
    "h1.DrawNormalized('same')\n",
    "leg.AddEntry(h0,HT+' Leading Jet')\n",
    "leg.AddEntry(h1,HT+' Subleading Jet')\n",
    " \n",
    "leg.Draw()\n",
    "c.SetLogy()\n",
    "c.Draw()\n",
    "c.SaveAs(out_dir+'JetPt_leading_subleading.png')\n",
    "c.SaveAs(out_dir+'JetPt_leading_subleading.pdf')"
   ]
  },
  {
   "cell_type": "code",
   "execution_count": 13,
   "metadata": {},
   "outputs": [
    {
     "name": "stderr",
     "output_type": "stream",
     "text": [
      "Warning in <TCanvas::Constructor>: Deleting canvas with same name: c\n",
      "Warning in <TROOT::Append>: Replacing existing TH1: HT50toInf (Potential memory leak).\n",
      "Info in <TCanvas::Print>: png file /nfshome/jmao/cms-llp/plots/20190506/JetPt_all.png has been created\n",
      "Info in <TCanvas::Print>: pdf file /nfshome/jmao/cms-llp/plots/20190506/JetPt_all.pdf has been created\n"
     ]
    },
    {
     "data": {
      "image/png": "[encoded data removed]",
      "text/plain": [
       "<IPython.core.display.Image object>"
      ]
     },
     "metadata": {},
     "output_type": "display_data"
    }
   ],
   "source": [
    " # plot subleading jet pt\n",
    "c = rt.TCanvas('c','c', 800, 600)\n",
    "hpt = {}\n",
    "leg = rt.TLegend(0.62,0.68,0.95,0.90);\n",
    "leg.SetTextSize(0.03)\n",
    "rt.gStyle.SetOptStat(0000)\n",
    "i = 0\n",
    "\n",
    "\n",
    "jetTime = tree['jetTime'].array()\n",
    "jetPt = tree['jetPt'].array()\n",
    "pt = jetPt.flatten()\n",
    "hpt = create_TH1D( pt, axis_title=['jetPt [GeV]', 'fraction of events'], name=HT, binning=[50,0,1500], weights = flat_weight)\n",
    "hpt.SetLineColor(std_color_list[i])\n",
    "hpt.SetMarkerColor(std_color_list[i])\n",
    "\n",
    "\n",
    "leg.AddEntry(hpt,HT)\n",
    "leg.SetBorderSize(0)\n",
    "#h[k].GetYaxis().SetRangeUser(0,500)\n",
    "\n",
    "hpt.DrawNormalized('')\n",
    "\n",
    "leg.Draw()\n",
    "c.SetLogy()\n",
    "c.Draw()\n",
    "c.SaveAs(out_dir+'JetPt_all.png')\n",
    "c.SaveAs(out_dir+'JetPt_all.pdf')"
   ]
  },
  {
   "cell_type": "code",
   "execution_count": 14,
   "metadata": {},
   "outputs": [
    {
     "name": "stderr",
     "output_type": "stream",
     "text": [
      "Warning in <TCanvas::Constructor>: Deleting canvas with same name: c\n",
      "Info in <TCanvas::Print>: png file /nfshome/jmao/cms-llp/plots/20190506/JetPt_leading_subleading_all.png has been created\n",
      "Info in <TCanvas::Print>: pdf file /nfshome/jmao/cms-llp/plots/20190506/JetPt_leading_subleading_all.pdf has been created\n"
     ]
    },
    {
     "data": {
      "image/png": "[encoded data removed]",
      "text/plain": [
       "<IPython.core.display.Image object>"
      ]
     },
     "metadata": {},
     "output_type": "display_data"
    }
   ],
   "source": [
    "# plot leading n subleading n all jet pt\n",
    " \n",
    "c = rt.TCanvas('c','c', 800, 600)\n",
    "leg = rt.TLegend(0.62,0.68,0.95,0.90);\n",
    "leg.SetTextSize(0.03)\n",
    "rt.gStyle.SetOptStat(0000)\n",
    "i = 0\n",
    "\n",
    "\n",
    "h0.SetLineStyle(1)\n",
    "h0.SetLineColor(std_color_list[i])\n",
    "h0.SetMarkerColor(std_color_list[i])\n",
    "\n",
    "h1.SetLineStyle(7)\n",
    "h1.SetLineColor(std_color_list[i+1])\n",
    "h1.SetMarkerColor(std_color_list[i])\n",
    "\n",
    "hpt.SetLineStyle(9)\n",
    "hpt.SetLineColor(std_color_list[i+2])\n",
    "hpt.SetMarkerColor(std_color_list[2])\n",
    "\n",
    "\n",
    "#leg.AddEntry(h0[k],k+' Leading Jet')\n",
    "#leg.AddEntry(h1[k],k+' Subleading Jet')\n",
    "leg.SetBorderSize(0)\n",
    "#h[k].GetYaxis().SetRangeUser(0,500)\n",
    "h0.DrawNormalized('')\n",
    "h1.DrawNormalized('same')\n",
    "hpt.DrawNormalized('same')\n",
    "leg.AddEntry(h0,HT+' Leading Jet')\n",
    "leg.AddEntry(h1,HT+' Subleading Jet')\n",
    "leg.AddEntry(hpt,HT+' All Jet')\n",
    " \n",
    "leg.Draw()\n",
    "c.SetLogy()\n",
    "c.Draw()\n",
    "c.SaveAs(out_dir+'JetPt_leading_subleading_all.png')\n",
    "c.SaveAs(out_dir+'JetPt_leading_subleading_all.pdf') "
   ]
  },
  {
   "cell_type": "code",
   "execution_count": 15,
   "metadata": {},
   "outputs": [
    {
     "name": "stderr",
     "output_type": "stream",
     "text": [
      "Warning in <TCanvas::Constructor>: Deleting canvas with same name: c\n",
      "Info in <TCanvas::Print>: png file /nfshome/jmao/cms-llp/plots/20190506/JetPt_leading_subleading_all_small.png has been created\n",
      "Info in <TCanvas::Print>: png file /nfshome/jmao/cms-llp/plots/20190506/JetPt_leading_subleading_all_small.png has been created\n"
     ]
    },
    {
     "data": {
      "image/png": "[encoded data removed]",
      "text/plain": [
       "<IPython.core.display.Image object>"
      ]
     },
     "metadata": {},
     "output_type": "display_data"
    }
   ],
   "source": [
    "\n",
    "# plot leading n subleading n all jet pt\n",
    " \n",
    "c = rt.TCanvas('c','c', 800, 600)\n",
    "leg = rt.TLegend(0.62,0.68,0.95,0.90);\n",
    "leg.SetTextSize(0.03)\n",
    "rt.gStyle.SetOptStat(0000)\n",
    "i = 0\n",
    "\n",
    "\n",
    "h0.SetLineStyle(1)\n",
    "h0.SetLineColor(std_color_list[i])\n",
    "h0.SetMarkerColor(std_color_list[i])\n",
    "\n",
    "h1.SetLineStyle(7)\n",
    "h1.SetLineColor(std_color_list[i+1])\n",
    "h1.SetMarkerColor(std_color_list[i])\n",
    "\n",
    "hpt.SetLineStyle(9)\n",
    "hpt.SetLineColor(std_color_list[i+2])\n",
    "hpt.SetMarkerColor(std_color_list[2])\n",
    "\n",
    "\n",
    "#leg.AddEntry(h0[k],k+' Leading Jet')\n",
    "#leg.AddEntry(h1[k],k+' Subleading Jet')\n",
    "leg.SetBorderSize(0)\n",
    "#h[k].GetYaxis().SetRangeUser(0,500)\n",
    "h0.GetXaxis().SetRangeUser(0,200)\n",
    "h0.DrawNormalized('')\n",
    "h1.DrawNormalized('same')\n",
    "hpt.DrawNormalized('same')\n",
    "leg.AddEntry(h0,HT+' Leading Jet')\n",
    "leg.AddEntry(h1,HT+' Subleading Jet')\n",
    "leg.AddEntry(hpt,HT+' All Jet')\n",
    " \n",
    "leg.Draw()\n",
    "c.SetLogy()\n",
    "c.Draw()\n",
    "c.SaveAs(out_dir+'JetPt_leading_subleading_all_small.png')\n",
    "c.SaveAs(out_dir+'JetPt_leading_subleading_all_small.png')\n",
    " \n",
    "\n",
    " "
   ]
  },
  {
   "cell_type": "code",
   "execution_count": 14,
   "metadata": {},
   "outputs": [
    {
     "name": "stdout",
     "output_type": "stream",
     "text": [
      "(2220768,) (2220767,) (55945,)\n"
     ]
    },
    {
     "name": "stderr",
     "output_type": "stream",
     "text": [
      "/home/maojiajing/.local/lib/python2.7/site-packages/ipykernel_launcher.py:23: RuntimeWarning: invalid value encountered in greater\n",
      "Warning in <TCanvas::Constructor>: Deleting canvas with same name: c\n"
     ]
    }
   ],
   "source": [
    " # plot jet time\n",
    "c = rt.TCanvas('c','c', 800, 600)\n",
    "leg = rt.TLegend(0.62,0.68,0.95,0.90);\n",
    "leg.SetTextSize(0.03)\n",
    "rt.gStyle.SetOptStat(0000)\n",
    "i = 0\n",
    "\n",
    "\n",
    "#pt ranges\n",
    "pt_range = [[40,60],[60,80],[80,100]]\n",
    "#time cuts\n",
    "\n",
    "\n",
    "jetTime = tree['jetTime'].array()\n",
    "jetPt = tree['jetPt'].array()\n",
    "#print len(jetTime)\n",
    "t = jetTime.flatten()\n",
    "pt = jetPt.flatten()\n",
    "#test cut\n",
    "#cut = 'pt>20'\n",
    "cutted_t = t[pt>20]\n",
    "cut_weight = flat_weight[pt>20]\n",
    "print t.shape, cutted_t.shape, cutted_t[cutted_t>1].shape\n",
    "#cutted_t = np.logical_and(pt>-20, t>-1)\n",
    "#count = np.count_nonzero(cutted_met) \n",
    "#print count\n",
    "#print len(t)"
   ]
  },
  {
   "cell_type": "code",
   "execution_count": 17,
   "metadata": {
    "scrolled": false
   },
   "outputs": [
    {
     "name": "stdout",
     "output_type": "stream",
     "text": [
      "pt in [80, 100] GeV\n",
      "[1.000168227641395, 1.0003418262890034, 1.000863330159337, 1.0028242197218686, 1.0236664500514827, 1.051373493706813, 1.122688335533793, 1.2959380933247673, 1.692596255245036, 2.6011080487045644, 4.76425025876004, 9.910434670385051, 21.058864218714692, 41.19613321554956, 71.6158829812176, 429.5431165138045, 1649.1909775338193, 5019.388168705495, 11278.436512820514]\n",
      "pt in [60, 80] GeV\n",
      "[1.000209865354096, 1.000432639372663, 1.0011556185967072, 1.0041572241465386, 1.0364790742632366, 1.0725382920304252, 1.1541838472937407, 1.3338355020865635, 1.7144004798559882, 2.5184434726155285, 4.23496201569566, 7.8187423093208155, 14.7473477430699, 26.65134895217311, 44.95899387962072, 297.63658758869906, 1230.2184991446243, 3798.8237415553413, 8946.936595286517]\n",
      "1\n",
      "pt in [40, 60] GeV\n",
      "[1.0003300040349656, 1.0007231517360264, 1.0020604454654274, 1.0079830443608022, 1.062136573046816, 1.110030496315752, 1.2042748426136332, 1.389085166009526, 1.7438720704393174, 2.4185315157955563, 3.683508968865557, 5.966883388487959, 9.849004333240133, 16.0031580572639, 25.219604810465967, 162.62554319503897, 715.8817802589942, 2310.938048124586, 5571.498548480743]\n",
      "2\n"
     ]
    },
    {
     "name": "stderr",
     "output_type": "stream",
     "text": [
      "Warning in <TCanvas::Constructor>: Deleting canvas with same name: c\n",
      "Info in <TCanvas::Print>: png file /nfshome/jmao/cms-llp/plots/20190506/RejectionPower_PtBins.png has been created\n",
      "Info in <TCanvas::Print>: pdf file /nfshome/jmao/cms-llp/plots/20190506/RejectionPower_PtBins.pdf has been created\n"
     ]
    },
    {
     "data": {
      "image/png": "[encoded data removed]",
      "text/plain": [
       "<IPython.core.display.Image object>"
      ]
     },
     "metadata": {},
     "output_type": "display_data"
    }
   ],
   "source": [
    " # plot jet time\n",
    "#pt ranges\n",
    "#pt_range = [[60,80],[80,100]]\n",
    "pt_range = [[80,100],[60,80],[40,60]]\n",
    "#time cuts\n",
    "t_cuts = [-5.,-4.,-3.,-2.,-1.,-0.8,-0.6,-0.4,-0.2,0.,0.2,0.4,0.6,0.8,1.,2.,3.,4.,5.]\n",
    "#print len(t_cuts)\n",
    "\n",
    "jetTime = tree['jetTime'].array()\n",
    "jetPt = tree['jetPt'].array()\n",
    "weight = tree['weight'].array()\n",
    "# print 'Time',jetTime[:3]\n",
    "# print 'Pt',jetPt[:3]\n",
    "# print 'Weight',weight[:3]\n",
    "\n",
    "jetTime_v = jetTime[np.logical_not(np.isnan(jetTime))]\n",
    "jetPt_v = jetPt[np.logical_not(np.isnan(jetTime))]\n",
    "#weight_v = weight[np.logical_not(np.isnan(jetTime))]\n",
    "# print 'Time',jetTime_v[:3]\n",
    "# print 'Pt',jetPt_v[:3]\n",
    "#print 'Weight',weight_v[:3]\n",
    "\n",
    "flat_weight_v = []\n",
    "sizes = [len(x) for x in jetTime_v]\n",
    "for j, (n, val) in enumerate(zip(sizes, weight)):\n",
    "#         print j, n\n",
    "#         print val\n",
    "#         print n*[val]\n",
    "        flat_weight_v += n*[val]\n",
    "#         print flat_weight_v\n",
    "#         if j>4 : \n",
    "#             break\n",
    "flat_weight_v = np.array(flat_weight_v)\n",
    "\n",
    "t_v = jetTime_v.flatten()\n",
    "pt_v = jetPt_v.flatten()\n",
    "#print 'Valid ones',t_v.shape, pt_v.shape, flat_weight_v.shape\n",
    "#print 'Inclusive',t.shape, pt.shape, flat_weight.shape\n",
    "\n",
    "\n",
    "#test cut\n",
    "#cut = 'pt>20'\n",
    "#cutted_t = t[pt>40]\n",
    "#cut_weight = flat_weight[pt>20]\n",
    "#print t.shape, cutted_t.shape, cutted_t[cutted_t>1].shape\n",
    " \n",
    "Power_rej = {}\n",
    "    \n",
    "for m,n in enumerate(pt_range):\n",
    "    #print m,n, n[0], n[1]\n",
    "    ptcut_string = np.logical_and( pt_v > n[0], pt_v < n[1])\n",
    "    ptcutted_t_v = t_v[ptcut_string]\n",
    "    #print t_v.shape, t_v[np.logical_and(pt_v>n[0],pt_v<n[1])].shape, ptcutted_t_v.shape \n",
    "    #print 'pt range = [',n[0],',',n[1],'] GeV, after pt cut ',ptcutted_t_v.shape\n",
    "    Ntotal = ptcutted_t_v.shape[0]\n",
    "    #print Ntotal\n",
    "    Power_rej[m] = []\n",
    "    for p, q in enumerate(t_cuts):\n",
    "        #print p, q\n",
    "        tcut_string = np.logical_and(ptcut_string,t_v > q)\n",
    "        #ptcutted_t_v = ptcutted_t_v.flatten()\n",
    "        cutted_t_v =  t_v[tcut_string]\n",
    "        #cutted_t_v = cutted_t_v.flatten()\n",
    "        Nsel = cutted_t_v.shape[0]\n",
    "        Nrej = 1.*Ntotal - 1.*Nsel\n",
    "        Prej = 1.0*Ntotal/Nsel\n",
    "        #Prej = Ntotal/Nrej\n",
    "        #print 'after time cut > ',q,' ns ',cutted_t_v.shape, ', rejection power = ', Prej\n",
    "        Power_rej[m] += [Prej]\n",
    "        #print Power_rej[m]\n",
    "        #, t_v[np.logical_and(np.logical_and( pt_v > n[0], pt_v < n[1]),t_cuts > q)].shape\n",
    "    #Power_rej[m] = np.array(Power_rej[m]) \n",
    "    #print 'Rejection power',Power_rej[m]\n",
    "    #print Power_rej[m].shape\n",
    "        \n",
    "\n",
    "#make plot\n",
    "c = rt.TCanvas('c','c', 800, 600)\n",
    "leg = rt.TLegend(0.22,0.68,0.55,0.90);\n",
    "leg.SetTextSize(0.03)\n",
    "rt.gStyle.SetOptStat(0000)\n",
    "i = 0\n",
    "\n",
    "hrej = {}\n",
    "\n",
    "for m,n in enumerate(pt_range):\n",
    "#     if i==1 :\n",
    "\n",
    "    pt_string = 'pt in [' + str(n[0]) + ', ' + str(n[1]) + '] GeV'\n",
    "    name_string = 'pt_' + str(n[0]) + '_' + str(n[1])  \n",
    "    print(pt_string)\n",
    "    power = Power_rej[m]\n",
    "    print(power)\n",
    "    num = len(Power_rej[m])\n",
    "    #print num, t_cuts, power\n",
    "    t_cuts = np.array(t_cuts) \n",
    "    power = np.array(Power_rej[m]) \n",
    "    #print num, t_cuts, power\n",
    "    hrej[m] = rt.TGraph(num , t_cuts, power)\n",
    "\n",
    "    #print num, t_cuts, power\n",
    "    hrej[m].SetLineColor(std_color_list[i])\n",
    "    hrej[m].SetMarkerColor(std_color_list[i])\n",
    "    hrej[m].SetMarkerStyle(22+i)\n",
    "#     hrej[m].SetMarkerSize(2)\n",
    "\n",
    "\n",
    "    leg.AddEntry(hrej[m],pt_string)\n",
    "    leg.SetBorderSize(0)\n",
    "        #hrej[m].GetYaxis().SetRangeUser(0,1000)\n",
    "\n",
    "    if i==0 :\n",
    "        #hrej[m].GetYaxis().SetRangeUser(0,1000)\n",
    "        hrej[m].SetTitle( 'Rejection Power' )\n",
    "        hrej[m].GetXaxis().SetTitle( 'Time Cut [ns]' )\n",
    "        #hrej[m].GetXaxis().SetRangeUser(-10,10)\n",
    "        hrej[m].GetYaxis().SetRangeUser(0,1000)\n",
    "        hrej[m].GetYaxis().SetTitle( 'Rejection Power' )\n",
    "        hrej[m].Draw('APL')\n",
    "    else:\n",
    "        print(i)\n",
    "        hrej[m].Draw('PLsame')\n",
    "        \n",
    "    i+=1\n",
    "\n",
    "leg.Draw()\n",
    "c.SetLogy()\n",
    "c.Draw()\n",
    "c.SaveAs(out_dir+'RejectionPower_PtBins.png')\n",
    "c.SaveAs(out_dir+'RejectionPower_PtBins.pdf')\n"
   ]
  },
  {
   "cell_type": "code",
   "execution_count": 19,
   "metadata": {
    "scrolled": false
   },
   "outputs": [
    {
     "name": "stdout",
     "output_type": "stream",
     "text": [
      "[4.2758566e-06 1.0127239e-05 1.1433644e-04 1.9260001e-04 5.0959305e-04\n",
      " 6.3736360e-03 3.2338642e-02 3.6736554e-01 5.9467010e+01]\n",
      "unique weights after pt cut [4.2758566e-06 1.0127239e-05 1.1433644e-04 1.9260001e-04 5.0959305e-04\n",
      " 6.3736360e-03 3.2338642e-02 3.6736554e-01 5.9467010e+01]\n",
      "54982378 1385650.6\n",
      "[1.000168227641395, 1.0003418262890034, 1.000863330159337, 1.0028242197218686, 1.0236664500514827, 1.051373493706813, 1.122688335533793, 1.2959380933247673, 1.692596255245036, 2.6011080487045644, 4.76425025876004, 9.910434670385051, 21.058864218714692, 41.19613321554956, 71.6158829812176, 429.5431165138045, 1649.1909775338193, 5019.388168705495, 11278.436512820514]\n",
      "[1.0001533810829697, 1.0003217935541846, 1.0008142694606248, 1.003073320000894, 1.025276363983119, 1.0533237045712074, 1.125040481932651, 1.302240952529643, 1.70694715413979, 2.6264439991958515, 4.811080688273452, 9.87341487471249, 20.204596232805592, 38.68697913633396, 65.84354965753059, 394.5742703056846, 1541.5040829403554, 5612.905997576456, 13220.772986470873]\n",
      "unique weights after pt cut [4.2758566e-06 1.0127239e-05 1.1433644e-04 1.9260001e-04 5.0959305e-04\n",
      " 6.3736360e-03 3.2338642e-02 3.6736554e-01 5.9467010e+01]\n",
      "74787443 4678280.5\n",
      "[1.000209865354096, 1.000432639372663, 1.0011556185967072, 1.0041572241465386, 1.0364790742632366, 1.0725382920304252, 1.1541838472937407, 1.3338355020865635, 1.7144004798559882, 2.5184434726155285, 4.23496201569566, 7.8187423093208155, 14.7473477430699, 26.65134895217311, 44.95899387962072, 297.63658758869906, 1230.2184991446243, 3798.8237415553413, 8946.936595286517]\n",
      "[1.0002043903517919, 1.0004719771834212, 1.0013472857153254, 1.0046692413977938, 1.040087546198639, 1.0781549813627265, 1.1618339808240592, 1.3432985002575242, 1.7273667553344436, 2.5252458161593085, 4.207575362561772, 7.646801240446669, 14.06843252047373, 24.76731795488974, 40.955138379037464, 267.96094961434346, 1075.1351464414488, 3470.4848400439955, 6847.30896277255]\n",
      "unique weights after pt cut [4.2758566e-06 1.0127239e-05 1.1433644e-04 1.9260001e-04 5.0959305e-04\n",
      " 6.3736360e-03 3.2338642e-02 3.6736554e-01 5.9467010e+01]\n",
      "115151732 21389550.0\n",
      "[1.0003300040349656, 1.0007231517360264, 1.0020604454654274, 1.0079830443608022, 1.062136573046816, 1.110030496315752, 1.2042748426136332, 1.389085166009526, 1.7438720704393174, 2.4185315157955563, 3.683508968865557, 5.966883388487959, 9.849004333240133, 16.0031580572639, 25.219604810465967, 162.62554319503897, 715.8817802589942, 2310.938048124586, 5571.498548480743]\n",
      "[1.0003804238222576, 1.0008534806710492, 1.002418884375696, 1.0094000290698224, 1.0694510845582115, 1.120468802694965, 1.2184377260409032, 1.4063775666026497, 1.7606708239347286, 2.4210839077727595, 3.620650737217408, 5.736146589384835, 9.237756745615375, 14.708361404901549, 22.89825597850152, 145.90431649078752, 660.9836198554442, 2033.9144420383254, 4684.279979781132]\n",
      "pt in [80, 100] GeV\n",
      "[1.0001533810829697, 1.0003217935541846, 1.0008142694606248, 1.003073320000894, 1.025276363983119, 1.0533237045712074, 1.125040481932651, 1.302240952529643, 1.70694715413979, 2.6264439991958515, 4.811080688273452, 9.87341487471249, 20.204596232805592, 38.68697913633396, 65.84354965753059, 394.5742703056846, 1541.5040829403554, 5612.905997576456, 13220.772986470873]\n",
      "pt in [60, 80] GeV\n",
      "[1.0002043903517919, 1.0004719771834212, 1.0013472857153254, 1.0046692413977938, 1.040087546198639, 1.0781549813627265, 1.1618339808240592, 1.3432985002575242, 1.7273667553344436, 2.5252458161593085, 4.207575362561772, 7.646801240446669, 14.06843252047373, 24.76731795488974, 40.955138379037464, 267.96094961434346, 1075.1351464414488, 3470.4848400439955, 6847.30896277255]\n",
      "1\n",
      "pt in [40, 60] GeV\n",
      "[1.0003804238222576, 1.0008534806710492, 1.002418884375696, 1.0094000290698224, 1.0694510845582115, 1.120468802694965, 1.2184377260409032, 1.4063775666026497, 1.7606708239347286, 2.4210839077727595, 3.620650737217408, 5.736146589384835, 9.237756745615375, 14.708361404901549, 22.89825597850152, 145.90431649078752, 660.9836198554442, 2033.9144420383254, 4684.279979781132]\n",
      "2\n"
     ]
    },
    {
     "name": "stderr",
     "output_type": "stream",
     "text": [
      "Warning in <TCanvas::Constructor>: Deleting canvas with same name: c\n",
      "Info in <TCanvas::Print>: png file /nfshome/jmao/cms-llp/plots/20190506/RejectionPower_w_PtBins.png has been created\n",
      "Info in <TCanvas::Print>: pdf file /nfshome/jmao/cms-llp/plots/20190506/RejectionPower_w_PtBins.pdf has been created\n"
     ]
    },
    {
     "data": {
      "image/png": "[encoded data removed]",
      "text/plain": [
       "<IPython.core.display.Image object>"
      ]
     },
     "metadata": {},
     "output_type": "display_data"
    }
   ],
   "source": [
    " # plot jet time rejection power w/ weight\n",
    "#pt ranges\n",
    "#pt_range = [[60,80],[80,100]]\n",
    "pt_range = [[80,100],[60,80],[40,60]]\n",
    "#time cuts\n",
    "t_cuts = [-5.,-4.,-3.,-2.,-1.,-0.8,-0.6,-0.4,-0.2,0.,0.2,0.4,0.6,0.8,1.,2.,3.,4.,5.]\n",
    "#print len(t_cuts)\n",
    "\n",
    "jetTime = tree['jetTime'].array()\n",
    "jetPt = tree['jetPt'].array()\n",
    "weight = tree['weight'].array()\n",
    "print(np.unique(weight))\n",
    "# print 'Time',jetTime[:3]\n",
    "# print 'Pt',jetPt[:3]\n",
    "# print 'Weight',weight[:3]\n",
    "\n",
    "jetTime_v = jetTime[np.logical_not(np.isnan(jetTime))]\n",
    "jetPt_v = jetPt[np.logical_not(np.isnan(jetTime))]\n",
    "#weight_v = weight[np.logical_not(np.isnan(jetTime))]\n",
    "# print 'Time',jetTime_v[:3]\n",
    "# print 'Pt',jetPt_v[:3]\n",
    "#print 'Weight',weight_v[:3]\n",
    "\n",
    "flat_weight_v = []\n",
    "sizes = [len(x) for x in jetTime_v]\n",
    "for j, (n, val) in enumerate(zip(sizes, weight)):\n",
    "#         print j, n\n",
    "#         print val\n",
    "#         print n*[val]\n",
    "        flat_weight_v += n*[val]\n",
    "#         print flat_weight_v\n",
    "#         if j>4 : \n",
    "#             break\n",
    "flat_weight_v = np.array(flat_weight_v)\n",
    "\n",
    "t_v = jetTime_v.flatten()\n",
    "pt_v = jetPt_v.flatten()\n",
    "#print 'Valid ones',t_v.shape, pt_v.shape, flat_weight_v.shape\n",
    "#print 'Inclusive',t.shape, pt.shape, flat_weight.shape\n",
    "\n",
    "\n",
    "#test cut\n",
    "#cut = 'pt>20'\n",
    "#cutted_t = t[pt>40]\n",
    "#cut_weight = flat_weight[pt>20]\n",
    "#print t.shape, cutted_t.shape, cutted_t[cutted_t>1].shape\n",
    " \n",
    "Power_rej = {}\n",
    "Power_rej_w = {}\n",
    "    \n",
    "for m,n in enumerate(pt_range):\n",
    "    #print m,n, n[0], n[1]\n",
    "    ptcut_string = np.logical_and( pt_v > n[0], pt_v < n[1])\n",
    "    ptcutted_t_v = t_v[ptcut_string]\n",
    "    ptcutted_w_v = flat_weight_v[ptcut_string]\n",
    "    #print t_v.shape, t_v[np.logical_and(pt_v>n[0],pt_v<n[1])].shape, ptcutted_t_v.shape \n",
    "    #print 'pt range = [',n[0],',',n[1],'] GeV, after pt cut ',ptcutted_t_v.shape\n",
    "    Ntotal = ptcutted_t_v.shape[0]\n",
    "    #Ntotal_w = ptcutted_w_v.shape[0]\n",
    "    print ('unique weights after pt cut',np.unique(ptcutted_w_v))\n",
    "    Ntotal_w = np.sum(ptcutted_w_v)\n",
    "    print(Ntotal, Ntotal_w)\n",
    "    Power_rej[m] = []\n",
    "    Power_rej_w[m] = []\n",
    "    for p, q in enumerate(t_cuts):\n",
    "        #print p, q\n",
    "        tcut_string = np.logical_and(ptcut_string,t_v > q)\n",
    "        #ptcutted_t_v = ptcutted_t_v.flatten()\n",
    "        cutted_t_v =  t_v[tcut_string]\n",
    "        cutted_w_v =  flat_weight_v[tcut_string]\n",
    "        #cutted_t_v = cutted_t_v.flatten()\n",
    "        Nsel = cutted_t_v.shape[0]\n",
    "        Nsel_w = np.sum(cutted_w_v)\n",
    "        Nrej = 1.*Ntotal - 1.*Nsel\n",
    "        Nrej_w = 1.*Ntotal_w - 1.*Nsel_w\n",
    "        Prej = 1.0*Ntotal/Nsel\n",
    "        Prej_w = 1.0*Ntotal_w/Nsel_w\n",
    "        #Prej = Ntotal/Nrej\n",
    "        #print 'after time cut > ',q,' ns ',cutted_t_v.shape, ', rejection power = ', Prej\n",
    "        Power_rej[m] += [Prej]\n",
    "        Power_rej_w[m] += [Prej_w]\n",
    "        #print Power_rej[m]\n",
    "        #, t_v[np.logical_and(np.logical_and( pt_v > n[0], pt_v < n[1]),t_cuts > q)].shape\n",
    "    #Power_rej[m] = np.array(Power_rej[m]) \n",
    "    #print 'Rejection power',Power_rej[m]\n",
    "    #print Power_rej[m].shape\n",
    "    print(Power_rej[m])\n",
    "    print(Power_rej_w[m])\n",
    "        \n",
    "\n",
    "#make plot\n",
    "c = rt.TCanvas('c','c', 800, 600)\n",
    "leg = rt.TLegend(0.22,0.68,0.55,0.90);\n",
    "leg.SetTextSize(0.03)\n",
    "rt.gStyle.SetOptStat(0000)\n",
    "i = 0\n",
    "\n",
    "hrej_w = {}\n",
    "\n",
    "for m,n in enumerate(pt_range):\n",
    "#     if i==1 :\n",
    "\n",
    "    pt_string = 'pt in [' + str(n[0]) + ', ' + str(n[1]) + '] GeV'\n",
    "    name_string = 'pt_' + str(n[0]) + '_' + str(n[1])  \n",
    "    print(pt_string)\n",
    "    power = Power_rej_w[m]\n",
    "    #power = Power_rej[m]\n",
    "    print(power)\n",
    "    num = len(Power_rej_w[m])\n",
    "    #print num, t_cuts, power\n",
    "    t_cuts = np.array(t_cuts) \n",
    "    power = np.array(Power_rej_w[m]) \n",
    "    #print num, t_cuts, power\n",
    "    hrej_w[m] = rt.TGraph(num , t_cuts, power)\n",
    "\n",
    "    #print num, t_cuts, power\n",
    "    hrej_w[m].SetLineColor(std_color_list[i])\n",
    "    hrej_w[m].SetMarkerColor(std_color_list[i])\n",
    "    hrej_w[m].SetMarkerStyle(22+i)\n",
    "#     hrej[m].SetMarkerSize(2)\n",
    "\n",
    "\n",
    "    leg.AddEntry(hrej_w[m],pt_string)\n",
    "    leg.SetBorderSize(0)\n",
    "        #hrej[m].GetYaxis().SetRangeUser(0,1000)\n",
    "\n",
    "    if i==0 :\n",
    "        #hrej[m].GetYaxis().SetRangeUser(0,1000)\n",
    "        hrej_w[m].SetTitle( 'Rejection Power' )\n",
    "        hrej_w[m].GetXaxis().SetTitle( 'Time Cut [ns]' )\n",
    "        #hrej[m].GetXaxis().SetRangeUser(-10,10)\n",
    "        hrej_w[m].GetYaxis().SetRangeUser(0,10000)\n",
    "        hrej_w[m].GetYaxis().SetTitle( 'Rejection Power' )\n",
    "        hrej_w[m].Draw('ALP')\n",
    "    else:\n",
    "        print(i)\n",
    "        hrej_w[m].Draw('LPsame')\n",
    "        \n",
    "    i+=1\n",
    "\n",
    "leg.Draw()\n",
    "c.SetLogy()\n",
    "c.Draw()\n",
    "c.SaveAs(out_dir+'RejectionPower_w_PtBins.png')\n",
    "c.SaveAs(out_dir+'RejectionPower_w_PtBins.pdf')\n"
   ]
  },
  {
   "cell_type": "code",
   "execution_count": 21,
   "metadata": {
    "scrolled": false
   },
   "outputs": [
    {
     "name": "stdout",
     "output_type": "stream",
     "text": [
      "unique weights after pt cut [4.2758566e-06 1.0127239e-05 1.1433644e-04 1.9260001e-04 5.0959305e-04\n",
      " 6.3736360e-03 3.2338642e-02 3.6736554e-01 5.9467010e+01]\n",
      "54982378 1385650.6 1897079.6\n",
      "[1.000168227641395, 1.0003418262890034, 1.000863330159337, 1.0028242197218686, 1.0236664500514827, 1.051373493706813, 1.122688335533793, 1.2959380933247673, 1.692596255245036, 2.6011080487045644, 4.76425025876004, 9.910434670385051, 21.058864218714692, 41.19613321554956, 71.6158829812176, 429.5431165138045, 1649.1909775338193, 5019.388168705495, 11278.436512820514]\n",
      "[1.0001533810829697, 1.0003217935541846, 1.0008142694606248, 1.003073320000894, 1.025276363983119, 1.0533237045712074, 1.125040481932651, 1.302240952529643, 1.70694715413979, 2.6264439991958515, 4.811080688273452, 9.87341487471249, 20.204596232805592, 38.68697913633396, 65.84354965753059, 394.5742703056846, 1541.5040829403554, 5612.905997576456, 13220.772986470873]\n",
      "[1.3692994228811193, 1.3695299946154174, 1.3702042381736819, 1.373297080391243, 1.4036950332313811, 1.4420943507830892, 1.5402810326554088, 1.782884324022571, 2.3369633070892815, 3.5958367189983163, 6.586799719413068, 13.51758794753114, 27.661899149078252, 52.96593423204298, 90.14570790019816, 540.2074630076082, 2110.456946967031, 7684.570275456408, 18100.42055830942]\n",
      "unique weights after pt cut [4.2758566e-06 1.0127239e-05 1.1433644e-04 1.9260001e-04 5.0959305e-04\n",
      " 6.3736360e-03 3.2338642e-02 3.6736554e-01 5.9467010e+01]\n",
      "74787443 4678280.5 6573764.0\n",
      "[1.000209865354096, 1.000432639372663, 1.0011556185967072, 1.0041572241465386, 1.0364790742632366, 1.0725382920304252, 1.1541838472937407, 1.3338355020865635, 1.7144004798559882, 2.5184434726155285, 4.23496201569566, 7.8187423093208155, 14.7473477430699, 26.65134895217311, 44.95899387962072, 297.63658758869906, 1230.2184991446243, 3798.8237415553413, 8946.936595286517]\n",
      "[1.0002043903517919, 1.0004719771834212, 1.0013472857153254, 1.0046692413977938, 1.040087546198639, 1.0781549813627265, 1.1618339808240592, 1.3432985002575242, 1.7273667553344436, 2.5252458161593085, 4.207575362561772, 7.646801240446669, 14.06843252047373, 24.76731795488974, 40.955138379037464, 267.96094961434346, 1075.1351464414488, 3470.4848400439955, 6847.30896277255]\n",
      "[1.4054539085325382, 1.4058299126393117, 1.4070598670458345, 1.411727768569697, 1.461496391259342, 1.5149874837353088, 1.632570427771035, 1.8875583288019826, 2.427238253673411, 3.548391345371164, 5.912344812521508, 10.745030510591157, 19.768492983590757, 34.80221058750278, 57.54879689046752, 376.5298049102838, 1510.7441122462674, 4876.609750960203, 9621.610580287252]\n",
      "unique weights after pt cut [4.2758566e-06 1.0127239e-05 1.1433644e-04 1.9260001e-04 5.0959305e-04\n",
      " 6.3736360e-03 3.2338642e-02 3.6736554e-01 5.9467010e+01]\n",
      "115151732 21389550.0 31926440.0\n",
      "[1.0003300040349656, 1.0007231517360264, 1.0020604454654274, 1.0079830443608022, 1.062136573046816, 1.110030496315752, 1.2042748426136332, 1.389085166009526, 1.7438720704393174, 2.4185315157955563, 3.683508968865557, 5.966883388487959, 9.849004333240133, 16.0031580572639, 25.219604810465967, 162.62554319503897, 715.8817802589942, 2310.938048124586, 5571.498548480743]\n",
      "[1.0003804238222576, 1.0008534806710492, 1.002418884375696, 1.0094000290698224, 1.0694510845582115, 1.120468802694965, 1.2184377260409032, 1.4063775666026497, 1.7606708239347286, 2.4210839077727595, 3.620650737217408, 5.736146589384835, 9.237756745615375, 14.708361404901549, 22.89825597850152, 145.90431649078752, 660.9836198554442, 2033.9144420383254, 4684.279979781132]\n",
      "[1.4931864194588422, 1.4938925129063216, 1.4962290635795328, 1.5066492499419548, 1.596282571820476, 1.672432566422044, 1.8186628028257412, 2.099185302986061, 2.6280100058253995, 3.6137548530227397, 5.404250604745184, 8.561879044542758, 13.78844746492958, 21.95397368770755, 34.17836259305456, 217.77949541641308, 986.5964398642163, 3035.8585102945162, 6991.843386966229]\n",
      "pt in [80, 100] GeV\n",
      "[1.3692994228811193, 1.3695299946154174, 1.3702042381736819, 1.373297080391243, 1.4036950332313811, 1.4420943507830892, 1.5402810326554088, 1.782884324022571, 2.3369633070892815, 3.5958367189983163, 6.586799719413068, 13.51758794753114, 27.661899149078252, 52.96593423204298, 90.14570790019816, 540.2074630076082, 2110.456946967031, 7684.570275456408, 18100.42055830942]\n",
      "pt in [60, 80] GeV\n",
      "[1.4054539085325382, 1.4058299126393117, 1.4070598670458345, 1.411727768569697, 1.461496391259342, 1.5149874837353088, 1.632570427771035, 1.8875583288019826, 2.427238253673411, 3.548391345371164, 5.912344812521508, 10.745030510591157, 19.768492983590757, 34.80221058750278, 57.54879689046752, 376.5298049102838, 1510.7441122462674, 4876.609750960203, 9621.610580287252]\n",
      "1\n",
      "pt in [40, 60] GeV\n",
      "[1.4931864194588422, 1.4938925129063216, 1.4962290635795328, 1.5066492499419548, 1.596282571820476, 1.672432566422044, 1.8186628028257412, 2.099185302986061, 2.6280100058253995, 3.6137548530227397, 5.404250604745184, 8.561879044542758, 13.78844746492958, 21.95397368770755, 34.17836259305456, 217.77949541641308, 986.5964398642163, 3035.8585102945162, 6991.843386966229]\n",
      "2\n"
     ]
    },
    {
     "name": "stderr",
     "output_type": "stream",
     "text": [
      "Warning in <TCanvas::Constructor>: Deleting canvas with same name: c\n",
      "Info in <TCanvas::Print>: png file /nfshome/jmao/cms-llp/plots/20190506/RejectionPower_w_PtBins_keepInvalidTime.png has been created\n",
      "Info in <TCanvas::Print>: pdf file /nfshome/jmao/cms-llp/plots/20190506/RejectionPower_w_PtBins_keepInvalidTime.pdf has been created\n"
     ]
    },
    {
     "data": {
      "image/png": "[encoded data removed]",
      "text/plain": [
       "<IPython.core.display.Image object>"
      ]
     },
     "metadata": {},
     "output_type": "display_data"
    }
   ],
   "source": [
    " # plot jet time rejection power w/ weight\n",
    "#pt ranges\n",
    "#pt_range = [[60,80],[80,100]]\n",
    "pt_range = [[80,100],[60,80],[40,60]]\n",
    "#time cuts\n",
    "t_cuts = [-5.,-4.,-3.,-2.,-1.,-0.8,-0.6,-0.4,-0.2,0.,0.2,0.4,0.6,0.8,1.,2.,3.,4.,5.]\n",
    "#print len(t_cuts)\n",
    "\n",
    "jetTime = tree['jetTime'].array()\n",
    "jetPt = tree['jetPt'].array()\n",
    "weight = tree['weight'].array()\n",
    "# print np.unique(weight)\n",
    "# print 'Time',jetTime[:3]\n",
    "# print 'Pt',jetPt[:3]\n",
    "# print 'Weight',weight[:3]\n",
    "\n",
    "jetTime_v = jetTime[np.logical_not(np.isnan(jetTime))]\n",
    "jetPt_v = jetPt[np.logical_not(np.isnan(jetTime))]\n",
    "#weight_v = weight[np.logical_not(np.isnan(jetTime))]\n",
    "# print 'Time',jetTime_v[:3]\n",
    "# print 'Pt',jetPt_v[:3]\n",
    "#print 'Weight',weight_v[:3]\n",
    "\n",
    "flat_weight_v = []\n",
    "sizes = [len(x) for x in jetTime_v]\n",
    "for j, (n, val) in enumerate(zip(sizes, weight)):\n",
    "#         print j, n\n",
    "#         print val\n",
    "#         print n*[val]\n",
    "        flat_weight_v += n*[val]\n",
    "#         print flat_weight_v\n",
    "#         if j>4 : \n",
    "#             break\n",
    "flat_weight_v = np.array(flat_weight_v)\n",
    "\n",
    "t_v = jetTime_v.flatten()\n",
    "pt_v = jetPt_v.flatten()\n",
    "pt = jetPt.flatten()\n",
    "#print 'Valid ones',t_v.shape, pt_v.shape, flat_weight_v.shape\n",
    "#print 'Inclusive',t.shape, pt.shape, flat_weight.shape\n",
    "\n",
    "\n",
    "#test cut\n",
    "#cut = 'pt>20'\n",
    "#cutted_t = t[pt>40]\n",
    "#cut_weight = flat_weight[pt>20]\n",
    "#print t.shape, cutted_t.shape, cutted_t[cutted_t>1].shape\n",
    " \n",
    "Power_rej = {}\n",
    "Power_rej_w = {}\n",
    "Power_rej_k = {}\n",
    "    \n",
    "for m,n in enumerate(pt_range):\n",
    "    #print m,n, n[0], n[1]\n",
    "    ptcut_string = np.logical_and( pt_v > n[0], pt_v < n[1])\n",
    "    ptcut_string_k = np.logical_and( pt > n[0], pt < n[1])\n",
    "    ptcutted_t_v = t_v[ptcut_string]\n",
    "    ptcutted_w_v = flat_weight_v[ptcut_string]\n",
    "    ptcutted_w_k = flat_weight[ptcut_string_k]\n",
    "    #print t_v.shape, t_v[np.logical_and(pt_v>n[0],pt_v<n[1])].shape, ptcutted_t_v.shape \n",
    "    #print 'pt range = [',n[0],',',n[1],'] GeV, after pt cut ',ptcutted_t_v.shape\n",
    "    Ntotal = ptcutted_t_v.shape[0]\n",
    "    #Ntotal_w = ptcutted_w_v.shape[0]\n",
    "    print('unique weights after pt cut',np.unique(ptcutted_w_v))\n",
    "    Ntotal_w = np.sum(ptcutted_w_v)\n",
    "    Ntotal_w_k = np.sum(ptcutted_w_k)\n",
    "    print(Ntotal, Ntotal_w, Ntotal_w_k)\n",
    "    Power_rej[m] = []\n",
    "    Power_rej_w[m] = []\n",
    "    Power_rej_k[m] = []\n",
    "    for p, q in enumerate(t_cuts):\n",
    "        #print p, q\n",
    "        tcut_string = np.logical_and(ptcut_string,t_v > q)\n",
    "        #ptcutted_t_v = ptcutted_t_v.flatten()\n",
    "        cutted_t_v =  t_v[tcut_string]\n",
    "        cutted_w_v =  flat_weight_v[tcut_string]\n",
    "        #cutted_t_v = cutted_t_v.flatten()\n",
    "        Nsel = cutted_t_v.shape[0]\n",
    "        Nsel_w = np.sum(cutted_w_v)\n",
    "        Nrej = 1.*Ntotal - 1.*Nsel\n",
    "        Nrej_w = 1.*Ntotal_w - 1.*Nsel_w\n",
    "        Prej = 1.0*Ntotal/Nsel\n",
    "        Prej_w = 1.0*Ntotal_w/Nsel_w\n",
    "        Prej_k = 1.0*Ntotal_w_k/Nsel_w\n",
    "        #Prej = Ntotal/Nrej\n",
    "        #print 'after time cut > ',q,' ns ',cutted_t_v.shape, ', rejection power = ', Prej\n",
    "        Power_rej[m] += [Prej]\n",
    "        Power_rej_w[m] += [Prej_w]\n",
    "        Power_rej_k[m] += [Prej_k]\n",
    "        #print Power_rej[m]\n",
    "        #, t_v[np.logical_and(np.logical_and( pt_v > n[0], pt_v < n[1]),t_cuts > q)].shape\n",
    "    #Power_rej[m] = np.array(Power_rej[m]) \n",
    "    #print 'Rejection power',Power_rej[m]\n",
    "    #print Power_rej[m].shape\n",
    "    print(Power_rej[m])\n",
    "    print(Power_rej_w[m])\n",
    "    print(Power_rej_k[m])\n",
    "        \n",
    "\n",
    "#make plot\n",
    "c = rt.TCanvas('c','c', 800, 600)\n",
    "leg = rt.TLegend(0.22,0.68,0.55,0.90);\n",
    "leg.SetTextSize(0.03)\n",
    "rt.gStyle.SetOptStat(0000)\n",
    "i = 0\n",
    "\n",
    "hrej_k = {}\n",
    "\n",
    "for m,n in enumerate(pt_range):\n",
    "#     if i==1 :\n",
    "\n",
    "    pt_string = 'pt in [' + str(n[0]) + ', ' + str(n[1]) + '] GeV'\n",
    "    name_string = 'pt_' + str(n[0]) + '_' + str(n[1])  \n",
    "    print(pt_string)\n",
    "    power = Power_rej_k[m]\n",
    "    #power = Power_rej[m]\n",
    "    print(power)\n",
    "    num = len(Power_rej_k[m])\n",
    "    #print num, t_cuts, power\n",
    "    t_cuts = np.array(t_cuts) \n",
    "    power = np.array(Power_rej_k[m]) \n",
    "    #print num, t_cuts, power\n",
    "    hrej_k[m] = rt.TGraph(num , t_cuts, power)\n",
    "\n",
    "    #print num, t_cuts, power\n",
    "    hrej_k[m].SetLineColor(std_color_list[i])\n",
    "    hrej_k[m].SetMarkerColor(std_color_list[i])\n",
    "    hrej_k[m].SetMarkerStyle(22+i)\n",
    "#     hrej[m].SetMarkerSize(2)\n",
    "\n",
    "\n",
    "    leg.AddEntry(hrej_k[m],pt_string)\n",
    "    leg.SetBorderSize(0)\n",
    "        #hrej[m].GetYaxis().SetRangeUser(0,1000)\n",
    "\n",
    "    if i==0 :\n",
    "        #hrej[m].GetYaxis().SetRangeUser(0,1000)\n",
    "        hrej_k[m].SetTitle( 'Rejection Power' )\n",
    "        hrej_k[m].GetXaxis().SetTitle( 'Time Cut [ns]' )\n",
    "        #hrej[m].GetXaxis().SetRangeUser(-10,10)\n",
    "        hrej_k[m].GetYaxis().SetRangeUser(0,10000)\n",
    "        hrej_k[m].GetYaxis().SetTitle( 'Rejection Power' )\n",
    "        hrej_k[m].Draw('ALP')\n",
    "    else:\n",
    "        print(i)\n",
    "        hrej_k[m].Draw('LPsame')\n",
    "        \n",
    "    i+=1\n",
    "\n",
    "leg.Draw()\n",
    "c.SetLogy()\n",
    "c.Draw()\n",
    "c.SaveAs(out_dir+'RejectionPower_w_PtBins_keepInvalidTime.png')\n",
    "c.SaveAs(out_dir+'RejectionPower_w_PtBins_keepInvalidTime.pdf')\n"
   ]
  },
  {
   "cell_type": "code",
   "execution_count": 4,
   "metadata": {},
   "outputs": [
    {
     "ename": "NameError",
     "evalue": "name 'tree' is not defined",
     "output_type": "error",
     "traceback": [
      "\u001b[0;31m---------------------------------------------------------------------------\u001b[0m",
      "\u001b[0;31mNameError\u001b[0m                                 Traceback (most recent call last)",
      "\u001b[0;32m<ipython-input-4-39bc0114d725>\u001b[0m in \u001b[0;36m<module>\u001b[0;34m\u001b[0m\n\u001b[1;32m      7\u001b[0m \u001b[0;31m#print len(t_cuts)\u001b[0m\u001b[0;34m\u001b[0m\u001b[0;34m\u001b[0m\u001b[0m\n\u001b[1;32m      8\u001b[0m \u001b[0;34m\u001b[0m\u001b[0m\n\u001b[0;32m----> 9\u001b[0;31m \u001b[0mjetTime\u001b[0m \u001b[0;34m=\u001b[0m \u001b[0mtree\u001b[0m\u001b[0;34m[\u001b[0m\u001b[0;34m'jetTime'\u001b[0m\u001b[0;34m]\u001b[0m\u001b[0;34m.\u001b[0m\u001b[0marray\u001b[0m\u001b[0;34m(\u001b[0m\u001b[0;34m)\u001b[0m\u001b[0;34m\u001b[0m\u001b[0m\n\u001b[0m\u001b[1;32m     10\u001b[0m \u001b[0mjetPt\u001b[0m \u001b[0;34m=\u001b[0m \u001b[0mtree\u001b[0m\u001b[0;34m[\u001b[0m\u001b[0;34m'jetPt'\u001b[0m\u001b[0;34m]\u001b[0m\u001b[0;34m.\u001b[0m\u001b[0marray\u001b[0m\u001b[0;34m(\u001b[0m\u001b[0;34m)\u001b[0m\u001b[0;34m\u001b[0m\u001b[0m\n\u001b[1;32m     11\u001b[0m \u001b[0mweight\u001b[0m \u001b[0;34m=\u001b[0m \u001b[0mtree\u001b[0m\u001b[0;34m[\u001b[0m\u001b[0;34m'weight'\u001b[0m\u001b[0;34m]\u001b[0m\u001b[0;34m.\u001b[0m\u001b[0marray\u001b[0m\u001b[0;34m(\u001b[0m\u001b[0;34m)\u001b[0m\u001b[0;34m\u001b[0m\u001b[0m\n",
      "\u001b[0;31mNameError\u001b[0m: name 'tree' is not defined"
     ]
    }
   ],
   "source": [
    "# plot jet time rejection power w/ weight\n",
    "#pt ranges\n",
    "#pt_range = [[60,80],[80,100]]\n",
    "pt_range = [[80,100],[60,80],[40,60]]\n",
    "#time cuts\n",
    "t_cuts = [-5.,-4.,-3.,-2.,-1.,-0.8,-0.6,-0.4,-0.2,0.,0.2,0.4,0.6,0.8,1.,2.,3.,4.,5.]\n",
    "#print len(t_cuts)\n",
    "\n",
    "jetTime = tree['jetTime'].array()\n",
    "jetPt = tree['jetPt'].array()\n",
    "weight = tree['weight'].array()"
   ]
  },
  {
   "cell_type": "code",
   "execution_count": 1,
   "metadata": {},
   "outputs": [
    {
     "ename": "NameError",
     "evalue": "name 'jetTime' is not defined",
     "output_type": "error",
     "traceback": [
      "\u001b[0;31m---------------------------------------------------------------------------\u001b[0m",
      "\u001b[0;31mNameError\u001b[0m                                 Traceback (most recent call last)",
      "\u001b[0;32m<ipython-input-1-28947c1857af>\u001b[0m in \u001b[0;36m<module>\u001b[0;34m\u001b[0m\n\u001b[0;32m----> 1\u001b[0;31m \u001b[0msizes\u001b[0m \u001b[0;34m=\u001b[0m \u001b[0;34m[\u001b[0m\u001b[0mlen\u001b[0m\u001b[0;34m(\u001b[0m\u001b[0mx\u001b[0m\u001b[0;34m)\u001b[0m \u001b[0;32mfor\u001b[0m \u001b[0mx\u001b[0m \u001b[0;32min\u001b[0m \u001b[0mjetTime\u001b[0m\u001b[0;34m]\u001b[0m\u001b[0;34m\u001b[0m\u001b[0m\n\u001b[0m\u001b[1;32m      2\u001b[0m \u001b[0;32mfor\u001b[0m \u001b[0mi\u001b[0m\u001b[0;34m,\u001b[0m \u001b[0;34m(\u001b[0m\u001b[0mn\u001b[0m\u001b[0;34m,\u001b[0m \u001b[0mtime\u001b[0m\u001b[0;34m,\u001b[0m \u001b[0mpt\u001b[0m\u001b[0;34m)\u001b[0m \u001b[0;32min\u001b[0m \u001b[0menumerate\u001b[0m\u001b[0;34m(\u001b[0m\u001b[0mzip\u001b[0m\u001b[0;34m(\u001b[0m\u001b[0msizes\u001b[0m\u001b[0;34m,\u001b[0m\u001b[0mjetTime\u001b[0m\u001b[0;34m,\u001b[0m\u001b[0mjetPt\u001b[0m\u001b[0;34m)\u001b[0m\u001b[0;34m)\u001b[0m\u001b[0;34m:\u001b[0m\u001b[0;34m\u001b[0m\u001b[0m\n\u001b[1;32m      3\u001b[0m     \u001b[0mprint\u001b[0m\u001b[0;34m(\u001b[0m\u001b[0mi\u001b[0m\u001b[0;34m,\u001b[0m\u001b[0mn\u001b[0m\u001b[0;34m,\u001b[0m\u001b[0mtime\u001b[0m\u001b[0;34m,\u001b[0m\u001b[0mpt\u001b[0m\u001b[0;34m)\u001b[0m\u001b[0;34m\u001b[0m\u001b[0m\n\u001b[1;32m      4\u001b[0m \u001b[0;31m#     for j in enumerate(time):\u001b[0m\u001b[0;34m\u001b[0m\u001b[0;34m\u001b[0m\u001b[0m\n\u001b[1;32m      5\u001b[0m     \u001b[0;32mfor\u001b[0m \u001b[0mj\u001b[0m \u001b[0;32min\u001b[0m \u001b[0mrange\u001b[0m\u001b[0;34m(\u001b[0m\u001b[0mn\u001b[0m\u001b[0;34m)\u001b[0m\u001b[0;34m:\u001b[0m\u001b[0;34m\u001b[0m\u001b[0m\n",
      "\u001b[0;31mNameError\u001b[0m: name 'jetTime' is not defined"
     ]
    }
   ],
   "source": [
    "sizes = [len(x) for x in jetTime]\n",
    "for i, (n, time, pt) in enumerate(zip(sizes,jetTime,jetPt)):\n",
    "    print(i,n,time,pt)\n",
    "#     for j in enumerate(time):\n",
    "    for j in range(n):\n",
    "        print(time[j])\n",
    "    if i>4:\n",
    "        break"
   ]
  },
  {
   "cell_type": "code",
   "execution_count": 3,
   "metadata": {},
   "outputs": [
    {
     "ename": "NameError",
     "evalue": "name 'jetTime' is not defined",
     "output_type": "error",
     "traceback": [
      "\u001b[0;31m---------------------------------------------------------------------------\u001b[0m",
      "\u001b[0;31mNameError\u001b[0m                                 Traceback (most recent call last)",
      "\u001b[0;32m<ipython-input-3-80075f9c8099>\u001b[0m in \u001b[0;36m<module>\u001b[0;34m\u001b[0m\n\u001b[1;32m      5\u001b[0m     \u001b[0;32mreturn\u001b[0m \u001b[0mlist3\u001b[0m\u001b[0;34m\u001b[0m\u001b[0m\n\u001b[1;32m      6\u001b[0m \u001b[0;34m\u001b[0m\u001b[0m\n\u001b[0;32m----> 7\u001b[0;31m \u001b[0;32mfor\u001b[0m \u001b[0mi\u001b[0m\u001b[0;34m,\u001b[0m \u001b[0;34m(\u001b[0m\u001b[0mtime\u001b[0m\u001b[0;34m,\u001b[0m \u001b[0mpt\u001b[0m\u001b[0;34m)\u001b[0m \u001b[0;32min\u001b[0m \u001b[0menumerate\u001b[0m\u001b[0;34m(\u001b[0m\u001b[0mzip\u001b[0m\u001b[0;34m(\u001b[0m\u001b[0mjetTime\u001b[0m\u001b[0;34m,\u001b[0m\u001b[0mjetPt\u001b[0m\u001b[0;34m)\u001b[0m\u001b[0;34m)\u001b[0m\u001b[0;34m:\u001b[0m\u001b[0;34m\u001b[0m\u001b[0m\n\u001b[0m\u001b[1;32m      8\u001b[0m \u001b[0;31m#     print(i,time,pt,len(time),len(pt))\u001b[0m\u001b[0;34m\u001b[0m\u001b[0;34m\u001b[0m\u001b[0m\n\u001b[1;32m      9\u001b[0m     \u001b[0mtime_s\u001b[0m \u001b[0;34m=\u001b[0m\u001b[0;34m[\u001b[0m\u001b[0;34m]\u001b[0m\u001b[0;34m\u001b[0m\u001b[0m\n",
      "\u001b[0;31mNameError\u001b[0m: name 'jetTime' is not defined"
     ]
    }
   ],
   "source": [
    "def sort_lists(list1, list2): \n",
    "    for index, (ele1,ele2) in enumerate(zip(list1,list2)): \n",
    "        print(index,ele1,ele2)\n",
    "        list3.append(ele1,ele2)\n",
    "    return list3 \n",
    "\n",
    "for i, (time, pt) in enumerate(zip(jetTime,jetPt)):\n",
    "#     print(i,time,pt,len(time),len(pt))\n",
    "    time_s =[]\n",
    "    pt_s= []\n",
    "    for j in range(len(pt)):\n",
    "#         print(j,pt[j])\n",
    "        time_s.append(time[j])\n",
    "        pt_s.append(pt[j])\n",
    "    print(i,time_s)\n",
    "    print(i,pt_s)\n",
    "    pairlist = sort_lists(time_s,pt_s)\n",
    "    print(pairlist)\n",
    "    if i>4:\n",
    "        break"
   ]
  },
  {
   "cell_type": "code",
   "execution_count": 48,
   "metadata": {},
   "outputs": [
    {
     "name": "stdout",
     "output_type": "stream",
     "text": [
      "86570730.0\n"
     ]
    },
    {
     "name": "stderr",
     "output_type": "stream",
     "text": [
      "/usr/local/lib/python3.6/site-packages/ipykernel_launcher.py:19: RuntimeWarning: invalid value encountered in greater\n"
     ]
    },
    {
     "ename": "KeyboardInterrupt",
     "evalue": "",
     "output_type": "error",
     "traceback": [
      "\u001b[0;31m---------------------------------------------------------------------------\u001b[0m",
      "\u001b[0;31mKeyboardInterrupt\u001b[0m                         Traceback (most recent call last)",
      "\u001b[0;32m<ipython-input-48-47883a7ac91a>\u001b[0m in \u001b[0;36m<module>\u001b[0;34m\u001b[0m\n\u001b[1;32m     17\u001b[0m \u001b[0;32mfor\u001b[0m \u001b[0mindex\u001b[0m\u001b[0;34m,\u001b[0m \u001b[0;34m(\u001b[0m\u001b[0mtime\u001b[0m\u001b[0;34m,\u001b[0m\u001b[0mpt\u001b[0m\u001b[0;34m,\u001b[0m\u001b[0mw\u001b[0m\u001b[0;34m)\u001b[0m \u001b[0;32min\u001b[0m \u001b[0menumerate\u001b[0m\u001b[0;34m(\u001b[0m\u001b[0mzip\u001b[0m\u001b[0;34m(\u001b[0m\u001b[0mjetTime\u001b[0m\u001b[0;34m,\u001b[0m\u001b[0mjetPt\u001b[0m\u001b[0;34m,\u001b[0m\u001b[0mweight\u001b[0m\u001b[0;34m)\u001b[0m\u001b[0;34m)\u001b[0m\u001b[0;34m:\u001b[0m\u001b[0;34m\u001b[0m\u001b[0m\n\u001b[1;32m     18\u001b[0m \u001b[0;31m#     print(time)\u001b[0m\u001b[0;34m\u001b[0m\u001b[0;34m\u001b[0m\u001b[0m\n\u001b[0;32m---> 19\u001b[0;31m     \u001b[0mp\u001b[0m \u001b[0;34m=\u001b[0m \u001b[0mnp\u001b[0m\u001b[0;34m.\u001b[0m\u001b[0mlogical_and\u001b[0m\u001b[0;34m(\u001b[0m\u001b[0mnp\u001b[0m\u001b[0;34m.\u001b[0m\u001b[0many\u001b[0m\u001b[0;34m(\u001b[0m\u001b[0mtime\u001b[0m\u001b[0;34m>\u001b[0m\u001b[0;36m1\u001b[0m\u001b[0;34m)\u001b[0m\u001b[0;34m,\u001b[0m\u001b[0mweight\u001b[0m\u001b[0;34m)\u001b[0m\u001b[0;34m\u001b[0m\u001b[0m\n\u001b[0m\u001b[1;32m     20\u001b[0m \u001b[0;31m#     print(np.any(p))\u001b[0m\u001b[0;34m\u001b[0m\u001b[0;34m\u001b[0m\u001b[0m\n\u001b[1;32m     21\u001b[0m     \u001b[0;32mif\u001b[0m \u001b[0mnp\u001b[0m\u001b[0;34m.\u001b[0m\u001b[0many\u001b[0m\u001b[0;34m(\u001b[0m\u001b[0mp\u001b[0m\u001b[0;34m)\u001b[0m\u001b[0;34m:\u001b[0m\u001b[0;34m\u001b[0m\u001b[0m\n",
      "\u001b[0;31mKeyboardInterrupt\u001b[0m: "
     ]
    }
   ],
   "source": [
    "# # plot jet time rejection power w/ weight\n",
    "# #pt ranges\n",
    "# #pt_range = [[60,80],[80,100]]\n",
    "# pt_range = [[80,100],[60,80],[40,60]]\n",
    "# #time cuts\n",
    "# t_cuts = [-5.,-4.,-3.,-2.,-1.,-0.8,-0.6,-0.4,-0.2,0.,0.2,0.4,0.6,0.8,1.,2.,3.,4.,5.]\n",
    "# #print len(t_cuts)\n",
    "\n",
    "# jetTime = tree['jetTime'].array()\n",
    "# jetPt = tree['jetPt'].array()\n",
    "# weight = tree['weight'].array()\n",
    "\n",
    "time_cut_w = []\n",
    "Ntotal = np.sum(weight)\n",
    "print(Ntotal)\n",
    "\n",
    "for index, (time,pt,w) in enumerate(zip(jetTime,jetPt,weight)):\n",
    "#     print(time)\n",
    "    p = np.logical_and(np.any(time>1),weight)\n",
    "#     print(np.any(p))\n",
    "    if np.any(p):\n",
    "        time_cut_w.append(weight)\n",
    "#     if index>4:\n",
    "#         break\n",
    "\n",
    "print(len(time_cut_w))"
   ]
  },
  {
   "cell_type": "code",
   "execution_count": 13,
   "metadata": {
    "scrolled": false
   },
   "outputs": [
    {
     "ename": "NameError",
     "evalue": "name 'lex' is not defined",
     "output_type": "error",
     "traceback": [
      "\u001b[0;31m---------------------------------------------------------------------------\u001b[0m",
      "\u001b[0;31mNameError\u001b[0m                                 Traceback (most recent call last)",
      "\u001b[0;32m<ipython-input-13-ed5e3b443f1c>\u001b[0m in \u001b[0;36m<module>\u001b[0;34m\u001b[0m\n\u001b[0;32m----> 1\u001b[0;31m \u001b[0msizes\u001b[0m \u001b[0;34m=\u001b[0m \u001b[0;34m[\u001b[0m\u001b[0mlex\u001b[0m\u001b[0;34m(\u001b[0m\u001b[0mx\u001b[0m\u001b[0;34m)\u001b[0m \u001b[0;32mfor\u001b[0m \u001b[0mx\u001b[0m \u001b[0;32min\u001b[0m \u001b[0mjetTime\u001b[0m\u001b[0;34m]\u001b[0m\u001b[0;34m\u001b[0m\u001b[0m\n\u001b[0m\u001b[1;32m      2\u001b[0m \u001b[0;32mfor\u001b[0m \u001b[0mi\u001b[0m\u001b[0;34m,\u001b[0m \u001b[0;34m(\u001b[0m\u001b[0mn\u001b[0m\u001b[0;34m,\u001b[0m \u001b[0mtime\u001b[0m\u001b[0;34m,\u001b[0m \u001b[0mpt\u001b[0m\u001b[0;34m)\u001b[0m \u001b[0;32min\u001b[0m \u001b[0menumerate\u001b[0m\u001b[0;34m(\u001b[0m\u001b[0mzip\u001b[0m\u001b[0;34m(\u001b[0m\u001b[0msizes\u001b[0m\u001b[0;34m,\u001b[0m\u001b[0mjetTime\u001b[0m\u001b[0;34m,\u001b[0m\u001b[0mjetPt\u001b[0m\u001b[0;34m)\u001b[0m\u001b[0;34m)\u001b[0m\u001b[0;34m:\u001b[0m\u001b[0;34m\u001b[0m\u001b[0m\n\u001b[1;32m      3\u001b[0m     \u001b[0mprint\u001b[0m\u001b[0;34m(\u001b[0m\u001b[0mi\u001b[0m\u001b[0;34m,\u001b[0m\u001b[0mn\u001b[0m\u001b[0;34m,\u001b[0m\u001b[0mtime\u001b[0m\u001b[0;34m,\u001b[0m\u001b[0mpt\u001b[0m\u001b[0;34m)\u001b[0m\u001b[0;34m\u001b[0m\u001b[0m\n\u001b[1;32m      4\u001b[0m     \u001b[0;32mfor\u001b[0m \u001b[0mj\u001b[0m \u001b[0;32min\u001b[0m \u001b[0menumerate\u001b[0m\u001b[0;34m(\u001b[0m\u001b[0mtime\u001b[0m\u001b[0;34m)\u001b[0m\u001b[0;34m:\u001b[0m\u001b[0;34m\u001b[0m\u001b[0m\n\u001b[1;32m      5\u001b[0m         \u001b[0mprint\u001b[0m\u001b[0;34m(\u001b[0m\u001b[0mtime\u001b[0m\u001b[0;34m[\u001b[0m\u001b[0mj\u001b[0m\u001b[0;34m]\u001b[0m\u001b[0;34m)\u001b[0m\u001b[0;34m\u001b[0m\u001b[0m\n",
      "\u001b[0;32m<ipython-input-13-ed5e3b443f1c>\u001b[0m in \u001b[0;36m<listcomp>\u001b[0;34m(.0)\u001b[0m\n\u001b[0;32m----> 1\u001b[0;31m \u001b[0msizes\u001b[0m \u001b[0;34m=\u001b[0m \u001b[0;34m[\u001b[0m\u001b[0mlex\u001b[0m\u001b[0;34m(\u001b[0m\u001b[0mx\u001b[0m\u001b[0;34m)\u001b[0m \u001b[0;32mfor\u001b[0m \u001b[0mx\u001b[0m \u001b[0;32min\u001b[0m \u001b[0mjetTime\u001b[0m\u001b[0;34m]\u001b[0m\u001b[0;34m\u001b[0m\u001b[0m\n\u001b[0m\u001b[1;32m      2\u001b[0m \u001b[0;32mfor\u001b[0m \u001b[0mi\u001b[0m\u001b[0;34m,\u001b[0m \u001b[0;34m(\u001b[0m\u001b[0mn\u001b[0m\u001b[0;34m,\u001b[0m \u001b[0mtime\u001b[0m\u001b[0;34m,\u001b[0m \u001b[0mpt\u001b[0m\u001b[0;34m)\u001b[0m \u001b[0;32min\u001b[0m \u001b[0menumerate\u001b[0m\u001b[0;34m(\u001b[0m\u001b[0mzip\u001b[0m\u001b[0;34m(\u001b[0m\u001b[0msizes\u001b[0m\u001b[0;34m,\u001b[0m\u001b[0mjetTime\u001b[0m\u001b[0;34m,\u001b[0m\u001b[0mjetPt\u001b[0m\u001b[0;34m)\u001b[0m\u001b[0;34m)\u001b[0m\u001b[0;34m:\u001b[0m\u001b[0;34m\u001b[0m\u001b[0m\n\u001b[1;32m      3\u001b[0m     \u001b[0mprint\u001b[0m\u001b[0;34m(\u001b[0m\u001b[0mi\u001b[0m\u001b[0;34m,\u001b[0m\u001b[0mn\u001b[0m\u001b[0;34m,\u001b[0m\u001b[0mtime\u001b[0m\u001b[0;34m,\u001b[0m\u001b[0mpt\u001b[0m\u001b[0;34m)\u001b[0m\u001b[0;34m\u001b[0m\u001b[0m\n\u001b[1;32m      4\u001b[0m     \u001b[0;32mfor\u001b[0m \u001b[0mj\u001b[0m \u001b[0;32min\u001b[0m \u001b[0menumerate\u001b[0m\u001b[0;34m(\u001b[0m\u001b[0mtime\u001b[0m\u001b[0;34m)\u001b[0m\u001b[0;34m:\u001b[0m\u001b[0;34m\u001b[0m\u001b[0m\n\u001b[1;32m      5\u001b[0m         \u001b[0mprint\u001b[0m\u001b[0;34m(\u001b[0m\u001b[0mtime\u001b[0m\u001b[0;34m[\u001b[0m\u001b[0mj\u001b[0m\u001b[0;34m]\u001b[0m\u001b[0;34m)\u001b[0m\u001b[0;34m\u001b[0m\u001b[0m\n",
      "\u001b[0;31mNameError\u001b[0m: name 'lex' is not defined"
     ]
    }
   ],
   "source": [
    "# print np.unique(weight)\n",
    "# print 'Time',jetTime[:3]\n",
    "# print 'Pt',jetPt[:3]\n",
    "# print 'Weight',weight[:3]\n",
    "\n",
    "# jetTime_v = jetTime[np.logical_not(np.isnan(jetTime))]\n",
    "# jetPt_v = jetPt[np.logical_not(np.isnan(jetTime))]\n",
    "# #weight_v = weight[np.logical_not(np.isnan(jetTime))]\n",
    "# # print 'Time',jetTime_v[:3]\n",
    "# # print 'Pt',jetPt_v[:3]\n",
    "# #print 'Weight',weight_v[:3]\n",
    "\n",
    "# flat_weight_v = []\n",
    "# sizes = [len(x) for x in jetTime_v]\n",
    "# for j, (n, val) in enumerate(zip(sizes, weight)):\n",
    "# #         print j, n\n",
    "# #         print val\n",
    "# #         print n*[val]\n",
    "#         flat_weight_v += n*[val]\n",
    "# #         print flat_weight_v\n",
    "# #         if j>4 : \n",
    "# #             break\n",
    "# flat_weight_v = np.array(flat_weight_v)\n",
    "\n",
    "# t_v = jetTime_v.flatten()\n",
    "# pt_v = jetPt_v.flatten()\n",
    "# pt = jetPt.flatten()\n",
    "# #print 'Valid ones',t_v.shape, pt_v.shape, flat_weight_v.shape\n",
    "# #print 'Inclusive',t.shape, pt.shape, flat_weight.shape\n",
    "\n",
    "\n",
    "# #test cut\n",
    "# #cut = 'pt>20'\n",
    "# #cutted_t = t[pt>40]\n",
    "# #cut_weight = flat_weight[pt>20]\n",
    "# #print t.shape, cutted_t.shape, cutted_t[cutted_t>1].shape\n",
    " \n",
    "# Power_rej = {}\n",
    "# Power_rej_e = {}\n",
    "# Power_rej_w = {}\n",
    "# Power_rej_k = {}\n",
    "    \n",
    "# for m,n in enumerate(pt_range):\n",
    "#     #print m,n, n[0], n[1]\n",
    "#     ptcut_string = np.logical_and( pt_v > n[0], pt_v < n[1])\n",
    "#     ptcut_string_k = np.logical_and( pt > n[0], pt < n[1])\n",
    "#     ptcutted_t_v = t_v[ptcut_string]\n",
    "#     ptcutted_w_v = flat_weight_v[ptcut_string]\n",
    "#     ptcutted_w_k = flat_weight[ptcut_string_k]\n",
    "#     #print t_v.shape, t_v[np.logical_and(pt_v>n[0],pt_v<n[1])].shape, ptcutted_t_v.shape \n",
    "#     #print 'pt range = [',n[0],',',n[1],'] GeV, after pt cut ',ptcutted_t_v.shape\n",
    "#     Ntotal = ptcutted_t_v.shape[0]\n",
    "#     #Ntotal_w = ptcutted_w_v.shape[0]\n",
    "#     print('unique weights after pt cut',np.unique(ptcutted_w_v))\n",
    "#     Ntotal_w = np.sum(ptcutted_w_v)\n",
    "#     Ntotal_w_k = np.sum(ptcutted_w_k)\n",
    "#     print(Ntotal, Ntotal_w, Ntotal_w_k)\n",
    "#     Power_rej[m] = []\n",
    "#     Power_rej_w[m] = []\n",
    "#     Power_rej_k[m] = []\n",
    "#     for p, q in enumerate(t_cuts):\n",
    "#         #print p, q\n",
    "#         tcut_string = np.logical_and(ptcut_string,t_v > q)\n",
    "#         #ptcutted_t_v = ptcutted_t_v.flatten()\n",
    "#         cutted_t_v =  t_v[tcut_string]\n",
    "#         cutted_w_v =  flat_weight_v[tcut_string]\n",
    "#         #cutted_t_v = cutted_t_v.flatten()\n",
    "#         Nsel = cutted_t_v.shape[0]\n",
    "#         Nsel_w = np.sum(cutted_w_v)\n",
    "#         Nrej = 1.*Ntotal - 1.*Nsel\n",
    "#         Nrej_w = 1.*Ntotal_w - 1.*Nsel_w\n",
    "#         Prej = 1.0*Ntotal/Nsel\n",
    "#         Prej_w = 1.0*Ntotal_w/Nsel_w\n",
    "#         Prej_k = 1.0*Ntotal_w_k/Nsel_w\n",
    "#         #Prej = Ntotal/Nrej\n",
    "#         #print 'after time cut > ',q,' ns ',cutted_t_v.shape, ', rejection power = ', Prej\n",
    "#         Power_rej[m] += [Prej]\n",
    "#         Power_rej_w[m] += [Prej_w]\n",
    "#         Power_rej_k[m] += [Prej_k]\n",
    "#         #print Power_rej[m]\n",
    "#         #, t_v[np.logical_and(np.logical_and( pt_v > n[0], pt_v < n[1]),t_cuts > q)].shape\n",
    "#     #Power_rej[m] = np.array(Power_rej[m]) \n",
    "#     #print 'Rejection power',Power_rej[m]\n",
    "#     #print Power_rej[m].shape\n",
    "#     print(Power_rej[m])\n",
    "#     print(Power_rej_w[m])\n",
    "#     print(Power_rej_k[m])\n",
    "        \n",
    "\n",
    "# #make plot\n",
    "# c = rt.TCanvas('c','c', 800, 600)\n",
    "# leg = rt.TLegend(0.22,0.68,0.55,0.90);\n",
    "# leg.SetTextSize(0.03)\n",
    "# rt.gStyle.SetOptStat(0000)\n",
    "# i = 0\n",
    "\n",
    "# hrej_k = {}\n",
    "\n",
    "# for m,n in enumerate(pt_range):\n",
    "# #     if i==1 :\n",
    "\n",
    "#     pt_string = 'pt in [' + str(n[0]) + ', ' + str(n[1]) + '] GeV'\n",
    "#     name_string = 'pt_' + str(n[0]) + '_' + str(n[1])  \n",
    "#     print(pt_string)\n",
    "#     power = Power_rej_k[m]\n",
    "#     #power = Power_rej[m]\n",
    "#     print(power)\n",
    "#     num = len(Power_rej_k[m])\n",
    "#     #print num, t_cuts, power\n",
    "#     t_cuts = np.array(t_cuts) \n",
    "#     power = np.array(Power_rej_k[m]) \n",
    "#     #print num, t_cuts, power\n",
    "#     hrej_k[m] = rt.TGraph(num , t_cuts, power)\n",
    "\n",
    "#     #print num, t_cuts, power\n",
    "#     hrej_k[m].SetLineColor(std_color_list[i])\n",
    "#     hrej_k[m].SetMarkerColor(std_color_list[i])\n",
    "#     hrej_k[m].SetMarkerStyle(22+i)\n",
    "# #     hrej[m].SetMarkerSize(2)\n",
    "\n",
    "\n",
    "#     leg.AddEntry(hrej_k[m],pt_string)\n",
    "#     leg.SetBorderSize(0)\n",
    "#         #hrej[m].GetYaxis().SetRangeUser(0,1000)\n",
    "\n",
    "#     if i==0 :\n",
    "#         #hrej[m].GetYaxis().SetRangeUser(0,1000)\n",
    "#         hrej_k[m].SetTitle( 'Rejection Power' )\n",
    "#         hrej_k[m].GetXaxis().SetTitle( 'Time Cut [ns]' )\n",
    "#         #hrej[m].GetXaxis().SetRangeUser(-10,10)\n",
    "#         hrej_k[m].GetYaxis().SetRangeUser(0,10000)\n",
    "#         hrej_k[m].GetYaxis().SetTitle( 'Rejection Power' )\n",
    "#         hrej_k[m].Draw('ALP')\n",
    "#     else:\n",
    "#         print(i)\n",
    "#         hrej_k[m].Draw('LPsame')\n",
    "        \n",
    "#     i+=1\n",
    "\n",
    "# leg.Draw()\n",
    "# c.SetLogy()\n",
    "# c.Draw()\n",
    "# c.SaveAs(out_dir+'RejectionPower_w_PtBins_PerEvent.png')\n",
    "# c.SaveAs(out_dir+'RejectionPower_w_PtBins_PerEvent.pdf')"
   ]
  },
  {
   "cell_type": "code",
   "execution_count": 11,
   "metadata": {},
   "outputs": [
    {
     "name": "stdout",
     "output_type": "stream",
     "text": [
      "[-100.    0.    0.    0.    1.   10.]\n"
     ]
    }
   ],
   "source": [
    "a = [-100,1,0,10,np.nan,-np.nan]\n",
    "b = np.where(np.isnan(a), 0, a)\n",
    "b.sort()\n",
    "print(b)"
   ]
  },
  {
   "cell_type": "code",
   "execution_count": 3,
   "metadata": {},
   "outputs": [
    {
     "ename": "NameError",
     "evalue": "name 'fpath' is not defined",
     "output_type": "error",
     "traceback": [
      "\u001b[0;31m---------------------------------------------------------------------------\u001b[0m",
      "\u001b[0;31mNameError\u001b[0m                                 Traceback (most recent call last)",
      "\u001b[0;32m<ipython-input-3-d22cda459883>\u001b[0m in \u001b[0;36m<module>\u001b[0;34m\u001b[0m\n\u001b[0;32m----> 1\u001b[0;31m \u001b[0mroot_file\u001b[0m \u001b[0;34m=\u001b[0m \u001b[0mrt\u001b[0m\u001b[0;34m.\u001b[0m\u001b[0mTFile\u001b[0m\u001b[0;34m.\u001b[0m\u001b[0mOpen\u001b[0m\u001b[0;34m(\u001b[0m\u001b[0mfpath\u001b[0m\u001b[0;34m)\u001b[0m\u001b[0;34m\u001b[0m\u001b[0m\n\u001b[0m\u001b[1;32m      2\u001b[0m \u001b[0mprint\u001b[0m\u001b[0;34m(\u001b[0m\u001b[0;34m'Open ready'\u001b[0m\u001b[0;34m)\u001b[0m\u001b[0;34m\u001b[0m\u001b[0m\n\u001b[1;32m      3\u001b[0m \u001b[0;34m\u001b[0m\u001b[0m\n\u001b[1;32m      4\u001b[0m \u001b[0mtree\u001b[0m \u001b[0;34m=\u001b[0m \u001b[0mrtnp\u001b[0m\u001b[0;34m.\u001b[0m\u001b[0mroot2array\u001b[0m\u001b[0;34m(\u001b[0m\u001b[0mfpath\u001b[0m\u001b[0;34m)\u001b[0m\u001b[0;34m\u001b[0m\u001b[0m\n\u001b[1;32m      5\u001b[0m \u001b[0mprint\u001b[0m\u001b[0;34m(\u001b[0m\u001b[0;34m'Tree ready'\u001b[0m\u001b[0;34m)\u001b[0m\u001b[0;34m\u001b[0m\u001b[0m\n",
      "\u001b[0;31mNameError\u001b[0m: name 'fpath' is not defined"
     ]
    }
   ],
   "source": [
    "# root_file = rt.TFile.Open(fpath)\n",
    "# print('Open ready')\n",
    "\n",
    "# tree = rtnp.root2array(fpath)\n",
    "# print('Tree ready')\n",
    "# # tree_a = rtnp.tree2array(tree)\n",
    "\n",
    "# # a = tree_a[\"jetPt\"]\n",
    "    "
   ]
  },
  {
   "cell_type": "code",
   "execution_count": 3,
   "metadata": {},
   "outputs": [],
   "source": [
    "# plot jet time rejection power w/ weight\n",
    "#pt ranges\n",
    "#pt_range = [[60,80],[80,100]]\n",
    "# pt_range = [[80,100],[60,80],[40,60]]\n",
    "#time cuts\n",
    "t_cuts = [-5.,-4.,-3.,-2.,-1.,-0.8,-0.6,-0.4,-0.2,0.,0.2,0.4,0.6,0.8,1.,2.,3.,4.,5.]\n",
    "#print len(t_cuts)\n",
    "\n",
    "jetTime = tree['jetTime'].array()\n",
    "# jetPt = tree['jetPt'].array()\n",
    "weight = tree['weight'].array()"
   ]
  },
  {
   "cell_type": "code",
   "execution_count": 4,
   "metadata": {},
   "outputs": [],
   "source": [
    "# plot jet time rejection power inclusively\n",
    "#pt ranges\n",
    "#pt_range = [[60,80],[80,100]]\n",
    "# pt_range = [[80,100],[60,80],[40,60]]\n",
    "#time cuts\n",
    "t_cuts = [-5.,-4.,-3.,-2.,-1.,-0.8,-0.6,-0.4,-0.2,0.,0.2,0.4,0.6,0.8,1.,2.,3.,4.,5.]\n",
    "#print len(t_cuts)\n",
    "\n",
    "# jetTime = tree['jetTime'].array()\n",
    "# jetPt = tree['jetPt'].array()\n",
    "# weight = tree['weight'].array()\n",
    "# print np.unique(weight)\n",
    "# print 'Time',jetTime[:3]\n",
    "# print 'Pt',jetPt[:3]\n",
    "# print 'Weight',weight[:3]\n",
    "\n",
    "# loop over events and get an array of maximum jet time in events\n",
    "jetTime_max = []\n",
    "jetTime_valid = jetTime[np.logical_not(np.isnan(jetTime))]\n",
    "for evt, w in enumerate(weight):\n",
    "#     print(evt,w)\n",
    "#     print(jetTime[evt])\n",
    "#     print(jetTime_valid[evt])\n",
    "#     print(np.amax(jetTime[evt]))\n",
    "#     print(np.amax(jetTime_valid[evt]))\n",
    "#     jetTime_v = jetTime[np.logical_not(np.isnan(jetTime))]\n",
    "#     print(len(jetTime_valid[evt]))\n",
    "    if len(jetTime_valid[evt]>0):\n",
    "        max_t =  np.amax(jetTime_valid[evt])\n",
    "        jetTime_max.append(max_t)\n",
    "    else:\n",
    "        jetTime_max.append(-99.)\n",
    "#     if evt>10:\n",
    "#         break\n",
    "jetTime_max = np.array(jetTime_max)"
   ]
  },
  {
   "cell_type": "code",
   "execution_count": 6,
   "metadata": {},
   "outputs": [
    {
     "name": "stdout",
     "output_type": "stream",
     "text": [
      "31561.922\n",
      "0 -5.0\n",
      "31111.223\n",
      "1 -4.0\n",
      "31110.498\n",
      "2 -3.0\n",
      "31108.256\n",
      "3 -2.0\n",
      "31099.88\n",
      "4 -1.0\n",
      "31038.088\n",
      "5 -0.8\n",
      "30952.955\n",
      "6 -0.6\n",
      "30619.715\n",
      "7 -0.4\n",
      "29415.557\n",
      "8 -0.2\n",
      "26285.299\n",
      "9 0.0\n",
      "20762.373\n",
      "10 0.2\n",
      "14184.001\n",
      "11 0.4\n",
      "8871.43\n",
      "12 0.6\n",
      "5584.649\n",
      "13 0.8\n",
      "3683.1228\n",
      "14 1.0\n",
      "2516.652\n",
      "15 2.0\n",
      "484.49036\n",
      "16 3.0\n",
      "118.05281\n",
      "17 4.0\n",
      "38.13591\n",
      "18 5.0\n",
      "16.226973\n",
      "Rejection power [1.01448671e+00 1.01451034e+00 1.01458346e+00 1.01485668e+00\n",
      " 1.01687713e+00 1.01967395e+00 1.03077125e+00 1.07296701e+00\n",
      " 1.20074427e+00 1.52015002e+00 2.22517764e+00 3.55770411e+00\n",
      " 5.65154986e+00 8.56933737e+00 1.25412336e+01 6.51445823e+01\n",
      " 2.67354260e+02 8.27616854e+02 1.94502836e+03]\n"
     ]
    }
   ],
   "source": [
    "#apply jet time cut\n",
    "# for evt, (w, tmax) in enumerate(zip(weight,jetTime_max)):\n",
    "#     print(evt,w,tmax)\n",
    "#     if evt>2:\n",
    "#         break\n",
    "        \n",
    "Ntotal_w = np.sum(weight)\n",
    "print(Ntotal_w)\n",
    "\n",
    "Power_rej_i = []\n",
    " \n",
    "for p, q in enumerate(t_cuts):\n",
    "    print(p,q)\n",
    "    tcut_string = np.logical_and( jetTime_max > q, jetTime_max)\n",
    "    tcutted_t_v = jetTime_max[tcut_string]\n",
    "    tcutted_w_v = weight[tcut_string]\n",
    "#     Ntotal_w = tcutted_w_v.shape[0]\n",
    "    Nsel_w = np.sum(tcutted_w_v)\n",
    "    print(Nsel_w)\n",
    "    Nrej_w = 1.*Ntotal_w - 1.*Nsel_w\n",
    "    Prej_i = 1.0*Ntotal_w/Nsel_w\n",
    "    Power_rej_i.append(Prej_i)\n",
    "Power_rej_i = np.array(Power_rej_i) \n",
    "print('Rejection power',Power_rej_i)\n",
    "        "
   ]
  },
  {
   "cell_type": "code",
   "execution_count": 8,
   "metadata": {},
   "outputs": [
    {
     "name": "stderr",
     "output_type": "stream",
     "text": [
      "Warning in <TCanvas::Constructor>: Deleting canvas with same name: c\n",
      "Info in <TCanvas::Print>: png file /nfshome/jmao/cms-llp/plots/20190506/RejectionPower_Inclusive_Time.png has been created\n",
      "Info in <TCanvas::Print>: pdf file /nfshome/jmao/cms-llp/plots/20190506/RejectionPower_Inclusive_Time.pdf has been created\n"
     ]
    },
    {
     "data": {
      "image/png": "[encoded data removed]",
      "text/plain": [
       "<IPython.core.display.Image object>"
      ]
     },
     "metadata": {},
     "output_type": "display_data"
    }
   ],
   "source": [
    "#make plot\n",
    "c = rt.TCanvas('c','c', 800, 600)\n",
    "leg = rt.TLegend(0.22,0.68,0.55,0.90);\n",
    "leg.SetTextSize(0.03)\n",
    "rt.gStyle.SetOptStat(0000)\n",
    "i = 0\n",
    "\n",
    "# hrej_i = {}\n",
    "\n",
    "t_cuts = np.array(t_cuts) \n",
    "power = np.array(Power_rej_i) \n",
    "num = len(t_cuts)\n",
    "#print num, t_cuts, power\n",
    "hrej_i = rt.TGraph(num , t_cuts, power)\n",
    "\n",
    "hrej_i.SetLineColor(std_color_list[i])\n",
    "hrej_i.SetMarkerColor(std_color_list[i])\n",
    "hrej_i.SetMarkerStyle(22+i)\n",
    "#     hrej[m].SetMarkerSize(2)\n",
    "\n",
    "\n",
    "leg.SetBorderSize(0)\n",
    "\n",
    "hrej_i.SetTitle( 'Rejection Power' )\n",
    "hrej_i.GetXaxis().SetTitle( 'Time Cut [ns]' )\n",
    "#hrej[m].GetXaxis().SetRangeUser(-10,10)\n",
    "hrej_i.GetYaxis().SetRangeUser(0,10000)\n",
    "hrej_i.GetYaxis().SetTitle( 'Rejection Power' )\n",
    "hrej_i.Draw('ALP')\n",
    "\n",
    "\n",
    "leg.Draw()\n",
    "c.SetLogy()\n",
    "c.Draw()\n",
    "c.SaveAs(out_dir+'RejectionPower_Inclusive_Time.png')\n",
    "c.SaveAs(out_dir+'RejectionPower_Inclusive_Time.pdf')\n"
   ]
  },
  {
   "cell_type": "code",
   "execution_count": 10,
   "metadata": {},
   "outputs": [
    {
     "name": "stdout",
     "output_type": "stream",
     "text": [
      " FCN=573383 FROM MIGRAD    STATUS=CONVERGED      87 CALLS          88 TOTAL\n",
      "                     EDM=5.10186e-10    STRATEGY= 1      ERROR MATRIX ACCURATE \n",
      "  EXT PARAMETER                                   STEP         FIRST   \n",
      "  NO.   NAME      VALUE            ERROR          SIZE      DERIVATIVE \n",
      "   1  Constant     6.38472e+03   1.17678e+00   3.40981e-01  -3.06102e-05\n",
      "   2  Mean        -1.15655e-01   4.41757e-05   1.63012e-05   4.59736e-02\n",
      "   3  Sigma        3.05231e-01   3.49398e-05   1.04780e-05  -1.02355e+00\n"
     ]
    },
    {
     "name": "stderr",
     "output_type": "stream",
     "text": [
      "Warning in <TCanvas::Constructor>: Deleting canvas with same name: c\n",
      "Warning in <TROOT::Append>: Replacing existing TH1: HT500to700 (Potential memory leak).\n",
      "Info in <TCanvas::Print>: png file /nfshome/jmao/cms-llp/plots/20190506/JetTime_leading_fit.png has been created\n",
      "Info in <TCanvas::Print>: pdf file /nfshome/jmao/cms-llp/plots/20190506/JetTime_leading_fit.pdf has been created\n"
     ]
    },
    {
     "data": {
      "image/png": "[encoded data removed]",
      "text/plain": [
       "<IPython.core.display.Image object>"
      ]
     },
     "metadata": {},
     "output_type": "display_data"
    }
   ],
   "source": [
    "# plot leading jet time\n",
    "c = rt.TCanvas('c','c', 800, 600)\n",
    "leg = rt.TLegend(0.62,0.68,0.95,0.90);\n",
    "leg.SetTextSize(0.03)\n",
    "rt.gStyle.SetOptStat(0000)\n",
    "i = 0\n",
    "\n",
    "jetTime = tree['jetTime'].array()\n",
    "weight = tree['weight'].array()\n",
    "t = jetTime[:,0]\n",
    "ht0 = create_TH1D( t, axis_title=['jetTime [ns]', 'fraction of events'], name=HT, binning=[50,-5,5],weights = weight)\n",
    "ht0.SetLineColor(std_color_list[i])\n",
    "ht0.SetMarkerColor(std_color_list[i])\n",
    "\n",
    "\n",
    "leg.AddEntry(ht0,HT)\n",
    "leg.SetBorderSize(0)\n",
    "\n",
    "ht0.DrawNormalized('')\n",
    "ht0.Fit('gaus','','',-2,2)\n",
    " \n",
    "# leg.Draw()\n",
    "c.SetLogy()\n",
    "c.Draw()\n",
    "c.SaveAs(out_dir+'JetTime_leading_fit.png')\n",
    "c.SaveAs(out_dir+'JetTime_leading_fit.pdf')"
   ]
  },
  {
   "cell_type": "code",
   "execution_count": 12,
   "metadata": {},
   "outputs": [
    {
     "name": "stdout",
     "output_type": "stream",
     "text": [
      " FCN=847262 FROM MIGRAD    STATUS=CONVERGED      68 CALLS          69 TOTAL\n",
      "                     EDM=1.64363e-08    STRATEGY= 1      ERROR MATRIX ACCURATE \n",
      "  EXT PARAMETER                                   STEP         FIRST   \n",
      "  NO.   NAME      VALUE            ERROR          SIZE      DERIVATIVE \n",
      "   1  Constant     5.68124e+03   1.08130e+00   3.71401e-01  -6.34107e-06\n",
      "   2  Mean        -1.12984e-01   4.92272e-05   2.21152e-05   2.97875e+00\n",
      "   3  Sigma        3.38282e-01   4.15185e-05   1.32066e-05  -2.76944e+00\n"
     ]
    },
    {
     "name": "stderr",
     "output_type": "stream",
     "text": [
      "Warning in <TCanvas::Constructor>: Deleting canvas with same name: c\n",
      "Warning in <TROOT::Append>: Replacing existing TH1: HT500to700 (Potential memory leak).\n",
      "Info in <TCanvas::Print>: png file /nfshome/jmao/cms-llp/plots/20190506/JetTime_subleading_fit.png has been created\n",
      "Info in <TCanvas::Print>: pdf file /nfshome/jmao/cms-llp/plots/20190506/JetTime_subleading_fit.pdf has been created\n"
     ]
    },
    {
     "data": {
      "image/png": "[encoded data removed]",
      "text/plain": [
       "<IPython.core.display.Image object>"
      ]
     },
     "metadata": {},
     "output_type": "display_data"
    }
   ],
   "source": [
    "# plot subleading jet time\n",
    "c = rt.TCanvas('c','c', 800, 600)\n",
    "leg = rt.TLegend(0.62,0.68,0.95,0.90);\n",
    "leg.SetTextSize(0.03)\n",
    "rt.gStyle.SetOptStat(0000)\n",
    "i = 0\n",
    "\n",
    "# jetTime = tree['jetTime'].array()\n",
    "# weight = tree['weight'].array()\n",
    "t = jetTime[:,1]\n",
    "ht1 = create_TH1D( t, axis_title=['jetTime [ns]', 'fraction of events'], name=HT, binning=[50,-5,5],weights = weight)\n",
    "ht1.SetLineColor(std_color_list[i])\n",
    "ht1.SetMarkerColor(std_color_list[i])\n",
    "\n",
    "\n",
    "leg.AddEntry(ht1,HT)\n",
    "leg.SetBorderSize(0)\n",
    "\n",
    "ht1.DrawNormalized('')\n",
    "ht1.Fit('gaus','','',-2,2)\n",
    "  \n",
    "# leg.Draw()\n",
    "c.SetLogy()\n",
    "c.Draw()\n",
    "c.SaveAs(out_dir+'JetTime_subleading_fit.png')\n",
    "c.SaveAs(out_dir+'JetTime_subleading_fit.pdf')"
   ]
  },
  {
   "cell_type": "code",
   "execution_count": 16,
   "metadata": {
    "scrolled": false
   },
   "outputs": [
    {
     "name": "stdout",
     "output_type": "stream",
     "text": [
      " FCN=1.49479e+06 FROM MIGRAD    STATUS=CONVERGED      75 CALLS          76 TOTAL\n",
      "                     EDM=3.75612e-10    STRATEGY= 1      ERROR MATRIX ACCURATE \n",
      "  EXT PARAMETER                                   STEP         FIRST   \n",
      "  NO.   NAME      VALUE            ERROR          SIZE      DERIVATIVE \n",
      "   1  Constant     1.93247e+04   1.92316e+00   8.58884e-01   1.65674e-05\n",
      "   2  Mean        -1.08846e-01   2.97889e-05   1.77733e-05   1.36568e-01\n",
      "   3  Sigma        3.83893e-01   2.75157e-05   1.08214e-05   1.41493e+00\n"
     ]
    },
    {
     "name": "stderr",
     "output_type": "stream",
     "text": [
      "Warning in <TCanvas::Constructor>: Deleting canvas with same name: c\n",
      "Warning in <TROOT::Append>: Replacing existing TH1: HT500to700 (Potential memory leak).\n",
      "Info in <TCanvas::Print>: png file /nfshome/jmao/cms-llp/plots/20190506/JetTime_all_fit.png has been created\n",
      "Info in <TCanvas::Print>: pdf file /nfshome/jmao/cms-llp/plots/20190506/JetTime_all_fit.pdf has been created\n"
     ]
    },
    {
     "data": {
      "image/png": "[encoded data removed]",
      "text/plain": [
       "<IPython.core.display.Image object>"
      ]
     },
     "metadata": {},
     "output_type": "display_data"
    }
   ],
   "source": [
    "# plot all jet time\n",
    "c = rt.TCanvas('c','c', 800, 600)\n",
    "leg = rt.TLegend(0.62,0.68,0.95,0.90);\n",
    "leg.SetTextSize(0.03)\n",
    "rt.gStyle.SetOptStat(0000)\n",
    "i = 0\n",
    "\n",
    "jetTime = tree['jetTime'].array()\n",
    "sizes = [len(x) for x in jetTime]\n",
    "t = jetTime.flatten()\n",
    "flat_weight = []\n",
    "for j, (n, val) in enumerate(zip(sizes, weight)):\n",
    "    #print n\n",
    "    #print val\n",
    "    #print n*[val]\n",
    "    flat_weight += n*[val]\n",
    "    #print flat_weight[k]\n",
    "flat_weight = np.array(flat_weight)\n",
    "ht = create_TH1D( t, axis_title=['jetTime [ns]', 'fraction of events'], name=HT, binning=[50,-5,5], weights = flat_weight)\n",
    "ht.SetLineColor(std_color_list[i])\n",
    "ht.SetMarkerColor(std_color_list[i])\n",
    "\n",
    "\n",
    "leg.AddEntry(ht,HT)\n",
    "leg.SetBorderSize(0)\n",
    "#h[k].GetYaxis().SetRangeUser(0,500)\n",
    " \n",
    "ht.DrawNormalized('')\n",
    "ht.Fit('gaus','','',-1,1)\n",
    "\n",
    "# leg.Draw()\n",
    "c.SetLogy()\n",
    "c.Draw()\n",
    "c.SaveAs(out_dir+'JetTime_all_fit.png')\n",
    "c.SaveAs(out_dir+'JetTime_all_fit.pdf')"
   ]
  },
  {
   "cell_type": "code",
   "execution_count": 23,
   "metadata": {
    "scrolled": false
   },
   "outputs": [
    {
     "name": "stdout",
     "output_type": "stream",
     "text": [
      " FCN=1.49479e+06 FROM MIGRAD    STATUS=CONVERGED      85 CALLS          86 TOTAL\n",
      "                     EDM=3.73962e-10    STRATEGY= 1      ERROR MATRIX ACCURATE \n",
      "  EXT PARAMETER                                   STEP         FIRST   \n",
      "  NO.   NAME      VALUE            ERROR          SIZE      DERIVATIVE \n",
      "   1  Constant     1.93247e+04   1.92316e+00   8.58884e-01   1.65450e-05\n",
      "   2  Mean        -1.08846e-01   2.97889e-05   1.77733e-05   1.36731e-01\n",
      "   3  Sigma        3.83893e-01   2.75157e-05   1.08214e-05   1.41089e+00\n",
      " FCN=1.02088e+07 FROM MIGRAD    STATUS=CONVERGED      76 CALLS          77 TOTAL\n",
      "                     EDM=2.02743e-12    STRATEGY= 1  ERROR MATRIX UNCERTAINTY   2.0 per cent\n",
      "  EXT PARAMETER                                   STEP         FIRST   \n",
      "  NO.   NAME      VALUE            ERROR          SIZE      DERIVATIVE \n",
      "   1  Constant     1.85273e+04   1.92287e+00  -2.49098e-03  -1.80780e-06\n",
      "   2  Mean        -1.13021e-01   2.97890e-05  -1.82183e-07   2.95018e-02\n",
      "   3  Sigma        4.04251e-01   2.95692e-05  -1.67508e-08  -1.49780e-01\n",
      " FCN=1.07169e+07 FROM MIGRAD    STATUS=FAILED        316 CALLS         317 TOTAL\n",
      "                     EDM=112638    STRATEGY= 1  ERROR MATRIX UNCERTAINTY 100.0 per cent\n",
      "  EXT PARAMETER                APPROXIMATE        STEP         FIRST   \n",
      "  NO.   NAME      VALUE            ERROR          SIZE      DERIVATIVE \n",
      "   1  Constant 1   1.94560e+04   1.43550e+00  -0.00000e+00   1.93515e-05\n",
      "   2  Mean 1      -1.08846e-01   2.90976e-01  -0.00000e+00   0.00000e+00\n",
      "   3  Sigma 1      3.83893e-01   2.73793e-05  -0.00000e+00   1.22580e+07\n",
      "   4  Constant 2   0.00000e+00   4.24264e-01  -0.00000e+00   0.00000e+00\n",
      "   5  Mean 2      -1.08846e-01   1.41421e+00  -0.00000e+00   0.00000e+00\n",
      "   6  Sigma 2      0.00000e+00   1.41421e+00  -0.00000e+00   0.00000e+00\n"
     ]
    },
    {
     "name": "stderr",
     "output_type": "stream",
     "text": [
      "Warning in <TCanvas::Constructor>: Deleting canvas with same name: c\n",
      "Warning in <TROOT::Append>: Replacing existing TH1: HT500to700 (Potential memory leak).\n",
      "Warning in <Fit>: Abnormal termination of minimization.\n",
      "Info in <TCanvas::Print>: png file /nfshome/jmao/cms-llp/plots/20190506/JetTime_all_fit2.png has been created\n",
      "Info in <TCanvas::Print>: pdf file /nfshome/jmao/cms-llp/plots/20190506/JetTime_all_fit2.pdf has been created\n"
     ]
    },
    {
     "data": {
      "image/png": "[encoded data removed]",
      "text/plain": [
       "<IPython.core.display.Image object>"
      ]
     },
     "metadata": {},
     "output_type": "display_data"
    }
   ],
   "source": [
    "# plot all jet time\n",
    "c = rt.TCanvas('c','c', 800, 600)\n",
    "leg = rt.TLegend(0.62,0.68,0.95,0.90);\n",
    "leg.SetTextSize(0.03)\n",
    "rt.gStyle.SetOptStat(0000)\n",
    "i = 0\n",
    "\n",
    "jetTime = tree['jetTime'].array()\n",
    "sizes = [len(x) for x in jetTime]\n",
    "t = jetTime.flatten()\n",
    "flat_weight = []\n",
    "for j, (n, val) in enumerate(zip(sizes, weight)):\n",
    "    #print n\n",
    "    #print val\n",
    "    #print n*[val]\n",
    "    flat_weight += n*[val]\n",
    "    #print flat_weight[k]\n",
    "flat_weight = np.array(flat_weight)\n",
    "ht = create_TH1D( t, axis_title=['jetTime [ns]', 'fraction of events'], name=HT, binning=[50,-5,5], weights = flat_weight)\n",
    "ht.SetLineColor(std_color_list[i])\n",
    "ht.SetMarkerColor(std_color_list[i])\n",
    "\n",
    "\n",
    "leg.AddEntry(ht,HT)\n",
    "leg.SetBorderSize(0)\n",
    "#h[k].GetYaxis().SetRangeUser(0,500)\n",
    " \n",
    "ht.DrawNormalized('')\n",
    "# ht.Fit('gaus','','',-1,1)\n",
    "\n",
    "g1 = rt.TF1('m1','gaus',-1,1)\n",
    "g1.SetLineWidth(2)\n",
    "g1.SetLineColor(std_color_list[i+1])\n",
    "g2 = rt.TF1('m2','gaus',-10,10)\n",
    "g2.SetLineWidth(2)\n",
    "g2.SetLineColor(std_color_list[i+2])\n",
    "\n",
    "f1 = rt.TF1(\"double_gaus\", \"gaus(0) + gaus(3)\", -10, 10);\n",
    "f1.SetParNames(\"Constant 1\", \"Mean 1\", \"Sigma 1\",\"Constant 2\", \"Mean 2\", \"Sigma 2\");\n",
    "f1.SetLineWidth(2)\n",
    "f1.SetLineColor(std_color_list[i+3])\n",
    "\n",
    "ht.Fit(g1, \"R\")\n",
    "ht.Fit(g2, \"R\")\n",
    "    \n",
    "# f1.SetParameter(0,g1.GetParameter(1))\n",
    "f1.SetParameter(1,g1.GetParameter(1))\n",
    "f1.SetParameter(2,g1.GetParameter(2))\n",
    "# f1.SetParameter(3,g2.GetParameter(1))\n",
    "f1.SetParameter(4,g1.GetParameter(1))\n",
    "# f1.SetParameter(4,g2.GetParameter(1))\n",
    "# f1.SetParameter(5,g2.GetParameter(2))\n",
    "# print(g1.GetParameter(1))\n",
    "\n",
    "    \n",
    "ht.Fit(f1,'R')  \n",
    "f1.Draw('Lsame')\n",
    "g1.Draw('Lsame')\n",
    "g2.Draw('Lsame')\n",
    "\n",
    "# leg.Draw()\n",
    "c.SetLogy()\n",
    "c.Draw()\n",
    "c.SaveAs(out_dir+'JetTime_all_fit2.png')\n",
    "c.SaveAs(out_dir+'JetTime_all_fit2.pdf')"
   ]
  },
  {
   "cell_type": "code",
   "execution_count": null,
   "metadata": {},
   "outputs": [],
   "source": []
  }
 ],
 "metadata": {
  "kernelspec": {
   "display_name": "Python 2",
   "language": "python",
   "name": "python2"
  },
  "language_info": {
   "codemirror_mode": {
    "name": "ipython",
    "version": 3
   },
   "file_extension": ".py",
   "mimetype": "text/x-python",
   "name": "python",
   "nbconvert_exporter": "python",
   "pygments_lexer": "ipython3",
   "version": "3.6.8"
  }
 },
 "nbformat": 4,
 "nbformat_minor": 2
}
