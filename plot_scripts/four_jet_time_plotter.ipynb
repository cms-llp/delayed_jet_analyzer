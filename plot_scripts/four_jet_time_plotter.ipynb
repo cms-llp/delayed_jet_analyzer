{
 "cells": [
  {
   "cell_type": "code",
   "execution_count": 1,
   "metadata": {},
   "outputs": [
    {
     "name": "stdout",
     "output_type": "stream",
     "text": [
      "Welcome to JupyROOT 6.16/00\n"
     ]
    }
   ],
   "source": [
    "import ROOT as rt\n",
    "import root_numpy as rtnp\n",
    "import numpy as np\n",
    "from matplotlib import pyplot as plt\n",
    "import sys\n",
    "sys.path.append('/nfshome/christiw/llp/delayed_jet_analyzer/lib/')\n",
    "from histo_utilities import create_TH1D, create_TH2D, std_color_list, binning2d, histo2D_projectionFit\n",
    "from helper_functions import getRecoTime\n",
    "from array import array\n",
    "import CMS_lumi, tdrstyle\n",
    "import math\n",
    "import uproot\n",
    "tdrstyle.setTDRStyle()\n",
    "CMS_lumi.writeExtraText = 1\n",
    "\n",
    "CMS_lumi.extraText = \" Simulation Preliminary\"\n",
    "\n",
    "donotdelete = []"
   ]
  },
  {
   "cell_type": "code",
   "execution_count": 8,
   "metadata": {},
   "outputs": [
    {
     "name": "stdout",
     "output_type": "stream",
     "text": [
      "WJetsToLNu /nfshome/christiw/llp/jet_timing_studies_root/jet_timing_studies_ntuple_RunIIFall17DRPremix_WJetsToLNu_TuneCP5_13TeV-madgraphMLM-pythia8.root\n",
      "[59.339394 27.090656 22.657576]\n",
      "bbbb_mh125_ctau1 /nfshome/christiw/llp/jet_timing_studies_root/jet_timing_studies_ntuple_bbbb_vh_ISR_mh125_mx50_pl1000_ev100000.root\n",
      "[64.42451  51.139175 37.67556 ]\n",
      "bbbb_mh125_ctau10 /nfshome/christiw/llp/jet_timing_studies_root/jet_timing_studies_ntuple_bbbb_vh_ISR_mh125_mx50_pl10000_ev100000.root\n",
      "[30.621801]\n",
      "bbbb_mh2000_ctau1 /nfshome/christiw/llp/jet_timing_studies_root/jet_timing_studies_ntuple_bbbb_vh_ISR_mh2000_mx975_pl1000_ev100000.root\n",
      "[539.81354 272.1115  250.49152 248.0052  144.67659 101.62265]\n"
     ]
    }
   ],
   "source": [
    "fpath = {}\n",
    "tree = {}\n",
    "bkg_path = \"/home/cms/Desktop/LLP/delayed_jet_analyzer/\"\n",
    "bkg_path = \"/nfshome/christiw/llp/jet_timing_studies_root/\"\n",
    "lumi = 137000 #in pb-1\n",
    "\n",
    "fpath['WJetsToLNu'] = bkg_path+\"jet_timing_studies_ntuple_RunIIFall17DRPremix_WJetsToLNu_TuneCP5_13TeV-madgraphMLM-pythia8.root\"\n",
    "fpath['bbbb_mh125_ctau1'] = bkg_path+'jet_timing_studies_ntuple_bbbb_vh_ISR_mh125_mx50_pl1000_ev100000.root'\n",
    "fpath['bbbb_mh125_ctau10'] = bkg_path+'jet_timing_studies_ntuple_bbbb_vh_ISR_mh125_mx50_pl10000_ev100000.root'\n",
    "fpath['bbbb_mh2000_ctau1'] = bkg_path+'jet_timing_studies_ntuple_bbbb_vh_ISR_mh2000_mx975_pl1000_ev100000.root'\n",
    "\n",
    "# fpath['WJetsToLNu'] = '/nfshome/christiw/llp/jetNtuple_RunIISummer16/test/jet_timing_studies_ntuple_RunIIFall17DRPremix_WJetsToLNu_1J_TuneCP5_13TeV-amcatnloFXFX-pythia8.root'\n",
    "\n",
    "# fpath['qcd300to500'] ='/home/cms/Desktop/LLP/jetNtuple_4jet/jetNtuple_QCD_HT300to500.root'\n",
    "# fpath['m500ctau30'] = '/home/cms/Desktop/LLP/jetNtuple_4jet/jetNtuple_M-500_CTau-30mm.root'\n",
    "\n",
    "# fpath['m500ctau3r1'] = '/home/cms/Desktop/LLP/jetNtuple_4jet/jetNtuple_M-500_CTau-3mm_rlt1cm_zlt10cm.root'\n",
    "# fpath['m500ctau3r0p1'] = '/home/cms/Desktop/LLP/jetNtuple_4jet/jetNtuple_M-500_CTau-3mm_rlt0p1cm_zlt10cm.root'\n",
    "legend = {'m500ctau1000', 'Mass = 500 GeV, ctau = 1 m'}\n",
    "\n",
    "\n",
    "for k,v in fpath.items():\n",
    "    print (k, v)\n",
    "    root_dir = uproot.open(v) \n",
    "    tree[k] = root_dir['ntuples']['llp']\n",
    "    a = tree[k][\"jetPt\"].array()\n",
    "\n",
    "    print (a[:-1][0])"
   ]
  },
  {
   "cell_type": "code",
   "execution_count": 7,
   "metadata": {},
   "outputs": [],
   "source": [
    "T = tree['WJetsToLNu']\n",
    "\n"
   ]
  },
  {
   "cell_type": "markdown",
   "metadata": {},
   "source": [
    "# Reco Time"
   ]
  },
  {
   "cell_type": "code",
   "execution_count": 10,
   "metadata": {
    "scrolled": false
   },
   "outputs": [
    {
     "ename": "TypeError",
     "evalue": "'TBranch' object is not iterable",
     "output_type": "error",
     "traceback": [
      "\u001b[0;31m---------------------------------------------------------------------------\u001b[0m",
      "\u001b[0;31mTypeError\u001b[0m                                 Traceback (most recent call last)",
      "\u001b[0;32m<ipython-input-10-9a8065fd90e0>\u001b[0m in \u001b[0;36m<module>\u001b[0;34m\u001b[0m\n\u001b[1;32m      1\u001b[0m \u001b[0mT\u001b[0m \u001b[0;34m=\u001b[0m \u001b[0mtree\u001b[0m\u001b[0;34m[\u001b[0m\u001b[0;34m'bbbb_mh125_ctau1'\u001b[0m\u001b[0;34m]\u001b[0m\u001b[0;34m\u001b[0m\u001b[0m\n\u001b[0;32m----> 2\u001b[0;31m \u001b[0mmax_jet_reco_time\u001b[0m \u001b[0;34m=\u001b[0m \u001b[0mnp\u001b[0m\u001b[0;34m.\u001b[0m\u001b[0marray\u001b[0m\u001b[0;34m(\u001b[0m\u001b[0;34m[\u001b[0m\u001b[0mx\u001b[0m\u001b[0;34m[\u001b[0m\u001b[0;36m0\u001b[0m\u001b[0;34m]\u001b[0m \u001b[0;32mif\u001b[0m \u001b[0mlen\u001b[0m\u001b[0;34m(\u001b[0m\u001b[0mx\u001b[0m\u001b[0;34m)\u001b[0m \u001b[0;32melse\u001b[0m \u001b[0;34m-\u001b[0m\u001b[0;36m1\u001b[0m \u001b[0;32mfor\u001b[0m \u001b[0mx\u001b[0m \u001b[0;32min\u001b[0m \u001b[0mT\u001b[0m\u001b[0;34m[\u001b[0m\u001b[0;34m'jet_rechit_T'\u001b[0m\u001b[0;34m]\u001b[0m\u001b[0;34m]\u001b[0m\u001b[0;34m)\u001b[0m\u001b[0;34m\u001b[0m\u001b[0m\n\u001b[0m\u001b[1;32m      3\u001b[0m \u001b[0mmax_jet_reco_time1\u001b[0m \u001b[0;34m=\u001b[0m \u001b[0mnp\u001b[0m\u001b[0;34m.\u001b[0m\u001b[0marray\u001b[0m\u001b[0;34m(\u001b[0m\u001b[0;34m[\u001b[0m\u001b[0mx\u001b[0m\u001b[0;34m[\u001b[0m\u001b[0;36m0\u001b[0m\u001b[0;34m]\u001b[0m \u001b[0;32mif\u001b[0m \u001b[0mlen\u001b[0m\u001b[0;34m(\u001b[0m\u001b[0mx\u001b[0m\u001b[0;34m)\u001b[0m \u001b[0;32melse\u001b[0m \u001b[0;34m-\u001b[0m\u001b[0;36m1\u001b[0m \u001b[0;32mfor\u001b[0m \u001b[0mx\u001b[0m \u001b[0;32min\u001b[0m \u001b[0mT\u001b[0m\u001b[0;34m[\u001b[0m\u001b[0;34m'jet_rechit_T_Ecut1'\u001b[0m\u001b[0;34m]\u001b[0m\u001b[0;34m]\u001b[0m\u001b[0;34m)\u001b[0m\u001b[0;34m\u001b[0m\u001b[0m\n\u001b[1;32m      4\u001b[0m \u001b[0mmax_jet_reco_time2\u001b[0m \u001b[0;34m=\u001b[0m \u001b[0mnp\u001b[0m\u001b[0;34m.\u001b[0m\u001b[0marray\u001b[0m\u001b[0;34m(\u001b[0m\u001b[0;34m[\u001b[0m\u001b[0mx\u001b[0m\u001b[0;34m[\u001b[0m\u001b[0;36m0\u001b[0m\u001b[0;34m]\u001b[0m \u001b[0;32mif\u001b[0m \u001b[0mlen\u001b[0m\u001b[0;34m(\u001b[0m\u001b[0mx\u001b[0m\u001b[0;34m)\u001b[0m \u001b[0;32melse\u001b[0m \u001b[0;34m-\u001b[0m\u001b[0;36m1\u001b[0m \u001b[0;32mfor\u001b[0m \u001b[0mx\u001b[0m \u001b[0;32min\u001b[0m \u001b[0mT\u001b[0m\u001b[0;34m[\u001b[0m\u001b[0;34m'jet_rechit_T_Ecut2'\u001b[0m\u001b[0;34m]\u001b[0m\u001b[0;34m]\u001b[0m\u001b[0;34m)\u001b[0m\u001b[0;34m\u001b[0m\u001b[0m\n\u001b[1;32m      5\u001b[0m \u001b[0mmax_jet_reco_time3\u001b[0m \u001b[0;34m=\u001b[0m \u001b[0mnp\u001b[0m\u001b[0;34m.\u001b[0m\u001b[0marray\u001b[0m\u001b[0;34m(\u001b[0m\u001b[0;34m[\u001b[0m\u001b[0mx\u001b[0m\u001b[0;34m[\u001b[0m\u001b[0;36m0\u001b[0m\u001b[0;34m]\u001b[0m \u001b[0;32mif\u001b[0m \u001b[0mlen\u001b[0m\u001b[0;34m(\u001b[0m\u001b[0mx\u001b[0m\u001b[0;34m)\u001b[0m \u001b[0;32melse\u001b[0m \u001b[0;34m-\u001b[0m\u001b[0;36m1\u001b[0m \u001b[0;32mfor\u001b[0m \u001b[0mx\u001b[0m \u001b[0;32min\u001b[0m \u001b[0mT\u001b[0m\u001b[0;34m[\u001b[0m\u001b[0;34m'jet_rechit_T_Ecut3'\u001b[0m\u001b[0;34m]\u001b[0m\u001b[0;34m]\u001b[0m\u001b[0;34m)\u001b[0m\u001b[0;34m\u001b[0m\u001b[0m\n",
      "\u001b[0;32m/usr/local/lib/python3.6/site-packages/uproot/tree.py\u001b[0m in \u001b[0;36m__iter__\u001b[0;34m(self)\u001b[0m\n\u001b[1;32m   1648\u001b[0m     \u001b[0;32mdef\u001b[0m \u001b[0m__iter__\u001b[0m\u001b[0;34m(\u001b[0m\u001b[0mself\u001b[0m\u001b[0;34m)\u001b[0m\u001b[0;34m:\u001b[0m\u001b[0;34m\u001b[0m\u001b[0m\n\u001b[1;32m   1649\u001b[0m         \u001b[0;31m# prevent Python's attempt to interpret __len__ and __getitem__ as iteration\u001b[0m\u001b[0;34m\u001b[0m\u001b[0;34m\u001b[0m\u001b[0m\n\u001b[0;32m-> 1650\u001b[0;31m         \u001b[0;32mraise\u001b[0m \u001b[0mTypeError\u001b[0m\u001b[0;34m(\u001b[0m\u001b[0;34m\"'TBranch' object is not iterable\"\u001b[0m\u001b[0;34m)\u001b[0m\u001b[0;34m\u001b[0m\u001b[0m\n\u001b[0m\u001b[1;32m   1651\u001b[0m \u001b[0;34m\u001b[0m\u001b[0m\n\u001b[1;32m   1652\u001b[0m \u001b[0;31m################################################################ for quickly getting numentries\u001b[0m\u001b[0;34m\u001b[0m\u001b[0;34m\u001b[0m\u001b[0m\n",
      "\u001b[0;31mTypeError\u001b[0m: 'TBranch' object is not iterable"
     ]
    }
   ],
   "source": [
    "T = tree['bbbb_mh125_ctau1']\n",
    "max_jet_reco_time = np.array([x[0] if len(x) else -1 for x in T['jet_rechit_T']])\n",
    "max_jet_reco_time1 = np.array([x[0] if len(x) else -1 for x in T['jet_rechit_T_Ecut1']])\n",
    "max_jet_reco_time2 = np.array([x[0] if len(x) else -1 for x in T['jet_rechit_T_Ecut2']])\n",
    "max_jet_reco_time3 = np.array([x[0] if len(x) else -1 for x in T['jet_rechit_T_Ecut3']])\n",
    "max_jet_reco_time4 = np.array([x[0] if len(x) else -1 for x in T['jet_rechit_T_Ecut4']])\n",
    "\n",
    "\n",
    "c = rt.TCanvas('c','c', 800, 600)\n",
    "h = {}\n",
    "# h['max_jet_pv_reco_time'] = create_TH1D( max_jet_pv_reco_time, axis_title=['Reconstructed time [ns]', 'events'], name='max_jet_pv_reco_time', binning=[200,-5,15])\n",
    "h['max_jet_reco_time'] = create_TH1D( max_jet_reco_time, axis_title=['Reconstructed time [ns]', 'events'], name='max_jet_reco_time', binning=[200,-15,15])\n",
    "h['max_jet_reco_time1'] = create_TH1D( max_jet_reco_time1, axis_title=['Reconstructed time [ns]', 'events'], name='max_jet_reco_time', binning=[200,-15,15])\n",
    "h['max_jet_reco_time2'] = create_TH1D( max_jet_reco_time2, axis_title=['Reconstructed time [ns]', 'events'], name='max_jet_reco_time', binning=[200,-15,15])\n",
    "h['max_jet_reco_time3'] = create_TH1D( max_jet_reco_time3, axis_title=['Reconstructed time [ns]', 'events'], name='max_jet_reco_time', binning=[200,-15,15])\n",
    "h['max_jet_reco_time4'] = create_TH1D( max_jet_reco_time4, axis_title=['Reconstructed time [ns]', 'events'], name='max_jet_reco_time', binning=[200,-15,15])\n",
    "\n",
    "# c.SetLogy()\n",
    "h['max_jet_reco_time'].SetLineColor(1)\n",
    "h['max_jet_reco_time1'].SetLineColor(2)\n",
    "h['max_jet_reco_time2'].SetLineColor(4)\n",
    "h['max_jet_reco_time3'].SetLineColor(8)\n",
    "h['max_jet_reco_time4'].SetLineColor(6)\n",
    "\n",
    "# h['max_jet_reco_time'].GetYaxis().SetRangeUser(0.00001,10000)\n",
    "h['max_jet_reco_time1'].DrawNormalized('')\n",
    "h['max_jet_reco_time2'].DrawNormalized('same')\n",
    "h['max_jet_reco_time3'].DrawNormalized('same')\n",
    "h['max_jet_reco_time4'].DrawNormalized('same')\n",
    "h['max_jet_reco_time'].DrawNormalized('same')\n",
    "\n",
    "# h['max_jet_reco_time4'].GetYaxis().SetRangeUser(0,1)\n",
    "\n",
    "# print(h['max_jet_pv_reco_time'].Integral())\n",
    "\n",
    "# h['max_jet_pv_reco_time'].Draw('same')\n",
    "c.SetLogy()\n",
    "\n",
    "\n",
    "# rt.enableJSVis()\n",
    "c.Draw()\n",
    "# rt.disableJSVis()\n",
    "\n",
    "c.SaveAs(\"../plots/max_jet_reco_time.pdf\")"
   ]
  },
  {
   "cell_type": "markdown",
   "metadata": {},
   "source": [
    "# Gen Time"
   ]
  },
  {
   "cell_type": "code",
   "execution_count": 13,
   "metadata": {},
   "outputs": [
    {
     "name": "stdout",
     "output_type": "stream",
     "text": [
      "[-666.0261     -666.0261        1.5604181     0.79142284] [-666.        -666.           1.5865381    0.8175428] [0.02611993]\n",
      "[-666.] 1.5865381\n"
     ]
    },
    {
     "name": "stderr",
     "output_type": "stream",
     "text": [
      "Warning in <TCanvas::Constructor>: Deleting canvas with same name: c\n",
      "Warning in <TROOT::Append>: Replacing existing TH1: max_pt_gen_time (Potential memory leak).\n",
      "Info in <TCanvas::Print>: pdf file ../plots/gen_time_bs_compare.pdf has been created\n"
     ]
    },
    {
     "data": {
      "image/png": "[encoded data removed]",
      "text/plain": [
       "<IPython.core.display.Image object>"
      ]
     },
     "metadata": {},
     "output_type": "display_data"
    }
   ],
   "source": [
    "T = tree['bbbb_mh125_ctau1']\n",
    "\n",
    "gLLP_travel_time = T['gLLP_travel_time'].array()\n",
    "genVertexT = T['genVertexT'].array()\n",
    "gen_time = T['gen_time'].array()\n",
    "gen_time_pv = T['gen_time_pv'].array()\n",
    "gen_time_pv = np.reshape(gen_time_pv,(-1,1))\n",
    "gen_time_nobs = gen_time - np.reshape(genVertexT,(-1,1)) #without beamspot correction\n",
    "\n",
    "\n",
    "print(gen_time_nobs[0],gen_time[0],np.reshape(genVertexT,(-1,1))[0])\n",
    "max_pt_gen_time = np.array([np.max(x) if len(x) else -1 for x in gen_time])\n",
    "max_pt_gen_time_nobs = np.array([np.max(x) if len(x) else -1 for x in gen_time_nobs])\n",
    "\n",
    "gen_time = np.reshape(gen_time,(-1,1))\n",
    "\n",
    "print(gen_time[0],max_pt_gen_time[0])\n",
    "\n",
    "c = rt.TCanvas('c','c', 800, 600)\n",
    "h = {}\n",
    "h['max_pt_gen_time_nobs'] = create_TH1D( max_pt_gen_time, axis_title=['t_gen [ns]', 'events'], name='max_pt_gen_time', binning=[100,-2,15])\n",
    "\n",
    "h['max_pt_gen_time'] = create_TH1D( max_pt_gen_time_nobs, axis_title=['t_gen [ns]', 'events'], name='max_pt_gen_time', binning=[100,-2,15])\n",
    "h['max_pt_gen_time'].SetLineColor(4)\n",
    "# c.SetLogy()\n",
    "\n",
    "leg = rt.TLegend(0.55,0.70,0.9,0.9);\n",
    "leg.AddEntry(h['max_pt_gen_time'],'w/ beamspot correction')\n",
    "leg.AddEntry(h['max_pt_gen_time_nobs'],'w/o beamspot correction')\n",
    "\n",
    "h['max_pt_gen_time'].DrawNormalized()\n",
    "h['max_pt_gen_time_nobs'].DrawNormalized('same')\n",
    "leg.Draw()\n",
    "c.SetLogy()\n",
    "c.Draw()\n",
    "c.SaveAs(\"../plots/gen_time_bs_compare.pdf\")"
   ]
  },
  {
   "cell_type": "code",
   "execution_count": 15,
   "metadata": {},
   "outputs": [
    {
     "name": "stdout",
     "output_type": "stream",
     "text": [
      "[-666.        -666.           1.5865381    0.8175428    1.6995276\n",
      " -666.        -666.        -666.        -666.        -666.       ] [-6.6600000e+02  2.2087402e+00 -6.6600000e+02  5.0972700e-01\n",
      " -6.6600000e+02  5.4875284e-01 -6.6600000e+02 -6.6600000e+02\n",
      " -6.6600000e+02  1.4065639e+00]\n",
      "-666.0 1.5865381\n"
     ]
    },
    {
     "name": "stderr",
     "output_type": "stream",
     "text": [
      "Warning in <TCanvas::Constructor>: Deleting canvas with same name: c\n",
      "Warning in <TROOT::Append>: Replacing existing TH1: max_pt_gen_time (Potential memory leak).\n",
      "Warning in <TROOT::Append>: Replacing existing TH1: max_pt_gen_time (Potential memory leak).\n",
      "Info in <TCanvas::Print>: pdf file ../plots/gen_time_photon_correction_compare.pdf has been created\n"
     ]
    },
    {
     "data": {
      "image/png": "[encoded data removed]",
      "text/plain": [
       "<IPython.core.display.Image object>"
      ]
     },
     "metadata": {},
     "output_type": "display_data"
    }
   ],
   "source": [
    "#reco vs. gen time different photon travel time correction\n",
    "T = tree['bbbb_mh125_ctau1']\n",
    "gen_time = T['gen_time'].array()\n",
    "gen_time = np.reshape(gen_time,(-1,1))\n",
    "gen_time = gen_time.flatten('F')\n",
    "gen_time_pv = T['gen_time_pv'].array()\n",
    "gen_time_pv = gen_time_pv.flatten('F')\n",
    "\n",
    "print(gen_time[:10],gen_time_pv[:10])\n",
    "\n",
    "\n",
    "print(gen_time[0],max_pt_gen_time[0])\n",
    "\n",
    "c = rt.TCanvas('c','c', 800, 600)\n",
    "h = {}\n",
    "h['gen_time'] = create_TH1D( gen_time, axis_title=['t_gen [ns]', 'events'], name='max_pt_gen_time', binning=[100,-2,15])\n",
    "h['gen_time_pv'] = create_TH1D( gen_time_pv, axis_title=['t_gen [ns]', 'events'], name='max_pt_gen_time', binning=[100,-2,15])\n",
    "h['gen_time_pv'].SetLineColor(4)\n",
    "# c.SetLogy()\n",
    "\n",
    "leg = rt.TLegend(0.55,0.70,0.9,0.9);\n",
    "leg.AddEntry(h['gen_time'],'photon travel time wrt origin')\n",
    "leg.AddEntry(h['gen_time_pv'],'photon travel time wrt PV')\n",
    "\n",
    "h['gen_time_pv'].DrawNormalized()\n",
    "h['gen_time'].DrawNormalized('same')\n",
    "leg.Draw()\n",
    "c.SetLogy()\n",
    "c.Draw()\n",
    "c.SaveAs(\"../plots/gen_time_photon_correction_compare.pdf\")\n",
    "\n",
    "\n"
   ]
  },
  {
   "cell_type": "markdown",
   "metadata": {},
   "source": [
    "# Matching recojet with genParticles"
   ]
  },
  {
   "cell_type": "code",
   "execution_count": 20,
   "metadata": {},
   "outputs": [
    {
     "name": "stdout",
     "output_type": "stream",
     "text": [
      "0\n",
      "1000\n",
      "2000\n",
      "3000\n",
      "4000\n",
      "5000\n",
      "6000\n",
      "7000\n",
      "8000\n",
      "9000\n",
      "10000\n",
      "11000\n",
      "12000\n",
      "13000\n",
      "14000\n",
      "15000\n",
      "16000\n",
      "17000\n",
      "18000\n",
      "19000\n",
      "20000\n",
      "21000\n",
      "22000\n",
      "23000\n",
      "24000\n",
      "25000\n",
      "26000\n",
      "27000\n",
      "28000\n",
      "29000\n",
      "30000\n",
      "31000\n",
      "32000\n",
      "33000\n",
      "34000\n",
      "35000\n",
      "36000\n",
      "37000\n",
      "38000\n",
      "39000\n",
      "40000\n",
      "41000\n",
      "42000\n",
      "43000\n",
      "44000\n",
      "45000\n",
      "46000\n",
      "47000\n",
      "48000\n",
      "49000\n",
      "50000\n",
      "51000\n",
      "52000\n",
      "53000\n",
      "54000\n",
      "55000\n",
      "56000\n",
      "57000\n",
      "58000\n",
      "59000\n",
      "60000\n",
      "61000\n",
      "62000\n",
      "63000\n",
      "64000\n",
      "65000\n",
      "66000\n"
     ]
    }
   ],
   "source": [
    "gLLP_decay_radius = np.sqrt(np.square(T['gLLP_decay_vertex_x'].array())+np.square(T['gLLP_decay_vertex_y'].array())) # (events, 2) 2LLP\n",
    "gLLP_daughter_match_jet_index = T['gLLP_daughter_match_jet_index'].array()\n",
    "gLLP_daughter_travel_time = T['gLLP_daughter_travel_time'].array()\n",
    "genVertexT = T['genVertexT'].array()\n",
    "matched_jets = np.logical_and(np.logical_not( gLLP_daughter_travel_time == -666), np.logical_not( gLLP_daughter_match_jet_index == 666))\n",
    "gen_time_var = T['gen_time'].array()\n",
    "gen_time_pv = T['gen_time_pv'].array()\n",
    "jet_pt =T['jetPt'].array()\n",
    "genJet_pt = T['genJetPt'].array()\n",
    "gLLP_daughter_match_jet_index = gLLP_daughter_match_jet_index[matched_jets]\n",
    "rechit_T_1 =  T['jet_rechit_T_Ecut1'].array()\n",
    "rechit_E_1 =  T['jet_rechit_E_Ecut1'].array()\n",
    "\n",
    "rechit_E =  T['jet_rechit_E'].array()\n",
    "rechit_T =  T['jet_rechit_T'].array()\n",
    "jet_pt =  T['jetPt'].array()\n",
    "genJet_pt = T['genJetPt'].array()\n",
    "\n",
    "ecal_energy = []\n",
    "time_response = []\n",
    "time_ecal = []\n",
    "time_rechitcut = []\n",
    "time_diff = []\n",
    "reco_time = []\n",
    "gen_time = []\n",
    "energy_ratio = []\n",
    "energy_ratio_nomerge = []\n",
    "\n",
    "ECALenergy_ratio = []\n",
    "time_tgen = []\n",
    "time_pt = []\n",
    "for i in range(len(T['gLLP_daughter_match_jet_index'].array())): #loop through each event\n",
    "    for j in range(4): #loop through each gen particle\n",
    "        index = T['gLLP_daughter_match_jet_index'].array()[i][j]\n",
    "#         genjet_index = T['gLLP_daughter_match_genJet_index'].array()[i][j]\n",
    "        if not index == 666 and matched_jets[i][j]: #matched and barrel jets\n",
    "            t_reco = rechit_T_1[i][index]\n",
    "            pt = T['gLLP_daughter_pt'].array()[i][j]\n",
    "            if j <= 1:\n",
    "                llpid = 0\n",
    "            else:\n",
    "                llpid = 1\n",
    "            time_diff.append(t_reco-gen_time_var[i][j])\n",
    "            ecal_energy.append(rechit_E_1[i][index])\n",
    "\n",
    "            reco_time.append(rechit_T_1[i][index])\n",
    "            gen_time.append(gen_time_var[i][j])\n",
    "    if i%1000 == 0:\n",
    "        print(i)\n",
    "#             if not genjet_index == 666:\n",
    "#                 temp = list(T['gLLP_daughter_match_jet_index'].array()[i])\n",
    "#                 temp.pop(j)\n",
    "#                 energy_ratio.append([jet_pt[i][jet_index]/genJet_pt[i][genjet_index],gen_time_var[i][j]])\n",
    "#                 if not (index in temp):\n",
    "#                     energy_ratio_nomerge.append([jet_pt[i][jet_index]/genJet_pt[i][genjet_index],gen_time_var[i][j]])\n",
    "#                     ECALenergy_ratio.append([rechit_E_1[i][jet_index]/genJet_pt[i][genjet_index],gen_time_var[i][j]])\n",
    "\n"
   ]
  },
  {
   "cell_type": "markdown",
   "metadata": {
    "heading_collapsed": true
   },
   "source": [
    "# Time Response using different reco_time algorithm"
   ]
  },
  {
   "cell_type": "code",
   "execution_count": null,
   "metadata": {
    "hidden": true
   },
   "outputs": [],
   "source": [
    "# 0 is energy weighted, 1 is energy squared weighted, 2 is median\n",
    "gLLP_daughter_match_jet_index = T['gLLP_daughter_match_jet_index']\n",
    "gLLP_daughter_travel_time = T['gLLP_daughter_travel_time']\n",
    "matched_jets = np.logical_and(np.logical_not( gLLP_daughter_travel_time == -666), np.logical_not( gLLP_daughter_match_jet_index == 666))\n",
    "gLLP_daughter_match_jet_index = gLLP_daughter_match_jet_index[matched_jets]\n",
    "rechit_T_1 =  T['jet_rechit_T_Ecut1']\n",
    "gen_time = T['gen_time']\n",
    "jet_rechits_T = T['jet_rechits_T']\n",
    "jet_rechits_E = T['jet_rechits_E'] #(events,jets,rechits)\n",
    "\n",
    "time_diff_algorithm = []\n",
    "algorithms = [0,1,2]\n",
    "rechit = 1\n",
    "reco_time_check = []\n",
    "reco_time_comp = []\n",
    "for algo in algorithms:\n",
    "    reco_time_alg = []\n",
    "    reco_time = []\n",
    "    time_diff = []\n",
    "    gen_time_matched = []\n",
    "    for i in range(len(T['gLLP_daughter_match_jet_index'])): #loop through each event\n",
    "        for j in range(4): #loop through each gen particle\n",
    "            index = T['gLLP_daughter_match_jet_index'][i][j]\n",
    "            if not index == 666 and matched_jets[i][j]: #matched and barrel jets\n",
    "                reco_temp = getRecoTime(algo, rechit,jet_rechits_T[i][index],jet_rechits_E[i][index])\n",
    "                if not reco_temp == None:\n",
    "                    time_diff.append(reco_temp-gen_time[i][j])\n",
    "                    gen_time_matched.append(gen_time[i][j])\n",
    "                    reco_time_check.append(rechit_T_1[i][index])\n",
    "                    reco_time_comp.append(reco_temp)\n",
    "    time_diff = np.array(time_diff)\n",
    "    time_diff_algorithm.append(time_diff)\n",
    "    gen_time_matched = np.array(gen_time_matched)\n"
   ]
  },
  {
   "cell_type": "code",
   "execution_count": null,
   "metadata": {
    "hidden": true
   },
   "outputs": [],
   "source": [
    "draw = True\n",
    "c = rt.TCanvas('c1','c1', 800, 600)\n",
    "leg = rt.TLegend(0.65,0.60,0.95,0.92)\n",
    "# leg.SetTextFont(42)\n",
    "leg.SetTextSize(0.03)\n",
    "leg.SetEntrySeparation(0.01)\n",
    "# # Create 2d numpy array matched-jets vs. LLP decay radius\n",
    "h = {}\n",
    "proj = []\n",
    "    \n",
    "for i in range(len(algorithms)):\n",
    "    key = 'bin'+str(i)\n",
    "    h['time_algorithm'] = create_TH1D(time_diff_algorithm[i], axis_title=['t_Reco - t_gen', 'events'], name=\"h\"+str(i), binning=[50,-10,10])\n",
    "\n",
    "    proj.append(h['time_algorithm'])\n",
    "    if i == 0:\n",
    "        leg.AddEntry(proj[i],'Energy weighted')\n",
    "    elif i == 1:\n",
    "        leg.AddEntry(proj[i],'Energy-squared weighted')\n",
    "    else:\n",
    "        leg.AddEntry(proj[i],'Median')\n",
    "\n",
    "proj[0].GetYaxis().SetTitle(\"Events\")\n",
    "if draw:\n",
    "    for i in range(len(algorithms)):\n",
    "        proj[i].SetLineColor(std_color_list[i])\n",
    "        print(proj[i].Integral())\n",
    "        proj[i].Scale(1./proj[i].Integral())\n",
    "\n",
    "        if i == 0:\n",
    "            proj[i].DrawCopy()\n",
    "        if i == 2:\n",
    "            proj[i].SetLineColor(4)\n",
    "\n",
    "        proj[i].DrawCopy('SAME')\n",
    "\n",
    "    leg.Draw()\n",
    "    c.SetLogy()\n",
    "    c.Draw()\n",
    "    c.SaveAs(\"../plots/time_response_algorithm.pdf\")\n",
    "# c.SaveAs('time_response_ecal.pdf')\n",
    "assert(len(algorithms) == len(proj))"
   ]
  },
  {
   "cell_type": "markdown",
   "metadata": {},
   "source": [
    "# Energy Ratio between gen jet and ECAL/reco jet"
   ]
  },
  {
   "cell_type": "code",
   "execution_count": null,
   "metadata": {},
   "outputs": [],
   "source": [
    "draw = False\n",
    "c = rt.TCanvas('c','c', 800, 600)\n",
    "leg = rt.TLegend(0.55,0.70,0.9,0.9);\n",
    "energy_ratio = np.array(energy_ratio)\n",
    "ECALenergy_ratio = np.array(ECALenergy_ratio)\n",
    "energy_ratio_nomerge = np.array(energy_ratio_nomerge)\n",
    "h = {}\n",
    "proj = []\n",
    "h['ECALenergy_ratio'] = create_TH2D(energy_ratio_nomerge, axis_title = ['Reco energy / genJet energy','t_gen [ns]',''], binning=[250,-2,10,500,0,10])\n",
    "\n",
    "h['energy_ratio'] = create_TH2D(energy_ratio, axis_title = ['Reco energy / genJet energy','t_gen [ns]',''], binning=[250,-2,10,500,0,10])\n",
    "h['energy_ratio'].SetLineColor(4)\n",
    "# h['energy_ratio'].DrawCopy()\n",
    "# c.Draw()\n",
    "bins = binning2d(h['energy_ratio'],200, 'y')\n",
    "for i in range(len(bins)-1):\n",
    "    key = 'bin'+str(i)\n",
    "    proj.append(h['energy_ratio'].ProjectionX(\"h\"+str(i),bins[i],bins[i+1]-1))\n",
    "    y_low = h['energy_ratio'].GetYaxis().GetBinLowEdge(bins[i])\n",
    "    y_up = h['energy_ratio'].GetYaxis().GetBinLowEdge(bins[i+1]-1)+h['energy_ratio'].GetYaxis().GetBinWidth(1)\n",
    "    leg.AddEntry(proj[i],'t_gen '+str(y_low)+' - '+str(y_up))\n",
    "\n",
    "proj[0].GetYaxis().SetTitle(\"Events\")\n",
    "# proj[0].GetYaxis().SetRangeUser(0,1)\n",
    "for i in range(len(bins)-1):\n",
    "    proj[i].SetLineColor(i+1)\n",
    "    if draw:\n",
    "#         proj[i].Rebin(60)\n",
    "        print(proj[i].Integral())\n",
    "        proj[i].Scale(1./proj[i].Integral())\n",
    "    #     proj[i].GetYaxis().SetRangeUser(0,0.5)\n",
    "\n",
    "        if i == 0:\n",
    "            proj[i].DrawCopy()\n",
    "        if i == 2:\n",
    "            proj[i].SetLineColor(4)\n",
    "\n",
    "        proj[i].DrawCopy('SAME')\n",
    "if draw:\n",
    "    leg.Draw()\n",
    "    c.SetLogy()\n",
    "    c.Draw()\n",
    "    c.SaveAs('../plots/energy_ratio.pdf')\n",
    "assert(len(bins)-1 == len(proj))"
   ]
  },
  {
   "cell_type": "code",
   "execution_count": null,
   "metadata": {},
   "outputs": [],
   "source": [
    "\n",
    "sigma_eff = True\n",
    "c = rt.TCanvas('c', 'c', 800, 600)\n",
    "legend = rt.TLegend(0.55,0.70,0.9,0.9);\n",
    "\n",
    "\n",
    "rt.gStyle.SetOptStat(000)\n",
    "\n",
    "scale1,scale_eff1, res1,res_eff1 = histo2D_projectionFit(h['energy_ratio'],bins,0.5,2, 'y')\n",
    "scale2,scale_eff2, res2,res_eff2 = histo2D_projectionFit(h['ECALenergy_ratio'],bins,0.5,2, 'y')\n",
    "legend.AddEntry(scale1,\"Total Jet Energy\")\n",
    "legend.AddEntry(scale2,\"No Merged Jets\")\n",
    "scale1.SetXTitle('Gen Time [ns]')\n",
    "scale1.SetYTitle('Reco Energy / Total Gen Jet Energy')\n",
    "scale1.GetYaxis().SetRangeUser(0.5,1)\n",
    "scale1.SetLineColor(4)\n",
    "scale1.DrawCopy()\n",
    "scale2.SetLineColor(2)\n",
    "scale2.DrawCopy('same')\n",
    "\n",
    "legend.Draw()\n",
    "\n",
    "c.Draw()\n",
    "c.SaveAs('../plots/time_scale_energy_ratio.pdf')\n",
    "\n"
   ]
  },
  {
   "cell_type": "markdown",
   "metadata": {
    "heading_collapsed": true
   },
   "source": [
    "# Reco Time vs. Gen Time"
   ]
  },
  {
   "cell_type": "code",
   "execution_count": 21,
   "metadata": {
    "hidden": true
   },
   "outputs": [
    {
     "name": "stderr",
     "output_type": "stream",
     "text": [
      "Warning in <TCanvas::Constructor>: Deleting canvas with same name: c\n",
      "Warning in <TROOT::Append>: Replacing existing TH1: max_jet_ecal (Potential memory leak).\n"
     ]
    },
    {
     "data": {
      "image/png": "[encoded data removed]",
      "text/plain": [
       "<IPython.core.display.Image object>"
      ]
     },
     "metadata": {},
     "output_type": "display_data"
    }
   ],
   "source": [
    "c = rt.TCanvas('c','c', 800, 600)\n",
    "# h['time_rechitcut'] = create_TH1D( max_jet_reco_time1, axis_title=['Reconstructed time [ns]', 'events'], name='max_jet_reco_time', binning=[100,-6,10])\n",
    "h['time_reco'] = create_TH1D(reco_time, axis_title=['Time [ns]', 'events'], name='max_jet_ecal', binning=[100,-6,15])\n",
    "h['time_gen'] = create_TH1D(gen_time, axis_title=['Time [ns]', 'events'], name='max_jet_ecal', binning=[250,-8,15])\n",
    "h['time_gen'].SetLineColor(4)\n",
    "h['time_reco'].SetLineColor(2)\n",
    "\n",
    "\n",
    "\n",
    "\n",
    "\n",
    "c.SetLogy()\n",
    "h['time_reco'].DrawNormalized()\n",
    "h['time_gen'].DrawNormalized('same')\n",
    "leg = rt.TLegend(0.6,0.72,0.95,0.92)\n",
    "# leg.SetTextFont(42)\n",
    "leg.SetTextSize(0.03)\n",
    "leg.SetEntrySeparation(0.01)\n",
    "leg.AddEntry(h['time_gen'],\"Generation level time, correct to origin\")\n",
    "leg.AddEntry(h['time_reco'],' Reconstructed time,correct to origin')\n",
    "leg.Draw()\n",
    "c.Draw()\n",
    "\n"
   ]
  },
  {
   "cell_type": "markdown",
   "metadata": {
    "heading_collapsed": true
   },
   "source": [
    "# Time response in rechit cut"
   ]
  },
  {
   "cell_type": "code",
   "execution_count": null,
   "metadata": {
    "hidden": true
   },
   "outputs": [],
   "source": [
    "gLLP_daughter_match_jet_index = T['gLLP_daughter_match_jet_index']\n",
    "gLLP_daughter_travel_time = T['gLLP_daughter_travel_time']\n",
    "matched_jets = np.logical_and(np.logical_not( gLLP_daughter_travel_time == -666), np.logical_not( gLLP_daughter_match_jet_index == 666))\n",
    "gLLP_daughter_match_jet_index = gLLP_daughter_match_jet_index[matched_jets]\n",
    "jet_rechits_T =  T['jet_rechits_T']\n",
    "jet_rechits_E =  T['jet_rechits_E']\n",
    "gen_time = T['gen_time']\n",
    "\n",
    "time_diff_rechit = []\n",
    "time_rechitcut = []\n",
    "rechits = [x / 2.0 for x in range(0, 10, 1)]\n",
    "algo = 0 #energy weighted mean\n",
    "for rechit in rechits:\n",
    "    reco_time_rechit = []\n",
    "    time_diff = []\n",
    "    for i in range(len(T['gLLP_daughter_match_jet_index'])): #loop through each event\n",
    "        for j in range(4): #loop through each gen particle\n",
    "            index = T['gLLP_daughter_match_jet_index'][i][j]\n",
    "            if not index == 666 and matched_jets[i][j]: #matched and barrel jets\n",
    "                t_reco = rechit_T_1[i][index]\n",
    "                reco_temp = getRecoTime(algo, rechit,jet_rechits_T[i][index],jet_rechits_E[i][index])\n",
    "                if not reco_temp == None:\n",
    "                    time_diff.append(reco_temp-gen_time[i][j])\n",
    "                    reco_time_rechit.append(reco_temp)\n",
    "               \n",
    "    time_diff = np.array(time_diff)\n",
    "    time_diff_rechit.append(time_diff)\n",
    "    reco_time_rechit = np.array(reco_time_rechit)\n",
    "    time_rechitcut.append(reco_time_rechit)\n",
    "    print(rechit,time_diff.shape)\n"
   ]
  },
  {
   "cell_type": "code",
   "execution_count": null,
   "metadata": {
    "hidden": true
   },
   "outputs": [],
   "source": [
    "draw = False\n",
    "c = rt.TCanvas('c1','c1', 800, 600)\n",
    "leg = rt.TLegend(0.65,0.60,0.95,0.92)\n",
    "# leg.SetTextFont(42)\n",
    "leg.SetTextSize(0.03)\n",
    "leg.SetEntrySeparation(0.01)\n",
    "# # Create 2d numpy array matched-jets vs. LLP decay radius\n",
    "h = {}\n",
    "proj = []\n",
    "\n",
    "\n",
    "\n",
    "    \n",
    "for i in range(len(rechits)):\n",
    "    key = 'bin'+str(i)\n",
    "    h['time_rechitcut'] = create_TH1D(time_diff_rechit[i], axis_title=['t_Reco - t_gen', 'events'], name=\"h\"+str(i), binning=[12000,-10,10])\n",
    "\n",
    "    proj.append(h['time_rechitcut'])\n",
    "\n",
    "\n",
    "proj[0].GetYaxis().SetTitle(\"Events\")\n",
    "# proj[0].GetYaxis().SetRangeUser(0,1)\n",
    "line_color = [1,2,3,6,8]\n",
    "draw_bins = [1]\n",
    "draw=False\n",
    "if draw:\n",
    "    for j in range(len(draw_bins)):\n",
    "        i = draw_bins[j]\n",
    "        if i == 0:\n",
    "            leg.AddEntry(proj[i],'no ECAL rechit cut')\n",
    "\n",
    "        else:\n",
    "            leg.AddEntry(proj[i],'ECAL rechit cut '+str(rechits[i])+' GeV')\n",
    "        \n",
    "        proj[i].SetLineColor(line_color[j])\n",
    "        print(proj[i].Integral())\n",
    "        proj[i].Rebin(100)\n",
    "        proj[i].Scale(1./proj[i].Integral())\n",
    "\n",
    "        if j == 0:\n",
    "            proj[i].DrawCopy()\n",
    "        if j == 2:\n",
    "            proj[i].SetLineColor(4)\n",
    "\n",
    "        proj[i].DrawCopy('SAME')\n",
    "\n",
    "    leg.Draw()\n",
    "#     c.SetLogy()\n",
    "    c.Draw()\n",
    "    c.SaveAs(\"../plots/time_response_rechit.pdf\")\n",
    "# c.SaveAs('time_response_ecal.pdf')\n",
    "assert(len(rechits) == len(proj))"
   ]
  },
  {
   "cell_type": "code",
   "execution_count": null,
   "metadata": {
    "hidden": true
   },
   "outputs": [],
   "source": [
    "sigma_eff = True\n",
    "c = rt.TCanvas('c', 'c', 800, 600)\n",
    "\n",
    "rt.gStyle.SetOptFit(2200)\n",
    "\n",
    "# rt.gStyle.SetOptStat(000)\n",
    "\n",
    "x_bins = [x for x in rechits]\n",
    "x_bins.append(x_bins[1]-x_bins[0]+x_bins[-1])\n",
    "print(x_bins)\n",
    "assert(len(x_bins)-1 == len(proj))\n",
    "res = rt.TH1F('res','res',len(rechits),array( 'f', x_bins))\n",
    "res_eff = rt.TH1F('res_eff','res_eff', len(rechits),array( 'f', x_bins))\n",
    "scale = rt.TH1F('scale','scale',len(rechits),array( 'f', x_bins))\n",
    "scale_gaus = rt.TH1F('scale_gaus','scale_gaus',len(rechits),array( 'f', x_bins))\n",
    "\n",
    "for i in range(len(proj)):\n",
    "    h1 = proj[i] \n",
    "    hnew = h1.Clone(\"hnew\")\n",
    "    hnew = hnew.Rebin(30)\n",
    "    SS = rt.TSpectrum()\n",
    "    n_pks = SS.Search(hnew, 0.1, \"\", 0.5)\n",
    "    x_pos = SS.GetPositionX()\n",
    "    y_pos = SS.GetPositionY()\n",
    "    pks = []\n",
    "\n",
    "    n_pk = hnew.FindBin(x_pos[0])\n",
    "    thr = 0.4* hnew.GetBinContent(n_pk)\n",
    "    n_low = n_pk\n",
    "    while hnew.GetBinContent(n_low) > thr:\n",
    "        n_low -= 1\n",
    "    x_low = hnew.GetBinCenter(n_low)    \n",
    "    n_up = n_pk\n",
    "    while hnew.GetBinContent(n_up) > thr:\n",
    "        n_up += 1\n",
    "    x_up = hnew.GetBinCenter(n_up)\n",
    "    r = hnew.Fit('gaus', 'LRSQ+', '', x_low, x_up)\n",
    "    r = r.Get()\n",
    "    scale_gaus.SetBinContent(i+1,r.Parameter(1))\n",
    "    scale_gaus.SetBinError(i+1,r.ParError(1))\n",
    "    scale.SetBinContent(i+1,hnew.GetMean())\n",
    "    scale.SetBinError(i+1,hnew.GetMeanError())\n",
    "    res.SetBinContent(i+1,r.Parameter(2))\n",
    "    res.SetBinError(i+1,r.ParError(2))\n",
    "    if abs(r.Parameter(1)-hnew.GetMean())>1:\n",
    "        print(\"scale fit warning\", i,r.Parameter(1),hnew.GetMean())\n",
    "    if n_pks == 0:\n",
    "        hnew.SetLineColor(4)\n",
    "        hnew.Rebin(2)\n",
    "        print(r)\n",
    "#         print(r.Parameter(1))\n",
    "        hnew.GetXaxis().SetRangeUser(-5,5)\n",
    "        hnew.DrawCopy()\n",
    "        print(\"0 peaks\",i)\n",
    "        break\n",
    "\n",
    "    if sigma_eff:\n",
    "        n_pk = h1.FindBin(r.Parameter(1))\n",
    "        thr = 0.68 * h1.Integral()\n",
    "        counter = h1.GetBinContent(n_pk)*1.0\n",
    "        n_low = n_pk\n",
    "        n_up = n_pk\n",
    "        flag = True\n",
    "        while counter < thr:\n",
    "            if flag:\n",
    "                n_low -= 1\n",
    "                counter += h1.GetBinContent(n_low)\n",
    "            else:\n",
    "                n_up += 1\n",
    "                counter += h1.GetBinContent(n_up)\n",
    "            flag = not flag\n",
    "        sigma_eff = (n_up - n_low) *h1.GetBinWidth(1)\n",
    "#         sigma_eff = h1.GetStdDev()\n",
    "        res_eff.SetBinContent(i+1,sigma_eff)\n",
    "        res_eff.SetBinError(i+1,hnew.GetStdDevError())\n",
    "\n",
    "draw_scale = 0\n",
    "if draw_scale:\n",
    "    legend = rt.TLegend(0.62,0.20,0.95,0.4)\n",
    "    legend.SetTextSize(0.03)\n",
    "    legend.AddEntry(scale_gaus,'Calculated Mean')\n",
    "    legend.AddEntry(scale,'Mean from Gaussian FIt')\n",
    "    scale.GetXaxis().SetRangeUser(0,400)\n",
    "#     scale.GetYaxis().SetRangeUser(-0.4,0.4)\n",
    "\n",
    "    scale.SetXTitle('ECAL Rechit cut [GeV]')\n",
    "    scale.SetYTitle('Time Scale [ns]')\n",
    "    scale_gaus.SetLineColor(2)\n",
    "    scale.SetLineColor(4)\n",
    "    scale.DrawCopy()\n",
    "    scale_gaus.DrawCopy('same')\n",
    "    legend.Draw()\n",
    "    c.Draw()\n",
    "    c.SaveAs('../plots/time_scale_ecal_rechit.pdf')\n",
    "else:\n",
    "    legend = rt.TLegend(0.62,0.70,0.95,0.9)\n",
    "    legend.SetTextSize(0.03)\n",
    "    legend.AddEntry(res_eff,'Sigma effective')\n",
    "    legend.AddEntry(res,'Sigma from Gaussian FIt')\n",
    "    res.SetXTitle('ECAL Rechit cut [GeV]')\n",
    "    res.SetYTitle('Time Resolution [ns]')\n",
    "#     res.GetXaxis().SetRangeUser(0,400)\n",
    "    res.GetYaxis().SetRangeUser(0,1)\n",
    "    res.SetLineColor(4)\n",
    "#     res_eff.SetLineColor(4)\n",
    "    res.DrawCopy()\n",
    "    res_eff.SetLineColor(2)\n",
    "\n",
    "    res_eff.DrawCopy('same')\n",
    "    legend.Draw()\n",
    "    c.Draw()\n",
    "    c.SaveAs('../plots/time_res_ecal_rechit.pdf')\n",
    "c.Draw()\n",
    "# c.SaveAs('../plots/timediff_ecal_rechit_cut1.pdf')"
   ]
  },
  {
   "cell_type": "markdown",
   "metadata": {
    "scrolled": false
   },
   "source": [
    "# Time response in ECAL energy bins"
   ]
  },
  {
   "cell_type": "code",
   "execution_count": null,
   "metadata": {
    "scrolled": false
   },
   "outputs": [],
   "source": [
    "c = rt.TCanvas('c','c', 800, 600)\n",
    "h = {}\n",
    "h['ecal'] = create_TH1D(ecal_energy, axis_title=['ECAL Energy [GeV]', 'events'], name='max_jet_ecal', binning=[100,0,2000])\n",
    "h['ecal'].SetLineColor(4)\n",
    "c.SetLogy()\n",
    "h['ecal'].Draw()\n",
    "c.Draw()\n",
    "c.SaveAs(\"../plots/ecal_energy_ecut1.pdf\")"
   ]
  },
  {
   "cell_type": "code",
   "execution_count": 5,
   "metadata": {},
   "outputs": [
    {
     "name": "stdout",
     "output_type": "stream",
     "text": [
      "(20079, 2)\n",
      "[1, 2, 3, 4, 5, 6, 7, 8, 9, 10, 11, 12, 13, 14, 15, 16, 17, 18, 20]\n"
     ]
    }
   ],
   "source": [
    "# Look at the number of rechits per jets in different LLP decay radius bin\n",
    "\n",
    "draw = 0\n",
    "c = rt.TCanvas('c1','c1', 800, 600)\n",
    "leg = rt.TLegend(0.57,0.72,0.97,0.92)\n",
    "# leg.SetTextFont(42)\n",
    "leg.SetTextSize(0.03)\n",
    "leg.SetEntrySeparation(0.01)\n",
    "# # Create 2d numpy array matched-jets vs. LLP decay radius\n",
    "h = {}\n",
    "proj = []\n",
    "time_ecal = np.column_stack((time_diff,ecal_energy))\n",
    "print(time_ecal.shape)\n",
    "h['time_ecal'] = create_TH2D(time_ecal, axis_title = ['t_Reco - t_gen [ns]','ECAL energy [GeV]',''], binning=[12000,-5,15,20,0,200])\n",
    "bins = binning2d(h['time_ecal'],100,'y') #calculate binning with at least 100 events per bin\n",
    "if draw: bins = [1,3,5,201]\n",
    "\n",
    "print bins\n",
    "for i in range(len(bins)-1):\n",
    "    key = 'bin'+str(i)\n",
    "    proj.append(h['time_ecal'].ProjectionX(\"h\"+str(i),bins[i],bins[i+1]-1))\n",
    "    y_low = h['time_ecal'].GetYaxis().GetBinLowEdge(bins[i])\n",
    "    y_up = h['time_ecal'].GetYaxis().GetBinLowEdge(bins[i+1]-1)+h['time_ecal'].GetYaxis().GetBinWidth(1)\n",
    "    leg.AddEntry(proj[i],'ECAL energy '+str(y_low)+' - '+str(y_up)+' GeV')\n",
    "\n",
    "\n",
    "if draw:\n",
    "    for i in range(len(bins)-1):\n",
    "        index = len(bins)-2-i\n",
    "        proj[index].SetLineColor(std_color_list[i])\n",
    "        proj[index].Rebin(70)\n",
    "        print(proj[index].Integral())\n",
    "        proj[index].Scale(1./proj[index].Integral())\n",
    "        proj[index].GetXaxis().SetRangeUser(-2,3)\n",
    "\n",
    "        if i == 0:\n",
    "            proj[len(bins)-2-i].DrawCopy()\n",
    "\n",
    "\n",
    "        proj[len(bins)-2-i].DrawCopy('SAME')\n",
    "\n",
    "    leg.Draw()\n",
    "    c.SetLogy()\n",
    "    c.Draw()\n",
    "    c.SaveAs(\"../plots/time_response_ecal_ecut1.pdf\")\n",
    "assert(len(bins)-1 == len(proj))\n"
   ]
  },
  {
   "cell_type": "code",
   "execution_count": 8,
   "metadata": {
    "scrolled": false
   },
   "outputs": [
    {
     "name": "stderr",
     "output_type": "stream",
     "text": [
      "Warning in <TCanvas::Constructor>: Deleting canvas with same name: c\n",
      "Warning in <TROOT::Append>: Replacing existing TH1: trd (Potential memory leak).\n",
      "Warning in <TROOT::Append>: Replacing existing TH1: trd (Potential memory leak).\n",
      "Warning in <TROOT::Append>: Replacing existing TH1: scale (Potential memory leak).\n",
      "Info in <TCanvas::Print>: pdf file ../plots/time_res_ecal_energy_ecut1.pdf has been created\n"
     ]
    },
    {
     "data": {
      "image/png": "[encoded data removed]",
      "text/plain": [
       "<IPython.core.display.Image object>"
      ]
     },
     "metadata": {},
     "output_type": "display_data"
    }
   ],
   "source": [
    "c = rt.TCanvas('c', 'c', 800, 600)\n",
    "legend = rt.TLegend(0.55,0.70,0.9,0.9);\n",
    "\n",
    "\n",
    "rt.gStyle.SetOptStat(000)\n",
    "# print(h['time_ecal'].GetXaxis().GetNbins())\n",
    "assert(len(bins)-1 == len(proj))\n",
    "\n",
    "bw = h['time_ecal'].GetYaxis().GetBinWidth(1)\n",
    "left_edge = h['time_ecal'].GetYaxis().GetBinLowEdge(1)\n",
    "\n",
    "x_bins = [(x-1)*bw+left_edge for x in bins]\n",
    "res = rt.TH1F('trd','res', len(bins)-1,array( 'f', x_bins))\n",
    "res_eff = rt.TH1F('trd','res_eff', len(bins)-1,array( 'f', x_bins))\n",
    "\n",
    "scale = rt.TH1F('scale','scale',len(bins)-1,array( 'f', x_bins))\n",
    "for i in range(len(proj)):\n",
    "    h1 = proj[i]\n",
    "\n",
    "   \n",
    "    hnew = h1.Clone(\"hnew\")\n",
    "    hnew = hnew.Rebin(50)\n",
    "    SS = rt.TSpectrum()\n",
    "    n_pks = SS.Search(hnew, 0.1, \"\", 0.5)\n",
    "    x_pos = SS.GetPositionX()\n",
    "    y_pos = SS.GetPositionY()\n",
    "    pks = []\n",
    "    if n_pks == 0:\n",
    "        hnew.SetLineColor(4)\n",
    "        hnew.Rebin(2)\n",
    "        hnew.GetXaxis().SetRangeUser(-5,5)\n",
    "        hnew.DrawCopy()\n",
    "        print('n_pks == 0',i,hnew.Integral(),n_pks)\n",
    "        break\n",
    "    n_pk = hnew.FindBin(x_pos[0])\n",
    "    thr = 0.5 * hnew.GetBinContent(n_pk)\n",
    "    n_low = n_pk\n",
    "    while hnew.GetBinContent(n_low) > thr:\n",
    "        n_low -= 1\n",
    "    x_low = hnew.GetBinCenter(n_low)    \n",
    "    n_up = n_pk\n",
    "    while hnew.GetBinContent(n_up) > thr:\n",
    "        n_up += 1\n",
    "    x_up = hnew.GetBinCenter(n_up)\n",
    "    r = hnew.Fit('gaus', 'LRSQ+', '', x_low, x_up)\n",
    "    r = r.Get()\n",
    "    scale.SetBinContent(i+1,r.Parameter(1))\n",
    "    scale.SetBinError(i+1,r.ParError(1))\n",
    "    if abs(r.Parameter(1)-hnew.GetMean())>1:\n",
    "        print(\"scale fit warning\", i,r.Parameter(1),hnew.GetMean())\n",
    "\n",
    "    \n",
    "    n_pk = h1.FindBin(r.Parameter(1))\n",
    "    thr = 0.68 * h1.Integral()\n",
    "    counter = h1.GetBinContent(n_pk)*1.0\n",
    "    n_low = n_pk\n",
    "    n_up = n_pk\n",
    "    flag = True\n",
    "    while counter < thr:\n",
    "        if flag:\n",
    "            n_low -= 1\n",
    "            counter += h1.GetBinContent(n_low)\n",
    "        else:\n",
    "            n_up += 1\n",
    "            counter += h1.GetBinContent(n_up)\n",
    "        flag = not flag\n",
    "    sigma_eff = (n_up - n_low) *h1.GetBinWidth(1)\n",
    "#         sigma_eff = h1.GetStdDev()\n",
    "    res_eff.SetBinContent(i+1,sigma_eff)\n",
    "    res_eff.SetBinError(i+1,h1.GetBinWidth(1))\n",
    "    res.SetBinContent(i+1,r.Parameter(2))\n",
    "    res.SetBinError(i+1,r.ParError(2))\n",
    "\n",
    "\n",
    "\n",
    "# scale,scale_eff, res,res_eff = histo2D_projectionFit(h['time_ecal'],bins,0.5, 'y')\n",
    "\n",
    "legend.SetTextSize(0.03)\n",
    "legend.AddEntry(res_eff,'Sigma effective')\n",
    "legend.AddEntry(res,'Sigma from Gaussian FIt')\n",
    "\n",
    "\n",
    "\n",
    "\n",
    "draw_scale = 0\n",
    "if draw_scale:\n",
    "#     scale.GetXaxis().SetRangeUser(0,800)\n",
    "#     scale.GetYaxis().SetRangeUser(-0.4,0.4)\n",
    "    scale.SetXTitle('ECAL Energy [GeV]')\n",
    "    scale.SetYTitle('Time Scale [ns]')\n",
    "    scale.SetLineColor(4)\n",
    "    scale.DrawCopy()\n",
    "    c.Draw()\n",
    "    c.SaveAs('../plots/time_scale_ecal_energy_ecut1.pdf')\n",
    "else:\n",
    "    res.SetXTitle('ECAL Energy [GeV]')\n",
    "    res.SetYTitle('Time Resolution [ns]')\n",
    "#     res.GetXaxis().SetRangeUser(0,800)\n",
    "    res.GetYaxis().SetRangeUser(0,1)\n",
    "    res.SetLineColor(2)\n",
    "    res_eff.SetLineColor(4)\n",
    "    res.DrawCopy()\n",
    "    res_eff.DrawCopy('same')\n",
    "    legend.Draw()\n",
    "    c.Draw()\n",
    "    c.SaveAs('../plots/time_res_ecal_energy_ecut1.pdf')\n",
    "# c.Draw()\n"
   ]
  },
  {
   "cell_type": "markdown",
   "metadata": {
    "scrolled": false
   },
   "source": [
    "# Time response in t_gen"
   ]
  },
  {
   "cell_type": "code",
   "execution_count": null,
   "metadata": {},
   "outputs": [],
   "source": [
    "c = rt.TCanvas('c','c', 800, 600)\n",
    "h = {}\n",
    "time_diff_algorithm\n",
    "h['t_gen'] = create_TH1D(gen_time, axis_title=['t_gen[ns]]', 'events'], name='max_jet_ecal', binning=[100,-1,10])\n",
    "h['t_gen'].SetLineColor(4)\n",
    "c.SetLogy()\n",
    "h['t_gen'].Draw()\n",
    "c.Draw()\n",
    "c.SaveAs(\"../plots/tgen.pdf\")"
   ]
  },
  {
   "cell_type": "code",
   "execution_count": 9,
   "metadata": {},
   "outputs": [
    {
     "name": "stdout",
     "output_type": "stream",
     "text": [
      "[1, 37, 39, 41, 42, 43, 44, 45, 46, 47, 48, 49, 50, 51, 52, 53, 54, 55, 56, 57, 58, 59, 60, 61, 62, 63, 64, 65, 66, 67, 68, 69, 70, 71, 72, 73, 74, 75, 76, 77, 78, 79, 80, 81, 82, 83, 84, 85, 86, 87, 88, 89, 90, 91, 92, 93, 94, 95, 96, 97, 98, 99, 100, 101, 102, 104, 105, 106, 108, 110, 112, 114, 116, 118, 120, 122, 124, 126, 128, 131, 134, 137, 140, 144, 148, 151, 155, 160, 165, 172, 181, 189, 202, 221, 254, 501]\n"
     ]
    }
   ],
   "source": [
    "draw = 0\n",
    "c = rt.TCanvas('c1','c1', 800, 600)\n",
    "leg = rt.TLegend(0.65,0.72,0.95,0.92)\n",
    "# leg.SetTextFont(42)\n",
    "leg.SetTextSize(0.03)\n",
    "leg.SetEntrySeparation(0.01)\n",
    "# # Create 2d numpy array matched-jets vs. LLP decay radius\n",
    "h = {}\n",
    "proj = []\n",
    "bin_low, bin_up = 30,50\n",
    "time_tgen = np.column_stack((time_diff,gen_time))\n",
    "h['time_tgen'] = create_TH2D(time_tgen, axis_title = ['t_Reco - t_gen','t_gen [ns]',''], binning=[6000,-2,2,500,-1,10])\n",
    "bins = binning2d(h['time_tgen'],100,'y') #calculate binning with at least 100 events per bin\n",
    "if draw:\n",
    "    bins = [1,50,100,301]\n",
    "\n",
    "for i in range(len(bins)-1):\n",
    "    key = 'bin'+str(i)\n",
    "    proj.append(h['time_tgen'].ProjectionX(\"h\"+str(i),bins[i],bins[i+1]-1))\n",
    "    y_low = h['time_tgen'].GetYaxis().GetBinLowEdge(bins[i])\n",
    "    y_up = h['time_tgen'].GetYaxis().GetBinLowEdge(bins[i+1]-1)+h['time_tgen'].GetYaxis().GetBinWidth(1)\n",
    "    leg.AddEntry(proj[i],'t_gen '+str(y_low)+' - '+str(y_up)+' ns')\n",
    "\n",
    "proj[0].GetYaxis().SetTitle(\"Events\")\n",
    "# proj[0].GetYaxis().SetRangeUser(0,1)\n",
    "\n",
    "for i in range(len(bins)-1):\n",
    "    proj[i].SetLineColor(i+1)\n",
    "    if draw:\n",
    "        proj[i].Rebin(60)\n",
    "        print(proj[i].Integral())\n",
    "        proj[i].Scale(1./proj[i].Integral())\n",
    "    #     proj[i].GetYaxis().SetRangeUser(0,0.5)\n",
    "\n",
    "        if i == 0:\n",
    "            proj[i].DrawCopy()\n",
    "        if i == 2:\n",
    "            proj[i].SetLineColor(4)\n",
    "\n",
    "        proj[i].DrawCopy('SAME')\n",
    "if draw:\n",
    "    leg.Draw()\n",
    "    c.SetLogy()\n",
    "    c.Draw()\n",
    "    c.SaveAs('../plots/time_response_tgen.pdf')\n",
    "assert(len(bins)-1 == len(proj))\n"
   ]
  },
  {
   "cell_type": "code",
   "execution_count": 14,
   "metadata": {
    "scrolled": false
   },
   "outputs": [
    {
     "name": "stdout",
     "output_type": "stream",
     "text": [
      "('npks == 0', 82, 135.0, 0)\n"
     ]
    },
    {
     "name": "stderr",
     "output_type": "stream",
     "text": [
      "Warning in <TCanvas::Constructor>: Deleting canvas with same name: c\n",
      "Warning in <TROOT::Append>: Replacing existing TH1: res (Potential memory leak).\n",
      "Warning in <TROOT::Append>: Replacing existing TH1: res_eff (Potential memory leak).\n",
      "Warning in <TROOT::Append>: Replacing existing TH1: scale (Potential memory leak).\n",
      "Warning in <TROOT::Append>: Replacing existing TH1: scale_eff (Potential memory leak).\n",
      "Info in <TCanvas::Print>: pdf file ../plots/time_scale_tgen.pdf has been created\n"
     ]
    },
    {
     "data": {
      "image/png": "[encoded data removed]",
      "text/plain": [
       "<IPython.core.display.Image object>"
      ]
     },
     "metadata": {},
     "output_type": "display_data"
    }
   ],
   "source": [
    "c = rt.TCanvas('c', 'c', 800, 600)\n",
    "\n",
    "scale, scale_eff, res,res_eff = histo2D_projectionFit(h['time_tgen'], bins, 0.1, 50, 'y')\n",
    "\n",
    "legend = rt.TLegend(0.2,0.70,0.55,0.9);\n",
    "legend.SetTextSize(0.03)\n",
    "\n",
    "draw_scale = 1\n",
    "if draw_scale:\n",
    "    legend = rt.TLegend(0.62,0.70,0.95,0.9);\n",
    "    legend.SetTextSize(0.03)\n",
    "    legend.AddEntry(scale_eff,'Calculated Mean')\n",
    "    legend.AddEntry(scale,'Mean from Gaussian Fit')\n",
    "    scale.SetXTitle('Generation Level Time [ns]')\n",
    "    scale.SetYTitle('Time Scale [ns]')\n",
    "    scale.SetLineColor(4)\n",
    "    scale.GetYaxis().SetRangeUser(-0.25,0.2)\n",
    "    scale.DrawCopy()\n",
    "    scale.DrawCopy('same')\n",
    "    scale.DrawCopy('same')\n",
    "    legend.Draw()\n",
    "    c.Draw()\n",
    "    c.SaveAs('../plots/time_scale_tgen.pdf')\n",
    "else:\n",
    "    legend = rt.TLegend(0.2,0.70,0.55,0.9);\n",
    "    legend.SetTextSize(0.03)\n",
    "    legend.AddEntry(res_eff,'Sigma effective')\n",
    "    legend.AddEntry(res,'Sigma from Gaussian Fit')\n",
    "    res_eff.SetXTitle('Generation Level Time [ns]')\n",
    "    res_eff.SetYTitle('Time Resolution [ns]')\n",
    "    res_eff.GetYaxis().SetRangeUser(0,1.6)\n",
    "    res.SetLineColor(2)\n",
    "    res_eff.SetLineColor(4)\n",
    "#     res.GetXaxis().SetRangeUser(0,2)\n",
    "    res_eff.DrawCopy()\n",
    "    res.DrawCopy('same')\n",
    "    legend.Draw()\n",
    "    c.Draw()\n",
    "    c.SaveAs('../plots/time_res_tgen_zoom.pdf')\n",
    "\n",
    "c.Draw()"
   ]
  },
  {
   "cell_type": "code",
   "execution_count": null,
   "metadata": {},
   "outputs": [],
   "source": []
  },
  {
   "cell_type": "code",
   "execution_count": null,
   "metadata": {},
   "outputs": [],
   "source": []
  },
  {
   "cell_type": "code",
   "execution_count": null,
   "metadata": {},
   "outputs": [],
   "source": []
  },
  {
   "cell_type": "code",
   "execution_count": null,
   "metadata": {},
   "outputs": [],
   "source": []
  },
  {
   "cell_type": "code",
   "execution_count": null,
   "metadata": {},
   "outputs": [],
   "source": []
  },
  {
   "cell_type": "code",
   "execution_count": null,
   "metadata": {},
   "outputs": [],
   "source": []
  },
  {
   "cell_type": "code",
   "execution_count": null,
   "metadata": {},
   "outputs": [],
   "source": []
  },
  {
   "cell_type": "code",
   "execution_count": null,
   "metadata": {},
   "outputs": [],
   "source": []
  },
  {
   "cell_type": "code",
   "execution_count": null,
   "metadata": {},
   "outputs": [],
   "source": []
  },
  {
   "cell_type": "code",
   "execution_count": null,
   "metadata": {},
   "outputs": [],
   "source": []
  },
  {
   "cell_type": "code",
   "execution_count": null,
   "metadata": {},
   "outputs": [],
   "source": []
  }
 ],
 "metadata": {
  "kernelspec": {
   "display_name": "Python 3",
   "language": "python",
   "name": "python3"
  },
  "language_info": {
   "codemirror_mode": {
    "name": "ipython",
    "version": 3
   },
   "file_extension": ".py",
   "mimetype": "text/x-python",
   "name": "python",
   "nbconvert_exporter": "python",
   "pygments_lexer": "ipython3",
   "version": "3.6.6"
  }
 },
 "nbformat": 4,
 "nbformat_minor": 2
}
