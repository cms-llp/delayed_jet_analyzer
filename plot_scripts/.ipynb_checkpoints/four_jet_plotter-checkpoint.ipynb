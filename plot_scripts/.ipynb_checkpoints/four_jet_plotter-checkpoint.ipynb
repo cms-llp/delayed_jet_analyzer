{
 "cells": [
  {
   "cell_type": "code",
   "execution_count": 1,
   "metadata": {},
   "outputs": [
    {
     "name": "stdout",
     "output_type": "stream",
     "text": [
      "Welcome to JupyROOT 6.13/02\n"
     ]
    }
   ],
   "source": [
    "import ROOT as rt\n",
    "import root_numpy as rtnp\n",
    "import numpy as np\n",
    "from matplotlib import pyplot as plt\n",
    "from histo_utilities import create_TH1D, create_TH2D, std_color_list\n",
    "\n",
    "import CMS_lumi, tdrstyle\n",
    "tdrstyle.setTDRStyle()\n",
    "CMS_lumi.writeExtraText = 1\n",
    "CMS_lumi.extraText = \"     Simulation Preliminary\"\n",
    "\n",
    "donotdelete = []"
   ]
  },
  {
   "cell_type": "code",
   "execution_count": 2,
   "metadata": {},
   "outputs": [
    {
     "name": "stdout",
     "output_type": "stream",
     "text": [
      "m500ctau300 /home/cms/Desktop/LLP/jetNtuple_4jet/jetNtuple_M-500_CTau-1000mm.root\n",
      "[297.68796  137.73749  118.9409    93.412476  40.06718   38.659866\n",
      "  24.338118  17.470255  17.31582   11.373936  11.326995  10.481265]\n"
     ]
    }
   ],
   "source": [
    "fpath = {}\n",
    "tree = {}\n",
    "process = {}\n",
    "process_short = {}\n",
    "\n",
    "fpath['m500ctau300'] = '/home/cms/Desktop/LLP/jetNtuple_4jet/jetNtuple_M-500_CTau-1000mm.root'\n",
    "process['glueBall'] = 'pp #rightarrow h*h* #rightarrow jj#nu#nu'\n",
    "process_short['glueBall'] = 'pp #rightarrow h*h* #rightarrow jj#nu#nu'\n",
    "\n",
    "#fpath['tau'] = '../data/cmsMC_private/BPH_Tag-Bm_D0kpmunu_Probe-B0_TauNuDmst-pD0bar-kp-tau2mununu_NoPU_10-2-3_v0/BPH_Tag-Bm_D0kpmunu_Probe-B0_TauNuDmst-pD0bar-kp-tau2mununu_BPHMC_merged_1-300.root'\n",
    "#process['tau'] = 'B_{0} #rightarrow D*^{-}(#bar{D}_{0}(K^{+}#pi^{-})#pi^{-})#tau^{+}(#mu^{+}#nu#bar{#nu})#nu'\n",
    "#process_short['tau'] = 'B #rightarrow D*#tau#nu'\n",
    "\n",
    "# fpath['Dst_mu'] = '../data/cmsMC_private/BPH_Tag-Bm_D0kpmunu_Probe-Bp_D0stkpNeumunu_NoPU_10-2-3_v0/BPH_Tag-Bm_D0kpmunu_Probe-Bp_D0stkpNeumunu_BPHMC_merged.root'\n",
    "# process['Dst_mu'] = 'B^{+} #rightarrow #bar{D}^{*}_{0}(D_{0} n#gamma)#mu^{+}#nu'\n",
    "\n",
    "# fpath['Dst_tau'] = '../data/cmsMC_private/BPH_Tag-Bm_D0kpmunu_Probe-Bp_D0stkpNeutaunu_tau2mununu_NoPU_10-2-3_v0/BPH_Tag-Bm_D0kpmunu_Probe-Bp_D0stkpNeutaunu_tau2mununu_BPHMC_merged.root'\n",
    "# process['Dst_tau'] = 'B^{+} #rightarrow #bar{D}^{*}_{0}(D_{0} n#gamma)#tau^{+}(#mu^{+}#nu#nu)#nu'\n",
    "\n",
    "for k,v in fpath.iteritems():\n",
    "    print k, v\n",
    "    tree[k] = rtnp.root2array(v)\n",
    "    #tree[k] = rtnp.tree2array(v)\n",
    "    #jet_max_pt_array = [np.max(x) for x in tree[k][\"jetPt\"]]\n",
    "    a = tree[k][\"jetPt\"]\n",
    "    print a[:-1][0]"
   ]
  },
  {
   "cell_type": "code",
   "execution_count": 3,
   "metadata": {},
   "outputs": [],
   "source": [
    "T = tree['m500ctau300']"
   ]
  },
  {
   "cell_type": "code",
   "execution_count": 4,
   "metadata": {},
   "outputs": [
    {
     "name": "stdout",
     "output_type": "stream",
     "text": [
      "10000\n"
     ]
    }
   ],
   "source": [
    "#get first jet pt per event\n",
    "#T['jetPt'][0]\n",
    "first_jet_pt = [x[0] if len(x) else -1 for x in T['jetPt']]\n",
    "print(len(first_jet_pt))"
   ]
  },
  {
   "cell_type": "code",
   "execution_count": 110,
   "metadata": {},
   "outputs": [
    {
     "name": "stdout",
     "output_type": "stream",
     "text": [
      "10000\n",
      "3562\n"
     ]
    }
   ],
   "source": [
    "#get max jet pt per event, also jet[0]\n",
    "max_jet_pt = np.array([np.max(x) if len(x) else -1 for x in T['jetPt']])\n",
    "max_jet_ecal_energy = np.array([x[0] if len(x) else -1 for x in T['jet_rechit_E']])\n",
    "max_jet_ecal_energy1 = np.array([x[0] if len(x) else -1 for x in T['jet_rechit_E_Ecut1']])\n",
    "max_jet_ecal_energy2 = np.array([x[0] if len(x) else -1 for x in T['jet_rechit_E_Ecut2']])\n",
    "\n",
    "assert(len(max_jet_ecal_energy) == len(max_jet_pt))\n",
    "print(len(max_jet_ecal_energy))\n",
    "print(len(max_jet_pt[max_jet_ecal_energy<50]))\n",
    "# print max_jet_pt"
   ]
  },
  {
   "cell_type": "code",
   "execution_count": 111,
   "metadata": {},
   "outputs": [
    {
     "name": "stdout",
     "output_type": "stream",
     "text": [
      "('number of matched jets:', (array([0, 1, 2, 3, 4]), array([ 799, 2190, 3279, 2661, 1071])))\n"
     ]
    }
   ],
   "source": [
    "# Create 2d numpy array matched-jets vs. LLP decay radius\n",
    "matched_jet = np.array([4-np.count_nonzero(x == 666) if len(x) else -1 for x in T['gLLP_daughter_match_jet_index']])\n",
    "matched_jet_perllp = np.array([[2-np.count_nonzero(x[:2] == 666), 2-np.count_nonzero(x[2:] == 666)] if len(x) else -1 for x in T['gLLP_daughter_match_jet_index']])\n",
    "\n",
    "gLLP_decay_radius = np.sqrt(np.square(T['gLLP_decay_vertex_x'])+np.square(T['gLLP_decay_vertex_y'])) # (events, 2) 2LLP\n",
    "# gLLP_decay_radius = np.reshape(gLLP_decay_radius,(-1,1)) # flatten (2*events, 1)\n",
    "\n",
    "\n",
    "n_rechits = np.array( [x if len(x) else -1 for x in T['jet_n_rechits']]) \n",
    "n_rechits = [] #n_rechits of matched jets\n",
    "n_rechits_llpdecay = [] # rechits and the corresponding LLP decay length\n",
    "for i in range(len(T['gLLP_daughter_match_jet_index'])):\n",
    "    x = T['gLLP_daughter_match_jet_index'][i]\n",
    "    for j in range(len(x)):\n",
    "        if not x[j] == 666:\n",
    "            n_rechits.append(T['jet_n_rechits'][x[j]])\n",
    "            if j <= 1:\n",
    "                llpid = 0\n",
    "            else:\n",
    "                llpid = 1\n",
    "#             print(T['jet_n_rechits'][i][x[j]])\n",
    "            n_rechits_llpdecay.append([T['jet_n_rechits'][i][x[j]], gLLP_decay_radius[i,llpid]])\n",
    "#             if T['jet_n_rechits'][i][x[j]] == 0:\n",
    "#                 print gLLP_decay_radius[i,llpid]\n",
    "            \n",
    "n_rechits_llpdecay = np.array(n_rechits_llpdecay)\n",
    "matched_jet_perllp = np.reshape(matched_jet_perllp,(-1,1))\n",
    "gLLP_decay_radius = np.reshape(gLLP_decay_radius,(-1,1))\n",
    "\n",
    "\n",
    "max_rechit_E = np.array([np.max(x) if len(x) else -1 for x in T['jet_rechits_E']])\n",
    "print(\"number of matched jets:\",np.unique(matched_jet,return_counts=True))\n",
    "# Create 2d numpy array n_rechits vs. max_rechits\n",
    "# Create 2d numpy array with n_rechits vs. LLP decay radius\n"
   ]
  },
  {
   "cell_type": "code",
   "execution_count": 112,
   "metadata": {},
   "outputs": [
    {
     "name": "stdout",
     "output_type": "stream",
     "text": [
      "((10000,), (10000,))\n"
     ]
    },
    {
     "name": "stderr",
     "output_type": "stream",
     "text": [
      "Info in <TCanvas::Print>: pdf file max_jet_ecal_energy.pdf has been created\n"
     ]
    },
    {
     "data": {
      "image/png": "[encoded data removed]",
      "text/plain": [
       "<IPython.core.display.Image object>"
      ]
     },
     "metadata": {},
     "output_type": "display_data"
    }
   ],
   "source": [
    "c = rt.TCanvas('c','c', 800, 600)\n",
    "h = {}\n",
    "print(max_rechit_E.shape,max_jet_ecal_energy.shape)\n",
    "h['max_jet_ecal'] = create_TH1D( max_jet_ecal_energy, axis_title=['Max jet ECAL Energy [GeV]', 'events'], name='max_jet_ecal', binning=[200,0,2000])\n",
    "h['max_jet_ecal'].SetLineColor(4)\n",
    "c.SetLogy()\n",
    "h['max_jet_ecal'].Draw()\n",
    "c.Draw()\n",
    "c.SaveAs(\"max_jet_ecal_energy.pdf\")"
   ]
  },
  {
   "cell_type": "code",
   "execution_count": 113,
   "metadata": {},
   "outputs": [
    {
     "name": "stderr",
     "output_type": "stream",
     "text": [
      "Warning in <TCanvas::Constructor>: Deleting canvas with same name: c\n",
      "Info in <TCanvas::Print>: pdf file max_jet_pt.pdf has been created\n"
     ]
    },
    {
     "data": {
      "image/png": "[encoded data removed]",
      "text/plain": [
       "<IPython.core.display.Image object>"
      ]
     },
     "metadata": {},
     "output_type": "display_data"
    }
   ],
   "source": [
    "c = rt.TCanvas('c','c', 800, 600)\n",
    "h = {}\n",
    "h['max_jet_pt'] = create_TH1D(max_jet_pt, axis_title=['Max jet p_{T}', 'events'], name='max_jet_pt', binning=[200,0,2000])\n",
    "h['max_jet_pt'].SetLineColor(4)\n",
    "c.SetLogy()\n",
    "h['max_jet_pt'].Draw()\n",
    "c.Draw()\n",
    "c.SaveAs(\"max_jet_pt.pdf\")"
   ]
  },
  {
   "cell_type": "code",
   "execution_count": 228,
   "metadata": {},
   "outputs": [
    {
     "name": "stderr",
     "output_type": "stream",
     "text": [
      "Warning in <TCanvas::Constructor>: Deleting canvas with same name: c\n",
      "Info in <TCanvas::Print>: pdf file n_rechits_zoomin.pdf has been created\n"
     ]
    },
    {
     "data": {
      "image/png": "[encoded data removed]",
      "text/plain": [
       "<IPython.core.display.Image object>"
      ]
     },
     "metadata": {},
     "output_type": "display_data"
    }
   ],
   "source": [
    "c = rt.TCanvas('c','c', 800, 600)\n",
    "h = {}\n",
    "h['n_rechits'] = create_TH1D(n_rechits_llpdecay[:,0], axis_title=['Number of Rechits', 'events'], name='n_rechits', binning=[50,0,50])\n",
    "h['n_rechits'].SetLineColor(4)\n",
    "c.SetLogy()\n",
    "h['n_rechits'].Draw()\n",
    "c.Draw()\n",
    "c.SaveAs(\"n_rechits_zoomin.pdf\")"
   ]
  },
  {
   "cell_type": "code",
   "execution_count": 227,
   "metadata": {},
   "outputs": [
    {
     "name": "stderr",
     "output_type": "stream",
     "text": [
      "Warning in <TCanvas::Constructor>: Deleting canvas with same name: c\n",
      "Info in <TCanvas::Print>: pdf file gLLP_decay_radius.pdf has been created\n"
     ]
    },
    {
     "data": {
      "image/png": "[encoded data removed]",
      "text/plain": [
       "<IPython.core.display.Image object>"
      ]
     },
     "metadata": {},
     "output_type": "display_data"
    }
   ],
   "source": [
    "c = rt.TCanvas('c','c', 800, 600)\n",
    "# print(np.mean(gLLP_decay_radius[:,0],axis=1))\n",
    "h = {}\n",
    "h['gLLP_decay_radius'] = create_TH1D(gLLP_decay_radius[:,0] , axis_title=['llp decay radius [mm]', 'events'], name='gLLP_decay_radius', binning=[50,0,1500])\n",
    "h['gLLP_decay_radius'].SetLineColor(4)\n",
    "\n",
    "c.SetLogy()\n",
    "h['gLLP_decay_radius'].Draw()\n",
    "c.Draw()\n",
    "c.SaveAs(\"gLLP_decay_radius.pdf\")\n",
    "\n",
    "\n",
    "# Create 2d numpy array n_rechits vs. max_rechits# Create 2d numpy array with n_rechits vs. LLP decay radius"
   ]
  },
  {
   "cell_type": "code",
   "execution_count": 97,
   "metadata": {},
   "outputs": [
    {
     "name": "stderr",
     "output_type": "stream",
     "text": [
      "Warning in <TCanvas::Constructor>: Deleting canvas with same name: c1\n"
     ]
    },
    {
     "data": {
      "image/png": "[encoded data removed]",
      "text/plain": [
       "<IPython.core.display.Image object>"
      ]
     },
     "metadata": {},
     "output_type": "display_data"
    }
   ],
   "source": [
    "c = rt.TCanvas('c1','c1', 800, 600)\n",
    "\n",
    "# Create 2d numpy array matched-jets vs. LLP decay radius\n",
    "h = {}\n",
    "\n",
    "h['jet_llpdecay'] = create_TH2D(n_rechits_llpdecay, axis_title = ['matched jets','llp decay radius [mm]',''], binning=[5,0,5,50,0,1500])\n",
    "h['jet_llpdecay'].Draw('colz')\n",
    "c.SetLogy()\n",
    "c.SetLogz()\n",
    "c.Draw()"
   ]
  },
  {
   "cell_type": "code",
   "execution_count": null,
   "metadata": {},
   "outputs": [],
   "source": [
    "c = rt.TCanvas('c1','c1', 800, 600)\n",
    "\n",
    "# # Create 2d numpy array matched-jets vs. LLP decay radius\n",
    "h = {}\n",
    "bin_low, bin_up = 6,7\n",
    "h['jet_llpdecay'] = create_TH2D(n_rechits_llpdecay, axis_title = ['Number of Rechits','llp decay radius [mm]',''], binning=[500,0,500,50,0,1500])\n",
    "h1 = h['jet_llpdecay'].ProjectionX(\"h1\",bin_low,bin_up)\n",
    "h1.Rebin(6)\n",
    "h1.Draw()\n",
    "# h['jet_llpdecay'].Draw('colz')\n",
    "h['jet_llpdecay'].SetLineColor(4)\n",
    "c.SetLogy()\n",
    "c.SetLogz()\n",
    "c.Draw()\n",
    "print(h['jet_llpdecay'].GetYaxis().GetBinCenter(bin_low))\n",
    "y_low = h['jet_llpdecay'].GetYaxis().GetBinCenter(bin_low)\n",
    "y_up = h['jet_llpdecay'].GetYaxis().GetBinCenter(bin_up)\n",
    "c.SaveAs('jet_llpdecay_llpdecay'+str(y_low)+\"To\"+str(y_up)+'GeV.pdf')\n"
   ]
  },
  {
   "cell_type": "code",
   "execution_count": null,
   "metadata": {},
   "outputs": [],
   "source": [
    "# Look at the number of matched jets in different LLP decay radius bin\n",
    "c = rt.TCanvas('c1','c1', 800, 600)\n",
    "leg = rt.TLegend(0.7,0.65,0.95,0.92)\n",
    "# leg.SetTextFont(42)\n",
    "# leg.SetTextAlign(12)\n",
    "# leg.SetLineWidth(0)\n",
    "# leg.SetBorderSize(0)\n",
    "# # Create 2d numpy array matched-jets vs. LLP decay radius\n",
    "h = {}\n",
    "proj = []\n",
    "matchjet_llpdecay = np.column_stack((matched_jet_perllp, gLLP_decay_radius))\n",
    "bin_low, bin_up = 30,50\n",
    "h['matchjet_llpdecay'] = create_TH2D(matchjet_llpdecay, axis_title = ['Number of Matched Jets','llp decay radius [mm]',''], binning=[3,0,3,50,0,1500])\n",
    "bins = [1,11,25,51]\n",
    "for i in range(len(bins)-1):\n",
    "    key = 'bin'+str(i)\n",
    "    proj.append(h['matchjet_llpdecay'].ProjectionX(\"h\"+str(i),bins[i],bins[i+1]-1))\n",
    "    y_low = h['matchjet_llpdecay'].GetYaxis().GetBinLowEdge(bins[i])\n",
    "    y_up = h['matchjet_llpdecay'].GetYaxis().GetBinLowEdge(bins[i+1]-1)+h['matchjet_llpdecay'].GetYaxis().GetBinWidth(1)\n",
    "    leg.AddEntry(proj[i],'LLP decay radius '+str(y_low)+' - '+str(y_up)+' mm')\n",
    "\n",
    "# proj[0].GetYaxis().SetTitle(\"Percentage (%)\")\n",
    "# proj[0].GetYaxis().SetRangeUser(0,1)\n",
    "# for i in range(len(bins)-1):\n",
    "#     proj[i].SetLineColor(i+1)\n",
    "#     proj[i].Scale(100./proj[i].Integral())\n",
    "#     proj[i].GetYaxis().SetRangeUser(0,100)\n",
    "\n",
    "#     if i == 0:\n",
    "#         proj[i].DrawCopy()\n",
    "#     if i == 2:\n",
    "#         proj[i].SetLineColor(4)\n",
    "#     proj[i].DrawCopy('SAME')\n",
    "#     print (i)\n",
    "# proj[2].GetYaxis().SetRangeUser(0,100)\n",
    "\n",
    "# # h1.Scale(1./h1.Integral())\n",
    "# leg.Draw()\n",
    "# # # c.SetLogy()\n",
    "# # # c.SetLogz()\n",
    "# c.Draw()\n",
    "# # print(h['matchjet_llpdecay'].GetYaxis().GetBinCenter(bin_low))\n",
    "# # y_low = h['matchjet_llpdecay'].GetYaxis().GetBinCenter(bin_low)\n",
    "# # y_up = h['matchjet_llpdecay'].GetYaxis().GetBinCenter(bin_up)\n",
    "# c.SaveAs('matchjet_llpdecay.pdf')\n"
   ]
  },
  {
   "cell_type": "code",
   "execution_count": 176,
   "metadata": {},
   "outputs": [
    {
     "data": {
      "image/png": "[encoded data removed]",
      "text/plain": [
       "<IPython.core.display.Image object>"
      ]
     },
     "metadata": {},
     "output_type": "display_data"
    }
   ],
   "source": [
    "h['b_pt'] = create_TH1D(b_pt, axis_title=['b_{p_{T}}', 'events'], name='b_pt', binning=[50,0,200])\n",
    "h['b_pt'].SetLineColor(4)\n",
    "h['bhat_pt'] = create_TH1D(bhat_pt, axis_title=['#hat{b}_{p_{t}', 'events'], name='bhat_pt', binning=[50,0,200])\n",
    "h['bhat_pt'].SetLineColor(2)\n",
    "c.SetLogy()\n",
    "h['b_pt'].Draw()\n",
    "h['bhat_pt'].Draw('same')\n",
    "c.Draw()"
   ]
  },
  {
   "cell_type": "code",
   "execution_count": 177,
   "metadata": {},
   "outputs": [],
   "source": [
    "DecayChannelBr = {}\n",
    "DecayChannelBr['mu'] = 4.88e-2 * 67e-2 * 3.89e-2\n",
    "DecayChannelBr['tau'] = 1.67e-2 * 17.39e-2 * 67e-2 * 3.89e-2"
   ]
  },
  {
   "cell_type": "code",
   "execution_count": 17,
   "metadata": {},
   "outputs": [
    {
     "name": "stdout",
     "output_type": "stream",
     "text": [
      "{'mu': 0.9438317596679413, 'tau': 0.05616824033205858}\n"
     ]
    }
   ],
   "source": [
    "weights = {}\n",
    "\n",
    "sumBr = np.sum(np.array(DecayChannelBr.values()))\n",
    "for k,v in DecayChannelBr.iteritems():\n",
    "    weights[k] = v/sumBr\n",
    "    \n",
    "print weights"
   ]
  },
  {
   "cell_type": "markdown",
   "metadata": {},
   "source": [
    "# Muon Reco efficiency"
   ]
  },
  {
   "cell_type": "markdown",
   "metadata": {},
   "source": [
    "Distance between the Gen mu and best matching track"
   ]
  },
  {
   "cell_type": "code",
   "execution_count": 18,
   "metadata": {},
   "outputs": [
    {
     "ename": "KeyError",
     "evalue": "'tau'",
     "output_type": "error",
     "traceback": [
      "\u001b[0;31m\u001b[0m",
      "\u001b[0;31mKeyError\u001b[0mTraceback (most recent call last)",
      "\u001b[0;32m<ipython-input-18-3259542d287e>\u001b[0m in \u001b[0;36m<module>\u001b[0;34m()\u001b[0m\n\u001b[1;32m      7\u001b[0m \u001b[0mn\u001b[0m \u001b[0;34m=\u001b[0m \u001b[0;34m'tau'\u001b[0m\u001b[0;34m\u001b[0m\u001b[0m\n\u001b[1;32m      8\u001b[0m \u001b[0;34m\u001b[0m\u001b[0m\n\u001b[0;32m----> 9\u001b[0;31m \u001b[0ms\u001b[0m \u001b[0;34m=\u001b[0m \u001b[0mnp\u001b[0m\u001b[0;34m.\u001b[0m\u001b[0mcolumn_stack\u001b[0m\u001b[0;34m(\u001b[0m\u001b[0;34m(\u001b[0m\u001b[0mtree\u001b[0m\u001b[0;34m[\u001b[0m\u001b[0mn\u001b[0m\u001b[0;34m]\u001b[0m\u001b[0;34m[\u001b[0m\u001b[0;34m'mu_RecoMC_dpt'\u001b[0m\u001b[0;34m]\u001b[0m\u001b[0;34m,\u001b[0m \u001b[0mtree\u001b[0m\u001b[0;34m[\u001b[0m\u001b[0mn\u001b[0m\u001b[0;34m]\u001b[0m\u001b[0;34m[\u001b[0m\u001b[0;34m'mu_RecoMC_dR'\u001b[0m\u001b[0;34m]\u001b[0m\u001b[0;34m)\u001b[0m\u001b[0;34m)\u001b[0m\u001b[0;34m\u001b[0m\u001b[0m\n\u001b[0m\u001b[1;32m     10\u001b[0m \u001b[0;34m\u001b[0m\u001b[0m\n\u001b[1;32m     11\u001b[0m \u001b[0mh2\u001b[0m \u001b[0;34m=\u001b[0m \u001b[0mcreate_TH2D\u001b[0m\u001b[0;34m(\u001b[0m\u001b[0ms\u001b[0m\u001b[0;34m,\u001b[0m \u001b[0mtitle\u001b[0m\u001b[0;34m=\u001b[0m\u001b[0;34m''\u001b[0m\u001b[0;34m,\u001b[0m \u001b[0maxis_title\u001b[0m\u001b[0;34m=\u001b[0m\u001b[0;34m[\u001b[0m\u001b[0;34m'dpt'\u001b[0m\u001b[0;34m,\u001b[0m \u001b[0;34m'dR'\u001b[0m \u001b[0;34m,\u001b[0m \u001b[0;34m''\u001b[0m\u001b[0;34m]\u001b[0m\u001b[0;34m,\u001b[0m \u001b[0mbinning\u001b[0m\u001b[0;34m=\u001b[0m\u001b[0mbinning\u001b[0m\u001b[0;34m)\u001b[0m\u001b[0;34m\u001b[0m\u001b[0m\n",
      "\u001b[0;31mKeyError\u001b[0m: 'tau'"
     ]
    }
   ],
   "source": [
    "binning = [100, -0.1, 0.1, 50, 0, 0.05]\n",
    "\n",
    "c = rt.TCanvas('c_mu_pt', 'c_mu_pt',50,50,800,600)\n",
    "c.SetTickx(0)\n",
    "c.SetTicky(0)\n",
    "\n",
    "n = 'tau'\n",
    "\n",
    "s = np.column_stack((tree[n]['mu_RecoMC_dpt'], tree[n]['mu_RecoMC_dR']))\n",
    "\n",
    "h2 = create_TH2D(s, title='', axis_title=['dpt', 'dR' , ''], binning=binning)\n",
    "\n",
    "h2.Draw('colz')\n",
    "CMS_lumi.CMS_lumi(c, -1, 0)\n",
    "c.Draw()"
   ]
  },
  {
   "cell_type": "code",
   "execution_count": null,
   "metadata": {},
   "outputs": [],
   "source": [
    "binning = [100, 0, 1500.]\n",
    "\n",
    "n = 'tau'\n",
    "#for n in ['glueBall', '']:\n",
    "for n in ['glueBall']:\n",
    "    leg = rt.TLegend(0.4,0.6,0.95,0.9, process[n])\n",
    "    leg.SetTextFont(42)\n",
    "    leg.SetTextAlign(12)\n",
    "    leg.SetLineWidth(0)\n",
    "    leg.SetBorderSize(0)\n",
    "    leg.GetListOfPrimitives().First().SetTextAlign(22) \n",
    "\n",
    "    a = tree[n]['jetPt'][:-1]\n",
    "    h_all = create_TH1D(tree[n]['jetPt'][3:], name='h_'+n+'_mu_pt', binning=binning, axis_title=['P_{T}^{#mu} [GeV]', 'Prob / {:.1f} GeV'.format(binning[2]/binning[0])])\n",
    "    N_norm = h_all.GetEntries()\n",
    "    h_all.Scale(1./N_norm)\n",
    "    leg.AddEntry(h_all, 'Gen #mu, OF={:1.1e}'.format(h_all.GetBinContent(binning[0]+1)), 'le')\n",
    "\n",
    "    #sel = np.logical_and(np.abs(tree[n]['mu_RecoMC_dpt']) < 0.05, tree[n]['mu_RecoMC_dR'] < 0.015)\n",
    "    #h_recoTrk = create_TH1D(tree[n]['muReco_pt'][sel], name='h_'+n+'_muTrack_pt', binning=binning)\n",
    "    #h_recoTrk.Scale(1./N_norm)\n",
    "    #h_recoTrk.SetLineColor(2)\n",
    "    #leg.AddEntry(h_recoTrk, 'RECO #mu (Track), #epsilon={:.2f}, OF={:1.1e}'.format(np.sum(sel)/N_norm, h_recoTrk.GetBinContent(binning[0]+1)), 'le')\n",
    "\n",
    "    #sel = tree[n]['muReco_isStandAloneMuon']>0.5\n",
    "    #h_recoMu = create_TH1D(tree[n]['muReco_pt'][sel], name='h_'+n+'_muReco_pt', binning=binning)\n",
    "    #h_recoMu.Scale(1./N_norm)\n",
    "    #h_recoMu.SetLineColor(4)\n",
    "    #leg.AddEntry(h_recoMu, 'RECO #mu (StandAlone), #epsilon={:.2f}, OF={:1.1e}'.format(np.sum(sel)/N_norm, h_recoMu.GetBinContent(binning[0]+1)), 'le')\n",
    "\n",
    "    c = rt.TCanvas('c_'+n+'_pt', 'c_'+n+'_pt',50,50,800,600)\n",
    "    c.SetTickx(0)\n",
    "    c.SetTicky(0)\n",
    "\n",
    "    h_all.Draw()\n",
    "    #h_recoTrk.Draw('SAME')\n",
    "    #h_recoMu.Draw('SAME')\n",
    "    leg.Draw()\n",
    "\n",
    "\n",
    "    CMS_lumi.CMS_lumi(c, -1, 0)\n",
    "    c.Draw()\n",
    "    #donotdelete.append([leg, h_all, h_recoTrk, h_recoMu, c])\n",
    "    c.SaveAs('../fig/1902_1/Probe_mu_MC_eff_B2'+n+'.png')"
   ]
  },
  {
   "cell_type": "markdown",
   "metadata": {},
   "source": [
    "# Soft Pion Reco efficiency"
   ]
  },
  {
   "cell_type": "code",
   "execution_count": null,
   "metadata": {},
   "outputs": [],
   "source": [
    "binning = [100, -0.1, 0.1, 50, 0, 0.05]\n",
    "\n",
    "c = rt.TCanvas('c', 'c',50,50,800,600)\n",
    "c.SetTickx(0)\n",
    "c.SetTicky(0)\n",
    "\n",
    "n = 'tau'\n",
    "\n",
    "s = np.column_stack((tree[n]['pisoft_RecoMC_dpt'], tree[n]['pisoft_RecoMC_dR']))\n",
    "\n",
    "h2 = create_TH2D(s, title='', axis_title=['dpt', 'dR' , ''], binning=binning)\n",
    "\n",
    "h2.Draw('colz')\n",
    "CMS_lumi.CMS_lumi(c, -1, 0)\n",
    "c.Draw()"
   ]
  },
  {
   "cell_type": "code",
   "execution_count": null,
   "metadata": {},
   "outputs": [],
   "source": [
    "binning = [50, 0, 2.5]\n",
    "\n",
    "for n in ['mu', 'tau']:\n",
    "    leg = rt.TLegend(0.4,0.6,0.95,0.9, process[n])\n",
    "    leg.SetTextFont(42)\n",
    "    leg.SetTextAlign(12)\n",
    "    leg.SetLineWidth(0)\n",
    "    leg.SetBorderSize(0)\n",
    "    leg.GetListOfPrimitives().First().SetTextAlign(22) \n",
    "\n",
    "    h_all = create_TH1D(tree[n]['pisoft_pt'], name='h_'+n+'_pisoft_pt', binning=binning, axis_title=['P_{T}^{#pi_{soft}} [GeV]', 'Prob / {:.1f} GeV'.format(binning[2]/binning[0])])\n",
    "    N_norm = h_all.GetEntries()\n",
    "    h_all.Scale(1./N_norm)\n",
    "    leg.AddEntry(h_all, 'Gen #pi soft, OF={:1.1e}'.format(h_all.GetBinContent(binning[0]+1)), 'le')\n",
    "\n",
    "    sel = np.logical_and(np.abs(tree[n]['pisoft_RecoMC_dpt']) < 0.05, tree[n]['pisoft_RecoMC_dR'] < 0.02)\n",
    "    h_recoTrk = create_TH1D(tree[n]['pisoftReco_pt'][sel], name='h_'+n+'_pisoftTrack_pt', binning=binning)\n",
    "    h_recoTrk.Scale(1./N_norm)\n",
    "    h_recoTrk.SetLineColor(2)\n",
    "    leg.AddEntry(h_recoTrk, 'RECO #pi soft (Track), #epsilon={:.2f}, OF={:1.1e}'.format(np.sum(sel)/N_norm, h_recoTrk.GetBinContent(binning[0]+1)), 'le')\n",
    "\n",
    "    c = rt.TCanvas('c_'+n+'_pt', 'c_'+n+'_pt',50,50,800,600)\n",
    "    c.SetTickx(0)\n",
    "    c.SetTicky(0)\n",
    "\n",
    "    h_all.Draw()\n",
    "    h_recoTrk.Draw('SAME')\n",
    "    leg.Draw()\n",
    "\n",
    "\n",
    "    CMS_lumi.CMS_lumi(c, -1, 0)\n",
    "    c.Draw()\n",
    "    donotdelete.append([leg, h_all, h_recoTrk, h_recoMu, c])\n",
    "    c.SaveAs('../fig/1902_1/Probe_softPi_MC_eff_B2'+n+'.png')"
   ]
  },
  {
   "cell_type": "markdown",
   "metadata": {},
   "source": [
    "# Kaon Reco efficiency"
   ]
  },
  {
   "cell_type": "code",
   "execution_count": null,
   "metadata": {},
   "outputs": [],
   "source": [
    "binning = [50, 0, 20.]\n",
    "\n",
    "for n in ['mu', 'tau']:\n",
    "    leg = rt.TLegend(0.4,0.6,0.95,0.9, process[n])\n",
    "    leg.SetTextFont(42)\n",
    "    leg.SetTextAlign(12)\n",
    "    leg.SetLineWidth(0)\n",
    "    leg.SetBorderSize(0)\n",
    "    leg.GetListOfPrimitives().First().SetTextAlign(22) \n",
    "\n",
    "    h_all = create_TH1D(tree[n]['K_pt'], name='h_'+n+'_K_pt', binning=binning, axis_title=['P_{T}^{K} [GeV]', 'Prob / {:.1f} GeV'.format(binning[2]/binning[0])])\n",
    "    N_norm = h_all.GetEntries()\n",
    "    h_all.Scale(1./N_norm)\n",
    "    leg.AddEntry(h_all, 'Gen, OF={:1.1e}'.format(h_all.GetBinContent(binning[0]+1)), 'le')\n",
    "\n",
    "    sel = np.logical_and(np.abs(tree[n]['K_RecoMC_dpt']) < 0.05, tree[n]['K_RecoMC_dR'] < 0.02)\n",
    "    h_recoTrk = create_TH1D(tree[n]['KReco_pt'][sel], name='h_'+n+'_KTrack_pt', binning=binning)\n",
    "    h_recoTrk.Scale(1./N_norm)\n",
    "    h_recoTrk.SetLineColor(2)\n",
    "    leg.AddEntry(h_recoTrk, 'RECO, #epsilon={:.2f}, OF={:1.1e}'.format(np.sum(sel)/N_norm, h_recoTrk.GetBinContent(binning[0]+1)), 'le')\n",
    "\n",
    "    c = rt.TCanvas('c_'+n+'_pt', 'c_'+n+'_pt',50,50,800,600)\n",
    "    c.SetTickx(0)\n",
    "    c.SetTicky(0)\n",
    "\n",
    "    h_all.Draw()\n",
    "    h_recoTrk.Draw('SAME')\n",
    "    leg.Draw()\n",
    "\n",
    "\n",
    "    CMS_lumi.CMS_lumi(c, -1, 0)\n",
    "    c.Draw()\n",
    "    donotdelete.append([leg, h_all, h_recoTrk, h_recoMu, c])\n",
    "    c.SaveAs('../fig/1902_1/Probe_K_MC_eff_B2'+n+'.png')"
   ]
  },
  {
   "cell_type": "markdown",
   "metadata": {},
   "source": [
    "# Efficiency and distribution as a function of $q^2$"
   ]
  },
  {
   "cell_type": "markdown",
   "metadata": {},
   "source": [
    "Definition is $q^2 = (p_B - p_D)^2 = (p_l + p_\\nu)^2$.\n",
    "Morally is the energy of the interaction between leptons and quarks"
   ]
  },
  {
   "cell_type": "code",
   "execution_count": null,
   "metadata": {},
   "outputs": [],
   "source": [
    "# binning = [30, 0, (5.3 - 2.0)**2]\n",
    "binning = [30, 0, 18.]\n",
    "\n",
    "q2_max_th = (5.29 - 2.01)**2\n",
    "\n",
    "for n in ['mu', 'tau']:\n",
    "    c = rt.TCanvas('c_q2_MC'+n, 'c_q2_MC'+n,50,50,800,600)\n",
    "    c.SetTickx(0)\n",
    "    c.SetTicky(0)\n",
    "\n",
    "    leg = rt.TLegend(0.66,0.7,0.97,0.9)\n",
    "    leg.SetTextFont(42)\n",
    "    leg.SetTextAlign(12)\n",
    "    leg.SetLineWidth(0)\n",
    "    leg.SetBorderSize(0)\n",
    "\n",
    "    h_MC_all = create_TH1D(tree[n]['q2_MC'], name='h_'+n+'_MC_all', \n",
    "                           binning=binning, \n",
    "                           axis_title=['q^{2} [GeV^{2}]', 'Prob. / {:.1f} GeV^{{2}}'.format(binning[2]/binning[0])])\n",
    "    N_norm = h_MC_all.GetEntries()\n",
    "    h_MC_all.Scale(1./N_norm)\n",
    "    leg.AddEntry(h_all, 'MC triggered {}'.format(process_short[n]))\n",
    "\n",
    "    sel_pisoft = np.logical_and(np.abs(tree[n]['pisoft_RecoMC_dpt']) < 0.05, tree[n]['pisoft_RecoMC_dR'] < 0.02)\n",
    "    sel_pi = np.logical_and(np.abs(tree[n]['pi_RecoMC_dpt']) < 0.05, tree[n]['pi_RecoMC_dR'] < 0.02)\n",
    "    sel_K = np.logical_and(np.abs(tree[n]['K_RecoMC_dpt']) < 0.05, tree[n]['K_RecoMC_dR'] < 0.02)\n",
    "    sel_mu = tree[n]['muReco_isStandAloneMuon']>0.5\n",
    "    sel_D = np.logical_and(sel_K, sel_pi)\n",
    "    sel_Dst = np.logical_and(sel_D, sel_pisoft)\n",
    "    sel = np.logical_and(sel_Dst, sel_mu)\n",
    "\n",
    "    h_MC_reco = create_TH1D(tree[n]['q2_MC'][sel], name='h_'+n+'_MC_reco', binning=binning)\n",
    "    h_MC_reco.Scale(1./N_norm)\n",
    "    h_MC_reco.SetLineColor(2)\n",
    "    leg.AddEntry(h_MC_reco, 'MC reco {}, #epsilon={:.2f}'.format(process_short[n], np.sum(sel)/float(N_norm)))\n",
    "\n",
    "    h_reco = create_TH1D(tree[n]['q2_RECO'][sel], name='h_'+n+'_MC_reco', binning=binning)\n",
    "    h_reco.Scale(1./N_norm)\n",
    "    h_reco.SetLineColor(4)\n",
    "    leg.AddEntry(h_reco, 'Reco {}, #epsilon={:.2f}'.format(process_short[n], np.sum(sel)/float(N_norm)))\n",
    "\n",
    "    h_MC_all.Draw()\n",
    "    h_MC_reco.Draw('SAME')\n",
    "    h_reco.Draw('SAME')\n",
    "    \n",
    "    ln = rt.TLine()\n",
    "    ln.SetLineStyle(9)\n",
    "    ln.SetLineColor(6)\n",
    "    ln.SetLineWidth(2)\n",
    "    ln.DrawLine(q2_max_th, 0, q2_max_th, h_MC_all.GetMaximum())\n",
    "\n",
    "    leg.Draw()\n",
    "\n",
    "    CMS_lumi.CMS_lumi(c, -1, 0)\n",
    "    c.Draw()\n",
    "    \n",
    "    donotdelete.append([c, h_MC_all, h_MC_reco, h_reco, leg])\n",
    "    c.SaveAs('../fig/1902_1/Probe_q2_MC_eff_B2'+n+'.png')"
   ]
  },
  {
   "cell_type": "markdown",
   "metadata": {},
   "source": [
    "# Efficiency and distribution as a function of B $p_T$"
   ]
  },
  {
   "cell_type": "code",
   "execution_count": null,
   "metadata": {},
   "outputs": [],
   "source": [
    "# binning = [30, 0, (5.3 - 2.0)**2]\n",
    "binning = [30, 0, 70]\n",
    "\n",
    "for n in ['mu', 'tau']:\n",
    "    c = rt.TCanvas('c_q2_MC'+n, 'c_q2_MC'+n,50,50,800,600)\n",
    "    c.SetTickx(0)\n",
    "    c.SetTicky(0)\n",
    "\n",
    "    leg = rt.TLegend(0.45,0.6,0.95,0.9)\n",
    "    leg.SetTextFont(42)\n",
    "    leg.SetTextAlign(12)\n",
    "    leg.SetLineWidth(0)\n",
    "    leg.SetBorderSize(0)\n",
    "\n",
    "    h_MC_all = create_TH1D(tree[n]['Bp_pt'], name='h_'+n+'_MC_all', \n",
    "                           binning=binning, \n",
    "                           axis_title=['p^{(B)}_{T} [GeV]', 'Prob. / {:.1f} GeV'.format(binning[2]/binning[0])])\n",
    "    N_norm = h_MC_all.GetEntries()\n",
    "    h_MC_all.Scale(1./N_norm)\n",
    "    leg.AddEntry(h_all, 'MC, triggered {}'.format(process_short[n]))\n",
    "\n",
    "    sel_pisoft = np.logical_and(np.abs(tree[n]['pisoft_RecoMC_dpt']) < 0.05, tree[n]['pisoft_RecoMC_dR'] < 0.02)\n",
    "    sel_pi = np.logical_and(np.abs(tree[n]['pi_RecoMC_dpt']) < 0.05, tree[n]['pi_RecoMC_dR'] < 0.02)\n",
    "    sel_K = np.logical_and(np.abs(tree[n]['K_RecoMC_dpt']) < 0.05, tree[n]['K_RecoMC_dR'] < 0.02)\n",
    "    sel_mu = tree[n]['muReco_isStandAloneMuon']>0.5\n",
    "    sel_D = np.logical_and(sel_K, sel_pi)\n",
    "    sel_Dst = np.logical_and(sel_D, sel_pisoft)\n",
    "    sel = np.logical_and(sel_Dst, sel_mu)\n",
    "\n",
    "    h_MC_reco = create_TH1D(tree[n]['Bp_pt'][sel], name='h_'+n+'_MC_reco', binning=binning)\n",
    "    h_MC_reco.Scale(1./N_norm)\n",
    "    h_MC_reco.SetLineColor(2)\n",
    "    leg.AddEntry(h_MC_reco, 'MC, reco {}, #epsilon={:.2f}'.format(process_short[n], np.sum(sel)/float(N_norm)))\n",
    "\n",
    "    h_reco = create_TH1D(tree[n]['B_RECO_pt'][sel], name='h_'+n+'_MC_reco', binning=binning)\n",
    "    h_reco.Scale(1./N_norm)\n",
    "    h_reco.SetLineColor(4)\n",
    "    leg.AddEntry(h_reco, 'RECO, reco {}, #epsilon={:.2f}'.format(process_short[n], np.sum(sel)/float(N_norm)))\n",
    "\n",
    "    h_MC_all.Draw()\n",
    "    h_MC_reco.Draw('SAME')\n",
    "    h_reco.Draw('SAME')\n",
    "\n",
    "\n",
    "    leg.Draw()\n",
    "\n",
    "    CMS_lumi.CMS_lumi(c, -1, 0)\n",
    "    c.Draw()\n",
    "    \n",
    "    donotdelete.append([c, h_MC_all, h_MC_reco, h_reco, leg])"
   ]
  },
  {
   "cell_type": "code",
   "execution_count": null,
   "metadata": {},
   "outputs": [],
   "source": [
    "3e8*1.5e-12*20./5.3"
   ]
  },
  {
   "cell_type": "code",
   "execution_count": null,
   "metadata": {},
   "outputs": [],
   "source": [
    "3e8*4e-13*7./1.8"
   ]
  },
  {
   "cell_type": "code",
   "execution_count": null,
   "metadata": {},
   "outputs": [],
   "source": [
    "1e10 * 0.8 * 0.25 * 0.048 * 0.68 * 0.039 * 0.29"
   ]
  },
  {
   "cell_type": "markdown",
   "metadata": {},
   "source": [
    "# Kinematic variables"
   ]
  },
  {
   "cell_type": "code",
   "execution_count": null,
   "metadata": {},
   "outputs": [],
   "source": [
    "var_dict = {}\n",
    "var_dict['Est_mu_RECO'] = [50, 0, 2.5]\n",
    "var_dict['M2_miss_RECO'] = [50, -2., 10.]\n",
    "var_dict['M_vis_RECO'] = [50, 0, 5.3]"
   ]
  },
  {
   "cell_type": "code",
   "execution_count": null,
   "metadata": {
    "scrolled": false
   },
   "outputs": [],
   "source": [
    "for var, binning in var_dict.iteritems():\n",
    "    leg = rt.TLegend(0.7,0.6,0.95,0.9)\n",
    "    leg.SetTextFont(42)\n",
    "    leg.SetTextAlign(12)\n",
    "    leg.SetLineWidth(0)\n",
    "    leg.SetBorderSize(0)\n",
    "    \n",
    "    h_sum = rt.TH1D('h_sum'+var, '', binning[0], binning[1], binning[2])\n",
    "    h_sum.SetXTitle(var)\n",
    "    h_sum.SetYTitle('Probability / {:.2f}'.format(h_sum.GetBinWidth(1)))\n",
    "    h_sum.GetYaxis().SetTitleOffset(1.3)\n",
    "    h_sum.SetStats(0)\n",
    "    h_sum.SetLineColor(16)\n",
    "    h_sum.SetFillColor(16)\n",
    "    h_sum.constituents = []\n",
    "    leg.AddEntry(h_sum, 'Sum, weighted for Br', 'l')\n",
    "    \n",
    "    for i_n, n in enumerate(tree.keys()):\n",
    "        h = create_TH1D(tree[n][var], name='h_'+n+'_'+var, binning=binning)\n",
    "        h.SetStats(0)\n",
    "        h.Scale(weights[n]/h.GetEntries())\n",
    "        h.SetLineColor(std_color_list[i_n+1])\n",
    "        leg.AddEntry(h, process[n], 'l')\n",
    "        \n",
    "        h_sum.Add(h)\n",
    "        h_sum.constituents.append(h)\n",
    "\n",
    "    ln = rt.TLine()\n",
    "    ln.SetLineColor(6)\n",
    "    ln.SetLineWidth(2)\n",
    "    ln.SetLineStyle(9)\n",
    "    leg.AddEntry(ln, 'M_{B^{#pm}}', 'l')\n",
    "    \n",
    "    h_sum.Sumw2(0)\n",
    "    h_sum.SetFillStyle(3001)\n",
    "    \n",
    "    c = rt.TCanvas('c_'+var, 'c_'+var,50,50,800,600)\n",
    "    c.SetTickx(0)\n",
    "    c.SetTicky(0)\n",
    "    \n",
    "    h_sum.Draw()\n",
    "    for h in h_sum.constituents:\n",
    "        h.Draw('SAME')\n",
    "    \n",
    "    ln.DrawLine(5.279, 0, 5.279, h_sum.GetMaximum())\n",
    "    leg.Draw()\n",
    "    \n",
    "    if var in ['mu_ip']:\n",
    "        c.SetLogy()\n",
    "    \n",
    "    CMS_lumi.CMS_lumi(c, -1, 0)\n",
    "    c.Draw()\n",
    "    \n",
    "    donotdelete.append([c, h_sum, leg])"
   ]
  },
  {
   "cell_type": "code",
   "execution_count": null,
   "metadata": {},
   "outputs": [],
   "source": []
  }
 ],
 "metadata": {
  "kernelspec": {
   "display_name": "Python 2",
   "language": "python",
   "name": "python2"
  },
  "language_info": {
   "codemirror_mode": {
    "name": "ipython",
    "version": 2
   },
   "file_extension": ".py",
   "mimetype": "text/x-python",
   "name": "python",
   "nbconvert_exporter": "python",
   "pygments_lexer": "ipython2",
   "version": "2.7.15rc1"
  }
 },
 "nbformat": 4,
 "nbformat_minor": 2
}
