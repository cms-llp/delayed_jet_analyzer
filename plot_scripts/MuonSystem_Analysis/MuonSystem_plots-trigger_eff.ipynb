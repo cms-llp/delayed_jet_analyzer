{
 "cells": [
  {
   "cell_type": "code",
   "execution_count": 1,
   "metadata": {},
   "outputs": [
    {
     "name": "stdout",
     "output_type": "stream",
     "text": [
      "Welcome to JupyROOT 6.18/02\n",
      "3.6.8 (default, Aug  7 2019, 17:28:10) \n",
      "[GCC 4.8.5 20150623 (Red Hat 4.8.5-39)]\n"
     ]
    }
   ],
   "source": [
    "import ROOT as rt\n",
    "# import root_numpy as rtnp\n",
    "import csv\n",
    "import re\n",
    "import sys\n",
    "import collections\n",
    "\n",
    "from collections import OrderedDict\n",
    "import uproot\n",
    "import awkward\n",
    "import numpy as np\n",
    "import time\n",
    "import numba\n",
    "from numba import jit\n",
    "from matplotlib import pyplot as plt\n",
    "sys.path.append('/nfshome/christiw/llp/delayed_jet_analyzer/lib/')\n",
    "from histo_utilities import create_TH1D, create_TH2D, std_color_list, create_TGraph\n",
    "\n",
    "import CMS_lumi, tdrstyle\n",
    "tdrstyle.setTDRStyle()\n",
    "CMS_lumi.writeExtraText = 0\n",
    "\n",
    "wH = 1\n",
    "Z_MASS = 91.2\n",
    "\n",
    "# donotdelete = []\n",
    "print(sys.version)"
   ]
  },
  {
   "cell_type": "code",
   "execution_count": null,
   "metadata": {},
   "outputs": [],
   "source": []
  },
  {
   "cell_type": "code",
   "execution_count": null,
   "metadata": {},
   "outputs": [],
   "source": []
  },
  {
   "cell_type": "code",
   "execution_count": 2,
   "metadata": {},
   "outputs": [
    {
     "name": "stdout",
     "output_type": "stream",
     "text": [
      "WJetsToLNu /mnt/hadoop/store/group/phys_exotica/delayedjets/displacedJetMuonAnalyzer/V1p7/MC_Summer16/v11/v5//bkg/wH/normalized/WJetsToLNu_TuneCUETP8M1_13TeV-amcatnloFXFX-pythia8_1pb_weighted.root\n",
      "weights [-48.58789046  48.58789046]\n",
      "bbbb10m /mnt/hadoop/store/group/phys_exotica/delayedjets/displacedJetMuonAnalyzer/V1p7/MC_Summer16/v11/v5/signals/wH/normalized/WH_HToSSTobbbb_WToLNu_MH-125_MS-40_ctauS-10000_TuneCUETP8M1_13TeV-powheg-pythia8_1pb_weighted.root\n",
      "weights [-1.58039884 -1.00285431  1.00285431  1.58039884]\n",
      "bbbb1m /mnt/hadoop/store/group/phys_exotica/delayedjets/displacedJetMuonAnalyzer/V1p7/MC_Summer16/v11/v5/signals/wH/normalized/WH_HToSSTobbbb_WToLNu_MH-125_MS-40_ctauS-1000_TuneCUETP8M1_13TeV-powheg-pythia8_1pb_weighted.root\n",
      "weights [-1.58415991 -1.00145274  1.00145274  1.58415991]\n",
      "9.280900478363037\n"
     ]
    }
   ],
   "source": [
    "###### LOAD ANALYZER OUTPUT #####\n",
    "\n",
    "fpath_bkg =OrderedDict()\n",
    "tree_bkg = OrderedDict()\n",
    "tree_sig = OrderedDict()\n",
    "fpath_sig =OrderedDict()\n",
    "path = '/mnt/hadoop/store/group/phys_exotica/delayedjets/displacedJetMuonAnalyzer/V1p7/MC_Summer16/v11/v5/'\n",
    "bkg_path = path+\"/bkg/wH/normalized/\"\n",
    "# greater than one lepton, lepton 27 GeV cut, greater than 2 jets\n",
    "lumi = 137000 #in pb-1\n",
    "\n",
    "fpath_bkg['WJetsToLNu'] = bkg_path+\"WJetsToLNu_TuneCUETP8M1_13TeV-amcatnloFXFX-pythia8_1pb_weighted.root\"\n",
    "start_t = time.time()\n",
    "if wH:\n",
    "    sig_path = path+'signals/wH/normalized/'\n",
    "else:    \n",
    "    sig_path = path+'/signals/zH/normalized/'\n",
    "fpath_bkg['bbbb10m'] = sig_path + 'WH_HToSSTobbbb_WToLNu_MH-125_MS-40_ctauS-10000_TuneCUETP8M1_13TeV-powheg-pythia8_1pb_weighted.root'\n",
    "fpath_bkg['bbbb1m'] = sig_path + 'WH_HToSSTobbbb_WToLNu_MH-125_MS-40_ctauS-1000_TuneCUETP8M1_13TeV-powheg-pythia8_1pb_weighted.root'\n",
    "# fpath_bkg['bbbb0.1m'] = sig_path + 'WH_HToSSTobbbb_WToLNu_MH-125_MS-40_ctauS-100_TuneCUETP8M1_13TeV-powheg-pythia8_1pb_weighted.root'\n",
    "\n",
    "\n",
    "NEvents = {}\n",
    "\n",
    "for k,v in fpath_bkg.items():\n",
    "    print (k, v)\n",
    "#     tree[k] = rtnp.root2array(v)\n",
    "    root_dir = uproot.open(v) \n",
    "#     if k[:7] == 'ntuples':\n",
    "#         tree_bkg[k] = root_dir['ntuples']['llp']\n",
    "#         NEvents[k] = root_dir['ntuples']['NEvents'][1]\n",
    "#     else:\n",
    "    tree_bkg[k] = root_dir['MuonSystem']\n",
    "    NEvents[k] = root_dir['NEvents'][1]\n",
    "#     tree[k] = root_dir['ntuples']\n",
    "    a = tree_bkg[k][\"weight\"].array()\n",
    "    print ('weights',np.unique(a)*lumi)\n",
    "#     print(len(a)/ NEvents[k])\n",
    "#     print(a.shape)\n",
    "print(time.time()-start_t)\n",
    "\n"
   ]
  },
  {
   "cell_type": "code",
   "execution_count": 3,
   "metadata": {},
   "outputs": [],
   "source": [
    "trigger_names_file = '/nfshome/christiw/llp/delayed_jet_analyzer/data/trigger_names_llp_v1.dat'\n",
    "trigger_names = []\n",
    "with open(trigger_names_file) as f:\n",
    "    reader = csv.reader(f, delimiter=\" \")\n",
    "    for line in reader:\n",
    "        trigger_names.append(line[2])\n",
    "if wH:\n",
    "    trigger_paths = [87,135] #PFMET120\n",
    "else:\n",
    "    trigger_paths = [177,362,87,135] #PFMET120\n",
    "\n",
    "# 177 HLT_Mu17_TrkIsoVVL_Mu8_TrkIsoVVL_DZ\n",
    "# 362 HLT_Ele23_Ele12_CaloIdL_TrackIdL_IsoVL_DZ\n",
    "# 310 HLT_PFMET120_PFMHT120_IDTight\n",
    "# 87 HLT_Ele32_WPTight_Gsf\n",
    "# 135 HLT_IsoMu24\n",
    "# 310 PFMET\n"
   ]
  },
  {
   "cell_type": "code",
   "execution_count": 14,
   "metadata": {},
   "outputs": [],
   "source": [
    "\n",
    "legend = {}\n",
    "legend['bbbb10m'] = 'signal c#tau = 10 m'\n",
    "legend['bbbb1m'] = 'signal c#tau = 1 m'\n",
    "legend['bbbb0.1m'] = 'signal c#tau = 0.1 m'\n",
    "\n",
    "legend['SingleElectron'] = 'SingleElectron'\n",
    "legend['SingleMuon'] = 'SingleMuon'\n",
    "legend['WJetsToLNu'] = 'WJetsToLNu'"
   ]
  },
  {
   "cell_type": "code",
   "execution_count": 197,
   "metadata": {},
   "outputs": [
    {
     "name": "stdout",
     "output_type": "stream",
     "text": [
      "WJetsToLNu 0.4408341496621229\n",
      "bbbb10m 0.5949785134321481\n",
      "bbbb1m 0.6128104412359747\n",
      "bbbb0.1m 0.6813338359660868\n",
      "6.024562835693359\n"
     ]
    }
   ],
   "source": [
    "start_t = time.time()\n",
    "\n",
    "weight = {}\n",
    "trigger_decision = {}\n",
    "gParticlePt = {}\n",
    "nCsc = {}\n",
    "pdgId = 11\n",
    "for k,T in tree_bkg.items():\n",
    "    \n",
    "    \n",
    "        \n",
    "    #### select events that pass ID cut & gen level cut ####\n",
    "    gParticleId = T.array('gLepId')\n",
    "    sel_id = np.logical_and(np.abs(T.array('lepPdgId')) == pdgId, T.array('lepPassId'))\n",
    "    sel_lep = np.logical_and(sel_id.sum() >= 1, np.abs(T.array('gLepId')) == pdgId)\n",
    "\n",
    "    gParticlePt[k] = T.array('gLepPt')[sel_lep]\n",
    "    weight[k] = T.array('weight')[sel_lep]*lumi\n",
    "    nCsc[k] = T.array('nCsc')[sel_lep]\n",
    "    hlt = T['HLTDecision'].array()\n",
    "    # select only triggered events\n",
    "    sel_ev= np.zeros(hlt[:,0].shape)\n",
    "    for tr in trigger_paths:\n",
    "        sel_ev  = np.logical_or(sel_ev,hlt[:,tr])\n",
    "\n",
    "        \n",
    "    trigger_decision[k] = weight[k]*sel_ev[sel_lep]\n",
    "    print(k,np.sum(trigger_decision[k])/np.sum(weight[k]))\n",
    "# #     print(k,np.sum(weight[k])/(xsec[k]*lumi))\n",
    "# #     nCsc_JetMuonVetoCluster0p4_Me1112Veto[k] =T.array('nCsc_JetMuonVetoCluster0p4_Me1112Veto')    \n",
    "    \n",
    "#     sel_ev = np.logical_and(sel_ev, np.abs(T.array('lepGenId')) == 13)\n",
    "#     sel_ev = np.logical_and(sel_ev, T.array('nLeptons') == 1)\n",
    "# #     sel_ev = np.logical_and(sel_ev, np.abs(T.array('lepPdgId')) == 13)\n",
    "#     weight_trigger[k] = weight[k]*sel_ev\n",
    "#     print(k, np.count_nonzero(sel_ev)/len(sel_ev))\n",
    "\n",
    "\n",
    "#     nJets[k] =T.array('nJets')\n",
    "#     cscTime[k] = T.array('cscT')\n",
    "#     npu[k] = T.array('npu')\n",
    "#     npv[k] = T.array('npv')\n",
    "\n",
    "\n",
    "#     cscTime[k] = np.array([np.mean(a) if len(a)>0 else 0 for a in cscTime[k]])\n",
    "\n",
    "print(time.time()-start_t)"
   ]
  },
  {
   "cell_type": "code",
   "execution_count": 186,
   "metadata": {},
   "outputs": [
    {
     "name": "stdout",
     "output_type": "stream",
     "text": [
      "(581027,)\n"
     ]
    },
    {
     "name": "stderr",
     "output_type": "stream",
     "text": [
      "Warning in <TCanvas::Constructor>: Deleting canvas with same name: c\n",
      "Warning in <TROOT::Append>: Replacing existing TH1: hm1 (Potential memory leak).\n",
      "Warning in <TROOT::Append>: Replacing existing TH1: hb1 (Potential memory leak).\n",
      "Info in <TEfficiency::TEfficiency>: given histograms are filled with weights\n",
      "Info in <TROOT::TEfficiency::SetUseWeightedEvents>: Handle weighted events for computing efficiency\n",
      "Warning in <TEfficiency::GetEfficiencyErrorLow>: frequentist confidence intervals for weights are only supported by the normal approximation\n",
      "Info in <TEfficiency::GetEfficiencyErrorLow>: setting statistic option to kFNormal\n"
     ]
    },
    {
     "data": {
      "image/png": "[encoded data removed]",
      "text/plain": [
       "<IPython.core.display.Image object>"
      ]
     },
     "metadata": {},
     "output_type": "display_data"
    }
   ],
   "source": [
    "c = rt.TCanvas('c','c', 800, 600)\n",
    "h = {}\n",
    "leg = rt.TLegend(0.7,0.70,0.9,0.9);\n",
    "leg.SetTextSize(0.03)\n",
    "\n",
    "k = 'WJetsToLNu'\n",
    "xaxis = gParticlePt[k]\n",
    "xaxis_title = 'lepton pT [GeV]'\n",
    "bins = [20,0,200]\n",
    "\n",
    "# xaxis = nCsc[k]\n",
    "# xaxis_title = 'nCsc'\n",
    "# bins = [30,0,300]\n",
    "\n",
    "print(xaxis.shape)\n",
    "hm = create_TH1D(xaxis, 'hm1', axis_title = [xaxis_title,'Trigger Efficiency'], binning=bins,weights = trigger_decision[k])\n",
    "hb = create_TH1D(xaxis, 'hb1', axis_title = [xaxis_title,'Trigger Efficiency'], binning=bins,weights = weight[k])\n",
    "pEff1 = rt.TEfficiency(hm,hb)\n",
    "pEff1.SetLineColor(std_color_list[0])\n",
    "pEff1.Draw()\n",
    "\n",
    "# xaxis = ele2_pt\n",
    "# bins = [0,30,40,60,150]\n",
    "# hm = create_TH1D(xaxis, 'hm2', axis_title = [xaxis_title,'Trigger Efficiency'], binning=bins,weights = trigger_decision['zee'][362])\n",
    "# hb = create_TH1D(xaxis, 'hb2', axis_title = [xaxis_title,'Trigger Efficiency'], binning=bins)\n",
    "# pEff2 = rt.TEfficiency(hm,hb)\n",
    "# pEff1.SetLineColor(std_color_list[1])\n",
    "# pEff2.Draw('same')\n",
    "# leg.AddEntry(pEff1,'Electron1 pT')\n",
    "# leg.AddEntry(pEff2,'Electron2 pT')\n",
    "\n",
    "# hb.Draw()\n",
    "# hb.Draw()\n",
    "# hm.Draw('same')\n",
    "# leg.Draw()\n",
    "# c.SetLogy()\n",
    "c.Draw()\n",
    "pEff1.GetPaintedGraph().GetYaxis().SetRangeUser(-0.01,1)\n",
    "\n",
    "# c.SaveAs(\"../../plots/trigger_efficiency/zh_trigger362_elept.pdf\")"
   ]
  },
  {
   "cell_type": "code",
   "execution_count": null,
   "metadata": {},
   "outputs": [],
   "source": []
  },
  {
   "cell_type": "markdown",
   "metadata": {},
   "source": [
    "# Offline Selection"
   ]
  },
  {
   "cell_type": "code",
   "execution_count": 195,
   "metadata": {
    "scrolled": false
   },
   "outputs": [
    {
     "name": "stdout",
     "output_type": "stream",
     "text": [
      "WJetsToLNu 0.9403269928112475\n",
      "bbbb10m 0.9033149171270718\n",
      "bbbb1m 0.871866295264624\n",
      "bbbb0.1m 0.9421965317919075\n",
      "1.0084547996520996\n"
     ]
    }
   ],
   "source": [
    "start_t = time.time()\n",
    "\n",
    "weight = {}\n",
    "id_efficiency = {}\n",
    "gLepPt = {}\n",
    "gLepEta = {}\n",
    "pdgId = 13\n",
    "for k,T in tree_bkg.items():\n",
    "    \n",
    "    \n",
    "    #### select triggered muon events #####\n",
    "#     hlt = T['HLTDecision'].array()\n",
    "#     sel_ev= np.zeros(hlt[:,0].shape)\n",
    "#     for tr in trigger_paths:\n",
    "#         sel_ev  = np.logical_or(sel_ev,hlt[:,tr])\n",
    "    sel_ev = T.array('gLepId') == pdgId\n",
    "#     sel_ev = np.logical_and(sel_ev,np.abs(T.array('gLepEta')) < 2.4)\n",
    "#     sel_ev = np.logical_and(sel_ev,np.abs(T.array('gLepPt')) < 2.4)\n",
    "\n",
    "\n",
    "    weight[k] = T.array('weight')[sel_ev]*lumi\n",
    "    gLepPt[k] = T.array('gLepPt')[sel_ev]\n",
    "    gLepEta[k] = T.array('gLepEta')[sel_ev]\n",
    "\n",
    "\n",
    "    #### select events that pass ID cut ####\n",
    "    sel_id = np.logical_and(np.abs(T.array('lepPdgId')) == pdgId, T.array('lepPassId'))\n",
    "    sel_id = sel_id.sum() >= 1\n",
    "    \n",
    "    \n",
    "    id_efficiency[k] = weight[k]*sel_id[sel_ev]\n",
    "    print(k,np.count_nonzero(id_efficiency[k])/np.count_nonzero(weight[k]))\n",
    "\n",
    "\n",
    "print(time.time()-start_t)"
   ]
  },
  {
   "cell_type": "code",
   "execution_count": 194,
   "metadata": {},
   "outputs": [
    {
     "name": "stdout",
     "output_type": "stream",
     "text": [
      "(99628,)\n"
     ]
    },
    {
     "name": "stderr",
     "output_type": "stream",
     "text": [
      "Warning in <TCanvas::Constructor>: Deleting canvas with same name: c\n",
      "Warning in <TROOT::Append>: Replacing existing TH1: hm1 (Potential memory leak).\n",
      "Warning in <TROOT::Append>: Replacing existing TH1: hb1 (Potential memory leak).\n",
      "Info in <TEfficiency::TEfficiency>: given histograms are filled with weights\n",
      "Info in <TROOT::TEfficiency::SetUseWeightedEvents>: Handle weighted events for computing efficiency\n",
      "Warning in <TEfficiency::GetEfficiencyErrorLow>: frequentist confidence intervals for weights are only supported by the normal approximation\n",
      "Info in <TEfficiency::GetEfficiencyErrorLow>: setting statistic option to kFNormal\n"
     ]
    },
    {
     "data": {
      "image/png": "[encoded data removed]",
      "text/plain": [
       "<IPython.core.display.Image object>"
      ]
     },
     "metadata": {},
     "output_type": "display_data"
    }
   ],
   "source": [
    "c = rt.TCanvas('c','c', 800, 600)\n",
    "h = {}\n",
    "leg = rt.TLegend(0.7,0.70,0.9,0.9);\n",
    "leg.SetTextSize(0.03)\n",
    "\n",
    "k = 'WJetsToLNu'\n",
    "xaxis = gLepPt[k]\n",
    "xaxis_title = 'lepton pT [GeV]'\n",
    "bins = [50,0,300]\n",
    "\n",
    "xaxis = gLepEta[k]\n",
    "# print(gLepEta[k][gLepEta[k]>2.1])\n",
    "# print(id_efficiency[k][gLepEta[k]>2.1])\n",
    "\n",
    "\n",
    "xaxis_title = 'lepton #eta'\n",
    "bins = [20,-3,3]\n",
    "\n",
    "print(xaxis.shape)\n",
    "hm = create_TH1D(xaxis, 'hm1', axis_title = [xaxis_title,'Selection Efficiency'], binning=bins,weights = id_efficiency[k])\n",
    "hb = create_TH1D(xaxis, 'hb1', axis_title = [xaxis_title,'Selection Efficiency'], binning=bins,weights = weight[k])\n",
    "pEff1 = rt.TEfficiency(hm,hb)\n",
    "pEff1.SetLineColor(std_color_list[0])\n",
    "\n",
    "pEff1.Draw()\n",
    "\n",
    "# xaxis = ele2_pt\n",
    "# bins = [0,30,40,60,150]\n",
    "# hm = create_TH1D(xaxis, 'hm2', axis_title = [xaxis_title,'Trigger Efficiency'], binning=bins,weights = trigger_decision['zee'][362])\n",
    "# hb = create_TH1D(xaxis, 'hb2', axis_title = [xaxis_title,'Trigger Efficiency'], binning=bins)\n",
    "# pEff2 = rt.TEfficiency(hm,hb)\n",
    "# pEff1.SetLineColor(std_color_list[1])\n",
    "# pEff2.Draw('same')\n",
    "# leg.AddEntry(pEff1,'Electron1 pT')\n",
    "# leg.AddEntry(pEff2,'Electron2 pT')\n",
    "\n",
    "# hb.Draw()\n",
    "# hb.Draw()\n",
    "# hm.Draw('same')\n",
    "# leg.Draw()\n",
    "# c.SetLogy()\n",
    "c.Draw()\n",
    "pEff1.GetPaintedGraph().GetYaxis().SetRangeUser(0.0,1.1)\n",
    "\n",
    "# c.SaveAs(\"../../plots/trigger_efficiency/zh_trigger362_elept.pdf\")"
   ]
  },
  {
   "cell_type": "markdown",
   "metadata": {},
   "source": [
    "# Acceptance"
   ]
  },
  {
   "cell_type": "code",
   "execution_count": 39,
   "metadata": {},
   "outputs": [],
   "source": [
    "gLLP_eta = {}\n",
    "gLLP_r = {}\n",
    "gLLP_z = {}\n",
    "weight = {}\n",
    "for k,T in tree_bkg.items():\n",
    "    gLLP_eta[k] = T.array('gLLP_eta')\n",
    "    gLLP_r[k] = T.array('gLLP_decay_vertex_r')\n",
    "    gLLP_z[k] = T.array('gLLP_decay_vertex_z')\n",
    "#     sel_llp = np.logical_and(np.abs(gLLP_eta[k])<2.4, np.abs(gLLP_eta[k])>0.9)\n",
    "#     sel_llp = np.logical_and(sel_llp, np.abs(gLLP_z[k])<1100)\n",
    "#     sel_llp = np.logical_and(sel_llp, np.abs(gLLP_z[k])>568)\n",
    "#     sel_llp = np.logical_and(sel_llp,gLLP_r[k] < 695.5)\n",
    "#     sel_llp = np.sum(sel_llp,axis=1) >= 1 #at least 1 llp in csc system\n",
    "    weight[k] = np.column_stack((T.array('weight'), T.array('weight')))*lumi\n",
    "#     weight[k] = T.array('weight')*lumi\n",
    "#     print(k,np.count_nonzero(sel_llp)/len(sel_llp))\n",
    "#     print(k,np.sum(weight[k][sel_llp])/np.sum(weight[k]))\n",
    "#     print(k,np.sum(weight[k][sel_llp]))\n",
    "\n"
   ]
  },
  {
   "cell_type": "code",
   "execution_count": 40,
   "metadata": {},
   "outputs": [
    {
     "name": "stdout",
     "output_type": "stream",
     "text": [
      "0.0036344528198242188\n"
     ]
    },
    {
     "name": "stderr",
     "output_type": "stream",
     "text": [
      "Warning in <TCanvas::Constructor>: Deleting canvas with same name: c\n"
     ]
    },
    {
     "data": {
      "image/png": "[encoded data removed]",
      "text/plain": [
       "<IPython.core.display.Image object>"
      ]
     },
     "metadata": {},
     "output_type": "display_data"
    }
   ],
   "source": [
    "# output_root = rt.TFile(\"output.root\",\"RECREATE\")\n",
    "\n",
    "start_t = time.time()\n",
    "#ROC curve\n",
    "c = rt.TCanvas('c','c', 800, 800)\n",
    "# h.SetStats(0)\n",
    "leg = rt.TLegend(0.70,0.65,0.95,0.85)\n",
    "leg.SetTextSize(0.022)\n",
    "leg.SetBorderSize(0)\n",
    "\n",
    "leg.SetEntrySeparation(0.01)\n",
    "h = {}\n",
    "\n",
    "\n",
    "\n",
    "\n",
    "max_y = 0\n",
    "i =0 \n",
    "qcd_key = 'WJetsToLNu'\n",
    "sig_k = 'bbbb'\n",
    "bkg_nCsc = []\n",
    "for k in tree_bkg.keys():\n",
    "    w = weight[k].flatten()\n",
    " \n",
    "    h[k] = create_TH1D( gLLP_z[k].flatten(), axis_title=['Decay Z [cm]', 'Events'], name=k, binning=[30,0,3000])\n",
    "#     h[k] = create_TH1D( gLLP_eta[k].flatten(), axis_title=['gLLP #eta', 'Events'], name=k, binning=[30,-5,5])\n",
    "#     h[k] = create_TH1D( gLLP_r[k].flatten(), axis_title=['Decay Radius [cm]', 'Events'], name=k, binning=[30,0,3000],weights = w)\n",
    "\n",
    "\n",
    "\n",
    "    h[k].SetLineColor(std_color_list[i+1])\n",
    "    currentMax=h[k].GetBinContent(h[k].GetMaximumBin())\n",
    "    if currentMax > max_y:\n",
    "        max_y = currentMax\n",
    "        h[k].SetMaximum(20*currentMax)\n",
    "        h[k].SetMinimum(1)\n",
    "    h[k].Draw(\"same hist\")\n",
    "    i+=1\n",
    "\n",
    "    leg.AddEntry(h[k],k)\n",
    "\n",
    "leg.Draw()\n",
    "c.SetLogy()\n",
    "c.Draw()\n",
    "\n",
    "print(time.time()-start_t)\n",
    "\n",
    "\n"
   ]
  },
  {
   "cell_type": "markdown",
   "metadata": {
    "scrolled": false
   },
   "source": [
    "# jetveto efficiency"
   ]
  },
  {
   "cell_type": "code",
   "execution_count": 51,
   "metadata": {},
   "outputs": [
    {
     "name": "stdout",
     "output_type": "stream",
     "text": [
      "2.456876277923584\n"
     ]
    }
   ],
   "source": [
    "start_t = time.time()\n",
    "pdgId = 13\n",
    "JET_PT_CUT = 10\n",
    "MUON_PT_CUT = 20\n",
    "\n",
    "\n",
    "weight = {}\n",
    "weight_event = {}\n",
    "lumiSec = {}\n",
    "evtNum = {}\n",
    "nCsc = {}\n",
    "npv = {}\n",
    "npu = {}\n",
    "runNum = {}\n",
    "\n",
    "selections_cluster = {}\n",
    "sel_cluster = {}\n",
    "sel_jetveto = {}\n",
    "for k,T in tree_bkg.items():\n",
    "\n",
    "    ###### OOT control region #####\n",
    "     \n",
    "    \n",
    "#     sel_cluster = np.logical_and( sel_cluster, T.array('cscClusterMe1112Ratio') < 0.01)\n",
    "    sel_cluster[k] = T.array('cscClusterMaxLayerRatio')*T.array('cscClusterSize') > 5.01\n",
    "    sel_cluster[k] = np.logical_and( sel_cluster[k], T.array('cscClusterTime') > -12.5)\n",
    "    sel_cluster[k] = np.logical_and( sel_cluster[k], T.array('cscClusterTime') < 22) \n",
    "    sel_cluster[k] = np.logical_and( sel_cluster[k], T.array('cscClusterMe1112Ratio') < 0.01)\n",
    "\n",
    "\n",
    "#     sel_cluster[k] = np.logical_and( sel_cluster[k],T.array('cscClusterJetVeto') < JET_PT_CUT)\n",
    "#     sel_cluster[k] = np.logical_and( sel_cluster[k], T.array('cscClusterMuonVeto') < MUON_PT_CUT)\n",
    "#     sel_cluster[k] = np.logical_and(sel_cluster[k], T.array('cscClusterTime') < -12.5)\n",
    "#     sel_cluster[k] = np.logical_and(sel_cluster[k], T.array('cscClusterTime') > -62.5)\n",
    "########### SELECTION: EVENTS ############\n",
    "    hlt = T['HLTDecision'].array()\n",
    "    # select only triggered events\n",
    "    sel_ev= np.ones(hlt[:,0].shape, dtype=bool)\n",
    "    sel_ev= np.zeros(hlt[:,0].shape)\n",
    "    for tr in trigger_paths:            \n",
    "        sel_ev  = np.logical_or(sel_ev,hlt[:,tr])\n",
    "    sel_muon = np.logical_and(T.array('lepPassId'), T.array('lepPt')>=25)\n",
    "    sel_muon = np.logical_and(sel_muon, np.abs(T.array('lepEta'))<2.4)\n",
    "    sel_muon = np.logical_and(sel_muon, np.abs(T.array('lepPdgId')) == 13)\n",
    "\n",
    "    sel_ele = np.logical_and(T.array('lepPassId'), T.array('lepPt')>=35)\n",
    "    sel_ele = np.logical_and(sel_ele, np.abs(T.array('lepEta'))<2.4)\n",
    "    sel_ele = np.logical_and(sel_ele, np.abs(T.array('lepPdgId')) == 11)\n",
    "    \n",
    "    sel_lep = np.logical_or(sel_ele, sel_muon)\n",
    "    sel_ev = np.logical_and(sel_ev, sel_lep.sum() == 1)\n",
    "    sel_jetveto[k] = sel_ev\n",
    "\n",
    "    ##### event variables #####\n",
    "    weight[k] = sel_cluster[k]*0.0 + T.array('weight')*lumi\n",
    "    npv[k] = sel_cluster[k]*0.0 + T.array('npv')\n",
    "    npu[k] = sel_cluster[k]*0.0 + T.array('npu')\n",
    "\n",
    "print(time.time()-start_t)"
   ]
  },
  {
   "cell_type": "code",
   "execution_count": 55,
   "metadata": {
    "scrolled": false
   },
   "outputs": [
    {
     "name": "stderr",
     "output_type": "stream",
     "text": [
      "Warning in <TCanvas::Constructor>: Deleting canvas with same name: c\n",
      "Warning in <TROOT::Append>: Replacing existing TH1: hb1 (Potential memory leak).\n",
      "Warning in <TROOT::Append>: Replacing existing TH1: hb1 (Potential memory leak).\n",
      "Warning in <TROOT::Append>: Replacing existing TH1: hm1 (Potential memory leak).\n",
      "Info in <TEfficiency::TEfficiency>: given histograms are filled with weights\n",
      "Info in <TROOT::TEfficiency::SetUseWeightedEvents>: Handle weighted events for computing efficiency\n",
      "Warning in <TROOT::Append>: Replacing existing TH1: hb1 (Potential memory leak).\n",
      "Warning in <TROOT::Append>: Replacing existing TH1: hb1 (Potential memory leak).\n",
      "Warning in <TROOT::Append>: Replacing existing TH1: hm1 (Potential memory leak).\n",
      "Info in <TEfficiency::TEfficiency>: given histograms are filled with weights\n",
      "Info in <TROOT::TEfficiency::SetUseWeightedEvents>: Handle weighted events for computing efficiency\n",
      "Warning in <TROOT::Append>: Replacing existing TH1: hb1 (Potential memory leak).\n",
      "Warning in <TROOT::Append>: Replacing existing TH1: hb1 (Potential memory leak).\n",
      "Warning in <TROOT::Append>: Replacing existing TH1: hm1 (Potential memory leak).\n",
      "Info in <TEfficiency::TEfficiency>: given histograms are filled with weights\n",
      "Info in <TROOT::TEfficiency::SetUseWeightedEvents>: Handle weighted events for computing efficiency\n",
      "Warning in <TEfficiency::GetEfficiencyErrorLow>: frequentist confidence intervals for weights are only supported by the normal approximation\n",
      "Info in <TEfficiency::GetEfficiencyErrorLow>: setting statistic option to kFNormal\n",
      "Warning in <TEfficiency::GetEfficiencyErrorLow>: frequentist confidence intervals for weights are only supported by the normal approximation\n",
      "Info in <TEfficiency::GetEfficiencyErrorLow>: setting statistic option to kFNormal\n",
      "Warning in <TEfficiency::GetEfficiencyErrorLow>: frequentist confidence intervals for weights are only supported by the normal approximation\n",
      "Info in <TEfficiency::GetEfficiencyErrorLow>: setting statistic option to kFNormal\n"
     ]
    },
    {
     "data": {
      "image/png": "[encoded data removed]",
      "text/plain": [
       "<IPython.core.display.Image object>"
      ]
     },
     "metadata": {},
     "output_type": "display_data"
    }
   ],
   "source": [
    "import importlib\n",
    "importlib.reload(sys.modules['histo_utilities'])\n",
    "from histo_utilities import create_TH1D, create_TH2D, std_color_list, create_TGraph, make_ratio_plot\n",
    "\n",
    "c = rt.TCanvas('c','c', 800, 800)\n",
    "# Plotting ncsc\n",
    "start_t = time.time()\n",
    "leg = rt.TLegend(0.70,0.74,0.95,0.90)\n",
    "leg.SetTextSize(0.022)\n",
    "leg.SetBorderSize(0)\n",
    "h = {}\n",
    "rt.gStyle.SetOptFit(1011)\n",
    "i = 0\n",
    "for k,T in tree_bkg.items():\n",
    "#     if not k == 'WJetsToLNu': continue\n",
    "    bins = [15,0,100]\n",
    "    yaxis_title = 'ME11/12 Veto Efficiency'\n",
    "    yaxis_title = 'Jet Veto Efficiency'\n",
    "\n",
    "\n",
    "    hb = create_TH1D(npu[k][sel_cluster[k]][sel_jetveto[k]].flatten(), 'hb1', axis_title = ['npu',yaxis_title], binning=bins,weights = weight[k][sel_cluster[k]][sel_jetveto[k]].flatten())\n",
    "    hb = create_TH1D(npu[k][sel_cluster[k]][sel_jetveto[k]].flatten(), 'hb1', axis_title = ['npu',yaxis_title], binning=bins,weights = weight[k][sel_cluster[k]][sel_jetveto[k]].flatten())\n",
    "\n",
    "\n",
    "    cond = np.logical_and(sel_cluster[k], T.array('cscClusterJetVeto') > 30)\n",
    "#     cond = np.logical_and(sel_cluster[k], T.array('cscClusterMuonVeto') > 20)\n",
    "#     cond = np.logical_and(sel_cluster[k],  T.array('cscClusterMe1112Ratio') > 0.01)\n",
    "\n",
    "    \n",
    "\n",
    "    hm = create_TH1D(npu[k][cond][sel_jetveto[k]].flatten(), 'hm1', axis_title = ['npu', yaxis_title], binning=bins,weights = weight[k][cond][sel_jetveto[k]].flatten())\n",
    "    h[k] = rt.TEfficiency(hm,hb)  \n",
    "    h[k].SetLineColor(std_color_list[i])\n",
    "    \n",
    "    leg.AddEntry(h[k], legend[k])\n",
    "#     h[k].SetMinimum(1)\n",
    "    h[k].Draw('' if i==0 else 'same')\n",
    "\n",
    "\n",
    "\n",
    "    i+=1\n",
    "\n",
    "# c = make_ratio_plot([h[mc],h[data]], fit = False, logy=True, in_tags = [\"MC\",\"Data\"], ratio_bounds = [0,3])\n",
    "# c.SetRightMargin(0)\n",
    "# c.SetLogy()\n",
    "\n",
    "leg.Draw()\n",
    "c.Draw()\n",
    "\n",
    "h['WJetsToLNu'].GetPaintedGraph().GetYaxis().SetRangeUser(0.0,1.5)\n",
    "\n",
    "\n",
    "    \n",
    "\n",
    "\n",
    "# c.Draw()\n",
    "# print(time.time()-start_t)"
   ]
  },
  {
   "cell_type": "markdown",
   "metadata": {},
   "source": [
    "# nCsc histogram"
   ]
  },
  {
   "cell_type": "code",
   "execution_count": null,
   "metadata": {},
   "outputs": [],
   "source": []
  },
  {
   "cell_type": "code",
   "execution_count": null,
   "metadata": {},
   "outputs": [],
   "source": []
  },
  {
   "cell_type": "code",
   "execution_count": null,
   "metadata": {},
   "outputs": [],
   "source": []
  },
  {
   "cell_type": "markdown",
   "metadata": {
    "heading_collapsed": true
   },
   "source": [
    "# event yield vs. ncsc"
   ]
  },
  {
   "cell_type": "code",
   "execution_count": null,
   "metadata": {},
   "outputs": [],
   "source": []
  },
  {
   "cell_type": "code",
   "execution_count": null,
   "metadata": {
    "hidden": true
   },
   "outputs": [],
   "source": []
  },
  {
   "cell_type": "code",
   "execution_count": null,
   "metadata": {
    "hidden": true
   },
   "outputs": [],
   "source": []
  },
  {
   "cell_type": "markdown",
   "metadata": {},
   "source": [
    "# significance"
   ]
  },
  {
   "cell_type": "code",
   "execution_count": null,
   "metadata": {
    "scrolled": false
   },
   "outputs": [],
   "source": []
  },
  {
   "cell_type": "code",
   "execution_count": null,
   "metadata": {},
   "outputs": [],
   "source": [
    "\n"
   ]
  },
  {
   "cell_type": "markdown",
   "metadata": {
    "heading_collapsed": true
   },
   "source": [
    "# DBSCAN"
   ]
  },
  {
   "cell_type": "code",
   "execution_count": null,
   "metadata": {
    "hidden": true
   },
   "outputs": [],
   "source": []
  },
  {
   "cell_type": "markdown",
   "metadata": {
    "heading_collapsed": true
   },
   "source": [
    "# Time response in rechit cut"
   ]
  },
  {
   "cell_type": "code",
   "execution_count": null,
   "metadata": {
    "hidden": true
   },
   "outputs": [],
   "source": []
  },
  {
   "cell_type": "code",
   "execution_count": null,
   "metadata": {
    "hidden": true
   },
   "outputs": [],
   "source": []
  },
  {
   "cell_type": "code",
   "execution_count": null,
   "metadata": {},
   "outputs": [],
   "source": []
  },
  {
   "cell_type": "code",
   "execution_count": null,
   "metadata": {
    "hidden": true
   },
   "outputs": [],
   "source": []
  },
  {
   "cell_type": "markdown",
   "metadata": {
    "scrolled": false
   },
   "source": [
    "# Time response in ECAL energy bins"
   ]
  },
  {
   "cell_type": "code",
   "execution_count": null,
   "metadata": {
    "scrolled": false
   },
   "outputs": [],
   "source": []
  },
  {
   "cell_type": "code",
   "execution_count": null,
   "metadata": {},
   "outputs": [],
   "source": []
  },
  {
   "cell_type": "code",
   "execution_count": null,
   "metadata": {
    "scrolled": false
   },
   "outputs": [],
   "source": []
  },
  {
   "cell_type": "markdown",
   "metadata": {
    "scrolled": false
   },
   "source": [
    "# Time response in t_gen"
   ]
  },
  {
   "cell_type": "code",
   "execution_count": null,
   "metadata": {},
   "outputs": [],
   "source": []
  },
  {
   "cell_type": "code",
   "execution_count": null,
   "metadata": {},
   "outputs": [],
   "source": []
  },
  {
   "cell_type": "code",
   "execution_count": null,
   "metadata": {
    "scrolled": false
   },
   "outputs": [],
   "source": [
    "\n"
   ]
  },
  {
   "cell_type": "code",
   "execution_count": null,
   "metadata": {},
   "outputs": [],
   "source": []
  },
  {
   "cell_type": "code",
   "execution_count": null,
   "metadata": {},
   "outputs": [],
   "source": []
  },
  {
   "cell_type": "code",
   "execution_count": null,
   "metadata": {},
   "outputs": [],
   "source": []
  },
  {
   "cell_type": "code",
   "execution_count": null,
   "metadata": {},
   "outputs": [],
   "source": []
  },
  {
   "cell_type": "code",
   "execution_count": null,
   "metadata": {},
   "outputs": [],
   "source": []
  },
  {
   "cell_type": "code",
   "execution_count": null,
   "metadata": {},
   "outputs": [],
   "source": []
  },
  {
   "cell_type": "code",
   "execution_count": null,
   "metadata": {},
   "outputs": [],
   "source": []
  },
  {
   "cell_type": "code",
   "execution_count": null,
   "metadata": {},
   "outputs": [],
   "source": []
  },
  {
   "cell_type": "code",
   "execution_count": null,
   "metadata": {},
   "outputs": [],
   "source": []
  },
  {
   "cell_type": "code",
   "execution_count": null,
   "metadata": {},
   "outputs": [],
   "source": []
  },
  {
   "cell_type": "code",
   "execution_count": null,
   "metadata": {},
   "outputs": [],
   "source": []
  }
 ],
 "metadata": {
  "kernelspec": {
   "display_name": "Python 3",
   "language": "python",
   "name": "python3"
  },
  "language_info": {
   "codemirror_mode": {
    "name": "ipython",
    "version": 3
   },
   "file_extension": ".py",
   "mimetype": "text/x-python",
   "name": "python",
   "nbconvert_exporter": "python",
   "pygments_lexer": "ipython3",
   "version": "3.6.8"
  }
 },
 "nbformat": 4,
 "nbformat_minor": 2
}
