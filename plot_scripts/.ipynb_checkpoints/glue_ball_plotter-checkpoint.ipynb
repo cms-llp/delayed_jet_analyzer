{
 "cells": [
  {
   "cell_type": "code",
   "execution_count": 1,
   "metadata": {},
   "outputs": [
    {
     "name": "stdout",
     "output_type": "stream",
     "text": [
      "Welcome to JupyROOT 6.13/02\n"
     ]
    }
   ],
   "source": [
    "import ROOT as rt\n",
    "import root_numpy as rtnp\n",
    "import numpy as np\n",
    "from matplotlib import pyplot as plt\n",
    "from histo_utilities import create_TH1D, create_TH2D, std_color_list\n",
    "\n",
    "import CMS_lumi, tdrstyle\n",
    "tdrstyle.setTDRStyle()\n",
    "CMS_lumi.writeExtraText = 1\n",
    "CMS_lumi.extraText = \"     Simulation Preliminary\"\n",
    "\n",
    "donotdelete = []"
   ]
  },
  {
   "cell_type": "code",
   "execution_count": 2,
   "metadata": {},
   "outputs": [
    {
     "name": "stdout",
     "output_type": "stream",
     "text": [
      "glueBall /Users/cmorgoth/Work/OlmoNotebook/jetNtuple_glueBall_m50_ctau1000cm_ALL.root\n",
      "[17.795286 12.522762 11.878623]\n"
     ]
    }
   ],
   "source": [
    "fpath = {}\n",
    "tree = {}\n",
    "process = {}\n",
    "process_short = {}\n",
    "\n",
    "fpath['glueBall'] = '/Users/cmorgoth/Work/OlmoNotebook/jetNtuple_glueBall_m50_ctau1000cm_ALL.root'\n",
    "process['glueBall'] = 'pp #rightarrow h*h* #rightarrow jj#nu#nu'\n",
    "process_short['glueBall'] = 'pp #rightarrow h*h* #rightarrow jj#nu#nu'\n",
    "\n",
    "#fpath['tau'] = '../data/cmsMC_private/BPH_Tag-Bm_D0kpmunu_Probe-B0_TauNuDmst-pD0bar-kp-tau2mununu_NoPU_10-2-3_v0/BPH_Tag-Bm_D0kpmunu_Probe-B0_TauNuDmst-pD0bar-kp-tau2mununu_BPHMC_merged_1-300.root'\n",
    "#process['tau'] = 'B_{0} #rightarrow D*^{-}(#bar{D}_{0}(K^{+}#pi^{-})#pi^{-})#tau^{+}(#mu^{+}#nu#bar{#nu})#nu'\n",
    "#process_short['tau'] = 'B #rightarrow D*#tau#nu'\n",
    "\n",
    "# fpath['Dst_mu'] = '../data/cmsMC_private/BPH_Tag-Bm_D0kpmunu_Probe-Bp_D0stkpNeumunu_NoPU_10-2-3_v0/BPH_Tag-Bm_D0kpmunu_Probe-Bp_D0stkpNeumunu_BPHMC_merged.root'\n",
    "# process['Dst_mu'] = 'B^{+} #rightarrow #bar{D}^{*}_{0}(D_{0} n#gamma)#mu^{+}#nu'\n",
    "\n",
    "# fpath['Dst_tau'] = '../data/cmsMC_private/BPH_Tag-Bm_D0kpmunu_Probe-Bp_D0stkpNeutaunu_tau2mununu_NoPU_10-2-3_v0/BPH_Tag-Bm_D0kpmunu_Probe-Bp_D0stkpNeutaunu_tau2mununu_BPHMC_merged.root'\n",
    "# process['Dst_tau'] = 'B^{+} #rightarrow #bar{D}^{*}_{0}(D_{0} n#gamma)#tau^{+}(#mu^{+}#nu#nu)#nu'\n",
    "\n",
    "for k,v in fpath.iteritems():\n",
    "    print k, v\n",
    "    tree[k] = rtnp.root2array(v)\n",
    "    #tree[k] = rtnp.tree2array(v)\n",
    "    #jet_max_pt_array = [np.max(x) for x in tree[k][\"jetPt\"]]\n",
    "    a = tree[k][\"jetPt\"]\n",
    "    print a[:-1][0]"
   ]
  },
  {
   "cell_type": "code",
   "execution_count": 7,
   "metadata": {},
   "outputs": [],
   "source": [
    "T = tree['glueBall']"
   ]
  },
  {
   "cell_type": "code",
   "execution_count": 6,
   "metadata": {},
   "outputs": [],
   "source": [
    "#get first jet pt per event\n",
    "#T['jetPt'][0]\n",
    "first_jet_pt = [x[0] if len(x) else -1 for x in T['jetPt']]"
   ]
  },
  {
   "cell_type": "code",
   "execution_count": 21,
   "metadata": {},
   "outputs": [],
   "source": [
    "#get max jet pt per event\n",
    "max_jet_pt = [np.max(x) if len(x) else -1 for x in T['jetPt']]\n",
    "#print max_jet_pt"
   ]
  },
  {
   "cell_type": "code",
   "execution_count": 18,
   "metadata": {},
   "outputs": [],
   "source": [
    "#store jet-pt array per event in a list\n",
    "first_jet_pt_arr = []\n",
    "for x in T['jetPt']:\n",
    "    if len(x) == 0:\n",
    "        break\n",
    "    #print x\n",
    "    first_jet_pt_arr.append(x[0])"
   ]
  },
  {
   "cell_type": "code",
   "execution_count": 16,
   "metadata": {},
   "outputs": [],
   "source": [
    "#Create Numpy Arrays for (['jetPt', 'jetEta', 'jetPhi', 'jetE']) with the first 4 jets\n",
    "four_highest_jet_var = {}\n",
    "\n",
    "for v in ['jetPt', 'jetEta', 'jetPhi', 'jetE']:\n",
    "    tmp = []\n",
    "    for x in T[v]:\n",
    "        aux = -999*np.ones(4)\n",
    "        for i, xx in enumerate(x):\n",
    "            if i > 3:\n",
    "                break\n",
    "            aux[i] = xx\n",
    "        tmp.append(aux)\n",
    "\n",
    "    four_highest_jet_var[v] = np.array(tmp)#numpy array (n_entries,4)\n",
    "    #print four_highest_jet_var[v].shape\n",
    "    "
   ]
  },
  {
   "cell_type": "code",
   "execution_count": 46,
   "metadata": {},
   "outputs": [
    {
     "name": "stdout",
     "output_type": "stream",
     "text": [
      "[ 6.64531326 30.32988739 34.8320694  ... 17.59085464 37.21101761\n",
      " 11.10337448]\n"
     ]
    }
   ],
   "source": [
    "#Create Numpy Arrays for (['gParticlePt', 'gParticleEta', 'gParticlePhi', 'gParticleE']) up to the 10th gen-particle\n",
    "ten_gen_var = {}\n",
    "n_gen = 10\n",
    "for v in ['gParticleId', 'gParticlePt','gParticleEta', 'gParticlePhi', 'gParticleE']:\n",
    "    tmp_2 = []\n",
    "    for x in T[v]:\n",
    "        #print x\n",
    "        aux = -999*np.ones(n_gen)\n",
    "        for i, xx in enumerate(x):\n",
    "            #print xx\n",
    "            if i >= n_gen:\n",
    "                break\n",
    "            aux[i] = xx\n",
    "        tmp_2.append(aux)\n",
    "\n",
    "    ten_gen_var[v] = np.array(tmp_2)#numpy array (n_entries,4)\n",
    "print ten_gen_var['gParticlePt'][:,4]"
   ]
  },
  {
   "cell_type": "code",
   "execution_count": 121,
   "metadata": {},
   "outputs": [
    {
     "name": "stdout",
     "output_type": "stream",
     "text": [
      "[ True  True  True ... False  True  True]\n",
      "[5 6 7 8 9 5 6 7 8 9]\n"
     ]
    }
   ],
   "source": [
    "sel = four_highest_jet_var['jetPt'][:,1] > -998\n",
    "print sel\n",
    "\n",
    "out = np.hypot(four_highest_jet_var['jetPt'][sel,0], four_highest_jet_var['jetPt'][sel,1])\n",
    "#print four_highest_jet_var['jetPt'][sel,0]\n",
    "ttt = np.array([[0,1,2,3,4,5,6,7,8,9],\n",
    "              [0,1,2,3,4,5,6,7,8,9]])\n",
    "print ttt[ttt>4]"
   ]
  },
  {
   "cell_type": "code",
   "execution_count": 178,
   "metadata": {},
   "outputs": [
    {
     "name": "stdout",
     "output_type": "stream",
     "text": [
      "central (|eta|<1.48) b-quark fraction: 0.560120514927\n",
      "central (|eta|<1.48) anti-b-quark fraction: 0.566967953985\n",
      "barrel-barrel fraction of events =  0.317570382334\n",
      "barrel-endcap fraction of events =  0.491947704246\n",
      "endcap-endcap fraction of events =  0.190481913421\n"
     ]
    }
   ],
   "source": [
    "#GOTTA get some TLorentz Vectors for the LLPs\n",
    "sel_b = ten_gen_var['gParticleId'] == 5\n",
    "sel_bhat = ten_gen_var['gParticleId'] == -5\n",
    "\n",
    "b_pt  = ten_gen_var['gParticlePt'][sel_b]\n",
    "b_eta = ten_gen_var['gParticleEta'][sel_b]\n",
    "b_phi = ten_gen_var['gParticlePhi'][sel_b]\n",
    "b_e = ten_gen_var['gParticleE'][sel_b]\n",
    "\n",
    "\n",
    "\n",
    "bhat_pt  = ten_gen_var['gParticlePt'][sel_bhat]\n",
    "bhat_eta = ten_gen_var['gParticleEta'][sel_bhat]\n",
    "bhat_phi = ten_gen_var['gParticlePhi'][sel_bhat]\n",
    "bhat_e = ten_gen_var['gParticleE'][sel_bhat]\n",
    "\n",
    "#central fraction of b-quarks\n",
    "b_central = float(len(b_eta[np.abs(b_eta) < 1.48]))/float(len(b_eta))\n",
    "#central fraction of anti-b-quarks\n",
    "bhat_central = float(len(b_eta[np.abs(bhat_eta) < 1.48]))/float(len(bhat_eta))\n",
    "\n",
    "print \"central (|eta|<1.48) b-quark fraction:\", b_central\n",
    "print \"central (|eta|<1.48) anti-b-quark fraction:\", bhat_central\n",
    "print \"barrel-barrel fraction of events = \", b_central*bhat_central\n",
    "print \"barrel-endcap fraction of events = \", b_central*(1-bhat_central) + (1-b_central)*bhat_central\n",
    "print \"endcap-endcap fraction of events = \", (1-b_central)*(1-bhat_central)\n",
    "\n",
    "llp_p4 = []\n",
    "b_p4 = []\n",
    "bhat_p4 = []\n",
    "for i in range(len(b_pt)):\n",
    "    tmp_p4_b    = rt.TLorentzVector()\n",
    "    tmp_p4_bhat = rt.TLorentzVector()\n",
    "    tmp_p4_b.SetPtEtaPhiE(b_pt[i],b_eta[i],b_phi[i], b_e[i])\n",
    "    tmp_p4_bhat.SetPtEtaPhiE(bhat_pt[i],bhat_eta[i],bhat_phi[i], bhat_e[i])\n",
    "    b_p4.append(tmp_p4_b)\n",
    "    bhat_p4.append(tmp_p4_bhat)\n",
    "    llp_p4.append(tmp_p4_b+tmp_p4_bhat)\n",
    "\n",
    "llp_pt  = [x.Pt() for x in llp_p4]\n",
    "llp_eta = [x.Eta() for x in llp_p4]\n",
    "llp_phi = [x.Phi() for x in llp_p4]\n",
    "llp_e   = [x.E() for x in llp_p4]\n",
    "#for i in lpp_p4:\n",
    "#    print i.M()\n",
    "#print sum_pt\n",
    "#for pid,pt,eta,phi,e in zip(ten_gen_var['gParticleId'], ten_gen_var['gParticlePt'],ten_gen_var['gParticleEta'],ten_gen_var['gParticlePhi'],ten_gen_var['gParticleE']):\n",
    "    #for pid, pt, eta\n",
    "    #print [y if x == 5 else -1 for x,y in zip(pid,pt)]"
   ]
  },
  {
   "cell_type": "code",
   "execution_count": null,
   "metadata": {},
   "outputs": [],
   "source": []
  },
  {
   "cell_type": "code",
   "execution_count": 163,
   "metadata": {},
   "outputs": [
    {
     "name": "stderr",
     "output_type": "stream",
     "text": [
      "Warning in <TCanvas::Constructor>: Deleting canvas with same name: c\n"
     ]
    },
    {
     "data": {
      "image/png": "[encoded data removed]",
      "text/plain": [
       "<IPython.core.display.Image object>"
      ]
     },
     "metadata": {},
     "output_type": "display_data"
    }
   ],
   "source": [
    "c = rt.TCanvas('c','c', 800, 600)\n",
    "h = {}\n",
    "h['llp_eta'] = create_TH1D(llp_eta, axis_title=['llp_{#eta}', 'events'], name='llp_eta', binning=[60,-5,5])\n",
    "h['llp_eta'].SetLineColor(4)\n",
    "c.SetLogy()\n",
    "h['llp_eta'].Draw()\n",
    "c.Draw()"
   ]
  },
  {
   "cell_type": "code",
   "execution_count": 164,
   "metadata": {},
   "outputs": [
    {
     "data": {
      "image/png": "[encoded data removed]",
      "text/plain": [
       "<IPython.core.display.Image object>"
      ]
     },
     "metadata": {},
     "output_type": "display_data"
    }
   ],
   "source": [
    "#c = rt.TCanvas('c','c', 800, 600)\n",
    "h['llp_pt'] = create_TH1D(llp_pt, axis_title=['llp_{p_{T}}', 'events'], name='llp_pt', binning=[50,0,200])\n",
    "h['llp_pt'].SetLineColor(4)\n",
    "c.SetLogy()\n",
    "h['llp_pt'].Draw()\n",
    "c.Draw()"
   ]
  },
  {
   "cell_type": "code",
   "execution_count": 180,
   "metadata": {},
   "outputs": [
    {
     "name": "stderr",
     "output_type": "stream",
     "text": [
      "Warning in <TROOT::Append>: Replacing existing TH1: b_eta (Potential memory leak).\n",
      "Warning in <TROOT::Append>: Replacing existing TH1: bhat_eta (Potential memory leak).\n"
     ]
    },
    {
     "data": {
      "image/png": "[encoded data removed]",
      "text/plain": [
       "<IPython.core.display.Image object>"
      ]
     },
     "metadata": {},
     "output_type": "display_data"
    }
   ],
   "source": [
    "h['b_eta'] = create_TH1D(b_eta, axis_title=['b_{#eta}', 'events'], name='b_eta', binning=[50,-5,5])\n",
    "h['b_eta'].SetLineColor(4)\n",
    "h['bhat_eta'] = create_TH1D(bhat_eta, axis_title=['#hat{b}_{#eta}', 'events'], name='bhat_eta', binning=[50,-5,5])\n",
    "h['bhat_eta'].SetLineColor(2)\n",
    "c.SetLogy()\n",
    "h['b_eta'].Draw()\n",
    "h['bhat_eta'].Draw('same')\n",
    "c.Draw()"
   ]
  },
  {
   "cell_type": "code",
   "execution_count": 179,
   "metadata": {},
   "outputs": [
    {
     "data": {
      "image/png": "[encoded data removed]",
      "text/plain": [
       "<IPython.core.display.Image object>"
      ]
     },
     "metadata": {},
     "output_type": "display_data"
    }
   ],
   "source": [
    "h['b_pt'] = create_TH1D(b_pt, axis_title=['b_{p_{T}}', 'events'], name='b_pt', binning=[50,0,200])\n",
    "h['b_pt'].SetLineColor(4)\n",
    "h['bhat_pt'] = create_TH1D(bhat_pt, axis_title=['#hat{b}_{p_{t}', 'events'], name='bhat_pt', binning=[50,0,200])\n",
    "h['bhat_pt'].SetLineColor(2)\n",
    "c.SetLogy()\n",
    "h['b_pt'].Draw()\n",
    "h['bhat_pt'].Draw('same')\n",
    "c.Draw()"
   ]
  },
  {
   "cell_type": "code",
   "execution_count": null,
   "metadata": {},
   "outputs": [],
   "source": [
    "DecayChannelBr = {}\n",
    "DecayChannelBr['mu'] = 4.88e-2 * 67e-2 * 3.89e-2\n",
    "DecayChannelBr['tau'] = 1.67e-2 * 17.39e-2 * 67e-2 * 3.89e-2"
   ]
  },
  {
   "cell_type": "code",
   "execution_count": null,
   "metadata": {},
   "outputs": [],
   "source": [
    "weights = {}\n",
    "\n",
    "sumBr = np.sum(np.array(DecayChannelBr.values()))\n",
    "for k,v in DecayChannelBr.iteritems():\n",
    "    weights[k] = v/sumBr\n",
    "    \n",
    "print weights"
   ]
  },
  {
   "cell_type": "markdown",
   "metadata": {},
   "source": [
    "# Muon Reco efficiency"
   ]
  },
  {
   "cell_type": "markdown",
   "metadata": {},
   "source": [
    "Distance between the Gen mu and best matching track"
   ]
  },
  {
   "cell_type": "code",
   "execution_count": null,
   "metadata": {},
   "outputs": [],
   "source": [
    "binning = [100, -0.1, 0.1, 50, 0, 0.05]\n",
    "\n",
    "c = rt.TCanvas('c_mu_pt', 'c_mu_pt',50,50,800,600)\n",
    "c.SetTickx(0)\n",
    "c.SetTicky(0)\n",
    "\n",
    "n = 'tau'\n",
    "\n",
    "s = np.column_stack((tree[n]['mu_RecoMC_dpt'], tree[n]['mu_RecoMC_dR']))\n",
    "\n",
    "h2 = create_TH2D(s, title='', axis_title=['dpt', 'dR' , ''], binning=binning)\n",
    "\n",
    "h2.Draw('colz')\n",
    "CMS_lumi.CMS_lumi(c, -1, 0)\n",
    "c.Draw()"
   ]
  },
  {
   "cell_type": "code",
   "execution_count": null,
   "metadata": {},
   "outputs": [],
   "source": [
    "binning = [100, 0, 1500.]\n",
    "\n",
    "n = 'tau'\n",
    "#for n in ['glueBall', '']:\n",
    "for n in ['glueBall']:\n",
    "    leg = rt.TLegend(0.4,0.6,0.95,0.9, process[n])\n",
    "    leg.SetTextFont(42)\n",
    "    leg.SetTextAlign(12)\n",
    "    leg.SetLineWidth(0)\n",
    "    leg.SetBorderSize(0)\n",
    "    leg.GetListOfPrimitives().First().SetTextAlign(22) \n",
    "\n",
    "    a = tree[n]['jetPt'][:-1]\n",
    "    h_all = create_TH1D(tree[n]['jetPt'][3:], name='h_'+n+'_mu_pt', binning=binning, axis_title=['P_{T}^{#mu} [GeV]', 'Prob / {:.1f} GeV'.format(binning[2]/binning[0])])\n",
    "    N_norm = h_all.GetEntries()\n",
    "    h_all.Scale(1./N_norm)\n",
    "    leg.AddEntry(h_all, 'Gen #mu, OF={:1.1e}'.format(h_all.GetBinContent(binning[0]+1)), 'le')\n",
    "\n",
    "    #sel = np.logical_and(np.abs(tree[n]['mu_RecoMC_dpt']) < 0.05, tree[n]['mu_RecoMC_dR'] < 0.015)\n",
    "    #h_recoTrk = create_TH1D(tree[n]['muReco_pt'][sel], name='h_'+n+'_muTrack_pt', binning=binning)\n",
    "    #h_recoTrk.Scale(1./N_norm)\n",
    "    #h_recoTrk.SetLineColor(2)\n",
    "    #leg.AddEntry(h_recoTrk, 'RECO #mu (Track), #epsilon={:.2f}, OF={:1.1e}'.format(np.sum(sel)/N_norm, h_recoTrk.GetBinContent(binning[0]+1)), 'le')\n",
    "\n",
    "    #sel = tree[n]['muReco_isStandAloneMuon']>0.5\n",
    "    #h_recoMu = create_TH1D(tree[n]['muReco_pt'][sel], name='h_'+n+'_muReco_pt', binning=binning)\n",
    "    #h_recoMu.Scale(1./N_norm)\n",
    "    #h_recoMu.SetLineColor(4)\n",
    "    #leg.AddEntry(h_recoMu, 'RECO #mu (StandAlone), #epsilon={:.2f}, OF={:1.1e}'.format(np.sum(sel)/N_norm, h_recoMu.GetBinContent(binning[0]+1)), 'le')\n",
    "\n",
    "    c = rt.TCanvas('c_'+n+'_pt', 'c_'+n+'_pt',50,50,800,600)\n",
    "    c.SetTickx(0)\n",
    "    c.SetTicky(0)\n",
    "\n",
    "    h_all.Draw()\n",
    "    #h_recoTrk.Draw('SAME')\n",
    "    #h_recoMu.Draw('SAME')\n",
    "    leg.Draw()\n",
    "\n",
    "\n",
    "    CMS_lumi.CMS_lumi(c, -1, 0)\n",
    "    c.Draw()\n",
    "    #donotdelete.append([leg, h_all, h_recoTrk, h_recoMu, c])\n",
    "    c.SaveAs('../fig/1902_1/Probe_mu_MC_eff_B2'+n+'.png')"
   ]
  },
  {
   "cell_type": "markdown",
   "metadata": {},
   "source": [
    "# Soft Pion Reco efficiency"
   ]
  },
  {
   "cell_type": "code",
   "execution_count": null,
   "metadata": {},
   "outputs": [],
   "source": [
    "binning = [100, -0.1, 0.1, 50, 0, 0.05]\n",
    "\n",
    "c = rt.TCanvas('c', 'c',50,50,800,600)\n",
    "c.SetTickx(0)\n",
    "c.SetTicky(0)\n",
    "\n",
    "n = 'tau'\n",
    "\n",
    "s = np.column_stack((tree[n]['pisoft_RecoMC_dpt'], tree[n]['pisoft_RecoMC_dR']))\n",
    "\n",
    "h2 = create_TH2D(s, title='', axis_title=['dpt', 'dR' , ''], binning=binning)\n",
    "\n",
    "h2.Draw('colz')\n",
    "CMS_lumi.CMS_lumi(c, -1, 0)\n",
    "c.Draw()"
   ]
  },
  {
   "cell_type": "code",
   "execution_count": null,
   "metadata": {},
   "outputs": [],
   "source": [
    "binning = [50, 0, 2.5]\n",
    "\n",
    "for n in ['mu', 'tau']:\n",
    "    leg = rt.TLegend(0.4,0.6,0.95,0.9, process[n])\n",
    "    leg.SetTextFont(42)\n",
    "    leg.SetTextAlign(12)\n",
    "    leg.SetLineWidth(0)\n",
    "    leg.SetBorderSize(0)\n",
    "    leg.GetListOfPrimitives().First().SetTextAlign(22) \n",
    "\n",
    "    h_all = create_TH1D(tree[n]['pisoft_pt'], name='h_'+n+'_pisoft_pt', binning=binning, axis_title=['P_{T}^{#pi_{soft}} [GeV]', 'Prob / {:.1f} GeV'.format(binning[2]/binning[0])])\n",
    "    N_norm = h_all.GetEntries()\n",
    "    h_all.Scale(1./N_norm)\n",
    "    leg.AddEntry(h_all, 'Gen #pi soft, OF={:1.1e}'.format(h_all.GetBinContent(binning[0]+1)), 'le')\n",
    "\n",
    "    sel = np.logical_and(np.abs(tree[n]['pisoft_RecoMC_dpt']) < 0.05, tree[n]['pisoft_RecoMC_dR'] < 0.02)\n",
    "    h_recoTrk = create_TH1D(tree[n]['pisoftReco_pt'][sel], name='h_'+n+'_pisoftTrack_pt', binning=binning)\n",
    "    h_recoTrk.Scale(1./N_norm)\n",
    "    h_recoTrk.SetLineColor(2)\n",
    "    leg.AddEntry(h_recoTrk, 'RECO #pi soft (Track), #epsilon={:.2f}, OF={:1.1e}'.format(np.sum(sel)/N_norm, h_recoTrk.GetBinContent(binning[0]+1)), 'le')\n",
    "\n",
    "    c = rt.TCanvas('c_'+n+'_pt', 'c_'+n+'_pt',50,50,800,600)\n",
    "    c.SetTickx(0)\n",
    "    c.SetTicky(0)\n",
    "\n",
    "    h_all.Draw()\n",
    "    h_recoTrk.Draw('SAME')\n",
    "    leg.Draw()\n",
    "\n",
    "\n",
    "    CMS_lumi.CMS_lumi(c, -1, 0)\n",
    "    c.Draw()\n",
    "    donotdelete.append([leg, h_all, h_recoTrk, h_recoMu, c])\n",
    "    c.SaveAs('../fig/1902_1/Probe_softPi_MC_eff_B2'+n+'.png')"
   ]
  },
  {
   "cell_type": "markdown",
   "metadata": {},
   "source": [
    "# Kaon Reco efficiency"
   ]
  },
  {
   "cell_type": "code",
   "execution_count": null,
   "metadata": {},
   "outputs": [],
   "source": [
    "binning = [50, 0, 20.]\n",
    "\n",
    "for n in ['mu', 'tau']:\n",
    "    leg = rt.TLegend(0.4,0.6,0.95,0.9, process[n])\n",
    "    leg.SetTextFont(42)\n",
    "    leg.SetTextAlign(12)\n",
    "    leg.SetLineWidth(0)\n",
    "    leg.SetBorderSize(0)\n",
    "    leg.GetListOfPrimitives().First().SetTextAlign(22) \n",
    "\n",
    "    h_all = create_TH1D(tree[n]['K_pt'], name='h_'+n+'_K_pt', binning=binning, axis_title=['P_{T}^{K} [GeV]', 'Prob / {:.1f} GeV'.format(binning[2]/binning[0])])\n",
    "    N_norm = h_all.GetEntries()\n",
    "    h_all.Scale(1./N_norm)\n",
    "    leg.AddEntry(h_all, 'Gen, OF={:1.1e}'.format(h_all.GetBinContent(binning[0]+1)), 'le')\n",
    "\n",
    "    sel = np.logical_and(np.abs(tree[n]['K_RecoMC_dpt']) < 0.05, tree[n]['K_RecoMC_dR'] < 0.02)\n",
    "    h_recoTrk = create_TH1D(tree[n]['KReco_pt'][sel], name='h_'+n+'_KTrack_pt', binning=binning)\n",
    "    h_recoTrk.Scale(1./N_norm)\n",
    "    h_recoTrk.SetLineColor(2)\n",
    "    leg.AddEntry(h_recoTrk, 'RECO, #epsilon={:.2f}, OF={:1.1e}'.format(np.sum(sel)/N_norm, h_recoTrk.GetBinContent(binning[0]+1)), 'le')\n",
    "\n",
    "    c = rt.TCanvas('c_'+n+'_pt', 'c_'+n+'_pt',50,50,800,600)\n",
    "    c.SetTickx(0)\n",
    "    c.SetTicky(0)\n",
    "\n",
    "    h_all.Draw()\n",
    "    h_recoTrk.Draw('SAME')\n",
    "    leg.Draw()\n",
    "\n",
    "\n",
    "    CMS_lumi.CMS_lumi(c, -1, 0)\n",
    "    c.Draw()\n",
    "    donotdelete.append([leg, h_all, h_recoTrk, h_recoMu, c])\n",
    "    c.SaveAs('../fig/1902_1/Probe_K_MC_eff_B2'+n+'.png')"
   ]
  },
  {
   "cell_type": "markdown",
   "metadata": {},
   "source": [
    "# Efficiency and distribution as a function of $q^2$"
   ]
  },
  {
   "cell_type": "markdown",
   "metadata": {},
   "source": [
    "Definition is $q^2 = (p_B - p_D)^2 = (p_l + p_\\nu)^2$.\n",
    "Morally is the energy of the interaction between leptons and quarks"
   ]
  },
  {
   "cell_type": "code",
   "execution_count": null,
   "metadata": {},
   "outputs": [],
   "source": [
    "# binning = [30, 0, (5.3 - 2.0)**2]\n",
    "binning = [30, 0, 18.]\n",
    "\n",
    "q2_max_th = (5.29 - 2.01)**2\n",
    "\n",
    "for n in ['mu', 'tau']:\n",
    "    c = rt.TCanvas('c_q2_MC'+n, 'c_q2_MC'+n,50,50,800,600)\n",
    "    c.SetTickx(0)\n",
    "    c.SetTicky(0)\n",
    "\n",
    "    leg = rt.TLegend(0.66,0.7,0.97,0.9)\n",
    "    leg.SetTextFont(42)\n",
    "    leg.SetTextAlign(12)\n",
    "    leg.SetLineWidth(0)\n",
    "    leg.SetBorderSize(0)\n",
    "\n",
    "    h_MC_all = create_TH1D(tree[n]['q2_MC'], name='h_'+n+'_MC_all', \n",
    "                           binning=binning, \n",
    "                           axis_title=['q^{2} [GeV^{2}]', 'Prob. / {:.1f} GeV^{{2}}'.format(binning[2]/binning[0])])\n",
    "    N_norm = h_MC_all.GetEntries()\n",
    "    h_MC_all.Scale(1./N_norm)\n",
    "    leg.AddEntry(h_all, 'MC triggered {}'.format(process_short[n]))\n",
    "\n",
    "    sel_pisoft = np.logical_and(np.abs(tree[n]['pisoft_RecoMC_dpt']) < 0.05, tree[n]['pisoft_RecoMC_dR'] < 0.02)\n",
    "    sel_pi = np.logical_and(np.abs(tree[n]['pi_RecoMC_dpt']) < 0.05, tree[n]['pi_RecoMC_dR'] < 0.02)\n",
    "    sel_K = np.logical_and(np.abs(tree[n]['K_RecoMC_dpt']) < 0.05, tree[n]['K_RecoMC_dR'] < 0.02)\n",
    "    sel_mu = tree[n]['muReco_isStandAloneMuon']>0.5\n",
    "    sel_D = np.logical_and(sel_K, sel_pi)\n",
    "    sel_Dst = np.logical_and(sel_D, sel_pisoft)\n",
    "    sel = np.logical_and(sel_Dst, sel_mu)\n",
    "\n",
    "    h_MC_reco = create_TH1D(tree[n]['q2_MC'][sel], name='h_'+n+'_MC_reco', binning=binning)\n",
    "    h_MC_reco.Scale(1./N_norm)\n",
    "    h_MC_reco.SetLineColor(2)\n",
    "    leg.AddEntry(h_MC_reco, 'MC reco {}, #epsilon={:.2f}'.format(process_short[n], np.sum(sel)/float(N_norm)))\n",
    "\n",
    "    h_reco = create_TH1D(tree[n]['q2_RECO'][sel], name='h_'+n+'_MC_reco', binning=binning)\n",
    "    h_reco.Scale(1./N_norm)\n",
    "    h_reco.SetLineColor(4)\n",
    "    leg.AddEntry(h_reco, 'Reco {}, #epsilon={:.2f}'.format(process_short[n], np.sum(sel)/float(N_norm)))\n",
    "\n",
    "    h_MC_all.Draw()\n",
    "    h_MC_reco.Draw('SAME')\n",
    "    h_reco.Draw('SAME')\n",
    "    \n",
    "    ln = rt.TLine()\n",
    "    ln.SetLineStyle(9)\n",
    "    ln.SetLineColor(6)\n",
    "    ln.SetLineWidth(2)\n",
    "    ln.DrawLine(q2_max_th, 0, q2_max_th, h_MC_all.GetMaximum())\n",
    "\n",
    "    leg.Draw()\n",
    "\n",
    "    CMS_lumi.CMS_lumi(c, -1, 0)\n",
    "    c.Draw()\n",
    "    \n",
    "    donotdelete.append([c, h_MC_all, h_MC_reco, h_reco, leg])\n",
    "    c.SaveAs('../fig/1902_1/Probe_q2_MC_eff_B2'+n+'.png')"
   ]
  },
  {
   "cell_type": "markdown",
   "metadata": {},
   "source": [
    "# Efficiency and distribution as a function of B $p_T$"
   ]
  },
  {
   "cell_type": "code",
   "execution_count": null,
   "metadata": {},
   "outputs": [],
   "source": [
    "# binning = [30, 0, (5.3 - 2.0)**2]\n",
    "binning = [30, 0, 70]\n",
    "\n",
    "for n in ['mu', 'tau']:\n",
    "    c = rt.TCanvas('c_q2_MC'+n, 'c_q2_MC'+n,50,50,800,600)\n",
    "    c.SetTickx(0)\n",
    "    c.SetTicky(0)\n",
    "\n",
    "    leg = rt.TLegend(0.45,0.6,0.95,0.9)\n",
    "    leg.SetTextFont(42)\n",
    "    leg.SetTextAlign(12)\n",
    "    leg.SetLineWidth(0)\n",
    "    leg.SetBorderSize(0)\n",
    "\n",
    "    h_MC_all = create_TH1D(tree[n]['Bp_pt'], name='h_'+n+'_MC_all', \n",
    "                           binning=binning, \n",
    "                           axis_title=['p^{(B)}_{T} [GeV]', 'Prob. / {:.1f} GeV'.format(binning[2]/binning[0])])\n",
    "    N_norm = h_MC_all.GetEntries()\n",
    "    h_MC_all.Scale(1./N_norm)\n",
    "    leg.AddEntry(h_all, 'MC, triggered {}'.format(process_short[n]))\n",
    "\n",
    "    sel_pisoft = np.logical_and(np.abs(tree[n]['pisoft_RecoMC_dpt']) < 0.05, tree[n]['pisoft_RecoMC_dR'] < 0.02)\n",
    "    sel_pi = np.logical_and(np.abs(tree[n]['pi_RecoMC_dpt']) < 0.05, tree[n]['pi_RecoMC_dR'] < 0.02)\n",
    "    sel_K = np.logical_and(np.abs(tree[n]['K_RecoMC_dpt']) < 0.05, tree[n]['K_RecoMC_dR'] < 0.02)\n",
    "    sel_mu = tree[n]['muReco_isStandAloneMuon']>0.5\n",
    "    sel_D = np.logical_and(sel_K, sel_pi)\n",
    "    sel_Dst = np.logical_and(sel_D, sel_pisoft)\n",
    "    sel = np.logical_and(sel_Dst, sel_mu)\n",
    "\n",
    "    h_MC_reco = create_TH1D(tree[n]['Bp_pt'][sel], name='h_'+n+'_MC_reco', binning=binning)\n",
    "    h_MC_reco.Scale(1./N_norm)\n",
    "    h_MC_reco.SetLineColor(2)\n",
    "    leg.AddEntry(h_MC_reco, 'MC, reco {}, #epsilon={:.2f}'.format(process_short[n], np.sum(sel)/float(N_norm)))\n",
    "\n",
    "    h_reco = create_TH1D(tree[n]['B_RECO_pt'][sel], name='h_'+n+'_MC_reco', binning=binning)\n",
    "    h_reco.Scale(1./N_norm)\n",
    "    h_reco.SetLineColor(4)\n",
    "    leg.AddEntry(h_reco, 'RECO, reco {}, #epsilon={:.2f}'.format(process_short[n], np.sum(sel)/float(N_norm)))\n",
    "\n",
    "    h_MC_all.Draw()\n",
    "    h_MC_reco.Draw('SAME')\n",
    "    h_reco.Draw('SAME')\n",
    "\n",
    "\n",
    "    leg.Draw()\n",
    "\n",
    "    CMS_lumi.CMS_lumi(c, -1, 0)\n",
    "    c.Draw()\n",
    "    \n",
    "    donotdelete.append([c, h_MC_all, h_MC_reco, h_reco, leg])"
   ]
  },
  {
   "cell_type": "code",
   "execution_count": null,
   "metadata": {},
   "outputs": [],
   "source": [
    "3e8*1.5e-12*20./5.3"
   ]
  },
  {
   "cell_type": "code",
   "execution_count": null,
   "metadata": {},
   "outputs": [],
   "source": [
    "3e8*4e-13*7./1.8"
   ]
  },
  {
   "cell_type": "code",
   "execution_count": null,
   "metadata": {},
   "outputs": [],
   "source": [
    "1e10 * 0.8 * 0.25 * 0.048 * 0.68 * 0.039 * 0.29"
   ]
  },
  {
   "cell_type": "markdown",
   "metadata": {},
   "source": [
    "# Kinematic variables"
   ]
  },
  {
   "cell_type": "code",
   "execution_count": null,
   "metadata": {},
   "outputs": [],
   "source": [
    "var_dict = {}\n",
    "var_dict['Est_mu_RECO'] = [50, 0, 2.5]\n",
    "var_dict['M2_miss_RECO'] = [50, -2., 10.]\n",
    "var_dict['M_vis_RECO'] = [50, 0, 5.3]"
   ]
  },
  {
   "cell_type": "code",
   "execution_count": null,
   "metadata": {
    "scrolled": false
   },
   "outputs": [],
   "source": [
    "for var, binning in var_dict.iteritems():\n",
    "    leg = rt.TLegend(0.7,0.6,0.95,0.9)\n",
    "    leg.SetTextFont(42)\n",
    "    leg.SetTextAlign(12)\n",
    "    leg.SetLineWidth(0)\n",
    "    leg.SetBorderSize(0)\n",
    "    \n",
    "    h_sum = rt.TH1D('h_sum'+var, '', binning[0], binning[1], binning[2])\n",
    "    h_sum.SetXTitle(var)\n",
    "    h_sum.SetYTitle('Probability / {:.2f}'.format(h_sum.GetBinWidth(1)))\n",
    "    h_sum.GetYaxis().SetTitleOffset(1.3)\n",
    "    h_sum.SetStats(0)\n",
    "    h_sum.SetLineColor(16)\n",
    "    h_sum.SetFillColor(16)\n",
    "    h_sum.constituents = []\n",
    "    leg.AddEntry(h_sum, 'Sum, weighted for Br', 'l')\n",
    "    \n",
    "    for i_n, n in enumerate(tree.keys()):\n",
    "        h = create_TH1D(tree[n][var], name='h_'+n+'_'+var, binning=binning)\n",
    "        h.SetStats(0)\n",
    "        h.Scale(weights[n]/h.GetEntries())\n",
    "        h.SetLineColor(std_color_list[i_n+1])\n",
    "        leg.AddEntry(h, process[n], 'l')\n",
    "        \n",
    "        h_sum.Add(h)\n",
    "        h_sum.constituents.append(h)\n",
    "\n",
    "    ln = rt.TLine()\n",
    "    ln.SetLineColor(6)\n",
    "    ln.SetLineWidth(2)\n",
    "    ln.SetLineStyle(9)\n",
    "    leg.AddEntry(ln, 'M_{B^{#pm}}', 'l')\n",
    "    \n",
    "    h_sum.Sumw2(0)\n",
    "    h_sum.SetFillStyle(3001)\n",
    "    \n",
    "    c = rt.TCanvas('c_'+var, 'c_'+var,50,50,800,600)\n",
    "    c.SetTickx(0)\n",
    "    c.SetTicky(0)\n",
    "    \n",
    "    h_sum.Draw()\n",
    "    for h in h_sum.constituents:\n",
    "        h.Draw('SAME')\n",
    "    \n",
    "    ln.DrawLine(5.279, 0, 5.279, h_sum.GetMaximum())\n",
    "    leg.Draw()\n",
    "    \n",
    "    if var in ['mu_ip']:\n",
    "        c.SetLogy()\n",
    "    \n",
    "    CMS_lumi.CMS_lumi(c, -1, 0)\n",
    "    c.Draw()\n",
    "    \n",
    "    donotdelete.append([c, h_sum, leg])"
   ]
  },
  {
   "cell_type": "code",
   "execution_count": null,
   "metadata": {},
   "outputs": [],
   "source": []
  }
 ],
 "metadata": {
  "kernelspec": {
   "display_name": "Python 2",
   "language": "python",
   "name": "python2"
  },
  "language_info": {
   "codemirror_mode": {
    "name": "ipython",
    "version": 2
   },
   "file_extension": ".py",
   "mimetype": "text/x-python",
   "name": "python",
   "nbconvert_exporter": "python",
   "pygments_lexer": "ipython2",
   "version": "2.7.15"
  }
 },
 "nbformat": 4,
 "nbformat_minor": 2
}
