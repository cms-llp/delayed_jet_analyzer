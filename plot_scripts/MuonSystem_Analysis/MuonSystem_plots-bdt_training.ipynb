{
 "cells": [
  {
   "cell_type": "code",
   "execution_count": 1,
   "metadata": {},
   "outputs": [
    {
     "name": "stdout",
     "output_type": "stream",
     "text": [
      "Welcome to JupyROOT 6.18/02\n",
      "3.6.8 (default, Aug  7 2019, 17:28:10) \n",
      "[GCC 4.8.5 20150623 (Red Hat 4.8.5-39)]\n"
     ]
    }
   ],
   "source": [
    "import ROOT as rt\n",
    "# import root_numpy as rtnp\n",
    "import csv\n",
    "import re\n",
    "import sys\n",
    "import collections\n",
    "\n",
    "from collections import OrderedDict\n",
    "import uproot\n",
    "import awkward\n",
    "import numpy as np\n",
    "import time\n",
    "import numba\n",
    "from numba import jit\n",
    "from matplotlib import pyplot as plt\n",
    "sys.path.append('/storage/user/christiw/gpu/christiw/llp/delayed_jet_analyzer/lib/')\n",
    "from histo_utilities import create_TH1D, create_TH2D, std_color_list, create_TGraph, make_ratio_plot\n",
    "\n",
    "import CMS_lumi, tdrstyle\n",
    "tdrstyle.setTDRStyle()\n",
    "CMS_lumi.writeExtraText = 0\n",
    "\n",
    "wH = 1\n",
    "Z_MASS = 91.2\n",
    "\n",
    "\n",
    "# donotdelete = []\n",
    "print(sys.version)"
   ]
  },
  {
   "cell_type": "markdown",
   "metadata": {},
   "source": [
    "# Load ntuples"
   ]
  },
  {
   "cell_type": "code",
   "execution_count": 2,
   "metadata": {},
   "outputs": [
    {
     "name": "stdout",
     "output_type": "stream",
     "text": [
      "data /mnt/hadoop/store/group/phys_exotica/delayedjets/displacedJetMuonAnalyzer/csc/V1p12/Data2018/vBDT/v2/normalized/Run2_displacedJetMuonNtupler_V1p12_Data2018_17Sept2018_Run2018-HighMET-17Sep2018_goodLumi.root\n",
      "NEvents 11494114.0\n",
      "NEvents_genweight 0.0\n",
      "weights [31340.]\n",
      "4542.0\n",
      "4542\n",
      "mc /mnt/hadoop/store/group/phys_exotica/delayedjets/displacedJetMuonAnalyzer/csc/V1p12/MC_RunIIFall18//vBDT/v2/normalized/ggH_HToSSTobbbb_ms55_pl1000_RunIIFall18_1pb_weighted.root\n",
      "NEvents 520800.0\n",
      "NEvents_genweight 11183702.0\n",
      "weights [-2.9535382  2.9240026  2.9535382]\n",
      "3.4062502\n",
      "36417\n",
      "1.469191074371338\n"
     ]
    }
   ],
   "source": [
    "fpath_bkg =OrderedDict()\n",
    "tree_bkg = OrderedDict()\n",
    "tree_sig = OrderedDict()\n",
    "fpath_sig =OrderedDict()\n",
    "\n",
    "\n",
    "start_t = time.time()\n",
    "data_year = 2018\n",
    "pdgId = 13\n",
    "category = 0\n",
    "version = \"/vBDT/v2/\"\n",
    "\n",
    "if data_year == 2016:lumi = 35.92*1000 #in pb-1\n",
    "elif data_year == 2017:lumi = 41.53 * 1000\n",
    "else: lumi = 59.74 * 1000\n",
    "data_path = '/mnt/hadoop/store/group/phys_exotica/delayedjets/displacedJetMuonAnalyzer/csc/V1p12/Data'+str(data_year)+version+'normalized/'\n",
    "mc_path = '/mnt/hadoop/store/group/phys_exotica/delayedjets/displacedJetMuonAnalyzer/csc/V1p12/MC_RunIIFall18/'+version+'normalized/'\n",
    "\n",
    "\n",
    "\n",
    "\n",
    "if category == 0:\n",
    "    fpath_bkg['data'] = data_path + 'Run2_displacedJetMuonNtupler_V1p12_Data2018_17Sept2018_Run2018-HighMET-17Sep2018_goodLumi.root'\n",
    "    fpath_bkg['mc'] = mc_path + 'ggH_HToSSTobbbb_ms55_pl1000_RunIIFall18_1pb_weighted.root'\n",
    "    lumi = 31.34*1000\n",
    "\n",
    "\n",
    "NEvents = {}\n",
    "\n",
    "NEvents_genweight = {}\n",
    "for k,v in fpath_bkg.items():\n",
    "    print (k, v)\n",
    "#     tree[k] = rtnp.root2array(v)\n",
    "    root_dir = uproot.open(v) \n",
    "    tree_bkg[k] = root_dir['MuonSystem']\n",
    "    NEvents[k] = root_dir['NEvents'][1]\n",
    "    NEvents_genweight[k] = root_dir['NEvents_genweight'][1]\n",
    "#     tree[k] = root_dir['ntuples']\n",
    "    a = tree_bkg[k][\"weight\"].array()\n",
    "    print(\"NEvents\",NEvents[k])\n",
    "    print(\"NEvents_genweight\",NEvents_genweight[k])\n",
    "\n",
    "\n",
    "    print ('weights',np.unique(a)*lumi)\n",
    "    print(np.sum(a))\n",
    "    print(len(a))\n",
    "#     print(len(a)/ NEvents[k])\n",
    "#     print(a.shape)\n",
    "print(time.time()-start_t)"
   ]
  },
  {
   "cell_type": "markdown",
   "metadata": {},
   "source": [
    "# Load trigger"
   ]
  },
  {
   "cell_type": "code",
   "execution_count": 3,
   "metadata": {},
   "outputs": [],
   "source": [
    "trigger_names_file = '/storage/user/christiw/login-1/christiw/LLP/CMSSW_9_4_4/src/llp_analyzer/data/trigger_names_llp_v1.dat'\n",
    "trigger_names = []\n",
    "with open(trigger_names_file) as f:\n",
    "    reader = csv.reader(f, delimiter=\" \")\n",
    "    for line in reader:\n",
    "        trigger_names.append(line[2])\n",
    "# if wH:\n",
    "#     trigger_paths = [87,135,136] #PFMET120\n",
    "# #     elif data_year == 2017: trigger_paths = [87,136] #PFMET120\n",
    "# else:\n",
    "trigger_paths = [177,362,87,135,136] #PFMET120\n",
    "trigger_paths += [84,91]\n",
    "if category == 0:\n",
    "    trigger_paths = [310]\n",
    "xsec = {}\n",
    "xsec['bbbb10m'] = (5.328E-01 + 8.4E-01) *0.324\n",
    "xsec['bbbb1m'] = (5.328E-01 + 8.4E-01) *0.324\n",
    "xsec['bbbb0.1m'] = (5.328E-01 + 8.4E-01) *0.324\n",
    "\n",
    "\n",
    "xsec['WJetsToLNu'] = 61526.7\n",
    "\n",
    "legend = {}\n",
    "legend['bbbb10m'] = 'signal c#tau = 10 m'\n",
    "legend['bbbb1m'] = 'signal c#tau = 1 m'\n",
    "legend['bbbb0.1m'] = 'signal c#tau = 0.1 m'\n",
    "\n",
    "legend['SingleElectron'] = 'SingleElectron'\n",
    "legend['SingleMuon'] = 'SingleMuon'\n",
    "legend['WJetsToLNu'] = 'WJetsToLNu'"
   ]
  },
  {
   "cell_type": "markdown",
   "metadata": {},
   "source": [
    "# Helper Functions"
   ]
  },
  {
   "cell_type": "code",
   "execution_count": 4,
   "metadata": {},
   "outputs": [],
   "source": [
    "\n",
    "\n",
    "# Imports\n",
    "import matplotlib.pyplot as plt\n",
    "import xgboost as xgb\n",
    "from sklearn.model_selection import train_test_split\n",
    "from sklearn.metrics import accuracy_score, roc_curve, roc_auc_score\n",
    "import numpy as np\n",
    "import pandas as pd\n",
    "import math\n",
    "import pickle as pickle\n",
    "import ROOT as root\n",
    "import os\n",
    "import shlex\n",
    "import uproot\n",
    "import seaborn as sns\n",
    "\n",
    "variables = [\n",
    "            ['cscRechitClusterXSpread', 'cscRechitClusterXSpread', '$\\Delta x_{cluster}$', 600, 0, 120],\n",
    "             ['cscRechitClusterYSpread', 'cscRechitClusterYSpread', '$\\Delta y_{cluster}$', 600, 0, 120],\n",
    "#              ['cscRechitClusterZSpread', 'cscRechitClusterZSpread', '$\\Delta z_{cluster}$', 600, 0, 120],\n",
    "             ['cscRechitClusterNStation', 'cscRechitClusterNStation', 'N_{station}$', 5, 0, 5],\n",
    "\n",
    "            ['cscRechitClusterEtaPhiSpread', 'cscCRechitlusterEtaPhiSpread', '$\\Delta \\eta\\times\\phi_{cluster}$', 100, -4, -4],\n",
    "            ['cscRechitClusterX', 'cscRechitClusterX', '$x_{cluster}$', 1100, -1100, 1100],\n",
    "            ['cscRechitClusterY', 'cscRechitClusterY', '$y_{cluster}$', 1100, -1100, 1100],\n",
    "            ['cscRechitClusterZ', 'cscRechitClusterZ', '$z_{cluster}$', 1100, -1100, 1100],\n",
    "            ]\n",
    "\n",
    "\n",
    "\n",
    "variables = [\n",
    "            \n",
    "            ['cscRechitClusterNStation', 'cscRechitClusterNStation', '$N_{station}$', 5, 0, 5],\n",
    "            ['cscRechitClusterEtaSpread', 'cscRechitClusterEtaSpread', '$\\eta$ spread', 50, 0, 0.3],\n",
    "            ['cscRechitClusterPhiSpread', 'cscRechitClusterPhiSpread', '$\\phi$ spread', 50, 0, 0.3],\n",
    "            ['cscRechitClusterEtaPhiSpread', 'cscRechitClusterEtaPhiSpread', '$\\eta-\\phi$ spread', 50, 0, 0.2],\n",
    "            ['cscRechitClusterPhi', 'cscRechitClusterPhi', 'cluster $\\phi$',25, 0, 3.2],\n",
    "            ['cscRechitClusterEta', 'cscRechitClusterEta', 'cluster $\\eta$',  50, 0, 2.5],\n",
    "            ['cscRechitClusterZ', 'cscRechitClusterZ', 'cluster Z [cm]', 30, 600, 1100],\n",
    "            ]\n"
   ]
  },
  {
   "cell_type": "markdown",
   "metadata": {},
   "source": [
    "# plot correlation with n_rechits"
   ]
  },
  {
   "cell_type": "code",
   "execution_count": 5,
   "metadata": {},
   "outputs": [
    {
     "name": "stdout",
     "output_type": "stream",
     "text": [
      "cscRechitClusterNStation (-0.0031344160806593075, 0.8327434246510949)\n",
      "cscRechitClusterEtaSpread (0.21810118397475842, 4.851059793053865e-50)\n",
      "cscRechitClusterPhiSpread (0.23503750556656502, 4.76087575227347e-58)\n",
      "cscRechitClusterEtaPhiSpread (0.16329921567276676, 1.62494757986926e-28)\n",
      "cscRechitClusterPhi (0.015496522740724808, 0.296414380018803)\n",
      "cscRechitClusterEta (-0.03969381724827446, 0.007462732773164594)\n",
      "cscRechitClusterZ (-0.04178824602636896, 0.004851267211331754)\n"
     ]
    }
   ],
   "source": [
    "# Plotting ncsc\n",
    "import scipy\n",
    "start_t = time.time()\n",
    "c = rt.TCanvas('c','c', 1000, 800)\n",
    "h = {}\n",
    "# leg = rt.TLegend(0.50,0.75,0.97,0.93)\n",
    "leg = rt.TLegend(0.58,0.70,0.94,0.85)\n",
    "leg.SetTextSize(0.022)\n",
    "# leg.SetTextFont(42)\n",
    "leg.SetEntrySeparation(0.01)\n",
    "T = tree_bkg['data']\n",
    "for i, var in enumerate(variables):\n",
    "#     evt_selection  = T.array('met') > 200\n",
    "    nCscRechitClusters = T.array('nCscRechitClusters')\n",
    "    cscRechits = T.array('cscRechitClusterSize')[nCscRechitClusters>0][:,0]\n",
    "    variable_check = np.abs(T.array(var[0])[nCscRechitClusters>0][:,0])\n",
    "    print(var[0],scipy.stats.pearsonr(cscRechits, variable_check))\n",
    "\n",
    "#     h[k] = create_TH2D(np.column_stack((np.array(y_pred[y_test == 0]), np.array(cscRechitClusterSize[indices_test][y_test == 0]))), axis_title = ['BDT score','N_{rechits}','Events'], binning=[80,0,1,100,0,1500])\n",
    "#     h[k] = h[k].ProfileX()\n",
    "#     h[k].GetXaxis().SetLabelSize(0.04)\n",
    "\n",
    "#     h[k].GetYaxis().SetTitle('N_{rechits}')\n",
    "#     h[k].SetLineColor(std_color_list[0])\n",
    "#     # leg.AddEntry(h[k], k)\n",
    "#     #     h[k].SetMaximum(10E5)\n",
    "#     #     h[k].SetMinimum(1)\n",
    "#     h[k].Draw('colz')\n",
    "# c.SetRightMargin(0.2)\n",
    "\n",
    "\n",
    "# if setlog: \n",
    "# c.SetLogz()\n",
    "# c.Draw()\n"
   ]
  },
  {
   "cell_type": "code",
   "execution_count": null,
   "metadata": {},
   "outputs": [],
   "source": []
  },
  {
   "cell_type": "markdown",
   "metadata": {},
   "source": [
    "# event selection"
   ]
  },
  {
   "cell_type": "code",
   "execution_count": null,
   "metadata": {},
   "outputs": [],
   "source": []
  },
  {
   "cell_type": "code",
   "execution_count": 6,
   "metadata": {},
   "outputs": [
    {
     "name": "stdout",
     "output_type": "stream",
     "text": [
      "(41677, 1) (40959, 1)\n",
      "Number of signal events: 37115\n",
      "Number of background events: 4562\n",
      "Number of signal events: 37115\n",
      "Number of background events: 4562\n",
      "weights: [1.        8.1356861] 8.135686102586584\n"
     ]
    }
   ],
   "source": [
    "df_signal = uproot.open(fpath_bkg['mc'])['MuonSystem'].pandas.df([row[0] for row in variables], flatten=True)\n",
    "df_bkg = uproot.open(fpath_bkg['data'])['MuonSystem'].pandas.df([row[0] for row in variables], flatten=True)\n",
    "\n",
    "cscRechitClusterSize_signal = uproot.open(fpath_bkg['mc'])['MuonSystem'].pandas.df(['cscRechitClusterSize'], flatten=True)\n",
    "cscRechitClusterSize_bkg = uproot.open(fpath_bkg['data'])['MuonSystem'].pandas.df(['cscRechitClusterSize'], flatten=True)\n",
    "cscRechitClusterSize = np.concatenate([cscRechitClusterSize_bkg.values,cscRechitClusterSize_signal.values])\n",
    "\n",
    "jetMet_dPhiMin_signal = uproot.open(fpath_bkg['mc'])['MuonSystem'].pandas.df(['jetMet_dPhiMin'], flatten=True)\n",
    "jetMet_dPhiMin_bkg = uproot.open(fpath_bkg['data'])['MuonSystem'].pandas.df(['jetMet_dPhiMin'], flatten=True)\n",
    "jetMet_dPhiMin = np.concatenate([jetMet_dPhiMin_bkg.values,jetMet_dPhiMin_signal.values])\n",
    "\n",
    "\n",
    "print(cscRechitClusterSize.shape, jetMet_dPhiMin.shape)\n",
    "\n",
    "print(\"Number of signal events: \"+ str(len(df_signal)))\n",
    "print(\"Number of background events: \"+str(len(df_bkg)))\n",
    "x = np.concatenate([df_bkg.values,df_signal.values])\n",
    "\n",
    "x = np.hstack((x[:, :5], np.abs(x[:, 5:]))) ## change the last two variables to positive\n",
    "#creating numpy array for target variables\n",
    "y = np.concatenate([np.zeros(len(df_bkg)),\n",
    "                        np.ones(len(df_signal))])\n",
    "weight = np.concatenate([np.ones(len(df_bkg))*len(df_signal)/len(df_bkg),\n",
    "                        np.ones(len(df_signal))])\n",
    "print(\"Number of signal events: \"+ str(len(df_signal)))\n",
    "print(\"Number of background events: \"+str(len(df_bkg)))\n",
    "print('weights:',np.unique(weight), len(df_signal)/len(df_bkg))\n",
    "indices = np.arange(len(y))"
   ]
  },
  {
   "cell_type": "code",
   "execution_count": null,
   "metadata": {},
   "outputs": [],
   "source": []
  },
  {
   "cell_type": "code",
   "execution_count": null,
   "metadata": {},
   "outputs": [],
   "source": []
  },
  {
   "cell_type": "code",
   "execution_count": 7,
   "metadata": {},
   "outputs": [
    {
     "name": "stdout",
     "output_type": "stream",
     "text": [
      "0 0 0\n",
      "['cscRechitClusterNStation', 'cscRechitClusterNStation', '$N_{station}$', 5, 0, 5]\n",
      "1 0 1\n",
      "['cscRechitClusterEtaSpread', 'cscRechitClusterEtaSpread', '$\\\\eta$ spread', 50, 0, 0.3]\n",
      "2 0 2\n",
      "['cscRechitClusterPhiSpread', 'cscRechitClusterPhiSpread', '$\\\\phi$ spread', 50, 0, 0.3]\n",
      "3 1 0\n",
      "['cscRechitClusterEtaPhiSpread', 'cscRechitClusterEtaPhiSpread', '$\\\\eta-\\\\phi$ spread', 50, 0, 0.2]\n",
      "4 1 1\n",
      "['cscRechitClusterPhi', 'cscRechitClusterPhi', 'cluster $\\\\phi$', 25, 0, 3.2]\n",
      "5 1 2\n",
      "['cscRechitClusterEta', 'cscRechitClusterEta', 'cluster $\\\\eta$', 50, 0, 2.5]\n",
      "6 2 0\n",
      "['cscRechitClusterZ', 'cscRechitClusterZ', 'cluster Z [cm]', 30, 600, 1100]\n"
     ]
    },
    {
     "name": "stderr",
     "output_type": "stream",
     "text": [
      "/usr/local/lib/python3.6/site-packages/ipykernel_launcher.py:36: UserWarning: You have mixed positional and keyword arguments, some input may be discarded.\n"
     ]
    },
    {
     "data": {
      "text/plain": [
       "<matplotlib.legend.Legend at 0x7ff3defc5cc0>"
      ]
     },
     "execution_count": 7,
     "metadata": {},
     "output_type": "execute_result"
    },
    {
     "data": {
      "image/png": "[encoded data removed]",
      "text/plain": [
       "<Figure size 720x360 with 9 Axes>"
      ]
     },
     "metadata": {
      "needs_background": "light"
     },
     "output_type": "display_data"
    }
   ],
   "source": [
    "\n",
    "def trim_axs(axs, N):\n",
    "    \"\"\"little helper to massage the axs list to have correct length...\"\"\"\n",
    "    axs = axs.flat\n",
    "    for ax in axs[N:]:\n",
    "        ax.remove()\n",
    "    return axs[:N]\n",
    "columns = 3\n",
    "fig1, axs = plt.subplots(int(len(variables)/columns)+1, columns, figsize=(10,5), constrained_layout=True)\n",
    "# fig1, axs = plt.subplots(int(len(variables)/columns)+1, columns, figsize=(5,8), constrained_layout=True)\n",
    "\n",
    "\n",
    "# for ax, case in zip(axs, cases):\n",
    "#     ax.set_title('markevery=%s' % str(case))\n",
    "trim_axs(axs, len(variables))\n",
    "\n",
    "r = 0\n",
    "c = 0\n",
    "for i, var in enumerate(variables):\n",
    "#     axs[i].hist(x[:,i][y==0])\n",
    "    print(i,r,c)\n",
    "    print(variables[i])\n",
    "    bkg = axs[r,c].hist(x[:,i][y==0], variables[i][3], (variables[i][4], variables[i][5]), density = True, histtype = 'step', label = 'Background', color = 'b')\n",
    "    sig = axs[r,c].hist(x[:,i][y==1], variables[i][3], (variables[i][4], variables[i][5]), density = True, histtype = 'step', label = 'Signal', color = 'r')\n",
    "#     axs[r,c].legend()\n",
    "    axs[r,c].set_xlabel(variables[i][2])\n",
    "    if c == columns-1:\n",
    "#         if r == 0:axs[r,c].legend(loc = 'upper right')\n",
    "        c = 0\n",
    "        r+=1\n",
    "        \n",
    "    else:c+=1\n",
    "#     if i == len(variables)-1:\n",
    "fig1.legend([bkg, sig],     # The line objects\n",
    "           labels=['Background', 'Signal'],   # The labels for each line\n",
    "           loc=\"upper center\",   # Position of legend\n",
    "           borderaxespad=0.1,    # Small spacing around legend box\n",
    "           )\n",
    "#     h['OOT_data'] = create_TH1D(x[:,i][y==0], axis_title = [variables[i][2],'Events'], binning=[variables[i][3], variables[i][4], variables[i][5]])\n",
    "#     h['MC_signal'] = create_TH1D(x[:,i][y==1], axis_title = [variables[i][2],'Events'], binning=[variables[i][3], variables[i][4], variables[i][5]])\n",
    "\n"
   ]
  },
  {
   "cell_type": "markdown",
   "metadata": {},
   "source": [
    "# train"
   ]
  },
  {
   "cell_type": "code",
   "execution_count": 7,
   "metadata": {},
   "outputs": [
    {
     "data": {
      "text/plain": [
       "XGBClassifier(base_score=0.5, booster='gbtree', colsample_bylevel=1,\n",
       "              colsample_bynode=1, colsample_bytree=1, gamma=0,\n",
       "              learning_rate=0.1, max_delta_step=0, max_depth=4,\n",
       "              min_child_weight=1, missing=None, n_estimators=400, n_jobs=4,\n",
       "              nthread=None, objective='binary:logistic', random_state=0,\n",
       "              reg_alpha=0, reg_lambda=1.0, scale_pos_weight=1, seed=None,\n",
       "              silent=None, subsample=1, verbosity=1)"
      ]
     },
     "execution_count": 7,
     "metadata": {},
     "output_type": "execute_result"
    }
   ],
   "source": [
    "# split data into train and test sets\n",
    "seed = 7\n",
    "test_size = 0.2\n",
    "sample_size = 1.0\n",
    "# x_train, x_test, y_train, y_test, indices_train, indices_test = train_test_split(x, y,indices,train_size = sample_size*(1-test_size), test_size=sample_size*test_size, random_state=seed)\n",
    "x_train, x_test, y_train, y_test, indices_train, indices_test, weight_train, weight_test\\\n",
    "    = train_test_split(x, y,indices, weight, train_size = sample_size*(1-test_size), test_size=sample_size*test_size, random_state=seed)\n",
    "\n",
    "# fit model no training data\n",
    "model = xgb.XGBClassifier(max_depth=4, learning_rate=0.1, n_estimators=400, verbosity=1, n_jobs=4, reg_lambda=1.0)\n",
    "model.fit(x_train, y_train, sample_weight=weight_train)\n",
    "# model.fit(x_train, y_train)\n"
   ]
  },
  {
   "cell_type": "code",
   "execution_count": 250,
   "metadata": {},
   "outputs": [
    {
     "name": "stdout",
     "output_type": "stream",
     "text": [
      "Accuracy: 95.03%\n"
     ]
    }
   ],
   "source": [
    "# make predictions for test data\n",
    "y_pred = model.predict_proba(x_test)[:, 1]\n",
    "y_pred_train = model.predict_proba(x_train)[:, 1]\n",
    "y_pred_bkg = model.predict_proba(df_bkg.values)[:, 1]\n",
    "predictions = [round(value) for value in y_pred]\n",
    "# evaluate predictions\n",
    "accuracy = accuracy_score(y_test, predictions)\n",
    "print(\"Accuracy: %.2f%%\" % (accuracy * 100.0))\n",
    "bdt_name = 'bdt_flatten_metfilter_me1112nohits_eta2p1_testsize0p2_abs_EtaPhi_v2'\n",
    "# import pickle\n",
    "# pickle.dump(model, open(\"bdt_flatten_metfilter_me1112nohits_eta2p1_testsize0p6_abs_EtaPhi_v2.pickle\", \"wb\"))\n",
    "#v2 has weight fixed"
   ]
  },
  {
   "cell_type": "code",
   "execution_count": null,
   "metadata": {},
   "outputs": [],
   "source": []
  },
  {
   "cell_type": "markdown",
   "metadata": {},
   "source": [
    "# load bdt"
   ]
  },
  {
   "cell_type": "code",
   "execution_count": 9,
   "metadata": {},
   "outputs": [],
   "source": [
    "# make predictions for test data\n",
    "\n",
    "import pickle\n",
    "# model = pickle.load(open( 'bdt_flatten_noEvtSelection.pickle.dat', \"rb\" ))\n",
    "model = pickle.load(open( 'bdt_flatten_metfilter_me1112nohits_eta2p1_testsize0p2_abs_EtaPhi.pickle', \"rb\" ))\n",
    "y_pred = model.predict_proba([1,2,3,4,4,5,6])[:, 1]\n",
    "\n"
   ]
  },
  {
   "cell_type": "markdown",
   "metadata": {},
   "source": [
    "# ROC curve"
   ]
  },
  {
   "cell_type": "code",
   "execution_count": 187,
   "metadata": {},
   "outputs": [
    {
     "name": "stdout",
     "output_type": "stream",
     "text": [
      "AUC: 0.9783405376288716\n"
     ]
    }
   ],
   "source": [
    "\n",
    "AUC = roc_auc_score(y_test, y_pred)\n",
    "print(\"AUC: \"+str(AUC))\n",
    "#get roc curve\n",
    "#roc = roc_curve(y_test, y_pred)\n",
    "fpr, tpr, thr = roc_curve(y_test, y_pred)"
   ]
  },
  {
   "cell_type": "markdown",
   "metadata": {},
   "source": [
    "## significance"
   ]
  },
  {
   "cell_type": "code",
   "execution_count": 188,
   "metadata": {},
   "outputs": [
    {
     "name": "stdout",
     "output_type": "stream",
     "text": [
      "WP99_threshold: 0.14595667\n",
      "WP99_effSignal: 0.9900027019724399\n",
      "WP99_effBkg: 0.2291220556745182\n",
      "WP90_threshold: 0.7802247\n",
      "WP90_effSignal: 0.9000270197243988\n",
      "WP90_effBkg: 0.061027837259100645\n"
     ]
    }
   ],
   "source": [
    "\n",
    "significance = []\n",
    "effSignal = []\n",
    "effBkg = []\n",
    "thresholds = []\n",
    "\n",
    "ctr = 0\n",
    "for i in range(len(fpr)):\n",
    "    if fpr[i] > 1e-5 and tpr[i] > 1e-5:\n",
    "#         print(\"thr = \"+str(thr[i])+\", fpr = \"+str(fpr[i]) + \", tpr = \"+str(tpr[i]))\n",
    "        #print fpr[i], tpr[i] \n",
    "        #significance.append(math.sqrt(lumi)*4.8742592356*0.006431528796*tpr[i]/math.sqrt(fpr[i]*0.9935684712))\n",
    "#         significance.append(*tpr[i]/math.sqrt(fpr[i]*bkgEvents))\n",
    "        effSignal.append(tpr[i])\n",
    "        effBkg.append(fpr[i])\n",
    "        thresholds.append(thr[i])\n",
    "        #print significance[ctr], ' ' , fpr[ctr], ' ', tpr[ctr]\n",
    "        ctr = ctr + 1\n",
    "\n",
    "\n",
    "# max_significance = max(significance)\n",
    "# idx_max_significance = np.argmax(np.array(significance))\n",
    "# best_threshold = thresholds[idx_max_significance]\n",
    "# best_effSignal = effSignal[idx_max_significance]\n",
    "# best_effBkg = effBkg[idx_max_significance]\n",
    "\n",
    "# print(\"max_significance: \"+str(max_significance))\n",
    "# print(\"best_threshold: \"+str(best_threshold))\n",
    "# print(\"best_effSignal: \"+str(best_effSignal))\n",
    "# print(\"best_effBkg: \"+str(best_effBkg))\n",
    "\n",
    "idx_WP99 = 0\n",
    "minD0p9 = 999.0\n",
    "for idx in range(len(effSignal)):\n",
    "    if abs(effSignal[idx] - 0.99) < minD0p9:\n",
    "        idx_WP99 = idx\n",
    "        minD0p9 = abs(effSignal[idx] - 0.99)\n",
    "\n",
    "# WP90_significance = significance[idx_WP90]\n",
    "WP99_threshold = thresholds[idx_WP99]\n",
    "WP99_effSignal = effSignal[idx_WP99]\n",
    "WP99_effBkg = effBkg[idx_WP99]\n",
    "\n",
    "# print(\"WP90_significance: \"+str(WP90_significance))\n",
    "print(\"WP99_threshold: \"+str(WP99_threshold))\n",
    "print(\"WP99_effSignal: \"+str(WP99_effSignal))\n",
    "print(\"WP99_effBkg: \"+str(WP99_effBkg))\n",
    "\n",
    "idx_WP90 = 0\n",
    "minD0p8 = 999.0\n",
    "for idx in range(len(effSignal)):\n",
    "        if abs(effSignal[idx] - 0.90) < minD0p8:\n",
    "                idx_WP90 = idx\n",
    "                minD0p8 = abs(effSignal[idx] - 0.90)\n",
    "\n",
    "# WP80_significance = significance[idx_WP80]\n",
    "WP90_threshold = thresholds[idx_WP90]\n",
    "WP90_effSignal = effSignal[idx_WP90]\n",
    "WP90_effBkg = effBkg[idx_WP90]\n",
    "\n",
    "# print(\"WP80_significance: \"+str(WP80_significance))\n",
    "print(\"WP90_threshold: \"+str(WP90_threshold))\n",
    "print(\"WP90_effSignal: \"+str(WP90_effSignal))\n",
    "print(\"WP90_effBkg: \"+str(WP90_effBkg))\n"
   ]
  },
  {
   "cell_type": "markdown",
   "metadata": {},
   "source": [
    "# plot roc curve"
   ]
  },
  {
   "cell_type": "code",
   "execution_count": 189,
   "metadata": {},
   "outputs": [
    {
     "data": {
      "image/png": "[encoded data removed]",
      "text/plain": [
       "<Figure size 432x288 with 1 Axes>"
      ]
     },
     "metadata": {
      "needs_background": "light"
     },
     "output_type": "display_data"
    }
   ],
   "source": [
    "\n",
    "#plot roc curve\n",
    "f = plt.figure()\n",
    "ax = f.add_subplot(111)\n",
    "plt.subplots_adjust(top=0.9, bottom=0.15, left=0.15, right=0.95)\n",
    "lw = 2\n",
    "plt.plot(fpr, tpr, color='darkorange',\n",
    "         lw=lw, label='ROC curve')\n",
    "plt.plot([0, 1], [0, 1], color='navy', lw=lw, linestyle='--')\n",
    "plt.xlim([10E-4, 1.0])\n",
    "plt.ylim([0.0, 1.05])\n",
    "plt.ylabel('Signal Efficiency',horizontalalignment='right', y=1.0, fontsize=15)\n",
    "plt.xlabel('Background Efficiency',horizontalalignment='right', x=1.0, fontsize=15)\n",
    "plt.xticks(fontsize=13)\n",
    "plt.yticks(fontsize=13)\n",
    "plt.xscale('log')\n",
    "plt.axhline(y=0.9, color=\"black\", linestyle='--')\n",
    "plt.axhline(y=0.8, color=\"black\")\n",
    "plt.text(0.05,0.1,'WP99: bkg eff = %.4f'%WP99_effBkg, fontsize=12)\n",
    "plt.text(0.05,0.2,'WP90: bkg eff = %.4f'%WP90_effBkg, fontsize=12)\n",
    "#plt.text(0.5,0.3,'WP90: S/sqrt(B) = %.2f'%WP90_significance, fontsize=12)\n",
    "plt.text(0.05,0.3,'AUC = %.4f'%AUC, fontsize=12)\n",
    "plt.title('Receiver operating characteristic example')\n",
    "# plt.legend(loc=\"lower right\")\n",
    "plt.show()"
   ]
  },
  {
   "cell_type": "markdown",
   "metadata": {},
   "source": [
    "# plot discrimination"
   ]
  },
  {
   "cell_type": "code",
   "execution_count": 232,
   "metadata": {},
   "outputs": [
    {
     "name": "stdout",
     "output_type": "stream",
     "text": [
      "0.002502564\n"
     ]
    },
    {
     "data": {
      "text/plain": [
       "Text(1.0, 1.01, '13 TeV')"
      ]
     },
     "execution_count": 232,
     "metadata": {},
     "output_type": "execute_result"
    },
    {
     "data": {
      "image/png": "[encoded data removed]",
      "text/plain": [
       "<Figure size 432x288 with 1 Axes>"
      ]
     },
     "metadata": {
      "needs_background": "light"
     },
     "output_type": "display_data"
    }
   ],
   "source": [
    "y_frame = pd.DataFrame({'truth':y_test, 'disc':y_pred})\n",
    "y_frame_train = pd.DataFrame({'truth':y_train, 'disc':y_pred_train})\n",
    "\n",
    "disc_bkg    = y_frame[y_frame['truth'] == 0]['disc'].values\n",
    "disc_bkg_train    = y_frame_train[y_frame_train['truth'] == 0]['disc'].values\n",
    "disc_signal = y_frame[y_frame['truth'] == 1]['disc'].values\n",
    "disc_signal_train = y_frame_train[y_frame_train['truth'] == 1]['disc'].values\n",
    "f = plt.figure()\n",
    "ax = f.add_subplot(111)\n",
    "plt.subplots_adjust(top=0.9, bottom=0.15, left=0.15, right=0.95)\n",
    "plt.hist(disc_signal, density=True, bins=100, alpha=1.0, histtype='step', lw=2, label='signal - test')\n",
    "plt.hist(disc_signal_train, density=True, bins=100, alpha=1.0, histtype='step', lw=2, label='signal  - train')\n",
    "plt.hist(disc_bkg, density=True, bins=100, alpha=1.0, histtype='step', lw=2, label='bkg - test')\n",
    "plt.hist(disc_bkg_train, density=True, bins=100, alpha=1.0, histtype='step', lw=2, label='bkg - train')\n",
    "\n",
    "print(np.min(disc_signal_train))\n",
    "plt.yscale('log')\n",
    "plt.xlim([0.0, 1.0])\n",
    "plt.ylim([0.001, 1000.0])\n",
    "plt.legend(loc='upper left')\n",
    "plt.xlabel('BDT response',horizontalalignment='right', x=1.0, fontsize=15)\n",
    "plt.ylabel('Events',horizontalalignment='right', y=1.0, fontsize=14)\n",
    "plt.xticks(fontsize=13)\n",
    "plt.yticks(fontsize=13)\n",
    "plt.axvline(x=WP90_threshold, color='black', linestyle='--')\n",
    "# plt.axvline(x=WP99_threshold, color='black')\n",
    "plt.text(0.5,0.7,'WP90: disc > %.4f'%WP90_threshold, fontsize=12, horizontalalignment='left', verticalalignment='top', transform=plt.gca().transAxes)\n",
    "# plt.text(0.5,0.6,‘WP80: disc > %.4f’%WP80_threshold, fontsize=12, horizontalalignment=‘center’, verticalalignment=‘center’, transform=plt.gca().transAxes)\n",
    "plt.text(0.0, 1.01, 'CMS', ha='left', va='bottom', transform=ax.transAxes, weight='bold', fontsize=17)\n",
    "plt.text(0.12, 1.01, 'Simulation Preliminary', ha='left', va='bottom', transform=ax.transAxes, style='italic', fontsize=16)\n",
    "plt.text(1.0, 1.01, '13 TeV', ha='right', va='bottom', transform=ax.transAxes, fontsize=16)\n",
    "\n",
    "# # f = plt.figure()\n",
    "# ax = f.add_subplot(111)\n",
    "# plt.subplots_adjust(top=0.9, bottom=0.15, left=0.15, right=0.95)\n",
    "# # plt.hist(disc_signal, density=True, bins=100, alpha=1.0, histtype=“step”, lw=2, label=“WWZ - test”)\n",
    "# # plt.hist(disc_signal_train, density=True, bins=100, alpha=1.0, histtype=“step”, lw=2, label=“WWZ  - train”)\n",
    "# # plt.hist(disc_bkg, density=True, bins=100, alpha=1.0, histtype=“step”, lw=2, label=“ttZ - test”)\n",
    "# # plt.hist(disc_bkg_train, density=True, bins=100, alpha=1.0, histtype=“step”, lw=2, label=“ttZ - train”)\n",
    "# # plt.yscale(“linear”)\n",
    "# # plt.xlim([0.0, 1.0])\n",
    "# # #plt.ylim([0.001, 100.0])\n",
    "# # plt.legend(loc=“upper center”)\n",
    "# # plt.xlabel(‘BDT response’,horizontalalignment=‘right’, x=1.0, fontsize=15)\n",
    "# # plt.ylabel(‘Events’,horizontalalignment=‘right’, y=1.0, fontsize=14)\n",
    "# # plt.xticks(fontsize=13)\n",
    "# # plt.yticks(fontsize=13)\n",
    "# # plt.axvline(x=WP90_threshold, color=“black”, linestyle=‘--’)\n",
    "# # plt.axvline(x=WP80_threshold, color=“black”)\n",
    "# # plt.text(0.5,0.7,‘WP90: disc > %.4f’%WP90_threshold, fontsize=12, horizontalalignment=‘center’, verticalalignment=‘center’, transform=plt.gca().transAxes)\n",
    "# # plt.text(0.5,0.6,‘WP80: disc > %.4f’%WP80_threshold, fontsize=12, horizontalalignment=‘center’, verticalalignment=‘center’, transform=plt.gca().transAxes)\n",
    "# # plt.text(0.0, 1.01, “CMS”, ha=‘left’, va=‘bottom’, transform=ax.transAxes, weight=‘bold’, fontsize=17)\n",
    "# # plt.text(0.12, 1.01, “Simulation Preliminary”, ha=‘left’, va=‘bottom’, transform=ax.transAxes, style=‘italic’, fontsize=16)\n",
    "# # plt.text(1.0, 1.01, “13 TeV”, ha=‘right’, va=‘bottom’, transform=ax.transAxes, fontsize=16)\n"
   ]
  },
  {
   "cell_type": "markdown",
   "metadata": {},
   "source": [
    "# bdt efficiency"
   ]
  },
  {
   "cell_type": "code",
   "execution_count": 251,
   "metadata": {},
   "outputs": [
    {
     "name": "stdout",
     "output_type": "stream",
     "text": [
      "934 934\n",
      "0.061027837259100645\n",
      "50 0.061027837259100645 0.0136986301369863 0.06504065040650407\n",
      "60 0.061027837259100645 0.03734439834024896 0.08628318584070796\n",
      "70 0.061027837259100645 0.041176470588235294 0.1141732283464567\n",
      "80 0.061027837259100645 0.043593130779392336 0.13559322033898305\n",
      "90 0.061027837259100645 0.046511627906976744 0.1623931623931624\n",
      "100 0.061027837259100645 0.051008303677342826 0.15384615384615385\n",
      "110 0.061027837259100645 0.05439814814814815 0.14285714285714285\n",
      "120 0.061027837259100645 0.0552423900789177 0.1702127659574468\n",
      "130 0.061027837259100645 0.05679287305122494 0.16666666666666666\n",
      "140 0.061027837259100645 0.05849889624724062 0.14285714285714285\n",
      "150 0.061027837259100645 0.05805038335158817 0.19047619047619047\n",
      "160 0.061027837259100645 0.05767138193688792 0.26666666666666666\n",
      "170 0.061027837259100645 0.057483731019522775 0.3333333333333333\n",
      "180 0.061027837259100645 0.05735930735930736 0.4\n",
      "190 0.061027837259100645 0.058315334773218146 0.375\n",
      "200 0.061027837259100645 0.05825242718446602 0.42857142857142855\n",
      "210 0.061027837259100645 0.05818965517241379 0.5\n",
      "220 0.061027837259100645 0.05818965517241379 0.5\n",
      "230 0.061027837259100645 0.05818965517241379 0.5\n",
      "240 0.061027837259100645 0.05818965517241379 0.5\n",
      "250 0.061027837259100645 0.05818965517241379 0.5\n",
      "260 0.061027837259100645 0.05818965517241379 0.5\n",
      "270 0.061027837259100645 0.05818965517241379 0.5\n",
      "280 0.061027837259100645 0.059203444564047365 0.4\n",
      "290 0.061027837259100645 0.059203444564047365 0.4\n"
     ]
    }
   ],
   "source": [
    "import scipy\n",
    "import os\n",
    "\n",
    "# print(np.array(y_pred[y_test == 0]))\n",
    "# print(np.array(cscRechitClusterSize[indices_test][y_test == 0]).flatten())\n",
    "# print(scipy.stats.pearsonr(bdt_score[k], cscClusterSize[k]))\n",
    "# print(scipy.stats.pearsonr(bdt_score[k], jetMet_dPhiMin30[k]))\n",
    "\n",
    "# wp90 =  0.9598022\n",
    "wp90 =  0.7802247\n",
    "outDir = '/storage/user/christiw/login-1/christiw/LLP/CMSSW_10_2_13/src/HiggsAnalysis/MuonSystemLimit/data/bdt_eff/'\n",
    "if not os.path.isdir(outDir): print(\"OUTPUT DIR DOESN'T EXIST\")\n",
    "text_file = open(outDir+bdt_name+\".txt\", \"w\")\n",
    "\n",
    "y_frame = pd.DataFrame({'truth':y_test, 'disc':y_pred})\n",
    "y_frame_train = pd.DataFrame({'truth':y_train, 'disc':y_pred_train})\n",
    "\n",
    "disc_bkg    = y_frame[y_frame['truth'] == 0]['disc'].values\n",
    "\n",
    "\n",
    "ncsc = cscRechitClusterSize[indices_test][y_test==0]\n",
    "print(len(ncsc), len(disc_bkg))\n",
    "print(np.count_nonzero(disc_bkg>wp90)/len(disc_bkg))\n",
    "for n_rechit in np.arange(50,300,10):\n",
    "    cond1 = ncsc > n_rechit\n",
    "    cond1 = cond1[:,0]\n",
    "    cond2 =  disc_bkg > wp90\n",
    "    cond_gt = np.logical_and(cond1, cond2)\n",
    "    cond_lt = np.logical_and(np.logical_not(cond1), cond2)\n",
    "#     print(cond1.shape, cond2.shape)\n",
    "#     print(np.count_nonzero(cond1), np.count_nonzero(cond2), np.count_nonzero(cond_gt), np.count_nonzero(cond_lt))\n",
    "    eff_low = np.count_nonzero(cond_lt)/np.count_nonzero(np.logical_not(cond1))\n",
    "    eff_high = np.count_nonzero(cond_gt)/np.count_nonzero(cond1)\n",
    "    eff_total = np.count_nonzero(cond2)/len(cond2)\n",
    "    assert(np.count_nonzero(cond_lt)+np.count_nonzero(cond_gt) == np.count_nonzero(cond2))\n",
    "    print(n_rechit, eff_total,eff_low , eff_high)\n",
    "    \n",
    "    text_file.write('{0}, {1}, {2} \\n'.format(n_rechit, eff_low , eff_high))\n",
    "\n",
    "    \n",
    "\n",
    "# for dphi in [0.0, 0.6, 1, 1.5, 2, 2.5]:\n",
    "#     cond1 = jetMet_dPhiMin30[k] >= dphi\n",
    "#     cond2 = bdt_score[k] > wp90\n",
    "#     cond_gt = np.logical_and(cond1, cond2)\n",
    "#     cond_lt = np.logical_and(np.logical_not(cond1), cond2)\n",
    "#     print(dphi, np.count_nonzero(cond_gt)/np.count_nonzero(cond1))\n",
    "\n",
    "    \n",
    "text_file.close()\n",
    "\n",
    "    "
   ]
  },
  {
   "cell_type": "markdown",
   "metadata": {},
   "source": [
    "# plot feature importances"
   ]
  },
  {
   "cell_type": "code",
   "execution_count": 57,
   "metadata": {},
   "outputs": [
    {
     "data": {
      "image/png": "[encoded data removed]",
      "text/plain": [
       "<Figure size 432x288 with 1 Axes>"
      ]
     },
     "metadata": {
      "needs_background": "light"
     },
     "output_type": "display_data"
    }
   ],
   "source": [
    "#plot feature importances\n",
    "\n",
    "model.get_booster().feature_names = [row[1] for row in variables]\n",
    "\n",
    "xgb.plot_importance(model, max_num_features=len(variables), xlabel=\"F score (weight)\")\n",
    "# plt.savefig(plotDir+'training/myImportances_Fscore_' + test_name + '.pdf', bbox_inches='tight')\n",
    "# plt.savefig(plotDir+'training/myImportances_Fscore_' + test_name + '.png', bbox_inches='tight')\n",
    "# plt.savefig(plotDir+'training/myImportances_Fscore_' + test_name + '.eps', bbox_inches='tight')\n",
    "# os.system(\"chmod 755 \"+plotDir+\"training/*\")\n",
    "\n",
    "#xgb.plot_tree( model.get_booster() )\n",
    "# xgb.plot_tree( model )\n",
    "# fig = plt.gcf()\n",
    "#fig.set_size_inches(500, 50)\n",
    "plt.draw()\n",
    "# plt.savefig(plotDir+'training/myTree_' + test_name + '.pdf')\n",
    "# plt.savefig(plotDir+'training/myTree_' + test_name + '.png')\n",
    "# plt.savefig(plotDir+'training/myTree_' + test_name + '.eps')\n",
    "# os.system(\"chmod 755 \"+plotDir+\"training/*\")"
   ]
  },
  {
   "cell_type": "markdown",
   "metadata": {},
   "source": [
    "# compare two ROC curves"
   ]
  },
  {
   "cell_type": "code",
   "execution_count": 52,
   "metadata": {},
   "outputs": [
    {
     "data": {
      "image/png": "[encoded data removed]",
      "text/plain": [
       "<Figure size 432x288 with 1 Axes>"
      ]
     },
     "metadata": {
      "needs_background": "light"
     },
     "output_type": "display_data"
    }
   ],
   "source": [
    "\n",
    "import pickle\n",
    "model = pickle.load(open( 'bdt_flatten_metfilter_me1112nohits_eta2p1_testsize0p2_abs_EtaPhi_v2.pickle', \"rb\" ))\n",
    "model2 = pickle.load(open( 'bdt_flatten_metfilter_me1112nohits_eta2p1_testsize0p6_abs_EtaPhi_v2.pickle', \"rb\" ))\n",
    "\n",
    "y_pred = model.predict_proba(x_test)[:, 1]\n",
    "y_pred2 = model2.predict_proba(x_test)[:, 1]\n",
    "\n",
    "\n",
    "fpr, tpr, thr = roc_curve(y_test, y_pred)\n",
    "fpr2, tpr2, thr2 = roc_curve(y_test, y_pred2)\n",
    "\n",
    "#plot roc curve\n",
    "f = plt.figure()\n",
    "ax = f.add_subplot(111)\n",
    "plt.subplots_adjust(top=0.9, bottom=0.15, left=0.15, right=0.95)\n",
    "lw = 2\n",
    "plt.plot(fpr, tpr, color='darkorange',\n",
    "         lw=lw, label='ROC curve')\n",
    "plt.plot(fpr2, tpr2, color='blue',\n",
    "         lw=lw, label='ROC curve half size')\n",
    "plt.plot([0, 1], [0, 1], color='navy', lw=lw, linestyle='--')\n",
    "plt.xlim([10E-4, 1.0])\n",
    "plt.ylim([0.0, 1.05])\n",
    "plt.ylabel('Signal Efficiency',horizontalalignment='right', y=1.0, fontsize=15)\n",
    "plt.xlabel('Background Efficiency',horizontalalignment='right', x=1.0, fontsize=15)\n",
    "plt.xticks(fontsize=13)\n",
    "plt.yticks(fontsize=13)\n",
    "plt.xscale('log')\n",
    "plt.axhline(y=0.9, color=\"black\", linestyle='--')\n",
    "plt.axhline(y=0.8, color=\"black\")\n",
    "plt.text(0.05,0.1,'WP99: bkg eff = %.4f'%WP99_effBkg, fontsize=12)\n",
    "plt.text(0.05,0.2,'WP90: bkg eff = %.4f'%WP90_effBkg, fontsize=12)\n",
    "#plt.text(0.5,0.3,'WP90: S/sqrt(B) = %.2f'%WP90_significance, fontsize=12)\n",
    "plt.text(0.05,0.3,'AUC = %.4f'%AUC, fontsize=12)\n",
    "plt.title('Receiver operating characteristic example')\n",
    "plt.legend(loc=\"center right\")\n",
    "plt.show()"
   ]
  },
  {
   "cell_type": "markdown",
   "metadata": {},
   "source": [
    "# correlation with csc rechit size"
   ]
  },
  {
   "cell_type": "code",
   "execution_count": 39,
   "metadata": {},
   "outputs": [
    {
     "name": "stdout",
     "output_type": "stream",
     "text": [
      "(25007, 1)\n",
      "(25007,)\n"
     ]
    },
    {
     "data": {
      "image/png": "[encoded data removed]",
      "text/plain": [
       "<Figure size 576x576 with 1 Axes>"
      ]
     },
     "metadata": {
      "needs_background": "light"
     },
     "output_type": "display_data"
    }
   ],
   "source": [
    "f_heat, ax = plt.subplots(figsize=(8, 8))\n",
    "# ax = sns.kdeplot(np.array(ncsc_signal)[:,0], np.array(disc_signal_old), cmap=\"Reds\", shade=True, shade_lowest=False)\n",
    "print(cscRechitClusterSize[indices_test].shape)\n",
    "print(y_pred.shape)\n",
    "ax = sns.kdeplot(np.array(y_pred), np.array(cscRechitClusterSize[indices_test]),\n",
    "                 cmap=\"Blues\", shade=True, shade_lowest=False)\n",
    "# ax = sns.kdeplot(np.array(ncsc_bkg)[:,0], np.array(disc_bkg_normal),\n",
    "#                  cmap=\"Reds\", shade=False, shade_lowest=False)\n",
    "# ax = plt.scatter(np.array(ncsc_signal)[:,0], np.array(disc_signal_old), alpha=0.5)\n",
    "# ax = sns.kdeplot(np.array(ncsc_signal)[:,0], disc_signal_in,\n",
    "#                  cmap=\"Greens\", shade=True, shade_lowest=False)\n",
    "plt.ylim(-5, 200)\n",
    "plt.xlabel('BDT Discriminator')\n",
    "plt.ylabel('$N_{CSC}$')\n",
    "plt.title('Veto Training: Correlation Plot')\n",
    "\n",
    "# Add labels to the plot0.0011161413\n",
    "red = sns.color_palette(\"Reds\")[-2]\n",
    "blue = sns.color_palette(\"Blues\")[-2]\n",
    "# green = sns.color_palette(\"Greens\")[-2]\n",
    "# ax.text(2.5, 8.2, \"No Vetoes\", size=16, color=blue)\n",
    "# ax.text(3.8, 4.5, \"Trained on Vetoes\", size=16, color=red)\n",
    "# ax.text(2.0, 7, \"Trained on Vetoes: In-time\", size=16, color=green)"
   ]
  },
  {
   "cell_type": "code",
   "execution_count": 70,
   "metadata": {},
   "outputs": [
    {
     "name": "stdout",
     "output_type": "stream",
     "text": [
      "(40959, 1) (8336,)\n"
     ]
    },
    {
     "ename": "IndexError",
     "evalue": "index 41605 is out of bounds for axis 0 with size 40959",
     "output_type": "error",
     "traceback": [
      "\u001b[0;31m---------------------------------------------------------------------------\u001b[0m",
      "\u001b[0;31mIndexError\u001b[0m                                Traceback (most recent call last)",
      "\u001b[0;32m<ipython-input-70-ce13d639ed26>\u001b[0m in \u001b[0;36m<module>\u001b[0;34m\u001b[0m\n\u001b[1;32m     13\u001b[0m \u001b[0;31m#                    axis_title = ['BDT score','N_{rechits}','Events'], binning=[50,0,1,50,0,600])\u001b[0m\u001b[0;34m\u001b[0m\u001b[0;34m\u001b[0m\u001b[0;34m\u001b[0m\u001b[0m\n\u001b[1;32m     14\u001b[0m \u001b[0mprint\u001b[0m\u001b[0;34m(\u001b[0m\u001b[0mjetMet_dPhiMin\u001b[0m\u001b[0;34m.\u001b[0m\u001b[0mshape\u001b[0m\u001b[0;34m,\u001b[0m \u001b[0mindices_test\u001b[0m\u001b[0;34m.\u001b[0m\u001b[0mshape\u001b[0m\u001b[0;34m)\u001b[0m\u001b[0;34m\u001b[0m\u001b[0;34m\u001b[0m\u001b[0m\n\u001b[0;32m---> 15\u001b[0;31m h[k] = create_TH2D(np.column_stack((np.array(y_pred[y_test == 0]), np.array(jetMet_dPhiMin[indices_test][y_test == 0]))),\\\n\u001b[0m\u001b[1;32m     16\u001b[0m                    axis_title = ['BDT score','#Delta#Phi','Events'], binning=[50,0,1,50,0,3.14])\n\u001b[1;32m     17\u001b[0m \u001b[0;34m\u001b[0m\u001b[0m\n",
      "\u001b[0;31mIndexError\u001b[0m: index 41605 is out of bounds for axis 0 with size 40959"
     ]
    },
    {
     "name": "stderr",
     "output_type": "stream",
     "text": [
      "Warning in <TCanvas::Constructor>: Deleting canvas with same name: c\n"
     ]
    }
   ],
   "source": [
    "# Plotting ncsc\n",
    "start_t = time.time()\n",
    "c = rt.TCanvas('c','c', 1000, 800)\n",
    "h = {}\n",
    "# leg = rt.TLegend(0.50,0.75,0.97,0.93)\n",
    "leg = rt.TLegend(0.58,0.70,0.94,0.85)\n",
    "leg.SetTextSize(0.022)\n",
    "# leg.SetTextFont(42)\n",
    "leg.SetEntrySeparation(0.01)\n",
    "\n",
    "\n",
    "# h[k] = create_TH2D(np.column_stack((np.array(y_pred[y_test == 0]), np.array(cscRechitClusterSize[indices_test][y_test == 0]))),\\\n",
    "#                    axis_title = ['BDT score','N_{rechits}','Events'], binning=[50,0,1,50,0,600])\n",
    "\n",
    "# h[k] = h[k].ProfileX()\n",
    "h[k].GetXaxis().SetLabelSize(0.04)\n",
    "\n",
    "h[k].GetYaxis().SetTitle('N_{rechits}')\n",
    "\n",
    "# r = h[k].Fit('pol1', 'LRSQ+', '', 50,400)\n",
    "# print(r.Get())\n",
    "# print(r.Prob())\n",
    "# h[k].GetFunction(\"pol1\").SetLineColor(std_color_list[2])\n",
    "# h[k].GetFunction(\"pol1\").SetLineWidth(2)\n",
    "\n",
    "\n",
    "h[k].SetLineColor(std_color_list[0])\n",
    "# leg.AddEntry(h[k], k)\n",
    "#     h[k].SetMaximum(10E5)\n",
    "#     h[k].SetMinimum(1)\n",
    "h[k].Draw('colz')\n",
    "c.SetRightMargin(0.2)\n",
    "\n",
    "\n",
    "# if setlog: \n",
    "c.SetLogz()\n",
    "c.Draw()\n",
    "print(time.time()-start_t)\n"
   ]
  },
  {
   "cell_type": "code",
   "execution_count": 210,
   "metadata": {},
   "outputs": [
    {
     "data": {
      "text/plain": [
       "array([ 50,  60,  70,  80,  90, 100, 110, 120, 130, 140, 150, 160, 170,\n",
       "       180, 190, 200, 210, 220, 230, 240, 250, 260, 270, 280, 290])"
      ]
     },
     "execution_count": 210,
     "metadata": {},
     "output_type": "execute_result"
    }
   ],
   "source": [
    "np.arange(50,300,10)"
   ]
  },
  {
   "cell_type": "code",
   "execution_count": 60,
   "metadata": {},
   "outputs": [
    {
     "name": "stdout",
     "output_type": "stream",
     "text": [
      "(0.18520134155398751, 1.1852770985547027e-08)\n",
      "50 0.06504065040650407\n",
      "n_rechits 50 0.0\n",
      "60 0.08628318584070796\n",
      "n_rechits 60 0.035164835164835165\n",
      "70 0.1141732283464567\n",
      "n_rechits 70 0.04054054054054054\n",
      "80 0.13559322033898305\n",
      "n_rechits 80 0.0425531914893617\n",
      "90 0.1623931623931624\n",
      "n_rechits 90 0.04668304668304668\n",
      "100 0.15384615384615385\n",
      "n_rechits 100 0.04994054696789536\n",
      "110 0.14285714285714285\n",
      "n_rechits 110 0.05439814814814815\n",
      "120 0.1702127659574468\n",
      "n_rechits 120 0.0552423900789177\n",
      "130 0.16666666666666666\n",
      "n_rechits 130 0.05679287305122494\n",
      "140 0.14285714285714285\n",
      "n_rechits 140 0.05849889624724062\n",
      "150 0.19047619047619047\n",
      "n_rechits 150 0.05805038335158817\n",
      "160 0.26666666666666666\n",
      "n_rechits 160 0.05767138193688792\n",
      "170 0.3333333333333333\n",
      "n_rechits 170 0.057483731019522775\n",
      "180 0.4\n",
      "n_rechits 180 0.05735930735930736\n",
      "190 0.375\n",
      "n_rechits 190 0.058315334773218146\n",
      "200 0.42857142857142855\n",
      "n_rechits 200 0.05825242718446602\n",
      "210 0.5\n",
      "n_rechits 210 0.05818965517241379\n",
      "220 0.5\n",
      "n_rechits 220 0.05818965517241379\n",
      "230 0.5\n",
      "n_rechits 230 0.05818965517241379\n",
      "240 0.5\n",
      "n_rechits 240 0.05818965517241379\n",
      "250 0.5\n",
      "n_rechits 250 0.05818965517241379\n",
      "260 0.5\n",
      "n_rechits 260 0.05818965517241379\n",
      "270 0.5\n",
      "n_rechits 270 0.05818965517241379\n",
      "280 0.4\n",
      "n_rechits 280 0.059203444564047365\n",
      "290 0.4\n",
      "n_rechits 290 0.059203444564047365\n"
     ]
    }
   ],
   "source": [
    "import scipy\n",
    "# print(np.array(y_pred[y_test == 0]))\n",
    "# print(np.array(cscRechitClusterSize[indices_test][y_test == 0]).flatten())\n",
    "print(scipy.stats.pearsonr(np.array(y_pred[y_test == 0]), np.array(cscRechitClusterSize[indices_test][y_test == 0]).flatten()))\n",
    "\n",
    "# wp90 =  0.9598022\n",
    "wp90 =  0.7802\n",
    "# WP90_effBkg: 0.06531049250535331\n",
    "for n_rechit in np.arange(50,300,10):\n",
    "    cond1 = cscRechitClusterSize[indices_test][y_test == 0]> n_rechit\n",
    "    cond2 = y_pred[y_test == 0] > wp90\n",
    "    cond = np.logical_and(cond1[:,0], cond2)\n",
    "#     print(np.count_nonzero(cond1))\n",
    "#     print(\"n_rechits\", str(n_rechit), np.count_nonzero(cond)/np.count_nonzero(cond1))\n",
    "#     print( str(n_rechit), np.count_nonzero(cond1), np.count_nonzero(cond)/np.count_nonzero(cond1))\n",
    "    print( str(n_rechit), np.count_nonzero(cond)/np.count_nonzero(cond1))\n",
    "\n",
    "    cond1 = cscRechitClusterSize[indices_test][y_test == 0] < n_rechit\n",
    "    cond2 = y_pred[y_test == 0] > wp90\n",
    "    cond = np.logical_and(cond1[:,0], cond2)\n",
    "    print(\"n_rechits\", str(n_rechit), np.count_nonzero(cond)/np.count_nonzero(cond1[:,0]))\n"
   ]
  },
  {
   "cell_type": "markdown",
   "metadata": {},
   "source": [
    "# Correlation with delta phi"
   ]
  },
  {
   "cell_type": "code",
   "execution_count": 79,
   "metadata": {},
   "outputs": [],
   "source": [
    "import math\n",
    "def deltaPhi( phi1,  phi2):\n",
    "    dphi = phi1-phi2\n",
    "    while (dphi > math.pi):\n",
    "        dphi -= 2*math.pi\n",
    "    while (dphi <= -math.pi):\n",
    "        dphi += 2*math.pi\n",
    "    return dphi\n",
    "def deltaR(eta1, phi1, eta2, phi2):\n",
    "    dphi = deltaPhi(phi1,phi2)\n",
    "    deta = eta1 - eta2\n",
    "    return (dphi*dphi + deta*deta)**0.5"
   ]
  },
  {
   "cell_type": "code",
   "execution_count": 118,
   "metadata": {},
   "outputs": [
    {
     "name": "stdout",
     "output_type": "stream",
     "text": [
      "4542 4542\n",
      "CPU times: user 536 ms, sys: 12 ms, total: 548 ms\n",
      "Wall time: 447 ms\n"
     ]
    }
   ],
   "source": [
    "%%time\n",
    "\n",
    "gLLP_beta = {}\n",
    "jetPt = {}\n",
    "jetPhi = {}\n",
    "metPhi = {}\n",
    "\n",
    "jetMet_dPhi = {}\n",
    "jetMet_dPhiMin = {}\n",
    "jetMet_dPhiMin4 = {}\n",
    "jetMet_dPhiMin4_50 = {}\n",
    "\n",
    "cscClusterSize = {}\n",
    "cscRechitClusterXSpread = {}\n",
    "cscRechitClusterYSpread = {}\n",
    "cscRechitClusterNStation = {}\n",
    "cscRechitClusterEtaPhiSpread = {}\n",
    "cscRechitClusterPhiSpread = {}\n",
    "cscRechitClusterEtaSpread = {}\n",
    "cscRechitClusterX = {}\n",
    "cscRechitClusterY = {}\n",
    "cscRechitClusterZ = {}\n",
    "cscRechitClusterPhi = {}\n",
    "cscClusterJetVetoPt = {}\n",
    "cscRechitClusterEta = {}\n",
    "\n",
    "cscRechitClusterMaxStationRatio = {}\n",
    "cscRechitClusterNStation = {}\n",
    "cscRechitClusterNChamber = {}\n",
    "cscRechitClusterMet_dPhi = {}\n",
    "jetMet_dPhiMin30 = {}\n",
    "dphiMet_cluster = {}\n",
    "bdt_score = {}\n",
    "# make predictions for test data\n",
    "\n",
    "import pickle\n",
    "model = pickle.load(open( 'bdt_flatten_metfilter_me1112nohits_eta2p1_testsize0p2_abs_EtaPhi_v2.pickle', \"rb\" ))\n",
    "y_pred = model.predict_proba([1,2,3,4,4,5,6])[:, 1]\n",
    "\n",
    "\n",
    "\n",
    "T = tree_bkg['data']\n",
    " \n",
    "##### bdt variables ####\n",
    "sel_ev = T.array('nCscRechitClusters') > 0\n",
    "cscRechitClusterPhi[k] = T.array('cscRechitClusterPhi')[sel_ev][:,0].flatten()\n",
    "cscRechitClusterXSpread[k] = T.array('cscRechitClusterXSpread')[sel_ev][:,0].flatten()\n",
    "cscRechitClusterYSpread[k] = T.array('cscRechitClusterYSpread')[sel_ev][:,0].flatten()\n",
    "cscRechitClusterEtaSpread[k] = T.array('cscRechitClusterEtaSpread')[sel_ev][:,0].flatten()\n",
    "cscRechitClusterPhiSpread[k] = T.array('cscRechitClusterPhiSpread')[sel_ev][:,0].flatten()\n",
    "cscRechitClusterNStation[k] = T.array('cscRechitClusterNStation')[sel_ev][:,0].flatten()\n",
    "cscRechitClusterEtaPhiSpread[k] = T.array('cscRechitClusterEtaPhiSpread')[sel_ev][:,0].flatten()\n",
    "cscRechitClusterX[k] = T.array('cscRechitClusterX')[sel_ev][:,0].flatten()\n",
    "cscRechitClusterY[k] = T.array('cscRechitClusterY')[sel_ev][:,0].flatten()\n",
    "cscRechitClusterZ[k] = T.array('cscRechitClusterZ')[sel_ev][:,0].flatten()\n",
    "cscRechitClusterEta[k] = T.array('cscRechitClusterEta')[sel_ev][:,0].flatten()\n",
    "cscRechitClusterPhi[k] = T.array('cscRechitClusterPhi')[sel_ev][:,0].flatten()\n",
    "\n",
    "# if bdt_name == 'bdt_flatten_metfilter_me1112nohits_eta2p1_testsize0p2_abs':\n",
    "\n",
    "#     bdt_var = {'cscRechitClusterXSpread': cscRechitClusterXSpread[k],\n",
    "#      'cscRechitClusterYSpread': cscRechitClusterYSpread[k],\n",
    "#      'cscRechitClusterNStation':cscRechitClusterNStation[k],\n",
    "#      'cscRechitClusterEtaPhiSpread':cscRechitClusterEtaPhiSpread[k],\n",
    "#      'cscRechitClusterX':cscRechitClusterX[k],\n",
    "#      'cscRechitClusterY':cscRechitClusterY[k],\n",
    "#      'cscRechitClusterZ':cscRechitClusterZ[k],\n",
    "#     }\n",
    "# elif bdt_name == 'bdt_flatten_metfilter_me1112nohits_eta2p1_testsize0p2_abs_EtaPhi':\n",
    "   \n",
    "# else:\n",
    "#     print('BDT NAME NOT FOUND')\n",
    "bdt_var = {'cscRechitClusterNStation': cscRechitClusterNStation[k],\n",
    "'cscRechitClusterEtaSpread': cscRechitClusterEtaSpread[k],\n",
    "'cscRechitClusterPhiSpread':cscRechitClusterPhiSpread[k],\n",
    "'cscRechitClusterEtaPhiSpread':cscRechitClusterEtaPhiSpread[k],\n",
    "'cscRechitClusterPhi':cscRechitClusterPhi[k],\n",
    "'cscRechitClusterEta':np.abs(cscRechitClusterEta[k]),\n",
    "'cscRechitClusterZ':np.abs(cscRechitClusterZ[k]),\n",
    "}\n",
    "\n",
    "dataset = pd.DataFrame(bdt_var)\n",
    "bdt_score[k] = model.predict_proba(dataset.values)[:, 1]\n",
    "\n",
    "# dphiMet_cluster[k] = np.abs(T.array('cscRechitClusterMet_dPhi'))[sel_ev][:,0].flatten()[bdt_sel]\n",
    "metPhi[k] = T.array('metPhi')[sel_ev]\n",
    "jetPhi[k] = T.array('jetPhi')[sel_ev]\n",
    "jetPt[k] = T.array('jetPt')[sel_ev]\n",
    "jetMet_dPhiMin30[k] = []\n",
    "for ev in range(len(jetPhi[k])):\n",
    "    dphi_min_temp = 999\n",
    "    for i in range(len(jetPhi[k][ev])):\n",
    "        if jetPt[k][ev][i] < 30: continue\n",
    "        dphi_temp = abs(deltaPhi(metPhi[k][ev],jetPhi[k][ev][i]))\n",
    "        if dphi_min_temp > dphi_temp: dphi_min_temp = dphi_temp\n",
    "    jetMet_dPhiMin30[k].append(dphi_min_temp)\n",
    "jetMet_dPhiMin30[k] = np.array(jetMet_dPhiMin30[k])\n",
    "\n",
    "\n",
    "cscClusterSize[k] =  T.array('cscRechitClusterSize')[sel_ev][:,0].flatten()\n",
    "print(len(cscClusterSize[k]), len(bdt_score[k]))"
   ]
  },
  {
   "cell_type": "code",
   "execution_count": 119,
   "metadata": {},
   "outputs": [
    {
     "name": "stdout",
     "output_type": "stream",
     "text": [
      "[3.3074658e-04 1.0181189e-02 1.5174421e-02 ... 6.7871541e-01 1.6649809e-02\n",
      " 4.7072092e-01]\n",
      "0.0025866031646728516\n"
     ]
    },
    {
     "name": "stderr",
     "output_type": "stream",
     "text": [
      "Warning in <TCanvas::Constructor>: Deleting canvas with same name: c\n"
     ]
    },
    {
     "data": {
      "image/png": "[encoded data removed]",
      "text/plain": [
       "<IPython.core.display.Image object>"
      ]
     },
     "metadata": {},
     "output_type": "display_data"
    }
   ],
   "source": [
    "# Plotting ncsc\n",
    "start_t = time.time()\n",
    "c = rt.TCanvas('c','c', 1000, 800)\n",
    "h = {}\n",
    "# leg = rt.TLegend(0.50,0.75,0.97,0.93)\n",
    "leg = rt.TLegend(0.58,0.70,0.94,0.85)\n",
    "leg.SetTextSize(0.022)\n",
    "# leg.SetTextFont(42)\n",
    "leg.SetEntrySeparation(0.01)\n",
    "print(bdt_score[k])\n",
    "# print(cscClusterSize[k].flatten())\n",
    "# h[k] = create_TH2D(np.column_stack((bdt_score[k], cscClusterSize[k])), axis_title = ['BDT score','N_{rechits}','Events'], binning=[50,0,1,50,0,600])\n",
    "h[k] = create_TH2D(np.column_stack((bdt_score[k], jetMet_dPhiMin30[k])), axis_title = ['BDT score','#Delta#phi(jet, met)','Events'], binning=[50,0,1,50,0,3.2])\n",
    "\n",
    "# h[k] = h[k].ProfileX()\n",
    "h[k].GetXaxis().SetLabelSize(0.04)\n",
    "\n",
    "h[k].SetLineColor(std_color_list[0])\n",
    "h[k].Draw('colz')\n",
    "c.SetRightMargin(0.2)\n",
    "\n",
    "\n",
    "# if setlog: \n",
    "c.SetLogz()\n",
    "c.Draw()\n",
    "print(time.time()-start_t)\n"
   ]
  },
  {
   "cell_type": "code",
   "execution_count": 137,
   "metadata": {},
   "outputs": [
    {
     "name": "stdout",
     "output_type": "stream",
     "text": [
      "(0.10037037162000934, 1.2045821838118213e-11)\n",
      "(0.030699242273632316, 0.03855791530022282)\n",
      "0.015852047556142668\n",
      "0.0 0.015852047556142668\n",
      "0.6 0.022781205505457997\n",
      "1 0.02486772486772487\n",
      "1.5 0.02476958525345622\n",
      "2 0.024163568773234202\n",
      "2.5 0.02193283070596299\n"
     ]
    }
   ],
   "source": [
    "import scipy\n",
    "# print(np.array(y_pred[y_test == 0]))\n",
    "# print(np.array(cscRechitClusterSize[indices_test][y_test == 0]).flatten())\n",
    "print(scipy.stats.pearsonr(bdt_score[k], cscClusterSize[k]))\n",
    "print(scipy.stats.pearsonr(bdt_score[k], jetMet_dPhiMin30[k]))\n",
    "\n",
    "# wp90 =  0.9598022\n",
    "wp90 =  0.7802247\n",
    "outDir = '/storage/user/christiw/login-1/christiw/LLP/CMSSW_10_2_13/src/HiggsAnalysis/MuonSystemLimit/data/'\n",
    "fileName = 'bdt_flatten_metfilter_me1112nohits_eta2p1_testsize0p2_abs_EtaPhi_v2'\n",
    "text_file = open(outDir+fileName+\".txt\", \"w\")\n",
    "print(np.count_nonzero(bdt_score[k]>wp90)/len(bdt_score[k]))\n",
    "# for n_rechit in np.arange(50,300,10):\n",
    "#     cond1 = cscClusterSize[k]> n_rechit\n",
    "#     cond2 =  bdt_score[k] > wp90\n",
    "#     cond_gt = np.logical_and(cond1, cond2)\n",
    "#     cond_lt = np.logical_and(np.logical_not(cond1), cond2)\n",
    "#     print(n_rechit, np.count_nonzero(cond_lt)/np.count_nonzero(np.logical_not(cond1)), np.count_nonzero(cond_gt)/np.count_nonzero(cond1))\n",
    "    \n",
    "#     text_file.write('{0}, {1}, {2} \\n'.format(n_rechit, np.count_nonzero(cond_lt)/np.count_nonzero(cond1), np.count_nonzero(cond_gt)/np.count_nonzero(cond1)))\n",
    "\n",
    "    \n",
    "\n",
    "for dphi in [0.0, 0.6, 1, 1.5, 2, 2.5]:\n",
    "    cond1 = jetMet_dPhiMin30[k] >= dphi\n",
    "    cond2 = bdt_score[k] > wp90\n",
    "    cond_gt = np.logical_and(cond1, cond2)\n",
    "    cond_lt = np.logical_and(np.logical_not(cond1), cond2)\n",
    "#     print(np.count_nonzero(cond1))\n",
    "#     print(\"n_rechits\", str(n_rechit), np.count_nonzero(cond)/np.count_nonzero(cond1))\n",
    "#     print( str(n_rechit), np.count_nonzero(cond1), np.count_nonzero(cond)/np.count_nonzero(cond1))\n",
    "#     print( str(dphi), np.count_nonzero(cond)/np.count_nonzero(cond1))\n",
    "#     print(len(cond1), np.count_nonzero(np.logical_not(cond1)), np.count_nonzero(cond1))\n",
    "#     print(dphi, np.count_nonzero(cond_lt)/np.count_nonzero(np.logical_not(cond1)), np.count_nonzero(cond_gt)/np.count_nonzero(cond1))\n",
    "    print(dphi, np.count_nonzero(cond_gt)/np.count_nonzero(cond1))\n",
    "\n",
    "#     cond1 = jetMet_dPhiMin30[k] < dphi\n",
    "#     cond2 = bdt_score[k] > wp90\n",
    "#     cond = np.logical_and(cond1[:,0], cond2)\n",
    "#     print(\"n_rechits\", str(n_rechit), np.count_nonzero(cond)/np.count_nonzero(cond1[:,0]))\n",
    "\n",
    "    \n",
    "text_file.close()\n",
    "\n",
    "    "
   ]
  },
  {
   "cell_type": "code",
   "execution_count": null,
   "metadata": {},
   "outputs": [],
   "source": []
  },
  {
   "cell_type": "code",
   "execution_count": null,
   "metadata": {},
   "outputs": [],
   "source": []
  },
  {
   "cell_type": "markdown",
   "metadata": {
    "heading_collapsed": true
   },
   "source": [
    "# event yield vs. ncsc"
   ]
  },
  {
   "cell_type": "code",
   "execution_count": null,
   "metadata": {},
   "outputs": [],
   "source": []
  },
  {
   "cell_type": "code",
   "execution_count": null,
   "metadata": {
    "hidden": true
   },
   "outputs": [],
   "source": []
  },
  {
   "cell_type": "code",
   "execution_count": null,
   "metadata": {
    "hidden": true
   },
   "outputs": [],
   "source": []
  },
  {
   "cell_type": "markdown",
   "metadata": {},
   "source": [
    "# significance"
   ]
  },
  {
   "cell_type": "code",
   "execution_count": null,
   "metadata": {},
   "outputs": [],
   "source": []
  },
  {
   "cell_type": "code",
   "execution_count": null,
   "metadata": {},
   "outputs": [],
   "source": [
    "\n"
   ]
  },
  {
   "cell_type": "code",
   "execution_count": null,
   "metadata": {
    "hidden": true
   },
   "outputs": [],
   "source": []
  },
  {
   "cell_type": "code",
   "execution_count": null,
   "metadata": {
    "hidden": true
   },
   "outputs": [],
   "source": []
  },
  {
   "cell_type": "code",
   "execution_count": null,
   "metadata": {
    "hidden": true
   },
   "outputs": [],
   "source": []
  },
  {
   "cell_type": "code",
   "execution_count": null,
   "metadata": {},
   "outputs": [],
   "source": []
  },
  {
   "cell_type": "code",
   "execution_count": null,
   "metadata": {
    "hidden": true
   },
   "outputs": [],
   "source": []
  },
  {
   "cell_type": "code",
   "execution_count": null,
   "metadata": {},
   "outputs": [],
   "source": []
  },
  {
   "cell_type": "code",
   "execution_count": null,
   "metadata": {},
   "outputs": [],
   "source": []
  },
  {
   "cell_type": "code",
   "execution_count": null,
   "metadata": {},
   "outputs": [],
   "source": []
  },
  {
   "cell_type": "code",
   "execution_count": null,
   "metadata": {},
   "outputs": [],
   "source": []
  },
  {
   "cell_type": "code",
   "execution_count": null,
   "metadata": {},
   "outputs": [],
   "source": []
  },
  {
   "cell_type": "code",
   "execution_count": null,
   "metadata": {},
   "outputs": [],
   "source": [
    "\n"
   ]
  },
  {
   "cell_type": "code",
   "execution_count": null,
   "metadata": {},
   "outputs": [],
   "source": []
  },
  {
   "cell_type": "code",
   "execution_count": null,
   "metadata": {},
   "outputs": [],
   "source": []
  },
  {
   "cell_type": "code",
   "execution_count": null,
   "metadata": {},
   "outputs": [],
   "source": []
  },
  {
   "cell_type": "code",
   "execution_count": null,
   "metadata": {},
   "outputs": [],
   "source": []
  },
  {
   "cell_type": "code",
   "execution_count": null,
   "metadata": {},
   "outputs": [],
   "source": []
  },
  {
   "cell_type": "code",
   "execution_count": null,
   "metadata": {},
   "outputs": [],
   "source": []
  },
  {
   "cell_type": "code",
   "execution_count": null,
   "metadata": {},
   "outputs": [],
   "source": []
  },
  {
   "cell_type": "code",
   "execution_count": null,
   "metadata": {},
   "outputs": [],
   "source": []
  },
  {
   "cell_type": "code",
   "execution_count": null,
   "metadata": {},
   "outputs": [],
   "source": []
  },
  {
   "cell_type": "code",
   "execution_count": null,
   "metadata": {},
   "outputs": [],
   "source": []
  },
  {
   "cell_type": "code",
   "execution_count": null,
   "metadata": {},
   "outputs": [],
   "source": []
  }
 ],
 "metadata": {
  "kernelspec": {
   "display_name": "Python 2",
   "language": "python",
   "name": "python2"
  },
  "language_info": {
   "codemirror_mode": {
    "name": "ipython",
    "version": 3
   },
   "file_extension": ".py",
   "mimetype": "text/x-python",
   "name": "python",
   "nbconvert_exporter": "python",
   "pygments_lexer": "ipython3",
   "version": "3.6.8"
  }
 },
 "nbformat": 4,
 "nbformat_minor": 4
}
