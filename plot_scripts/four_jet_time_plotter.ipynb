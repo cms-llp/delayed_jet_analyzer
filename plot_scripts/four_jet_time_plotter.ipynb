{
 "cells": [
  {
   "cell_type": "code",
   "execution_count": 1,
   "metadata": {},
   "outputs": [
    {
     "name": "stdout",
     "output_type": "stream",
     "text": [
      "Welcome to JupyROOT 6.13/02\n"
     ]
    }
   ],
   "source": [
    "import ROOT as rt\n",
    "import root_numpy as rtnp\n",
    "import numpy as np\n",
    "from matplotlib import pyplot as plt\n",
    "from histo_utilities import create_TH1D, create_TH2D, std_color_list\n",
    "\n",
    "import CMS_lumi, tdrstyle\n",
    "tdrstyle.setTDRStyle()\n",
    "CMS_lumi.writeExtraText = 1\n",
    "CMS_lumi.extraText = \"     Simulation Preliminary\"\n",
    "\n",
    "donotdelete = []"
   ]
  },
  {
   "cell_type": "code",
   "execution_count": 2,
   "metadata": {},
   "outputs": [],
   "source": [
    "from array import array"
   ]
  },
  {
   "cell_type": "code",
   "execution_count": 3,
   "metadata": {},
   "outputs": [
    {
     "name": "stdout",
     "output_type": "stream",
     "text": [
      "m500ctau1000 /home/cms/Desktop/LLP/jetNtuple_4jet/jetNtuple_M-500_CTau-1000mm.root\n",
      "[527.2854   412.97708   16.819384  13.449993  10.936189  10.413826]\n"
     ]
    }
   ],
   "source": [
    "fpath = {}\n",
    "tree = {}\n",
    "process = {}\n",
    "process_short = {}\n",
    "\n",
    "fpath['m500ctau1000'] = '/home/cms/Desktop/LLP/jetNtuple_4jet/jetNtuple_M-500_CTau-1000mm.root'\n",
    "process['glueBall'] = 'pp #rightarrow h*h* #rightarrow jj#nu#nu'\n",
    "process_short['glueBall'] = 'pp #rightarrow h*h* #rightarrow jj#nu#nu'\n",
    "\n",
    "\n",
    "for k,v in fpath.iteritems():\n",
    "    print k, v\n",
    "    tree[k] = rtnp.root2array(v)\n",
    "    #tree[k] = rtnp.tree2array(v)\n",
    "    #jet_max_pt_array = [np.max(x) for x in tree[k][\"jetPt\"]]\n",
    "    a = tree[k][\"jetPt\"]\n",
    "    print a[:-1][0]"
   ]
  },
  {
   "cell_type": "code",
   "execution_count": 4,
   "metadata": {},
   "outputs": [],
   "source": [
    "T = tree['m500ctau1000']"
   ]
  },
  {
   "cell_type": "code",
   "execution_count": 5,
   "metadata": {},
   "outputs": [
    {
     "name": "stdout",
     "output_type": "stream",
     "text": [
      "10000\n"
     ]
    }
   ],
   "source": [
    "#get first jet pt per event\n",
    "#T['jetPt'][0]\n",
    "first_jet_pt = [x[0] if len(x) else -1 for x in T['jetPt']]\n",
    "print(len(first_jet_pt))"
   ]
  },
  {
   "cell_type": "markdown",
   "metadata": {},
   "source": [
    "# Reco Time"
   ]
  },
  {
   "cell_type": "code",
   "execution_count": 6,
   "metadata": {
    "scrolled": false
   },
   "outputs": [
    {
     "name": "stderr",
     "output_type": "stream",
     "text": [
      "Warning in <TROOT::Append>: Replacing existing TH1: max_jet_reco_time (Potential memory leak).\n",
      "Warning in <TROOT::Append>: Replacing existing TH1: max_jet_reco_time (Potential memory leak).\n",
      "Warning in <TROOT::Append>: Replacing existing TH1: max_jet_reco_time (Potential memory leak).\n",
      "Warning in <TROOT::Append>: Replacing existing TH1: max_jet_reco_time (Potential memory leak).\n",
      "Info in <TCanvas::Print>: pdf file max_jet_reco_time.pdf has been created\n"
     ]
    },
    {
     "data": {
      "image/png": "[encoded data removed]",
      "text/plain": [
       "<IPython.core.display.Image object>"
      ]
     },
     "metadata": {},
     "output_type": "display_data"
    }
   ],
   "source": [
    "max_jet_reco_time = np.array([x[0] if len(x) else -1 for x in T['jet_rechit_T']])\n",
    "max_jet_reco_time1 = np.array([x[0] if len(x) else -1 for x in T['jet_rechit_T_Ecut1']])\n",
    "max_jet_reco_time2 = np.array([x[0] if len(x) else -1 for x in T['jet_rechit_T_Ecut2']])\n",
    "max_jet_reco_time3 = np.array([x[0] if len(x) else -1 for x in T['jet_rechit_T_Ecut3']])\n",
    "max_jet_reco_time4 = np.array([x[0] if len(x) else -1 for x in T['jet_rechit_T_Ecut4']])\n",
    "\n",
    "# for i in range(len(T['jet_rechit_T'])):\n",
    "#     for j in range(len(T['jet_rechit_T'][i])):\n",
    "#         if not np.isnan(T['jet_rechit_T'][i][j]):\n",
    "#             max_jet_reco_time.append(T['jet_rechit_T'][i][j])\n",
    "\n",
    "\n",
    "\n",
    "\n",
    "c = rt.TCanvas('c','c', 800, 600)\n",
    "h = {}\n",
    "# h['max_jet_pv_reco_time'] = create_TH1D( max_jet_pv_reco_time, axis_title=['Reconstructed time [ns]', 'events'], name='max_jet_pv_reco_time', binning=[200,-5,15])\n",
    "h['max_jet_reco_time'] = create_TH1D( max_jet_reco_time, axis_title=['Reconstructed time [ns]', 'events'], name='max_jet_reco_time', binning=[200,-15,15])\n",
    "h['max_jet_reco_time1'] = create_TH1D( max_jet_reco_time1, axis_title=['Reconstructed time [ns]', 'events'], name='max_jet_reco_time', binning=[200,-15,15])\n",
    "h['max_jet_reco_time2'] = create_TH1D( max_jet_reco_time2, axis_title=['Reconstructed time [ns]', 'events'], name='max_jet_reco_time', binning=[200,-15,15])\n",
    "h['max_jet_reco_time3'] = create_TH1D( max_jet_reco_time3, axis_title=['Reconstructed time [ns]', 'events'], name='max_jet_reco_time', binning=[200,-15,15])\n",
    "h['max_jet_reco_time4'] = create_TH1D( max_jet_reco_time4, axis_title=['Reconstructed time [ns]', 'events'], name='max_jet_reco_time', binning=[200,-15,15])\n",
    "\n",
    "# c.SetLogy()\n",
    "h['max_jet_reco_time'].SetLineColor(1)\n",
    "h['max_jet_reco_time1'].SetLineColor(2)\n",
    "h['max_jet_reco_time2'].SetLineColor(4)\n",
    "h['max_jet_reco_time3'].SetLineColor(8)\n",
    "h['max_jet_reco_time4'].SetLineColor(6)\n",
    "\n",
    "# h['max_jet_reco_time'].GetYaxis().SetRangeUser(0.00001,10000)\n",
    "h['max_jet_reco_time1'].DrawNormalized('')\n",
    "h['max_jet_reco_time2'].DrawNormalized('same')\n",
    "h['max_jet_reco_time3'].DrawNormalized('same')\n",
    "h['max_jet_reco_time4'].DrawNormalized('same')\n",
    "h['max_jet_reco_time'].DrawNormalized('same')\n",
    "\n",
    "# h['max_jet_reco_time4'].GetYaxis().SetRangeUser(0,1)\n",
    "\n",
    "# print(h['max_jet_pv_reco_time'].Integral())\n",
    "\n",
    "# h['max_jet_pv_reco_time'].Draw('same')\n",
    "c.SetLogy()\n",
    "c.Draw()\n",
    "c.SaveAs(\"max_jet_reco_time.pdf\")"
   ]
  },
  {
   "cell_type": "markdown",
   "metadata": {},
   "source": [
    "# Gen Time"
   ]
  },
  {
   "cell_type": "code",
   "execution_count": 11,
   "metadata": {},
   "outputs": [
    {
     "name": "stdout",
     "output_type": "stream",
     "text": [
      "10000\n",
      "9729.0\n"
     ]
    },
    {
     "name": "stderr",
     "output_type": "stream",
     "text": [
      "Warning in <TCanvas::Constructor>: Deleting canvas with same name: c\n",
      "Warning in <TROOT::Append>: Replacing existing TH1: max_pt_gen_time (Potential memory leak).\n",
      "Info in <TCanvas::Print>: pdf file max_pt_gen_time.pdf has been created\n"
     ]
    },
    {
     "data": {
      "image/png": "[encoded data removed]",
      "text/plain": [
       "<IPython.core.display.Image object>"
      ]
     },
     "metadata": {},
     "output_type": "display_data"
    }
   ],
   "source": [
    "gLLP_travel_time = T['gLLP_travel_time']\n",
    "genVertexT = T['genVertexT']\n",
    "gLLP_daughter_travel_time = T['gLLP_daughter_travel_time']\n",
    "gen_time = np.column_stack((gLLP_travel_time[:,0],gLLP_travel_time[:,0],gLLP_travel_time[:,1],gLLP_travel_time[:,1]))+gLLP_daughter_travel_time\n",
    "gen_time_nobs = np.reshape(genVertexT,(-1,1)) + gen_time #without beamspot correction\n",
    "max_pt_gen_time = np.array([np.max(x) if len(x) else -1 for x in gen_time])\n",
    "max_pt_gen_time_nobs = np.array([np.max(x) if len(x) else -1 for x in gen_time_nobs])\n",
    "\n",
    "c = rt.TCanvas('c','c', 800, 600)\n",
    "h = {}\n",
    "h['max_pt_gen_time_nobs'] = create_TH1D( max_pt_gen_time_nobs, axis_title=['t_gen [ns]', 'events'], name='max_pt_gen_time', binning=[200,-5,15])\n",
    "\n",
    "h['max_pt_gen_time'] = create_TH1D( max_pt_gen_time, axis_title=['t_gen [ns]', 'events'], name='max_pt_gen_time', binning=[200,-5,15])\n",
    "h['max_pt_gen_time'].SetLineColor(4)\n",
    "# c.SetLogy()\n",
    "print(len(max_pt_gen_time))\n",
    "print(h['max_pt_gen_time'].Integral())\n",
    "h['max_pt_gen_time'].Draw()\n",
    "h['max_pt_gen_time_nobs'].Draw('same')\n",
    "\n",
    "c.Draw()\n",
    "c.SaveAs(\"max_pt_gen_time.pdf\")"
   ]
  },
  {
   "cell_type": "code",
   "execution_count": 8,
   "metadata": {},
   "outputs": [
    {
     "name": "stdout",
     "output_type": "stream",
     "text": [
      "(6509, 2)\n"
     ]
    }
   ],
   "source": [
    "gLLP_decay_radius = np.sqrt(np.square(T['gLLP_decay_vertex_x'])+np.square(T['gLLP_decay_vertex_y'])) # (events, 2) 2LLP\n",
    "gLLP_daughter_match_jet_index = T['gLLP_daughter_match_jet_index']\n",
    "gLLP_daughter_travel_time = T['gLLP_daughter_travel_time']\n",
    "genVertexT = T['genVertexT']\n",
    "matched_jets = np.logical_and(np.logical_not( gLLP_daughter_travel_time == -666), np.logical_not( gLLP_daughter_match_jet_index == 666))\n",
    "gen_time = np.column_stack((gLLP_travel_time[:,0],gLLP_travel_time[:,0],gLLP_travel_time[:,1],gLLP_travel_time[:,1]))+gLLP_daughter_travel_time\n",
    "jet_pt =T['jetPt']\n",
    "gLLP_daughter_match_jet_index = gLLP_daughter_match_jet_index[matched_jets]\n",
    "rechit_T_1 =  T['jet_rechit_T_Ecut1']\n",
    "rechit_T_2 =  T['jet_rechit_T_Ecut2']\n",
    "rechit_T_3 =  T['jet_rechit_T_Ecut3']\n",
    "rechit_T_4 =  T['jet_rechit_T_Ecut4']\n",
    "rechit_E_1 =  T['jet_rechit_E_Ecut1']\n",
    "rechit_E =  T['jet_rechit_E']\n",
    "rechit_T =  T['jet_rechit_T']\n",
    "\n",
    "jet_pt =  T['jetPt']\n",
    "\n",
    "time_response = []\n",
    "time_ecal = []\n",
    "time_rechitcut = []\n",
    "\n",
    "\n",
    "time_tgen = []\n",
    "time_pt = []\n",
    "for i in range(len(T['gLLP_daughter_match_jet_index'])): #loop through each event\n",
    "    max_pt = 0\n",
    "    max_pt_index = 666\n",
    "    for j in range(4): #loop through each gen jet\n",
    "        index = T['gLLP_daughter_match_jet_index'][i][j]\n",
    "        if not index == 666 and matched_jets[i][j]: #matched and barrel jets\n",
    "            if jet_pt[i][index]>max_pt:\n",
    "                t_reco = rechit_T_1[i][index]\n",
    "                max_pt = jet_pt[i][index]\n",
    "                max_pt_index = j\n",
    "            if j <= 1:\n",
    "                llpid = 0\n",
    "            else:\n",
    "                llpid = 1\n",
    "    if not max_pt_index == 666:\n",
    "        jet_index = T['gLLP_daughter_match_jet_index'][i][max_pt_index]\n",
    "        time_response.append(t_reco-gen_time[i][max_pt_index])\n",
    "        time_tgen.append([t_reco-gen_time[i][max_pt_index], gen_time[i][max_pt_index]])\n",
    "        time_ecal.append([t_reco-gen_time[i][max_pt_index],rechit_E_1[i][jet_index]])\n",
    "        time_rechitcut.append([rechit_T[i][jet_index]-gen_time[i][max_pt_index],rechit_T_1[i][jet_index]-gen_time[i][max_pt_index],rechit_T_2[i][jet_index]-gen_time[i][max_pt_index],rechit_T_3[i][jet_index]-gen_time[i][max_pt_index],rechit_T_4[i][jet_index]-gen_time[i][max_pt_index]])\n",
    "\n",
    "\n",
    "        time_pt.append([t_reco-gen_time[i][max_pt_index],jet_pt[i][jet_index]])\n",
    "\n",
    "time_ecal = np.array(time_ecal)\n",
    "time_tgen = np.array(time_tgen)\n",
    "time_pt = np.array(time_pt)\n",
    "time_rechitcut = np.array(time_rechitcut)\n",
    "print(time_ecal.shape)"
   ]
  },
  {
   "cell_type": "markdown",
   "metadata": {},
   "source": [
    "# Time in rechit cut"
   ]
  },
  {
   "cell_type": "code",
   "execution_count": 13,
   "metadata": {},
   "outputs": [
    {
     "name": "stderr",
     "output_type": "stream",
     "text": [
      "Warning in <TCanvas::Constructor>: Deleting canvas with same name: c\n",
      "Warning in <TROOT::Append>: Replacing existing TH1: max_jet_ecal (Potential memory leak).\n",
      "Info in <TCanvas::Print>: pdf file pt.pdf has been created\n"
     ]
    },
    {
     "data": {
      "image/png": "[encoded data removed]",
      "text/plain": [
       "<IPython.core.display.Image object>"
      ]
     },
     "metadata": {},
     "output_type": "display_data"
    }
   ],
   "source": [
    "c = rt.TCanvas('c','c', 800, 600)\n",
    "h['time_rechitcut'] = create_TH1D(time_rechitcut[:,4], axis_title=['Time [ns]', 'events'], name='max_jet_ecal', binning=[200,-15,15])\n",
    "h['time_rechitcut'].SetLineColor(4)\n",
    "c.SetLogy()\n",
    "h['time_rechitcut'].Draw()\n",
    "h['max_pt_gen_time'].Draw('same')\n",
    "\n",
    "c.Draw()\n",
    "c.SaveAs(\"pt.pdf\")"
   ]
  },
  {
   "cell_type": "code",
   "execution_count": 197,
   "metadata": {},
   "outputs": [
    {
     "name": "stdout",
     "output_type": "stream",
     "text": [
      "5995.0\n",
      "5751.0\n",
      "5539.0\n",
      "5400.0\n",
      "5259.0\n"
     ]
    },
    {
     "name": "stderr",
     "output_type": "stream",
     "text": [
      "Warning in <TROOT::Append>: Replacing existing TH1: h0 (Potential memory leak).\n",
      "Warning in <TROOT::Append>: Replacing existing TH1: h1 (Potential memory leak).\n",
      "Warning in <TROOT::Append>: Replacing existing TH1: h2 (Potential memory leak).\n",
      "Warning in <TROOT::Append>: Replacing existing TH1: h3 (Potential memory leak).\n",
      "Warning in <TROOT::Append>: Replacing existing TH1: h4 (Potential memory leak).\n",
      "Info in <TCanvas::Print>: pdf file time_response_rechit.pdf has been created\n"
     ]
    },
    {
     "data": {
      "image/png": "[encoded data removed]",
      "text/plain": [
       "<IPython.core.display.Image object>"
      ]
     },
     "metadata": {},
     "output_type": "display_data"
    }
   ],
   "source": [
    "c = rt.TCanvas('c1','c1', 800, 600)\n",
    "leg = rt.TLegend(0.55,0.60,0.95,0.92)\n",
    "# leg.SetTextFont(42)\n",
    "leg.SetTextSize(0.03)\n",
    "leg.SetEntrySeparation(0.01)\n",
    "# # Create 2d numpy array matched-jets vs. LLP decay radius\n",
    "h = {}\n",
    "proj = []\n",
    "\n",
    "\n",
    "    \n",
    "for i in range(len(bins)-1):\n",
    "    key = 'bin'+str(i)\n",
    "    h['time_rechitcut'] = create_TH1D(time_rechitcut[:,i], axis_title=['t_Reco - t_gen', 'events'], name=\"h\"+str(i), binning=[12000,-10,10])\n",
    "\n",
    "    proj.append(h['time_rechitcut'])\n",
    "    if i == 0:\n",
    "        leg.AddEntry(proj[i],'no ECAL rechit cut')\n",
    "\n",
    "    else:\n",
    "        leg.AddEntry(proj[i],'ECAL rechit cut '+str(i)+' GeV')\n",
    "\n",
    "proj[0].GetYaxis().SetTitle(\"Events\")\n",
    "proj[0].GetYaxis().SetRangeUser(0,1)\n",
    "line_color = [1,2,3,6,8]\n",
    "for i in range(len(bins)-1):\n",
    "    proj[i].SetLineColor(line_color[i])\n",
    "    print(proj[i].Integral())\n",
    "#     proj[i].Rebin(30)\n",
    "    proj[i].Scale(1./proj[i].Integral())\n",
    "    proj[i].GetYaxis().SetRangeUser(0,0.1)\n",
    "    proj[i].GetXaxis().SetRangeUser(-3,5)\n",
    "\n",
    "    if i == 0:\n",
    "        proj[i].DrawCopy()\n",
    "    if i == 2:\n",
    "        proj[i].SetLineColor(4)\n",
    "\n",
    "    proj[i].DrawCopy('SAME')\n",
    "proj[2].GetYaxis().SetRangeUser(0,1)\n",
    "\n",
    "leg.Draw()\n",
    "# c.SetLogy()\n",
    "c.Draw()\n",
    "\n",
    "# c.SaveAs('time_response_ecal.pdf')\n",
    "assert(len(bins)-1 == len(proj))\n",
    "c.SaveAs(\"time_response_rechit.pdf\")"
   ]
  },
  {
   "cell_type": "code",
   "execution_count": 199,
   "metadata": {},
   "outputs": [
    {
     "name": "stdout",
     "output_type": "stream",
     "text": [
      "1\n",
      "0.00166666666667\n",
      "1\n",
      "0.00166666666667\n",
      "1\n",
      "0.00166666666667\n",
      "1\n",
      "0.00166666666667\n",
      "1\n",
      "0.00166666666667\n"
     ]
    },
    {
     "name": "stderr",
     "output_type": "stream",
     "text": [
      "Warning in <TCanvas::Constructor>: Deleting canvas with same name: c\n",
      "Warning in <TROOT::Append>: Replacing existing TH1: trd (Potential memory leak).\n",
      "Warning in <TROOT::Append>: Replacing existing TH1: scale (Potential memory leak).\n",
      "Info in <TCanvas::Print>: pdf file time_res_ecal_rechit.pdf has been created\n"
     ]
    },
    {
     "data": {
      "image/png": "[encoded data removed]",
      "text/plain": [
       "<IPython.core.display.Image object>"
      ]
     },
     "metadata": {},
     "output_type": "display_data"
    }
   ],
   "source": [
    "### response w.r.t time gen\n",
    "\n",
    "sigma_eff = True\n",
    "c = rt.TCanvas('c', 'c', 800, 600)\n",
    "# legend = rt.TLegend(0.15,0.70,0.4,0.9);\n",
    "# legend.AddEntry(time_res_plots[0],'M 500 GeV, CTau 1000 mm')\n",
    "# legend.AddEntry(time_Ecut1_median_plots[1],'QCD HT 300-500GeV')\n",
    "\n",
    "\n",
    "rt.gStyle.SetOptStat(000)\n",
    "# print(h['time_ecal'].GetXaxis().GetNbins())\n",
    "assert(len(bins)-1 == len(proj))\n",
    "\n",
    "    \n",
    "x_bins = [x-1 for x in bins]\n",
    "res = rt.TH1F('trd','res', len(bins)-1,array( 'f', x_bins))\n",
    "scale = rt.TH1F('scale','scale',len(bins)-1,array( 'f', x_bins))\n",
    "for i in range(len(proj)):\n",
    "    h1 = proj[i] \n",
    "    hnew = h1.Clone(\"hnew\")\n",
    "    hnew = hnew.Rebin(30)\n",
    "    SS = rt.TSpectrum()\n",
    "    n_pks = SS.Search(hnew, 0.1, \"\", 0.5)\n",
    "    x_pos = SS.GetPositionX()\n",
    "    y_pos = SS.GetPositionY()\n",
    "    pks = []\n",
    "    print(n_pks)\n",
    "#     if i==7:\n",
    "#         h1.Rebin()\n",
    "#         h1.DrawCopy()\n",
    "#         break\n",
    "    n_pk = hnew.FindBin(x_pos[0])\n",
    "    thr = 0.5 * hnew.GetBinContent(n_pk)\n",
    "    n_low = n_pk\n",
    "    while hnew.GetBinContent(n_low) > thr:\n",
    "        n_low -= 1\n",
    "    x_low = hnew.GetBinCenter(n_low)    \n",
    "    n_up = n_pk\n",
    "    while hnew.GetBinContent(n_up) > thr:\n",
    "        n_up += 1\n",
    "    x_up = hnew.GetBinCenter(n_up)\n",
    "    r = hnew.Fit('gaus', 'LRSQ+', '', x_low, x_up)\n",
    "    r = r.Get()\n",
    "    scale.SetBinContent(i+1,r.Parameter(1))\n",
    "    scale.SetBinError(i+1,r.ParError(1))\n",
    "    if abs(r.Parameter(1)-hnew.GetMean())>1:\n",
    "        print(\"scale fit warning\", i,r.Parameter(1),hnew.GetMean())\n",
    "    if n_pks == 0:\n",
    "        hnew.SetLineColor(4)\n",
    "        hnew.Rebin(2)\n",
    "#         print(r.Parameter(1))\n",
    "        hnew.GetXaxis().SetRangeUser(-5,5)\n",
    "        hnew.DrawCopy()\n",
    "        break\n",
    "    \n",
    "    if sigma_eff:\n",
    "        n_pk = h1.FindBin(x_pos[0])\n",
    "        thr = 0.68 * h1.Integral()\n",
    "        counter = h1.GetBinContent(n_pk)*1.0\n",
    "        n_low = n_pk\n",
    "        n_up = n_pk\n",
    "        flag = True\n",
    "        while counter < thr:\n",
    "            if flag:\n",
    "                n_low -= 1\n",
    "                counter += h1.GetBinContent(n_low)\n",
    "            else:\n",
    "                n_up += 1\n",
    "                counter += h1.GetBinContent(n_up)\n",
    "            flag = not flag\n",
    "        sigma_eff = (n_up - n_low) *h1.GetBinWidth(1)\n",
    "#         sigma_eff = h1.GetStdDev()\n",
    "        res.SetBinContent(i+1,sigma_eff)\n",
    "        res.SetBinError(i+1,h1.GetBinWidth(1))\n",
    "        print(h1.GetBinWidth(1))\n",
    "res.SetXTitle('ECAL Energy [GeV]')\n",
    "res.SetYTitle('Time Resolution [ns]')\n",
    "res.GetXaxis().SetRangeUser(0,400)\n",
    "# res.GetYaxis().SetRangeUser(0,1)\n",
    "\n",
    "# res.GetYaxis().SetRangeUser(0,0.5)\n",
    "scale.GetXaxis().SetRangeUser(0,400)\n",
    "scale.GetYaxis().SetRangeUser(-0.4,0.4)\n",
    "\n",
    "scale.SetXTitle('ECAL Rechit cut [GeV]')\n",
    "scale.SetYTitle('Time Scale [ns]')\n",
    "\n",
    "\n",
    "# scale.Scale(1000.)\n",
    "# res.Scale(1000.)\n",
    "res.DrawCopy()\n",
    "\n",
    "# # legend.Draw()\n",
    "c.Draw()\n",
    "\n",
    "c.SaveAs('time_res_ecal_rechit.pdf')"
   ]
  },
  {
   "cell_type": "markdown",
   "metadata": {
    "scrolled": false
   },
   "source": [
    "# Time in ECAL energy bins"
   ]
  },
  {
   "cell_type": "code",
   "execution_count": 65,
   "metadata": {
    "scrolled": false
   },
   "outputs": [
    {
     "name": "stderr",
     "output_type": "stream",
     "text": [
      "Info in <TCanvas::Print>: pdf file ecal_energy_ecut1.pdf has been created\n"
     ]
    },
    {
     "data": {
      "image/png": "[encoded data removed]",
      "text/plain": [
       "<IPython.core.display.Image object>"
      ]
     },
     "metadata": {},
     "output_type": "display_data"
    }
   ],
   "source": [
    "c = rt.TCanvas('c','c', 800, 600)\n",
    "h = {}\n",
    "h['ecal'] = create_TH1D(time_ecal[:,1], axis_title=['ECAL Energy [GeV]', 'events'], name='max_jet_ecal', binning=[200,0,2000])\n",
    "h['ecal'].SetLineColor(4)\n",
    "c.SetLogy()\n",
    "h['ecal'].Draw()\n",
    "c.Draw()\n",
    "c.SaveAs(\"ecal_energy_ecut1.pdf\")"
   ]
  },
  {
   "cell_type": "code",
   "execution_count": 40,
   "metadata": {},
   "outputs": [
    {
     "name": "stdout",
     "output_type": "stream",
     "text": [
      "353.0\n",
      "3479.0\n",
      "1920.0\n"
     ]
    },
    {
     "name": "stderr",
     "output_type": "stream",
     "text": [
      "Warning in <TCanvas::Constructor>: Deleting canvas with same name: c1\n",
      "Info in <TCanvas::Print>: pdf file time_response_ecal_ecut1.pdf has been created\n"
     ]
    },
    {
     "data": {
      "image/png": "[encoded data removed]",
      "text/plain": [
       "<IPython.core.display.Image object>"
      ]
     },
     "metadata": {},
     "output_type": "display_data"
    }
   ],
   "source": [
    "# Look at the number of rechits per jets in different LLP decay radius bin\n",
    "c = rt.TCanvas('c1','c1', 800, 600)\n",
    "leg = rt.TLegend(0.55,0.60,0.95,0.92)\n",
    "# leg.SetTextFont(42)\n",
    "leg.SetTextSize(0.03)\n",
    "leg.SetEntrySeparation(0.01)\n",
    "# # Create 2d numpy array matched-jets vs. LLP decay radius\n",
    "h = {}\n",
    "proj = []\n",
    "bin_low, bin_up = 30,50\n",
    "h['time_ecal'] = create_TH2D(time_ecal, axis_title = ['t_Reco - t_gen','ECAL energy [GeV]',''], binning=[12000,-10,15,200,0,2000])\n",
    "# bins = [1,10,45,201]\n",
    "\n",
    "bins = []\n",
    "i=0\n",
    "min_event = 100\n",
    "nbinsy =  h['time_ecal'].GetNbinsY()\n",
    "while i < nbinsy:\n",
    "    counter = 0\n",
    "    while counter < min_event:\n",
    "        h1 = h['time_ecal'].ProjectionX(\"h\"+str(i),i+1,i+1)\n",
    "        counter += h1.Integral()\n",
    "        i+=1\n",
    "        if i >nbinsy:\n",
    "            break\n",
    "    bins.append(i)\n",
    "\n",
    "bins = [1,10,45,201]\n",
    "    \n",
    "for i in range(len(bins)-1):\n",
    "    key = 'bin'+str(i)\n",
    "    proj.append(h['time_ecal'].ProjectionX(\"h\"+str(i),bins[i],bins[i+1]-1))\n",
    "    y_low = h['time_ecal'].GetYaxis().GetBinLowEdge(bins[i])\n",
    "    y_up = h['time_ecal'].GetYaxis().GetBinLowEdge(bins[i+1]-1)+h['time_ecal'].GetYaxis().GetBinWidth(1)\n",
    "    leg.AddEntry(proj[i],'ECAL energy '+str(y_low)+' - '+str(y_up)+' GeV')\n",
    "\n",
    "proj[2].GetYaxis().SetTitle(\"Events\")\n",
    "# proj[0].GetYaxis().SetRangeUser(0,1)\n",
    "\n",
    "for i in range(len(bins)-1):\n",
    "    index = len(bins)-2-i\n",
    "    proj[index].SetLineColor(i+1)\n",
    "    proj[index].Rebin(60)\n",
    "    print(proj[index].Integral())\n",
    "    proj[index].Scale(1./proj[index].Integral())\n",
    "#     proj[i].GetYaxis().SetRangeUser(0,0.35)\n",
    "\n",
    "    if i == 0:\n",
    "        proj[len(bins)-2-i].DrawCopy()\n",
    "    if i == 2:\n",
    "        proj[index].SetLineColor(4)\n",
    "\n",
    "    proj[len(bins)-2-i].DrawCopy('SAME')\n",
    "# proj[2].GetYaxis().SetRangeUser(0,1)\n",
    "\n",
    "leg.Draw()\n",
    "c.SetLogy()\n",
    "c.Draw()\n",
    "\n",
    "# c.SaveAs('time_response_ecal.pdf')\n",
    "assert(len(bins)-1 == len(proj))\n",
    "c.SaveAs(\"time_response_ecal_ecut1.pdf\")"
   ]
  },
  {
   "cell_type": "code",
   "execution_count": 27,
   "metadata": {},
   "outputs": [
    {
     "name": "stderr",
     "output_type": "stream",
     "text": [
      "Warning in <TCanvas::Constructor>: Deleting canvas with same name: c\n",
      "Warning in <TROOT::Append>: Replacing existing TH1: trd (Potential memory leak).\n",
      "Warning in <TROOT::Append>: Replacing existing TH1: trd (Potential memory leak).\n",
      "Warning in <TROOT::Append>: Replacing existing TH1: scale (Potential memory leak).\n",
      "Info in <TCanvas::Print>: pdf file time_res_ecal_energy_ecut1.pdf has been created\n"
     ]
    },
    {
     "data": {
      "image/png": "[encoded data removed]",
      "text/plain": [
       "<IPython.core.display.Image object>"
      ]
     },
     "metadata": {},
     "output_type": "display_data"
    }
   ],
   "source": [
    "### response w.r.t time gen\n",
    "\n",
    "sigma_eff = True\n",
    "c = rt.TCanvas('c', 'c', 800, 600)\n",
    "legend = rt.TLegend(0.65,0.70,0.9,0.9);\n",
    "\n",
    "\n",
    "rt.gStyle.SetOptStat(000)\n",
    "# print(h['time_ecal'].GetXaxis().GetNbins())\n",
    "assert(len(bins)-1 == len(proj))\n",
    "\n",
    "    \n",
    "x_bins = [x*10 for x in bins]\n",
    "res = rt.TH1F('trd','res', len(bins)-1,array( 'f', x_bins))\n",
    "res_eff = rt.TH1F('trd','res_eff', len(bins)-1,array( 'f', x_bins))\n",
    "\n",
    "scale = rt.TH1F('scale','scale',len(bins)-1,array( 'f', x_bins))\n",
    "for i in range(len(proj)):\n",
    "    h1 = proj[i]\n",
    "#     if i == 0:\n",
    "#         h1.Rebin(3)\n",
    "   \n",
    "    hnew = h1.Clone(\"hnew\")\n",
    "    hnew = hnew.Rebin(60)\n",
    "    SS = rt.TSpectrum()\n",
    "    n_pks = SS.Search(hnew, 0.1, \"\", 0.5)\n",
    "    x_pos = SS.GetPositionX()\n",
    "    y_pos = SS.GetPositionY()\n",
    "    pks = []\n",
    "    \n",
    "#     if i==7:\n",
    "#         h1.Rebin()\n",
    "#         h1.DrawCopy()\n",
    "#         break\n",
    "    n_pk = hnew.FindBin(x_pos[0])\n",
    "    thr = 0.5 * hnew.GetBinContent(n_pk)\n",
    "    n_low = n_pk\n",
    "    while hnew.GetBinContent(n_low) > thr:\n",
    "        n_low -= 1\n",
    "    x_low = hnew.GetBinCenter(n_low)    \n",
    "    n_up = n_pk\n",
    "    while hnew.GetBinContent(n_up) > thr:\n",
    "        n_up += 1\n",
    "    x_up = hnew.GetBinCenter(n_up)\n",
    "    r = hnew.Fit('gaus', 'LRSQ+', '', x_low, x_up)\n",
    "    r = r.Get()\n",
    "    scale.SetBinContent(i+1,r.Parameter(1))\n",
    "    scale.SetBinError(i+1,r.ParError(1))\n",
    "    if abs(r.Parameter(1)-hnew.GetMean())>1:\n",
    "        print(\"scale fit warning\", i,r.Parameter(1),hnew.GetMean())\n",
    "    if n_pks == 0:\n",
    "        hnew.SetLineColor(4)\n",
    "        hnew.Rebin(2)\n",
    "#         print(r.Parameter(1))\n",
    "        hnew.GetXaxis().SetRangeUser(-5,5)\n",
    "        hnew.DrawCopy()\n",
    "        print(i)\n",
    "        break\n",
    "    \n",
    "    if sigma_eff:\n",
    "        n_pk = h1.FindBin(x_pos[0])\n",
    "        thr = 0.68 * h1.Integral()\n",
    "        counter = h1.GetBinContent(n_pk)*1.0\n",
    "        n_low = n_pk\n",
    "        n_up = n_pk\n",
    "        flag = True\n",
    "        while counter < thr:\n",
    "            if flag:\n",
    "                n_low -= 1\n",
    "                counter += h1.GetBinContent(n_low)\n",
    "            else:\n",
    "                n_up += 1\n",
    "                counter += h1.GetBinContent(n_up)\n",
    "            flag = not flag\n",
    "        sigma_eff = (n_up - n_low) *h1.GetBinWidth(1)\n",
    "#         sigma_eff = h1.GetStdDev()\n",
    "        res.SetBinContent(i+1,sigma_eff)\n",
    "        res.SetBinError(i+1,h1.GetBinWidth(1))\n",
    "    res_eff.SetBinContent(i+1,r.Parameter(2))\n",
    "    res_eff.SetBinError(i+1,r.ParError(2))\n",
    "\n",
    "res.SetXTitle('ECAL Energy [GeV]')\n",
    "res.SetYTitle('Time Resolution [ns]')\n",
    "res.GetXaxis().SetRangeUser(0,400)\n",
    "res.GetYaxis().SetRangeUser(0,1.6)\n",
    "\n",
    "# res.GetYaxis().SetRangeUser(0,0.5)\n",
    "scale.GetXaxis().SetRangeUser(0,400)\n",
    "scale.GetYaxis().SetRangeUser(-0.4,0.4)\n",
    "\n",
    "scale.SetXTitle('ECAL Energy [GeV]')\n",
    "scale.SetYTitle('Time Scale [ns]')\n",
    "\n",
    "legend.AddEntry(res,'Sigma effective')\n",
    "legend.AddEntry(res_eff,'Sigma from Gaussian FIt')\n",
    "\n",
    "# scale.Scale(1000.)\n",
    "# res.Scale(1000.)\n",
    "res.SetLineColor(2)\n",
    "\n",
    "res.DrawCopy()\n",
    "res_eff.DrawCopy('same')\n",
    "\n",
    "legend.Draw()\n",
    "c.Draw()\n",
    "\n",
    "c.SaveAs('time_res_ecal_energy_ecut1.pdf')"
   ]
  },
  {
   "cell_type": "markdown",
   "metadata": {
    "scrolled": false
   },
   "source": [
    "# Time response in LLP decay radius bins"
   ]
  },
  {
   "cell_type": "code",
   "execution_count": 137,
   "metadata": {},
   "outputs": [
    {
     "name": "stdout",
     "output_type": "stream",
     "text": [
      "3334.0\n",
      "2193.0\n",
      "221.0\n"
     ]
    },
    {
     "name": "stderr",
     "output_type": "stream",
     "text": [
      "Warning in <TCanvas::Constructor>: Deleting canvas with same name: c1\n",
      "Info in <TCanvas::Print>: pdf file time_response_tgen.pdf has been created\n"
     ]
    },
    {
     "data": {
      "image/png": "[encoded data removed]",
      "text/plain": [
       "<IPython.core.display.Image object>"
      ]
     },
     "metadata": {},
     "output_type": "display_data"
    }
   ],
   "source": [
    "# Look at the number of rechits per jets in different LLP decay radius bin\n",
    "c = rt.TCanvas('c1','c1', 800, 600)\n",
    "leg = rt.TLegend(0.55,0.60,0.95,0.92)\n",
    "# leg.SetTextFont(42)\n",
    "leg.SetTextSize(0.03)\n",
    "leg.SetEntrySeparation(0.01)\n",
    "# # Create 2d numpy array matched-jets vs. LLP decay radius\n",
    "h = {}\n",
    "proj = []\n",
    "bin_low, bin_up = 30,50\n",
    "h['time_tgen'] = create_TH2D(time_tgen, axis_title = ['t_Reco - t_gen','t_gen [GeV]',''], binning=[6000,-10,15,500,-2,12])\n",
    "\n",
    "bins = []\n",
    "i=0\n",
    "min_event = 100\n",
    "nbinsy =  h['time_tgen'].GetNbinsY()\n",
    "while i < nbinsy:\n",
    "    counter = 0\n",
    "    while counter < min_event:\n",
    "        h1 = h['time_tgen'].ProjectionX(\"h\"+str(i),i+1,i+1)\n",
    "        counter += h1.Integral()\n",
    "        i+=1\n",
    "        if i >nbinsy:\n",
    "            break\n",
    "    bins.append(i)\n",
    "\n",
    "bins = bins[:len(bins)-2]+[bins[len(bins)-1]]\n",
    "\n",
    "bins = [1,100,180,501]\n",
    "\n",
    "for i in range(len(bins)-1):\n",
    "    key = 'bin'+str(i)\n",
    "    proj.append(h['time_tgen'].ProjectionX(\"h\"+str(i),bins[i],bins[i+1]-1))\n",
    "    y_low = h['time_tgen'].GetYaxis().GetBinLowEdge(bins[i])\n",
    "    y_up = h['time_tgen'].GetYaxis().GetBinLowEdge(bins[i+1]-1)+h['time_tgen'].GetYaxis().GetBinWidth(1)\n",
    "    leg.AddEntry(proj[i],'t_gen '+str(y_low)+' - '+str(y_up)+' ns')\n",
    "\n",
    "proj[0].GetYaxis().SetTitle(\"Events\")\n",
    "proj[0].GetYaxis().SetRangeUser(0,1)\n",
    "\n",
    "for i in range(len(bins)-1):\n",
    "    proj[i].SetLineColor(i+1)\n",
    "    proj[i].Rebin(60)\n",
    "    print(proj[i].Integral())\n",
    "    proj[i].Scale(1./proj[i].Integral())\n",
    "#     proj[i].GetYaxis().SetRangeUser(0,0.5)\n",
    "\n",
    "    if i == 0:\n",
    "        proj[i].DrawCopy()\n",
    "    if i == 2:\n",
    "        proj[i].SetLineColor(4)\n",
    "\n",
    "    proj[i].DrawCopy('SAME')\n",
    "proj[2].GetYaxis().SetRangeUser(0,1)\n",
    "\n",
    "leg.Draw()\n",
    "\n",
    "c.Draw()\n",
    "\n",
    "c.SaveAs('time_response_tgen.pdf')\n",
    "assert(len(bins)-1 == len(proj))\n"
   ]
  },
  {
   "cell_type": "code",
   "execution_count": 110,
   "metadata": {
    "scrolled": false
   },
   "outputs": [
    {
     "name": "stderr",
     "output_type": "stream",
     "text": [
      "Warning in <TCanvas::Constructor>: Deleting canvas with same name: c\n",
      "Warning in <TROOT::Append>: Replacing existing TH1: trd (Potential memory leak).\n",
      "Warning in <TROOT::Append>: Replacing existing TH1: scale (Potential memory leak).\n",
      "Info in <TCanvas::Print>: pdf file time_res_t_gen2.pdf has been created\n"
     ]
    },
    {
     "data": {
      "image/png": "[encoded data removed]",
      "text/plain": [
       "<IPython.core.display.Image object>"
      ]
     },
     "metadata": {},
     "output_type": "display_data"
    }
   ],
   "source": [
    "### response w.r.t time gen\n",
    "\n",
    "sigma_eff = True\n",
    "c = rt.TCanvas('c', 'c', 800, 600)\n",
    "# legend = rt.TLegend(0.15,0.70,0.4,0.9);\n",
    "# legend.AddEntry(time_res_plots[0],'M 500 GeV, CTau 1000 mm')\n",
    "# legend.AddEntry(time_Ecut1_median_plots[1],'QCD HT 300-500GeV')\n",
    "\n",
    "\n",
    "rt.gStyle.SetOptStat(000)\n",
    "# print(h['time_ecal'].GetXaxis().GetNbins())\n",
    "assert(len(bins)-1 == len(proj))\n",
    "\n",
    "    \n",
    "x_bins = [x*14.0/500-2 for x in bins]\n",
    "res = rt.TH1F('trd','res', len(bins)-1,array( 'f', x_bins))\n",
    "scale = rt.TH1F('scale','scale',len(bins)-1,array( 'f', x_bins))\n",
    "for i in range(len(proj)):\n",
    "    h1 = proj[i]\n",
    "#     if i == 0:\n",
    "#         h1.Rebin(3)\n",
    "   \n",
    "    hnew = h1.Clone(\"hnew\")\n",
    "    hnew = hnew.Rebin(25)\n",
    "    SS = rt.TSpectrum()\n",
    "    n_pks = SS.Search(hnew, 0.1, \"\", 0.5)\n",
    "    x_pos = SS.GetPositionX()\n",
    "    y_pos = SS.GetPositionY()\n",
    "    pks = []\n",
    "    \n",
    "#     if i==7:\n",
    "#         h1.Rebin()\n",
    "#         h1.DrawCopy()\n",
    "#         break\n",
    "    n_pk = hnew.FindBin(x_pos[0])\n",
    "    thr = 0.5 * hnew.GetBinContent(n_pk)\n",
    "    n_low = n_pk\n",
    "    while hnew.GetBinContent(n_low) > thr:\n",
    "        n_low -= 1\n",
    "    x_low = hnew.GetBinCenter(n_low)    \n",
    "    n_up = n_pk\n",
    "    while hnew.GetBinContent(n_up) > thr:\n",
    "        n_up += 1\n",
    "    x_up = hnew.GetBinCenter(n_up)\n",
    "    r = hnew.Fit('gaus', 'LRSQ+', '', x_low, x_up)\n",
    "    r = r.Get()\n",
    "    scale.SetBinContent(i+1,r.Parameter(1))\n",
    "    scale.SetBinError(i+1,r.ParError(1))\n",
    "    if abs(r.Parameter(1)-hnew.GetMean())>1:\n",
    "        print(\"scale fit warning\", i,r.Parameter(1),hnew.GetMean())\n",
    "    if n_pks == 0:\n",
    "        hnew.SetLineColor(4)\n",
    "        hnew.Rebin(2)\n",
    "#         print(r.Parameter(1))\n",
    "        hnew.GetXaxis().SetRangeUser(-5,5)\n",
    "        hnew.DrawCopy()\n",
    "        print(i)\n",
    "        break\n",
    "    \n",
    "    if sigma_eff:\n",
    "        n_pk = h1.FindBin(x_pos[0])\n",
    "        thr = 0.68 * h1.Integral()\n",
    "        counter = h1.GetBinContent(n_pk)*1.0\n",
    "        n_low = n_pk\n",
    "        n_up = n_pk\n",
    "        flag = True\n",
    "        while counter < thr:\n",
    "            if flag:\n",
    "                n_low -= 1\n",
    "                counter += h1.GetBinContent(n_low)\n",
    "            else:\n",
    "                n_up += 1\n",
    "                counter += h1.GetBinContent(n_up)\n",
    "            flag = not flag\n",
    "        sigma_eff = (n_up - n_low) *h1.GetBinWidth(1)\n",
    "#         sigma_eff = h1.GetStdDev()\n",
    "        res.SetBinContent(i+1,sigma_eff)\n",
    "        res.SetBinError(i+1,h1.GetBinWidth(1))\n",
    " \n",
    "\n",
    "\n",
    "res.SetXTitle('Generation Level Time [ns]')\n",
    "res.SetYTitle('Time Resolution [ns]')\n",
    "\n",
    "# res.GetYaxis().SetRangeUser(0,0.5)\n",
    "\n",
    "scale.SetXTitle('Generation Level Time [ns]')\n",
    "scale.SetYTitle('Time Scale [ns]')\n",
    "\n",
    "res.GetXaxis().SetRangeUser(-0.2,3.1)\n",
    "\n",
    "# scale.Scale(1000.)\n",
    "# res.Scale(1000.)\n",
    "scale.GetYaxis().SetRangeUser(-0.4,0.4)\n",
    "scale.GetXaxis().SetRangeUser(-0.2,3.1)\n",
    "res.DrawCopy()\n",
    "\n",
    "# # legend.Draw()\n",
    "c.Draw()\n",
    "\n",
    "c.SaveAs('time_res_t_gen2.pdf')"
   ]
  },
  {
   "cell_type": "code",
   "execution_count": 177,
   "metadata": {},
   "outputs": [],
   "source": []
  },
  {
   "cell_type": "code",
   "execution_count": null,
   "metadata": {},
   "outputs": [],
   "source": []
  },
  {
   "cell_type": "code",
   "execution_count": null,
   "metadata": {},
   "outputs": [],
   "source": []
  },
  {
   "cell_type": "code",
   "execution_count": null,
   "metadata": {},
   "outputs": [],
   "source": []
  },
  {
   "cell_type": "code",
   "execution_count": null,
   "metadata": {},
   "outputs": [],
   "source": []
  },
  {
   "cell_type": "code",
   "execution_count": null,
   "metadata": {},
   "outputs": [],
   "source": []
  },
  {
   "cell_type": "code",
   "execution_count": null,
   "metadata": {},
   "outputs": [],
   "source": []
  },
  {
   "cell_type": "code",
   "execution_count": null,
   "metadata": {},
   "outputs": [],
   "source": []
  },
  {
   "cell_type": "code",
   "execution_count": null,
   "metadata": {},
   "outputs": [],
   "source": []
  },
  {
   "cell_type": "code",
   "execution_count": null,
   "metadata": {},
   "outputs": [],
   "source": []
  },
  {
   "cell_type": "code",
   "execution_count": null,
   "metadata": {},
   "outputs": [],
   "source": []
  }
 ],
 "metadata": {
  "kernelspec": {
   "display_name": "Python 2",
   "language": "python",
   "name": "python2"
  },
  "language_info": {
   "codemirror_mode": {
    "name": "ipython",
    "version": 2
   },
   "file_extension": ".py",
   "mimetype": "text/x-python",
   "name": "python",
   "nbconvert_exporter": "python",
   "pygments_lexer": "ipython2",
   "version": "2.7.15rc1"
  }
 },
 "nbformat": 4,
 "nbformat_minor": 2
}
