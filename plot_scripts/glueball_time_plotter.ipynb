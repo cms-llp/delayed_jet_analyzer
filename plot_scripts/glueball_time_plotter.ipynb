{
 "cells": [
  {
   "cell_type": "code",
   "execution_count": 1,
   "metadata": {},
   "outputs": [
    {
     "name": "stdout",
     "output_type": "stream",
     "text": [
      "Welcome to JupyROOT 6.13/02\n"
     ]
    }
   ],
   "source": [
    "import ROOT as rt\n",
    "import root_numpy as rtnp\n",
    "import numpy as np\n",
    "from matplotlib import pyplot as plt\n",
    "from histo_utilities import create_TH1D, create_TH2D, std_color_list\n",
    "from helper_functions import getRecoTime\n",
    "from array import array\n",
    "import CMS_lumi, tdrstyle\n",
    "import math\n",
    "\n",
    "tdrstyle.setTDRStyle()\n",
    "CMS_lumi.writeExtraText = 1\n",
    "\n",
    "CMS_lumi.extraText = \"     Simulation Preliminary\"\n",
    "\n",
    "donotdelete = []"
   ]
  },
  {
   "cell_type": "code",
   "execution_count": 9,
   "metadata": {},
   "outputs": [
    {
     "name": "stdout",
     "output_type": "stream",
     "text": [
      "ggh20 /home/cms/Desktop/LLP/jetNtuple_RunIISummer16/withoutISR/jetNtuple_glueball/jetNtuple_glueball_ggh_M-50_CTau-1000mm_pt20.root\n",
      "[]\n",
      "qcd /home/cms/Desktop/LLP/jetNtuple_RunIISummer16/withoutISR/jetNtuple_glueball/jetNtuple_QCD_HT300to500.root\n",
      "[104.180176  69.4402    37.214607  33.06379   32.81417 ]\n"
     ]
    }
   ],
   "source": [
    "fpath = {}\n",
    "tree = {}\n",
    "\n",
    "fpath['ggh20'] = '/home/cms/Desktop/LLP/jetNtuple_RunIISummer16/withoutISR/jetNtuple_glueball/jetNtuple_glueball_ggh_M-50_CTau-1000mm_pt20.root'\n",
    "# fpath['vbfh20'] = '/home/cms/Desktop/LLP/jetNtuple_RunIISummer16/withoutISR/jetNtuple_glueball/jetNtuple_glueball_vbfh_M-50_CTau-1000mm_pt20.root'\n",
    "# fpath['wh20'] = '/home/cms/Desktop/LLP/jetNtuple_RunIISummer16/withoutISR/jetNtuple_glueball/jetNtuple_glueball_wh_M-50_CTau-1000mm_pt20.root'\n",
    "# fpath['zh20'] = '/home/cms/Desktop/LLP/jetNtuple_RunIISummer16/withoutISR/jetNtuple_glueball/jetNtuple_glueball_zh_M-50_CTau-1000mm_pt20.root'\n",
    "# # fpath['vbfh30'] = '/home/cms/Desktop/LLP/jetNtuple_RunIISummer16/withoutISR/jetNtuple_glueball/jetNtuple_glueball_vbfh_M-50_CTau-1000mm_pt30.root'\n",
    "fpath['qcd'] = '/home/cms/Desktop/LLP/jetNtuple_RunIISummer16/withoutISR/jetNtuple_glueball/jetNtuple_QCD_HT300to500.root'\n",
    "# fpath['fourjet'] = '/home/cms/Desktop/LLP/jetNtuple_4jet/jetNtuple_M-500_CTau-1000mm_pt20.root'\n",
    "\n",
    "legend = {'ggh20': 'ggh, M = 50 GeV',\n",
    "        'vbfh20':  'vbfh, M = 50 GeV',\n",
    "          'zh20': 'zh, M = 50 GeV',\n",
    "          'wh20': 'wh, M = 50 GeV',\n",
    "          'qcd': 'QCD HT 300-500 GeV',\n",
    "          'fourjet': 'Four jet M = 500 GeV'\n",
    "         }\n",
    "\n",
    "for k,v in fpath.iteritems():\n",
    "    print k, v\n",
    "    tree[k] = rtnp.root2array(v)\n",
    "    #tree[k] = rtnp.tree2array(v)\n",
    "    #jet_max_pt_array = [np.max(x) for x in tree[k][\"jetPt\"]]\n",
    "    a = tree[k][\"jetPt\"]\n",
    "    print a[:-1][0]"
   ]
  },
  {
   "cell_type": "markdown",
   "metadata": {},
   "source": [
    "# Reco Time Signal vs. bkg"
   ]
  },
  {
   "cell_type": "code",
   "execution_count": 11,
   "metadata": {},
   "outputs": [],
   "source": [
    "algo = 1 # which time algorithm to use, 0 is energy weighted, 1 is energy squared weighted, 2 is median\n",
    "pt_cut = 0\n",
    "rechit = 1\n",
    "reco_time = {}\n",
    "reco_time_check = {}\n",
    "gen_time = {}\n",
    "time_diff = {}\n",
    "gen_pt = {}\n",
    "for k, T in tree.items():\n",
    "    reco_time[k] = []\n",
    "    reco_time_check[k] = []\n",
    "    gen_time[k] = []\n",
    "    time_diff[k] = []\n",
    "    gen_pt[k] = []\n",
    "    if not k == 'qcd':\n",
    "        gLLP_daughter_match_jet_index = T['gLLP_daughter_match_jet_index']\n",
    "        gLLP_daughter_travel_time = T['gLLP_daughter_travel_time']\n",
    "        matched_jets = np.logical_and(np.logical_not( gLLP_daughter_travel_time == -666), np.logical_not( gLLP_daughter_match_jet_index == 666))\n",
    "        gLLP_daughter_match_jet_index = gLLP_daughter_match_jet_index[matched_jets]\n",
    "        rechit_T_1 =  T['jet_rechit_T_Ecut1']\n",
    "        jet_rechits_T = T['jet_rechits_T']\n",
    "        jet_rechits_E = T['jet_rechits_E'] #(events,jets,rechits)\n",
    "        gen_time_origin = T['gen_time']\n",
    "        gLLP_daughter_pt = T['gLLP_daughter_pt']\n",
    "        for i in range(len(T['gLLP_daughter_match_jet_index'])): #loop through each event\n",
    "            for j in range(2): #loop through first 2 b-jets\n",
    "                index = T['gLLP_daughter_match_jet_index'][i][j]\n",
    "                if gLLP_daughter_pt[i][j] < pt_cut: \n",
    "                    continue\n",
    "                if not index == 666 and matched_jets[i][j]: #matched and barrel jets\n",
    "                    reco_temp = getRecoTime(algo, rechit,jet_rechits_T[i][index],jet_rechits_E[i][index])\n",
    "                    if not reco_temp == None:\n",
    "                        reco_time_check[k].append(rechit_T_1[i][index])\n",
    "                        reco_time[k].append(reco_temp)\n",
    "                        gen_time[k].append(gen_time_origin[i][j])\n",
    "                        time_diff[k].append(reco_temp-gen_time_origin[i][j])\n",
    "                        gen_pt[k].append(gLLP_daughter_pt[i][j])\n",
    "       \n",
    "\n",
    "    else:  #for QCD\n",
    "        match_jet_index = T['genParticleQCD_match_jet_index']\n",
    "        nGenQCDParticles = [x for x in T['nGenQCDParticles']]\n",
    "        rechit_T_1 =  T['jet_rechit_T_Ecut1']\n",
    "        jet_rechits_T = T['jet_rechits_T']\n",
    "        jet_rechits_E = T['jet_rechits_E'] #(events,jets,rechits)\n",
    "        for i in range(len(match_jet_index)): #loop through each event\n",
    "            for j in range(nGenQCDParticles[i]):\n",
    "                index = match_jet_index[i][j]\n",
    "                if not index == 666: #if matched\n",
    "                    reco_temp = getRecoTime(algo, rechit,jet_rechits_T[i][index],jet_rechits_E[i][index])\n",
    "                    if not reco_temp == None:\n",
    "                        reco_time[k].append(reco_temp)\n",
    "                        reco_time_check[k].append(rechit_T_1[i][index])\n",
    "#                         gen_pt[k].append(gLLP_daughter_pt[i][j])\n",
    "\n",
    "    gen_pt[k] = np.array(gen_pt[k])\n",
    "    reco_time_check[k] = np.array(reco_time_check[k])\n",
    "    reco_time[k] = np.array(reco_time[k])\n",
    "    gen_time[k] = np.array(gen_time[k])\n",
    "    time_diff[k] = np.array(time_diff[k])"
   ]
  },
  {
   "cell_type": "code",
   "execution_count": 12,
   "metadata": {},
   "outputs": [
    {
     "name": "stdout",
     "output_type": "stream",
     "text": [
      "('ggh20', 597.0)\n",
      "('qcd', 15316.0)\n"
     ]
    },
    {
     "name": "stderr",
     "output_type": "stream",
     "text": [
      "Warning in <TCanvas::Constructor>: Deleting canvas with same name: c\n",
      "Info in <TCanvas::Print>: pdf file ../plots/reco_time_sig_bkg_median.pdf has been created\n"
     ]
    },
    {
     "data": {
      "image/png": "[encoded data removed]",
      "text/plain": [
       "<IPython.core.display.Image object>"
      ]
     },
     "metadata": {},
     "output_type": "display_data"
    }
   ],
   "source": [
    "# Plotting Reco Time\n",
    "c = rt.TCanvas('c','c', 800, 600)\n",
    "h = {}\n",
    "leg = rt.TLegend(0.68,0.70,0.97,0.93);\n",
    "leg.SetTextSize(0.03)\n",
    "\n",
    "i = 0\n",
    "for k, reco in reco_time.items():\n",
    "    h[k] = create_TH1D( np.array(reco), axis_title=['Reconstructed time [ns]', 'events'], name=k, binning=[40,-4,5])\n",
    "    h[k].SetLineColor(std_color_list[i])\n",
    "    print(k,h[k].Integral())\n",
    "    leg.AddEntry(h[k],legend[k])\n",
    "    if i == 0:\n",
    "        h[k].DrawNormalized()\n",
    "    h[k].DrawNormalized('same')\n",
    "    i += 1\n",
    "leg.Draw()\n",
    "c.SetLogy()\n",
    "c.Draw()\n",
    "\n",
    "c.SaveAs(\"../plots/reco_time_sig_bkg_median.pdf\")"
   ]
  },
  {
   "cell_type": "code",
   "execution_count": 13,
   "metadata": {},
   "outputs": [
    {
     "name": "stderr",
     "output_type": "stream",
     "text": [
      "Warning in <TCanvas::Constructor>: Deleting canvas with same name: c\n",
      "Info in <TCanvas::Print>: pdf file ../plots/gen_time_sig_bkg_median.pdf has been created\n"
     ]
    },
    {
     "data": {
      "image/png": "[encoded data removed]",
      "text/plain": [
       "<IPython.core.display.Image object>"
      ]
     },
     "metadata": {},
     "output_type": "display_data"
    }
   ],
   "source": [
    "# Plotting Gen Time\n",
    "c = rt.TCanvas('c','c', 800, 600)\n",
    "h = {}\n",
    "leg = rt.TLegend(0.68,0.70,0.97,0.93);\n",
    "leg.SetTextSize(0.03)\n",
    "\n",
    "i = 0\n",
    "for k, gen in gen_time.items():\n",
    "    if not k == 'qcd':\n",
    "        h[k] = create_TH1D( np.array(gen), axis_title=['Gen time [ns]', 'events'], name=k, binning=[45,-1,6])\n",
    "        h[k].SetLineColor(std_color_list[i])\n",
    "        leg.AddEntry(h[k],legend[k])\n",
    "        if i == 0:\n",
    "            h[k].DrawNormalized()\n",
    "        h[k].DrawNormalized('same')\n",
    "        i += 1\n",
    "leg.Draw()\n",
    "c.SetLogy()\n",
    "c.Draw()\n",
    "c.SaveAs(\"../plots/gen_time_sig_bkg_median.pdf\")"
   ]
  },
  {
   "cell_type": "code",
   "execution_count": 14,
   "metadata": {},
   "outputs": [
    {
     "name": "stderr",
     "output_type": "stream",
     "text": [
      "Warning in <TCanvas::Constructor>: Deleting canvas with same name: c\n",
      "Info in <TCanvas::Print>: pdf file ../plots/time_diff_sig_bkg_median.pdf has been created\n"
     ]
    },
    {
     "data": {
      "image/png": "[encoded data removed]",
      "text/plain": [
       "<IPython.core.display.Image object>"
      ]
     },
     "metadata": {},
     "output_type": "display_data"
    }
   ],
   "source": [
    "# Plotting Reco - Gen Time\n",
    "c = rt.TCanvas('c','c', 800, 600)\n",
    "h = {}\n",
    "leg = rt.TLegend(0.68,0.70,0.95,0.9);\n",
    "leg.SetTextSize(0.03)\n",
    "\n",
    "i = 0\n",
    "for k, time in time_diff.items():\n",
    "    if not k == 'qcd':\n",
    "        h[k] = create_TH1D( np.array(time), axis_title=['Reco time - Gen Time [ns]', 'events'], name=k, binning=[50,-6,6])\n",
    "        h[k].SetLineColor(std_color_list[i])\n",
    "        leg.AddEntry(h[k],legend[k])\n",
    "#         h[k].GetYaxis().SetRangeUser(0,10000)\n",
    "        if i == 0:\n",
    "            h[k].DrawNormalized()\n",
    "        h[k].DrawNormalized('same')\n",
    "        i += 1\n",
    "leg.Draw()\n",
    "c.SetLogy()\n",
    "c.Draw()\n",
    "c.SaveAs(\"../plots/time_diff_sig_bkg_median.pdf\")"
   ]
  },
  {
   "cell_type": "code",
   "execution_count": 18,
   "metadata": {},
   "outputs": [
    {
     "name": "stderr",
     "output_type": "stream",
     "text": [
      "Warning in <TCanvas::Constructor>: Deleting canvas with same name: c\n",
      "Warning in <TROOT::Append>: Replacing existing TH1: h (Potential memory leak).\n",
      "Warning in <TROOT::Append>: Replacing existing TH1: h (Potential memory leak).\n",
      "Info in <TCanvas::Print>: pdf file ../plots/gen_time_vs_time_diffggh20.pdf has been created\n"
     ]
    },
    {
     "data": {
      "image/png": "[encoded data removed]",
      "text/plain": [
       "<IPython.core.display.Image object>"
      ]
     },
     "metadata": {},
     "output_type": "display_data"
    }
   ],
   "source": [
    "# Plotting some 2d maps between reco time, gen time and pt\n",
    "\n",
    "c = rt.TCanvas('c','c', 800, 600)\n",
    "h_pt = {}\n",
    "h_time = {}\n",
    "h_recot_pt = {}\n",
    "leg = rt.TLegend(0.70,0.70,0.95,0.9);\n",
    "leg.SetTextSize(0.03)\n",
    "\n",
    "color = [1,2,4,6,8]\n",
    "i = 0\n",
    "for k, time in time_diff.items():\n",
    "    if not k == 'qcd':\n",
    "        h_time[k] = create_TH2D( np.column_stack((time,gen_time[k])), axis_title=['Reco time - Gen Time [ns]', 'gen time [ns]','events'], binning=[50,-6,6,50,-1,6])\n",
    "        h_pt[k] = create_TH2D( np.column_stack((time,gen_pt[k])), axis_title=['Reco time - Gen Time [ns]', 'gen pt [GeV]','events'], binning=[50,-6,6,100,0,2000])\n",
    "        h_recot_pt[k] = create_TH2D( np.column_stack((reco_time[k],gen_pt[k])), axis_title=['Reco time', 'gen pt [GeV]','events'], binning=[50,-6,6,50,-1,250])\n",
    "key = 'ggh20'\n",
    "leg.AddEntry(h_pt[key],legend[key])\n",
    "h_time[key].Draw('colz')\n",
    "c.SetLogz()\n",
    "c.SetRightMargin(0.13)\n",
    "# leg.Draw()\n",
    "c.Draw()\n",
    "c.SaveAs(\"../plots/gen_time_vs_time_diff_\"+key+\".pdf\")"
   ]
  },
  {
   "cell_type": "markdown",
   "metadata": {
    "heading_collapsed": true
   },
   "source": [
    "# Helper Function"
   ]
  },
  {
   "cell_type": "code",
   "execution_count": null,
   "metadata": {
    "hidden": true
   },
   "outputs": [],
   "source": [
    "def getRecoTime(algorithm,rechit_cut, eventN, jetN):\n",
    "    # 0 is energy weighted, 1 is energy squared weighted, 2 is median\n",
    "    reco_time = T['jet_rechits_T']\n",
    "    reco_energy = T['jet_rechits_E'] #(events,jets,rechits)\n",
    "    rechit_time = reco_time [eventN][jetN]\n",
    "    rechit_energy = reco_energy[eventN][jetN]\n",
    "    rechit_energy = rechit_energy[np.logical_not(rechit_time == -666)]\n",
    "    rechit_time = rechit_time[np.logical_not(rechit_time == -666)]\n",
    "    rechit_time = rechit_time[rechit_energy > rechit_cut]\n",
    "    rechit_energy = rechit_energy[rechit_energy > rechit_cut]\n",
    "    assert(len(rechit_time) == len(rechit_energy))\n",
    "#     if np.std(rechit_time) > 0.5:\n",
    "#         return None\n",
    "    # from ucsb analysis: RMS jet time/median jet time < 0.4\n",
    "    if np.sum(rechit_energy) > 0.0 and len(rechit_time) > 0:\n",
    "        if algorithm == 0:\n",
    "            return np.sum(np.multiply(rechit_time,rechit_energy)/np.sum(rechit_energy))\n",
    "        elif algorithm == 1:\n",
    "            return np.sum(np.multiply(rechit_time,rechit_energy*rechit_energy)/np.sum(rechit_energy*rechit_energy))\n",
    "        elif algorithm == 2:\n",
    "            return np.median(rechit_time)\n",
    "    else:\n",
    "        return None"
   ]
  },
  {
   "cell_type": "code",
   "execution_count": null,
   "metadata": {
    "hidden": true
   },
   "outputs": [],
   "source": [
    "def binningY(histo2D,min_event):#returns an appropriate binning in y direction\n",
    "    bins = []\n",
    "    i=0\n",
    "    nbinsy =  histo2D.GetNbinsY()\n",
    "    while i < nbinsy:\n",
    "        counter = 0\n",
    "        while counter < min_event:\n",
    "            h1 = histo2D.ProjectionX(\"h\"+str(i),i+1,i+1)\n",
    "            counter += h1.Integral()\n",
    "            i+=1\n",
    "            if i >nbinsy:\n",
    "                break\n",
    "        bins.append(i)\n",
    "\n",
    "    bins = bins[:len(bins)-2]+[bins[len(bins)-1]]\n",
    "    return bins"
   ]
  },
  {
   "cell_type": "code",
   "execution_count": null,
   "metadata": {
    "hidden": true
   },
   "outputs": [],
   "source": [
    "def histo2D_projectionFit(histo2D, bins, gaus_thr):\n",
    "    proj = []\n",
    "    bw = histo2D.GetYaxis().GetBinWidth(1)\n",
    "    left_edge = histo2D.GetYaxis().GetBinLowEdge(1)\n",
    "\n",
    "    x_bins = [(x-1)*bw+left_edge for x in bins]\n",
    "    res = rt.TH1F('trd','res', len(bins)-1,array( 'f', x_bins))\n",
    "    res_eff = rt.TH1F('trd','res_eff', len(bins)-1,array( 'f', x_bins))\n",
    "    scale = rt.TH1F('scale','scale',len(bins)-1,array( 'f', x_bins))\n",
    "    for i in range(len(bins)-1):\n",
    "        key = 'bin'+str(i)\n",
    "        proj.append(histo2D.ProjectionX(\"h\"+str(i),bins[i],bins[i+1]-1))\n",
    "        y_low = histo2D.GetYaxis().GetBinLowEdge(bins[i])\n",
    "        y_up = histo2D.GetYaxis().GetBinLowEdge(bins[i+1]-1)+histo2D.GetYaxis().GetBinWidth(1)\n",
    "\n",
    "    for i in range(len(proj)):\n",
    "        h1 = proj[i]\n",
    "        hnew = h1.Clone(\"hnew\")\n",
    "        hnew = hnew.Rebin(2)\n",
    "        SS = rt.TSpectrum()\n",
    "        n_pks = SS.Search(hnew, 0.1, \"\", 0.5)\n",
    "        x_pos = SS.GetPositionX()\n",
    "        y_pos = SS.GetPositionY()\n",
    "        pks = []\n",
    "        if n_pks == 0:\n",
    "            hnew.SetLineColor(4)\n",
    "    #         hnew.Rebin(2)\n",
    "            hnew.GetXaxis().SetRangeUser(-5,5)\n",
    "            hnew.DrawCopy()\n",
    "            print(\"npks\",i,hnew.Integral(),n_pks)\n",
    "            break\n",
    "        n_pk = hnew.FindBin(x_pos[0])\n",
    "        thr = gaus_thr* hnew.GetBinContent(n_pk)\n",
    "        n_low = n_pk\n",
    "        while hnew.GetBinContent(n_low) > thr:\n",
    "            n_low -= 1\n",
    "        x_low = hnew.GetBinCenter(n_low)    \n",
    "        n_up = n_pk\n",
    "        while hnew.GetBinContent(n_up) > thr:\n",
    "            n_up += 1\n",
    "        x_up = hnew.GetBinCenter(n_up)\n",
    "        r = hnew.Fit('gaus', 'LRSQ+', '', x_low, x_up)\n",
    "        r = r.Get()\n",
    "        scale.SetBinContent(i+1,r.Parameter(1))\n",
    "        scale.SetBinError(i+1,r.ParError(1))\n",
    "        if abs(r.Parameter(1)-hnew.GetMean())>1:\n",
    "            print(\"scale fit warning\", i,r.Parameter(1),hnew.GetMean())\n",
    "\n",
    "        n_pk = h1.FindBin(r.Parameter(1))\n",
    "        thr = 0.68 * h1.Integral()\n",
    "        counter = h1.GetBinContent(n_pk)*1.0\n",
    "        n_low = n_pk\n",
    "        n_up = n_pk\n",
    "        flag = True\n",
    "        while counter < thr:\n",
    "            if flag:\n",
    "                n_low -= 1\n",
    "                counter += h1.GetBinContent(n_low)\n",
    "            else:\n",
    "                n_up += 1\n",
    "                counter += h1.GetBinContent(n_up)\n",
    "            flag = not flag\n",
    "        sigma_eff = (n_up - n_low) *h1.GetBinWidth(1)\n",
    "    #         sigma_eff = h1.GetStdDev()\n",
    "        res.SetBinContent(i+1,sigma_eff)\n",
    "        res.SetBinError(i+1,h1.GetBinWidth(1))\n",
    "        res_eff.SetBinContent(i+1,r.Parameter(2))\n",
    "        res_eff.SetBinError(i+1,r.ParError(2))\n",
    "    return scale, res, res_eff"
   ]
  },
  {
   "cell_type": "code",
   "execution_count": null,
   "metadata": {
    "hidden": true
   },
   "outputs": [],
   "source": []
  },
  {
   "cell_type": "code",
   "execution_count": null,
   "metadata": {
    "hidden": true
   },
   "outputs": [],
   "source": []
  },
  {
   "cell_type": "code",
   "execution_count": null,
   "metadata": {
    "hidden": true
   },
   "outputs": [],
   "source": []
  },
  {
   "cell_type": "code",
   "execution_count": null,
   "metadata": {
    "hidden": true
   },
   "outputs": [],
   "source": []
  },
  {
   "cell_type": "code",
   "execution_count": null,
   "metadata": {
    "hidden": true
   },
   "outputs": [],
   "source": []
  },
  {
   "cell_type": "code",
   "execution_count": null,
   "metadata": {
    "hidden": true
   },
   "outputs": [],
   "source": []
  },
  {
   "cell_type": "code",
   "execution_count": null,
   "metadata": {
    "hidden": true
   },
   "outputs": [],
   "source": []
  },
  {
   "cell_type": "code",
   "execution_count": null,
   "metadata": {
    "hidden": true
   },
   "outputs": [],
   "source": []
  },
  {
   "cell_type": "code",
   "execution_count": null,
   "metadata": {
    "hidden": true
   },
   "outputs": [],
   "source": []
  }
 ],
 "metadata": {
  "kernelspec": {
   "display_name": "Python 2",
   "language": "python",
   "name": "python2"
  },
  "language_info": {
   "codemirror_mode": {
    "name": "ipython",
    "version": 2
   },
   "file_extension": ".py",
   "mimetype": "text/x-python",
   "name": "python",
   "nbconvert_exporter": "python",
   "pygments_lexer": "ipython2",
   "version": "2.7.15rc1"
  }
 },
 "nbformat": 4,
 "nbformat_minor": 2
}
