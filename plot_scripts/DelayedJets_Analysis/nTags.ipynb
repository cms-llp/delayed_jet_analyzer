{
 "cells": [
  {
   "cell_type": "code",
   "execution_count": 1,
   "metadata": {},
   "outputs": [
    {
     "name": "stdout",
     "output_type": "stream",
     "text": [
      "Welcome to JupyROOT 6.16/00\n",
      "3.6.6 (default, Mar 29 2019, 00:03:27) \n",
      "[GCC 4.8.5 20150623 (Red Hat 4.8.5-36)]\n"
     ]
    }
   ],
   "source": [
    "import ROOT as rt\n",
    "import csv\n",
    "import re\n",
    "import sys\n",
    "import collections\n",
    "from collections import OrderedDict\n",
    "import uproot\n",
    "import numpy as np\n",
    "import time\n",
    "import numba\n",
    "from numba import jit\n",
    "from matplotlib import pyplot as plt\n",
    "from numpy import linalg as LA\n",
    "from ROOT import TLorentzVector\n",
    "from array import array\n",
    "\n",
    "import math\n",
    "\n",
    "# sys.path.append('/home/cms/Desktop/LLP/cms_lpc_llp/jet_timing_studies/python/lib')\n",
    "# sys.path.append('/nfshome/christiw/llp/cms_lpc_llp/jet_timing_studies/python/lib')\n",
    "sys.path.append('/nfshome/christiw/llp/delayed_jet_analyzer/lib/')\n",
    "# sys.path.append('/nfshome/christiw/llp/cms_lpc_llp/llp_analyzer/python/lib')\n",
    "\n",
    "from histo_utilities import create_TH1D, create_TH2D, create_TGraph,std_color_list\n",
    "     \n",
    "import CMS_lumi, tdrstyle \n",
    "tdrstyle.setTDRStyle()\n",
    "CMS_lumi.writeExtraText = 1\n",
    "CMS_lumi.extraText = \"     Simulation Preliminary\"\n",
    "\n",
    "# donotdelete = []\n",
    "print(sys.version)"
   ]
  },
  {
   "cell_type": "code",
   "execution_count": 2,
   "metadata": {},
   "outputs": [
    {
     "name": "stdout",
     "output_type": "stream",
     "text": [
      "WJetsToLNu /nfshome/christiw/llp/jet_timing_studies_root/trackless/jet_timing_studies_ntuple_RunIIFall17DRPremix_WJetsToLNu_TuneCP5_13TeV-madgraphMLM-pythia8.root\n",
      "Number of Events: 10000.0\n",
      "weight is: 842915.79\n",
      "[24.78586]\n",
      "(10000,)\n",
      "QCD /nfshome/christiw/llp/jet_timing_studies_root/trackless/jet_timing_studies_ntuple_RunIIFall17DRPremix_QCD_Pt_170to300_TuneCP5_13TeV_pythia8.root\n",
      "Number of Events: 59068.0\n",
      "weight is: 20072.891608823727\n",
      "[231.354     87.641464  56.886036]\n",
      "(59068,)\n",
      "bbbb_mh125_ctau1 /nfshome/christiw/llp/jet_timing_studies_root/trackless/jet_timing_studies_ntuple_bbbb_vh_ISR_mh125_mx50_pl1000_ev100000.root\n",
      "Number of Events: 74588.0\n",
      "weight is: 2.709215959671797\n",
      "[64.42451  51.139175 37.67556 ]\n",
      "(74588,)\n"
     ]
    }
   ],
   "source": [
    "fpath_bkg =OrderedDict()\n",
    "tree_bkg = OrderedDict()\n",
    "tree_sig = OrderedDict()\n",
    "fpath_sig =OrderedDict()\n",
    "\n",
    "bkg_path = \"/nfshome/christiw/llp/jet_timing_studies_root/trackless/\"\n",
    "lumi = 137000 #in pb-1\n",
    "fpath_bkg['WJetsToLNu'] = bkg_path+\"jet_timing_studies_ntuple_RunIIFall17DRPremix_WJetsToLNu_TuneCP5_13TeV-madgraphMLM-pythia8.root\"\n",
    "\n",
    "fpath_bkg['QCD'] = bkg_path+\"jet_timing_studies_ntuple_RunIIFall17DRPremix_QCD_Pt_170to300_TuneCP5_13TeV_pythia8.root\"\n",
    "fpath_bkg['bbbb_mh125_ctau1'] = bkg_path+'jet_timing_studies_ntuple_bbbb_vh_ISR_mh125_mx50_pl1000_ev100000.root'\n",
    "\n",
    "xsec = {}\n",
    "xsec['QCD'] = 117989*0.07335\n",
    "xsec['WJetsToLNu'] = 61526.7\n",
    "xsec['bbbb_mh125_ctau1'] = 1.475E+00\n",
    "\n",
    "weight = {}\n",
    "\n",
    "\n",
    "for k,v in fpath_bkg.items():\n",
    "    print (k, v)\n",
    "#     tree[k] = rtnp.root2array(v)\n",
    "    root_dir = uproot.open(v) \n",
    "    \n",
    "    NEvents = root_dir['ntuples']['NEvents'][1]\n",
    "    print(\"Number of Events: \"+str(NEvents))\n",
    "    weight[k] = xsec[k]*lumi/NEvents\n",
    "    print(\"weight is: \"+str(weight[k]))\n",
    "    tree_bkg[k] = root_dir['ntuples']['llp']\n",
    "    a = tree_bkg[k][\"jetPt\"].array()\n",
    "    print (a[:-1][0])\n",
    "    print(a.shape)"
   ]
  },
  {
   "cell_type": "code",
   "execution_count": 3,
   "metadata": {},
   "outputs": [],
   "source": [
    "trigger_names_file = '/home/cms/Desktop/LLP/delayed_jet_analyzer/data/trigger_names_llp_v1.dat'\n",
    "trigger_names_file = '/nfshome/christiw/llp/cms_lpc_llp/jet_timing_studies/data/trigger_names_llp_v1.dat'\n",
    "\n",
    "trigger_names = []\n",
    "with open(trigger_names_file) as f:\n",
    "    reader = csv.reader(f, delimiter=\" \")\n",
    "    for line in reader:\n",
    "        trigger_names.append(line[2])\n",
    "    trigger_paths = [87,135] #PFMET120\n",
    "\n",
    "\n",
    "# 177 HLT_Mu17_TrkIsoVVL_Mu8_TrkIsoVVL_DZ\n",
    "# 362 HLT_Ele23_Ele12_CaloIdL_TrackIdL_IsoVL_DZ\n",
    "# 310 HLT_PFMET120_PFMHT120_IDTight\n",
    "# 87 HLT_Ele32_WPTight_Gsf\n",
    "# 135 HLT_IsoMu24\n",
    "# 310 PFMET"
   ]
  },
  {
   "cell_type": "code",
   "execution_count": 4,
   "metadata": {},
   "outputs": [],
   "source": [
    "jet_branches = {}\n",
    "calojet_branches = {}\n",
    "event_branches = {}"
   ]
  },
  {
   "cell_type": "code",
   "execution_count": 5,
   "metadata": {},
   "outputs": [],
   "source": [
    "def frange(start,end,step):\n",
    "    result = [start]\n",
    "    counter = start\n",
    "    while abs(counter-end)>=step*0.9:\n",
    "        counter+=step\n",
    "        result.append(counter)\n",
    "    return result\n",
    "\n"
   ]
  },
  {
   "cell_type": "code",
   "execution_count": 11,
   "metadata": {},
   "outputs": [
    {
     "name": "stdout",
     "output_type": "stream",
     "text": [
      "0.17 0.5 0.05 24.07845957219366\n",
      "137 fb^{-1} (13 TeV)\n"
     ]
    },
    {
     "name": "stderr",
     "output_type": "stream",
     "text": [
      "Warning in <TCanvas::Constructor>: Deleting canvas with same name: c\n",
      "Warning in <TROOT::Append>: Replacing existing TH1: WJetsToLNu (Potential memory leak).\n",
      "Warning in <TROOT::Append>: Replacing existing TH1: QCD (Potential memory leak).\n",
      "Info in <TCanvas::Print>: pdf file ../plots/ntags_optimization/mindeltaRcut0.05_timecut0.5gammacut0.17.pdf has been created\n"
     ]
    },
    {
     "data": {
      "image/png": "\n",
      "text/plain": [
       "<IPython.core.display.Image object>"
      ]
     },
     "metadata": {},
     "output_type": "display_data"
    }
   ],
   "source": [
    "ptcut = 20\n",
    "nTags = {}\n",
    "calojetGammaMax = {}\n",
    "calojetMinDeltaRPVTracks = {}\n",
    "calojetPt = {}\n",
    "nCaloJets = {}\n",
    "calojetRechitT = {}\n",
    "# mindeltaR_cuts = frange(0.05,0.15,0.01)\n",
    "# time_cuts = frange(0.5,2.5,0.1)\n",
    "# gamma_cuts = frange(0.05,0.25,0.01)\n",
    "mindeltaR_cuts =[0.05]\n",
    "time_cuts = [0.5]\n",
    "gamma_cuts = [0.17]\n",
    "for gamma_cut in gamma_cuts:\n",
    "    for time_cut in time_cuts:\n",
    "        for mindeltaR_cut in mindeltaR_cuts:\n",
    "            for k,T in tree_bkg.items():\n",
    "                nTags[k] = [] #event level\n",
    "                hlt = T['HLTDecision'].array()\n",
    "                sel_ev = np.zeros(hlt[:,0].shape)\n",
    "                for tr in trigger_paths:\n",
    "                    sel_ev  = np.logical_or(sel_ev,hlt[:,tr])\n",
    "                calojetPt[k] =T['calojetPt'].array()[sel_ev]\n",
    "                nCaloJets[k] = T['nCaloJets'].array()[sel_ev]\n",
    "                calojetGammaMax[k] = T['calojetBetaMax'].array()[sel_ev]\n",
    "                calojetMinDeltaRPVTracks[k] = T['calojetMinDeltaRPVTracks'].array()[sel_ev]\n",
    "                calojetRechitT[k] = T['calojetRechitT'].array()[sel_ev]\n",
    "                for ev in range(len(calojetPt[k])):#loop over each event\n",
    "                    tag = 0\n",
    "                    for j in range(nCaloJets[k][ev]):\n",
    "                        if calojetPt[k][ev][j] < ptcut: continue\n",
    "                        if calojetGammaMax[k][ev][j]<gamma_cut and calojetMinDeltaRPVTracks[k][ev][j]>mindeltaR_cut and calojetRechitT[k][ev][j]>time_cut:\n",
    "                            tag += 1\n",
    "                    nTags[k].append(tag)\n",
    "                nTags[k] = np.array(nTags[k])\n",
    "\n",
    "            # Plotting THStack\n",
    "            c = rt.TCanvas('c','c', 800, 800)\n",
    "            h = {}\n",
    "            # leg = rt.TLegend(0.59,0.70,0.97,0.93)\n",
    "            leg = rt.TLegend(0.59,0.74,0.93,0.91)\n",
    "\n",
    "            leg.SetTextSize(0.025)\n",
    "            # leg.SetTextFont(42)\n",
    "            leg.SetEntrySeparation(0.01)\n",
    "            stack = rt.THStack( \"hs\" , \"Hgg Stack \" )\n",
    "            # color_list = [625,597,876,806,861,393,845]\n",
    "            color_list = [845,800,861,806,876,597,625]\n",
    "            i = 0\n",
    "            max_y = 0\n",
    "            for k,v in nTags.items():\n",
    "                if k == 'WJetsToLNu' or k == 'QCD':\n",
    "                    w = list(weight[k]*np.ones(v.shape))\n",
    "                    h[k] = create_TH1D( v, axis_title=['nTags', 'Events'], name=k, binning=[5,0,5],weights =w)\n",
    "                    stack.Add( h[k])\n",
    "                    leg.AddEntry(h[k],k)\n",
    "                    h[k].SetLineColor(color_list[i])\n",
    "                    h[k].SetFillColor(color_list[i])\n",
    "                    i+=1\n",
    "\n",
    "                    #find max y to set y axis\n",
    "                    currentMax=h[k].GetBinContent(h[k].GetMaximumBin())\n",
    "\n",
    "                    if currentMax > max_y:\n",
    "                        max_y = currentMax\n",
    "                        h[k].SetMaximum(10*currentMax)\n",
    "                        h[k].SetMinimum(1)\n",
    "\n",
    "            i = 0\n",
    "            stack.Draw('HIST')\n",
    "            for k,v in nTags.items():\n",
    "                if k[:4] == 'bbbb':\n",
    "                    h[k] = create_TH1D( v, axis_title=['nTags', 'Events'], name=k, binning=[5,0,5],weights = weight[k]*np.ones(v.shape))\n",
    "                    h[k].SetLineColor(std_color_list[i])\n",
    "\n",
    "\n",
    "                    leg.AddEntry(h[k],k)\n",
    "\n",
    "                h[k].Draw('samehist')\n",
    "                i+=1\n",
    "\n",
    "            # print s/sqrt(s+b)\n",
    "            purity = 0\n",
    "            for i in range(5):\n",
    "                last = stack.GetStack().Last()\n",
    "                b = last.GetBinContent(i+1)\n",
    "                s = h['bbbb_mh125_ctau1'].GetBinContent(i+1)\n",
    "                if not s == 0 and b == 0:\n",
    "                    purity += (s/(s+b)**0.5)**2\n",
    "            purity = purity **0.5\n",
    "            if purity > 22:\n",
    "                print(gamma_cut,time_cut, mindeltaR_cut, purity)\n",
    "                \n",
    "                \n",
    "                leg.Draw()\n",
    "                stack.GetXaxis().SetTitle('Number of tagged jets')\n",
    "                stack.GetYaxis().SetTitle(\"Events\")\n",
    "                c.SetLeftMargin(0.2)\n",
    "                stack.GetYaxis().SetTitleOffset(1.6)\n",
    "\n",
    "                stack.SetMaximum(max_y*10)\n",
    "\n",
    "                stack.SetMinimum(10)\n",
    "                CMS_lumi.lumi_13TeV = \"137 fb^{-1}\"\n",
    "                CMS_lumi.cmsText = \"\"\n",
    "                CMS_lumi.writeExtraText = False\n",
    "                CMS_lumi.CMS_lumi(c,4,3)\n",
    "\n",
    "\n",
    "                # if setlog: \n",
    "                #     c.SetLogy()\n",
    "                c.SetLogy()\n",
    "                c.Draw()\n",
    "                c.SaveAs(\"../plots/ntags_optimization/mindeltaRcut\"+str(mindeltaR_cut)+\"_timecut\"+str(time_cut)+\"gammacut\"+str(gamma_cut)+\".pdf\")"
   ]
  },
  {
   "cell_type": "code",
   "execution_count": 54,
   "metadata": {},
   "outputs": [
    {
     "name": "stdout",
     "output_type": "stream",
     "text": [
      "[92478.72008952571, 92478.72008952571, 92478.72008952571, 92478.72008952571, 92478.72008952571, 92478.72008952571, 92478.72008952571, 92478.72008952571, 92478.72008952571, 92478.72008952571]\n",
      "[92478.72008952571, 92478.72008952571, 92478.72008952571, 92478.72008952571, 92478.72008952571, 92478.72008952571, 92478.72008952571, 92478.72008952571, 92478.72008952571, 92478.72008952571]\n",
      "137 fb^{-1} (13 TeV)\n"
     ]
    },
    {
     "name": "stderr",
     "output_type": "stream",
     "text": [
      "Warning in <TCanvas::Constructor>: Deleting canvas with same name: c\n",
      "Warning in <TROOT::Append>: Replacing existing TH1: WJetsToLNu (Potential memory leak).\n",
      "Warning in <TROOT::Append>: Replacing existing TH1: QCD (Potential memory leak).\n",
      "Info in <TCanvas::Print>: pdf file ../plots/test.pdf has been created\n",
      "libpng warning: Application built with libpng-1.5.13 but running with 1.6.21\n",
      "Error in <TASImage::WriteImage>: error writing file ../plots/test.png\n",
      "Info in <TCanvas::Print>: png file ../plots/test.png has been created\n"
     ]
    },
    {
     "data": {
      "image/png": "\n",
      "text/plain": [
       "<IPython.core.display.Image object>"
      ]
     },
     "metadata": {},
     "output_type": "display_data"
    }
   ],
   "source": []
  },
  {
   "cell_type": "code",
   "execution_count": 42,
   "metadata": {},
   "outputs": [
    {
     "name": "stdout",
     "output_type": "stream",
     "text": [
      "(195069,)\n",
      "(131487,)\n"
     ]
    },
    {
     "name": "stderr",
     "output_type": "stream",
     "text": [
      "Warning in <TCanvas::Constructor>: Deleting canvas with same name: c\n",
      "Warning in <TROOT::Append>: Replacing existing TH1: h (Potential memory leak).\n",
      "Info in <TCanvas::Print>: pdf file ../plots/trackless/treco_pfvscalo.pdf has been created\n"
     ]
    },
    {
     "data": {
      "image/png": "\n",
      "text/plain": [
       "<IPython.core.display.Image object>"
      ]
     },
     "metadata": {},
     "output_type": "display_data"
    }
   ],
   "source": [
    "# Plotting pf time vs calo time\n",
    "\n",
    "max_y = 0\n",
    "j = 0\n",
    "c = rt.TCanvas('c','c', 800, 800)\n",
    "h = {}\n",
    "# leg = rt.TLegend(0.50,0.75,0.97,0.93)\n",
    "leg = rt.TLegend(0.65,0.80,0.95,0.93)\n",
    "leg.SetTextSize(0.022)\n",
    "# leg.SetTextFont(42)\n",
    "leg.SetEntrySeparation(0.01)\n",
    "print(jetRechitT[k].shape)\n",
    "print(calojetRechitT[k].shape)\n",
    "h['pf'] = create_TH1D(jetRechitT['bbbb_mh125_ctau1'], axis_title = ['t_{reco} [ns]','Events'], binning=[50,-20,20])\n",
    "\n",
    "h['calo'] = create_TH1D(calojetRechitT['bbbb_mh125_ctau1'], axis_title = ['t_{reco} [ns]','Events'], binning=[50,-20,20])\n",
    "   \n",
    "h['pf'].SetLineColor(std_color_list[0])\n",
    "h['calo'].SetLineColor(std_color_list[1])\n",
    "\n",
    "leg.AddEntry(h['pf'], 'PF Jet')\n",
    "leg.AddEntry(h['calo'], 'Calo Jet')\n",
    "\n",
    "h['pf'].DrawNormalized('')\n",
    "h['calo'].DrawNormalized('same')\n",
    "\n",
    "# c.SetRightMargin(0.17)\n",
    "\n",
    "leg.Draw()\n",
    "\n",
    "\n",
    "c.SetLogy()\n",
    "c.Draw()\n",
    "c.SaveAs('../plots/trackless/treco_pfvscalo.pdf')\n",
    "\n"
   ]
  },
  {
   "cell_type": "code",
   "execution_count": 41,
   "metadata": {},
   "outputs": [
    {
     "name": "stdout",
     "output_type": "stream",
     "text": [
      "17 17 17 17\n"
     ]
    },
    {
     "name": "stderr",
     "output_type": "stream",
     "text": [
      "Warning in <TCanvas::Constructor>: Deleting canvas with same name: c\n",
      "Info in <TCanvas::Print>: pdf file ../plots/trackless/CEF_signalbkg.pdf has been created\n",
      "Warning in <TROOT::Append>: Replacing existing TH1: h (Potential memory leak).\n",
      "Info in <TCanvas::Print>: pdf file ../plots/trackless/CEF_signalbkg.pdf has been created\n",
      "Warning in <TCanvas::Constructor>: Deleting canvas with same name: c\n",
      "Info in <TCanvas::Print>: pdf file ../plots/trackless/pfjetAlphaMax_signalbkg.pdf has been created\n",
      "Warning in <TROOT::Append>: Replacing existing TH1: h (Potential memory leak).\n",
      "Info in <TCanvas::Print>: pdf file ../plots/trackless/pfjetAlphaMax_signalbkg.pdf has been created\n",
      "Warning in <TCanvas::Constructor>: Deleting canvas with same name: c\n",
      "Info in <TCanvas::Print>: pdf file ../plots/trackless/pfjetBetaMax_signalbkg.pdf has been created\n",
      "Warning in <TROOT::Append>: Replacing existing TH1: h (Potential memory leak).\n",
      "Info in <TCanvas::Print>: pdf file ../plots/trackless/pfjetBetaMax_signalbkg.pdf has been created\n",
      "Warning in <TCanvas::Constructor>: Deleting canvas with same name: c\n",
      "Info in <TCanvas::Print>: pdf file ../plots/trackless/pfjetGammaMax_EM_signalbkg.pdf has been created\n",
      "Warning in <TROOT::Append>: Replacing existing TH1: h (Potential memory leak).\n",
      "Info in <TCanvas::Print>: pdf file ../plots/trackless/pfjetGammaMax_EM_signalbkg.pdf has been created\n",
      "Warning in <TCanvas::Constructor>: Deleting canvas with same name: c\n",
      "Info in <TCanvas::Print>: pdf file ../plots/trackless/pfjetGammaMax_Hadronic_signalbkg.pdf has been created\n",
      "Warning in <TROOT::Append>: Replacing existing TH1: h (Potential memory leak).\n",
      "Info in <TCanvas::Print>: pdf file ../plots/trackless/pfjetGammaMax_Hadronic_signalbkg.pdf has been created\n",
      "Warning in <TCanvas::Constructor>: Deleting canvas with same name: c\n",
      "Info in <TCanvas::Print>: pdf file ../plots/trackless/pfjetGammaMax_signalbkg.pdf has been created\n",
      "Warning in <TROOT::Append>: Replacing existing TH1: h (Potential memory leak).\n",
      "Info in <TCanvas::Print>: pdf file ../plots/trackless/pfjetGammaMax_signalbkg.pdf has been created\n",
      "Warning in <TCanvas::Constructor>: Deleting canvas with same name: c\n",
      "Info in <TCanvas::Print>: pdf file ../plots/trackless/pfjetMedianIP_signalbkg.pdf has been created\n",
      "Warning in <TROOT::Append>: Replacing existing TH1: h (Potential memory leak).\n",
      "Info in <TCanvas::Print>: pdf file ../plots/trackless/pfjetMedianIP_signalbkg.pdf has been created\n",
      "Warning in <TCanvas::Constructor>: Deleting canvas with same name: c\n",
      "Info in <TCanvas::Print>: pdf file ../plots/trackless/pfjetMinDeltaRAllTracks_signalbkg.pdf has been created\n",
      "Warning in <TROOT::Append>: Replacing existing TH1: h (Potential memory leak).\n",
      "Info in <TCanvas::Print>: pdf file ../plots/trackless/pfjetMinDeltaRAllTracks_signalbkg.pdf has been created\n",
      "Warning in <TCanvas::Constructor>: Deleting canvas with same name: c\n",
      "Info in <TCanvas::Print>: pdf file ../plots/trackless/pfjetMinDeltaRPVTracks_signalbkg.pdf has been created\n",
      "Warning in <TROOT::Append>: Replacing existing TH1: h (Potential memory leak).\n",
      "Info in <TCanvas::Print>: pdf file ../plots/trackless/pfjetMinDeltaRPVTracks_signalbkg.pdf has been created\n",
      "Warning in <TCanvas::Constructor>: Deleting canvas with same name: c\n",
      "Info in <TCanvas::Print>: pdf file ../plots/trackless/calojetAlphaMax_signalbkg.pdf has been created\n",
      "Warning in <TROOT::Append>: Replacing existing TH1: h (Potential memory leak).\n",
      "Info in <TCanvas::Print>: pdf file ../plots/trackless/calojetAlphaMax_signalbkg.pdf has been created\n",
      "Warning in <TCanvas::Constructor>: Deleting canvas with same name: c\n",
      "Info in <TCanvas::Print>: pdf file ../plots/trackless/calojetBetaMax_signalbkg.pdf has been created\n",
      "Warning in <TROOT::Append>: Replacing existing TH1: h (Potential memory leak).\n",
      "Info in <TCanvas::Print>: pdf file ../plots/trackless/calojetBetaMax_signalbkg.pdf has been created\n",
      "Warning in <TCanvas::Constructor>: Deleting canvas with same name: c\n",
      "Info in <TCanvas::Print>: pdf file ../plots/trackless/calojetGammaMax_EM_signalbkg.pdf has been created\n",
      "Warning in <TROOT::Append>: Replacing existing TH1: h (Potential memory leak).\n",
      "Info in <TCanvas::Print>: pdf file ../plots/trackless/calojetGammaMax_EM_signalbkg.pdf has been created\n",
      "Warning in <TCanvas::Constructor>: Deleting canvas with same name: c\n",
      "Info in <TCanvas::Print>: pdf file ../plots/trackless/calojetGammaMax_Hadronic_signalbkg.pdf has been created\n",
      "Warning in <TROOT::Append>: Replacing existing TH1: h (Potential memory leak).\n",
      "Info in <TCanvas::Print>: pdf file ../plots/trackless/calojetGammaMax_Hadronic_signalbkg.pdf has been created\n",
      "Warning in <TCanvas::Constructor>: Deleting canvas with same name: c\n",
      "Info in <TCanvas::Print>: pdf file ../plots/trackless/calojetGammaMax_signalbkg.pdf has been created\n",
      "Warning in <TROOT::Append>: Replacing existing TH1: h (Potential memory leak).\n",
      "Info in <TCanvas::Print>: pdf file ../plots/trackless/calojetGammaMax_signalbkg.pdf has been created\n",
      "Warning in <TCanvas::Constructor>: Deleting canvas with same name: c\n",
      "Info in <TCanvas::Print>: pdf file ../plots/trackless/calojetMedianIP_signalbkg.pdf has been created\n",
      "Warning in <TROOT::Append>: Replacing existing TH1: h (Potential memory leak).\n",
      "Info in <TCanvas::Print>: pdf file ../plots/trackless/calojetMedianIP_signalbkg.pdf has been created\n",
      "Warning in <TCanvas::Constructor>: Deleting canvas with same name: c\n",
      "Info in <TCanvas::Print>: pdf file ../plots/trackless/calojetMinDeltaRAllTracks_signalbkg.pdf has been created\n",
      "Warning in <TROOT::Append>: Replacing existing TH1: h (Potential memory leak).\n",
      "Info in <TCanvas::Print>: pdf file ../plots/trackless/calojetMinDeltaRAllTracks_signalbkg.pdf has been created\n",
      "Warning in <TCanvas::Constructor>: Deleting canvas with same name: c\n",
      "Info in <TCanvas::Print>: pdf file ../plots/trackless/calojetMinDeltaRPVTracks_signalbkg.pdf has been created\n",
      "Warning in <TROOT::Append>: Replacing existing TH1: h (Potential memory leak).\n",
      "Info in <TCanvas::Print>: pdf file ../plots/trackless/calojetMinDeltaRPVTracks_signalbkg.pdf has been created\n"
     ]
    },
    {
     "data": {
      "image/png": "\n",
      "text/plain": [
       "<IPython.core.display.Image object>"
      ]
     },
     "metadata": {},
     "output_type": "display_data"
    }
   ],
   "source": [
    "# Plotting mass\n",
    "var_calo = [calojetAlphaMax,calojetBetaMax,calojetGammaMax_EM,calojetGammaMax_Hadronic,calojetGammaMax, log10calojetMedianIP, calojetMinDeltaRAllTracks,calojetMinDeltaRPVTracks]\n",
    "axis_calo = [['caloJet #alpha_{Max}','Events'],['caloJet #beta_{Max}','Events'],['caloJet #gamma_{EM Max}','Events'],['caloJet #gamma_{Had Max}','Events'],['caloJet #gamma_{Max}','Events'],['caloJet log10(\\hat{IP}_{sig})','Events'],['caloJet all tracks #Delta R_{min}','Events'],['caloJet PV tracks #Delta R_{min}','Events']]\n",
    "name_calo = ['calojetAlphaMax','calojetBetaMax','calojetGammaMax_EM','calojetGammaMax_Hadronic','calojetGammaMax', 'calojetMedianIP', 'calojetMinDeltaRAllTracks','calojetMinDeltaRPVTracks']\n",
    "bins_calo = [[50,0,1],[50,0,1],[50,0,1],[50,0,1],[50,0,1],[50,-1,3],[50,0,1],[50,0,1]]\n",
    "\n",
    "var_pf = [CEF,jetAlphaMax,jetBetaMax,jetGammaMax_EM,jetGammaMax_Hadronic,jetGammaMax, log10jetMedianIP, jetMinDeltaRAllTracks,jetMinDeltaRPVTracks,]\n",
    "axis_pf = [['CEF','Events'],['PFJet #alpha_{Max}','Events'],['PFJet #beta_{Max}','Events'],['PFJet #gamma_{EM Max}','Events'],['PFJet #gamma_{Had Max}','Events'],['PFJet #gamma_{Max}','Events'],['PFJet log10(\\hat{IP}_{sig})','Events'],['PFJet all tracks #Delta R_{min}','Events'],['PFJet PV tracks #Delta R_{min}','Events']]\n",
    "name_pf = ['CEF','pfjetAlphaMax','pfjetBetaMax','pfjetGammaMax_EM','pfjetGammaMax_Hadronic','pfjetGammaMax', 'pfjetMedianIP', 'pfjetMinDeltaRAllTracks','pfjetMinDeltaRPVTracks',]\n",
    "bins_pf = [[50,0,1],[50,0,1],[50,0,1],[50,0,1],[50,0,1],[50,0,1],[50,-1,3],[50,0,1],[50,0,1]]\n",
    "\n",
    "\n",
    "var = var_pf + var_calo\n",
    "axis = axis_pf+ axis_calo\n",
    "name = name_pf+name_calo\n",
    "bins = bins_pf+bins_calo\n",
    "print(len(var),len(axis),len(name),len(bins))\n",
    "for i in range(len(var)):\n",
    "    max_y = 0\n",
    "    j = 0\n",
    "    c = rt.TCanvas('c','c', 800, 800)\n",
    "    h = {}\n",
    "    # leg = rt.TLegend(0.50,0.75,0.97,0.93)\n",
    "    leg = rt.TLegend(0.65,0.80,0.95,0.93)\n",
    "    leg.SetTextSize(0.022)\n",
    "    # leg.SetTextFont(42)\n",
    "    leg.SetEntrySeparation(0.01)\n",
    "\n",
    "    for k,v in tree_bkg.items():\n",
    "        h[k] = create_TH1D(var[i][k],axis_title = axis[i],binning = bins[i])\n",
    "\n",
    "        currentMax=h[k].GetBinContent(h[k].GetMaximumBin())\n",
    "\n",
    "        if currentMax > max_y:\n",
    "            max_y = currentMax\n",
    "            h[k].SetMaximum(10*currentMax)\n",
    "            h[k].SetMinimum(1)\n",
    "        h[k].GetXaxis().SetLabelSize(0.045)\n",
    "\n",
    "    #         h[k].GetXaxis().SetTickLength(0.)\n",
    "        h[k].SetLineColor(std_color_list[j])\n",
    "        leg.AddEntry(h[k], k)\n",
    "        h[k].DrawNormalized('same')\n",
    "        j+=1\n",
    "\n",
    "# c.SetRightMargin(0.17)\n",
    "\n",
    "        leg.Draw()\n",
    "\n",
    "\n",
    "        c.SetLogy()\n",
    "        c.Draw()\n",
    "        c.SaveAs('../plots/trackless/'+name[i]+'_signalbkg.pdf')\n",
    "\n"
   ]
  },
  {
   "cell_type": "code",
   "execution_count": 44,
   "metadata": {},
   "outputs": [
    {
     "name": "stderr",
     "output_type": "stream",
     "text": [
      "/usr/local/lib/python3.6/site-packages/ipykernel_launcher.py:41: RuntimeWarning: invalid value encountered in less\n",
      "Warning in <TCanvas::Constructor>: Deleting canvas with same name: c\n",
      "Info in <TCanvas::Print>: pdf file ../plots/trackless/caloROC.pdf has been created\n"
     ]
    },
    {
     "data": {
      "image/png": "\n",
      "text/plain": [
       "<IPython.core.display.Image object>"
      ]
     },
     "metadata": {},
     "output_type": "display_data"
    }
   ],
   "source": [
    "### ROC curve\n",
    "# var = [CEF,calojetAlphaMax,calojetAlphaMax_jetpt,calojetBetaMax_EM,calojetBetaMax_Hadronic,calojetBetaMax]\n",
    "# name = ['CEF','calojetAlphaMax','calojetAlphaMax_jetpt','calojetBetaMax_EM','calojetBetaMax_Hadronic','calojetBetaMax']\n",
    "calo = 1\n",
    "c = rt.TCanvas('c','c', 800, 800)\n",
    "leg = rt.TLegend(0.18,0.76,0.53,0.94)\n",
    "leg.SetTextSize(0.022)\n",
    "leg.SetEntrySeparation(0.01)\n",
    "gr = {}\n",
    "var_calo = [calojetAlphaMax,calojetBetaMax,calojetGammaMax_EM,calojetGammaMax_Hadronic,calojetGammaMax, log10calojetMedianIP, calojetMinDeltaRAllTracks,calojetMinDeltaRPVTracks]\n",
    "axis_calo = [['caloJet #alpha_{Max}','Events'],['caloJet #beta_{Max}','Events'],['caloJet #gamma_{EM Max}','Events'],['caloJet #gamma_{Had Max}','Events'],['caloJet #gamma_{Max}','Events'],['caloJet log10(\\hat{IP}_{sig})','Events'],['caloJet all tracks #Delta R_{min}','Events'],['caloJet PV tracks #Delta R_{min}','Events']]\n",
    "name_calo = ['calojetAlphaMax','calojetBetaMax','calojetGammaMax_EM','calojetGammaMax_Hadronic','calojetGammaMax', 'calojetMedianIP', 'calojetMinDeltaRAllTracks','calojetMinDeltaRPVTracks']\n",
    "bins_calo = [[50,0,1],[50,0,1],[50,0,1],[50,0,1],[50,0,1],[50,-1,3],[50,0,1],[50,0,1]]\n",
    "\n",
    "var_pf = [CEF,jetAlphaMax,jetBetaMax,jetGammaMax_EM,jetGammaMax_Hadronic,jetGammaMax, log10jetMedianIP, jetMinDeltaRAllTracks,jetMinDeltaRPVTracks,]\n",
    "axis_pf = [['CEF','Events'],['PFJet #alpha_{Max}','Events'],['PFJet #beta_{Max}','Events'],['PFJet #gamma_{EM Max}','Events'],['PFJet #gamma_{Had Max}','Events'],['PFJet #gamma_{Max}','Events'],['PFJet log10(\\hat{IP}_{sig})','Events'],['PFJet all tracks #Delta R_{min}','Events'],['PFJet PV tracks #Delta R_{min}','Events']]\n",
    "name_pf = ['CEF','pfjetAlphaMax','pfjetBetaMax','pfjetGammaMax_EM','pfjetGammaMax_Hadronic','pfjetGammaMax', 'pfjetMedianIP', 'pfjetMinDeltaRAllTracks','pfjetMinDeltaRPVTracks',]\n",
    "bins_pf = [[50,0,1],[50,0,1],[50,0,1],[50,0,1],[50,0,1],[50,0,1],[50,-1,3],[50,0,1],[50,0,1]]\n",
    "\n",
    "\n",
    "\n",
    "\n",
    "if calo:\n",
    "    var = var_calo\n",
    "    name = name_calo\n",
    "    axis = axis_calo\n",
    "else:\n",
    "    var = var_pf\n",
    "    name = name_pf\n",
    "    axis = axis_pf\n",
    "for i in range(len(var)):\n",
    "    v = var[i]\n",
    "    eff = {}\n",
    "    thre = np.array(range(1000))/100.0-5\n",
    "    for k in tree_bkg.keys():\n",
    "        eff[k] = []\n",
    "        for th in thre:\n",
    "            if 'IP' in name[i] or 'MinDeltaR' in name[i]:\n",
    "                eff[k].append(1.0*np.count_nonzero(v[k]>th)/len(v[k]))\n",
    "            else:\n",
    "                eff[k].append(1.0*np.count_nonzero(v[k]<th)/len(v[k]))\n",
    "#     Plotting ROC curve\n",
    "\n",
    "    gr[name[i]] = create_TGraph(eff['QCD'],eff['bbbb_mh125_ctau1'],axis_title = ['#epsilon_{bkg}','#epsilon_{signal}'])\n",
    "    gr[name[i]].SetLineColor(std_color_list[i])\n",
    "    gr[name[i]].SetLineWidth(2)\n",
    "    gr[name[i]].SetMarkerColor(std_color_list[i])\n",
    "    leg.AddEntry(gr[name[i]],axis[i][0])\n",
    "\n",
    "    gr[name[i]].Draw('ac' if i==0 else 'c')\n",
    "leg.Draw()\n",
    "c.Draw()\n",
    "if calo:\n",
    "    c.SaveAs('../plots/trackless/caloROC.pdf')\n",
    "else:\n",
    "    c.SaveAs('../plots/trackless/pfROC.pdf')"
   ]
  },
  {
   "cell_type": "code",
   "execution_count": null,
   "metadata": {},
   "outputs": [],
   "source": []
  },
  {
   "cell_type": "code",
   "execution_count": null,
   "metadata": {},
   "outputs": [],
   "source": []
  },
  {
   "cell_type": "code",
   "execution_count": null,
   "metadata": {},
   "outputs": [],
   "source": []
  },
  {
   "cell_type": "code",
   "execution_count": null,
   "metadata": {},
   "outputs": [],
   "source": []
  },
  {
   "cell_type": "code",
   "execution_count": null,
   "metadata": {},
   "outputs": [],
   "source": []
  },
  {
   "cell_type": "code",
   "execution_count": null,
   "metadata": {},
   "outputs": [],
   "source": []
  },
  {
   "cell_type": "code",
   "execution_count": null,
   "metadata": {},
   "outputs": [],
   "source": []
  },
  {
   "cell_type": "code",
   "execution_count": null,
   "metadata": {},
   "outputs": [],
   "source": []
  },
  {
   "cell_type": "code",
   "execution_count": null,
   "metadata": {},
   "outputs": [],
   "source": []
  },
  {
   "cell_type": "code",
   "execution_count": null,
   "metadata": {},
   "outputs": [],
   "source": []
  },
  {
   "cell_type": "code",
   "execution_count": null,
   "metadata": {},
   "outputs": [],
   "source": []
  },
  {
   "cell_type": "code",
   "execution_count": null,
   "metadata": {},
   "outputs": [],
   "source": []
  },
  {
   "cell_type": "code",
   "execution_count": null,
   "metadata": {},
   "outputs": [],
   "source": []
  },
  {
   "cell_type": "code",
   "execution_count": null,
   "metadata": {},
   "outputs": [],
   "source": []
  },
  {
   "cell_type": "code",
   "execution_count": null,
   "metadata": {},
   "outputs": [],
   "source": []
  },
  {
   "cell_type": "code",
   "execution_count": null,
   "metadata": {},
   "outputs": [],
   "source": []
  },
  {
   "cell_type": "code",
   "execution_count": null,
   "metadata": {},
   "outputs": [],
   "source": []
  },
  {
   "cell_type": "code",
   "execution_count": null,
   "metadata": {},
   "outputs": [],
   "source": []
  }
 ],
 "metadata": {
  "kernelspec": {
   "display_name": "Python 2",
   "language": "python",
   "name": "python2"
  },
  "language_info": {
   "codemirror_mode": {
    "name": "ipython",
    "version": 3
   },
   "file_extension": ".py",
   "mimetype": "text/x-python",
   "name": "python",
   "nbconvert_exporter": "python",
   "pygments_lexer": "ipython3",
   "version": "3.6.8"
  }
 },
 "nbformat": 4,
 "nbformat_minor": 4
}
