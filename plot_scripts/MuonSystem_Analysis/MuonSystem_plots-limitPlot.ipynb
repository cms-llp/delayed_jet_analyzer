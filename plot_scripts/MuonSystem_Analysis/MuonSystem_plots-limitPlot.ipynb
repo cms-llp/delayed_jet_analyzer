{
 "cells": [
  {
   "cell_type": "code",
   "execution_count": 74,
   "metadata": {},
   "outputs": [
    {
     "name": "stdout",
     "output_type": "stream",
     "text": [
      "3.6.8 (default, Aug  7 2019, 17:28:10) \n",
      "[GCC 4.8.5 20150623 (Red Hat 4.8.5-39)]\n"
     ]
    }
   ],
   "source": [
    "import ROOT as rt\n",
    "# import root_numpy as rtnp\n",
    "import csv\n",
    "import re\n",
    "import sys\n",
    "import collections\n",
    "\n",
    "from collections import OrderedDict\n",
    "import uproot\n",
    "import pandas as pd\n",
    "\n",
    "import scipy\n",
    "import awkward\n",
    "import numpy as np\n",
    "import time\n",
    "import numba\n",
    "from numba import jit\n",
    "from matplotlib import pyplot as plt\n",
    "sys.path.append('/storage/user/christiw/gpu/christiw/llp/delayed_jet_analyzer/lib/')\n",
    "from histo_utilities import create_TH1D, create_TH2D, std_color_list, create_TGraph, make_ratio_plot\n",
    "\n",
    "import CMS_lumi, tdrstyle\n",
    "tdrstyle.setTDRStyle()\n",
    "CMS_lumi.writeExtraText = 0\n",
    "\n",
    "wH = 1\n",
    "Z_MASS = 91.2\n",
    "\n",
    "\n",
    "# donotdelete = []\n",
    "print(sys.version)"
   ]
  },
  {
   "cell_type": "markdown",
   "metadata": {},
   "source": [
    "# Load ntuples"
   ]
  },
  {
   "cell_type": "code",
   "execution_count": 97,
   "metadata": {},
   "outputs": [
    {
     "name": "stdout",
     "output_type": "stream",
     "text": [
      "[     30      40      50     100     200     300     500    1000    2000\n",
      "    3000    5000   10000   20000   30000   50000  100000  200000  300000\n",
      "  500000 1000000]\n",
      "[6.63578521e+08 2.45370490e+06 2.93037191e+04 1.51741520e+00\n",
      " 1.65867422e-01 5.57914130e-02 1.38616880e-02 3.43266769e-03\n",
      " 1.74085476e-03 1.39504475e-03 1.38203181e-03 1.87220303e-03\n",
      " 2.95256932e-03 4.23830250e-03 6.55301265e-03 1.17948998e-02\n",
      " 2.33876566e-02 3.80900623e-02 7.81833837e-02 2.42910885e-01]\n",
      "[4.32881301e+08 5.24799725e+08 6.63578521e+08 8.72537623e+08\n",
      " 1.15439074e+09 5.54758676e+08]\n",
      "[28.182951003744492, 70.84042834199988, 128.9386610600268, 473.3509889245033, 1007.6559756994247, 1251.0954836010933, 1481.4396607875824, 1530.0237245559692, 1318.0612030029297, 1093.2821378707886, 806.1834344863892, 474.7686071395874, 278.8763146549463, 190.15253621339798, 120.0227153301239, 68.28678965568542, 34.772210240364075, 20.867579638957977, 9.787645921111107, 3.0266139917075634, 0.09627277218896779, 0.45675520435906947, 1.3751005753874779, 22.78587254881859, 155.76929164844321, 335.37340783074796, 642.6099071623757, 1161.2872758507729, 1591.7576168626547, 1621.3704115450382, 1424.3977215886116, 974.397138863802, 588.7495691776276, 387.16615641117096, 230.22951835393906, 116.27365033328533, 59.77007211744785, 39.25568401813507, 20.995139848440886, 7.452171329641715, 1.949656232985708e-08, 6.393393107373413e-06, 0.00023354544100584462, 1.1996139883995056, 11.86941942874546, 34.867596892639995, 134.70130814611912, 550.7742587924004, 1148.8609194522724, 1444.8461290970445, 1481.0621498972178, 1122.507800348103, 735.5881497859955, 523.4996798038483, 337.39252734184265, 181.48734152317047, 89.18967527151108, 54.147981733083725, 26.08050973713398, 8.32995811663568]\n"
     ]
    }
   ],
   "source": [
    "limitTrees =OrderedDict()\n",
    "dataCards = OrderedDict()\n",
    "\n",
    "limitTrees10 =OrderedDict()\n",
    "dataCards10 = OrderedDict()\n",
    "\n",
    "version = '/V1p15/v3/v4/'\n",
    "OLD_CTAU = 1\n",
    "methodA = True\n",
    "nrechit = 130\n",
    "bdt_name = 'bdt_flatten_metfilter_me1112nohits_eta2p1_testsize0p2_abs_EtaPhi_v2'\n",
    "# limitDir = '/storage/user/christiw/login-1/christiw/LLP/CMSSW_10_2_13/src/HiggsAnalysis/MuonSystemLimit/combine/limitTrees/'+version\n",
    "# dataCardDir = '/storage/user/christiw/login-1/christiw/LLP/CMSSW_10_2_13/src/HiggsAnalysis/MuonSystemLimit/combine/datacards/'+version\n",
    "limitDir = '/storage/user/christiw/login-1/christiw/LLP/CMSSW_10_2_13/src/HiggsAnalysis/MuonSystemLimit/combine/limitTrees/'+version+'/'+bdt_name+'/'\n",
    "dataCardDir = '/storage/user/christiw/login-1/christiw/LLP/CMSSW_10_2_13/src/HiggsAnalysis/MuonSystemLimit/combine/datacards/'+version+'/'+bdt_name+'/'\n",
    "if methodA:\n",
    "    limitDir+='methodA/'\n",
    "    dataCardDir+='methodA/'\n",
    "else:\n",
    "    limitDir+='methodB/'\n",
    "    dataCardDir+='methodB/'\n",
    "lumi = 137000\n",
    "# ctaus = np.array([5, 10, 30, 50, 100, 500, 1000, 5000, 10000])\n",
    "# signal_norm = [0.21486444425582887, 0.8782269554138182, 12.492485580444336, 23.266965423583986, 40.29793115234375, 43.2841708984375]\n",
    "\n",
    "\n",
    "ctaus = np.array([30, 40, 50, 100, 200, 300, 500, 1000, 2000, 3000, 5000, 10000, 20000, 30000, 50000, 100000, 200000, 300000, 500000, 1000000])\n",
    "# ctaus = np.array([5, 10, 30, 40, 50, 100, 200, 300, 500, 1000, 5000, 10000, 100000])\n",
    "# ctaus = np.array([100, 1000, 10000, 100000])\n",
    "mass = np.array([15,40,55])\n",
    "# assert(len(ctaus) == len(signal_norm))\n",
    "\n",
    "### limit branch: 2.5, 16.0, 50.0, 84.0, 97.5, obs\n",
    "\n",
    "for m in mass:\n",
    "    limitTrees[m] = {}\n",
    "    dataCards[m] = {}\n",
    "    for ct in ctaus:\n",
    "#     OLD_CTAU = 1\n",
    "#     limitTrees[ct] = limitDir + 'higgsCombine.ctau'+str(OLD_CTAU)+'m_reweight_ctau' + str(ct) + 'cm_nRechit'+ str(nrechit)+ 'dPhi0p6.AsymptoticLimits.mH120.root'\n",
    "#     dataCards[ct] = dataCardDir + 'ggh_mh125_mx55_ctau'+str(OLD_CTAU)+'m_reweight_' + str(ct) + 'cm_nRechit'+ str(nrechit)+ 'dPhi0p6.txt'\n",
    "    \n",
    "#     OLD_CTAU = 10\n",
    "#     limitTrees10[ct] = limitDir + 'higgsCombine.ctau'+str(OLD_CTAU)+'m_reweight_ctau' + str(ct) + 'cm_nRechit'+ str(nrechit)+ 'dPhi0p6.AsymptoticLimits.mH120.root'\n",
    "#     dataCards10[ct] = dataCardDir + 'ggh_mh125_mx55_ctau'+str(OLD_CTAU)+'m_reweight_' + str(ct) + 'cm_nRechit'+ str(nrechit)+ 'dPhi0p6.txt'\n",
    "        limitTrees[m][ct] = limitDir + 'higgsCombine.ggh_mh125_mx'+str(m)+'_ctau'+str(ct)+'mm_nRechit'+ str(nrechit)+ 'dPhiCluster0p75.AsymptoticLimits.mH120.root'\n",
    "        dataCards[m][ct] = dataCardDir + 'ggh_mh125_mx'+str(m)+'_ctau'+str(ct)+'mm_nRechit'+ str(nrechit)+ 'dPhiCluster0p75.txt'\n",
    "\n",
    "        \n",
    "norms = []\n",
    "limits = {}\n",
    "# higgsCombine.ggh_mh125_mx15_ctau100000mm_nRechit130dPhiCluster0p75.AsymptoticLimits.mH120.root\n",
    "# higgsCombine.ggh_mh125_mx55_ctau100mm_nRechit130dPhi0p6.AsymptoticLimits.mH120.root'\n",
    "for i,m in enumerate(limitTrees.keys()):\n",
    "#     limits[m] = np.ones((len(ctaus), 6))\n",
    "\n",
    "    for j, k in enumerate(limitTrees[m].keys()):\n",
    "\n",
    "        T = uproot.open(limitTrees[m][k])['limit']\n",
    "    #     T10 = uproot.open(limitTrees10[k])['limit']\n",
    "        line = open(dataCards[m][k], \"r\").readline()\n",
    "        signal_norm = float(line.split(\" \")[3])\n",
    "    #     line = open(dataCards10[k], \"r\").readline()\n",
    "    #     signal_norm10 = float(line.split(\" \")[3])\n",
    "\n",
    "    #     if T.array('limit')[2]/signal_norm < T10.array('limit')[2]/signal_norm10:\n",
    "    #         limit_temp = np.array(T.array('limit'))/signal_norm\n",
    "    #         norms.append(signal_norm)\n",
    "    #     else:\n",
    "    #         limit_temp = np.array(T10.array('limit'))/signal_norm10\n",
    "    #         norms.append(signal_norm10)\n",
    "        limit_temp = np.array(T.array('limit'))/signal_norm\n",
    "        norms.append(signal_norm)\n",
    "    #     if float(k) <= 10:\n",
    "    #         limit_temp = np.array(T.array('limit'))/signal_norm\n",
    "    #         norms.append(signal_norm)\n",
    "\n",
    "    #     else:\n",
    "    #         limit_temp = np.array(T10.array('limit'))/signal_norm10\n",
    "    #         norms.append(signal_norm10)\n",
    "\n",
    "    #     limit_temp = np.array(T10.array('limit'))/signal_norm10\n",
    "    #     norms.append(signal_norm10)\n",
    "\n",
    "    \n",
    "    \n",
    "    \n",
    "        if j == 0: limits[m] = limit_temp\n",
    "        else: limits[m] = np.vstack((limits[m], limit_temp))\n",
    "    limits[m] = np.array(limits[m])\n",
    "print(ctaus)\n",
    "print(limits[m][:,2])\n",
    "print(limits[m][0])\n",
    "print(norms)\n",
    "#[0.00941727 0.00232179 0.00032019 0.0002337  0.00017991 0.00017472]\n",
    "\n"
   ]
  },
  {
   "cell_type": "markdown",
   "metadata": {},
   "source": [
    "# load atlas limit"
   ]
  },
  {
   "cell_type": "code",
   "execution_count": 135,
   "metadata": {},
   "outputs": [
    {
     "name": "stdout",
     "output_type": "stream",
     "text": [
      "(130, 2)\n"
     ]
    }
   ],
   "source": [
    "file_dir = '/storage/user/christiw/login-1/christiw/LLP/CMSSW_10_2_13/src/HiggsAnalysis/MuonSystemLimit/data/limits_others/'\n",
    "ms1_40 = file_dir + 'atlas_mh125_mx40_ms1.csv'\n",
    "ms2_40 = file_dir + 'atlas_mh125_mx40_ms2.csv'\n",
    "id55 = file_dir + 'atlas_mh125_mx55_id.csv'\n",
    "comb40 = file_dir + 'atlas_mh125_mx40_id_cr_ms2.csv'\n",
    "jingyu = file_dir + 'jingyu_mh125_mx55_95p9ifb.csv'\n",
    "ms_40 = file_dir + 'atlas_mh125_mx40_ms.csv'\n",
    "ms_15 = file_dir + 'atlas_mh125_mx15_ms.csv'\n",
    "\n",
    "ms_40 = np.genfromtxt(ms_40, delimiter=',')\n",
    "ms_15 = np.genfromtxt(ms_15, delimiter=',')\n",
    "ms1_40 = np.genfromtxt(ms1_40, delimiter=',')\n",
    "ms2_40 = np.genfromtxt(ms2_40, delimiter=',')\n",
    "id55 = np.genfromtxt(id55, delimiter=',')\n",
    "comb40 = np.genfromtxt(comb40, delimiter=',')\n",
    "jingyu = np.genfromtxt(jingyu, delimiter=',')\n",
    "print(comb40.shape)"
   ]
  },
  {
   "cell_type": "markdown",
   "metadata": {},
   "source": [
    "# Plot"
   ]
  },
  {
   "cell_type": "code",
   "execution_count": 139,
   "metadata": {},
   "outputs": [
    {
     "name": "stdout",
     "output_type": "stream",
     "text": [
      "[3.e-02 4.e-02 5.e-02 1.e-01 2.e-01 3.e-01 5.e-01 1.e+00 2.e+00 3.e+00\n",
      " 5.e+00 1.e+01 2.e+01 3.e+01 5.e+01 1.e+02 2.e+02 3.e+02 5.e+02 1.e+03]\n",
      "56\n",
      "[0.0632031  0.02536511 0.01399648 0.0038951  0.00193829 0.00159235\n",
      " 0.00141332 0.00152673 0.00194414 0.00251536 0.00368247 0.00684544\n",
      " 0.01075746 0.01651635 0.02851023 0.0556019  0.11368633 0.1916849\n",
      " 0.41346765 1.34742158]\n",
      "[1.77717693e+01 3.89979136e+00 1.34081102e+00 8.22878297e-02\n",
      " 1.21373409e-02 5.56748823e-03 2.94210372e-03 1.69531695e-03\n",
      " 1.28101319e-03 1.28170897e-03 1.48637383e-03 2.19687119e-03\n",
      " 3.87473744e-03 5.87199439e-03 9.84072336e-03 1.94180925e-02\n",
      " 3.73828393e-02 5.67194931e-02 1.05679220e-01 2.96683665e-01]\n",
      "[6.63578521e+08 2.45370490e+06 2.93037191e+04 1.51741520e+00\n",
      " 1.65867422e-01 5.57914130e-02 1.38616880e-02 3.43266769e-03\n",
      " 1.74085476e-03 1.39504475e-03 1.38203181e-03 1.87220303e-03\n",
      " 2.95256932e-03 4.23830250e-03 6.55301265e-03 1.17948998e-02\n",
      " 2.33876566e-02 3.80900623e-02 7.81833837e-02 2.42910885e-01]\n",
      "137.0 fb^{-1} (13 TeV)\n"
     ]
    },
    {
     "name": "stderr",
     "output_type": "stream",
     "text": [
      "Warning in <TCanvas::Constructor>: Deleting canvas with same name: c\n"
     ]
    },
    {
     "data": {
      "image/png": "[encoded data removed]",
      "text/plain": [
       "<IPython.core.display.Image object>"
      ]
     },
     "metadata": {},
     "output_type": "display_data"
    }
   ],
   "source": [
    "import importlib\n",
    "importlib.reload(sys.modules['histo_utilities'])\n",
    "from histo_utilities import create_TH1D, create_TH2D, std_color_list, create_TGraph, make_ratio_plot\n",
    "leg = rt.TLegend(0.4,0.80,0.8,0.9)\n",
    "leg.SetTextSize(0.025)\n",
    "leg.SetBorderSize(0)\n",
    "leg.SetEntrySeparation(0.01)\n",
    "\n",
    "\n",
    "\n",
    "c = rt.TCanvas('c','c', 800, 800)\n",
    "# Plotting ncsc\n",
    "start_t = time.time()\n",
    "\n",
    "rt.gStyle.SetOptFit(1011)\n",
    "# for i,k in enumerate(tree_bkg.keys()):\n",
    "br = 1\n",
    "ctaus_m = ctaus/1000\n",
    "print(ctaus_m)\n",
    "# print(limits[:,2])\n",
    "h_others = {}\n",
    "h = {}\n",
    "h_exp1sig = {}\n",
    "h_exp2sig = {}\n",
    "h_others['ms_15'] = create_TGraph(ms_15[:,0],ms_15[:,1],  axis_title=['c#tau [m]', '95% CL Limit on BR'])\n",
    "# h_others['ms_40'] = create_TGraph(ms_40[:,0],ms_40[:,1],  axis_title=['c#tau [m]', '95% CL Limit on BR'])\n",
    "print(len(ms_15))\n",
    "h_others['ms1_40'] = create_TGraph(ms1_40[:,0],ms1_40[:,1],  axis_title=['c#tau [m]', '95% CL Limit on BR'])\n",
    "# h_others['ms2_40'] = create_TGraph(ms2_40[:,0],ms2_40[:,1],  axis_title=['c#tau [m]', '95% CL Limit on BR'])\n",
    "# h_others['id55'] = create_TGraph(id55[:,0],id55[:,1],  axis_title=['c#tau [m]', '95% CL Limit on BR'])\n",
    "# h_others['comb40'] = create_TGraph(comb40[:,0],comb40[:,1],  axis_title=['c#tau [m]', '95% CL Limit on BR'])\n",
    "# h_others['jingyu'] = create_TGraph(jingyu[:,0],jingyu[:,1],  axis_title=['c#tau [m]', '95% CL Limit on BR'])\n",
    "# leg.AddEntry(h_others['ms_40'], \"ATLAS MS, m_{x} = 40 GeV, 36fb^{-1}\", 'L')\n",
    "leg.AddEntry(h_others['ms_15'], \"ATLAS MS, m_{x} = 15 GeV, 36fb^{-1}\", 'L')\n",
    "leg.AddEntry(h_others['ms1_40'], \"ATLAS 1MSV, m_{x} = 40 GeV, 36fb^{-1}\", 'L')\n",
    "# leg.AddEntry(h_others['ms2_40'], \"ATLAS 2MSV, m_{x} = 40 GeV, 36fb^{-1}\", 'L')\n",
    "# leg.AddEntry(h_others['id55'], \"ATLAS ID, m_{x} = 55 GeV, 36fb^{-1}\", 'L')\n",
    "# leg.AddEntry(h_others['comb40'], \"ATLAS ID+CR+MS2, m_{x} = 40 GeV, 36fb^{-1}\", 'L')\n",
    "# leg.AddEntry(h_others['jingyu'], \"CMS displaced jet, m_{x} = 55 GeV, 95.9fb^{-1}\", 'L')\n",
    "\n",
    "for i, m in enumerate(mass):\n",
    "#     if not m == 15: continue\n",
    "    print(limits[m][:,2])\n",
    "    h[m] = create_TGraph(ctaus_m, limits[m][:,2],  axis_title=['c#tau [m]', '95% CL Limit on BR'])\n",
    "    h_exp1sig[m] = create_TGraph(np.hstack((ctaus_m, np.flip(ctaus_m))), np.hstack((limits[m][:,1], np.flip(limits[m][:,3]))))\n",
    "    h_exp2sig[m] = create_TGraph(np.hstack((ctaus_m, np.flip(ctaus_m))), np.hstack((limits[m][:,0], np.flip(limits[m][:,4]))))\n",
    "#     leg.AddEntry(h[m], \"Expected  95% CL upper limit\", \"L\")\n",
    "    leg.AddEntry(h[m], \"m_{x} = \"+str(m)+\" GeV\", \"L\")\n",
    "\n",
    "#     leg.AddEntry(h_exp1sig[m], \"#pm 1 #sigma Expected\", 'F')\n",
    "#     leg.AddEntry(h_exp2sig[m], \"#pm 2 #sigma Expected\", 'F')\n",
    "    h_exp1sig[m].SetFillColor(std_color_list[3])\n",
    "    h_exp2sig[m].SetFillColor(5)\n",
    "    h[m].SetLineColor(std_color_list[i])\n",
    "    h[m].SetLineWidth(2)\n",
    "    h[m].GetXaxis().SetLimits(0.01,1000.0)\n",
    "    h[m].GetYaxis().SetRangeUser(1e-4,100)\n",
    "    h[m].GetXaxis().SetTitleOffset(1)\n",
    "\n",
    "\n",
    "for i,m in enumerate(h.keys()):\n",
    "#     if m == 15: continue\n",
    "#     if m == 40:continue\n",
    "    h[m].Draw('LA' if i == 0 else 'Lsame')\n",
    "#     h_exp2sig[m].Draw('Fsame')\n",
    "#     h_exp1sig[m].Draw('Fsame')\n",
    "#     h[m].Draw('Lsame')\n",
    "for i, k in enumerate(h_others.keys()): \n",
    "    h_others[k].SetLineWidth(2)\n",
    "#     if i < 4:h_others[k].SetLineColor(std_color_list[i-1])\n",
    "    h_others[k].SetLineColor(std_color_list[i])\n",
    "    h_others[k].SetLineStyle(2)\n",
    "#     h_others[k].SetLineColor(std_color_list[2])\n",
    "#     h_others[k].Draw('Lsame')\n",
    "# h_others['ms_40'].Draw('Lsame')\n",
    "h_others['ms_15'].Draw('Lsame')\n",
    "\n",
    "h_others['ms1_40'].Draw('Lsame')\n",
    "# h_others['ms2_40'].Draw('Lsame')\n",
    "# h_others['id55'].Draw('Lsame')\n",
    "# h_others['comb40'].Draw('Lsame')\n",
    "# h_others['jingyu'].Draw('Lsame')\n",
    "\n",
    "\n",
    "    \n",
    "CMS_lumi.lumi_13TeV = str(round(lumi/1000,2))+\" fb^{-1}\"\n",
    "CMS_lumi.cmsText = \"\"\n",
    "CMS_lumi.relPosY = 0.05\n",
    "CMS_lumi.writeExtraText = False\n",
    "CMS_lumi.CMS_lumi(c,4,4)\n",
    "\n",
    "\n",
    "\n",
    "leg.Draw()\n",
    "c.SetRightMargin(0.03)\n",
    "c.SetLogy()\n",
    "c.SetLogx()\n",
    "\n",
    "c.Draw()\n",
    "# print(time.time()-start_t)"
   ]
  },
  {
   "cell_type": "markdown",
   "metadata": {},
   "source": [
    "# limit for different mass points"
   ]
  },
  {
   "cell_type": "code",
   "execution_count": 96,
   "metadata": {},
   "outputs": [
    {
     "name": "stdout",
     "output_type": "stream",
     "text": [
      "[3.e-02 4.e-02 5.e-02 1.e-01 2.e-01 3.e-01 5.e-01 1.e+00 2.e+00 3.e+00\n",
      " 5.e+00 1.e+01 2.e+01 3.e+01 5.e+01 1.e+02 2.e+02 3.e+02 5.e+02 1.e+03]\n",
      "137.0 fb^{-1} (13 TeV)\n",
      "137.0 fb^{-1} (13 TeV)\n",
      "137.0 fb^{-1} (13 TeV)\n"
     ]
    },
    {
     "name": "stderr",
     "output_type": "stream",
     "text": [
      "Warning in <TCanvas::Constructor>: Deleting canvas with same name: c\n",
      "Info in <TCanvas::Print>: png file ggH_m15_limitPlot_cluster.png has been created\n",
      "Warning in <TCanvas::Constructor>: Deleting canvas with same name: c\n",
      "Info in <TCanvas::Print>: png file ggH_m40_limitPlot_cluster.png has been created\n",
      "Warning in <TCanvas::Constructor>: Deleting canvas with same name: c\n",
      "Info in <TCanvas::Print>: png file ggH_m55_limitPlot_cluster.png has been created\n"
     ]
    },
    {
     "data": {
      "image/png": "[encoded data removed]",
      "text/plain": [
       "<IPython.core.display.Image object>"
      ]
     },
     "metadata": {},
     "output_type": "display_data"
    }
   ],
   "source": [
    "import importlib\n",
    "importlib.reload(sys.modules['histo_utilities'])\n",
    "from histo_utilities import create_TH1D, create_TH2D, std_color_list, create_TGraph, make_ratio_plot\n",
    "\n",
    "\n",
    "\n",
    "# Plotting ncsc\n",
    "start_t = time.time()\n",
    "\n",
    "rt.gStyle.SetOptFit(1011)\n",
    "# for i,k in enumerate(tree_bkg.keys()):\n",
    "br = 1\n",
    "ctaus_m = ctaus/1000\n",
    "print(ctaus_m)\n",
    "# print(limits[:,2])\n",
    "h_others = {}\n",
    "h = {}\n",
    "h_exp1sig = {}\n",
    "h_exp2sig = {}\n",
    "\n",
    "for m in mass:\n",
    "# m = 55\n",
    "    c = rt.TCanvas('c','c', 800, 800)\n",
    "    leg = rt.TLegend(0.5,0.73,0.80,0.92)\n",
    "    leg.SetTextSize(0.03)\n",
    "    leg.SetBorderSize(0)\n",
    "    leg.SetEntrySeparation(0.01)\n",
    "\n",
    "    h[m] = create_TGraph(ctaus_m, limits[m][:,2],  axis_title=['c#tau [m]', '95% CL Limit on BR'])\n",
    "    h_exp1sig[m] = create_TGraph(np.hstack((ctaus_m, np.flip(ctaus_m))), np.hstack((limits[m][:,1], np.flip(limits[m][:,3]))))\n",
    "    h_exp2sig[m] = create_TGraph(np.hstack((ctaus_m, np.flip(ctaus_m))), np.hstack((limits[m][:,0], np.flip(limits[m][:,4]))))\n",
    "    leg.AddEntry(h[m], \"Expected  95% CL upper limit\", \"L\")\n",
    "    leg.AddEntry(h_exp1sig[m], \"#pm 1 #sigma Expected\", 'F')\n",
    "    leg.AddEntry(h_exp2sig[m], \"#pm 2 #sigma Expected\", 'F')\n",
    "    h[m].SetLineColor(std_color_list[0])\n",
    "    h[m].SetLineWidth(2)\n",
    "    h_exp1sig[m].SetFillColor(417)\n",
    "    h_exp2sig[m].SetFillColor(800)\n",
    "    h[m].GetXaxis().SetLimits(0.01,1000.0)\n",
    "    h[m].GetYaxis().SetRangeUser(1e-5,100)\n",
    "    h[m].GetXaxis().SetTitleOffset(1)\n",
    "\n",
    "    h[m].Draw('LA')\n",
    "    h_exp2sig[m].Draw( 'Fsame')\n",
    "    h_exp1sig[m].Draw('Fsame')\n",
    "    h[m].Draw('Lsame')\n",
    "\n",
    "\n",
    "\n",
    "    CMS_lumi.lumi_13TeV = str(round(lumi/1000,2))+\" fb^{-1}\"\n",
    "    CMS_lumi.cmsText = \"\"\n",
    "#     CMS_lumi.relPosY = 0.05\n",
    "#     CMS_lumi.relPosX = 0.1\n",
    "\n",
    "    CMS_lumi.writeExtraText = 0\n",
    "#     CMS_lumi.extraText = \"Preliminary\"\n",
    "    CMS_lumi.CMS_lumi(c,4,4)\n",
    "    CMS_lumi.lumi_sqrtS = \"13 TeV\" # used with iPeriod = 0, e.g. for simulation-only plots (default is an empty string)\n",
    "\n",
    "\n",
    "    # CMS_lumi.lumi_7TeV = \"4.8 fb^{-1}\"\n",
    "    # CMS_lumi.lumi_8TeV = \"18.3 fb^{-1}\"\n",
    "    # CMS_lumi.writeExtraText = 1\n",
    "    # CMS_lumi.extraText = \"Preliminary\"\n",
    "\n",
    "    leg.Draw()\n",
    "    c.SetRightMargin(0.03)\n",
    "    c.SetLogy()\n",
    "    c.SetLogx()\n",
    "\n",
    "    c.Draw()\n",
    "    c.SaveAs('ggH_m'+str(m)+'_limitPlot_cluster.png')\n",
    "# print(time.time()-start_t)"
   ]
  },
  {
   "cell_type": "markdown",
   "metadata": {},
   "source": [
    "# limit for different nrechits"
   ]
  },
  {
   "cell_type": "markdown",
   "metadata": {},
   "source": [
    "##### load ntuples"
   ]
  },
  {
   "cell_type": "code",
   "execution_count": 76,
   "metadata": {},
   "outputs": [
    {
     "name": "stdout",
     "output_type": "stream",
     "text": [
      "[ 60  70  80  90 100 110 120 130 140 150 160]\n",
      "4408.6542, 4224.96053, 3790.77487, 3306.49085, 2989.20133, 2404.72062, 2221.02668, 2120.82999, 1887.03771, 1745.09239, 1607.32194\n",
      "1.71778, 1.64621, 1.47703, 1.28834, 1.16471, 0.93697, 0.8654, 0.82636, 0.73526, 0.68646, 0.62953\n",
      "0.01843, 0.01762, 0.01586, 0.01445, 0.01303, 0.01056, 0.00999, 0.00952, 0.00921, 0.00938, 0.00861\n",
      "0.01075, 0.01026, 0.00927, 0.00859, 0.00776, 0.00636, 0.00613, 0.00579, 0.00577, 0.00602, 0.00553\n",
      "0.00804, 0.00758, 0.00683, 0.00643, 0.00581, 0.0048, 0.00468, 0.00441, 0.00444, 0.00467, 0.00428\n",
      "0.0056, 0.00516, 0.00459, 0.0043, 0.00393, 0.0033, 0.00329, 0.00306, 0.0031, 0.00318, 0.00293\n",
      "0.00675, 0.00666, 0.00571, 0.00526, 0.00482, 0.00403, 0.00403, 0.00379, 0.00381, 0.00379, 0.00351\n",
      "0.00867, 0.00899, 0.00756, 0.0069, 0.00638, 0.00528, 0.00526, 0.00499, 0.00499, 0.00494, 0.00458\n",
      "0.01266, 0.0138, 0.01136, 0.01038, 0.00964, 0.00798, 0.00784, 0.00745, 0.00739, 0.00736, 0.0068\n",
      "0.02343, 0.02709, 0.02171, 0.01994, 0.01869, 0.01549, 0.01509, 0.01429, 0.01389, 0.01377, 0.01263\n",
      "0.2028, 0.27157, 0.21325, 0.19323, 0.18278, 0.15189, 0.15145, 0.14057, 0.13187, 0.12925, 0.11707\n",
      "0.67845, 0.93109, 0.73522, 0.66425, 0.63019, 0.52516, 0.52516, 0.48542, 0.45419, 0.44425, 0.40025\n",
      "2.47784, 3.42615, 2.72257, 2.45745, 2.33508, 1.9425, 1.9578, 1.80485, 1.68248, 1.6417, 1.47855\n",
      "14.61218, 20.33777, 16.28214, 14.67182, 13.89648, 11.57046, 11.68974, 10.7653, 10.0496, 9.78121, 8.82695\n",
      "57.15394, 80.01552, 64.15239, 57.62051, 54.82114, 45.72316, 46.07308, 42.45722, 39.54119, 38.49143, 34.75893\n"
     ]
    }
   ],
   "source": [
    "limitTrees =OrderedDict()\n",
    "dataCards = OrderedDict()\n",
    "version = '/V1p14/v1/v1/'\n",
    "OLD_CTAU = 10 #m\n",
    "bdt_name = 'bdt_flatten_metfilter_me1112nohits_eta2p1_testsize0p2_abs_EtaPhi_v2'\n",
    "methodA = True\n",
    "dphi = 'dPhiCluster0p75'\n",
    "# NEW_CTAU = 60 #cm\n",
    "limitDir = '/storage/user/christiw/login-1/christiw/LLP/CMSSW_10_2_13/src/HiggsAnalysis/MuonSystemLimit/combine/limitTrees/'+version+'/'+bdt_name+'/'\n",
    "dataCardDir = '/storage/user/christiw/login-1/christiw/LLP/CMSSW_10_2_13/src/HiggsAnalysis/MuonSystemLimit/combine/datacards/'+version+'/'+bdt_name+'/'\n",
    "if methodA:\n",
    "    limitDir+='methodA/'\n",
    "    dataCardDir+='methodA/'\n",
    "else:\n",
    "    limitDir+='methodB/'\n",
    "    dataCardDir+='methodB/'\n",
    "    \n",
    "nRechits = np.arange(60,170,10)\n",
    "ctaus = np.array([5, 10, 30, 40, 50, 100, 200, 300, 500, 1000, 5000, 10000, 20000, 50000, 100000])\n",
    "# ctaus = np.array([100, 300, 500, 1000, 10000])\n",
    "\n",
    "print(nRechits)\n",
    "limits = np.ones((len(ctaus),len(nRechits), 6))\n",
    "\n",
    "for i, NEW_CTAU in enumerate(ctaus):\n",
    "#     if not NEW_CTAU == 100:continue\n",
    "    ### limit branch: 2.5, 16.0, 50.0, 84.0, 97.5, obs\n",
    "#     print(str(NEW_CTAU))\n",
    "    for j,nRechit in enumerate(nRechits):\n",
    "        limitTrees[str(nRechit)] = limitDir + 'higgsCombine.ctau'+str(OLD_CTAU)+'m_reweight_ctau' + str(NEW_CTAU) + 'cm_nRechit'+str(nRechit)+dphi+'.AsymptoticLimits.mH120.root'\n",
    "        dataCards[str(nRechit)] = dataCardDir + 'ggh_mh125_mx55_ctau'+str(OLD_CTAU)+'m_reweight_' + str(NEW_CTAU) + 'cm_nRechit'+str(nRechit)+dphi+'.txt'\n",
    "    for j,k in enumerate(limitTrees.keys()):\n",
    "        root_dir = uproot.open(limitTrees[k]) \n",
    "        T = root_dir['limit']\n",
    "        text_file = open(dataCards[k], \"r\")\n",
    "        line = text_file.readline()\n",
    "        signal_norm = float(line.split(\" \")[3])\n",
    "        limits[i,j] = np.array(T.array('limit'))/signal_norm\n",
    "#         print(i,j, limits[i,j])\n",
    "#         if i == 0: limits[i] = np.array(T.array('limit'))/signal_norm\n",
    "#         else: limits[i] = np.vstack((limits[i], T.array('limit')/signal_norm))\n",
    "    #     print(\"signal_norm\",signal_norm)\n",
    "#     limits = np.array(limits)\n",
    "#     print(str([round(i, 5) for i in limits[:,2]])[1:-1])\n",
    "    \n",
    "#     result = nRechits[np.where(limits[:,2] == np.amin(limits[:,2]))]\n",
    "#     print(NEW_CTAU, \"nRechits cut with minimum limit: \", result)\n",
    "#[0.00941727 0.00232179 0.00032019 0.0002337  0.00017991 0.00017472]\n",
    "# print(limits.shape)\n",
    "for i in limits[:,:,2]:\n",
    "    print(str([round(j,5) for j in i])[1:-1])\n",
    "\n"
   ]
  },
  {
   "cell_type": "code",
   "execution_count": null,
   "metadata": {},
   "outputs": [],
   "source": []
  },
  {
   "cell_type": "markdown",
   "metadata": {},
   "source": [
    "#### plot limit vs. nrechit"
   ]
  },
  {
   "cell_type": "code",
   "execution_count": 62,
   "metadata": {},
   "outputs": [
    {
     "name": "stdout",
     "output_type": "stream",
     "text": [
      "nRechits cut with minimum limit:  [160]\n",
      "nRechits cut with minimum limit:  [160]\n",
      "nRechits cut with minimum limit:  [160]\n",
      "nRechits cut with minimum limit:  [160]\n",
      "nRechits cut with minimum limit:  [160]\n"
     ]
    },
    {
     "name": "stderr",
     "output_type": "stream",
     "text": [
      "Warning in <TCanvas::Constructor>: Deleting canvas with same name: c\n"
     ]
    },
    {
     "data": {
      "image/png": "[encoded data removed]",
      "text/plain": [
       "<IPython.core.display.Image object>"
      ]
     },
     "metadata": {},
     "output_type": "display_data"
    }
   ],
   "source": [
    "import importlib\n",
    "importlib.reload(sys.modules['histo_utilities'])\n",
    "from histo_utilities import create_TH1D, create_TH2D, std_color_list, create_TGraph, make_ratio_plot\n",
    "leg = rt.TLegend(0.25,0.75,0.55,0.90)\n",
    "leg.SetTextSize(0.03)\n",
    "leg.SetBorderSize(0)\n",
    "leg.SetEntrySeparation(0.01)\n",
    "\n",
    "\n",
    "\n",
    "c = rt.TCanvas('c','c', 900, 800)\n",
    "# Plotting ncsc\n",
    "start_t = time.time()\n",
    "\n",
    "rt.gStyle.SetOptFit(1011)\n",
    "h = {}\n",
    "h_exp2sig = {}\n",
    "h_exp1sig = {}\n",
    "\n",
    "for i, ct in enumerate(ctaus):\n",
    "\n",
    "#     print(limits[i,2])\n",
    "#     print(limits[i,:,2])\n",
    "    h[ct] = create_TGraph(nRechits, limits[i,:,2],  axis_title=['N_{rechits} cut', '95% CL Limit on BR'])\n",
    "#     h_exp1sig = create_TGraph(np.hstack((nRechits, np.flip(nRechits))), np.hstack((limits[:,1], np.flip(limits[:,3]))))\n",
    "#     h_exp2sig = create_TGraph(np.hstack((nRechits, np.flip(nRechits))), np.hstack((limits[:,0], np.flip(limits[:,4]))))\n",
    "    leg.AddEntry(h[ct], 'c#tau = '+str(int(int(ct)/100))+' m', \"L\")\n",
    "#     leg.AddEntry(h_exp1sig, \"#pm 1 #sigma Expected\", 'F')\n",
    "#     leg.AddEntry(h_exp2sig, \"#pm 2 #sigma Expected\", 'F')\n",
    "\n",
    "#     h_exp1sig.SetFillColor(std_color_list[3])\n",
    "#     h_exp2sig.SetFillColor(5)\n",
    "    h[ct].SetLineColor(std_color_list[i])\n",
    "    h[ct].SetLineWidth(2)\n",
    "\n",
    "    h[ct].Draw('ac' if i == 0 else 'c')\n",
    "\n",
    "    h[ct].GetXaxis().SetLimits(50,200)\n",
    "    h[ct].GetYaxis().SetRangeUser(1e-3,100)\n",
    "    h[ct].GetXaxis().SetTitleOffset(1)\n",
    "\n",
    "#     h_exp2sig.Draw('Fsame')\n",
    "#     h_exp1sig.Draw('Fsame')\n",
    "#     h.Draw('Lsame')\n",
    "\n",
    "    result = nRechits[np.where(limits[i,:,2] == np.amin(limits[i,:,2]))]\n",
    "    print(\"nRechits cut with minimum limit: \", result)\n",
    "\n",
    "\n",
    "\n",
    "\n",
    "leg.Draw()\n",
    "c.SetRightMargin(0.1)\n",
    "c.SetLogy()\n",
    "# c.SetLogx()\n",
    "\n",
    "c.Draw()\n",
    "# print(time.time()-start_t)"
   ]
  },
  {
   "cell_type": "markdown",
   "metadata": {},
   "source": []
  },
  {
   "cell_type": "code",
   "execution_count": null,
   "metadata": {},
   "outputs": [],
   "source": []
  },
  {
   "cell_type": "markdown",
   "metadata": {},
   "source": []
  },
  {
   "cell_type": "code",
   "execution_count": null,
   "metadata": {},
   "outputs": [],
   "source": []
  },
  {
   "cell_type": "code",
   "execution_count": null,
   "metadata": {},
   "outputs": [],
   "source": []
  },
  {
   "cell_type": "markdown",
   "metadata": {},
   "source": []
  },
  {
   "cell_type": "code",
   "execution_count": null,
   "metadata": {},
   "outputs": [],
   "source": []
  },
  {
   "cell_type": "code",
   "execution_count": null,
   "metadata": {},
   "outputs": [],
   "source": []
  },
  {
   "cell_type": "code",
   "execution_count": null,
   "metadata": {},
   "outputs": [],
   "source": []
  },
  {
   "cell_type": "markdown",
   "metadata": {},
   "source": []
  },
  {
   "cell_type": "code",
   "execution_count": null,
   "metadata": {},
   "outputs": [],
   "source": []
  },
  {
   "cell_type": "markdown",
   "metadata": {},
   "source": []
  },
  {
   "cell_type": "code",
   "execution_count": null,
   "metadata": {},
   "outputs": [],
   "source": []
  },
  {
   "cell_type": "markdown",
   "metadata": {},
   "source": [
    "# create datacard"
   ]
  },
  {
   "cell_type": "code",
   "execution_count": 134,
   "metadata": {},
   "outputs": [],
   "source": []
  },
  {
   "cell_type": "markdown",
   "metadata": {},
   "source": [
    "# check correlation"
   ]
  },
  {
   "cell_type": "code",
   "execution_count": null,
   "metadata": {},
   "outputs": [],
   "source": []
  },
  {
   "cell_type": "code",
   "execution_count": null,
   "metadata": {},
   "outputs": [],
   "source": []
  },
  {
   "cell_type": "markdown",
   "metadata": {},
   "source": [
    "## Distribution for event level variables in different binnings"
   ]
  },
  {
   "cell_type": "code",
   "execution_count": null,
   "metadata": {},
   "outputs": [],
   "source": []
  },
  {
   "cell_type": "markdown",
   "metadata": {},
   "source": [
    "# Roc curve for event level variables"
   ]
  },
  {
   "cell_type": "code",
   "execution_count": null,
   "metadata": {},
   "outputs": [],
   "source": []
  },
  {
   "cell_type": "code",
   "execution_count": null,
   "metadata": {},
   "outputs": [],
   "source": []
  },
  {
   "cell_type": "markdown",
   "metadata": {},
   "source": [
    "# Data plot"
   ]
  },
  {
   "cell_type": "code",
   "execution_count": null,
   "metadata": {},
   "outputs": [],
   "source": [
    "import importlib\n",
    "importlib.reload(sys.modules['histo_utilities'])\n",
    "from histo_utilities import create_TH1D, create_TH2D, std_color_list, create_TGraph, make_ratio_plot\n",
    "leg = rt.TLegend(0.5,0.80,0.90,0.90)\n",
    "\n",
    "leg.SetTextSize(0.03)\n",
    "leg.SetBorderSize(0)\n",
    "\n",
    "leg.SetEntrySeparation(0.01)\n",
    "c = rt.TCanvas('c','c', 800, 800)\n",
    "# Plotting ncsc\n",
    "start_t = time.time()\n",
    "\n",
    "legend = {}\n",
    "legend['data_oot'] = 'Data OOT region'\n",
    "legend['data_intime'] = 'Data in-time region'\n",
    "legend['mc_signal'] = 'signal MC in time'\n",
    "legend['mc_intime'] = 'MC in-time background'\n",
    "legend['mc_oot'] = 'MC OOT background'\n",
    "legend['mc_bkg'] = 'QCD 50toInf background'\n",
    "\n",
    "\n",
    "\n",
    "\n",
    "keys = ['data_intime','data_oot','mc_signal',]\n",
    "keys = ['data_intime','mc_signal',]\n",
    "\n",
    "\n",
    "h = {}\n",
    "rt.gStyle.SetOptFit(1011)\n",
    "# for i,k in enumerate(tree_bkg.keys()):\n",
    "br = 1\n",
    "for i,k in enumerate(keys):\n",
    "\n",
    "#     if k == 'data_intime':\n",
    "#         cond = nCsc_JetMuonVetoCluster0p4_Me1112Veto[k] < 200\n",
    "        \n",
    "#     else:\n",
    "#         cond = np.ones(weight[k].shape, dtype=bool)\n",
    "#     cond = np.logical_and(cond, jetMet_dPhiMin4[k]>0.25)\n",
    "    if k == 'mc_signal':\n",
    "        br = 1\n",
    "    else: br = 1\n",
    "#     if k == 'mc_background':br = 1\n",
    "    bins = [50,0,1000]\n",
    "    metcut = 200\n",
    "    h[k] = create_TH1D( nCsc_JetMuonVetoCluster0p4_Me1112Veto[k][cond], axis_title=['N_{rechits}', 'Events'], name=k, binning=bins,weights = br*weight[k][cond])\n",
    "    h[k].SetLineColor(std_color_list[i])\n",
    "    print(\"weight\",weight[k][0])\n",
    "    leg.AddEntry(h[k], legend[k]+\" (scaled)\" if k == 'data_oot' else legend[k])\n",
    "#     if k == 'mc_signal':\n",
    "#         for i in range(h[k].GetNbinsX()):\n",
    "#             s = 0.015*h[k].GetBinContent(i+1)\n",
    "#             b = h['data_oot'].GetBinContent(i+1)\n",
    "#             if s+b == 0:continue\n",
    "#             sig = s/(s+b)**0.5\n",
    "#             print(i,h[k].GetBinCenter(i+1),sig,s,b)\n",
    "#             if sig < 1./100:\n",
    "#                 print(i,sig)\n",
    "#                 continue\n",
    "#     h[k].SetMinimum(1)\n",
    "\n",
    "#     r = h[k].Fit('expo', 'LRSQ+', '', 50,400)\n",
    "#     print(r.Get())\n",
    "#     print(r.Prob())\n",
    "#     h[k].GetFunction(\"expo\").SetLineColor(std_color_list[2])\n",
    "#     h[k].GetFunction(\"expo\").SetLineWidth(2)\n",
    "    h[k].GetXaxis().SetLabelSize(0.04)\n",
    "    h[k].SetMinimum(0.1)\n",
    "    h[k].SetMaximum(10E6/2)\n",
    "#     h[k+'met'].GetXaxis().SetLabelSize(0.02)\n",
    "    if k == 'data_oot':\n",
    "        scale = 1.0*h['data_intime'].GetBinContent(4)/h['data_oot'].GetBinContent(4)\n",
    "#         for i in range(10):\n",
    "#             print(1.0*h['data_intime'].GetBinContent(i+1)/h['data_oot'].GetBinContent(i+1))\n",
    "        h[k].Scale(scale)\n",
    "    if k[:4] == 'data':\n",
    "        h[k].Draw('same E1')\n",
    "    else:\n",
    "        h[k].Draw(\"same hist\")\n",
    "#     h[k+'met'].DrawNormalized('same')\n",
    "    \n",
    "\n",
    "# c = make_ratio_plot([h['mc'],h['data']], fit = False, logy=True, in_tags = [\"MC\",\"Data\"], ratio_bounds = [0,3])\n",
    "c.SetRightMargin(0)\n",
    "c.SetLogy()\n",
    "leg.Draw()\n",
    "\n",
    "c.Draw()\n",
    "# print(time.time()-start_t)"
   ]
  },
  {
   "cell_type": "code",
   "execution_count": null,
   "metadata": {},
   "outputs": [],
   "source": [
    "import importlib\n",
    "importlib.reload(sys.modules['histo_utilities'])\n",
    "from histo_utilities import create_TH1D, create_TH2D, std_color_list, create_TGraph, make_ratio_plot\n",
    "leg = rt.TLegend(0.5,0.80,0.90,0.90)\n",
    "\n",
    "leg.SetTextSize(0.03)\n",
    "leg.SetBorderSize(0)\n",
    "\n",
    "leg.SetEntrySeparation(0.01)\n",
    "c = rt.TCanvas('c','c', 800, 800)\n",
    "# Plotting ncsc\n",
    "start_t = time.time()\n",
    "\n",
    "\n",
    "k = 'data_intime'\n",
    "\n",
    "h = {}\n",
    "rt.gStyle.SetOptFit(1011)\n",
    "\n",
    "bins = [40,0,1000]\n",
    "metcut = 200\n",
    "\n",
    "# cscRechitClusterMaxChamber = {}\n",
    "# cscRechitClusterNChamber = {}\n",
    "# cscRechitClusterNStation = {}\n",
    "# cscRechitClusterMaxStationRatio = {}\n",
    "# cscRechitClusterMaxChamberRatio = {}\n",
    "\n",
    "# h[k] = create_TH1D( cscRechitClusterMaxChamber[k], axis_title=['max chamber', 'Events'], name=k, binning=[200,-50,50])\n",
    "h[k] = create_TH1D( cscRechitClusterMaxChamberRatio[k], axis_title=['max chamber ratio', 'Events'], name=k, binning=[20,0,1])\n",
    "# h[k] = create_TH1D( cscClusterMet_dPhi[k], axis_title=['#Delta#phi(MET, cluster)', 'Events'], name=k, binning=[20,0,3.14])\n",
    "# h[k] = create_TH1D( n_chamber[k], axis_title=['Number of Chambers', 'Events'], name=k, binning=[10,0,10])\n",
    "# h[k] = create_TH1D( cscRechitClusterNStation[k], axis_title=['max station', 'Events'], name=k, binning=[5,0,5])\n",
    "# print(cscRechitClusterMaxStationRatio[k])\n",
    "# h[k] = create_TH1D( cscRechitClusterNStation[k], axis_title=['Number of station', 'Events'], name=k, binning=[20,0,10])\n",
    "\n",
    "\n",
    "# h['1jet'].GetXaxis().SetLabelSize(0.04)\n",
    "# h['1jet'].SetMinimum(0.1)\n",
    "# h['1jet'].SetMaximum(10E6/2)\n",
    "\n",
    "h[k].Draw('hist')\n",
    "\n",
    "\n",
    "c.SetRightMargin(0)\n",
    "c.SetLogy()\n",
    "\n",
    "c.Draw()\n",
    "# print(time.time()-start_t)"
   ]
  },
  {
   "cell_type": "markdown",
   "metadata": {},
   "source": [
    "## significance"
   ]
  },
  {
   "cell_type": "code",
   "execution_count": null,
   "metadata": {},
   "outputs": [],
   "source": [
    "start_t = time.time()\n",
    "#ROC curve\n",
    "c = rt.TCanvas('c','c', 800, 800)\n",
    "leg = rt.TLegend(0.35,0.80,0.85,0.92)\n",
    "leg.SetTextSize(0.022)\n",
    "leg.SetBorderSize(0)\n",
    "\n",
    "leg.SetEntrySeparation(0.01)\n",
    "\n",
    "var = [nCsc_JetMuonVetoCluster0p4_Me1112Veto,]\n",
    "name = ['nCsc_JetMuonVetoCluster0p4_Me1112Veto',]\n",
    "legend = [ 'jet & muon veto + ME11/12 veto',]\n",
    "\n",
    "bkg_k = 'data_oot'\n",
    "sig_k = 'mc_signal'\n",
    "br = 0.01\n",
    "\n",
    "threshold = list(range(300))\n",
    "threshold = np.array(list(range(2000)))\n",
    "# print(threshold)\n",
    "for i in range(len(var)):\n",
    "    event_count = {}\n",
    "    \n",
    "    for k in ['data_oot','mc_signal']:\n",
    "        event_count[k] = []\n",
    "        for th in threshold:\n",
    "            event_count[k].append(np.sum(weight[k][var[i][k]>th]))\n",
    "        event_count[k] = np.array(event_count[k])\n",
    "        if k == sig_k:\n",
    "            event_count[k] = event_count[k]*br\n",
    "    sig = event_count[sig_k]/np.sqrt(event_count[sig_k]+event_count[bkg_k])\n",
    "    cond = event_count[sig_k]>0\n",
    "    sig = sig[cond]\n",
    "    ncsc = threshold[cond]\n",
    "#     gr['bbbb'] = create_TGraph(eff_bkg,eff_sig,axis_title = ['#epsilon_{bkg}','#epsilon_{signal}'])\n",
    "    h[sig_k+str(i)] = create_TGraph(ncsc, sig,  axis_title=['N_{rechits}', 'Significnace'])\n",
    "#     h[sig_k+str(i)] = create_TGraph(ncsc, event_count[sig_k],  axis_title=['N_{rechits}', 'Event Yield'])\n",
    "\n",
    "    h[sig_k+str(i)].SetLineWidth(2)\n",
    "    h[sig_k+str(i)].SetMarkerColor(std_color_list[i])\n",
    "    h[sig_k+str(i)].SetLineColor(std_color_list[i])\n",
    "    h[sig_k+str(i)].GetXaxis().SetRangeUser(0, 3000)\n",
    "    h[sig_k+str(i)].GetXaxis().SetLabelSize(0.04)\n",
    "\n",
    "#     h[sig_k+str(i)].GetYaxis().SetRangeUser(0, 3)\n",
    "\n",
    "\n",
    "    leg.AddEntry(h[sig_k+str(i)],sig_k+\" \"+legend[i])\n",
    "    h[sig_k+str(i)].Draw('ac' if i == 0 else 'c')\n",
    "\n",
    "#     h[sig_k+str(i)].Draw('ac' if i==0 else 'c')\n",
    "#     gr['bbbb'].Draw('')\n",
    "\n",
    "\n",
    "\n",
    "\n",
    "# c.SetLogy()\n",
    "c.Draw()\n",
    "# c.SaveAs('../plots/timing_studies/compare_timing_definition_ROC.png')\n",
    "\n",
    "print(time.time()-start_t)\n"
   ]
  },
  {
   "cell_type": "markdown",
   "metadata": {},
   "source": [
    "# 2d plot"
   ]
  },
  {
   "cell_type": "code",
   "execution_count": null,
   "metadata": {},
   "outputs": [],
   "source": [
    "# Plotting ncsc\n",
    "start_t = time.time()\n",
    "c = rt.TCanvas('c','c', 1000, 800)\n",
    "h = {}\n",
    "# leg = rt.TLegend(0.50,0.75,0.97,0.93)\n",
    "leg = rt.TLegend(0.58,0.70,0.94,0.85)\n",
    "leg.SetTextSize(0.022)\n",
    "# leg.SetTextFont(42)\n",
    "leg.SetEntrySeparation(0.01)\n",
    "\n",
    "i = 0\n",
    "k = 'data_intime'\n",
    "\n",
    "# h[k] = create_TH2D(np.column_stack((angle[k][cond],jetPt[k][cond][:,0])), axis_title = ['\\Delta\\phi (jet,met)','jet p_{T}[GeV]','Events'], binning=[80,-3.14,3.14,100,0,2000])\n",
    "h[k] = create_TH2D(np.column_stack(( nCsc_JetMuonVetoCluster0p4_Me1112Veto[k], dphiMet_cluster[k])),\n",
    "                   axis_title = ['N_{rechits}','\\Delta\\phi (cluster,met)','Events'], binning=[50,0,600,50,0,3.14])\n",
    "h[k] = create_TH2D(np.column_stack(( nCsc_JetMuonVetoCluster0p4_Me1112Veto[k], jetMet_dPhiMin4[k])),\n",
    "                   axis_title = ['N_{rechits}','min_{4jet}\\Delta\\phi (jet,met)','Events'], binning=[50,0,600,50,0,3.14])\n",
    "\n",
    "\n",
    "h[k].GetXaxis().SetLabelSize(0.04)\n",
    "\n",
    "\n",
    "\n",
    "\n",
    "h[k].SetLineColor(std_color_list[i])\n",
    "# leg.AddEntry(h[k], k)\n",
    "#     h[k].SetMaximum(10E5)\n",
    "#     h[k].SetMinimum(1)\n",
    "h[k].Draw('colz')\n",
    "c.SetRightMargin(0.2)\n",
    "\n",
    "\n",
    "\n",
    "# if setlog: \n",
    "c.SetLogz()\n",
    "c.Draw()\n",
    "print(time.time()-start_t)"
   ]
  },
  {
   "cell_type": "code",
   "execution_count": null,
   "metadata": {},
   "outputs": [],
   "source": []
  },
  {
   "cell_type": "markdown",
   "metadata": {},
   "source": [
    "# third"
   ]
  },
  {
   "cell_type": "code",
   "execution_count": null,
   "metadata": {},
   "outputs": [],
   "source": []
  },
  {
   "cell_type": "markdown",
   "metadata": {},
   "source": [
    "# ROC Curve"
   ]
  },
  {
   "cell_type": "code",
   "execution_count": null,
   "metadata": {},
   "outputs": [],
   "source": []
  },
  {
   "cell_type": "markdown",
   "metadata": {},
   "source": [
    "# 4th"
   ]
  },
  {
   "cell_type": "code",
   "execution_count": null,
   "metadata": {},
   "outputs": [],
   "source": []
  },
  {
   "cell_type": "markdown",
   "metadata": {},
   "source": [
    "# nCsc histogram"
   ]
  },
  {
   "cell_type": "code",
   "execution_count": null,
   "metadata": {},
   "outputs": [],
   "source": []
  },
  {
   "cell_type": "code",
   "execution_count": null,
   "metadata": {},
   "outputs": [],
   "source": []
  },
  {
   "cell_type": "code",
   "execution_count": null,
   "metadata": {},
   "outputs": [],
   "source": []
  },
  {
   "cell_type": "markdown",
   "metadata": {
    "heading_collapsed": true
   },
   "source": [
    "# event yield vs. ncsc"
   ]
  },
  {
   "cell_type": "code",
   "execution_count": null,
   "metadata": {},
   "outputs": [],
   "source": []
  },
  {
   "cell_type": "code",
   "execution_count": null,
   "metadata": {
    "hidden": true
   },
   "outputs": [],
   "source": []
  },
  {
   "cell_type": "code",
   "execution_count": null,
   "metadata": {
    "hidden": true
   },
   "outputs": [],
   "source": []
  },
  {
   "cell_type": "markdown",
   "metadata": {},
   "source": [
    "# significance"
   ]
  },
  {
   "cell_type": "code",
   "execution_count": null,
   "metadata": {},
   "outputs": [],
   "source": []
  },
  {
   "cell_type": "code",
   "execution_count": null,
   "metadata": {},
   "outputs": [],
   "source": [
    "\n"
   ]
  },
  {
   "cell_type": "code",
   "execution_count": null,
   "metadata": {
    "hidden": true
   },
   "outputs": [],
   "source": []
  },
  {
   "cell_type": "code",
   "execution_count": null,
   "metadata": {
    "hidden": true
   },
   "outputs": [],
   "source": []
  },
  {
   "cell_type": "code",
   "execution_count": null,
   "metadata": {
    "hidden": true
   },
   "outputs": [],
   "source": []
  },
  {
   "cell_type": "code",
   "execution_count": null,
   "metadata": {},
   "outputs": [],
   "source": []
  },
  {
   "cell_type": "code",
   "execution_count": null,
   "metadata": {
    "hidden": true
   },
   "outputs": [],
   "source": []
  },
  {
   "cell_type": "code",
   "execution_count": null,
   "metadata": {},
   "outputs": [],
   "source": []
  },
  {
   "cell_type": "code",
   "execution_count": null,
   "metadata": {},
   "outputs": [],
   "source": []
  },
  {
   "cell_type": "code",
   "execution_count": null,
   "metadata": {},
   "outputs": [],
   "source": []
  },
  {
   "cell_type": "code",
   "execution_count": null,
   "metadata": {},
   "outputs": [],
   "source": []
  },
  {
   "cell_type": "code",
   "execution_count": null,
   "metadata": {},
   "outputs": [],
   "source": []
  },
  {
   "cell_type": "code",
   "execution_count": null,
   "metadata": {},
   "outputs": [],
   "source": [
    "\n"
   ]
  },
  {
   "cell_type": "code",
   "execution_count": null,
   "metadata": {},
   "outputs": [],
   "source": []
  },
  {
   "cell_type": "code",
   "execution_count": null,
   "metadata": {},
   "outputs": [],
   "source": []
  },
  {
   "cell_type": "code",
   "execution_count": null,
   "metadata": {},
   "outputs": [],
   "source": []
  },
  {
   "cell_type": "code",
   "execution_count": null,
   "metadata": {},
   "outputs": [],
   "source": []
  },
  {
   "cell_type": "code",
   "execution_count": null,
   "metadata": {},
   "outputs": [],
   "source": []
  },
  {
   "cell_type": "code",
   "execution_count": null,
   "metadata": {},
   "outputs": [],
   "source": []
  },
  {
   "cell_type": "code",
   "execution_count": null,
   "metadata": {},
   "outputs": [],
   "source": []
  },
  {
   "cell_type": "code",
   "execution_count": null,
   "metadata": {},
   "outputs": [],
   "source": []
  },
  {
   "cell_type": "code",
   "execution_count": null,
   "metadata": {},
   "outputs": [],
   "source": []
  },
  {
   "cell_type": "code",
   "execution_count": null,
   "metadata": {},
   "outputs": [],
   "source": []
  },
  {
   "cell_type": "code",
   "execution_count": null,
   "metadata": {},
   "outputs": [],
   "source": []
  }
 ],
 "metadata": {
  "kernelspec": {
   "display_name": "Python 3",
   "language": "python",
   "name": "python3"
  },
  "language_info": {
   "codemirror_mode": {
    "name": "ipython",
    "version": 3
   },
   "file_extension": ".py",
   "mimetype": "text/x-python",
   "name": "python",
   "nbconvert_exporter": "python",
   "pygments_lexer": "ipython3",
   "version": "3.6.8"
  }
 },
 "nbformat": 4,
 "nbformat_minor": 4
}
