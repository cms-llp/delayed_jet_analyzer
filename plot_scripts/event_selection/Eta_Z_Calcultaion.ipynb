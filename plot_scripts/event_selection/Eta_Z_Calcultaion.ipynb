{
 "cells": [
  {
   "cell_type": "code",
   "execution_count": 1,
   "metadata": {},
   "outputs": [],
   "source": [
    "import math"
   ]
  },
  {
   "cell_type": "code",
   "execution_count": 3,
   "metadata": {},
   "outputs": [
    {
     "name": "stdout",
     "output_type": "stream",
     "text": [
      "45.0  deg\n",
      "0.9999999999999999 tan( 45.0 )value\n",
      "0.4480802598611997 2.683644721727066\n"
     ]
    }
   ],
   "source": [
    "test = 180*math.atan(1)/math.pi\n",
    "print(test,' deg')\n",
    "test1 = math.tan(math.atan(1))\n",
    "print(test1, 'tan(', test, ')value')"
   ]
  },
  {
   "cell_type": "code",
   "execution_count": 15,
   "metadata": {},
   "outputs": [
    {
     "name": "stdout",
     "output_type": "stream",
     "text": [
      "eta = 1.479, r = 1.29 m, theta =  0.4480802598611997 , z=  268.3644721727066 cm\n"
     ]
    }
   ],
   "source": [
    "theta = 2*math.atan(math.exp(-1.479))\n",
    "z = 1.29/math.tan(theta)\n",
    "print('eta = 1.479, r = 1.29 m, theta = ', theta,', z= ', z*100, 'cm')"
   ]
  },
  {
   "cell_type": "code",
   "execution_count": 14,
   "metadata": {},
   "outputs": [
    {
     "name": "stdout",
     "output_type": "stream",
     "text": [
      "eta = 1.6, z = 3.06 m, theta =  0.39843693596578755 , r=  128.81130156170622 cm\n"
     ]
    }
   ],
   "source": [
    "theta = 2*math.atan(math.exp(-1.6))\n",
    "r = 3.06*math.tan(theta)\n",
    "print('eta = 1.6, z = 3.06 m, theta = ', theta,', r= ', r*100, 'cm')"
   ]
  },
  {
   "cell_type": "code",
   "execution_count": 13,
   "metadata": {},
   "outputs": [
    {
     "name": "stdout",
     "output_type": "stream",
     "text": [
      "eta = 3, z = 3.06 m, theta =  0.09949198567770388 , r=  30.54540031865976 cm\n"
     ]
    }
   ],
   "source": [
    "theta = 2*math.atan(math.exp(-3))\n",
    "r = 3.06*math.tan(theta)\n",
    "print('eta = 3, z = 3.06 m, theta = ', theta,', r= ', r*100, 'cm')"
   ]
  },
  {
   "cell_type": "code",
   "execution_count": null,
   "metadata": {},
   "outputs": [],
   "source": []
  }
 ],
 "metadata": {
  "kernelspec": {
   "display_name": "Python 3",
   "language": "python",
   "name": "python3"
  },
  "language_info": {
   "codemirror_mode": {
    "name": "ipython",
    "version": 3
   },
   "file_extension": ".py",
   "mimetype": "text/x-python",
   "name": "python",
   "nbconvert_exporter": "python",
   "pygments_lexer": "ipython3",
   "version": "3.6.8"
  }
 },
 "nbformat": 4,
 "nbformat_minor": 2
}
