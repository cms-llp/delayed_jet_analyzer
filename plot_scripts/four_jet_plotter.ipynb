{
 "cells": [
  {
   "cell_type": "code",
   "execution_count": 1,
   "metadata": {},
   "outputs": [
    {
     "name": "stdout",
     "output_type": "stream",
     "text": [
      "Welcome to JupyROOT 6.13/02\n"
     ]
    }
   ],
   "source": [
    "import ROOT as rt\n",
    "import root_numpy as rtnp\n",
    "import numpy as np\n",
    "from matplotlib import pyplot as plt\n",
    "from histo_utilities import create_TH1D, create_TH2D, std_color_list\n",
    "\n",
    "import CMS_lumi, tdrstyle\n",
    "tdrstyle.setTDRStyle()\n",
    "CMS_lumi.writeExtraText = 1\n",
    "CMS_lumi.extraText = \"     Simulation Preliminary\"\n",
    "\n",
    "donotdelete = []"
   ]
  },
  {
   "cell_type": "code",
   "execution_count": 2,
   "metadata": {},
   "outputs": [
    {
     "name": "stdout",
     "output_type": "stream",
     "text": [
      "m500ctau30 /home/cms/Desktop/LLP/jetNtuple_4jet/jetNtuple_M-500_CTau-30mm.root\n",
      "[245.10352  224.2073   192.44597   50.55233   16.677832  14.581306\n",
      "  11.624692  10.09615 ]\n",
      "m500ctau1000 /home/cms/Desktop/LLP/jetNtuple_4jet/jetNtuple_M-500_CTau-1000mm.root\n",
      "[527.2854   412.97708   16.819384  13.449993  10.936189  10.413826]\n"
     ]
    }
   ],
   "source": [
    "fpath = {}\n",
    "tree = {}\n",
    "process = {}\n",
    "process_short = {}\n",
    "\n",
    "fpath['m500ctau1000'] = '/home/cms/Desktop/LLP/jetNtuple_4jet/jetNtuple_M-500_CTau-1000mm.root'\n",
    "fpath['m500ctau30'] = '/home/cms/Desktop/LLP/jetNtuple_4jet/jetNtuple_M-500_CTau-30mm.root'\n",
    "# fpath['QCD300to500'] = '/home/cms/Desktop/LLP/jetNtuple_4jet/jetNtuple_QCD_HT300to500.root'\n",
    "\n",
    "process['glueBall'] = 'pp #rightarrow h*h* #rightarrow jj#nu#nu'\n",
    "process_short['glueBall'] = 'pp #rightarrow h*h* #rightarrow jj#nu#nu'\n",
    "\n",
    "\n",
    "for k,v in fpath.iteritems():\n",
    "    print k, v\n",
    "    tree[k] = rtnp.root2array(v)\n",
    "    #tree[k] = rtnp.tree2array(v)\n",
    "    #jet_max_pt_array = [np.max(x) for x in tree[k][\"jetPt\"]]\n",
    "    a = tree[k][\"jetPt\"]\n",
    "    print a[:-1][0]"
   ]
  },
  {
   "cell_type": "code",
   "execution_count": 3,
   "metadata": {},
   "outputs": [],
   "source": [
    "T1000 = tree['m500ctau1000']\n",
    "T30 = tree['m500ctau30']\n",
    "# QCD = tree['QCD300to500']"
   ]
  },
  {
   "cell_type": "code",
   "execution_count": 4,
   "metadata": {},
   "outputs": [
    {
     "name": "stdout",
     "output_type": "stream",
     "text": [
      "10000\n"
     ]
    }
   ],
   "source": [
    "#get first jet pt per event\n",
    "#T['jetPt'][0]\n",
    "first_jet_pt = [x[0] if len(x) else -1 for x in T1000['jetPt']]\n",
    "print(len(first_jet_pt))"
   ]
  },
  {
   "cell_type": "code",
   "execution_count": 5,
   "metadata": {},
   "outputs": [
    {
     "name": "stdout",
     "output_type": "stream",
     "text": [
      "10000\n",
      "3562\n"
     ]
    }
   ],
   "source": [
    "#get max jet pt per event, also jet[0]\n",
    "T=T1000\n",
    "max_jet_pt = np.array([np.max(x) if len(x) else -1 for x in T['jetPt']])\n",
    "max_jet_ecal_energy = np.array([x[0] if len(x) else -1 for x in T['jet_rechit_E']])\n",
    "max_jet_ecal_energy1 = np.array([x[0] if len(x) else -1 for x in T['jet_rechit_E_Ecut1']])\n",
    "max_jet_ecal_energy2 = np.array([x[0] if len(x) else -1 for x in T['jet_rechit_E_Ecut2']])\n",
    "\n",
    "assert(len(max_jet_ecal_energy) == len(max_jet_pt))\n",
    "print(len(max_jet_ecal_energy))\n",
    "print(len(max_jet_pt[max_jet_ecal_energy<50]))\n",
    "# print max_jet_pt\n"
   ]
  },
  {
   "cell_type": "markdown",
   "metadata": {},
   "source": [
    "# Matched Jets and how they change with LLP decay radius"
   ]
  },
  {
   "cell_type": "code",
   "execution_count": 19,
   "metadata": {},
   "outputs": [
    {
     "name": "stdout",
     "output_type": "stream",
     "text": [
      "(17784,)\n",
      "(17784,)\n",
      "0.2863502722929404\n",
      "0\n",
      "[2 2 2 ... 1 2 1]\n"
     ]
    }
   ],
   "source": [
    "# Create 2d numpy array matched-jets vs. LLP decay radius\n",
    "# matched_jet = np.array([4-np.count_nonzero(x == 666) if len(x) else -1 for x in T['gLLP_daughter_match_jet_index']])\n",
    "tree = [T30,T1000]\n",
    "match_efficiency_llp = []\n",
    "match_efficiency_event = []\n",
    "gLLP_decay_radius_list = []\n",
    "matched_jets_perllp_list = []\n",
    "barrel_jets_perllp_list = []\n",
    "for i in range(len(tree)):\n",
    "    T = tree[i]\n",
    "    gLLP_decay_radius = np.sqrt(np.square(T['gLLP_decay_vertex_x'])+np.square(T['gLLP_decay_vertex_y'])) # (events, 2) 2LLP\n",
    "    # gLLP_decay_radius = np.reshape(gLLP_decay_radius,(-1,1)) # flatten (2*events, 1)\n",
    "    gLLP_daughter_match_jet_index = T['gLLP_daughter_match_jet_index']\n",
    "    daughter_eta =  T['gLLP_daughter_eta']\n",
    "    gLLP_daughter_travel_time = T['gLLP_daughter_travel_time']\n",
    "\n",
    "    # number of matched/barrel jets for each LLP\n",
    "    # matched_jets.shape = (events,2)\n",
    "\n",
    "    matched_jets = np.logical_and(np.logical_not( gLLP_daughter_travel_time == -666), np.logical_not( gLLP_daughter_match_jet_index == 666))\n",
    "    matched_jets_perllp = np.column_stack((np.count_nonzero(matched_jets[:,:2],axis=1),np.count_nonzero(matched_jets[:,2:],axis=1)))\n",
    "    matched_jets_perevent = np.count_nonzero(matched_jets,axis=1)\n",
    "    # barrel_jets.shape = (events,2)\n",
    "    LLP_daughter_barrel = np.logical_not( gLLP_daughter_travel_time == -666) #shape: (events, 4)\n",
    "    barrel_jets_perllp = np.column_stack((np.count_nonzero(LLP_daughter_barrel[:,:2],axis=1),np.count_nonzero(LLP_daughter_barrel[:,2:],axis=1)))\n",
    "    barrel_jets_perevent = np.count_nonzero(LLP_daughter_barrel,axis=1)\n",
    "\n",
    "    # now both matched_jets_perllp and barrel_jets_perllp are flattened with shape: (LLP#, )\n",
    "    # gLLP_decay_radius and match_efficiency also have shape (LLP#,)\n",
    "    matched_jets_perllp = matched_jets_perllp[barrel_jets_perllp>0]\n",
    "    gLLP_decay_radius = gLLP_decay_radius[barrel_jets_perllp > 0] #llp decay radius of llp with at least one barrel\n",
    "    barrel_jets_perllp = barrel_jets_perllp [barrel_jets_perllp > 0]\n",
    "    assert(matched_jets_perllp.shape == gLLP_decay_radius.shape == barrel_jets_perllp.shape)\n",
    "    barrel_jets_perllp_list.append(barrel_jets_perllp)\n",
    "    matched_jets_perllp_list.append(matched_jets_perllp)\n",
    "    match_efficiency_llp.append(np.divide(1.0* matched_jets_perllp , barrel_jets_perllp)) #match efficiency for each LLP\n",
    "    gLLP_decay_radius_list.append(gLLP_decay_radius)\n",
    "    ## per event\n",
    "    matched_jets_perevent = matched_jets_perevent[barrel_jets_perevent>0]\n",
    "    barrel_jets_perevent = barrel_jets_perevent [barrel_jets_perevent>0]\n",
    "    assert(barrel_jets_perevent.shape == matched_jets_perevent.shape)\n",
    "    match_efficiency_event.append(np.divide(1.0* matched_jets_perevent , barrel_jets_perevent)) #match efficiency for each LLP\n",
    "#     print(np.count_nonzero(barrel_jets_perevent),np.count_nonzero(matched_jets_perevent))\n",
    "\n",
    "print(matched_jets_perllp.shape)\n",
    "print(gLLP_decay_radius.shape)\n",
    "print(np.sum(match_efficiency_event[0])/np.size(match_efficiency_event[0]))\n",
    "print(np.count_nonzero(barrel_jets_perllp_list[0] == 0))\n",
    "print(barrel_jets_perllp_list[1])"
   ]
  },
  {
   "cell_type": "code",
   "execution_count": 20,
   "metadata": {},
   "outputs": [
    {
     "name": "stderr",
     "output_type": "stream",
     "text": [
      "Warning in <TCanvas::Constructor>: Deleting canvas with same name: c\n",
      "Warning in <TROOT::Append>: Replacing existing TH1: match_efficiency (Potential memory leak).\n",
      "Info in <TCanvas::Print>: pdf file barrel_matched.pdf has been created\n"
     ]
    },
    {
     "data": {
      "image/png": "[encoded data removed]",
      "text/plain": [
       "<IPython.core.display.Image object>"
      ]
     },
     "metadata": {},
     "output_type": "display_data"
    }
   ],
   "source": [
    "c = rt.TCanvas('c','c', 800, 600)\n",
    "h = {}\n",
    "leg = rt.TLegend(0.2,0.65,0.55,0.92)\n",
    "# leg.SetTextFont(42)\n",
    "leg.SetTextSize(0.03)\n",
    "leg.SetEntrySeparation(0.01)\n",
    "h['barrel'] = create_TH1D( barrel_jets_perllp_list[1], axis_title=['Number of Barrel Jets', 'Percentage of matched jets'], name='match_efficiency', binning=[3,0,3])\n",
    "h['barrel'].SetLineColor(2)\n",
    "h['matched'] = create_TH1D( matched_jets_perllp_list[1], axis_title=['Number of Matched Jets', 'events'], name='match_efficiency', binning=[3,0,3])\n",
    "h['matched'].SetLineColor(4)\n",
    "# c.SetLogy()\n",
    "# h['match_efficiency2'].GetYaxis().SetRangeUser(0,1.0)\n",
    "leg.AddEntry(h['barrel'],'Number of Barrel Jets')\n",
    "leg.AddEntry(h['matched'],'Number of Matched Jets')\n",
    "\n",
    "h['barrel'].DrawNormalized()\n",
    "h['matched'].DrawNormalized('same')\n",
    "leg.Draw()\n",
    "c.Draw()\n",
    "c.SaveAs(\"barrel_matched.pdf\")"
   ]
  },
  {
   "cell_type": "code",
   "execution_count": 34,
   "metadata": {
    "scrolled": false
   },
   "outputs": [
    {
     "name": "stderr",
     "output_type": "stream",
     "text": [
      "Warning in <TCanvas::Constructor>: Deleting canvas with same name: c\n",
      "Warning in <TROOT::Append>: Replacing existing TH1: match_efficiency (Potential memory leak).\n",
      "Info in <TCanvas::Print>: pdf file match_efficiency.pdf has been created\n"
     ]
    },
    {
     "data": {
      "image/png": "[encoded data removed]",
      "text/plain": [
       "<IPython.core.display.Image object>"
      ]
     },
     "metadata": {},
     "output_type": "display_data"
    }
   ],
   "source": [
    "c = rt.TCanvas('c','c', 800, 600)\n",
    "h = {}\n",
    "leg = rt.TLegend(0.5,0.65,0.95,0.92)\n",
    "# leg.SetTextFont(42)\n",
    "leg.SetTextSize(0.03)\n",
    "leg.SetEntrySeparation(0.01)\n",
    "h['match_efficiency1'] = create_TH1D( match_efficiency_llp[0], axis_title=['Jet matching efficiency', 'Fraction of matched jets'], name='match_efficiency', binning=[3,0,1.5])\n",
    "h['match_efficiency1'].SetLineColor(2)\n",
    "h['match_efficiency2'] = create_TH1D( match_efficiency_llp[1], axis_title=['Jet matching efficiency', 'Fraction of matched jets'], name='match_efficiency', binning=[3,0,1.5])\n",
    "h['match_efficiency2'].SetLineColor(4)\n",
    "# c.SetLogy()\n",
    "# h['match_efficiency2'].GetYaxis().SetRangeUser(0,1.0)\n",
    "leg.AddEntry(h['match_efficiency2'],'Mass = 500 GeV, c#tau = 1000 mm')\n",
    "leg.AddEntry(h['match_efficiency1'],'Mass = 500 GeV, c#tau = 30 mm')\n",
    "\n",
    "h['match_efficiency1'].DrawNormalized()\n",
    "h['match_efficiency2'].DrawNormalized('same')\n",
    "leg.Draw()\n",
    "c.Draw()\n",
    "c.SaveAs(\"match_efficiency.pdf\")"
   ]
  },
  {
   "cell_type": "code",
   "execution_count": 37,
   "metadata": {
    "scrolled": false
   },
   "outputs": [
    {
     "name": "stdout",
     "output_type": "stream",
     "text": [
      "((19468,), (19468,))\n",
      "16743.0\n",
      "893.0\n",
      "148.0\n"
     ]
    },
    {
     "name": "stderr",
     "output_type": "stream",
     "text": [
      "Warning in <TCanvas::Constructor>: Deleting canvas with same name: c1\n",
      "Info in <TCanvas::Print>: pdf file matchjet_llpdecay.pdf has been created\n"
     ]
    },
    {
     "data": {
      "image/png": "[encoded data removed]",
      "text/plain": [
       "<IPython.core.display.Image object>"
      ]
     },
     "metadata": {},
     "output_type": "display_data"
    }
   ],
   "source": [
    "# Look at the number of matched jets in different LLP decay radius bin\n",
    "c = rt.TCanvas('c1','c1', 800, 600)\n",
    "leg = rt.TLegend(0.5,0.65,0.95,0.92)\n",
    "# leg.SetTextFont(42)\n",
    "leg.SetTextSize(0.03)\n",
    "leg.SetEntrySeparation(0.01)\n",
    "# # Create 2d numpy array matched-jets vs. LLP decay radius\n",
    "h = {}\n",
    "proj = []\n",
    "print(match_efficiency_llp[0].shape,gLLP_decay_radius_list[0].shape)\n",
    "matchjet_llpdecay = np.column_stack((match_efficiency_llp[1], gLLP_decay_radius_list[1]))\n",
    "h['matchjet_llpdecay'] = create_TH2D(matchjet_llpdecay, axis_title = ['Jet matching efficiency','llp decay radius [mm]',''], binning=[3,0,1.5,50,0,1500])\n",
    "bins = [1,11,21,51]\n",
    "# h['matchjet_llpdecay'] = create_TH2D(matchjet_llpdecay, axis_title = ['Jet matching efficiency','llp decay radius [mm]',''], binning=[3,0,1.5,50,0,100])\n",
    "# bins = [1,3,10,51]\n",
    "for i in range(len(bins)-1):\n",
    "    key = 'bin'+str(i)\n",
    "    proj.append(h['matchjet_llpdecay'].ProjectionX(\"h\"+str(i),bins[i],bins[i+1]-1))\n",
    "    y_low = h['matchjet_llpdecay'].GetYaxis().GetBinLowEdge(bins[i])\n",
    "    y_up = h['matchjet_llpdecay'].GetYaxis().GetBinLowEdge(bins[i+1]-1)+h['matchjet_llpdecay'].GetYaxis().GetBinWidth(1)\n",
    "    leg.AddEntry(proj[i],'LLP decay radius '+str(y_low)+' - '+str(y_up)+' mm')\n",
    "\n",
    "proj[0].GetYaxis().SetTitle(\"Fraction of matched jets\")\n",
    "# proj[0].GetYaxis().SetRangeUser(0,2000)\n",
    "for i in range(len(bins)-1):\n",
    "    proj[i].SetLineColor(i+1)\n",
    "    print(proj[i].Integral())\n",
    "    proj[i].Scale(1./proj[i].Integral())\n",
    "    proj[i].GetYaxis().SetRangeUser(0,1)\n",
    "\n",
    "    if i == 0:\n",
    "        proj[i].DrawCopy()\n",
    "    if i == 2:\n",
    "        proj[i].SetLineColor(4)\n",
    "    proj[i].DrawCopy('SAME')\n",
    "# proj[2].GetYaxis().SetRangeUser(0,100)\n",
    "\n",
    "# h1.Scale(1./h1.Integral())\n",
    "leg.Draw()\n",
    "# # c.SetLogy()\n",
    "# # c.SetLogz()\n",
    "c.Draw()\n",
    "# print(h['matchjet_llpdecay'].GetYaxis().GetBinCenter(bin_low))\n",
    "# y_low = h['matchjet_llpdecay'].GetYaxis().GetBinCenter(bin_low)\n",
    "# y_up = h['matchjet_llpdecay'].GetYaxis().GetBinCenter(bin_up)\n",
    "c.SaveAs('matchjet_llpdecay.pdf')\n"
   ]
  },
  {
   "cell_type": "markdown",
   "metadata": {},
   "source": [
    "# Number of Rechits"
   ]
  },
  {
   "cell_type": "code",
   "execution_count": 24,
   "metadata": {},
   "outputs": [
    {
     "name": "stdout",
     "output_type": "stream",
     "text": [
      "(12626, 2)\n"
     ]
    }
   ],
   "source": [
    "T=T1000\n",
    "\n",
    "energy_cut = 1.0\n",
    "#     n_rechits = np.array( [x if len(x) else -1 for x in T['jet_n_rechits']]) \n",
    "n_rechits = [] #n_rechits of matched and barrel jets\n",
    "n_rechits_qcd = [] #n_rechits of matched and barrel jets\n",
    "n_rechits_T1000 = [] #n_rechits of matched and barrel jets\n",
    "n_rechits_T30 = [] #n_rechits of matched and barrel jets\n",
    "\n",
    "n_rechits_llpdecay = [] # rechits and the corresponding LLP decay length\n",
    "\n",
    "gLLP_decay_radius = np.sqrt(np.square(T['gLLP_decay_vertex_x'])+np.square(T['gLLP_decay_vertex_y'])) # (events, 2) 2LLP\n",
    "gLLP_daughter_match_jet_index = T['gLLP_daughter_match_jet_index']\n",
    "gLLP_daughter_travel_time = T['gLLP_daughter_travel_time']\n",
    "rechits_E =  T['jet_rechits_E']\n",
    "\n",
    "# matched_jets.shape = (events,4), logical whether the jet is matched and hit barrel\n",
    "matched_jets = np.logical_and(np.logical_not( gLLP_daughter_travel_time == -666), np.logical_not( gLLP_daughter_match_jet_index == 666))\n",
    "gLLP_daughter_match_jet_index = gLLP_daughter_match_jet_index[matched_jets]\n",
    "\n",
    "\n",
    "for i in range(len(T['gLLP_daughter_match_jet_index'])): #loop through each event\n",
    "    for j in range(4): #loop through each gen jet\n",
    "        index = T['gLLP_daughter_match_jet_index'][i][j]\n",
    "        if not index == 666 and matched_jets[i][j]:\n",
    "            rechits = rechits_E[i][index]\n",
    "            rechits = np.count_nonzero(rechits >= energy_cut)\n",
    "            if j <= 1:\n",
    "                llpid = 0\n",
    "            else:\n",
    "                llpid = 1\n",
    "            n_rechits.append(rechits)\n",
    "            n_rechits_llpdecay.append([rechits, gLLP_decay_radius[i,llpid]])\n",
    "assert(len(n_rechits) == len(gLLP_daughter_match_jet_index))\n",
    "n_rechits_llpdecay = np.array(n_rechits_llpdecay)\n",
    "print(n_rechits_llpdecay.shape)\n",
    "\n",
    "#QCD\n",
    "# rechits_E_qcd =  QCD['jet_rechits_E']\n",
    "# for i in range(len(rechits_E_qcd)): #loop through each event\n",
    "#     for j in range(len(rechits_E_qcd[i])): #loop through each jet\n",
    "#         rechits = rechits_E_qcd[i][j]\n",
    "#         rechits = np.count_nonzero(rechits >= energy_cut)\n",
    "#         n_rechits_qcd.append(rechits)\n",
    "        \n",
    "        \n",
    "rechits_E_T1000 =  T1000['jet_rechits_E']\n",
    "for i in range(len(rechits_E_T1000)): #loop through each event\n",
    "    for j in range(len(rechits_E_T1000[i])): #loop through each jet\n",
    "        rechits = rechits_E_T1000[i][j]\n",
    "        rechits = np.count_nonzero(rechits >= energy_cut)\n",
    "        n_rechits_T1000.append(rechits)\n",
    "        \n",
    "rechits_E_T30 =  T30['jet_rechits_E']\n",
    "for i in range(len(rechits_E_T30)): #loop through each event\n",
    "    for j in range(len(rechits_E_T30[i])): #loop through each jet\n",
    "        rechits = rechits_E_T30[i][j]\n",
    "        rechits = np.count_nonzero(rechits >= energy_cut)\n",
    "        n_rechits_T30.append(rechits)\n"
   ]
  },
  {
   "cell_type": "code",
   "execution_count": 25,
   "metadata": {
    "scrolled": false
   },
   "outputs": [
    {
     "name": "stdout",
     "output_type": "stream",
     "text": [
      "10585.0\n",
      "1516.0\n",
      "18.0\n"
     ]
    },
    {
     "name": "stderr",
     "output_type": "stream",
     "text": [
      "Warning in <TH1D::Rebin>: ngroup=3 is not an exact divider of nbins=50.\n",
      "Warning in <TH1D::Rebin>: ngroup=3 is not an exact divider of nbins=50.\n",
      "Warning in <TH1D::Rebin>: ngroup=3 is not an exact divider of nbins=50.\n",
      "Info in <TCanvas::Print>: pdf file rechit_llpdecay_ecut1.0.pdf has been created\n"
     ]
    },
    {
     "data": {
      "image/png": "[encoded data removed]",
      "text/plain": [
       "<IPython.core.display.Image object>"
      ]
     },
     "metadata": {},
     "output_type": "display_data"
    }
   ],
   "source": [
    "# Look at the number of rechits per jets in different LLP decay radius bin\n",
    "c = rt.TCanvas('c1','c1', 800, 600)\n",
    "leg = rt.TLegend(0.5,0.65,0.95,0.92)\n",
    "# leg.SetTextFont(42)\n",
    "leg.SetTextSize(0.03)\n",
    "leg.SetEntrySeparation(0.01)\n",
    "# # Create 2d numpy array matched-jets vs. LLP decay radius\n",
    "h = {}\n",
    "proj = []\n",
    "bin_low, bin_up = 30,50\n",
    "h['rechit_llpdecay'] = create_TH2D(n_rechits_llpdecay, axis_title = ['Number of Rechits','llp decay radius [mm]',''], binning=[50,0,50,50,0,1500])\n",
    "bins = [1,6,20,51]\n",
    "for i in range(len(bins)-1):\n",
    "    key = 'bin'+str(i)\n",
    "    proj.append(h['rechit_llpdecay'].ProjectionX(\"h\"+str(i),bins[i],bins[i+1]-1))\n",
    "    y_low = h['rechit_llpdecay'].GetYaxis().GetBinLowEdge(bins[i])\n",
    "    y_up = h['rechit_llpdecay'].GetYaxis().GetBinLowEdge(bins[i+1]-1)+h['rechit_llpdecay'].GetYaxis().GetBinWidth(1)\n",
    "    leg.AddEntry(proj[i],'LLP decay radius '+str(y_low)+' - '+str(y_up)+' mm')\n",
    "\n",
    "proj[0].GetYaxis().SetTitle(\"Events\")\n",
    "proj[0].GetYaxis().SetRangeUser(0,1)\n",
    "for i in range(len(bins)-1):\n",
    "    proj[i].SetLineColor(i+1)\n",
    "    proj[i].Rebin(3)\n",
    "    print(proj[i].Integral())\n",
    "    proj[i].Scale(1./proj[i].Integral())\n",
    "    proj[i].GetYaxis().SetRangeUser(0,1)\n",
    "\n",
    "    if i == 0:\n",
    "        proj[i].DrawCopy()\n",
    "    if i == 2:\n",
    "        proj[i].SetLineColor(4)\n",
    "#         proj[i].Rebin(3)\n",
    "        proj[i].GetYaxis().SetRangeUser(0,1)\n",
    "\n",
    "    proj[i].DrawCopy('SAME')\n",
    "proj[2].GetYaxis().SetRangeUser(0,1)\n",
    "\n",
    "# h1.Scale(1./h1.Integral())\n",
    "leg.Draw()\n",
    "# # c.SetLogy()\n",
    "# # c.SetLogz()\n",
    "c.Draw()\n",
    "# print(h['matchjet_llpdecay'].GetYaxis().GetBinCenter(bin_low))\n",
    "# y_low = h['matchjet_llpdecay'].GetYaxis().GetBinCenter(bin_low)\n",
    "# y_up = h['matchjet_llpdecay'].GetYaxis().GetBinCenter(bin_up)\n",
    "c.SaveAs('rechit_llpdecay_ecut'+str(energy_cut)+'.pdf')\n"
   ]
  },
  {
   "cell_type": "code",
   "execution_count": 26,
   "metadata": {},
   "outputs": [
    {
     "ename": "NameError",
     "evalue": "name 'max_rechit_E' is not defined",
     "output_type": "error",
     "traceback": [
      "\u001b[0;31m\u001b[0m",
      "\u001b[0;31mNameError\u001b[0mTraceback (most recent call last)",
      "\u001b[0;32m<ipython-input-26-279fa5251c88>\u001b[0m in \u001b[0;36m<module>\u001b[0;34m()\u001b[0m\n\u001b[1;32m      1\u001b[0m \u001b[0mc\u001b[0m \u001b[0;34m=\u001b[0m \u001b[0mrt\u001b[0m\u001b[0;34m.\u001b[0m\u001b[0mTCanvas\u001b[0m\u001b[0;34m(\u001b[0m\u001b[0;34m'c'\u001b[0m\u001b[0;34m,\u001b[0m\u001b[0;34m'c'\u001b[0m\u001b[0;34m,\u001b[0m \u001b[0;36m800\u001b[0m\u001b[0;34m,\u001b[0m \u001b[0;36m600\u001b[0m\u001b[0;34m)\u001b[0m\u001b[0;34m\u001b[0m\u001b[0m\n\u001b[1;32m      2\u001b[0m \u001b[0mh\u001b[0m \u001b[0;34m=\u001b[0m \u001b[0;34m{\u001b[0m\u001b[0;34m}\u001b[0m\u001b[0;34m\u001b[0m\u001b[0m\n\u001b[0;32m----> 3\u001b[0;31m \u001b[0;32mprint\u001b[0m\u001b[0;34m(\u001b[0m\u001b[0mmax_rechit_E\u001b[0m\u001b[0;34m.\u001b[0m\u001b[0mshape\u001b[0m\u001b[0;34m,\u001b[0m\u001b[0mmax_jet_ecal_energy\u001b[0m\u001b[0;34m.\u001b[0m\u001b[0mshape\u001b[0m\u001b[0;34m)\u001b[0m\u001b[0;34m\u001b[0m\u001b[0m\n\u001b[0m\u001b[1;32m      4\u001b[0m \u001b[0mh\u001b[0m\u001b[0;34m[\u001b[0m\u001b[0;34m'max_jet_ecal'\u001b[0m\u001b[0;34m]\u001b[0m \u001b[0;34m=\u001b[0m \u001b[0mcreate_TH1D\u001b[0m\u001b[0;34m(\u001b[0m \u001b[0mmax_jet_ecal_energy\u001b[0m\u001b[0;34m,\u001b[0m \u001b[0maxis_title\u001b[0m\u001b[0;34m=\u001b[0m\u001b[0;34m[\u001b[0m\u001b[0;34m'Max jet ECAL Energy [GeV]'\u001b[0m\u001b[0;34m,\u001b[0m \u001b[0;34m'events'\u001b[0m\u001b[0;34m]\u001b[0m\u001b[0;34m,\u001b[0m \u001b[0mname\u001b[0m\u001b[0;34m=\u001b[0m\u001b[0;34m'max_jet_ecal'\u001b[0m\u001b[0;34m,\u001b[0m \u001b[0mbinning\u001b[0m\u001b[0;34m=\u001b[0m\u001b[0;34m[\u001b[0m\u001b[0;36m200\u001b[0m\u001b[0;34m,\u001b[0m\u001b[0;36m0\u001b[0m\u001b[0;34m,\u001b[0m\u001b[0;36m2000\u001b[0m\u001b[0;34m]\u001b[0m\u001b[0;34m)\u001b[0m\u001b[0;34m\u001b[0m\u001b[0m\n\u001b[1;32m      5\u001b[0m \u001b[0mh\u001b[0m\u001b[0;34m[\u001b[0m\u001b[0;34m'max_jet_ecal'\u001b[0m\u001b[0;34m]\u001b[0m\u001b[0;34m.\u001b[0m\u001b[0mSetLineColor\u001b[0m\u001b[0;34m(\u001b[0m\u001b[0;36m4\u001b[0m\u001b[0;34m)\u001b[0m\u001b[0;34m\u001b[0m\u001b[0m\n",
      "\u001b[0;31mNameError\u001b[0m: name 'max_rechit_E' is not defined"
     ]
    }
   ],
   "source": [
    "c = rt.TCanvas('c','c', 800, 600)\n",
    "h = {}\n",
    "print(max_rechit_E.shape,max_jet_ecal_energy.shape)\n",
    "h['max_jet_ecal'] = create_TH1D( max_jet_ecal_energy, axis_title=['Max jet ECAL Energy [GeV]', 'events'], name='max_jet_ecal', binning=[200,0,2000])\n",
    "h['max_jet_ecal'].SetLineColor(4)\n",
    "c.SetLogy()\n",
    "h['max_jet_ecal'].Draw()\n",
    "c.Draw()\n",
    "c.SaveAs(\"max_jet_ecal_energy.pdf\")"
   ]
  },
  {
   "cell_type": "code",
   "execution_count": 27,
   "metadata": {},
   "outputs": [
    {
     "ename": "NameError",
     "evalue": "name 'max_jet_pt' is not defined",
     "output_type": "error",
     "traceback": [
      "\u001b[0;31m\u001b[0m",
      "\u001b[0;31mNameError\u001b[0mTraceback (most recent call last)",
      "\u001b[0;32m<ipython-input-27-6f12e91ae22b>\u001b[0m in \u001b[0;36m<module>\u001b[0;34m()\u001b[0m\n\u001b[1;32m      1\u001b[0m \u001b[0mc\u001b[0m \u001b[0;34m=\u001b[0m \u001b[0mrt\u001b[0m\u001b[0;34m.\u001b[0m\u001b[0mTCanvas\u001b[0m\u001b[0;34m(\u001b[0m\u001b[0;34m'c'\u001b[0m\u001b[0;34m,\u001b[0m\u001b[0;34m'c'\u001b[0m\u001b[0;34m,\u001b[0m \u001b[0;36m800\u001b[0m\u001b[0;34m,\u001b[0m \u001b[0;36m600\u001b[0m\u001b[0;34m)\u001b[0m\u001b[0;34m\u001b[0m\u001b[0m\n\u001b[1;32m      2\u001b[0m \u001b[0mh\u001b[0m \u001b[0;34m=\u001b[0m \u001b[0;34m{\u001b[0m\u001b[0;34m}\u001b[0m\u001b[0;34m\u001b[0m\u001b[0m\n\u001b[0;32m----> 3\u001b[0;31m \u001b[0mh\u001b[0m\u001b[0;34m[\u001b[0m\u001b[0;34m'max_jet_pt'\u001b[0m\u001b[0;34m]\u001b[0m \u001b[0;34m=\u001b[0m \u001b[0mcreate_TH1D\u001b[0m\u001b[0;34m(\u001b[0m\u001b[0mmax_jet_pt\u001b[0m\u001b[0;34m,\u001b[0m \u001b[0maxis_title\u001b[0m\u001b[0;34m=\u001b[0m\u001b[0;34m[\u001b[0m\u001b[0;34m'Max jet p_{T}'\u001b[0m\u001b[0;34m,\u001b[0m \u001b[0;34m'events'\u001b[0m\u001b[0;34m]\u001b[0m\u001b[0;34m,\u001b[0m \u001b[0mname\u001b[0m\u001b[0;34m=\u001b[0m\u001b[0;34m'max_jet_pt'\u001b[0m\u001b[0;34m,\u001b[0m \u001b[0mbinning\u001b[0m\u001b[0;34m=\u001b[0m\u001b[0;34m[\u001b[0m\u001b[0;36m200\u001b[0m\u001b[0;34m,\u001b[0m\u001b[0;36m0\u001b[0m\u001b[0;34m,\u001b[0m\u001b[0;36m2000\u001b[0m\u001b[0;34m]\u001b[0m\u001b[0;34m)\u001b[0m\u001b[0;34m\u001b[0m\u001b[0m\n\u001b[0m\u001b[1;32m      4\u001b[0m \u001b[0mh\u001b[0m\u001b[0;34m[\u001b[0m\u001b[0;34m'max_jet_pt'\u001b[0m\u001b[0;34m]\u001b[0m\u001b[0;34m.\u001b[0m\u001b[0mSetLineColor\u001b[0m\u001b[0;34m(\u001b[0m\u001b[0;36m4\u001b[0m\u001b[0;34m)\u001b[0m\u001b[0;34m\u001b[0m\u001b[0m\n\u001b[1;32m      5\u001b[0m \u001b[0mc\u001b[0m\u001b[0;34m.\u001b[0m\u001b[0mSetLogy\u001b[0m\u001b[0;34m(\u001b[0m\u001b[0;34m)\u001b[0m\u001b[0;34m\u001b[0m\u001b[0m\n",
      "\u001b[0;31mNameError\u001b[0m: name 'max_jet_pt' is not defined"
     ]
    },
    {
     "name": "stderr",
     "output_type": "stream",
     "text": [
      "Warning in <TCanvas::Constructor>: Deleting canvas with same name: c\n"
     ]
    }
   ],
   "source": [
    "c = rt.TCanvas('c','c', 800, 600)\n",
    "h = {}\n",
    "h['max_jet_pt'] = create_TH1D(max_jet_pt, axis_title=['Max jet p_{T}', 'events'], name='max_jet_pt', binning=[200,0,2000])\n",
    "h['max_jet_pt'].SetLineColor(4)\n",
    "c.SetLogy()\n",
    "h['max_jet_pt'].Draw()\n",
    "c.Draw()\n",
    "c.SaveAs(\"max_jet_pt.pdf\")"
   ]
  },
  {
   "cell_type": "code",
   "execution_count": 28,
   "metadata": {},
   "outputs": [
    {
     "ename": "ZeroDivisionError",
     "evalue": "float division by zero",
     "output_type": "error",
     "traceback": [
      "\u001b[0;31m\u001b[0m",
      "\u001b[0;31mZeroDivisionError\u001b[0mTraceback (most recent call last)",
      "\u001b[0;32m<ipython-input-28-94b8124945f6>\u001b[0m in \u001b[0;36m<module>\u001b[0;34m()\u001b[0m\n\u001b[1;32m      4\u001b[0m \u001b[0mh\u001b[0m\u001b[0;34m[\u001b[0m\u001b[0;34m'n_rechits_qcd'\u001b[0m\u001b[0;34m]\u001b[0m \u001b[0;34m=\u001b[0m \u001b[0mcreate_TH1D\u001b[0m\u001b[0;34m(\u001b[0m\u001b[0mn_rechits_qcd\u001b[0m\u001b[0;34m,\u001b[0m \u001b[0maxis_title\u001b[0m\u001b[0;34m=\u001b[0m\u001b[0;34m[\u001b[0m\u001b[0;34m'Number of Rechits'\u001b[0m\u001b[0;34m,\u001b[0m \u001b[0;34m'events'\u001b[0m\u001b[0;34m]\u001b[0m\u001b[0;34m,\u001b[0m \u001b[0mname\u001b[0m\u001b[0;34m=\u001b[0m\u001b[0;34m'n_rechits'\u001b[0m\u001b[0;34m,\u001b[0m \u001b[0mbinning\u001b[0m\u001b[0;34m=\u001b[0m\u001b[0;34m[\u001b[0m\u001b[0;36m100\u001b[0m\u001b[0;34m,\u001b[0m\u001b[0;36m0\u001b[0m\u001b[0;34m,\u001b[0m\u001b[0;36m100\u001b[0m\u001b[0;34m]\u001b[0m\u001b[0;34m)\u001b[0m\u001b[0;34m\u001b[0m\u001b[0m\n\u001b[1;32m      5\u001b[0m \u001b[0mh\u001b[0m\u001b[0;34m[\u001b[0m\u001b[0;34m'n_rechits_qcd'\u001b[0m\u001b[0;34m]\u001b[0m\u001b[0;34m.\u001b[0m\u001b[0mSetLineColor\u001b[0m\u001b[0;34m(\u001b[0m\u001b[0;36m4\u001b[0m\u001b[0;34m)\u001b[0m\u001b[0;34m\u001b[0m\u001b[0m\n\u001b[0;32m----> 6\u001b[0;31m \u001b[0mh\u001b[0m\u001b[0;34m[\u001b[0m\u001b[0;34m'n_rechits_qcd'\u001b[0m\u001b[0;34m]\u001b[0m\u001b[0;34m.\u001b[0m\u001b[0mScale\u001b[0m\u001b[0;34m(\u001b[0m\u001b[0;36m1.\u001b[0m\u001b[0;34m/\u001b[0m\u001b[0mh\u001b[0m\u001b[0;34m[\u001b[0m\u001b[0;34m'n_rechits_qcd'\u001b[0m\u001b[0;34m]\u001b[0m\u001b[0;34m.\u001b[0m\u001b[0mIntegral\u001b[0m\u001b[0;34m(\u001b[0m\u001b[0;34m)\u001b[0m\u001b[0;34m)\u001b[0m\u001b[0;34m\u001b[0m\u001b[0m\n\u001b[0m\u001b[1;32m      7\u001b[0m \u001b[0;31m# h['n_rechits_qcd'].GetYaxis().SetRangeUser(0,1)\u001b[0m\u001b[0;34m\u001b[0m\u001b[0;34m\u001b[0m\u001b[0m\n\u001b[1;32m      8\u001b[0m \u001b[0mh\u001b[0m\u001b[0;34m[\u001b[0m\u001b[0;34m'n_rechits_qcd'\u001b[0m\u001b[0;34m]\u001b[0m\u001b[0;34m.\u001b[0m\u001b[0mDraw\u001b[0m\u001b[0;34m(\u001b[0m\u001b[0;34m)\u001b[0m\u001b[0;34m\u001b[0m\u001b[0m\n",
      "\u001b[0;31mZeroDivisionError\u001b[0m: float division by zero"
     ]
    },
    {
     "name": "stderr",
     "output_type": "stream",
     "text": [
      "Warning in <TCanvas::Constructor>: Deleting canvas with same name: c\n"
     ]
    }
   ],
   "source": [
    "c = rt.TCanvas('c','c', 800, 600)\n",
    "h = {}\n",
    "\n",
    "h['n_rechits_qcd'] = create_TH1D(n_rechits_qcd, axis_title=['Number of Rechits', 'events'], name='n_rechits', binning=[100,0,100])\n",
    "h['n_rechits_qcd'].SetLineColor(4)\n",
    "h['n_rechits_qcd'].Scale(1./h['n_rechits_qcd'].Integral())\n",
    "# h['n_rechits_qcd'].GetYaxis().SetRangeUser(0,1)\n",
    "h['n_rechits_qcd'].Draw()\n",
    "\n",
    "h['n_rechits_T1000'] = create_TH1D(n_rechits_T1000, axis_title=['Number of Rechits', 'events'], name='n_rechits_T1000', binning=[100,0,100])\n",
    "h['n_rechits_T1000'].SetLineColor(1)\n",
    "h['n_rechits_T1000'].Scale(1./h['n_rechits_T1000'].Integral())\n",
    "h['n_rechits_T1000'].Draw('SAME')\n",
    "\n",
    "h['n_rechits_T30'] = create_TH1D(n_rechits_T30, axis_title=['Number of Rechits', 'events'], name='n_rechits_T30', binning=[100,0,100])\n",
    "h['n_rechits_T30'].SetLineColor(2)\n",
    "h['n_rechits_T30'].Scale(1./h['n_rechits_T30'].Integral())\n",
    "h['n_rechits_T30'].Draw('same')\n",
    "\n",
    "leg = rt.TLegend(0.5,0.70,0.95,0.92)\n",
    "# leg.SetTextFont(42)\n",
    "leg.SetTextSize(0.03)\n",
    "leg.AddEntry(h['n_rechits_qcd'],\"QCD HT 300-500 GeV\")\n",
    "leg.AddEntry(h['n_rechits_T30'],\"Mass = 500 GeV, c#tau = 30 mm\")\n",
    "leg.AddEntry(h['n_rechits_T1000'],\"Mass = 500 GeV, c#tau = 1000 mm\")\n",
    "\n",
    "c.SetLogy()\n",
    "leg.Draw()\n",
    "c.Draw()\n",
    "c.SaveAs(\"n_rechits_all.pdf\")"
   ]
  },
  {
   "cell_type": "code",
   "execution_count": 31,
   "metadata": {},
   "outputs": [
    {
     "name": "stderr",
     "output_type": "stream",
     "text": [
      "Warning in <TCanvas::Constructor>: Deleting canvas with same name: c\n",
      "Info in <TCanvas::Print>: pdf file gLLP_decay_radius.pdf has been created\n"
     ]
    },
    {
     "data": {
      "image/png": "[encoded data removed]",
      "text/plain": [
       "<IPython.core.display.Image object>"
      ]
     },
     "metadata": {},
     "output_type": "display_data"
    }
   ],
   "source": [
    "c = rt.TCanvas('c','c', 800, 600)\n",
    "# print(np.mean(gLLP_decay_radius[:,0],axis=1))\n",
    "h = {}\n",
    "h['gLLP_decay_radius'] = create_TH1D(gLLP_decay_radius_list[0] , axis_title=['llp decay radius [mm]', 'events'], name='gLLP_decay_radius', binning=[50,0,1500])\n",
    "h['gLLP_decay_radius'].SetLineColor(4)\n",
    "\n",
    "c.SetLogy()\n",
    "h['gLLP_decay_radius'].Draw()\n",
    "c.Draw()\n",
    "c.SaveAs(\"gLLP_decay_radius.pdf\")\n",
    "\n",
    "\n",
    "# Create 2d numpy array n_rechits vs. max_rechits# Create 2d numpy array with n_rechits vs. LLP decay radius"
   ]
  },
  {
   "cell_type": "code",
   "execution_count": 97,
   "metadata": {},
   "outputs": [
    {
     "name": "stderr",
     "output_type": "stream",
     "text": [
      "Warning in <TCanvas::Constructor>: Deleting canvas with same name: c1\n"
     ]
    },
    {
     "data": {
      "image/png": "[encoded data removed]",
      "text/plain": [
       "<IPython.core.display.Image object>"
      ]
     },
     "metadata": {},
     "output_type": "display_data"
    }
   ],
   "source": [
    "c = rt.TCanvas('c1','c1', 800, 600)\n",
    "\n",
    "# Create 2d numpy array matched-jets vs. LLP decay radius\n",
    "h = {}\n",
    "\n",
    "h['jet_llpdecay'] = create_TH2D(n_rechits_llpdecay, axis_title = ['matched jets','llp decay radius [mm]',''], binning=[5,0,5,50,0,1500])\n",
    "h['jet_llpdecay'].Draw('colz')\n",
    "c.SetLogy()\n",
    "c.SetLogz()\n",
    "c.Draw()"
   ]
  },
  {
   "cell_type": "code",
   "execution_count": 19,
   "metadata": {},
   "outputs": [
    {
     "name": "stdout",
     "output_type": "stream",
     "text": [
      "8064.0\n",
      "158.0\n",
      "15.0\n"
     ]
    },
    {
     "name": "stderr",
     "output_type": "stream",
     "text": [
      "Error in <THistPainter::PaintInit>: Cannot set Y axis to log scale\n",
      "Error in <THistPainter::PaintInit>: Cannot set Y axis to log scale\n",
      "Error in <THistPainter::PaintInit>: Cannot set Y axis to log scale\n",
      "Error in <THistPainter::PaintInit>: Cannot set Y axis to log scale\n",
      "Error in <THistPainter::PaintInit>: Cannot set Y axis to log scale\n",
      "Error in <THistPainter::PaintInit>: Cannot set Y axis to log scale\n",
      "Error in <THistPainter::PaintInit>: Cannot set Y axis to log scale\n",
      "Error in <THistPainter::PaintInit>: Cannot set Y axis to log scale\n",
      "Info in <TCanvas::Print>: pdf file _rechit_llpdecay_ecut1.0.pdf has been created\n"
     ]
    },
    {
     "data": {
      "image/png": "[encoded data removed]",
      "text/plain": [
       "<IPython.core.display.Image object>"
      ]
     },
     "metadata": {},
     "output_type": "display_data"
    }
   ],
   "source": [
    "# Look at the number of rechits per jets in different LLP decay radius bin\n",
    "c = rt.TCanvas('c1','c1', 800, 600)\n",
    "leg = rt.TLegend(0.5,0.65,0.95,0.92)\n",
    "# leg.SetTextFont(42)\n",
    "leg.SetTextSize(0.03)\n",
    "leg.SetEntrySeparation(0.01)\n",
    "# # Create 2d numpy array matched-jets vs. LLP decay radius\n",
    "h = {}\n",
    "proj = []\n",
    "bin_low, bin_up = 30,50\n",
    "h['rechit_llpdecay'] = create_TH2D(n_rechits_llpdecay, axis_title = ['Number of Rechits','llp decay radius [mm]',''], binning=[60,0,60,50,0,1500])\n",
    "bins = [1,11,21,51]\n",
    "for i in range(len(bins)-1):\n",
    "    key = 'bin'+str(i)\n",
    "    proj.append(h['rechit_llpdecay'].ProjectionX(\"h\"+str(i),bins[i],bins[i+1]-1))\n",
    "    y_low = h['rechit_llpdecay'].GetYaxis().GetBinLowEdge(bins[i])\n",
    "    y_up = h['rechit_llpdecay'].GetYaxis().GetBinLowEdge(bins[i+1]-1)+h['rechit_llpdecay'].GetYaxis().GetBinWidth(1)\n",
    "    leg.AddEntry(proj[i],'LLP decay radius '+str(y_low)+' - '+str(y_up)+' mm')\n",
    "\n",
    "proj[0].GetYaxis().SetTitle(\"Events\")\n",
    "proj[0].GetYaxis().SetRangeUser(0,1)\n",
    "for i in range(len(bins)-1):\n",
    "    proj[i].SetLineColor(i+1)\n",
    "    proj[i].Rebin(3)\n",
    "    print(proj[i].Integral())\n",
    "    proj[i].Scale(1./proj[i].Integral())\n",
    "    proj[i].GetYaxis().SetRangeUser(0,1)\n",
    "\n",
    "    if i == 0:\n",
    "        proj[i].Draw()\n",
    "    if i == 2:\n",
    "        proj[i].SetLineColor(4)\n",
    "#         proj[i].Rebin(3)\n",
    "        proj[i].GetYaxis().SetRangeUser(0,1)\n",
    "\n",
    "    proj[i].Draw('SAME')\n",
    "# proj[2].GetYaxis().SetRangeUser(0,1)\n",
    "\n",
    "# h1.Scale(1./h1.Integral())\n",
    "leg.Draw()\n",
    "c.SetLogy()\n",
    "# # c.SetLogz()\n",
    "c.Draw()\n",
    "# print(h['matchjet_llpdecay'].GetYaxis().GetBinCenter(bin_low))\n",
    "# y_low = h['matchjet_llpdecay'].GetYaxis().GetBinCenter(bin_low)\n",
    "# y_up = h['matchjet_llpdecay'].GetYaxis().GetBinCenter(bin_up)\n",
    "c.SaveAs('_rechit_llpdecay_ecut'+str(energy_cut)+'.pdf')\n"
   ]
  },
  {
   "cell_type": "code",
   "execution_count": null,
   "metadata": {},
   "outputs": [],
   "source": []
  },
  {
   "cell_type": "code",
   "execution_count": 177,
   "metadata": {},
   "outputs": [],
   "source": []
  },
  {
   "cell_type": "code",
   "execution_count": null,
   "metadata": {},
   "outputs": [],
   "source": []
  },
  {
   "cell_type": "code",
   "execution_count": null,
   "metadata": {},
   "outputs": [],
   "source": []
  },
  {
   "cell_type": "code",
   "execution_count": null,
   "metadata": {},
   "outputs": [],
   "source": []
  },
  {
   "cell_type": "code",
   "execution_count": null,
   "metadata": {},
   "outputs": [],
   "source": []
  },
  {
   "cell_type": "code",
   "execution_count": null,
   "metadata": {},
   "outputs": [],
   "source": []
  },
  {
   "cell_type": "code",
   "execution_count": null,
   "metadata": {},
   "outputs": [],
   "source": []
  },
  {
   "cell_type": "code",
   "execution_count": null,
   "metadata": {},
   "outputs": [],
   "source": []
  },
  {
   "cell_type": "code",
   "execution_count": null,
   "metadata": {},
   "outputs": [],
   "source": []
  },
  {
   "cell_type": "code",
   "execution_count": null,
   "metadata": {},
   "outputs": [],
   "source": []
  },
  {
   "cell_type": "code",
   "execution_count": null,
   "metadata": {},
   "outputs": [],
   "source": []
  }
 ],
 "metadata": {
  "kernelspec": {
   "display_name": "Python 2",
   "language": "python",
   "name": "python2"
  },
  "language_info": {
   "codemirror_mode": {
    "name": "ipython",
    "version": 2
   },
   "file_extension": ".py",
   "mimetype": "text/x-python",
   "name": "python",
   "nbconvert_exporter": "python",
   "pygments_lexer": "ipython2",
   "version": "2.7.15rc1"
  }
 },
 "nbformat": 4,
 "nbformat_minor": 2
}
