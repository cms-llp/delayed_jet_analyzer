{
 "cells": [
  {
   "cell_type": "code",
   "execution_count": 1,
   "metadata": {},
   "outputs": [
    {
     "name": "stdout",
     "output_type": "stream",
     "text": [
      "Welcome to JupyROOT 6.13/02\n"
     ]
    }
   ],
   "source": [
    "import ROOT as rt\n",
    "import root_numpy as rtnp\n",
    "import numpy as np\n",
    "from matplotlib import pyplot as plt\n",
    "from histo_utilities import create_TH1D, create_TH2D, std_color_list\n",
    "from array import array\n",
    "\n",
    "import CMS_lumi, tdrstyle\n",
    "tdrstyle.setTDRStyle()\n",
    "CMS_lumi.writeExtraText = 1\n",
    "CMS_lumi.extraText = \"     Simulation Preliminary\"\n",
    "\n",
    "donotdelete = []"
   ]
  },
  {
   "cell_type": "code",
   "execution_count": 2,
   "metadata": {},
   "outputs": [
    {
     "name": "stdout",
     "output_type": "stream",
     "text": [
      "vbfh40 /home/cms/Desktop/LLP/jetNtuple_RunIISummer16/withoutISR/jetNtuple_glueball/jetNtuple_glueball_vbfh_M-50_CTau-1000mm_pt40.root\n",
      "[163.69531  86.49124]\n",
      "vbfh30 /home/cms/Desktop/LLP/jetNtuple_RunIISummer16/withoutISR/jetNtuple_glueball/jetNtuple_glueball_vbfh_M-50_CTau-1000mm_pt30.root\n",
      "[163.69531  86.49124]\n",
      "vbfh20 /home/cms/Desktop/LLP/jetNtuple_RunIISummer16/withoutISR/jetNtuple_glueball/jetNtuple_glueball_vbfh_M-50_CTau-1000mm_pt20.root\n",
      "[163.69531  86.49124]\n",
      "qcd /home/cms/Desktop/LLP/jetNtuple_RunIISummer16/withoutISR/jetNtuple_glueball/jetNtuple_QCD_HT300to500.root\n",
      "[104.180176  69.4402    37.214607  33.06379   32.81417 ]\n"
     ]
    }
   ],
   "source": [
    "fpath = {}\n",
    "tree = {}\n",
    "process = {}\n",
    "process_short = {}\n",
    "\n",
    "# fpath['m500ctau1000'] = '/home/cms/Desktop/LLP/jetNtuple_4jet/jetNtuple_M-500_CTau-1000mm.root'\n",
    "# fpath['m500ctau30'] = '/home/cms/Desktop/LLP/jetNtuple_4jet/jetNtuple_M-500_CTau-30mm.root'\n",
    "# fpath['QCD300to500'] = '/home/cms/Desktop/LLP/jetNtuple_4jet/jetNtuple_QCD_HT300to500.root'\n",
    "# fpath['ggh_isr'] = '/home/cms/Desktop/LLP/jetNtuple_RunIISummer16/withISR/jetNtuple_glueball_ggh_withISR_M-50_CTau-1000mm.root'\n",
    "fpath['vbfh20'] = '/home/cms/Desktop/LLP/jetNtuple_RunIISummer16/withoutISR/jetNtuple_glueball/jetNtuple_glueball_vbfh_M-50_CTau-1000mm_pt20.root'\n",
    "fpath['vbfh30'] = '/home/cms/Desktop/LLP/jetNtuple_RunIISummer16/withoutISR/jetNtuple_glueball/jetNtuple_glueball_vbfh_M-50_CTau-1000mm_pt30.root'\n",
    "fpath['vbfh40'] = '/home/cms/Desktop/LLP/jetNtuple_RunIISummer16/withoutISR/jetNtuple_glueball/jetNtuple_glueball_vbfh_M-50_CTau-1000mm_pt40.root'\n",
    "fpath['qcd'] = '/home/cms/Desktop/LLP/jetNtuple_RunIISummer16/withoutISR/jetNtuple_glueball/jetNtuple_QCD_HT300to500.root'\n",
    "legend = {'vbfh20':  'vbfh, M = 50 GeV, pt cut 20 GeV',\n",
    "        'vbfh30':  'vbfh, M = 50 GeV, pt cut 30 GeV',\n",
    "        'vbfh40':  'vbfh, M = 50 GeV, pt cut 40 GeV',\n",
    "          'qcd': 'QCD HT 300-500 GeV',\n",
    "         }\n",
    "for k,v in fpath.iteritems():\n",
    "    print k, v\n",
    "    tree[k] = rtnp.root2array(v)\n",
    "    #tree[k] = rtnp.tree2array(v)\n",
    "    #jet_max_pt_array = [np.max(x) for x in tree[k][\"jetPt\"]]\n",
    "    a = tree[k][\"jetPt\"]\n",
    "    print a[:-1][0]"
   ]
  },
  {
   "cell_type": "code",
   "execution_count": null,
   "metadata": {},
   "outputs": [],
   "source": [
    "#get max jet pt per event, also jet[0]\n",
    "T=tree['vbfh20']\n",
    "max_jet_pt = np.array([np.max(x) if len(x) else -1 for x in T['jetPt']])\n",
    "max_jet_ecal_energy = np.array([x[0] if len(x) else -1 for x in T['jet_rechit_E']])\n",
    "max_jet_ecal_energy1 = np.array([x[0] if len(x) else -1 for x in T['jet_rechit_E_Ecut1']])\n",
    "max_jet_ecal_energy2 = np.array([x[0] if len(x) else -1 for x in T['jet_rechit_E_Ecut2']])\n",
    "\n",
    "assert(len(max_jet_ecal_energy) == len(max_jet_pt))\n",
    "print(len(max_jet_ecal_energy))\n",
    "print(len(max_jet_pt[max_jet_ecal_energy<50]))\n",
    "# print max_jet_pt"
   ]
  },
  {
   "cell_type": "markdown",
   "metadata": {},
   "source": [
    "# Matched Jets and how they change with LLP decay radius"
   ]
  },
  {
   "cell_type": "code",
   "execution_count": 4,
   "metadata": {},
   "outputs": [
    {
     "name": "stdout",
     "output_type": "stream",
     "text": [
      "Fraction of barrel jets: 0.356572868543\n",
      "Fraction of endcap jets: 0.643427131457\n",
      "('inclusive matching efficiency:', 0.9493521790341578)\n",
      "('inclusive matching efficiency:', 0.9399293286219081)\n",
      "('inclusive matching efficiency:', 0.9646643109540636)\n",
      "('inclusive matching efficiency:', 0.9634864546525324)\n",
      "Fraction of barrel jets: 0.367586611861\n",
      "Fraction of endcap jets: 0.632413388139\n",
      "('inclusive matching efficiency:', 0.8570287539936102)\n",
      "('inclusive matching efficiency:', 0.8410543130990416)\n",
      "('inclusive matching efficiency:', 0.8761980830670927)\n",
      "('inclusive matching efficiency:', 0.8722044728434505)\n",
      "Fraction of barrel jets: 0.381121808288\n",
      "Fraction of endcap jets: 0.618878191712\n",
      "('inclusive matching efficiency:', 0.6919275123558485)\n",
      "('inclusive matching efficiency:', 0.671059857221307)\n",
      "('inclusive matching efficiency:', 0.7237781438769907)\n",
      "('inclusive matching efficiency:', 0.7062053816584294)\n"
     ]
    }
   ],
   "source": [
    "# Create 2d numpy array matched-jets vs. LLP decay radius\n",
    "match_efficiency_llp_dict = {}\n",
    "gLLP_decay_radius_dict = {}\n",
    "gLLP_decay_distance_dict = {}\n",
    "gLLP_decay_z_dict = {}\n",
    "matched_jets_perllp_dict = {}\n",
    "barrel_jets_perllp_dict = {}\n",
    "loosematched_jets_perllp_dict = {}\n",
    "hcalmatched_jets_perllp_dict = {}\n",
    "hcalloosematched_jets_perllp_dict = {}\n",
    "for k, T in tree.items():\n",
    "    if not k == 'qcd': # only match the signals\n",
    "        gLLP_decay_radius = np.sqrt(np.square(T['gLLP_decay_vertex_x']-T['gLLP_prod_vertex_x'])+np.square(T['gLLP_decay_vertex_y']-T['gLLP_prod_vertex_y'])) # (events, 2) 2LLP\n",
    "        gLLP_decay_z = np.absolute(T['gLLP_decay_vertex_z']-T['gLLP_prod_vertex_z'])\n",
    "        gLLP_decay_distance = np.sqrt(np.square(T['gLLP_decay_vertex_x']-T['gLLP_prod_vertex_x'])+np.square(T['gLLP_decay_vertex_y']-T['gLLP_prod_vertex_y'])+np.square(T['gLLP_decay_vertex_z']-T['gLLP_prod_vertex_z']))\n",
    "        gLLP_daughter_pt = T['gLLP_daughter_pt']\n",
    "\n",
    "        # only care about the first LLP that decays to b-jets\n",
    "        gLLP_decay_radius = gLLP_decay_radius[:,0]\n",
    "        gLLP_decay_z = gLLP_decay_z[:,0]\n",
    "        gLLP_decay_distance = gLLP_decay_distance[:,0]\n",
    "\n",
    "\n",
    "        gLLP_daughter_match_jet_index = T['gLLP_daughter_match_jet_index']\n",
    "        gLLP_daughter_match_jet_index_hcal = T['gLLP_daughter_match_jet_index_hcal']\n",
    "        gLLP_daughter_match_jet_index_loose = T['gLLP_daughter_match_jet_index_loose']\n",
    "        gLLP_daughter_match_jet_index_hcalloose = T['gLLP_daughter_match_jet_index_hcal_loose']\n",
    "        gLLP_daughter_travel_time = T['gLLP_daughter_travel_time']\n",
    "        eventNum = T['eventNum']\n",
    "        \n",
    "        # number of matched/barrel jets for each LLP\n",
    "        # matched_jets.shape = (events,4), matched and hit ECAL barrel\n",
    "        matched_jets = np.logical_and(np.logical_not( gLLP_daughter_travel_time == -666), np.logical_not( gLLP_daughter_match_jet_index == 666))\n",
    "        matched_jets_perllp = np.count_nonzero(matched_jets[:,:2],axis=1) # shape = (events,), only care about the b-jets\n",
    "        loosematched_jets = np.logical_and(np.logical_not( gLLP_daughter_travel_time == -666), np.logical_not( gLLP_daughter_match_jet_index_loose == 666))\n",
    "        loosematched_jets_perllp = np.count_nonzero(loosematched_jets[:,:2],axis=1)\n",
    "        hcalmatched_jets = np.logical_and(np.logical_not( gLLP_daughter_travel_time == -666), np.logical_not( gLLP_daughter_match_jet_index_hcal == 666))\n",
    "        hcalmatched_jets_perllp = np.count_nonzero(hcalmatched_jets[:,:2],axis=1)\n",
    "        hcalloosematched_jets = np.logical_and(np.logical_not( gLLP_daughter_travel_time == -666), np.logical_not( gLLP_daughter_match_jet_index_hcalloose == 666))\n",
    "        hcalloosematched_jets_perllp = np.count_nonzero(hcalloosematched_jets[:,:2],axis=1)\n",
    "\n",
    "        # barrel_jets.shape = (events,2)\n",
    "        LLP_daughter_barrel = np.logical_not( gLLP_daughter_travel_time == -666) #shape: (events, 4)\n",
    "        LLP_daughter = np.logical_not(gLLP_daughter_pt == -666)\n",
    "        LLP_daughter_barrel = LLP_daughter_barrel[:,:2] #only care about the b-jets\n",
    "        LLP_daughter = LLP_daughter[:,:2]\n",
    "        barrel_jets_perllp = np.count_nonzero(LLP_daughter_barrel[:,:2],axis=1)\n",
    "\n",
    "        # now both matched_jets_perllp and barrel_jets_perllp are flattened with shape: (LLP#, )\n",
    "        # gLLP_decay_radius and match_efficiency also have shape (LLP#,)\n",
    "\n",
    "        print(\"Fraction of barrel jets: \"+str(1.0*np.count_nonzero(LLP_daughter_barrel)/np.count_nonzero(LLP_daughter)))\n",
    "        print(\"Fraction of endcap jets: \"+str(1-1.0*np.count_nonzero(LLP_daughter_barrel)/np.count_nonzero(LLP_daughter)))\n",
    "      \n",
    "        assert (np.count_nonzero(barrel_jets_perllp==2)+np.count_nonzero(barrel_jets_perllp==1)+np.count_nonzero(barrel_jets_perllp==0)==np.size(barrel_jets_perllp))\n",
    "        assert(np.count_nonzero(LLP_daughter_barrel)+np.count_nonzero(LLP_daughter_barrel==0)==np.size(LLP_daughter_barrel))\n",
    "\n",
    "\n",
    "\n",
    "        #2D histograms, get rid of the zeros in the denominator\n",
    "        hcalloosematched_jets_perllp = hcalloosematched_jets_perllp[barrel_jets_perllp>0]\n",
    "        loosematched_jets_perllp = loosematched_jets_perllp[barrel_jets_perllp>0]\n",
    "        hcalmatched_jets_perllp = hcalmatched_jets_perllp[barrel_jets_perllp > 0]\n",
    "        matched_jets_perllp = matched_jets_perllp[barrel_jets_perllp>0]\n",
    "        gLLP_decay_radius = gLLP_decay_radius[barrel_jets_perllp > 0] #llp decay radius of llp with at least one barrel\n",
    "        gLLP_decay_z = gLLP_decay_z[barrel_jets_perllp > 0] #llp decay radius of llp with at least one barrel\n",
    "        gLLP_decay_distance = gLLP_decay_distance[barrel_jets_perllp > 0] #llp decay radius of llp with at least one barrel\n",
    "        barrel_jets_perllp = barrel_jets_perllp [barrel_jets_perllp > 0]\n",
    "        assert(matched_jets_perllp.shape == gLLP_decay_radius.shape == barrel_jets_perllp.shape)\n",
    "        \n",
    "        barrel_jets_perllp_dict[k] = barrel_jets_perllp\n",
    "        matched_jets_perllp_dict[k] = matched_jets_perllp\n",
    "        hcalmatched_jets_perllp_dict[k] = hcalmatched_jets_perllp\n",
    "        loosematched_jets_perllp_dict[k] = loosematched_jets_perllp\n",
    "        hcalloosematched_jets_perllp_dict[k] = hcalloosematched_jets_perllp\n",
    "        match_efficiency_llp_dict[k] = np.divide(1.0* matched_jets_perllp , barrel_jets_perllp) #match efficiency for each LLP\n",
    "        gLLP_decay_radius_dict[k] = gLLP_decay_radius\n",
    "        gLLP_decay_z_dict[k] = gLLP_decay_z\n",
    "        gLLP_decay_distance_dict[k] = gLLP_decay_distance\n",
    "\n",
    "        print(\"inclusive matching efficiency:\",1.0*np.sum(matched_jets_perllp)/np.sum(barrel_jets_perllp))\n",
    "        print(\"inclusive matching efficiency:\",1.0*np.sum(hcalmatched_jets_perllp)/np.sum(barrel_jets_perllp))\n",
    "        print(\"inclusive matching efficiency:\",1.0*np.sum(loosematched_jets_perllp)/np.sum(barrel_jets_perllp))\n",
    "        print(\"inclusive matching efficiency:\",1.0*np.sum(hcalloosematched_jets_perllp)/np.sum(barrel_jets_perllp))\n"
   ]
  },
  {
   "cell_type": "markdown",
   "metadata": {},
   "source": [
    "# Plot matched jet efficiency vs LLP decay radius"
   ]
  },
  {
   "cell_type": "code",
   "execution_count": 5,
   "metadata": {},
   "outputs": [
    {
     "name": "stderr",
     "output_type": "stream",
     "text": [
      "Info in <TCanvas::Print>: pdf file ../plots/llp_decay_radius.pdf has been created\n"
     ]
    },
    {
     "data": {
      "image/png": "[encoded data removed]",
      "text/plain": [
       "<IPython.core.display.Image object>"
      ]
     },
     "metadata": {},
     "output_type": "display_data"
    }
   ],
   "source": [
    "c = rt.TCanvas('c','c', 800, 600)\n",
    "h = {}\n",
    "h['llp_decayR'] = create_TH1D(gLLP_decay_radius_dict['vbfh20'], axis_title=['LLP decay radius', 'events'], name='llp_decayR', binning=[20,0,200])\n",
    "h['llp_decayR'].SetLineColor(4)\n",
    "c.SetLogy()\n",
    "h['llp_decayR'].Draw()\n",
    "c.Draw()\n",
    "c.SaveAs(\"../plots/llp_decay_radius.pdf\")"
   ]
  },
  {
   "cell_type": "code",
   "execution_count": 33,
   "metadata": {},
   "outputs": [
    {
     "name": "stderr",
     "output_type": "stream",
     "text": [
      "Warning in <TCanvas::Constructor>: Deleting canvas with same name: c1\n",
      "Info in <TEfficiency::TEfficiency>: given histograms are filled with weights\n",
      "Info in <TROOT::TEfficiency::SetUseWeightedEvents>: Handle weighted events for computing efficiency\n",
      "Info in <TEfficiency::TEfficiency>: given histograms are filled with weights\n",
      "Info in <TROOT::TEfficiency::SetUseWeightedEvents>: Handle weighted events for computing efficiency\n",
      "Info in <TEfficiency::TEfficiency>: given histograms are filled with weights\n",
      "Info in <TROOT::TEfficiency::SetUseWeightedEvents>: Handle weighted events for computing efficiency\n",
      "Info in <TEfficiency::TEfficiency>: given histograms are filled with weights\n",
      "Info in <TROOT::TEfficiency::SetUseWeightedEvents>: Handle weighted events for computing efficiency\n",
      "Warning in <TEfficiency::GetEfficiencyErrorLow>: frequentist confidence intervals for weights are only supported by the normal approximation\n",
      "Info in <TEfficiency::GetEfficiencyErrorLow>: setting statistic option to kFNormal\n",
      "Warning in <TEfficiency::GetEfficiencyErrorLow>: frequentist confidence intervals for weights are only supported by the normal approximation\n",
      "Info in <TEfficiency::GetEfficiencyErrorLow>: setting statistic option to kFNormal\n",
      "Warning in <TEfficiency::GetEfficiencyErrorLow>: frequentist confidence intervals for weights are only supported by the normal approximation\n",
      "Info in <TEfficiency::GetEfficiencyErrorLow>: setting statistic option to kFNormal\n",
      "Warning in <TEfficiency::GetEfficiencyErrorLow>: frequentist confidence intervals for weights are only supported by the normal approximation\n",
      "Info in <TEfficiency::GetEfficiencyErrorLow>: setting statistic option to kFNormal\n",
      "Info in <TCanvas::Print>: pdf file ../plots/efficiency_compare_llprvbfh20.pdf has been created\n"
     ]
    },
    {
     "data": {
      "image/png": "[encoded data removed]",
      "text/plain": [
       "<IPython.core.display.Image object>"
      ]
     },
     "metadata": {},
     "output_type": "display_data"
    }
   ],
   "source": [
    "# plot efficiency for a sample, different matching criteria\n",
    "\n",
    "# Delete objects to prevent memory leak\n",
    "if hm is not None:\n",
    "    hm.Delete()\n",
    "    hb.Delete()\n",
    "    hmh.Delete()\n",
    "    hbh.Delete()\n",
    "    hml.Delete()\n",
    "    hbl.Delete()\n",
    "    hmhl.Delete()\n",
    "    hbhl.Delete()\n",
    "\n",
    "index = 'vbfh20'\n",
    "c = rt.TCanvas('c1','c1', 800, 600)\n",
    "leg = rt.TLegend(0.2,0.77,0.45,0.94)\n",
    "# leg.SetTextFont(42)\n",
    "leg.SetTextSize(0.03)\n",
    "leg.SetEntrySeparation(0.01)\n",
    "# # Create 2d numpy array matched-jets vs. LLP decay radius\n",
    "efficiency_plot= []\n",
    "\n",
    "h = {}\n",
    "pEff = []\n",
    "xaxis = gLLP_decay_radius_dict[index]\n",
    "xaxis_title = 'LLP decay radius [cm]'\n",
    "\n",
    "hm = create_TH1D(xaxis, 'hm', axis_title = [xaxis_title,'Matching Efficiency'], binning=[100,0,2000],weights = matched_jets_perllp_dict[index])\n",
    "hb = create_TH1D(xaxis, 'hb', axis_title = [xaxis_title,'Matching Efficiency'], binning=[100,0,2000],weights = barrel_jets_perllp_dict[index])\n",
    "pEff_ecal = rt.TEfficiency(hm,hb)\n",
    "\n",
    "hmh = create_TH1D(xaxis, 'hmh', axis_title = [xaxis_title,'Matching Efficiency'], binning=[100,0,2000],weights = hcalmatched_jets_perllp_dict[index])\n",
    "hbh = create_TH1D(xaxis, 'hbh', axis_title = [xaxis_title,'Matching Efficiency'], binning=[100,0,2000],weights = barrel_jets_perllp_dict[index])\n",
    "pEff_hcal = rt.TEfficiency(hmh,hbh)\n",
    "\n",
    "hml = create_TH1D(xaxis, 'hml', axis_title = [xaxis_title,'Matching Efficiency'], binning=[100,0,2000],weights = loosematched_jets_perllp_dict[index])\n",
    "hbl = create_TH1D(xaxis, 'hbl', axis_title = [xaxis_title,'Matching Efficiency'], binning=[100,0,2000],weights = barrel_jets_perllp_dict[index])\n",
    "pEff_loose = rt.TEfficiency(hml,hbl)\n",
    "\n",
    "hmhl = create_TH1D(xaxis, 'hmhl', axis_title = [xaxis_title,'Matching Efficiency'], binning=[100,0,2000],weights = hcalloosematched_jets_perllp_dict[index])\n",
    "hbhl = create_TH1D(xaxis, 'hbhl', axis_title = [xaxis_title,'Matching Efficiency'], binning=[100,0,2000],weights = barrel_jets_perllp_dict[index])\n",
    "pEff_hcalloose = rt.TEfficiency(hmhl,hbhl)\n",
    "\n",
    "leg.AddEntry(pEff_ecal,\"ECAL,\\\\Delta R<0.3\")\n",
    "leg.AddEntry(pEff_hcal,\"HCAL,\\\\Delta R<0.3\")\n",
    "leg.AddEntry(pEff_loose,\"ECAL,\\\\Delta R<0.45\")\n",
    "leg.AddEntry(pEff_hcalloose,\"HCAL,\\\\Delta R<0.45\")\n",
    "\n",
    "# pEff_ecal.SetMarkerStyle(4)\n",
    "# pEff_loose.SetMarkerStyle(4)\n",
    "# pEff_hcalloose.SetMarkerStyle(26)\n",
    "# pEff_hcal.SetMarkerStyle(26)\n",
    "\n",
    "pEff_hcalloose.SetLineColor(1)\n",
    "pEff_loose.SetLineColor(2)\n",
    "pEff_ecal.SetLineColor(8)\n",
    "pEff_hcal.SetLineColor(4)\n",
    "pEff_ecal.Draw()\n",
    "pEff_hcal.Draw('same')\n",
    "pEff_loose.Draw('same')\n",
    "pEff_hcalloose.Draw('same')\n",
    "\n",
    "leg.Draw()\n",
    "c.Draw()\n",
    "# pEff_ecal.GetPaintedGraph().GetYaxis().SetRangeUser(0.85,1.1)\n",
    "# pEff_ecal.GetPaintedGraph().GetXaxis().SetRangeUser(0,300)\n",
    "\n",
    "c.Update()\n",
    "c.SaveAs(\"../plots/efficiency_compare_llpr\"+index+\".pdf\")\n"
   ]
  },
  {
   "cell_type": "code",
   "execution_count": 42,
   "metadata": {},
   "outputs": [
    {
     "name": "stderr",
     "output_type": "stream",
     "text": [
      "Warning in <TCanvas::Constructor>: Deleting canvas with same name: c1\n",
      "Info in <TEfficiency::TEfficiency>: given histograms are filled with weights\n",
      "Info in <TROOT::TEfficiency::SetUseWeightedEvents>: Handle weighted events for computing efficiency\n",
      "Info in <TEfficiency::TEfficiency>: given histograms are filled with weights\n",
      "Info in <TROOT::TEfficiency::SetUseWeightedEvents>: Handle weighted events for computing efficiency\n",
      "Info in <TEfficiency::TEfficiency>: given histograms are filled with weights\n",
      "Info in <TROOT::TEfficiency::SetUseWeightedEvents>: Handle weighted events for computing efficiency\n",
      "Warning in <TEfficiency::GetEfficiencyErrorLow>: frequentist confidence intervals for weights are only supported by the normal approximation\n",
      "Info in <TEfficiency::GetEfficiencyErrorLow>: setting statistic option to kFNormal\n",
      "Warning in <TEfficiency::GetEfficiencyErrorLow>: frequentist confidence intervals for weights are only supported by the normal approximation\n",
      "Info in <TEfficiency::GetEfficiencyErrorLow>: setting statistic option to kFNormal\n",
      "Warning in <TEfficiency::GetEfficiencyErrorLow>: frequentist confidence intervals for weights are only supported by the normal approximation\n",
      "Info in <TEfficiency::GetEfficiencyErrorLow>: setting statistic option to kFNormal\n",
      "Info in <TCanvas::Print>: pdf file ../plots/efficiency_compare_llpdistance_vbfh_ecalmatchtight.pdf has been created\n"
     ]
    },
    {
     "data": {
      "image/png": "[encoded data removed]",
      "text/plain": [
       "<IPython.core.display.Image object>"
      ]
     },
     "metadata": {},
     "output_type": "display_data"
    }
   ],
   "source": [
    "# plot efficiency for multiple samples\n",
    "\n",
    "\n",
    "c = rt.TCanvas('c1','c1', 800, 600)\n",
    "leg = rt.TLegend(0.2,0.77,0.45,0.94)\n",
    "# leg.SetTextFont(42)\n",
    "leg.SetTextSize(0.03)\n",
    "leg.SetEntrySeparation(0.01)\n",
    "# # Create 2d numpy array matched-jets vs. LLP decay radius\n",
    "\n",
    "pEff = {}\n",
    "xaxis_title = 'LLP decay distance[cm]'\n",
    "for k,v in tree.items():\n",
    "    if not k == 'qcd':\n",
    "        xaxis = gLLP_decay_distance_dict[k]\n",
    "        hm = create_TH1D(xaxis, 'hm'+k, axis_title = [xaxis_title,'Matching Efficiency'], binning=[80,0,2000],weights = matched_jets_perllp_dict[k])\n",
    "        hb = create_TH1D(xaxis, 'hb'+k, axis_title = [xaxis_title,'Matching Efficiency'], binning=[80,0,2000],weights = barrel_jets_perllp_dict[k])\n",
    "        pEff[k] = rt.TEfficiency(hm,hb)\n",
    "        leg.AddEntry(pEff[k], legend[k])\n",
    "i = 0\n",
    "for k,v in pEff.items():\n",
    "    pEff[k].SetLineColor(std_color_list[i])\n",
    "    if i == 0:\n",
    "        pEff[k].Draw()\n",
    "        key = k\n",
    "    pEff[k].Draw('same')\n",
    "    i += 1\n",
    "\n",
    "leg.Draw()\n",
    "c.Draw()\n",
    "pEff[key].GetPaintedGraph().GetYaxis().SetRangeUser(0.4,1.2)\n",
    "\n",
    "c.Update()\n",
    "c.SaveAs(\"../plots/efficiency_compare_llpdistance_vbfh_ecalmatchtight.pdf\")\n"
   ]
  },
  {
   "cell_type": "code",
   "execution_count": null,
   "metadata": {},
   "outputs": [],
   "source": []
  },
  {
   "cell_type": "code",
   "execution_count": null,
   "metadata": {},
   "outputs": [],
   "source": []
  },
  {
   "cell_type": "code",
   "execution_count": null,
   "metadata": {},
   "outputs": [],
   "source": []
  },
  {
   "cell_type": "code",
   "execution_count": null,
   "metadata": {},
   "outputs": [],
   "source": []
  },
  {
   "cell_type": "code",
   "execution_count": null,
   "metadata": {},
   "outputs": [],
   "source": []
  },
  {
   "cell_type": "code",
   "execution_count": null,
   "metadata": {},
   "outputs": [],
   "source": []
  },
  {
   "cell_type": "code",
   "execution_count": null,
   "metadata": {},
   "outputs": [],
   "source": []
  },
  {
   "cell_type": "code",
   "execution_count": null,
   "metadata": {},
   "outputs": [],
   "source": []
  },
  {
   "cell_type": "code",
   "execution_count": null,
   "metadata": {},
   "outputs": [],
   "source": []
  },
  {
   "cell_type": "code",
   "execution_count": null,
   "metadata": {},
   "outputs": [],
   "source": []
  },
  {
   "cell_type": "code",
   "execution_count": null,
   "metadata": {},
   "outputs": [],
   "source": []
  }
 ],
 "metadata": {
  "kernelspec": {
   "display_name": "Python 2",
   "language": "python",
   "name": "python2"
  },
  "language_info": {
   "codemirror_mode": {
    "name": "ipython",
    "version": 2
   },
   "file_extension": ".py",
   "mimetype": "text/x-python",
   "name": "python",
   "nbconvert_exporter": "python",
   "pygments_lexer": "ipython2",
   "version": "2.7.15rc1"
  }
 },
 "nbformat": 4,
 "nbformat_minor": 2
}
