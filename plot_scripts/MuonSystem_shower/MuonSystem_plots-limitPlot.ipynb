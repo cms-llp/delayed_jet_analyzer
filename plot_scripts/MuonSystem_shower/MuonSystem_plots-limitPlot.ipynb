{
 "cells": [
  {
   "cell_type": "code",
   "execution_count": 2,
   "metadata": {},
   "outputs": [
    {
     "name": "stdout",
     "output_type": "stream",
     "text": [
      "3.6.8 (default, Aug  7 2019, 17:28:10) \n",
      "[GCC 4.8.5 20150623 (Red Hat 4.8.5-39)]\n"
     ]
    }
   ],
   "source": [
    "import ROOT as rt\n",
    "# import root_numpy as rtnp\n",
    "import csv\n",
    "import os\n",
    "from collections import OrderedDict\n",
    "import uproot\n",
    "import pandas as pd\n",
    "\n",
    "import scipy\n",
    "import awkward\n",
    "import numpy as np\n",
    "import time\n",
    "import numba\n",
    "from numba import jit\n",
    "from matplotlib import pyplot as plt\n",
    "sys.path.append('/storage/user/christiw/gpu/christiw/llp/delayed_jet_analyzer/lib/')\n",
    "from histo_utilities import create_TH1D, create_TH2D, std_color_list, create_TGraph, make_ratio_plot\n",
    "\n",
    "import CMS_lumi, tdrstyle\n",
    "tdrstyle.setTDRStyle()\n",
    "CMS_lumi.writeExtraText = 0\n",
    "\n",
    "wH = 1\n",
    "Z_MASS = 91.2\n",
    "\n",
    "\n",
    "# donotdelete = []\n",
    "print(sys.version)"
   ]
  },
  {
   "cell_type": "markdown",
   "metadata": {},
   "source": [
    "# Load ntuples"
   ]
  },
  {
   "cell_type": "code",
   "execution_count": 6,
   "metadata": {},
   "outputs": [
    {
     "name": "stdout",
     "output_type": "stream",
     "text": [
      "[ 10  30  40  50  60  80 100 200 300 500]\n"
     ]
    }
   ],
   "source": [
    "limitTrees =OrderedDict()\n",
    "dataCards = OrderedDict()\n",
    "\n",
    "limitTrees10 =OrderedDict()\n",
    "dataCards10 = OrderedDict()\n",
    "\n",
    "version = '/V1p17/v1/v9/'\n",
    "dc_version = 'v1'\n",
    "\n",
    "nrechit = 130\n",
    "\n",
    "dphi = 'dPhiCluster0p75'\n",
    "\n",
    "bdt_name = 'cut_based_v4'\n",
    "\n",
    "limitDir = os.environ['HOME']+'/login-1/christiw/LLP/CMSSW_10_2_13/src/HiggsAnalysis/MuonSystemLimit/combine_gdituri/limitTrees/'+version+'/'+bdt_name+'/'+dc_version+'/'\n",
    "dataCardDir = os.environ['HOME']+'/login-1/christiw/LLP/CMSSW_10_2_13/src/HiggsAnalysis/MuonSystemLimit/combine_gdituri/datacards/'+version+'/'+bdt_name+'/'+dc_version+'/'\n",
    "\n",
    "lumi = 137000\n",
    "\n",
    "ctaus = np.array([10, 30, 40, 50, 60, 80, 100, 200, 300, 500, ])\n",
    "\n",
    "samples = ['ggH_HToSS_SToEE_ms0p1_pl500']\n",
    "\n",
    "for sample in samples:\n",
    "    limitTrees[sample] = {}\n",
    "    dataCards[sample] = {}\n",
    "    for ct in ctaus:\n",
    "        limitTrees[sample][ct] = limitDir + 'higgsCombine.'+sample+'_ctau'+str(ct)+'mm_nRechit'+ str(nrechit)+ dphi+'.AsymptoticLimits.mH120.root'\n",
    "        dataCards[sample][ct] = dataCardDir + sample+'_ctau'+str(ct)+'mm_nRechit'+ str(nrechit)+ dphi+'.txt'\n",
    "\n",
    "        \n",
    "norms = []\n",
    "limits = {}\n",
    "for i,m in enumerate(limitTrees.keys()):\n",
    "    for j, k in enumerate(limitTrees[m].keys()):\n",
    "\n",
    "        T = uproot.open(limitTrees[m][k])['limit']\n",
    "        line = open(dataCards[m][k], \"r\").readline()\n",
    "        signal_norm = float(line.split(\" \")[3])\n",
    "        if signal_norm == 0:limit_temp = np.ones((6,))*100000\n",
    "        else:limit_temp = np.array(T.array('limit'))/signal_norm\n",
    "        \n",
    "        if j == 0: limits[m] = limit_temp\n",
    "        else: limits[m] = np.vstack((limits[m], limit_temp))\n",
    "    limits[m] = np.array(limits[m])\n",
    "print(ctaus)\n",
    "\n",
    "\n"
   ]
  },
  {
   "cell_type": "markdown",
   "metadata": {},
   "source": [
    "# load atlas limit"
   ]
  },
  {
   "cell_type": "code",
   "execution_count": 7,
   "metadata": {},
   "outputs": [
    {
     "name": "stdout",
     "output_type": "stream",
     "text": [
      "(130, 2)\n"
     ]
    }
   ],
   "source": [
    "file_dir = os.environ['HOME']+'/login-1/christiw/LLP/CMSSW_10_2_13/src/HiggsAnalysis/MuonSystemLimit/data/limits_others/'\n",
    "ms1_40 = file_dir + 'atlas_mh125_mx40_ms1.csv'\n",
    "ms2_40 = file_dir + 'atlas_mh125_mx40_ms2.csv'\n",
    "id55 = file_dir + 'atlas_mh125_mx55_id.csv'\n",
    "comb40 = file_dir + 'atlas_mh125_mx40_id_cr_ms2.csv'\n",
    "jingyu = file_dir + 'jingyu_mh125_mx55_95p9ifb.csv'\n",
    "ms_40 = file_dir + 'atlas_mh125_mx40_ms.csv'\n",
    "ms_15 = file_dir + 'atlas_mh125_mx15_ms.csv'\n",
    "\n",
    "ms_40 = np.genfromtxt(ms_40, delimiter=',')\n",
    "ms_15 = np.genfromtxt(ms_15, delimiter=',')\n",
    "ms1_40 = np.genfromtxt(ms1_40, delimiter=',')\n",
    "ms2_40 = np.genfromtxt(ms2_40, delimiter=',')\n",
    "id55 = np.genfromtxt(id55, delimiter=',')\n",
    "comb40 = np.genfromtxt(comb40, delimiter=',')\n",
    "jingyu = np.genfromtxt(jingyu, delimiter=',')\n",
    "print(comb40.shape)"
   ]
  },
  {
   "cell_type": "markdown",
   "metadata": {},
   "source": [
    "# Plot"
   ]
  },
  {
   "cell_type": "code",
   "execution_count": 12,
   "metadata": {},
   "outputs": [
    {
     "name": "stdout",
     "output_type": "stream",
     "text": [
      "137 fb^{-1} (13 TeV)\n"
     ]
    },
    {
     "name": "stderr",
     "output_type": "stream",
     "text": [
      "Warning in <TCanvas::Constructor>: Deleting canvas with same name: c\n"
     ]
    },
    {
     "data": {
      "image/png": "[encoded data removed]",
      "text/plain": [
       "<IPython.core.display.Image object>"
      ]
     },
     "metadata": {},
     "output_type": "display_data"
    }
   ],
   "source": [
    "import os\n",
    "leg = rt.TLegend(0.5,0.75,0.9,0.9)\n",
    "    \n",
    "leg.SetTextSize(0.025)\n",
    "leg.SetBorderSize(0)\n",
    "leg.SetEntrySeparation(0.01)\n",
    "\n",
    "\n",
    "\n",
    "c = rt.TCanvas('c','c', 800, 800)\n",
    "# Plotting ncsc\n",
    "start_t = time.time()\n",
    "\n",
    "rt.gStyle.SetOptFit(1011)\n",
    "# for i,k in enumerate(tree_bkg.keys()):\n",
    "br = 1\n",
    "ctaus_m = ctaus/1000\n",
    "h_others = {}\n",
    "h = {}\n",
    "h_others['ms_15'] = create_TGraph(ms_15[:,0],ms_15[:,1],  axis_title=['c#tau [m]', '95% CL Limit on BR'])\n",
    "h_others['ms_40'] = create_TGraph(ms_40[:,0],ms_40[:,1],  axis_title=['c#tau [m]', '95% CL Limit on BR'])\n",
    "\n",
    "\n",
    "leg.AddEntry(h_others['ms_40'], \"ATLAS MS, m_{x} = 40 GeV, 36fb^{-1}\", 'L')\n",
    "leg.AddEntry(h_others['ms_15'], \"ATLAS MS, m_{x} = 15 GeV, 36fb^{-1}\", 'L')\n",
    "for i, m in enumerate(limits.keys()):\n",
    "    cond = limits[m][:,2] < 1\n",
    "    h[m] = create_TGraph(ctaus_m[cond], limits[m][:,2][cond],  axis_title=['c#tau [m]', '95% CL Limit on BR'])\n",
    "    h[m].SetLineColor(std_color_list[i])\n",
    "    h[m].SetLineWidth(3)\n",
    "    h[m].GetXaxis().SetLimits(0.001,1000.0)\n",
    "    h[m].GetYaxis().SetRangeUser(1e-4,100)\n",
    "    h[m].GetXaxis().SetTitleOffset(1)\n",
    "    leg.AddEntry(h[m], m, \"L\")\n",
    "    h[m].Draw('LA' if i == 0 else 'Lsame')\n",
    "\n",
    "for i, k in enumerate(h_others.keys()): \n",
    "    h_others[k].SetLineWidth(2)\n",
    "    h_others[k].SetLineColor(std_color_list[i])\n",
    "    h_others[k].SetLineStyle(2)\n",
    "    h_others[k].Draw('Lsame')\n",
    "\n",
    "\n",
    "tdrstyle.setTDRStyle()\n",
    "CMS_lumi.cmsText     = \"CMS\"\n",
    "iPos = 0\n",
    "CMS_lumi.writeExtraText = True\n",
    "CMS_lumi.extraText   = \"Preliminary\"\n",
    "\n",
    "if( iPos==0 ): CMS_lumi.relPosX = 0.12\n",
    "CMS_lumi.CMS_lumi(c, 4, 0)\n",
    "\n",
    "leg.Draw()\n",
    "c.SetLogy()\n",
    "c.SetLogx()\n",
    "\n",
    "c.Draw()\n"
   ]
  },
  {
   "cell_type": "code",
   "execution_count": null,
   "metadata": {},
   "outputs": [],
   "source": []
  },
  {
   "cell_type": "markdown",
   "metadata": {},
   "source": [
    "# limit for different mass points"
   ]
  },
  {
   "cell_type": "code",
   "execution_count": 15,
   "metadata": {},
   "outputs": [
    {
     "name": "stdout",
     "output_type": "stream",
     "text": [
      "[0.01 0.03 0.04 0.05 0.06 0.08 0.1  0.2  0.3  0.5 ]\n",
      "137 fb^{-1} (13 TeV)\n"
     ]
    },
    {
     "name": "stderr",
     "output_type": "stream",
     "text": [
      "Warning in <TCanvas::Constructor>: Deleting canvas with same name: c\n"
     ]
    },
    {
     "data": {
      "image/png": "[encoded data removed]",
      "text/plain": [
       "<IPython.core.display.Image object>"
      ]
     },
     "metadata": {},
     "output_type": "display_data"
    }
   ],
   "source": [
    "import importlib\n",
    "importlib.reload(sys.modules['histo_utilities'])\n",
    "from histo_utilities import create_TH1D, create_TH2D, std_color_list, create_TGraph, make_ratio_plot\n",
    "\n",
    "\n",
    "\n",
    "# Plotting ncsc\n",
    "start_t = time.time()\n",
    "\n",
    "rt.gStyle.SetOptFit(1011)\n",
    "# for i,k in enumerate(tree_bkg.keys()):\n",
    "br = 1\n",
    "ctaus_m = ctaus/1000\n",
    "print(ctaus_m)\n",
    "# print(limits[:,2])\n",
    "h_others = {}\n",
    "h = {}\n",
    "h_exp1sig = {}\n",
    "h_exp2sig = {}\n",
    "\n",
    "for m in limits.keys():\n",
    "\n",
    "\n",
    "    c = rt.TCanvas('c','c', 800, 800)\n",
    "    leg = rt.TLegend(0.5,0.73,0.80,0.92)\n",
    "    leg.SetTextSize(0.03)\n",
    "    leg.SetBorderSize(0)\n",
    "    leg.SetEntrySeparation(0.01)\n",
    "    cond = limits[m][:,2] < 1\n",
    "    h[m] = create_TGraph(ctaus_m[cond], limits[m][:,2][cond],  axis_title=['c#tau [m]', '95% CL Limit on BR'])\n",
    "   \n",
    "\n",
    "    h_exp1sig[m] = create_TGraph(np.hstack((ctaus_m[cond], np.flip(ctaus_m[cond]))), np.hstack((limits[m][:,1][cond], np.flip(limits[m][:,3][cond]))))\n",
    "    h_exp2sig[m] = create_TGraph(np.hstack((ctaus_m[cond], np.flip(ctaus_m[cond]))), np.hstack((limits[m][:,0][cond], np.flip(limits[m][:,4][cond]))))\n",
    "#\n",
    "    leg.AddEntry(h[m], \"Expected  95% CL upper limit\", \"L\")\n",
    "    leg.AddEntry(h_exp1sig[m], \"#pm 1 #sigma Expected\", 'F')\n",
    "    leg.AddEntry(h_exp2sig[m], \"#pm 2 #sigma Expected\", 'F')\n",
    "    h[m].SetLineColor(std_color_list[0])\n",
    "    h[m].SetLineWidth(2)\n",
    "    h_exp1sig[m].SetFillColor(417)\n",
    "    h_exp2sig[m].SetFillColor(800)\n",
    "    h[m].GetXaxis().SetLimits(0.0001,10.0)\n",
    "    h[m].GetYaxis().SetRangeUser(1e-5,100)\n",
    "    h[m].GetXaxis().SetTitleOffset(1)\n",
    "\n",
    "    h[m].Draw('LA')\n",
    "    h_exp2sig[m].Draw( 'Fsame')\n",
    "    h_exp1sig[m].Draw('Fsame')\n",
    "    h[m].Draw('Lsame')\n",
    "\n",
    "    tdrstyle.setTDRStyle()\n",
    "    CMS_lumi.cmsText     = \"CMS\"\n",
    "    iPos = 0\n",
    "    CMS_lumi.writeExtraText = True\n",
    "    CMS_lumi.extraText   = \"Preliminary\"\n",
    "\n",
    "    iPos = 0\n",
    "    if( iPos==0 ): CMS_lumi.relPosX = 0.12\n",
    "    CMS_lumi.CMS_lumi(c, 4, 0)\n",
    "    leg.Draw()\n",
    "    c.SetRightMargin(0.03)\n",
    "    c.SetLogy()\n",
    "    c.SetLogx()\n",
    "\n",
    "    c.Draw()\n",
    "# print(time.time()-start_t)"
   ]
  },
  {
   "cell_type": "code",
   "execution_count": null,
   "metadata": {},
   "outputs": [],
   "source": []
  }
 ],
 "metadata": {
  "kernelspec": {
   "display_name": "Python 3",
   "language": "python",
   "name": "python3"
  },
  "language_info": {
   "codemirror_mode": {
    "name": "ipython",
    "version": 3
   },
   "file_extension": ".py",
   "mimetype": "text/x-python",
   "name": "python",
   "nbconvert_exporter": "python",
   "pygments_lexer": "ipython3",
   "version": "3.6.8"
  }
 },
 "nbformat": 4,
 "nbformat_minor": 4
}
