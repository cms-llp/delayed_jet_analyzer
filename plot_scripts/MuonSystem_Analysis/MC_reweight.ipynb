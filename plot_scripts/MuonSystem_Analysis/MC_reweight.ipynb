{
 "cells": [
  {
   "cell_type": "code",
   "execution_count": 1,
   "metadata": {},
   "outputs": [
    {
     "name": "stdout",
     "output_type": "stream",
     "text": [
      "Welcome to JupyROOT 6.18/02\n",
      "3.6.8 (default, Aug  7 2019, 17:28:10) \n",
      "[GCC 4.8.5 20150623 (Red Hat 4.8.5-39)]\n"
     ]
    }
   ],
   "source": [
    "import ROOT as rt\n",
    "# import root_numpy as rtnp\n",
    "import csv\n",
    "import re\n",
    "import sys\n",
    "import collections\n",
    "\n",
    "from collections import OrderedDict\n",
    "import uproot\n",
    "import awkward\n",
    "import numpy as np\n",
    "import time\n",
    "import numba\n",
    "from numba import jit\n",
    "from matplotlib import pyplot as plt\n",
    "sys.path.append('/nfshome/christiw/llp/delayed_jet_analyzer/lib/')\n",
    "from histo_utilities import create_TH1D, create_TH2D, std_color_list, create_TGraph, make_ratio_plot\n",
    "\n",
    "import CMS_lumi, tdrstyle\n",
    "tdrstyle.setTDRStyle()\n",
    "CMS_lumi.writeExtraText = 0\n",
    "\n",
    "wH = 1\n",
    "Z_MASS = 91.2\n",
    "\n",
    "\n",
    "# donotdelete = []\n",
    "print(sys.version)"
   ]
  },
  {
   "cell_type": "code",
   "execution_count": 91,
   "metadata": {},
   "outputs": [
    {
     "name": "stdout",
     "output_type": "stream",
     "text": [
      "bbbb10 /mnt/hadoop/store/group/phys_exotica/delayedjets/llpntuple/V1p7/MC_Summer16/v1/sixie/WminusH_HToSSTobbbb_WToLNu_MH-125_MS-40_ctauS-10000_TuneCUETP8M1_13TeV-powheg-pythia8/Run2_LLPNtupler_V1p7_MC_Summer16_RunIISummer16DR80Premix-PUMoriond17_80X_mcRun2_asymptotic_2016_TrancheIV_v6-v1_v1_v1/190819_001050/0000/llp_ntupler_1.root\n",
      "bbbb1 /mnt/hadoop/store/group/phys_exotica/delayedjets/llpntuple/V1p7/MC_Summer16/v1/sixie/WminusH_HToSSTobbbb_WToLNu_MH-125_MS-40_ctauS-1000_TuneCUETP8M1_13TeV-powheg-pythia8/Run2_LLPNtupler_V1p7_MC_Summer16_RunIISummer16DR80Premix-PUMoriond17_80X_mcRun2_asymptotic_2016_TrancheIV_v6-v1_v1_v1/190819_001101/0000/llp_ntupler_1.root\n"
     ]
    }
   ],
   "source": [
    "fpath_bkg =OrderedDict()\n",
    "tree_bkg = OrderedDict()\n",
    "tree_sig = OrderedDict()\n",
    "fpath_sig =OrderedDict()\n",
    "path = '/mnt/hadoop/store/group/phys_exotica/delayedjets/displacedJetMuonAnalyzer/V1p7/MC_Summer16/v11/v5/'\n",
    "bkg_path = path+\"/bkg/wH/normalized/\"\n",
    "# fpath_bkg['QCD'] = bkg_path+\"QCD_HT50toInf_TuneCUETP8M1_13TeV-madgraphMLM-pythia8_1pb_weighted.root\"\n",
    "# fpath_bkg['DYJetsToLL'] = bkg_path+\"DYJetsToLL_M-50_TuneCUETP8M1_13TeV-amcatnloFXFX-pythia8_1pb_weighted.root\"\n",
    "# fpath_bkg['TTJets_DiLept'] = bkg_path+\"TTJets_DiLept_TuneCUETP8M1_13TeV-madgraphMLM-pythia8_1pb_weighted.root\"\n",
    "# fpath_bkg['TTJets_SingleLeptFromTbar'] = bkg_path+\"TTJets_SingleLeptFromTbar_TuneCUETP8M1_13TeV-madgraphMLM-pythia8_1pb_weighted.root\"\n",
    "# fpath_bkg['TTJets_SingleLeptFromT'] = bkg_path+\"TTJets_SingleLeptFromT_TuneCUETP8M1_13TeV-madgraphMLM-pythia8_1pb_weighted.root\"\n",
    "# fpath_bkg['ZJetsToNuNu'] = bkg_path+\"ZJetsToNuNu_Zpt-100toInf_TuneCUETP8M1_13TeV-madgraphMLM-pythia8_1pb_weighted.root\"\n",
    "fpath_bkg['bbbb10'] = '/mnt/hadoop/store/group/phys_exotica/delayedjets/llpntuple/V1p7/MC_Summer16/v1/sixie/WminusH_HToSSTobbbb_WToLNu_MH-125_MS-40_ctauS-10000_TuneCUETP8M1_13TeV-powheg-pythia8/Run2_LLPNtupler_V1p7_MC_Summer16_RunIISummer16DR80Premix-PUMoriond17_80X_mcRun2_asymptotic_2016_TrancheIV_v6-v1_v1_v1/190819_001050/0000/llp_ntupler_1.root'\n",
    "fpath_bkg['bbbb1'] = '/mnt/hadoop/store/group/phys_exotica/delayedjets/llpntuple/V1p7/MC_Summer16/v1/sixie/WminusH_HToSSTobbbb_WToLNu_MH-125_MS-40_ctauS-1000_TuneCUETP8M1_13TeV-powheg-pythia8/Run2_LLPNtupler_V1p7_MC_Summer16_RunIISummer16DR80Premix-PUMoriond17_80X_mcRun2_asymptotic_2016_TrancheIV_v6-v1_v1_v1/190819_001101/0000/llp_ntupler_1.root'\n",
    "NEvents = {}\n",
    "\n",
    "\n",
    "for k,v in fpath_bkg.items():\n",
    "    print (k, v)\n",
    "#     tree[k] = rtnp.root2array(v)\n",
    "    root_dir = uproot.open(v) \n",
    "#     if k[:7] == 'ntuples':\n",
    "    tree_bkg[k] = root_dir['ntuples']['llp']\n",
    "    NEvents[k] = root_dir['ntuples']['NEvents'][1]\n",
    "#     else:\n",
    "#     tree_bkg[k] = root_dir['MuonSystem']\n",
    "#     NEvents[k] = root_dir['NEvents'][1]\n",
    "#     tree[k] = root_dir['ntuples']\n",
    "#     a = tree_bkg[k][\"weight\"].array()\n",
    "#     print ('weights',np.unique(a)*lumi)\n",
    "#     print(len(a))\n",
    "#     print(len(a)/ NEvents[k])\n",
    "#     print(a.shape)\n"
   ]
  },
  {
   "cell_type": "code",
   "execution_count": 93,
   "metadata": {},
   "outputs": [],
   "source": [
    "gLLP_decay_vertex = {}\n",
    "gLLP_beta = {}\n",
    "ctau = {}\n",
    "genVertex = {}\n",
    "gamma = {}\n",
    "weight = {}\n",
    "original_ctau = 1000 #in cm\n",
    "new_ctau = 100 #in cm\n",
    "for k,T in tree_bkg.items():\n",
    "    genVertex[k] = np.sqrt(T.array('genVertexX')**2+T.array('genVertexY')**2+T.array('genVertexZ')**2)\n",
    "    genVertex[k] = np.column_stack((genVertex[k],genVertex[k]))\n",
    "    gLLP_decay_vertex[k] = np.sqrt(T.array('gLLP_decay_vertex_x')**2+T.array('gLLP_decay_vertex_y')**2+T.array('gLLP_decay_vertex_z')**2)\n",
    "\n",
    "    gLLP_beta[k] = T.array('gLLP_beta')\n",
    "    gamma[k] = 1.0/np.sqrt(1-gLLP_beta[k]**2)\n",
    "    ctau[k] = (gLLP_decay_vertex[k]-genVertex[k])/(gLLP_beta[k]*gamma[k])\n",
    "    ctau[k] = ctau[k].flatten()\n",
    "    weight[k] = np.exp(ctau[k]*(1.0/original_ctau - 1.0/new_ctau))"
   ]
  },
  {
   "cell_type": "markdown",
   "metadata": {},
   "source": [
    "# plot ctau"
   ]
  },
  {
   "cell_type": "code",
   "execution_count": 90,
   "metadata": {},
   "outputs": [
    {
     "name": "stdout",
     "output_type": "stream",
     "text": [
      "\n",
      "****************************************\n",
      "Minimizer is Minuit / Migrad\n",
      "MinFCN                    =      1.75555\n",
      "Chi2                      =      3.52284\n",
      "NDf                       =            3\n",
      "Edm                       =  2.62806e-09\n",
      "NCalls                    =           37\n",
      "Constant                  =      9.22911   +/-   0.0102258   \n",
      "Slope                     =  -0.00103214   +/-   2.0401e-05  \n",
      "\n",
      "0.3178118868495984\n",
      "original ctau is: 9.688573762285957 m\n",
      "\n",
      "****************************************\n",
      "Minimizer is Minuit / Migrad\n",
      "MinFCN                    =     0.144248\n",
      "Chi2                      =     0.580967\n",
      "NDf                       =            1\n",
      "Edm                       =  5.81469e-07\n",
      "NCalls                    =           32\n",
      "Constant                  =      9.94451   +/-   0.0116169   \n",
      "Slope                     =  -0.00202078   +/-   2.35823e-05 \n",
      "\n",
      "0.44593362666696434\n",
      "new ctau is: 0.9854425400168965 m\n"
     ]
    },
    {
     "name": "stderr",
     "output_type": "stream",
     "text": [
      "Warning in <TCanvas::Constructor>: Deleting canvas with same name: c\n"
     ]
    },
    {
     "data": {
      "image/png": "[encoded data removed]",
      "text/plain": [
       "<IPython.core.display.Image object>"
      ]
     },
     "metadata": {},
     "output_type": "display_data"
    }
   ],
   "source": [
    "\n",
    "c = rt.TCanvas('c','c', 800, 800)\n",
    "# h.SetStats(0)\n",
    "leg = rt.TLegend(0.60,0.80,0.90,0.90)\n",
    "leg.SetTextSize(0.022)\n",
    "leg.SetBorderSize(0)\n",
    "\n",
    "leg.SetEntrySeparation(0.01)\n",
    "h = {}\n",
    "rt.gStyle.SetOptFit(1011)\n",
    "\n",
    "k = 'bbbb'\n",
    "bins = [50,0,10000]\n",
    "h[k] = create_TH1D( ctau[k], axis_title=['c#tau [cm]', 'Events'], name=k, binning=bins)\n",
    "h[k+'weight'] = create_TH1D( ctau[k], axis_title=['c#tau [cm]', 'Events'], name=k+'weight', binning=bins,weights = weight[k])\n",
    "h[k].SetLineColor(std_color_list[0])\n",
    "h[k+'weight'].SetLineColor(std_color_list[1])\n",
    "\n",
    "leg.AddEntry(h[k], k)\n",
    "leg.AddEntry(h[k+'weight'],k+' weighted')\n",
    "#     h[k].SetMinimum(1)\n",
    "h[k].GetXaxis().SetLabelSize(0.04)\n",
    "r = h[k].Fit('expo', 'LRSQ+0', '', 0,1000)\n",
    "print(r.Get())\n",
    "print(r.Prob())\n",
    "h[k].GetFunction(\"expo\").SetLineColor(std_color_list[0])\n",
    "h[k].GetFunction(\"expo\").SetLineStyle(2)\n",
    "h[k].GetFunction(\"expo\").SetLineWidth(2)\n",
    "print('original ctau is: '+str(-1.0/r.Parameter(1)/100)+' m')\n",
    "h[k].DrawNormalized()\n",
    "h[k].GetFunction(\"expo\").Delete()\n",
    "\n",
    "r = h[k+'weight'].Fit('expo', 'LRSQ+0', 'a', 0,1000)\n",
    "print(r1.Get())\n",
    "print(r1.Prob())\n",
    "# h[k+'weight'].GetFunction(\"expo\").SetLineColor(std_color_list[1])\n",
    "# h[k+'weight'].GetFunction(\"expo\").SetLineStyle(2)\n",
    "# h[k+'weight'].GetFunction(\"expo\").SetLineWidth(2)\n",
    "print('new ctau is: '+str(-1.0/r.Parameter(1)/100)+' m')\n",
    "h[k+'weight'].DrawNormalized('same hist')\n",
    "\n",
    "\n",
    "leg.Draw('same')\n",
    "c.SetLogy()\n",
    "\n",
    "\n",
    "c.Draw()\n",
    "\n",
    "    \n",
    "    \n",
    "\n",
    "\n",
    "# c.Draw()\n",
    "# print(time.time()-start_t)"
   ]
  },
  {
   "cell_type": "markdown",
   "metadata": {},
   "source": [
    "# compare other variables"
   ]
  },
  {
   "cell_type": "code",
   "execution_count": 100,
   "metadata": {},
   "outputs": [
    {
     "name": "stderr",
     "output_type": "stream",
     "text": [
      "Warning in <TCanvas::Constructor>: Deleting canvas with same name: c\n",
      "Warning in <TROOT::Append>: Replacing existing TH1: bbbb (Potential memory leak).\n"
     ]
    },
    {
     "data": {
      "image/png": "[encoded data removed]",
      "text/plain": [
       "<IPython.core.display.Image object>"
      ]
     },
     "metadata": {},
     "output_type": "display_data"
    }
   ],
   "source": [
    "\n",
    "c = rt.TCanvas('c','c', 800, 800)\n",
    "# h.SetStats(0)\n",
    "leg = rt.TLegend(0.60,0.80,0.90,0.90)\n",
    "leg.SetTextSize(0.022)\n",
    "leg.SetBorderSize(0)\n",
    "\n",
    "leg.SetEntrySeparation(0.01)\n",
    "h = {}\n",
    "rt.gStyle.SetOptFit(1011)\n",
    "\n",
    "bins = [50,0,1]\n",
    "h['bbbb1m'] = create_TH1D( gLLP_beta['bbbb1'].flatten(), axis_title=['gLLP_beta', 'Events'], name=k, binning=bins)\n",
    "h['bbbb10m weighted'] = create_TH1D( gLLP_beta['bbbb10'].flatten(), axis_title=['gLLP_beta', 'Events'], name=k+'weight', binning=bins,weights = weight['bbbb10'])\n",
    "h['bbbb1m'].SetLineColor(std_color_list[0])\n",
    "h['bbbb10m weighted'].SetLineColor(std_color_list[1])\n",
    "\n",
    "leg.AddEntry(h['bbbb1m'], 'bbbb1m')\n",
    "leg.AddEntry(h['bbbb10m weighted'],'bbbb10m weighted')\n",
    "#     h[k].SetMinimum(1)\n",
    "h['bbbb1m'].GetXaxis().SetLabelSize(0.04)\n",
    "\n",
    "h['bbbb1m'].DrawNormalized()\n",
    "h['bbbb10m weighted'].DrawNormalized('same hist')\n",
    "\n",
    "\n",
    "leg.Draw('same')\n",
    "c.SetLogy()\n",
    "\n",
    "\n",
    "c.Draw()\n",
    "\n",
    "    \n",
    "    \n",
    "\n",
    "\n",
    "# c.Draw()\n",
    "# print(time.time()-start_t)"
   ]
  },
  {
   "cell_type": "code",
   "execution_count": null,
   "metadata": {},
   "outputs": [],
   "source": []
  }
 ],
 "metadata": {
  "kernelspec": {
   "display_name": "Python 3",
   "language": "python",
   "name": "python3"
  },
  "language_info": {
   "codemirror_mode": {
    "name": "ipython",
    "version": 3
   },
   "file_extension": ".py",
   "mimetype": "text/x-python",
   "name": "python",
   "nbconvert_exporter": "python",
   "pygments_lexer": "ipython3",
   "version": "3.6.8"
  }
 },
 "nbformat": 4,
 "nbformat_minor": 2
}
